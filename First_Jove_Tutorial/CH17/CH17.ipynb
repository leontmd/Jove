{
 "cells": [
  {
   "cell_type": "code",
   "execution_count": 1,
   "metadata": {
    "run_control": {
     "frozen": false,
     "read_only": false
    }
   },
   "outputs": [
    {
     "name": "stdout",
     "output_type": "stream",
     "text": [
      "You may use any of these help commands:\n",
      "help(ResetStNum)\n",
      "help(NxtStateStr)\n",
      "\n",
      "You may use any of these help commands:\n",
      "help(mkp_dfa)\n",
      "help(mk_dfa)\n",
      "help(totalize_dfa)\n",
      "help(addtosigma_delta)\n",
      "help(step_dfa)\n",
      "help(run_dfa)\n",
      "help(accepts_dfa)\n",
      "help(comp_dfa)\n",
      "help(union_dfa)\n",
      "help(intersect_dfa)\n",
      "help(pruneUnreach)\n",
      "help(iso_dfa)\n",
      "help(langeq_dfa)\n",
      "help(same_status)\n",
      "help(h_langeq_dfa)\n",
      "help(fixptDist)\n",
      "help(min_dfa)\n",
      "help(pairFR)\n",
      "help(state_combos)\n",
      "help(sepFinNonFin)\n",
      "help(bash_eql_classes)\n",
      "help(listminus)\n",
      "help(bash_1)\n",
      "help(mk_rep_eqc)\n",
      "help(F_of)\n",
      "help(rep_of_s)\n",
      "help(q0_of)\n",
      "help(Delta_of)\n",
      "help(mk_state_eqc_name)\n",
      "\n",
      "You may use any of these help commands:\n",
      "help(mk_nfa)\n",
      "help(totalize_nfa)\n",
      "help(step_nfa)\n",
      "help(run_nfa)\n",
      "help(ec_step_nfa)\n",
      "help(Eclosure)\n",
      "help(Echelp)\n",
      "help(accepts_nfa)\n",
      "help(nfa2dfa)\n",
      "help(n2d)\n",
      "help(inSets)\n",
      "help(rev_dfa)\n",
      "help(min_dfa_brz)\n",
      "\n",
      "You may use any of these help commands:\n",
      "help(re2nfa)\n",
      "\n",
      "You may use any of these help commands:\n",
      "help(RE2Str)\n",
      "help(mk_gnfa)\n",
      "help(mk_gnfa_from_D)\n",
      "help(dfa2nfa)\n",
      "help(del_gnfa_states)\n",
      "help(gnfa_w_REStr)\n",
      "help(del_one_gnfa_state)\n",
      "help(Edges_Exist_Via)\n",
      "help(choose_state_to_del)\n",
      "help(form_alt_RE)\n",
      "help(form_concat_RE)\n",
      "help(form_kleene_RE)\n",
      "\n",
      "You may use any of these help commands:\n",
      "help(md2mc)\n",
      ".. and if you want to dig more, then ..\n",
      "help(default_line_attr)\n",
      "help(length_ok_input_items)\n",
      "help(union_line_attr_list_fld)\n",
      "help(extend_rsltdict)\n",
      "help(form_delta)\n",
      "help(get_machine_components)\n",
      "\n"
     ]
    }
   ],
   "source": [
    "import sys\n",
    "sys.path[0:0] = ['../..','../../3rdparty'] # Put these at the head of the search path\n",
    "from jove.StateNameSanitizers import *\n",
    "from jove.DotBashers import *\n",
    "from jove.Def_DFA import *\n",
    "from jove.Def_NFA import *\n",
    "from jove.Def_RE2NFA import *\n",
    "from jove.Def_NFA2RE import *\n",
    "from jove.Def_md2mc import *"
   ]
  },
  {
   "cell_type": "markdown",
   "metadata": {
    "run_control": {
     "frozen": false,
     "read_only": false
    }
   },
   "source": [
    "** IMPORTANT NOTE: RESTART AND RUN ALL CELLS SO THAT THE STATES GET NUMBERED\n",
    "CORRECTLY AS PER THE EMBEDDED DESCRIPTIONS IN THIS NOTEBOOK **"
   ]
  },
  {
   "cell_type": "code",
   "execution_count": 2,
   "metadata": {
    "run_control": {
     "frozen": false,
     "read_only": false
    }
   },
   "outputs": [
    {
     "data": {
      "text/plain": [
       "0"
      ]
     },
     "execution_count": 2,
     "metadata": {},
     "output_type": "execute_result"
    }
   ],
   "source": [
    "# Reset the state numbering counter\n",
    "ResetStNum()"
   ]
  },
  {
   "cell_type": "markdown",
   "metadata": {
    "run_control": {
     "frozen": false,
     "read_only": false
    }
   },
   "source": [
    " # BDDs: Efficient Data Stuctures for Boolean Function Representation\n",
    " \n",
    " Boolean functions occur widely in computer science. In order to represent and manipulate large Boolean\n",
    " functions, one must choose good data structures. A data structure called BDDs often works well. In fact,\n",
    " Prof. Donald Knuth [has said](https://en.wikipedia.org/wiki/Binary_decision_diagram)  in his lecture\n",
    " _Fun With Binary Decision Diagrams_  that BDDs are\"one of the only really fundamental data structures \n",
    " that came out in the last twenty-five years.\"\n",
    " \n",
    " We are studying BDDs in our book because BDDs are nothing but a small variant of \n",
    " minimal DFAs for a simple language that one\n",
    " can obtain from a given Boolean function. Given that we have studied minimal\n",
    " DFAs extensively, it looks quite opportune to point out yet another amazing connection\n",
    " in computer science -- specifically, the study of Boolean functions being another application of minimal DFA.\n",
    " \n",
    " In this narrative, we will cover all the required basics one by one; we assume very little by the way of\n",
    " prerequisites."
   ]
  },
  {
   "cell_type": "markdown",
   "metadata": {
    "run_control": {
     "frozen": false,
     "read_only": false
    }
   },
   "source": [
    "## Boolean functions, and viewing their on-sets as formal languages"
   ]
  },
  {
   "cell_type": "markdown",
   "metadata": {
    "run_control": {
     "frozen": false,
     "read_only": false
    }
   },
   "source": [
    "A Boolean function f(x1,x0) admits a truth-table of four entries with the\n",
    "truth-table output (called \"personality\") defining the function for the\n",
    "standard order of enumeration of x0 and x1. For AND, taking the inputs \n",
    "x1,x0 through 00, 01, 10 and 11, the outputs of AND are 0001 (the string\n",
    "0001 is its personality). The personality has $2^2$ bits (for a $2$-input\n",
    "Boolean function). There are $2^{2^2} = 16$ personalities for a $2$-input\n",
    "Boolean function. Each personality defines a Boolean function; thus, there\n",
    "are $16$ possible Boolean functions.\n",
    "\n",
    "Here are personalities of some common functions: \n",
    "\n",
    "```\n",
    " Inputs  Personalities\n",
    "----------------------\n",
    "| x1 x0 | OR XOR NOR |\n",
    "----------------------\n",
    "| 0  0  | 0  0   1   |\n",
    "| 0  1  | 1  1   0   |\n",
    "| 1  0  | 1  1   0   |\n",
    "| 1  1  | 1  0   0   |\n",
    "----------------------\n",
    "```\n",
    "\n",
    "In general, an $N$-input truth-table has $2^N$ \n",
    "truth-table rows and a personality of length $2^N$, thus admitting $2^{2^N}$\n",
    "Boolean functions of $N$ inputs.\n",
    "\n",
    "It is impractical (and insane) to be building truth-tables for Boolean functions with\n",
    "many inputs. Even a $64$-input Boolean function will have a truth-table of $2^{64}$ rows.\n",
    "Suppose we want to even print one such truth-table. At 80 rows printed per sheet of paper and\n",
    "five grams of weight per sheet, we will need 46-billion tons of paper to print. Even a \n",
    "newborn human baby would be dead of ripe old age by the time this many pages are printed.\n",
    "\n",
    "Yet, there is a method by which _many_ 64-input Boolean functions can be exactly\n",
    "represented using alternative representations than truth-tables. (To emphasize this a bit,\n",
    "not all functions can be so represented, but it works for many Boolean functions occurring in practice.)\n",
    "\n",
    "One such representation is called a Binary Decision Diagram.\n",
    "\n",
    "Binary Decision Diagrams (BDD) are graph structures that summarize a Boolean function's\n",
    "on-sets (sets of inputs for which the function is true). The on-set of the AND function\n",
    "is {11} while that for the OR function is {01, 10, 11}.\n",
    "\n",
    "One can read on-sets as a formal language. The language of an OR-gate is thus {01, 10, 11}\n",
    "(its on-set) and the language of (the on-set of) an AND-gate is {11}."
   ]
  },
  {
   "cell_type": "markdown",
   "metadata": {
    "run_control": {
     "frozen": false,
     "read_only": false
    }
   },
   "source": [
    "## Minimal DFA for the on-set of an XOR and OR\n",
    "\n",
    "In order to drive the point home with respect to how minimal DFA can be made to encode\n",
    "the on-set of functions, let us build a minimal DFA for the language of XOR's on-set and also OR's on-set."
   ]
  },
  {
   "cell_type": "code",
   "execution_count": 3,
   "metadata": {
    "run_control": {
     "frozen": false,
     "read_only": false
    }
   },
   "outputs": [
    {
     "name": "stderr",
     "output_type": "stream",
     "text": [
      "Generating LALR tables\n"
     ]
    },
    {
     "data": {
      "image/svg+xml": [
       "<?xml version=\"1.0\" encoding=\"UTF-8\" standalone=\"no\"?>\n",
       "<!DOCTYPE svg PUBLIC \"-//W3C//DTD SVG 1.1//EN\"\n",
       " \"http://www.w3.org/Graphics/SVG/1.1/DTD/svg11.dtd\">\n",
       "<!-- Generated by graphviz version 2.38.0 (20140413.2041)\n",
       " -->\n",
       "<!-- Title: %3 Pages: 1 -->\n",
       "<svg width=\"324pt\" height=\"114pt\"\n",
       " viewBox=\"0.00 0.00 324.42 113.81\" xmlns=\"http://www.w3.org/2000/svg\" xmlns:xlink=\"http://www.w3.org/1999/xlink\">\n",
       "<g id=\"graph0\" class=\"graph\" transform=\"scale(1 1) rotate(0) translate(4 109.808)\">\n",
       "<title>%3</title>\n",
       "<polygon fill=\"white\" stroke=\"none\" points=\"-4,4 -4,-109.808 320.423,-109.808 320.423,4 -4,4\"/>\n",
       "<!-- EMPTY -->\n",
       "<g id=\"node1\" class=\"node\"><title>EMPTY</title>\n",
       "</g>\n",
       "<!-- St1 -->\n",
       "<g id=\"node3\" class=\"node\"><title>St1</title>\n",
       "<ellipse fill=\"none\" stroke=\"black\" cx=\"112.904\" cy=\"-54.9039\" rx=\"21.8081\" ry=\"21.8081\"/>\n",
       "<text text-anchor=\"middle\" x=\"112.904\" y=\"-50.7039\" font-family=\"Times,serif\" font-size=\"14.00\">St1</text>\n",
       "</g>\n",
       "<!-- EMPTY&#45;&gt;St1 -->\n",
       "<g id=\"edge1\" class=\"edge\"><title>EMPTY&#45;&gt;St1</title>\n",
       "<path fill=\"none\" stroke=\"black\" d=\"M54.0878,-54.9039C62.501,-54.9039 71.9126,-54.9039 80.6587,-54.9039\"/>\n",
       "<polygon fill=\"black\" stroke=\"black\" points=\"80.8854,-58.404 90.8853,-54.9039 80.8853,-51.404 80.8854,-58.404\"/>\n",
       "</g>\n",
       "<!-- St2 -->\n",
       "<g id=\"node2\" class=\"node\"><title>St2</title>\n",
       "<ellipse fill=\"none\" stroke=\"black\" cx=\"199.712\" cy=\"-83.9039\" rx=\"21.8081\" ry=\"21.8081\"/>\n",
       "<text text-anchor=\"middle\" x=\"199.712\" y=\"-79.7039\" font-family=\"Times,serif\" font-size=\"14.00\">St2</text>\n",
       "</g>\n",
       "<!-- St4 -->\n",
       "<g id=\"node5\" class=\"node\"><title>St4</title>\n",
       "<ellipse fill=\"none\" stroke=\"black\" cx=\"290.519\" cy=\"-54.9039\" rx=\"21.8229\" ry=\"21.8229\"/>\n",
       "<ellipse fill=\"none\" stroke=\"black\" cx=\"290.519\" cy=\"-54.9039\" rx=\"25.8081\" ry=\"25.8081\"/>\n",
       "<text text-anchor=\"middle\" x=\"290.519\" y=\"-50.7039\" font-family=\"Times,serif\" font-size=\"14.00\">St4</text>\n",
       "</g>\n",
       "<!-- St2&#45;&gt;St4 -->\n",
       "<g id=\"edge4\" class=\"edge\"><title>St2&#45;&gt;St4</title>\n",
       "<path fill=\"none\" stroke=\"black\" d=\"M220.863,-77.3233C231.259,-73.9288 244.212,-69.699 256.057,-65.831\"/>\n",
       "<polygon fill=\"black\" stroke=\"black\" points=\"257.246,-69.1245 265.666,-62.6932 255.073,-62.4703 257.246,-69.1245\"/>\n",
       "<text text-anchor=\"middle\" x=\"243.115\" y=\"-73.7039\" font-family=\"Times,serif\" font-size=\"14.00\">1</text>\n",
       "</g>\n",
       "<!-- St1&#45;&gt;St2 -->\n",
       "<g id=\"edge2\" class=\"edge\"><title>St1&#45;&gt;St2</title>\n",
       "<path fill=\"none\" stroke=\"black\" d=\"M134.002,-61.7765C144.458,-65.3519 157.444,-69.7924 169.032,-73.755\"/>\n",
       "<polygon fill=\"black\" stroke=\"black\" points=\"168.163,-77.1567 178.758,-77.0806 170.428,-70.5332 168.163,-77.1567\"/>\n",
       "<text text-anchor=\"middle\" x=\"156.308\" y=\"-72.7039\" font-family=\"Times,serif\" font-size=\"14.00\">0</text>\n",
       "</g>\n",
       "<!-- St3 -->\n",
       "<g id=\"node4\" class=\"node\"><title>St3</title>\n",
       "<ellipse fill=\"none\" stroke=\"black\" cx=\"199.712\" cy=\"-21.9039\" rx=\"21.8081\" ry=\"21.8081\"/>\n",
       "<text text-anchor=\"middle\" x=\"199.712\" y=\"-17.7039\" font-family=\"Times,serif\" font-size=\"14.00\">St3</text>\n",
       "</g>\n",
       "<!-- St1&#45;&gt;St3 -->\n",
       "<g id=\"edge3\" class=\"edge\"><title>St1&#45;&gt;St3</title>\n",
       "<path fill=\"none\" stroke=\"black\" d=\"M133.574,-47.2501C144.277,-43.085 157.725,-37.8523 169.618,-33.2245\"/>\n",
       "<polygon fill=\"black\" stroke=\"black\" points=\"171.098,-36.4043 179.149,-29.5162 168.56,-29.8808 171.098,-36.4043\"/>\n",
       "<text text-anchor=\"middle\" x=\"156.308\" y=\"-42.7039\" font-family=\"Times,serif\" font-size=\"14.00\">1</text>\n",
       "</g>\n",
       "<!-- St3&#45;&gt;St4 -->\n",
       "<g id=\"edge5\" class=\"edge\"><title>St3&#45;&gt;St4</title>\n",
       "<path fill=\"none\" stroke=\"black\" d=\"M220.421,-29.2276C231.066,-33.1832 244.487,-38.1703 256.663,-42.6949\"/>\n",
       "<polygon fill=\"black\" stroke=\"black\" points=\"255.492,-45.9933 266.085,-46.1957 257.93,-39.4317 255.492,-45.9933\"/>\n",
       "<text text-anchor=\"middle\" x=\"243.115\" y=\"-41.7039\" font-family=\"Times,serif\" font-size=\"14.00\">0</text>\n",
       "</g>\n",
       "</g>\n",
       "</svg>\n"
      ],
      "text/plain": [
       "<graphviz.dot.Digraph at 0x1113a2c50>"
      ]
     },
     "execution_count": 3,
     "metadata": {},
     "output_type": "execute_result"
    }
   ],
   "source": [
    "L_XOR = \"(01+10)\"\n",
    "dotObj_dfa(min_dfa(nfa2dfa(re2nfa(L_XOR))), STATENAME_MAXSIZE=4)"
   ]
  },
  {
   "cell_type": "code",
   "execution_count": 4,
   "metadata": {
    "run_control": {
     "frozen": false,
     "read_only": false
    }
   },
   "outputs": [],
   "source": [
    "doXOR = dotObj_dfa(min_dfa(nfa2dfa(re2nfa(L_XOR))), STATENAME_MAXSIZE=4)"
   ]
  },
  {
   "cell_type": "code",
   "execution_count": 5,
   "metadata": {
    "run_control": {
     "frozen": false,
     "read_only": false
    }
   },
   "outputs": [
    {
     "data": {
      "text/plain": [
       "'/Users/ganesh/repos/atmm/book/CH17/XORdfaNoBH.dot.pdf'"
      ]
     },
     "execution_count": 5,
     "metadata": {},
     "output_type": "execute_result"
    }
   ],
   "source": [
    "doXOR.render('/Users/ganesh/repos/atmm/book/CH17/XORdfaNoBH.dot')"
   ]
  },
  {
   "cell_type": "markdown",
   "metadata": {
    "run_control": {
     "frozen": false,
     "read_only": false
    }
   },
   "source": [
    "It is easy to see that both 01 and 10 lead to the final state, namely St8, whereas 00 and 11 go to BH. Also excessively long inputs (of length more than two) also go to BH."
   ]
  },
  {
   "cell_type": "code",
   "execution_count": 6,
   "metadata": {
    "run_control": {
     "frozen": false,
     "read_only": false
    }
   },
   "outputs": [
    {
     "data": {
      "image/svg+xml": [
       "<?xml version=\"1.0\" encoding=\"UTF-8\" standalone=\"no\"?>\n",
       "<!DOCTYPE svg PUBLIC \"-//W3C//DTD SVG 1.1//EN\"\n",
       " \"http://www.w3.org/Graphics/SVG/1.1/DTD/svg11.dtd\">\n",
       "<!-- Generated by graphviz version 2.38.0 (20140413.2041)\n",
       " -->\n",
       "<!-- Title: %3 Pages: 1 -->\n",
       "<svg width=\"324pt\" height=\"114pt\"\n",
       " viewBox=\"0.00 0.00 324.42 113.81\" xmlns=\"http://www.w3.org/2000/svg\" xmlns:xlink=\"http://www.w3.org/1999/xlink\">\n",
       "<g id=\"graph0\" class=\"graph\" transform=\"scale(1 1) rotate(0) translate(4 109.808)\">\n",
       "<title>%3</title>\n",
       "<polygon fill=\"white\" stroke=\"none\" points=\"-4,4 -4,-109.808 320.423,-109.808 320.423,4 -4,4\"/>\n",
       "<!-- EMPTY -->\n",
       "<g id=\"node1\" class=\"node\"><title>EMPTY</title>\n",
       "</g>\n",
       "<!-- St1 -->\n",
       "<g id=\"node3\" class=\"node\"><title>St1</title>\n",
       "<ellipse fill=\"none\" stroke=\"black\" cx=\"112.904\" cy=\"-54.9039\" rx=\"21.8081\" ry=\"21.8081\"/>\n",
       "<text text-anchor=\"middle\" x=\"112.904\" y=\"-50.7039\" font-family=\"Times,serif\" font-size=\"14.00\">St1</text>\n",
       "</g>\n",
       "<!-- EMPTY&#45;&gt;St1 -->\n",
       "<g id=\"edge1\" class=\"edge\"><title>EMPTY&#45;&gt;St1</title>\n",
       "<path fill=\"none\" stroke=\"black\" d=\"M54.0878,-54.9039C62.501,-54.9039 71.9126,-54.9039 80.6587,-54.9039\"/>\n",
       "<polygon fill=\"black\" stroke=\"black\" points=\"80.8854,-58.404 90.8853,-54.9039 80.8853,-51.404 80.8854,-58.404\"/>\n",
       "</g>\n",
       "<!-- St4 -->\n",
       "<g id=\"node2\" class=\"node\"><title>St4</title>\n",
       "<ellipse fill=\"none\" stroke=\"black\" cx=\"199.712\" cy=\"-83.9039\" rx=\"21.8081\" ry=\"21.8081\"/>\n",
       "<text text-anchor=\"middle\" x=\"199.712\" y=\"-79.7039\" font-family=\"Times,serif\" font-size=\"14.00\">St4</text>\n",
       "</g>\n",
       "<!-- St6 -->\n",
       "<g id=\"node5\" class=\"node\"><title>St6</title>\n",
       "<ellipse fill=\"none\" stroke=\"black\" cx=\"290.519\" cy=\"-46.9039\" rx=\"21.8229\" ry=\"21.8229\"/>\n",
       "<ellipse fill=\"none\" stroke=\"black\" cx=\"290.519\" cy=\"-46.9039\" rx=\"25.8081\" ry=\"25.8081\"/>\n",
       "<text text-anchor=\"middle\" x=\"290.519\" y=\"-42.7039\" font-family=\"Times,serif\" font-size=\"14.00\">St6</text>\n",
       "</g>\n",
       "<!-- St4&#45;&gt;St6 -->\n",
       "<g id=\"edge4\" class=\"edge\"><title>St4&#45;&gt;St6</title>\n",
       "<path fill=\"none\" stroke=\"black\" d=\"M220.421,-75.6924C231.146,-71.2238 244.69,-65.5809 256.94,-60.4775\"/>\n",
       "<polygon fill=\"black\" stroke=\"black\" points=\"258.522,-63.6099 266.407,-56.5331 255.83,-57.1482 258.522,-63.6099\"/>\n",
       "<text text-anchor=\"middle\" x=\"243.115\" y=\"-70.7039\" font-family=\"Times,serif\" font-size=\"14.00\">1</text>\n",
       "</g>\n",
       "<!-- St1&#45;&gt;St4 -->\n",
       "<g id=\"edge2\" class=\"edge\"><title>St1&#45;&gt;St4</title>\n",
       "<path fill=\"none\" stroke=\"black\" d=\"M134.002,-61.7765C144.458,-65.3519 157.444,-69.7924 169.032,-73.755\"/>\n",
       "<polygon fill=\"black\" stroke=\"black\" points=\"168.163,-77.1567 178.758,-77.0806 170.428,-70.5332 168.163,-77.1567\"/>\n",
       "<text text-anchor=\"middle\" x=\"156.308\" y=\"-73.7039\" font-family=\"Times,serif\" font-size=\"14.00\">0</text>\n",
       "</g>\n",
       "<!-- St2 -->\n",
       "<g id=\"node4\" class=\"node\"><title>St2</title>\n",
       "<ellipse fill=\"none\" stroke=\"black\" cx=\"199.712\" cy=\"-21.9039\" rx=\"21.8081\" ry=\"21.8081\"/>\n",
       "<text text-anchor=\"middle\" x=\"199.712\" y=\"-17.7039\" font-family=\"Times,serif\" font-size=\"14.00\">St2</text>\n",
       "</g>\n",
       "<!-- St1&#45;&gt;St2 -->\n",
       "<g id=\"edge3\" class=\"edge\"><title>St1&#45;&gt;St2</title>\n",
       "<path fill=\"none\" stroke=\"black\" d=\"M133.574,-47.2501C144.277,-43.085 157.725,-37.8523 169.618,-33.2245\"/>\n",
       "<polygon fill=\"black\" stroke=\"black\" points=\"171.098,-36.4043 179.149,-29.5162 168.56,-29.8808 171.098,-36.4043\"/>\n",
       "<text text-anchor=\"middle\" x=\"156.308\" y=\"-42.7039\" font-family=\"Times,serif\" font-size=\"14.00\">1</text>\n",
       "</g>\n",
       "<!-- St2&#45;&gt;St6 -->\n",
       "<g id=\"edge5\" class=\"edge\"><title>St2&#45;&gt;St6</title>\n",
       "<path fill=\"none\" stroke=\"black\" d=\"M221.309,-27.7022C231.455,-30.5582 243.954,-34.0769 255.47,-37.3186\"/>\n",
       "<polygon fill=\"black\" stroke=\"black\" points=\"254.678,-40.7317 265.252,-40.0725 256.575,-33.9936 254.678,-40.7317\"/>\n",
       "<text text-anchor=\"middle\" x=\"243.115\" y=\"-37.7039\" font-family=\"Times,serif\" font-size=\"14.00\">0</text>\n",
       "</g>\n",
       "<!-- St2&#45;&gt;St6 -->\n",
       "<g id=\"edge6\" class=\"edge\"><title>St2&#45;&gt;St6</title>\n",
       "<path fill=\"none\" stroke=\"black\" d=\"M220.718,-15.5278C228.896,-13.8828 238.357,-13.2324 246.615,-15.9039 252.08,-17.6715 257.434,-20.4238 262.405,-23.5746\"/>\n",
       "<polygon fill=\"black\" stroke=\"black\" points=\"260.691,-26.6487 270.881,-29.5498 264.724,-20.9274 260.691,-26.6487\"/>\n",
       "<text text-anchor=\"middle\" x=\"243.115\" y=\"-18.7039\" font-family=\"Times,serif\" font-size=\"14.00\">1</text>\n",
       "</g>\n",
       "</g>\n",
       "</svg>\n"
      ],
      "text/plain": [
       "<graphviz.dot.Digraph at 0x1113e1e80>"
      ]
     },
     "execution_count": 6,
     "metadata": {},
     "output_type": "execute_result"
    }
   ],
   "source": [
    "L_OR = \"(01+10+11)\"\n",
    "dotObj_dfa(min_dfa(nfa2dfa(re2nfa(L_OR))), STATENAME_MAXSIZE=4)"
   ]
  },
  {
   "cell_type": "code",
   "execution_count": 7,
   "metadata": {
    "run_control": {
     "frozen": false,
     "read_only": false
    }
   },
   "outputs": [],
   "source": [
    "doOR = dotObj_dfa(min_dfa(nfa2dfa(re2nfa(L_OR))), STATENAME_MAXSIZE=4)"
   ]
  },
  {
   "cell_type": "code",
   "execution_count": 8,
   "metadata": {
    "run_control": {
     "frozen": false,
     "read_only": false
    }
   },
   "outputs": [
    {
     "data": {
      "text/plain": [
       "'/Users/ganesh/repos/atmm/book/CH17/ORdfaNoBH.dot.pdf'"
      ]
     },
     "execution_count": 8,
     "metadata": {},
     "output_type": "execute_result"
    }
   ],
   "source": [
    "doOR.render('/Users/ganesh/repos/atmm/book/CH17/ORdfaNoBH.dot')"
   ]
  },
  {
   "cell_type": "markdown",
   "metadata": {
    "run_control": {
     "frozen": false,
     "read_only": false
    }
   },
   "source": [
    "One can build BDDs corresponding to these functions as will be describe in the book. Also see the section at the end on building BDDs.\n",
    "\n",
    "It is easy to compare the BDDs to these minimal DFA and note the following:\n",
    "\n",
    "* The minimal DFA keep edges marked 0/1 . The BDD eliminates such \"redundant decoding\" edges, short-circuiting the graph at those edges\n",
    "\n",
    "* The minimal DFA shows what happens when strings with excessive lengths are fed. The BDD stops with a ``0'' node or a ``1'' node at the leaf, and does not carry on to show what happens when an excessively long string is fed.\n",
    "\n",
    "* The BDD does show the BH state as the ``0'' node.\n",
    "\n",
    "So far, the advantage of minimal DFA (or BDD) over truth-tables hasn't been quite apparent. We now proceed to demonstrate that for larger functions, with the right decoding order of the variables, BDDs (and minimal DFA) can indeed be far more compact (whereas truth-tables are guaranteed exponential)"
   ]
  },
  {
   "cell_type": "markdown",
   "metadata": {
    "run_control": {
     "frozen": false,
     "read_only": false
    }
   },
   "source": [
    "## Building minimal DFA for the language of on-sets"
   ]
  },
  {
   "cell_type": "markdown",
   "metadata": {
    "run_control": {
     "frozen": false,
     "read_only": false
    }
   },
   "source": [
    "Suppose there is a 6-input Boolean function modeling a magnitude comparator that \n",
    "compares the binary value coming in through input ports x2,x1,x0 against the binary\n",
    "value coming through ports y2,y1,y0.\n",
    "\n",
    "The function is \"<\" where \"A < B\" means the usual \"less than\" comparison.\n",
    "\n",
    "More specifically, we write \"x2,x1,x0 < y2,y1,y0\" and we interpret the word x2,x1,x0\n",
    "using the standard positional binary notation (likewise also for y2,y1,y0).\n",
    "\n",
    "Here are some examples:\n",
    "\n",
    "* 000 < 001  because 0 is < 1  (and 0 is encoded in binary as 000 and 1 as 001)\n",
    "\n",
    "* 010 < 110  because 2 is < 6  (and 2 is encoded as 010 while 6 is encoded as 110)\n",
    "\n",
    "* 110 < 111  because 6 < 7\n",
    "\n",
    "```\n",
    "Here is a circuit schematic of such a comparator:\n",
    "\n",
    "      --------\n",
    "      |      |\n",
    "x2 -->|      |\n",
    "x1 -->|      |\n",
    "x0 -->|      |\n",
    "      |   <  |--> Output\n",
    "y2 -->|      |\n",
    "y1 -->|      |\n",
    "y0 -->|      |\n",
    "      |      |\n",
    "      --------\n",
    "\n",
    "\n",
    "```\n",
    "\n",
    "Let us now define a language of strings of length 6 representing the values of \n",
    "x2,x1,x0,y2,y1,y0 written adjacently, such that for those x,y values, the function\n",
    "outputs a 1. Call this language L.\n",
    "\n",
    "For instance, L contains 010101 because 010 is < 101 (i.e. 2 < 5)\n",
    "\n",
    "The reader may verify that this is the full L language written out as a regular expression.\n",
    "Of the $2^6 = 64$ strings, we have 28 strings in L's language. The regular expression for L is called R, and is defined below:\n",
    "\n",
    "```\n",
    "R =     \"(000001+000011+000111+001011+001111+\\\n",
    "          010011+010111+011111+100101+100111+\\\n",
    "          101111+110111+000010+000101+000110+\\\n",
    "          001010+001101+001110+010101+010110+\\\n",
    "          011101+011110+100110+101110+000100+\\\n",
    "          001100+010100+011100)\"\n",
    "```\n",
    "\n",
    "Let us build a minimal DFA for R."
   ]
  },
  {
   "cell_type": "code",
   "execution_count": 9,
   "metadata": {
    "run_control": {
     "frozen": false,
     "read_only": false
    }
   },
   "outputs": [
    {
     "data": {
      "image/svg+xml": [
       "<?xml version=\"1.0\" encoding=\"UTF-8\" standalone=\"no\"?>\n",
       "<!DOCTYPE svg PUBLIC \"-//W3C//DTD SVG 1.1//EN\"\n",
       " \"http://www.w3.org/Graphics/SVG/1.1/DTD/svg11.dtd\">\n",
       "<!-- Generated by graphviz version 2.38.0 (20140413.2041)\n",
       " -->\n",
       "<!-- Title: %3 Pages: 1 -->\n",
       "<svg width=\"732pt\" height=\"477pt\"\n",
       " viewBox=\"0.00 0.00 731.71 476.65\" xmlns=\"http://www.w3.org/2000/svg\" xmlns:xlink=\"http://www.w3.org/1999/xlink\">\n",
       "<g id=\"graph0\" class=\"graph\" transform=\"scale(1 1) rotate(0) translate(4 472.651)\">\n",
       "<title>%3</title>\n",
       "<polygon fill=\"white\" stroke=\"none\" points=\"-4,4 -4,-472.651 727.715,-472.651 727.715,4 -4,4\"/>\n",
       "<!-- EMPTY -->\n",
       "<g id=\"node1\" class=\"node\"><title>EMPTY</title>\n",
       "</g>\n",
       "<!-- St1 -->\n",
       "<g id=\"node11\" class=\"node\"><title>St1</title>\n",
       "<ellipse fill=\"none\" stroke=\"black\" cx=\"112.904\" cy=\"-234.326\" rx=\"21.8081\" ry=\"21.8081\"/>\n",
       "<text text-anchor=\"middle\" x=\"112.904\" y=\"-230.126\" font-family=\"Times,serif\" font-size=\"14.00\">St1</text>\n",
       "</g>\n",
       "<!-- EMPTY&#45;&gt;St1 -->\n",
       "<g id=\"edge1\" class=\"edge\"><title>EMPTY&#45;&gt;St1</title>\n",
       "<path fill=\"none\" stroke=\"black\" d=\"M54.0878,-234.326C62.501,-234.326 71.9126,-234.326 80.6587,-234.326\"/>\n",
       "<polygon fill=\"black\" stroke=\"black\" points=\"80.8854,-237.826 90.8853,-234.326 80.8853,-230.826 80.8854,-237.826\"/>\n",
       "</g>\n",
       "<!-- St64 -->\n",
       "<g id=\"node2\" class=\"node\"><title>St64</title>\n",
       "<ellipse fill=\"none\" stroke=\"black\" cx=\"491.087\" cy=\"-372.326\" rx=\"26.1523\" ry=\"26.1523\"/>\n",
       "<text text-anchor=\"middle\" x=\"491.087\" y=\"-368.126\" font-family=\"Times,serif\" font-size=\"14.00\">St64</text>\n",
       "</g>\n",
       "<!-- St6 -->\n",
       "<g id=\"node3\" class=\"node\"><title>St6</title>\n",
       "<ellipse fill=\"none\" stroke=\"black\" cx=\"590.238\" cy=\"-275.326\" rx=\"21.8081\" ry=\"21.8081\"/>\n",
       "<text text-anchor=\"middle\" x=\"590.238\" y=\"-271.126\" font-family=\"Times,serif\" font-size=\"14.00\">St6</text>\n",
       "</g>\n",
       "<!-- St64&#45;&gt;St6 -->\n",
       "<g id=\"edge29\" class=\"edge\"><title>St64&#45;&gt;St6</title>\n",
       "<path fill=\"none\" stroke=\"black\" d=\"M510.36,-354.081C526.376,-338.09 549.709,-314.794 566.843,-297.686\"/>\n",
       "<polygon fill=\"black\" stroke=\"black\" points=\"569.628,-299.851 574.231,-290.309 564.682,-294.898 569.628,-299.851\"/>\n",
       "<text text-anchor=\"middle\" x=\"540.663\" y=\"-330.126\" font-family=\"Times,serif\" font-size=\"14.00\">1</text>\n",
       "</g>\n",
       "<!-- St66 -->\n",
       "<g id=\"node22\" class=\"node\"><title>St66</title>\n",
       "<ellipse fill=\"none\" stroke=\"black\" cx=\"693.389\" cy=\"-240.326\" rx=\"26.1751\" ry=\"26.1751\"/>\n",
       "<ellipse fill=\"none\" stroke=\"black\" cx=\"693.389\" cy=\"-240.326\" rx=\"30.1522\" ry=\"30.1522\"/>\n",
       "<text text-anchor=\"middle\" x=\"693.389\" y=\"-236.126\" font-family=\"Times,serif\" font-size=\"14.00\">St66</text>\n",
       "</g>\n",
       "<!-- St6&#45;&gt;St66 -->\n",
       "<g id=\"edge30\" class=\"edge\"><title>St6&#45;&gt;St66</title>\n",
       "<path fill=\"none\" stroke=\"black\" d=\"M611.222,-268.411C623.572,-264.137 639.82,-258.515 654.533,-253.425\"/>\n",
       "<polygon fill=\"black\" stroke=\"black\" points=\"656.1,-256.586 664.406,-250.008 653.811,-249.971 656.1,-256.586\"/>\n",
       "<text text-anchor=\"middle\" x=\"639.814\" y=\"-263.126\" font-family=\"Times,serif\" font-size=\"14.00\">1</text>\n",
       "</g>\n",
       "<!-- St44 -->\n",
       "<g id=\"node4\" class=\"node\"><title>St44</title>\n",
       "<ellipse fill=\"none\" stroke=\"black\" cx=\"590.238\" cy=\"-192.326\" rx=\"26.1523\" ry=\"26.1523\"/>\n",
       "<text text-anchor=\"middle\" x=\"590.238\" y=\"-188.126\" font-family=\"Times,serif\" font-size=\"14.00\">St44</text>\n",
       "</g>\n",
       "<!-- St44&#45;&gt;St66 -->\n",
       "<g id=\"edge31\" class=\"edge\"><title>St44&#45;&gt;St66</title>\n",
       "<path fill=\"none\" stroke=\"black\" d=\"M614.444,-203.338C626.861,-209.23 642.426,-216.616 656.376,-223.236\"/>\n",
       "<polygon fill=\"black\" stroke=\"black\" points=\"655.182,-226.543 665.717,-227.669 658.183,-220.219 655.182,-226.543\"/>\n",
       "<text text-anchor=\"middle\" x=\"639.814\" y=\"-235.126\" font-family=\"Times,serif\" font-size=\"14.00\">0 </text>\n",
       "<text text-anchor=\"middle\" x=\"639.814\" y=\"-221.126\" font-family=\"Times,serif\" font-size=\"14.00\"> 1</text>\n",
       "</g>\n",
       "<!-- St41 -->\n",
       "<g id=\"node5\" class=\"node\"><title>St41</title>\n",
       "<ellipse fill=\"none\" stroke=\"black\" cx=\"299.785\" cy=\"-300.326\" rx=\"26.1523\" ry=\"26.1523\"/>\n",
       "<text text-anchor=\"middle\" x=\"299.785\" y=\"-296.126\" font-family=\"Times,serif\" font-size=\"14.00\">St41</text>\n",
       "</g>\n",
       "<!-- St42 -->\n",
       "<g id=\"node10\" class=\"node\"><title>St42</title>\n",
       "<ellipse fill=\"none\" stroke=\"black\" cx=\"395.436\" cy=\"-371.326\" rx=\"26.1523\" ry=\"26.1523\"/>\n",
       "<text text-anchor=\"middle\" x=\"395.436\" y=\"-367.126\" font-family=\"Times,serif\" font-size=\"14.00\">St42</text>\n",
       "</g>\n",
       "<!-- St41&#45;&gt;St42 -->\n",
       "<g id=\"edge10\" class=\"edge\"><title>St41&#45;&gt;St42</title>\n",
       "<path fill=\"none\" stroke=\"black\" d=\"M321.569,-316.083C334.632,-325.987 351.661,-338.896 365.971,-349.745\"/>\n",
       "<polygon fill=\"black\" stroke=\"black\" points=\"363.948,-352.604 374.032,-355.857 368.177,-347.026 363.948,-352.604\"/>\n",
       "<text text-anchor=\"middle\" x=\"347.61\" y=\"-341.126\" font-family=\"Times,serif\" font-size=\"14.00\">0</text>\n",
       "</g>\n",
       "<!-- St49 -->\n",
       "<g id=\"node17\" class=\"node\"><title>St49</title>\n",
       "<ellipse fill=\"none\" stroke=\"black\" cx=\"395.436\" cy=\"-300.326\" rx=\"26.1523\" ry=\"26.1523\"/>\n",
       "<text text-anchor=\"middle\" x=\"395.436\" y=\"-296.126\" font-family=\"Times,serif\" font-size=\"14.00\">St49</text>\n",
       "</g>\n",
       "<!-- St41&#45;&gt;St49 -->\n",
       "<g id=\"edge11\" class=\"edge\"><title>St41&#45;&gt;St49</title>\n",
       "<path fill=\"none\" stroke=\"black\" d=\"M326.375,-300.326C336.389,-300.326 348.047,-300.326 358.855,-300.326\"/>\n",
       "<polygon fill=\"black\" stroke=\"black\" points=\"358.876,-303.826 368.876,-300.326 358.876,-296.826 358.876,-303.826\"/>\n",
       "<text text-anchor=\"middle\" x=\"347.61\" y=\"-303.126\" font-family=\"Times,serif\" font-size=\"14.00\">1</text>\n",
       "</g>\n",
       "<!-- St8 -->\n",
       "<g id=\"node6\" class=\"node\"><title>St8</title>\n",
       "<ellipse fill=\"none\" stroke=\"black\" cx=\"204.133\" cy=\"-198.326\" rx=\"21.8081\" ry=\"21.8081\"/>\n",
       "<text text-anchor=\"middle\" x=\"204.133\" y=\"-194.126\" font-family=\"Times,serif\" font-size=\"14.00\">St8</text>\n",
       "</g>\n",
       "<!-- St3 -->\n",
       "<g id=\"node9\" class=\"node\"><title>St3</title>\n",
       "<ellipse fill=\"none\" stroke=\"black\" cx=\"299.785\" cy=\"-92.3256\" rx=\"21.8081\" ry=\"21.8081\"/>\n",
       "<text text-anchor=\"middle\" x=\"299.785\" y=\"-88.1256\" font-family=\"Times,serif\" font-size=\"14.00\">St3</text>\n",
       "</g>\n",
       "<!-- St8&#45;&gt;St3 -->\n",
       "<g id=\"edge6\" class=\"edge\"><title>St8&#45;&gt;St3</title>\n",
       "<path fill=\"none\" stroke=\"black\" d=\"M219.357,-182.226C234.896,-164.638 259.945,-136.286 277.756,-116.127\"/>\n",
       "<polygon fill=\"black\" stroke=\"black\" points=\"280.429,-118.388 284.427,-108.576 275.183,-113.753 280.429,-118.388\"/>\n",
       "<text text-anchor=\"middle\" x=\"251.959\" y=\"-152.126\" font-family=\"Times,serif\" font-size=\"14.00\">0</text>\n",
       "</g>\n",
       "<!-- St16 -->\n",
       "<g id=\"node21\" class=\"node\"><title>St16</title>\n",
       "<ellipse fill=\"none\" stroke=\"black\" cx=\"299.785\" cy=\"-372.326\" rx=\"26.1523\" ry=\"26.1523\"/>\n",
       "<text text-anchor=\"middle\" x=\"299.785\" y=\"-368.126\" font-family=\"Times,serif\" font-size=\"14.00\">St16</text>\n",
       "</g>\n",
       "<!-- St8&#45;&gt;St16 -->\n",
       "<g id=\"edge7\" class=\"edge\"><title>St8&#45;&gt;St16</title>\n",
       "<path fill=\"none\" stroke=\"black\" d=\"M220.007,-213.787C223.879,-218.482 227.725,-223.855 230.459,-229.326 245.395,-259.218 234.452,-271.987 248.459,-302.326 255.392,-317.342 265.716,-332.436 275.212,-344.744\"/>\n",
       "<polygon fill=\"black\" stroke=\"black\" points=\"272.64,-347.134 281.602,-352.785 278.12,-342.779 272.64,-347.134\"/>\n",
       "<text text-anchor=\"middle\" x=\"251.959\" y=\"-318.126\" font-family=\"Times,serif\" font-size=\"14.00\">1</text>\n",
       "</g>\n",
       "<!-- St32 -->\n",
       "<g id=\"node7\" class=\"node\"><title>St32</title>\n",
       "<ellipse fill=\"none\" stroke=\"black\" cx=\"395.436\" cy=\"-158.326\" rx=\"26.1523\" ry=\"26.1523\"/>\n",
       "<text text-anchor=\"middle\" x=\"395.436\" y=\"-154.126\" font-family=\"Times,serif\" font-size=\"14.00\">St32</text>\n",
       "</g>\n",
       "<!-- St43 -->\n",
       "<g id=\"node13\" class=\"node\"><title>St43</title>\n",
       "<ellipse fill=\"none\" stroke=\"black\" cx=\"491.087\" cy=\"-261.326\" rx=\"26.1523\" ry=\"26.1523\"/>\n",
       "<text text-anchor=\"middle\" x=\"491.087\" y=\"-257.126\" font-family=\"Times,serif\" font-size=\"14.00\">St43</text>\n",
       "</g>\n",
       "<!-- St32&#45;&gt;St43 -->\n",
       "<g id=\"edge18\" class=\"edge\"><title>St32&#45;&gt;St43</title>\n",
       "<path fill=\"none\" stroke=\"black\" d=\"M414.051,-177.699C428.57,-193.668 449.329,-216.499 465.489,-234.272\"/>\n",
       "<polygon fill=\"black\" stroke=\"black\" points=\"463.234,-236.995 472.551,-242.039 468.413,-232.285 463.234,-236.995\"/>\n",
       "<text text-anchor=\"middle\" x=\"443.261\" y=\"-216.126\" font-family=\"Times,serif\" font-size=\"14.00\">1</text>\n",
       "</g>\n",
       "<!-- St13 -->\n",
       "<g id=\"node19\" class=\"node\"><title>St13</title>\n",
       "<ellipse fill=\"none\" stroke=\"black\" cx=\"491.087\" cy=\"-113.326\" rx=\"26.1523\" ry=\"26.1523\"/>\n",
       "<text text-anchor=\"middle\" x=\"491.087\" y=\"-109.126\" font-family=\"Times,serif\" font-size=\"14.00\">St13</text>\n",
       "</g>\n",
       "<!-- St32&#45;&gt;St13 -->\n",
       "<g id=\"edge17\" class=\"edge\"><title>St32&#45;&gt;St13</title>\n",
       "<path fill=\"none\" stroke=\"black\" d=\"M411.277,-137.191C418.716,-128.412 428.536,-119.158 439.761,-114.326 444.337,-112.356 449.369,-111.214 454.429,-110.629\"/>\n",
       "<polygon fill=\"black\" stroke=\"black\" points=\"454.899,-114.11 464.715,-110.122 454.555,-107.118 454.899,-114.11\"/>\n",
       "<text text-anchor=\"middle\" x=\"443.261\" y=\"-117.126\" font-family=\"Times,serif\" font-size=\"14.00\">0</text>\n",
       "</g>\n",
       "<!-- St18 -->\n",
       "<g id=\"node8\" class=\"node\"><title>St18</title>\n",
       "<ellipse fill=\"none\" stroke=\"black\" cx=\"204.133\" cy=\"-264.326\" rx=\"26.1523\" ry=\"26.1523\"/>\n",
       "<text text-anchor=\"middle\" x=\"204.133\" y=\"-260.126\" font-family=\"Times,serif\" font-size=\"14.00\">St18</text>\n",
       "</g>\n",
       "<!-- St18&#45;&gt;St41 -->\n",
       "<g id=\"edge5\" class=\"edge\"><title>St18&#45;&gt;St41</title>\n",
       "<path fill=\"none\" stroke=\"black\" d=\"M229.251,-273.596C240.259,-277.828 253.477,-282.909 265.419,-287.5\"/>\n",
       "<polygon fill=\"black\" stroke=\"black\" points=\"264.483,-290.89 275.073,-291.211 266.995,-284.356 264.483,-290.89\"/>\n",
       "<text text-anchor=\"middle\" x=\"251.959\" y=\"-287.126\" font-family=\"Times,serif\" font-size=\"14.00\">1</text>\n",
       "</g>\n",
       "<!-- St22 -->\n",
       "<g id=\"node15\" class=\"node\"><title>St22</title>\n",
       "<ellipse fill=\"none\" stroke=\"black\" cx=\"299.785\" cy=\"-229.326\" rx=\"26.1523\" ry=\"26.1523\"/>\n",
       "<text text-anchor=\"middle\" x=\"299.785\" y=\"-225.126\" font-family=\"Times,serif\" font-size=\"14.00\">St22</text>\n",
       "</g>\n",
       "<!-- St18&#45;&gt;St22 -->\n",
       "<g id=\"edge4\" class=\"edge\"><title>St18&#45;&gt;St22</title>\n",
       "<path fill=\"none\" stroke=\"black\" d=\"M229.251,-255.312C240.175,-251.23 253.274,-246.334 265.143,-241.898\"/>\n",
       "<polygon fill=\"black\" stroke=\"black\" points=\"266.607,-245.088 274.749,-238.308 264.156,-238.531 266.607,-245.088\"/>\n",
       "<text text-anchor=\"middle\" x=\"251.959\" y=\"-251.126\" font-family=\"Times,serif\" font-size=\"14.00\">0</text>\n",
       "</g>\n",
       "<!-- St12 -->\n",
       "<g id=\"node12\" class=\"node\"><title>St12</title>\n",
       "<ellipse fill=\"none\" stroke=\"black\" cx=\"395.436\" cy=\"-26.3256\" rx=\"26.1523\" ry=\"26.1523\"/>\n",
       "<text text-anchor=\"middle\" x=\"395.436\" y=\"-22.1256\" font-family=\"Times,serif\" font-size=\"14.00\">St12</text>\n",
       "</g>\n",
       "<!-- St3&#45;&gt;St12 -->\n",
       "<g id=\"edge13\" class=\"edge\"><title>St3&#45;&gt;St12</title>\n",
       "<path fill=\"none\" stroke=\"black\" d=\"M318.4,-79.9115C331.422,-70.7344 349.462,-58.0207 364.702,-47.2802\"/>\n",
       "<polygon fill=\"black\" stroke=\"black\" points=\"367.135,-49.8476 373.293,-41.226 363.102,-44.1257 367.135,-49.8476\"/>\n",
       "<text text-anchor=\"middle\" x=\"347.61\" y=\"-64.1256\" font-family=\"Times,serif\" font-size=\"14.00\">1</text>\n",
       "</g>\n",
       "<!-- St4 -->\n",
       "<g id=\"node14\" class=\"node\"><title>St4</title>\n",
       "<ellipse fill=\"none\" stroke=\"black\" cx=\"395.436\" cy=\"-92.3256\" rx=\"21.8081\" ry=\"21.8081\"/>\n",
       "<text text-anchor=\"middle\" x=\"395.436\" y=\"-88.1256\" font-family=\"Times,serif\" font-size=\"14.00\">St4</text>\n",
       "</g>\n",
       "<!-- St3&#45;&gt;St4 -->\n",
       "<g id=\"edge12\" class=\"edge\"><title>St3&#45;&gt;St4</title>\n",
       "<path fill=\"none\" stroke=\"black\" d=\"M322.035,-92.3256C334.129,-92.3256 349.506,-92.3256 362.975,-92.3256\"/>\n",
       "<polygon fill=\"black\" stroke=\"black\" points=\"363.269,-95.8257 373.269,-92.3256 363.269,-88.8257 363.269,-95.8257\"/>\n",
       "<text text-anchor=\"middle\" x=\"347.61\" y=\"-95.1256\" font-family=\"Times,serif\" font-size=\"14.00\">0</text>\n",
       "</g>\n",
       "<!-- St42&#45;&gt;St64 -->\n",
       "<g id=\"edge19\" class=\"edge\"><title>St42&#45;&gt;St64</title>\n",
       "<path fill=\"none\" stroke=\"black\" d=\"M422.026,-371.599C432.04,-371.706 443.698,-371.83 454.506,-371.946\"/>\n",
       "<polygon fill=\"black\" stroke=\"black\" points=\"454.49,-375.446 464.527,-372.053 454.565,-368.446 454.49,-375.446\"/>\n",
       "<text text-anchor=\"middle\" x=\"443.261\" y=\"-375.126\" font-family=\"Times,serif\" font-size=\"14.00\">0</text>\n",
       "</g>\n",
       "<!-- St42&#45;&gt;St43 -->\n",
       "<g id=\"edge20\" class=\"edge\"><title>St42&#45;&gt;St43</title>\n",
       "<path fill=\"none\" stroke=\"black\" d=\"M413.179,-351.66C428.068,-334.171 449.995,-308.416 466.631,-288.876\"/>\n",
       "<polygon fill=\"black\" stroke=\"black\" points=\"469.356,-291.075 473.173,-281.192 464.026,-286.537 469.356,-291.075\"/>\n",
       "<text text-anchor=\"middle\" x=\"443.261\" y=\"-323.126\" font-family=\"Times,serif\" font-size=\"14.00\">1</text>\n",
       "</g>\n",
       "<!-- St1&#45;&gt;St8 -->\n",
       "<g id=\"edge3\" class=\"edge\"><title>St1&#45;&gt;St8</title>\n",
       "<path fill=\"none\" stroke=\"black\" d=\"M133.707,-226.336C145.49,-221.582 160.659,-215.462 173.811,-210.156\"/>\n",
       "<polygon fill=\"black\" stroke=\"black\" points=\"175.422,-213.28 183.386,-206.293 172.803,-206.789 175.422,-213.28\"/>\n",
       "<text text-anchor=\"middle\" x=\"156.308\" y=\"-222.126\" font-family=\"Times,serif\" font-size=\"14.00\">1</text>\n",
       "</g>\n",
       "<!-- St1&#45;&gt;St18 -->\n",
       "<g id=\"edge2\" class=\"edge\"><title>St1&#45;&gt;St18</title>\n",
       "<path fill=\"none\" stroke=\"black\" d=\"M134.151,-241.133C144.516,-244.618 157.41,-248.953 169.237,-252.929\"/>\n",
       "<polygon fill=\"black\" stroke=\"black\" points=\"168.247,-256.289 178.841,-256.158 170.478,-249.654 168.247,-256.289\"/>\n",
       "<text text-anchor=\"middle\" x=\"156.308\" y=\"-252.126\" font-family=\"Times,serif\" font-size=\"14.00\">0</text>\n",
       "</g>\n",
       "<!-- St12&#45;&gt;St13 -->\n",
       "<g id=\"edge23\" class=\"edge\"><title>St12&#45;&gt;St13</title>\n",
       "<path fill=\"none\" stroke=\"black\" d=\"M415.387,-43.9313C429.224,-56.7849 448.165,-74.381 463.512,-88.6378\"/>\n",
       "<polygon fill=\"black\" stroke=\"black\" points=\"461.455,-91.5042 471.163,-95.746 466.219,-86.3756 461.455,-91.5042\"/>\n",
       "<text text-anchor=\"middle\" x=\"443.261\" y=\"-76.1256\" font-family=\"Times,serif\" font-size=\"14.00\">1</text>\n",
       "</g>\n",
       "<!-- St43&#45;&gt;St44 -->\n",
       "<g id=\"edge27\" class=\"edge\"><title>St43&#45;&gt;St44</title>\n",
       "<path fill=\"none\" stroke=\"black\" d=\"M511.456,-244.223C518.778,-238.03 527.304,-231.135 535.413,-225.326 542.65,-220.141 550.712,-214.925 558.348,-210.218\"/>\n",
       "<polygon fill=\"black\" stroke=\"black\" points=\"560.296,-213.131 567.042,-204.96 556.673,-207.141 560.296,-213.131\"/>\n",
       "<text text-anchor=\"middle\" x=\"540.663\" y=\"-242.126\" font-family=\"Times,serif\" font-size=\"14.00\">0 </text>\n",
       "<text text-anchor=\"middle\" x=\"540.663\" y=\"-228.126\" font-family=\"Times,serif\" font-size=\"14.00\"> 1</text>\n",
       "</g>\n",
       "<!-- St24 -->\n",
       "<g id=\"node18\" class=\"node\"><title>St24</title>\n",
       "<ellipse fill=\"none\" stroke=\"black\" cx=\"491.087\" cy=\"-187.326\" rx=\"26.1523\" ry=\"26.1523\"/>\n",
       "<text text-anchor=\"middle\" x=\"491.087\" y=\"-183.126\" font-family=\"Times,serif\" font-size=\"14.00\">St24</text>\n",
       "</g>\n",
       "<!-- St4&#45;&gt;St24 -->\n",
       "<g id=\"edge22\" class=\"edge\"><title>St4&#45;&gt;St24</title>\n",
       "<path fill=\"none\" stroke=\"black\" d=\"M411.482,-107.589C425.741,-122.053 447.443,-144.067 464.434,-161.303\"/>\n",
       "<polygon fill=\"black\" stroke=\"black\" points=\"462.352,-164.177 471.865,-168.841 467.337,-159.263 462.352,-164.177\"/>\n",
       "<text text-anchor=\"middle\" x=\"443.261\" y=\"-146.126\" font-family=\"Times,serif\" font-size=\"14.00\">1</text>\n",
       "</g>\n",
       "<!-- St22&#45;&gt;St32 -->\n",
       "<g id=\"edge9\" class=\"edge\"><title>St22&#45;&gt;St32</title>\n",
       "<path fill=\"none\" stroke=\"black\" d=\"M321.569,-213.568C334.632,-203.665 351.661,-190.755 365.971,-179.906\"/>\n",
       "<polygon fill=\"black\" stroke=\"black\" points=\"368.177,-182.625 374.032,-173.794 363.948,-177.047 368.177,-182.625\"/>\n",
       "<text text-anchor=\"middle\" x=\"347.61\" y=\"-199.126\" font-family=\"Times,serif\" font-size=\"14.00\">1</text>\n",
       "</g>\n",
       "<!-- St23 -->\n",
       "<g id=\"node20\" class=\"node\"><title>St23</title>\n",
       "<ellipse fill=\"none\" stroke=\"black\" cx=\"395.436\" cy=\"-229.326\" rx=\"26.1523\" ry=\"26.1523\"/>\n",
       "<text text-anchor=\"middle\" x=\"395.436\" y=\"-225.126\" font-family=\"Times,serif\" font-size=\"14.00\">St23</text>\n",
       "</g>\n",
       "<!-- St22&#45;&gt;St23 -->\n",
       "<g id=\"edge8\" class=\"edge\"><title>St22&#45;&gt;St23</title>\n",
       "<path fill=\"none\" stroke=\"black\" d=\"M326.375,-229.326C336.389,-229.326 348.047,-229.326 358.855,-229.326\"/>\n",
       "<polygon fill=\"black\" stroke=\"black\" points=\"358.876,-232.826 368.876,-229.326 358.876,-225.826 358.876,-232.826\"/>\n",
       "<text text-anchor=\"middle\" x=\"347.61\" y=\"-232.126\" font-family=\"Times,serif\" font-size=\"14.00\">0</text>\n",
       "</g>\n",
       "<!-- St17 -->\n",
       "<g id=\"node16\" class=\"node\"><title>St17</title>\n",
       "<ellipse fill=\"none\" stroke=\"black\" cx=\"395.436\" cy=\"-442.326\" rx=\"26.1523\" ry=\"26.1523\"/>\n",
       "<text text-anchor=\"middle\" x=\"395.436\" y=\"-438.126\" font-family=\"Times,serif\" font-size=\"14.00\">St17</text>\n",
       "</g>\n",
       "<!-- St17&#45;&gt;St64 -->\n",
       "<g id=\"edge24\" class=\"edge\"><title>St17&#45;&gt;St64</title>\n",
       "<path fill=\"none\" stroke=\"black\" d=\"M417.22,-426.79C430.193,-417.093 447.077,-404.473 461.326,-393.823\"/>\n",
       "<polygon fill=\"black\" stroke=\"black\" points=\"463.446,-396.608 469.361,-387.817 459.256,-391.001 463.446,-396.608\"/>\n",
       "<text text-anchor=\"middle\" x=\"443.261\" y=\"-413.126\" font-family=\"Times,serif\" font-size=\"14.00\">1</text>\n",
       "</g>\n",
       "<!-- St49&#45;&gt;St43 -->\n",
       "<g id=\"edge21\" class=\"edge\"><title>St49&#45;&gt;St43</title>\n",
       "<path fill=\"none\" stroke=\"black\" d=\"M420.068,-290.484C431.27,-285.819 444.842,-280.168 457.043,-275.087\"/>\n",
       "<polygon fill=\"black\" stroke=\"black\" points=\"458.576,-278.239 466.462,-271.164 455.885,-271.777 458.576,-278.239\"/>\n",
       "<text text-anchor=\"middle\" x=\"443.261\" y=\"-285.126\" font-family=\"Times,serif\" font-size=\"14.00\">1</text>\n",
       "</g>\n",
       "<!-- St24&#45;&gt;St6 -->\n",
       "<g id=\"edge25\" class=\"edge\"><title>St24&#45;&gt;St6</title>\n",
       "<path fill=\"none\" stroke=\"black\" d=\"M506.281,-209.111C518.716,-228.171 534.893,-252.898 535.413,-253.326 542.358,-259.045 550.991,-263.449 559.295,-266.76\"/>\n",
       "<polygon fill=\"black\" stroke=\"black\" points=\"558.177,-270.077 568.771,-270.158 560.539,-263.488 558.177,-270.077\"/>\n",
       "<text text-anchor=\"middle\" x=\"540.663\" y=\"-264.126\" font-family=\"Times,serif\" font-size=\"14.00\">0</text>\n",
       "</g>\n",
       "<!-- St24&#45;&gt;St44 -->\n",
       "<g id=\"edge26\" class=\"edge\"><title>St24&#45;&gt;St44</title>\n",
       "<path fill=\"none\" stroke=\"black\" d=\"M517.565,-187.415C526.531,-187.549 536.674,-187.814 545.913,-188.326 548.42,-188.464 551.008,-188.635 553.611,-188.826\"/>\n",
       "<polygon fill=\"black\" stroke=\"black\" points=\"553.35,-192.316 563.602,-189.645 553.922,-185.34 553.35,-192.316\"/>\n",
       "<text text-anchor=\"middle\" x=\"540.663\" y=\"-191.126\" font-family=\"Times,serif\" font-size=\"14.00\">1</text>\n",
       "</g>\n",
       "<!-- St13&#45;&gt;St44 -->\n",
       "<g id=\"edge28\" class=\"edge\"><title>St13&#45;&gt;St44</title>\n",
       "<path fill=\"none\" stroke=\"black\" d=\"M512.217,-129.694C526.415,-141.24 545.62,-156.857 561.301,-169.608\"/>\n",
       "<polygon fill=\"black\" stroke=\"black\" points=\"559.167,-172.384 569.134,-175.978 563.584,-166.953 559.167,-172.384\"/>\n",
       "<text text-anchor=\"middle\" x=\"540.663\" y=\"-161.126\" font-family=\"Times,serif\" font-size=\"14.00\">1</text>\n",
       "</g>\n",
       "<!-- St23&#45;&gt;St43 -->\n",
       "<g id=\"edge16\" class=\"edge\"><title>St23&#45;&gt;St43</title>\n",
       "<path fill=\"none\" stroke=\"black\" d=\"M420.553,-237.566C431.477,-241.299 444.576,-245.775 456.445,-249.83\"/>\n",
       "<polygon fill=\"black\" stroke=\"black\" points=\"455.457,-253.191 466.051,-253.113 457.72,-246.567 455.457,-253.191\"/>\n",
       "<text text-anchor=\"middle\" x=\"443.261\" y=\"-249.126\" font-family=\"Times,serif\" font-size=\"14.00\">1</text>\n",
       "</g>\n",
       "<!-- St23&#45;&gt;St24 -->\n",
       "<g id=\"edge15\" class=\"edge\"><title>St23&#45;&gt;St24</title>\n",
       "<path fill=\"none\" stroke=\"black\" d=\"M412.352,-208.744C419.739,-200.822 429.22,-192.644 439.761,-188.326 444.371,-186.437 449.422,-185.34 454.491,-184.776\"/>\n",
       "<polygon fill=\"black\" stroke=\"black\" points=\"454.961,-188.257 464.782,-184.282 454.626,-181.265 454.961,-188.257\"/>\n",
       "<text text-anchor=\"middle\" x=\"443.261\" y=\"-191.126\" font-family=\"Times,serif\" font-size=\"14.00\">0</text>\n",
       "</g>\n",
       "<!-- St16&#45;&gt;St17 -->\n",
       "<g id=\"edge14\" class=\"edge\"><title>St16&#45;&gt;St17</title>\n",
       "<path fill=\"none\" stroke=\"black\" d=\"M321.569,-387.861C334.542,-397.558 351.426,-410.178 365.674,-420.828\"/>\n",
       "<polygon fill=\"black\" stroke=\"black\" points=\"363.604,-423.65 373.71,-426.834 367.795,-418.043 363.604,-423.65\"/>\n",
       "<text text-anchor=\"middle\" x=\"347.61\" y=\"-413.126\" font-family=\"Times,serif\" font-size=\"14.00\">0</text>\n",
       "</g>\n",
       "</g>\n",
       "</svg>\n"
      ],
      "text/plain": [
       "<graphviz.dot.Digraph at 0x1113e7ba8>"
      ]
     },
     "execution_count": 9,
     "metadata": {},
     "output_type": "execute_result"
    }
   ],
   "source": [
    "R =     \"(000001+000011+000111+001011+001111+\\\n",
    "          010011+010111+011111+100101+100111+\\\n",
    "          101111+110111+000010+000101+000110+\\\n",
    "          001010+001101+001110+010101+010110+\\\n",
    "          011101+011110+100110+101110+000100+\\\n",
    "          001100+010100+011100)\"\n",
    "N      = re2nfa(R)\n",
    "Dbloat = nfa2dfa(N)\n",
    "D      = min_dfa(Dbloat)\n",
    "doBadLTNoBH = dotObj_dfa(D, FuseEdges=True)\n",
    "doBadLTNoBH"
   ]
  },
  {
   "cell_type": "code",
   "execution_count": 10,
   "metadata": {
    "run_control": {
     "frozen": false,
     "read_only": false
    }
   },
   "outputs": [
    {
     "data": {
      "text/plain": [
       "'/Users/ganesh/repos/atmm/book/CH17/doBadLTNoBH.dot.pdf'"
      ]
     },
     "execution_count": 10,
     "metadata": {},
     "output_type": "execute_result"
    }
   ],
   "source": [
    "doBadLTNoBH.render('/Users/ganesh/repos/atmm/book/CH17/doBadLTNoBH.dot')"
   ]
  },
  {
   "cell_type": "markdown",
   "metadata": {
    "run_control": {
     "frozen": false,
     "read_only": false
    }
   },
   "source": [
    "This machine appears to be rather large -- in fact exponential in the x2,x1,x0 bits (those are the first three bits to arrive at this machine, and the machine grows exponentially with respect to these inputs). It then collapses soon as soon as the y bits come in.\n",
    "\n",
    "Size aside, this DFA acts as a representation of the \"<\" function. Take the starting state: all paths from it leading to the final state are in the on-set of this function; any path of length six that goes to the BH state is in the off-set of this function. Strings of length greater than six can be entertained, but they have no meaning with respect to our problem that involves only six variables. \n",
    "\n",
    "Let us take an example. String 001100 is accepted. Here is the accepting path:\n",
    "\n",
    "* St1 --0--> St18 --0--> St22 --1--> St32 --1--> St27 --0--> St9 --0--> St35 \n",
    "\n",
    "The rejecting paths include strings of length six that are not in the language being modeled, or strings of higher lengths than six. These strings cause the execution to enter the \"black hole\" state (that is not shown in our diagrams).\n",
    " \n",
    "Also notice that the _nodes_ in this minimal automaton graph represent Boolean functions. Thus, state St1 is a function of all the six input bits. States St18 and St8 are functions of the five bits x1,x0,y2,y1,y0. In fact, the further we go away from the initial state, the lesser the remaining bits are in deciding the \"fate of the function\". \n",
    "\n",
    "Take state St18 which is one step away from the initial state. All paths leading to the final state represent the on-set of a Boolean function of inputs x1,x0,y2,y1,y0. Paths leading to state BH (not shown) are in the off-set (not shown)"
   ]
  },
  {
   "cell_type": "markdown",
   "metadata": {
    "run_control": {
     "frozen": false,
     "read_only": false
    }
   },
   "source": [
    "But suppose another astute person jumps in and tells us that it will be a small minimal DFA if we were to have considered strings x2,y2,x1,y1,x0,y0 to be in the language. That is, we mix the bits (and call the language Lmix, and the regular expression Rmix).\n",
    "\n",
    "We have the following Rmix."
   ]
  },
  {
   "cell_type": "code",
   "execution_count": 11,
   "metadata": {
    "run_control": {
     "frozen": false,
     "read_only": false
    }
   },
   "outputs": [],
   "source": [
    "Rmix =  \"(000001+000111+001101+011111+110001+\\\n",
    "          110111+111101+000101+000110+010111+\\\n",
    "          011011+011101+011110+110101+110110+\\\n",
    "          000100+010011+010101+010110+011001+\\\n",
    "          011010+011100+110100+010001+010010+\\\n",
    "          010100+011000+010000)\" "
   ]
  },
  {
   "cell_type": "markdown",
   "metadata": {
    "run_control": {
     "frozen": false,
     "read_only": false
    }
   },
   "source": [
    "We still have 28 entries, but the entries now represent x2,y2,x1,y1,x0,y0. For instance,\n",
    "take the fifth member of Rmix which is 110001. This means 100 < 101 which means 4 < 5, which is true. Let us now build a minimum DFA for Rmix."
   ]
  },
  {
   "cell_type": "code",
   "execution_count": 12,
   "metadata": {
    "run_control": {
     "frozen": false,
     "read_only": false
    }
   },
   "outputs": [],
   "source": [
    "Dmix = min_dfa(nfa2dfa(re2nfa(Rmix)))"
   ]
  },
  {
   "cell_type": "code",
   "execution_count": 13,
   "metadata": {
    "run_control": {
     "frozen": false,
     "read_only": false
    }
   },
   "outputs": [
    {
     "data": {
      "image/svg+xml": [
       "<?xml version=\"1.0\" encoding=\"UTF-8\" standalone=\"no\"?>\n",
       "<!DOCTYPE svg PUBLIC \"-//W3C//DTD SVG 1.1//EN\"\n",
       " \"http://www.w3.org/Graphics/SVG/1.1/DTD/svg11.dtd\">\n",
       "<!-- Generated by graphviz version 2.38.0 (20140413.2041)\n",
       " -->\n",
       "<!-- Title: %3 Pages: 1 -->\n",
       "<svg width=\"739pt\" height=\"194pt\"\n",
       " viewBox=\"0.00 0.00 738.71 194.33\" xmlns=\"http://www.w3.org/2000/svg\" xmlns:xlink=\"http://www.w3.org/1999/xlink\">\n",
       "<g id=\"graph0\" class=\"graph\" transform=\"scale(1 1) rotate(0) translate(4 190.326)\">\n",
       "<title>%3</title>\n",
       "<polygon fill=\"white\" stroke=\"none\" points=\"-4,4 -4,-190.326 734.715,-190.326 734.715,4 -4,4\"/>\n",
       "<!-- EMPTY -->\n",
       "<g id=\"node1\" class=\"node\"><title>EMPTY</title>\n",
       "</g>\n",
       "<!-- St1 -->\n",
       "<g id=\"node11\" class=\"node\"><title>St1</title>\n",
       "<ellipse fill=\"none\" stroke=\"black\" cx=\"112.904\" cy=\"-120.326\" rx=\"21.8081\" ry=\"21.8081\"/>\n",
       "<text text-anchor=\"middle\" x=\"112.904\" y=\"-116.126\" font-family=\"Times,serif\" font-size=\"14.00\">St1</text>\n",
       "</g>\n",
       "<!-- EMPTY&#45;&gt;St1 -->\n",
       "<g id=\"edge1\" class=\"edge\"><title>EMPTY&#45;&gt;St1</title>\n",
       "<path fill=\"none\" stroke=\"black\" d=\"M54.0878,-120.326C62.501,-120.326 71.9126,-120.326 80.6587,-120.326\"/>\n",
       "<polygon fill=\"black\" stroke=\"black\" points=\"80.8854,-123.826 90.8853,-120.326 80.8853,-116.826 80.8854,-123.826\"/>\n",
       "</g>\n",
       "<!-- St64 -->\n",
       "<g id=\"node2\" class=\"node\"><title>St64</title>\n",
       "<ellipse fill=\"none\" stroke=\"black\" cx=\"597.238\" cy=\"-62.3256\" rx=\"26.1523\" ry=\"26.1523\"/>\n",
       "<text text-anchor=\"middle\" x=\"597.238\" y=\"-58.1256\" font-family=\"Times,serif\" font-size=\"14.00\">St64</text>\n",
       "</g>\n",
       "<!-- St65 -->\n",
       "<g id=\"node14\" class=\"node\"><title>St65</title>\n",
       "<ellipse fill=\"none\" stroke=\"black\" cx=\"700.389\" cy=\"-101.326\" rx=\"26.1751\" ry=\"26.1751\"/>\n",
       "<ellipse fill=\"none\" stroke=\"black\" cx=\"700.389\" cy=\"-101.326\" rx=\"30.1522\" ry=\"30.1522\"/>\n",
       "<text text-anchor=\"middle\" x=\"700.389\" y=\"-97.1256\" font-family=\"Times,serif\" font-size=\"14.00\">St65</text>\n",
       "</g>\n",
       "<!-- St64&#45;&gt;St65 -->\n",
       "<g id=\"edge16\" class=\"edge\"><title>St64&#45;&gt;St65</title>\n",
       "<path fill=\"none\" stroke=\"black\" d=\"M621.954,-71.4694C633.983,-76.1073 648.867,-81.8463 662.363,-87.0495\"/>\n",
       "<polygon fill=\"black\" stroke=\"black\" points=\"661.293,-90.3883 671.883,-90.7202 663.812,-83.857 661.293,-90.3883\"/>\n",
       "<text text-anchor=\"middle\" x=\"646.814\" y=\"-86.1256\" font-family=\"Times,serif\" font-size=\"14.00\">1</text>\n",
       "</g>\n",
       "<!-- St40 -->\n",
       "<g id=\"node3\" class=\"node\"><title>St40</title>\n",
       "<ellipse fill=\"none\" stroke=\"black\" cx=\"597.238\" cy=\"-133.326\" rx=\"26.1523\" ry=\"26.1523\"/>\n",
       "<text text-anchor=\"middle\" x=\"597.238\" y=\"-129.126\" font-family=\"Times,serif\" font-size=\"14.00\">St40</text>\n",
       "</g>\n",
       "<!-- St40&#45;&gt;St65 -->\n",
       "<g id=\"edge17\" class=\"edge\"><title>St40&#45;&gt;St65</title>\n",
       "<path fill=\"none\" stroke=\"black\" d=\"M622.466,-125.661C634.11,-121.977 648.339,-117.476 661.378,-113.351\"/>\n",
       "<polygon fill=\"black\" stroke=\"black\" points=\"662.576,-116.643 671.054,-110.29 660.464,-109.969 662.576,-116.643\"/>\n",
       "<text text-anchor=\"middle\" x=\"646.814\" y=\"-136.126\" font-family=\"Times,serif\" font-size=\"14.00\">0 </text>\n",
       "<text text-anchor=\"middle\" x=\"646.814\" y=\"-122.126\" font-family=\"Times,serif\" font-size=\"14.00\"> 1</text>\n",
       "</g>\n",
       "<!-- St62 -->\n",
       "<g id=\"node4\" class=\"node\"><title>St62</title>\n",
       "<ellipse fill=\"none\" stroke=\"black\" cx=\"498.087\" cy=\"-62.3256\" rx=\"26.1523\" ry=\"26.1523\"/>\n",
       "<text text-anchor=\"middle\" x=\"498.087\" y=\"-58.1256\" font-family=\"Times,serif\" font-size=\"14.00\">St62</text>\n",
       "</g>\n",
       "<!-- St62&#45;&gt;St64 -->\n",
       "<g id=\"edge14\" class=\"edge\"><title>St62&#45;&gt;St64</title>\n",
       "<path fill=\"none\" stroke=\"black\" d=\"M524.612,-62.3256C535.657,-62.3256 548.771,-62.3256 560.74,-62.3256\"/>\n",
       "<polygon fill=\"black\" stroke=\"black\" points=\"560.883,-65.8257 570.883,-62.3256 560.883,-58.8257 560.883,-65.8257\"/>\n",
       "<text text-anchor=\"middle\" x=\"547.663\" y=\"-65.1256\" font-family=\"Times,serif\" font-size=\"14.00\">0</text>\n",
       "</g>\n",
       "<!-- St10 -->\n",
       "<g id=\"node5\" class=\"node\"><title>St10</title>\n",
       "<ellipse fill=\"none\" stroke=\"black\" cx=\"398.936\" cy=\"-158.326\" rx=\"26.1523\" ry=\"26.1523\"/>\n",
       "<text text-anchor=\"middle\" x=\"398.936\" y=\"-154.126\" font-family=\"Times,serif\" font-size=\"14.00\">St10</text>\n",
       "</g>\n",
       "<!-- St11 -->\n",
       "<g id=\"node13\" class=\"node\"><title>St11</title>\n",
       "<ellipse fill=\"none\" stroke=\"black\" cx=\"498.087\" cy=\"-133.326\" rx=\"26.0035\" ry=\"26.0035\"/>\n",
       "<text text-anchor=\"middle\" x=\"498.087\" y=\"-129.126\" font-family=\"Times,serif\" font-size=\"14.00\">St11</text>\n",
       "</g>\n",
       "<!-- St10&#45;&gt;St11 -->\n",
       "<g id=\"edge13\" class=\"edge\"><title>St10&#45;&gt;St11</title>\n",
       "<path fill=\"none\" stroke=\"black\" d=\"M424.702,-151.952C436.325,-148.962 450.363,-145.349 462.971,-142.105\"/>\n",
       "<polygon fill=\"black\" stroke=\"black\" points=\"463.89,-145.482 472.702,-139.601 462.145,-138.703 463.89,-145.482\"/>\n",
       "<text text-anchor=\"middle\" x=\"448.511\" y=\"-164.126\" font-family=\"Times,serif\" font-size=\"14.00\">0 </text>\n",
       "<text text-anchor=\"middle\" x=\"448.511\" y=\"-150.126\" font-family=\"Times,serif\" font-size=\"14.00\"> 1</text>\n",
       "</g>\n",
       "<!-- St61 -->\n",
       "<g id=\"node6\" class=\"node\"><title>St61</title>\n",
       "<ellipse fill=\"none\" stroke=\"black\" cx=\"398.936\" cy=\"-26.3256\" rx=\"26.1523\" ry=\"26.1523\"/>\n",
       "<text text-anchor=\"middle\" x=\"398.936\" y=\"-22.1256\" font-family=\"Times,serif\" font-size=\"14.00\">St61</text>\n",
       "</g>\n",
       "<!-- St61&#45;&gt;St62 -->\n",
       "<g id=\"edge12\" class=\"edge\"><title>St61&#45;&gt;St62</title>\n",
       "<path fill=\"none\" stroke=\"black\" d=\"M423.951,-35.2245C435.861,-39.638 450.445,-45.0422 463.447,-49.8603\"/>\n",
       "<polygon fill=\"black\" stroke=\"black\" points=\"462.418,-53.2115 473.012,-53.4043 464.851,-46.6477 462.418,-53.2115\"/>\n",
       "<text text-anchor=\"middle\" x=\"448.511\" y=\"-50.1256\" font-family=\"Times,serif\" font-size=\"14.00\">1</text>\n",
       "</g>\n",
       "<!-- St8 -->\n",
       "<g id=\"node7\" class=\"node\"><title>St8</title>\n",
       "<ellipse fill=\"none\" stroke=\"black\" cx=\"204.133\" cy=\"-150.326\" rx=\"21.8081\" ry=\"21.8081\"/>\n",
       "<text text-anchor=\"middle\" x=\"204.133\" y=\"-146.126\" font-family=\"Times,serif\" font-size=\"14.00\">St8</text>\n",
       "</g>\n",
       "<!-- St9 -->\n",
       "<g id=\"node8\" class=\"node\"><title>St9</title>\n",
       "<ellipse fill=\"none\" stroke=\"black\" cx=\"299.785\" cy=\"-158.326\" rx=\"21.8081\" ry=\"21.8081\"/>\n",
       "<text text-anchor=\"middle\" x=\"299.785\" y=\"-154.126\" font-family=\"Times,serif\" font-size=\"14.00\">St9</text>\n",
       "</g>\n",
       "<!-- St8&#45;&gt;St9 -->\n",
       "<g id=\"edge5\" class=\"edge\"><title>St8&#45;&gt;St9</title>\n",
       "<path fill=\"none\" stroke=\"black\" d=\"M226.384,-152.141C238.563,-153.181 254.071,-154.506 267.608,-155.662\"/>\n",
       "<polygon fill=\"black\" stroke=\"black\" points=\"267.679,-159.181 277.94,-156.545 268.275,-152.206 267.679,-159.181\"/>\n",
       "<text text-anchor=\"middle\" x=\"251.959\" y=\"-158.126\" font-family=\"Times,serif\" font-size=\"14.00\">1</text>\n",
       "</g>\n",
       "<!-- St25 -->\n",
       "<g id=\"node10\" class=\"node\"><title>St25</title>\n",
       "<ellipse fill=\"none\" stroke=\"black\" cx=\"299.785\" cy=\"-88.3256\" rx=\"26.1523\" ry=\"26.1523\"/>\n",
       "<text text-anchor=\"middle\" x=\"299.785\" y=\"-84.1256\" font-family=\"Times,serif\" font-size=\"14.00\">St25</text>\n",
       "</g>\n",
       "<!-- St8&#45;&gt;St25 -->\n",
       "<g id=\"edge4\" class=\"edge\"><title>St8&#45;&gt;St25</title>\n",
       "<path fill=\"none\" stroke=\"black\" d=\"M222.748,-138.664C235.682,-130.102 253.565,-118.262 268.739,-108.216\"/>\n",
       "<polygon fill=\"black\" stroke=\"black\" points=\"270.896,-110.986 277.303,-102.547 267.032,-105.149 270.896,-110.986\"/>\n",
       "<text text-anchor=\"middle\" x=\"251.959\" y=\"-124.126\" font-family=\"Times,serif\" font-size=\"14.00\">0</text>\n",
       "</g>\n",
       "<!-- St9&#45;&gt;St10 -->\n",
       "<g id=\"edge9\" class=\"edge\"><title>St9&#45;&gt;St10</title>\n",
       "<path fill=\"none\" stroke=\"black\" d=\"M321.865,-158.326C333.694,-158.326 348.767,-158.326 362.37,-158.326\"/>\n",
       "<polygon fill=\"black\" stroke=\"black\" points=\"362.408,-161.826 372.408,-158.326 362.408,-154.826 362.408,-161.826\"/>\n",
       "<text text-anchor=\"middle\" x=\"349.36\" y=\"-175.126\" font-family=\"Times,serif\" font-size=\"14.00\">0 </text>\n",
       "<text text-anchor=\"middle\" x=\"349.36\" y=\"-161.126\" font-family=\"Times,serif\" font-size=\"14.00\"> 1</text>\n",
       "</g>\n",
       "<!-- St24 -->\n",
       "<g id=\"node9\" class=\"node\"><title>St24</title>\n",
       "<ellipse fill=\"none\" stroke=\"black\" cx=\"204.133\" cy=\"-84.3256\" rx=\"26.1523\" ry=\"26.1523\"/>\n",
       "<text text-anchor=\"middle\" x=\"204.133\" y=\"-80.1256\" font-family=\"Times,serif\" font-size=\"14.00\">St24</text>\n",
       "</g>\n",
       "<!-- St24&#45;&gt;St25 -->\n",
       "<g id=\"edge6\" class=\"edge\"><title>St24&#45;&gt;St25</title>\n",
       "<path fill=\"none\" stroke=\"black\" d=\"M230.485,-84.5858C238.478,-84.7332 247.34,-84.9641 255.459,-85.3256 257.963,-85.4371 260.548,-85.5703 263.15,-85.7176\"/>\n",
       "<polygon fill=\"black\" stroke=\"black\" points=\"262.939,-89.2111 273.138,-86.3399 263.375,-82.2247 262.939,-89.2111\"/>\n",
       "<text text-anchor=\"middle\" x=\"251.959\" y=\"-88.1256\" font-family=\"Times,serif\" font-size=\"14.00\">1</text>\n",
       "</g>\n",
       "<!-- St25&#45;&gt;St61 -->\n",
       "<g id=\"edge8\" class=\"edge\"><title>St25&#45;&gt;St61</title>\n",
       "<path fill=\"none\" stroke=\"black\" d=\"M322.346,-74.5658C335.678,-66.0573 352.992,-55.008 367.684,-45.6314\"/>\n",
       "<polygon fill=\"black\" stroke=\"black\" points=\"369.888,-48.377 376.435,-40.0469 366.122,-42.4762 369.888,-48.377\"/>\n",
       "<text text-anchor=\"middle\" x=\"349.36\" y=\"-62.1256\" font-family=\"Times,serif\" font-size=\"14.00\">1</text>\n",
       "</g>\n",
       "<!-- St4 -->\n",
       "<g id=\"node12\" class=\"node\"><title>St4</title>\n",
       "<ellipse fill=\"none\" stroke=\"black\" cx=\"398.936\" cy=\"-92.3256\" rx=\"21.8081\" ry=\"21.8081\"/>\n",
       "<text text-anchor=\"middle\" x=\"398.936\" y=\"-88.1256\" font-family=\"Times,serif\" font-size=\"14.00\">St4</text>\n",
       "</g>\n",
       "<!-- St25&#45;&gt;St4 -->\n",
       "<g id=\"edge7\" class=\"edge\"><title>St25&#45;&gt;St4</title>\n",
       "<path fill=\"none\" stroke=\"black\" d=\"M326.31,-89.3766C338.608,-89.8829 353.472,-90.4949 366.464,-91.0298\"/>\n",
       "<polygon fill=\"black\" stroke=\"black\" points=\"366.705,-94.5426 376.84,-91.457 366.993,-87.5485 366.705,-94.5426\"/>\n",
       "<text text-anchor=\"middle\" x=\"349.36\" y=\"-94.1256\" font-family=\"Times,serif\" font-size=\"14.00\">0</text>\n",
       "</g>\n",
       "<!-- St1&#45;&gt;St8 -->\n",
       "<g id=\"edge2\" class=\"edge\"><title>St1&#45;&gt;St8</title>\n",
       "<path fill=\"none\" stroke=\"black\" d=\"M134.151,-127.133C145.674,-131.007 160.325,-135.933 173.158,-140.248\"/>\n",
       "<polygon fill=\"black\" stroke=\"black\" points=\"172.372,-143.676 182.966,-143.545 174.603,-137.041 172.372,-143.676\"/>\n",
       "<text text-anchor=\"middle\" x=\"156.308\" y=\"-138.126\" font-family=\"Times,serif\" font-size=\"14.00\">0</text>\n",
       "</g>\n",
       "<!-- St1&#45;&gt;St24 -->\n",
       "<g id=\"edge3\" class=\"edge\"><title>St1&#45;&gt;St24</title>\n",
       "<path fill=\"none\" stroke=\"black\" d=\"M133.707,-112.336C144.321,-108.054 157.683,-102.663 169.843,-97.7568\"/>\n",
       "<polygon fill=\"black\" stroke=\"black\" points=\"171.298,-100.944 179.262,-93.9567 168.679,-94.4524 171.298,-100.944\"/>\n",
       "<text text-anchor=\"middle\" x=\"156.308\" y=\"-108.126\" font-family=\"Times,serif\" font-size=\"14.00\">1</text>\n",
       "</g>\n",
       "<!-- St4&#45;&gt;St62 -->\n",
       "<g id=\"edge10\" class=\"edge\"><title>St4&#45;&gt;St62</title>\n",
       "<path fill=\"none\" stroke=\"black\" d=\"M420.066,-86.1096C432.439,-82.2888 448.614,-77.294 462.945,-72.8685\"/>\n",
       "<polygon fill=\"black\" stroke=\"black\" points=\"463.981,-76.2118 472.503,-69.9171 461.915,-69.5234 463.981,-76.2118\"/>\n",
       "<text text-anchor=\"middle\" x=\"448.511\" y=\"-81.1256\" font-family=\"Times,serif\" font-size=\"14.00\">0</text>\n",
       "</g>\n",
       "<!-- St4&#45;&gt;St11 -->\n",
       "<g id=\"edge11\" class=\"edge\"><title>St4&#45;&gt;St11</title>\n",
       "<path fill=\"none\" stroke=\"black\" d=\"M419.596,-100.623C432.422,-106.035 449.476,-113.233 464.321,-119.497\"/>\n",
       "<polygon fill=\"black\" stroke=\"black\" points=\"463.115,-122.788 473.689,-123.451 465.837,-116.338 463.115,-122.788\"/>\n",
       "<text text-anchor=\"middle\" x=\"448.511\" y=\"-118.126\" font-family=\"Times,serif\" font-size=\"14.00\">1</text>\n",
       "</g>\n",
       "<!-- St11&#45;&gt;St40 -->\n",
       "<g id=\"edge15\" class=\"edge\"><title>St11&#45;&gt;St40</title>\n",
       "<path fill=\"none\" stroke=\"black\" d=\"M524.106,-133.326C535.151,-133.326 548.339,-133.326 560.401,-133.326\"/>\n",
       "<polygon fill=\"black\" stroke=\"black\" points=\"560.627,-136.826 570.627,-133.326 560.627,-129.826 560.627,-136.826\"/>\n",
       "<text text-anchor=\"middle\" x=\"547.663\" y=\"-150.126\" font-family=\"Times,serif\" font-size=\"14.00\">0 </text>\n",
       "<text text-anchor=\"middle\" x=\"547.663\" y=\"-136.126\" font-family=\"Times,serif\" font-size=\"14.00\"> 1</text>\n",
       "</g>\n",
       "</g>\n",
       "</svg>\n"
      ],
      "text/plain": [
       "<graphviz.dot.Digraph at 0x1113f3080>"
      ]
     },
     "execution_count": 13,
     "metadata": {},
     "output_type": "execute_result"
    }
   ],
   "source": [
    "doGoodLTNoBH = dotObj_dfa(Dmix, FuseEdges=True)\n",
    "doGoodLTNoBH"
   ]
  },
  {
   "cell_type": "code",
   "execution_count": 14,
   "metadata": {
    "run_control": {
     "frozen": false,
     "read_only": false
    }
   },
   "outputs": [
    {
     "data": {
      "text/plain": [
       "'/Users/ganesh/repos/atmm/book/CH17/doGoodLTNoBH.dot.pdf'"
      ]
     },
     "execution_count": 14,
     "metadata": {},
     "output_type": "execute_result"
    }
   ],
   "source": [
    "doGoodLTNoBH.render('/Users/ganesh/repos/atmm/book/CH17/doGoodLTNoBH.dot')"
   ]
  },
  {
   "cell_type": "markdown",
   "metadata": {
    "run_control": {
     "frozen": false,
     "read_only": false
    }
   },
   "source": [
    "We see that this minimal DFA is much smaller. The reason is that as soon as an x2 comes, a y2 bit is fed. In a positional encoding of binary numbers, this allows a DFA to immediately decide whether X < Y for X = x2x1x0 and Y = y2y1y0. \n",
    "\n",
    "The DFA that sees x2,x1,x0,y2,y1,y0 on the other hand cannot take a decision until bit y2 comes along. This means that this DFA has to build a full tree after seeing merely x2,x1,x0 and this would already be exponential in size. "
   ]
  },
  {
   "cell_type": "markdown",
   "metadata": {
    "run_control": {
     "frozen": false,
     "read_only": false
    }
   },
   "source": [
    "This machine appears to be linearly sized w.r.t. the number of inputs. \n",
    "\n",
    "This DFA also acts as a representation of the \"<\" function.  State St1 is a function of all the six input bits. States St2 and St3 are functions of the five bits y2,x1,y1,x0,y0. In fact, the further we go away from the initial state, the lesser the remaining bits are in deciding the \"fate of the function\". But the bits come in an interleaved manner. \n",
    "\n",
    "Take St2 as representing a Boolean function: paths from it to the final state represent the on-set of a Boolean function of inputs y2,x1,y1,x0,y0 and paths leading to BH are in the off-set.\n"
   ]
  },
  {
   "cell_type": "markdown",
   "metadata": {
    "run_control": {
     "frozen": false,
     "read_only": false
    }
   },
   "source": [
    "## Boolean subfunctions in the DFA\n",
    "\n",
    "Each state of the minimal DFA obtained in this manner represents a Boolean function.\n"
   ]
  },
  {
   "cell_type": "markdown",
   "metadata": {
    "run_control": {
     "frozen": false,
     "read_only": false
    }
   },
   "source": [
    "# Building BDDs from minimal DFA for on-set languages\n",
    "\n",
    "A BDD is obtained from a minimal DFA by following some \"cleanup\" steps:\n",
    "\n",
    "* When a 0,1 jump is made from one state to the other, short-circuit the jump\n",
    " \n",
    "  - This means that whether a 0 or a 1 comes, we go to the same state. That is \n",
    "    a redundant binary decoding situation\n",
    "    \n",
    "* When we see two distinct nodes represent the same Boolean function, merge them\n",
    "\n",
    "   - This merging step is already being done during state minimization\n",
    "   \n",
    "Let us obtain BDDs using our BDD tool and then compare it with our minimal DFA to get an idea of what these optmizations do."
   ]
  },
  {
   "cell_type": "code",
   "execution_count": 15,
   "metadata": {
    "run_control": {
     "frozen": false,
     "read_only": false
    }
   },
   "outputs": [
    {
     "data": {
      "text/plain": [
       "True"
      ]
     },
     "execution_count": 15,
     "metadata": {},
     "output_type": "execute_result"
    }
   ],
   "source": [
    "import webbrowser\n",
    "\n",
    "# This is the URL for our BDD tool that can be opened on a new tab\n",
    "url = 'http://formal.cs.utah.edu:8080/pbl/BDD.php'\n",
    "webbrowser.open(url)"
   ]
  },
  {
   "cell_type": "markdown",
   "metadata": {
    "run_control": {
     "frozen": false,
     "read_only": false
    }
   },
   "source": [
    "```\n",
    "1) The BDD for XOR can be drawn as follows:\n",
    "\n",
    "Var_Order : x1 x0\n",
    " \n",
    "Main_Exp : x1 XOR x0\n",
    "\n",
    "\n",
    "2) The BDD for OR can be drawn as follows:\n",
    "\n",
    "Var_Order : x1 x0\n",
    " \n",
    "Main_Exp : x1 XOR x0\n",
    "\n",
    "\n",
    "\n",
    "3) The BDD for the comparator that uses the inefficient variable order can be drawn as follows.\n",
    "\n",
    "#3-bit comparator with the inefficient variable order\n",
    "#First declare the variables and specify variable orderings\n",
    "\n",
    "Var_Order : x2 x1 x0 y2 y1 y0\n",
    " \n",
    "Main_Exp : (!x2 & y2) | (x2 <=> y2) &  ( (!x1 & y1) | (x1 <=> y1) & (!x0 & y0) )\n",
    "\n",
    "4) The BDD for the comparator that uses the better variable order is easily obtained: simply change Var_Order\n",
    "\n",
    "Var_Order : x2 y2 x1 y1 x0 y0\n",
    "```\n",
    "\n",
    "You will be able to see these BDDs and be able to relate them to the aforesaid DFA.\n",
    "This material will be covered in Chapter 17 of our book."
   ]
  },
  {
   "cell_type": "markdown",
   "metadata": {
    "run_control": {
     "frozen": false,
     "read_only": false
    }
   },
   "source": [
    "** END **"
   ]
  },
  {
   "cell_type": "code",
   "execution_count": null,
   "metadata": {},
   "outputs": [],
   "source": []
  }
 ],
 "metadata": {
  "kernelspec": {
   "display_name": "Python 3",
   "language": "python",
   "name": "python3"
  },
  "language_info": {
   "codemirror_mode": {
    "name": "ipython",
    "version": 3
   },
   "file_extension": ".py",
   "mimetype": "text/x-python",
   "name": "python",
   "nbconvert_exporter": "python",
   "pygments_lexer": "ipython3",
   "version": "3.6.0"
  },
  "toc": {
   "colors": {
    "hover_highlight": "#DAA520",
    "running_highlight": "#FF0000",
    "selected_highlight": "#FFD700"
   },
   "moveMenuLeft": true,
   "nav_menu": {
    "height": "318px",
    "width": "252px"
   },
   "navigate_menu": true,
   "number_sections": true,
   "sideBar": true,
   "threshold": 4,
   "toc_cell": false,
   "toc_section_display": "block",
   "toc_window_display": false,
   "widenNotebook": false
  }
 },
 "nbformat": 4,
 "nbformat_minor": 2
}
