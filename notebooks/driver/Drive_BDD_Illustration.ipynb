{
 "cells": [
  {
   "cell_type": "code",
   "execution_count": 1,
   "metadata": {
    "run_control": {
     "frozen": false,
     "read_only": false
    }
   },
   "outputs": [
    {
     "name": "stdout",
     "output_type": "stream",
     "text": [
      "You may use any of these help commands:\n",
      "help(ResetStNum)\n",
      "help(NxtStateStr)\n",
      "\n",
      "You may use any of these help commands:\n",
      "help(mkp_dfa)\n",
      "help(mk_dfa)\n",
      "help(totalize_dfa)\n",
      "help(addtosigma_delta)\n",
      "help(step_dfa)\n",
      "help(run_dfa)\n",
      "help(accepts_dfa)\n",
      "help(comp_dfa)\n",
      "help(union_dfa)\n",
      "help(intersect_dfa)\n",
      "help(pruneUnreach)\n",
      "help(iso_dfa)\n",
      "help(langeq_dfa)\n",
      "help(same_status)\n",
      "help(h_langeq_dfa)\n",
      "help(fixptDist)\n",
      "help(min_dfa)\n",
      "help(pairFR)\n",
      "help(state_combos)\n",
      "help(sepFinNonFin)\n",
      "help(bash_eql_classes)\n",
      "help(listminus)\n",
      "help(bash_1)\n",
      "help(mk_rep_eqc)\n",
      "help(F_of)\n",
      "help(rep_of_s)\n",
      "help(q0_of)\n",
      "help(Delta_of)\n",
      "help(mk_state_eqc_name)\n",
      "\n",
      "You may use any of these help commands:\n",
      "help(mk_nfa)\n",
      "help(totalize_nfa)\n",
      "help(step_nfa)\n",
      "help(run_nfa)\n",
      "help(ec_step_nfa)\n",
      "help(Eclosure)\n",
      "help(Echelp)\n",
      "help(accepts_nfa)\n",
      "help(nfa2dfa)\n",
      "help(n2d)\n",
      "help(inSets)\n",
      "help(rev_dfa)\n",
      "help(min_dfa_brz)\n",
      "\n",
      "You may use any of these help commands:\n",
      "help(re2nfa)\n",
      "\n",
      "You may use any of these help commands:\n",
      "help(RE2Str)\n",
      "help(mk_gnfa)\n",
      "help(mk_gnfa_from_D)\n",
      "help(dfa2nfa)\n",
      "help(del_gnfa_states)\n",
      "help(gnfa_w_REStr)\n",
      "help(del_one_gnfa_state)\n",
      "help(Edges_Exist_Via)\n",
      "help(choose_state_to_del)\n",
      "help(form_alt_RE)\n",
      "help(form_concat_RE)\n",
      "help(form_kleene_RE)\n",
      "\n",
      "You may use any of these help commands:\n",
      "help(md2mc)\n",
      ".. and if you want to dig more, then ..\n",
      "help(default_line_attr)\n",
      "help(length_ok_input_items)\n",
      "help(union_line_attr_list_fld)\n",
      "help(extend_rsltdict)\n",
      "help(form_delta)\n",
      "help(get_machine_components)\n",
      "\n"
     ]
    }
   ],
   "source": [
    "import sys\n",
    "sys.path[0:0] = ['../..','../../3rdparty'] # Put these at the head of the search path\n",
    "from jove.StateNameSanitizers import *\n",
    "from jove.DotBashers import *\n",
    "from jove.Def_DFA import *\n",
    "from jove.Def_NFA import *\n",
    "from jove.Def_RE2NFA import *\n",
    "from jove.Def_NFA2RE import *\n",
    "from jove.Def_md2mc import *"
   ]
  },
  {
   "cell_type": "markdown",
   "metadata": {
    "run_control": {
     "frozen": false,
     "read_only": false
    }
   },
   "source": [
    "** IMPORTANT NOTE: RESTART AND RUN ALL CELLS SO THAT THE STATES GET NUMBERED\n",
    "CORRECTLY AS PER THE EMBEDDED DESCRIPTIONS IN THIS NOTEBOOK **"
   ]
  },
  {
   "cell_type": "code",
   "execution_count": 2,
   "metadata": {
    "run_control": {
     "frozen": false,
     "read_only": false
    }
   },
   "outputs": [
    {
     "data": {
      "text/plain": [
       "0"
      ]
     },
     "execution_count": 2,
     "metadata": {},
     "output_type": "execute_result"
    }
   ],
   "source": [
    "# Reset the state numbering counter\n",
    "ResetStNum()"
   ]
  },
  {
   "cell_type": "markdown",
   "metadata": {
    "run_control": {
     "frozen": false,
     "read_only": false
    }
   },
   "source": [
    " # BDDs: Efficient Data Stuctures for Boolean Function Representation\n",
    " \n",
    " Boolean functions occur widely in computer science. In order to represent and manipulate large Boolean\n",
    " functions, one must choose good data structures. A data structure called BDDs often works well. In fact,\n",
    " Prof. Donald Knuth [has said](https://en.wikipedia.org/wiki/Binary_decision_diagram)  in his lecture\n",
    " _Fun With Binary Decision Diagrams_  that BDDs are\"one of the only really fundamental data structures \n",
    " that came out in the last twenty-five years.\"\n",
    " \n",
    " We are studying BDDs in our book because BDDs are nothing but a small variant of \n",
    " minimal DFAs for a simple language that one\n",
    " can obtain from a given Boolean function. Given that we have studied minimal\n",
    " DFAs extensively, it looks quite opportune to point out yet another amazing connection\n",
    " in computer science -- specifically, the study of Boolean functions being another application of minimal DFA.\n",
    " \n",
    " In this narrative, we will cover all the required basics one by one; we assume very little by the way of\n",
    " prerequisites."
   ]
  },
  {
   "cell_type": "markdown",
   "metadata": {
    "run_control": {
     "frozen": false,
     "read_only": false
    }
   },
   "source": [
    "## Boolean functions, and viewing their on-sets as formal languages"
   ]
  },
  {
   "cell_type": "markdown",
   "metadata": {
    "run_control": {
     "frozen": false,
     "read_only": false
    }
   },
   "source": [
    "A Boolean function f(x1,x0) admits a truth-table of four entries with the\n",
    "truth-table output (called \"personality\") defining the function for the\n",
    "standard order of enumeration of x0 and x1. For AND, taking the inputs \n",
    "x1,x0 through 00, 01, 10 and 11, the outputs of AND are 0001 (the string\n",
    "0001 is its personality). The personality has $2^2$ bits (for a $2$-input\n",
    "Boolean function). There are $2^{2^2} = 16$ personalities for a $2$-input\n",
    "Boolean function. Each personality defines a Boolean function; thus, there\n",
    "are $16$ possible Boolean functions.\n",
    "\n",
    "Here are personalities of some common functions: \n",
    "\n",
    "```\n",
    " Inputs  Personalities\n",
    "----------------------\n",
    "| x1 x0 | OR XOR NOR |\n",
    "----------------------\n",
    "| 0  0  | 0  0   1   |\n",
    "| 0  1  | 1  1   0   |\n",
    "| 1  0  | 1  1   0   |\n",
    "| 1  1  | 1  0   0   |\n",
    "----------------------\n",
    "```\n",
    "\n",
    "In general, an $N$-input truth-table has $2^N$ \n",
    "truth-table rows and a personality of length $2^N$, thus admitting $2^{2^N}$\n",
    "Boolean functions of $N$ inputs.\n",
    "\n",
    "It is impractical (and insane) to be building truth-tables for Boolean functions with\n",
    "many inputs. Even a $64$-input Boolean function will have a truth-table of $2^{64}$ rows.\n",
    "Suppose we want to even print one such truth-table. At 80 rows printed per sheet of paper and\n",
    "five grams of weight per sheet, we will need 46-billion tons of paper to print. Even a \n",
    "newborn human baby would be dead of ripe old age by the time this many pages are printed.\n",
    "\n",
    "Yet, there is a method by which _many_ 64-input Boolean functions can be exactly\n",
    "represented using alternative representations than truth-tables. (To emphasize this a bit,\n",
    "not all functions can be so represented, but it works for many Boolean functions occurring in practice.)\n",
    "\n",
    "One such representation is called a Binary Decision Diagram.\n",
    "\n",
    "Binary Decision Diagrams (BDD) are graph structures that summarize a Boolean function's\n",
    "on-sets (sets of inputs for which the function is true). The on-set of the AND function\n",
    "is {11} while that for the OR function is {01, 10, 11}.\n",
    "\n",
    "One can read on-sets as a formal language. The language of an OR-gate is thus {01, 10, 11}\n",
    "(its on-set) and the language of (the on-set of) an AND-gate is {11}."
   ]
  },
  {
   "cell_type": "markdown",
   "metadata": {
    "run_control": {
     "frozen": false,
     "read_only": false
    }
   },
   "source": [
    "## Minimal DFA for the on-set of an XOR and OR\n",
    "\n",
    "In order to drive the point home with respect to how minimal DFA can be made to encode\n",
    "the on-set of functions, let us build a minimal DFA for the language of XOR's on-set and also OR's on-set."
   ]
  },
  {
   "cell_type": "code",
   "execution_count": 3,
   "metadata": {
    "run_control": {
     "frozen": false,
     "read_only": false
    }
   },
   "outputs": [
    {
     "name": "stderr",
     "output_type": "stream",
     "text": [
      "Generating LALR tables\n"
     ]
    },
    {
     "data": {
      "image/svg+xml": [
       "<?xml version=\"1.0\" encoding=\"UTF-8\" standalone=\"no\"?>\n",
       "<!DOCTYPE svg PUBLIC \"-//W3C//DTD SVG 1.1//EN\"\n",
       " \"http://www.w3.org/Graphics/SVG/1.1/DTD/svg11.dtd\">\n",
       "<!-- Generated by graphviz version 2.38.0 (20140413.2041)\n",
       " -->\n",
       "<!-- Title: %3 Pages: 1 -->\n",
       "<svg width=\"324pt\" height=\"114pt\"\n",
       " viewBox=\"0.00 0.00 324.42 113.81\" xmlns=\"http://www.w3.org/2000/svg\" xmlns:xlink=\"http://www.w3.org/1999/xlink\">\n",
       "<g id=\"graph0\" class=\"graph\" transform=\"scale(1 1) rotate(0) translate(4 109.808)\">\n",
       "<title>%3</title>\n",
       "<polygon fill=\"white\" stroke=\"none\" points=\"-4,4 -4,-109.808 320.423,-109.808 320.423,4 -4,4\"/>\n",
       "<!-- EMPTY -->\n",
       "<g id=\"node1\" class=\"node\"><title>EMPTY</title>\n",
       "</g>\n",
       "<!-- St1 -->\n",
       "<g id=\"node3\" class=\"node\"><title>St1</title>\n",
       "<ellipse fill=\"none\" stroke=\"black\" cx=\"112.904\" cy=\"-54.9039\" rx=\"21.8081\" ry=\"21.8081\"/>\n",
       "<text text-anchor=\"middle\" x=\"112.904\" y=\"-50.7039\" font-family=\"Times,serif\" font-size=\"14.00\">St1</text>\n",
       "</g>\n",
       "<!-- EMPTY&#45;&gt;St1 -->\n",
       "<g id=\"edge1\" class=\"edge\"><title>EMPTY&#45;&gt;St1</title>\n",
       "<path fill=\"none\" stroke=\"black\" d=\"M54.0878,-54.9039C62.501,-54.9039 71.9126,-54.9039 80.6587,-54.9039\"/>\n",
       "<polygon fill=\"black\" stroke=\"black\" points=\"80.8854,-58.404 90.8853,-54.9039 80.8853,-51.404 80.8854,-58.404\"/>\n",
       "</g>\n",
       "<!-- St4 -->\n",
       "<g id=\"node2\" class=\"node\"><title>St4</title>\n",
       "<ellipse fill=\"none\" stroke=\"black\" cx=\"199.712\" cy=\"-83.9039\" rx=\"21.8081\" ry=\"21.8081\"/>\n",
       "<text text-anchor=\"middle\" x=\"199.712\" y=\"-79.7039\" font-family=\"Times,serif\" font-size=\"14.00\">St4</text>\n",
       "</g>\n",
       "<!-- St3 -->\n",
       "<g id=\"node5\" class=\"node\"><title>St3</title>\n",
       "<ellipse fill=\"none\" stroke=\"black\" cx=\"290.519\" cy=\"-54.9039\" rx=\"21.8229\" ry=\"21.8229\"/>\n",
       "<ellipse fill=\"none\" stroke=\"black\" cx=\"290.519\" cy=\"-54.9039\" rx=\"25.8081\" ry=\"25.8081\"/>\n",
       "<text text-anchor=\"middle\" x=\"290.519\" y=\"-50.7039\" font-family=\"Times,serif\" font-size=\"14.00\">St3</text>\n",
       "</g>\n",
       "<!-- St4&#45;&gt;St3 -->\n",
       "<g id=\"edge5\" class=\"edge\"><title>St4&#45;&gt;St3</title>\n",
       "<path fill=\"none\" stroke=\"black\" d=\"M220.863,-77.3233C231.259,-73.9288 244.212,-69.699 256.057,-65.831\"/>\n",
       "<polygon fill=\"black\" stroke=\"black\" points=\"257.246,-69.1245 265.666,-62.6932 255.073,-62.4703 257.246,-69.1245\"/>\n",
       "<text text-anchor=\"middle\" x=\"243.115\" y=\"-73.7039\" font-family=\"Times,serif\" font-size=\"14.00\">0</text>\n",
       "</g>\n",
       "<!-- St1&#45;&gt;St4 -->\n",
       "<g id=\"edge3\" class=\"edge\"><title>St1&#45;&gt;St4</title>\n",
       "<path fill=\"none\" stroke=\"black\" d=\"M134.002,-61.7765C144.458,-65.3519 157.444,-69.7924 169.032,-73.755\"/>\n",
       "<polygon fill=\"black\" stroke=\"black\" points=\"168.163,-77.1567 178.758,-77.0806 170.428,-70.5332 168.163,-77.1567\"/>\n",
       "<text text-anchor=\"middle\" x=\"156.308\" y=\"-72.7039\" font-family=\"Times,serif\" font-size=\"14.00\">1</text>\n",
       "</g>\n",
       "<!-- St2 -->\n",
       "<g id=\"node4\" class=\"node\"><title>St2</title>\n",
       "<ellipse fill=\"none\" stroke=\"black\" cx=\"199.712\" cy=\"-21.9039\" rx=\"21.8081\" ry=\"21.8081\"/>\n",
       "<text text-anchor=\"middle\" x=\"199.712\" y=\"-17.7039\" font-family=\"Times,serif\" font-size=\"14.00\">St2</text>\n",
       "</g>\n",
       "<!-- St1&#45;&gt;St2 -->\n",
       "<g id=\"edge2\" class=\"edge\"><title>St1&#45;&gt;St2</title>\n",
       "<path fill=\"none\" stroke=\"black\" d=\"M133.574,-47.2501C144.277,-43.085 157.725,-37.8523 169.618,-33.2245\"/>\n",
       "<polygon fill=\"black\" stroke=\"black\" points=\"171.098,-36.4043 179.149,-29.5162 168.56,-29.8808 171.098,-36.4043\"/>\n",
       "<text text-anchor=\"middle\" x=\"156.308\" y=\"-42.7039\" font-family=\"Times,serif\" font-size=\"14.00\">0</text>\n",
       "</g>\n",
       "<!-- St2&#45;&gt;St3 -->\n",
       "<g id=\"edge4\" class=\"edge\"><title>St2&#45;&gt;St3</title>\n",
       "<path fill=\"none\" stroke=\"black\" d=\"M220.421,-29.2276C231.066,-33.1832 244.487,-38.1703 256.663,-42.6949\"/>\n",
       "<polygon fill=\"black\" stroke=\"black\" points=\"255.492,-45.9933 266.085,-46.1957 257.93,-39.4317 255.492,-45.9933\"/>\n",
       "<text text-anchor=\"middle\" x=\"243.115\" y=\"-41.7039\" font-family=\"Times,serif\" font-size=\"14.00\">1</text>\n",
       "</g>\n",
       "</g>\n",
       "</svg>\n"
      ],
      "text/plain": [
       "<graphviz.dot.Digraph at 0x1025f9898>"
      ]
     },
     "execution_count": 3,
     "metadata": {},
     "output_type": "execute_result"
    }
   ],
   "source": [
    "L_XOR = \"(01+10)\"\n",
    "dotObj_dfa(min_dfa(nfa2dfa(re2nfa(L_XOR))), STATENAME_MAXSIZE=4)"
   ]
  },
  {
   "cell_type": "code",
   "execution_count": 4,
   "metadata": {
    "run_control": {
     "frozen": false,
     "read_only": false
    }
   },
   "outputs": [
    {
     "name": "stderr",
     "output_type": "stream",
     "text": [
      "Generating LALR tables\n"
     ]
    }
   ],
   "source": [
    "doXOR = dotObj_dfa(min_dfa(nfa2dfa(re2nfa(L_XOR))), STATENAME_MAXSIZE=4)"
   ]
  },
  {
   "cell_type": "code",
   "execution_count": 5,
   "metadata": {
    "run_control": {
     "frozen": false,
     "read_only": false
    }
   },
   "outputs": [
    {
     "data": {
      "text/plain": [
       "'/Users/ganesh/repos/atmm/book/CH17/XORdfaNoBH.dot.pdf'"
      ]
     },
     "execution_count": 5,
     "metadata": {},
     "output_type": "execute_result"
    }
   ],
   "source": [
    "doXOR.render('/Users/ganesh/repos/atmm/book/CH17/XORdfaNoBH.dot')"
   ]
  },
  {
   "cell_type": "markdown",
   "metadata": {
    "run_control": {
     "frozen": false,
     "read_only": false
    }
   },
   "source": [
    "It is easy to see that both 01 and 10 lead to the final state, namely St8, whereas 00 and 11 go to BH. Also excessively long inputs (of length more than two) also go to BH."
   ]
  },
  {
   "cell_type": "code",
   "execution_count": 6,
   "metadata": {
    "run_control": {
     "frozen": false,
     "read_only": false
    }
   },
   "outputs": [
    {
     "name": "stderr",
     "output_type": "stream",
     "text": [
      "Generating LALR tables\n"
     ]
    },
    {
     "data": {
      "image/svg+xml": [
       "<?xml version=\"1.0\" encoding=\"UTF-8\" standalone=\"no\"?>\n",
       "<!DOCTYPE svg PUBLIC \"-//W3C//DTD SVG 1.1//EN\"\n",
       " \"http://www.w3.org/Graphics/SVG/1.1/DTD/svg11.dtd\">\n",
       "<!-- Generated by graphviz version 2.38.0 (20140413.2041)\n",
       " -->\n",
       "<!-- Title: %3 Pages: 1 -->\n",
       "<svg width=\"324pt\" height=\"114pt\"\n",
       " viewBox=\"0.00 0.00 324.42 113.81\" xmlns=\"http://www.w3.org/2000/svg\" xmlns:xlink=\"http://www.w3.org/1999/xlink\">\n",
       "<g id=\"graph0\" class=\"graph\" transform=\"scale(1 1) rotate(0) translate(4 109.808)\">\n",
       "<title>%3</title>\n",
       "<polygon fill=\"white\" stroke=\"none\" points=\"-4,4 -4,-109.808 320.423,-109.808 320.423,4 -4,4\"/>\n",
       "<!-- EMPTY -->\n",
       "<g id=\"node1\" class=\"node\"><title>EMPTY</title>\n",
       "</g>\n",
       "<!-- St1 -->\n",
       "<g id=\"node3\" class=\"node\"><title>St1</title>\n",
       "<ellipse fill=\"none\" stroke=\"black\" cx=\"112.904\" cy=\"-54.9039\" rx=\"21.8081\" ry=\"21.8081\"/>\n",
       "<text text-anchor=\"middle\" x=\"112.904\" y=\"-50.7039\" font-family=\"Times,serif\" font-size=\"14.00\">St1</text>\n",
       "</g>\n",
       "<!-- EMPTY&#45;&gt;St1 -->\n",
       "<g id=\"edge1\" class=\"edge\"><title>EMPTY&#45;&gt;St1</title>\n",
       "<path fill=\"none\" stroke=\"black\" d=\"M54.0878,-54.9039C62.501,-54.9039 71.9126,-54.9039 80.6587,-54.9039\"/>\n",
       "<polygon fill=\"black\" stroke=\"black\" points=\"80.8854,-58.404 90.8853,-54.9039 80.8853,-51.404 80.8854,-58.404\"/>\n",
       "</g>\n",
       "<!-- St4 -->\n",
       "<g id=\"node2\" class=\"node\"><title>St4</title>\n",
       "<ellipse fill=\"none\" stroke=\"black\" cx=\"199.712\" cy=\"-83.9039\" rx=\"21.8081\" ry=\"21.8081\"/>\n",
       "<text text-anchor=\"middle\" x=\"199.712\" y=\"-79.7039\" font-family=\"Times,serif\" font-size=\"14.00\">St4</text>\n",
       "</g>\n",
       "<!-- St3 -->\n",
       "<g id=\"node5\" class=\"node\"><title>St3</title>\n",
       "<ellipse fill=\"none\" stroke=\"black\" cx=\"290.519\" cy=\"-46.9039\" rx=\"21.8229\" ry=\"21.8229\"/>\n",
       "<ellipse fill=\"none\" stroke=\"black\" cx=\"290.519\" cy=\"-46.9039\" rx=\"25.8081\" ry=\"25.8081\"/>\n",
       "<text text-anchor=\"middle\" x=\"290.519\" y=\"-42.7039\" font-family=\"Times,serif\" font-size=\"14.00\">St3</text>\n",
       "</g>\n",
       "<!-- St4&#45;&gt;St3 -->\n",
       "<g id=\"edge4\" class=\"edge\"><title>St4&#45;&gt;St3</title>\n",
       "<path fill=\"none\" stroke=\"black\" d=\"M220.421,-75.6924C231.146,-71.2238 244.69,-65.5809 256.94,-60.4775\"/>\n",
       "<polygon fill=\"black\" stroke=\"black\" points=\"258.522,-63.6099 266.407,-56.5331 255.83,-57.1482 258.522,-63.6099\"/>\n",
       "<text text-anchor=\"middle\" x=\"243.115\" y=\"-70.7039\" font-family=\"Times,serif\" font-size=\"14.00\">1</text>\n",
       "</g>\n",
       "<!-- St1&#45;&gt;St4 -->\n",
       "<g id=\"edge2\" class=\"edge\"><title>St1&#45;&gt;St4</title>\n",
       "<path fill=\"none\" stroke=\"black\" d=\"M134.002,-61.7765C144.458,-65.3519 157.444,-69.7924 169.032,-73.755\"/>\n",
       "<polygon fill=\"black\" stroke=\"black\" points=\"168.163,-77.1567 178.758,-77.0806 170.428,-70.5332 168.163,-77.1567\"/>\n",
       "<text text-anchor=\"middle\" x=\"156.308\" y=\"-73.7039\" font-family=\"Times,serif\" font-size=\"14.00\">0</text>\n",
       "</g>\n",
       "<!-- St2 -->\n",
       "<g id=\"node4\" class=\"node\"><title>St2</title>\n",
       "<ellipse fill=\"none\" stroke=\"black\" cx=\"199.712\" cy=\"-21.9039\" rx=\"21.8081\" ry=\"21.8081\"/>\n",
       "<text text-anchor=\"middle\" x=\"199.712\" y=\"-17.7039\" font-family=\"Times,serif\" font-size=\"14.00\">St2</text>\n",
       "</g>\n",
       "<!-- St1&#45;&gt;St2 -->\n",
       "<g id=\"edge3\" class=\"edge\"><title>St1&#45;&gt;St2</title>\n",
       "<path fill=\"none\" stroke=\"black\" d=\"M133.574,-47.2501C144.277,-43.085 157.725,-37.8523 169.618,-33.2245\"/>\n",
       "<polygon fill=\"black\" stroke=\"black\" points=\"171.098,-36.4043 179.149,-29.5162 168.56,-29.8808 171.098,-36.4043\"/>\n",
       "<text text-anchor=\"middle\" x=\"156.308\" y=\"-42.7039\" font-family=\"Times,serif\" font-size=\"14.00\">1</text>\n",
       "</g>\n",
       "<!-- St2&#45;&gt;St3 -->\n",
       "<g id=\"edge5\" class=\"edge\"><title>St2&#45;&gt;St3</title>\n",
       "<path fill=\"none\" stroke=\"black\" d=\"M221.309,-27.7022C231.455,-30.5582 243.954,-34.0769 255.47,-37.3186\"/>\n",
       "<polygon fill=\"black\" stroke=\"black\" points=\"254.678,-40.7317 265.252,-40.0725 256.575,-33.9936 254.678,-40.7317\"/>\n",
       "<text text-anchor=\"middle\" x=\"243.115\" y=\"-37.7039\" font-family=\"Times,serif\" font-size=\"14.00\">0</text>\n",
       "</g>\n",
       "<!-- St2&#45;&gt;St3 -->\n",
       "<g id=\"edge6\" class=\"edge\"><title>St2&#45;&gt;St3</title>\n",
       "<path fill=\"none\" stroke=\"black\" d=\"M220.718,-15.5278C228.896,-13.8828 238.357,-13.2324 246.615,-15.9039 252.08,-17.6715 257.434,-20.4238 262.405,-23.5746\"/>\n",
       "<polygon fill=\"black\" stroke=\"black\" points=\"260.691,-26.6487 270.881,-29.5498 264.724,-20.9274 260.691,-26.6487\"/>\n",
       "<text text-anchor=\"middle\" x=\"243.115\" y=\"-18.7039\" font-family=\"Times,serif\" font-size=\"14.00\">1</text>\n",
       "</g>\n",
       "</g>\n",
       "</svg>\n"
      ],
      "text/plain": [
       "<graphviz.dot.Digraph at 0x1025f94a8>"
      ]
     },
     "execution_count": 6,
     "metadata": {},
     "output_type": "execute_result"
    }
   ],
   "source": [
    "L_OR = \"(01+10+11)\"\n",
    "dotObj_dfa(min_dfa(nfa2dfa(re2nfa(L_OR))), STATENAME_MAXSIZE=4)"
   ]
  },
  {
   "cell_type": "code",
   "execution_count": 7,
   "metadata": {
    "run_control": {
     "frozen": false,
     "read_only": false
    }
   },
   "outputs": [
    {
     "name": "stderr",
     "output_type": "stream",
     "text": [
      "Generating LALR tables\n"
     ]
    }
   ],
   "source": [
    "doOR = dotObj_dfa(min_dfa(nfa2dfa(re2nfa(L_OR))), STATENAME_MAXSIZE=4)"
   ]
  },
  {
   "cell_type": "code",
   "execution_count": 8,
   "metadata": {
    "run_control": {
     "frozen": false,
     "read_only": false
    }
   },
   "outputs": [
    {
     "data": {
      "text/plain": [
       "'/Users/ganesh/repos/atmm/book/CH17/ORdfaNoBH.dot.pdf'"
      ]
     },
     "execution_count": 8,
     "metadata": {},
     "output_type": "execute_result"
    }
   ],
   "source": [
    "doOR.render('/Users/ganesh/repos/atmm/book/CH17/ORdfaNoBH.dot')"
   ]
  },
  {
   "cell_type": "markdown",
   "metadata": {
    "run_control": {
     "frozen": false,
     "read_only": false
    }
   },
   "source": [
    "One can build BDDs corresponding to these functions as will be describe in the book. Also see the section at the end on building BDDs.\n",
    "\n",
    "It is easy to compare the BDDs to these minimal DFA and note the following:\n",
    "\n",
    "* The minimal DFA keep edges marked 0/1 . The BDD eliminates such \"redundant decoding\" edges, short-circuiting the graph at those edges\n",
    "\n",
    "* The minimal DFA shows what happens when strings with excessive lengths are fed. The BDD stops with a ``0'' node or a ``1'' node at the leaf, and does not carry on to show what happens when an excessively long string is fed.\n",
    "\n",
    "* The BDD does show the BH state as the ``0'' node.\n",
    "\n",
    "So far, the advantage of minimal DFA (or BDD) over truth-tables hasn't been quite apparent. We now proceed to demonstrate that for larger functions, with the right decoding order of the variables, BDDs (and minimal DFA) can indeed be far more compact (whereas truth-tables are guaranteed exponential)"
   ]
  },
  {
   "cell_type": "markdown",
   "metadata": {
    "run_control": {
     "frozen": false,
     "read_only": false
    }
   },
   "source": [
    "## Building minimal DFA for the language of on-sets"
   ]
  },
  {
   "cell_type": "markdown",
   "metadata": {
    "run_control": {
     "frozen": false,
     "read_only": false
    }
   },
   "source": [
    "Suppose there is a 6-input Boolean function modeling a magnitude comparator that \n",
    "compares the binary value coming in through input ports x2,x1,x0 against the binary\n",
    "value coming through ports y2,y1,y0.\n",
    "\n",
    "The function is \"<\" where \"A < B\" means the usual \"less than\" comparison.\n",
    "\n",
    "More specifically, we write \"x2,x1,x0 < y2,y1,y0\" and we interpret the word x2,x1,x0\n",
    "using the standard positional binary notation (likewise also for y2,y1,y0).\n",
    "\n",
    "Here are some examples:\n",
    "\n",
    "* 000 < 001  because 0 is < 1  (and 0 is encoded in binary as 000 and 1 as 001)\n",
    "\n",
    "* 010 < 110  because 2 is < 6  (and 2 is encoded as 010 while 6 is encoded as 110)\n",
    "\n",
    "* 110 < 111  because 6 < 7\n",
    "\n",
    "```\n",
    "Here is a circuit schematic of such a comparator:\n",
    "\n",
    "      --------\n",
    "      |      |\n",
    "x2 -->|      |\n",
    "x1 -->|      |\n",
    "x0 -->|      |\n",
    "      |   <  |--> Output\n",
    "y2 -->|      |\n",
    "y1 -->|      |\n",
    "y0 -->|      |\n",
    "      |      |\n",
    "      --------\n",
    "\n",
    "\n",
    "```\n",
    "\n",
    "Let us now define a language of strings of length 6 representing the values of \n",
    "x2,x1,x0,y2,y1,y0 written adjacently, such that for those x,y values, the function\n",
    "outputs a 1. Call this language L.\n",
    "\n",
    "For instance, L contains 010101 because 010 is < 101 (i.e. 2 < 5)\n",
    "\n",
    "The reader may verify that this is the full L language written out as a regular expression.\n",
    "Of the $2^6 = 64$ strings, we have 28 strings in L's language. The regular expression for L is called R, and is defined below:\n",
    "\n",
    "```\n",
    "R =     \"(000001+000011+000111+001011+001111+\\\n",
    "          010011+010111+011111+100101+100111+\\\n",
    "          101111+110111+000010+000101+000110+\\\n",
    "          001010+001101+001110+010101+010110+\\\n",
    "          011101+011110+100110+101110+000100+\\\n",
    "          001100+010100+011100)\"\n",
    "```\n",
    "\n",
    "Let us build a minimal DFA for R."
   ]
  },
  {
   "cell_type": "code",
   "execution_count": 9,
   "metadata": {
    "run_control": {
     "frozen": false,
     "read_only": false
    }
   },
   "outputs": [
    {
     "name": "stderr",
     "output_type": "stream",
     "text": [
      "Generating LALR tables\n"
     ]
    },
    {
     "data": {
      "image/svg+xml": [
       "<?xml version=\"1.0\" encoding=\"UTF-8\" standalone=\"no\"?>\n",
       "<!DOCTYPE svg PUBLIC \"-//W3C//DTD SVG 1.1//EN\"\n",
       " \"http://www.w3.org/Graphics/SVG/1.1/DTD/svg11.dtd\">\n",
       "<!-- Generated by graphviz version 2.38.0 (20140413.2041)\n",
       " -->\n",
       "<!-- Title: %3 Pages: 1 -->\n",
       "<svg width=\"723pt\" height=\"477pt\"\n",
       " viewBox=\"0.00 0.00 722.87 476.65\" xmlns=\"http://www.w3.org/2000/svg\" xmlns:xlink=\"http://www.w3.org/1999/xlink\">\n",
       "<g id=\"graph0\" class=\"graph\" transform=\"scale(1 1) rotate(0) translate(4 472.651)\">\n",
       "<title>%3</title>\n",
       "<polygon fill=\"white\" stroke=\"none\" points=\"-4,4 -4,-472.651 718.871,-472.651 718.871,4 -4,4\"/>\n",
       "<!-- EMPTY -->\n",
       "<g id=\"node1\" class=\"node\"><title>EMPTY</title>\n",
       "</g>\n",
       "<!-- St1 -->\n",
       "<g id=\"node15\" class=\"node\"><title>St1</title>\n",
       "<ellipse fill=\"none\" stroke=\"black\" cx=\"112.904\" cy=\"-168.326\" rx=\"21.8081\" ry=\"21.8081\"/>\n",
       "<text text-anchor=\"middle\" x=\"112.904\" y=\"-164.126\" font-family=\"Times,serif\" font-size=\"14.00\">St1</text>\n",
       "</g>\n",
       "<!-- EMPTY&#45;&gt;St1 -->\n",
       "<g id=\"edge1\" class=\"edge\"><title>EMPTY&#45;&gt;St1</title>\n",
       "<path fill=\"none\" stroke=\"black\" d=\"M54.0878,-168.326C62.501,-168.326 71.9126,-168.326 80.6587,-168.326\"/>\n",
       "<polygon fill=\"black\" stroke=\"black\" points=\"80.8854,-171.826 90.8853,-168.326 80.8853,-164.826 80.8854,-171.826\"/>\n",
       "</g>\n",
       "<!-- St6 -->\n",
       "<g id=\"node2\" class=\"node\"><title>St6</title>\n",
       "<ellipse fill=\"none\" stroke=\"black\" cx=\"585.816\" cy=\"-189.326\" rx=\"21.8081\" ry=\"21.8081\"/>\n",
       "<text text-anchor=\"middle\" x=\"585.816\" y=\"-185.126\" font-family=\"Times,serif\" font-size=\"14.00\">St6</text>\n",
       "</g>\n",
       "<!-- St29 -->\n",
       "<g id=\"node22\" class=\"node\"><title>St29</title>\n",
       "<ellipse fill=\"none\" stroke=\"black\" cx=\"684.546\" cy=\"-226.326\" rx=\"26.1751\" ry=\"26.1751\"/>\n",
       "<ellipse fill=\"none\" stroke=\"black\" cx=\"684.546\" cy=\"-226.326\" rx=\"30.1522\" ry=\"30.1522\"/>\n",
       "<text text-anchor=\"middle\" x=\"684.546\" y=\"-222.126\" font-family=\"Times,serif\" font-size=\"14.00\">St29</text>\n",
       "</g>\n",
       "<!-- St6&#45;&gt;St29 -->\n",
       "<g id=\"edge30\" class=\"edge\"><title>St6&#45;&gt;St29</title>\n",
       "<path fill=\"none\" stroke=\"black\" d=\"M606.859,-196.992C618.258,-201.352 632.899,-206.953 646.327,-212.089\"/>\n",
       "<polygon fill=\"black\" stroke=\"black\" points=\"645.237,-215.419 655.827,-215.723 647.737,-208.881 645.237,-215.419\"/>\n",
       "<text text-anchor=\"middle\" x=\"630.97\" y=\"-211.126\" font-family=\"Times,serif\" font-size=\"14.00\">1</text>\n",
       "</g>\n",
       "<!-- St9 -->\n",
       "<g id=\"node3\" class=\"node\"><title>St9</title>\n",
       "<ellipse fill=\"none\" stroke=\"black\" cx=\"585.816\" cy=\"-257.326\" rx=\"21.8081\" ry=\"21.8081\"/>\n",
       "<text text-anchor=\"middle\" x=\"585.816\" y=\"-253.126\" font-family=\"Times,serif\" font-size=\"14.00\">St9</text>\n",
       "</g>\n",
       "<!-- St9&#45;&gt;St29 -->\n",
       "<g id=\"edge31\" class=\"edge\"><title>St9&#45;&gt;St29</title>\n",
       "<path fill=\"none\" stroke=\"black\" d=\"M606.859,-250.902C618.059,-247.313 632.389,-242.72 645.623,-238.479\"/>\n",
       "<polygon fill=\"black\" stroke=\"black\" points=\"647.005,-241.712 655.46,-235.327 644.869,-235.046 647.005,-241.712\"/>\n",
       "<text text-anchor=\"middle\" x=\"630.97\" y=\"-262.126\" font-family=\"Times,serif\" font-size=\"14.00\">0 </text>\n",
       "<text text-anchor=\"middle\" x=\"630.97\" y=\"-248.126\" font-family=\"Times,serif\" font-size=\"14.00\"> 1</text>\n",
       "</g>\n",
       "<!-- St17 -->\n",
       "<g id=\"node4\" class=\"node\"><title>St17</title>\n",
       "<ellipse fill=\"none\" stroke=\"black\" cx=\"395.436\" cy=\"-26.3256\" rx=\"26.1523\" ry=\"26.1523\"/>\n",
       "<text text-anchor=\"middle\" x=\"395.436\" y=\"-22.1256\" font-family=\"Times,serif\" font-size=\"14.00\">St17</text>\n",
       "</g>\n",
       "<!-- St19 -->\n",
       "<g id=\"node19\" class=\"node\"><title>St19</title>\n",
       "<ellipse fill=\"none\" stroke=\"black\" cx=\"491.087\" cy=\"-118.326\" rx=\"26.1523\" ry=\"26.1523\"/>\n",
       "<text text-anchor=\"middle\" x=\"491.087\" y=\"-114.126\" font-family=\"Times,serif\" font-size=\"14.00\">St19</text>\n",
       "</g>\n",
       "<!-- St17&#45;&gt;St19 -->\n",
       "<g id=\"edge24\" class=\"edge\"><title>St17&#45;&gt;St19</title>\n",
       "<path fill=\"none\" stroke=\"black\" d=\"M418.316,-39.9292C427.571,-46.187 438.173,-54.0537 446.761,-62.3256 454.88,-70.1447 462.741,-79.5471 469.487,-88.3953\"/>\n",
       "<polygon fill=\"black\" stroke=\"black\" points=\"466.825,-90.6816 475.586,-96.6391 472.452,-86.5183 466.825,-90.6816\"/>\n",
       "<text text-anchor=\"middle\" x=\"443.261\" y=\"-65.1256\" font-family=\"Times,serif\" font-size=\"14.00\">1</text>\n",
       "</g>\n",
       "<!-- St12 -->\n",
       "<g id=\"node5\" class=\"node\"><title>St12</title>\n",
       "<ellipse fill=\"none\" stroke=\"black\" cx=\"395.436\" cy=\"-371.326\" rx=\"26.1523\" ry=\"26.1523\"/>\n",
       "<text text-anchor=\"middle\" x=\"395.436\" y=\"-367.126\" font-family=\"Times,serif\" font-size=\"14.00\">St12</text>\n",
       "</g>\n",
       "<!-- St13 -->\n",
       "<g id=\"node18\" class=\"node\"><title>St13</title>\n",
       "<ellipse fill=\"none\" stroke=\"black\" cx=\"491.087\" cy=\"-368.326\" rx=\"26.1523\" ry=\"26.1523\"/>\n",
       "<text text-anchor=\"middle\" x=\"491.087\" y=\"-364.126\" font-family=\"Times,serif\" font-size=\"14.00\">St13</text>\n",
       "</g>\n",
       "<!-- St12&#45;&gt;St13 -->\n",
       "<g id=\"edge23\" class=\"edge\"><title>St12&#45;&gt;St13</title>\n",
       "<path fill=\"none\" stroke=\"black\" d=\"M422.09,-370.03C427.9,-369.767 434.042,-369.514 439.761,-369.326 444.584,-369.166 449.668,-369.029 454.676,-368.912\"/>\n",
       "<polygon fill=\"black\" stroke=\"black\" points=\"454.816,-372.41 464.74,-368.699 454.668,-365.412 454.816,-372.41\"/>\n",
       "<text text-anchor=\"middle\" x=\"443.261\" y=\"-372.126\" font-family=\"Times,serif\" font-size=\"14.00\">1</text>\n",
       "</g>\n",
       "<!-- St24 -->\n",
       "<g id=\"node6\" class=\"node\"><title>St24</title>\n",
       "<ellipse fill=\"none\" stroke=\"black\" cx=\"491.087\" cy=\"-189.326\" rx=\"26.1523\" ry=\"26.1523\"/>\n",
       "<text text-anchor=\"middle\" x=\"491.087\" y=\"-185.126\" font-family=\"Times,serif\" font-size=\"14.00\">St24</text>\n",
       "</g>\n",
       "<!-- St24&#45;&gt;St6 -->\n",
       "<g id=\"edge25\" class=\"edge\"><title>St24&#45;&gt;St6</title>\n",
       "<path fill=\"none\" stroke=\"black\" d=\"M517.426,-189.326C528.593,-189.326 541.825,-189.326 553.594,-189.326\"/>\n",
       "<polygon fill=\"black\" stroke=\"black\" points=\"553.89,-192.826 563.89,-189.326 553.89,-185.826 553.89,-192.826\"/>\n",
       "<text text-anchor=\"middle\" x=\"540.663\" y=\"-192.126\" font-family=\"Times,serif\" font-size=\"14.00\">0</text>\n",
       "</g>\n",
       "<!-- St24&#45;&gt;St9 -->\n",
       "<g id=\"edge26\" class=\"edge\"><title>St24&#45;&gt;St9</title>\n",
       "<path fill=\"none\" stroke=\"black\" d=\"M512.667,-204.417C526.494,-214.557 544.807,-227.986 559.523,-238.777\"/>\n",
       "<polygon fill=\"black\" stroke=\"black\" points=\"557.577,-241.69 567.71,-244.782 561.716,-236.046 557.577,-241.69\"/>\n",
       "<text text-anchor=\"middle\" x=\"540.663\" y=\"-233.126\" font-family=\"Times,serif\" font-size=\"14.00\">1</text>\n",
       "</g>\n",
       "<!-- St32 -->\n",
       "<g id=\"node7\" class=\"node\"><title>St32</title>\n",
       "<ellipse fill=\"none\" stroke=\"black\" cx=\"395.436\" cy=\"-442.326\" rx=\"26.1523\" ry=\"26.1523\"/>\n",
       "<text text-anchor=\"middle\" x=\"395.436\" y=\"-438.126\" font-family=\"Times,serif\" font-size=\"14.00\">St32</text>\n",
       "</g>\n",
       "<!-- St27 -->\n",
       "<g id=\"node14\" class=\"node\"><title>St27</title>\n",
       "<ellipse fill=\"none\" stroke=\"black\" cx=\"491.087\" cy=\"-263.326\" rx=\"26.1523\" ry=\"26.1523\"/>\n",
       "<text text-anchor=\"middle\" x=\"491.087\" y=\"-259.126\" font-family=\"Times,serif\" font-size=\"14.00\">St27</text>\n",
       "</g>\n",
       "<!-- St32&#45;&gt;St27 -->\n",
       "<g id=\"edge18\" class=\"edge\"><title>St32&#45;&gt;St27</title>\n",
       "<path fill=\"none\" stroke=\"black\" d=\"M414.867,-424.262C425.333,-413.21 438.043,-398.346 446.761,-383.326 458.617,-362.899 456.744,-355.541 464.761,-333.326 468.969,-321.667 473.578,-308.919 477.698,-297.535\"/>\n",
       "<polygon fill=\"black\" stroke=\"black\" points=\"481.057,-298.537 481.17,-287.943 474.475,-296.155 481.057,-298.537\"/>\n",
       "<text text-anchor=\"middle\" x=\"443.261\" y=\"-396.126\" font-family=\"Times,serif\" font-size=\"14.00\">1</text>\n",
       "</g>\n",
       "<!-- St32&#45;&gt;St13 -->\n",
       "<g id=\"edge17\" class=\"edge\"><title>St32&#45;&gt;St13</title>\n",
       "<path fill=\"none\" stroke=\"black\" d=\"M420.717,-434.361C429.415,-430.845 438.984,-426.166 446.761,-420.326 455.147,-414.028 462.952,-405.801 469.562,-397.755\"/>\n",
       "<polygon fill=\"black\" stroke=\"black\" points=\"472.343,-399.881 475.75,-389.849 466.83,-395.566 472.343,-399.881\"/>\n",
       "<text text-anchor=\"middle\" x=\"443.261\" y=\"-427.126\" font-family=\"Times,serif\" font-size=\"14.00\">0</text>\n",
       "</g>\n",
       "<!-- St3 -->\n",
       "<g id=\"node8\" class=\"node\"><title>St3</title>\n",
       "<ellipse fill=\"none\" stroke=\"black\" cx=\"299.785\" cy=\"-124.326\" rx=\"21.8081\" ry=\"21.8081\"/>\n",
       "<text text-anchor=\"middle\" x=\"299.785\" y=\"-120.126\" font-family=\"Times,serif\" font-size=\"14.00\">St3</text>\n",
       "</g>\n",
       "<!-- St3&#45;&gt;St12 -->\n",
       "<g id=\"edge13\" class=\"edge\"><title>St3&#45;&gt;St12</title>\n",
       "<path fill=\"none\" stroke=\"black\" d=\"M319.768,-133.577C330.849,-140.031 344.007,-149.741 351.11,-162.326 389.108,-229.646 341.996,-262.933 369.11,-335.326 370.057,-337.855 371.226,-340.372 372.536,-342.832\"/>\n",
       "<polygon fill=\"black\" stroke=\"black\" points=\"369.571,-344.692 377.763,-351.411 375.549,-341.05 369.571,-344.692\"/>\n",
       "<text text-anchor=\"middle\" x=\"347.61\" y=\"-165.126\" font-family=\"Times,serif\" font-size=\"14.00\">1</text>\n",
       "</g>\n",
       "<!-- St4 -->\n",
       "<g id=\"node20\" class=\"node\"><title>St4</title>\n",
       "<ellipse fill=\"none\" stroke=\"black\" cx=\"395.436\" cy=\"-92.3256\" rx=\"21.8081\" ry=\"21.8081\"/>\n",
       "<text text-anchor=\"middle\" x=\"395.436\" y=\"-88.1256\" font-family=\"Times,serif\" font-size=\"14.00\">St4</text>\n",
       "</g>\n",
       "<!-- St3&#45;&gt;St4 -->\n",
       "<g id=\"edge12\" class=\"edge\"><title>St3&#45;&gt;St4</title>\n",
       "<path fill=\"none\" stroke=\"black\" d=\"M318.766,-113.162C326.347,-108.89 335.417,-104.328 344.11,-101.326 350.276,-99.1962 357.05,-97.5477 363.575,-96.2794\"/>\n",
       "<polygon fill=\"black\" stroke=\"black\" points=\"364.23,-99.7182 373.499,-94.585 363.052,-92.8181 364.23,-99.7182\"/>\n",
       "<text text-anchor=\"middle\" x=\"347.61\" y=\"-104.126\" font-family=\"Times,serif\" font-size=\"14.00\">0</text>\n",
       "</g>\n",
       "<!-- St49 -->\n",
       "<g id=\"node9\" class=\"node\"><title>St49</title>\n",
       "<ellipse fill=\"none\" stroke=\"black\" cx=\"395.436\" cy=\"-229.326\" rx=\"26.1523\" ry=\"26.1523\"/>\n",
       "<text text-anchor=\"middle\" x=\"395.436\" y=\"-225.126\" font-family=\"Times,serif\" font-size=\"14.00\">St49</text>\n",
       "</g>\n",
       "<!-- St49&#45;&gt;St27 -->\n",
       "<g id=\"edge21\" class=\"edge\"><title>St49&#45;&gt;St27</title>\n",
       "<path fill=\"none\" stroke=\"black\" d=\"M420.553,-238.081C431.477,-242.047 444.576,-246.803 456.445,-251.112\"/>\n",
       "<polygon fill=\"black\" stroke=\"black\" points=\"455.457,-254.477 466.051,-254.599 457.846,-247.897 455.457,-254.477\"/>\n",
       "<text text-anchor=\"middle\" x=\"443.261\" y=\"-251.126\" font-family=\"Times,serif\" font-size=\"14.00\">1</text>\n",
       "</g>\n",
       "<!-- St22 -->\n",
       "<g id=\"node10\" class=\"node\"><title>St22</title>\n",
       "<ellipse fill=\"none\" stroke=\"black\" cx=\"299.785\" cy=\"-300.326\" rx=\"26.1523\" ry=\"26.1523\"/>\n",
       "<text text-anchor=\"middle\" x=\"299.785\" y=\"-296.126\" font-family=\"Times,serif\" font-size=\"14.00\">St22</text>\n",
       "</g>\n",
       "<!-- St22&#45;&gt;St32 -->\n",
       "<g id=\"edge9\" class=\"edge\"><title>St22&#45;&gt;St32</title>\n",
       "<path fill=\"none\" stroke=\"black\" d=\"M314.66,-322.42C328.286,-343.982 349.783,-377.635 369.11,-406.326 370.53,-408.433 372.008,-410.6 373.505,-412.776\"/>\n",
       "<polygon fill=\"black\" stroke=\"black\" points=\"370.712,-414.89 379.293,-421.104 376.46,-410.895 370.712,-414.89\"/>\n",
       "<text text-anchor=\"middle\" x=\"347.61\" y=\"-381.126\" font-family=\"Times,serif\" font-size=\"14.00\">1</text>\n",
       "</g>\n",
       "<!-- St23 -->\n",
       "<g id=\"node17\" class=\"node\"><title>St23</title>\n",
       "<ellipse fill=\"none\" stroke=\"black\" cx=\"395.436\" cy=\"-300.326\" rx=\"26.1523\" ry=\"26.1523\"/>\n",
       "<text text-anchor=\"middle\" x=\"395.436\" y=\"-296.126\" font-family=\"Times,serif\" font-size=\"14.00\">St23</text>\n",
       "</g>\n",
       "<!-- St22&#45;&gt;St23 -->\n",
       "<g id=\"edge8\" class=\"edge\"><title>St22&#45;&gt;St23</title>\n",
       "<path fill=\"none\" stroke=\"black\" d=\"M326.375,-300.326C336.389,-300.326 348.047,-300.326 358.855,-300.326\"/>\n",
       "<polygon fill=\"black\" stroke=\"black\" points=\"358.876,-303.826 368.876,-300.326 358.876,-296.826 358.876,-303.826\"/>\n",
       "<text text-anchor=\"middle\" x=\"347.61\" y=\"-303.126\" font-family=\"Times,serif\" font-size=\"14.00\">0</text>\n",
       "</g>\n",
       "<!-- St8 -->\n",
       "<g id=\"node11\" class=\"node\"><title>St8</title>\n",
       "<ellipse fill=\"none\" stroke=\"black\" cx=\"204.133\" cy=\"-124.326\" rx=\"21.8081\" ry=\"21.8081\"/>\n",
       "<text text-anchor=\"middle\" x=\"204.133\" y=\"-120.126\" font-family=\"Times,serif\" font-size=\"14.00\">St8</text>\n",
       "</g>\n",
       "<!-- St8&#45;&gt;St3 -->\n",
       "<g id=\"edge6\" class=\"edge\"><title>St8&#45;&gt;St3</title>\n",
       "<path fill=\"none\" stroke=\"black\" d=\"M226.384,-124.326C238.478,-124.326 253.855,-124.326 267.324,-124.326\"/>\n",
       "<polygon fill=\"black\" stroke=\"black\" points=\"267.618,-127.826 277.618,-124.326 267.618,-120.826 267.618,-127.826\"/>\n",
       "<text text-anchor=\"middle\" x=\"251.959\" y=\"-127.126\" font-family=\"Times,serif\" font-size=\"14.00\">0</text>\n",
       "</g>\n",
       "<!-- St16 -->\n",
       "<g id=\"node16\" class=\"node\"><title>St16</title>\n",
       "<ellipse fill=\"none\" stroke=\"black\" cx=\"299.785\" cy=\"-50.3256\" rx=\"26.1523\" ry=\"26.1523\"/>\n",
       "<text text-anchor=\"middle\" x=\"299.785\" y=\"-46.1256\" font-family=\"Times,serif\" font-size=\"14.00\">St16</text>\n",
       "</g>\n",
       "<!-- St8&#45;&gt;St16 -->\n",
       "<g id=\"edge7\" class=\"edge\"><title>St8&#45;&gt;St16</title>\n",
       "<path fill=\"none\" stroke=\"black\" d=\"M221.876,-111.096C235.407,-100.405 254.748,-85.1216 270.65,-72.5569\"/>\n",
       "<polygon fill=\"black\" stroke=\"black\" points=\"272.926,-75.2189 278.602,-66.2729 268.586,-69.7266 272.926,-75.2189\"/>\n",
       "<text text-anchor=\"middle\" x=\"251.959\" y=\"-93.1256\" font-family=\"Times,serif\" font-size=\"14.00\">1</text>\n",
       "</g>\n",
       "<!-- St18 -->\n",
       "<g id=\"node12\" class=\"node\"><title>St18</title>\n",
       "<ellipse fill=\"none\" stroke=\"black\" cx=\"204.133\" cy=\"-203.326\" rx=\"26.1523\" ry=\"26.1523\"/>\n",
       "<text text-anchor=\"middle\" x=\"204.133\" y=\"-199.126\" font-family=\"Times,serif\" font-size=\"14.00\">St18</text>\n",
       "</g>\n",
       "<!-- St18&#45;&gt;St22 -->\n",
       "<g id=\"edge4\" class=\"edge\"><title>St18&#45;&gt;St22</title>\n",
       "<path fill=\"none\" stroke=\"black\" d=\"M223.19,-222.028C237.571,-236.923 257.863,-257.941 273.803,-274.45\"/>\n",
       "<polygon fill=\"black\" stroke=\"black\" points=\"271.319,-276.917 280.783,-281.68 276.355,-272.055 271.319,-276.917\"/>\n",
       "<text text-anchor=\"middle\" x=\"251.959\" y=\"-258.126\" font-family=\"Times,serif\" font-size=\"14.00\">0</text>\n",
       "</g>\n",
       "<!-- St41 -->\n",
       "<g id=\"node21\" class=\"node\"><title>St41</title>\n",
       "<ellipse fill=\"none\" stroke=\"black\" cx=\"299.785\" cy=\"-203.326\" rx=\"26.1523\" ry=\"26.1523\"/>\n",
       "<text text-anchor=\"middle\" x=\"299.785\" y=\"-199.126\" font-family=\"Times,serif\" font-size=\"14.00\">St41</text>\n",
       "</g>\n",
       "<!-- St18&#45;&gt;St41 -->\n",
       "<g id=\"edge5\" class=\"edge\"><title>St18&#45;&gt;St41</title>\n",
       "<path fill=\"none\" stroke=\"black\" d=\"M230.724,-203.326C240.738,-203.326 252.396,-203.326 263.204,-203.326\"/>\n",
       "<polygon fill=\"black\" stroke=\"black\" points=\"263.225,-206.826 273.225,-203.326 263.225,-199.826 263.225,-206.826\"/>\n",
       "<text text-anchor=\"middle\" x=\"251.959\" y=\"-206.126\" font-family=\"Times,serif\" font-size=\"14.00\">1</text>\n",
       "</g>\n",
       "<!-- St42 -->\n",
       "<g id=\"node13\" class=\"node\"><title>St42</title>\n",
       "<ellipse fill=\"none\" stroke=\"black\" cx=\"395.436\" cy=\"-158.326\" rx=\"26.1523\" ry=\"26.1523\"/>\n",
       "<text text-anchor=\"middle\" x=\"395.436\" y=\"-154.126\" font-family=\"Times,serif\" font-size=\"14.00\">St42</text>\n",
       "</g>\n",
       "<!-- St42&#45;&gt;St27 -->\n",
       "<g id=\"edge20\" class=\"edge\"><title>St42&#45;&gt;St27</title>\n",
       "<path fill=\"none\" stroke=\"black\" d=\"M413.613,-177.584C428.306,-194.058 449.615,-217.949 466.01,-236.331\"/>\n",
       "<polygon fill=\"black\" stroke=\"black\" points=\"463.433,-238.7 472.702,-243.833 468.657,-234.041 463.433,-238.7\"/>\n",
       "<text text-anchor=\"middle\" x=\"443.261\" y=\"-217.126\" font-family=\"Times,serif\" font-size=\"14.00\">1</text>\n",
       "</g>\n",
       "<!-- St42&#45;&gt;St19 -->\n",
       "<g id=\"edge19\" class=\"edge\"><title>St42&#45;&gt;St19</title>\n",
       "<path fill=\"none\" stroke=\"black\" d=\"M420.068,-148.232C431.27,-143.447 444.842,-137.651 457.043,-132.439\"/>\n",
       "<polygon fill=\"black\" stroke=\"black\" points=\"458.641,-135.563 466.462,-128.416 455.891,-129.125 458.641,-135.563\"/>\n",
       "<text text-anchor=\"middle\" x=\"443.261\" y=\"-143.126\" font-family=\"Times,serif\" font-size=\"14.00\">0</text>\n",
       "</g>\n",
       "<!-- St27&#45;&gt;St9 -->\n",
       "<g id=\"edge27\" class=\"edge\"><title>St27&#45;&gt;St9</title>\n",
       "<path fill=\"none\" stroke=\"black\" d=\"M517.426,-261.686C528.593,-260.964 541.825,-260.107 553.594,-259.346\"/>\n",
       "<polygon fill=\"black\" stroke=\"black\" points=\"554.137,-262.818 563.89,-258.68 553.685,-255.833 554.137,-262.818\"/>\n",
       "<text text-anchor=\"middle\" x=\"540.663\" y=\"-278.126\" font-family=\"Times,serif\" font-size=\"14.00\">0 </text>\n",
       "<text text-anchor=\"middle\" x=\"540.663\" y=\"-264.126\" font-family=\"Times,serif\" font-size=\"14.00\"> 1</text>\n",
       "</g>\n",
       "<!-- St1&#45;&gt;St8 -->\n",
       "<g id=\"edge3\" class=\"edge\"><title>St1&#45;&gt;St8</title>\n",
       "<path fill=\"none\" stroke=\"black\" d=\"M132.827,-158.994C145.13,-152.927 161.388,-144.911 175.17,-138.115\"/>\n",
       "<polygon fill=\"black\" stroke=\"black\" points=\"176.816,-141.205 184.237,-133.643 173.721,-134.927 176.816,-141.205\"/>\n",
       "<text text-anchor=\"middle\" x=\"156.308\" y=\"-152.126\" font-family=\"Times,serif\" font-size=\"14.00\">1</text>\n",
       "</g>\n",
       "<!-- St1&#45;&gt;St18 -->\n",
       "<g id=\"edge2\" class=\"edge\"><title>St1&#45;&gt;St18</title>\n",
       "<path fill=\"none\" stroke=\"black\" d=\"M133.707,-176.093C144.321,-180.257 157.683,-185.498 169.843,-190.268\"/>\n",
       "<polygon fill=\"black\" stroke=\"black\" points=\"168.674,-193.569 179.262,-193.962 171.23,-187.052 168.674,-193.569\"/>\n",
       "<text text-anchor=\"middle\" x=\"156.308\" y=\"-189.126\" font-family=\"Times,serif\" font-size=\"14.00\">0</text>\n",
       "</g>\n",
       "<!-- St16&#45;&gt;St17 -->\n",
       "<g id=\"edge14\" class=\"edge\"><title>St16&#45;&gt;St17</title>\n",
       "<path fill=\"none\" stroke=\"black\" d=\"M325.39,-44.0199C335.953,-41.313 348.479,-38.1028 359.944,-35.1648\"/>\n",
       "<polygon fill=\"black\" stroke=\"black\" points=\"360.851,-38.5455 369.669,-32.6725 359.113,-31.7646 360.851,-38.5455\"/>\n",
       "<text text-anchor=\"middle\" x=\"347.61\" y=\"-42.1256\" font-family=\"Times,serif\" font-size=\"14.00\">0</text>\n",
       "</g>\n",
       "<!-- St23&#45;&gt;St24 -->\n",
       "<g id=\"edge15\" class=\"edge\"><title>St23&#45;&gt;St24</title>\n",
       "<path fill=\"none\" stroke=\"black\" d=\"M412.57,-280.188C415.986,-275.216 419.299,-269.754 421.761,-264.326 435.743,-233.501 413.358,-211.504 439.761,-190.326 444.15,-186.806 449.513,-184.993 455.084,-184.251\"/>\n",
       "<polygon fill=\"black\" stroke=\"black\" points=\"455.284,-187.747 465.17,-183.935 455.065,-180.75 455.284,-187.747\"/>\n",
       "<text text-anchor=\"middle\" x=\"443.261\" y=\"-193.126\" font-family=\"Times,serif\" font-size=\"14.00\">0</text>\n",
       "</g>\n",
       "<!-- St23&#45;&gt;St27 -->\n",
       "<g id=\"edge16\" class=\"edge\"><title>St23&#45;&gt;St27</title>\n",
       "<path fill=\"none\" stroke=\"black\" d=\"M420.068,-290.989C431.27,-286.563 444.842,-281.201 457.043,-276.381\"/>\n",
       "<polygon fill=\"black\" stroke=\"black\" points=\"458.448,-279.589 466.462,-272.659 455.876,-273.079 458.448,-279.589\"/>\n",
       "<text text-anchor=\"middle\" x=\"443.261\" y=\"-286.126\" font-family=\"Times,serif\" font-size=\"14.00\">1</text>\n",
       "</g>\n",
       "<!-- St13&#45;&gt;St9 -->\n",
       "<g id=\"edge28\" class=\"edge\"><title>St13&#45;&gt;St9</title>\n",
       "<path fill=\"none\" stroke=\"black\" d=\"M508.665,-348.481C524.324,-329.737 547.843,-301.583 564.597,-281.529\"/>\n",
       "<polygon fill=\"black\" stroke=\"black\" points=\"567.373,-283.665 571.098,-273.747 562.001,-279.177 567.373,-283.665\"/>\n",
       "<text text-anchor=\"middle\" x=\"540.663\" y=\"-319.126\" font-family=\"Times,serif\" font-size=\"14.00\">1</text>\n",
       "</g>\n",
       "<!-- St19&#45;&gt;St6 -->\n",
       "<g id=\"edge29\" class=\"edge\"><title>St19&#45;&gt;St6</title>\n",
       "<path fill=\"none\" stroke=\"black\" d=\"M512.667,-134.083C526.583,-144.738 545.043,-158.873 559.807,-170.177\"/>\n",
       "<polygon fill=\"black\" stroke=\"black\" points=\"557.943,-173.157 568.01,-176.458 562.198,-167.599 557.943,-173.157\"/>\n",
       "<text text-anchor=\"middle\" x=\"540.663\" y=\"-163.126\" font-family=\"Times,serif\" font-size=\"14.00\">1</text>\n",
       "</g>\n",
       "<!-- St4&#45;&gt;St24 -->\n",
       "<g id=\"edge22\" class=\"edge\"><title>St4&#45;&gt;St24</title>\n",
       "<path fill=\"none\" stroke=\"black\" d=\"M416.355,-99.7241C426.402,-104.214 438.232,-110.749 446.761,-119.326 458.818,-131.449 455.825,-138.749 464.761,-153.326 466.089,-155.492 467.5,-157.703 468.948,-159.91\"/>\n",
       "<polygon fill=\"black\" stroke=\"black\" points=\"466.128,-161.987 474.634,-168.304 471.924,-158.061 466.128,-161.987\"/>\n",
       "<text text-anchor=\"middle\" x=\"443.261\" y=\"-122.126\" font-family=\"Times,serif\" font-size=\"14.00\">1</text>\n",
       "</g>\n",
       "<!-- St41&#45;&gt;St49 -->\n",
       "<g id=\"edge11\" class=\"edge\"><title>St41&#45;&gt;St49</title>\n",
       "<path fill=\"none\" stroke=\"black\" d=\"M325.39,-210.157C336.037,-213.113 348.678,-216.622 360.217,-219.825\"/>\n",
       "<polygon fill=\"black\" stroke=\"black\" points=\"359.422,-223.237 369.994,-222.54 361.295,-216.492 359.422,-223.237\"/>\n",
       "<text text-anchor=\"middle\" x=\"347.61\" y=\"-220.126\" font-family=\"Times,serif\" font-size=\"14.00\">1</text>\n",
       "</g>\n",
       "<!-- St41&#45;&gt;St42 -->\n",
       "<g id=\"edge10\" class=\"edge\"><title>St41&#45;&gt;St42</title>\n",
       "<path fill=\"none\" stroke=\"black\" d=\"M323.934,-192.202C335.416,-186.685 349.474,-179.93 362.008,-173.907\"/>\n",
       "<polygon fill=\"black\" stroke=\"black\" points=\"363.73,-176.963 371.228,-169.477 360.698,-170.654 363.73,-176.963\"/>\n",
       "<text text-anchor=\"middle\" x=\"347.61\" y=\"-185.126\" font-family=\"Times,serif\" font-size=\"14.00\">0</text>\n",
       "</g>\n",
       "</g>\n",
       "</svg>\n"
      ],
      "text/plain": [
       "<graphviz.dot.Digraph at 0x1011a1668>"
      ]
     },
     "execution_count": 9,
     "metadata": {},
     "output_type": "execute_result"
    }
   ],
   "source": [
    "R =     \"(000001+000011+000111+001011+001111+\\\n",
    "          010011+010111+011111+100101+100111+\\\n",
    "          101111+110111+000010+000101+000110+\\\n",
    "          001010+001101+001110+010101+010110+\\\n",
    "          011101+011110+100110+101110+000100+\\\n",
    "          001100+010100+011100)\"\n",
    "N      = re2nfa(R)\n",
    "Dbloat = nfa2dfa(N)\n",
    "D      = min_dfa(Dbloat)\n",
    "doBadLTNoBH = dotObj_dfa(D, FuseEdges=True)\n",
    "doBadLTNoBH"
   ]
  },
  {
   "cell_type": "code",
   "execution_count": 10,
   "metadata": {
    "run_control": {
     "frozen": false,
     "read_only": false
    }
   },
   "outputs": [
    {
     "data": {
      "text/plain": [
       "'/Users/ganesh/repos/atmm/book/CH17/doBadLTNoBH.dot.pdf'"
      ]
     },
     "execution_count": 10,
     "metadata": {},
     "output_type": "execute_result"
    }
   ],
   "source": [
    "doBadLTNoBH.render('/Users/ganesh/repos/atmm/book/CH17/doBadLTNoBH.dot')"
   ]
  },
  {
   "cell_type": "markdown",
   "metadata": {
    "run_control": {
     "frozen": false,
     "read_only": false
    }
   },
   "source": [
    "This machine appears to be rather large -- in fact exponential in the x2,x1,x0 bits (those are the first three bits to arrive at this machine, and the machine grows exponentially with respect to these inputs). It then collapses soon as soon as the y bits come in.\n",
    "\n",
    "Size aside, this DFA acts as a representation of the \"<\" function. Take the starting state: all paths from it leading to the final state are in the on-set of this function; any path of length six that goes to the BH state is in the off-set of this function. Strings of length greater than six can be entertained, but they have no meaning with respect to our problem that involves only six variables. \n",
    "\n",
    "Let us take an example. String 001100 is accepted. Here is the accepting path:\n",
    "\n",
    "* St1 --0--> St18 --0--> St22 --1--> St32 --1--> St27 --0--> St9 --0--> St35 \n",
    "\n",
    "The rejecting paths include strings of length six that are not in the language being modeled, or strings of higher lengths than six. These strings cause the execution to enter the \"black hole\" state (that is not shown in our diagrams).\n",
    " \n",
    "Also notice that the _nodes_ in this minimal automaton graph represent Boolean functions. Thus, state St1 is a function of all the six input bits. States St18 and St8 are functions of the five bits x1,x0,y2,y1,y0. In fact, the further we go away from the initial state, the lesser the remaining bits are in deciding the \"fate of the function\". \n",
    "\n",
    "Take state St18 which is one step away from the initial state. All paths leading to the final state represent the on-set of a Boolean function of inputs x1,x0,y2,y1,y0. Paths leading to state BH (not shown) are in the off-set (not shown)"
   ]
  },
  {
   "cell_type": "markdown",
   "metadata": {
    "run_control": {
     "frozen": false,
     "read_only": false
    }
   },
   "source": [
    "But suppose another astute person jumps in and tells us that it will be a small minimal DFA if we were to have considered strings x2,y2,x1,y1,x0,y0 to be in the language. That is, we mix the bits (and call the language Lmix, and the regular expression Rmix).\n",
    "\n",
    "We have the following Rmix."
   ]
  },
  {
   "cell_type": "code",
   "execution_count": 11,
   "metadata": {
    "run_control": {
     "frozen": false,
     "read_only": false
    }
   },
   "outputs": [],
   "source": [
    "Rmix =  \"(000001+000111+001101+011111+110001+\\\n",
    "          110111+111101+000101+000110+010111+\\\n",
    "          011011+011101+011110+110101+110110+\\\n",
    "          000100+010011+010101+010110+011001+\\\n",
    "          011010+011100+110100+010001+010010+\\\n",
    "          010100+011000+010000)\" "
   ]
  },
  {
   "cell_type": "markdown",
   "metadata": {
    "run_control": {
     "frozen": false,
     "read_only": false
    }
   },
   "source": [
    "We still have 28 entries, but the entries now represent x2,y2,x1,y1,x0,y0. For instance,\n",
    "take the fifth member of Rmix which is 110001. This means 100 < 101 which means 4 < 5, which is true. Let us now build a minimum DFA for Rmix."
   ]
  },
  {
   "cell_type": "code",
   "execution_count": 12,
   "metadata": {
    "run_control": {
     "frozen": false,
     "read_only": false
    }
   },
   "outputs": [
    {
     "name": "stderr",
     "output_type": "stream",
     "text": [
      "Generating LALR tables\n"
     ]
    }
   ],
   "source": [
    "Dmix = min_dfa(nfa2dfa(re2nfa(Rmix)))"
   ]
  },
  {
   "cell_type": "code",
   "execution_count": 13,
   "metadata": {
    "run_control": {
     "frozen": false,
     "read_only": false
    }
   },
   "outputs": [
    {
     "data": {
      "image/svg+xml": [
       "<?xml version=\"1.0\" encoding=\"UTF-8\" standalone=\"no\"?>\n",
       "<!DOCTYPE svg PUBLIC \"-//W3C//DTD SVG 1.1//EN\"\n",
       " \"http://www.w3.org/Graphics/SVG/1.1/DTD/svg11.dtd\">\n",
       "<!-- Generated by graphviz version 2.38.0 (20140413.2041)\n",
       " -->\n",
       "<!-- Title: %3 Pages: 1 -->\n",
       "<svg width=\"739pt\" height=\"203pt\"\n",
       " viewBox=\"0.00 0.00 738.71 202.65\" xmlns=\"http://www.w3.org/2000/svg\" xmlns:xlink=\"http://www.w3.org/1999/xlink\">\n",
       "<g id=\"graph0\" class=\"graph\" transform=\"scale(1 1) rotate(0) translate(4 198.651)\">\n",
       "<title>%3</title>\n",
       "<polygon fill=\"white\" stroke=\"none\" points=\"-4,4 -4,-198.651 734.715,-198.651 734.715,4 -4,4\"/>\n",
       "<!-- EMPTY -->\n",
       "<g id=\"node1\" class=\"node\"><title>EMPTY</title>\n",
       "</g>\n",
       "<!-- St1 -->\n",
       "<g id=\"node7\" class=\"node\"><title>St1</title>\n",
       "<ellipse fill=\"none\" stroke=\"black\" cx=\"112.904\" cy=\"-70.3256\" rx=\"21.8081\" ry=\"21.8081\"/>\n",
       "<text text-anchor=\"middle\" x=\"112.904\" y=\"-66.1256\" font-family=\"Times,serif\" font-size=\"14.00\">St1</text>\n",
       "</g>\n",
       "<!-- EMPTY&#45;&gt;St1 -->\n",
       "<g id=\"edge1\" class=\"edge\"><title>EMPTY&#45;&gt;St1</title>\n",
       "<path fill=\"none\" stroke=\"black\" d=\"M54.0878,-70.3256C62.501,-70.3256 71.9126,-70.3256 80.6587,-70.3256\"/>\n",
       "<polygon fill=\"black\" stroke=\"black\" points=\"80.8854,-73.8257 90.8853,-70.3256 80.8853,-66.8257 80.8854,-73.8257\"/>\n",
       "</g>\n",
       "<!-- St6 -->\n",
       "<g id=\"node2\" class=\"node\"><title>St6</title>\n",
       "<ellipse fill=\"none\" stroke=\"black\" cx=\"597.238\" cy=\"-76.3256\" rx=\"21.8081\" ry=\"21.8081\"/>\n",
       "<text text-anchor=\"middle\" x=\"597.238\" y=\"-72.1256\" font-family=\"Times,serif\" font-size=\"14.00\">St6</text>\n",
       "</g>\n",
       "<!-- St29 -->\n",
       "<g id=\"node14\" class=\"node\"><title>St29</title>\n",
       "<ellipse fill=\"none\" stroke=\"black\" cx=\"700.389\" cy=\"-110.326\" rx=\"26.1751\" ry=\"26.1751\"/>\n",
       "<ellipse fill=\"none\" stroke=\"black\" cx=\"700.389\" cy=\"-110.326\" rx=\"30.1522\" ry=\"30.1522\"/>\n",
       "<text text-anchor=\"middle\" x=\"700.389\" y=\"-106.126\" font-family=\"Times,serif\" font-size=\"14.00\">St29</text>\n",
       "</g>\n",
       "<!-- St6&#45;&gt;St29 -->\n",
       "<g id=\"edge17\" class=\"edge\"><title>St6&#45;&gt;St29</title>\n",
       "<path fill=\"none\" stroke=\"black\" d=\"M618.182,-82.9776C628.329,-86.3665 640.856,-90.5571 652.064,-94.3256 655.188,-95.376 658.427,-96.4671 661.678,-97.5637\"/>\n",
       "<polygon fill=\"black\" stroke=\"black\" points=\"660.773,-100.952 671.367,-100.835 663.012,-94.3197 660.773,-100.952\"/>\n",
       "<text text-anchor=\"middle\" x=\"646.814\" y=\"-111.126\" font-family=\"Times,serif\" font-size=\"14.00\">0 </text>\n",
       "<text text-anchor=\"middle\" x=\"646.814\" y=\"-97.1256\" font-family=\"Times,serif\" font-size=\"14.00\"> 1</text>\n",
       "</g>\n",
       "<!-- St9 -->\n",
       "<g id=\"node3\" class=\"node\"><title>St9</title>\n",
       "<ellipse fill=\"none\" stroke=\"black\" cx=\"299.785\" cy=\"-26.3256\" rx=\"21.8081\" ry=\"21.8081\"/>\n",
       "<text text-anchor=\"middle\" x=\"299.785\" y=\"-22.1256\" font-family=\"Times,serif\" font-size=\"14.00\">St9</text>\n",
       "</g>\n",
       "<!-- St10 -->\n",
       "<g id=\"node12\" class=\"node\"><title>St10</title>\n",
       "<ellipse fill=\"none\" stroke=\"black\" cx=\"398.936\" cy=\"-26.3256\" rx=\"26.1523\" ry=\"26.1523\"/>\n",
       "<text text-anchor=\"middle\" x=\"398.936\" y=\"-22.1256\" font-family=\"Times,serif\" font-size=\"14.00\">St10</text>\n",
       "</g>\n",
       "<!-- St9&#45;&gt;St10 -->\n",
       "<g id=\"edge9\" class=\"edge\"><title>St9&#45;&gt;St10</title>\n",
       "<path fill=\"none\" stroke=\"black\" d=\"M321.865,-26.3256C333.694,-26.3256 348.767,-26.3256 362.37,-26.3256\"/>\n",
       "<polygon fill=\"black\" stroke=\"black\" points=\"362.408,-29.8257 372.408,-26.3256 362.408,-22.8257 362.408,-29.8257\"/>\n",
       "<text text-anchor=\"middle\" x=\"349.36\" y=\"-43.1256\" font-family=\"Times,serif\" font-size=\"14.00\">0 </text>\n",
       "<text text-anchor=\"middle\" x=\"349.36\" y=\"-29.1256\" font-family=\"Times,serif\" font-size=\"14.00\"> 1</text>\n",
       "</g>\n",
       "<!-- St61 -->\n",
       "<g id=\"node4\" class=\"node\"><title>St61</title>\n",
       "<ellipse fill=\"none\" stroke=\"black\" cx=\"398.936\" cy=\"-168.326\" rx=\"26.1523\" ry=\"26.1523\"/>\n",
       "<text text-anchor=\"middle\" x=\"398.936\" y=\"-164.126\" font-family=\"Times,serif\" font-size=\"14.00\">St61</text>\n",
       "</g>\n",
       "<!-- St51 -->\n",
       "<g id=\"node11\" class=\"node\"><title>St51</title>\n",
       "<ellipse fill=\"none\" stroke=\"black\" cx=\"498.087\" cy=\"-144.326\" rx=\"26.1523\" ry=\"26.1523\"/>\n",
       "<text text-anchor=\"middle\" x=\"498.087\" y=\"-140.126\" font-family=\"Times,serif\" font-size=\"14.00\">St51</text>\n",
       "</g>\n",
       "<!-- St61&#45;&gt;St51 -->\n",
       "<g id=\"edge12\" class=\"edge\"><title>St61&#45;&gt;St51</title>\n",
       "<path fill=\"none\" stroke=\"black\" d=\"M424.702,-162.207C436.122,-159.386 449.873,-155.989 462.309,-152.917\"/>\n",
       "<polygon fill=\"black\" stroke=\"black\" points=\"463.497,-156.229 472.365,-150.433 461.818,-149.433 463.497,-156.229\"/>\n",
       "<text text-anchor=\"middle\" x=\"448.511\" y=\"-160.126\" font-family=\"Times,serif\" font-size=\"14.00\">1</text>\n",
       "</g>\n",
       "<!-- St25 -->\n",
       "<g id=\"node5\" class=\"node\"><title>St25</title>\n",
       "<ellipse fill=\"none\" stroke=\"black\" cx=\"299.785\" cy=\"-99.3256\" rx=\"26.1523\" ry=\"26.1523\"/>\n",
       "<text text-anchor=\"middle\" x=\"299.785\" y=\"-95.1256\" font-family=\"Times,serif\" font-size=\"14.00\">St25</text>\n",
       "</g>\n",
       "<!-- St25&#45;&gt;St61 -->\n",
       "<g id=\"edge8\" class=\"edge\"><title>St25&#45;&gt;St61</title>\n",
       "<path fill=\"none\" stroke=\"black\" d=\"M321.865,-114.298C335.487,-123.972 353.41,-136.702 368.438,-147.375\"/>\n",
       "<polygon fill=\"black\" stroke=\"black\" points=\"366.717,-150.446 376.896,-153.383 370.77,-144.739 366.717,-150.446\"/>\n",
       "<text text-anchor=\"middle\" x=\"349.36\" y=\"-139.126\" font-family=\"Times,serif\" font-size=\"14.00\">1</text>\n",
       "</g>\n",
       "<!-- St26 -->\n",
       "<g id=\"node8\" class=\"node\"><title>St26</title>\n",
       "<ellipse fill=\"none\" stroke=\"black\" cx=\"398.936\" cy=\"-97.3256\" rx=\"26.1523\" ry=\"26.1523\"/>\n",
       "<text text-anchor=\"middle\" x=\"398.936\" y=\"-93.1256\" font-family=\"Times,serif\" font-size=\"14.00\">St26</text>\n",
       "</g>\n",
       "<!-- St25&#45;&gt;St26 -->\n",
       "<g id=\"edge7\" class=\"edge\"><title>St25&#45;&gt;St26</title>\n",
       "<path fill=\"none\" stroke=\"black\" d=\"M326.31,-98.8001C337.354,-98.5728 350.468,-98.3028 362.438,-98.0564\"/>\n",
       "<polygon fill=\"black\" stroke=\"black\" points=\"362.655,-101.553 372.581,-97.8476 362.511,-94.5542 362.655,-101.553\"/>\n",
       "<text text-anchor=\"middle\" x=\"349.36\" y=\"-102.126\" font-family=\"Times,serif\" font-size=\"14.00\">0</text>\n",
       "</g>\n",
       "<!-- St27 -->\n",
       "<g id=\"node6\" class=\"node\"><title>St27</title>\n",
       "<ellipse fill=\"none\" stroke=\"black\" cx=\"498.087\" cy=\"-73.3256\" rx=\"26.1523\" ry=\"26.1523\"/>\n",
       "<text text-anchor=\"middle\" x=\"498.087\" y=\"-69.1256\" font-family=\"Times,serif\" font-size=\"14.00\">St27</text>\n",
       "</g>\n",
       "<!-- St27&#45;&gt;St6 -->\n",
       "<g id=\"edge15\" class=\"edge\"><title>St27&#45;&gt;St6</title>\n",
       "<path fill=\"none\" stroke=\"black\" d=\"M524.612,-74.1138C536.91,-74.4936 551.774,-74.9526 564.767,-75.3538\"/>\n",
       "<polygon fill=\"black\" stroke=\"black\" points=\"565.039,-78.8638 575.143,-75.6742 565.256,-71.8671 565.039,-78.8638\"/>\n",
       "<text text-anchor=\"middle\" x=\"547.663\" y=\"-92.1256\" font-family=\"Times,serif\" font-size=\"14.00\">0 </text>\n",
       "<text text-anchor=\"middle\" x=\"547.663\" y=\"-78.1256\" font-family=\"Times,serif\" font-size=\"14.00\"> 1</text>\n",
       "</g>\n",
       "<!-- St24 -->\n",
       "<g id=\"node10\" class=\"node\"><title>St24</title>\n",
       "<ellipse fill=\"none\" stroke=\"black\" cx=\"204.133\" cy=\"-100.326\" rx=\"26.1523\" ry=\"26.1523\"/>\n",
       "<text text-anchor=\"middle\" x=\"204.133\" y=\"-96.1256\" font-family=\"Times,serif\" font-size=\"14.00\">St24</text>\n",
       "</g>\n",
       "<!-- St1&#45;&gt;St24 -->\n",
       "<g id=\"edge3\" class=\"edge\"><title>St1&#45;&gt;St24</title>\n",
       "<path fill=\"none\" stroke=\"black\" d=\"M134.151,-77.1331C144.516,-80.6176 157.41,-84.953 169.237,-88.9293\"/>\n",
       "<polygon fill=\"black\" stroke=\"black\" points=\"168.247,-92.2889 178.841,-92.1583 170.478,-85.6539 168.247,-92.2889\"/>\n",
       "<text text-anchor=\"middle\" x=\"156.308\" y=\"-88.1256\" font-family=\"Times,serif\" font-size=\"14.00\">1</text>\n",
       "</g>\n",
       "<!-- St8 -->\n",
       "<g id=\"node13\" class=\"node\"><title>St8</title>\n",
       "<ellipse fill=\"none\" stroke=\"black\" cx=\"204.133\" cy=\"-34.3256\" rx=\"21.8081\" ry=\"21.8081\"/>\n",
       "<text text-anchor=\"middle\" x=\"204.133\" y=\"-30.1256\" font-family=\"Times,serif\" font-size=\"14.00\">St8</text>\n",
       "</g>\n",
       "<!-- St1&#45;&gt;St8 -->\n",
       "<g id=\"edge2\" class=\"edge\"><title>St1&#45;&gt;St8</title>\n",
       "<path fill=\"none\" stroke=\"black\" d=\"M133.707,-62.336C145.49,-57.582 160.659,-51.462 173.811,-46.1558\"/>\n",
       "<polygon fill=\"black\" stroke=\"black\" points=\"175.422,-49.2802 183.386,-42.2928 172.803,-42.7886 175.422,-49.2802\"/>\n",
       "<text text-anchor=\"middle\" x=\"156.308\" y=\"-58.1256\" font-family=\"Times,serif\" font-size=\"14.00\">0</text>\n",
       "</g>\n",
       "<!-- St26&#45;&gt;St27 -->\n",
       "<g id=\"edge11\" class=\"edge\"><title>St26&#45;&gt;St27</title>\n",
       "<path fill=\"none\" stroke=\"black\" d=\"M424.702,-91.2073C436.122,-88.3863 449.873,-84.9892 462.309,-81.9171\"/>\n",
       "<polygon fill=\"black\" stroke=\"black\" points=\"463.497,-85.2289 472.365,-79.4327 461.818,-78.4332 463.497,-85.2289\"/>\n",
       "<text text-anchor=\"middle\" x=\"448.511\" y=\"-89.1256\" font-family=\"Times,serif\" font-size=\"14.00\">1</text>\n",
       "</g>\n",
       "<!-- St26&#45;&gt;St51 -->\n",
       "<g id=\"edge10\" class=\"edge\"><title>St26&#45;&gt;St51</title>\n",
       "<path fill=\"none\" stroke=\"black\" d=\"M422.959,-108.464C435.451,-114.507 451.094,-122.075 464.787,-128.699\"/>\n",
       "<polygon fill=\"black\" stroke=\"black\" points=\"463.366,-131.9 473.892,-133.104 466.414,-125.599 463.366,-131.9\"/>\n",
       "<text text-anchor=\"middle\" x=\"448.511\" y=\"-127.126\" font-family=\"Times,serif\" font-size=\"14.00\">0</text>\n",
       "</g>\n",
       "<!-- St54 -->\n",
       "<g id=\"node9\" class=\"node\"><title>St54</title>\n",
       "<ellipse fill=\"none\" stroke=\"black\" cx=\"597.238\" cy=\"-142.326\" rx=\"26.1523\" ry=\"26.1523\"/>\n",
       "<text text-anchor=\"middle\" x=\"597.238\" y=\"-138.126\" font-family=\"Times,serif\" font-size=\"14.00\">St54</text>\n",
       "</g>\n",
       "<!-- St54&#45;&gt;St29 -->\n",
       "<g id=\"edge16\" class=\"edge\"><title>St54&#45;&gt;St29</title>\n",
       "<path fill=\"none\" stroke=\"black\" d=\"M622.466,-134.661C634.11,-130.977 648.339,-126.476 661.378,-122.351\"/>\n",
       "<polygon fill=\"black\" stroke=\"black\" points=\"662.576,-125.643 671.054,-119.29 660.464,-118.969 662.576,-125.643\"/>\n",
       "<text text-anchor=\"middle\" x=\"646.814\" y=\"-131.126\" font-family=\"Times,serif\" font-size=\"14.00\">1</text>\n",
       "</g>\n",
       "<!-- St24&#45;&gt;St25 -->\n",
       "<g id=\"edge6\" class=\"edge\"><title>St24&#45;&gt;St25</title>\n",
       "<path fill=\"none\" stroke=\"black\" d=\"M230.724,-100.052C240.738,-99.9454 252.396,-99.8209 263.204,-99.7055\"/>\n",
       "<polygon fill=\"black\" stroke=\"black\" points=\"263.263,-103.205 273.225,-99.5985 263.188,-96.2056 263.263,-103.205\"/>\n",
       "<text text-anchor=\"middle\" x=\"251.959\" y=\"-103.126\" font-family=\"Times,serif\" font-size=\"14.00\">1</text>\n",
       "</g>\n",
       "<!-- St51&#45;&gt;St54 -->\n",
       "<g id=\"edge14\" class=\"edge\"><title>St51&#45;&gt;St54</title>\n",
       "<path fill=\"none\" stroke=\"black\" d=\"M524.612,-143.8C535.657,-143.573 548.771,-143.303 560.74,-143.056\"/>\n",
       "<polygon fill=\"black\" stroke=\"black\" points=\"560.957,-146.553 570.883,-142.848 560.813,-139.554 560.957,-146.553\"/>\n",
       "<text text-anchor=\"middle\" x=\"547.663\" y=\"-147.126\" font-family=\"Times,serif\" font-size=\"14.00\">0</text>\n",
       "</g>\n",
       "<!-- St10&#45;&gt;St27 -->\n",
       "<g id=\"edge13\" class=\"edge\"><title>St10&#45;&gt;St27</title>\n",
       "<path fill=\"none\" stroke=\"black\" d=\"M422.989,-37.4528C432.516,-42.0536 443.672,-47.4438 453.761,-52.3256 457.382,-54.0777 461.173,-55.9132 464.942,-57.7388\"/>\n",
       "<polygon fill=\"black\" stroke=\"black\" points=\"463.63,-60.9922 474.155,-62.2033 466.682,-54.6928 463.63,-60.9922\"/>\n",
       "<text text-anchor=\"middle\" x=\"448.511\" y=\"-69.1256\" font-family=\"Times,serif\" font-size=\"14.00\">0 </text>\n",
       "<text text-anchor=\"middle\" x=\"448.511\" y=\"-55.1256\" font-family=\"Times,serif\" font-size=\"14.00\"> 1</text>\n",
       "</g>\n",
       "<!-- St8&#45;&gt;St9 -->\n",
       "<g id=\"edge5\" class=\"edge\"><title>St8&#45;&gt;St9</title>\n",
       "<path fill=\"none\" stroke=\"black\" d=\"M225.774,-30.3848C232.93,-29.1801 241.022,-27.9969 248.459,-27.3256 254.592,-26.772 261.162,-26.4473 267.464,-26.2676\"/>\n",
       "<polygon fill=\"black\" stroke=\"black\" points=\"267.754,-29.7631 277.691,-26.0871 267.63,-22.7642 267.754,-29.7631\"/>\n",
       "<text text-anchor=\"middle\" x=\"251.959\" y=\"-30.1256\" font-family=\"Times,serif\" font-size=\"14.00\">1</text>\n",
       "</g>\n",
       "<!-- St8&#45;&gt;St25 -->\n",
       "<g id=\"edge4\" class=\"edge\"><title>St8&#45;&gt;St25</title>\n",
       "<path fill=\"none\" stroke=\"black\" d=\"M222.748,-46.5516C235.77,-55.5897 253.81,-68.1107 269.051,-78.6885\"/>\n",
       "<polygon fill=\"black\" stroke=\"black\" points=\"267.431,-81.8244 277.641,-84.6509 271.422,-76.0737 267.431,-81.8244\"/>\n",
       "<text text-anchor=\"middle\" x=\"251.959\" y=\"-72.1256\" font-family=\"Times,serif\" font-size=\"14.00\">0</text>\n",
       "</g>\n",
       "</g>\n",
       "</svg>\n"
      ],
      "text/plain": [
       "<graphviz.dot.Digraph at 0x103739898>"
      ]
     },
     "execution_count": 13,
     "metadata": {},
     "output_type": "execute_result"
    }
   ],
   "source": [
    "doGoodLTNoBH = dotObj_dfa(Dmix, FuseEdges=True)\n",
    "doGoodLTNoBH"
   ]
  },
  {
   "cell_type": "code",
   "execution_count": 14,
   "metadata": {
    "run_control": {
     "frozen": false,
     "read_only": false
    }
   },
   "outputs": [
    {
     "data": {
      "text/plain": [
       "'/Users/ganesh/repos/atmm/book/CH17/doGoodLTNoBH.dot.pdf'"
      ]
     },
     "execution_count": 14,
     "metadata": {},
     "output_type": "execute_result"
    }
   ],
   "source": [
    "doGoodLTNoBH.render('/Users/ganesh/repos/atmm/book/CH17/doGoodLTNoBH.dot')"
   ]
  },
  {
   "cell_type": "markdown",
   "metadata": {
    "run_control": {
     "frozen": false,
     "read_only": false
    }
   },
   "source": [
    "We see that this minimal DFA is much smaller. The reason is that as soon as an x2 comes, a y2 bit is fed. In a positional encoding of binary numbers, this allows a DFA to immediately decide whether X < Y for X = x2x1x0 and Y = y2y1y0. \n",
    "\n",
    "The DFA that sees x2,x1,x0,y2,y1,y0 on the other hand cannot take a decision until bit y2 comes along. This means that this DFA has to build a full tree after seeing merely x2,x1,x0 and this would already be exponential in size. "
   ]
  },
  {
   "cell_type": "markdown",
   "metadata": {
    "run_control": {
     "frozen": false,
     "read_only": false
    }
   },
   "source": [
    "This machine appears to be linearly sized w.r.t. the number of inputs. \n",
    "\n",
    "This DFA also acts as a representation of the \"<\" function.  State St1 is a function of all the six input bits. States St2 and St3 are functions of the five bits y2,x1,y1,x0,y0. In fact, the further we go away from the initial state, the lesser the remaining bits are in deciding the \"fate of the function\". But the bits come in an interleaved manner. \n",
    "\n",
    "Take St2 as representing a Boolean function: paths from it to the final state represent the on-set of a Boolean function of inputs y2,x1,y1,x0,y0 and paths leading to BH are in the off-set.\n"
   ]
  },
  {
   "cell_type": "markdown",
   "metadata": {
    "run_control": {
     "frozen": false,
     "read_only": false
    }
   },
   "source": [
    "## Boolean subfunctions in the DFA\n",
    "\n",
    "Each state of the minimal DFA obtained in this manner represents a Boolean function.\n"
   ]
  },
  {
   "cell_type": "markdown",
   "metadata": {
    "run_control": {
     "frozen": false,
     "read_only": false
    }
   },
   "source": [
    "# Building BDDs from minimal DFA for on-set languages\n",
    "\n",
    "A BDD is obtained from a minimal DFA by following some \"cleanup\" steps:\n",
    "\n",
    "* When a 0,1 jump is made from one state to the other, short-circuit the jump\n",
    " \n",
    "  - This means that whether a 0 or a 1 comes, we go to the same state. That is \n",
    "    a redundant binary decoding situation\n",
    "    \n",
    "* When we see two distinct nodes represent the same Boolean function, merge them\n",
    "\n",
    "   - This merging step is already being done during state minimization\n",
    "   \n",
    "Let us obtain BDDs using our BDD tool and then compare it with our minimal DFA to get an idea of what these optmizations do."
   ]
  },
  {
   "cell_type": "code",
   "execution_count": 15,
   "metadata": {
    "run_control": {
     "frozen": false,
     "read_only": false
    }
   },
   "outputs": [
    {
     "data": {
      "text/plain": [
       "True"
      ]
     },
     "execution_count": 15,
     "metadata": {},
     "output_type": "execute_result"
    }
   ],
   "source": [
    "import webbrowser\n",
    "\n",
    "# This is the URL for our BDD tool that can be opened on a new tab\n",
    "url = 'http://formal.cs.utah.edu:8080/pbl/BDD.php'\n",
    "webbrowser.open(url)"
   ]
  },
  {
   "cell_type": "markdown",
   "metadata": {
    "run_control": {
     "frozen": false,
     "read_only": false
    }
   },
   "source": [
    "```\n",
    "1) The BDD for XOR can be drawn as follows:\n",
    "\n",
    "Var_Order : x1 x0\n",
    " \n",
    "Main_Exp : x1 XOR x0\n",
    "\n",
    "\n",
    "2) The BDD for OR can be drawn as follows:\n",
    "\n",
    "Var_Order : x1 x0\n",
    " \n",
    "Main_Exp : x1 XOR x0\n",
    "\n",
    "\n",
    "\n",
    "3) The BDD for the comparator that uses the inefficient variable order can be drawn as follows.\n",
    "\n",
    "#3-bit comparator with the inefficient variable order\n",
    "#First declare the variables and specify variable orderings\n",
    "\n",
    "Var_Order : x2 x1 x0 y2 y1 y0\n",
    " \n",
    "Main_Exp : (!x2 & y2) | (x2 <=> y2) &  ( (!x1 & y1) | (x1 <=> y1) & (!x0 & y0) )\n",
    "\n",
    "4) The BDD for the comparator that uses the better variable order is easily obtained: simply change Var_Order\n",
    "\n",
    "Var_Order : x2 y2 x1 y1 x0 y0\n",
    "```\n",
    "\n",
    "You will be able to see these BDDs and be able to relate them to the aforesaid DFA.\n",
    "This material will be covered in Chapter 17 of our book."
   ]
  },
  {
   "cell_type": "markdown",
   "metadata": {
    "run_control": {
     "frozen": false,
     "read_only": false
    }
   },
   "source": [
    "** END **"
   ]
  }
 ],
 "metadata": {
  "kernelspec": {
   "display_name": "Python 3",
   "language": "python",
   "name": "python3"
  },
  "language_info": {
   "codemirror_mode": {
    "name": "ipython",
    "version": 3
   },
   "file_extension": ".py",
   "mimetype": "text/x-python",
   "name": "python",
   "nbconvert_exporter": "python",
   "pygments_lexer": "ipython3",
   "version": "3.6.0"
  },
  "toc": {
   "colors": {
    "hover_highlight": "#DAA520",
    "running_highlight": "#FF0000",
    "selected_highlight": "#FFD700"
   },
   "moveMenuLeft": true,
   "nav_menu": {
    "height": "318px",
    "width": "252px"
   },
   "navigate_menu": true,
   "number_sections": true,
   "sideBar": true,
   "threshold": 4,
   "toc_cell": false,
   "toc_section_display": "block",
   "toc_window_display": false,
   "widenNotebook": false
  }
 },
 "nbformat": 4,
 "nbformat_minor": 2
}
