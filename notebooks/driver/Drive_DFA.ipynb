{
 "cells": [
  {
   "cell_type": "code",
   "execution_count": 1,
   "metadata": {
    "run_control": {
     "frozen": false,
     "read_only": false
    }
   },
   "outputs": [
    {
     "name": "stdout",
     "output_type": "stream",
     "text": [
      "You may use any of these help commands:\n",
      "help(ResetStNum)\n",
      "help(NxtStateStr)\n",
      "\n",
      "You may use any of these help commands:\n",
      "help(md2mc)\n",
      ".. and if you want to dig more, then ..\n",
      "help(default_line_attr)\n",
      "help(length_ok_input_items)\n",
      "help(union_line_attr_list_fld)\n",
      "help(extend_rsltdict)\n",
      "help(form_delta)\n",
      "help(get_machine_components)\n",
      "\n",
      "You may use any of these help commands:\n",
      "help(mkp_dfa)\n",
      "help(mk_dfa)\n",
      "help(totalize_dfa)\n",
      "help(addtosigma_delta)\n",
      "help(step_dfa)\n",
      "help(run_dfa)\n",
      "help(accepts_dfa)\n",
      "help(comp_dfa)\n",
      "help(union_dfa)\n",
      "help(intersect_dfa)\n",
      "help(pruneUnreach)\n",
      "help(iso_dfa)\n",
      "help(langeq_dfa)\n",
      "help(same_status)\n",
      "help(h_langeq_dfa)\n",
      "help(fixptDist)\n",
      "help(min_dfa)\n",
      "help(pairFR)\n",
      "help(state_combos)\n",
      "help(sepFinNonFin)\n",
      "help(bash_eql_classes)\n",
      "help(listminus)\n",
      "help(bash_1)\n",
      "help(mk_rep_eqc)\n",
      "help(F_of)\n",
      "help(rep_of_s)\n",
      "help(q0_of)\n",
      "help(Delta_of)\n",
      "help(mk_state_eqc_name)\n",
      "\n"
     ]
    }
   ],
   "source": [
    "import sys\n",
    "sys.path[0:0] = ['../..','../../3rdparty'] # Put these at the head of the search path\n",
    "from jove.DotBashers import *\n",
    "from jove.Def_md2mc  import *\n",
    "from jove.Def_DFA    import *"
   ]
  },
  {
   "cell_type": "code",
   "execution_count": 2,
   "metadata": {
    "run_control": {
     "frozen": false,
     "read_only": false
    }
   },
   "outputs": [
    {
     "name": "stderr",
     "output_type": "stream",
     "text": [
      "Generating LALR tables\n"
     ]
    }
   ],
   "source": [
    "ev0end1 = md2mc('''\n",
    "DFA\n",
    "I : 0 -> A\n",
    "A : 0 | 1 -> I\n",
    "I : 1 -> F\n",
    "F : 0 | 1 -> I\n",
    "''')"
   ]
  },
  {
   "cell_type": "code",
   "execution_count": 3,
   "metadata": {
    "run_control": {
     "frozen": false,
     "read_only": false
    }
   },
   "outputs": [],
   "source": [
    "doev0end1 = dotObj_dfa(ev0end1)"
   ]
  },
  {
   "cell_type": "code",
   "execution_count": 4,
   "metadata": {
    "run_control": {
     "frozen": false,
     "read_only": false
    }
   },
   "outputs": [
    {
     "data": {
      "text/plain": [
       "{'Delta': {('A', '0'): 'I',\n",
       "  ('A', '1'): 'I',\n",
       "  ('F', '0'): 'I',\n",
       "  ('F', '1'): 'I',\n",
       "  ('I', '0'): 'A',\n",
       "  ('I', '1'): 'F'},\n",
       " 'F': {'F'},\n",
       " 'Q': {'A', 'F', 'I'},\n",
       " 'Sigma': {'0', '1'},\n",
       " 'q0': 'I'}"
      ]
     },
     "execution_count": 4,
     "metadata": {},
     "output_type": "execute_result"
    }
   ],
   "source": [
    "ev0end1"
   ]
  },
  {
   "cell_type": "code",
   "execution_count": 5,
   "metadata": {
    "run_control": {
     "frozen": false,
     "read_only": false
    }
   },
   "outputs": [
    {
     "data": {
      "text/plain": [
       "'// do_St1\\ndigraph {\\n\\tgraph [rankdir=LR]\\n\\t\\tEMPTY [label=\"\" shape=plaintext]\\n\\t\\tI [label=I peripheries=1 shape=circle]\\n\\t\\tA [label=A peripheries=1 shape=circle]\\n\\t\\tF [label=F peripheries=2 shape=circle]\\n\\t\\t\\tEMPTY -> I\\n\\t\\t\\tI -> A [label=0]\\n\\t\\t\\tA -> I [label=0]\\n\\t\\t\\tA -> I [label=1]\\n\\t\\t\\tI -> F [label=1]\\n\\t\\t\\tF -> I [label=0]\\n\\t\\t\\tF -> I [label=1]\\n}'"
      ]
     },
     "execution_count": 5,
     "metadata": {},
     "output_type": "execute_result"
    }
   ],
   "source": [
    "doev0end1.source"
   ]
  },
  {
   "cell_type": "code",
   "execution_count": 6,
   "metadata": {
    "run_control": {
     "frozen": false,
     "read_only": false
    }
   },
   "outputs": [
    {
     "data": {
      "text/plain": [
       "True"
      ]
     },
     "execution_count": 6,
     "metadata": {},
     "output_type": "execute_result"
    }
   ],
   "source": [
    "is_partially_consistent_dfa(ev0end1)"
   ]
  },
  {
   "cell_type": "code",
   "execution_count": 7,
   "metadata": {
    "run_control": {
     "frozen": false,
     "read_only": false
    }
   },
   "outputs": [],
   "source": [
    "tev0end1 = totalize_dfa(ev0end1)"
   ]
  },
  {
   "cell_type": "code",
   "execution_count": 8,
   "metadata": {
    "run_control": {
     "frozen": false,
     "read_only": false
    }
   },
   "outputs": [
    {
     "data": {
      "image/svg+xml": [
       "<?xml version=\"1.0\" encoding=\"UTF-8\" standalone=\"no\"?>\n",
       "<!DOCTYPE svg PUBLIC \"-//W3C//DTD SVG 1.1//EN\"\n",
       " \"http://www.w3.org/Graphics/SVG/1.1/DTD/svg11.dtd\">\n",
       "<!-- Generated by graphviz version 2.38.0 (20140413.2041)\n",
       " -->\n",
       "<!-- Title: %3 Pages: 1 -->\n",
       "<svg width=\"222pt\" height=\"172pt\"\n",
       " viewBox=\"0.00 0.00 222.00 172.00\" xmlns=\"http://www.w3.org/2000/svg\" xmlns:xlink=\"http://www.w3.org/1999/xlink\">\n",
       "<g id=\"graph0\" class=\"graph\" transform=\"scale(1 1) rotate(0) translate(4 168)\">\n",
       "<title>%3</title>\n",
       "<polygon fill=\"white\" stroke=\"none\" points=\"-4,4 -4,-168 218,-168 218,4 -4,4\"/>\n",
       "<!-- EMPTY -->\n",
       "<g id=\"node1\" class=\"node\"><title>EMPTY</title>\n",
       "</g>\n",
       "<!-- I -->\n",
       "<g id=\"node2\" class=\"node\"><title>I</title>\n",
       "<ellipse fill=\"none\" stroke=\"black\" cx=\"109\" cy=\"-77\" rx=\"18\" ry=\"18\"/>\n",
       "<text text-anchor=\"middle\" x=\"109\" y=\"-72.8\" font-family=\"Times,serif\" font-size=\"14.00\">I</text>\n",
       "</g>\n",
       "<!-- EMPTY&#45;&gt;I -->\n",
       "<g id=\"edge1\" class=\"edge\"><title>EMPTY&#45;&gt;I</title>\n",
       "<path fill=\"none\" stroke=\"black\" d=\"M54.195,-77C62.6538,-77 72.0513,-77 80.5951,-77\"/>\n",
       "<polygon fill=\"black\" stroke=\"black\" points=\"80.8257,-80.5001 90.8257,-77 80.8257,-73.5001 80.8257,-80.5001\"/>\n",
       "</g>\n",
       "<!-- A -->\n",
       "<g id=\"node3\" class=\"node\"><title>A</title>\n",
       "<ellipse fill=\"none\" stroke=\"black\" cx=\"192\" cy=\"-133\" rx=\"18\" ry=\"18\"/>\n",
       "<text text-anchor=\"middle\" x=\"192\" y=\"-128.8\" font-family=\"Times,serif\" font-size=\"14.00\">A</text>\n",
       "</g>\n",
       "<!-- I&#45;&gt;A -->\n",
       "<g id=\"edge2\" class=\"edge\"><title>I&#45;&gt;A</title>\n",
       "<path fill=\"none\" stroke=\"black\" d=\"M113.197,-94.5657C117.324,-111.556 126.328,-136.387 145,-148 151.921,-152.305 160.204,-151.191 167.822,-148.148\"/>\n",
       "<polygon fill=\"black\" stroke=\"black\" points=\"169.62,-151.162 176.964,-143.525 166.461,-144.915 169.62,-151.162\"/>\n",
       "<text text-anchor=\"middle\" x=\"148.5\" y=\"-152.8\" font-family=\"Times,serif\" font-size=\"14.00\">0</text>\n",
       "</g>\n",
       "<!-- F -->\n",
       "<g id=\"node4\" class=\"node\"><title>F</title>\n",
       "<ellipse fill=\"none\" stroke=\"black\" cx=\"192\" cy=\"-22\" rx=\"18\" ry=\"18\"/>\n",
       "<ellipse fill=\"none\" stroke=\"black\" cx=\"192\" cy=\"-22\" rx=\"22\" ry=\"22\"/>\n",
       "<text text-anchor=\"middle\" x=\"192\" y=\"-17.8\" font-family=\"Times,serif\" font-size=\"14.00\">F</text>\n",
       "</g>\n",
       "<!-- I&#45;&gt;F -->\n",
       "<g id=\"edge5\" class=\"edge\"><title>I&#45;&gt;F</title>\n",
       "<path fill=\"none\" stroke=\"black\" d=\"M124.481,-67.1671C135.68,-59.5632 151.481,-48.8342 164.872,-39.7409\"/>\n",
       "<polygon fill=\"black\" stroke=\"black\" points=\"166.945,-42.564 173.252,-34.0509 163.013,-36.7728 166.945,-42.564\"/>\n",
       "<text text-anchor=\"middle\" x=\"148.5\" y=\"-54.8\" font-family=\"Times,serif\" font-size=\"14.00\">1</text>\n",
       "</g>\n",
       "<!-- A&#45;&gt;I -->\n",
       "<g id=\"edge3\" class=\"edge\"><title>A&#45;&gt;I</title>\n",
       "<path fill=\"none\" stroke=\"black\" d=\"M174.973,-126.858C165.797,-122.977 154.297,-117.477 145,-111 139.344,-107.059 133.747,-102.188 128.743,-97.3769\"/>\n",
       "<polygon fill=\"black\" stroke=\"black\" points=\"130.969,-94.6501 121.445,-90.0071 125.995,-99.5755 130.969,-94.6501\"/>\n",
       "<text text-anchor=\"middle\" x=\"148.5\" y=\"-116.8\" font-family=\"Times,serif\" font-size=\"14.00\">0</text>\n",
       "</g>\n",
       "<!-- A&#45;&gt;I -->\n",
       "<g id=\"edge4\" class=\"edge\"><title>A&#45;&gt;I</title>\n",
       "<path fill=\"none\" stroke=\"black\" d=\"M180.272,-119.266C173.04,-110.759 162.864,-100.133 152,-93 147.19,-89.8414 141.665,-87.1749 136.237,-84.9789\"/>\n",
       "<polygon fill=\"black\" stroke=\"black\" points=\"137.341,-81.656 126.746,-81.53 134.95,-88.235 137.341,-81.656\"/>\n",
       "<text text-anchor=\"middle\" x=\"148.5\" y=\"-95.8\" font-family=\"Times,serif\" font-size=\"14.00\">1</text>\n",
       "</g>\n",
       "<!-- F&#45;&gt;I -->\n",
       "<g id=\"edge6\" class=\"edge\"><title>F&#45;&gt;I</title>\n",
       "<path fill=\"none\" stroke=\"black\" d=\"M169.671,-22.9537C161.468,-24.1151 152.323,-26.4416 145,-31 136.366,-36.3744 129.083,-44.7026 123.435,-52.8036\"/>\n",
       "<polygon fill=\"black\" stroke=\"black\" points=\"120.404,-51.0455 117.96,-61.3545 126.3,-54.8199 120.404,-51.0455\"/>\n",
       "<text text-anchor=\"middle\" x=\"148.5\" y=\"-33.8\" font-family=\"Times,serif\" font-size=\"14.00\">0</text>\n",
       "</g>\n",
       "<!-- F&#45;&gt;I -->\n",
       "<g id=\"edge7\" class=\"edge\"><title>F&#45;&gt;I</title>\n",
       "<path fill=\"none\" stroke=\"black\" d=\"M173.045,-10.5006C164.141,-6.34636 153.502,-3.81404 145,-9 130.448,-17.8762 121.69,-34.9499 116.573,-49.7676\"/>\n",
       "<polygon fill=\"black\" stroke=\"black\" points=\"113.163,-48.9507 113.587,-59.5371 119.857,-50.9973 113.163,-48.9507\"/>\n",
       "<text text-anchor=\"middle\" x=\"148.5\" y=\"-11.8\" font-family=\"Times,serif\" font-size=\"14.00\">1</text>\n",
       "</g>\n",
       "</g>\n",
       "</svg>\n"
      ],
      "text/plain": [
       "<graphviz.dot.Digraph at 0x10c1774a8>"
      ]
     },
     "execution_count": 8,
     "metadata": {},
     "output_type": "execute_result"
    }
   ],
   "source": [
    "dotObj_dfa_w_bh(tev0end1)"
   ]
  },
  {
   "cell_type": "code",
   "execution_count": 9,
   "metadata": {
    "run_control": {
     "frozen": false,
     "read_only": false
    }
   },
   "outputs": [
    {
     "data": {
      "image/svg+xml": [
       "<?xml version=\"1.0\" encoding=\"UTF-8\" standalone=\"no\"?>\n",
       "<!DOCTYPE svg PUBLIC \"-//W3C//DTD SVG 1.1//EN\"\n",
       " \"http://www.w3.org/Graphics/SVG/1.1/DTD/svg11.dtd\">\n",
       "<!-- Generated by graphviz version 2.38.0 (20140413.2041)\n",
       " -->\n",
       "<!-- Title: %3 Pages: 1 -->\n",
       "<svg width=\"226pt\" height=\"130pt\"\n",
       " viewBox=\"0.00 0.00 225.50 130.00\" xmlns=\"http://www.w3.org/2000/svg\" xmlns:xlink=\"http://www.w3.org/1999/xlink\">\n",
       "<g id=\"graph0\" class=\"graph\" transform=\"scale(1 1) rotate(0) translate(4 126)\">\n",
       "<title>%3</title>\n",
       "<polygon fill=\"white\" stroke=\"none\" points=\"-4,4 -4,-126 221.5,-126 221.5,4 -4,4\"/>\n",
       "<!-- EMPTY -->\n",
       "<g id=\"node1\" class=\"node\"><title>EMPTY</title>\n",
       "</g>\n",
       "<!-- I -->\n",
       "<g id=\"node2\" class=\"node\"><title>I</title>\n",
       "<ellipse fill=\"none\" stroke=\"black\" cx=\"109\" cy=\"-58\" rx=\"18\" ry=\"18\"/>\n",
       "<text text-anchor=\"middle\" x=\"109\" y=\"-53.8\" font-family=\"Times,serif\" font-size=\"14.00\">I</text>\n",
       "</g>\n",
       "<!-- EMPTY&#45;&gt;I -->\n",
       "<g id=\"edge1\" class=\"edge\"><title>EMPTY&#45;&gt;I</title>\n",
       "<path fill=\"none\" stroke=\"black\" d=\"M54.195,-58C62.6538,-58 72.0513,-58 80.5951,-58\"/>\n",
       "<polygon fill=\"black\" stroke=\"black\" points=\"80.8257,-61.5001 90.8257,-58 80.8257,-54.5001 80.8257,-61.5001\"/>\n",
       "</g>\n",
       "<!-- A -->\n",
       "<g id=\"node3\" class=\"node\"><title>A</title>\n",
       "<ellipse fill=\"none\" stroke=\"black\" cx=\"195.5\" cy=\"-95\" rx=\"18\" ry=\"18\"/>\n",
       "<text text-anchor=\"middle\" x=\"195.5\" y=\"-90.8\" font-family=\"Times,serif\" font-size=\"14.00\">A</text>\n",
       "</g>\n",
       "<!-- I&#45;&gt;A -->\n",
       "<g id=\"edge2\" class=\"edge\"><title>I&#45;&gt;A</title>\n",
       "<path fill=\"none\" stroke=\"black\" d=\"M117.118,-74.604C122.868,-85.714 132.129,-99.456 145,-106 152.699,-109.914 161.767,-109.213 170.024,-106.859\"/>\n",
       "<polygon fill=\"black\" stroke=\"black\" points=\"171.363,-110.095 179.547,-103.366 168.953,-103.523 171.363,-110.095\"/>\n",
       "<text text-anchor=\"middle\" x=\"150.25\" y=\"-110.8\" font-family=\"Times,serif\" font-size=\"14.00\">0</text>\n",
       "</g>\n",
       "<!-- F -->\n",
       "<g id=\"node4\" class=\"node\"><title>F</title>\n",
       "<ellipse fill=\"none\" stroke=\"black\" cx=\"195.5\" cy=\"-22\" rx=\"18\" ry=\"18\"/>\n",
       "<ellipse fill=\"none\" stroke=\"black\" cx=\"195.5\" cy=\"-22\" rx=\"22\" ry=\"22\"/>\n",
       "<text text-anchor=\"middle\" x=\"195.5\" y=\"-17.8\" font-family=\"Times,serif\" font-size=\"14.00\">F</text>\n",
       "</g>\n",
       "<!-- I&#45;&gt;F -->\n",
       "<g id=\"edge4\" class=\"edge\"><title>I&#45;&gt;F</title>\n",
       "<path fill=\"none\" stroke=\"black\" d=\"M125.548,-50.0946C131.57,-47.126 138.555,-43.7961 145,-41 151.468,-38.194 158.497,-35.3662 165.172,-32.7809\"/>\n",
       "<polygon fill=\"black\" stroke=\"black\" points=\"166.49,-36.0244 174.592,-29.1974 164.001,-29.4818 166.49,-36.0244\"/>\n",
       "<text text-anchor=\"middle\" x=\"150.25\" y=\"-43.8\" font-family=\"Times,serif\" font-size=\"14.00\">1</text>\n",
       "</g>\n",
       "<!-- A&#45;&gt;I -->\n",
       "<g id=\"edge3\" class=\"edge\"><title>A&#45;&gt;I</title>\n",
       "<path fill=\"none\" stroke=\"black\" d=\"M179.587,-86.2623C172.432,-82.2549 163.659,-77.6051 155.5,-74 149.368,-71.2906 142.621,-68.711 136.244,-66.4449\"/>\n",
       "<polygon fill=\"black\" stroke=\"black\" points=\"137.262,-63.0944 126.668,-63.1686 134.996,-69.7174 137.262,-63.0944\"/>\n",
       "<text text-anchor=\"middle\" x=\"150.25\" y=\"-90.8\" font-family=\"Times,serif\" font-size=\"14.00\">0 </text>\n",
       "<text text-anchor=\"middle\" x=\"150.25\" y=\"-76.8\" font-family=\"Times,serif\" font-size=\"14.00\"> 1</text>\n",
       "</g>\n",
       "<!-- F&#45;&gt;I -->\n",
       "<g id=\"edge5\" class=\"edge\"><title>F&#45;&gt;I</title>\n",
       "<path fill=\"none\" stroke=\"black\" d=\"M177.432,-9.36721C167.617,-3.73962 155.242,0.510382 145,-5 134.145,-10.8397 126.097,-21.6846 120.474,-32.0503\"/>\n",
       "<polygon fill=\"black\" stroke=\"black\" points=\"117.212,-30.7547 115.98,-41.2778 123.505,-33.8195 117.212,-30.7547\"/>\n",
       "<text text-anchor=\"middle\" x=\"150.25\" y=\"-21.8\" font-family=\"Times,serif\" font-size=\"14.00\">0 </text>\n",
       "<text text-anchor=\"middle\" x=\"150.25\" y=\"-7.8\" font-family=\"Times,serif\" font-size=\"14.00\"> 1</text>\n",
       "</g>\n",
       "</g>\n",
       "</svg>\n"
      ],
      "text/plain": [
       "<graphviz.dot.Digraph at 0x10c3a6278>"
      ]
     },
     "execution_count": 9,
     "metadata": {},
     "output_type": "execute_result"
    }
   ],
   "source": [
    "dotObj_dfa_w_bh(tev0end1, FuseEdges=True)"
   ]
  },
  {
   "cell_type": "code",
   "execution_count": 10,
   "metadata": {
    "run_control": {
     "frozen": false,
     "read_only": false
    }
   },
   "outputs": [
    {
     "data": {
      "text/plain": [
       "{'Delta': {('A', '0'): 'I',\n",
       "  ('A', '1'): 'I',\n",
       "  ('F', '0'): 'I',\n",
       "  ('F', '1'): 'I',\n",
       "  ('I', '0'): 'A',\n",
       "  ('I', '1'): 'F'},\n",
       " 'F': {'F'},\n",
       " 'Q': {'A', 'F', 'I'},\n",
       " 'Sigma': {'0', '1'},\n",
       " 'q0': 'I'}"
      ]
     },
     "execution_count": 10,
     "metadata": {},
     "output_type": "execute_result"
    }
   ],
   "source": [
    "ev0end1"
   ]
  },
  {
   "cell_type": "code",
   "execution_count": 11,
   "metadata": {
    "run_control": {
     "frozen": false,
     "read_only": false
    }
   },
   "outputs": [
    {
     "name": "stderr",
     "output_type": "stream",
     "text": [
      "Generating LALR tables\n"
     ]
    }
   ],
   "source": [
    "ev0 = md2mc('''\n",
    "DFA\n",
    "IF : 0 -> A\n",
    "A  : 0 -> IF\n",
    "''')"
   ]
  },
  {
   "cell_type": "code",
   "execution_count": 12,
   "metadata": {
    "run_control": {
     "frozen": false,
     "read_only": false
    }
   },
   "outputs": [
    {
     "data": {
      "text/plain": [
       "{'Delta': {('A', '0'): 'IF', ('IF', '0'): 'A'},\n",
       " 'F': {'IF'},\n",
       " 'Q': {'A', 'IF'},\n",
       " 'Sigma': {'0'},\n",
       " 'q0': 'IF'}"
      ]
     },
     "execution_count": 12,
     "metadata": {},
     "output_type": "execute_result"
    }
   ],
   "source": [
    "ev0"
   ]
  },
  {
   "cell_type": "code",
   "execution_count": 13,
   "metadata": {
    "run_control": {
     "frozen": false,
     "read_only": false
    }
   },
   "outputs": [],
   "source": [
    "dev0 = dotObj_dfa(ev0)"
   ]
  },
  {
   "cell_type": "code",
   "execution_count": 14,
   "metadata": {
    "run_control": {
     "frozen": false,
     "read_only": false
    }
   },
   "outputs": [
    {
     "data": {
      "image/svg+xml": [
       "<?xml version=\"1.0\" encoding=\"UTF-8\" standalone=\"no\"?>\n",
       "<!DOCTYPE svg PUBLIC \"-//W3C//DTD SVG 1.1//EN\"\n",
       " \"http://www.w3.org/Graphics/SVG/1.1/DTD/svg11.dtd\">\n",
       "<!-- Generated by graphviz version 2.38.0 (20140413.2041)\n",
       " -->\n",
       "<!-- Title: %3 Pages: 1 -->\n",
       "<svg width=\"222pt\" height=\"52pt\"\n",
       " viewBox=\"0.00 0.00 222.00 52.00\" xmlns=\"http://www.w3.org/2000/svg\" xmlns:xlink=\"http://www.w3.org/1999/xlink\">\n",
       "<g id=\"graph0\" class=\"graph\" transform=\"scale(1 1) rotate(0) translate(4 48)\">\n",
       "<title>%3</title>\n",
       "<polygon fill=\"white\" stroke=\"none\" points=\"-4,4 -4,-48 218,-48 218,4 -4,4\"/>\n",
       "<!-- EMPTY -->\n",
       "<g id=\"node1\" class=\"node\"><title>EMPTY</title>\n",
       "</g>\n",
       "<!-- IF -->\n",
       "<g id=\"node3\" class=\"node\"><title>IF</title>\n",
       "<ellipse fill=\"none\" stroke=\"black\" cx=\"113\" cy=\"-22\" rx=\"18\" ry=\"18\"/>\n",
       "<ellipse fill=\"none\" stroke=\"black\" cx=\"113\" cy=\"-22\" rx=\"22\" ry=\"22\"/>\n",
       "<text text-anchor=\"middle\" x=\"113\" y=\"-17.8\" font-family=\"Times,serif\" font-size=\"14.00\">IF</text>\n",
       "</g>\n",
       "<!-- EMPTY&#45;&gt;IF -->\n",
       "<g id=\"edge1\" class=\"edge\"><title>EMPTY&#45;&gt;IF</title>\n",
       "<path fill=\"none\" stroke=\"black\" d=\"M54.1177,-22C62.5406,-22 71.9629,-22 80.7191,-22\"/>\n",
       "<polygon fill=\"black\" stroke=\"black\" points=\"80.9574,-25.5001 90.9574,-22 80.9573,-18.5001 80.9574,-25.5001\"/>\n",
       "</g>\n",
       "<!-- A -->\n",
       "<g id=\"node2\" class=\"node\"><title>A</title>\n",
       "<ellipse fill=\"none\" stroke=\"black\" cx=\"196\" cy=\"-22\" rx=\"18\" ry=\"18\"/>\n",
       "<text text-anchor=\"middle\" x=\"196\" y=\"-17.8\" font-family=\"Times,serif\" font-size=\"14.00\">A</text>\n",
       "</g>\n",
       "<!-- A&#45;&gt;IF -->\n",
       "<g id=\"edge3\" class=\"edge\"><title>A&#45;&gt;IF</title>\n",
       "<path fill=\"none\" stroke=\"black\" d=\"M180.283,-12.4577C174.25,-9.08304 167.04,-5.70409 160,-4 153.655,-2.46403 147.016,-3.43319 140.819,-5.55343\"/>\n",
       "<polygon fill=\"black\" stroke=\"black\" points=\"139.289,-2.40258 131.55,-9.63813 142.112,-8.80816 139.289,-2.40258\"/>\n",
       "<text text-anchor=\"middle\" x=\"156.5\" y=\"-6.8\" font-family=\"Times,serif\" font-size=\"14.00\">0</text>\n",
       "</g>\n",
       "<!-- IF&#45;&gt;A -->\n",
       "<g id=\"edge2\" class=\"edge\"><title>IF&#45;&gt;A</title>\n",
       "<path fill=\"none\" stroke=\"black\" d=\"M135.282,-22C145.266,-22 157.278,-22 167.903,-22\"/>\n",
       "<polygon fill=\"black\" stroke=\"black\" points=\"167.94,-25.5001 177.939,-22 167.939,-18.5001 167.94,-25.5001\"/>\n",
       "<text text-anchor=\"middle\" x=\"156.5\" y=\"-24.8\" font-family=\"Times,serif\" font-size=\"14.00\">0</text>\n",
       "</g>\n",
       "</g>\n",
       "</svg>\n"
      ],
      "text/plain": [
       "<graphviz.dot.Digraph at 0x10c3a68d0>"
      ]
     },
     "execution_count": 14,
     "metadata": {},
     "output_type": "execute_result"
    }
   ],
   "source": [
    "dev0"
   ]
  },
  {
   "cell_type": "code",
   "execution_count": 15,
   "metadata": {
    "run_control": {
     "frozen": false,
     "read_only": false
    }
   },
   "outputs": [
    {
     "data": {
      "text/plain": [
       "'// do_St4\\ndigraph {\\n\\tgraph [rankdir=LR]\\n\\t\\tEMPTY [label=\"\" shape=plaintext]\\n\\t\\tA [label=A peripheries=1 shape=circle]\\n\\t\\tIF [label=IF peripheries=2 shape=circle]\\n\\t\\t\\tEMPTY -> IF\\n\\t\\t\\tIF -> A [label=0]\\n\\t\\t\\tA -> IF [label=0]\\n}'"
      ]
     },
     "execution_count": 15,
     "metadata": {},
     "output_type": "execute_result"
    }
   ],
   "source": [
    "dev0.source"
   ]
  },
  {
   "cell_type": "code",
   "execution_count": 16,
   "metadata": {
    "run_control": {
     "frozen": false,
     "read_only": false
    }
   },
   "outputs": [
    {
     "data": {
      "image/svg+xml": [
       "<?xml version=\"1.0\" encoding=\"UTF-8\" standalone=\"no\"?>\n",
       "<!DOCTYPE svg PUBLIC \"-//W3C//DTD SVG 1.1//EN\"\n",
       " \"http://www.w3.org/Graphics/SVG/1.1/DTD/svg11.dtd\">\n",
       "<!-- Generated by graphviz version 2.38.0 (20140413.2041)\n",
       " -->\n",
       "<!-- Title: %3 Pages: 1 -->\n",
       "<svg width=\"222pt\" height=\"52pt\"\n",
       " viewBox=\"0.00 0.00 222.00 52.00\" xmlns=\"http://www.w3.org/2000/svg\" xmlns:xlink=\"http://www.w3.org/1999/xlink\">\n",
       "<g id=\"graph0\" class=\"graph\" transform=\"scale(1 1) rotate(0) translate(4 48)\">\n",
       "<title>%3</title>\n",
       "<polygon fill=\"white\" stroke=\"none\" points=\"-4,4 -4,-48 218,-48 218,4 -4,4\"/>\n",
       "<!-- EMPTY -->\n",
       "<g id=\"node1\" class=\"node\"><title>EMPTY</title>\n",
       "</g>\n",
       "<!-- IF -->\n",
       "<g id=\"node3\" class=\"node\"><title>IF</title>\n",
       "<ellipse fill=\"none\" stroke=\"black\" cx=\"113\" cy=\"-22\" rx=\"18\" ry=\"18\"/>\n",
       "<ellipse fill=\"none\" stroke=\"black\" cx=\"113\" cy=\"-22\" rx=\"22\" ry=\"22\"/>\n",
       "<text text-anchor=\"middle\" x=\"113\" y=\"-17.8\" font-family=\"Times,serif\" font-size=\"14.00\">IF</text>\n",
       "</g>\n",
       "<!-- EMPTY&#45;&gt;IF -->\n",
       "<g id=\"edge1\" class=\"edge\"><title>EMPTY&#45;&gt;IF</title>\n",
       "<path fill=\"none\" stroke=\"black\" d=\"M54.1177,-22C62.5406,-22 71.9629,-22 80.7191,-22\"/>\n",
       "<polygon fill=\"black\" stroke=\"black\" points=\"80.9574,-25.5001 90.9574,-22 80.9573,-18.5001 80.9574,-25.5001\"/>\n",
       "</g>\n",
       "<!-- A -->\n",
       "<g id=\"node2\" class=\"node\"><title>A</title>\n",
       "<ellipse fill=\"none\" stroke=\"black\" cx=\"196\" cy=\"-22\" rx=\"18\" ry=\"18\"/>\n",
       "<text text-anchor=\"middle\" x=\"196\" y=\"-17.8\" font-family=\"Times,serif\" font-size=\"14.00\">A</text>\n",
       "</g>\n",
       "<!-- A&#45;&gt;IF -->\n",
       "<g id=\"edge3\" class=\"edge\"><title>A&#45;&gt;IF</title>\n",
       "<path fill=\"none\" stroke=\"black\" d=\"M180.283,-12.4577C174.25,-9.08304 167.04,-5.70409 160,-4 153.655,-2.46403 147.016,-3.43319 140.819,-5.55343\"/>\n",
       "<polygon fill=\"black\" stroke=\"black\" points=\"139.289,-2.40258 131.55,-9.63813 142.112,-8.80816 139.289,-2.40258\"/>\n",
       "<text text-anchor=\"middle\" x=\"156.5\" y=\"-6.8\" font-family=\"Times,serif\" font-size=\"14.00\">0</text>\n",
       "</g>\n",
       "<!-- IF&#45;&gt;A -->\n",
       "<g id=\"edge2\" class=\"edge\"><title>IF&#45;&gt;A</title>\n",
       "<path fill=\"none\" stroke=\"black\" d=\"M135.282,-22C145.266,-22 157.278,-22 167.903,-22\"/>\n",
       "<polygon fill=\"black\" stroke=\"black\" points=\"167.94,-25.5001 177.939,-22 167.939,-18.5001 167.94,-25.5001\"/>\n",
       "<text text-anchor=\"middle\" x=\"156.5\" y=\"-24.8\" font-family=\"Times,serif\" font-size=\"14.00\">0</text>\n",
       "</g>\n",
       "</g>\n",
       "</svg>\n"
      ],
      "text/plain": [
       "<graphviz.dot.Digraph at 0x10c3a68d0>"
      ]
     },
     "execution_count": 16,
     "metadata": {},
     "output_type": "execute_result"
    }
   ],
   "source": [
    "dev0"
   ]
  },
  {
   "cell_type": "code",
   "execution_count": 17,
   "metadata": {
    "run_control": {
     "frozen": false,
     "read_only": false
    }
   },
   "outputs": [],
   "source": [
    "ev0_bh =  addtosigma_dfa(ev0, set({'1'}))"
   ]
  },
  {
   "cell_type": "code",
   "execution_count": 18,
   "metadata": {
    "run_control": {
     "frozen": false,
     "read_only": false
    }
   },
   "outputs": [
    {
     "data": {
      "text/plain": [
       "{'Delta': {('A', '0'): 'IF', ('IF', '0'): 'A'},\n",
       " 'F': {'IF'},\n",
       " 'Q': {'A', 'IF'},\n",
       " 'Sigma': {'0', '1'},\n",
       " 'q0': 'IF'}"
      ]
     },
     "execution_count": 18,
     "metadata": {},
     "output_type": "execute_result"
    }
   ],
   "source": [
    "ev0_bh"
   ]
  },
  {
   "cell_type": "code",
   "execution_count": 19,
   "metadata": {
    "run_control": {
     "frozen": false,
     "read_only": false
    }
   },
   "outputs": [],
   "source": [
    "ev0_bh_totalize = totalize_dfa(ev0_bh)"
   ]
  },
  {
   "cell_type": "code",
   "execution_count": 20,
   "metadata": {
    "run_control": {
     "frozen": false,
     "read_only": false
    }
   },
   "outputs": [
    {
     "data": {
      "text/plain": [
       "{'Delta': {('A', '0'): 'IF', ('IF', '0'): 'A'},\n",
       " 'F': {'IF'},\n",
       " 'Q': {'A', 'IF'},\n",
       " 'Sigma': {'0', '1'},\n",
       " 'q0': 'IF'}"
      ]
     },
     "execution_count": 20,
     "metadata": {},
     "output_type": "execute_result"
    }
   ],
   "source": [
    "ev0_bh"
   ]
  },
  {
   "cell_type": "code",
   "execution_count": 21,
   "metadata": {
    "run_control": {
     "frozen": false,
     "read_only": false
    }
   },
   "outputs": [],
   "source": [
    "do_ev0_tot = dotObj_dfa_w_bh(ev0_bh_totalize)"
   ]
  },
  {
   "cell_type": "code",
   "execution_count": 22,
   "metadata": {
    "run_control": {
     "frozen": false,
     "read_only": false
    }
   },
   "outputs": [
    {
     "data": {
      "text/plain": [
       "'// do_St5\\ndigraph {\\n\\tgraph [rankdir=LR]\\n\\t\\tEMPTY [label=\"\" shape=plaintext]\\n\\t\\tBH [label=BH peripheries=1 shape=circle]\\n\\t\\tA [label=A peripheries=1 shape=circle]\\n\\t\\tIF [label=IF peripheries=2 shape=circle]\\n\\t\\t\\tEMPTY -> IF\\n\\t\\t\\tIF -> A [label=0]\\n\\t\\t\\tA -> IF [label=0]\\n\\t\\t\\tIF -> BH [label=1]\\n\\t\\t\\tA -> BH [label=1]\\n\\t\\t\\tBH -> BH [label=0]\\n\\t\\t\\tBH -> BH [label=1]\\n}'"
      ]
     },
     "execution_count": 22,
     "metadata": {},
     "output_type": "execute_result"
    }
   ],
   "source": [
    "do_ev0_tot.source"
   ]
  },
  {
   "cell_type": "code",
   "execution_count": 23,
   "metadata": {
    "run_control": {
     "frozen": false,
     "read_only": false
    }
   },
   "outputs": [
    {
     "data": {
      "image/svg+xml": [
       "<?xml version=\"1.0\" encoding=\"UTF-8\" standalone=\"no\"?>\n",
       "<!DOCTYPE svg PUBLIC \"-//W3C//DTD SVG 1.1//EN\"\n",
       " \"http://www.w3.org/Graphics/SVG/1.1/DTD/svg11.dtd\">\n",
       "<!-- Generated by graphviz version 2.38.0 (20140413.2041)\n",
       " -->\n",
       "<!-- Title: %3 Pages: 1 -->\n",
       "<svg width=\"310pt\" height=\"117pt\"\n",
       " viewBox=\"0.00 0.00 309.78 116.78\" xmlns=\"http://www.w3.org/2000/svg\" xmlns:xlink=\"http://www.w3.org/1999/xlink\">\n",
       "<g id=\"graph0\" class=\"graph\" transform=\"scale(1 1) rotate(0) translate(4 112.784)\">\n",
       "<title>%3</title>\n",
       "<polygon fill=\"white\" stroke=\"none\" points=\"-4,4 -4,-112.784 305.784,-112.784 305.784,4 -4,4\"/>\n",
       "<!-- EMPTY -->\n",
       "<g id=\"node1\" class=\"node\"><title>EMPTY</title>\n",
       "</g>\n",
       "<!-- IF -->\n",
       "<g id=\"node4\" class=\"node\"><title>IF</title>\n",
       "<ellipse fill=\"none\" stroke=\"black\" cx=\"113\" cy=\"-35.3918\" rx=\"18\" ry=\"18\"/>\n",
       "<ellipse fill=\"none\" stroke=\"black\" cx=\"113\" cy=\"-35.3918\" rx=\"22\" ry=\"22\"/>\n",
       "<text text-anchor=\"middle\" x=\"113\" y=\"-31.1918\" font-family=\"Times,serif\" font-size=\"14.00\">IF</text>\n",
       "</g>\n",
       "<!-- EMPTY&#45;&gt;IF -->\n",
       "<g id=\"edge1\" class=\"edge\"><title>EMPTY&#45;&gt;IF</title>\n",
       "<path fill=\"none\" stroke=\"black\" d=\"M54.1177,-35.3918C62.5406,-35.3918 71.9629,-35.3918 80.7191,-35.3918\"/>\n",
       "<polygon fill=\"black\" stroke=\"black\" points=\"80.9574,-38.8919 90.9574,-35.3918 80.9573,-31.8919 80.9574,-38.8919\"/>\n",
       "</g>\n",
       "<!-- BH -->\n",
       "<g id=\"node2\" class=\"node\"><title>BH</title>\n",
       "<ellipse fill=\"none\" stroke=\"black\" cx=\"279.392\" cy=\"-22.3918\" rx=\"22.2841\" ry=\"22.2841\"/>\n",
       "<text text-anchor=\"middle\" x=\"279.392\" y=\"-18.1918\" font-family=\"Times,serif\" font-size=\"14.00\">BH</text>\n",
       "</g>\n",
       "<!-- BH&#45;&gt;BH -->\n",
       "<g id=\"edge6\" class=\"edge\"><title>BH&#45;&gt;BH</title>\n",
       "<path fill=\"none\" stroke=\"black\" d=\"M275.501,-44.8217C275.183,-54.4985 276.48,-62.7836 279.392,-62.7836 281.166,-62.7836 282.341,-59.707 282.916,-55.1138\"/>\n",
       "<polygon fill=\"black\" stroke=\"black\" points=\"286.424,-54.9399 283.282,-44.8217 279.429,-54.6909 286.424,-54.9399\"/>\n",
       "<text text-anchor=\"middle\" x=\"279.392\" y=\"-65.5836\" font-family=\"Times,serif\" font-size=\"14.00\">0</text>\n",
       "</g>\n",
       "<!-- BH&#45;&gt;BH -->\n",
       "<g id=\"edge7\" class=\"edge\"><title>BH&#45;&gt;BH</title>\n",
       "<path fill=\"none\" stroke=\"black\" d=\"M272.718,-43.9522C269.867,-61.9636 272.091,-80.7836 279.392,-80.7836 285.324,-80.7836 287.904,-68.3594 287.134,-54.0395\"/>\n",
       "<polygon fill=\"black\" stroke=\"black\" points=\"290.599,-53.5277 286.065,-43.9522 283.638,-54.2653 290.599,-53.5277\"/>\n",
       "<text text-anchor=\"middle\" x=\"279.392\" y=\"-83.5836\" font-family=\"Times,serif\" font-size=\"14.00\">1</text>\n",
       "</g>\n",
       "<!-- A -->\n",
       "<g id=\"node3\" class=\"node\"><title>A</title>\n",
       "<ellipse fill=\"none\" stroke=\"black\" cx=\"196\" cy=\"-52.3918\" rx=\"18\" ry=\"18\"/>\n",
       "<text text-anchor=\"middle\" x=\"196\" y=\"-48.1918\" font-family=\"Times,serif\" font-size=\"14.00\">A</text>\n",
       "</g>\n",
       "<!-- A&#45;&gt;BH -->\n",
       "<g id=\"edge5\" class=\"edge\"><title>A&#45;&gt;BH</title>\n",
       "<path fill=\"none\" stroke=\"black\" d=\"M213.08,-46.4648C223.142,-42.7561 236.42,-37.8621 248.375,-33.4557\"/>\n",
       "<polygon fill=\"black\" stroke=\"black\" points=\"249.833,-36.6483 258.006,-29.9058 247.412,-30.0803 249.833,-36.6483\"/>\n",
       "<text text-anchor=\"middle\" x=\"235.5\" y=\"-41.1918\" font-family=\"Times,serif\" font-size=\"14.00\">1</text>\n",
       "</g>\n",
       "<!-- A&#45;&gt;IF -->\n",
       "<g id=\"edge3\" class=\"edge\"><title>A&#45;&gt;IF</title>\n",
       "<path fill=\"none\" stroke=\"black\" d=\"M181.093,-42.2244C174.949,-38.3382 167.44,-34.3677 160,-32.3918 155.224,-31.1234 150.075,-30.6414 145.012,-30.6403\"/>\n",
       "<polygon fill=\"black\" stroke=\"black\" points=\"144.67,-27.154 134.885,-31.2155 145.067,-34.1427 144.67,-27.154\"/>\n",
       "<text text-anchor=\"middle\" x=\"156.5\" y=\"-35.1918\" font-family=\"Times,serif\" font-size=\"14.00\">0</text>\n",
       "</g>\n",
       "<!-- IF&#45;&gt;BH -->\n",
       "<g id=\"edge4\" class=\"edge\"><title>IF&#45;&gt;BH</title>\n",
       "<path fill=\"none\" stroke=\"black\" d=\"M133.091,-26.168C145.552,-20.6717 162.354,-14.229 178,-11.3918 201.212,-7.18264 227.756,-10.4364 247.717,-14.4712\"/>\n",
       "<polygon fill=\"black\" stroke=\"black\" points=\"246.986,-17.8939 257.504,-16.6169 248.485,-11.0563 246.986,-17.8939\"/>\n",
       "<text text-anchor=\"middle\" x=\"196\" y=\"-14.1918\" font-family=\"Times,serif\" font-size=\"14.00\">1</text>\n",
       "</g>\n",
       "<!-- IF&#45;&gt;A -->\n",
       "<g id=\"edge2\" class=\"edge\"><title>IF&#45;&gt;A</title>\n",
       "<path fill=\"none\" stroke=\"black\" d=\"M133.469,-44.2806C139.595,-46.6939 146.469,-49.0177 153,-50.3918 157.625,-51.365 162.598,-51.9739 167.446,-52.3404\"/>\n",
       "<polygon fill=\"black\" stroke=\"black\" points=\"167.529,-55.8477 177.677,-52.8032 167.846,-48.8548 167.529,-55.8477\"/>\n",
       "<text text-anchor=\"middle\" x=\"156.5\" y=\"-54.1918\" font-family=\"Times,serif\" font-size=\"14.00\">0</text>\n",
       "</g>\n",
       "</g>\n",
       "</svg>\n"
      ],
      "text/plain": [
       "<graphviz.dot.Digraph at 0x10c3c6438>"
      ]
     },
     "execution_count": 23,
     "metadata": {},
     "output_type": "execute_result"
    }
   ],
   "source": [
    "do_ev0_tot"
   ]
  },
  {
   "cell_type": "code",
   "execution_count": 24,
   "metadata": {
    "run_control": {
     "frozen": false,
     "read_only": false
    }
   },
   "outputs": [
    {
     "data": {
      "image/svg+xml": [
       "<?xml version=\"1.0\" encoding=\"UTF-8\" standalone=\"no\"?>\n",
       "<!DOCTYPE svg PUBLIC \"-//W3C//DTD SVG 1.1//EN\"\n",
       " \"http://www.w3.org/Graphics/SVG/1.1/DTD/svg11.dtd\">\n",
       "<!-- Generated by graphviz version 2.38.0 (20140413.2041)\n",
       " -->\n",
       "<!-- Title: %3 Pages: 1 -->\n",
       "<svg width=\"310pt\" height=\"99pt\"\n",
       " viewBox=\"0.00 0.00 309.78 98.78\" xmlns=\"http://www.w3.org/2000/svg\" xmlns:xlink=\"http://www.w3.org/1999/xlink\">\n",
       "<g id=\"graph0\" class=\"graph\" transform=\"scale(1 1) rotate(0) translate(4 94.7836)\">\n",
       "<title>%3</title>\n",
       "<polygon fill=\"white\" stroke=\"none\" points=\"-4,4 -4,-94.7836 305.784,-94.7836 305.784,4 -4,4\"/>\n",
       "<!-- EMPTY -->\n",
       "<g id=\"node1\" class=\"node\"><title>EMPTY</title>\n",
       "</g>\n",
       "<!-- IF -->\n",
       "<g id=\"node4\" class=\"node\"><title>IF</title>\n",
       "<ellipse fill=\"none\" stroke=\"black\" cx=\"113\" cy=\"-35.3918\" rx=\"18\" ry=\"18\"/>\n",
       "<ellipse fill=\"none\" stroke=\"black\" cx=\"113\" cy=\"-35.3918\" rx=\"22\" ry=\"22\"/>\n",
       "<text text-anchor=\"middle\" x=\"113\" y=\"-31.1918\" font-family=\"Times,serif\" font-size=\"14.00\">IF</text>\n",
       "</g>\n",
       "<!-- EMPTY&#45;&gt;IF -->\n",
       "<g id=\"edge1\" class=\"edge\"><title>EMPTY&#45;&gt;IF</title>\n",
       "<path fill=\"none\" stroke=\"black\" d=\"M54.1177,-35.3918C62.5406,-35.3918 71.9629,-35.3918 80.7191,-35.3918\"/>\n",
       "<polygon fill=\"black\" stroke=\"black\" points=\"80.9574,-38.8919 90.9574,-35.3918 80.9573,-31.8919 80.9574,-38.8919\"/>\n",
       "</g>\n",
       "<!-- BH -->\n",
       "<g id=\"node2\" class=\"node\"><title>BH</title>\n",
       "<ellipse fill=\"none\" stroke=\"black\" cx=\"279.392\" cy=\"-22.3918\" rx=\"22.2841\" ry=\"22.2841\"/>\n",
       "<text text-anchor=\"middle\" x=\"279.392\" y=\"-18.1918\" font-family=\"Times,serif\" font-size=\"14.00\">BH</text>\n",
       "</g>\n",
       "<!-- BH&#45;&gt;BH -->\n",
       "<g id=\"edge6\" class=\"edge\"><title>BH&#45;&gt;BH</title>\n",
       "<path fill=\"none\" stroke=\"black\" d=\"M271.709,-43.5882C270.761,-53.7836 273.321,-62.7836 279.392,-62.7836 283.281,-62.7836 285.729,-59.09 286.737,-53.7547\"/>\n",
       "<polygon fill=\"black\" stroke=\"black\" points=\"290.241,-53.6987 287.075,-43.5882 283.245,-53.4666 290.241,-53.6987\"/>\n",
       "<text text-anchor=\"middle\" x=\"279.392\" y=\"-79.5836\" font-family=\"Times,serif\" font-size=\"14.00\">0 </text>\n",
       "<text text-anchor=\"middle\" x=\"279.392\" y=\"-65.5836\" font-family=\"Times,serif\" font-size=\"14.00\"> 1</text>\n",
       "</g>\n",
       "<!-- A -->\n",
       "<g id=\"node3\" class=\"node\"><title>A</title>\n",
       "<ellipse fill=\"none\" stroke=\"black\" cx=\"196\" cy=\"-52.3918\" rx=\"18\" ry=\"18\"/>\n",
       "<text text-anchor=\"middle\" x=\"196\" y=\"-48.1918\" font-family=\"Times,serif\" font-size=\"14.00\">A</text>\n",
       "</g>\n",
       "<!-- A&#45;&gt;BH -->\n",
       "<g id=\"edge5\" class=\"edge\"><title>A&#45;&gt;BH</title>\n",
       "<path fill=\"none\" stroke=\"black\" d=\"M213.08,-46.4648C223.142,-42.7561 236.42,-37.8621 248.375,-33.4557\"/>\n",
       "<polygon fill=\"black\" stroke=\"black\" points=\"249.833,-36.6483 258.006,-29.9058 247.412,-30.0803 249.833,-36.6483\"/>\n",
       "<text text-anchor=\"middle\" x=\"235.5\" y=\"-41.1918\" font-family=\"Times,serif\" font-size=\"14.00\">1</text>\n",
       "</g>\n",
       "<!-- A&#45;&gt;IF -->\n",
       "<g id=\"edge3\" class=\"edge\"><title>A&#45;&gt;IF</title>\n",
       "<path fill=\"none\" stroke=\"black\" d=\"M181.093,-42.2244C174.949,-38.3382 167.44,-34.3677 160,-32.3918 155.224,-31.1234 150.075,-30.6414 145.012,-30.6403\"/>\n",
       "<polygon fill=\"black\" stroke=\"black\" points=\"144.67,-27.154 134.885,-31.2155 145.067,-34.1427 144.67,-27.154\"/>\n",
       "<text text-anchor=\"middle\" x=\"156.5\" y=\"-35.1918\" font-family=\"Times,serif\" font-size=\"14.00\">0</text>\n",
       "</g>\n",
       "<!-- IF&#45;&gt;BH -->\n",
       "<g id=\"edge4\" class=\"edge\"><title>IF&#45;&gt;BH</title>\n",
       "<path fill=\"none\" stroke=\"black\" d=\"M133.091,-26.168C145.552,-20.6717 162.354,-14.229 178,-11.3918 201.212,-7.18264 227.756,-10.4364 247.717,-14.4712\"/>\n",
       "<polygon fill=\"black\" stroke=\"black\" points=\"246.986,-17.8939 257.504,-16.6169 248.485,-11.0563 246.986,-17.8939\"/>\n",
       "<text text-anchor=\"middle\" x=\"196\" y=\"-14.1918\" font-family=\"Times,serif\" font-size=\"14.00\">1</text>\n",
       "</g>\n",
       "<!-- IF&#45;&gt;A -->\n",
       "<g id=\"edge2\" class=\"edge\"><title>IF&#45;&gt;A</title>\n",
       "<path fill=\"none\" stroke=\"black\" d=\"M133.469,-44.2806C139.595,-46.6939 146.469,-49.0177 153,-50.3918 157.625,-51.365 162.598,-51.9739 167.446,-52.3404\"/>\n",
       "<polygon fill=\"black\" stroke=\"black\" points=\"167.529,-55.8477 177.677,-52.8032 167.846,-48.8548 167.529,-55.8477\"/>\n",
       "<text text-anchor=\"middle\" x=\"156.5\" y=\"-54.1918\" font-family=\"Times,serif\" font-size=\"14.00\">0</text>\n",
       "</g>\n",
       "</g>\n",
       "</svg>\n"
      ],
      "text/plain": [
       "<graphviz.dot.Digraph at 0x10c3c66a0>"
      ]
     },
     "execution_count": 24,
     "metadata": {},
     "output_type": "execute_result"
    }
   ],
   "source": [
    "dotObj_dfa_w_bh(ev0_bh_totalize, FuseEdges=True)"
   ]
  },
  {
   "cell_type": "markdown",
   "metadata": {
    "run_control": {
     "frozen": false,
     "read_only": false
    }
   },
   "source": [
    "<span style=\"color:blue\"> **Here is how we will represent a DFA in Python (taking Figure 3.4's example from the book). You can clearly see how the traits of the DFA are encoded. We prefer a Python dictionary, as it supports a number of convenient operations, and also one can add additional fields easily. ** </span>"
   ]
  },
  {
   "cell_type": "code",
   "execution_count": 25,
   "metadata": {
    "code_folding": [],
    "run_control": {
     "frozen": false,
     "read_only": false
    }
   },
   "outputs": [],
   "source": [
    "DFA_fig34 = { 'Q': {'A', 'IF', 'B'},\n",
    "              'Sigma': {'0', '1'},\n",
    "              'Delta': { ('IF', '0'): 'A',\n",
    "                         ('IF', '1'): 'IF',\n",
    "                         ('A', '0'): 'B',\n",
    "                         ('A', '1'): 'A',\n",
    "                         ('B', '0'): 'IF',\n",
    "                         ('B', '1'): 'B' },\n",
    "              'q0': 'IF', \n",
    "              'F': {'IF'}   \n",
    "            }"
   ]
  },
  {
   "cell_type": "markdown",
   "metadata": {
    "run_control": {
     "frozen": false,
     "read_only": false
    }
   },
   "source": [
    "<span style=\"color:blue\"> **We can now write routines to print DFA using dot. The main routines are listed below.** </span>\n",
    "\n",
    "* dot_dfa_w_bh : lists all states of a DFA including black-hole states\n",
    "* dot_dfa      : lists all isNotBH states (see below for a defn), i.e. suppress black-holes\n",
    "     - Usually there are too many transitions to them and that clutters the view\n",
    "     "
   ]
  },
  {
   "cell_type": "markdown",
   "metadata": {
    "run_control": {
     "frozen": false,
     "read_only": false
    }
   },
   "source": [
    "======"
   ]
  },
  {
   "cell_type": "code",
   "execution_count": 26,
   "metadata": {
    "code_folding": [],
    "run_control": {
     "frozen": false,
     "read_only": false
    }
   },
   "outputs": [],
   "source": [
    "# Some tests pertaining to totalize_dfa, is_consistent_dfa, etc\n",
    "\n",
    "DFA_fig34 = { 'Q': {'A', 'IF', 'B'},\n",
    "              'Sigma': {'0', '1'},\n",
    "              'Delta': { ('IF', '0'): 'A',\n",
    "                         ('IF', '1'): 'IF',\n",
    "                         ('A', '0'): 'B',\n",
    "                         ('A', '1'): 'A',\n",
    "                         ('B', '0'): 'IF',\n",
    "                         ('B', '1'): 'B' },\n",
    "              'q0': 'IF', \n",
    "              'F': {'IF'}   \n",
    "            }\n",
    "\n",
    "def tests_dfa_consist():\n",
    "    \"\"\"Some tests wrt DFA routines.\n",
    "    \"\"\"\n",
    "    DFA_fig34_Q     = DFA_fig34[\"Q\"]\n",
    "    DFA_fig34_Sigma = DFA_fig34[\"Sigma\"]\n",
    "    randQ           = random.choice(list(DFA_fig34_Q))\n",
    "    randSym         = random.choice(list(DFA_fig34_Sigma))\n",
    "\n",
    "    DFA_fig34_deepcopy  = copy.deepcopy(DFA_fig34)\n",
    "\n",
    "    print('is_consistent_dfa(DFA_fig34) =', \n",
    "           is_consistent_dfa(DFA_fig34) )\n",
    "    print('Removing mapping for ' + \n",
    "          \"(\" + randQ + \",\" + randSym + \")\" + \n",
    "          \"from DFA_fig34_deepcopy\")\n",
    "    DFA_fig34_deepcopy[\"Delta\"].pop((randQ,randSym))\n",
    "    print('is_consistent_dfa(DFA_fig34_deepcopy) =', \n",
    "         is_consistent_dfa(DFA_fig34_deepcopy) )\n",
    "\n",
    "    totalized = totalize_dfa(DFA_fig34_deepcopy)\n",
    "    print ( 'is_consistent_dfa(totalized) =', \n",
    "          is_consistent_dfa(totalized) )\n",
    "\n",
    "    assert(totalized == totalize_dfa(totalized)) # Must pass  "
   ]
  },
  {
   "cell_type": "code",
   "execution_count": 27,
   "metadata": {
    "run_control": {
     "frozen": false,
     "read_only": false
    }
   },
   "outputs": [
    {
     "name": "stderr",
     "output_type": "stream",
     "text": [
      "Generating LALR tables\n"
     ]
    },
    {
     "data": {
      "image/svg+xml": [
       "<?xml version=\"1.0\" encoding=\"UTF-8\" standalone=\"no\"?>\n",
       "<!DOCTYPE svg PUBLIC \"-//W3C//DTD SVG 1.1//EN\"\n",
       " \"http://www.w3.org/Graphics/SVG/1.1/DTD/svg11.dtd\">\n",
       "<!-- Generated by graphviz version 2.38.0 (20140413.2041)\n",
       " -->\n",
       "<!-- Title: %3 Pages: 1 -->\n",
       "<svg width=\"324pt\" height=\"192pt\"\n",
       " viewBox=\"0.00 0.00 323.63 191.74\" xmlns=\"http://www.w3.org/2000/svg\" xmlns:xlink=\"http://www.w3.org/1999/xlink\">\n",
       "<g id=\"graph0\" class=\"graph\" transform=\"scale(1 1) rotate(0) translate(4 187.737)\">\n",
       "<title>%3</title>\n",
       "<polygon fill=\"white\" stroke=\"none\" points=\"-4,4 -4,-187.737 319.631,-187.737 319.631,4 -4,4\"/>\n",
       "<!-- EMPTY -->\n",
       "<g id=\"node1\" class=\"node\"><title>EMPTY</title>\n",
       "</g>\n",
       "<!-- IF -->\n",
       "<g id=\"node4\" class=\"node\"><title>IF</title>\n",
       "<ellipse fill=\"none\" stroke=\"black\" cx=\"113\" cy=\"-79.8686\" rx=\"18\" ry=\"18\"/>\n",
       "<ellipse fill=\"none\" stroke=\"black\" cx=\"113\" cy=\"-79.8686\" rx=\"22\" ry=\"22\"/>\n",
       "<text text-anchor=\"middle\" x=\"113\" y=\"-75.6686\" font-family=\"Times,serif\" font-size=\"14.00\">IF</text>\n",
       "</g>\n",
       "<!-- EMPTY&#45;&gt;IF -->\n",
       "<g id=\"edge1\" class=\"edge\"><title>EMPTY&#45;&gt;IF</title>\n",
       "<path fill=\"none\" stroke=\"black\" d=\"M54.1177,-79.8686C62.5406,-79.8686 71.9629,-79.8686 80.7191,-79.8686\"/>\n",
       "<polygon fill=\"black\" stroke=\"black\" points=\"80.9574,-83.3687 90.9574,-79.8686 80.9573,-76.3687 80.9574,-83.3687\"/>\n",
       "</g>\n",
       "<!-- S01 -->\n",
       "<g id=\"node2\" class=\"node\"><title>S01</title>\n",
       "<ellipse fill=\"none\" stroke=\"black\" cx=\"291.762\" cy=\"-127.869\" rx=\"23.7379\" ry=\"23.7379\"/>\n",
       "<text text-anchor=\"middle\" x=\"291.762\" y=\"-123.669\" font-family=\"Times,serif\" font-size=\"14.00\">S01</text>\n",
       "</g>\n",
       "<!-- S01&#45;&gt;S01 -->\n",
       "<g id=\"edge6\" class=\"edge\"><title>S01&#45;&gt;S01</title>\n",
       "<path fill=\"none\" stroke=\"black\" d=\"M283.641,-150.694C282.868,-160.906 285.575,-169.737 291.762,-169.737 295.726,-169.737 298.262,-166.113 299.369,-160.823\"/>\n",
       "<polygon fill=\"black\" stroke=\"black\" points=\"302.871,-160.859 299.883,-150.694 295.88,-160.503 302.871,-160.859\"/>\n",
       "<text text-anchor=\"middle\" x=\"291.762\" y=\"-172.537\" font-family=\"Times,serif\" font-size=\"14.00\">1</text>\n",
       "</g>\n",
       "<!-- F0 -->\n",
       "<g id=\"node5\" class=\"node\"><title>F0</title>\n",
       "<ellipse fill=\"none\" stroke=\"black\" cx=\"201.447\" cy=\"-120.869\" rx=\"19.4029\" ry=\"19.4029\"/>\n",
       "<ellipse fill=\"none\" stroke=\"black\" cx=\"201.447\" cy=\"-120.869\" rx=\"23.3939\" ry=\"23.3939\"/>\n",
       "<text text-anchor=\"middle\" x=\"201.447\" y=\"-116.669\" font-family=\"Times,serif\" font-size=\"14.00\">F0</text>\n",
       "</g>\n",
       "<!-- S01&#45;&gt;F0 -->\n",
       "<g id=\"edge7\" class=\"edge\"><title>S01&#45;&gt;F0</title>\n",
       "<path fill=\"none\" stroke=\"black\" d=\"M271.615,-115.045C265.017,-111.326 257.395,-107.759 249.894,-105.869 243.99,-104.381 237.742,-104.848 231.786,-106.308\"/>\n",
       "<polygon fill=\"black\" stroke=\"black\" points=\"230.523,-103.04 222.15,-109.531 232.744,-109.678 230.523,-103.04\"/>\n",
       "<text text-anchor=\"middle\" x=\"246.394\" y=\"-108.669\" font-family=\"Times,serif\" font-size=\"14.00\">0</text>\n",
       "</g>\n",
       "<!-- S10 -->\n",
       "<g id=\"node3\" class=\"node\"><title>S10</title>\n",
       "<ellipse fill=\"none\" stroke=\"black\" cx=\"291.762\" cy=\"-23.8686\" rx=\"23.7379\" ry=\"23.7379\"/>\n",
       "<text text-anchor=\"middle\" x=\"291.762\" y=\"-19.6686\" font-family=\"Times,serif\" font-size=\"14.00\">S10</text>\n",
       "</g>\n",
       "<!-- S10&#45;&gt;S10 -->\n",
       "<g id=\"edge10\" class=\"edge\"><title>S10&#45;&gt;S10</title>\n",
       "<path fill=\"none\" stroke=\"black\" d=\"M283.641,-46.6939C282.868,-56.9055 285.575,-65.7372 291.762,-65.7372 295.726,-65.7372 298.262,-62.1127 299.369,-56.8228\"/>\n",
       "<polygon fill=\"black\" stroke=\"black\" points=\"302.871,-56.8587 299.883,-46.6939 295.88,-56.5034 302.871,-56.8587\"/>\n",
       "<text text-anchor=\"middle\" x=\"291.762\" y=\"-68.5372\" font-family=\"Times,serif\" font-size=\"14.00\">0</text>\n",
       "</g>\n",
       "<!-- F1 -->\n",
       "<g id=\"node6\" class=\"node\"><title>F1</title>\n",
       "<ellipse fill=\"none\" stroke=\"black\" cx=\"201.447\" cy=\"-23.8686\" rx=\"19.4029\" ry=\"19.4029\"/>\n",
       "<ellipse fill=\"none\" stroke=\"black\" cx=\"201.447\" cy=\"-23.8686\" rx=\"23.3939\" ry=\"23.3939\"/>\n",
       "<text text-anchor=\"middle\" x=\"201.447\" y=\"-19.6686\" font-family=\"Times,serif\" font-size=\"14.00\">F1</text>\n",
       "</g>\n",
       "<!-- S10&#45;&gt;F1 -->\n",
       "<g id=\"edge11\" class=\"edge\"><title>S10&#45;&gt;F1</title>\n",
       "<path fill=\"none\" stroke=\"black\" d=\"M270.077,-12.7746C261.749,-9.52944 251.98,-7.23799 242.894,-8.8686 239.473,-9.4825 235.963,-10.3667 232.509,-11.4031\"/>\n",
       "<polygon fill=\"black\" stroke=\"black\" points=\"231.379,-8.09038 223.043,-14.6287 233.637,-14.7163 231.379,-8.09038\"/>\n",
       "<text text-anchor=\"middle\" x=\"246.394\" y=\"-11.6686\" font-family=\"Times,serif\" font-size=\"14.00\">1</text>\n",
       "</g>\n",
       "<!-- IF&#45;&gt;F0 -->\n",
       "<g id=\"edge2\" class=\"edge\"><title>IF&#45;&gt;F0</title>\n",
       "<path fill=\"none\" stroke=\"black\" d=\"M133.185,-88.9678C144.205,-94.1941 158.281,-100.87 170.705,-106.763\"/>\n",
       "<polygon fill=\"black\" stroke=\"black\" points=\"169.271,-109.956 179.806,-111.079 172.27,-103.631 169.271,-109.956\"/>\n",
       "<text text-anchor=\"middle\" x=\"156.5\" y=\"-104.669\" font-family=\"Times,serif\" font-size=\"14.00\">0</text>\n",
       "</g>\n",
       "<!-- IF&#45;&gt;F1 -->\n",
       "<g id=\"edge3\" class=\"edge\"><title>IF&#45;&gt;F1</title>\n",
       "<path fill=\"none\" stroke=\"black\" d=\"M131.912,-68.2654C143.758,-60.5916 159.52,-50.3809 172.942,-41.6865\"/>\n",
       "<polygon fill=\"black\" stroke=\"black\" points=\"174.869,-44.6083 181.359,-36.2339 171.063,-38.7333 174.869,-44.6083\"/>\n",
       "<text text-anchor=\"middle\" x=\"156.5\" y=\"-56.6686\" font-family=\"Times,serif\" font-size=\"14.00\">1</text>\n",
       "</g>\n",
       "<!-- F0&#45;&gt;S01 -->\n",
       "<g id=\"edge5\" class=\"edge\"><title>F0&#45;&gt;S01</title>\n",
       "<path fill=\"none\" stroke=\"black\" d=\"M225.19,-122.671C235.105,-123.457 246.921,-124.394 257.773,-125.254\"/>\n",
       "<polygon fill=\"black\" stroke=\"black\" points=\"257.544,-128.747 267.789,-126.048 258.097,-121.768 257.544,-128.747\"/>\n",
       "<text text-anchor=\"middle\" x=\"246.394\" y=\"-126.669\" font-family=\"Times,serif\" font-size=\"14.00\">1</text>\n",
       "</g>\n",
       "<!-- F0&#45;&gt;F0 -->\n",
       "<g id=\"edge4\" class=\"edge\"><title>F0&#45;&gt;F0</title>\n",
       "<path fill=\"none\" stroke=\"black\" d=\"M193.36,-143.042C192.478,-153.328 195.173,-162.315 201.447,-162.315 205.466,-162.315 208.016,-158.627 209.099,-153.272\"/>\n",
       "<polygon fill=\"black\" stroke=\"black\" points=\"212.606,-153.182 209.534,-143.042 205.612,-152.884 212.606,-153.182\"/>\n",
       "<text text-anchor=\"middle\" x=\"201.447\" y=\"-165.115\" font-family=\"Times,serif\" font-size=\"14.00\">0</text>\n",
       "</g>\n",
       "<!-- F1&#45;&gt;S10 -->\n",
       "<g id=\"edge9\" class=\"edge\"><title>F1&#45;&gt;S10</title>\n",
       "<path fill=\"none\" stroke=\"black\" d=\"M225.106,-25.8462C230.9,-26.2703 237.124,-26.6549 242.894,-26.8686 247.736,-27.0479 252.849,-26.9907 257.861,-26.7953\"/>\n",
       "<polygon fill=\"black\" stroke=\"black\" points=\"258.099,-30.2876 267.887,-26.2314 257.706,-23.2986 258.099,-30.2876\"/>\n",
       "<text text-anchor=\"middle\" x=\"246.394\" y=\"-30.6686\" font-family=\"Times,serif\" font-size=\"14.00\">0</text>\n",
       "</g>\n",
       "<!-- F1&#45;&gt;F1 -->\n",
       "<g id=\"edge8\" class=\"edge\"><title>F1&#45;&gt;F1</title>\n",
       "<path fill=\"none\" stroke=\"black\" d=\"M193.36,-46.0421C192.478,-56.3282 195.173,-65.3155 201.447,-65.3155 205.466,-65.3155 208.016,-61.6271 209.099,-56.2717\"/>\n",
       "<polygon fill=\"black\" stroke=\"black\" points=\"212.606,-56.1818 209.534,-46.0421 205.612,-55.8843 212.606,-56.1818\"/>\n",
       "<text text-anchor=\"middle\" x=\"201.447\" y=\"-68.1155\" font-family=\"Times,serif\" font-size=\"14.00\">1</text>\n",
       "</g>\n",
       "</g>\n",
       "</svg>\n"
      ],
      "text/plain": [
       "<graphviz.dot.Digraph at 0x10c16a4e0>"
      ]
     },
     "execution_count": 27,
     "metadata": {},
     "output_type": "execute_result"
    }
   ],
   "source": [
    "dfaBESame = md2mc('''\n",
    "DFA !! Begins and ends with same; epsilon allowed\n",
    "IF  : 0 -> F0\n",
    "IF  : 1 -> F1\n",
    "!!\n",
    "F0  : 0 -> F0\n",
    "F0  : 1 -> S01\n",
    "S01 : 1 -> S01\n",
    "S01 : 0 -> F0\n",
    "!!\n",
    "F1  : 1 -> F1\n",
    "F1  : 0 -> S10\n",
    "S10 : 0 -> S10\n",
    "S10 : 1 -> F1\n",
    "''')\n",
    "DOdfaBESame = dotObj_dfa(dfaBESame)\n",
    "DOdfaBESame"
   ]
  },
  {
   "cell_type": "code",
   "execution_count": 28,
   "metadata": {
    "run_control": {
     "frozen": false,
     "read_only": false
    }
   },
   "outputs": [
    {
     "data": {
      "text/plain": [
       "'// do_St7\\ndigraph {\\n\\tgraph [rankdir=LR]\\n\\t\\tEMPTY [label=\"\" shape=plaintext]\\n\\t\\tS01 [label=S01 peripheries=1 shape=circle]\\n\\t\\tS10 [label=S10 peripheries=1 shape=circle]\\n\\t\\tIF [label=IF peripheries=2 shape=circle]\\n\\t\\tF0 [label=F0 peripheries=2 shape=circle]\\n\\t\\tF1 [label=F1 peripheries=2 shape=circle]\\n\\t\\t\\tEMPTY -> IF\\n\\t\\t\\tIF -> F0 [label=0]\\n\\t\\t\\tIF -> F1 [label=1]\\n\\t\\t\\tF0 -> F0 [label=0]\\n\\t\\t\\tF0 -> S01 [label=1]\\n\\t\\t\\tS01 -> S01 [label=1]\\n\\t\\t\\tS01 -> F0 [label=0]\\n\\t\\t\\tF1 -> F1 [label=1]\\n\\t\\t\\tF1 -> S10 [label=0]\\n\\t\\t\\tS10 -> S10 [label=0]\\n\\t\\t\\tS10 -> F1 [label=1]\\n}'"
      ]
     },
     "execution_count": 28,
     "metadata": {},
     "output_type": "execute_result"
    }
   ],
   "source": [
    "DOdfaBESame.source"
   ]
  },
  {
   "cell_type": "markdown",
   "metadata": {
    "run_control": {
     "frozen": false,
     "read_only": false
    }
   },
   "source": [
    "### Let us now administer some tests to print dot-strings generated.\n",
    "\n",
    "We will demonstrate two ways to print automata: \n",
    "\n",
    "1. First generate a dot string via dot_dfa or dot_dfa_w_bh\n",
    "   (calling the result \"dot_string\") \n",
    "   1. Then use the srcObj = Source(dot_string) call\n",
    "   2. Thereafter we can display the srcObj object directly into the browser\n",
    "   3. Or, one can also later convert the dot_string to svg or PDF\n",
    "2. OR, one can directly generate a dot object via the dotObj_dfa or dotObj_dfa_w_bh call\n",
    "   (calling the result \"dot_object\")\n",
    "   1. Then directly display the dot_object\n",
    "   2. There are conversions available for dot_object to other formats too"
   ]
  },
  {
   "cell_type": "code",
   "execution_count": 29,
   "metadata": {
    "code_folding": [],
    "run_control": {
     "frozen": false,
     "read_only": false
    }
   },
   "outputs": [],
   "source": [
    "DFA_fig34 = { 'Q': {'A', 'IF', 'B'},\n",
    "              'Sigma': {'0', '1'},\n",
    "              'Delta': { ('IF', '0'): 'A',\n",
    "                         ('IF', '1'): 'IF',\n",
    "                         ('A', '0'): 'B',\n",
    "                         ('A', '1'): 'A',\n",
    "                         ('B', '0'): 'IF',\n",
    "                         ('B', '1'): 'B' },\n",
    "              'q0': 'IF', \n",
    "              'F': {'IF'}   \n",
    "            }\n",
    "\n",
    "def dfa_dot_tests():\n",
    "    \"\"\"Some dot-routine related tests.\n",
    "    \"\"\"\n",
    "    dot_string = dot_dfa(DFA_fig34)\n",
    "    dot_object1 = Source(dot_string)\n",
    "    return dot_object1.source"
   ]
  },
  {
   "cell_type": "markdown",
   "metadata": {
    "run_control": {
     "frozen": false,
     "read_only": false
    }
   },
   "source": [
    "Let us test functions step_dfa, run_dfa, and accepts_dfa"
   ]
  },
  {
   "cell_type": "code",
   "execution_count": 30,
   "metadata": {
    "code_folding": [],
    "run_control": {
     "frozen": false,
     "read_only": false
    }
   },
   "outputs": [],
   "source": [
    "# Some tests of step, run, etc.\n",
    "\n",
    "DFA_fig34 = { 'Q': {'A', 'IF', 'B'},\n",
    "              'Sigma': {'0', '1'},\n",
    "              'Delta': { ('IF', '0'): 'A',\n",
    "                         ('IF', '1'): 'IF',\n",
    "                         ('A', '0'): 'B',\n",
    "                         ('A', '1'): 'A',\n",
    "                         ('B', '0'): 'IF',\n",
    "                         ('B', '1'): 'B' },\n",
    "              'q0': 'IF', \n",
    "              'F': {'IF'}   \n",
    "            }\n",
    "\n",
    "def step_run_accepts_tests():\n",
    "    print(\"step_dfa(DFA_fig34, 'IF', '1') = \", \n",
    "          step_dfa(DFA_fig34, 'IF', '1'))\n",
    "    print(\"step_dfa(DFA_fig34, 'A', '0') = \", \n",
    "          step_dfa(DFA_fig34, 'A', '0'))\n",
    "\n",
    "    print(\"run_dfa(DFA_fig34, '101001') = \", \n",
    "          run_dfa(DFA_fig34, '101001'))\n",
    "    print(\"run_dfa(DFA_fig34, '101000') = \", \n",
    "          run_dfa(DFA_fig34, '101000'))\n",
    "\n",
    "    print(\"accepts_dfa(DFA_fig34, '101001') = \", \n",
    "          accepts_dfa(DFA_fig34, '101001')) \n",
    "    print(\"accepts_dfa(DFA_fig34, '101000') = \", \n",
    "          accepts_dfa(DFA_fig34, '101000')) "
   ]
  },
  {
   "cell_type": "code",
   "execution_count": 31,
   "metadata": {
    "run_control": {
     "frozen": false,
     "read_only": false
    }
   },
   "outputs": [
    {
     "data": {
      "image/svg+xml": [
       "<?xml version=\"1.0\" encoding=\"UTF-8\" standalone=\"no\"?>\n",
       "<!DOCTYPE svg PUBLIC \"-//W3C//DTD SVG 1.1//EN\"\n",
       " \"http://www.w3.org/Graphics/SVG/1.1/DTD/svg11.dtd\">\n",
       "<!-- Generated by graphviz version 2.38.0 (20140413.2041)\n",
       " -->\n",
       "<!-- Title: %3 Pages: 1 -->\n",
       "<svg width=\"301pt\" height=\"137pt\"\n",
       " viewBox=\"0.00 0.00 301.00 137.00\" xmlns=\"http://www.w3.org/2000/svg\" xmlns:xlink=\"http://www.w3.org/1999/xlink\">\n",
       "<g id=\"graph0\" class=\"graph\" transform=\"scale(1 1) rotate(0) translate(4 133)\">\n",
       "<title>%3</title>\n",
       "<polygon fill=\"white\" stroke=\"none\" points=\"-4,4 -4,-133 297,-133 297,4 -4,4\"/>\n",
       "<!-- EMPTY -->\n",
       "<g id=\"node1\" class=\"node\"><title>EMPTY</title>\n",
       "</g>\n",
       "<!-- IF -->\n",
       "<g id=\"node4\" class=\"node\"><title>IF</title>\n",
       "<ellipse fill=\"none\" stroke=\"black\" cx=\"113\" cy=\"-75\" rx=\"18\" ry=\"18\"/>\n",
       "<ellipse fill=\"none\" stroke=\"black\" cx=\"113\" cy=\"-75\" rx=\"22\" ry=\"22\"/>\n",
       "<text text-anchor=\"middle\" x=\"113\" y=\"-70.8\" font-family=\"Times,serif\" font-size=\"14.00\">IF</text>\n",
       "</g>\n",
       "<!-- EMPTY&#45;&gt;IF -->\n",
       "<g id=\"edge1\" class=\"edge\"><title>EMPTY&#45;&gt;IF</title>\n",
       "<path fill=\"none\" stroke=\"black\" d=\"M54.1177,-75C62.5406,-75 71.9629,-75 80.7191,-75\"/>\n",
       "<polygon fill=\"black\" stroke=\"black\" points=\"80.9574,-78.5001 90.9574,-75 80.9573,-71.5001 80.9574,-78.5001\"/>\n",
       "</g>\n",
       "<!-- B -->\n",
       "<g id=\"node2\" class=\"node\"><title>B</title>\n",
       "<ellipse fill=\"none\" stroke=\"black\" cx=\"275\" cy=\"-75\" rx=\"18\" ry=\"18\"/>\n",
       "<text text-anchor=\"middle\" x=\"275\" y=\"-70.8\" font-family=\"Times,serif\" font-size=\"14.00\">B</text>\n",
       "</g>\n",
       "<!-- B&#45;&gt;B -->\n",
       "<g id=\"edge7\" class=\"edge\"><title>B&#45;&gt;B</title>\n",
       "<path fill=\"none\" stroke=\"black\" d=\"M268.266,-92.0373C266.892,-101.858 269.137,-111 275,-111 278.665,-111 280.916,-107.429 281.753,-102.353\"/>\n",
       "<polygon fill=\"black\" stroke=\"black\" points=\"285.252,-102.031 281.734,-92.0373 278.252,-102.044 285.252,-102.031\"/>\n",
       "<text text-anchor=\"middle\" x=\"275\" y=\"-113.8\" font-family=\"Times,serif\" font-size=\"14.00\">1</text>\n",
       "</g>\n",
       "<!-- B&#45;&gt;IF -->\n",
       "<g id=\"edge6\" class=\"edge\"><title>B&#45;&gt;IF</title>\n",
       "<path fill=\"none\" stroke=\"black\" d=\"M256.935,-75.7202C244.929,-76.1898 228.485,-76.7586 214,-77 198.002,-77.2666 193.998,-77.2499 178,-77 167.358,-76.8338 155.724,-76.5121 145.329,-76.1746\"/>\n",
       "<polygon fill=\"black\" stroke=\"black\" points=\"145.152,-72.6666 135.038,-75.8229 144.913,-79.6625 145.152,-72.6666\"/>\n",
       "<text text-anchor=\"middle\" x=\"196\" y=\"-79.8\" font-family=\"Times,serif\" font-size=\"14.00\">0</text>\n",
       "</g>\n",
       "<!-- A -->\n",
       "<g id=\"node3\" class=\"node\"><title>A</title>\n",
       "<ellipse fill=\"none\" stroke=\"black\" cx=\"196\" cy=\"-18\" rx=\"18\" ry=\"18\"/>\n",
       "<text text-anchor=\"middle\" x=\"196\" y=\"-13.8\" font-family=\"Times,serif\" font-size=\"14.00\">A</text>\n",
       "</g>\n",
       "<!-- A&#45;&gt;B -->\n",
       "<g id=\"edge4\" class=\"edge\"><title>A&#45;&gt;B</title>\n",
       "<path fill=\"none\" stroke=\"black\" d=\"M211.123,-28.4547C222.52,-36.8913 238.758,-48.9118 251.878,-58.6237\"/>\n",
       "<polygon fill=\"black\" stroke=\"black\" points=\"249.847,-61.4749 259.967,-64.6116 254.012,-55.8487 249.847,-61.4749\"/>\n",
       "<text text-anchor=\"middle\" x=\"235.5\" y=\"-50.8\" font-family=\"Times,serif\" font-size=\"14.00\">0</text>\n",
       "</g>\n",
       "<!-- A&#45;&gt;A -->\n",
       "<g id=\"edge5\" class=\"edge\"><title>A&#45;&gt;A</title>\n",
       "<path fill=\"none\" stroke=\"black\" d=\"M189.266,-35.0373C187.892,-44.8579 190.137,-54 196,-54 199.665,-54 201.916,-50.4289 202.753,-45.3529\"/>\n",
       "<polygon fill=\"black\" stroke=\"black\" points=\"206.252,-45.0307 202.734,-35.0373 199.252,-45.0439 206.252,-45.0307\"/>\n",
       "<text text-anchor=\"middle\" x=\"196\" y=\"-56.8\" font-family=\"Times,serif\" font-size=\"14.00\">1</text>\n",
       "</g>\n",
       "<!-- IF&#45;&gt;A -->\n",
       "<g id=\"edge2\" class=\"edge\"><title>IF&#45;&gt;A</title>\n",
       "<path fill=\"none\" stroke=\"black\" d=\"M131.576,-62.6318C143.522,-54.2252 159.436,-43.0264 172.335,-33.9498\"/>\n",
       "<polygon fill=\"black\" stroke=\"black\" points=\"174.533,-36.6827 180.697,-28.0654 170.504,-30.958 174.533,-36.6827\"/>\n",
       "<text text-anchor=\"middle\" x=\"156.5\" y=\"-48.8\" font-family=\"Times,serif\" font-size=\"14.00\">0</text>\n",
       "</g>\n",
       "<!-- IF&#45;&gt;IF -->\n",
       "<g id=\"edge3\" class=\"edge\"><title>IF&#45;&gt;IF</title>\n",
       "<path fill=\"none\" stroke=\"black\" d=\"M105.683,-95.9908C104.78,-106.087 107.219,-115 113,-115 116.704,-115 119.036,-111.342 119.996,-106.059\"/>\n",
       "<polygon fill=\"black\" stroke=\"black\" points=\"123.496,-106.097 120.317,-95.9908 116.5,-105.874 123.496,-106.097\"/>\n",
       "<text text-anchor=\"middle\" x=\"113\" y=\"-117.8\" font-family=\"Times,serif\" font-size=\"14.00\">1</text>\n",
       "</g>\n",
       "</g>\n",
       "</svg>\n"
      ],
      "text/plain": [
       "<graphviz.dot.Digraph at 0x10c7e67f0>"
      ]
     },
     "execution_count": 31,
     "metadata": {},
     "output_type": "execute_result"
    }
   ],
   "source": [
    "dotObj_dfa(DFA_fig34, \"DFA_fig34\")"
   ]
  },
  {
   "cell_type": "code",
   "execution_count": 32,
   "metadata": {
    "code_folding": [],
    "run_control": {
     "frozen": false,
     "read_only": false
    }
   },
   "outputs": [
    {
     "data": {
      "image/svg+xml": [
       "<?xml version=\"1.0\" encoding=\"UTF-8\" standalone=\"no\"?>\n",
       "<!DOCTYPE svg PUBLIC \"-//W3C//DTD SVG 1.1//EN\"\n",
       " \"http://www.w3.org/Graphics/SVG/1.1/DTD/svg11.dtd\">\n",
       "<!-- Generated by graphviz version 2.38.0 (20140413.2041)\n",
       " -->\n",
       "<!-- Title: %3 Pages: 1 -->\n",
       "<svg width=\"309pt\" height=\"117pt\"\n",
       " viewBox=\"0.00 0.00 309.00 117.00\" xmlns=\"http://www.w3.org/2000/svg\" xmlns:xlink=\"http://www.w3.org/1999/xlink\">\n",
       "<g id=\"graph0\" class=\"graph\" transform=\"scale(1 1) rotate(0) translate(4 113)\">\n",
       "<title>%3</title>\n",
       "<polygon fill=\"white\" stroke=\"none\" points=\"-4,4 -4,-113 305,-113 305,4 -4,4\"/>\n",
       "<!-- EMPTY -->\n",
       "<g id=\"node1\" class=\"node\"><title>EMPTY</title>\n",
       "</g>\n",
       "<!-- IF -->\n",
       "<g id=\"node2\" class=\"node\"><title>IF</title>\n",
       "<ellipse fill=\"none\" stroke=\"black\" cx=\"109\" cy=\"-22\" rx=\"18\" ry=\"18\"/>\n",
       "<text text-anchor=\"middle\" x=\"109\" y=\"-17.8\" font-family=\"Times,serif\" font-size=\"14.00\">IF</text>\n",
       "</g>\n",
       "<!-- EMPTY&#45;&gt;IF -->\n",
       "<g id=\"edge1\" class=\"edge\"><title>EMPTY&#45;&gt;IF</title>\n",
       "<path fill=\"none\" stroke=\"black\" d=\"M54.195,-22C62.6538,-22 72.0513,-22 80.5951,-22\"/>\n",
       "<polygon fill=\"black\" stroke=\"black\" points=\"80.8257,-25.5001 90.8257,-22 80.8257,-18.5001 80.8257,-25.5001\"/>\n",
       "</g>\n",
       "<!-- IF&#45;&gt;IF -->\n",
       "<g id=\"edge3\" class=\"edge\"><title>IF&#45;&gt;IF</title>\n",
       "<path fill=\"none\" stroke=\"black\" d=\"M102.621,-39.0373C101.319,-48.8579 103.445,-58 109,-58 112.472,-58 114.604,-54.4289 115.398,-49.3529\"/>\n",
       "<polygon fill=\"black\" stroke=\"black\" points=\"118.897,-49.031 115.379,-39.0373 111.897,-49.0435 118.897,-49.031\"/>\n",
       "<text text-anchor=\"middle\" x=\"109\" y=\"-60.8\" font-family=\"Times,serif\" font-size=\"14.00\">1</text>\n",
       "</g>\n",
       "<!-- A -->\n",
       "<g id=\"node4\" class=\"node\"><title>A</title>\n",
       "<ellipse fill=\"none\" stroke=\"black\" cx=\"192\" cy=\"-55\" rx=\"18\" ry=\"18\"/>\n",
       "<ellipse fill=\"none\" stroke=\"black\" cx=\"192\" cy=\"-55\" rx=\"22\" ry=\"22\"/>\n",
       "<text text-anchor=\"middle\" x=\"192\" y=\"-50.8\" font-family=\"Times,serif\" font-size=\"14.00\">A</text>\n",
       "</g>\n",
       "<!-- IF&#45;&gt;A -->\n",
       "<g id=\"edge2\" class=\"edge\"><title>IF&#45;&gt;A</title>\n",
       "<path fill=\"none\" stroke=\"black\" d=\"M126.003,-28.5197C136.262,-32.6994 149.881,-38.2476 162.001,-43.1854\"/>\n",
       "<polygon fill=\"black\" stroke=\"black\" points=\"160.725,-46.445 171.307,-46.9767 163.366,-39.9624 160.725,-46.445\"/>\n",
       "<text text-anchor=\"middle\" x=\"148.5\" y=\"-40.8\" font-family=\"Times,serif\" font-size=\"14.00\">0</text>\n",
       "</g>\n",
       "<!-- B -->\n",
       "<g id=\"node3\" class=\"node\"><title>B</title>\n",
       "<ellipse fill=\"none\" stroke=\"black\" cx=\"279\" cy=\"-22\" rx=\"18\" ry=\"18\"/>\n",
       "<ellipse fill=\"none\" stroke=\"black\" cx=\"279\" cy=\"-22\" rx=\"22\" ry=\"22\"/>\n",
       "<text text-anchor=\"middle\" x=\"279\" y=\"-17.8\" font-family=\"Times,serif\" font-size=\"14.00\">B</text>\n",
       "</g>\n",
       "<!-- B&#45;&gt;IF -->\n",
       "<g id=\"edge6\" class=\"edge\"><title>B&#45;&gt;IF</title>\n",
       "<path fill=\"none\" stroke=\"black\" d=\"M257.384,-17.129C244.908,-14.4332 228.633,-11.36 214,-10 194.528,-8.1903 189.46,-8.07304 170,-10 159.016,-11.0877 147.064,-13.2693 136.739,-15.4777\"/>\n",
       "<polygon fill=\"black\" stroke=\"black\" points=\"135.664,-12.132 126.677,-17.744 137.202,-18.961 135.664,-12.132\"/>\n",
       "<text text-anchor=\"middle\" x=\"192\" y=\"-12.8\" font-family=\"Times,serif\" font-size=\"14.00\">0</text>\n",
       "</g>\n",
       "<!-- B&#45;&gt;B -->\n",
       "<g id=\"edge7\" class=\"edge\"><title>B&#45;&gt;B</title>\n",
       "<path fill=\"none\" stroke=\"black\" d=\"M271.317,-42.9908C270.369,-53.0872 272.93,-62 279,-62 282.889,-62 285.337,-58.3422 286.346,-53.0587\"/>\n",
       "<polygon fill=\"black\" stroke=\"black\" points=\"289.846,-53.1023 286.683,-42.9908 282.85,-52.868 289.846,-53.1023\"/>\n",
       "<text text-anchor=\"middle\" x=\"279\" y=\"-64.8\" font-family=\"Times,serif\" font-size=\"14.00\">1</text>\n",
       "</g>\n",
       "<!-- A&#45;&gt;B -->\n",
       "<g id=\"edge4\" class=\"edge\"><title>A&#45;&gt;B</title>\n",
       "<path fill=\"none\" stroke=\"black\" d=\"M212.714,-47.3462C223.366,-43.2109 236.728,-38.0231 248.585,-33.4199\"/>\n",
       "<polygon fill=\"black\" stroke=\"black\" points=\"250.043,-36.6086 258.098,-29.7266 247.509,-30.0831 250.043,-36.6086\"/>\n",
       "<text text-anchor=\"middle\" x=\"235.5\" y=\"-41.8\" font-family=\"Times,serif\" font-size=\"14.00\">0</text>\n",
       "</g>\n",
       "<!-- A&#45;&gt;A -->\n",
       "<g id=\"edge5\" class=\"edge\"><title>A&#45;&gt;A</title>\n",
       "<path fill=\"none\" stroke=\"black\" d=\"M184.317,-75.9908C183.369,-86.0872 185.93,-95 192,-95 195.889,-95 198.337,-91.3422 199.346,-86.0587\"/>\n",
       "<polygon fill=\"black\" stroke=\"black\" points=\"202.846,-86.1023 199.683,-75.9908 195.85,-85.868 202.846,-86.1023\"/>\n",
       "<text text-anchor=\"middle\" x=\"192\" y=\"-97.8\" font-family=\"Times,serif\" font-size=\"14.00\">1</text>\n",
       "</g>\n",
       "</g>\n",
       "</svg>\n"
      ],
      "text/plain": [
       "<graphviz.dot.Digraph at 0x10c7e6470>"
      ]
     },
     "execution_count": 32,
     "metadata": {},
     "output_type": "execute_result"
    }
   ],
   "source": [
    "# Run a complementation test\n",
    "DFA_fig34_comp = comp_dfa(DFA_fig34)\n",
    "dotObj_dfa(DFA_fig34_comp, \"DFA_fig34_comp\")\n",
    "dotObj_dfa(DFA_fig34)\n",
    "dotObj_dfa(DFA_fig34_comp, \"DFA_fig34_comp\")"
   ]
  },
  {
   "cell_type": "code",
   "execution_count": 33,
   "metadata": {
    "run_control": {
     "frozen": false,
     "read_only": false
    }
   },
   "outputs": [
    {
     "data": {
      "image/svg+xml": [
       "<?xml version=\"1.0\" encoding=\"UTF-8\" standalone=\"no\"?>\n",
       "<!DOCTYPE svg PUBLIC \"-//W3C//DTD SVG 1.1//EN\"\n",
       " \"http://www.w3.org/Graphics/SVG/1.1/DTD/svg11.dtd\">\n",
       "<!-- Generated by graphviz version 2.38.0 (20140413.2041)\n",
       " -->\n",
       "<!-- Title: %3 Pages: 1 -->\n",
       "<svg width=\"309pt\" height=\"117pt\"\n",
       " viewBox=\"0.00 0.00 309.00 117.00\" xmlns=\"http://www.w3.org/2000/svg\" xmlns:xlink=\"http://www.w3.org/1999/xlink\">\n",
       "<g id=\"graph0\" class=\"graph\" transform=\"scale(1 1) rotate(0) translate(4 113)\">\n",
       "<title>%3</title>\n",
       "<polygon fill=\"white\" stroke=\"none\" points=\"-4,4 -4,-113 305,-113 305,4 -4,4\"/>\n",
       "<!-- EMPTY -->\n",
       "<g id=\"node1\" class=\"node\"><title>EMPTY</title>\n",
       "</g>\n",
       "<!-- IF -->\n",
       "<g id=\"node2\" class=\"node\"><title>IF</title>\n",
       "<ellipse fill=\"none\" stroke=\"black\" cx=\"109\" cy=\"-22\" rx=\"18\" ry=\"18\"/>\n",
       "<text text-anchor=\"middle\" x=\"109\" y=\"-17.8\" font-family=\"Times,serif\" font-size=\"14.00\">IF</text>\n",
       "</g>\n",
       "<!-- EMPTY&#45;&gt;IF -->\n",
       "<g id=\"edge1\" class=\"edge\"><title>EMPTY&#45;&gt;IF</title>\n",
       "<path fill=\"none\" stroke=\"black\" d=\"M54.195,-22C62.6538,-22 72.0513,-22 80.5951,-22\"/>\n",
       "<polygon fill=\"black\" stroke=\"black\" points=\"80.8257,-25.5001 90.8257,-22 80.8257,-18.5001 80.8257,-25.5001\"/>\n",
       "</g>\n",
       "<!-- IF&#45;&gt;IF -->\n",
       "<g id=\"edge3\" class=\"edge\"><title>IF&#45;&gt;IF</title>\n",
       "<path fill=\"none\" stroke=\"black\" d=\"M102.621,-39.0373C101.319,-48.8579 103.445,-58 109,-58 112.472,-58 114.604,-54.4289 115.398,-49.3529\"/>\n",
       "<polygon fill=\"black\" stroke=\"black\" points=\"118.897,-49.031 115.379,-39.0373 111.897,-49.0435 118.897,-49.031\"/>\n",
       "<text text-anchor=\"middle\" x=\"109\" y=\"-60.8\" font-family=\"Times,serif\" font-size=\"14.00\">1</text>\n",
       "</g>\n",
       "<!-- A -->\n",
       "<g id=\"node4\" class=\"node\"><title>A</title>\n",
       "<ellipse fill=\"none\" stroke=\"black\" cx=\"192\" cy=\"-55\" rx=\"18\" ry=\"18\"/>\n",
       "<ellipse fill=\"none\" stroke=\"black\" cx=\"192\" cy=\"-55\" rx=\"22\" ry=\"22\"/>\n",
       "<text text-anchor=\"middle\" x=\"192\" y=\"-50.8\" font-family=\"Times,serif\" font-size=\"14.00\">A</text>\n",
       "</g>\n",
       "<!-- IF&#45;&gt;A -->\n",
       "<g id=\"edge2\" class=\"edge\"><title>IF&#45;&gt;A</title>\n",
       "<path fill=\"none\" stroke=\"black\" d=\"M126.003,-28.5197C136.262,-32.6994 149.881,-38.2476 162.001,-43.1854\"/>\n",
       "<polygon fill=\"black\" stroke=\"black\" points=\"160.725,-46.445 171.307,-46.9767 163.366,-39.9624 160.725,-46.445\"/>\n",
       "<text text-anchor=\"middle\" x=\"148.5\" y=\"-40.8\" font-family=\"Times,serif\" font-size=\"14.00\">0</text>\n",
       "</g>\n",
       "<!-- B -->\n",
       "<g id=\"node3\" class=\"node\"><title>B</title>\n",
       "<ellipse fill=\"none\" stroke=\"black\" cx=\"279\" cy=\"-22\" rx=\"18\" ry=\"18\"/>\n",
       "<ellipse fill=\"none\" stroke=\"black\" cx=\"279\" cy=\"-22\" rx=\"22\" ry=\"22\"/>\n",
       "<text text-anchor=\"middle\" x=\"279\" y=\"-17.8\" font-family=\"Times,serif\" font-size=\"14.00\">B</text>\n",
       "</g>\n",
       "<!-- B&#45;&gt;IF -->\n",
       "<g id=\"edge6\" class=\"edge\"><title>B&#45;&gt;IF</title>\n",
       "<path fill=\"none\" stroke=\"black\" d=\"M257.384,-17.129C244.908,-14.4332 228.633,-11.36 214,-10 194.528,-8.1903 189.46,-8.07304 170,-10 159.016,-11.0877 147.064,-13.2693 136.739,-15.4777\"/>\n",
       "<polygon fill=\"black\" stroke=\"black\" points=\"135.664,-12.132 126.677,-17.744 137.202,-18.961 135.664,-12.132\"/>\n",
       "<text text-anchor=\"middle\" x=\"192\" y=\"-12.8\" font-family=\"Times,serif\" font-size=\"14.00\">0</text>\n",
       "</g>\n",
       "<!-- B&#45;&gt;B -->\n",
       "<g id=\"edge7\" class=\"edge\"><title>B&#45;&gt;B</title>\n",
       "<path fill=\"none\" stroke=\"black\" d=\"M271.317,-42.9908C270.369,-53.0872 272.93,-62 279,-62 282.889,-62 285.337,-58.3422 286.346,-53.0587\"/>\n",
       "<polygon fill=\"black\" stroke=\"black\" points=\"289.846,-53.1023 286.683,-42.9908 282.85,-52.868 289.846,-53.1023\"/>\n",
       "<text text-anchor=\"middle\" x=\"279\" y=\"-64.8\" font-family=\"Times,serif\" font-size=\"14.00\">1</text>\n",
       "</g>\n",
       "<!-- A&#45;&gt;B -->\n",
       "<g id=\"edge4\" class=\"edge\"><title>A&#45;&gt;B</title>\n",
       "<path fill=\"none\" stroke=\"black\" d=\"M212.714,-47.3462C223.366,-43.2109 236.728,-38.0231 248.585,-33.4199\"/>\n",
       "<polygon fill=\"black\" stroke=\"black\" points=\"250.043,-36.6086 258.098,-29.7266 247.509,-30.0831 250.043,-36.6086\"/>\n",
       "<text text-anchor=\"middle\" x=\"235.5\" y=\"-41.8\" font-family=\"Times,serif\" font-size=\"14.00\">0</text>\n",
       "</g>\n",
       "<!-- A&#45;&gt;A -->\n",
       "<g id=\"edge5\" class=\"edge\"><title>A&#45;&gt;A</title>\n",
       "<path fill=\"none\" stroke=\"black\" d=\"M184.317,-75.9908C183.369,-86.0872 185.93,-95 192,-95 195.889,-95 198.337,-91.3422 199.346,-86.0587\"/>\n",
       "<polygon fill=\"black\" stroke=\"black\" points=\"202.846,-86.1023 199.683,-75.9908 195.85,-85.868 202.846,-86.1023\"/>\n",
       "<text text-anchor=\"middle\" x=\"192\" y=\"-97.8\" font-family=\"Times,serif\" font-size=\"14.00\">1</text>\n",
       "</g>\n",
       "</g>\n",
       "</svg>\n"
      ],
      "text/plain": [
       "<graphviz.dot.Digraph at 0x10c7e6a90>"
      ]
     },
     "execution_count": 33,
     "metadata": {},
     "output_type": "execute_result"
    }
   ],
   "source": [
    "dotObj_dfa(DFA_fig34_comp)"
   ]
  },
  {
   "cell_type": "code",
   "execution_count": 34,
   "metadata": {
    "run_control": {
     "frozen": false,
     "read_only": false
    }
   },
   "outputs": [
    {
     "data": {
      "image/svg+xml": [
       "<?xml version=\"1.0\" encoding=\"UTF-8\" standalone=\"no\"?>\n",
       "<!DOCTYPE svg PUBLIC \"-//W3C//DTD SVG 1.1//EN\"\n",
       " \"http://www.w3.org/Graphics/SVG/1.1/DTD/svg11.dtd\">\n",
       "<!-- Generated by graphviz version 2.38.0 (20140413.2041)\n",
       " -->\n",
       "<!-- Title: %3 Pages: 1 -->\n",
       "<svg width=\"412pt\" height=\"161pt\"\n",
       " viewBox=\"0.00 0.00 412.10 161.34\" xmlns=\"http://www.w3.org/2000/svg\" xmlns:xlink=\"http://www.w3.org/1999/xlink\">\n",
       "<g id=\"graph0\" class=\"graph\" transform=\"scale(1 1) rotate(0) translate(4 157.336)\">\n",
       "<title>%3</title>\n",
       "<polygon fill=\"white\" stroke=\"none\" points=\"-4,4 -4,-157.336 408.104,-157.336 408.104,4 -4,4\"/>\n",
       "<!-- EMPTY -->\n",
       "<g id=\"node1\" class=\"node\"><title>EMPTY</title>\n",
       "</g>\n",
       "<!-- \\(IF_IF\\) -->\n",
       "<g id=\"node2\" class=\"node\"><title>\\(IF_IF\\)</title>\n",
       "<ellipse fill=\"none\" stroke=\"black\" cx=\"131.145\" cy=\"-40.145\" rx=\"36.2759\" ry=\"36.2759\"/>\n",
       "<ellipse fill=\"none\" stroke=\"black\" cx=\"131.145\" cy=\"-40.145\" rx=\"40.2904\" ry=\"40.2904\"/>\n",
       "<text text-anchor=\"middle\" x=\"131.145\" y=\"-35.945\" font-family=\"Times,serif\" font-size=\"14.00\">(IF_IF)</text>\n",
       "</g>\n",
       "<!-- EMPTY&#45;&gt;\\(IF_IF\\) -->\n",
       "<g id=\"edge1\" class=\"edge\"><title>EMPTY&#45;&gt;\\(IF_IF\\)</title>\n",
       "<path fill=\"none\" stroke=\"black\" d=\"M54.0398,-40.145C62.1135,-40.145 71.296,-40.145 80.4211,-40.145\"/>\n",
       "<polygon fill=\"black\" stroke=\"black\" points=\"80.6371,-43.6451 90.6371,-40.145 80.637,-36.6451 80.6371,-43.6451\"/>\n",
       "</g>\n",
       "<!-- \\(IF_IF\\)&#45;&gt;\\(IF_IF\\) -->\n",
       "<g id=\"edge2\" class=\"edge\"><title>\\(IF_IF\\)&#45;&gt;\\(IF_IF\\)</title>\n",
       "<path fill=\"none\" stroke=\"black\" d=\"M120.324,-79.0023C120.798,-89.9139 124.405,-98.2899 131.145,-98.2899 135.568,-98.2899 138.642,-94.6827 140.367,-89.1188\"/>\n",
       "<polygon fill=\"black\" stroke=\"black\" points=\"143.862,-89.4262 141.966,-79.0023 136.947,-88.333 143.862,-89.4262\"/>\n",
       "<text text-anchor=\"middle\" x=\"131.145\" y=\"-101.09\" font-family=\"Times,serif\" font-size=\"14.00\">1</text>\n",
       "</g>\n",
       "<!-- \\(A_A\\) -->\n",
       "<g id=\"node3\" class=\"node\"><title>\\(A_A\\)</title>\n",
       "<ellipse fill=\"none\" stroke=\"black\" cx=\"251.481\" cy=\"-84.145\" rx=\"33.3631\" ry=\"33.3631\"/>\n",
       "<ellipse fill=\"none\" stroke=\"black\" cx=\"251.481\" cy=\"-84.145\" rx=\"37.3837\" ry=\"37.3837\"/>\n",
       "<text text-anchor=\"middle\" x=\"251.481\" y=\"-79.945\" font-family=\"Times,serif\" font-size=\"14.00\">(A_A)</text>\n",
       "</g>\n",
       "<!-- \\(IF_IF\\)&#45;&gt;\\(A_A\\) -->\n",
       "<g id=\"edge6\" class=\"edge\"><title>\\(IF_IF\\)&#45;&gt;\\(A_A\\)</title>\n",
       "<path fill=\"none\" stroke=\"black\" d=\"M168.939,-53.8256C180.824,-58.2447 194.121,-63.189 206.473,-67.7818\"/>\n",
       "<polygon fill=\"black\" stroke=\"black\" points=\"205.539,-71.1685 216.132,-71.3731 207.979,-64.6074 205.539,-71.1685\"/>\n",
       "<text text-anchor=\"middle\" x=\"192.79\" y=\"-65.945\" font-family=\"Times,serif\" font-size=\"14.00\">0</text>\n",
       "</g>\n",
       "<!-- \\(A_A\\)&#45;&gt;\\(A_A\\) -->\n",
       "<g id=\"edge4\" class=\"edge\"><title>\\(A_A\\)&#45;&gt;\\(A_A\\)</title>\n",
       "<path fill=\"none\" stroke=\"black\" d=\"M240.623,-119.976C240.895,-130.842 244.514,-139.336 251.481,-139.336 256.053,-139.336 259.184,-135.678 260.872,-130.092\"/>\n",
       "<polygon fill=\"black\" stroke=\"black\" points=\"264.368,-130.375 262.34,-119.976 257.44,-129.37 264.368,-130.375\"/>\n",
       "<text text-anchor=\"middle\" x=\"251.481\" y=\"-142.136\" font-family=\"Times,serif\" font-size=\"14.00\">1</text>\n",
       "</g>\n",
       "<!-- \\(B_B\\) -->\n",
       "<g id=\"node4\" class=\"node\"><title>\\(B_B\\)</title>\n",
       "<ellipse fill=\"none\" stroke=\"black\" cx=\"367.888\" cy=\"-40.145\" rx=\"32.4083\" ry=\"32.4083\"/>\n",
       "<ellipse fill=\"none\" stroke=\"black\" cx=\"367.888\" cy=\"-40.145\" rx=\"36.4323\" ry=\"36.4323\"/>\n",
       "<text text-anchor=\"middle\" x=\"367.888\" y=\"-35.945\" font-family=\"Times,serif\" font-size=\"14.00\">(B_B)</text>\n",
       "</g>\n",
       "<!-- \\(A_A\\)&#45;&gt;\\(B_B\\) -->\n",
       "<g id=\"edge5\" class=\"edge\"><title>\\(A_A\\)&#45;&gt;\\(B_B\\)</title>\n",
       "<path fill=\"none\" stroke=\"black\" d=\"M286.497,-71.0626C298.243,-66.5452 311.559,-61.424 323.927,-56.6675\"/>\n",
       "<polygon fill=\"black\" stroke=\"black\" points=\"325.517,-59.806 333.594,-52.9496 323.004,-53.2726 325.517,-59.806\"/>\n",
       "<text text-anchor=\"middle\" x=\"310.173\" y=\"-64.945\" font-family=\"Times,serif\" font-size=\"14.00\">0</text>\n",
       "</g>\n",
       "<!-- \\(B_B\\)&#45;&gt;\\(IF_IF\\) -->\n",
       "<g id=\"edge7\" class=\"edge\"><title>\\(B_B\\)&#45;&gt;\\(IF_IF\\)</title>\n",
       "<path fill=\"none\" stroke=\"black\" d=\"M332.466,-31.5418C318.912,-28.5658 303.152,-25.6107 288.673,-24.145 255.782,-20.8153 247.196,-20.9701 214.29,-24.145 203.217,-25.2133 191.42,-27.0737 180.323,-29.1568\"/>\n",
       "<polygon fill=\"black\" stroke=\"black\" points=\"179.504,-25.7507 170.368,-31.1163 180.856,-32.6189 179.504,-25.7507\"/>\n",
       "<text text-anchor=\"middle\" x=\"251.481\" y=\"-26.945\" font-family=\"Times,serif\" font-size=\"14.00\">0</text>\n",
       "</g>\n",
       "<!-- \\(B_B\\)&#45;&gt;\\(B_B\\) -->\n",
       "<g id=\"edge3\" class=\"edge\"><title>\\(B_B\\)&#45;&gt;\\(B_B\\)</title>\n",
       "<path fill=\"none\" stroke=\"black\" d=\"M357.394,-74.82C357.554,-85.7431 361.052,-94.3604 367.888,-94.3604 372.374,-94.3604 375.423,-90.6493 377.034,-85.0107\"/>\n",
       "<polygon fill=\"black\" stroke=\"black\" points=\"380.54,-85.1927 378.382,-74.82 373.601,-84.2744 380.54,-85.1927\"/>\n",
       "<text text-anchor=\"middle\" x=\"367.888\" y=\"-97.1604\" font-family=\"Times,serif\" font-size=\"14.00\">1</text>\n",
       "</g>\n",
       "</g>\n",
       "</svg>\n"
      ],
      "text/plain": [
       "<graphviz.dot.Digraph at 0x10c177a90>"
      ]
     },
     "execution_count": 34,
     "metadata": {},
     "output_type": "execute_result"
    }
   ],
   "source": [
    "# One more test\n",
    "du     = union_dfa(DFA_fig34, DFA_fig34_comp)\n",
    "dotObj_dfa(du, \"orig union\")\n",
    "pdu    = pruneUnreach(du)\n",
    "pdu\n",
    "pduObj = dotObj_dfa(pdu, \"union of 34 and comp\")\n",
    "pduObj\n",
    "\n"
   ]
  },
  {
   "cell_type": "code",
   "execution_count": 35,
   "metadata": {
    "code_folding": [],
    "run_control": {
     "frozen": false,
     "read_only": false
    }
   },
   "outputs": [
    {
     "data": {
      "image/svg+xml": [
       "<?xml version=\"1.0\" encoding=\"UTF-8\" standalone=\"no\"?>\n",
       "<!DOCTYPE svg PUBLIC \"-//W3C//DTD SVG 1.1//EN\"\n",
       " \"http://www.w3.org/Graphics/SVG/1.1/DTD/svg11.dtd\">\n",
       "<!-- Generated by graphviz version 2.38.0 (20140413.2041)\n",
       " -->\n",
       "<!-- Title: %3 Pages: 1 -->\n",
       "<svg width=\"301pt\" height=\"137pt\"\n",
       " viewBox=\"0.00 0.00 301.00 137.00\" xmlns=\"http://www.w3.org/2000/svg\" xmlns:xlink=\"http://www.w3.org/1999/xlink\">\n",
       "<g id=\"graph0\" class=\"graph\" transform=\"scale(1 1) rotate(0) translate(4 133)\">\n",
       "<title>%3</title>\n",
       "<polygon fill=\"white\" stroke=\"none\" points=\"-4,4 -4,-133 297,-133 297,4 -4,4\"/>\n",
       "<!-- EMPTY -->\n",
       "<g id=\"node1\" class=\"node\"><title>EMPTY</title>\n",
       "</g>\n",
       "<!-- IF -->\n",
       "<g id=\"node4\" class=\"node\"><title>IF</title>\n",
       "<ellipse fill=\"none\" stroke=\"black\" cx=\"113\" cy=\"-75\" rx=\"18\" ry=\"18\"/>\n",
       "<ellipse fill=\"none\" stroke=\"black\" cx=\"113\" cy=\"-75\" rx=\"22\" ry=\"22\"/>\n",
       "<text text-anchor=\"middle\" x=\"113\" y=\"-70.8\" font-family=\"Times,serif\" font-size=\"14.00\">IF</text>\n",
       "</g>\n",
       "<!-- EMPTY&#45;&gt;IF -->\n",
       "<g id=\"edge1\" class=\"edge\"><title>EMPTY&#45;&gt;IF</title>\n",
       "<path fill=\"none\" stroke=\"black\" d=\"M54.1177,-75C62.5406,-75 71.9629,-75 80.7191,-75\"/>\n",
       "<polygon fill=\"black\" stroke=\"black\" points=\"80.9574,-78.5001 90.9574,-75 80.9573,-71.5001 80.9574,-78.5001\"/>\n",
       "</g>\n",
       "<!-- B -->\n",
       "<g id=\"node2\" class=\"node\"><title>B</title>\n",
       "<ellipse fill=\"none\" stroke=\"black\" cx=\"275\" cy=\"-75\" rx=\"18\" ry=\"18\"/>\n",
       "<text text-anchor=\"middle\" x=\"275\" y=\"-70.8\" font-family=\"Times,serif\" font-size=\"14.00\">B</text>\n",
       "</g>\n",
       "<!-- B&#45;&gt;B -->\n",
       "<g id=\"edge7\" class=\"edge\"><title>B&#45;&gt;B</title>\n",
       "<path fill=\"none\" stroke=\"black\" d=\"M268.266,-92.0373C266.892,-101.858 269.137,-111 275,-111 278.665,-111 280.916,-107.429 281.753,-102.353\"/>\n",
       "<polygon fill=\"black\" stroke=\"black\" points=\"285.252,-102.031 281.734,-92.0373 278.252,-102.044 285.252,-102.031\"/>\n",
       "<text text-anchor=\"middle\" x=\"275\" y=\"-113.8\" font-family=\"Times,serif\" font-size=\"14.00\">1</text>\n",
       "</g>\n",
       "<!-- B&#45;&gt;IF -->\n",
       "<g id=\"edge6\" class=\"edge\"><title>B&#45;&gt;IF</title>\n",
       "<path fill=\"none\" stroke=\"black\" d=\"M256.935,-75.7202C244.929,-76.1898 228.485,-76.7586 214,-77 198.002,-77.2666 193.998,-77.2499 178,-77 167.358,-76.8338 155.724,-76.5121 145.329,-76.1746\"/>\n",
       "<polygon fill=\"black\" stroke=\"black\" points=\"145.152,-72.6666 135.038,-75.8229 144.913,-79.6625 145.152,-72.6666\"/>\n",
       "<text text-anchor=\"middle\" x=\"196\" y=\"-79.8\" font-family=\"Times,serif\" font-size=\"14.00\">0</text>\n",
       "</g>\n",
       "<!-- A -->\n",
       "<g id=\"node3\" class=\"node\"><title>A</title>\n",
       "<ellipse fill=\"none\" stroke=\"black\" cx=\"196\" cy=\"-18\" rx=\"18\" ry=\"18\"/>\n",
       "<text text-anchor=\"middle\" x=\"196\" y=\"-13.8\" font-family=\"Times,serif\" font-size=\"14.00\">A</text>\n",
       "</g>\n",
       "<!-- A&#45;&gt;B -->\n",
       "<g id=\"edge4\" class=\"edge\"><title>A&#45;&gt;B</title>\n",
       "<path fill=\"none\" stroke=\"black\" d=\"M211.123,-28.4547C222.52,-36.8913 238.758,-48.9118 251.878,-58.6237\"/>\n",
       "<polygon fill=\"black\" stroke=\"black\" points=\"249.847,-61.4749 259.967,-64.6116 254.012,-55.8487 249.847,-61.4749\"/>\n",
       "<text text-anchor=\"middle\" x=\"235.5\" y=\"-50.8\" font-family=\"Times,serif\" font-size=\"14.00\">0</text>\n",
       "</g>\n",
       "<!-- A&#45;&gt;A -->\n",
       "<g id=\"edge5\" class=\"edge\"><title>A&#45;&gt;A</title>\n",
       "<path fill=\"none\" stroke=\"black\" d=\"M189.266,-35.0373C187.892,-44.8579 190.137,-54 196,-54 199.665,-54 201.916,-50.4289 202.753,-45.3529\"/>\n",
       "<polygon fill=\"black\" stroke=\"black\" points=\"206.252,-45.0307 202.734,-35.0373 199.252,-45.0439 206.252,-45.0307\"/>\n",
       "<text text-anchor=\"middle\" x=\"196\" y=\"-56.8\" font-family=\"Times,serif\" font-size=\"14.00\">1</text>\n",
       "</g>\n",
       "<!-- IF&#45;&gt;A -->\n",
       "<g id=\"edge2\" class=\"edge\"><title>IF&#45;&gt;A</title>\n",
       "<path fill=\"none\" stroke=\"black\" d=\"M131.576,-62.6318C143.522,-54.2252 159.436,-43.0264 172.335,-33.9498\"/>\n",
       "<polygon fill=\"black\" stroke=\"black\" points=\"174.533,-36.6827 180.697,-28.0654 170.504,-30.958 174.533,-36.6827\"/>\n",
       "<text text-anchor=\"middle\" x=\"156.5\" y=\"-48.8\" font-family=\"Times,serif\" font-size=\"14.00\">0</text>\n",
       "</g>\n",
       "<!-- IF&#45;&gt;IF -->\n",
       "<g id=\"edge3\" class=\"edge\"><title>IF&#45;&gt;IF</title>\n",
       "<path fill=\"none\" stroke=\"black\" d=\"M105.683,-95.9908C104.78,-106.087 107.219,-115 113,-115 116.704,-115 119.036,-111.342 119.996,-106.059\"/>\n",
       "<polygon fill=\"black\" stroke=\"black\" points=\"123.496,-106.097 120.317,-95.9908 116.5,-105.874 123.496,-106.097\"/>\n",
       "<text text-anchor=\"middle\" x=\"113\" y=\"-117.8\" font-family=\"Times,serif\" font-size=\"14.00\">1</text>\n",
       "</g>\n",
       "</g>\n",
       "</svg>\n"
      ],
      "text/plain": [
       "<graphviz.dot.Digraph at 0x10c7edb38>"
      ]
     },
     "execution_count": 35,
     "metadata": {},
     "output_type": "execute_result"
    }
   ],
   "source": [
    "D34 = {   'Q': {'A', 'IF', 'B'},\n",
    "          'Sigma': {'0', '1'},\n",
    "          'Delta': { ('IF', '0'): 'A',\n",
    "                     ('IF', '1'): 'IF',\n",
    "                     ('A', '0'): 'B',\n",
    "                     ('A', '1'): 'A',\n",
    "                     ('B', '0'): 'IF',\n",
    "                     ('B', '1'): 'B' },\n",
    "          'q0': 'IF', \n",
    "          'F': {'IF'}   \n",
    "        }\n",
    "\n",
    "D34bl = { 'Q': {'A', 'IF', 'B', 'A1', 'B1'},\n",
    "          'Sigma': {'0', '1'},\n",
    "          'Delta': { ('IF', '0'): 'A',\n",
    "                     ('IF', '1'): 'IF',\n",
    "                     ('A', '0'): 'B1',\n",
    "                     ('A', '1'): 'A1',\n",
    "                     ('A1', '0'): 'B',\n",
    "                     ('A1', '1'): 'A',\n",
    "                     ('B1', '0'): 'IF',\n",
    "                     ('B1', '1'): 'B',\n",
    "                     ('B','0') : 'IF',\n",
    "                     ('B', '1'): 'B1' },\n",
    "          'q0': 'IF', \n",
    "          'F': {'IF'}   \n",
    "        }\n",
    "\n",
    "\n",
    "d34 = dotObj_dfa(D34, \"D34\")\n",
    "d34 # Display it!"
   ]
  },
  {
   "cell_type": "code",
   "execution_count": 36,
   "metadata": {
    "run_control": {
     "frozen": false,
     "read_only": false
    }
   },
   "outputs": [
    {
     "data": {
      "text/plain": [
       "True"
      ]
     },
     "execution_count": 36,
     "metadata": {},
     "output_type": "execute_result"
    }
   ],
   "source": [
    "langeq_dfa(D34,D34bl,False)"
   ]
  },
  {
   "cell_type": "code",
   "execution_count": 37,
   "metadata": {
    "run_control": {
     "frozen": false,
     "read_only": false
    }
   },
   "outputs": [
    {
     "data": {
      "text/plain": [
       "False"
      ]
     },
     "execution_count": 37,
     "metadata": {},
     "output_type": "execute_result"
    }
   ],
   "source": [
    "iso_dfa(D34,D34bl)"
   ]
  },
  {
   "cell_type": "code",
   "execution_count": 38,
   "metadata": {
    "run_control": {
     "frozen": false,
     "read_only": false
    }
   },
   "outputs": [
    {
     "data": {
      "text/plain": [
       "{'Delta': {('A', '0'): 'B',\n",
       "  ('A', '1'): 'A',\n",
       "  ('B', '0'): 'IF',\n",
       "  ('B', '1'): 'B',\n",
       "  ('IF', '0'): 'A',\n",
       "  ('IF', '1'): 'IF'},\n",
       " 'F': {'IF'},\n",
       " 'Q': {'A', 'B', 'IF'},\n",
       " 'Sigma': {'0', '1'},\n",
       " 'q0': 'IF'}"
      ]
     },
     "execution_count": 38,
     "metadata": {},
     "output_type": "execute_result"
    }
   ],
   "source": [
    "DFA_fig34\n",
    "d34 = DFA_fig34\n",
    "d34"
   ]
  },
  {
   "cell_type": "code",
   "execution_count": 39,
   "metadata": {
    "run_control": {
     "frozen": false,
     "read_only": false
    }
   },
   "outputs": [
    {
     "data": {
      "text/plain": [
       "{'Delta': {('A', '0'): 'B',\n",
       "  ('A', '1'): 'A',\n",
       "  ('B', '0'): 'IF',\n",
       "  ('B', '1'): 'B',\n",
       "  ('IF', '0'): 'A',\n",
       "  ('IF', '1'): 'IF'},\n",
       " 'F': {'A', 'B'},\n",
       " 'Q': {'A', 'B', 'IF'},\n",
       " 'Sigma': {'0', '1'},\n",
       " 'q0': 'IF'}"
      ]
     },
     "execution_count": 39,
     "metadata": {},
     "output_type": "execute_result"
    }
   ],
   "source": [
    "d34c = DFA_fig34_comp\n",
    "d34c"
   ]
  },
  {
   "cell_type": "code",
   "execution_count": 40,
   "metadata": {
    "run_control": {
     "frozen": false,
     "read_only": false
    }
   },
   "outputs": [
    {
     "data": {
      "text/plain": [
       "True"
      ]
     },
     "execution_count": 40,
     "metadata": {},
     "output_type": "execute_result"
    }
   ],
   "source": [
    "iso_dfa(d34,d34)"
   ]
  },
  {
   "cell_type": "code",
   "execution_count": 41,
   "metadata": {
    "run_control": {
     "frozen": false,
     "read_only": false
    }
   },
   "outputs": [
    {
     "data": {
      "text/plain": [
       "False"
      ]
     },
     "execution_count": 41,
     "metadata": {},
     "output_type": "execute_result"
    }
   ],
   "source": [
    "iso_dfa(d34,d34c)"
   ]
  },
  {
   "cell_type": "code",
   "execution_count": 42,
   "metadata": {
    "run_control": {
     "frozen": false,
     "read_only": false
    }
   },
   "outputs": [],
   "source": [
    "d34v1 = {'Delta': {('A', '0'): 'B',\n",
    "  ('A', '1'): 'B',\n",
    "  ('B', '0'): 'IF',\n",
    "  ('B', '1'): 'B',\n",
    "  ('IF', '0'): 'A',\n",
    "  ('IF', '1'): 'IF'},\n",
    " 'F': {'IF'},\n",
    " 'Q': {'A', 'B', 'IF'},\n",
    " 'Sigma': {'0', '1'},\n",
    " 'q0': 'IF'}"
   ]
  },
  {
   "cell_type": "code",
   "execution_count": 43,
   "metadata": {
    "run_control": {
     "frozen": false,
     "read_only": false
    }
   },
   "outputs": [
    {
     "data": {
      "image/svg+xml": [
       "<?xml version=\"1.0\" encoding=\"UTF-8\" standalone=\"no\"?>\n",
       "<!DOCTYPE svg PUBLIC \"-//W3C//DTD SVG 1.1//EN\"\n",
       " \"http://www.w3.org/Graphics/SVG/1.1/DTD/svg11.dtd\">\n",
       "<!-- Generated by graphviz version 2.38.0 (20140413.2041)\n",
       " -->\n",
       "<!-- Title: %3 Pages: 1 -->\n",
       "<svg width=\"301pt\" height=\"113pt\"\n",
       " viewBox=\"0.00 0.00 301.00 113.00\" xmlns=\"http://www.w3.org/2000/svg\" xmlns:xlink=\"http://www.w3.org/1999/xlink\">\n",
       "<g id=\"graph0\" class=\"graph\" transform=\"scale(1 1) rotate(0) translate(4 109)\">\n",
       "<title>%3</title>\n",
       "<polygon fill=\"white\" stroke=\"none\" points=\"-4,4 -4,-109 297,-109 297,4 -4,4\"/>\n",
       "<!-- EMPTY -->\n",
       "<g id=\"node1\" class=\"node\"><title>EMPTY</title>\n",
       "</g>\n",
       "<!-- IF -->\n",
       "<g id=\"node4\" class=\"node\"><title>IF</title>\n",
       "<ellipse fill=\"none\" stroke=\"black\" cx=\"113\" cy=\"-51\" rx=\"18\" ry=\"18\"/>\n",
       "<ellipse fill=\"none\" stroke=\"black\" cx=\"113\" cy=\"-51\" rx=\"22\" ry=\"22\"/>\n",
       "<text text-anchor=\"middle\" x=\"113\" y=\"-46.8\" font-family=\"Times,serif\" font-size=\"14.00\">IF</text>\n",
       "</g>\n",
       "<!-- EMPTY&#45;&gt;IF -->\n",
       "<g id=\"edge1\" class=\"edge\"><title>EMPTY&#45;&gt;IF</title>\n",
       "<path fill=\"none\" stroke=\"black\" d=\"M54.1177,-51C62.5406,-51 71.9629,-51 80.7191,-51\"/>\n",
       "<polygon fill=\"black\" stroke=\"black\" points=\"80.9574,-54.5001 90.9574,-51 80.9573,-47.5001 80.9574,-54.5001\"/>\n",
       "</g>\n",
       "<!-- B -->\n",
       "<g id=\"node2\" class=\"node\"><title>B</title>\n",
       "<ellipse fill=\"none\" stroke=\"black\" cx=\"275\" cy=\"-43\" rx=\"18\" ry=\"18\"/>\n",
       "<text text-anchor=\"middle\" x=\"275\" y=\"-38.8\" font-family=\"Times,serif\" font-size=\"14.00\">B</text>\n",
       "</g>\n",
       "<!-- B&#45;&gt;B -->\n",
       "<g id=\"edge5\" class=\"edge\"><title>B&#45;&gt;B</title>\n",
       "<path fill=\"none\" stroke=\"black\" d=\"M268.266,-60.0373C266.892,-69.8579 269.137,-79 275,-79 278.665,-79 280.916,-75.4289 281.753,-70.3529\"/>\n",
       "<polygon fill=\"black\" stroke=\"black\" points=\"285.252,-70.0307 281.734,-60.0373 278.252,-70.0439 285.252,-70.0307\"/>\n",
       "<text text-anchor=\"middle\" x=\"275\" y=\"-81.8\" font-family=\"Times,serif\" font-size=\"14.00\">1</text>\n",
       "</g>\n",
       "<!-- B&#45;&gt;IF -->\n",
       "<g id=\"edge4\" class=\"edge\"><title>B&#45;&gt;IF</title>\n",
       "<path fill=\"none\" stroke=\"black\" d=\"M256.972,-46.3825C251.28,-47.3892 244.887,-48.3864 239,-49 207.267,-52.3079 170.761,-52.4764 145.427,-52.0201\"/>\n",
       "<polygon fill=\"black\" stroke=\"black\" points=\"145.376,-48.5182 135.301,-51.7937 145.22,-55.5164 145.376,-48.5182\"/>\n",
       "<text text-anchor=\"middle\" x=\"196\" y=\"-54.8\" font-family=\"Times,serif\" font-size=\"14.00\">0</text>\n",
       "</g>\n",
       "<!-- A -->\n",
       "<g id=\"node3\" class=\"node\"><title>A</title>\n",
       "<ellipse fill=\"none\" stroke=\"black\" cx=\"196\" cy=\"-18\" rx=\"18\" ry=\"18\"/>\n",
       "<text text-anchor=\"middle\" x=\"196\" y=\"-13.8\" font-family=\"Times,serif\" font-size=\"14.00\">A</text>\n",
       "</g>\n",
       "<!-- A&#45;&gt;B -->\n",
       "<g id=\"edge2\" class=\"edge\"><title>A&#45;&gt;B</title>\n",
       "<path fill=\"none\" stroke=\"black\" d=\"M213.33,-23.3019C223.436,-26.5832 236.635,-30.8685 248.14,-34.6038\"/>\n",
       "<polygon fill=\"black\" stroke=\"black\" points=\"247.102,-37.9466 257.694,-37.7058 249.263,-31.2887 247.102,-37.9466\"/>\n",
       "<text text-anchor=\"middle\" x=\"235.5\" y=\"-33.8\" font-family=\"Times,serif\" font-size=\"14.00\">0</text>\n",
       "</g>\n",
       "<!-- A&#45;&gt;B -->\n",
       "<g id=\"edge3\" class=\"edge\"><title>A&#45;&gt;B</title>\n",
       "<path fill=\"none\" stroke=\"black\" d=\"M212.965,-11.4541C220.985,-9.12696 230.731,-7.78952 239,-11 245.246,-13.4248 251.057,-17.5414 256.079,-22.0292\"/>\n",
       "<polygon fill=\"black\" stroke=\"black\" points=\"253.717,-24.6167 263.271,-29.1973 258.659,-19.6589 253.717,-24.6167\"/>\n",
       "<text text-anchor=\"middle\" x=\"235.5\" y=\"-13.8\" font-family=\"Times,serif\" font-size=\"14.00\">1</text>\n",
       "</g>\n",
       "<!-- IF&#45;&gt;A -->\n",
       "<g id=\"edge6\" class=\"edge\"><title>IF&#45;&gt;A</title>\n",
       "<path fill=\"none\" stroke=\"black\" d=\"M133.608,-43.0116C144.399,-38.6151 157.916,-33.1083 169.517,-28.3819\"/>\n",
       "<polygon fill=\"black\" stroke=\"black\" points=\"171.162,-31.491 179.103,-24.4767 168.521,-25.0084 171.162,-31.491\"/>\n",
       "<text text-anchor=\"middle\" x=\"156.5\" y=\"-36.8\" font-family=\"Times,serif\" font-size=\"14.00\">0</text>\n",
       "</g>\n",
       "<!-- IF&#45;&gt;IF -->\n",
       "<g id=\"edge7\" class=\"edge\"><title>IF&#45;&gt;IF</title>\n",
       "<path fill=\"none\" stroke=\"black\" d=\"M105.683,-71.9908C104.78,-82.0872 107.219,-91 113,-91 116.704,-91 119.036,-87.3422 119.996,-82.0587\"/>\n",
       "<polygon fill=\"black\" stroke=\"black\" points=\"123.496,-82.0973 120.317,-71.9908 116.5,-81.8741 123.496,-82.0973\"/>\n",
       "<text text-anchor=\"middle\" x=\"113\" y=\"-93.8\" font-family=\"Times,serif\" font-size=\"14.00\">1</text>\n",
       "</g>\n",
       "</g>\n",
       "</svg>\n"
      ],
      "text/plain": [
       "<graphviz.dot.Digraph at 0x10c7ca940>"
      ]
     },
     "execution_count": 43,
     "metadata": {},
     "output_type": "execute_result"
    }
   ],
   "source": [
    "dotObj_dfa(d34v1)"
   ]
  },
  {
   "cell_type": "code",
   "execution_count": 44,
   "metadata": {
    "run_control": {
     "frozen": false,
     "read_only": false
    }
   },
   "outputs": [],
   "source": [
    "d34v2 = {'Delta': {('A', '0'): 'B',\n",
    "  ('A', '1'): 'B',\n",
    "  ('B', '0'): 'IF',\n",
    "  ('B', '1'): 'B',\n",
    "  ('IF', '0'): 'A',\n",
    "  ('IF', '1'): 'IF'},\n",
    " 'F': {'IF', 'B'},\n",
    " 'Q': {'A', 'B', 'IF'},\n",
    " 'Sigma': {'0', '1'},\n",
    " 'q0': 'IF'}"
   ]
  },
  {
   "cell_type": "code",
   "execution_count": 45,
   "metadata": {
    "run_control": {
     "frozen": false,
     "read_only": false
    }
   },
   "outputs": [
    {
     "data": {
      "text/plain": [
       "False"
      ]
     },
     "execution_count": 45,
     "metadata": {},
     "output_type": "execute_result"
    }
   ],
   "source": [
    "iso_dfa(d34,d34v1)"
   ]
  },
  {
   "cell_type": "code",
   "execution_count": 46,
   "metadata": {
    "run_control": {
     "frozen": false,
     "read_only": false
    }
   },
   "outputs": [
    {
     "data": {
      "text/plain": [
       "False"
      ]
     },
     "execution_count": 46,
     "metadata": {},
     "output_type": "execute_result"
    }
   ],
   "source": [
    "iso_dfa(d34,d34v2)"
   ]
  },
  {
   "cell_type": "code",
   "execution_count": 47,
   "metadata": {
    "run_control": {
     "frozen": false,
     "read_only": false
    }
   },
   "outputs": [
    {
     "data": {
      "text/plain": [
       "False"
      ]
     },
     "execution_count": 47,
     "metadata": {},
     "output_type": "execute_result"
    }
   ],
   "source": [
    "iso_dfa(d34v1,d34v2)"
   ]
  },
  {
   "cell_type": "code",
   "execution_count": 48,
   "metadata": {
    "run_control": {
     "frozen": false,
     "read_only": false
    }
   },
   "outputs": [
    {
     "data": {
      "image/svg+xml": [
       "<?xml version=\"1.0\" encoding=\"UTF-8\" standalone=\"no\"?>\n",
       "<!DOCTYPE svg PUBLIC \"-//W3C//DTD SVG 1.1//EN\"\n",
       " \"http://www.w3.org/Graphics/SVG/1.1/DTD/svg11.dtd\">\n",
       "<!-- Generated by graphviz version 2.38.0 (20140413.2041)\n",
       " -->\n",
       "<!-- Title: %3 Pages: 1 -->\n",
       "<svg width=\"396pt\" height=\"157pt\"\n",
       " viewBox=\"0.00 0.00 396.10 157.34\" xmlns=\"http://www.w3.org/2000/svg\" xmlns:xlink=\"http://www.w3.org/1999/xlink\">\n",
       "<g id=\"graph0\" class=\"graph\" transform=\"scale(1 1) rotate(0) translate(4 153.336)\">\n",
       "<title>%3</title>\n",
       "<polygon fill=\"white\" stroke=\"none\" points=\"-4,4 -4,-153.336 392.104,-153.336 392.104,4 -4,4\"/>\n",
       "<!-- EMPTY -->\n",
       "<g id=\"node1\" class=\"node\"><title>EMPTY</title>\n",
       "</g>\n",
       "<!-- \\(IF_IF\\) -->\n",
       "<g id=\"node4\" class=\"node\"><title>\\(IF_IF\\)</title>\n",
       "<ellipse fill=\"none\" stroke=\"black\" cx=\"131.145\" cy=\"-77.1914\" rx=\"36.2759\" ry=\"36.2759\"/>\n",
       "<ellipse fill=\"none\" stroke=\"black\" cx=\"131.145\" cy=\"-77.1914\" rx=\"40.2904\" ry=\"40.2904\"/>\n",
       "<text text-anchor=\"middle\" x=\"131.145\" y=\"-72.9914\" font-family=\"Times,serif\" font-size=\"14.00\">(IF_IF)</text>\n",
       "</g>\n",
       "<!-- EMPTY&#45;&gt;\\(IF_IF\\) -->\n",
       "<g id=\"edge1\" class=\"edge\"><title>EMPTY&#45;&gt;\\(IF_IF\\)</title>\n",
       "<path fill=\"none\" stroke=\"black\" d=\"M54.0398,-77.1914C62.1135,-77.1914 71.296,-77.1914 80.4211,-77.1914\"/>\n",
       "<polygon fill=\"black\" stroke=\"black\" points=\"80.6371,-80.6915 90.6371,-77.1914 80.637,-73.6915 80.6371,-80.6915\"/>\n",
       "</g>\n",
       "<!-- \\(A_A\\) -->\n",
       "<g id=\"node2\" class=\"node\"><title>\\(A_A\\)</title>\n",
       "<ellipse fill=\"none\" stroke=\"black\" cx=\"247.481\" cy=\"-33.1914\" rx=\"33.3839\" ry=\"33.3839\"/>\n",
       "<text text-anchor=\"middle\" x=\"247.481\" y=\"-28.9914\" font-family=\"Times,serif\" font-size=\"14.00\">(A_A)</text>\n",
       "</g>\n",
       "<!-- \\(B_B\\) -->\n",
       "<g id=\"node3\" class=\"node\"><title>\\(B_B\\)</title>\n",
       "<ellipse fill=\"none\" stroke=\"black\" cx=\"355.888\" cy=\"-70.1914\" rx=\"32.4324\" ry=\"32.4324\"/>\n",
       "<text text-anchor=\"middle\" x=\"355.888\" y=\"-65.9914\" font-family=\"Times,serif\" font-size=\"14.00\">(B_B)</text>\n",
       "</g>\n",
       "<!-- \\(A_A\\)&#45;&gt;\\(B_B\\) -->\n",
       "<g id=\"edge4\" class=\"edge\"><title>\\(A_A\\)&#45;&gt;\\(B_B\\)</title>\n",
       "<path fill=\"none\" stroke=\"black\" d=\"M278.973,-43.7941C290.296,-47.7313 303.309,-52.256 315.325,-56.4345\"/>\n",
       "<polygon fill=\"black\" stroke=\"black\" points=\"314.532,-59.864 325.126,-59.8425 316.831,-53.2523 314.532,-59.864\"/>\n",
       "<text text-anchor=\"middle\" x=\"302.173\" y=\"-54.9914\" font-family=\"Times,serif\" font-size=\"14.00\">0</text>\n",
       "</g>\n",
       "<!-- \\(A_A\\)&#45;&gt;\\(B_B\\) -->\n",
       "<g id=\"edge5\" class=\"edge\"><title>\\(A_A\\)&#45;&gt;\\(B_B\\)</title>\n",
       "<path fill=\"none\" stroke=\"black\" d=\"M280.528,-29.6134C288.885,-29.6412 297.762,-30.5494 305.673,-33.1914 311.927,-35.2802 318.025,-38.5108 323.679,-42.2116\"/>\n",
       "<polygon fill=\"black\" stroke=\"black\" points=\"321.996,-45.313 332.156,-48.3176 326.088,-39.633 321.996,-45.313\"/>\n",
       "<text text-anchor=\"middle\" x=\"302.173\" y=\"-35.9914\" font-family=\"Times,serif\" font-size=\"14.00\">1</text>\n",
       "</g>\n",
       "<!-- \\(B_B\\)&#45;&gt;\\(B_B\\) -->\n",
       "<g id=\"edge3\" class=\"edge\"><title>\\(B_B\\)&#45;&gt;\\(B_B\\)</title>\n",
       "<path fill=\"none\" stroke=\"black\" d=\"M346.141,-101.084C346.037,-111.774 349.287,-120.407 355.888,-120.407 360.22,-120.407 363.109,-116.689 364.554,-111.112\"/>\n",
       "<polygon fill=\"black\" stroke=\"black\" points=\"368.043,-111.402 365.636,-101.084 361.083,-110.651 368.043,-111.402\"/>\n",
       "<text text-anchor=\"middle\" x=\"355.888\" y=\"-123.207\" font-family=\"Times,serif\" font-size=\"14.00\">1</text>\n",
       "</g>\n",
       "<!-- \\(B_B\\)&#45;&gt;\\(IF_IF\\) -->\n",
       "<g id=\"edge7\" class=\"edge\"><title>\\(B_B\\)&#45;&gt;\\(IF_IF\\)</title>\n",
       "<path fill=\"none\" stroke=\"black\" d=\"M323.491,-72.682C310.279,-73.6325 294.737,-74.6233 280.673,-75.1914 247.741,-76.5215 210.672,-77.022 181.804,-77.1897\"/>\n",
       "<polygon fill=\"black\" stroke=\"black\" points=\"181.547,-73.6908 171.563,-77.2374 181.579,-80.6907 181.547,-73.6908\"/>\n",
       "<text text-anchor=\"middle\" x=\"247.481\" y=\"-78.9914\" font-family=\"Times,serif\" font-size=\"14.00\">0</text>\n",
       "</g>\n",
       "<!-- \\(IF_IF\\)&#45;&gt;\\(A_A\\) -->\n",
       "<g id=\"edge6\" class=\"edge\"><title>\\(IF_IF\\)&#45;&gt;\\(A_A\\)</title>\n",
       "<path fill=\"none\" stroke=\"black\" d=\"M168.951,-63.0273C181.005,-58.3887 194.447,-53.2155 206.71,-48.4966\"/>\n",
       "<polygon fill=\"black\" stroke=\"black\" points=\"208.166,-51.6864 216.242,-44.8283 205.652,-45.1534 208.166,-51.6864\"/>\n",
       "<text text-anchor=\"middle\" x=\"192.79\" y=\"-57.9914\" font-family=\"Times,serif\" font-size=\"14.00\">0</text>\n",
       "</g>\n",
       "<!-- \\(IF_IF\\)&#45;&gt;\\(IF_IF\\) -->\n",
       "<g id=\"edge2\" class=\"edge\"><title>\\(IF_IF\\)&#45;&gt;\\(IF_IF\\)</title>\n",
       "<path fill=\"none\" stroke=\"black\" d=\"M120.324,-116.049C120.798,-126.96 124.405,-135.336 131.145,-135.336 135.568,-135.336 138.642,-131.729 140.367,-126.165\"/>\n",
       "<polygon fill=\"black\" stroke=\"black\" points=\"143.862,-126.473 141.966,-116.049 136.947,-125.379 143.862,-126.473\"/>\n",
       "<text text-anchor=\"middle\" x=\"131.145\" y=\"-138.136\" font-family=\"Times,serif\" font-size=\"14.00\">1</text>\n",
       "</g>\n",
       "</g>\n",
       "</svg>\n"
      ],
      "text/plain": [
       "<graphviz.dot.Digraph at 0x10c7caba8>"
      ]
     },
     "execution_count": 48,
     "metadata": {},
     "output_type": "execute_result"
    }
   ],
   "source": [
    "div1 = pruneUnreach(intersect_dfa(d34v1,d34v2))\n",
    "dotObj_dfa(div1)"
   ]
  },
  {
   "cell_type": "code",
   "execution_count": 49,
   "metadata": {
    "run_control": {
     "frozen": false,
     "read_only": false
    }
   },
   "outputs": [
    {
     "data": {
      "image/svg+xml": [
       "<?xml version=\"1.0\" encoding=\"UTF-8\" standalone=\"no\"?>\n",
       "<!DOCTYPE svg PUBLIC \"-//W3C//DTD SVG 1.1//EN\"\n",
       " \"http://www.w3.org/Graphics/SVG/1.1/DTD/svg11.dtd\">\n",
       "<!-- Generated by graphviz version 2.38.0 (20140413.2041)\n",
       " -->\n",
       "<!-- Title: %3 Pages: 1 -->\n",
       "<svg width=\"404pt\" height=\"157pt\"\n",
       " viewBox=\"0.00 0.00 404.10 157.34\" xmlns=\"http://www.w3.org/2000/svg\" xmlns:xlink=\"http://www.w3.org/1999/xlink\">\n",
       "<g id=\"graph0\" class=\"graph\" transform=\"scale(1 1) rotate(0) translate(4 153.336)\">\n",
       "<title>%3</title>\n",
       "<polygon fill=\"white\" stroke=\"none\" points=\"-4,4 -4,-153.336 400.104,-153.336 400.104,4 -4,4\"/>\n",
       "<!-- EMPTY -->\n",
       "<g id=\"node1\" class=\"node\"><title>EMPTY</title>\n",
       "</g>\n",
       "<!-- \\(IF_IF\\) -->\n",
       "<g id=\"node4\" class=\"node\"><title>\\(IF_IF\\)</title>\n",
       "<ellipse fill=\"none\" stroke=\"black\" cx=\"131.145\" cy=\"-77.1914\" rx=\"36.2759\" ry=\"36.2759\"/>\n",
       "<ellipse fill=\"none\" stroke=\"black\" cx=\"131.145\" cy=\"-77.1914\" rx=\"40.2904\" ry=\"40.2904\"/>\n",
       "<text text-anchor=\"middle\" x=\"131.145\" y=\"-72.9914\" font-family=\"Times,serif\" font-size=\"14.00\">(IF_IF)</text>\n",
       "</g>\n",
       "<!-- EMPTY&#45;&gt;\\(IF_IF\\) -->\n",
       "<g id=\"edge1\" class=\"edge\"><title>EMPTY&#45;&gt;\\(IF_IF\\)</title>\n",
       "<path fill=\"none\" stroke=\"black\" d=\"M54.0398,-77.1914C62.1135,-77.1914 71.296,-77.1914 80.4211,-77.1914\"/>\n",
       "<polygon fill=\"black\" stroke=\"black\" points=\"80.6371,-80.6915 90.6371,-77.1914 80.637,-73.6915 80.6371,-80.6915\"/>\n",
       "</g>\n",
       "<!-- \\(A_A\\) -->\n",
       "<g id=\"node2\" class=\"node\"><title>\\(A_A\\)</title>\n",
       "<ellipse fill=\"none\" stroke=\"black\" cx=\"247.481\" cy=\"-33.1914\" rx=\"33.3839\" ry=\"33.3839\"/>\n",
       "<text text-anchor=\"middle\" x=\"247.481\" y=\"-28.9914\" font-family=\"Times,serif\" font-size=\"14.00\">(A_A)</text>\n",
       "</g>\n",
       "<!-- \\(B_B\\) -->\n",
       "<g id=\"node3\" class=\"node\"><title>\\(B_B\\)</title>\n",
       "<ellipse fill=\"none\" stroke=\"black\" cx=\"359.888\" cy=\"-70.1914\" rx=\"32.4083\" ry=\"32.4083\"/>\n",
       "<ellipse fill=\"none\" stroke=\"black\" cx=\"359.888\" cy=\"-70.1914\" rx=\"36.4323\" ry=\"36.4323\"/>\n",
       "<text text-anchor=\"middle\" x=\"359.888\" y=\"-65.9914\" font-family=\"Times,serif\" font-size=\"14.00\">(B_B)</text>\n",
       "</g>\n",
       "<!-- \\(A_A\\)&#45;&gt;\\(B_B\\) -->\n",
       "<g id=\"edge4\" class=\"edge\"><title>\\(A_A\\)&#45;&gt;\\(B_B\\)</title>\n",
       "<path fill=\"none\" stroke=\"black\" d=\"M279.236,-43.4979C290.513,-47.2773 303.497,-51.6285 315.665,-55.7062\"/>\n",
       "<polygon fill=\"black\" stroke=\"black\" points=\"314.606,-59.0427 325.2,-58.9017 316.831,-52.4055 314.606,-59.0427\"/>\n",
       "<text text-anchor=\"middle\" x=\"302.173\" y=\"-53.9914\" font-family=\"Times,serif\" font-size=\"14.00\">0</text>\n",
       "</g>\n",
       "<!-- \\(A_A\\)&#45;&gt;\\(B_B\\) -->\n",
       "<g id=\"edge5\" class=\"edge\"><title>\\(A_A\\)&#45;&gt;\\(B_B\\)</title>\n",
       "<path fill=\"none\" stroke=\"black\" d=\"M280.483,-28.997C288.84,-28.879 297.729,-29.6462 305.673,-32.1914 311.845,-34.169 317.911,-37.1546 323.612,-40.6002\"/>\n",
       "<polygon fill=\"black\" stroke=\"black\" points=\"321.962,-43.7058 332.231,-46.3146 325.83,-37.8716 321.962,-43.7058\"/>\n",
       "<text text-anchor=\"middle\" x=\"302.173\" y=\"-34.9914\" font-family=\"Times,serif\" font-size=\"14.00\">1</text>\n",
       "</g>\n",
       "<!-- \\(B_B\\)&#45;&gt;\\(B_B\\) -->\n",
       "<g id=\"edge3\" class=\"edge\"><title>\\(B_B\\)&#45;&gt;\\(B_B\\)</title>\n",
       "<path fill=\"none\" stroke=\"black\" d=\"M349.394,-104.866C349.554,-115.79 353.052,-124.407 359.888,-124.407 364.374,-124.407 367.423,-120.696 369.034,-115.057\"/>\n",
       "<polygon fill=\"black\" stroke=\"black\" points=\"372.54,-115.239 370.382,-104.866 365.601,-114.321 372.54,-115.239\"/>\n",
       "<text text-anchor=\"middle\" x=\"359.888\" y=\"-127.207\" font-family=\"Times,serif\" font-size=\"14.00\">1</text>\n",
       "</g>\n",
       "<!-- \\(B_B\\)&#45;&gt;\\(IF_IF\\) -->\n",
       "<g id=\"edge7\" class=\"edge\"><title>\\(B_B\\)&#45;&gt;\\(IF_IF\\)</title>\n",
       "<path fill=\"none\" stroke=\"black\" d=\"M323.476,-72.8341C310.074,-73.7346 294.677,-74.6498 280.673,-75.1914 247.738,-76.465 210.67,-76.9654 181.803,-77.1472\"/>\n",
       "<polygon fill=\"black\" stroke=\"black\" points=\"181.543,-73.6484 171.562,-77.2006 181.58,-80.6483 181.543,-73.6484\"/>\n",
       "<text text-anchor=\"middle\" x=\"247.481\" y=\"-78.9914\" font-family=\"Times,serif\" font-size=\"14.00\">0</text>\n",
       "</g>\n",
       "<!-- \\(IF_IF\\)&#45;&gt;\\(A_A\\) -->\n",
       "<g id=\"edge6\" class=\"edge\"><title>\\(IF_IF\\)&#45;&gt;\\(A_A\\)</title>\n",
       "<path fill=\"none\" stroke=\"black\" d=\"M168.951,-63.0273C181.005,-58.3887 194.447,-53.2155 206.71,-48.4966\"/>\n",
       "<polygon fill=\"black\" stroke=\"black\" points=\"208.166,-51.6864 216.242,-44.8283 205.652,-45.1534 208.166,-51.6864\"/>\n",
       "<text text-anchor=\"middle\" x=\"192.79\" y=\"-57.9914\" font-family=\"Times,serif\" font-size=\"14.00\">0</text>\n",
       "</g>\n",
       "<!-- \\(IF_IF\\)&#45;&gt;\\(IF_IF\\) -->\n",
       "<g id=\"edge2\" class=\"edge\"><title>\\(IF_IF\\)&#45;&gt;\\(IF_IF\\)</title>\n",
       "<path fill=\"none\" stroke=\"black\" d=\"M120.324,-116.049C120.798,-126.96 124.405,-135.336 131.145,-135.336 135.568,-135.336 138.642,-131.729 140.367,-126.165\"/>\n",
       "<polygon fill=\"black\" stroke=\"black\" points=\"143.862,-126.473 141.966,-116.049 136.947,-125.379 143.862,-126.473\"/>\n",
       "<text text-anchor=\"middle\" x=\"131.145\" y=\"-138.136\" font-family=\"Times,serif\" font-size=\"14.00\">1</text>\n",
       "</g>\n",
       "</g>\n",
       "</svg>\n"
      ],
      "text/plain": [
       "<graphviz.dot.Digraph at 0x10c7ca588>"
      ]
     },
     "execution_count": 49,
     "metadata": {},
     "output_type": "execute_result"
    }
   ],
   "source": [
    "div2 = pruneUnreach(union_dfa(d34v1,d34v2))\n",
    "dotObj_dfa(div2)"
   ]
  },
  {
   "cell_type": "code",
   "execution_count": 50,
   "metadata": {
    "run_control": {
     "frozen": false,
     "read_only": false
    }
   },
   "outputs": [
    {
     "data": {
      "text/plain": [
       "False"
      ]
     },
     "execution_count": 50,
     "metadata": {},
     "output_type": "execute_result"
    }
   ],
   "source": [
    "iso_dfa(div1,div2)"
   ]
  },
  {
   "cell_type": "code",
   "execution_count": 51,
   "metadata": {
    "run_control": {
     "frozen": false,
     "read_only": false
    }
   },
   "outputs": [
    {
     "name": "stdout",
     "output_type": "stream",
     "text": [
      "The DFA are NOT language equivalent!\n",
      "Path leading to counterexample is: \n",
      "[(('IF', 'IF'), ('IF', 'IF')), (('A', 'A'), ('A', 'A')), (('B', 'B'), ('B', 'B'))]\n"
     ]
    },
    {
     "data": {
      "text/plain": [
       "False"
      ]
     },
     "execution_count": 51,
     "metadata": {},
     "output_type": "execute_result"
    }
   ],
   "source": [
    "langeq_dfa(div1,div2,True)"
   ]
  },
  {
   "cell_type": "code",
   "execution_count": 52,
   "metadata": {
    "run_control": {
     "frozen": false,
     "read_only": false
    }
   },
   "outputs": [
    {
     "data": {
      "image/svg+xml": [
       "<?xml version=\"1.0\" encoding=\"UTF-8\" standalone=\"no\"?>\n",
       "<!DOCTYPE svg PUBLIC \"-//W3C//DTD SVG 1.1//EN\"\n",
       " \"http://www.w3.org/Graphics/SVG/1.1/DTD/svg11.dtd\">\n",
       "<!-- Generated by graphviz version 2.38.0 (20140413.2041)\n",
       " -->\n",
       "<!-- Title: %3 Pages: 1 -->\n",
       "<svg width=\"386pt\" height=\"166pt\"\n",
       " viewBox=\"0.00 0.00 385.83 165.69\" xmlns=\"http://www.w3.org/2000/svg\" xmlns:xlink=\"http://www.w3.org/1999/xlink\">\n",
       "<g id=\"graph0\" class=\"graph\" transform=\"scale(1 1) rotate(0) translate(4 161.692)\">\n",
       "<title>%3</title>\n",
       "<polygon fill=\"white\" stroke=\"none\" points=\"-4,4 -4,-161.692 381.83,-161.692 381.83,4 -4,4\"/>\n",
       "<!-- EMPTY -->\n",
       "<g id=\"node1\" class=\"node\"><title>EMPTY</title>\n",
       "</g>\n",
       "<!-- IF -->\n",
       "<g id=\"node6\" class=\"node\"><title>IF</title>\n",
       "<ellipse fill=\"none\" stroke=\"black\" cx=\"113\" cy=\"-103.692\" rx=\"18\" ry=\"18\"/>\n",
       "<ellipse fill=\"none\" stroke=\"black\" cx=\"113\" cy=\"-103.692\" rx=\"22\" ry=\"22\"/>\n",
       "<text text-anchor=\"middle\" x=\"113\" y=\"-99.4915\" font-family=\"Times,serif\" font-size=\"14.00\">IF</text>\n",
       "</g>\n",
       "<!-- EMPTY&#45;&gt;IF -->\n",
       "<g id=\"edge1\" class=\"edge\"><title>EMPTY&#45;&gt;IF</title>\n",
       "<path fill=\"none\" stroke=\"black\" d=\"M54.1177,-103.692C62.5406,-103.692 71.9629,-103.692 80.7191,-103.692\"/>\n",
       "<polygon fill=\"black\" stroke=\"black\" points=\"80.9574,-107.192 90.9574,-103.692 80.9573,-100.192 80.9574,-107.192\"/>\n",
       "</g>\n",
       "<!-- A -->\n",
       "<g id=\"node2\" class=\"node\"><title>A</title>\n",
       "<ellipse fill=\"none\" stroke=\"black\" cx=\"196\" cy=\"-43.6915\" rx=\"18\" ry=\"18\"/>\n",
       "<text text-anchor=\"middle\" x=\"196\" y=\"-39.4915\" font-family=\"Times,serif\" font-size=\"14.00\">A</text>\n",
       "</g>\n",
       "<!-- B1 -->\n",
       "<g id=\"node3\" class=\"node\"><title>B1</title>\n",
       "<ellipse fill=\"none\" stroke=\"black\" cx=\"277.915\" cy=\"-97.6915\" rx=\"20.3544\" ry=\"20.3544\"/>\n",
       "<text text-anchor=\"middle\" x=\"277.915\" y=\"-93.4915\" font-family=\"Times,serif\" font-size=\"14.00\">B1</text>\n",
       "</g>\n",
       "<!-- A&#45;&gt;B1 -->\n",
       "<g id=\"edge4\" class=\"edge\"><title>A&#45;&gt;B1</title>\n",
       "<path fill=\"none\" stroke=\"black\" d=\"M211.287,-53.3457C222.63,-61.0104 238.76,-71.9092 252.189,-80.9839\"/>\n",
       "<polygon fill=\"black\" stroke=\"black\" points=\"250.302,-83.9326 260.547,-86.6315 254.221,-78.1326 250.302,-83.9326\"/>\n",
       "<text text-anchor=\"middle\" x=\"235.5\" y=\"-74.4915\" font-family=\"Times,serif\" font-size=\"14.00\">0</text>\n",
       "</g>\n",
       "<!-- A1 -->\n",
       "<g id=\"node5\" class=\"node\"><title>A1</title>\n",
       "<ellipse fill=\"none\" stroke=\"black\" cx=\"277.915\" cy=\"-37.6915\" rx=\"20.8304\" ry=\"20.8304\"/>\n",
       "<text text-anchor=\"middle\" x=\"277.915\" y=\"-33.4915\" font-family=\"Times,serif\" font-size=\"14.00\">A1</text>\n",
       "</g>\n",
       "<!-- A&#45;&gt;A1 -->\n",
       "<g id=\"edge5\" class=\"edge\"><title>A&#45;&gt;A1</title>\n",
       "<path fill=\"none\" stroke=\"black\" d=\"M205.423,-27.8426C211.432,-18.3408 220.482,-7.08627 232,-1.69154 242.219,3.09493 252.162,-3.34576 260.084,-12.0403\"/>\n",
       "<polygon fill=\"black\" stroke=\"black\" points=\"257.501,-14.4143 266.482,-20.0356 262.967,-10.0408 257.501,-14.4143\"/>\n",
       "<text text-anchor=\"middle\" x=\"235.5\" y=\"-4.49154\" font-family=\"Times,serif\" font-size=\"14.00\">1</text>\n",
       "</g>\n",
       "<!-- B -->\n",
       "<g id=\"node4\" class=\"node\"><title>B</title>\n",
       "<ellipse fill=\"none\" stroke=\"black\" cx=\"359.83\" cy=\"-96.6915\" rx=\"18\" ry=\"18\"/>\n",
       "<text text-anchor=\"middle\" x=\"359.83\" y=\"-92.4915\" font-family=\"Times,serif\" font-size=\"14.00\">B</text>\n",
       "</g>\n",
       "<!-- B1&#45;&gt;B -->\n",
       "<g id=\"edge9\" class=\"edge\"><title>B1&#45;&gt;B</title>\n",
       "<path fill=\"none\" stroke=\"black\" d=\"M296.075,-87.5698C302.381,-84.3902 309.722,-81.2932 316.83,-79.6915 323.024,-78.2958 329.488,-79.4704 335.435,-81.7331\"/>\n",
       "<polygon fill=\"black\" stroke=\"black\" points=\"334.296,-85.0712 344.818,-86.3069 337.363,-78.779 334.296,-85.0712\"/>\n",
       "<text text-anchor=\"middle\" x=\"320.33\" y=\"-82.4915\" font-family=\"Times,serif\" font-size=\"14.00\">1</text>\n",
       "</g>\n",
       "<!-- B1&#45;&gt;IF -->\n",
       "<g id=\"edge8\" class=\"edge\"><title>B1&#45;&gt;IF</title>\n",
       "<path fill=\"none\" stroke=\"black\" d=\"M257.142,-98.4198C229.322,-99.4443 178.344,-101.322 145.333,-102.538\"/>\n",
       "<polygon fill=\"black\" stroke=\"black\" points=\"145.163,-99.0414 135.298,-102.907 145.42,-106.037 145.163,-99.0414\"/>\n",
       "<text text-anchor=\"middle\" x=\"196\" y=\"-103.492\" font-family=\"Times,serif\" font-size=\"14.00\">0</text>\n",
       "</g>\n",
       "<!-- B&#45;&gt;B1 -->\n",
       "<g id=\"edge11\" class=\"edge\"><title>B&#45;&gt;B1</title>\n",
       "<path fill=\"none\" stroke=\"black\" d=\"M341.74,-96.9054C332.17,-97.0251 319.961,-97.1779 308.856,-97.3169\"/>\n",
       "<polygon fill=\"black\" stroke=\"black\" points=\"308.625,-93.8194 298.669,-97.4443 308.712,-100.819 308.625,-93.8194\"/>\n",
       "<text text-anchor=\"middle\" x=\"320.33\" y=\"-99.4915\" font-family=\"Times,serif\" font-size=\"14.00\">1</text>\n",
       "</g>\n",
       "<!-- B&#45;&gt;IF -->\n",
       "<g id=\"edge10\" class=\"edge\"><title>B&#45;&gt;IF</title>\n",
       "<path fill=\"none\" stroke=\"black\" d=\"M344.3,-106.458C332.593,-113.691 315.41,-122.919 298.83,-126.692 244.792,-138.989 180.267,-124.512 143.517,-113.599\"/>\n",
       "<polygon fill=\"black\" stroke=\"black\" points=\"144.507,-110.241 133.92,-110.64 142.445,-116.931 144.507,-110.241\"/>\n",
       "<text text-anchor=\"middle\" x=\"235.5\" y=\"-133.492\" font-family=\"Times,serif\" font-size=\"14.00\">0</text>\n",
       "</g>\n",
       "<!-- A1&#45;&gt;A -->\n",
       "<g id=\"edge7\" class=\"edge\"><title>A1&#45;&gt;A</title>\n",
       "<path fill=\"none\" stroke=\"black\" d=\"M256.766,-37.6271C249.013,-37.7368 240.084,-38.0265 232,-38.6915 229.431,-38.9029 226.762,-39.1795 224.097,-39.4942\"/>\n",
       "<polygon fill=\"black\" stroke=\"black\" points=\"223.491,-36.044 214.044,-40.8397 224.42,-42.9821 223.491,-36.044\"/>\n",
       "<text text-anchor=\"middle\" x=\"235.5\" y=\"-41.4915\" font-family=\"Times,serif\" font-size=\"14.00\">1</text>\n",
       "</g>\n",
       "<!-- A1&#45;&gt;B -->\n",
       "<g id=\"edge6\" class=\"edge\"><title>A1&#45;&gt;B</title>\n",
       "<path fill=\"none\" stroke=\"black\" d=\"M297.628,-45.5923C306.012,-49.5462 315.798,-54.7563 323.83,-60.6915 329.765,-65.077 335.602,-70.4988 340.757,-75.7919\"/>\n",
       "<polygon fill=\"black\" stroke=\"black\" points=\"338.382,-78.3775 347.754,-83.3193 343.509,-73.6118 338.382,-78.3775\"/>\n",
       "<text text-anchor=\"middle\" x=\"320.33\" y=\"-63.4915\" font-family=\"Times,serif\" font-size=\"14.00\">0</text>\n",
       "</g>\n",
       "<!-- IF&#45;&gt;A -->\n",
       "<g id=\"edge2\" class=\"edge\"><title>IF&#45;&gt;A</title>\n",
       "<path fill=\"none\" stroke=\"black\" d=\"M131.178,-90.9671C143.368,-81.9373 159.835,-69.7398 172.988,-59.9964\"/>\n",
       "<polygon fill=\"black\" stroke=\"black\" points=\"175.123,-62.7707 181.076,-54.0059 170.957,-57.1458 175.123,-62.7707\"/>\n",
       "<text text-anchor=\"middle\" x=\"156.5\" y=\"-76.4915\" font-family=\"Times,serif\" font-size=\"14.00\">0</text>\n",
       "</g>\n",
       "<!-- IF&#45;&gt;IF -->\n",
       "<g id=\"edge3\" class=\"edge\"><title>IF&#45;&gt;IF</title>\n",
       "<path fill=\"none\" stroke=\"black\" d=\"M105.683,-124.682C104.78,-134.779 107.219,-143.692 113,-143.692 116.704,-143.692 119.036,-140.034 119.996,-134.75\"/>\n",
       "<polygon fill=\"black\" stroke=\"black\" points=\"123.496,-134.789 120.317,-124.682 116.5,-134.566 123.496,-134.789\"/>\n",
       "<text text-anchor=\"middle\" x=\"113\" y=\"-146.492\" font-family=\"Times,serif\" font-size=\"14.00\">1</text>\n",
       "</g>\n",
       "</g>\n",
       "</svg>\n"
      ],
      "text/plain": [
       "<graphviz.dot.Digraph at 0x10c7cad30>"
      ]
     },
     "execution_count": 52,
     "metadata": {},
     "output_type": "execute_result"
    }
   ],
   "source": [
    "d34bl = dotObj_dfa(D34bl, \"D34bl\")\n",
    "d34bl # Display it!"
   ]
  },
  {
   "cell_type": "code",
   "execution_count": 53,
   "metadata": {
    "run_control": {
     "frozen": false,
     "read_only": false
    }
   },
   "outputs": [],
   "source": [
    "d34bl = dotObj_dfa(D34bl, FuseEdges=True, dfaName=\"D34bl\")"
   ]
  },
  {
   "cell_type": "code",
   "execution_count": 54,
   "metadata": {
    "run_control": {
     "frozen": false,
     "read_only": false
    }
   },
   "outputs": [
    {
     "data": {
      "image/svg+xml": [
       "<?xml version=\"1.0\" encoding=\"UTF-8\" standalone=\"no\"?>\n",
       "<!DOCTYPE svg PUBLIC \"-//W3C//DTD SVG 1.1//EN\"\n",
       " \"http://www.w3.org/Graphics/SVG/1.1/DTD/svg11.dtd\">\n",
       "<!-- Generated by graphviz version 2.38.0 (20140413.2041)\n",
       " -->\n",
       "<!-- Title: %3 Pages: 1 -->\n",
       "<svg width=\"386pt\" height=\"166pt\"\n",
       " viewBox=\"0.00 0.00 385.83 165.69\" xmlns=\"http://www.w3.org/2000/svg\" xmlns:xlink=\"http://www.w3.org/1999/xlink\">\n",
       "<g id=\"graph0\" class=\"graph\" transform=\"scale(1 1) rotate(0) translate(4 161.692)\">\n",
       "<title>%3</title>\n",
       "<polygon fill=\"white\" stroke=\"none\" points=\"-4,4 -4,-161.692 381.83,-161.692 381.83,4 -4,4\"/>\n",
       "<!-- EMPTY -->\n",
       "<g id=\"node1\" class=\"node\"><title>EMPTY</title>\n",
       "</g>\n",
       "<!-- IF -->\n",
       "<g id=\"node6\" class=\"node\"><title>IF</title>\n",
       "<ellipse fill=\"none\" stroke=\"black\" cx=\"113\" cy=\"-103.692\" rx=\"18\" ry=\"18\"/>\n",
       "<ellipse fill=\"none\" stroke=\"black\" cx=\"113\" cy=\"-103.692\" rx=\"22\" ry=\"22\"/>\n",
       "<text text-anchor=\"middle\" x=\"113\" y=\"-99.4915\" font-family=\"Times,serif\" font-size=\"14.00\">IF</text>\n",
       "</g>\n",
       "<!-- EMPTY&#45;&gt;IF -->\n",
       "<g id=\"edge1\" class=\"edge\"><title>EMPTY&#45;&gt;IF</title>\n",
       "<path fill=\"none\" stroke=\"black\" d=\"M54.1177,-103.692C62.5406,-103.692 71.9629,-103.692 80.7191,-103.692\"/>\n",
       "<polygon fill=\"black\" stroke=\"black\" points=\"80.9574,-107.192 90.9574,-103.692 80.9573,-100.192 80.9574,-107.192\"/>\n",
       "</g>\n",
       "<!-- A -->\n",
       "<g id=\"node2\" class=\"node\"><title>A</title>\n",
       "<ellipse fill=\"none\" stroke=\"black\" cx=\"196\" cy=\"-43.6915\" rx=\"18\" ry=\"18\"/>\n",
       "<text text-anchor=\"middle\" x=\"196\" y=\"-39.4915\" font-family=\"Times,serif\" font-size=\"14.00\">A</text>\n",
       "</g>\n",
       "<!-- B1 -->\n",
       "<g id=\"node3\" class=\"node\"><title>B1</title>\n",
       "<ellipse fill=\"none\" stroke=\"black\" cx=\"277.915\" cy=\"-97.6915\" rx=\"20.3544\" ry=\"20.3544\"/>\n",
       "<text text-anchor=\"middle\" x=\"277.915\" y=\"-93.4915\" font-family=\"Times,serif\" font-size=\"14.00\">B1</text>\n",
       "</g>\n",
       "<!-- A&#45;&gt;B1 -->\n",
       "<g id=\"edge4\" class=\"edge\"><title>A&#45;&gt;B1</title>\n",
       "<path fill=\"none\" stroke=\"black\" d=\"M211.287,-53.3457C222.63,-61.0104 238.76,-71.9092 252.189,-80.9839\"/>\n",
       "<polygon fill=\"black\" stroke=\"black\" points=\"250.302,-83.9326 260.547,-86.6315 254.221,-78.1326 250.302,-83.9326\"/>\n",
       "<text text-anchor=\"middle\" x=\"235.5\" y=\"-74.4915\" font-family=\"Times,serif\" font-size=\"14.00\">0</text>\n",
       "</g>\n",
       "<!-- A1 -->\n",
       "<g id=\"node5\" class=\"node\"><title>A1</title>\n",
       "<ellipse fill=\"none\" stroke=\"black\" cx=\"277.915\" cy=\"-37.6915\" rx=\"20.8304\" ry=\"20.8304\"/>\n",
       "<text text-anchor=\"middle\" x=\"277.915\" y=\"-33.4915\" font-family=\"Times,serif\" font-size=\"14.00\">A1</text>\n",
       "</g>\n",
       "<!-- A&#45;&gt;A1 -->\n",
       "<g id=\"edge5\" class=\"edge\"><title>A&#45;&gt;A1</title>\n",
       "<path fill=\"none\" stroke=\"black\" d=\"M205.423,-27.8426C211.432,-18.3408 220.482,-7.08627 232,-1.69154 242.219,3.09493 252.162,-3.34576 260.084,-12.0403\"/>\n",
       "<polygon fill=\"black\" stroke=\"black\" points=\"257.501,-14.4143 266.482,-20.0356 262.967,-10.0408 257.501,-14.4143\"/>\n",
       "<text text-anchor=\"middle\" x=\"235.5\" y=\"-4.49154\" font-family=\"Times,serif\" font-size=\"14.00\">1</text>\n",
       "</g>\n",
       "<!-- B -->\n",
       "<g id=\"node4\" class=\"node\"><title>B</title>\n",
       "<ellipse fill=\"none\" stroke=\"black\" cx=\"359.83\" cy=\"-96.6915\" rx=\"18\" ry=\"18\"/>\n",
       "<text text-anchor=\"middle\" x=\"359.83\" y=\"-92.4915\" font-family=\"Times,serif\" font-size=\"14.00\">B</text>\n",
       "</g>\n",
       "<!-- B1&#45;&gt;B -->\n",
       "<g id=\"edge9\" class=\"edge\"><title>B1&#45;&gt;B</title>\n",
       "<path fill=\"none\" stroke=\"black\" d=\"M296.075,-87.5698C302.381,-84.3902 309.722,-81.2932 316.83,-79.6915 323.024,-78.2958 329.488,-79.4704 335.435,-81.7331\"/>\n",
       "<polygon fill=\"black\" stroke=\"black\" points=\"334.296,-85.0712 344.818,-86.3069 337.363,-78.779 334.296,-85.0712\"/>\n",
       "<text text-anchor=\"middle\" x=\"320.33\" y=\"-82.4915\" font-family=\"Times,serif\" font-size=\"14.00\">1</text>\n",
       "</g>\n",
       "<!-- B1&#45;&gt;IF -->\n",
       "<g id=\"edge8\" class=\"edge\"><title>B1&#45;&gt;IF</title>\n",
       "<path fill=\"none\" stroke=\"black\" d=\"M257.142,-98.4198C229.322,-99.4443 178.344,-101.322 145.333,-102.538\"/>\n",
       "<polygon fill=\"black\" stroke=\"black\" points=\"145.163,-99.0414 135.298,-102.907 145.42,-106.037 145.163,-99.0414\"/>\n",
       "<text text-anchor=\"middle\" x=\"196\" y=\"-103.492\" font-family=\"Times,serif\" font-size=\"14.00\">0</text>\n",
       "</g>\n",
       "<!-- B&#45;&gt;B1 -->\n",
       "<g id=\"edge11\" class=\"edge\"><title>B&#45;&gt;B1</title>\n",
       "<path fill=\"none\" stroke=\"black\" d=\"M341.74,-96.9054C332.17,-97.0251 319.961,-97.1779 308.856,-97.3169\"/>\n",
       "<polygon fill=\"black\" stroke=\"black\" points=\"308.625,-93.8194 298.669,-97.4443 308.712,-100.819 308.625,-93.8194\"/>\n",
       "<text text-anchor=\"middle\" x=\"320.33\" y=\"-99.4915\" font-family=\"Times,serif\" font-size=\"14.00\">1</text>\n",
       "</g>\n",
       "<!-- B&#45;&gt;IF -->\n",
       "<g id=\"edge10\" class=\"edge\"><title>B&#45;&gt;IF</title>\n",
       "<path fill=\"none\" stroke=\"black\" d=\"M344.3,-106.458C332.593,-113.691 315.41,-122.919 298.83,-126.692 244.792,-138.989 180.267,-124.512 143.517,-113.599\"/>\n",
       "<polygon fill=\"black\" stroke=\"black\" points=\"144.507,-110.241 133.92,-110.64 142.445,-116.931 144.507,-110.241\"/>\n",
       "<text text-anchor=\"middle\" x=\"235.5\" y=\"-133.492\" font-family=\"Times,serif\" font-size=\"14.00\">0</text>\n",
       "</g>\n",
       "<!-- A1&#45;&gt;A -->\n",
       "<g id=\"edge7\" class=\"edge\"><title>A1&#45;&gt;A</title>\n",
       "<path fill=\"none\" stroke=\"black\" d=\"M256.766,-37.6271C249.013,-37.7368 240.084,-38.0265 232,-38.6915 229.431,-38.9029 226.762,-39.1795 224.097,-39.4942\"/>\n",
       "<polygon fill=\"black\" stroke=\"black\" points=\"223.491,-36.044 214.044,-40.8397 224.42,-42.9821 223.491,-36.044\"/>\n",
       "<text text-anchor=\"middle\" x=\"235.5\" y=\"-41.4915\" font-family=\"Times,serif\" font-size=\"14.00\">1</text>\n",
       "</g>\n",
       "<!-- A1&#45;&gt;B -->\n",
       "<g id=\"edge6\" class=\"edge\"><title>A1&#45;&gt;B</title>\n",
       "<path fill=\"none\" stroke=\"black\" d=\"M297.628,-45.5923C306.012,-49.5462 315.798,-54.7563 323.83,-60.6915 329.765,-65.077 335.602,-70.4988 340.757,-75.7919\"/>\n",
       "<polygon fill=\"black\" stroke=\"black\" points=\"338.382,-78.3775 347.754,-83.3193 343.509,-73.6118 338.382,-78.3775\"/>\n",
       "<text text-anchor=\"middle\" x=\"320.33\" y=\"-63.4915\" font-family=\"Times,serif\" font-size=\"14.00\">0</text>\n",
       "</g>\n",
       "<!-- IF&#45;&gt;A -->\n",
       "<g id=\"edge2\" class=\"edge\"><title>IF&#45;&gt;A</title>\n",
       "<path fill=\"none\" stroke=\"black\" d=\"M131.178,-90.9671C143.368,-81.9373 159.835,-69.7398 172.988,-59.9964\"/>\n",
       "<polygon fill=\"black\" stroke=\"black\" points=\"175.123,-62.7707 181.076,-54.0059 170.957,-57.1458 175.123,-62.7707\"/>\n",
       "<text text-anchor=\"middle\" x=\"156.5\" y=\"-76.4915\" font-family=\"Times,serif\" font-size=\"14.00\">0</text>\n",
       "</g>\n",
       "<!-- IF&#45;&gt;IF -->\n",
       "<g id=\"edge3\" class=\"edge\"><title>IF&#45;&gt;IF</title>\n",
       "<path fill=\"none\" stroke=\"black\" d=\"M105.683,-124.682C104.78,-134.779 107.219,-143.692 113,-143.692 116.704,-143.692 119.036,-140.034 119.996,-134.75\"/>\n",
       "<polygon fill=\"black\" stroke=\"black\" points=\"123.496,-134.789 120.317,-124.682 116.5,-134.566 123.496,-134.789\"/>\n",
       "<text text-anchor=\"middle\" x=\"113\" y=\"-146.492\" font-family=\"Times,serif\" font-size=\"14.00\">1</text>\n",
       "</g>\n",
       "</g>\n",
       "</svg>\n"
      ],
      "text/plain": [
       "<graphviz.dot.Digraph at 0x10c7caeb8>"
      ]
     },
     "execution_count": 54,
     "metadata": {},
     "output_type": "execute_result"
    }
   ],
   "source": [
    "d34bl"
   ]
  },
  {
   "cell_type": "code",
   "execution_count": 55,
   "metadata": {
    "run_control": {
     "frozen": false,
     "read_only": false
    }
   },
   "outputs": [
    {
     "data": {
      "text/plain": [
       "False"
      ]
     },
     "execution_count": 55,
     "metadata": {},
     "output_type": "execute_result"
    }
   ],
   "source": [
    "iso_dfa(D34,D34bl)"
   ]
  },
  {
   "cell_type": "code",
   "execution_count": 56,
   "metadata": {
    "run_control": {
     "frozen": false,
     "read_only": false
    }
   },
   "outputs": [
    {
     "data": {
      "text/plain": [
       "True"
      ]
     },
     "execution_count": 56,
     "metadata": {},
     "output_type": "execute_result"
    }
   ],
   "source": [
    "langeq_dfa(D34,D34bl)"
   ]
  },
  {
   "cell_type": "markdown",
   "metadata": {
    "collapsed": true,
    "run_control": {
     "frozen": false,
     "read_only": false
    }
   },
   "source": [
    "#### "
   ]
  },
  {
   "cell_type": "code",
   "execution_count": 57,
   "metadata": {
    "run_control": {
     "frozen": false,
     "read_only": false
    }
   },
   "outputs": [
    {
     "data": {
      "text/plain": [
       "{'Delta': {(('A', 'A'), '0'): ('B', 'B'),\n",
       "  (('A', 'A'), '1'): ('A', 'A'),\n",
       "  (('B', 'B'), '0'): ('IF', 'IF'),\n",
       "  (('B', 'B'), '1'): ('B', 'B'),\n",
       "  (('IF', 'IF'), '0'): ('A', 'A'),\n",
       "  (('IF', 'IF'), '1'): ('IF', 'IF')},\n",
       " 'F': {('A', 'A'), ('B', 'B'), ('IF', 'IF')},\n",
       " 'Q': {('A', 'A'), ('B', 'B'), ('IF', 'IF')},\n",
       " 'Sigma': {'0', '1'},\n",
       " 'q0': ('IF', 'IF')}"
      ]
     },
     "execution_count": 57,
     "metadata": {},
     "output_type": "execute_result"
    }
   ],
   "source": [
    "du"
   ]
  },
  {
   "cell_type": "code",
   "execution_count": 58,
   "metadata": {
    "run_control": {
     "frozen": false,
     "read_only": false
    }
   },
   "outputs": [
    {
     "data": {
      "image/svg+xml": [
       "<?xml version=\"1.0\" encoding=\"UTF-8\" standalone=\"no\"?>\n",
       "<!DOCTYPE svg PUBLIC \"-//W3C//DTD SVG 1.1//EN\"\n",
       " \"http://www.w3.org/Graphics/SVG/1.1/DTD/svg11.dtd\">\n",
       "<!-- Generated by graphviz version 2.38.0 (20140413.2041)\n",
       " -->\n",
       "<!-- Title: %3 Pages: 1 -->\n",
       "<svg width=\"386pt\" height=\"166pt\"\n",
       " viewBox=\"0.00 0.00 385.83 165.69\" xmlns=\"http://www.w3.org/2000/svg\" xmlns:xlink=\"http://www.w3.org/1999/xlink\">\n",
       "<g id=\"graph0\" class=\"graph\" transform=\"scale(1 1) rotate(0) translate(4 161.692)\">\n",
       "<title>%3</title>\n",
       "<polygon fill=\"white\" stroke=\"none\" points=\"-4,4 -4,-161.692 381.83,-161.692 381.83,4 -4,4\"/>\n",
       "<!-- EMPTY -->\n",
       "<g id=\"node1\" class=\"node\"><title>EMPTY</title>\n",
       "</g>\n",
       "<!-- IF -->\n",
       "<g id=\"node6\" class=\"node\"><title>IF</title>\n",
       "<ellipse fill=\"none\" stroke=\"black\" cx=\"113\" cy=\"-103.692\" rx=\"18\" ry=\"18\"/>\n",
       "<ellipse fill=\"none\" stroke=\"black\" cx=\"113\" cy=\"-103.692\" rx=\"22\" ry=\"22\"/>\n",
       "<text text-anchor=\"middle\" x=\"113\" y=\"-99.4915\" font-family=\"Times,serif\" font-size=\"14.00\">IF</text>\n",
       "</g>\n",
       "<!-- EMPTY&#45;&gt;IF -->\n",
       "<g id=\"edge1\" class=\"edge\"><title>EMPTY&#45;&gt;IF</title>\n",
       "<path fill=\"none\" stroke=\"black\" d=\"M54.1177,-103.692C62.5406,-103.692 71.9629,-103.692 80.7191,-103.692\"/>\n",
       "<polygon fill=\"black\" stroke=\"black\" points=\"80.9574,-107.192 90.9574,-103.692 80.9573,-100.192 80.9574,-107.192\"/>\n",
       "</g>\n",
       "<!-- A -->\n",
       "<g id=\"node2\" class=\"node\"><title>A</title>\n",
       "<ellipse fill=\"none\" stroke=\"black\" cx=\"196\" cy=\"-43.6915\" rx=\"18\" ry=\"18\"/>\n",
       "<text text-anchor=\"middle\" x=\"196\" y=\"-39.4915\" font-family=\"Times,serif\" font-size=\"14.00\">A</text>\n",
       "</g>\n",
       "<!-- B1 -->\n",
       "<g id=\"node3\" class=\"node\"><title>B1</title>\n",
       "<ellipse fill=\"none\" stroke=\"black\" cx=\"277.915\" cy=\"-97.6915\" rx=\"20.3544\" ry=\"20.3544\"/>\n",
       "<text text-anchor=\"middle\" x=\"277.915\" y=\"-93.4915\" font-family=\"Times,serif\" font-size=\"14.00\">B1</text>\n",
       "</g>\n",
       "<!-- A&#45;&gt;B1 -->\n",
       "<g id=\"edge9\" class=\"edge\"><title>A&#45;&gt;B1</title>\n",
       "<path fill=\"none\" stroke=\"black\" d=\"M211.287,-53.3457C222.63,-61.0104 238.76,-71.9092 252.189,-80.9839\"/>\n",
       "<polygon fill=\"black\" stroke=\"black\" points=\"250.302,-83.9326 260.547,-86.6315 254.221,-78.1326 250.302,-83.9326\"/>\n",
       "<text text-anchor=\"middle\" x=\"235.5\" y=\"-74.4915\" font-family=\"Times,serif\" font-size=\"14.00\">0</text>\n",
       "</g>\n",
       "<!-- A1 -->\n",
       "<g id=\"node5\" class=\"node\"><title>A1</title>\n",
       "<ellipse fill=\"none\" stroke=\"black\" cx=\"277.915\" cy=\"-37.6915\" rx=\"20.8304\" ry=\"20.8304\"/>\n",
       "<text text-anchor=\"middle\" x=\"277.915\" y=\"-33.4915\" font-family=\"Times,serif\" font-size=\"14.00\">A1</text>\n",
       "</g>\n",
       "<!-- A&#45;&gt;A1 -->\n",
       "<g id=\"edge6\" class=\"edge\"><title>A&#45;&gt;A1</title>\n",
       "<path fill=\"none\" stroke=\"black\" d=\"M205.423,-27.8426C211.432,-18.3408 220.482,-7.08627 232,-1.69154 242.219,3.09493 252.162,-3.34576 260.084,-12.0403\"/>\n",
       "<polygon fill=\"black\" stroke=\"black\" points=\"257.501,-14.4143 266.482,-20.0356 262.967,-10.0408 257.501,-14.4143\"/>\n",
       "<text text-anchor=\"middle\" x=\"235.5\" y=\"-4.49154\" font-family=\"Times,serif\" font-size=\"14.00\">1</text>\n",
       "</g>\n",
       "<!-- B -->\n",
       "<g id=\"node4\" class=\"node\"><title>B</title>\n",
       "<ellipse fill=\"none\" stroke=\"black\" cx=\"359.83\" cy=\"-96.6915\" rx=\"18\" ry=\"18\"/>\n",
       "<text text-anchor=\"middle\" x=\"359.83\" y=\"-92.4915\" font-family=\"Times,serif\" font-size=\"14.00\">B</text>\n",
       "</g>\n",
       "<!-- B1&#45;&gt;B -->\n",
       "<g id=\"edge3\" class=\"edge\"><title>B1&#45;&gt;B</title>\n",
       "<path fill=\"none\" stroke=\"black\" d=\"M296.075,-87.5698C302.381,-84.3902 309.722,-81.2932 316.83,-79.6915 323.024,-78.2958 329.488,-79.4704 335.435,-81.7331\"/>\n",
       "<polygon fill=\"black\" stroke=\"black\" points=\"334.296,-85.0712 344.818,-86.3069 337.363,-78.779 334.296,-85.0712\"/>\n",
       "<text text-anchor=\"middle\" x=\"320.33\" y=\"-82.4915\" font-family=\"Times,serif\" font-size=\"14.00\">1</text>\n",
       "</g>\n",
       "<!-- B1&#45;&gt;IF -->\n",
       "<g id=\"edge10\" class=\"edge\"><title>B1&#45;&gt;IF</title>\n",
       "<path fill=\"none\" stroke=\"black\" d=\"M257.142,-98.4198C229.322,-99.4443 178.344,-101.322 145.333,-102.538\"/>\n",
       "<polygon fill=\"black\" stroke=\"black\" points=\"145.163,-99.0414 135.298,-102.907 145.42,-106.037 145.163,-99.0414\"/>\n",
       "<text text-anchor=\"middle\" x=\"196\" y=\"-103.492\" font-family=\"Times,serif\" font-size=\"14.00\">0</text>\n",
       "</g>\n",
       "<!-- B&#45;&gt;B1 -->\n",
       "<g id=\"edge11\" class=\"edge\"><title>B&#45;&gt;B1</title>\n",
       "<path fill=\"none\" stroke=\"black\" d=\"M341.74,-96.9054C332.17,-97.0251 319.961,-97.1779 308.856,-97.3169\"/>\n",
       "<polygon fill=\"black\" stroke=\"black\" points=\"308.625,-93.8194 298.669,-97.4443 308.712,-100.819 308.625,-93.8194\"/>\n",
       "<text text-anchor=\"middle\" x=\"320.33\" y=\"-99.4915\" font-family=\"Times,serif\" font-size=\"14.00\">1</text>\n",
       "</g>\n",
       "<!-- B&#45;&gt;IF -->\n",
       "<g id=\"edge2\" class=\"edge\"><title>B&#45;&gt;IF</title>\n",
       "<path fill=\"none\" stroke=\"black\" d=\"M344.3,-106.458C332.593,-113.691 315.41,-122.919 298.83,-126.692 244.792,-138.989 180.267,-124.512 143.517,-113.599\"/>\n",
       "<polygon fill=\"black\" stroke=\"black\" points=\"144.507,-110.241 133.92,-110.64 142.445,-116.931 144.507,-110.241\"/>\n",
       "<text text-anchor=\"middle\" x=\"235.5\" y=\"-133.492\" font-family=\"Times,serif\" font-size=\"14.00\">0</text>\n",
       "</g>\n",
       "<!-- A1&#45;&gt;A -->\n",
       "<g id=\"edge8\" class=\"edge\"><title>A1&#45;&gt;A</title>\n",
       "<path fill=\"none\" stroke=\"black\" d=\"M256.766,-37.6271C249.013,-37.7368 240.084,-38.0265 232,-38.6915 229.431,-38.9029 226.762,-39.1795 224.097,-39.4942\"/>\n",
       "<polygon fill=\"black\" stroke=\"black\" points=\"223.491,-36.044 214.044,-40.8397 224.42,-42.9821 223.491,-36.044\"/>\n",
       "<text text-anchor=\"middle\" x=\"235.5\" y=\"-41.4915\" font-family=\"Times,serif\" font-size=\"14.00\">1</text>\n",
       "</g>\n",
       "<!-- A1&#45;&gt;B -->\n",
       "<g id=\"edge5\" class=\"edge\"><title>A1&#45;&gt;B</title>\n",
       "<path fill=\"none\" stroke=\"black\" d=\"M297.628,-45.5923C306.012,-49.5462 315.798,-54.7563 323.83,-60.6915 329.765,-65.077 335.602,-70.4988 340.757,-75.7919\"/>\n",
       "<polygon fill=\"black\" stroke=\"black\" points=\"338.382,-78.3775 347.754,-83.3193 343.509,-73.6118 338.382,-78.3775\"/>\n",
       "<text text-anchor=\"middle\" x=\"320.33\" y=\"-63.4915\" font-family=\"Times,serif\" font-size=\"14.00\">0</text>\n",
       "</g>\n",
       "<!-- IF&#45;&gt;A -->\n",
       "<g id=\"edge7\" class=\"edge\"><title>IF&#45;&gt;A</title>\n",
       "<path fill=\"none\" stroke=\"black\" d=\"M131.178,-90.9671C143.368,-81.9373 159.835,-69.7398 172.988,-59.9964\"/>\n",
       "<polygon fill=\"black\" stroke=\"black\" points=\"175.123,-62.7707 181.076,-54.0059 170.957,-57.1458 175.123,-62.7707\"/>\n",
       "<text text-anchor=\"middle\" x=\"156.5\" y=\"-76.4915\" font-family=\"Times,serif\" font-size=\"14.00\">0</text>\n",
       "</g>\n",
       "<!-- IF&#45;&gt;IF -->\n",
       "<g id=\"edge4\" class=\"edge\"><title>IF&#45;&gt;IF</title>\n",
       "<path fill=\"none\" stroke=\"black\" d=\"M105.683,-124.682C104.78,-134.779 107.219,-143.692 113,-143.692 116.704,-143.692 119.036,-140.034 119.996,-134.75\"/>\n",
       "<polygon fill=\"black\" stroke=\"black\" points=\"123.496,-134.789 120.317,-124.682 116.5,-134.566 123.496,-134.789\"/>\n",
       "<text text-anchor=\"middle\" x=\"113\" y=\"-146.492\" font-family=\"Times,serif\" font-size=\"14.00\">1</text>\n",
       "</g>\n",
       "</g>\n",
       "</svg>\n"
      ],
      "text/plain": [
       "<graphviz.dot.Digraph at 0x10c7ca710>"
      ]
     },
     "execution_count": 58,
     "metadata": {},
     "output_type": "execute_result"
    }
   ],
   "source": [
    "dotObj_dfa(pruneUnreach(D34bl), \"D34bl\")"
   ]
  },
  {
   "cell_type": "code",
   "execution_count": 59,
   "metadata": {
    "run_control": {
     "frozen": false,
     "read_only": false
    }
   },
   "outputs": [],
   "source": [
    "### DFA minimization (another example)"
   ]
  },
  {
   "cell_type": "code",
   "execution_count": 60,
   "metadata": {
    "code_folding": [],
    "run_control": {
     "frozen": false,
     "read_only": false
    }
   },
   "outputs": [
    {
     "data": {
      "image/svg+xml": [
       "<?xml version=\"1.0\" encoding=\"UTF-8\" standalone=\"no\"?>\n",
       "<!DOCTYPE svg PUBLIC \"-//W3C//DTD SVG 1.1//EN\"\n",
       " \"http://www.w3.org/Graphics/SVG/1.1/DTD/svg11.dtd\">\n",
       "<!-- Generated by graphviz version 2.38.0 (20140413.2041)\n",
       " -->\n",
       "<!-- Title: %3 Pages: 1 -->\n",
       "<svg width=\"400pt\" height=\"157pt\"\n",
       " viewBox=\"0.00 0.00 399.57 156.89\" xmlns=\"http://www.w3.org/2000/svg\" xmlns:xlink=\"http://www.w3.org/1999/xlink\">\n",
       "<g id=\"graph0\" class=\"graph\" transform=\"scale(1 1) rotate(0) translate(4 152.894)\">\n",
       "<title>%3</title>\n",
       "<polygon fill=\"white\" stroke=\"none\" points=\"-4,4 -4,-152.894 395.575,-152.894 395.575,4 -4,4\"/>\n",
       "<!-- EMPTY -->\n",
       "<g id=\"node1\" class=\"node\"><title>EMPTY</title>\n",
       "</g>\n",
       "<!-- S1 -->\n",
       "<g id=\"node4\" class=\"node\"><title>S1</title>\n",
       "<ellipse fill=\"none\" stroke=\"black\" cx=\"110.447\" cy=\"-60.4469\" rx=\"19.3939\" ry=\"19.3939\"/>\n",
       "<text text-anchor=\"middle\" x=\"110.447\" y=\"-56.2469\" font-family=\"Times,serif\" font-size=\"14.00\">S1</text>\n",
       "</g>\n",
       "<!-- EMPTY&#45;&gt;S1 -->\n",
       "<g id=\"edge1\" class=\"edge\"><title>EMPTY&#45;&gt;S1</title>\n",
       "<path fill=\"none\" stroke=\"black\" d=\"M54.2186,-60.4469C62.6822,-60.4469 72.1072,-60.4469 80.7407,-60.4469\"/>\n",
       "<polygon fill=\"black\" stroke=\"black\" points=\"80.7613,-63.947 90.7613,-60.4469 80.7613,-56.947 80.7613,-63.947\"/>\n",
       "</g>\n",
       "<!-- S5 -->\n",
       "<g id=\"node2\" class=\"node\"><title>S5</title>\n",
       "<ellipse fill=\"none\" stroke=\"black\" cx=\"282.234\" cy=\"-89.4469\" rx=\"19.3939\" ry=\"19.3939\"/>\n",
       "<text text-anchor=\"middle\" x=\"282.234\" y=\"-85.2469\" font-family=\"Times,serif\" font-size=\"14.00\">S5</text>\n",
       "</g>\n",
       "<!-- S6 -->\n",
       "<g id=\"node7\" class=\"node\"><title>S6</title>\n",
       "<ellipse fill=\"none\" stroke=\"black\" cx=\"368.128\" cy=\"-61.4469\" rx=\"19.4029\" ry=\"19.4029\"/>\n",
       "<ellipse fill=\"none\" stroke=\"black\" cx=\"368.128\" cy=\"-61.4469\" rx=\"23.3939\" ry=\"23.3939\"/>\n",
       "<text text-anchor=\"middle\" x=\"368.128\" y=\"-57.2469\" font-family=\"Times,serif\" font-size=\"14.00\">S6</text>\n",
       "</g>\n",
       "<!-- S5&#45;&gt;S6 -->\n",
       "<g id=\"edge8\" class=\"edge\"><title>S5&#45;&gt;S6</title>\n",
       "<path fill=\"none\" stroke=\"black\" d=\"M300.98,-95.6808C309.018,-97.5547 318.526,-98.4194 326.681,-95.4469 332.903,-93.1792 338.832,-89.487 344.138,-85.3539\"/>\n",
       "<polygon fill=\"black\" stroke=\"black\" points=\"346.636,-87.8218 351.918,-78.6375 342.061,-82.5233 346.636,-87.8218\"/>\n",
       "<text text-anchor=\"middle\" x=\"323.181\" y=\"-99.2469\" font-family=\"Times,serif\" font-size=\"14.00\">b</text>\n",
       "</g>\n",
       "<!-- S5&#45;&gt;S6 -->\n",
       "<g id=\"edge9\" class=\"edge\"><title>S5&#45;&gt;S6</title>\n",
       "<path fill=\"none\" stroke=\"black\" d=\"M301.026,-83.5088C311.172,-80.1226 324.177,-75.7819 335.964,-71.8479\"/>\n",
       "<polygon fill=\"black\" stroke=\"black\" points=\"337.112,-75.1549 345.489,-68.6689 334.896,-68.5149 337.112,-75.1549\"/>\n",
       "<text text-anchor=\"middle\" x=\"323.181\" y=\"-80.2469\" font-family=\"Times,serif\" font-size=\"14.00\">a</text>\n",
       "</g>\n",
       "<!-- S4 -->\n",
       "<g id=\"node3\" class=\"node\"><title>S4</title>\n",
       "<ellipse fill=\"none\" stroke=\"black\" cx=\"282.234\" cy=\"-19.4469\" rx=\"19.3939\" ry=\"19.3939\"/>\n",
       "<text text-anchor=\"middle\" x=\"282.234\" y=\"-15.2469\" font-family=\"Times,serif\" font-size=\"14.00\">S4</text>\n",
       "</g>\n",
       "<!-- S4&#45;&gt;S6 -->\n",
       "<g id=\"edge10\" class=\"edge\"><title>S4&#45;&gt;S6</title>\n",
       "<path fill=\"none\" stroke=\"black\" d=\"M300.211,-27.9462C310.971,-33.3327 325.176,-40.4443 337.73,-46.7291\"/>\n",
       "<polygon fill=\"black\" stroke=\"black\" points=\"336.414,-49.9847 346.923,-51.3317 339.548,-43.7253 336.414,-49.9847\"/>\n",
       "<text text-anchor=\"middle\" x=\"323.181\" y=\"-43.2469\" font-family=\"Times,serif\" font-size=\"14.00\">b</text>\n",
       "</g>\n",
       "<!-- S4&#45;&gt;S6 -->\n",
       "<g id=\"edge11\" class=\"edge\"><title>S4&#45;&gt;S6</title>\n",
       "<path fill=\"none\" stroke=\"black\" d=\"M301.646,-16.8605C309.638,-16.487 318.923,-17.0971 326.681,-20.4469 334.297,-23.7354 341.225,-29.1989 347.111,-35.0822\"/>\n",
       "<polygon fill=\"black\" stroke=\"black\" points=\"344.661,-37.5902 353.982,-42.6267 349.837,-32.8767 344.661,-37.5902\"/>\n",
       "<text text-anchor=\"middle\" x=\"323.181\" y=\"-23.2469\" font-family=\"Times,serif\" font-size=\"14.00\">a</text>\n",
       "</g>\n",
       "<!-- S2 -->\n",
       "<g id=\"node5\" class=\"node\"><title>S2</title>\n",
       "<ellipse fill=\"none\" stroke=\"black\" cx=\"196.341\" cy=\"-89.4469\" rx=\"19.4029\" ry=\"19.4029\"/>\n",
       "<ellipse fill=\"none\" stroke=\"black\" cx=\"196.341\" cy=\"-89.4469\" rx=\"23.3939\" ry=\"23.3939\"/>\n",
       "<text text-anchor=\"middle\" x=\"196.341\" y=\"-85.2469\" font-family=\"Times,serif\" font-size=\"14.00\">S2</text>\n",
       "</g>\n",
       "<!-- S1&#45;&gt;S2 -->\n",
       "<g id=\"edge3\" class=\"edge\"><title>S1&#45;&gt;S2</title>\n",
       "<path fill=\"none\" stroke=\"black\" d=\"M129.239,-66.597C139.459,-70.1301 152.583,-74.6665 164.439,-78.7648\"/>\n",
       "<polygon fill=\"black\" stroke=\"black\" points=\"163.413,-82.1135 174.008,-82.0727 165.7,-75.4976 163.413,-82.1135\"/>\n",
       "<text text-anchor=\"middle\" x=\"151.394\" y=\"-78.2469\" font-family=\"Times,serif\" font-size=\"14.00\">a</text>\n",
       "</g>\n",
       "<!-- S3 -->\n",
       "<g id=\"node6\" class=\"node\"><title>S3</title>\n",
       "<ellipse fill=\"none\" stroke=\"black\" cx=\"196.341\" cy=\"-24.4469\" rx=\"19.4029\" ry=\"19.4029\"/>\n",
       "<ellipse fill=\"none\" stroke=\"black\" cx=\"196.341\" cy=\"-24.4469\" rx=\"23.3939\" ry=\"23.3939\"/>\n",
       "<text text-anchor=\"middle\" x=\"196.341\" y=\"-20.2469\" font-family=\"Times,serif\" font-size=\"14.00\">S3</text>\n",
       "</g>\n",
       "<!-- S1&#45;&gt;S3 -->\n",
       "<g id=\"edge2\" class=\"edge\"><title>S1&#45;&gt;S3</title>\n",
       "<path fill=\"none\" stroke=\"black\" d=\"M128.83,-52.9876C139.282,-48.5024 152.876,-42.6691 165.048,-37.4459\"/>\n",
       "<polygon fill=\"black\" stroke=\"black\" points=\"166.608,-40.5851 174.417,-33.4253 163.848,-34.1524 166.608,-40.5851\"/>\n",
       "<text text-anchor=\"middle\" x=\"151.394\" y=\"-48.2469\" font-family=\"Times,serif\" font-size=\"14.00\">b</text>\n",
       "</g>\n",
       "<!-- S2&#45;&gt;S5 -->\n",
       "<g id=\"edge7\" class=\"edge\"><title>S2&#45;&gt;S5</title>\n",
       "<path fill=\"none\" stroke=\"black\" d=\"M220.025,-90.246C227.869,-90.437 236.714,-90.5576 244.787,-90.4469 247.335,-90.4119 249.982,-90.3632 252.635,-90.306\"/>\n",
       "<polygon fill=\"black\" stroke=\"black\" points=\"252.786,-93.8035 262.695,-90.0539 252.61,-86.8057 252.786,-93.8035\"/>\n",
       "<text text-anchor=\"middle\" x=\"241.287\" y=\"-93.2469\" font-family=\"Times,serif\" font-size=\"14.00\">b</text>\n",
       "</g>\n",
       "<!-- S2&#45;&gt;S4 -->\n",
       "<g id=\"edge5\" class=\"edge\"><title>S2&#45;&gt;S4</title>\n",
       "<path fill=\"none\" stroke=\"black\" d=\"M215.702,-76.193C224.645,-69.5686 235.454,-61.3059 244.787,-53.4469 249.913,-49.1306 255.273,-44.3146 260.256,-39.6961\"/>\n",
       "<polygon fill=\"black\" stroke=\"black\" points=\"262.805,-42.1034 267.689,-32.7013 258.008,-37.0057 262.805,-42.1034\"/>\n",
       "<text text-anchor=\"middle\" x=\"241.287\" y=\"-62.2469\" font-family=\"Times,serif\" font-size=\"14.00\">a</text>\n",
       "</g>\n",
       "<!-- S3&#45;&gt;S5 -->\n",
       "<g id=\"edge4\" class=\"edge\"><title>S3&#45;&gt;S5</title>\n",
       "<path fill=\"none\" stroke=\"black\" d=\"M219.463,-28.3539C227.941,-30.6088 237.353,-34.0996 244.787,-39.4469 253.682,-45.8448 261.275,-55.0821 267.191,-63.8803\"/>\n",
       "<polygon fill=\"black\" stroke=\"black\" points=\"264.26,-65.7941 272.535,-72.4108 270.192,-62.0781 264.26,-65.7941\"/>\n",
       "<text text-anchor=\"middle\" x=\"241.287\" y=\"-42.2469\" font-family=\"Times,serif\" font-size=\"14.00\">a</text>\n",
       "</g>\n",
       "<!-- S3&#45;&gt;S4 -->\n",
       "<g id=\"edge6\" class=\"edge\"><title>S3&#45;&gt;S4</title>\n",
       "<path fill=\"none\" stroke=\"black\" d=\"M216.275,-11.6247C222.803,-7.90526 230.35,-4.33858 237.787,-2.44687 244.072,-0.848255 250.675,-1.91231 256.783,-4.12992\"/>\n",
       "<polygon fill=\"black\" stroke=\"black\" points=\"255.313,-7.30603 265.856,-8.34737 258.263,-0.958273 255.313,-7.30603\"/>\n",
       "<text text-anchor=\"middle\" x=\"241.287\" y=\"-5.24687\" font-family=\"Times,serif\" font-size=\"14.00\">b</text>\n",
       "</g>\n",
       "<!-- S6&#45;&gt;S6 -->\n",
       "<g id=\"edge12\" class=\"edge\"><title>S6&#45;&gt;S6</title>\n",
       "<path fill=\"none\" stroke=\"black\" d=\"M364.039,-84.8814C363.757,-94.63 365.12,-102.894 368.128,-102.894 369.961,-102.894 371.183,-99.8251 371.794,-95.2218\"/>\n",
       "<polygon fill=\"black\" stroke=\"black\" points=\"375.306,-95.016 372.217,-84.8814 368.311,-94.7301 375.306,-95.016\"/>\n",
       "<text text-anchor=\"middle\" x=\"368.128\" y=\"-105.694\" font-family=\"Times,serif\" font-size=\"14.00\">b</text>\n",
       "</g>\n",
       "<!-- S6&#45;&gt;S6 -->\n",
       "<g id=\"edge13\" class=\"edge\"><title>S6&#45;&gt;S6</title>\n",
       "<path fill=\"none\" stroke=\"black\" d=\"M361.038,-84.0152C358.202,-102.162 360.566,-120.894 368.128,-120.894 374.273,-120.894 376.985,-108.528 376.265,-94.1571\"/>\n",
       "<polygon fill=\"black\" stroke=\"black\" points=\"379.726,-93.6029 375.218,-84.0152 372.763,-94.3217 379.726,-93.6029\"/>\n",
       "<text text-anchor=\"middle\" x=\"368.128\" y=\"-123.694\" font-family=\"Times,serif\" font-size=\"14.00\">a</text>\n",
       "</g>\n",
       "</g>\n",
       "</svg>\n"
      ],
      "text/plain": [
       "<graphviz.dot.Digraph at 0x10c7edac8>"
      ]
     },
     "execution_count": 60,
     "metadata": {},
     "output_type": "execute_result"
    }
   ],
   "source": [
    "Bloat1 = {'Q': {'S1', 'S3', 'S2', 'S5', 'S4', 'S6' },\n",
    "          'Sigma': {'b', 'a'},\n",
    "          'Delta': { ('S1','b') : 'S3',\n",
    "                     ('S1','a') : 'S2',\n",
    "                     ('S3','a') : 'S5',\n",
    "                     ('S2','a') : 'S4',\n",
    "                     ('S3','b') : 'S4',\n",
    "                     ('S2','b') : 'S5',\n",
    "                     ('S5','b') : 'S6',\n",
    "                     ('S5','a') : 'S6',\n",
    "                     ('S4','b') : 'S6',\n",
    "                     ('S4','a') : 'S6',\n",
    "                     ('S6','b') : 'S6',\n",
    "                     ('S6','a') : 'S6' },\n",
    "          'q0': 'S1', \n",
    "          'F': {'S2','S3','S6'}   \n",
    "        }\n",
    "\n",
    "\n",
    "Bloat1O = dotObj_dfa(Bloat1, dfaName=\"Bloat1\")\n",
    "Bloat1O # Display it!"
   ]
  },
  {
   "cell_type": "code",
   "execution_count": 61,
   "metadata": {
    "run_control": {
     "frozen": false,
     "read_only": false
    }
   },
   "outputs": [
    {
     "data": {
      "image/svg+xml": [
       "<?xml version=\"1.0\" encoding=\"UTF-8\" standalone=\"no\"?>\n",
       "<!DOCTYPE svg PUBLIC \"-//W3C//DTD SVG 1.1//EN\"\n",
       " \"http://www.w3.org/Graphics/SVG/1.1/DTD/svg11.dtd\">\n",
       "<!-- Generated by graphviz version 2.38.0 (20140413.2041)\n",
       " -->\n",
       "<!-- Title: %3 Pages: 1 -->\n",
       "<svg width=\"403pt\" height=\"134pt\"\n",
       " viewBox=\"0.00 0.00 403.07 134.11\" xmlns=\"http://www.w3.org/2000/svg\" xmlns:xlink=\"http://www.w3.org/1999/xlink\">\n",
       "<g id=\"graph0\" class=\"graph\" transform=\"scale(1 1) rotate(0) translate(4 130.108)\">\n",
       "<title>%3</title>\n",
       "<polygon fill=\"white\" stroke=\"none\" points=\"-4,4 -4,-130.108 399.075,-130.108 399.075,4 -4,4\"/>\n",
       "<!-- EMPTY -->\n",
       "<g id=\"node1\" class=\"node\"><title>EMPTY</title>\n",
       "</g>\n",
       "<!-- S1 -->\n",
       "<g id=\"node4\" class=\"node\"><title>S1</title>\n",
       "<ellipse fill=\"none\" stroke=\"black\" cx=\"110.447\" cy=\"-59.661\" rx=\"19.3939\" ry=\"19.3939\"/>\n",
       "<text text-anchor=\"middle\" x=\"110.447\" y=\"-55.461\" font-family=\"Times,serif\" font-size=\"14.00\">S1</text>\n",
       "</g>\n",
       "<!-- EMPTY&#45;&gt;S1 -->\n",
       "<g id=\"edge1\" class=\"edge\"><title>EMPTY&#45;&gt;S1</title>\n",
       "<path fill=\"none\" stroke=\"black\" d=\"M54.2186,-59.661C62.6822,-59.661 72.1072,-59.661 80.7407,-59.661\"/>\n",
       "<polygon fill=\"black\" stroke=\"black\" points=\"80.7613,-63.1611 90.7613,-59.661 80.7613,-56.1611 80.7613,-63.1611\"/>\n",
       "</g>\n",
       "<!-- S5 -->\n",
       "<g id=\"node2\" class=\"node\"><title>S5</title>\n",
       "<ellipse fill=\"none\" stroke=\"black\" cx=\"282.234\" cy=\"-84.661\" rx=\"19.3939\" ry=\"19.3939\"/>\n",
       "<text text-anchor=\"middle\" x=\"282.234\" y=\"-80.461\" font-family=\"Times,serif\" font-size=\"14.00\">S5</text>\n",
       "</g>\n",
       "<!-- S6 -->\n",
       "<g id=\"node7\" class=\"node\"><title>S6</title>\n",
       "<ellipse fill=\"none\" stroke=\"black\" cx=\"371.628\" cy=\"-56.661\" rx=\"19.4029\" ry=\"19.4029\"/>\n",
       "<ellipse fill=\"none\" stroke=\"black\" cx=\"371.628\" cy=\"-56.661\" rx=\"23.3939\" ry=\"23.3939\"/>\n",
       "<text text-anchor=\"middle\" x=\"371.628\" y=\"-52.461\" font-family=\"Times,serif\" font-size=\"14.00\">S6</text>\n",
       "</g>\n",
       "<!-- S5&#45;&gt;S6 -->\n",
       "<g id=\"edge8\" class=\"edge\"><title>S5&#45;&gt;S6</title>\n",
       "<path fill=\"none\" stroke=\"black\" d=\"M300.92,-78.9948C311.861,-75.4894 326.222,-70.8882 339.065,-66.7735\"/>\n",
       "<polygon fill=\"black\" stroke=\"black\" points=\"340.489,-69.9925 348.944,-63.6082 338.353,-63.3263 340.489,-69.9925\"/>\n",
       "<text text-anchor=\"middle\" x=\"324.931\" y=\"-89.461\" font-family=\"Times,serif\" font-size=\"14.00\">a </text>\n",
       "<text text-anchor=\"middle\" x=\"324.931\" y=\"-75.461\" font-family=\"Times,serif\" font-size=\"14.00\"> b</text>\n",
       "</g>\n",
       "<!-- S4 -->\n",
       "<g id=\"node3\" class=\"node\"><title>S4</title>\n",
       "<ellipse fill=\"none\" stroke=\"black\" cx=\"282.234\" cy=\"-27.661\" rx=\"19.3939\" ry=\"19.3939\"/>\n",
       "<text text-anchor=\"middle\" x=\"282.234\" y=\"-23.461\" font-family=\"Times,serif\" font-size=\"14.00\">S4</text>\n",
       "</g>\n",
       "<!-- S4&#45;&gt;S6 -->\n",
       "<g id=\"edge9\" class=\"edge\"><title>S4&#45;&gt;S6</title>\n",
       "<path fill=\"none\" stroke=\"black\" d=\"M301.741,-31.1548C310.475,-33.0168 320.977,-35.5655 330.181,-38.661 333.742,-39.8585 337.417,-41.2548 341.033,-42.7304\"/>\n",
       "<polygon fill=\"black\" stroke=\"black\" points=\"339.781,-46.0015 350.35,-46.7394 342.548,-39.5716 339.781,-46.0015\"/>\n",
       "<text text-anchor=\"middle\" x=\"324.931\" y=\"-55.461\" font-family=\"Times,serif\" font-size=\"14.00\">a </text>\n",
       "<text text-anchor=\"middle\" x=\"324.931\" y=\"-41.461\" font-family=\"Times,serif\" font-size=\"14.00\"> b</text>\n",
       "</g>\n",
       "<!-- S2 -->\n",
       "<g id=\"node5\" class=\"node\"><title>S2</title>\n",
       "<ellipse fill=\"none\" stroke=\"black\" cx=\"196.341\" cy=\"-88.661\" rx=\"19.4029\" ry=\"19.4029\"/>\n",
       "<ellipse fill=\"none\" stroke=\"black\" cx=\"196.341\" cy=\"-88.661\" rx=\"23.3939\" ry=\"23.3939\"/>\n",
       "<text text-anchor=\"middle\" x=\"196.341\" y=\"-84.461\" font-family=\"Times,serif\" font-size=\"14.00\">S2</text>\n",
       "</g>\n",
       "<!-- S1&#45;&gt;S2 -->\n",
       "<g id=\"edge3\" class=\"edge\"><title>S1&#45;&gt;S2</title>\n",
       "<path fill=\"none\" stroke=\"black\" d=\"M129.239,-65.8111C139.459,-69.3442 152.583,-73.8806 164.439,-77.9789\"/>\n",
       "<polygon fill=\"black\" stroke=\"black\" points=\"163.413,-81.3276 174.008,-81.2868 165.7,-74.7117 163.413,-81.3276\"/>\n",
       "<text text-anchor=\"middle\" x=\"151.394\" y=\"-77.461\" font-family=\"Times,serif\" font-size=\"14.00\">a</text>\n",
       "</g>\n",
       "<!-- S3 -->\n",
       "<g id=\"node6\" class=\"node\"><title>S3</title>\n",
       "<ellipse fill=\"none\" stroke=\"black\" cx=\"196.341\" cy=\"-23.661\" rx=\"19.4029\" ry=\"19.4029\"/>\n",
       "<ellipse fill=\"none\" stroke=\"black\" cx=\"196.341\" cy=\"-23.661\" rx=\"23.3939\" ry=\"23.3939\"/>\n",
       "<text text-anchor=\"middle\" x=\"196.341\" y=\"-19.461\" font-family=\"Times,serif\" font-size=\"14.00\">S3</text>\n",
       "</g>\n",
       "<!-- S1&#45;&gt;S3 -->\n",
       "<g id=\"edge2\" class=\"edge\"><title>S1&#45;&gt;S3</title>\n",
       "<path fill=\"none\" stroke=\"black\" d=\"M128.83,-52.2018C139.282,-47.7166 152.876,-41.8832 165.048,-36.66\"/>\n",
       "<polygon fill=\"black\" stroke=\"black\" points=\"166.608,-39.7992 174.417,-32.6394 163.848,-33.3665 166.608,-39.7992\"/>\n",
       "<text text-anchor=\"middle\" x=\"151.394\" y=\"-47.461\" font-family=\"Times,serif\" font-size=\"14.00\">b</text>\n",
       "</g>\n",
       "<!-- S2&#45;&gt;S5 -->\n",
       "<g id=\"edge7\" class=\"edge\"><title>S2&#45;&gt;S5</title>\n",
       "<path fill=\"none\" stroke=\"black\" d=\"M220.046,-89.962C227.891,-90.1933 236.732,-90.211 244.787,-89.661 247.352,-89.4859 250.011,-89.2422 252.672,-88.9559\"/>\n",
       "<polygon fill=\"black\" stroke=\"black\" points=\"253.255,-92.4103 262.743,-87.6951 252.386,-85.4645 253.255,-92.4103\"/>\n",
       "<text text-anchor=\"middle\" x=\"241.287\" y=\"-92.461\" font-family=\"Times,serif\" font-size=\"14.00\">b</text>\n",
       "</g>\n",
       "<!-- S2&#45;&gt;S4 -->\n",
       "<g id=\"edge5\" class=\"edge\"><title>S2&#45;&gt;S4</title>\n",
       "<path fill=\"none\" stroke=\"black\" d=\"M215.959,-75.1231C228.314,-66.1397 244.628,-54.2778 257.856,-44.6599\"/>\n",
       "<polygon fill=\"black\" stroke=\"black\" points=\"260,-47.4282 266.03,-38.7165 255.883,-41.7666 260,-47.4282\"/>\n",
       "<text text-anchor=\"middle\" x=\"241.287\" y=\"-61.461\" font-family=\"Times,serif\" font-size=\"14.00\">a</text>\n",
       "</g>\n",
       "<!-- S3&#45;&gt;S5 -->\n",
       "<g id=\"edge4\" class=\"edge\"><title>S3&#45;&gt;S5</title>\n",
       "<path fill=\"none\" stroke=\"black\" d=\"M219.834,-27.8529C228.172,-30.1304 237.39,-33.5621 244.787,-38.661 252.747,-44.147 259.813,-51.8847 265.554,-59.4517\"/>\n",
       "<polygon fill=\"black\" stroke=\"black\" points=\"263.036,-61.9552 271.659,-68.1111 268.757,-57.9214 263.036,-61.9552\"/>\n",
       "<text text-anchor=\"middle\" x=\"241.287\" y=\"-41.461\" font-family=\"Times,serif\" font-size=\"14.00\">a</text>\n",
       "</g>\n",
       "<!-- S3&#45;&gt;S4 -->\n",
       "<g id=\"edge6\" class=\"edge\"><title>S3&#45;&gt;S4</title>\n",
       "<path fill=\"none\" stroke=\"black\" d=\"M214.499,-8.81844C223.337,-2.96539 234.411,1.66098 244.787,-1.66098 249.84,-3.27835 254.789,-5.88132 259.33,-8.8294\"/>\n",
       "<polygon fill=\"black\" stroke=\"black\" points=\"257.335,-11.7062 267.482,-14.7555 261.451,-6.04428 257.335,-11.7062\"/>\n",
       "<text text-anchor=\"middle\" x=\"241.287\" y=\"-4.46098\" font-family=\"Times,serif\" font-size=\"14.00\">b</text>\n",
       "</g>\n",
       "<!-- S6&#45;&gt;S6 -->\n",
       "<g id=\"edge10\" class=\"edge\"><title>S6&#45;&gt;S6</title>\n",
       "<path fill=\"none\" stroke=\"black\" d=\"M363.174,-78.8344C362.251,-89.1206 365.069,-98.1078 371.628,-98.1078 375.83,-98.1078 378.496,-94.4195 379.628,-89.0641\"/>\n",
       "<polygon fill=\"black\" stroke=\"black\" points=\"383.135,-88.9801 380.083,-78.8344 376.142,-88.669 383.135,-88.9801\"/>\n",
       "<text text-anchor=\"middle\" x=\"371.628\" y=\"-114.908\" font-family=\"Times,serif\" font-size=\"14.00\">a </text>\n",
       "<text text-anchor=\"middle\" x=\"371.628\" y=\"-100.908\" font-family=\"Times,serif\" font-size=\"14.00\"> b</text>\n",
       "</g>\n",
       "</g>\n",
       "</svg>\n"
      ],
      "text/plain": [
       "<graphviz.dot.Digraph at 0x10c7ca4a8>"
      ]
     },
     "execution_count": 61,
     "metadata": {},
     "output_type": "execute_result"
    }
   ],
   "source": [
    "dotObj_dfa(Bloat1, FuseEdges=True, dfaName=\"Bloat1\")"
   ]
  },
  {
   "cell_type": "code",
   "execution_count": 62,
   "metadata": {
    "run_control": {
     "frozen": false,
     "read_only": false
    }
   },
   "outputs": [
    {
     "name": "stderr",
     "output_type": "stream",
     "text": [
      "Generating LALR tables\n"
     ]
    },
    {
     "data": {
      "image/svg+xml": [
       "<?xml version=\"1.0\" encoding=\"UTF-8\" standalone=\"no\"?>\n",
       "<!DOCTYPE svg PUBLIC \"-//W3C//DTD SVG 1.1//EN\"\n",
       " \"http://www.w3.org/Graphics/SVG/1.1/DTD/svg11.dtd\">\n",
       "<!-- Generated by graphviz version 2.38.0 (20140413.2041)\n",
       " -->\n",
       "<!-- Title: %3 Pages: 1 -->\n",
       "<svg width=\"425pt\" height=\"171pt\"\n",
       " viewBox=\"0.00 0.00 425.14 170.73\" xmlns=\"http://www.w3.org/2000/svg\" xmlns:xlink=\"http://www.w3.org/1999/xlink\">\n",
       "<g id=\"graph0\" class=\"graph\" transform=\"scale(1 1) rotate(0) translate(4 166.73)\">\n",
       "<title>%3</title>\n",
       "<polygon fill=\"white\" stroke=\"none\" points=\"-4,4 -4,-166.73 421.138,-166.73 421.138,4 -4,4\"/>\n",
       "<!-- EMPTY -->\n",
       "<g id=\"node1\" class=\"node\"><title>EMPTY</title>\n",
       "</g>\n",
       "<!-- IS1 -->\n",
       "<g id=\"node4\" class=\"node\"><title>IS1</title>\n",
       "<ellipse fill=\"none\" stroke=\"black\" cx=\"113.392\" cy=\"-70.3652\" rx=\"22.2841\" ry=\"22.2841\"/>\n",
       "<text text-anchor=\"middle\" x=\"113.392\" y=\"-66.1652\" font-family=\"Times,serif\" font-size=\"14.00\">IS1</text>\n",
       "</g>\n",
       "<!-- EMPTY&#45;&gt;IS1 -->\n",
       "<g id=\"edge1\" class=\"edge\"><title>EMPTY&#45;&gt;IS1</title>\n",
       "<path fill=\"none\" stroke=\"black\" d=\"M54.2395,-70.3652C62.6329,-70.3652 72.0141,-70.3652 80.7503,-70.3652\"/>\n",
       "<polygon fill=\"black\" stroke=\"black\" points=\"80.9769,-73.8653 90.9769,-70.3652 80.9768,-66.8653 80.9769,-73.8653\"/>\n",
       "</g>\n",
       "<!-- S5 -->\n",
       "<g id=\"node2\" class=\"node\"><title>S5</title>\n",
       "<ellipse fill=\"none\" stroke=\"black\" cx=\"297.961\" cy=\"-98.3652\" rx=\"19.3939\" ry=\"19.3939\"/>\n",
       "<text text-anchor=\"middle\" x=\"297.961\" y=\"-94.1652\" font-family=\"Times,serif\" font-size=\"14.00\">S5</text>\n",
       "</g>\n",
       "<!-- FS6 -->\n",
       "<g id=\"node6\" class=\"node\"><title>FS6</title>\n",
       "<ellipse fill=\"none\" stroke=\"black\" cx=\"388.773\" cy=\"-70.3652\" rx=\"24.2499\" ry=\"24.2499\"/>\n",
       "<ellipse fill=\"none\" stroke=\"black\" cx=\"388.773\" cy=\"-70.3652\" rx=\"28.231\" ry=\"28.231\"/>\n",
       "<text text-anchor=\"middle\" x=\"388.773\" y=\"-66.1652\" font-family=\"Times,serif\" font-size=\"14.00\">FS6</text>\n",
       "</g>\n",
       "<!-- S5&#45;&gt;FS6 -->\n",
       "<g id=\"edge10\" class=\"edge\"><title>S5&#45;&gt;FS6</title>\n",
       "<path fill=\"none\" stroke=\"black\" d=\"M316.632,-104.388C324.656,-106.219 334.172,-107.109 342.408,-104.365 348.27,-102.412 353.986,-99.3722 359.273,-95.8959\"/>\n",
       "<polygon fill=\"black\" stroke=\"black\" points=\"361.694,-98.463 367.719,-89.7484 357.575,-92.8034 361.694,-98.463\"/>\n",
       "<text text-anchor=\"middle\" x=\"338.908\" y=\"-108.165\" font-family=\"Times,serif\" font-size=\"14.00\">a</text>\n",
       "</g>\n",
       "<!-- S5&#45;&gt;FS6 -->\n",
       "<g id=\"edge11\" class=\"edge\"><title>S5&#45;&gt;FS6</title>\n",
       "<path fill=\"none\" stroke=\"black\" d=\"M316.732,-92.429C322.663,-90.4708 329.312,-88.2997 335.408,-86.3652 340.674,-84.6938 346.249,-82.9566 351.72,-81.2695\"/>\n",
       "<polygon fill=\"black\" stroke=\"black\" points=\"352.832,-84.5894 361.368,-78.3122 350.781,-77.8967 352.832,-84.5894\"/>\n",
       "<text text-anchor=\"middle\" x=\"338.908\" y=\"-89.1652\" font-family=\"Times,serif\" font-size=\"14.00\">b</text>\n",
       "</g>\n",
       "<!-- S4 -->\n",
       "<g id=\"node3\" class=\"node\"><title>S4</title>\n",
       "<ellipse fill=\"none\" stroke=\"black\" cx=\"297.961\" cy=\"-28.3652\" rx=\"19.3939\" ry=\"19.3939\"/>\n",
       "<text text-anchor=\"middle\" x=\"297.961\" y=\"-24.1652\" font-family=\"Times,serif\" font-size=\"14.00\">S4</text>\n",
       "</g>\n",
       "<!-- S4&#45;&gt;FS6 -->\n",
       "<g id=\"edge8\" class=\"edge\"><title>S4&#45;&gt;FS6</title>\n",
       "<path fill=\"none\" stroke=\"black\" d=\"M316.085,-36.4632C326.712,-41.4888 340.742,-48.1239 353.571,-54.1909\"/>\n",
       "<polygon fill=\"black\" stroke=\"black\" points=\"352.098,-57.3659 362.635,-58.4771 355.091,-51.0378 352.098,-57.3659\"/>\n",
       "<text text-anchor=\"middle\" x=\"338.908\" y=\"-51.1652\" font-family=\"Times,serif\" font-size=\"14.00\">a</text>\n",
       "</g>\n",
       "<!-- S4&#45;&gt;FS6 -->\n",
       "<g id=\"edge9\" class=\"edge\"><title>S4&#45;&gt;FS6</title>\n",
       "<path fill=\"none\" stroke=\"black\" d=\"M317.27,-25.4396C325.243,-24.8978 334.542,-25.2831 342.408,-28.3652 349.856,-31.2836 356.812,-36.0627 362.932,-41.3716\"/>\n",
       "<polygon fill=\"black\" stroke=\"black\" points=\"360.548,-43.934 370.21,-48.2795 365.367,-38.8567 360.548,-43.934\"/>\n",
       "<text text-anchor=\"middle\" x=\"338.908\" y=\"-31.1652\" font-family=\"Times,serif\" font-size=\"14.00\">b</text>\n",
       "</g>\n",
       "<!-- FS2 -->\n",
       "<g id=\"node5\" class=\"node\"><title>FS2</title>\n",
       "<ellipse fill=\"none\" stroke=\"black\" cx=\"207.149\" cy=\"-103.365\" rx=\"24.2499\" ry=\"24.2499\"/>\n",
       "<ellipse fill=\"none\" stroke=\"black\" cx=\"207.149\" cy=\"-103.365\" rx=\"28.231\" ry=\"28.231\"/>\n",
       "<text text-anchor=\"middle\" x=\"207.149\" y=\"-99.1652\" font-family=\"Times,serif\" font-size=\"14.00\">FS2</text>\n",
       "</g>\n",
       "<!-- IS1&#45;&gt;FS2 -->\n",
       "<g id=\"edge2\" class=\"edge\"><title>IS1&#45;&gt;FS2</title>\n",
       "<path fill=\"none\" stroke=\"black\" d=\"M134.756,-77.689C145.337,-81.4946 158.575,-86.2553 170.767,-90.6401\"/>\n",
       "<polygon fill=\"black\" stroke=\"black\" points=\"169.655,-93.9598 180.25,-94.0507 172.024,-87.3729 169.655,-93.9598\"/>\n",
       "<text text-anchor=\"middle\" x=\"157.284\" y=\"-90.1652\" font-family=\"Times,serif\" font-size=\"14.00\">a</text>\n",
       "</g>\n",
       "<!-- FS3 -->\n",
       "<g id=\"node7\" class=\"node\"><title>FS3</title>\n",
       "<ellipse fill=\"none\" stroke=\"black\" cx=\"207.149\" cy=\"-28.3652\" rx=\"24.2499\" ry=\"24.2499\"/>\n",
       "<ellipse fill=\"none\" stroke=\"black\" cx=\"207.149\" cy=\"-28.3652\" rx=\"28.231\" ry=\"28.231\"/>\n",
       "<text text-anchor=\"middle\" x=\"207.149\" y=\"-24.1652\" font-family=\"Times,serif\" font-size=\"14.00\">FS3</text>\n",
       "</g>\n",
       "<!-- IS1&#45;&gt;FS3 -->\n",
       "<g id=\"edge3\" class=\"edge\"><title>IS1&#45;&gt;FS3</title>\n",
       "<path fill=\"none\" stroke=\"black\" d=\"M134.302,-61.2518C145.222,-56.2532 159.069,-49.9148 171.687,-44.1395\"/>\n",
       "<polygon fill=\"black\" stroke=\"black\" points=\"173.391,-47.209 181.027,-39.8644 170.477,-40.844 173.391,-47.209\"/>\n",
       "<text text-anchor=\"middle\" x=\"157.284\" y=\"-55.1652\" font-family=\"Times,serif\" font-size=\"14.00\">b</text>\n",
       "</g>\n",
       "<!-- FS2&#45;&gt;S5 -->\n",
       "<g id=\"edge5\" class=\"edge\"><title>FS2&#45;&gt;S5</title>\n",
       "<path fill=\"none\" stroke=\"black\" d=\"M235.763,-101.811C246.042,-101.232 257.729,-100.574 268.116,-99.9891\"/>\n",
       "<polygon fill=\"black\" stroke=\"black\" points=\"268.569,-103.469 278.356,-99.4126 268.176,-96.4803 268.569,-103.469\"/>\n",
       "<text text-anchor=\"middle\" x=\"257.014\" y=\"-104.165\" font-family=\"Times,serif\" font-size=\"14.00\">b</text>\n",
       "</g>\n",
       "<!-- FS2&#45;&gt;S4 -->\n",
       "<g id=\"edge4\" class=\"edge\"><title>FS2&#45;&gt;S4</title>\n",
       "<path fill=\"none\" stroke=\"black\" d=\"M230.399,-86.6239C239.836,-79.3504 250.861,-70.6197 260.514,-62.3652 265.607,-58.0101 270.953,-53.1788 275.934,-48.5578\"/>\n",
       "<polygon fill=\"black\" stroke=\"black\" points=\"278.482,-50.967 283.371,-41.568 273.688,-45.8662 278.482,-50.967\"/>\n",
       "<text text-anchor=\"middle\" x=\"257.014\" y=\"-71.1652\" font-family=\"Times,serif\" font-size=\"14.00\">a</text>\n",
       "</g>\n",
       "<!-- FS6&#45;&gt;FS6 -->\n",
       "<g id=\"edge12\" class=\"edge\"><title>FS6&#45;&gt;FS6</title>\n",
       "<path fill=\"none\" stroke=\"black\" d=\"M384.277,-98.4324C384.181,-108.512 385.679,-116.73 388.773,-116.73 390.706,-116.73 392.017,-113.52 392.704,-108.652\"/>\n",
       "<polygon fill=\"black\" stroke=\"black\" points=\"396.212,-108.61 393.269,-98.4324 389.222,-108.224 396.212,-108.61\"/>\n",
       "<text text-anchor=\"middle\" x=\"388.773\" y=\"-119.53\" font-family=\"Times,serif\" font-size=\"14.00\">a</text>\n",
       "</g>\n",
       "<!-- FS6&#45;&gt;FS6 -->\n",
       "<g id=\"edge13\" class=\"edge\"><title>FS6&#45;&gt;FS6</title>\n",
       "<path fill=\"none\" stroke=\"black\" d=\"M380.608,-97.817C378.223,-116.47 380.945,-134.73 388.773,-134.73 395.133,-134.73 398.122,-122.676 397.74,-108.15\"/>\n",
       "<polygon fill=\"black\" stroke=\"black\" points=\"401.202,-107.516 396.937,-97.817 394.223,-108.058 401.202,-107.516\"/>\n",
       "<text text-anchor=\"middle\" x=\"388.773\" y=\"-137.53\" font-family=\"Times,serif\" font-size=\"14.00\">b</text>\n",
       "</g>\n",
       "<!-- FS3&#45;&gt;S5 -->\n",
       "<g id=\"edge6\" class=\"edge\"><title>FS3&#45;&gt;S5</title>\n",
       "<path fill=\"none\" stroke=\"black\" d=\"M234.71,-35.1959C243.489,-38.2829 252.938,-42.5717 260.514,-48.3652 269.217,-55.0211 276.771,-64.3108 282.71,-73.0787\"/>\n",
       "<polygon fill=\"black\" stroke=\"black\" points=\"279.778,-74.9903 288.093,-81.5558 285.687,-71.2378 279.778,-74.9903\"/>\n",
       "<text text-anchor=\"middle\" x=\"257.014\" y=\"-51.1652\" font-family=\"Times,serif\" font-size=\"14.00\">a</text>\n",
       "</g>\n",
       "<!-- FS3&#45;&gt;S4 -->\n",
       "<g id=\"edge7\" class=\"edge\"><title>FS3&#45;&gt;S4</title>\n",
       "<path fill=\"none\" stroke=\"black\" d=\"M232.128,-14.9171C240.95,-11.4805 251.089,-9.27523 260.514,-11.3652 264.208,-12.1842 267.971,-13.4182 271.608,-14.8548\"/>\n",
       "<polygon fill=\"black\" stroke=\"black\" points=\"270.253,-18.083 280.81,-18.9848 273.12,-11.6968 270.253,-18.083\"/>\n",
       "<text text-anchor=\"middle\" x=\"257.014\" y=\"-14.1652\" font-family=\"Times,serif\" font-size=\"14.00\">b</text>\n",
       "</g>\n",
       "</g>\n",
       "</svg>\n"
      ],
      "text/plain": [
       "<graphviz.dot.Digraph at 0x10c7d01d0>"
      ]
     },
     "execution_count": 62,
     "metadata": {},
     "output_type": "execute_result"
    }
   ],
   "source": [
    "bloated_dfa = md2mc('''\n",
    "DFA\n",
    "IS1 : a -> FS2\n",
    "IS1 : b -> FS3\n",
    "FS2 : a -> S4\n",
    "FS2 : b -> S5\n",
    "FS3 : a -> S5\n",
    "FS3 : b -> S4\n",
    "S4  : a | b -> FS6\n",
    "S5  : a | b -> FS6\n",
    "FS6 : a | b -> FS6\n",
    "''')\n",
    "dotObj_dfa(bloated_dfa)"
   ]
  },
  {
   "cell_type": "code",
   "execution_count": 63,
   "metadata": {
    "run_control": {
     "frozen": false,
     "read_only": false
    }
   },
   "outputs": [
    {
     "data": {
      "text/plain": [
       "'// do_St22\\ndigraph {\\n\\tgraph [rankdir=LR]\\n\\t\\tEMPTY [label=\"\" shape=plaintext]\\n\\t\\tS5 [label=S5 peripheries=1 shape=circle]\\n\\t\\tS4 [label=S4 peripheries=1 shape=circle]\\n\\t\\tIS1 [label=IS1 peripheries=1 shape=circle]\\n\\t\\tFS2 [label=FS2 peripheries=2 shape=circle]\\n\\t\\tFS6 [label=FS6 peripheries=2 shape=circle]\\n\\t\\tFS3 [label=FS3 peripheries=2 shape=circle]\\n\\t\\t\\tEMPTY -> IS1\\n\\t\\t\\tIS1 -> FS2 [label=a]\\n\\t\\t\\tIS1 -> FS3 [label=b]\\n\\t\\t\\tFS2 -> S4 [label=a]\\n\\t\\t\\tFS2 -> S5 [label=b]\\n\\t\\t\\tFS3 -> S5 [label=a]\\n\\t\\t\\tFS3 -> S4 [label=b]\\n\\t\\t\\tS4 -> FS6 [label=a]\\n\\t\\t\\tS4 -> FS6 [label=b]\\n\\t\\t\\tS5 -> FS6 [label=a]\\n\\t\\t\\tS5 -> FS6 [label=b]\\n\\t\\t\\tFS6 -> FS6 [label=a]\\n\\t\\t\\tFS6 -> FS6 [label=b]\\n}'"
      ]
     },
     "execution_count": 63,
     "metadata": {},
     "output_type": "execute_result"
    }
   ],
   "source": [
    "dotObj_dfa(bloated_dfa).source"
   ]
  },
  {
   "cell_type": "code",
   "execution_count": null,
   "metadata": {
    "run_control": {
     "frozen": false,
     "read_only": false
    }
   },
   "outputs": [],
   "source": []
  },
  {
   "cell_type": "markdown",
   "metadata": {
    "run_control": {
     "frozen": false,
     "read_only": false
    }
   },
   "source": [
    "\n",
    "Now, here is how the computation proceeds for this example:\n",
    "-------------------------------------------------------- \n",
    " \n",
    " <br>\n",
    " \n",
    "<font size=\"3\"> \n",
    "\n",
    "\n",
    "```\n",
    " \n",
    "Frame-0                  Frame-1                   Frame-2                    \n",
    "                                                                                                     \n",
    "S2  -1                   S2   0                    S2   0                     \n",
    "\n",
    "S3  -1  -1               S3   0  -1                S3   0  -1                 \n",
    "\n",
    "S4  -1  -1  -1           S4  -1   0   0            S4   2   0   0             \n",
    "\n",
    "S5  -1  -1  -1  -1       S5  -1   0   0  -1        S5   2   0   0  -1         \n",
    "\n",
    "S6  -1  -1  -1  -1  -1   S6   0  -1  -1   0   0    S6   0   1   1   0   0     \n",
    "\n",
    "    S1  S2  S3  S4  S5       S1  S2  S3  S4  S5        S1  S2  S3  S4  S5        \n",
    "\n",
    "Initial                  0-distinguishable         1-distinguishable                         \n",
    "     \n",
    "     \n",
    "Frame-3                 Frame-4     \n",
    "                        =\n",
    "                        Frame-3\n",
    "\n",
    "S2   0\n",
    "\n",
    "S3   0  -1\n",
    "\n",
    "S4   2   0   0\n",
    "\n",
    "S5   2   0   0  -1\n",
    "\n",
    "S6   0   1   1   0   0\n",
    "\n",
    "    S1  S2  S3  S4  S5\n",
    "    \n",
    "2-distinguishable \n",
    "     \n",
    "```\n",
    "</font>"
   ]
  },
  {
   "cell_type": "markdown",
   "metadata": {
    "run_control": {
     "frozen": false,
     "read_only": false
    }
   },
   "source": [
    "Here is the algorithm, going frame by frame.\n",
    "\n",
    "- Initial Frame: \n",
    "\n",
    "     The initial frame is drawn to clash all _combinations_ of states taken two at a time.\n",
    "     Since we have 6 states, we have $6\\choose 2$ = $15$ entries. We put a -1 against each\n",
    "     such pair to denote that they have not been found distinguishable yet.\n",
    "\n",
    "- Frame *0-distinguishable*: We now put a 0 where a pair of states is 0-distinguishable. This means the states are distinguisable after consuming $\\varepsilon$. This of course means that the states are themselves distinguishable. This is only possible if one is a final state and the other is not (in that case, one state, after consuming $\\varepsilon$ accepts_dfa, and another state after consuming $\\varepsilon$ does not accept.\n",
    "\n",
    "  - So for instance, notice that (S3,S1) and (S4,S2) are 0-distinguishable, meaning that one is a final and the other is a non-final state.\n",
    "\n",
    "- Frame *1-distinguishable*: We now put a 1 where a pair of states is 1-distinguishable. This means the states are distinguisable after consuming a string of length $1$ (a single symbol). This is only possible if one state transitions to a final state and the other transitions to a non-final state after consuming a member of $\\Sigma$. \n",
    "\n",
    "  State pairs (S6,S2) and (S6,S3) are of this kind. While both S6 and S2 are final states (hence _0-indistinguishable_), after consuming an 'a' (or a 'b') they respectively go to a final/non-final state.\n",
    " This means that\n",
    "\n",
    "  - after processing **the same symbol** one state -- let's say pre_p -- finds itself landing in a state p and another state  -- let's say pre_q -- finds itself landing in a state q such that (p,q) is 0-distinguishable.\n",
    "  \n",
    "  - When this happens, states pre-p and pre-q are **1-distinguishable**.\n",
    "\n",
    "- Frame *2-distinguishable*: We now put a 2 where a pair of states is 2-distinguishable. This means the states are distinguisable after consuming a string of length $2$ (a string of length $2$). This is only possible if one state transitions to a state (say p) and the other transitions to state (say q) after consuming a member of $\\Sigma$ such that (p,q) is **1-distinguishable**. State pairs (S5,S1) and (S4,S1) are 2-distinguishable because\n",
    "\n",
    "  - after processing **the same symbol** one state -- let's say pre_p -- finds itself landing in a state p and another state  -- let's say pre_q -- finds itself landing in a state q such that (p,q) is 0-distinguishable.\n",
    "  \n",
    "  - When this happens, states pre-p and pre-q are **1-distinguishable**.\n",
    "  \n",
    "  - One example is this:\n",
    "  \n",
    "    - S5 and S1 are 2-distinguishable.\n",
    "    \n",
    "    - This is because after seeing an 'aa', S1 lands in a non-final state while S5 lands in a final state\n",
    "    \n",
    "    - Observe that \"aa\" = \"a\" + \"a\" . Thus, after eating the first \"a\", S1 lands in S2 while S5 lands in S6, and (S2,S6) have already been deemed 1-distinguishable.\n",
    "    \n",
    "    - Thus, when we mark (S5,S1) as 2-distinguishable, we are sending the matrix entry at (S5,S2) from \n",
    "      -1 to 2\n",
    " \n",
    "\n",
    "\n",
    "  - Now, in search of 3-distinguishability, we catch hold of all pairs in the matrix and see if we can send another -1 entry to \"3\". This appears not to happen. \n",
    "  \n",
    "     - Thus, if (S2,S3) is pushed via any sequence of symbols (any string) of any length, it\n",
    "       always stays in the same type of state. Thus, after seeing 'ababba', S2 is in S6, while S3 \n",
    "        is also in S6.\n",
    "\n",
    "\n",
    " - Thus, given no changes in the matrix, we stop."
   ]
  },
  {
   "cell_type": "code",
   "execution_count": 64,
   "metadata": {
    "run_control": {
     "frozen": false,
     "read_only": false
    }
   },
   "outputs": [
    {
     "data": {
      "image/svg+xml": [
       "<?xml version=\"1.0\" encoding=\"UTF-8\" standalone=\"no\"?>\n",
       "<!DOCTYPE svg PUBLIC \"-//W3C//DTD SVG 1.1//EN\"\n",
       " \"http://www.w3.org/Graphics/SVG/1.1/DTD/svg11.dtd\">\n",
       "<!-- Generated by graphviz version 2.38.0 (20140413.2041)\n",
       " -->\n",
       "<!-- Title: %3 Pages: 1 -->\n",
       "<svg width=\"410pt\" height=\"101pt\"\n",
       " viewBox=\"0.00 0.00 410.07 100.89\" xmlns=\"http://www.w3.org/2000/svg\" xmlns:xlink=\"http://www.w3.org/1999/xlink\">\n",
       "<g id=\"graph0\" class=\"graph\" transform=\"scale(1 1) rotate(0) translate(4 96.8937)\">\n",
       "<title>%3</title>\n",
       "<polygon fill=\"white\" stroke=\"none\" points=\"-4,4 -4,-96.8937 406.075,-96.8937 406.075,4 -4,4\"/>\n",
       "<!-- EMPTY -->\n",
       "<g id=\"node1\" class=\"node\"><title>EMPTY</title>\n",
       "</g>\n",
       "<!-- S1 -->\n",
       "<g id=\"node3\" class=\"node\"><title>S1</title>\n",
       "<ellipse fill=\"none\" stroke=\"black\" cx=\"110.447\" cy=\"-23.4469\" rx=\"19.3939\" ry=\"19.3939\"/>\n",
       "<text text-anchor=\"middle\" x=\"110.447\" y=\"-19.2469\" font-family=\"Times,serif\" font-size=\"14.00\">S1</text>\n",
       "</g>\n",
       "<!-- EMPTY&#45;&gt;S1 -->\n",
       "<g id=\"edge1\" class=\"edge\"><title>EMPTY&#45;&gt;S1</title>\n",
       "<path fill=\"none\" stroke=\"black\" d=\"M54.2186,-23.4469C62.6822,-23.4469 72.1072,-23.4469 80.7407,-23.4469\"/>\n",
       "<polygon fill=\"black\" stroke=\"black\" points=\"80.7613,-26.947 90.7613,-23.4469 80.7613,-19.947 80.7613,-26.947\"/>\n",
       "</g>\n",
       "<!-- S5 -->\n",
       "<g id=\"node2\" class=\"node\"><title>S5</title>\n",
       "<ellipse fill=\"none\" stroke=\"black\" cx=\"289.234\" cy=\"-23.4469\" rx=\"19.3939\" ry=\"19.3939\"/>\n",
       "<text text-anchor=\"middle\" x=\"289.234\" y=\"-19.2469\" font-family=\"Times,serif\" font-size=\"14.00\">S5</text>\n",
       "</g>\n",
       "<!-- S6 -->\n",
       "<g id=\"node5\" class=\"node\"><title>S6</title>\n",
       "<ellipse fill=\"none\" stroke=\"black\" cx=\"378.628\" cy=\"-23.4469\" rx=\"19.4029\" ry=\"19.4029\"/>\n",
       "<ellipse fill=\"none\" stroke=\"black\" cx=\"378.628\" cy=\"-23.4469\" rx=\"23.3939\" ry=\"23.3939\"/>\n",
       "<text text-anchor=\"middle\" x=\"378.628\" y=\"-19.2469\" font-family=\"Times,serif\" font-size=\"14.00\">S6</text>\n",
       "</g>\n",
       "<!-- S5&#45;&gt;S6 -->\n",
       "<g id=\"edge4\" class=\"edge\"><title>S5&#45;&gt;S6</title>\n",
       "<path fill=\"none\" stroke=\"black\" d=\"M308.768,-23.4469C319.232,-23.4469 332.615,-23.4469 344.795,-23.4469\"/>\n",
       "<polygon fill=\"black\" stroke=\"black\" points=\"345.087,-26.947 355.087,-23.4469 345.086,-19.947 345.087,-26.947\"/>\n",
       "<text text-anchor=\"middle\" x=\"331.931\" y=\"-40.2469\" font-family=\"Times,serif\" font-size=\"14.00\">a </text>\n",
       "<text text-anchor=\"middle\" x=\"331.931\" y=\"-26.2469\" font-family=\"Times,serif\" font-size=\"14.00\"> b</text>\n",
       "</g>\n",
       "<!-- S2 -->\n",
       "<g id=\"node4\" class=\"node\"><title>S2</title>\n",
       "<ellipse fill=\"none\" stroke=\"black\" cx=\"199.841\" cy=\"-23.4469\" rx=\"19.4029\" ry=\"19.4029\"/>\n",
       "<ellipse fill=\"none\" stroke=\"black\" cx=\"199.841\" cy=\"-23.4469\" rx=\"23.3939\" ry=\"23.3939\"/>\n",
       "<text text-anchor=\"middle\" x=\"199.841\" y=\"-19.2469\" font-family=\"Times,serif\" font-size=\"14.00\">S2</text>\n",
       "</g>\n",
       "<!-- S1&#45;&gt;S2 -->\n",
       "<g id=\"edge2\" class=\"edge\"><title>S1&#45;&gt;S2</title>\n",
       "<path fill=\"none\" stroke=\"black\" d=\"M129.981,-23.4469C140.444,-23.4469 153.827,-23.4469 166.008,-23.4469\"/>\n",
       "<polygon fill=\"black\" stroke=\"black\" points=\"166.299,-26.947 176.299,-23.4469 166.299,-19.947 166.299,-26.947\"/>\n",
       "<text text-anchor=\"middle\" x=\"153.144\" y=\"-40.2469\" font-family=\"Times,serif\" font-size=\"14.00\">a </text>\n",
       "<text text-anchor=\"middle\" x=\"153.144\" y=\"-26.2469\" font-family=\"Times,serif\" font-size=\"14.00\"> b</text>\n",
       "</g>\n",
       "<!-- S2&#45;&gt;S5 -->\n",
       "<g id=\"edge3\" class=\"edge\"><title>S2&#45;&gt;S5</title>\n",
       "<path fill=\"none\" stroke=\"black\" d=\"M223.347,-23.4469C234.343,-23.4469 247.703,-23.4469 259.435,-23.4469\"/>\n",
       "<polygon fill=\"black\" stroke=\"black\" points=\"259.637,-26.947 269.637,-23.4469 259.637,-19.947 259.637,-26.947\"/>\n",
       "<text text-anchor=\"middle\" x=\"246.537\" y=\"-40.2469\" font-family=\"Times,serif\" font-size=\"14.00\">a </text>\n",
       "<text text-anchor=\"middle\" x=\"246.537\" y=\"-26.2469\" font-family=\"Times,serif\" font-size=\"14.00\"> b</text>\n",
       "</g>\n",
       "<!-- S6&#45;&gt;S6 -->\n",
       "<g id=\"edge5\" class=\"edge\"><title>S6&#45;&gt;S6</title>\n",
       "<path fill=\"none\" stroke=\"black\" d=\"M370.174,-45.6203C369.251,-55.9065 372.069,-64.8937 378.628,-64.8937 382.83,-64.8937 385.496,-61.2054 386.628,-55.85\"/>\n",
       "<polygon fill=\"black\" stroke=\"black\" points=\"390.135,-55.766 387.083,-45.6203 383.142,-55.4549 390.135,-55.766\"/>\n",
       "<text text-anchor=\"middle\" x=\"378.628\" y=\"-81.6937\" font-family=\"Times,serif\" font-size=\"14.00\">a </text>\n",
       "<text text-anchor=\"middle\" x=\"378.628\" y=\"-67.6937\" font-family=\"Times,serif\" font-size=\"14.00\"> b</text>\n",
       "</g>\n",
       "</g>\n",
       "</svg>\n"
      ],
      "text/plain": [
       "<graphviz.dot.Digraph at 0x10c3c6b70>"
      ]
     },
     "execution_count": 64,
     "metadata": {},
     "output_type": "execute_result"
    }
   ],
   "source": [
    "dotObj_dfa(min_dfa(Bloat1), FuseEdges=True, dfaName=\"shrunkBloat1\")"
   ]
  },
  {
   "cell_type": "code",
   "execution_count": 65,
   "metadata": {
    "run_control": {
     "frozen": false,
     "read_only": false
    }
   },
   "outputs": [
    {
     "data": {
      "text/plain": [
       "'// do_St23\\ndigraph {\\n\\tgraph [rankdir=LR]\\n\\t\\tEMPTY [label=\"\" shape=plaintext]\\n\\t\\tS5 [label=S5 peripheries=1 shape=circle]\\n\\t\\tS1 [label=S1 peripheries=1 shape=circle]\\n\\t\\tS2 [label=S2 peripheries=2 shape=circle]\\n\\t\\tS6 [label=S6 peripheries=2 shape=circle]\\n\\t\\t\\tEMPTY -> S1\\n\\t\\t\\tS1 -> S2 [label=b]\\n\\t\\t\\tS1 -> S2 [label=a]\\n\\t\\t\\tS2 -> S5 [label=a]\\n\\t\\t\\tS2 -> S5 [label=b]\\n\\t\\t\\tS5 -> S6 [label=b]\\n\\t\\t\\tS5 -> S6 [label=a]\\n\\t\\t\\tS6 -> S6 [label=b]\\n\\t\\t\\tS6 -> S6 [label=a]\\n}'"
      ]
     },
     "execution_count": 65,
     "metadata": {},
     "output_type": "execute_result"
    }
   ],
   "source": [
    "min_bloat = min_dfa(Bloat1)\n",
    "dotObj_dfa(min_bloat).source"
   ]
  },
  {
   "cell_type": "code",
   "execution_count": 66,
   "metadata": {
    "run_control": {
     "frozen": false,
     "read_only": false
    }
   },
   "outputs": [],
   "source": [
    "prd34b1 = pruneUnreach(D34bl)"
   ]
  },
  {
   "cell_type": "code",
   "execution_count": 67,
   "metadata": {
    "run_control": {
     "frozen": false,
     "read_only": false
    }
   },
   "outputs": [
    {
     "data": {
      "image/svg+xml": [
       "<?xml version=\"1.0\" encoding=\"UTF-8\" standalone=\"no\"?>\n",
       "<!DOCTYPE svg PUBLIC \"-//W3C//DTD SVG 1.1//EN\"\n",
       " \"http://www.w3.org/Graphics/SVG/1.1/DTD/svg11.dtd\">\n",
       "<!-- Generated by graphviz version 2.38.0 (20140413.2041)\n",
       " -->\n",
       "<!-- Title: %3 Pages: 1 -->\n",
       "<svg width=\"386pt\" height=\"166pt\"\n",
       " viewBox=\"0.00 0.00 385.83 165.69\" xmlns=\"http://www.w3.org/2000/svg\" xmlns:xlink=\"http://www.w3.org/1999/xlink\">\n",
       "<g id=\"graph0\" class=\"graph\" transform=\"scale(1 1) rotate(0) translate(4 161.692)\">\n",
       "<title>%3</title>\n",
       "<polygon fill=\"white\" stroke=\"none\" points=\"-4,4 -4,-161.692 381.83,-161.692 381.83,4 -4,4\"/>\n",
       "<!-- EMPTY -->\n",
       "<g id=\"node1\" class=\"node\"><title>EMPTY</title>\n",
       "</g>\n",
       "<!-- IF -->\n",
       "<g id=\"node6\" class=\"node\"><title>IF</title>\n",
       "<ellipse fill=\"none\" stroke=\"black\" cx=\"113\" cy=\"-103.692\" rx=\"18\" ry=\"18\"/>\n",
       "<ellipse fill=\"none\" stroke=\"black\" cx=\"113\" cy=\"-103.692\" rx=\"22\" ry=\"22\"/>\n",
       "<text text-anchor=\"middle\" x=\"113\" y=\"-99.4915\" font-family=\"Times,serif\" font-size=\"14.00\">IF</text>\n",
       "</g>\n",
       "<!-- EMPTY&#45;&gt;IF -->\n",
       "<g id=\"edge1\" class=\"edge\"><title>EMPTY&#45;&gt;IF</title>\n",
       "<path fill=\"none\" stroke=\"black\" d=\"M54.1177,-103.692C62.5406,-103.692 71.9629,-103.692 80.7191,-103.692\"/>\n",
       "<polygon fill=\"black\" stroke=\"black\" points=\"80.9574,-107.192 90.9574,-103.692 80.9573,-100.192 80.9574,-107.192\"/>\n",
       "</g>\n",
       "<!-- A -->\n",
       "<g id=\"node2\" class=\"node\"><title>A</title>\n",
       "<ellipse fill=\"none\" stroke=\"black\" cx=\"196\" cy=\"-43.6915\" rx=\"18\" ry=\"18\"/>\n",
       "<text text-anchor=\"middle\" x=\"196\" y=\"-39.4915\" font-family=\"Times,serif\" font-size=\"14.00\">A</text>\n",
       "</g>\n",
       "<!-- B1 -->\n",
       "<g id=\"node3\" class=\"node\"><title>B1</title>\n",
       "<ellipse fill=\"none\" stroke=\"black\" cx=\"277.915\" cy=\"-97.6915\" rx=\"20.3544\" ry=\"20.3544\"/>\n",
       "<text text-anchor=\"middle\" x=\"277.915\" y=\"-93.4915\" font-family=\"Times,serif\" font-size=\"14.00\">B1</text>\n",
       "</g>\n",
       "<!-- A&#45;&gt;B1 -->\n",
       "<g id=\"edge9\" class=\"edge\"><title>A&#45;&gt;B1</title>\n",
       "<path fill=\"none\" stroke=\"black\" d=\"M211.287,-53.3457C222.63,-61.0104 238.76,-71.9092 252.189,-80.9839\"/>\n",
       "<polygon fill=\"black\" stroke=\"black\" points=\"250.302,-83.9326 260.547,-86.6315 254.221,-78.1326 250.302,-83.9326\"/>\n",
       "<text text-anchor=\"middle\" x=\"235.5\" y=\"-74.4915\" font-family=\"Times,serif\" font-size=\"14.00\">0</text>\n",
       "</g>\n",
       "<!-- A1 -->\n",
       "<g id=\"node5\" class=\"node\"><title>A1</title>\n",
       "<ellipse fill=\"none\" stroke=\"black\" cx=\"277.915\" cy=\"-37.6915\" rx=\"20.8304\" ry=\"20.8304\"/>\n",
       "<text text-anchor=\"middle\" x=\"277.915\" y=\"-33.4915\" font-family=\"Times,serif\" font-size=\"14.00\">A1</text>\n",
       "</g>\n",
       "<!-- A&#45;&gt;A1 -->\n",
       "<g id=\"edge6\" class=\"edge\"><title>A&#45;&gt;A1</title>\n",
       "<path fill=\"none\" stroke=\"black\" d=\"M205.423,-27.8426C211.432,-18.3408 220.482,-7.08627 232,-1.69154 242.219,3.09493 252.162,-3.34576 260.084,-12.0403\"/>\n",
       "<polygon fill=\"black\" stroke=\"black\" points=\"257.501,-14.4143 266.482,-20.0356 262.967,-10.0408 257.501,-14.4143\"/>\n",
       "<text text-anchor=\"middle\" x=\"235.5\" y=\"-4.49154\" font-family=\"Times,serif\" font-size=\"14.00\">1</text>\n",
       "</g>\n",
       "<!-- B -->\n",
       "<g id=\"node4\" class=\"node\"><title>B</title>\n",
       "<ellipse fill=\"none\" stroke=\"black\" cx=\"359.83\" cy=\"-96.6915\" rx=\"18\" ry=\"18\"/>\n",
       "<text text-anchor=\"middle\" x=\"359.83\" y=\"-92.4915\" font-family=\"Times,serif\" font-size=\"14.00\">B</text>\n",
       "</g>\n",
       "<!-- B1&#45;&gt;B -->\n",
       "<g id=\"edge3\" class=\"edge\"><title>B1&#45;&gt;B</title>\n",
       "<path fill=\"none\" stroke=\"black\" d=\"M296.075,-87.5698C302.381,-84.3902 309.722,-81.2932 316.83,-79.6915 323.024,-78.2958 329.488,-79.4704 335.435,-81.7331\"/>\n",
       "<polygon fill=\"black\" stroke=\"black\" points=\"334.296,-85.0712 344.818,-86.3069 337.363,-78.779 334.296,-85.0712\"/>\n",
       "<text text-anchor=\"middle\" x=\"320.33\" y=\"-82.4915\" font-family=\"Times,serif\" font-size=\"14.00\">1</text>\n",
       "</g>\n",
       "<!-- B1&#45;&gt;IF -->\n",
       "<g id=\"edge10\" class=\"edge\"><title>B1&#45;&gt;IF</title>\n",
       "<path fill=\"none\" stroke=\"black\" d=\"M257.142,-98.4198C229.322,-99.4443 178.344,-101.322 145.333,-102.538\"/>\n",
       "<polygon fill=\"black\" stroke=\"black\" points=\"145.163,-99.0414 135.298,-102.907 145.42,-106.037 145.163,-99.0414\"/>\n",
       "<text text-anchor=\"middle\" x=\"196\" y=\"-103.492\" font-family=\"Times,serif\" font-size=\"14.00\">0</text>\n",
       "</g>\n",
       "<!-- B&#45;&gt;B1 -->\n",
       "<g id=\"edge11\" class=\"edge\"><title>B&#45;&gt;B1</title>\n",
       "<path fill=\"none\" stroke=\"black\" d=\"M341.74,-96.9054C332.17,-97.0251 319.961,-97.1779 308.856,-97.3169\"/>\n",
       "<polygon fill=\"black\" stroke=\"black\" points=\"308.625,-93.8194 298.669,-97.4443 308.712,-100.819 308.625,-93.8194\"/>\n",
       "<text text-anchor=\"middle\" x=\"320.33\" y=\"-99.4915\" font-family=\"Times,serif\" font-size=\"14.00\">1</text>\n",
       "</g>\n",
       "<!-- B&#45;&gt;IF -->\n",
       "<g id=\"edge2\" class=\"edge\"><title>B&#45;&gt;IF</title>\n",
       "<path fill=\"none\" stroke=\"black\" d=\"M344.3,-106.458C332.593,-113.691 315.41,-122.919 298.83,-126.692 244.792,-138.989 180.267,-124.512 143.517,-113.599\"/>\n",
       "<polygon fill=\"black\" stroke=\"black\" points=\"144.507,-110.241 133.92,-110.64 142.445,-116.931 144.507,-110.241\"/>\n",
       "<text text-anchor=\"middle\" x=\"235.5\" y=\"-133.492\" font-family=\"Times,serif\" font-size=\"14.00\">0</text>\n",
       "</g>\n",
       "<!-- A1&#45;&gt;A -->\n",
       "<g id=\"edge8\" class=\"edge\"><title>A1&#45;&gt;A</title>\n",
       "<path fill=\"none\" stroke=\"black\" d=\"M256.766,-37.6271C249.013,-37.7368 240.084,-38.0265 232,-38.6915 229.431,-38.9029 226.762,-39.1795 224.097,-39.4942\"/>\n",
       "<polygon fill=\"black\" stroke=\"black\" points=\"223.491,-36.044 214.044,-40.8397 224.42,-42.9821 223.491,-36.044\"/>\n",
       "<text text-anchor=\"middle\" x=\"235.5\" y=\"-41.4915\" font-family=\"Times,serif\" font-size=\"14.00\">1</text>\n",
       "</g>\n",
       "<!-- A1&#45;&gt;B -->\n",
       "<g id=\"edge5\" class=\"edge\"><title>A1&#45;&gt;B</title>\n",
       "<path fill=\"none\" stroke=\"black\" d=\"M297.628,-45.5923C306.012,-49.5462 315.798,-54.7563 323.83,-60.6915 329.765,-65.077 335.602,-70.4988 340.757,-75.7919\"/>\n",
       "<polygon fill=\"black\" stroke=\"black\" points=\"338.382,-78.3775 347.754,-83.3193 343.509,-73.6118 338.382,-78.3775\"/>\n",
       "<text text-anchor=\"middle\" x=\"320.33\" y=\"-63.4915\" font-family=\"Times,serif\" font-size=\"14.00\">0</text>\n",
       "</g>\n",
       "<!-- IF&#45;&gt;A -->\n",
       "<g id=\"edge7\" class=\"edge\"><title>IF&#45;&gt;A</title>\n",
       "<path fill=\"none\" stroke=\"black\" d=\"M131.178,-90.9671C143.368,-81.9373 159.835,-69.7398 172.988,-59.9964\"/>\n",
       "<polygon fill=\"black\" stroke=\"black\" points=\"175.123,-62.7707 181.076,-54.0059 170.957,-57.1458 175.123,-62.7707\"/>\n",
       "<text text-anchor=\"middle\" x=\"156.5\" y=\"-76.4915\" font-family=\"Times,serif\" font-size=\"14.00\">0</text>\n",
       "</g>\n",
       "<!-- IF&#45;&gt;IF -->\n",
       "<g id=\"edge4\" class=\"edge\"><title>IF&#45;&gt;IF</title>\n",
       "<path fill=\"none\" stroke=\"black\" d=\"M105.683,-124.682C104.78,-134.779 107.219,-143.692 113,-143.692 116.704,-143.692 119.036,-140.034 119.996,-134.75\"/>\n",
       "<polygon fill=\"black\" stroke=\"black\" points=\"123.496,-134.789 120.317,-124.682 116.5,-134.566 123.496,-134.789\"/>\n",
       "<text text-anchor=\"middle\" x=\"113\" y=\"-146.492\" font-family=\"Times,serif\" font-size=\"14.00\">1</text>\n",
       "</g>\n",
       "</g>\n",
       "</svg>\n"
      ],
      "text/plain": [
       "<graphviz.dot.Digraph at 0x10c3c6ac8>"
      ]
     },
     "execution_count": 67,
     "metadata": {},
     "output_type": "execute_result"
    }
   ],
   "source": [
    "dotObj_dfa(prd34b1, \"prd34b1\")"
   ]
  },
  {
   "cell_type": "code",
   "execution_count": 68,
   "metadata": {
    "run_control": {
     "frozen": false,
     "read_only": false
    }
   },
   "outputs": [
    {
     "data": {
      "image/svg+xml": [
       "<?xml version=\"1.0\" encoding=\"UTF-8\" standalone=\"no\"?>\n",
       "<!DOCTYPE svg PUBLIC \"-//W3C//DTD SVG 1.1//EN\"\n",
       " \"http://www.w3.org/Graphics/SVG/1.1/DTD/svg11.dtd\">\n",
       "<!-- Generated by graphviz version 2.38.0 (20140413.2041)\n",
       " -->\n",
       "<!-- Title: %3 Pages: 1 -->\n",
       "<svg width=\"301pt\" height=\"137pt\"\n",
       " viewBox=\"0.00 0.00 301.00 137.00\" xmlns=\"http://www.w3.org/2000/svg\" xmlns:xlink=\"http://www.w3.org/1999/xlink\">\n",
       "<g id=\"graph0\" class=\"graph\" transform=\"scale(1 1) rotate(0) translate(4 133)\">\n",
       "<title>%3</title>\n",
       "<polygon fill=\"white\" stroke=\"none\" points=\"-4,4 -4,-133 297,-133 297,4 -4,4\"/>\n",
       "<!-- EMPTY -->\n",
       "<g id=\"node1\" class=\"node\"><title>EMPTY</title>\n",
       "</g>\n",
       "<!-- IF -->\n",
       "<g id=\"node4\" class=\"node\"><title>IF</title>\n",
       "<ellipse fill=\"none\" stroke=\"black\" cx=\"113\" cy=\"-75\" rx=\"18\" ry=\"18\"/>\n",
       "<ellipse fill=\"none\" stroke=\"black\" cx=\"113\" cy=\"-75\" rx=\"22\" ry=\"22\"/>\n",
       "<text text-anchor=\"middle\" x=\"113\" y=\"-70.8\" font-family=\"Times,serif\" font-size=\"14.00\">IF</text>\n",
       "</g>\n",
       "<!-- EMPTY&#45;&gt;IF -->\n",
       "<g id=\"edge1\" class=\"edge\"><title>EMPTY&#45;&gt;IF</title>\n",
       "<path fill=\"none\" stroke=\"black\" d=\"M54.1177,-75C62.5406,-75 71.9629,-75 80.7191,-75\"/>\n",
       "<polygon fill=\"black\" stroke=\"black\" points=\"80.9574,-78.5001 90.9574,-75 80.9573,-71.5001 80.9574,-78.5001\"/>\n",
       "</g>\n",
       "<!-- B -->\n",
       "<g id=\"node2\" class=\"node\"><title>B</title>\n",
       "<ellipse fill=\"none\" stroke=\"black\" cx=\"275\" cy=\"-75\" rx=\"18\" ry=\"18\"/>\n",
       "<text text-anchor=\"middle\" x=\"275\" y=\"-70.8\" font-family=\"Times,serif\" font-size=\"14.00\">B</text>\n",
       "</g>\n",
       "<!-- B&#45;&gt;B -->\n",
       "<g id=\"edge3\" class=\"edge\"><title>B&#45;&gt;B</title>\n",
       "<path fill=\"none\" stroke=\"black\" d=\"M268.266,-92.0373C266.892,-101.858 269.137,-111 275,-111 278.665,-111 280.916,-107.429 281.753,-102.353\"/>\n",
       "<polygon fill=\"black\" stroke=\"black\" points=\"285.252,-102.031 281.734,-92.0373 278.252,-102.044 285.252,-102.031\"/>\n",
       "<text text-anchor=\"middle\" x=\"275\" y=\"-113.8\" font-family=\"Times,serif\" font-size=\"14.00\">1</text>\n",
       "</g>\n",
       "<!-- B&#45;&gt;IF -->\n",
       "<g id=\"edge2\" class=\"edge\"><title>B&#45;&gt;IF</title>\n",
       "<path fill=\"none\" stroke=\"black\" d=\"M256.935,-75.7202C244.929,-76.1898 228.485,-76.7586 214,-77 198.002,-77.2666 193.998,-77.2499 178,-77 167.358,-76.8338 155.724,-76.5121 145.329,-76.1746\"/>\n",
       "<polygon fill=\"black\" stroke=\"black\" points=\"145.152,-72.6666 135.038,-75.8229 144.913,-79.6625 145.152,-72.6666\"/>\n",
       "<text text-anchor=\"middle\" x=\"196\" y=\"-79.8\" font-family=\"Times,serif\" font-size=\"14.00\">0</text>\n",
       "</g>\n",
       "<!-- A -->\n",
       "<g id=\"node3\" class=\"node\"><title>A</title>\n",
       "<ellipse fill=\"none\" stroke=\"black\" cx=\"196\" cy=\"-18\" rx=\"18\" ry=\"18\"/>\n",
       "<text text-anchor=\"middle\" x=\"196\" y=\"-13.8\" font-family=\"Times,serif\" font-size=\"14.00\">A</text>\n",
       "</g>\n",
       "<!-- A&#45;&gt;B -->\n",
       "<g id=\"edge5\" class=\"edge\"><title>A&#45;&gt;B</title>\n",
       "<path fill=\"none\" stroke=\"black\" d=\"M211.123,-28.4547C222.52,-36.8913 238.758,-48.9118 251.878,-58.6237\"/>\n",
       "<polygon fill=\"black\" stroke=\"black\" points=\"249.847,-61.4749 259.967,-64.6116 254.012,-55.8487 249.847,-61.4749\"/>\n",
       "<text text-anchor=\"middle\" x=\"235.5\" y=\"-50.8\" font-family=\"Times,serif\" font-size=\"14.00\">0</text>\n",
       "</g>\n",
       "<!-- A&#45;&gt;A -->\n",
       "<g id=\"edge6\" class=\"edge\"><title>A&#45;&gt;A</title>\n",
       "<path fill=\"none\" stroke=\"black\" d=\"M189.266,-35.0373C187.892,-44.8579 190.137,-54 196,-54 199.665,-54 201.916,-50.4289 202.753,-45.3529\"/>\n",
       "<polygon fill=\"black\" stroke=\"black\" points=\"206.252,-45.0307 202.734,-35.0373 199.252,-45.0439 206.252,-45.0307\"/>\n",
       "<text text-anchor=\"middle\" x=\"196\" y=\"-56.8\" font-family=\"Times,serif\" font-size=\"14.00\">1</text>\n",
       "</g>\n",
       "<!-- IF&#45;&gt;A -->\n",
       "<g id=\"edge7\" class=\"edge\"><title>IF&#45;&gt;A</title>\n",
       "<path fill=\"none\" stroke=\"black\" d=\"M131.576,-62.6318C143.522,-54.2252 159.436,-43.0264 172.335,-33.9498\"/>\n",
       "<polygon fill=\"black\" stroke=\"black\" points=\"174.533,-36.6827 180.697,-28.0654 170.504,-30.958 174.533,-36.6827\"/>\n",
       "<text text-anchor=\"middle\" x=\"156.5\" y=\"-48.8\" font-family=\"Times,serif\" font-size=\"14.00\">0</text>\n",
       "</g>\n",
       "<!-- IF&#45;&gt;IF -->\n",
       "<g id=\"edge4\" class=\"edge\"><title>IF&#45;&gt;IF</title>\n",
       "<path fill=\"none\" stroke=\"black\" d=\"M105.683,-95.9908C104.78,-106.087 107.219,-115 113,-115 116.704,-115 119.036,-111.342 119.996,-106.059\"/>\n",
       "<polygon fill=\"black\" stroke=\"black\" points=\"123.496,-106.097 120.317,-95.9908 116.5,-105.874 123.496,-106.097\"/>\n",
       "<text text-anchor=\"middle\" x=\"113\" y=\"-117.8\" font-family=\"Times,serif\" font-size=\"14.00\">1</text>\n",
       "</g>\n",
       "</g>\n",
       "</svg>\n"
      ],
      "text/plain": [
       "<graphviz.dot.Digraph at 0x10c7efda0>"
      ]
     },
     "execution_count": 68,
     "metadata": {},
     "output_type": "execute_result"
    }
   ],
   "source": [
    "dotObj_dfa(min_dfa(prd34b1), \"prd34b1min\")"
   ]
  },
  {
   "cell_type": "code",
   "execution_count": 69,
   "metadata": {
    "run_control": {
     "frozen": false,
     "read_only": false
    }
   },
   "outputs": [
    {
     "name": "stderr",
     "output_type": "stream",
     "text": [
      "Generating LALR tables\n"
     ]
    }
   ],
   "source": [
    "third1dfa=md2mc(src=\"File\", fname=\"machines/dfafiles/thirdlastis1.dfa\")"
   ]
  },
  {
   "cell_type": "code",
   "execution_count": 70,
   "metadata": {
    "run_control": {
     "frozen": false,
     "read_only": false
    }
   },
   "outputs": [
    {
     "data": {
      "text/plain": [
       "{'Delta': {('F100', '0'): 'S000',\n",
       "  ('F100', '1'): 'S001',\n",
       "  ('F101', '0'): 'S010',\n",
       "  ('F101', '1'): 'S011',\n",
       "  ('F110', '0'): 'F100',\n",
       "  ('F110', '1'): 'F101',\n",
       "  ('F111', '0'): 'F110',\n",
       "  ('F111', '1'): 'F111',\n",
       "  ('I', '0'): 'S0',\n",
       "  ('I', '1'): 'S1',\n",
       "  ('S0', '0'): 'S00',\n",
       "  ('S0', '1'): 'S01',\n",
       "  ('S00', '0'): 'S000',\n",
       "  ('S00', '1'): 'S001',\n",
       "  ('S000', '0'): 'S000',\n",
       "  ('S000', '1'): 'S001',\n",
       "  ('S001', '0'): 'S010',\n",
       "  ('S001', '1'): 'S011',\n",
       "  ('S01', '0'): 'S010',\n",
       "  ('S01', '1'): 'S011',\n",
       "  ('S010', '0'): 'F100',\n",
       "  ('S010', '1'): 'F101',\n",
       "  ('S011', '0'): 'F110',\n",
       "  ('S011', '1'): 'F111',\n",
       "  ('S1', '0'): 'S10',\n",
       "  ('S1', '1'): 'S11',\n",
       "  ('S10', '0'): 'F100',\n",
       "  ('S10', '1'): 'F101',\n",
       "  ('S11', '0'): 'F110',\n",
       "  ('S11', '1'): 'F111'},\n",
       " 'F': {'F100', 'F101', 'F110', 'F111'},\n",
       " 'Q': {'F100',\n",
       "  'F101',\n",
       "  'F110',\n",
       "  'F111',\n",
       "  'I',\n",
       "  'S0',\n",
       "  'S00',\n",
       "  'S000',\n",
       "  'S001',\n",
       "  'S01',\n",
       "  'S010',\n",
       "  'S011',\n",
       "  'S1',\n",
       "  'S10',\n",
       "  'S11'},\n",
       " 'Sigma': {'0', '1'},\n",
       " 'q0': 'I'}"
      ]
     },
     "execution_count": 70,
     "metadata": {},
     "output_type": "execute_result"
    }
   ],
   "source": [
    "third1dfa"
   ]
  },
  {
   "cell_type": "code",
   "execution_count": 71,
   "metadata": {
    "run_control": {
     "frozen": false,
     "read_only": false
    }
   },
   "outputs": [
    {
     "data": {
      "image/svg+xml": [
       "<?xml version=\"1.0\" encoding=\"UTF-8\" standalone=\"no\"?>\n",
       "<!DOCTYPE svg PUBLIC \"-//W3C//DTD SVG 1.1//EN\"\n",
       " \"http://www.w3.org/Graphics/SVG/1.1/DTD/svg11.dtd\">\n",
       "<!-- Generated by graphviz version 2.38.0 (20140413.2041)\n",
       " -->\n",
       "<!-- Title: %3 Pages: 1 -->\n",
       "<svg width=\"1134pt\" height=\"451pt\"\n",
       " viewBox=\"0.00 0.00 1133.69 451.41\" xmlns=\"http://www.w3.org/2000/svg\" xmlns:xlink=\"http://www.w3.org/1999/xlink\">\n",
       "<g id=\"graph0\" class=\"graph\" transform=\"scale(1 1) rotate(0) translate(4 447.413)\">\n",
       "<title>%3</title>\n",
       "<polygon fill=\"white\" stroke=\"none\" points=\"-4,4 -4,-447.413 1129.69,-447.413 1129.69,4 -4,4\"/>\n",
       "<!-- EMPTY -->\n",
       "<g id=\"node1\" class=\"node\"><title>EMPTY</title>\n",
       "</g>\n",
       "<!-- I -->\n",
       "<g id=\"node10\" class=\"node\"><title>I</title>\n",
       "<ellipse fill=\"none\" stroke=\"black\" cx=\"109\" cy=\"-338.545\" rx=\"18\" ry=\"18\"/>\n",
       "<text text-anchor=\"middle\" x=\"109\" y=\"-334.345\" font-family=\"Times,serif\" font-size=\"14.00\">I</text>\n",
       "</g>\n",
       "<!-- EMPTY&#45;&gt;I -->\n",
       "<g id=\"edge1\" class=\"edge\"><title>EMPTY&#45;&gt;I</title>\n",
       "<path fill=\"none\" stroke=\"black\" d=\"M54.195,-338.545C62.6538,-338.545 72.0513,-338.545 80.5951,-338.545\"/>\n",
       "<polygon fill=\"black\" stroke=\"black\" points=\"80.8257,-342.045 90.8257,-338.545 80.8257,-335.045 80.8257,-342.045\"/>\n",
       "</g>\n",
       "<!-- S01 -->\n",
       "<g id=\"node2\" class=\"node\"><title>S01</title>\n",
       "<ellipse fill=\"none\" stroke=\"black\" cx=\"578.083\" cy=\"-419.545\" rx=\"23.7379\" ry=\"23.7379\"/>\n",
       "<text text-anchor=\"middle\" x=\"578.083\" y=\"-415.345\" font-family=\"Times,serif\" font-size=\"14.00\">S01</text>\n",
       "</g>\n",
       "<!-- S010 -->\n",
       "<g id=\"node4\" class=\"node\"><title>S010</title>\n",
       "<ellipse fill=\"none\" stroke=\"black\" cx=\"677.663\" cy=\"-277.545\" rx=\"28.0822\" ry=\"28.0822\"/>\n",
       "<text text-anchor=\"middle\" x=\"677.663\" y=\"-273.345\" font-family=\"Times,serif\" font-size=\"14.00\">S010</text>\n",
       "</g>\n",
       "<!-- S01&#45;&gt;S010 -->\n",
       "<g id=\"edge10\" class=\"edge\"><title>S01&#45;&gt;S010</title>\n",
       "<path fill=\"none\" stroke=\"black\" d=\"M592.446,-400.098C608.554,-376.657 635.84,-336.951 654.977,-309.103\"/>\n",
       "<polygon fill=\"black\" stroke=\"black\" points=\"658.1,-310.738 660.879,-300.514 652.331,-306.773 658.1,-310.738\"/>\n",
       "<text text-anchor=\"middle\" x=\"627.873\" y=\"-356.345\" font-family=\"Times,serif\" font-size=\"14.00\">0</text>\n",
       "</g>\n",
       "<!-- S011 -->\n",
       "<g id=\"node8\" class=\"node\"><title>S011</title>\n",
       "<ellipse fill=\"none\" stroke=\"black\" cx=\"884.501\" cy=\"-233.545\" rx=\"27.933\" ry=\"27.933\"/>\n",
       "<text text-anchor=\"middle\" x=\"884.501\" y=\"-229.345\" font-family=\"Times,serif\" font-size=\"14.00\">S011</text>\n",
       "</g>\n",
       "<!-- S01&#45;&gt;S011 -->\n",
       "<g id=\"edge11\" class=\"edge\"><title>S01&#45;&gt;S011</title>\n",
       "<path fill=\"none\" stroke=\"black\" d=\"M601.992,-416.086C647.168,-408.235 748.951,-385.316 813.534,-330.545 834.64,-312.646 852.734,-287.093 865.231,-266.707\"/>\n",
       "<polygon fill=\"black\" stroke=\"black\" points=\"868.285,-268.419 870.403,-258.038 862.274,-264.832 868.285,-268.419\"/>\n",
       "<text text-anchor=\"middle\" x=\"727.454\" y=\"-385.345\" font-family=\"Times,serif\" font-size=\"14.00\">1</text>\n",
       "</g>\n",
       "<!-- S10 -->\n",
       "<g id=\"node3\" class=\"node\"><title>S10</title>\n",
       "<ellipse fill=\"none\" stroke=\"black\" cx=\"275.762\" cy=\"-286.545\" rx=\"23.7379\" ry=\"23.7379\"/>\n",
       "<text text-anchor=\"middle\" x=\"275.762\" y=\"-282.345\" font-family=\"Times,serif\" font-size=\"14.00\">S10</text>\n",
       "</g>\n",
       "<!-- F100 -->\n",
       "<g id=\"node15\" class=\"node\"><title>F100</title>\n",
       "<ellipse fill=\"none\" stroke=\"black\" cx=\"374.921\" cy=\"-159.545\" rx=\"28.1078\" ry=\"28.1078\"/>\n",
       "<ellipse fill=\"none\" stroke=\"black\" cx=\"374.921\" cy=\"-159.545\" rx=\"32.082\" ry=\"32.082\"/>\n",
       "<text text-anchor=\"middle\" x=\"374.921\" y=\"-155.345\" font-family=\"Times,serif\" font-size=\"14.00\">F100</text>\n",
       "</g>\n",
       "<!-- S10&#45;&gt;F100 -->\n",
       "<g id=\"edge12\" class=\"edge\"><title>S10&#45;&gt;F100</title>\n",
       "<path fill=\"none\" stroke=\"black\" d=\"M290.89,-268.078C305.861,-248.508 329.827,-217.182 348.171,-193.204\"/>\n",
       "<polygon fill=\"black\" stroke=\"black\" points=\"351.105,-195.129 354.401,-185.06 345.545,-190.876 351.105,-195.129\"/>\n",
       "<text text-anchor=\"middle\" x=\"321.131\" y=\"-234.345\" font-family=\"Times,serif\" font-size=\"14.00\">0</text>\n",
       "</g>\n",
       "<!-- F101 -->\n",
       "<g id=\"node16\" class=\"node\"><title>F101</title>\n",
       "<ellipse fill=\"none\" stroke=\"black\" cx=\"781.244\" cy=\"-289.545\" rx=\"28.1078\" ry=\"28.1078\"/>\n",
       "<ellipse fill=\"none\" stroke=\"black\" cx=\"781.244\" cy=\"-289.545\" rx=\"32.082\" ry=\"32.082\"/>\n",
       "<text text-anchor=\"middle\" x=\"781.244\" y=\"-285.345\" font-family=\"Times,serif\" font-size=\"14.00\">F101</text>\n",
       "</g>\n",
       "<!-- S10&#45;&gt;F101 -->\n",
       "<g id=\"edge13\" class=\"edge\"><title>S10&#45;&gt;F101</title>\n",
       "<path fill=\"none\" stroke=\"black\" d=\"M290.566,-305.571C307.581,-326.602 338.614,-357.545 373.921,-357.545 373.921,-357.545 373.921,-357.545 678.663,-357.545 706.889,-357.545 733.204,-339.191 751.976,-321.554\"/>\n",
       "<polygon fill=\"black\" stroke=\"black\" points=\"754.878,-323.607 759.542,-314.094 749.964,-318.622 754.878,-323.607\"/>\n",
       "<text text-anchor=\"middle\" x=\"528.292\" y=\"-360.345\" font-family=\"Times,serif\" font-size=\"14.00\">1</text>\n",
       "</g>\n",
       "<!-- S010&#45;&gt;F100 -->\n",
       "<g id=\"edge20\" class=\"edge\"><title>S010&#45;&gt;F100</title>\n",
       "<path fill=\"none\" stroke=\"black\" d=\"M663.706,-252.788C651.533,-231.802 631.455,-202.355 606.373,-184.545 550.313,-144.738 466.439,-146.928 416.843,-152.79\"/>\n",
       "<polygon fill=\"black\" stroke=\"black\" points=\"416.274,-149.334 406.803,-154.083 417.168,-156.277 416.274,-149.334\"/>\n",
       "<text text-anchor=\"middle\" x=\"528.292\" y=\"-158.345\" font-family=\"Times,serif\" font-size=\"14.00\">0</text>\n",
       "</g>\n",
       "<!-- S010&#45;&gt;F101 -->\n",
       "<g id=\"edge21\" class=\"edge\"><title>S010&#45;&gt;F101</title>\n",
       "<path fill=\"none\" stroke=\"black\" d=\"M705.069,-269.955C713.378,-268.517 722.571,-267.909 730.954,-269.545 734.661,-270.268 738.443,-271.271 742.179,-272.446\"/>\n",
       "<polygon fill=\"black\" stroke=\"black\" points=\"741.291,-275.844 751.885,-275.882 743.627,-269.245 741.291,-275.844\"/>\n",
       "<text text-anchor=\"middle\" x=\"727.454\" y=\"-272.345\" font-family=\"Times,serif\" font-size=\"14.00\">1</text>\n",
       "</g>\n",
       "<!-- S1 -->\n",
       "<g id=\"node5\" class=\"node\"><title>S1</title>\n",
       "<ellipse fill=\"none\" stroke=\"black\" cx=\"189.447\" cy=\"-286.545\" rx=\"19.3939\" ry=\"19.3939\"/>\n",
       "<text text-anchor=\"middle\" x=\"189.447\" y=\"-282.345\" font-family=\"Times,serif\" font-size=\"14.00\">S1</text>\n",
       "</g>\n",
       "<!-- S1&#45;&gt;S10 -->\n",
       "<g id=\"edge6\" class=\"edge\"><title>S1&#45;&gt;S10</title>\n",
       "<path fill=\"none\" stroke=\"black\" d=\"M209.159,-286.545C218.645,-286.545 230.452,-286.545 241.425,-286.545\"/>\n",
       "<polygon fill=\"black\" stroke=\"black\" points=\"241.587,-290.045 251.587,-286.545 241.587,-283.045 241.587,-290.045\"/>\n",
       "<text text-anchor=\"middle\" x=\"230.394\" y=\"-289.345\" font-family=\"Times,serif\" font-size=\"14.00\">0</text>\n",
       "</g>\n",
       "<!-- S11 -->\n",
       "<g id=\"node11\" class=\"node\"><title>S11</title>\n",
       "<ellipse fill=\"none\" stroke=\"black\" cx=\"884.501\" cy=\"-23.5447\" rx=\"23.5896\" ry=\"23.5896\"/>\n",
       "<text text-anchor=\"middle\" x=\"884.501\" y=\"-19.3447\" font-family=\"Times,serif\" font-size=\"14.00\">S11</text>\n",
       "</g>\n",
       "<!-- S1&#45;&gt;S11 -->\n",
       "<g id=\"edge7\" class=\"edge\"><title>S1&#45;&gt;S11</title>\n",
       "<path fill=\"none\" stroke=\"black\" d=\"M192.566,-267.303C199.651,-207.767 224.928,-30.5447 274.762,-30.5447 274.762,-30.5447 274.762,-30.5447 782.244,-30.5447 805.247,-30.5447 831.119,-28.7246 850.953,-26.9406\"/>\n",
       "<polygon fill=\"black\" stroke=\"black\" points=\"851.383,-30.4157 861.01,-25.993 850.726,-23.4466 851.383,-30.4157\"/>\n",
       "<text text-anchor=\"middle\" x=\"528.292\" y=\"-33.3447\" font-family=\"Times,serif\" font-size=\"14.00\">1</text>\n",
       "</g>\n",
       "<!-- S00 -->\n",
       "<g id=\"node6\" class=\"node\"><title>S00</title>\n",
       "<ellipse fill=\"none\" stroke=\"black\" cx=\"374.921\" cy=\"-305.545\" rx=\"23.7379\" ry=\"23.7379\"/>\n",
       "<text text-anchor=\"middle\" x=\"374.921\" y=\"-301.345\" font-family=\"Times,serif\" font-size=\"14.00\">S00</text>\n",
       "</g>\n",
       "<!-- S000 -->\n",
       "<g id=\"node9\" class=\"node\"><title>S000</title>\n",
       "<ellipse fill=\"none\" stroke=\"black\" cx=\"478.502\" cy=\"-219.545\" rx=\"28.0822\" ry=\"28.0822\"/>\n",
       "<text text-anchor=\"middle\" x=\"478.502\" y=\"-215.345\" font-family=\"Times,serif\" font-size=\"14.00\">S000</text>\n",
       "</g>\n",
       "<!-- S00&#45;&gt;S000 -->\n",
       "<g id=\"edge8\" class=\"edge\"><title>S00&#45;&gt;S000</title>\n",
       "<path fill=\"none\" stroke=\"black\" d=\"M393.615,-290.565C408.699,-277.794 430.681,-259.184 448.359,-244.218\"/>\n",
       "<polygon fill=\"black\" stroke=\"black\" points=\"450.767,-246.765 456.138,-237.632 446.244,-241.422 450.767,-246.765\"/>\n",
       "<text text-anchor=\"middle\" x=\"428.712\" y=\"-265.345\" font-family=\"Times,serif\" font-size=\"14.00\">0</text>\n",
       "</g>\n",
       "<!-- S001 -->\n",
       "<g id=\"node12\" class=\"node\"><title>S001</title>\n",
       "<ellipse fill=\"none\" stroke=\"black\" cx=\"578.083\" cy=\"-221.545\" rx=\"28.0822\" ry=\"28.0822\"/>\n",
       "<text text-anchor=\"middle\" x=\"578.083\" y=\"-217.345\" font-family=\"Times,serif\" font-size=\"14.00\">S001</text>\n",
       "</g>\n",
       "<!-- S00&#45;&gt;S001 -->\n",
       "<g id=\"edge9\" class=\"edge\"><title>S00&#45;&gt;S001</title>\n",
       "<path fill=\"none\" stroke=\"black\" d=\"M398.885,-306.768C426.007,-307.289 471.848,-305.223 506.792,-288.545 524.725,-279.986 541.046,-265.105 553.436,-251.538\"/>\n",
       "<polygon fill=\"black\" stroke=\"black\" points=\"556.297,-253.586 560.261,-243.76 551.035,-248.969 556.297,-253.586\"/>\n",
       "<text text-anchor=\"middle\" x=\"478.502\" y=\"-307.345\" font-family=\"Times,serif\" font-size=\"14.00\">1</text>\n",
       "</g>\n",
       "<!-- S0 -->\n",
       "<g id=\"node7\" class=\"node\"><title>S0</title>\n",
       "<ellipse fill=\"none\" stroke=\"black\" cx=\"275.762\" cy=\"-390.545\" rx=\"19.3939\" ry=\"19.3939\"/>\n",
       "<text text-anchor=\"middle\" x=\"275.762\" y=\"-386.345\" font-family=\"Times,serif\" font-size=\"14.00\">S0</text>\n",
       "</g>\n",
       "<!-- S0&#45;&gt;S01 -->\n",
       "<g id=\"edge5\" class=\"edge\"><title>S0&#45;&gt;S01</title>\n",
       "<path fill=\"none\" stroke=\"black\" d=\"M295.549,-392.359C345.319,-397.165 481.066,-410.273 544.103,-416.36\"/>\n",
       "<polygon fill=\"black\" stroke=\"black\" points=\"543.992,-419.866 554.283,-417.343 544.665,-412.898 543.992,-419.866\"/>\n",
       "<text text-anchor=\"middle\" x=\"428.712\" y=\"-407.345\" font-family=\"Times,serif\" font-size=\"14.00\">1</text>\n",
       "</g>\n",
       "<!-- S0&#45;&gt;S00 -->\n",
       "<g id=\"edge4\" class=\"edge\"><title>S0&#45;&gt;S00</title>\n",
       "<path fill=\"none\" stroke=\"black\" d=\"M291.098,-378.003C306.113,-364.867 330.006,-343.964 348.28,-327.977\"/>\n",
       "<polygon fill=\"black\" stroke=\"black\" points=\"351.006,-330.243 356.228,-321.024 346.397,-324.974 351.006,-330.243\"/>\n",
       "<text text-anchor=\"middle\" x=\"321.131\" y=\"-356.345\" font-family=\"Times,serif\" font-size=\"14.00\">0</text>\n",
       "</g>\n",
       "<!-- F110 -->\n",
       "<g id=\"node13\" class=\"node\"><title>F110</title>\n",
       "<ellipse fill=\"none\" stroke=\"black\" cx=\"1093.72\" cy=\"-135.545\" rx=\"27.9372\" ry=\"27.9372\"/>\n",
       "<ellipse fill=\"none\" stroke=\"black\" cx=\"1093.72\" cy=\"-135.545\" rx=\"31.933\" ry=\"31.933\"/>\n",
       "<text text-anchor=\"middle\" x=\"1093.72\" y=\"-131.345\" font-family=\"Times,serif\" font-size=\"14.00\">F110</text>\n",
       "</g>\n",
       "<!-- S011&#45;&gt;F110 -->\n",
       "<g id=\"edge22\" class=\"edge\"><title>S011&#45;&gt;F110</title>\n",
       "<path fill=\"none\" stroke=\"black\" d=\"M912.54,-233.059C940.581,-231.54 984.968,-226.225 1018.75,-208.545 1037.23,-198.874 1054.1,-183.053 1067.05,-168.608\"/>\n",
       "<polygon fill=\"black\" stroke=\"black\" points=\"1069.93,-170.626 1073.83,-160.772 1064.64,-166.047 1069.93,-170.626\"/>\n",
       "<text text-anchor=\"middle\" x=\"987.11\" y=\"-231.345\" font-family=\"Times,serif\" font-size=\"14.00\">0</text>\n",
       "</g>\n",
       "<!-- F111 -->\n",
       "<g id=\"node14\" class=\"node\"><title>F111</title>\n",
       "<ellipse fill=\"none\" stroke=\"black\" cx=\"987.11\" cy=\"-135.545\" rx=\"27.7678\" ry=\"27.7678\"/>\n",
       "<ellipse fill=\"none\" stroke=\"black\" cx=\"987.11\" cy=\"-135.545\" rx=\"31.7859\" ry=\"31.7859\"/>\n",
       "<text text-anchor=\"middle\" x=\"987.11\" y=\"-131.345\" font-family=\"Times,serif\" font-size=\"14.00\">F111</text>\n",
       "</g>\n",
       "<!-- S011&#45;&gt;F111 -->\n",
       "<g id=\"edge23\" class=\"edge\"><title>S011&#45;&gt;F111</title>\n",
       "<path fill=\"none\" stroke=\"black\" d=\"M905.378,-214.183C919.978,-199.961 940.056,-180.404 956.536,-164.351\"/>\n",
       "<polygon fill=\"black\" stroke=\"black\" points=\"959.101,-166.739 963.822,-157.254 954.217,-161.725 959.101,-166.739\"/>\n",
       "<text text-anchor=\"middle\" x=\"933.967\" y=\"-190.345\" font-family=\"Times,serif\" font-size=\"14.00\">1</text>\n",
       "</g>\n",
       "<!-- S000&#45;&gt;S000 -->\n",
       "<g id=\"edge16\" class=\"edge\"><title>S000&#45;&gt;S000</title>\n",
       "<path fill=\"none\" stroke=\"black\" d=\"M469.537,-246.647C469.139,-257.126 472.127,-265.835 478.502,-265.835 482.586,-265.835 485.28,-262.261 486.584,-256.937\"/>\n",
       "<polygon fill=\"black\" stroke=\"black\" points=\"490.099,-256.909 487.467,-246.647 483.125,-256.311 490.099,-256.909\"/>\n",
       "<text text-anchor=\"middle\" x=\"478.502\" y=\"-268.635\" font-family=\"Times,serif\" font-size=\"14.00\">0</text>\n",
       "</g>\n",
       "<!-- S000&#45;&gt;S001 -->\n",
       "<g id=\"edge17\" class=\"edge\"><title>S000&#45;&gt;S001</title>\n",
       "<path fill=\"none\" stroke=\"black\" d=\"M506.943,-220.107C517.025,-220.314 528.621,-220.551 539.444,-220.773\"/>\n",
       "<polygon fill=\"black\" stroke=\"black\" points=\"539.439,-224.274 549.509,-220.98 539.583,-217.275 539.439,-224.274\"/>\n",
       "<text text-anchor=\"middle\" x=\"528.292\" y=\"-224.345\" font-family=\"Times,serif\" font-size=\"14.00\">1</text>\n",
       "</g>\n",
       "<!-- I&#45;&gt;S1 -->\n",
       "<g id=\"edge3\" class=\"edge\"><title>I&#45;&gt;S1</title>\n",
       "<path fill=\"none\" stroke=\"black\" d=\"M124.388,-329.007C135.529,-321.622 151.212,-311.227 164.271,-302.57\"/>\n",
       "<polygon fill=\"black\" stroke=\"black\" points=\"166.403,-305.356 172.805,-296.914 162.536,-299.521 166.403,-305.356\"/>\n",
       "<text text-anchor=\"middle\" x=\"148.5\" y=\"-317.345\" font-family=\"Times,serif\" font-size=\"14.00\">1</text>\n",
       "</g>\n",
       "<!-- I&#45;&gt;S0 -->\n",
       "<g id=\"edge2\" class=\"edge\"><title>I&#45;&gt;S0</title>\n",
       "<path fill=\"none\" stroke=\"black\" d=\"M126.4,-343.721C154.579,-352.614 212.479,-370.888 247.026,-381.791\"/>\n",
       "<polygon fill=\"black\" stroke=\"black\" points=\"246.349,-385.248 256.939,-384.92 248.456,-378.572 246.349,-385.248\"/>\n",
       "<text text-anchor=\"middle\" x=\"189.447\" y=\"-373.345\" font-family=\"Times,serif\" font-size=\"14.00\">0</text>\n",
       "</g>\n",
       "<!-- S11&#45;&gt;F110 -->\n",
       "<g id=\"edge14\" class=\"edge\"><title>S11&#45;&gt;F110</title>\n",
       "<path fill=\"none\" stroke=\"black\" d=\"M908.079,-22.4633C941.981,-22.109 1006.07,-26.5535 1043.75,-61.5447 1055.13,-72.1057 1065.13,-85.8155 1073.08,-98.56\"/>\n",
       "<polygon fill=\"black\" stroke=\"black\" points=\"1070.11,-100.403 1078.25,-107.178 1076.11,-96.8023 1070.11,-100.403\"/>\n",
       "<text text-anchor=\"middle\" x=\"987.11\" y=\"-47.3447\" font-family=\"Times,serif\" font-size=\"14.00\">0</text>\n",
       "</g>\n",
       "<!-- S11&#45;&gt;F111 -->\n",
       "<g id=\"edge15\" class=\"edge\"><title>S11&#45;&gt;F111</title>\n",
       "<path fill=\"none\" stroke=\"black\" d=\"M900.781,-40.5551C915.989,-57.485 939.676,-83.8533 958.238,-104.517\"/>\n",
       "<polygon fill=\"black\" stroke=\"black\" points=\"955.786,-107.025 965.072,-112.126 960.994,-102.347 955.786,-107.025\"/>\n",
       "<text text-anchor=\"middle\" x=\"933.967\" y=\"-82.3447\" font-family=\"Times,serif\" font-size=\"14.00\">1</text>\n",
       "</g>\n",
       "<!-- S001&#45;&gt;S010 -->\n",
       "<g id=\"edge18\" class=\"edge\"><title>S001&#45;&gt;S010</title>\n",
       "<path fill=\"none\" stroke=\"black\" d=\"M603.204,-235.387C615.493,-242.44 630.616,-251.119 643.94,-258.765\"/>\n",
       "<polygon fill=\"black\" stroke=\"black\" points=\"642.404,-261.919 652.82,-263.861 645.889,-255.848 642.404,-261.919\"/>\n",
       "<text text-anchor=\"middle\" x=\"627.873\" y=\"-254.345\" font-family=\"Times,serif\" font-size=\"14.00\">0</text>\n",
       "</g>\n",
       "<!-- S001&#45;&gt;S011 -->\n",
       "<g id=\"edge19\" class=\"edge\"><title>S001&#45;&gt;S011</title>\n",
       "<path fill=\"none\" stroke=\"black\" d=\"M606.366,-222.62C660.996,-224.774 783.889,-229.618 846.021,-232.067\"/>\n",
       "<polygon fill=\"black\" stroke=\"black\" points=\"846.039,-235.571 856.169,-232.467 846.315,-228.576 846.039,-235.571\"/>\n",
       "<text text-anchor=\"middle\" x=\"727.454\" y=\"-230.345\" font-family=\"Times,serif\" font-size=\"14.00\">1</text>\n",
       "</g>\n",
       "<!-- F110&#45;&gt;F100 -->\n",
       "<g id=\"edge28\" class=\"edge\"><title>F110&#45;&gt;F100</title>\n",
       "<path fill=\"none\" stroke=\"black\" d=\"M1070.32,-113.544C1050.44,-96.4197 1019.72,-75.5447 988.11,-75.5447 477.502,-75.5447 477.502,-75.5447 477.502,-75.5447 444.954,-75.5447 417.217,-101.474 398.991,-124.52\"/>\n",
       "<polygon fill=\"black\" stroke=\"black\" points=\"396.193,-122.418 392.949,-132.504 401.775,-126.642 396.193,-122.418\"/>\n",
       "<text text-anchor=\"middle\" x=\"727.454\" y=\"-78.3447\" font-family=\"Times,serif\" font-size=\"14.00\">0</text>\n",
       "</g>\n",
       "<!-- F110&#45;&gt;F101 -->\n",
       "<g id=\"edge29\" class=\"edge\"><title>F110&#45;&gt;F101</title>\n",
       "<path fill=\"none\" stroke=\"black\" d=\"M1080.61,-165.24C1068.66,-190.738 1047.94,-226.465 1018.75,-246.545 960.008,-286.954 874.334,-292.579 823.84,-291.85\"/>\n",
       "<polygon fill=\"black\" stroke=\"black\" points=\"823.701,-288.346 813.621,-291.608 823.535,-295.344 823.701,-288.346\"/>\n",
       "<text text-anchor=\"middle\" x=\"933.967\" y=\"-285.345\" font-family=\"Times,serif\" font-size=\"14.00\">1</text>\n",
       "</g>\n",
       "<!-- F111&#45;&gt;F110 -->\n",
       "<g id=\"edge30\" class=\"edge\"><title>F111&#45;&gt;F110</title>\n",
       "<path fill=\"none\" stroke=\"black\" d=\"M1018.93,-135.545C1029.07,-135.545 1040.51,-135.545 1051.31,-135.545\"/>\n",
       "<polygon fill=\"black\" stroke=\"black\" points=\"1051.39,-139.045 1061.39,-135.545 1051.39,-132.045 1051.39,-139.045\"/>\n",
       "<text text-anchor=\"middle\" x=\"1040.25\" y=\"-138.345\" font-family=\"Times,serif\" font-size=\"14.00\">0</text>\n",
       "</g>\n",
       "<!-- F111&#45;&gt;F111 -->\n",
       "<g id=\"edge31\" class=\"edge\"><title>F111&#45;&gt;F111</title>\n",
       "<path fill=\"none\" stroke=\"black\" d=\"M977.362,-166.085C977.259,-176.653 980.508,-185.187 987.11,-185.187 991.339,-185.187 994.192,-181.685 995.67,-176.389\"/>\n",
       "<polygon fill=\"black\" stroke=\"black\" points=\"999.189,-176.42 996.857,-166.085 992.235,-175.619 999.189,-176.42\"/>\n",
       "<text text-anchor=\"middle\" x=\"987.11\" y=\"-187.987\" font-family=\"Times,serif\" font-size=\"14.00\">1</text>\n",
       "</g>\n",
       "<!-- F100&#45;&gt;S000 -->\n",
       "<g id=\"edge24\" class=\"edge\"><title>F100&#45;&gt;S000</title>\n",
       "<path fill=\"none\" stroke=\"black\" d=\"M403.143,-175.624C415.94,-183.182 431.301,-192.256 444.732,-200.189\"/>\n",
       "<polygon fill=\"black\" stroke=\"black\" points=\"443.276,-203.393 453.666,-205.466 446.836,-197.366 443.276,-203.393\"/>\n",
       "<text text-anchor=\"middle\" x=\"428.712\" y=\"-194.345\" font-family=\"Times,serif\" font-size=\"14.00\">0</text>\n",
       "</g>\n",
       "<!-- F100&#45;&gt;S001 -->\n",
       "<g id=\"edge25\" class=\"edge\"><title>F100&#45;&gt;S001</title>\n",
       "<path fill=\"none\" stroke=\"black\" d=\"M407.112,-156.798C434.306,-155.533 474.362,-156.436 506.792,-168.545 522.531,-174.421 537.713,-185.023 549.915,-195.208\"/>\n",
       "<polygon fill=\"black\" stroke=\"black\" points=\"547.637,-197.866 557.479,-201.788 552.231,-192.584 547.637,-197.866\"/>\n",
       "<text text-anchor=\"middle\" x=\"478.502\" y=\"-171.345\" font-family=\"Times,serif\" font-size=\"14.00\">1</text>\n",
       "</g>\n",
       "<!-- F101&#45;&gt;S010 -->\n",
       "<g id=\"edge26\" class=\"edge\"><title>F101&#45;&gt;S010</title>\n",
       "<path fill=\"none\" stroke=\"black\" d=\"M748.965,-286.354C740.818,-285.484 732.053,-284.513 723.954,-283.545 721.404,-283.24 718.775,-282.916 716.127,-282.584\"/>\n",
       "<polygon fill=\"black\" stroke=\"black\" points=\"716.316,-279.079 705.952,-281.274 715.423,-286.022 716.316,-279.079\"/>\n",
       "<text text-anchor=\"middle\" x=\"727.454\" y=\"-287.345\" font-family=\"Times,serif\" font-size=\"14.00\">0</text>\n",
       "</g>\n",
       "<!-- F101&#45;&gt;S011 -->\n",
       "<g id=\"edge27\" class=\"edge\"><title>F101&#45;&gt;S011</title>\n",
       "<path fill=\"none\" stroke=\"black\" d=\"M809.558,-273.885C816.693,-269.833 824.387,-265.5 831.534,-261.545 837.619,-258.178 844.13,-254.628 850.412,-251.23\"/>\n",
       "<polygon fill=\"black\" stroke=\"black\" points=\"852.236,-254.223 859.378,-246.397 848.915,-248.061 852.236,-254.223\"/>\n",
       "<text text-anchor=\"middle\" x=\"835.034\" y=\"-264.345\" font-family=\"Times,serif\" font-size=\"14.00\">1</text>\n",
       "</g>\n",
       "</g>\n",
       "</svg>\n"
      ],
      "text/plain": [
       "<graphviz.dot.Digraph at 0x10c80ce10>"
      ]
     },
     "execution_count": 71,
     "metadata": {},
     "output_type": "execute_result"
    }
   ],
   "source": [
    "dotObj_dfa(third1dfa)"
   ]
  },
  {
   "cell_type": "code",
   "execution_count": 72,
   "metadata": {
    "run_control": {
     "frozen": false,
     "read_only": false
    }
   },
   "outputs": [],
   "source": [
    "ends0101 =\\\n",
    "\"\\\n",
    "DFA\\\n",
    " \\\n",
    "I     : 0 -> S0 \\\n",
    "I     : 1 -> I \\\n",
    "S0    : 0 -> S0 \\\n",
    "S0    : 1 -> S01 \\\n",
    "S01   : 0 -> S010 \\\n",
    "S01   : 1 -> I \\\n",
    "S010  : 0 -> S0 \\\n",
    "S010  : 1 -> F0101 \\\n",
    "F0101 : 0 -> S010 \\\n",
    "F0101 : 1 -> I \\\n",
    "\""
   ]
  },
  {
   "cell_type": "code",
   "execution_count": 73,
   "metadata": {
    "run_control": {
     "frozen": false,
     "read_only": false
    }
   },
   "outputs": [
    {
     "data": {
      "text/plain": [
       "'DFA I     : 0 -> S0 I     : 1 -> I S0    : 0 -> S0 S0    : 1 -> S01 S01   : 0 -> S010 S01   : 1 -> I S010  : 0 -> S0 S010  : 1 -> F0101 F0101 : 0 -> S010 F0101 : 1 -> I '"
      ]
     },
     "execution_count": 73,
     "metadata": {},
     "output_type": "execute_result"
    }
   ],
   "source": [
    "ends0101"
   ]
  },
  {
   "cell_type": "code",
   "execution_count": 74,
   "metadata": {
    "run_control": {
     "frozen": false,
     "read_only": false
    }
   },
   "outputs": [
    {
     "name": "stderr",
     "output_type": "stream",
     "text": [
      "Generating LALR tables\n"
     ]
    }
   ],
   "source": [
    "dfaends0101=md2mc(ends0101)"
   ]
  },
  {
   "cell_type": "code",
   "execution_count": 75,
   "metadata": {
    "run_control": {
     "frozen": false,
     "read_only": false
    }
   },
   "outputs": [
    {
     "data": {
      "text/plain": [
       "{'Delta': {('F0101', '0'): 'S010',\n",
       "  ('F0101', '1'): 'I',\n",
       "  ('I', '0'): 'S0',\n",
       "  ('I', '1'): 'I',\n",
       "  ('S0', '0'): 'S0',\n",
       "  ('S0', '1'): 'S01',\n",
       "  ('S01', '0'): 'S010',\n",
       "  ('S01', '1'): 'I',\n",
       "  ('S010', '0'): 'S0',\n",
       "  ('S010', '1'): 'F0101'},\n",
       " 'F': {'F0101'},\n",
       " 'Q': {'F0101', 'I', 'S0', 'S01', 'S010'},\n",
       " 'Sigma': {'0', '1'},\n",
       " 'q0': 'I'}"
      ]
     },
     "execution_count": 75,
     "metadata": {},
     "output_type": "execute_result"
    }
   ],
   "source": [
    "dfaends0101"
   ]
  },
  {
   "cell_type": "code",
   "execution_count": 76,
   "metadata": {
    "run_control": {
     "frozen": false,
     "read_only": false
    }
   },
   "outputs": [
    {
     "name": "stderr",
     "output_type": "stream",
     "text": [
      "Generating LALR tables\n"
     ]
    }
   ],
   "source": [
    "dped1 = md2mc(src=\"File\", fname=\"machines/dfafiles/pedagogical1.dfa\")\n",
    "#machines/dfafiles/pedagogical1.dfa"
   ]
  },
  {
   "cell_type": "code",
   "execution_count": 77,
   "metadata": {
    "run_control": {
     "frozen": false,
     "read_only": false
    }
   },
   "outputs": [
    {
     "data": {
      "text/plain": [
       "{'Delta': {('A', '0'): 'B',\n",
       "  ('A', '1'): 'B',\n",
       "  ('B', '0'): 'IF',\n",
       "  ('B', '1'): 'F',\n",
       "  ('F', '0'): 'B',\n",
       "  ('F', '1'): 'B',\n",
       "  ('IF', '0'): 'A',\n",
       "  ('IF', '1'): 'B'},\n",
       " 'F': {'F', 'IF'},\n",
       " 'Q': {'A', 'B', 'F', 'IF'},\n",
       " 'Sigma': {'0', '1'},\n",
       " 'q0': 'IF'}"
      ]
     },
     "execution_count": 77,
     "metadata": {},
     "output_type": "execute_result"
    }
   ],
   "source": [
    "dped1"
   ]
  },
  {
   "cell_type": "code",
   "execution_count": 78,
   "metadata": {
    "run_control": {
     "frozen": false,
     "read_only": false
    }
   },
   "outputs": [
    {
     "data": {
      "image/svg+xml": [
       "<?xml version=\"1.0\" encoding=\"UTF-8\" standalone=\"no\"?>\n",
       "<!DOCTYPE svg PUBLIC \"-//W3C//DTD SVG 1.1//EN\"\n",
       " \"http://www.w3.org/Graphics/SVG/1.1/DTD/svg11.dtd\">\n",
       "<!-- Generated by graphviz version 2.38.0 (20140413.2041)\n",
       " -->\n",
       "<!-- Title: %3 Pages: 1 -->\n",
       "<svg width=\"388pt\" height=\"113pt\"\n",
       " viewBox=\"0.00 0.00 388.00 113.00\" xmlns=\"http://www.w3.org/2000/svg\" xmlns:xlink=\"http://www.w3.org/1999/xlink\">\n",
       "<g id=\"graph0\" class=\"graph\" transform=\"scale(1 1) rotate(0) translate(4 109)\">\n",
       "<title>%3</title>\n",
       "<polygon fill=\"white\" stroke=\"none\" points=\"-4,4 -4,-109 384,-109 384,4 -4,4\"/>\n",
       "<!-- EMPTY -->\n",
       "<g id=\"node1\" class=\"node\"><title>EMPTY</title>\n",
       "</g>\n",
       "<!-- IF -->\n",
       "<g id=\"node4\" class=\"node\"><title>IF</title>\n",
       "<ellipse fill=\"none\" stroke=\"black\" cx=\"113\" cy=\"-72\" rx=\"18\" ry=\"18\"/>\n",
       "<ellipse fill=\"none\" stroke=\"black\" cx=\"113\" cy=\"-72\" rx=\"22\" ry=\"22\"/>\n",
       "<text text-anchor=\"middle\" x=\"113\" y=\"-67.8\" font-family=\"Times,serif\" font-size=\"14.00\">IF</text>\n",
       "</g>\n",
       "<!-- EMPTY&#45;&gt;IF -->\n",
       "<g id=\"edge1\" class=\"edge\"><title>EMPTY&#45;&gt;IF</title>\n",
       "<path fill=\"none\" stroke=\"black\" d=\"M54.1177,-72C62.5406,-72 71.9629,-72 80.7191,-72\"/>\n",
       "<polygon fill=\"black\" stroke=\"black\" points=\"80.9574,-75.5001 90.9574,-72 80.9573,-68.5001 80.9574,-75.5001\"/>\n",
       "</g>\n",
       "<!-- B -->\n",
       "<g id=\"node2\" class=\"node\"><title>B</title>\n",
       "<ellipse fill=\"none\" stroke=\"black\" cx=\"275\" cy=\"-57\" rx=\"18\" ry=\"18\"/>\n",
       "<text text-anchor=\"middle\" x=\"275\" y=\"-52.8\" font-family=\"Times,serif\" font-size=\"14.00\">B</text>\n",
       "</g>\n",
       "<!-- B&#45;&gt;IF -->\n",
       "<g id=\"edge7\" class=\"edge\"><title>B&#45;&gt;IF</title>\n",
       "<path fill=\"none\" stroke=\"black\" d=\"M256.986,-58.5951C230.367,-61.0906 178.466,-65.9563 145.059,-69.0883\"/>\n",
       "<polygon fill=\"black\" stroke=\"black\" points=\"144.547,-65.6208 134.917,-70.039 145.2,-72.5902 144.547,-65.6208\"/>\n",
       "<text text-anchor=\"middle\" x=\"196\" y=\"-67.8\" font-family=\"Times,serif\" font-size=\"14.00\">0</text>\n",
       "</g>\n",
       "<!-- F -->\n",
       "<g id=\"node5\" class=\"node\"><title>F</title>\n",
       "<ellipse fill=\"none\" stroke=\"black\" cx=\"358\" cy=\"-57\" rx=\"18\" ry=\"18\"/>\n",
       "<ellipse fill=\"none\" stroke=\"black\" cx=\"358\" cy=\"-57\" rx=\"22\" ry=\"22\"/>\n",
       "<text text-anchor=\"middle\" x=\"358\" y=\"-52.8\" font-family=\"Times,serif\" font-size=\"14.00\">F</text>\n",
       "</g>\n",
       "<!-- B&#45;&gt;F -->\n",
       "<g id=\"edge6\" class=\"edge\"><title>B&#45;&gt;F</title>\n",
       "<path fill=\"none\" stroke=\"black\" d=\"M291.241,-65.1226C297.226,-67.8828 304.265,-70.6176 311,-72 316.904,-73.2118 323.112,-72.5661 328.99,-71.0088\"/>\n",
       "<polygon fill=\"black\" stroke=\"black\" points=\"330.176,-74.3019 338.458,-67.6945 327.863,-67.695 330.176,-74.3019\"/>\n",
       "<text text-anchor=\"middle\" x=\"314.5\" y=\"-74.8\" font-family=\"Times,serif\" font-size=\"14.00\">1</text>\n",
       "</g>\n",
       "<!-- A -->\n",
       "<g id=\"node3\" class=\"node\"><title>A</title>\n",
       "<ellipse fill=\"none\" stroke=\"black\" cx=\"196\" cy=\"-18\" rx=\"18\" ry=\"18\"/>\n",
       "<text text-anchor=\"middle\" x=\"196\" y=\"-13.8\" font-family=\"Times,serif\" font-size=\"14.00\">A</text>\n",
       "</g>\n",
       "<!-- A&#45;&gt;B -->\n",
       "<g id=\"edge4\" class=\"edge\"><title>A&#45;&gt;B</title>\n",
       "<path fill=\"none\" stroke=\"black\" d=\"M212.582,-25.8922C223.193,-31.2664 237.455,-38.49 249.564,-44.6235\"/>\n",
       "<polygon fill=\"black\" stroke=\"black\" points=\"248.201,-47.8565 258.704,-49.2526 251.364,-41.6118 248.201,-47.8565\"/>\n",
       "<text text-anchor=\"middle\" x=\"235.5\" y=\"-40.8\" font-family=\"Times,serif\" font-size=\"14.00\">0</text>\n",
       "</g>\n",
       "<!-- A&#45;&gt;B -->\n",
       "<g id=\"edge5\" class=\"edge\"><title>A&#45;&gt;B</title>\n",
       "<path fill=\"none\" stroke=\"black\" d=\"M214.014,-14.9076C221.928,-14.2302 231.276,-14.5533 239,-18 246.711,-21.4407 253.431,-27.5128 258.865,-33.856\"/>\n",
       "<polygon fill=\"black\" stroke=\"black\" points=\"256.159,-36.0784 265.039,-41.8581 261.702,-31.8025 256.159,-36.0784\"/>\n",
       "<text text-anchor=\"middle\" x=\"235.5\" y=\"-20.8\" font-family=\"Times,serif\" font-size=\"14.00\">1</text>\n",
       "</g>\n",
       "<!-- IF&#45;&gt;B -->\n",
       "<g id=\"edge3\" class=\"edge\"><title>IF&#45;&gt;B</title>\n",
       "<path fill=\"none\" stroke=\"black\" d=\"M133.618,-79.8462C139.75,-82.0804 146.59,-84.352 153,-86 179.314,-92.7653 186.916,-92.153 214,-90 225.217,-89.1083 228.75,-90.6426 239,-86 244.301,-83.5989 249.453,-80.1744 254.101,-76.5155\"/>\n",
       "<polygon fill=\"black\" stroke=\"black\" points=\"256.553,-79.0233 261.848,-69.8466 251.986,-73.7183 256.553,-79.0233\"/>\n",
       "<text text-anchor=\"middle\" x=\"196\" y=\"-93.8\" font-family=\"Times,serif\" font-size=\"14.00\">1</text>\n",
       "</g>\n",
       "<!-- IF&#45;&gt;A -->\n",
       "<g id=\"edge2\" class=\"edge\"><title>IF&#45;&gt;A</title>\n",
       "<path fill=\"none\" stroke=\"black\" d=\"M131.294,-59.1978C138.001,-54.3353 145.79,-48.812 153,-44 158.805,-40.1262 165.163,-36.088 171.136,-32.3814\"/>\n",
       "<polygon fill=\"black\" stroke=\"black\" points=\"173.377,-35.113 180.071,-26.9009 169.717,-29.1461 173.377,-35.113\"/>\n",
       "<text text-anchor=\"middle\" x=\"156.5\" y=\"-46.8\" font-family=\"Times,serif\" font-size=\"14.00\">0</text>\n",
       "</g>\n",
       "<!-- F&#45;&gt;B -->\n",
       "<g id=\"edge8\" class=\"edge\"><title>F&#45;&gt;B</title>\n",
       "<path fill=\"none\" stroke=\"black\" d=\"M335.943,-54.6705C328.115,-54.0565 319.156,-53.6511 311,-54 308.441,-54.1095 305.779,-54.2638 303.118,-54.4453\"/>\n",
       "<polygon fill=\"black\" stroke=\"black\" points=\"302.763,-50.9623 293.071,-55.2425 303.317,-57.9404 302.763,-50.9623\"/>\n",
       "<text text-anchor=\"middle\" x=\"314.5\" y=\"-56.8\" font-family=\"Times,serif\" font-size=\"14.00\">0</text>\n",
       "</g>\n",
       "<!-- F&#45;&gt;B -->\n",
       "<g id=\"edge9\" class=\"edge\"><title>F&#45;&gt;B</title>\n",
       "<path fill=\"none\" stroke=\"black\" d=\"M340.914,-42.7689C332.311,-36.8656 321.378,-32.0093 311,-35 306.535,-36.2869 302.089,-38.3302 297.939,-40.665\"/>\n",
       "<polygon fill=\"black\" stroke=\"black\" points=\"296.002,-37.7488 289.432,-46.0611 299.752,-43.6598 296.002,-37.7488\"/>\n",
       "<text text-anchor=\"middle\" x=\"314.5\" y=\"-37.8\" font-family=\"Times,serif\" font-size=\"14.00\">1</text>\n",
       "</g>\n",
       "</g>\n",
       "</svg>\n"
      ],
      "text/plain": [
       "<graphviz.dot.Digraph at 0x10c7ffac8>"
      ]
     },
     "execution_count": 78,
     "metadata": {},
     "output_type": "execute_result"
    }
   ],
   "source": [
    "dotObj_dfa(dped1)"
   ]
  },
  {
   "cell_type": "code",
   "execution_count": 79,
   "metadata": {
    "run_control": {
     "frozen": false,
     "read_only": false
    }
   },
   "outputs": [
    {
     "data": {
      "image/svg+xml": [
       "<?xml version=\"1.0\" encoding=\"UTF-8\" standalone=\"no\"?>\n",
       "<!DOCTYPE svg PUBLIC \"-//W3C//DTD SVG 1.1//EN\"\n",
       " \"http://www.w3.org/Graphics/SVG/1.1/DTD/svg11.dtd\">\n",
       "<!-- Generated by graphviz version 2.38.0 (20140413.2041)\n",
       " -->\n",
       "<!-- Title: %3 Pages: 1 -->\n",
       "<svg width=\"395pt\" height=\"115pt\"\n",
       " viewBox=\"0.00 0.00 395.00 115.00\" xmlns=\"http://www.w3.org/2000/svg\" xmlns:xlink=\"http://www.w3.org/1999/xlink\">\n",
       "<g id=\"graph0\" class=\"graph\" transform=\"scale(1 1) rotate(0) translate(4 111)\">\n",
       "<title>%3</title>\n",
       "<polygon fill=\"white\" stroke=\"none\" points=\"-4,4 -4,-111 391,-111 391,4 -4,4\"/>\n",
       "<!-- EMPTY -->\n",
       "<g id=\"node1\" class=\"node\"><title>EMPTY</title>\n",
       "</g>\n",
       "<!-- IF -->\n",
       "<g id=\"node4\" class=\"node\"><title>IF</title>\n",
       "<ellipse fill=\"none\" stroke=\"black\" cx=\"113\" cy=\"-72\" rx=\"18\" ry=\"18\"/>\n",
       "<ellipse fill=\"none\" stroke=\"black\" cx=\"113\" cy=\"-72\" rx=\"22\" ry=\"22\"/>\n",
       "<text text-anchor=\"middle\" x=\"113\" y=\"-67.8\" font-family=\"Times,serif\" font-size=\"14.00\">IF</text>\n",
       "</g>\n",
       "<!-- EMPTY&#45;&gt;IF -->\n",
       "<g id=\"edge1\" class=\"edge\"><title>EMPTY&#45;&gt;IF</title>\n",
       "<path fill=\"none\" stroke=\"black\" d=\"M54.1177,-72C62.5406,-72 71.9629,-72 80.7191,-72\"/>\n",
       "<polygon fill=\"black\" stroke=\"black\" points=\"80.9574,-75.5001 90.9574,-72 80.9573,-68.5001 80.9574,-75.5001\"/>\n",
       "</g>\n",
       "<!-- B -->\n",
       "<g id=\"node2\" class=\"node\"><title>B</title>\n",
       "<ellipse fill=\"none\" stroke=\"black\" cx=\"278.5\" cy=\"-72\" rx=\"18\" ry=\"18\"/>\n",
       "<text text-anchor=\"middle\" x=\"278.5\" y=\"-67.8\" font-family=\"Times,serif\" font-size=\"14.00\">B</text>\n",
       "</g>\n",
       "<!-- B&#45;&gt;IF -->\n",
       "<g id=\"edge6\" class=\"edge\"><title>B&#45;&gt;IF</title>\n",
       "<path fill=\"none\" stroke=\"black\" d=\"M260.033,-72C232.711,-72 179.469,-72 145.378,-72\"/>\n",
       "<polygon fill=\"black\" stroke=\"black\" points=\"145.04,-68.5001 135.04,-72 145.04,-75.5001 145.04,-68.5001\"/>\n",
       "<text text-anchor=\"middle\" x=\"196\" y=\"-74.8\" font-family=\"Times,serif\" font-size=\"14.00\">0</text>\n",
       "</g>\n",
       "<!-- F -->\n",
       "<g id=\"node5\" class=\"node\"><title>F</title>\n",
       "<ellipse fill=\"none\" stroke=\"black\" cx=\"365\" cy=\"-72\" rx=\"18\" ry=\"18\"/>\n",
       "<ellipse fill=\"none\" stroke=\"black\" cx=\"365\" cy=\"-72\" rx=\"22\" ry=\"22\"/>\n",
       "<text text-anchor=\"middle\" x=\"365\" y=\"-67.8\" font-family=\"Times,serif\" font-size=\"14.00\">F</text>\n",
       "</g>\n",
       "<!-- B&#45;&gt;F -->\n",
       "<g id=\"edge5\" class=\"edge\"><title>B&#45;&gt;F</title>\n",
       "<path fill=\"none\" stroke=\"black\" d=\"M296.556,-74.3431C302.251,-75.0202 308.638,-75.6661 314.5,-76 320.31,-76.3309 326.498,-76.2093 332.46,-75.8507\"/>\n",
       "<polygon fill=\"black\" stroke=\"black\" points=\"333.14,-79.3066 342.818,-74.9959 332.564,-72.3303 333.14,-79.3066\"/>\n",
       "<text text-anchor=\"middle\" x=\"319.75\" y=\"-78.8\" font-family=\"Times,serif\" font-size=\"14.00\">1</text>\n",
       "</g>\n",
       "<!-- A -->\n",
       "<g id=\"node3\" class=\"node\"><title>A</title>\n",
       "<ellipse fill=\"none\" stroke=\"black\" cx=\"196\" cy=\"-18\" rx=\"18\" ry=\"18\"/>\n",
       "<text text-anchor=\"middle\" x=\"196\" y=\"-13.8\" font-family=\"Times,serif\" font-size=\"14.00\">A</text>\n",
       "</g>\n",
       "<!-- A&#45;&gt;B -->\n",
       "<g id=\"edge4\" class=\"edge\"><title>A&#45;&gt;B</title>\n",
       "<path fill=\"none\" stroke=\"black\" d=\"M214,-19.9417C223.013,-21.574 233.955,-24.5594 242.5,-30 249.931,-34.7313 256.574,-41.5525 262.024,-48.3263\"/>\n",
       "<polygon fill=\"black\" stroke=\"black\" points=\"259.486,-50.7793 268.259,-56.7203 265.106,-46.6054 259.486,-50.7793\"/>\n",
       "<text text-anchor=\"middle\" x=\"237.25\" y=\"-46.8\" font-family=\"Times,serif\" font-size=\"14.00\">0 </text>\n",
       "<text text-anchor=\"middle\" x=\"237.25\" y=\"-32.8\" font-family=\"Times,serif\" font-size=\"14.00\"> 1</text>\n",
       "</g>\n",
       "<!-- IF&#45;&gt;B -->\n",
       "<g id=\"edge3\" class=\"edge\"><title>IF&#45;&gt;B</title>\n",
       "<path fill=\"none\" stroke=\"black\" d=\"M133.618,-79.8462C139.75,-82.0804 146.59,-84.352 153,-86 191.525,-95.9048 204.059,-96.2251 242.5,-86 245.726,-85.142 249.055,-84.0703 252.319,-82.904\"/>\n",
       "<polygon fill=\"black\" stroke=\"black\" points=\"253.692,-86.1255 261.745,-79.2406 251.156,-79.6009 253.692,-86.1255\"/>\n",
       "<text text-anchor=\"middle\" x=\"196\" y=\"-95.8\" font-family=\"Times,serif\" font-size=\"14.00\">1</text>\n",
       "</g>\n",
       "<!-- IF&#45;&gt;A -->\n",
       "<g id=\"edge2\" class=\"edge\"><title>IF&#45;&gt;A</title>\n",
       "<path fill=\"none\" stroke=\"black\" d=\"M131.294,-59.1978C138.001,-54.3353 145.79,-48.812 153,-44 158.805,-40.1262 165.163,-36.088 171.136,-32.3814\"/>\n",
       "<polygon fill=\"black\" stroke=\"black\" points=\"173.377,-35.113 180.071,-26.9009 169.717,-29.1461 173.377,-35.113\"/>\n",
       "<text text-anchor=\"middle\" x=\"156.5\" y=\"-46.8\" font-family=\"Times,serif\" font-size=\"14.00\">0</text>\n",
       "</g>\n",
       "<!-- F&#45;&gt;B -->\n",
       "<g id=\"edge7\" class=\"edge\"><title>F&#45;&gt;B</title>\n",
       "<path fill=\"none\" stroke=\"black\" d=\"M348.185,-57.2138C341.543,-51.9722 333.41,-46.7065 325,-44 315.564,-40.9634 306.076,-45.3423 298.225,-51.4744\"/>\n",
       "<polygon fill=\"black\" stroke=\"black\" points=\"295.783,-48.9631 290.706,-58.2619 300.474,-54.1591 295.783,-48.9631\"/>\n",
       "<text text-anchor=\"middle\" x=\"319.75\" y=\"-60.8\" font-family=\"Times,serif\" font-size=\"14.00\">0 </text>\n",
       "<text text-anchor=\"middle\" x=\"319.75\" y=\"-46.8\" font-family=\"Times,serif\" font-size=\"14.00\"> 1</text>\n",
       "</g>\n",
       "</g>\n",
       "</svg>\n"
      ],
      "text/plain": [
       "<graphviz.dot.Digraph at 0x10c7ffd68>"
      ]
     },
     "execution_count": 79,
     "metadata": {},
     "output_type": "execute_result"
    }
   ],
   "source": [
    "dotObj_dfa(dped1, FuseEdges=True)"
   ]
  },
  {
   "cell_type": "code",
   "execution_count": 80,
   "metadata": {
    "run_control": {
     "frozen": false,
     "read_only": false
    }
   },
   "outputs": [
    {
     "name": "stderr",
     "output_type": "stream",
     "text": [
      "Generating LALR tables\n"
     ]
    },
    {
     "data": {
      "image/svg+xml": [
       "<?xml version=\"1.0\" encoding=\"UTF-8\" standalone=\"no\"?>\n",
       "<!DOCTYPE svg PUBLIC \"-//W3C//DTD SVG 1.1//EN\"\n",
       " \"http://www.w3.org/Graphics/SVG/1.1/DTD/svg11.dtd\">\n",
       "<!-- Generated by graphviz version 2.38.0 (20140413.2041)\n",
       " -->\n",
       "<!-- Title: %3 Pages: 1 -->\n",
       "<svg width=\"524pt\" height=\"142pt\"\n",
       " viewBox=\"0.00 0.00 523.64 141.58\" xmlns=\"http://www.w3.org/2000/svg\" xmlns:xlink=\"http://www.w3.org/1999/xlink\">\n",
       "<g id=\"graph0\" class=\"graph\" transform=\"scale(1 1) rotate(0) translate(4 137.581)\">\n",
       "<title>%3</title>\n",
       "<polygon fill=\"white\" stroke=\"none\" points=\"-4,4 -4,-137.581 519.636,-137.581 519.636,4 -4,4\"/>\n",
       "<!-- EMPTY -->\n",
       "<g id=\"node1\" class=\"node\"><title>EMPTY</title>\n",
       "</g>\n",
       "<!-- I -->\n",
       "<g id=\"node5\" class=\"node\"><title>I</title>\n",
       "<ellipse fill=\"none\" stroke=\"black\" cx=\"109\" cy=\"-50.7121\" rx=\"18\" ry=\"18\"/>\n",
       "<text text-anchor=\"middle\" x=\"109\" y=\"-46.5121\" font-family=\"Times,serif\" font-size=\"14.00\">I</text>\n",
       "</g>\n",
       "<!-- EMPTY&#45;&gt;I -->\n",
       "<g id=\"edge1\" class=\"edge\"><title>EMPTY&#45;&gt;I</title>\n",
       "<path fill=\"none\" stroke=\"black\" d=\"M54.195,-50.7121C62.6538,-50.7121 72.0513,-50.7121 80.5951,-50.7121\"/>\n",
       "<polygon fill=\"black\" stroke=\"black\" points=\"80.8257,-54.2122 90.8257,-50.7121 80.8257,-47.2122 80.8257,-54.2122\"/>\n",
       "</g>\n",
       "<!-- S01 -->\n",
       "<g id=\"node2\" class=\"node\"><title>S01</title>\n",
       "<ellipse fill=\"none\" stroke=\"black\" cx=\"275.762\" cy=\"-109.712\" rx=\"23.7379\" ry=\"23.7379\"/>\n",
       "<text text-anchor=\"middle\" x=\"275.762\" y=\"-105.512\" font-family=\"Times,serif\" font-size=\"14.00\">S01</text>\n",
       "</g>\n",
       "<!-- S010 -->\n",
       "<g id=\"node4\" class=\"node\"><title>S010</title>\n",
       "<ellipse fill=\"none\" stroke=\"black\" cx=\"370.921\" cy=\"-66.7121\" rx=\"28.0822\" ry=\"28.0822\"/>\n",
       "<text text-anchor=\"middle\" x=\"370.921\" y=\"-62.5121\" font-family=\"Times,serif\" font-size=\"14.00\">S010</text>\n",
       "</g>\n",
       "<!-- S01&#45;&gt;S010 -->\n",
       "<g id=\"edge6\" class=\"edge\"><title>S01&#45;&gt;S010</title>\n",
       "<path fill=\"none\" stroke=\"black\" d=\"M297.902,-99.9547C309.024,-94.8208 322.938,-88.3984 335.563,-82.5709\"/>\n",
       "<polygon fill=\"black\" stroke=\"black\" points=\"337.286,-85.6305 344.899,-78.2618 334.353,-79.2749 337.286,-85.6305\"/>\n",
       "<text text-anchor=\"middle\" x=\"321.131\" y=\"-94.5121\" font-family=\"Times,serif\" font-size=\"14.00\">0</text>\n",
       "</g>\n",
       "<!-- S01&#45;&gt;I -->\n",
       "<g id=\"edge7\" class=\"edge\"><title>S01&#45;&gt;I</title>\n",
       "<path fill=\"none\" stroke=\"black\" d=\"M252.132,-114.874C230.234,-118.751 196.551,-121.71 170,-110.712 151.854,-103.196 136.335,-87.2339 125.628,-73.6623\"/>\n",
       "<polygon fill=\"black\" stroke=\"black\" points=\"128.399,-71.5237 119.603,-65.6178 122.796,-75.72 128.399,-71.5237\"/>\n",
       "<text text-anchor=\"middle\" x=\"189.447\" y=\"-120.512\" font-family=\"Times,serif\" font-size=\"14.00\">1</text>\n",
       "</g>\n",
       "<!-- S0 -->\n",
       "<g id=\"node3\" class=\"node\"><title>S0</title>\n",
       "<ellipse fill=\"none\" stroke=\"black\" cx=\"189.447\" cy=\"-50.7121\" rx=\"19.3939\" ry=\"19.3939\"/>\n",
       "<text text-anchor=\"middle\" x=\"189.447\" y=\"-46.5121\" font-family=\"Times,serif\" font-size=\"14.00\">S0</text>\n",
       "</g>\n",
       "<!-- S0&#45;&gt;S01 -->\n",
       "<g id=\"edge5\" class=\"edge\"><title>S0&#45;&gt;S01</title>\n",
       "<path fill=\"none\" stroke=\"black\" d=\"M205.912,-61.5336C217.565,-69.6882 233.842,-81.0776 247.643,-90.7354\"/>\n",
       "<polygon fill=\"black\" stroke=\"black\" points=\"245.653,-93.6148 255.853,-96.4805 249.667,-87.8795 245.653,-93.6148\"/>\n",
       "<text text-anchor=\"middle\" x=\"230.394\" y=\"-83.5121\" font-family=\"Times,serif\" font-size=\"14.00\">1</text>\n",
       "</g>\n",
       "<!-- S0&#45;&gt;S0 -->\n",
       "<g id=\"edge4\" class=\"edge\"><title>S0&#45;&gt;S0</title>\n",
       "<path fill=\"none\" stroke=\"black\" d=\"M182.306,-68.8217C180.973,-78.8886 183.353,-88.1589 189.447,-88.1589 193.351,-88.1589 195.731,-84.3544 196.586,-78.9732\"/>\n",
       "<polygon fill=\"black\" stroke=\"black\" points=\"200.086,-78.8223 196.588,-68.8217 193.086,-78.8211 200.086,-78.8223\"/>\n",
       "<text text-anchor=\"middle\" x=\"189.447\" y=\"-90.9589\" font-family=\"Times,serif\" font-size=\"14.00\">0</text>\n",
       "</g>\n",
       "<!-- S010&#45;&gt;S0 -->\n",
       "<g id=\"edge8\" class=\"edge\"><title>S010&#45;&gt;S0</title>\n",
       "<path fill=\"none\" stroke=\"black\" d=\"M342.458,-64.2638C309.094,-61.2894 253.074,-56.2952 219.156,-53.2715\"/>\n",
       "<polygon fill=\"black\" stroke=\"black\" points=\"219.249,-49.766 208.978,-52.3641 218.627,-56.7383 219.249,-49.766\"/>\n",
       "<text text-anchor=\"middle\" x=\"275.762\" y=\"-63.5121\" font-family=\"Times,serif\" font-size=\"14.00\">0</text>\n",
       "</g>\n",
       "<!-- F0101 -->\n",
       "<g id=\"node6\" class=\"node\"><title>F0101</title>\n",
       "<ellipse fill=\"none\" stroke=\"black\" cx=\"478.924\" cy=\"-36.7121\" rx=\"32.9021\" ry=\"32.9021\"/>\n",
       "<ellipse fill=\"none\" stroke=\"black\" cx=\"478.924\" cy=\"-36.7121\" rx=\"36.9254\" ry=\"36.9254\"/>\n",
       "<text text-anchor=\"middle\" x=\"478.924\" y=\"-32.5121\" font-family=\"Times,serif\" font-size=\"14.00\">F0101</text>\n",
       "</g>\n",
       "<!-- S010&#45;&gt;F0101 -->\n",
       "<g id=\"edge9\" class=\"edge\"><title>S010&#45;&gt;F0101</title>\n",
       "<path fill=\"none\" stroke=\"black\" d=\"M398.397,-59.2192C409.032,-56.2092 421.588,-52.6558 433.543,-49.2725\"/>\n",
       "<polygon fill=\"black\" stroke=\"black\" points=\"434.719,-52.5772 443.388,-46.4862 432.812,-45.8417 434.719,-52.5772\"/>\n",
       "<text text-anchor=\"middle\" x=\"420.712\" y=\"-56.5121\" font-family=\"Times,serif\" font-size=\"14.00\">1</text>\n",
       "</g>\n",
       "<!-- I&#45;&gt;S0 -->\n",
       "<g id=\"edge2\" class=\"edge\"><title>I&#45;&gt;S0</title>\n",
       "<path fill=\"none\" stroke=\"black\" d=\"M127.022,-50.7121C136.583,-50.7121 148.77,-50.7121 159.763,-50.7121\"/>\n",
       "<polygon fill=\"black\" stroke=\"black\" points=\"159.813,-54.2122 169.813,-50.7121 159.813,-47.2122 159.813,-54.2122\"/>\n",
       "<text text-anchor=\"middle\" x=\"148.5\" y=\"-53.5121\" font-family=\"Times,serif\" font-size=\"14.00\">0</text>\n",
       "</g>\n",
       "<!-- I&#45;&gt;I -->\n",
       "<g id=\"edge3\" class=\"edge\"><title>I&#45;&gt;I</title>\n",
       "<path fill=\"none\" stroke=\"black\" d=\"M102.621,-67.7494C101.319,-77.57 103.445,-86.7121 109,-86.7121 112.472,-86.7121 114.604,-83.1409 115.398,-78.065\"/>\n",
       "<polygon fill=\"black\" stroke=\"black\" points=\"118.897,-77.7431 115.379,-67.7494 111.897,-77.7556 118.897,-77.7431\"/>\n",
       "<text text-anchor=\"middle\" x=\"109\" y=\"-89.5121\" font-family=\"Times,serif\" font-size=\"14.00\">1</text>\n",
       "</g>\n",
       "<!-- F0101&#45;&gt;S010 -->\n",
       "<g id=\"edge10\" class=\"edge\"><title>F0101&#45;&gt;S010</title>\n",
       "<path fill=\"none\" stroke=\"black\" d=\"M442.376,-31.5488C433.973,-31.4149 425.152,-32.1899 417.212,-34.7121 411.568,-36.5045 406.023,-39.2825 400.854,-42.4692\"/>\n",
       "<polygon fill=\"black\" stroke=\"black\" points=\"398.856,-39.5953 392.559,-48.1159 402.795,-45.3818 398.856,-39.5953\"/>\n",
       "<text text-anchor=\"middle\" x=\"420.712\" y=\"-37.5121\" font-family=\"Times,serif\" font-size=\"14.00\">0</text>\n",
       "</g>\n",
       "<!-- F0101&#45;&gt;I -->\n",
       "<g id=\"edge11\" class=\"edge\"><title>F0101&#45;&gt;I</title>\n",
       "<path fill=\"none\" stroke=\"black\" d=\"M445.314,-20.9853C424.751,-12.4857 397.363,-3.71207 371.921,-3.71207 188.447,-3.71207 188.447,-3.71207 188.447,-3.71207 165.942,-3.71207 144.308,-18.1221 129.48,-30.9841\"/>\n",
       "<polygon fill=\"black\" stroke=\"black\" points=\"126.98,-28.528 121.981,-37.8691 131.714,-33.6846 126.98,-28.528\"/>\n",
       "<text text-anchor=\"middle\" x=\"275.762\" y=\"-6.51207\" font-family=\"Times,serif\" font-size=\"14.00\">1</text>\n",
       "</g>\n",
       "</g>\n",
       "</svg>\n"
      ],
      "text/plain": [
       "<graphviz.dot.Digraph at 0x10c3bf780>"
      ]
     },
     "execution_count": 80,
     "metadata": {},
     "output_type": "execute_result"
    }
   ],
   "source": [
    "dotObj_dfa(md2mc(ends0101))"
   ]
  },
  {
   "cell_type": "code",
   "execution_count": 81,
   "metadata": {
    "run_control": {
     "frozen": false,
     "read_only": false
    }
   },
   "outputs": [
    {
     "name": "stderr",
     "output_type": "stream",
     "text": [
      "Generating LALR tables\n"
     ]
    }
   ],
   "source": [
    "thirdlastis1=md2mc(src=\"File\", fname=\"machines/dfafiles/thirdlastis1.dfa\")\n",
    "#machines/dfafiles/thirdlastis1.dfa"
   ]
  },
  {
   "cell_type": "code",
   "execution_count": 82,
   "metadata": {
    "run_control": {
     "frozen": false,
     "read_only": false
    }
   },
   "outputs": [
    {
     "data": {
      "text/plain": [
       "{'Delta': {('F100', '0'): 'S000',\n",
       "  ('F100', '1'): 'S001',\n",
       "  ('F101', '0'): 'S010',\n",
       "  ('F101', '1'): 'S011',\n",
       "  ('F110', '0'): 'F100',\n",
       "  ('F110', '1'): 'F101',\n",
       "  ('F111', '0'): 'F110',\n",
       "  ('F111', '1'): 'F111',\n",
       "  ('I', '0'): 'S0',\n",
       "  ('I', '1'): 'S1',\n",
       "  ('S0', '0'): 'S00',\n",
       "  ('S0', '1'): 'S01',\n",
       "  ('S00', '0'): 'S000',\n",
       "  ('S00', '1'): 'S001',\n",
       "  ('S000', '0'): 'S000',\n",
       "  ('S000', '1'): 'S001',\n",
       "  ('S001', '0'): 'S010',\n",
       "  ('S001', '1'): 'S011',\n",
       "  ('S01', '0'): 'S010',\n",
       "  ('S01', '1'): 'S011',\n",
       "  ('S010', '0'): 'F100',\n",
       "  ('S010', '1'): 'F101',\n",
       "  ('S011', '0'): 'F110',\n",
       "  ('S011', '1'): 'F111',\n",
       "  ('S1', '0'): 'S10',\n",
       "  ('S1', '1'): 'S11',\n",
       "  ('S10', '0'): 'F100',\n",
       "  ('S10', '1'): 'F101',\n",
       "  ('S11', '0'): 'F110',\n",
       "  ('S11', '1'): 'F111'},\n",
       " 'F': {'F100', 'F101', 'F110', 'F111'},\n",
       " 'Q': {'F100',\n",
       "  'F101',\n",
       "  'F110',\n",
       "  'F111',\n",
       "  'I',\n",
       "  'S0',\n",
       "  'S00',\n",
       "  'S000',\n",
       "  'S001',\n",
       "  'S01',\n",
       "  'S010',\n",
       "  'S011',\n",
       "  'S1',\n",
       "  'S10',\n",
       "  'S11'},\n",
       " 'Sigma': {'0', '1'},\n",
       " 'q0': 'I'}"
      ]
     },
     "execution_count": 82,
     "metadata": {},
     "output_type": "execute_result"
    }
   ],
   "source": [
    "thirdlastis1"
   ]
  },
  {
   "cell_type": "code",
   "execution_count": 83,
   "metadata": {
    "run_control": {
     "frozen": false,
     "read_only": false
    }
   },
   "outputs": [
    {
     "data": {
      "image/svg+xml": [
       "<?xml version=\"1.0\" encoding=\"UTF-8\" standalone=\"no\"?>\n",
       "<!DOCTYPE svg PUBLIC \"-//W3C//DTD SVG 1.1//EN\"\n",
       " \"http://www.w3.org/Graphics/SVG/1.1/DTD/svg11.dtd\">\n",
       "<!-- Generated by graphviz version 2.38.0 (20140413.2041)\n",
       " -->\n",
       "<!-- Title: %3 Pages: 1 -->\n",
       "<svg width=\"1134pt\" height=\"451pt\"\n",
       " viewBox=\"0.00 0.00 1133.69 451.41\" xmlns=\"http://www.w3.org/2000/svg\" xmlns:xlink=\"http://www.w3.org/1999/xlink\">\n",
       "<g id=\"graph0\" class=\"graph\" transform=\"scale(1 1) rotate(0) translate(4 447.413)\">\n",
       "<title>%3</title>\n",
       "<polygon fill=\"white\" stroke=\"none\" points=\"-4,4 -4,-447.413 1129.69,-447.413 1129.69,4 -4,4\"/>\n",
       "<!-- EMPTY -->\n",
       "<g id=\"node1\" class=\"node\"><title>EMPTY</title>\n",
       "</g>\n",
       "<!-- I -->\n",
       "<g id=\"node10\" class=\"node\"><title>I</title>\n",
       "<ellipse fill=\"none\" stroke=\"black\" cx=\"109\" cy=\"-338.545\" rx=\"18\" ry=\"18\"/>\n",
       "<text text-anchor=\"middle\" x=\"109\" y=\"-334.345\" font-family=\"Times,serif\" font-size=\"14.00\">I</text>\n",
       "</g>\n",
       "<!-- EMPTY&#45;&gt;I -->\n",
       "<g id=\"edge1\" class=\"edge\"><title>EMPTY&#45;&gt;I</title>\n",
       "<path fill=\"none\" stroke=\"black\" d=\"M54.195,-338.545C62.6538,-338.545 72.0513,-338.545 80.5951,-338.545\"/>\n",
       "<polygon fill=\"black\" stroke=\"black\" points=\"80.8257,-342.045 90.8257,-338.545 80.8257,-335.045 80.8257,-342.045\"/>\n",
       "</g>\n",
       "<!-- S01 -->\n",
       "<g id=\"node2\" class=\"node\"><title>S01</title>\n",
       "<ellipse fill=\"none\" stroke=\"black\" cx=\"578.083\" cy=\"-419.545\" rx=\"23.7379\" ry=\"23.7379\"/>\n",
       "<text text-anchor=\"middle\" x=\"578.083\" y=\"-415.345\" font-family=\"Times,serif\" font-size=\"14.00\">S01</text>\n",
       "</g>\n",
       "<!-- S010 -->\n",
       "<g id=\"node4\" class=\"node\"><title>S010</title>\n",
       "<ellipse fill=\"none\" stroke=\"black\" cx=\"677.663\" cy=\"-277.545\" rx=\"28.0822\" ry=\"28.0822\"/>\n",
       "<text text-anchor=\"middle\" x=\"677.663\" y=\"-273.345\" font-family=\"Times,serif\" font-size=\"14.00\">S010</text>\n",
       "</g>\n",
       "<!-- S01&#45;&gt;S010 -->\n",
       "<g id=\"edge10\" class=\"edge\"><title>S01&#45;&gt;S010</title>\n",
       "<path fill=\"none\" stroke=\"black\" d=\"M592.446,-400.098C608.554,-376.657 635.84,-336.951 654.977,-309.103\"/>\n",
       "<polygon fill=\"black\" stroke=\"black\" points=\"658.1,-310.738 660.879,-300.514 652.331,-306.773 658.1,-310.738\"/>\n",
       "<text text-anchor=\"middle\" x=\"627.873\" y=\"-356.345\" font-family=\"Times,serif\" font-size=\"14.00\">0</text>\n",
       "</g>\n",
       "<!-- S011 -->\n",
       "<g id=\"node8\" class=\"node\"><title>S011</title>\n",
       "<ellipse fill=\"none\" stroke=\"black\" cx=\"884.501\" cy=\"-233.545\" rx=\"27.933\" ry=\"27.933\"/>\n",
       "<text text-anchor=\"middle\" x=\"884.501\" y=\"-229.345\" font-family=\"Times,serif\" font-size=\"14.00\">S011</text>\n",
       "</g>\n",
       "<!-- S01&#45;&gt;S011 -->\n",
       "<g id=\"edge11\" class=\"edge\"><title>S01&#45;&gt;S011</title>\n",
       "<path fill=\"none\" stroke=\"black\" d=\"M601.992,-416.086C647.168,-408.235 748.951,-385.316 813.534,-330.545 834.64,-312.646 852.734,-287.093 865.231,-266.707\"/>\n",
       "<polygon fill=\"black\" stroke=\"black\" points=\"868.285,-268.419 870.403,-258.038 862.274,-264.832 868.285,-268.419\"/>\n",
       "<text text-anchor=\"middle\" x=\"727.454\" y=\"-385.345\" font-family=\"Times,serif\" font-size=\"14.00\">1</text>\n",
       "</g>\n",
       "<!-- S10 -->\n",
       "<g id=\"node3\" class=\"node\"><title>S10</title>\n",
       "<ellipse fill=\"none\" stroke=\"black\" cx=\"275.762\" cy=\"-286.545\" rx=\"23.7379\" ry=\"23.7379\"/>\n",
       "<text text-anchor=\"middle\" x=\"275.762\" y=\"-282.345\" font-family=\"Times,serif\" font-size=\"14.00\">S10</text>\n",
       "</g>\n",
       "<!-- F100 -->\n",
       "<g id=\"node15\" class=\"node\"><title>F100</title>\n",
       "<ellipse fill=\"none\" stroke=\"black\" cx=\"374.921\" cy=\"-159.545\" rx=\"28.1078\" ry=\"28.1078\"/>\n",
       "<ellipse fill=\"none\" stroke=\"black\" cx=\"374.921\" cy=\"-159.545\" rx=\"32.082\" ry=\"32.082\"/>\n",
       "<text text-anchor=\"middle\" x=\"374.921\" y=\"-155.345\" font-family=\"Times,serif\" font-size=\"14.00\">F100</text>\n",
       "</g>\n",
       "<!-- S10&#45;&gt;F100 -->\n",
       "<g id=\"edge12\" class=\"edge\"><title>S10&#45;&gt;F100</title>\n",
       "<path fill=\"none\" stroke=\"black\" d=\"M290.89,-268.078C305.861,-248.508 329.827,-217.182 348.171,-193.204\"/>\n",
       "<polygon fill=\"black\" stroke=\"black\" points=\"351.105,-195.129 354.401,-185.06 345.545,-190.876 351.105,-195.129\"/>\n",
       "<text text-anchor=\"middle\" x=\"321.131\" y=\"-234.345\" font-family=\"Times,serif\" font-size=\"14.00\">0</text>\n",
       "</g>\n",
       "<!-- F101 -->\n",
       "<g id=\"node16\" class=\"node\"><title>F101</title>\n",
       "<ellipse fill=\"none\" stroke=\"black\" cx=\"781.244\" cy=\"-289.545\" rx=\"28.1078\" ry=\"28.1078\"/>\n",
       "<ellipse fill=\"none\" stroke=\"black\" cx=\"781.244\" cy=\"-289.545\" rx=\"32.082\" ry=\"32.082\"/>\n",
       "<text text-anchor=\"middle\" x=\"781.244\" y=\"-285.345\" font-family=\"Times,serif\" font-size=\"14.00\">F101</text>\n",
       "</g>\n",
       "<!-- S10&#45;&gt;F101 -->\n",
       "<g id=\"edge13\" class=\"edge\"><title>S10&#45;&gt;F101</title>\n",
       "<path fill=\"none\" stroke=\"black\" d=\"M290.566,-305.571C307.581,-326.602 338.614,-357.545 373.921,-357.545 373.921,-357.545 373.921,-357.545 678.663,-357.545 706.889,-357.545 733.204,-339.191 751.976,-321.554\"/>\n",
       "<polygon fill=\"black\" stroke=\"black\" points=\"754.878,-323.607 759.542,-314.094 749.964,-318.622 754.878,-323.607\"/>\n",
       "<text text-anchor=\"middle\" x=\"528.292\" y=\"-360.345\" font-family=\"Times,serif\" font-size=\"14.00\">1</text>\n",
       "</g>\n",
       "<!-- S010&#45;&gt;F100 -->\n",
       "<g id=\"edge20\" class=\"edge\"><title>S010&#45;&gt;F100</title>\n",
       "<path fill=\"none\" stroke=\"black\" d=\"M663.706,-252.788C651.533,-231.802 631.455,-202.355 606.373,-184.545 550.313,-144.738 466.439,-146.928 416.843,-152.79\"/>\n",
       "<polygon fill=\"black\" stroke=\"black\" points=\"416.274,-149.334 406.803,-154.083 417.168,-156.277 416.274,-149.334\"/>\n",
       "<text text-anchor=\"middle\" x=\"528.292\" y=\"-158.345\" font-family=\"Times,serif\" font-size=\"14.00\">0</text>\n",
       "</g>\n",
       "<!-- S010&#45;&gt;F101 -->\n",
       "<g id=\"edge21\" class=\"edge\"><title>S010&#45;&gt;F101</title>\n",
       "<path fill=\"none\" stroke=\"black\" d=\"M705.069,-269.955C713.378,-268.517 722.571,-267.909 730.954,-269.545 734.661,-270.268 738.443,-271.271 742.179,-272.446\"/>\n",
       "<polygon fill=\"black\" stroke=\"black\" points=\"741.291,-275.844 751.885,-275.882 743.627,-269.245 741.291,-275.844\"/>\n",
       "<text text-anchor=\"middle\" x=\"727.454\" y=\"-272.345\" font-family=\"Times,serif\" font-size=\"14.00\">1</text>\n",
       "</g>\n",
       "<!-- S1 -->\n",
       "<g id=\"node5\" class=\"node\"><title>S1</title>\n",
       "<ellipse fill=\"none\" stroke=\"black\" cx=\"189.447\" cy=\"-286.545\" rx=\"19.3939\" ry=\"19.3939\"/>\n",
       "<text text-anchor=\"middle\" x=\"189.447\" y=\"-282.345\" font-family=\"Times,serif\" font-size=\"14.00\">S1</text>\n",
       "</g>\n",
       "<!-- S1&#45;&gt;S10 -->\n",
       "<g id=\"edge6\" class=\"edge\"><title>S1&#45;&gt;S10</title>\n",
       "<path fill=\"none\" stroke=\"black\" d=\"M209.159,-286.545C218.645,-286.545 230.452,-286.545 241.425,-286.545\"/>\n",
       "<polygon fill=\"black\" stroke=\"black\" points=\"241.587,-290.045 251.587,-286.545 241.587,-283.045 241.587,-290.045\"/>\n",
       "<text text-anchor=\"middle\" x=\"230.394\" y=\"-289.345\" font-family=\"Times,serif\" font-size=\"14.00\">0</text>\n",
       "</g>\n",
       "<!-- S11 -->\n",
       "<g id=\"node11\" class=\"node\"><title>S11</title>\n",
       "<ellipse fill=\"none\" stroke=\"black\" cx=\"884.501\" cy=\"-23.5447\" rx=\"23.5896\" ry=\"23.5896\"/>\n",
       "<text text-anchor=\"middle\" x=\"884.501\" y=\"-19.3447\" font-family=\"Times,serif\" font-size=\"14.00\">S11</text>\n",
       "</g>\n",
       "<!-- S1&#45;&gt;S11 -->\n",
       "<g id=\"edge7\" class=\"edge\"><title>S1&#45;&gt;S11</title>\n",
       "<path fill=\"none\" stroke=\"black\" d=\"M192.566,-267.303C199.651,-207.767 224.928,-30.5447 274.762,-30.5447 274.762,-30.5447 274.762,-30.5447 782.244,-30.5447 805.247,-30.5447 831.119,-28.7246 850.953,-26.9406\"/>\n",
       "<polygon fill=\"black\" stroke=\"black\" points=\"851.383,-30.4157 861.01,-25.993 850.726,-23.4466 851.383,-30.4157\"/>\n",
       "<text text-anchor=\"middle\" x=\"528.292\" y=\"-33.3447\" font-family=\"Times,serif\" font-size=\"14.00\">1</text>\n",
       "</g>\n",
       "<!-- S00 -->\n",
       "<g id=\"node6\" class=\"node\"><title>S00</title>\n",
       "<ellipse fill=\"none\" stroke=\"black\" cx=\"374.921\" cy=\"-305.545\" rx=\"23.7379\" ry=\"23.7379\"/>\n",
       "<text text-anchor=\"middle\" x=\"374.921\" y=\"-301.345\" font-family=\"Times,serif\" font-size=\"14.00\">S00</text>\n",
       "</g>\n",
       "<!-- S000 -->\n",
       "<g id=\"node9\" class=\"node\"><title>S000</title>\n",
       "<ellipse fill=\"none\" stroke=\"black\" cx=\"478.502\" cy=\"-219.545\" rx=\"28.0822\" ry=\"28.0822\"/>\n",
       "<text text-anchor=\"middle\" x=\"478.502\" y=\"-215.345\" font-family=\"Times,serif\" font-size=\"14.00\">S000</text>\n",
       "</g>\n",
       "<!-- S00&#45;&gt;S000 -->\n",
       "<g id=\"edge8\" class=\"edge\"><title>S00&#45;&gt;S000</title>\n",
       "<path fill=\"none\" stroke=\"black\" d=\"M393.615,-290.565C408.699,-277.794 430.681,-259.184 448.359,-244.218\"/>\n",
       "<polygon fill=\"black\" stroke=\"black\" points=\"450.767,-246.765 456.138,-237.632 446.244,-241.422 450.767,-246.765\"/>\n",
       "<text text-anchor=\"middle\" x=\"428.712\" y=\"-265.345\" font-family=\"Times,serif\" font-size=\"14.00\">0</text>\n",
       "</g>\n",
       "<!-- S001 -->\n",
       "<g id=\"node12\" class=\"node\"><title>S001</title>\n",
       "<ellipse fill=\"none\" stroke=\"black\" cx=\"578.083\" cy=\"-221.545\" rx=\"28.0822\" ry=\"28.0822\"/>\n",
       "<text text-anchor=\"middle\" x=\"578.083\" y=\"-217.345\" font-family=\"Times,serif\" font-size=\"14.00\">S001</text>\n",
       "</g>\n",
       "<!-- S00&#45;&gt;S001 -->\n",
       "<g id=\"edge9\" class=\"edge\"><title>S00&#45;&gt;S001</title>\n",
       "<path fill=\"none\" stroke=\"black\" d=\"M398.885,-306.768C426.007,-307.289 471.848,-305.223 506.792,-288.545 524.725,-279.986 541.046,-265.105 553.436,-251.538\"/>\n",
       "<polygon fill=\"black\" stroke=\"black\" points=\"556.297,-253.586 560.261,-243.76 551.035,-248.969 556.297,-253.586\"/>\n",
       "<text text-anchor=\"middle\" x=\"478.502\" y=\"-307.345\" font-family=\"Times,serif\" font-size=\"14.00\">1</text>\n",
       "</g>\n",
       "<!-- S0 -->\n",
       "<g id=\"node7\" class=\"node\"><title>S0</title>\n",
       "<ellipse fill=\"none\" stroke=\"black\" cx=\"275.762\" cy=\"-390.545\" rx=\"19.3939\" ry=\"19.3939\"/>\n",
       "<text text-anchor=\"middle\" x=\"275.762\" y=\"-386.345\" font-family=\"Times,serif\" font-size=\"14.00\">S0</text>\n",
       "</g>\n",
       "<!-- S0&#45;&gt;S01 -->\n",
       "<g id=\"edge5\" class=\"edge\"><title>S0&#45;&gt;S01</title>\n",
       "<path fill=\"none\" stroke=\"black\" d=\"M295.549,-392.359C345.319,-397.165 481.066,-410.273 544.103,-416.36\"/>\n",
       "<polygon fill=\"black\" stroke=\"black\" points=\"543.992,-419.866 554.283,-417.343 544.665,-412.898 543.992,-419.866\"/>\n",
       "<text text-anchor=\"middle\" x=\"428.712\" y=\"-407.345\" font-family=\"Times,serif\" font-size=\"14.00\">1</text>\n",
       "</g>\n",
       "<!-- S0&#45;&gt;S00 -->\n",
       "<g id=\"edge4\" class=\"edge\"><title>S0&#45;&gt;S00</title>\n",
       "<path fill=\"none\" stroke=\"black\" d=\"M291.098,-378.003C306.113,-364.867 330.006,-343.964 348.28,-327.977\"/>\n",
       "<polygon fill=\"black\" stroke=\"black\" points=\"351.006,-330.243 356.228,-321.024 346.397,-324.974 351.006,-330.243\"/>\n",
       "<text text-anchor=\"middle\" x=\"321.131\" y=\"-356.345\" font-family=\"Times,serif\" font-size=\"14.00\">0</text>\n",
       "</g>\n",
       "<!-- F110 -->\n",
       "<g id=\"node13\" class=\"node\"><title>F110</title>\n",
       "<ellipse fill=\"none\" stroke=\"black\" cx=\"1093.72\" cy=\"-135.545\" rx=\"27.9372\" ry=\"27.9372\"/>\n",
       "<ellipse fill=\"none\" stroke=\"black\" cx=\"1093.72\" cy=\"-135.545\" rx=\"31.933\" ry=\"31.933\"/>\n",
       "<text text-anchor=\"middle\" x=\"1093.72\" y=\"-131.345\" font-family=\"Times,serif\" font-size=\"14.00\">F110</text>\n",
       "</g>\n",
       "<!-- S011&#45;&gt;F110 -->\n",
       "<g id=\"edge22\" class=\"edge\"><title>S011&#45;&gt;F110</title>\n",
       "<path fill=\"none\" stroke=\"black\" d=\"M912.54,-233.059C940.581,-231.54 984.968,-226.225 1018.75,-208.545 1037.23,-198.874 1054.1,-183.053 1067.05,-168.608\"/>\n",
       "<polygon fill=\"black\" stroke=\"black\" points=\"1069.93,-170.626 1073.83,-160.772 1064.64,-166.047 1069.93,-170.626\"/>\n",
       "<text text-anchor=\"middle\" x=\"987.11\" y=\"-231.345\" font-family=\"Times,serif\" font-size=\"14.00\">0</text>\n",
       "</g>\n",
       "<!-- F111 -->\n",
       "<g id=\"node14\" class=\"node\"><title>F111</title>\n",
       "<ellipse fill=\"none\" stroke=\"black\" cx=\"987.11\" cy=\"-135.545\" rx=\"27.7678\" ry=\"27.7678\"/>\n",
       "<ellipse fill=\"none\" stroke=\"black\" cx=\"987.11\" cy=\"-135.545\" rx=\"31.7859\" ry=\"31.7859\"/>\n",
       "<text text-anchor=\"middle\" x=\"987.11\" y=\"-131.345\" font-family=\"Times,serif\" font-size=\"14.00\">F111</text>\n",
       "</g>\n",
       "<!-- S011&#45;&gt;F111 -->\n",
       "<g id=\"edge23\" class=\"edge\"><title>S011&#45;&gt;F111</title>\n",
       "<path fill=\"none\" stroke=\"black\" d=\"M905.378,-214.183C919.978,-199.961 940.056,-180.404 956.536,-164.351\"/>\n",
       "<polygon fill=\"black\" stroke=\"black\" points=\"959.101,-166.739 963.822,-157.254 954.217,-161.725 959.101,-166.739\"/>\n",
       "<text text-anchor=\"middle\" x=\"933.967\" y=\"-190.345\" font-family=\"Times,serif\" font-size=\"14.00\">1</text>\n",
       "</g>\n",
       "<!-- S000&#45;&gt;S000 -->\n",
       "<g id=\"edge16\" class=\"edge\"><title>S000&#45;&gt;S000</title>\n",
       "<path fill=\"none\" stroke=\"black\" d=\"M469.537,-246.647C469.139,-257.126 472.127,-265.835 478.502,-265.835 482.586,-265.835 485.28,-262.261 486.584,-256.937\"/>\n",
       "<polygon fill=\"black\" stroke=\"black\" points=\"490.099,-256.909 487.467,-246.647 483.125,-256.311 490.099,-256.909\"/>\n",
       "<text text-anchor=\"middle\" x=\"478.502\" y=\"-268.635\" font-family=\"Times,serif\" font-size=\"14.00\">0</text>\n",
       "</g>\n",
       "<!-- S000&#45;&gt;S001 -->\n",
       "<g id=\"edge17\" class=\"edge\"><title>S000&#45;&gt;S001</title>\n",
       "<path fill=\"none\" stroke=\"black\" d=\"M506.943,-220.107C517.025,-220.314 528.621,-220.551 539.444,-220.773\"/>\n",
       "<polygon fill=\"black\" stroke=\"black\" points=\"539.439,-224.274 549.509,-220.98 539.583,-217.275 539.439,-224.274\"/>\n",
       "<text text-anchor=\"middle\" x=\"528.292\" y=\"-224.345\" font-family=\"Times,serif\" font-size=\"14.00\">1</text>\n",
       "</g>\n",
       "<!-- I&#45;&gt;S1 -->\n",
       "<g id=\"edge3\" class=\"edge\"><title>I&#45;&gt;S1</title>\n",
       "<path fill=\"none\" stroke=\"black\" d=\"M124.388,-329.007C135.529,-321.622 151.212,-311.227 164.271,-302.57\"/>\n",
       "<polygon fill=\"black\" stroke=\"black\" points=\"166.403,-305.356 172.805,-296.914 162.536,-299.521 166.403,-305.356\"/>\n",
       "<text text-anchor=\"middle\" x=\"148.5\" y=\"-317.345\" font-family=\"Times,serif\" font-size=\"14.00\">1</text>\n",
       "</g>\n",
       "<!-- I&#45;&gt;S0 -->\n",
       "<g id=\"edge2\" class=\"edge\"><title>I&#45;&gt;S0</title>\n",
       "<path fill=\"none\" stroke=\"black\" d=\"M126.4,-343.721C154.579,-352.614 212.479,-370.888 247.026,-381.791\"/>\n",
       "<polygon fill=\"black\" stroke=\"black\" points=\"246.349,-385.248 256.939,-384.92 248.456,-378.572 246.349,-385.248\"/>\n",
       "<text text-anchor=\"middle\" x=\"189.447\" y=\"-373.345\" font-family=\"Times,serif\" font-size=\"14.00\">0</text>\n",
       "</g>\n",
       "<!-- S11&#45;&gt;F110 -->\n",
       "<g id=\"edge14\" class=\"edge\"><title>S11&#45;&gt;F110</title>\n",
       "<path fill=\"none\" stroke=\"black\" d=\"M908.079,-22.4633C941.981,-22.109 1006.07,-26.5535 1043.75,-61.5447 1055.13,-72.1057 1065.13,-85.8155 1073.08,-98.56\"/>\n",
       "<polygon fill=\"black\" stroke=\"black\" points=\"1070.11,-100.403 1078.25,-107.178 1076.11,-96.8023 1070.11,-100.403\"/>\n",
       "<text text-anchor=\"middle\" x=\"987.11\" y=\"-47.3447\" font-family=\"Times,serif\" font-size=\"14.00\">0</text>\n",
       "</g>\n",
       "<!-- S11&#45;&gt;F111 -->\n",
       "<g id=\"edge15\" class=\"edge\"><title>S11&#45;&gt;F111</title>\n",
       "<path fill=\"none\" stroke=\"black\" d=\"M900.781,-40.5551C915.989,-57.485 939.676,-83.8533 958.238,-104.517\"/>\n",
       "<polygon fill=\"black\" stroke=\"black\" points=\"955.786,-107.025 965.072,-112.126 960.994,-102.347 955.786,-107.025\"/>\n",
       "<text text-anchor=\"middle\" x=\"933.967\" y=\"-82.3447\" font-family=\"Times,serif\" font-size=\"14.00\">1</text>\n",
       "</g>\n",
       "<!-- S001&#45;&gt;S010 -->\n",
       "<g id=\"edge18\" class=\"edge\"><title>S001&#45;&gt;S010</title>\n",
       "<path fill=\"none\" stroke=\"black\" d=\"M603.204,-235.387C615.493,-242.44 630.616,-251.119 643.94,-258.765\"/>\n",
       "<polygon fill=\"black\" stroke=\"black\" points=\"642.404,-261.919 652.82,-263.861 645.889,-255.848 642.404,-261.919\"/>\n",
       "<text text-anchor=\"middle\" x=\"627.873\" y=\"-254.345\" font-family=\"Times,serif\" font-size=\"14.00\">0</text>\n",
       "</g>\n",
       "<!-- S001&#45;&gt;S011 -->\n",
       "<g id=\"edge19\" class=\"edge\"><title>S001&#45;&gt;S011</title>\n",
       "<path fill=\"none\" stroke=\"black\" d=\"M606.366,-222.62C660.996,-224.774 783.889,-229.618 846.021,-232.067\"/>\n",
       "<polygon fill=\"black\" stroke=\"black\" points=\"846.039,-235.571 856.169,-232.467 846.315,-228.576 846.039,-235.571\"/>\n",
       "<text text-anchor=\"middle\" x=\"727.454\" y=\"-230.345\" font-family=\"Times,serif\" font-size=\"14.00\">1</text>\n",
       "</g>\n",
       "<!-- F110&#45;&gt;F100 -->\n",
       "<g id=\"edge28\" class=\"edge\"><title>F110&#45;&gt;F100</title>\n",
       "<path fill=\"none\" stroke=\"black\" d=\"M1070.32,-113.544C1050.44,-96.4197 1019.72,-75.5447 988.11,-75.5447 477.502,-75.5447 477.502,-75.5447 477.502,-75.5447 444.954,-75.5447 417.217,-101.474 398.991,-124.52\"/>\n",
       "<polygon fill=\"black\" stroke=\"black\" points=\"396.193,-122.418 392.949,-132.504 401.775,-126.642 396.193,-122.418\"/>\n",
       "<text text-anchor=\"middle\" x=\"727.454\" y=\"-78.3447\" font-family=\"Times,serif\" font-size=\"14.00\">0</text>\n",
       "</g>\n",
       "<!-- F110&#45;&gt;F101 -->\n",
       "<g id=\"edge29\" class=\"edge\"><title>F110&#45;&gt;F101</title>\n",
       "<path fill=\"none\" stroke=\"black\" d=\"M1080.61,-165.24C1068.66,-190.738 1047.94,-226.465 1018.75,-246.545 960.008,-286.954 874.334,-292.579 823.84,-291.85\"/>\n",
       "<polygon fill=\"black\" stroke=\"black\" points=\"823.701,-288.346 813.621,-291.608 823.535,-295.344 823.701,-288.346\"/>\n",
       "<text text-anchor=\"middle\" x=\"933.967\" y=\"-285.345\" font-family=\"Times,serif\" font-size=\"14.00\">1</text>\n",
       "</g>\n",
       "<!-- F111&#45;&gt;F110 -->\n",
       "<g id=\"edge30\" class=\"edge\"><title>F111&#45;&gt;F110</title>\n",
       "<path fill=\"none\" stroke=\"black\" d=\"M1018.93,-135.545C1029.07,-135.545 1040.51,-135.545 1051.31,-135.545\"/>\n",
       "<polygon fill=\"black\" stroke=\"black\" points=\"1051.39,-139.045 1061.39,-135.545 1051.39,-132.045 1051.39,-139.045\"/>\n",
       "<text text-anchor=\"middle\" x=\"1040.25\" y=\"-138.345\" font-family=\"Times,serif\" font-size=\"14.00\">0</text>\n",
       "</g>\n",
       "<!-- F111&#45;&gt;F111 -->\n",
       "<g id=\"edge31\" class=\"edge\"><title>F111&#45;&gt;F111</title>\n",
       "<path fill=\"none\" stroke=\"black\" d=\"M977.362,-166.085C977.259,-176.653 980.508,-185.187 987.11,-185.187 991.339,-185.187 994.192,-181.685 995.67,-176.389\"/>\n",
       "<polygon fill=\"black\" stroke=\"black\" points=\"999.189,-176.42 996.857,-166.085 992.235,-175.619 999.189,-176.42\"/>\n",
       "<text text-anchor=\"middle\" x=\"987.11\" y=\"-187.987\" font-family=\"Times,serif\" font-size=\"14.00\">1</text>\n",
       "</g>\n",
       "<!-- F100&#45;&gt;S000 -->\n",
       "<g id=\"edge24\" class=\"edge\"><title>F100&#45;&gt;S000</title>\n",
       "<path fill=\"none\" stroke=\"black\" d=\"M403.143,-175.624C415.94,-183.182 431.301,-192.256 444.732,-200.189\"/>\n",
       "<polygon fill=\"black\" stroke=\"black\" points=\"443.276,-203.393 453.666,-205.466 446.836,-197.366 443.276,-203.393\"/>\n",
       "<text text-anchor=\"middle\" x=\"428.712\" y=\"-194.345\" font-family=\"Times,serif\" font-size=\"14.00\">0</text>\n",
       "</g>\n",
       "<!-- F100&#45;&gt;S001 -->\n",
       "<g id=\"edge25\" class=\"edge\"><title>F100&#45;&gt;S001</title>\n",
       "<path fill=\"none\" stroke=\"black\" d=\"M407.112,-156.798C434.306,-155.533 474.362,-156.436 506.792,-168.545 522.531,-174.421 537.713,-185.023 549.915,-195.208\"/>\n",
       "<polygon fill=\"black\" stroke=\"black\" points=\"547.637,-197.866 557.479,-201.788 552.231,-192.584 547.637,-197.866\"/>\n",
       "<text text-anchor=\"middle\" x=\"478.502\" y=\"-171.345\" font-family=\"Times,serif\" font-size=\"14.00\">1</text>\n",
       "</g>\n",
       "<!-- F101&#45;&gt;S010 -->\n",
       "<g id=\"edge26\" class=\"edge\"><title>F101&#45;&gt;S010</title>\n",
       "<path fill=\"none\" stroke=\"black\" d=\"M748.965,-286.354C740.818,-285.484 732.053,-284.513 723.954,-283.545 721.404,-283.24 718.775,-282.916 716.127,-282.584\"/>\n",
       "<polygon fill=\"black\" stroke=\"black\" points=\"716.316,-279.079 705.952,-281.274 715.423,-286.022 716.316,-279.079\"/>\n",
       "<text text-anchor=\"middle\" x=\"727.454\" y=\"-287.345\" font-family=\"Times,serif\" font-size=\"14.00\">0</text>\n",
       "</g>\n",
       "<!-- F101&#45;&gt;S011 -->\n",
       "<g id=\"edge27\" class=\"edge\"><title>F101&#45;&gt;S011</title>\n",
       "<path fill=\"none\" stroke=\"black\" d=\"M809.558,-273.885C816.693,-269.833 824.387,-265.5 831.534,-261.545 837.619,-258.178 844.13,-254.628 850.412,-251.23\"/>\n",
       "<polygon fill=\"black\" stroke=\"black\" points=\"852.236,-254.223 859.378,-246.397 848.915,-248.061 852.236,-254.223\"/>\n",
       "<text text-anchor=\"middle\" x=\"835.034\" y=\"-264.345\" font-family=\"Times,serif\" font-size=\"14.00\">1</text>\n",
       "</g>\n",
       "</g>\n",
       "</svg>\n"
      ],
      "text/plain": [
       "<graphviz.dot.Digraph at 0x10c160e48>"
      ]
     },
     "execution_count": 83,
     "metadata": {},
     "output_type": "execute_result"
    }
   ],
   "source": [
    "dotObj_dfa(thirdlastis1)"
   ]
  },
  {
   "cell_type": "code",
   "execution_count": 84,
   "metadata": {
    "run_control": {
     "frozen": false,
     "read_only": false
    }
   },
   "outputs": [
    {
     "name": "stderr",
     "output_type": "stream",
     "text": [
      "Generating LALR tables\n"
     ]
    }
   ],
   "source": [
    "dped1=md2mc(src=\"File\", fname=\"machines/dfafiles/pedagogical2.dfa\")\n",
    "#machines/dfafiles/pedagogical2.dfa"
   ]
  },
  {
   "cell_type": "code",
   "execution_count": 85,
   "metadata": {
    "run_control": {
     "frozen": false,
     "read_only": false
    }
   },
   "outputs": [
    {
     "data": {
      "image/svg+xml": [
       "<?xml version=\"1.0\" encoding=\"UTF-8\" standalone=\"no\"?>\n",
       "<!DOCTYPE svg PUBLIC \"-//W3C//DTD SVG 1.1//EN\"\n",
       " \"http://www.w3.org/Graphics/SVG/1.1/DTD/svg11.dtd\">\n",
       "<!-- Generated by graphviz version 2.38.0 (20140413.2041)\n",
       " -->\n",
       "<!-- Title: %3 Pages: 1 -->\n",
       "<svg width=\"473pt\" height=\"77pt\"\n",
       " viewBox=\"0.00 0.00 472.79 77.00\" xmlns=\"http://www.w3.org/2000/svg\" xmlns:xlink=\"http://www.w3.org/1999/xlink\">\n",
       "<g id=\"graph0\" class=\"graph\" transform=\"scale(1 1) rotate(0) translate(4 73)\">\n",
       "<title>%3</title>\n",
       "<polygon fill=\"white\" stroke=\"none\" points=\"-4,4 -4,-73 468.787,-73 468.787,4 -4,4\"/>\n",
       "<!-- EMPTY -->\n",
       "<g id=\"node1\" class=\"node\"><title>EMPTY</title>\n",
       "</g>\n",
       "<!-- I -->\n",
       "<g id=\"node2\" class=\"node\"><title>I</title>\n",
       "<ellipse fill=\"none\" stroke=\"black\" cx=\"109\" cy=\"-51\" rx=\"18\" ry=\"18\"/>\n",
       "<text text-anchor=\"middle\" x=\"109\" y=\"-46.8\" font-family=\"Times,serif\" font-size=\"14.00\">I</text>\n",
       "</g>\n",
       "<!-- EMPTY&#45;&gt;I -->\n",
       "<g id=\"edge1\" class=\"edge\"><title>EMPTY&#45;&gt;I</title>\n",
       "<path fill=\"none\" stroke=\"black\" d=\"M54.195,-51C62.6538,-51 72.0513,-51 80.5951,-51\"/>\n",
       "<polygon fill=\"black\" stroke=\"black\" points=\"80.8257,-54.5001 90.8257,-51 80.8257,-47.5001 80.8257,-54.5001\"/>\n",
       "</g>\n",
       "<!-- B -->\n",
       "<g id=\"node3\" class=\"node\"><title>B</title>\n",
       "<ellipse fill=\"none\" stroke=\"black\" cx=\"267\" cy=\"-43\" rx=\"18\" ry=\"18\"/>\n",
       "<text text-anchor=\"middle\" x=\"267\" y=\"-38.8\" font-family=\"Times,serif\" font-size=\"14.00\">B</text>\n",
       "</g>\n",
       "<!-- I&#45;&gt;B -->\n",
       "<g id=\"edge3\" class=\"edge\"><title>I&#45;&gt;B</title>\n",
       "<path fill=\"none\" stroke=\"black\" d=\"M127.081,-52.1718C132.778,-52.5103 139.16,-52.8333 145,-53 183.248,-54.0919 192.968,-53.2075 231,-49 233.574,-48.7153 236.245,-48.3625 238.912,-47.9716\"/>\n",
       "<polygon fill=\"black\" stroke=\"black\" points=\"239.658,-51.3965 248.968,-46.3389 238.536,-44.4869 239.658,-51.3965\"/>\n",
       "<text text-anchor=\"middle\" x=\"188\" y=\"-55.8\" font-family=\"Times,serif\" font-size=\"14.00\">1</text>\n",
       "</g>\n",
       "<!-- A -->\n",
       "<g id=\"node4\" class=\"node\"><title>A</title>\n",
       "<ellipse fill=\"none\" stroke=\"black\" cx=\"188\" cy=\"-18\" rx=\"18\" ry=\"18\"/>\n",
       "<text text-anchor=\"middle\" x=\"188\" y=\"-13.8\" font-family=\"Times,serif\" font-size=\"14.00\">A</text>\n",
       "</g>\n",
       "<!-- I&#45;&gt;A -->\n",
       "<g id=\"edge2\" class=\"edge\"><title>I&#45;&gt;A</title>\n",
       "<path fill=\"none\" stroke=\"black\" d=\"M125.954,-44.1624C136.279,-39.7377 149.943,-33.8816 161.726,-28.8319\"/>\n",
       "<polygon fill=\"black\" stroke=\"black\" points=\"163.253,-31.9851 171.066,-24.8289 160.496,-25.5511 163.253,-31.9851\"/>\n",
       "<text text-anchor=\"middle\" x=\"148.5\" y=\"-37.8\" font-family=\"Times,serif\" font-size=\"14.00\">0</text>\n",
       "</g>\n",
       "<!-- F1 -->\n",
       "<g id=\"node5\" class=\"node\"><title>F1</title>\n",
       "<ellipse fill=\"none\" stroke=\"black\" cx=\"351.447\" cy=\"-43\" rx=\"19.4029\" ry=\"19.4029\"/>\n",
       "<ellipse fill=\"none\" stroke=\"black\" cx=\"351.447\" cy=\"-43\" rx=\"23.3939\" ry=\"23.3939\"/>\n",
       "<text text-anchor=\"middle\" x=\"351.447\" y=\"-38.8\" font-family=\"Times,serif\" font-size=\"14.00\">F1</text>\n",
       "</g>\n",
       "<!-- B&#45;&gt;F1 -->\n",
       "<g id=\"edge6\" class=\"edge\"><title>B&#45;&gt;F1</title>\n",
       "<path fill=\"none\" stroke=\"black\" d=\"M285.083,-43C294.448,-43 306.379,-43 317.478,-43\"/>\n",
       "<polygon fill=\"black\" stroke=\"black\" points=\"317.753,-46.5001 327.753,-43 317.753,-39.5001 317.753,-46.5001\"/>\n",
       "<text text-anchor=\"middle\" x=\"306.5\" y=\"-45.8\" font-family=\"Times,serif\" font-size=\"14.00\">1</text>\n",
       "</g>\n",
       "<!-- A&#45;&gt;B -->\n",
       "<g id=\"edge4\" class=\"edge\"><title>A&#45;&gt;B</title>\n",
       "<path fill=\"none\" stroke=\"black\" d=\"M205.33,-23.3019C215.436,-26.5832 228.635,-30.8685 240.14,-34.6038\"/>\n",
       "<polygon fill=\"black\" stroke=\"black\" points=\"239.102,-37.9466 249.694,-37.7058 241.263,-31.2887 239.102,-37.9466\"/>\n",
       "<text text-anchor=\"middle\" x=\"227.5\" y=\"-33.8\" font-family=\"Times,serif\" font-size=\"14.00\">0</text>\n",
       "</g>\n",
       "<!-- A&#45;&gt;B -->\n",
       "<g id=\"edge5\" class=\"edge\"><title>A&#45;&gt;B</title>\n",
       "<path fill=\"none\" stroke=\"black\" d=\"M204.965,-11.4541C212.985,-9.12696 222.731,-7.78952 231,-11 237.246,-13.4248 243.057,-17.5414 248.079,-22.0292\"/>\n",
       "<polygon fill=\"black\" stroke=\"black\" points=\"245.717,-24.6167 255.271,-29.1973 250.659,-19.6589 245.717,-24.6167\"/>\n",
       "<text text-anchor=\"middle\" x=\"227.5\" y=\"-13.8\" font-family=\"Times,serif\" font-size=\"14.00\">1</text>\n",
       "</g>\n",
       "<!-- F2 -->\n",
       "<g id=\"node6\" class=\"node\"><title>F2</title>\n",
       "<ellipse fill=\"none\" stroke=\"black\" cx=\"441.341\" cy=\"-43\" rx=\"19.4029\" ry=\"19.4029\"/>\n",
       "<ellipse fill=\"none\" stroke=\"black\" cx=\"441.341\" cy=\"-43\" rx=\"23.3939\" ry=\"23.3939\"/>\n",
       "<text text-anchor=\"middle\" x=\"441.341\" y=\"-38.8\" font-family=\"Times,serif\" font-size=\"14.00\">F2</text>\n",
       "</g>\n",
       "<!-- F1&#45;&gt;F2 -->\n",
       "<g id=\"edge7\" class=\"edge\"><title>F1&#45;&gt;F2</title>\n",
       "<path fill=\"none\" stroke=\"black\" d=\"M375.082,-43C385.026,-43 396.892,-43 407.762,-43\"/>\n",
       "<polygon fill=\"black\" stroke=\"black\" points=\"407.783,-46.5001 417.782,-43 407.782,-39.5001 407.783,-46.5001\"/>\n",
       "<text text-anchor=\"middle\" x=\"396.394\" y=\"-45.8\" font-family=\"Times,serif\" font-size=\"14.00\">0</text>\n",
       "</g>\n",
       "<!-- F1&#45;&gt;F2 -->\n",
       "<g id=\"edge8\" class=\"edge\"><title>F1&#45;&gt;F2</title>\n",
       "<path fill=\"none\" stroke=\"black\" d=\"M371.433,-30.3747C379.954,-26.1382 390.242,-22.9493 399.894,-25 403.568,-25.7807 407.314,-26.9194 410.97,-28.251\"/>\n",
       "<polygon fill=\"black\" stroke=\"black\" points=\"409.747,-31.5327 420.326,-32.1126 412.418,-25.0622 409.747,-31.5327\"/>\n",
       "<text text-anchor=\"middle\" x=\"396.394\" y=\"-27.8\" font-family=\"Times,serif\" font-size=\"14.00\">1</text>\n",
       "</g>\n",
       "</g>\n",
       "</svg>\n"
      ],
      "text/plain": [
       "<graphviz.dot.Digraph at 0x10c80cfd0>"
      ]
     },
     "execution_count": 85,
     "metadata": {},
     "output_type": "execute_result"
    }
   ],
   "source": [
    "dotObj_dfa(dped1)"
   ]
  },
  {
   "cell_type": "code",
   "execution_count": 86,
   "metadata": {
    "run_control": {
     "frozen": false,
     "read_only": false
    }
   },
   "outputs": [
    {
     "name": "stderr",
     "output_type": "stream",
     "text": [
      "Generating LALR tables\n"
     ]
    }
   ],
   "source": [
    "secondLastIs1 = md2mc('''\n",
    "!!------------------------------------------------------------\n",
    "!! This DFA looks for patterns of the form ....1.\n",
    "!! i.e., the second-last (counting from the end-point) is a 1\n",
    "!!\n",
    "!! DFAs find such patterns \"very stressful to handle\",\n",
    "!! as they are kept guessing of the form  'are we there yet?'\n",
    "!! 'are we seeing the second-last' ?\n",
    "!! They must keep all the failure options at hand. Even after\n",
    "!! a 'fleeting glimpse' of the second-last, more inputs can\n",
    "!! come barreling-in to make that \"lucky 1\" a non-second-last.\n",
    "!!\n",
    "!! We take 7 states in the DFA solution.\n",
    "!!------------------------------------------------------------\n",
    "\n",
    "DFA\n",
    "!!------------------------------------------------------------\n",
    "!! State : in ->  tostate !! comment\n",
    "!!------------------------------------------------------------\n",
    "\n",
    "I   :  0 ->  S0  !! Enter at init state I\n",
    "I   :  1 ->  S1  !! Record bit seen in state letter\n",
    "                     !! i.e., S0 means \"state after seeing a 0\"\n",
    "\t\t\t \n",
    "S0  :  0 ->  S00 !! continue recording input seen\n",
    "S0  :  1 ->  S01 !! in state-letter. This is a problem-specific\n",
    "                 !! way of compressing the input seen so far.\n",
    "\n",
    "S1  :  0 ->  F10 !! We now have a \"second last\" available!\n",
    "S1  :  1 ->  F11 !! Both F10 and F10 are \"F\" (final)\n",
    "\n",
    "S00 :  0 ->  S00 !! History of things seen is still 00\n",
    "S00 :  1 ->  S01 !! Remember 01 in the state\n",
    "\n",
    "S01 :  0 ->  F10 !! We again have a second-last of 1\n",
    "S01 :  1 ->  F11 !! We are in F11 because of 11 being last seen\n",
    "\n",
    "F10 :  0 ->  S00 !! The second-last 1 gets pushed-out\n",
    "F10 :  1 ->  S01 !! The second-last 1 gets pushed-out here too\n",
    "\n",
    "F11 :  0 ->  F10 !! Still we have a second-last 1\n",
    "F11 :  1 ->  F11 !! Stay in F11, as last two seen are 11\n",
    "\n",
    "!!------------------------------------------------------------\n",
    "''')"
   ]
  },
  {
   "cell_type": "code",
   "execution_count": 87,
   "metadata": {
    "run_control": {
     "frozen": false,
     "read_only": false
    }
   },
   "outputs": [],
   "source": [
    "from math import floor, log, pow\n",
    "def nthnumeric(N, Sigma={'a','b'}):\n",
    "    \"\"\"Assume Sigma is a 2-sized list/set of chars (default {'a','b'}). \n",
    "       Produce the Nth string in numeric order, where N >= 0.\n",
    "       Idea : Given N, get b = floor(log_2(N+1)) - need that \n",
    "       many places; what to fill in the places is the binary \n",
    "       code for N - (2^b - 1) with 0 as Sigma[0] and 1 as Sigma[1].    \n",
    "    \"\"\"\n",
    "    if (type(Sigma)==set):\n",
    "       S = list(Sigma)\n",
    "    else:\n",
    "       assert(type(Sigma)==list\n",
    "       ), \"Expected to be given set/list for arg2 of nthnumeric.\"\n",
    "       S = Sigma\n",
    "    assert(len(Sigma)==2\n",
    "          ),\"Expected to be given a Sigma of length 2.\"\n",
    "    if(N==0):\n",
    "        return ''\n",
    "    else:\n",
    "        width = floor(log(N+1, 2))\n",
    "        tofill = int(N - pow(2, width) + 1)\n",
    "        relevant_binstr = bin(tofill)[2::] # strip the 0b \n",
    "                                           # in the leading string\n",
    "        len_to_makeup = width - len(relevant_binstr)\n",
    "        return (S[0]*len_to_makeup + \n",
    "                shomo(relevant_binstr,\n",
    "                      lambda x: S[1] if x=='1' else S[0]))"
   ]
  },
  {
   "cell_type": "code",
   "execution_count": 88,
   "metadata": {
    "run_control": {
     "frozen": false,
     "read_only": false
    }
   },
   "outputs": [
    {
     "data": {
      "text/plain": [
       "'0101'"
      ]
     },
     "execution_count": 88,
     "metadata": {},
     "output_type": "execute_result"
    }
   ],
   "source": [
    "nthnumeric(20,['0','1'])"
   ]
  },
  {
   "cell_type": "code",
   "execution_count": 89,
   "metadata": {
    "run_control": {
     "frozen": false,
     "read_only": false
    }
   },
   "outputs": [
    {
     "data": {
      "text/plain": [
       "'S01'"
      ]
     },
     "execution_count": 89,
     "metadata": {},
     "output_type": "execute_result"
    }
   ],
   "source": [
    "run_dfa(secondLastIs1, '0101')"
   ]
  },
  {
   "cell_type": "code",
   "execution_count": 90,
   "metadata": {
    "run_control": {
     "frozen": false,
     "read_only": false
    }
   },
   "outputs": [
    {
     "data": {
      "text/plain": [
       "False"
      ]
     },
     "execution_count": 90,
     "metadata": {},
     "output_type": "execute_result"
    }
   ],
   "source": [
    "accepts_dfa(secondLastIs1, '0101')"
   ]
  },
  {
   "cell_type": "code",
   "execution_count": 91,
   "metadata": {
    "run_control": {
     "frozen": false,
     "read_only": false
    }
   },
   "outputs": [
    {
     "name": "stdout",
     "output_type": "stream",
     "text": [
      "This DFA rejects  \n",
      "This DFA rejects  0\n",
      "This DFA rejects  1\n",
      "This DFA rejects  00\n",
      "This DFA rejects  01\n",
      "This DFA accepts  10\n",
      "This DFA accepts  11\n",
      "This DFA rejects  000\n",
      "This DFA rejects  001\n",
      "This DFA accepts  010\n",
      "This DFA accepts  011\n",
      "This DFA rejects  100\n"
     ]
    }
   ],
   "source": [
    "tests = [ nthnumeric(i, ['0','1']) for i in range(12) ]\n",
    "for t in tests:\n",
    "    if accepts_dfa(secondLastIs1, t):\n",
    "        print(\"This DFA accepts \", t)\n",
    "    else:\n",
    "        print(\"This DFA rejects \", t)"
   ]
  },
  {
   "cell_type": "code",
   "execution_count": 92,
   "metadata": {
    "run_control": {
     "frozen": false,
     "read_only": false
    }
   },
   "outputs": [
    {
     "name": "stdout",
     "output_type": "stream",
     "text": [
      "Help on function run_dfa in module jove.Def_DFA:\n",
      "\n",
      "run_dfa(D, s)\n",
      "    In : D (consistent DFA)\n",
      "         s (string over D's sigma, including \"\")\n",
      "    Out: next state of D[\"q0\"] via string s\n",
      "\n"
     ]
    }
   ],
   "source": [
    "help(run_dfa)"
   ]
  },
  {
   "cell_type": "markdown",
   "metadata": {
    "run_control": {
     "frozen": false,
     "read_only": false
    }
   },
   "source": [
    "This is an extensive illustration of union, intersection and complementation, DFA minimization, isomorphism test, language equivalence test, and an application of DeMorgan's law"
   ]
  },
  {
   "cell_type": "code",
   "execution_count": 93,
   "metadata": {
    "run_control": {
     "frozen": false,
     "read_only": false
    }
   },
   "outputs": [
    {
     "name": "stderr",
     "output_type": "stream",
     "text": [
      "Generating LALR tables\n"
     ]
    }
   ],
   "source": [
    "dfaOdd1s = md2mc('''\n",
    "DFA\n",
    "I : 0 -> I\n",
    "I : 1 -> F\n",
    "F : 0 -> F \n",
    "F : 1 -> I\n",
    "''')"
   ]
  },
  {
   "cell_type": "code",
   "execution_count": 94,
   "metadata": {
    "run_control": {
     "frozen": false,
     "read_only": false
    }
   },
   "outputs": [
    {
     "data": {
      "image/svg+xml": [
       "<?xml version=\"1.0\" encoding=\"UTF-8\" standalone=\"no\"?>\n",
       "<!DOCTYPE svg PUBLIC \"-//W3C//DTD SVG 1.1//EN\"\n",
       " \"http://www.w3.org/Graphics/SVG/1.1/DTD/svg11.dtd\">\n",
       "<!-- Generated by graphviz version 2.38.0 (20140413.2041)\n",
       " -->\n",
       "<!-- Title: %3 Pages: 1 -->\n",
       "<svg width=\"222pt\" height=\"84pt\"\n",
       " viewBox=\"0.00 0.00 222.00 84.00\" xmlns=\"http://www.w3.org/2000/svg\" xmlns:xlink=\"http://www.w3.org/1999/xlink\">\n",
       "<g id=\"graph0\" class=\"graph\" transform=\"scale(1 1) rotate(0) translate(4 80)\">\n",
       "<title>%3</title>\n",
       "<polygon fill=\"white\" stroke=\"none\" points=\"-4,4 -4,-80 218,-80 218,4 -4,4\"/>\n",
       "<!-- EMPTY -->\n",
       "<g id=\"node1\" class=\"node\"><title>EMPTY</title>\n",
       "</g>\n",
       "<!-- I -->\n",
       "<g id=\"node2\" class=\"node\"><title>I</title>\n",
       "<ellipse fill=\"none\" stroke=\"black\" cx=\"109\" cy=\"-22\" rx=\"18\" ry=\"18\"/>\n",
       "<text text-anchor=\"middle\" x=\"109\" y=\"-17.8\" font-family=\"Times,serif\" font-size=\"14.00\">I</text>\n",
       "</g>\n",
       "<!-- EMPTY&#45;&gt;I -->\n",
       "<g id=\"edge1\" class=\"edge\"><title>EMPTY&#45;&gt;I</title>\n",
       "<path fill=\"none\" stroke=\"black\" d=\"M54.195,-22C62.6538,-22 72.0513,-22 80.5951,-22\"/>\n",
       "<polygon fill=\"black\" stroke=\"black\" points=\"80.8257,-25.5001 90.8257,-22 80.8257,-18.5001 80.8257,-25.5001\"/>\n",
       "</g>\n",
       "<!-- I&#45;&gt;I -->\n",
       "<g id=\"edge2\" class=\"edge\"><title>I&#45;&gt;I</title>\n",
       "<path fill=\"none\" stroke=\"black\" d=\"M102.621,-39.0373C101.319,-48.8579 103.445,-58 109,-58 112.472,-58 114.604,-54.4289 115.398,-49.3529\"/>\n",
       "<polygon fill=\"black\" stroke=\"black\" points=\"118.897,-49.031 115.379,-39.0373 111.897,-49.0435 118.897,-49.031\"/>\n",
       "<text text-anchor=\"middle\" x=\"109\" y=\"-60.8\" font-family=\"Times,serif\" font-size=\"14.00\">0</text>\n",
       "</g>\n",
       "<!-- F -->\n",
       "<g id=\"node3\" class=\"node\"><title>F</title>\n",
       "<ellipse fill=\"none\" stroke=\"black\" cx=\"192\" cy=\"-22\" rx=\"18\" ry=\"18\"/>\n",
       "<ellipse fill=\"none\" stroke=\"black\" cx=\"192\" cy=\"-22\" rx=\"22\" ry=\"22\"/>\n",
       "<text text-anchor=\"middle\" x=\"192\" y=\"-17.8\" font-family=\"Times,serif\" font-size=\"14.00\">F</text>\n",
       "</g>\n",
       "<!-- I&#45;&gt;F -->\n",
       "<g id=\"edge3\" class=\"edge\"><title>I&#45;&gt;F</title>\n",
       "<path fill=\"none\" stroke=\"black\" d=\"M127.178,-22C136.61,-22 148.601,-22 159.637,-22\"/>\n",
       "<polygon fill=\"black\" stroke=\"black\" points=\"159.811,-25.5001 169.811,-22 159.811,-18.5001 159.811,-25.5001\"/>\n",
       "<text text-anchor=\"middle\" x=\"148.5\" y=\"-24.8\" font-family=\"Times,serif\" font-size=\"14.00\">1</text>\n",
       "</g>\n",
       "<!-- F&#45;&gt;I -->\n",
       "<g id=\"edge5\" class=\"edge\"><title>F&#45;&gt;I</title>\n",
       "<path fill=\"none\" stroke=\"black\" d=\"M173.45,-9.63813C165.02,-5.13585 154.669,-1.65948 145,-4 141.26,-4.9053 137.472,-6.28328 133.838,-7.8822\"/>\n",
       "<polygon fill=\"black\" stroke=\"black\" points=\"132.086,-4.84541 124.717,-12.4577 135.225,-11.1023 132.086,-4.84541\"/>\n",
       "<text text-anchor=\"middle\" x=\"148.5\" y=\"-6.8\" font-family=\"Times,serif\" font-size=\"14.00\">1</text>\n",
       "</g>\n",
       "<!-- F&#45;&gt;F -->\n",
       "<g id=\"edge4\" class=\"edge\"><title>F&#45;&gt;F</title>\n",
       "<path fill=\"none\" stroke=\"black\" d=\"M184.317,-42.9908C183.369,-53.0872 185.93,-62 192,-62 195.889,-62 198.337,-58.3422 199.346,-53.0587\"/>\n",
       "<polygon fill=\"black\" stroke=\"black\" points=\"202.846,-53.1023 199.683,-42.9908 195.85,-52.868 202.846,-53.1023\"/>\n",
       "<text text-anchor=\"middle\" x=\"192\" y=\"-64.8\" font-family=\"Times,serif\" font-size=\"14.00\">0</text>\n",
       "</g>\n",
       "</g>\n",
       "</svg>\n"
      ],
      "text/plain": [
       "<graphviz.dot.Digraph at 0x10c82bc88>"
      ]
     },
     "execution_count": 94,
     "metadata": {},
     "output_type": "execute_result"
    }
   ],
   "source": [
    "dotObj_dfa(dfaOdd1s)"
   ]
  },
  {
   "cell_type": "code",
   "execution_count": 95,
   "metadata": {
    "run_control": {
     "frozen": false,
     "read_only": false
    }
   },
   "outputs": [
    {
     "data": {
      "text/plain": [
       "'// do_St33\\ndigraph {\\n\\tgraph [rankdir=LR]\\n\\t\\tEMPTY [label=\"\" shape=plaintext]\\n\\t\\tI [label=I peripheries=1 shape=circle]\\n\\t\\tF [label=F peripheries=2 shape=circle]\\n\\t\\t\\tEMPTY -> I\\n\\t\\t\\tI -> I [label=0]\\n\\t\\t\\tI -> F [label=1]\\n\\t\\t\\tF -> F [label=0]\\n\\t\\t\\tF -> I [label=1]\\n}'"
      ]
     },
     "execution_count": 95,
     "metadata": {},
     "output_type": "execute_result"
    }
   ],
   "source": [
    "dotObj_dfa(dfaOdd1s).source"
   ]
  },
  {
   "cell_type": "code",
   "execution_count": 96,
   "metadata": {
    "run_control": {
     "frozen": false,
     "read_only": false
    }
   },
   "outputs": [
    {
     "name": "stderr",
     "output_type": "stream",
     "text": [
      "Generating LALR tables\n"
     ]
    }
   ],
   "source": [
    "ends0101 = md2mc('''\n",
    "DFA \n",
    "I     : 0 -> S0  \n",
    "I     : 1 -> I \n",
    "S0    : 0 -> S0 \n",
    "S0    : 1 -> S01 \n",
    "S01   : 0 -> S010 \n",
    "S01   : 1 -> I \n",
    "S010  : 0 -> S0 \n",
    "S010  : 1 -> F0101 \n",
    "F0101 : 0 -> S010 \n",
    "F0101 : 1 -> I \n",
    "''')"
   ]
  },
  {
   "cell_type": "code",
   "execution_count": 97,
   "metadata": {
    "run_control": {
     "frozen": false,
     "read_only": false
    }
   },
   "outputs": [
    {
     "data": {
      "image/svg+xml": [
       "<?xml version=\"1.0\" encoding=\"UTF-8\" standalone=\"no\"?>\n",
       "<!DOCTYPE svg PUBLIC \"-//W3C//DTD SVG 1.1//EN\"\n",
       " \"http://www.w3.org/Graphics/SVG/1.1/DTD/svg11.dtd\">\n",
       "<!-- Generated by graphviz version 2.38.0 (20140413.2041)\n",
       " -->\n",
       "<!-- Title: %3 Pages: 1 -->\n",
       "<svg width=\"524pt\" height=\"142pt\"\n",
       " viewBox=\"0.00 0.00 523.64 141.58\" xmlns=\"http://www.w3.org/2000/svg\" xmlns:xlink=\"http://www.w3.org/1999/xlink\">\n",
       "<g id=\"graph0\" class=\"graph\" transform=\"scale(1 1) rotate(0) translate(4 137.581)\">\n",
       "<title>%3</title>\n",
       "<polygon fill=\"white\" stroke=\"none\" points=\"-4,4 -4,-137.581 519.636,-137.581 519.636,4 -4,4\"/>\n",
       "<!-- EMPTY -->\n",
       "<g id=\"node1\" class=\"node\"><title>EMPTY</title>\n",
       "</g>\n",
       "<!-- I -->\n",
       "<g id=\"node5\" class=\"node\"><title>I</title>\n",
       "<ellipse fill=\"none\" stroke=\"black\" cx=\"109\" cy=\"-50.7121\" rx=\"18\" ry=\"18\"/>\n",
       "<text text-anchor=\"middle\" x=\"109\" y=\"-46.5121\" font-family=\"Times,serif\" font-size=\"14.00\">I</text>\n",
       "</g>\n",
       "<!-- EMPTY&#45;&gt;I -->\n",
       "<g id=\"edge1\" class=\"edge\"><title>EMPTY&#45;&gt;I</title>\n",
       "<path fill=\"none\" stroke=\"black\" d=\"M54.195,-50.7121C62.6538,-50.7121 72.0513,-50.7121 80.5951,-50.7121\"/>\n",
       "<polygon fill=\"black\" stroke=\"black\" points=\"80.8257,-54.2122 90.8257,-50.7121 80.8257,-47.2122 80.8257,-54.2122\"/>\n",
       "</g>\n",
       "<!-- S01 -->\n",
       "<g id=\"node2\" class=\"node\"><title>S01</title>\n",
       "<ellipse fill=\"none\" stroke=\"black\" cx=\"275.762\" cy=\"-109.712\" rx=\"23.7379\" ry=\"23.7379\"/>\n",
       "<text text-anchor=\"middle\" x=\"275.762\" y=\"-105.512\" font-family=\"Times,serif\" font-size=\"14.00\">S01</text>\n",
       "</g>\n",
       "<!-- S010 -->\n",
       "<g id=\"node4\" class=\"node\"><title>S010</title>\n",
       "<ellipse fill=\"none\" stroke=\"black\" cx=\"370.921\" cy=\"-66.7121\" rx=\"28.0822\" ry=\"28.0822\"/>\n",
       "<text text-anchor=\"middle\" x=\"370.921\" y=\"-62.5121\" font-family=\"Times,serif\" font-size=\"14.00\">S010</text>\n",
       "</g>\n",
       "<!-- S01&#45;&gt;S010 -->\n",
       "<g id=\"edge6\" class=\"edge\"><title>S01&#45;&gt;S010</title>\n",
       "<path fill=\"none\" stroke=\"black\" d=\"M297.902,-99.9547C309.024,-94.8208 322.938,-88.3984 335.563,-82.5709\"/>\n",
       "<polygon fill=\"black\" stroke=\"black\" points=\"337.286,-85.6305 344.899,-78.2618 334.353,-79.2749 337.286,-85.6305\"/>\n",
       "<text text-anchor=\"middle\" x=\"321.131\" y=\"-94.5121\" font-family=\"Times,serif\" font-size=\"14.00\">0</text>\n",
       "</g>\n",
       "<!-- S01&#45;&gt;I -->\n",
       "<g id=\"edge7\" class=\"edge\"><title>S01&#45;&gt;I</title>\n",
       "<path fill=\"none\" stroke=\"black\" d=\"M252.132,-114.874C230.234,-118.751 196.551,-121.71 170,-110.712 151.854,-103.196 136.335,-87.2339 125.628,-73.6623\"/>\n",
       "<polygon fill=\"black\" stroke=\"black\" points=\"128.399,-71.5237 119.603,-65.6178 122.796,-75.72 128.399,-71.5237\"/>\n",
       "<text text-anchor=\"middle\" x=\"189.447\" y=\"-120.512\" font-family=\"Times,serif\" font-size=\"14.00\">1</text>\n",
       "</g>\n",
       "<!-- S0 -->\n",
       "<g id=\"node3\" class=\"node\"><title>S0</title>\n",
       "<ellipse fill=\"none\" stroke=\"black\" cx=\"189.447\" cy=\"-50.7121\" rx=\"19.3939\" ry=\"19.3939\"/>\n",
       "<text text-anchor=\"middle\" x=\"189.447\" y=\"-46.5121\" font-family=\"Times,serif\" font-size=\"14.00\">S0</text>\n",
       "</g>\n",
       "<!-- S0&#45;&gt;S01 -->\n",
       "<g id=\"edge5\" class=\"edge\"><title>S0&#45;&gt;S01</title>\n",
       "<path fill=\"none\" stroke=\"black\" d=\"M205.912,-61.5336C217.565,-69.6882 233.842,-81.0776 247.643,-90.7354\"/>\n",
       "<polygon fill=\"black\" stroke=\"black\" points=\"245.653,-93.6148 255.853,-96.4805 249.667,-87.8795 245.653,-93.6148\"/>\n",
       "<text text-anchor=\"middle\" x=\"230.394\" y=\"-83.5121\" font-family=\"Times,serif\" font-size=\"14.00\">1</text>\n",
       "</g>\n",
       "<!-- S0&#45;&gt;S0 -->\n",
       "<g id=\"edge4\" class=\"edge\"><title>S0&#45;&gt;S0</title>\n",
       "<path fill=\"none\" stroke=\"black\" d=\"M182.306,-68.8217C180.973,-78.8886 183.353,-88.1589 189.447,-88.1589 193.351,-88.1589 195.731,-84.3544 196.586,-78.9732\"/>\n",
       "<polygon fill=\"black\" stroke=\"black\" points=\"200.086,-78.8223 196.588,-68.8217 193.086,-78.8211 200.086,-78.8223\"/>\n",
       "<text text-anchor=\"middle\" x=\"189.447\" y=\"-90.9589\" font-family=\"Times,serif\" font-size=\"14.00\">0</text>\n",
       "</g>\n",
       "<!-- S010&#45;&gt;S0 -->\n",
       "<g id=\"edge8\" class=\"edge\"><title>S010&#45;&gt;S0</title>\n",
       "<path fill=\"none\" stroke=\"black\" d=\"M342.458,-64.2638C309.094,-61.2894 253.074,-56.2952 219.156,-53.2715\"/>\n",
       "<polygon fill=\"black\" stroke=\"black\" points=\"219.249,-49.766 208.978,-52.3641 218.627,-56.7383 219.249,-49.766\"/>\n",
       "<text text-anchor=\"middle\" x=\"275.762\" y=\"-63.5121\" font-family=\"Times,serif\" font-size=\"14.00\">0</text>\n",
       "</g>\n",
       "<!-- F0101 -->\n",
       "<g id=\"node6\" class=\"node\"><title>F0101</title>\n",
       "<ellipse fill=\"none\" stroke=\"black\" cx=\"478.924\" cy=\"-36.7121\" rx=\"32.9021\" ry=\"32.9021\"/>\n",
       "<ellipse fill=\"none\" stroke=\"black\" cx=\"478.924\" cy=\"-36.7121\" rx=\"36.9254\" ry=\"36.9254\"/>\n",
       "<text text-anchor=\"middle\" x=\"478.924\" y=\"-32.5121\" font-family=\"Times,serif\" font-size=\"14.00\">F0101</text>\n",
       "</g>\n",
       "<!-- S010&#45;&gt;F0101 -->\n",
       "<g id=\"edge9\" class=\"edge\"><title>S010&#45;&gt;F0101</title>\n",
       "<path fill=\"none\" stroke=\"black\" d=\"M398.397,-59.2192C409.032,-56.2092 421.588,-52.6558 433.543,-49.2725\"/>\n",
       "<polygon fill=\"black\" stroke=\"black\" points=\"434.719,-52.5772 443.388,-46.4862 432.812,-45.8417 434.719,-52.5772\"/>\n",
       "<text text-anchor=\"middle\" x=\"420.712\" y=\"-56.5121\" font-family=\"Times,serif\" font-size=\"14.00\">1</text>\n",
       "</g>\n",
       "<!-- I&#45;&gt;S0 -->\n",
       "<g id=\"edge2\" class=\"edge\"><title>I&#45;&gt;S0</title>\n",
       "<path fill=\"none\" stroke=\"black\" d=\"M127.022,-50.7121C136.583,-50.7121 148.77,-50.7121 159.763,-50.7121\"/>\n",
       "<polygon fill=\"black\" stroke=\"black\" points=\"159.813,-54.2122 169.813,-50.7121 159.813,-47.2122 159.813,-54.2122\"/>\n",
       "<text text-anchor=\"middle\" x=\"148.5\" y=\"-53.5121\" font-family=\"Times,serif\" font-size=\"14.00\">0</text>\n",
       "</g>\n",
       "<!-- I&#45;&gt;I -->\n",
       "<g id=\"edge3\" class=\"edge\"><title>I&#45;&gt;I</title>\n",
       "<path fill=\"none\" stroke=\"black\" d=\"M102.621,-67.7494C101.319,-77.57 103.445,-86.7121 109,-86.7121 112.472,-86.7121 114.604,-83.1409 115.398,-78.065\"/>\n",
       "<polygon fill=\"black\" stroke=\"black\" points=\"118.897,-77.7431 115.379,-67.7494 111.897,-77.7556 118.897,-77.7431\"/>\n",
       "<text text-anchor=\"middle\" x=\"109\" y=\"-89.5121\" font-family=\"Times,serif\" font-size=\"14.00\">1</text>\n",
       "</g>\n",
       "<!-- F0101&#45;&gt;S010 -->\n",
       "<g id=\"edge10\" class=\"edge\"><title>F0101&#45;&gt;S010</title>\n",
       "<path fill=\"none\" stroke=\"black\" d=\"M442.376,-31.5488C433.973,-31.4149 425.152,-32.1899 417.212,-34.7121 411.568,-36.5045 406.023,-39.2825 400.854,-42.4692\"/>\n",
       "<polygon fill=\"black\" stroke=\"black\" points=\"398.856,-39.5953 392.559,-48.1159 402.795,-45.3818 398.856,-39.5953\"/>\n",
       "<text text-anchor=\"middle\" x=\"420.712\" y=\"-37.5121\" font-family=\"Times,serif\" font-size=\"14.00\">0</text>\n",
       "</g>\n",
       "<!-- F0101&#45;&gt;I -->\n",
       "<g id=\"edge11\" class=\"edge\"><title>F0101&#45;&gt;I</title>\n",
       "<path fill=\"none\" stroke=\"black\" d=\"M445.314,-20.9853C424.751,-12.4857 397.363,-3.71207 371.921,-3.71207 188.447,-3.71207 188.447,-3.71207 188.447,-3.71207 165.942,-3.71207 144.308,-18.1221 129.48,-30.9841\"/>\n",
       "<polygon fill=\"black\" stroke=\"black\" points=\"126.98,-28.528 121.981,-37.8691 131.714,-33.6846 126.98,-28.528\"/>\n",
       "<text text-anchor=\"middle\" x=\"275.762\" y=\"-6.51207\" font-family=\"Times,serif\" font-size=\"14.00\">1</text>\n",
       "</g>\n",
       "</g>\n",
       "</svg>\n"
      ],
      "text/plain": [
       "<graphviz.dot.Digraph at 0x10c16afd0>"
      ]
     },
     "execution_count": 97,
     "metadata": {},
     "output_type": "execute_result"
    }
   ],
   "source": [
    "dotObj_dfa(ends0101)"
   ]
  },
  {
   "cell_type": "code",
   "execution_count": 98,
   "metadata": {
    "run_control": {
     "frozen": false,
     "read_only": false
    }
   },
   "outputs": [
    {
     "data": {
      "text/plain": [
       "'// do_St35\\ndigraph {\\n\\tgraph [rankdir=LR]\\n\\t\\tEMPTY [label=\"\" shape=plaintext]\\n\\t\\tS01 [label=S01 peripheries=1 shape=circle]\\n\\t\\tS0 [label=S0 peripheries=1 shape=circle]\\n\\t\\tS010 [label=S010 peripheries=1 shape=circle]\\n\\t\\tI [label=I peripheries=1 shape=circle]\\n\\t\\tF0101 [label=F0101 peripheries=2 shape=circle]\\n\\t\\t\\tEMPTY -> I\\n\\t\\t\\tI -> S0 [label=0]\\n\\t\\t\\tI -> I [label=1]\\n\\t\\t\\tS0 -> S0 [label=0]\\n\\t\\t\\tS0 -> S01 [label=1]\\n\\t\\t\\tS01 -> S010 [label=0]\\n\\t\\t\\tS01 -> I [label=1]\\n\\t\\t\\tS010 -> S0 [label=0]\\n\\t\\t\\tS010 -> F0101 [label=1]\\n\\t\\t\\tF0101 -> S010 [label=0]\\n\\t\\t\\tF0101 -> I [label=1]\\n}'"
      ]
     },
     "execution_count": 98,
     "metadata": {},
     "output_type": "execute_result"
    }
   ],
   "source": [
    "dotObj_dfa(ends0101).source"
   ]
  },
  {
   "cell_type": "code",
   "execution_count": 99,
   "metadata": {
    "run_control": {
     "frozen": false,
     "read_only": false
    }
   },
   "outputs": [],
   "source": [
    "odd1sORends0101 = union_dfa(dfaOdd1s,ends0101)"
   ]
  },
  {
   "cell_type": "code",
   "execution_count": 100,
   "metadata": {
    "run_control": {
     "frozen": false,
     "read_only": false
    }
   },
   "outputs": [
    {
     "data": {
      "image/svg+xml": [
       "<?xml version=\"1.0\" encoding=\"UTF-8\" standalone=\"no\"?>\n",
       "<!DOCTYPE svg PUBLIC \"-//W3C//DTD SVG 1.1//EN\"\n",
       " \"http://www.w3.org/Graphics/SVG/1.1/DTD/svg11.dtd\">\n",
       "<!-- Generated by graphviz version 2.38.0 (20140413.2041)\n",
       " -->\n",
       "<!-- Title: %3 Pages: 1 -->\n",
       "<svg width=\"1288pt\" height=\"380pt\"\n",
       " viewBox=\"0.00 0.00 1288.34 380.00\" xmlns=\"http://www.w3.org/2000/svg\" xmlns:xlink=\"http://www.w3.org/1999/xlink\">\n",
       "<g id=\"graph0\" class=\"graph\" transform=\"scale(1 1) rotate(0) translate(4 376)\">\n",
       "<title>%3</title>\n",
       "<polygon fill=\"white\" stroke=\"none\" points=\"-4,4 -4,-376 1284.34,-376 1284.34,4 -4,4\"/>\n",
       "<!-- EMPTY -->\n",
       "<g id=\"node1\" class=\"node\"><title>EMPTY</title>\n",
       "</g>\n",
       "<!-- \\(I_I\\) -->\n",
       "<g id=\"node5\" class=\"node\"><title>\\(I_I\\)</title>\n",
       "<ellipse fill=\"none\" stroke=\"black\" cx=\"117.308\" cy=\"-173\" rx=\"26.118\" ry=\"26.118\"/>\n",
       "<text text-anchor=\"middle\" x=\"117.308\" y=\"-168.8\" font-family=\"Times,serif\" font-size=\"14.00\">(I_I)</text>\n",
       "</g>\n",
       "<!-- EMPTY&#45;&gt;\\(I_I\\) -->\n",
       "<g id=\"edge1\" class=\"edge\"><title>EMPTY&#45;&gt;\\(I_I\\)</title>\n",
       "<path fill=\"none\" stroke=\"black\" d=\"M54.0178,-173C62.3552,-173 71.7368,-173 80.64,-173\"/>\n",
       "<polygon fill=\"black\" stroke=\"black\" points=\"80.7808,-176.5 90.7807,-173 80.7807,-169.5 80.7808,-176.5\"/>\n",
       "</g>\n",
       "<!-- \\(I_S01\\) -->\n",
       "<g id=\"node2\" class=\"node\"><title>\\(I_S01\\)</title>\n",
       "<ellipse fill=\"none\" stroke=\"black\" cx=\"970.241\" cy=\"-155\" rx=\"37.2507\" ry=\"37.2507\"/>\n",
       "<text text-anchor=\"middle\" x=\"970.241\" y=\"-150.8\" font-family=\"Times,serif\" font-size=\"14.00\">(I_S01)</text>\n",
       "</g>\n",
       "<!-- \\(I_S010\\) -->\n",
       "<g id=\"node3\" class=\"node\"><title>\\(I_S010\\)</title>\n",
       "<ellipse fill=\"none\" stroke=\"black\" cx=\"1091.91\" cy=\"-155\" rx=\"41.5938\" ry=\"41.5938\"/>\n",
       "<text text-anchor=\"middle\" x=\"1091.91\" y=\"-150.8\" font-family=\"Times,serif\" font-size=\"14.00\">(I_S010)</text>\n",
       "</g>\n",
       "<!-- \\(I_S01\\)&#45;&gt;\\(I_S010\\) -->\n",
       "<g id=\"edge3\" class=\"edge\"><title>\\(I_S01\\)&#45;&gt;\\(I_S010\\)</title>\n",
       "<path fill=\"none\" stroke=\"black\" d=\"M1007.47,-155C1017.69,-155 1029,-155 1039.91,-155\"/>\n",
       "<polygon fill=\"black\" stroke=\"black\" points=\"1040.2,-158.5 1050.2,-155 1040.2,-151.5 1040.2,-158.5\"/>\n",
       "<text text-anchor=\"middle\" x=\"1028.87\" y=\"-157.8\" font-family=\"Times,serif\" font-size=\"14.00\">0</text>\n",
       "</g>\n",
       "<!-- \\(F_I\\) -->\n",
       "<g id=\"node7\" class=\"node\"><title>\\(F_I\\)</title>\n",
       "<ellipse fill=\"none\" stroke=\"black\" cx=\"737.48\" cy=\"-252\" rx=\"28.0917\" ry=\"28.0917\"/>\n",
       "<ellipse fill=\"none\" stroke=\"black\" cx=\"737.48\" cy=\"-252\" rx=\"32.0649\" ry=\"32.0649\"/>\n",
       "<text text-anchor=\"middle\" x=\"737.48\" y=\"-247.8\" font-family=\"Times,serif\" font-size=\"14.00\">(F_I)</text>\n",
       "</g>\n",
       "<!-- \\(I_S01\\)&#45;&gt;\\(F_I\\) -->\n",
       "<g id=\"edge14\" class=\"edge\"><title>\\(I_S01\\)&#45;&gt;\\(F_I\\)</title>\n",
       "<path fill=\"none\" stroke=\"black\" d=\"M947.865,-185.21C933.632,-202.836 913.32,-223.755 890.115,-235 855.633,-251.711 811.707,-254.965 780.017,-254.634\"/>\n",
       "<polygon fill=\"black\" stroke=\"black\" points=\"779.849,-251.129 769.771,-254.398 779.688,-258.127 779.849,-251.129\"/>\n",
       "<text text-anchor=\"middle\" x=\"851.439\" y=\"-256.8\" font-family=\"Times,serif\" font-size=\"14.00\">1</text>\n",
       "</g>\n",
       "<!-- \\(I_S0\\) -->\n",
       "<g id=\"node4\" class=\"node\"><title>\\(I_S0\\)</title>\n",
       "<ellipse fill=\"none\" stroke=\"black\" cx=\"219.32\" cy=\"-72\" rx=\"32.9081\" ry=\"32.9081\"/>\n",
       "<text text-anchor=\"middle\" x=\"219.32\" y=\"-67.8\" font-family=\"Times,serif\" font-size=\"14.00\">(I_S0)</text>\n",
       "</g>\n",
       "<!-- \\(I_S010\\)&#45;&gt;\\(I_S0\\) -->\n",
       "<g id=\"edge10\" class=\"edge\"><title>\\(I_S010\\)&#45;&gt;\\(I_S0\\)</title>\n",
       "<path fill=\"none\" stroke=\"black\" d=\"M1056.77,-131.885C1002.99,-97.7872 894.167,-38 792.262,-38 337.122,-38 337.122,-38 337.122,-38 310.262,-38 281.262,-46.3914 258.878,-54.8366\"/>\n",
       "<polygon fill=\"black\" stroke=\"black\" points=\"257.429,-51.6454 249.404,-58.5623 259.991,-58.1598 257.429,-51.6454\"/>\n",
       "<text text-anchor=\"middle\" x=\"683.698\" y=\"-40.8\" font-family=\"Times,serif\" font-size=\"14.00\">0</text>\n",
       "</g>\n",
       "<!-- \\(F_F0101\\) -->\n",
       "<g id=\"node10\" class=\"node\"><title>\\(F_F0101\\)</title>\n",
       "<ellipse fill=\"none\" stroke=\"black\" cx=\"1228.4\" cy=\"-84\" rx=\"47.8885\" ry=\"47.8885\"/>\n",
       "<ellipse fill=\"none\" stroke=\"black\" cx=\"1228.4\" cy=\"-84\" rx=\"51.8841\" ry=\"51.8841\"/>\n",
       "<text text-anchor=\"middle\" x=\"1228.4\" y=\"-79.8\" font-family=\"Times,serif\" font-size=\"14.00\">(F_F0101)</text>\n",
       "</g>\n",
       "<!-- \\(I_S010\\)&#45;&gt;\\(F_F0101\\) -->\n",
       "<g id=\"edge6\" class=\"edge\"><title>\\(I_S010\\)&#45;&gt;\\(F_F0101\\)</title>\n",
       "<path fill=\"none\" stroke=\"black\" d=\"M1128.95,-135.973C1142.48,-128.83 1158.18,-120.543 1173.01,-112.714\"/>\n",
       "<polygon fill=\"black\" stroke=\"black\" points=\"1174.9,-115.676 1182.11,-107.912 1171.63,-109.486 1174.9,-115.676\"/>\n",
       "<text text-anchor=\"middle\" x=\"1154.96\" y=\"-126.8\" font-family=\"Times,serif\" font-size=\"14.00\">1</text>\n",
       "</g>\n",
       "<!-- \\(I_S0\\)&#45;&gt;\\(I_S0\\) -->\n",
       "<g id=\"edge17\" class=\"edge\"><title>\\(I_S0\\)&#45;&gt;\\(I_S0\\)</title>\n",
       "<path fill=\"none\" stroke=\"black\" d=\"M209.198,-103.193C209.09,-113.987 212.465,-122.703 219.32,-122.703 223.819,-122.703 226.819,-118.949 228.319,-113.318\"/>\n",
       "<polygon fill=\"black\" stroke=\"black\" points=\"231.818,-113.518 229.443,-103.193 224.861,-112.746 231.818,-113.518\"/>\n",
       "<text text-anchor=\"middle\" x=\"219.32\" y=\"-125.503\" font-family=\"Times,serif\" font-size=\"14.00\">0</text>\n",
       "</g>\n",
       "<!-- \\(F_S01\\) -->\n",
       "<g id=\"node9\" class=\"node\"><title>\\(F_S01\\)</title>\n",
       "<ellipse fill=\"none\" stroke=\"black\" cx=\"338.122\" cy=\"-155\" rx=\"39.1881\" ry=\"39.1881\"/>\n",
       "<ellipse fill=\"none\" stroke=\"black\" cx=\"338.122\" cy=\"-155\" rx=\"43.1973\" ry=\"43.1973\"/>\n",
       "<text text-anchor=\"middle\" x=\"338.122\" y=\"-150.8\" font-family=\"Times,serif\" font-size=\"14.00\">(F_S01)</text>\n",
       "</g>\n",
       "<!-- \\(I_S0\\)&#45;&gt;\\(F_S01\\) -->\n",
       "<g id=\"edge20\" class=\"edge\"><title>\\(I_S0\\)&#45;&gt;\\(F_S01\\)</title>\n",
       "<path fill=\"none\" stroke=\"black\" d=\"M246.533,-90.6268C260.623,-100.639 278.348,-113.235 294.375,-124.623\"/>\n",
       "<polygon fill=\"black\" stroke=\"black\" points=\"292.394,-127.51 302.573,-130.449 296.449,-121.803 292.394,-127.51\"/>\n",
       "<text text-anchor=\"middle\" x=\"273.524\" y=\"-114.8\" font-family=\"Times,serif\" font-size=\"14.00\">1</text>\n",
       "</g>\n",
       "<!-- \\(I_I\\)&#45;&gt;\\(I_S0\\) -->\n",
       "<g id=\"edge21\" class=\"edge\"><title>\\(I_I\\)&#45;&gt;\\(I_S0\\)</title>\n",
       "<path fill=\"none\" stroke=\"black\" d=\"M136.652,-154.475C151.029,-139.956 171.338,-119.446 188.107,-102.512\"/>\n",
       "<polygon fill=\"black\" stroke=\"black\" points=\"190.979,-104.586 195.528,-95.0172 186.005,-99.6603 190.979,-104.586\"/>\n",
       "<text text-anchor=\"middle\" x=\"165.117\" y=\"-131.8\" font-family=\"Times,serif\" font-size=\"14.00\">0</text>\n",
       "</g>\n",
       "<!-- \\(I_I\\)&#45;&gt;\\(F_I\\) -->\n",
       "<g id=\"edge18\" class=\"edge\"><title>\\(I_I\\)&#45;&gt;\\(F_I\\)</title>\n",
       "<path fill=\"none\" stroke=\"black\" d=\"M120.51,-199.506C126.362,-250.66 147.124,-358 218.32,-358 218.32,-358 218.32,-358 613.23,-358 657.214,-358 693.323,-318.715 714.844,-287.977\"/>\n",
       "<polygon fill=\"black\" stroke=\"black\" points=\"717.824,-289.819 720.522,-279.574 712.023,-285.9 717.824,-289.819\"/>\n",
       "<text text-anchor=\"middle\" x=\"402.721\" y=\"-360.8\" font-family=\"Times,serif\" font-size=\"14.00\">1</text>\n",
       "</g>\n",
       "<!-- \\(I_F0101\\) -->\n",
       "<g id=\"node6\" class=\"node\"><title>\\(I_F0101\\)</title>\n",
       "<ellipse fill=\"none\" stroke=\"black\" cx=\"612.23\" cy=\"-242\" rx=\"45.9398\" ry=\"45.9398\"/>\n",
       "<ellipse fill=\"none\" stroke=\"black\" cx=\"612.23\" cy=\"-242\" rx=\"49.9373\" ry=\"49.9373\"/>\n",
       "<text text-anchor=\"middle\" x=\"612.23\" y=\"-237.8\" font-family=\"Times,serif\" font-size=\"14.00\">(I_F0101)</text>\n",
       "</g>\n",
       "<!-- \\(I_F0101\\)&#45;&gt;\\(I_S010\\) -->\n",
       "<g id=\"edge4\" class=\"edge\"><title>\\(I_F0101\\)&#45;&gt;\\(I_S010\\)</title>\n",
       "<path fill=\"none\" stroke=\"black\" d=\"M654.7,-268.664C689.473,-288.446 741.182,-312 790.262,-312 790.262,-312 790.262,-312 971.241,-312 1026.11,-312 1059.16,-250.587 1076.22,-204.58\"/>\n",
       "<polygon fill=\"black\" stroke=\"black\" points=\"1079.56,-205.619 1079.62,-195.024 1072.97,-203.273 1079.56,-205.619\"/>\n",
       "<text text-anchor=\"middle\" x=\"851.439\" y=\"-314.8\" font-family=\"Times,serif\" font-size=\"14.00\">0</text>\n",
       "</g>\n",
       "<!-- \\(I_F0101\\)&#45;&gt;\\(F_I\\) -->\n",
       "<g id=\"edge15\" class=\"edge\"><title>\\(I_F0101\\)&#45;&gt;\\(F_I\\)</title>\n",
       "<path fill=\"none\" stroke=\"black\" d=\"M662.296,-245.981C673.07,-246.855 684.379,-247.773 694.829,-248.621\"/>\n",
       "<polygon fill=\"black\" stroke=\"black\" points=\"694.691,-252.121 704.941,-249.441 695.257,-245.144 694.691,-252.121\"/>\n",
       "<text text-anchor=\"middle\" x=\"683.698\" y=\"-250.8\" font-family=\"Times,serif\" font-size=\"14.00\">1</text>\n",
       "</g>\n",
       "<!-- \\(F_I\\)&#45;&gt;\\(I_I\\) -->\n",
       "<g id=\"edge2\" class=\"edge\"><title>\\(F_I\\)&#45;&gt;\\(I_I\\)</title>\n",
       "<path fill=\"none\" stroke=\"black\" d=\"M713.54,-273.89C690.221,-293.768 652.087,-320 613.23,-320 218.32,-320 218.32,-320 218.32,-320 164.596,-320 137.695,-252.053 125.977,-208.549\"/>\n",
       "<polygon fill=\"black\" stroke=\"black\" points=\"129.305,-207.433 123.446,-198.605 122.521,-209.16 129.305,-207.433\"/>\n",
       "<text text-anchor=\"middle\" x=\"402.721\" y=\"-322.8\" font-family=\"Times,serif\" font-size=\"14.00\">1</text>\n",
       "</g>\n",
       "<!-- \\(F_S0\\) -->\n",
       "<g id=\"node8\" class=\"node\"><title>\\(F_S0\\)</title>\n",
       "<ellipse fill=\"none\" stroke=\"black\" cx=\"851.439\" cy=\"-155\" rx=\"34.836\" ry=\"34.836\"/>\n",
       "<ellipse fill=\"none\" stroke=\"black\" cx=\"851.439\" cy=\"-155\" rx=\"38.8544\" ry=\"38.8544\"/>\n",
       "<text text-anchor=\"middle\" x=\"851.439\" y=\"-150.8\" font-family=\"Times,serif\" font-size=\"14.00\">(F_S0)</text>\n",
       "</g>\n",
       "<!-- \\(F_I\\)&#45;&gt;\\(F_S0\\) -->\n",
       "<g id=\"edge13\" class=\"edge\"><title>\\(F_I\\)&#45;&gt;\\(F_S0\\)</title>\n",
       "<path fill=\"none\" stroke=\"black\" d=\"M762.498,-231.191C777.406,-218.274 796.863,-201.417 813.684,-186.844\"/>\n",
       "<polygon fill=\"black\" stroke=\"black\" points=\"816.432,-189.094 821.698,-179.9 811.849,-183.803 816.432,-189.094\"/>\n",
       "<text text-anchor=\"middle\" x=\"791.262\" y=\"-209.8\" font-family=\"Times,serif\" font-size=\"14.00\">0</text>\n",
       "</g>\n",
       "<!-- \\(F_S0\\)&#45;&gt;\\(I_S01\\) -->\n",
       "<g id=\"edge12\" class=\"edge\"><title>\\(F_S0\\)&#45;&gt;\\(I_S01\\)</title>\n",
       "<path fill=\"none\" stroke=\"black\" d=\"M890.361,-155C900.76,-155 912.15,-155 922.961,-155\"/>\n",
       "<polygon fill=\"black\" stroke=\"black\" points=\"923.097,-158.5 933.097,-155 923.097,-151.5 923.097,-158.5\"/>\n",
       "<text text-anchor=\"middle\" x=\"911.615\" y=\"-157.8\" font-family=\"Times,serif\" font-size=\"14.00\">1</text>\n",
       "</g>\n",
       "<!-- \\(F_S0\\)&#45;&gt;\\(F_S0\\) -->\n",
       "<g id=\"edge19\" class=\"edge\"><title>\\(F_S0\\)&#45;&gt;\\(F_S0\\)</title>\n",
       "<path fill=\"none\" stroke=\"black\" d=\"M840.213,-192.067C840.548,-203.095 844.29,-211.677 851.439,-211.677 856.13,-211.677 859.354,-207.981 861.111,-202.324\"/>\n",
       "<polygon fill=\"black\" stroke=\"black\" points=\"864.627,-202.479 862.664,-192.067 857.706,-201.43 864.627,-202.479\"/>\n",
       "<text text-anchor=\"middle\" x=\"851.439\" y=\"-214.477\" font-family=\"Times,serif\" font-size=\"14.00\">0</text>\n",
       "</g>\n",
       "<!-- \\(F_S01\\)&#45;&gt;\\(I_I\\) -->\n",
       "<g id=\"edge5\" class=\"edge\"><title>\\(F_S01\\)&#45;&gt;\\(I_I\\)</title>\n",
       "<path fill=\"none\" stroke=\"black\" d=\"M294.911,-158.472C254.005,-161.837 192.646,-166.885 154.076,-170.058\"/>\n",
       "<polygon fill=\"black\" stroke=\"black\" points=\"153.517,-166.592 143.837,-170.9 154.091,-173.568 153.517,-166.592\"/>\n",
       "<text text-anchor=\"middle\" x=\"219.32\" y=\"-170.8\" font-family=\"Times,serif\" font-size=\"14.00\">1</text>\n",
       "</g>\n",
       "<!-- \\(F_S010\\) -->\n",
       "<g id=\"node11\" class=\"node\"><title>\\(F_S010\\)</title>\n",
       "<ellipse fill=\"none\" stroke=\"black\" cx=\"471.741\" cy=\"-155\" rx=\"43.5388\" ry=\"43.5388\"/>\n",
       "<ellipse fill=\"none\" stroke=\"black\" cx=\"471.741\" cy=\"-155\" rx=\"47.5405\" ry=\"47.5405\"/>\n",
       "<text text-anchor=\"middle\" x=\"471.741\" y=\"-150.8\" font-family=\"Times,serif\" font-size=\"14.00\">(F_S010)</text>\n",
       "</g>\n",
       "<!-- \\(F_S01\\)&#45;&gt;\\(F_S010\\) -->\n",
       "<g id=\"edge8\" class=\"edge\"><title>\\(F_S01\\)&#45;&gt;\\(F_S010\\)</title>\n",
       "<path fill=\"none\" stroke=\"black\" d=\"M381.492,-155C391.742,-155 402.866,-155 413.67,-155\"/>\n",
       "<polygon fill=\"black\" stroke=\"black\" points=\"413.891,-158.5 423.891,-155 413.891,-151.5 413.891,-158.5\"/>\n",
       "<text text-anchor=\"middle\" x=\"402.721\" y=\"-157.8\" font-family=\"Times,serif\" font-size=\"14.00\">0</text>\n",
       "</g>\n",
       "<!-- \\(F_F0101\\)&#45;&gt;\\(I_I\\) -->\n",
       "<g id=\"edge7\" class=\"edge\"><title>\\(F_F0101\\)&#45;&gt;\\(I_I\\)</title>\n",
       "<path fill=\"none\" stroke=\"black\" d=\"M1191.96,-46.6672C1166.75,-24.2329 1130.76,-0 1092.91,-0 218.32,-0 218.32,-0 218.32,-0 155.679,-0 131.649,-86.0621 122.925,-136.785\"/>\n",
       "<polygon fill=\"black\" stroke=\"black\" points=\"119.459,-136.297 121.333,-146.725 126.371,-137.405 119.459,-136.297\"/>\n",
       "<text text-anchor=\"middle\" x=\"683.698\" y=\"-2.8\" font-family=\"Times,serif\" font-size=\"14.00\">1</text>\n",
       "</g>\n",
       "<!-- \\(F_F0101\\)&#45;&gt;\\(F_S010\\) -->\n",
       "<g id=\"edge9\" class=\"edge\"><title>\\(F_F0101\\)&#45;&gt;\\(F_S010\\)</title>\n",
       "<path fill=\"none\" stroke=\"black\" d=\"M1176.31,-84C1151.19,-84 1120.46,-84 1092.91,-84 611.23,-84 611.23,-84 611.23,-84 577.124,-84 542.981,-101.263 517.129,-118.764\"/>\n",
       "<polygon fill=\"black\" stroke=\"black\" points=\"514.868,-116.075 508.692,-124.684 518.889,-121.805 514.868,-116.075\"/>\n",
       "<text text-anchor=\"middle\" x=\"851.439\" y=\"-86.8\" font-family=\"Times,serif\" font-size=\"14.00\">0</text>\n",
       "</g>\n",
       "<!-- \\(F_S010\\)&#45;&gt;\\(I_F0101\\) -->\n",
       "<g id=\"edge16\" class=\"edge\"><title>\\(F_S010\\)&#45;&gt;\\(I_F0101\\)</title>\n",
       "<path fill=\"none\" stroke=\"black\" d=\"M512.426,-179.931C527.533,-189.421 544.95,-200.362 560.913,-210.391\"/>\n",
       "<polygon fill=\"black\" stroke=\"black\" points=\"559.278,-213.497 569.608,-215.853 563.002,-207.57 559.278,-213.497\"/>\n",
       "<text text-anchor=\"middle\" x=\"540.761\" y=\"-201.8\" font-family=\"Times,serif\" font-size=\"14.00\">1</text>\n",
       "</g>\n",
       "<!-- \\(F_S010\\)&#45;&gt;\\(F_S0\\) -->\n",
       "<g id=\"edge11\" class=\"edge\"><title>\\(F_S010\\)&#45;&gt;\\(F_S0\\)</title>\n",
       "<path fill=\"none\" stroke=\"black\" d=\"M519.433,-155C591.576,-155 729.416,-155 802.379,-155\"/>\n",
       "<polygon fill=\"black\" stroke=\"black\" points=\"802.658,-158.5 812.658,-155 802.658,-151.5 802.658,-158.5\"/>\n",
       "<text text-anchor=\"middle\" x=\"683.698\" y=\"-157.8\" font-family=\"Times,serif\" font-size=\"14.00\">0</text>\n",
       "</g>\n",
       "</g>\n",
       "</svg>\n"
      ],
      "text/plain": [
       "<graphviz.dot.Digraph at 0x10c821d68>"
      ]
     },
     "execution_count": 100,
     "metadata": {},
     "output_type": "execute_result"
    }
   ],
   "source": [
    "dotObj_dfa(odd1sORends0101)"
   ]
  },
  {
   "cell_type": "code",
   "execution_count": 101,
   "metadata": {
    "run_control": {
     "frozen": false,
     "read_only": false
    }
   },
   "outputs": [
    {
     "data": {
      "image/svg+xml": [
       "<?xml version=\"1.0\" encoding=\"UTF-8\" standalone=\"no\"?>\n",
       "<!DOCTYPE svg PUBLIC \"-//W3C//DTD SVG 1.1//EN\"\n",
       " \"http://www.w3.org/Graphics/SVG/1.1/DTD/svg11.dtd\">\n",
       "<!-- Generated by graphviz version 2.38.0 (20140413.2041)\n",
       " -->\n",
       "<!-- Title: %3 Pages: 1 -->\n",
       "<svg width=\"1288pt\" height=\"380pt\"\n",
       " viewBox=\"0.00 0.00 1288.34 380.00\" xmlns=\"http://www.w3.org/2000/svg\" xmlns:xlink=\"http://www.w3.org/1999/xlink\">\n",
       "<g id=\"graph0\" class=\"graph\" transform=\"scale(1 1) rotate(0) translate(4 376)\">\n",
       "<title>%3</title>\n",
       "<polygon fill=\"white\" stroke=\"none\" points=\"-4,4 -4,-376 1284.34,-376 1284.34,4 -4,4\"/>\n",
       "<!-- EMPTY -->\n",
       "<g id=\"node1\" class=\"node\"><title>EMPTY</title>\n",
       "</g>\n",
       "<!-- \\(I_I\\) -->\n",
       "<g id=\"node5\" class=\"node\"><title>\\(I_I\\)</title>\n",
       "<ellipse fill=\"none\" stroke=\"black\" cx=\"117.308\" cy=\"-173\" rx=\"26.118\" ry=\"26.118\"/>\n",
       "<text text-anchor=\"middle\" x=\"117.308\" y=\"-168.8\" font-family=\"Times,serif\" font-size=\"14.00\">(I_I)</text>\n",
       "</g>\n",
       "<!-- EMPTY&#45;&gt;\\(I_I\\) -->\n",
       "<g id=\"edge1\" class=\"edge\"><title>EMPTY&#45;&gt;\\(I_I\\)</title>\n",
       "<path fill=\"none\" stroke=\"black\" d=\"M54.0178,-173C62.3552,-173 71.7368,-173 80.64,-173\"/>\n",
       "<polygon fill=\"black\" stroke=\"black\" points=\"80.7808,-176.5 90.7807,-173 80.7807,-169.5 80.7808,-176.5\"/>\n",
       "</g>\n",
       "<!-- \\(I_S01\\) -->\n",
       "<g id=\"node2\" class=\"node\"><title>\\(I_S01\\)</title>\n",
       "<ellipse fill=\"none\" stroke=\"black\" cx=\"970.241\" cy=\"-155\" rx=\"37.2507\" ry=\"37.2507\"/>\n",
       "<text text-anchor=\"middle\" x=\"970.241\" y=\"-150.8\" font-family=\"Times,serif\" font-size=\"14.00\">(I_S01)</text>\n",
       "</g>\n",
       "<!-- \\(I_S010\\) -->\n",
       "<g id=\"node3\" class=\"node\"><title>\\(I_S010\\)</title>\n",
       "<ellipse fill=\"none\" stroke=\"black\" cx=\"1091.91\" cy=\"-155\" rx=\"41.5938\" ry=\"41.5938\"/>\n",
       "<text text-anchor=\"middle\" x=\"1091.91\" y=\"-150.8\" font-family=\"Times,serif\" font-size=\"14.00\">(I_S010)</text>\n",
       "</g>\n",
       "<!-- \\(I_S01\\)&#45;&gt;\\(I_S010\\) -->\n",
       "<g id=\"edge3\" class=\"edge\"><title>\\(I_S01\\)&#45;&gt;\\(I_S010\\)</title>\n",
       "<path fill=\"none\" stroke=\"black\" d=\"M1007.47,-155C1017.69,-155 1029,-155 1039.91,-155\"/>\n",
       "<polygon fill=\"black\" stroke=\"black\" points=\"1040.2,-158.5 1050.2,-155 1040.2,-151.5 1040.2,-158.5\"/>\n",
       "<text text-anchor=\"middle\" x=\"1028.87\" y=\"-157.8\" font-family=\"Times,serif\" font-size=\"14.00\">0</text>\n",
       "</g>\n",
       "<!-- \\(F_I\\) -->\n",
       "<g id=\"node7\" class=\"node\"><title>\\(F_I\\)</title>\n",
       "<ellipse fill=\"none\" stroke=\"black\" cx=\"737.48\" cy=\"-252\" rx=\"28.0917\" ry=\"28.0917\"/>\n",
       "<ellipse fill=\"none\" stroke=\"black\" cx=\"737.48\" cy=\"-252\" rx=\"32.0649\" ry=\"32.0649\"/>\n",
       "<text text-anchor=\"middle\" x=\"737.48\" y=\"-247.8\" font-family=\"Times,serif\" font-size=\"14.00\">(F_I)</text>\n",
       "</g>\n",
       "<!-- \\(I_S01\\)&#45;&gt;\\(F_I\\) -->\n",
       "<g id=\"edge14\" class=\"edge\"><title>\\(I_S01\\)&#45;&gt;\\(F_I\\)</title>\n",
       "<path fill=\"none\" stroke=\"black\" d=\"M947.865,-185.21C933.632,-202.836 913.32,-223.755 890.115,-235 855.633,-251.711 811.707,-254.965 780.017,-254.634\"/>\n",
       "<polygon fill=\"black\" stroke=\"black\" points=\"779.849,-251.129 769.771,-254.398 779.688,-258.127 779.849,-251.129\"/>\n",
       "<text text-anchor=\"middle\" x=\"851.439\" y=\"-256.8\" font-family=\"Times,serif\" font-size=\"14.00\">1</text>\n",
       "</g>\n",
       "<!-- \\(I_S0\\) -->\n",
       "<g id=\"node4\" class=\"node\"><title>\\(I_S0\\)</title>\n",
       "<ellipse fill=\"none\" stroke=\"black\" cx=\"219.32\" cy=\"-72\" rx=\"32.9081\" ry=\"32.9081\"/>\n",
       "<text text-anchor=\"middle\" x=\"219.32\" y=\"-67.8\" font-family=\"Times,serif\" font-size=\"14.00\">(I_S0)</text>\n",
       "</g>\n",
       "<!-- \\(I_S010\\)&#45;&gt;\\(I_S0\\) -->\n",
       "<g id=\"edge10\" class=\"edge\"><title>\\(I_S010\\)&#45;&gt;\\(I_S0\\)</title>\n",
       "<path fill=\"none\" stroke=\"black\" d=\"M1056.77,-131.885C1002.99,-97.7872 894.167,-38 792.262,-38 337.122,-38 337.122,-38 337.122,-38 310.262,-38 281.262,-46.3914 258.878,-54.8366\"/>\n",
       "<polygon fill=\"black\" stroke=\"black\" points=\"257.429,-51.6454 249.404,-58.5623 259.991,-58.1598 257.429,-51.6454\"/>\n",
       "<text text-anchor=\"middle\" x=\"683.698\" y=\"-40.8\" font-family=\"Times,serif\" font-size=\"14.00\">0</text>\n",
       "</g>\n",
       "<!-- \\(F_F0101\\) -->\n",
       "<g id=\"node10\" class=\"node\"><title>\\(F_F0101\\)</title>\n",
       "<ellipse fill=\"none\" stroke=\"black\" cx=\"1228.4\" cy=\"-84\" rx=\"47.8885\" ry=\"47.8885\"/>\n",
       "<ellipse fill=\"none\" stroke=\"black\" cx=\"1228.4\" cy=\"-84\" rx=\"51.8841\" ry=\"51.8841\"/>\n",
       "<text text-anchor=\"middle\" x=\"1228.4\" y=\"-79.8\" font-family=\"Times,serif\" font-size=\"14.00\">(F_F0101)</text>\n",
       "</g>\n",
       "<!-- \\(I_S010\\)&#45;&gt;\\(F_F0101\\) -->\n",
       "<g id=\"edge6\" class=\"edge\"><title>\\(I_S010\\)&#45;&gt;\\(F_F0101\\)</title>\n",
       "<path fill=\"none\" stroke=\"black\" d=\"M1128.95,-135.973C1142.48,-128.83 1158.18,-120.543 1173.01,-112.714\"/>\n",
       "<polygon fill=\"black\" stroke=\"black\" points=\"1174.9,-115.676 1182.11,-107.912 1171.63,-109.486 1174.9,-115.676\"/>\n",
       "<text text-anchor=\"middle\" x=\"1154.96\" y=\"-126.8\" font-family=\"Times,serif\" font-size=\"14.00\">1</text>\n",
       "</g>\n",
       "<!-- \\(I_S0\\)&#45;&gt;\\(I_S0\\) -->\n",
       "<g id=\"edge17\" class=\"edge\"><title>\\(I_S0\\)&#45;&gt;\\(I_S0\\)</title>\n",
       "<path fill=\"none\" stroke=\"black\" d=\"M209.198,-103.193C209.09,-113.987 212.465,-122.703 219.32,-122.703 223.819,-122.703 226.819,-118.949 228.319,-113.318\"/>\n",
       "<polygon fill=\"black\" stroke=\"black\" points=\"231.818,-113.518 229.443,-103.193 224.861,-112.746 231.818,-113.518\"/>\n",
       "<text text-anchor=\"middle\" x=\"219.32\" y=\"-125.503\" font-family=\"Times,serif\" font-size=\"14.00\">0</text>\n",
       "</g>\n",
       "<!-- \\(F_S01\\) -->\n",
       "<g id=\"node9\" class=\"node\"><title>\\(F_S01\\)</title>\n",
       "<ellipse fill=\"none\" stroke=\"black\" cx=\"338.122\" cy=\"-155\" rx=\"39.1881\" ry=\"39.1881\"/>\n",
       "<ellipse fill=\"none\" stroke=\"black\" cx=\"338.122\" cy=\"-155\" rx=\"43.1973\" ry=\"43.1973\"/>\n",
       "<text text-anchor=\"middle\" x=\"338.122\" y=\"-150.8\" font-family=\"Times,serif\" font-size=\"14.00\">(F_S01)</text>\n",
       "</g>\n",
       "<!-- \\(I_S0\\)&#45;&gt;\\(F_S01\\) -->\n",
       "<g id=\"edge20\" class=\"edge\"><title>\\(I_S0\\)&#45;&gt;\\(F_S01\\)</title>\n",
       "<path fill=\"none\" stroke=\"black\" d=\"M246.533,-90.6268C260.623,-100.639 278.348,-113.235 294.375,-124.623\"/>\n",
       "<polygon fill=\"black\" stroke=\"black\" points=\"292.394,-127.51 302.573,-130.449 296.449,-121.803 292.394,-127.51\"/>\n",
       "<text text-anchor=\"middle\" x=\"273.524\" y=\"-114.8\" font-family=\"Times,serif\" font-size=\"14.00\">1</text>\n",
       "</g>\n",
       "<!-- \\(I_I\\)&#45;&gt;\\(I_S0\\) -->\n",
       "<g id=\"edge21\" class=\"edge\"><title>\\(I_I\\)&#45;&gt;\\(I_S0\\)</title>\n",
       "<path fill=\"none\" stroke=\"black\" d=\"M136.652,-154.475C151.029,-139.956 171.338,-119.446 188.107,-102.512\"/>\n",
       "<polygon fill=\"black\" stroke=\"black\" points=\"190.979,-104.586 195.528,-95.0172 186.005,-99.6603 190.979,-104.586\"/>\n",
       "<text text-anchor=\"middle\" x=\"165.117\" y=\"-131.8\" font-family=\"Times,serif\" font-size=\"14.00\">0</text>\n",
       "</g>\n",
       "<!-- \\(I_I\\)&#45;&gt;\\(F_I\\) -->\n",
       "<g id=\"edge18\" class=\"edge\"><title>\\(I_I\\)&#45;&gt;\\(F_I\\)</title>\n",
       "<path fill=\"none\" stroke=\"black\" d=\"M120.51,-199.506C126.362,-250.66 147.124,-358 218.32,-358 218.32,-358 218.32,-358 613.23,-358 657.214,-358 693.323,-318.715 714.844,-287.977\"/>\n",
       "<polygon fill=\"black\" stroke=\"black\" points=\"717.824,-289.819 720.522,-279.574 712.023,-285.9 717.824,-289.819\"/>\n",
       "<text text-anchor=\"middle\" x=\"402.721\" y=\"-360.8\" font-family=\"Times,serif\" font-size=\"14.00\">1</text>\n",
       "</g>\n",
       "<!-- \\(I_F0101\\) -->\n",
       "<g id=\"node6\" class=\"node\"><title>\\(I_F0101\\)</title>\n",
       "<ellipse fill=\"none\" stroke=\"black\" cx=\"612.23\" cy=\"-242\" rx=\"45.9398\" ry=\"45.9398\"/>\n",
       "<ellipse fill=\"none\" stroke=\"black\" cx=\"612.23\" cy=\"-242\" rx=\"49.9373\" ry=\"49.9373\"/>\n",
       "<text text-anchor=\"middle\" x=\"612.23\" y=\"-237.8\" font-family=\"Times,serif\" font-size=\"14.00\">(I_F0101)</text>\n",
       "</g>\n",
       "<!-- \\(I_F0101\\)&#45;&gt;\\(I_S010\\) -->\n",
       "<g id=\"edge4\" class=\"edge\"><title>\\(I_F0101\\)&#45;&gt;\\(I_S010\\)</title>\n",
       "<path fill=\"none\" stroke=\"black\" d=\"M654.7,-268.664C689.473,-288.446 741.182,-312 790.262,-312 790.262,-312 790.262,-312 971.241,-312 1026.11,-312 1059.16,-250.587 1076.22,-204.58\"/>\n",
       "<polygon fill=\"black\" stroke=\"black\" points=\"1079.56,-205.619 1079.62,-195.024 1072.97,-203.273 1079.56,-205.619\"/>\n",
       "<text text-anchor=\"middle\" x=\"851.439\" y=\"-314.8\" font-family=\"Times,serif\" font-size=\"14.00\">0</text>\n",
       "</g>\n",
       "<!-- \\(I_F0101\\)&#45;&gt;\\(F_I\\) -->\n",
       "<g id=\"edge15\" class=\"edge\"><title>\\(I_F0101\\)&#45;&gt;\\(F_I\\)</title>\n",
       "<path fill=\"none\" stroke=\"black\" d=\"M662.296,-245.981C673.07,-246.855 684.379,-247.773 694.829,-248.621\"/>\n",
       "<polygon fill=\"black\" stroke=\"black\" points=\"694.691,-252.121 704.941,-249.441 695.257,-245.144 694.691,-252.121\"/>\n",
       "<text text-anchor=\"middle\" x=\"683.698\" y=\"-250.8\" font-family=\"Times,serif\" font-size=\"14.00\">1</text>\n",
       "</g>\n",
       "<!-- \\(F_I\\)&#45;&gt;\\(I_I\\) -->\n",
       "<g id=\"edge2\" class=\"edge\"><title>\\(F_I\\)&#45;&gt;\\(I_I\\)</title>\n",
       "<path fill=\"none\" stroke=\"black\" d=\"M713.54,-273.89C690.221,-293.768 652.087,-320 613.23,-320 218.32,-320 218.32,-320 218.32,-320 164.596,-320 137.695,-252.053 125.977,-208.549\"/>\n",
       "<polygon fill=\"black\" stroke=\"black\" points=\"129.305,-207.433 123.446,-198.605 122.521,-209.16 129.305,-207.433\"/>\n",
       "<text text-anchor=\"middle\" x=\"402.721\" y=\"-322.8\" font-family=\"Times,serif\" font-size=\"14.00\">1</text>\n",
       "</g>\n",
       "<!-- \\(F_S0\\) -->\n",
       "<g id=\"node8\" class=\"node\"><title>\\(F_S0\\)</title>\n",
       "<ellipse fill=\"none\" stroke=\"black\" cx=\"851.439\" cy=\"-155\" rx=\"34.836\" ry=\"34.836\"/>\n",
       "<ellipse fill=\"none\" stroke=\"black\" cx=\"851.439\" cy=\"-155\" rx=\"38.8544\" ry=\"38.8544\"/>\n",
       "<text text-anchor=\"middle\" x=\"851.439\" y=\"-150.8\" font-family=\"Times,serif\" font-size=\"14.00\">(F_S0)</text>\n",
       "</g>\n",
       "<!-- \\(F_I\\)&#45;&gt;\\(F_S0\\) -->\n",
       "<g id=\"edge13\" class=\"edge\"><title>\\(F_I\\)&#45;&gt;\\(F_S0\\)</title>\n",
       "<path fill=\"none\" stroke=\"black\" d=\"M762.498,-231.191C777.406,-218.274 796.863,-201.417 813.684,-186.844\"/>\n",
       "<polygon fill=\"black\" stroke=\"black\" points=\"816.432,-189.094 821.698,-179.9 811.849,-183.803 816.432,-189.094\"/>\n",
       "<text text-anchor=\"middle\" x=\"791.262\" y=\"-209.8\" font-family=\"Times,serif\" font-size=\"14.00\">0</text>\n",
       "</g>\n",
       "<!-- \\(F_S0\\)&#45;&gt;\\(I_S01\\) -->\n",
       "<g id=\"edge12\" class=\"edge\"><title>\\(F_S0\\)&#45;&gt;\\(I_S01\\)</title>\n",
       "<path fill=\"none\" stroke=\"black\" d=\"M890.361,-155C900.76,-155 912.15,-155 922.961,-155\"/>\n",
       "<polygon fill=\"black\" stroke=\"black\" points=\"923.097,-158.5 933.097,-155 923.097,-151.5 923.097,-158.5\"/>\n",
       "<text text-anchor=\"middle\" x=\"911.615\" y=\"-157.8\" font-family=\"Times,serif\" font-size=\"14.00\">1</text>\n",
       "</g>\n",
       "<!-- \\(F_S0\\)&#45;&gt;\\(F_S0\\) -->\n",
       "<g id=\"edge19\" class=\"edge\"><title>\\(F_S0\\)&#45;&gt;\\(F_S0\\)</title>\n",
       "<path fill=\"none\" stroke=\"black\" d=\"M840.213,-192.067C840.548,-203.095 844.29,-211.677 851.439,-211.677 856.13,-211.677 859.354,-207.981 861.111,-202.324\"/>\n",
       "<polygon fill=\"black\" stroke=\"black\" points=\"864.627,-202.479 862.664,-192.067 857.706,-201.43 864.627,-202.479\"/>\n",
       "<text text-anchor=\"middle\" x=\"851.439\" y=\"-214.477\" font-family=\"Times,serif\" font-size=\"14.00\">0</text>\n",
       "</g>\n",
       "<!-- \\(F_S01\\)&#45;&gt;\\(I_I\\) -->\n",
       "<g id=\"edge5\" class=\"edge\"><title>\\(F_S01\\)&#45;&gt;\\(I_I\\)</title>\n",
       "<path fill=\"none\" stroke=\"black\" d=\"M294.911,-158.472C254.005,-161.837 192.646,-166.885 154.076,-170.058\"/>\n",
       "<polygon fill=\"black\" stroke=\"black\" points=\"153.517,-166.592 143.837,-170.9 154.091,-173.568 153.517,-166.592\"/>\n",
       "<text text-anchor=\"middle\" x=\"219.32\" y=\"-170.8\" font-family=\"Times,serif\" font-size=\"14.00\">1</text>\n",
       "</g>\n",
       "<!-- \\(F_S010\\) -->\n",
       "<g id=\"node11\" class=\"node\"><title>\\(F_S010\\)</title>\n",
       "<ellipse fill=\"none\" stroke=\"black\" cx=\"471.741\" cy=\"-155\" rx=\"43.5388\" ry=\"43.5388\"/>\n",
       "<ellipse fill=\"none\" stroke=\"black\" cx=\"471.741\" cy=\"-155\" rx=\"47.5405\" ry=\"47.5405\"/>\n",
       "<text text-anchor=\"middle\" x=\"471.741\" y=\"-150.8\" font-family=\"Times,serif\" font-size=\"14.00\">(F_S010)</text>\n",
       "</g>\n",
       "<!-- \\(F_S01\\)&#45;&gt;\\(F_S010\\) -->\n",
       "<g id=\"edge8\" class=\"edge\"><title>\\(F_S01\\)&#45;&gt;\\(F_S010\\)</title>\n",
       "<path fill=\"none\" stroke=\"black\" d=\"M381.492,-155C391.742,-155 402.866,-155 413.67,-155\"/>\n",
       "<polygon fill=\"black\" stroke=\"black\" points=\"413.891,-158.5 423.891,-155 413.891,-151.5 413.891,-158.5\"/>\n",
       "<text text-anchor=\"middle\" x=\"402.721\" y=\"-157.8\" font-family=\"Times,serif\" font-size=\"14.00\">0</text>\n",
       "</g>\n",
       "<!-- \\(F_F0101\\)&#45;&gt;\\(I_I\\) -->\n",
       "<g id=\"edge7\" class=\"edge\"><title>\\(F_F0101\\)&#45;&gt;\\(I_I\\)</title>\n",
       "<path fill=\"none\" stroke=\"black\" d=\"M1191.96,-46.6672C1166.75,-24.2329 1130.76,-0 1092.91,-0 218.32,-0 218.32,-0 218.32,-0 155.679,-0 131.649,-86.0621 122.925,-136.785\"/>\n",
       "<polygon fill=\"black\" stroke=\"black\" points=\"119.459,-136.297 121.333,-146.725 126.371,-137.405 119.459,-136.297\"/>\n",
       "<text text-anchor=\"middle\" x=\"683.698\" y=\"-2.8\" font-family=\"Times,serif\" font-size=\"14.00\">1</text>\n",
       "</g>\n",
       "<!-- \\(F_F0101\\)&#45;&gt;\\(F_S010\\) -->\n",
       "<g id=\"edge9\" class=\"edge\"><title>\\(F_F0101\\)&#45;&gt;\\(F_S010\\)</title>\n",
       "<path fill=\"none\" stroke=\"black\" d=\"M1176.31,-84C1151.19,-84 1120.46,-84 1092.91,-84 611.23,-84 611.23,-84 611.23,-84 577.124,-84 542.981,-101.263 517.129,-118.764\"/>\n",
       "<polygon fill=\"black\" stroke=\"black\" points=\"514.868,-116.075 508.692,-124.684 518.889,-121.805 514.868,-116.075\"/>\n",
       "<text text-anchor=\"middle\" x=\"851.439\" y=\"-86.8\" font-family=\"Times,serif\" font-size=\"14.00\">0</text>\n",
       "</g>\n",
       "<!-- \\(F_S010\\)&#45;&gt;\\(I_F0101\\) -->\n",
       "<g id=\"edge16\" class=\"edge\"><title>\\(F_S010\\)&#45;&gt;\\(I_F0101\\)</title>\n",
       "<path fill=\"none\" stroke=\"black\" d=\"M512.426,-179.931C527.533,-189.421 544.95,-200.362 560.913,-210.391\"/>\n",
       "<polygon fill=\"black\" stroke=\"black\" points=\"559.278,-213.497 569.608,-215.853 563.002,-207.57 559.278,-213.497\"/>\n",
       "<text text-anchor=\"middle\" x=\"540.761\" y=\"-201.8\" font-family=\"Times,serif\" font-size=\"14.00\">1</text>\n",
       "</g>\n",
       "<!-- \\(F_S010\\)&#45;&gt;\\(F_S0\\) -->\n",
       "<g id=\"edge11\" class=\"edge\"><title>\\(F_S010\\)&#45;&gt;\\(F_S0\\)</title>\n",
       "<path fill=\"none\" stroke=\"black\" d=\"M519.433,-155C591.576,-155 729.416,-155 802.379,-155\"/>\n",
       "<polygon fill=\"black\" stroke=\"black\" points=\"802.658,-158.5 812.658,-155 802.658,-151.5 802.658,-158.5\"/>\n",
       "<text text-anchor=\"middle\" x=\"683.698\" y=\"-157.8\" font-family=\"Times,serif\" font-size=\"14.00\">0</text>\n",
       "</g>\n",
       "</g>\n",
       "</svg>\n"
      ],
      "text/plain": [
       "<graphviz.dot.Digraph at 0x10d094940>"
      ]
     },
     "execution_count": 101,
     "metadata": {},
     "output_type": "execute_result"
    }
   ],
   "source": [
    "dotObj_dfa(odd1sORends0101)"
   ]
  },
  {
   "cell_type": "code",
   "execution_count": 102,
   "metadata": {
    "run_control": {
     "frozen": false,
     "read_only": false
    }
   },
   "outputs": [
    {
     "data": {
      "text/plain": [
       "'// do_St38\\ndigraph {\\n\\tgraph [rankdir=LR]\\n\\t\\tEMPTY [label=\"\" shape=plaintext]\\n\\t\\t\"\\\\(I_S01\\\\)\" [label=\"\\\\(I_S01\\\\)\" peripheries=1 shape=circle]\\n\\t\\t\"\\\\(I_S010\\\\)\" [label=\"\\\\(I_S010\\\\)\" peripheries=1 shape=circle]\\n\\t\\t\"\\\\(I_S0\\\\)\" [label=\"\\\\(I_S0\\\\)\" peripheries=1 shape=circle]\\n\\t\\t\"\\\\(I_I\\\\)\" [label=\"\\\\(I_I\\\\)\" peripheries=1 shape=circle]\\n\\t\\t\"\\\\(I_F0101\\\\)\" [label=\"\\\\(I_F0101\\\\)\" peripheries=2 shape=circle]\\n\\t\\t\"\\\\(F_I\\\\)\" [label=\"\\\\(F_I\\\\)\" peripheries=2 shape=circle]\\n\\t\\t\"\\\\(F_S0\\\\)\" [label=\"\\\\(F_S0\\\\)\" peripheries=2 shape=circle]\\n\\t\\t\"\\\\(F_S01\\\\)\" [label=\"\\\\(F_S01\\\\)\" peripheries=2 shape=circle]\\n\\t\\t\"\\\\(F_F0101\\\\)\" [label=\"\\\\(F_F0101\\\\)\" peripheries=2 shape=circle]\\n\\t\\t\"\\\\(F_S010\\\\)\" [label=\"\\\\(F_S010\\\\)\" peripheries=2 shape=circle]\\n\\t\\t\\tEMPTY -> \"\\\\(I_I\\\\)\"\\n\\t\\t\\t\"\\\\(F_I\\\\)\" -> \"\\\\(I_I\\\\)\" [label=1]\\n\\t\\t\\t\"\\\\(I_S01\\\\)\" -> \"\\\\(I_S010\\\\)\" [label=0]\\n\\t\\t\\t\"\\\\(I_F0101\\\\)\" -> \"\\\\(I_S010\\\\)\" [label=0]\\n\\t\\t\\t\"\\\\(F_S01\\\\)\" -> \"\\\\(I_I\\\\)\" [label=1]\\n\\t\\t\\t\"\\\\(I_S010\\\\)\" -> \"\\\\(F_F0101\\\\)\" [label=1]\\n\\t\\t\\t\"\\\\(F_F0101\\\\)\" -> \"\\\\(I_I\\\\)\" [label=1]\\n\\t\\t\\t\"\\\\(F_S01\\\\)\" -> \"\\\\(F_S010\\\\)\" [label=0]\\n\\t\\t\\t\"\\\\(F_F0101\\\\)\" -> \"\\\\(F_S010\\\\)\" [label=0]\\n\\t\\t\\t\"\\\\(I_S010\\\\)\" -> \"\\\\(I_S0\\\\)\" [label=0]\\n\\t\\t\\t\"\\\\(F_S010\\\\)\" -> \"\\\\(F_S0\\\\)\" [label=0]\\n\\t\\t\\t\"\\\\(F_S0\\\\)\" -> \"\\\\(I_S01\\\\)\" [label=1]\\n\\t\\t\\t\"\\\\(F_I\\\\)\" -> \"\\\\(F_S0\\\\)\" [label=0]\\n\\t\\t\\t\"\\\\(I_S01\\\\)\" -> \"\\\\(F_I\\\\)\" [label=1]\\n\\t\\t\\t\"\\\\(I_F0101\\\\)\" -> \"\\\\(F_I\\\\)\" [label=1]\\n\\t\\t\\t\"\\\\(F_S010\\\\)\" -> \"\\\\(I_F0101\\\\)\" [label=1]\\n\\t\\t\\t\"\\\\(I_S0\\\\)\" -> \"\\\\(I_S0\\\\)\" [label=0]\\n\\t\\t\\t\"\\\\(I_I\\\\)\" -> \"\\\\(F_I\\\\)\" [label=1]\\n\\t\\t\\t\"\\\\(F_S0\\\\)\" -> \"\\\\(F_S0\\\\)\" [label=0]\\n\\t\\t\\t\"\\\\(I_S0\\\\)\" -> \"\\\\(F_S01\\\\)\" [label=1]\\n\\t\\t\\t\"\\\\(I_I\\\\)\" -> \"\\\\(I_S0\\\\)\" [label=0]\\n}'"
      ]
     },
     "execution_count": 102,
     "metadata": {},
     "output_type": "execute_result"
    }
   ],
   "source": [
    "dotObj_dfa(odd1sORends0101).source"
   ]
  },
  {
   "cell_type": "code",
   "execution_count": 103,
   "metadata": {
    "run_control": {
     "frozen": false,
     "read_only": false
    }
   },
   "outputs": [],
   "source": [
    "Minodd1sORends0101 = min_dfa(odd1sORends0101)"
   ]
  },
  {
   "cell_type": "code",
   "execution_count": 104,
   "metadata": {
    "run_control": {
     "frozen": false,
     "read_only": false
    }
   },
   "outputs": [
    {
     "data": {
      "image/svg+xml": [
       "<?xml version=\"1.0\" encoding=\"UTF-8\" standalone=\"no\"?>\n",
       "<!DOCTYPE svg PUBLIC \"-//W3C//DTD SVG 1.1//EN\"\n",
       " \"http://www.w3.org/Graphics/SVG/1.1/DTD/svg11.dtd\">\n",
       "<!-- Generated by graphviz version 2.38.0 (20140413.2041)\n",
       " -->\n",
       "<!-- Title: %3 Pages: 1 -->\n",
       "<svg width=\"835pt\" height=\"244pt\"\n",
       " viewBox=\"0.00 0.00 834.77 244.00\" xmlns=\"http://www.w3.org/2000/svg\" xmlns:xlink=\"http://www.w3.org/1999/xlink\">\n",
       "<g id=\"graph0\" class=\"graph\" transform=\"scale(1 1) rotate(0) translate(4 240)\">\n",
       "<title>%3</title>\n",
       "<polygon fill=\"white\" stroke=\"none\" points=\"-4,4 -4,-240 830.769,-240 830.769,4 -4,4\"/>\n",
       "<!-- EMPTY -->\n",
       "<g id=\"node1\" class=\"node\"><title>EMPTY</title>\n",
       "</g>\n",
       "<!-- \\(I_S01\\) -->\n",
       "<g id=\"node2\" class=\"node\"><title>\\(I_S01\\)</title>\n",
       "<ellipse fill=\"none\" stroke=\"black\" cx=\"128.125\" cy=\"-73\" rx=\"37.2507\" ry=\"37.2507\"/>\n",
       "<text text-anchor=\"middle\" x=\"128.125\" y=\"-68.8\" font-family=\"Times,serif\" font-size=\"14.00\">(I_S01)</text>\n",
       "</g>\n",
       "<!-- EMPTY&#45;&gt;\\(I_S01\\) -->\n",
       "<g id=\"edge1\" class=\"edge\"><title>EMPTY&#45;&gt;\\(I_S01\\)</title>\n",
       "<path fill=\"none\" stroke=\"black\" d=\"M54.044,-73C62.2126,-73 71.4908,-73 80.6295,-73\"/>\n",
       "<polygon fill=\"black\" stroke=\"black\" points=\"80.8214,-76.5001 90.8214,-73 80.8213,-69.5001 80.8214,-76.5001\"/>\n",
       "</g>\n",
       "<!-- \\(I_S010\\) -->\n",
       "<g id=\"node3\" class=\"node\"><title>\\(I_S010\\)</title>\n",
       "<ellipse fill=\"none\" stroke=\"black\" cx=\"249.797\" cy=\"-120\" rx=\"41.5938\" ry=\"41.5938\"/>\n",
       "<text text-anchor=\"middle\" x=\"249.797\" y=\"-115.8\" font-family=\"Times,serif\" font-size=\"14.00\">(I_S010)</text>\n",
       "</g>\n",
       "<!-- \\(I_S01\\)&#45;&gt;\\(I_S010\\) -->\n",
       "<g id=\"edge3\" class=\"edge\"><title>\\(I_S01\\)&#45;&gt;\\(I_S010\\)</title>\n",
       "<path fill=\"none\" stroke=\"black\" d=\"M163.098,-86.3426C174.992,-91.0139 188.575,-96.3483 201.366,-101.372\"/>\n",
       "<polygon fill=\"black\" stroke=\"black\" points=\"200.365,-104.739 210.953,-105.137 202.924,-98.2236 200.365,-104.739\"/>\n",
       "<text text-anchor=\"middle\" x=\"186.75\" y=\"-99.8\" font-family=\"Times,serif\" font-size=\"14.00\">0</text>\n",
       "</g>\n",
       "<!-- \\(F_I\\) -->\n",
       "<g id=\"node6\" class=\"node\"><title>\\(F_I\\)</title>\n",
       "<ellipse fill=\"none\" stroke=\"black\" cx=\"794.488\" cy=\"-91\" rx=\"28.0917\" ry=\"28.0917\"/>\n",
       "<ellipse fill=\"none\" stroke=\"black\" cx=\"794.488\" cy=\"-91\" rx=\"32.0649\" ry=\"32.0649\"/>\n",
       "<text text-anchor=\"middle\" x=\"794.488\" y=\"-86.8\" font-family=\"Times,serif\" font-size=\"14.00\">(F_I)</text>\n",
       "</g>\n",
       "<!-- \\(I_S01\\)&#45;&gt;\\(F_I\\) -->\n",
       "<g id=\"edge11\" class=\"edge\"><title>\\(I_S01\\)&#45;&gt;\\(F_I\\)</title>\n",
       "<path fill=\"none\" stroke=\"black\" d=\"M140.047,-108.311C156.132,-152.372 190.735,-222 248.797,-222 248.797,-222 248.797,-222 670.237,-222 721.19,-222 757.262,-168.779 776.722,-130.182\"/>\n",
       "<polygon fill=\"black\" stroke=\"black\" points=\"780.094,-131.251 781.311,-120.726 773.796,-128.195 780.094,-131.251\"/>\n",
       "<text text-anchor=\"middle\" x=\"459.728\" y=\"-224.8\" font-family=\"Times,serif\" font-size=\"14.00\">1</text>\n",
       "</g>\n",
       "<!-- \\(I_S010\\)&#45;&gt;\\(I_S010\\) -->\n",
       "<g id=\"edge8\" class=\"edge\"><title>\\(I_S010\\)&#45;&gt;\\(I_S010\\)</title>\n",
       "<path fill=\"none\" stroke=\"black\" d=\"M238.243,-160.075C238.801,-171.113 242.653,-179.547 249.797,-179.547 254.486,-179.547 257.756,-175.915 259.608,-170.298\"/>\n",
       "<polygon fill=\"black\" stroke=\"black\" points=\"263.121,-170.521 261.351,-160.075 256.22,-169.345 263.121,-170.521\"/>\n",
       "<text text-anchor=\"middle\" x=\"249.797\" y=\"-182.347\" font-family=\"Times,serif\" font-size=\"14.00\">0</text>\n",
       "</g>\n",
       "<!-- \\(F_F0101\\) -->\n",
       "<g id=\"node7\" class=\"node\"><title>\\(F_F0101\\)</title>\n",
       "<ellipse fill=\"none\" stroke=\"black\" cx=\"386.286\" cy=\"-80\" rx=\"47.8885\" ry=\"47.8885\"/>\n",
       "<ellipse fill=\"none\" stroke=\"black\" cx=\"386.286\" cy=\"-80\" rx=\"51.8841\" ry=\"51.8841\"/>\n",
       "<text text-anchor=\"middle\" x=\"386.286\" y=\"-75.8\" font-family=\"Times,serif\" font-size=\"14.00\">(F_F0101)</text>\n",
       "</g>\n",
       "<!-- \\(I_S010\\)&#45;&gt;\\(F_F0101\\) -->\n",
       "<g id=\"edge6\" class=\"edge\"><title>\\(I_S010\\)&#45;&gt;\\(F_F0101\\)</title>\n",
       "<path fill=\"none\" stroke=\"black\" d=\"M290.059,-108.323C301.438,-104.938 314.118,-101.167 326.418,-97.5087\"/>\n",
       "<polygon fill=\"black\" stroke=\"black\" points=\"327.582,-100.814 336.169,-94.6085 325.586,-94.1046 327.582,-100.814\"/>\n",
       "<text text-anchor=\"middle\" x=\"312.844\" y=\"-105.8\" font-family=\"Times,serif\" font-size=\"14.00\">1</text>\n",
       "</g>\n",
       "<!-- \\(F_S010\\) -->\n",
       "<g id=\"node4\" class=\"node\"><title>\\(F_S010\\)</title>\n",
       "<ellipse fill=\"none\" stroke=\"black\" cx=\"528.748\" cy=\"-80\" rx=\"43.5388\" ry=\"43.5388\"/>\n",
       "<ellipse fill=\"none\" stroke=\"black\" cx=\"528.748\" cy=\"-80\" rx=\"47.5405\" ry=\"47.5405\"/>\n",
       "<text text-anchor=\"middle\" x=\"528.748\" y=\"-75.8\" font-family=\"Times,serif\" font-size=\"14.00\">(F_S010)</text>\n",
       "</g>\n",
       "<!-- \\(I_F0101\\) -->\n",
       "<g id=\"node5\" class=\"node\"><title>\\(I_F0101\\)</title>\n",
       "<ellipse fill=\"none\" stroke=\"black\" cx=\"669.237\" cy=\"-144\" rx=\"45.9398\" ry=\"45.9398\"/>\n",
       "<ellipse fill=\"none\" stroke=\"black\" cx=\"669.237\" cy=\"-144\" rx=\"49.9373\" ry=\"49.9373\"/>\n",
       "<text text-anchor=\"middle\" x=\"669.237\" y=\"-139.8\" font-family=\"Times,serif\" font-size=\"14.00\">(I_F0101)</text>\n",
       "</g>\n",
       "<!-- \\(F_S010\\)&#45;&gt;\\(I_F0101\\) -->\n",
       "<g id=\"edge13\" class=\"edge\"><title>\\(F_S010\\)&#45;&gt;\\(I_F0101\\)</title>\n",
       "<path fill=\"none\" stroke=\"black\" d=\"M572.43,-99.7243C585.603,-105.812 600.287,-112.598 614.125,-118.993\"/>\n",
       "<polygon fill=\"black\" stroke=\"black\" points=\"612.994,-122.326 623.54,-123.344 615.931,-115.972 612.994,-122.326\"/>\n",
       "<text text-anchor=\"middle\" x=\"597.769\" y=\"-114.8\" font-family=\"Times,serif\" font-size=\"14.00\">1</text>\n",
       "</g>\n",
       "<!-- \\(F_S010\\)&#45;&gt;\\(F_I\\) -->\n",
       "<g id=\"edge9\" class=\"edge\"><title>\\(F_S010\\)&#45;&gt;\\(F_I\\)</title>\n",
       "<path fill=\"none\" stroke=\"black\" d=\"M575.882,-73.2257C614.365,-68.6708 670.565,-64.5664 719.206,-71 730.559,-72.5017 742.641,-75.2413 753.69,-78.2211\"/>\n",
       "<polygon fill=\"black\" stroke=\"black\" points=\"752.92,-81.6407 763.495,-80.9965 754.826,-74.9053 752.92,-81.6407\"/>\n",
       "<text text-anchor=\"middle\" x=\"669.237\" y=\"-73.8\" font-family=\"Times,serif\" font-size=\"14.00\">0</text>\n",
       "</g>\n",
       "<!-- \\(I_F0101\\)&#45;&gt;\\(I_S010\\) -->\n",
       "<g id=\"edge4\" class=\"edge\"><title>\\(I_F0101\\)&#45;&gt;\\(I_S010\\)</title>\n",
       "<path fill=\"none\" stroke=\"black\" d=\"M619.33,-147.167C554.048,-150.572 434.966,-153.912 334.344,-141 322.986,-139.542 310.947,-137.078 299.652,-134.34\"/>\n",
       "<polygon fill=\"black\" stroke=\"black\" points=\"300.507,-130.946 289.954,-131.881 298.787,-137.731 300.507,-130.946\"/>\n",
       "<text text-anchor=\"middle\" x=\"459.728\" y=\"-151.8\" font-family=\"Times,serif\" font-size=\"14.00\">0</text>\n",
       "</g>\n",
       "<!-- \\(I_F0101\\)&#45;&gt;\\(F_I\\) -->\n",
       "<g id=\"edge12\" class=\"edge\"><title>\\(I_F0101\\)&#45;&gt;\\(F_I\\)</title>\n",
       "<path fill=\"none\" stroke=\"black\" d=\"M715.431,-124.566C728.461,-118.963 742.548,-112.905 755.121,-107.498\"/>\n",
       "<polygon fill=\"black\" stroke=\"black\" points=\"756.595,-110.675 764.399,-103.509 753.829,-104.244 756.595,-110.675\"/>\n",
       "<text text-anchor=\"middle\" x=\"740.706\" y=\"-117.8\" font-family=\"Times,serif\" font-size=\"14.00\">1</text>\n",
       "</g>\n",
       "<!-- \\(F_I\\)&#45;&gt;\\(I_S01\\) -->\n",
       "<g id=\"edge2\" class=\"edge\"><title>\\(F_I\\)&#45;&gt;\\(I_S01\\)</title>\n",
       "<path fill=\"none\" stroke=\"black\" d=\"M774.87,-65.1665C753.105,-38.2629 714.39,-0 670.237,-0 248.797,-0 248.797,-0 248.797,-0 215.924,-0 184.425,-20.323 162.001,-39.5228\"/>\n",
       "<polygon fill=\"black\" stroke=\"black\" points=\"159.605,-36.9699 154.461,-46.232 164.258,-42.1995 159.605,-36.9699\"/>\n",
       "<text text-anchor=\"middle\" x=\"459.728\" y=\"-2.8\" font-family=\"Times,serif\" font-size=\"14.00\">1</text>\n",
       "</g>\n",
       "<!-- \\(F_I\\)&#45;&gt;\\(F_I\\) -->\n",
       "<g id=\"edge10\" class=\"edge\"><title>\\(F_I\\)&#45;&gt;\\(F_I\\)</title>\n",
       "<path fill=\"none\" stroke=\"black\" d=\"M784.74,-121.934C784.637,-132.637 787.886,-141.282 794.488,-141.282 798.82,-141.282 801.708,-137.559 803.153,-131.974\"/>\n",
       "<polygon fill=\"black\" stroke=\"black\" points=\"806.644,-132.251 804.235,-121.934 799.684,-131.501 806.644,-132.251\"/>\n",
       "<text text-anchor=\"middle\" x=\"794.488\" y=\"-144.082\" font-family=\"Times,serif\" font-size=\"14.00\">0</text>\n",
       "</g>\n",
       "<!-- \\(F_F0101\\)&#45;&gt;\\(I_S01\\) -->\n",
       "<g id=\"edge5\" class=\"edge\"><title>\\(F_F0101\\)&#45;&gt;\\(I_S01\\)</title>\n",
       "<path fill=\"none\" stroke=\"black\" d=\"M336.526,-64.4507C322.13,-60.563 306.238,-56.9479 291.344,-55 254.725,-50.2108 244.95,-50.8783 208.25,-55 197.103,-56.252 185.235,-58.4665 174.174,-60.9237\"/>\n",
       "<polygon fill=\"black\" stroke=\"black\" points=\"173.23,-57.5496 164.285,-63.2278 174.819,-64.367 173.23,-57.5496\"/>\n",
       "<text text-anchor=\"middle\" x=\"249.797\" y=\"-57.8\" font-family=\"Times,serif\" font-size=\"14.00\">1</text>\n",
       "</g>\n",
       "<!-- \\(F_F0101\\)&#45;&gt;\\(F_S010\\) -->\n",
       "<g id=\"edge7\" class=\"edge\"><title>\\(F_F0101\\)&#45;&gt;\\(F_S010\\)</title>\n",
       "<path fill=\"none\" stroke=\"black\" d=\"M438.394,-80C448.974,-80 460.182,-80 470.952,-80\"/>\n",
       "<polygon fill=\"black\" stroke=\"black\" points=\"471.109,-83.5001 481.109,-80 471.109,-76.5001 471.109,-83.5001\"/>\n",
       "<text text-anchor=\"middle\" x=\"459.728\" y=\"-82.8\" font-family=\"Times,serif\" font-size=\"14.00\">0</text>\n",
       "</g>\n",
       "</g>\n",
       "</svg>\n"
      ],
      "text/plain": [
       "<graphviz.dot.Digraph at 0x10d094e10>"
      ]
     },
     "execution_count": 104,
     "metadata": {},
     "output_type": "execute_result"
    }
   ],
   "source": [
    "dotObj_dfa(Minodd1sORends0101)"
   ]
  },
  {
   "cell_type": "code",
   "execution_count": 105,
   "metadata": {
    "run_control": {
     "frozen": false,
     "read_only": false
    }
   },
   "outputs": [
    {
     "data": {
      "text/plain": [
       "'// do_St40\\ndigraph {\\n\\tgraph [rankdir=LR]\\n\\t\\tEMPTY [label=\"\" shape=plaintext]\\n\\t\\t\"\\\\(I_S01\\\\)\" [label=\"\\\\(I_S01\\\\)\" peripheries=1 shape=circle]\\n\\t\\t\"\\\\(I_S010\\\\)\" [label=\"\\\\(I_S010\\\\)\" peripheries=1 shape=circle]\\n\\t\\t\"\\\\(F_S010\\\\)\" [label=\"\\\\(F_S010\\\\)\" peripheries=2 shape=circle]\\n\\t\\t\"\\\\(I_F0101\\\\)\" [label=\"\\\\(I_F0101\\\\)\" peripheries=2 shape=circle]\\n\\t\\t\"\\\\(F_I\\\\)\" [label=\"\\\\(F_I\\\\)\" peripheries=2 shape=circle]\\n\\t\\t\"\\\\(F_F0101\\\\)\" [label=\"\\\\(F_F0101\\\\)\" peripheries=2 shape=circle]\\n\\t\\t\\tEMPTY -> \"\\\\(I_S01\\\\)\"\\n\\t\\t\\t\"\\\\(F_I\\\\)\" -> \"\\\\(I_S01\\\\)\" [label=1]\\n\\t\\t\\t\"\\\\(I_S01\\\\)\" -> \"\\\\(I_S010\\\\)\" [label=0]\\n\\t\\t\\t\"\\\\(I_F0101\\\\)\" -> \"\\\\(I_S010\\\\)\" [label=0]\\n\\t\\t\\t\"\\\\(F_F0101\\\\)\" -> \"\\\\(I_S01\\\\)\" [label=1]\\n\\t\\t\\t\"\\\\(I_S010\\\\)\" -> \"\\\\(F_F0101\\\\)\" [label=1]\\n\\t\\t\\t\"\\\\(F_F0101\\\\)\" -> \"\\\\(F_S010\\\\)\" [label=0]\\n\\t\\t\\t\"\\\\(I_S010\\\\)\" -> \"\\\\(I_S010\\\\)\" [label=0]\\n\\t\\t\\t\"\\\\(F_S010\\\\)\" -> \"\\\\(F_I\\\\)\" [label=0]\\n\\t\\t\\t\"\\\\(F_I\\\\)\" -> \"\\\\(F_I\\\\)\" [label=0]\\n\\t\\t\\t\"\\\\(I_S01\\\\)\" -> \"\\\\(F_I\\\\)\" [label=1]\\n\\t\\t\\t\"\\\\(I_F0101\\\\)\" -> \"\\\\(F_I\\\\)\" [label=1]\\n\\t\\t\\t\"\\\\(F_S010\\\\)\" -> \"\\\\(I_F0101\\\\)\" [label=1]\\n}'"
      ]
     },
     "execution_count": 105,
     "metadata": {},
     "output_type": "execute_result"
    }
   ],
   "source": [
    "dotObj_dfa(Minodd1sORends0101).source"
   ]
  },
  {
   "cell_type": "code",
   "execution_count": 106,
   "metadata": {
    "run_control": {
     "frozen": false,
     "read_only": false
    }
   },
   "outputs": [
    {
     "data": {
      "text/plain": [
       "False"
      ]
     },
     "execution_count": 106,
     "metadata": {},
     "output_type": "execute_result"
    }
   ],
   "source": [
    "iso_dfa(odd1sORends0101, Minodd1sORends0101)"
   ]
  },
  {
   "cell_type": "code",
   "execution_count": 107,
   "metadata": {
    "run_control": {
     "frozen": false,
     "read_only": false
    }
   },
   "outputs": [
    {
     "data": {
      "text/plain": [
       "True"
      ]
     },
     "execution_count": 107,
     "metadata": {},
     "output_type": "execute_result"
    }
   ],
   "source": [
    "langeq_dfa(odd1sORends0101, Minodd1sORends0101)"
   ]
  },
  {
   "cell_type": "code",
   "execution_count": 108,
   "metadata": {
    "run_control": {
     "frozen": false,
     "read_only": false
    }
   },
   "outputs": [],
   "source": [
    "odd1sANDends0101 = intersect_dfa(dfaOdd1s,ends0101)"
   ]
  },
  {
   "cell_type": "code",
   "execution_count": 109,
   "metadata": {
    "run_control": {
     "frozen": false,
     "read_only": false
    }
   },
   "outputs": [
    {
     "data": {
      "image/svg+xml": [
       "<?xml version=\"1.0\" encoding=\"UTF-8\" standalone=\"no\"?>\n",
       "<!DOCTYPE svg PUBLIC \"-//W3C//DTD SVG 1.1//EN\"\n",
       " \"http://www.w3.org/Graphics/SVG/1.1/DTD/svg11.dtd\">\n",
       "<!-- Generated by graphviz version 2.38.0 (20140413.2041)\n",
       " -->\n",
       "<!-- Title: %3 Pages: 1 -->\n",
       "<svg width=\"1140pt\" height=\"412pt\"\n",
       " viewBox=\"0.00 0.00 1139.94 412.00\" xmlns=\"http://www.w3.org/2000/svg\" xmlns:xlink=\"http://www.w3.org/1999/xlink\">\n",
       "<g id=\"graph0\" class=\"graph\" transform=\"scale(1 1) rotate(0) translate(4 408)\">\n",
       "<title>%3</title>\n",
       "<polygon fill=\"white\" stroke=\"none\" points=\"-4,4 -4,-408 1135.94,-408 1135.94,4 -4,4\"/>\n",
       "<!-- EMPTY -->\n",
       "<g id=\"node1\" class=\"node\"><title>EMPTY</title>\n",
       "</g>\n",
       "<!-- \\(I_I\\) -->\n",
       "<g id=\"node2\" class=\"node\"><title>\\(I_I\\)</title>\n",
       "<ellipse fill=\"none\" stroke=\"black\" cx=\"117.308\" cy=\"-82\" rx=\"26.118\" ry=\"26.118\"/>\n",
       "<text text-anchor=\"middle\" x=\"117.308\" y=\"-77.8\" font-family=\"Times,serif\" font-size=\"14.00\">(I_I)</text>\n",
       "</g>\n",
       "<!-- EMPTY&#45;&gt;\\(I_I\\) -->\n",
       "<g id=\"edge1\" class=\"edge\"><title>EMPTY&#45;&gt;\\(I_I\\)</title>\n",
       "<path fill=\"none\" stroke=\"black\" d=\"M54.0178,-82C62.3552,-82 71.7368,-82 80.64,-82\"/>\n",
       "<polygon fill=\"black\" stroke=\"black\" points=\"80.7808,-85.5001 90.7807,-82 80.7807,-78.5001 80.7808,-85.5001\"/>\n",
       "</g>\n",
       "<!-- \\(F_I\\) -->\n",
       "<g id=\"node8\" class=\"node\"><title>\\(F_I\\)</title>\n",
       "<ellipse fill=\"none\" stroke=\"black\" cx=\"214.898\" cy=\"-119\" rx=\"28.0651\" ry=\"28.0651\"/>\n",
       "<text text-anchor=\"middle\" x=\"214.898\" y=\"-114.8\" font-family=\"Times,serif\" font-size=\"14.00\">(F_I)</text>\n",
       "</g>\n",
       "<!-- \\(I_I\\)&#45;&gt;\\(F_I\\) -->\n",
       "<g id=\"edge18\" class=\"edge\"><title>\\(I_I\\)&#45;&gt;\\(F_I\\)</title>\n",
       "<path fill=\"none\" stroke=\"black\" d=\"M143.444,-78.6997C151.67,-78.4796 160.719,-79.1837 168.617,-82 175.17,-84.3369 181.459,-88.0741 187.157,-92.2945\"/>\n",
       "<polygon fill=\"black\" stroke=\"black\" points=\"185.079,-95.1157 195.043,-98.7167 189.499,-89.688 185.079,-95.1157\"/>\n",
       "<text text-anchor=\"middle\" x=\"165.117\" y=\"-84.8\" font-family=\"Times,serif\" font-size=\"14.00\">1</text>\n",
       "</g>\n",
       "<!-- \\(I_S0\\) -->\n",
       "<g id=\"node9\" class=\"node\"><title>\\(I_S0\\)</title>\n",
       "<ellipse fill=\"none\" stroke=\"black\" cx=\"693.82\" cy=\"-99\" rx=\"32.9081\" ry=\"32.9081\"/>\n",
       "<text text-anchor=\"middle\" x=\"693.82\" y=\"-94.8\" font-family=\"Times,serif\" font-size=\"14.00\">(I_S0)</text>\n",
       "</g>\n",
       "<!-- \\(I_I\\)&#45;&gt;\\(I_S0\\) -->\n",
       "<g id=\"edge21\" class=\"edge\"><title>\\(I_I\\)&#45;&gt;\\(I_S0\\)</title>\n",
       "<path fill=\"none\" stroke=\"black\" d=\"M139.65,-67.3326C158.358,-55.9166 186.734,-42 213.898,-42 213.898,-42 213.898,-42 558.331,-42 588.12,-42 596.259,-44.8387 623.878,-56 635.73,-60.7898 647.831,-67.5771 658.519,-74.3474\"/>\n",
       "<polygon fill=\"black\" stroke=\"black\" points=\"656.844,-77.4348 667.128,-79.9863 660.68,-71.5791 656.844,-77.4348\"/>\n",
       "<text text-anchor=\"middle\" x=\"377.034\" y=\"-44.8\" font-family=\"Times,serif\" font-size=\"14.00\">0</text>\n",
       "</g>\n",
       "<!-- \\(I_F0101\\) -->\n",
       "<g id=\"node3\" class=\"node\"><title>\\(I_F0101\\)</title>\n",
       "<ellipse fill=\"none\" stroke=\"black\" cx=\"1085.97\" cy=\"-192\" rx=\"45.9373\" ry=\"45.9373\"/>\n",
       "<text text-anchor=\"middle\" x=\"1085.97\" y=\"-187.8\" font-family=\"Times,serif\" font-size=\"14.00\">(I_F0101)</text>\n",
       "</g>\n",
       "<!-- \\(I_S010\\) -->\n",
       "<g id=\"node6\" class=\"node\"><title>\\(I_S010\\)</title>\n",
       "<ellipse fill=\"none\" stroke=\"black\" cx=\"557.331\" cy=\"-192\" rx=\"41.5938\" ry=\"41.5938\"/>\n",
       "<text text-anchor=\"middle\" x=\"557.331\" y=\"-187.8\" font-family=\"Times,serif\" font-size=\"14.00\">(I_S010)</text>\n",
       "</g>\n",
       "<!-- \\(I_F0101\\)&#45;&gt;\\(I_S010\\) -->\n",
       "<g id=\"edge4\" class=\"edge\"><title>\\(I_F0101\\)&#45;&gt;\\(I_S010\\)</title>\n",
       "<path fill=\"none\" stroke=\"black\" d=\"M1039.98,-192C1014.83,-192 982.91,-192 954.479,-192 692.82,-192 692.82,-192 692.82,-192 665.116,-192 634.202,-192 609.005,-192\"/>\n",
       "<polygon fill=\"black\" stroke=\"black\" points=\"608.939,-188.5 598.939,-192 608.939,-195.5 608.939,-188.5\"/>\n",
       "<text text-anchor=\"middle\" x=\"827.86\" y=\"-194.8\" font-family=\"Times,serif\" font-size=\"14.00\">0</text>\n",
       "</g>\n",
       "<!-- \\(I_F0101\\)&#45;&gt;\\(F_I\\) -->\n",
       "<g id=\"edge15\" class=\"edge\"><title>\\(I_F0101\\)&#45;&gt;\\(F_I\\)</title>\n",
       "<path fill=\"none\" stroke=\"black\" d=\"M1069.67,-148.693C1050.47,-103.143 1012.83,-38 954.479,-38 766.262,-38 766.262,-38 766.262,-38 644.389,-38 617.157,-80 495.284,-80 319.857,-80 319.857,-80 319.857,-80 294.729,-80 268.236,-90.1121 248.284,-100.038\"/>\n",
       "<polygon fill=\"black\" stroke=\"black\" points=\"246.583,-96.9779 239.328,-104.699 249.815,-103.187 246.583,-96.9779\"/>\n",
       "<text text-anchor=\"middle\" x=\"620.378\" y=\"-65.8\" font-family=\"Times,serif\" font-size=\"14.00\">1</text>\n",
       "</g>\n",
       "<!-- \\(F_S0\\) -->\n",
       "<g id=\"node4\" class=\"node\"><title>\\(F_S0\\)</title>\n",
       "<ellipse fill=\"none\" stroke=\"black\" cx=\"320.857\" cy=\"-193\" rx=\"34.8545\" ry=\"34.8545\"/>\n",
       "<text text-anchor=\"middle\" x=\"320.857\" y=\"-188.8\" font-family=\"Times,serif\" font-size=\"14.00\">(F_S0)</text>\n",
       "</g>\n",
       "<!-- \\(F_S0\\)&#45;&gt;\\(F_S0\\) -->\n",
       "<g id=\"edge19\" class=\"edge\"><title>\\(F_S0\\)&#45;&gt;\\(F_S0\\)</title>\n",
       "<path fill=\"none\" stroke=\"black\" d=\"M310.357,-226.18C310.412,-237.034 313.912,-245.677 320.857,-245.677 325.415,-245.677 328.489,-241.955 330.079,-236.328\"/>\n",
       "<polygon fill=\"black\" stroke=\"black\" points=\"333.58,-236.539 331.356,-226.18 326.635,-235.664 333.58,-236.539\"/>\n",
       "<text text-anchor=\"middle\" x=\"320.857\" y=\"-248.477\" font-family=\"Times,serif\" font-size=\"14.00\">0</text>\n",
       "</g>\n",
       "<!-- \\(I_S01\\) -->\n",
       "<g id=\"node7\" class=\"node\"><title>\\(I_S01\\)</title>\n",
       "<ellipse fill=\"none\" stroke=\"black\" cx=\"435.659\" cy=\"-192\" rx=\"37.2507\" ry=\"37.2507\"/>\n",
       "<text text-anchor=\"middle\" x=\"435.659\" y=\"-187.8\" font-family=\"Times,serif\" font-size=\"14.00\">(I_S01)</text>\n",
       "</g>\n",
       "<!-- \\(F_S0\\)&#45;&gt;\\(I_S01\\) -->\n",
       "<g id=\"edge12\" class=\"edge\"><title>\\(F_S0\\)&#45;&gt;\\(I_S01\\)</title>\n",
       "<path fill=\"none\" stroke=\"black\" d=\"M355.701,-192.7C365.93,-192.609 377.345,-192.508 388.245,-192.411\"/>\n",
       "<polygon fill=\"black\" stroke=\"black\" points=\"388.514,-195.909 398.483,-192.321 388.452,-188.91 388.514,-195.909\"/>\n",
       "<text text-anchor=\"middle\" x=\"377.034\" y=\"-195.8\" font-family=\"Times,serif\" font-size=\"14.00\">1</text>\n",
       "</g>\n",
       "<!-- \\(F_S01\\) -->\n",
       "<g id=\"node5\" class=\"node\"><title>\\(F_S01\\)</title>\n",
       "<ellipse fill=\"none\" stroke=\"black\" cx=\"827.86\" cy=\"-105\" rx=\"39.1973\" ry=\"39.1973\"/>\n",
       "<text text-anchor=\"middle\" x=\"827.86\" y=\"-100.8\" font-family=\"Times,serif\" font-size=\"14.00\">(F_S01)</text>\n",
       "</g>\n",
       "<!-- \\(F_S01\\)&#45;&gt;\\(I_I\\) -->\n",
       "<g id=\"edge5\" class=\"edge\"><title>\\(F_S01\\)&#45;&gt;\\(I_I\\)</title>\n",
       "<path fill=\"none\" stroke=\"black\" d=\"M805.503,-72.6398C782.291,-41.7883 742.12,-0 694.82,-0 213.898,-0 213.898,-0 213.898,-0 181.183,-0 154.056,-28.0119 137.16,-51.2913\"/>\n",
       "<polygon fill=\"black\" stroke=\"black\" points=\"134.226,-49.3802 131.407,-59.5931 139.98,-53.3674 134.226,-49.3802\"/>\n",
       "<text text-anchor=\"middle\" x=\"435.659\" y=\"-2.8\" font-family=\"Times,serif\" font-size=\"14.00\">1</text>\n",
       "</g>\n",
       "<!-- \\(F_S010\\) -->\n",
       "<g id=\"node10\" class=\"node\"><title>\\(F_S010\\)</title>\n",
       "<ellipse fill=\"none\" stroke=\"black\" cx=\"953.479\" cy=\"-266\" rx=\"43.5405\" ry=\"43.5405\"/>\n",
       "<text text-anchor=\"middle\" x=\"953.479\" y=\"-261.8\" font-family=\"Times,serif\" font-size=\"14.00\">(F_S010)</text>\n",
       "</g>\n",
       "<!-- \\(F_S01\\)&#45;&gt;\\(F_S010\\) -->\n",
       "<g id=\"edge8\" class=\"edge\"><title>\\(F_S01\\)&#45;&gt;\\(F_S010\\)</title>\n",
       "<path fill=\"none\" stroke=\"black\" d=\"M852.403,-135.662C871.594,-160.656 898.9,-196.219 920.142,-223.885\"/>\n",
       "<polygon fill=\"black\" stroke=\"black\" points=\"917.376,-226.029 926.242,-231.829 922.928,-221.766 917.376,-226.029\"/>\n",
       "<text text-anchor=\"middle\" x=\"888.459\" y=\"-188.8\" font-family=\"Times,serif\" font-size=\"14.00\">0</text>\n",
       "</g>\n",
       "<!-- \\(I_S010\\)&#45;&gt;\\(I_S0\\) -->\n",
       "<g id=\"edge10\" class=\"edge\"><title>\\(I_S010\\)&#45;&gt;\\(I_S0\\)</title>\n",
       "<path fill=\"none\" stroke=\"black\" d=\"M591.921,-168.772C612.072,-154.838 637.655,-137.147 658.018,-123.066\"/>\n",
       "<polygon fill=\"black\" stroke=\"black\" points=\"660.16,-125.84 666.395,-117.273 656.179,-120.082 660.16,-125.84\"/>\n",
       "<text text-anchor=\"middle\" x=\"620.378\" y=\"-154.8\" font-family=\"Times,serif\" font-size=\"14.00\">0</text>\n",
       "</g>\n",
       "<!-- \\(F_F0101\\) -->\n",
       "<g id=\"node11\" class=\"node\"><title>\\(F_F0101\\)</title>\n",
       "<ellipse fill=\"none\" stroke=\"black\" cx=\"693.82\" cy=\"-272\" rx=\"47.8885\" ry=\"47.8885\"/>\n",
       "<ellipse fill=\"none\" stroke=\"black\" cx=\"693.82\" cy=\"-272\" rx=\"51.8841\" ry=\"51.8841\"/>\n",
       "<text text-anchor=\"middle\" x=\"693.82\" y=\"-267.8\" font-family=\"Times,serif\" font-size=\"14.00\">(F_F0101)</text>\n",
       "</g>\n",
       "<!-- \\(I_S010\\)&#45;&gt;\\(F_F0101\\) -->\n",
       "<g id=\"edge6\" class=\"edge\"><title>\\(I_S010\\)&#45;&gt;\\(F_F0101\\)</title>\n",
       "<path fill=\"none\" stroke=\"black\" d=\"M593.315,-212.81C607.631,-221.326 624.503,-231.362 640.247,-240.727\"/>\n",
       "<polygon fill=\"black\" stroke=\"black\" points=\"638.471,-243.743 648.854,-245.847 642.049,-237.727 638.471,-243.743\"/>\n",
       "<text text-anchor=\"middle\" x=\"620.378\" y=\"-232.8\" font-family=\"Times,serif\" font-size=\"14.00\">1</text>\n",
       "</g>\n",
       "<!-- \\(I_S01\\)&#45;&gt;\\(I_S010\\) -->\n",
       "<g id=\"edge3\" class=\"edge\"><title>\\(I_S01\\)&#45;&gt;\\(I_S010\\)</title>\n",
       "<path fill=\"none\" stroke=\"black\" d=\"M472.889,-192C483.107,-192 494.419,-192 505.33,-192\"/>\n",
       "<polygon fill=\"black\" stroke=\"black\" points=\"505.62,-195.5 515.62,-192 505.62,-188.5 505.62,-195.5\"/>\n",
       "<text text-anchor=\"middle\" x=\"494.284\" y=\"-194.8\" font-family=\"Times,serif\" font-size=\"14.00\">0</text>\n",
       "</g>\n",
       "<!-- \\(I_S01\\)&#45;&gt;\\(F_I\\) -->\n",
       "<g id=\"edge14\" class=\"edge\"><title>\\(I_S01\\)&#45;&gt;\\(F_I\\)</title>\n",
       "<path fill=\"none\" stroke=\"black\" d=\"M407.793,-167.332C393.361,-155.531 374.639,-142.392 355.534,-135 322.598,-122.257 282.274,-118.808 253.441,-118.218\"/>\n",
       "<polygon fill=\"black\" stroke=\"black\" points=\"253.408,-114.718 243.374,-118.118 253.338,-121.717 253.408,-114.718\"/>\n",
       "<text text-anchor=\"middle\" x=\"320.857\" y=\"-137.8\" font-family=\"Times,serif\" font-size=\"14.00\">1</text>\n",
       "</g>\n",
       "<!-- \\(F_I\\)&#45;&gt;\\(I_I\\) -->\n",
       "<g id=\"edge2\" class=\"edge\"><title>\\(F_I\\)&#45;&gt;\\(I_I\\)</title>\n",
       "<path fill=\"none\" stroke=\"black\" d=\"M188.109,-109.018C177.007,-104.72 163.878,-99.6387 152.02,-95.0487\"/>\n",
       "<polygon fill=\"black\" stroke=\"black\" points=\"153.019,-91.6824 142.43,-91.3367 150.492,-98.2105 153.019,-91.6824\"/>\n",
       "<text text-anchor=\"middle\" x=\"165.117\" y=\"-103.8\" font-family=\"Times,serif\" font-size=\"14.00\">1</text>\n",
       "</g>\n",
       "<!-- \\(F_I\\)&#45;&gt;\\(F_S0\\) -->\n",
       "<g id=\"edge13\" class=\"edge\"><title>\\(F_I\\)&#45;&gt;\\(F_S0\\)</title>\n",
       "<path fill=\"none\" stroke=\"black\" d=\"M238.456,-135.057C251.758,-144.526 268.893,-156.723 284.008,-167.482\"/>\n",
       "<polygon fill=\"black\" stroke=\"black\" points=\"281.983,-170.337 292.16,-173.285 286.043,-164.634 281.983,-170.337\"/>\n",
       "<text text-anchor=\"middle\" x=\"264.68\" y=\"-158.8\" font-family=\"Times,serif\" font-size=\"14.00\">0</text>\n",
       "</g>\n",
       "<!-- \\(I_S0\\)&#45;&gt;\\(F_S01\\) -->\n",
       "<g id=\"edge20\" class=\"edge\"><title>\\(I_S0\\)&#45;&gt;\\(F_S01\\)</title>\n",
       "<path fill=\"none\" stroke=\"black\" d=\"M726.783,-100.452C742.205,-101.153 761.042,-102.009 778.196,-102.789\"/>\n",
       "<polygon fill=\"black\" stroke=\"black\" points=\"778.465,-106.304 788.613,-103.262 778.783,-99.3116 778.465,-106.304\"/>\n",
       "<text text-anchor=\"middle\" x=\"767.262\" y=\"-105.8\" font-family=\"Times,serif\" font-size=\"14.00\">1</text>\n",
       "</g>\n",
       "<!-- \\(I_S0\\)&#45;&gt;\\(I_S0\\) -->\n",
       "<g id=\"edge17\" class=\"edge\"><title>\\(I_S0\\)&#45;&gt;\\(I_S0\\)</title>\n",
       "<path fill=\"none\" stroke=\"black\" d=\"M680.36,-128.939C679.841,-140.303 684.328,-149.703 693.82,-149.703 700.197,-149.703 704.315,-145.46 706.174,-139.229\"/>\n",
       "<polygon fill=\"black\" stroke=\"black\" points=\"709.691,-139.255 707.279,-128.939 702.731,-138.507 709.691,-139.255\"/>\n",
       "<text text-anchor=\"middle\" x=\"693.82\" y=\"-152.503\" font-family=\"Times,serif\" font-size=\"14.00\">0</text>\n",
       "</g>\n",
       "<!-- \\(F_S010\\)&#45;&gt;\\(I_F0101\\) -->\n",
       "<g id=\"edge16\" class=\"edge\"><title>\\(F_S010\\)&#45;&gt;\\(I_F0101\\)</title>\n",
       "<path fill=\"none\" stroke=\"black\" d=\"M991.872,-244.795C1005.72,-236.943 1021.62,-227.923 1036.32,-219.586\"/>\n",
       "<polygon fill=\"black\" stroke=\"black\" points=\"1038.32,-222.477 1045.29,-214.5 1034.87,-216.388 1038.32,-222.477\"/>\n",
       "<text text-anchor=\"middle\" x=\"1018.5\" y=\"-234.8\" font-family=\"Times,serif\" font-size=\"14.00\">1</text>\n",
       "</g>\n",
       "<!-- \\(F_S010\\)&#45;&gt;\\(F_S0\\) -->\n",
       "<g id=\"edge11\" class=\"edge\"><title>\\(F_S010\\)&#45;&gt;\\(F_S0\\)</title>\n",
       "<path fill=\"none\" stroke=\"black\" d=\"M925.233,-299.496C902.348,-323.643 867.292,-352 828.86,-352 434.659,-352 434.659,-352 434.659,-352 377.783,-352 346.97,-283.486 332.512,-236.408\"/>\n",
       "<polygon fill=\"black\" stroke=\"black\" points=\"335.844,-235.331 329.671,-226.72 329.126,-237.301 335.844,-235.331\"/>\n",
       "<text text-anchor=\"middle\" x=\"620.378\" y=\"-354.8\" font-family=\"Times,serif\" font-size=\"14.00\">0</text>\n",
       "</g>\n",
       "<!-- \\(F_F0101\\)&#45;&gt;\\(I_I\\) -->\n",
       "<g id=\"edge7\" class=\"edge\"><title>\\(F_F0101\\)&#45;&gt;\\(I_I\\)</title>\n",
       "<path fill=\"none\" stroke=\"black\" d=\"M669.363,-317.917C657.883,-336.412 642.493,-356.515 623.878,-370 599.212,-387.869 588.789,-390 558.331,-390 213.898,-390 213.898,-390 213.898,-390 157.637,-390 130.798,-200.171 121.861,-118.57\"/>\n",
       "<polygon fill=\"black\" stroke=\"black\" points=\"125.302,-117.834 120.764,-108.26 118.341,-118.574 125.302,-117.834\"/>\n",
       "<text text-anchor=\"middle\" x=\"377.034\" y=\"-392.8\" font-family=\"Times,serif\" font-size=\"14.00\">1</text>\n",
       "</g>\n",
       "<!-- \\(F_F0101\\)&#45;&gt;\\(F_S010\\) -->\n",
       "<g id=\"edge9\" class=\"edge\"><title>\\(F_F0101\\)&#45;&gt;\\(F_S010\\)</title>\n",
       "<path fill=\"none\" stroke=\"black\" d=\"M746.033,-270.807C790.556,-269.771 854.796,-268.275 899.757,-267.228\"/>\n",
       "<polygon fill=\"black\" stroke=\"black\" points=\"899.978,-270.724 909.894,-266.992 899.815,-263.726 899.978,-270.724\"/>\n",
       "<text text-anchor=\"middle\" x=\"827.86\" y=\"-271.8\" font-family=\"Times,serif\" font-size=\"14.00\">0</text>\n",
       "</g>\n",
       "</g>\n",
       "</svg>\n"
      ],
      "text/plain": [
       "<graphviz.dot.Digraph at 0x10c82bf98>"
      ]
     },
     "execution_count": 109,
     "metadata": {},
     "output_type": "execute_result"
    }
   ],
   "source": [
    "dotObj_dfa(odd1sANDends0101)"
   ]
  },
  {
   "cell_type": "code",
   "execution_count": 110,
   "metadata": {
    "run_control": {
     "frozen": false,
     "read_only": false
    }
   },
   "outputs": [],
   "source": [
    "Minodd1sANDends0101 = min_dfa(odd1sANDends0101)"
   ]
  },
  {
   "cell_type": "code",
   "execution_count": 111,
   "metadata": {
    "run_control": {
     "frozen": false,
     "read_only": false
    }
   },
   "outputs": [
    {
     "data": {
      "image/svg+xml": [
       "<?xml version=\"1.0\" encoding=\"UTF-8\" standalone=\"no\"?>\n",
       "<!DOCTYPE svg PUBLIC \"-//W3C//DTD SVG 1.1//EN\"\n",
       " \"http://www.w3.org/Graphics/SVG/1.1/DTD/svg11.dtd\">\n",
       "<!-- Generated by graphviz version 2.38.0 (20140413.2041)\n",
       " -->\n",
       "<!-- Title: %3 Pages: 1 -->\n",
       "<svg width=\"802pt\" height=\"256pt\"\n",
       " viewBox=\"0.00 0.00 801.93 256.00\" xmlns=\"http://www.w3.org/2000/svg\" xmlns:xlink=\"http://www.w3.org/1999/xlink\">\n",
       "<g id=\"graph0\" class=\"graph\" transform=\"scale(1 1) rotate(0) translate(4 252)\">\n",
       "<title>%3</title>\n",
       "<polygon fill=\"white\" stroke=\"none\" points=\"-4,4 -4,-252 797.926,-252 797.926,4 -4,4\"/>\n",
       "<!-- EMPTY -->\n",
       "<g id=\"node1\" class=\"node\"><title>EMPTY</title>\n",
       "</g>\n",
       "<!-- \\(I_S0\\) -->\n",
       "<g id=\"node5\" class=\"node\"><title>\\(I_S0\\)</title>\n",
       "<ellipse fill=\"none\" stroke=\"black\" cx=\"123.703\" cy=\"-150\" rx=\"32.9081\" ry=\"32.9081\"/>\n",
       "<text text-anchor=\"middle\" x=\"123.703\" y=\"-145.8\" font-family=\"Times,serif\" font-size=\"14.00\">(I_S0)</text>\n",
       "</g>\n",
       "<!-- EMPTY&#45;&gt;\\(I_S0\\) -->\n",
       "<g id=\"edge1\" class=\"edge\"><title>EMPTY&#45;&gt;\\(I_S0\\)</title>\n",
       "<path fill=\"none\" stroke=\"black\" d=\"M54.1288,-150C62.4028,-150 71.7668,-150 80.8565,-150\"/>\n",
       "<polygon fill=\"black\" stroke=\"black\" points=\"80.9299,-153.5 90.9298,-150 80.9298,-146.5 80.9299,-153.5\"/>\n",
       "</g>\n",
       "<!-- \\(I_F0101\\) -->\n",
       "<g id=\"node2\" class=\"node\"><title>\\(I_F0101\\)</title>\n",
       "<ellipse fill=\"none\" stroke=\"black\" cx=\"474.979\" cy=\"-153\" rx=\"45.9373\" ry=\"45.9373\"/>\n",
       "<text text-anchor=\"middle\" x=\"474.979\" y=\"-148.8\" font-family=\"Times,serif\" font-size=\"14.00\">(I_F0101)</text>\n",
       "</g>\n",
       "<!-- \\(F_I\\) -->\n",
       "<g id=\"node3\" class=\"node\"><title>\\(F_I\\)</title>\n",
       "<ellipse fill=\"none\" stroke=\"black\" cx=\"227.689\" cy=\"-151\" rx=\"28.0651\" ry=\"28.0651\"/>\n",
       "<text text-anchor=\"middle\" x=\"227.689\" y=\"-146.8\" font-family=\"Times,serif\" font-size=\"14.00\">(F_I)</text>\n",
       "</g>\n",
       "<!-- \\(I_F0101\\)&#45;&gt;\\(F_I\\) -->\n",
       "<g id=\"edge11\" class=\"edge\"><title>\\(I_F0101\\)&#45;&gt;\\(F_I\\)</title>\n",
       "<path fill=\"none\" stroke=\"black\" d=\"M429.002,-155.645C393.643,-157.333 343.15,-158.882 298.97,-157 288.326,-156.546 276.799,-155.708 266.219,-154.799\"/>\n",
       "<polygon fill=\"black\" stroke=\"black\" points=\"266.297,-151.292 256.023,-153.878 265.667,-158.264 266.297,-151.292\"/>\n",
       "<text text-anchor=\"middle\" x=\"342.491\" y=\"-160.8\" font-family=\"Times,serif\" font-size=\"14.00\">1</text>\n",
       "</g>\n",
       "<!-- \\(I_S010\\) -->\n",
       "<g id=\"node4\" class=\"node\"><title>\\(I_S010\\)</title>\n",
       "<ellipse fill=\"none\" stroke=\"black\" cx=\"605.495\" cy=\"-153\" rx=\"41.5938\" ry=\"41.5938\"/>\n",
       "<text text-anchor=\"middle\" x=\"605.495\" y=\"-148.8\" font-family=\"Times,serif\" font-size=\"14.00\">(I_S010)</text>\n",
       "</g>\n",
       "<!-- \\(I_F0101\\)&#45;&gt;\\(I_S010\\) -->\n",
       "<g id=\"edge3\" class=\"edge\"><title>\\(I_F0101\\)&#45;&gt;\\(I_S010\\)</title>\n",
       "<path fill=\"none\" stroke=\"black\" d=\"M521.289,-153C531.804,-153 543.062,-153 553.792,-153\"/>\n",
       "<polygon fill=\"black\" stroke=\"black\" points=\"553.876,-156.5 563.876,-153 553.876,-149.5 553.876,-156.5\"/>\n",
       "<text text-anchor=\"middle\" x=\"542.448\" y=\"-155.8\" font-family=\"Times,serif\" font-size=\"14.00\">0</text>\n",
       "</g>\n",
       "<!-- \\(F_I\\)&#45;&gt;\\(I_S0\\) -->\n",
       "<g id=\"edge2\" class=\"edge\"><title>\\(F_I\\)&#45;&gt;\\(I_S0\\)</title>\n",
       "<path fill=\"none\" stroke=\"black\" d=\"M199.134,-150.73C189.143,-150.632 177.619,-150.519 166.668,-150.411\"/>\n",
       "<polygon fill=\"black\" stroke=\"black\" points=\"166.447,-146.909 156.413,-150.311 166.378,-153.909 166.447,-146.909\"/>\n",
       "<text text-anchor=\"middle\" x=\"177.907\" y=\"-153.8\" font-family=\"Times,serif\" font-size=\"14.00\">1</text>\n",
       "</g>\n",
       "<!-- \\(F_S010\\) -->\n",
       "<g id=\"node6\" class=\"node\"><title>\\(F_S010\\)</title>\n",
       "<ellipse fill=\"none\" stroke=\"black\" cx=\"342.491\" cy=\"-72\" rx=\"43.5405\" ry=\"43.5405\"/>\n",
       "<text text-anchor=\"middle\" x=\"342.491\" y=\"-67.8\" font-family=\"Times,serif\" font-size=\"14.00\">(F_S010)</text>\n",
       "</g>\n",
       "<!-- \\(F_I\\)&#45;&gt;\\(F_S010\\) -->\n",
       "<g id=\"edge6\" class=\"edge\"><title>\\(F_I\\)&#45;&gt;\\(F_S010\\)</title>\n",
       "<path fill=\"none\" stroke=\"black\" d=\"M251.245,-135.203C264.481,-125.933 281.664,-113.899 297.48,-102.823\"/>\n",
       "<polygon fill=\"black\" stroke=\"black\" points=\"299.909,-105.395 306.092,-96.7912 295.893,-99.6609 299.909,-105.395\"/>\n",
       "<text text-anchor=\"middle\" x=\"277.47\" y=\"-121.8\" font-family=\"Times,serif\" font-size=\"14.00\">0</text>\n",
       "</g>\n",
       "<!-- \\(I_S010\\)&#45;&gt;\\(I_S0\\) -->\n",
       "<g id=\"edge8\" class=\"edge\"><title>\\(I_S010\\)&#45;&gt;\\(I_S0\\)</title>\n",
       "<path fill=\"none\" stroke=\"black\" d=\"M576.504,-183.623C552.365,-206.56 515.276,-234 475.979,-234 226.689,-234 226.689,-234 226.689,-234 194.268,-234 166.56,-208.396 148.243,-185.46\"/>\n",
       "<polygon fill=\"black\" stroke=\"black\" points=\"151.017,-183.325 142.164,-177.505 145.455,-187.575 151.017,-183.325\"/>\n",
       "<text text-anchor=\"middle\" x=\"342.491\" y=\"-236.8\" font-family=\"Times,serif\" font-size=\"14.00\">0</text>\n",
       "</g>\n",
       "<!-- \\(F_F0101\\) -->\n",
       "<g id=\"node7\" class=\"node\"><title>\\(F_F0101\\)</title>\n",
       "<ellipse fill=\"none\" stroke=\"black\" cx=\"741.984\" cy=\"-72\" rx=\"47.8885\" ry=\"47.8885\"/>\n",
       "<ellipse fill=\"none\" stroke=\"black\" cx=\"741.984\" cy=\"-72\" rx=\"51.8841\" ry=\"51.8841\"/>\n",
       "<text text-anchor=\"middle\" x=\"741.984\" y=\"-67.8\" font-family=\"Times,serif\" font-size=\"14.00\">(F_F0101)</text>\n",
       "</g>\n",
       "<!-- \\(I_S010\\)&#45;&gt;\\(F_F0101\\) -->\n",
       "<g id=\"edge4\" class=\"edge\"><title>\\(I_S010\\)&#45;&gt;\\(F_F0101\\)</title>\n",
       "<path fill=\"none\" stroke=\"black\" d=\"M641.479,-131.93C655.795,-123.308 672.667,-113.146 688.411,-103.664\"/>\n",
       "<polygon fill=\"black\" stroke=\"black\" points=\"690.258,-106.637 697.018,-98.4795 686.646,-100.641 690.258,-106.637\"/>\n",
       "<text text-anchor=\"middle\" x=\"668.542\" y=\"-120.8\" font-family=\"Times,serif\" font-size=\"14.00\">1</text>\n",
       "</g>\n",
       "<!-- \\(I_S0\\)&#45;&gt;\\(F_I\\) -->\n",
       "<g id=\"edge13\" class=\"edge\"><title>\\(I_S0\\)&#45;&gt;\\(F_I\\)</title>\n",
       "<path fill=\"none\" stroke=\"black\" d=\"M153.267,-135.819C162.185,-132.917 172.12,-131.222 181.407,-133 185.026,-133.693 188.725,-134.671 192.372,-135.818\"/>\n",
       "<polygon fill=\"black\" stroke=\"black\" points=\"191.216,-139.122 201.811,-139.165 193.556,-132.524 191.216,-139.122\"/>\n",
       "<text text-anchor=\"middle\" x=\"177.907\" y=\"-135.8\" font-family=\"Times,serif\" font-size=\"14.00\">1</text>\n",
       "</g>\n",
       "<!-- \\(I_S0\\)&#45;&gt;\\(I_S0\\) -->\n",
       "<g id=\"edge12\" class=\"edge\"><title>\\(I_S0\\)&#45;&gt;\\(I_S0\\)</title>\n",
       "<path fill=\"none\" stroke=\"black\" d=\"M114.328,-181.69C114.328,-192.253 117.453,-200.703 123.703,-200.703 127.707,-200.703 130.429,-197.235 131.868,-191.965\"/>\n",
       "<polygon fill=\"black\" stroke=\"black\" points=\"135.384,-192.031 133.078,-181.69 128.432,-191.211 135.384,-192.031\"/>\n",
       "<text text-anchor=\"middle\" x=\"123.703\" y=\"-203.503\" font-family=\"Times,serif\" font-size=\"14.00\">0</text>\n",
       "</g>\n",
       "<!-- \\(F_S010\\)&#45;&gt;\\(I_F0101\\) -->\n",
       "<g id=\"edge10\" class=\"edge\"><title>\\(F_S010\\)&#45;&gt;\\(I_F0101\\)</title>\n",
       "<path fill=\"none\" stroke=\"black\" d=\"M379.839,-94.563C394.338,-103.563 411.223,-114.044 426.657,-123.625\"/>\n",
       "<polygon fill=\"black\" stroke=\"black\" points=\"425.206,-126.844 435.548,-129.144 428.898,-120.896 425.206,-126.844\"/>\n",
       "<text text-anchor=\"middle\" x=\"407.511\" y=\"-115.8\" font-family=\"Times,serif\" font-size=\"14.00\">1</text>\n",
       "</g>\n",
       "<!-- \\(F_S010\\)&#45;&gt;\\(F_S010\\) -->\n",
       "<g id=\"edge9\" class=\"edge\"><title>\\(F_S010\\)&#45;&gt;\\(F_S010\\)</title>\n",
       "<path fill=\"none\" stroke=\"black\" d=\"M330.596,-113.981C331.276,-125.099 335.241,-133.52 342.491,-133.52 347.362,-133.52 350.75,-129.719 352.655,-123.852\"/>\n",
       "<polygon fill=\"black\" stroke=\"black\" points=\"356.106,-124.435 354.385,-113.981 349.211,-123.227 356.106,-124.435\"/>\n",
       "<text text-anchor=\"middle\" x=\"342.491\" y=\"-136.32\" font-family=\"Times,serif\" font-size=\"14.00\">0</text>\n",
       "</g>\n",
       "<!-- \\(F_F0101\\)&#45;&gt;\\(I_S0\\) -->\n",
       "<g id=\"edge5\" class=\"edge\"><title>\\(F_F0101\\)&#45;&gt;\\(I_S0\\)</title>\n",
       "<path fill=\"none\" stroke=\"black\" d=\"M702.358,-38.3189C676.906,-19.5801 641.851,-0 606.495,-0 226.689,-0 226.689,-0 226.689,-0 173.991,-0 146.61,-64.0959 133.965,-108.49\"/>\n",
       "<polygon fill=\"black\" stroke=\"black\" points=\"130.574,-107.622 131.345,-118.189 137.332,-109.448 130.574,-107.622\"/>\n",
       "<text text-anchor=\"middle\" x=\"407.511\" y=\"-2.8\" font-family=\"Times,serif\" font-size=\"14.00\">1</text>\n",
       "</g>\n",
       "<!-- \\(F_F0101\\)&#45;&gt;\\(F_S010\\) -->\n",
       "<g id=\"edge7\" class=\"edge\"><title>\\(F_F0101\\)&#45;&gt;\\(F_S010\\)</title>\n",
       "<path fill=\"none\" stroke=\"black\" d=\"M690.035,-72C614.414,-72 473.164,-72 396.417,-72\"/>\n",
       "<polygon fill=\"black\" stroke=\"black\" points=\"396.029,-68.5001 386.029,-72 396.029,-75.5001 396.029,-68.5001\"/>\n",
       "<text text-anchor=\"middle\" x=\"542.448\" y=\"-74.8\" font-family=\"Times,serif\" font-size=\"14.00\">0</text>\n",
       "</g>\n",
       "</g>\n",
       "</svg>\n"
      ],
      "text/plain": [
       "<graphviz.dot.Digraph at 0x10c821e48>"
      ]
     },
     "execution_count": 111,
     "metadata": {},
     "output_type": "execute_result"
    }
   ],
   "source": [
    "dotObj_dfa(Minodd1sANDends0101)"
   ]
  },
  {
   "cell_type": "code",
   "execution_count": 112,
   "metadata": {
    "run_control": {
     "frozen": false,
     "read_only": false
    }
   },
   "outputs": [
    {
     "data": {
      "text/plain": [
       "'// do_St43\\ndigraph {\\n\\tgraph [rankdir=LR]\\n\\t\\tEMPTY [label=\"\" shape=plaintext]\\n\\t\\t\"\\\\(I_F0101\\\\)\" [label=\"\\\\(I_F0101\\\\)\" peripheries=1 shape=circle]\\n\\t\\t\"\\\\(F_I\\\\)\" [label=\"\\\\(F_I\\\\)\" peripheries=1 shape=circle]\\n\\t\\t\"\\\\(I_S010\\\\)\" [label=\"\\\\(I_S010\\\\)\" peripheries=1 shape=circle]\\n\\t\\t\"\\\\(I_S0\\\\)\" [label=\"\\\\(I_S0\\\\)\" peripheries=1 shape=circle]\\n\\t\\t\"\\\\(F_S010\\\\)\" [label=\"\\\\(F_S010\\\\)\" peripheries=1 shape=circle]\\n\\t\\t\"\\\\(F_F0101\\\\)\" [label=\"\\\\(F_F0101\\\\)\" peripheries=2 shape=circle]\\n\\t\\t\\tEMPTY -> \"\\\\(I_S0\\\\)\"\\n\\t\\t\\t\"\\\\(F_I\\\\)\" -> \"\\\\(I_S0\\\\)\" [label=1]\\n\\t\\t\\t\"\\\\(I_F0101\\\\)\" -> \"\\\\(I_S010\\\\)\" [label=0]\\n\\t\\t\\t\"\\\\(I_S010\\\\)\" -> \"\\\\(F_F0101\\\\)\" [label=1]\\n\\t\\t\\t\"\\\\(F_F0101\\\\)\" -> \"\\\\(I_S0\\\\)\" [label=1]\\n\\t\\t\\t\"\\\\(F_I\\\\)\" -> \"\\\\(F_S010\\\\)\" [label=0]\\n\\t\\t\\t\"\\\\(F_F0101\\\\)\" -> \"\\\\(F_S010\\\\)\" [label=0]\\n\\t\\t\\t\"\\\\(I_S010\\\\)\" -> \"\\\\(I_S0\\\\)\" [label=0]\\n\\t\\t\\t\"\\\\(F_S010\\\\)\" -> \"\\\\(F_S010\\\\)\" [label=0]\\n\\t\\t\\t\"\\\\(F_S010\\\\)\" -> \"\\\\(I_F0101\\\\)\" [label=1]\\n\\t\\t\\t\"\\\\(I_F0101\\\\)\" -> \"\\\\(F_I\\\\)\" [label=1]\\n\\t\\t\\t\"\\\\(I_S0\\\\)\" -> \"\\\\(I_S0\\\\)\" [label=0]\\n\\t\\t\\t\"\\\\(I_S0\\\\)\" -> \"\\\\(F_I\\\\)\" [label=1]\\n}'"
      ]
     },
     "execution_count": 112,
     "metadata": {},
     "output_type": "execute_result"
    }
   ],
   "source": [
    "dotObj_dfa(Minodd1sANDends0101).source"
   ]
  },
  {
   "cell_type": "code",
   "execution_count": 113,
   "metadata": {
    "run_control": {
     "frozen": false,
     "read_only": false
    }
   },
   "outputs": [],
   "source": [
    "CdfaOdd1s = comp_dfa(dfaOdd1s)"
   ]
  },
  {
   "cell_type": "code",
   "execution_count": 114,
   "metadata": {
    "run_control": {
     "frozen": false,
     "read_only": false
    }
   },
   "outputs": [],
   "source": [
    "Cends0101 = comp_dfa(ends0101)"
   ]
  },
  {
   "cell_type": "code",
   "execution_count": 115,
   "metadata": {
    "run_control": {
     "frozen": false,
     "read_only": false
    }
   },
   "outputs": [],
   "source": [
    "C_CdfaOdd1sORCends0101 = comp_dfa(union_dfa(CdfaOdd1s, Cends0101))"
   ]
  },
  {
   "cell_type": "code",
   "execution_count": 116,
   "metadata": {
    "run_control": {
     "frozen": false,
     "read_only": false
    }
   },
   "outputs": [
    {
     "data": {
      "image/svg+xml": [
       "<?xml version=\"1.0\" encoding=\"UTF-8\" standalone=\"no\"?>\n",
       "<!DOCTYPE svg PUBLIC \"-//W3C//DTD SVG 1.1//EN\"\n",
       " \"http://www.w3.org/Graphics/SVG/1.1/DTD/svg11.dtd\">\n",
       "<!-- Generated by graphviz version 2.38.0 (20140413.2041)\n",
       " -->\n",
       "<!-- Title: %3 Pages: 1 -->\n",
       "<svg width=\"1140pt\" height=\"412pt\"\n",
       " viewBox=\"0.00 0.00 1139.94 412.00\" xmlns=\"http://www.w3.org/2000/svg\" xmlns:xlink=\"http://www.w3.org/1999/xlink\">\n",
       "<g id=\"graph0\" class=\"graph\" transform=\"scale(1 1) rotate(0) translate(4 408)\">\n",
       "<title>%3</title>\n",
       "<polygon fill=\"white\" stroke=\"none\" points=\"-4,4 -4,-408 1135.94,-408 1135.94,4 -4,4\"/>\n",
       "<!-- EMPTY -->\n",
       "<g id=\"node1\" class=\"node\"><title>EMPTY</title>\n",
       "</g>\n",
       "<!-- \\(I_I\\) -->\n",
       "<g id=\"node2\" class=\"node\"><title>\\(I_I\\)</title>\n",
       "<ellipse fill=\"none\" stroke=\"black\" cx=\"117.308\" cy=\"-82\" rx=\"26.118\" ry=\"26.118\"/>\n",
       "<text text-anchor=\"middle\" x=\"117.308\" y=\"-77.8\" font-family=\"Times,serif\" font-size=\"14.00\">(I_I)</text>\n",
       "</g>\n",
       "<!-- EMPTY&#45;&gt;\\(I_I\\) -->\n",
       "<g id=\"edge1\" class=\"edge\"><title>EMPTY&#45;&gt;\\(I_I\\)</title>\n",
       "<path fill=\"none\" stroke=\"black\" d=\"M54.0178,-82C62.3552,-82 71.7368,-82 80.64,-82\"/>\n",
       "<polygon fill=\"black\" stroke=\"black\" points=\"80.7808,-85.5001 90.7807,-82 80.7807,-78.5001 80.7808,-85.5001\"/>\n",
       "</g>\n",
       "<!-- \\(F_I\\) -->\n",
       "<g id=\"node8\" class=\"node\"><title>\\(F_I\\)</title>\n",
       "<ellipse fill=\"none\" stroke=\"black\" cx=\"214.898\" cy=\"-119\" rx=\"28.0651\" ry=\"28.0651\"/>\n",
       "<text text-anchor=\"middle\" x=\"214.898\" y=\"-114.8\" font-family=\"Times,serif\" font-size=\"14.00\">(F_I)</text>\n",
       "</g>\n",
       "<!-- \\(I_I\\)&#45;&gt;\\(F_I\\) -->\n",
       "<g id=\"edge18\" class=\"edge\"><title>\\(I_I\\)&#45;&gt;\\(F_I\\)</title>\n",
       "<path fill=\"none\" stroke=\"black\" d=\"M143.444,-78.6997C151.67,-78.4796 160.719,-79.1837 168.617,-82 175.17,-84.3369 181.459,-88.0741 187.157,-92.2945\"/>\n",
       "<polygon fill=\"black\" stroke=\"black\" points=\"185.079,-95.1157 195.043,-98.7167 189.499,-89.688 185.079,-95.1157\"/>\n",
       "<text text-anchor=\"middle\" x=\"165.117\" y=\"-84.8\" font-family=\"Times,serif\" font-size=\"14.00\">1</text>\n",
       "</g>\n",
       "<!-- \\(I_S0\\) -->\n",
       "<g id=\"node9\" class=\"node\"><title>\\(I_S0\\)</title>\n",
       "<ellipse fill=\"none\" stroke=\"black\" cx=\"693.82\" cy=\"-99\" rx=\"32.9081\" ry=\"32.9081\"/>\n",
       "<text text-anchor=\"middle\" x=\"693.82\" y=\"-94.8\" font-family=\"Times,serif\" font-size=\"14.00\">(I_S0)</text>\n",
       "</g>\n",
       "<!-- \\(I_I\\)&#45;&gt;\\(I_S0\\) -->\n",
       "<g id=\"edge21\" class=\"edge\"><title>\\(I_I\\)&#45;&gt;\\(I_S0\\)</title>\n",
       "<path fill=\"none\" stroke=\"black\" d=\"M139.65,-67.3326C158.358,-55.9166 186.734,-42 213.898,-42 213.898,-42 213.898,-42 558.331,-42 588.12,-42 596.259,-44.8387 623.878,-56 635.73,-60.7898 647.831,-67.5771 658.519,-74.3474\"/>\n",
       "<polygon fill=\"black\" stroke=\"black\" points=\"656.844,-77.4348 667.128,-79.9863 660.68,-71.5791 656.844,-77.4348\"/>\n",
       "<text text-anchor=\"middle\" x=\"377.034\" y=\"-44.8\" font-family=\"Times,serif\" font-size=\"14.00\">0</text>\n",
       "</g>\n",
       "<!-- \\(I_F0101\\) -->\n",
       "<g id=\"node3\" class=\"node\"><title>\\(I_F0101\\)</title>\n",
       "<ellipse fill=\"none\" stroke=\"black\" cx=\"1085.97\" cy=\"-192\" rx=\"45.9373\" ry=\"45.9373\"/>\n",
       "<text text-anchor=\"middle\" x=\"1085.97\" y=\"-187.8\" font-family=\"Times,serif\" font-size=\"14.00\">(I_F0101)</text>\n",
       "</g>\n",
       "<!-- \\(I_S010\\) -->\n",
       "<g id=\"node6\" class=\"node\"><title>\\(I_S010\\)</title>\n",
       "<ellipse fill=\"none\" stroke=\"black\" cx=\"557.331\" cy=\"-192\" rx=\"41.5938\" ry=\"41.5938\"/>\n",
       "<text text-anchor=\"middle\" x=\"557.331\" y=\"-187.8\" font-family=\"Times,serif\" font-size=\"14.00\">(I_S010)</text>\n",
       "</g>\n",
       "<!-- \\(I_F0101\\)&#45;&gt;\\(I_S010\\) -->\n",
       "<g id=\"edge4\" class=\"edge\"><title>\\(I_F0101\\)&#45;&gt;\\(I_S010\\)</title>\n",
       "<path fill=\"none\" stroke=\"black\" d=\"M1039.98,-192C1014.83,-192 982.91,-192 954.479,-192 692.82,-192 692.82,-192 692.82,-192 665.116,-192 634.202,-192 609.005,-192\"/>\n",
       "<polygon fill=\"black\" stroke=\"black\" points=\"608.939,-188.5 598.939,-192 608.939,-195.5 608.939,-188.5\"/>\n",
       "<text text-anchor=\"middle\" x=\"827.86\" y=\"-194.8\" font-family=\"Times,serif\" font-size=\"14.00\">0</text>\n",
       "</g>\n",
       "<!-- \\(I_F0101\\)&#45;&gt;\\(F_I\\) -->\n",
       "<g id=\"edge15\" class=\"edge\"><title>\\(I_F0101\\)&#45;&gt;\\(F_I\\)</title>\n",
       "<path fill=\"none\" stroke=\"black\" d=\"M1069.67,-148.693C1050.47,-103.143 1012.83,-38 954.479,-38 766.262,-38 766.262,-38 766.262,-38 644.389,-38 617.157,-80 495.284,-80 319.857,-80 319.857,-80 319.857,-80 294.729,-80 268.236,-90.1121 248.284,-100.038\"/>\n",
       "<polygon fill=\"black\" stroke=\"black\" points=\"246.583,-96.9779 239.328,-104.699 249.815,-103.187 246.583,-96.9779\"/>\n",
       "<text text-anchor=\"middle\" x=\"620.378\" y=\"-65.8\" font-family=\"Times,serif\" font-size=\"14.00\">1</text>\n",
       "</g>\n",
       "<!-- \\(F_S0\\) -->\n",
       "<g id=\"node4\" class=\"node\"><title>\\(F_S0\\)</title>\n",
       "<ellipse fill=\"none\" stroke=\"black\" cx=\"320.857\" cy=\"-193\" rx=\"34.8545\" ry=\"34.8545\"/>\n",
       "<text text-anchor=\"middle\" x=\"320.857\" y=\"-188.8\" font-family=\"Times,serif\" font-size=\"14.00\">(F_S0)</text>\n",
       "</g>\n",
       "<!-- \\(F_S0\\)&#45;&gt;\\(F_S0\\) -->\n",
       "<g id=\"edge19\" class=\"edge\"><title>\\(F_S0\\)&#45;&gt;\\(F_S0\\)</title>\n",
       "<path fill=\"none\" stroke=\"black\" d=\"M310.357,-226.18C310.412,-237.034 313.912,-245.677 320.857,-245.677 325.415,-245.677 328.489,-241.955 330.079,-236.328\"/>\n",
       "<polygon fill=\"black\" stroke=\"black\" points=\"333.58,-236.539 331.356,-226.18 326.635,-235.664 333.58,-236.539\"/>\n",
       "<text text-anchor=\"middle\" x=\"320.857\" y=\"-248.477\" font-family=\"Times,serif\" font-size=\"14.00\">0</text>\n",
       "</g>\n",
       "<!-- \\(I_S01\\) -->\n",
       "<g id=\"node7\" class=\"node\"><title>\\(I_S01\\)</title>\n",
       "<ellipse fill=\"none\" stroke=\"black\" cx=\"435.659\" cy=\"-192\" rx=\"37.2507\" ry=\"37.2507\"/>\n",
       "<text text-anchor=\"middle\" x=\"435.659\" y=\"-187.8\" font-family=\"Times,serif\" font-size=\"14.00\">(I_S01)</text>\n",
       "</g>\n",
       "<!-- \\(F_S0\\)&#45;&gt;\\(I_S01\\) -->\n",
       "<g id=\"edge12\" class=\"edge\"><title>\\(F_S0\\)&#45;&gt;\\(I_S01\\)</title>\n",
       "<path fill=\"none\" stroke=\"black\" d=\"M355.701,-192.7C365.93,-192.609 377.345,-192.508 388.245,-192.411\"/>\n",
       "<polygon fill=\"black\" stroke=\"black\" points=\"388.514,-195.909 398.483,-192.321 388.452,-188.91 388.514,-195.909\"/>\n",
       "<text text-anchor=\"middle\" x=\"377.034\" y=\"-195.8\" font-family=\"Times,serif\" font-size=\"14.00\">1</text>\n",
       "</g>\n",
       "<!-- \\(F_S01\\) -->\n",
       "<g id=\"node5\" class=\"node\"><title>\\(F_S01\\)</title>\n",
       "<ellipse fill=\"none\" stroke=\"black\" cx=\"827.86\" cy=\"-105\" rx=\"39.1973\" ry=\"39.1973\"/>\n",
       "<text text-anchor=\"middle\" x=\"827.86\" y=\"-100.8\" font-family=\"Times,serif\" font-size=\"14.00\">(F_S01)</text>\n",
       "</g>\n",
       "<!-- \\(F_S01\\)&#45;&gt;\\(I_I\\) -->\n",
       "<g id=\"edge5\" class=\"edge\"><title>\\(F_S01\\)&#45;&gt;\\(I_I\\)</title>\n",
       "<path fill=\"none\" stroke=\"black\" d=\"M805.503,-72.6398C782.291,-41.7883 742.12,-0 694.82,-0 213.898,-0 213.898,-0 213.898,-0 181.183,-0 154.056,-28.0119 137.16,-51.2913\"/>\n",
       "<polygon fill=\"black\" stroke=\"black\" points=\"134.226,-49.3802 131.407,-59.5931 139.98,-53.3674 134.226,-49.3802\"/>\n",
       "<text text-anchor=\"middle\" x=\"435.659\" y=\"-2.8\" font-family=\"Times,serif\" font-size=\"14.00\">1</text>\n",
       "</g>\n",
       "<!-- \\(F_S010\\) -->\n",
       "<g id=\"node10\" class=\"node\"><title>\\(F_S010\\)</title>\n",
       "<ellipse fill=\"none\" stroke=\"black\" cx=\"953.479\" cy=\"-266\" rx=\"43.5405\" ry=\"43.5405\"/>\n",
       "<text text-anchor=\"middle\" x=\"953.479\" y=\"-261.8\" font-family=\"Times,serif\" font-size=\"14.00\">(F_S010)</text>\n",
       "</g>\n",
       "<!-- \\(F_S01\\)&#45;&gt;\\(F_S010\\) -->\n",
       "<g id=\"edge8\" class=\"edge\"><title>\\(F_S01\\)&#45;&gt;\\(F_S010\\)</title>\n",
       "<path fill=\"none\" stroke=\"black\" d=\"M852.403,-135.662C871.594,-160.656 898.9,-196.219 920.142,-223.885\"/>\n",
       "<polygon fill=\"black\" stroke=\"black\" points=\"917.376,-226.029 926.242,-231.829 922.928,-221.766 917.376,-226.029\"/>\n",
       "<text text-anchor=\"middle\" x=\"888.459\" y=\"-188.8\" font-family=\"Times,serif\" font-size=\"14.00\">0</text>\n",
       "</g>\n",
       "<!-- \\(I_S010\\)&#45;&gt;\\(I_S0\\) -->\n",
       "<g id=\"edge10\" class=\"edge\"><title>\\(I_S010\\)&#45;&gt;\\(I_S0\\)</title>\n",
       "<path fill=\"none\" stroke=\"black\" d=\"M591.921,-168.772C612.072,-154.838 637.655,-137.147 658.018,-123.066\"/>\n",
       "<polygon fill=\"black\" stroke=\"black\" points=\"660.16,-125.84 666.395,-117.273 656.179,-120.082 660.16,-125.84\"/>\n",
       "<text text-anchor=\"middle\" x=\"620.378\" y=\"-154.8\" font-family=\"Times,serif\" font-size=\"14.00\">0</text>\n",
       "</g>\n",
       "<!-- \\(F_F0101\\) -->\n",
       "<g id=\"node11\" class=\"node\"><title>\\(F_F0101\\)</title>\n",
       "<ellipse fill=\"none\" stroke=\"black\" cx=\"693.82\" cy=\"-272\" rx=\"47.8885\" ry=\"47.8885\"/>\n",
       "<ellipse fill=\"none\" stroke=\"black\" cx=\"693.82\" cy=\"-272\" rx=\"51.8841\" ry=\"51.8841\"/>\n",
       "<text text-anchor=\"middle\" x=\"693.82\" y=\"-267.8\" font-family=\"Times,serif\" font-size=\"14.00\">(F_F0101)</text>\n",
       "</g>\n",
       "<!-- \\(I_S010\\)&#45;&gt;\\(F_F0101\\) -->\n",
       "<g id=\"edge6\" class=\"edge\"><title>\\(I_S010\\)&#45;&gt;\\(F_F0101\\)</title>\n",
       "<path fill=\"none\" stroke=\"black\" d=\"M593.315,-212.81C607.631,-221.326 624.503,-231.362 640.247,-240.727\"/>\n",
       "<polygon fill=\"black\" stroke=\"black\" points=\"638.471,-243.743 648.854,-245.847 642.049,-237.727 638.471,-243.743\"/>\n",
       "<text text-anchor=\"middle\" x=\"620.378\" y=\"-232.8\" font-family=\"Times,serif\" font-size=\"14.00\">1</text>\n",
       "</g>\n",
       "<!-- \\(I_S01\\)&#45;&gt;\\(I_S010\\) -->\n",
       "<g id=\"edge3\" class=\"edge\"><title>\\(I_S01\\)&#45;&gt;\\(I_S010\\)</title>\n",
       "<path fill=\"none\" stroke=\"black\" d=\"M472.889,-192C483.107,-192 494.419,-192 505.33,-192\"/>\n",
       "<polygon fill=\"black\" stroke=\"black\" points=\"505.62,-195.5 515.62,-192 505.62,-188.5 505.62,-195.5\"/>\n",
       "<text text-anchor=\"middle\" x=\"494.284\" y=\"-194.8\" font-family=\"Times,serif\" font-size=\"14.00\">0</text>\n",
       "</g>\n",
       "<!-- \\(I_S01\\)&#45;&gt;\\(F_I\\) -->\n",
       "<g id=\"edge14\" class=\"edge\"><title>\\(I_S01\\)&#45;&gt;\\(F_I\\)</title>\n",
       "<path fill=\"none\" stroke=\"black\" d=\"M407.793,-167.332C393.361,-155.531 374.639,-142.392 355.534,-135 322.598,-122.257 282.274,-118.808 253.441,-118.218\"/>\n",
       "<polygon fill=\"black\" stroke=\"black\" points=\"253.408,-114.718 243.374,-118.118 253.338,-121.717 253.408,-114.718\"/>\n",
       "<text text-anchor=\"middle\" x=\"320.857\" y=\"-137.8\" font-family=\"Times,serif\" font-size=\"14.00\">1</text>\n",
       "</g>\n",
       "<!-- \\(F_I\\)&#45;&gt;\\(I_I\\) -->\n",
       "<g id=\"edge2\" class=\"edge\"><title>\\(F_I\\)&#45;&gt;\\(I_I\\)</title>\n",
       "<path fill=\"none\" stroke=\"black\" d=\"M188.109,-109.018C177.007,-104.72 163.878,-99.6387 152.02,-95.0487\"/>\n",
       "<polygon fill=\"black\" stroke=\"black\" points=\"153.019,-91.6824 142.43,-91.3367 150.492,-98.2105 153.019,-91.6824\"/>\n",
       "<text text-anchor=\"middle\" x=\"165.117\" y=\"-103.8\" font-family=\"Times,serif\" font-size=\"14.00\">1</text>\n",
       "</g>\n",
       "<!-- \\(F_I\\)&#45;&gt;\\(F_S0\\) -->\n",
       "<g id=\"edge13\" class=\"edge\"><title>\\(F_I\\)&#45;&gt;\\(F_S0\\)</title>\n",
       "<path fill=\"none\" stroke=\"black\" d=\"M238.456,-135.057C251.758,-144.526 268.893,-156.723 284.008,-167.482\"/>\n",
       "<polygon fill=\"black\" stroke=\"black\" points=\"281.983,-170.337 292.16,-173.285 286.043,-164.634 281.983,-170.337\"/>\n",
       "<text text-anchor=\"middle\" x=\"264.68\" y=\"-158.8\" font-family=\"Times,serif\" font-size=\"14.00\">0</text>\n",
       "</g>\n",
       "<!-- \\(I_S0\\)&#45;&gt;\\(F_S01\\) -->\n",
       "<g id=\"edge20\" class=\"edge\"><title>\\(I_S0\\)&#45;&gt;\\(F_S01\\)</title>\n",
       "<path fill=\"none\" stroke=\"black\" d=\"M726.783,-100.452C742.205,-101.153 761.042,-102.009 778.196,-102.789\"/>\n",
       "<polygon fill=\"black\" stroke=\"black\" points=\"778.465,-106.304 788.613,-103.262 778.783,-99.3116 778.465,-106.304\"/>\n",
       "<text text-anchor=\"middle\" x=\"767.262\" y=\"-105.8\" font-family=\"Times,serif\" font-size=\"14.00\">1</text>\n",
       "</g>\n",
       "<!-- \\(I_S0\\)&#45;&gt;\\(I_S0\\) -->\n",
       "<g id=\"edge17\" class=\"edge\"><title>\\(I_S0\\)&#45;&gt;\\(I_S0\\)</title>\n",
       "<path fill=\"none\" stroke=\"black\" d=\"M680.36,-128.939C679.841,-140.303 684.328,-149.703 693.82,-149.703 700.197,-149.703 704.315,-145.46 706.174,-139.229\"/>\n",
       "<polygon fill=\"black\" stroke=\"black\" points=\"709.691,-139.255 707.279,-128.939 702.731,-138.507 709.691,-139.255\"/>\n",
       "<text text-anchor=\"middle\" x=\"693.82\" y=\"-152.503\" font-family=\"Times,serif\" font-size=\"14.00\">0</text>\n",
       "</g>\n",
       "<!-- \\(F_S010\\)&#45;&gt;\\(I_F0101\\) -->\n",
       "<g id=\"edge16\" class=\"edge\"><title>\\(F_S010\\)&#45;&gt;\\(I_F0101\\)</title>\n",
       "<path fill=\"none\" stroke=\"black\" d=\"M991.872,-244.795C1005.72,-236.943 1021.62,-227.923 1036.32,-219.586\"/>\n",
       "<polygon fill=\"black\" stroke=\"black\" points=\"1038.32,-222.477 1045.29,-214.5 1034.87,-216.388 1038.32,-222.477\"/>\n",
       "<text text-anchor=\"middle\" x=\"1018.5\" y=\"-234.8\" font-family=\"Times,serif\" font-size=\"14.00\">1</text>\n",
       "</g>\n",
       "<!-- \\(F_S010\\)&#45;&gt;\\(F_S0\\) -->\n",
       "<g id=\"edge11\" class=\"edge\"><title>\\(F_S010\\)&#45;&gt;\\(F_S0\\)</title>\n",
       "<path fill=\"none\" stroke=\"black\" d=\"M925.233,-299.496C902.348,-323.643 867.292,-352 828.86,-352 434.659,-352 434.659,-352 434.659,-352 377.783,-352 346.97,-283.486 332.512,-236.408\"/>\n",
       "<polygon fill=\"black\" stroke=\"black\" points=\"335.844,-235.331 329.671,-226.72 329.126,-237.301 335.844,-235.331\"/>\n",
       "<text text-anchor=\"middle\" x=\"620.378\" y=\"-354.8\" font-family=\"Times,serif\" font-size=\"14.00\">0</text>\n",
       "</g>\n",
       "<!-- \\(F_F0101\\)&#45;&gt;\\(I_I\\) -->\n",
       "<g id=\"edge7\" class=\"edge\"><title>\\(F_F0101\\)&#45;&gt;\\(I_I\\)</title>\n",
       "<path fill=\"none\" stroke=\"black\" d=\"M669.363,-317.917C657.883,-336.412 642.493,-356.515 623.878,-370 599.212,-387.869 588.789,-390 558.331,-390 213.898,-390 213.898,-390 213.898,-390 157.637,-390 130.798,-200.171 121.861,-118.57\"/>\n",
       "<polygon fill=\"black\" stroke=\"black\" points=\"125.302,-117.834 120.764,-108.26 118.341,-118.574 125.302,-117.834\"/>\n",
       "<text text-anchor=\"middle\" x=\"377.034\" y=\"-392.8\" font-family=\"Times,serif\" font-size=\"14.00\">1</text>\n",
       "</g>\n",
       "<!-- \\(F_F0101\\)&#45;&gt;\\(F_S010\\) -->\n",
       "<g id=\"edge9\" class=\"edge\"><title>\\(F_F0101\\)&#45;&gt;\\(F_S010\\)</title>\n",
       "<path fill=\"none\" stroke=\"black\" d=\"M746.033,-270.807C790.556,-269.771 854.796,-268.275 899.757,-267.228\"/>\n",
       "<polygon fill=\"black\" stroke=\"black\" points=\"899.978,-270.724 909.894,-266.992 899.815,-263.726 899.978,-270.724\"/>\n",
       "<text text-anchor=\"middle\" x=\"827.86\" y=\"-271.8\" font-family=\"Times,serif\" font-size=\"14.00\">0</text>\n",
       "</g>\n",
       "</g>\n",
       "</svg>\n"
      ],
      "text/plain": [
       "<graphviz.dot.Digraph at 0x10d0a8710>"
      ]
     },
     "execution_count": 116,
     "metadata": {},
     "output_type": "execute_result"
    }
   ],
   "source": [
    "dotObj_dfa(C_CdfaOdd1sORCends0101)"
   ]
  },
  {
   "cell_type": "code",
   "execution_count": 117,
   "metadata": {
    "run_control": {
     "frozen": false,
     "read_only": false
    }
   },
   "outputs": [],
   "source": [
    "MinC_CdfaOdd1sORCends0101 = min_dfa(C_CdfaOdd1sORCends0101)"
   ]
  },
  {
   "cell_type": "code",
   "execution_count": 118,
   "metadata": {
    "run_control": {
     "frozen": false,
     "read_only": false
    }
   },
   "outputs": [
    {
     "data": {
      "image/svg+xml": [
       "<?xml version=\"1.0\" encoding=\"UTF-8\" standalone=\"no\"?>\n",
       "<!DOCTYPE svg PUBLIC \"-//W3C//DTD SVG 1.1//EN\"\n",
       " \"http://www.w3.org/Graphics/SVG/1.1/DTD/svg11.dtd\">\n",
       "<!-- Generated by graphviz version 2.38.0 (20140413.2041)\n",
       " -->\n",
       "<!-- Title: %3 Pages: 1 -->\n",
       "<svg width=\"802pt\" height=\"256pt\"\n",
       " viewBox=\"0.00 0.00 801.93 256.00\" xmlns=\"http://www.w3.org/2000/svg\" xmlns:xlink=\"http://www.w3.org/1999/xlink\">\n",
       "<g id=\"graph0\" class=\"graph\" transform=\"scale(1 1) rotate(0) translate(4 252)\">\n",
       "<title>%3</title>\n",
       "<polygon fill=\"white\" stroke=\"none\" points=\"-4,4 -4,-252 797.926,-252 797.926,4 -4,4\"/>\n",
       "<!-- EMPTY -->\n",
       "<g id=\"node1\" class=\"node\"><title>EMPTY</title>\n",
       "</g>\n",
       "<!-- \\(I_S0\\) -->\n",
       "<g id=\"node5\" class=\"node\"><title>\\(I_S0\\)</title>\n",
       "<ellipse fill=\"none\" stroke=\"black\" cx=\"123.703\" cy=\"-150\" rx=\"32.9081\" ry=\"32.9081\"/>\n",
       "<text text-anchor=\"middle\" x=\"123.703\" y=\"-145.8\" font-family=\"Times,serif\" font-size=\"14.00\">(I_S0)</text>\n",
       "</g>\n",
       "<!-- EMPTY&#45;&gt;\\(I_S0\\) -->\n",
       "<g id=\"edge1\" class=\"edge\"><title>EMPTY&#45;&gt;\\(I_S0\\)</title>\n",
       "<path fill=\"none\" stroke=\"black\" d=\"M54.1288,-150C62.4028,-150 71.7668,-150 80.8565,-150\"/>\n",
       "<polygon fill=\"black\" stroke=\"black\" points=\"80.9299,-153.5 90.9298,-150 80.9298,-146.5 80.9299,-153.5\"/>\n",
       "</g>\n",
       "<!-- \\(I_F0101\\) -->\n",
       "<g id=\"node2\" class=\"node\"><title>\\(I_F0101\\)</title>\n",
       "<ellipse fill=\"none\" stroke=\"black\" cx=\"474.979\" cy=\"-153\" rx=\"45.9373\" ry=\"45.9373\"/>\n",
       "<text text-anchor=\"middle\" x=\"474.979\" y=\"-148.8\" font-family=\"Times,serif\" font-size=\"14.00\">(I_F0101)</text>\n",
       "</g>\n",
       "<!-- \\(F_I\\) -->\n",
       "<g id=\"node3\" class=\"node\"><title>\\(F_I\\)</title>\n",
       "<ellipse fill=\"none\" stroke=\"black\" cx=\"227.689\" cy=\"-151\" rx=\"28.0651\" ry=\"28.0651\"/>\n",
       "<text text-anchor=\"middle\" x=\"227.689\" y=\"-146.8\" font-family=\"Times,serif\" font-size=\"14.00\">(F_I)</text>\n",
       "</g>\n",
       "<!-- \\(I_F0101\\)&#45;&gt;\\(F_I\\) -->\n",
       "<g id=\"edge11\" class=\"edge\"><title>\\(I_F0101\\)&#45;&gt;\\(F_I\\)</title>\n",
       "<path fill=\"none\" stroke=\"black\" d=\"M429.002,-155.645C393.643,-157.333 343.15,-158.882 298.97,-157 288.326,-156.546 276.799,-155.708 266.219,-154.799\"/>\n",
       "<polygon fill=\"black\" stroke=\"black\" points=\"266.297,-151.292 256.023,-153.878 265.667,-158.264 266.297,-151.292\"/>\n",
       "<text text-anchor=\"middle\" x=\"342.491\" y=\"-160.8\" font-family=\"Times,serif\" font-size=\"14.00\">1</text>\n",
       "</g>\n",
       "<!-- \\(I_S010\\) -->\n",
       "<g id=\"node4\" class=\"node\"><title>\\(I_S010\\)</title>\n",
       "<ellipse fill=\"none\" stroke=\"black\" cx=\"605.495\" cy=\"-153\" rx=\"41.5938\" ry=\"41.5938\"/>\n",
       "<text text-anchor=\"middle\" x=\"605.495\" y=\"-148.8\" font-family=\"Times,serif\" font-size=\"14.00\">(I_S010)</text>\n",
       "</g>\n",
       "<!-- \\(I_F0101\\)&#45;&gt;\\(I_S010\\) -->\n",
       "<g id=\"edge3\" class=\"edge\"><title>\\(I_F0101\\)&#45;&gt;\\(I_S010\\)</title>\n",
       "<path fill=\"none\" stroke=\"black\" d=\"M521.289,-153C531.804,-153 543.062,-153 553.792,-153\"/>\n",
       "<polygon fill=\"black\" stroke=\"black\" points=\"553.876,-156.5 563.876,-153 553.876,-149.5 553.876,-156.5\"/>\n",
       "<text text-anchor=\"middle\" x=\"542.448\" y=\"-155.8\" font-family=\"Times,serif\" font-size=\"14.00\">0</text>\n",
       "</g>\n",
       "<!-- \\(F_I\\)&#45;&gt;\\(I_S0\\) -->\n",
       "<g id=\"edge2\" class=\"edge\"><title>\\(F_I\\)&#45;&gt;\\(I_S0\\)</title>\n",
       "<path fill=\"none\" stroke=\"black\" d=\"M199.134,-150.73C189.143,-150.632 177.619,-150.519 166.668,-150.411\"/>\n",
       "<polygon fill=\"black\" stroke=\"black\" points=\"166.447,-146.909 156.413,-150.311 166.378,-153.909 166.447,-146.909\"/>\n",
       "<text text-anchor=\"middle\" x=\"177.907\" y=\"-153.8\" font-family=\"Times,serif\" font-size=\"14.00\">1</text>\n",
       "</g>\n",
       "<!-- \\(F_S010\\) -->\n",
       "<g id=\"node6\" class=\"node\"><title>\\(F_S010\\)</title>\n",
       "<ellipse fill=\"none\" stroke=\"black\" cx=\"342.491\" cy=\"-72\" rx=\"43.5405\" ry=\"43.5405\"/>\n",
       "<text text-anchor=\"middle\" x=\"342.491\" y=\"-67.8\" font-family=\"Times,serif\" font-size=\"14.00\">(F_S010)</text>\n",
       "</g>\n",
       "<!-- \\(F_I\\)&#45;&gt;\\(F_S010\\) -->\n",
       "<g id=\"edge6\" class=\"edge\"><title>\\(F_I\\)&#45;&gt;\\(F_S010\\)</title>\n",
       "<path fill=\"none\" stroke=\"black\" d=\"M251.245,-135.203C264.481,-125.933 281.664,-113.899 297.48,-102.823\"/>\n",
       "<polygon fill=\"black\" stroke=\"black\" points=\"299.909,-105.395 306.092,-96.7912 295.893,-99.6609 299.909,-105.395\"/>\n",
       "<text text-anchor=\"middle\" x=\"277.47\" y=\"-121.8\" font-family=\"Times,serif\" font-size=\"14.00\">0</text>\n",
       "</g>\n",
       "<!-- \\(I_S010\\)&#45;&gt;\\(I_S0\\) -->\n",
       "<g id=\"edge8\" class=\"edge\"><title>\\(I_S010\\)&#45;&gt;\\(I_S0\\)</title>\n",
       "<path fill=\"none\" stroke=\"black\" d=\"M576.504,-183.623C552.365,-206.56 515.276,-234 475.979,-234 226.689,-234 226.689,-234 226.689,-234 194.268,-234 166.56,-208.396 148.243,-185.46\"/>\n",
       "<polygon fill=\"black\" stroke=\"black\" points=\"151.017,-183.325 142.164,-177.505 145.455,-187.575 151.017,-183.325\"/>\n",
       "<text text-anchor=\"middle\" x=\"342.491\" y=\"-236.8\" font-family=\"Times,serif\" font-size=\"14.00\">0</text>\n",
       "</g>\n",
       "<!-- \\(F_F0101\\) -->\n",
       "<g id=\"node7\" class=\"node\"><title>\\(F_F0101\\)</title>\n",
       "<ellipse fill=\"none\" stroke=\"black\" cx=\"741.984\" cy=\"-72\" rx=\"47.8885\" ry=\"47.8885\"/>\n",
       "<ellipse fill=\"none\" stroke=\"black\" cx=\"741.984\" cy=\"-72\" rx=\"51.8841\" ry=\"51.8841\"/>\n",
       "<text text-anchor=\"middle\" x=\"741.984\" y=\"-67.8\" font-family=\"Times,serif\" font-size=\"14.00\">(F_F0101)</text>\n",
       "</g>\n",
       "<!-- \\(I_S010\\)&#45;&gt;\\(F_F0101\\) -->\n",
       "<g id=\"edge4\" class=\"edge\"><title>\\(I_S010\\)&#45;&gt;\\(F_F0101\\)</title>\n",
       "<path fill=\"none\" stroke=\"black\" d=\"M641.479,-131.93C655.795,-123.308 672.667,-113.146 688.411,-103.664\"/>\n",
       "<polygon fill=\"black\" stroke=\"black\" points=\"690.258,-106.637 697.018,-98.4795 686.646,-100.641 690.258,-106.637\"/>\n",
       "<text text-anchor=\"middle\" x=\"668.542\" y=\"-120.8\" font-family=\"Times,serif\" font-size=\"14.00\">1</text>\n",
       "</g>\n",
       "<!-- \\(I_S0\\)&#45;&gt;\\(F_I\\) -->\n",
       "<g id=\"edge13\" class=\"edge\"><title>\\(I_S0\\)&#45;&gt;\\(F_I\\)</title>\n",
       "<path fill=\"none\" stroke=\"black\" d=\"M153.267,-135.819C162.185,-132.917 172.12,-131.222 181.407,-133 185.026,-133.693 188.725,-134.671 192.372,-135.818\"/>\n",
       "<polygon fill=\"black\" stroke=\"black\" points=\"191.216,-139.122 201.811,-139.165 193.556,-132.524 191.216,-139.122\"/>\n",
       "<text text-anchor=\"middle\" x=\"177.907\" y=\"-135.8\" font-family=\"Times,serif\" font-size=\"14.00\">1</text>\n",
       "</g>\n",
       "<!-- \\(I_S0\\)&#45;&gt;\\(I_S0\\) -->\n",
       "<g id=\"edge12\" class=\"edge\"><title>\\(I_S0\\)&#45;&gt;\\(I_S0\\)</title>\n",
       "<path fill=\"none\" stroke=\"black\" d=\"M114.328,-181.69C114.328,-192.253 117.453,-200.703 123.703,-200.703 127.707,-200.703 130.429,-197.235 131.868,-191.965\"/>\n",
       "<polygon fill=\"black\" stroke=\"black\" points=\"135.384,-192.031 133.078,-181.69 128.432,-191.211 135.384,-192.031\"/>\n",
       "<text text-anchor=\"middle\" x=\"123.703\" y=\"-203.503\" font-family=\"Times,serif\" font-size=\"14.00\">0</text>\n",
       "</g>\n",
       "<!-- \\(F_S010\\)&#45;&gt;\\(I_F0101\\) -->\n",
       "<g id=\"edge10\" class=\"edge\"><title>\\(F_S010\\)&#45;&gt;\\(I_F0101\\)</title>\n",
       "<path fill=\"none\" stroke=\"black\" d=\"M379.839,-94.563C394.338,-103.563 411.223,-114.044 426.657,-123.625\"/>\n",
       "<polygon fill=\"black\" stroke=\"black\" points=\"425.206,-126.844 435.548,-129.144 428.898,-120.896 425.206,-126.844\"/>\n",
       "<text text-anchor=\"middle\" x=\"407.511\" y=\"-115.8\" font-family=\"Times,serif\" font-size=\"14.00\">1</text>\n",
       "</g>\n",
       "<!-- \\(F_S010\\)&#45;&gt;\\(F_S010\\) -->\n",
       "<g id=\"edge9\" class=\"edge\"><title>\\(F_S010\\)&#45;&gt;\\(F_S010\\)</title>\n",
       "<path fill=\"none\" stroke=\"black\" d=\"M330.596,-113.981C331.276,-125.099 335.241,-133.52 342.491,-133.52 347.362,-133.52 350.75,-129.719 352.655,-123.852\"/>\n",
       "<polygon fill=\"black\" stroke=\"black\" points=\"356.106,-124.435 354.385,-113.981 349.211,-123.227 356.106,-124.435\"/>\n",
       "<text text-anchor=\"middle\" x=\"342.491\" y=\"-136.32\" font-family=\"Times,serif\" font-size=\"14.00\">0</text>\n",
       "</g>\n",
       "<!-- \\(F_F0101\\)&#45;&gt;\\(I_S0\\) -->\n",
       "<g id=\"edge5\" class=\"edge\"><title>\\(F_F0101\\)&#45;&gt;\\(I_S0\\)</title>\n",
       "<path fill=\"none\" stroke=\"black\" d=\"M702.358,-38.3189C676.906,-19.5801 641.851,-0 606.495,-0 226.689,-0 226.689,-0 226.689,-0 173.991,-0 146.61,-64.0959 133.965,-108.49\"/>\n",
       "<polygon fill=\"black\" stroke=\"black\" points=\"130.574,-107.622 131.345,-118.189 137.332,-109.448 130.574,-107.622\"/>\n",
       "<text text-anchor=\"middle\" x=\"407.511\" y=\"-2.8\" font-family=\"Times,serif\" font-size=\"14.00\">1</text>\n",
       "</g>\n",
       "<!-- \\(F_F0101\\)&#45;&gt;\\(F_S010\\) -->\n",
       "<g id=\"edge7\" class=\"edge\"><title>\\(F_F0101\\)&#45;&gt;\\(F_S010\\)</title>\n",
       "<path fill=\"none\" stroke=\"black\" d=\"M690.035,-72C614.414,-72 473.164,-72 396.417,-72\"/>\n",
       "<polygon fill=\"black\" stroke=\"black\" points=\"396.029,-68.5001 386.029,-72 396.029,-75.5001 396.029,-68.5001\"/>\n",
       "<text text-anchor=\"middle\" x=\"542.448\" y=\"-74.8\" font-family=\"Times,serif\" font-size=\"14.00\">0</text>\n",
       "</g>\n",
       "</g>\n",
       "</svg>\n"
      ],
      "text/plain": [
       "<graphviz.dot.Digraph at 0x10d0a81d0>"
      ]
     },
     "execution_count": 118,
     "metadata": {},
     "output_type": "execute_result"
    }
   ],
   "source": [
    "dotObj_dfa(MinC_CdfaOdd1sORCends0101)"
   ]
  },
  {
   "cell_type": "code",
   "execution_count": 119,
   "metadata": {
    "run_control": {
     "frozen": false,
     "read_only": false
    }
   },
   "outputs": [
    {
     "data": {
      "text/plain": [
       "True"
      ]
     },
     "execution_count": 119,
     "metadata": {},
     "output_type": "execute_result"
    }
   ],
   "source": [
    "iso_dfa(MinC_CdfaOdd1sORCends0101, Minodd1sANDends0101)"
   ]
  },
  {
   "cell_type": "code",
   "execution_count": 120,
   "metadata": {
    "run_control": {
     "frozen": false,
     "read_only": false
    }
   },
   "outputs": [
    {
     "name": "stderr",
     "output_type": "stream",
     "text": [
      "Generating LALR tables\n"
     ]
    }
   ],
   "source": [
    "blimp = md2mc('''\n",
    "DFA \n",
    "I1 : a -> F2\n",
    "I1 : b -> F3\n",
    "F2 : a -> S8\n",
    "F2 : b -> S5\n",
    "F3 : a -> S7\n",
    "F3 : b -> S4\n",
    "S4 : a | b -> F6\n",
    "S5 : a | b -> F6\n",
    "F6 : a | b -> F6\n",
    "S7 : a | b -> F6\n",
    "S8 : a -> F6\n",
    "S8 : b -> F9\n",
    "F9 : a -> F9\n",
    "F9 : b -> F6\n",
    "''')"
   ]
  },
  {
   "cell_type": "code",
   "execution_count": 121,
   "metadata": {
    "run_control": {
     "frozen": false,
     "read_only": false
    }
   },
   "outputs": [],
   "source": [
    "dblimp = dotObj_dfa(blimp)"
   ]
  },
  {
   "cell_type": "code",
   "execution_count": 122,
   "metadata": {
    "run_control": {
     "frozen": false,
     "read_only": false
    }
   },
   "outputs": [
    {
     "data": {
      "image/svg+xml": [
       "<?xml version=\"1.0\" encoding=\"UTF-8\" standalone=\"no\"?>\n",
       "<!DOCTYPE svg PUBLIC \"-//W3C//DTD SVG 1.1//EN\"\n",
       " \"http://www.w3.org/Graphics/SVG/1.1/DTD/svg11.dtd\">\n",
       "<!-- Generated by graphviz version 2.38.0 (20140413.2041)\n",
       " -->\n",
       "<!-- Title: %3 Pages: 1 -->\n",
       "<svg width=\"493pt\" height=\"307pt\"\n",
       " viewBox=\"0.00 0.00 493.00 306.89\" xmlns=\"http://www.w3.org/2000/svg\" xmlns:xlink=\"http://www.w3.org/1999/xlink\">\n",
       "<g id=\"graph0\" class=\"graph\" transform=\"scale(1 1) rotate(0) translate(4 302.894)\">\n",
       "<title>%3</title>\n",
       "<polygon fill=\"white\" stroke=\"none\" points=\"-4,4 -4,-302.894 489.003,-302.894 489.003,4 -4,4\"/>\n",
       "<!-- EMPTY -->\n",
       "<g id=\"node1\" class=\"node\"><title>EMPTY</title>\n",
       "</g>\n",
       "<!-- I1 -->\n",
       "<g id=\"node5\" class=\"node\"><title>I1</title>\n",
       "<ellipse fill=\"none\" stroke=\"black\" cx=\"109\" cy=\"-153.447\" rx=\"18\" ry=\"18\"/>\n",
       "<text text-anchor=\"middle\" x=\"109\" y=\"-149.247\" font-family=\"Times,serif\" font-size=\"14.00\">I1</text>\n",
       "</g>\n",
       "<!-- EMPTY&#45;&gt;I1 -->\n",
       "<g id=\"edge1\" class=\"edge\"><title>EMPTY&#45;&gt;I1</title>\n",
       "<path fill=\"none\" stroke=\"black\" d=\"M54.195,-153.447C62.6538,-153.447 72.0513,-153.447 80.5951,-153.447\"/>\n",
       "<polygon fill=\"black\" stroke=\"black\" points=\"80.8257,-156.947 90.8257,-153.447 80.8257,-149.947 80.8257,-156.947\"/>\n",
       "</g>\n",
       "<!-- S8 -->\n",
       "<g id=\"node2\" class=\"node\"><title>S8</title>\n",
       "<ellipse fill=\"none\" stroke=\"black\" cx=\"281.768\" cy=\"-88.4469\" rx=\"19.3939\" ry=\"19.3939\"/>\n",
       "<text text-anchor=\"middle\" x=\"281.768\" y=\"-84.2469\" font-family=\"Times,serif\" font-size=\"14.00\">S8</text>\n",
       "</g>\n",
       "<!-- F9 -->\n",
       "<g id=\"node7\" class=\"node\"><title>F9</title>\n",
       "<ellipse fill=\"none\" stroke=\"black\" cx=\"371.662\" cy=\"-129.447\" rx=\"19.4029\" ry=\"19.4029\"/>\n",
       "<ellipse fill=\"none\" stroke=\"black\" cx=\"371.662\" cy=\"-129.447\" rx=\"23.3939\" ry=\"23.3939\"/>\n",
       "<text text-anchor=\"middle\" x=\"371.662\" y=\"-125.247\" font-family=\"Times,serif\" font-size=\"14.00\">F9</text>\n",
       "</g>\n",
       "<!-- S8&#45;&gt;F9 -->\n",
       "<g id=\"edge17\" class=\"edge\"><title>S8&#45;&gt;F9</title>\n",
       "<path fill=\"none\" stroke=\"black\" d=\"M299.715,-96.3521C311.388,-101.797 327.21,-109.178 340.951,-115.588\"/>\n",
       "<polygon fill=\"black\" stroke=\"black\" points=\"339.513,-118.779 350.055,-119.834 342.472,-112.435 339.513,-118.779\"/>\n",
       "<text text-anchor=\"middle\" x=\"326.715\" y=\"-113.247\" font-family=\"Times,serif\" font-size=\"14.00\">b</text>\n",
       "</g>\n",
       "<!-- F6 -->\n",
       "<g id=\"node10\" class=\"node\"><title>F6</title>\n",
       "<ellipse fill=\"none\" stroke=\"black\" cx=\"461.556\" cy=\"-148.447\" rx=\"19.4029\" ry=\"19.4029\"/>\n",
       "<ellipse fill=\"none\" stroke=\"black\" cx=\"461.556\" cy=\"-148.447\" rx=\"23.3939\" ry=\"23.3939\"/>\n",
       "<text text-anchor=\"middle\" x=\"461.556\" y=\"-144.247\" font-family=\"Times,serif\" font-size=\"14.00\">F6</text>\n",
       "</g>\n",
       "<!-- S8&#45;&gt;F6 -->\n",
       "<g id=\"edge16\" class=\"edge\"><title>S8&#45;&gt;F6</title>\n",
       "<path fill=\"none\" stroke=\"black\" d=\"M300.691,-83.1518C323.557,-77.3839 363.883,-70.5754 395.109,-83.4469 413.797,-91.1504 429.968,-107.06 441.56,-121.21\"/>\n",
       "<polygon fill=\"black\" stroke=\"black\" points=\"438.93,-123.53 447.84,-129.263 444.45,-119.225 438.93,-123.53\"/>\n",
       "<text text-anchor=\"middle\" x=\"371.662\" y=\"-86.2469\" font-family=\"Times,serif\" font-size=\"14.00\">a</text>\n",
       "</g>\n",
       "<!-- S5 -->\n",
       "<g id=\"node3\" class=\"node\"><title>S5</title>\n",
       "<ellipse fill=\"none\" stroke=\"black\" cx=\"371.662\" cy=\"-19.4469\" rx=\"19.3939\" ry=\"19.3939\"/>\n",
       "<text text-anchor=\"middle\" x=\"371.662\" y=\"-15.2469\" font-family=\"Times,serif\" font-size=\"14.00\">S5</text>\n",
       "</g>\n",
       "<!-- S5&#45;&gt;F6 -->\n",
       "<g id=\"edge10\" class=\"edge\"><title>S5&#45;&gt;F6</title>\n",
       "<path fill=\"none\" stroke=\"black\" d=\"M390.417,-26.0795C400.289,-30.5403 412.151,-37.2903 420.109,-46.4469 437.261,-66.1829 447.648,-94.0786 453.594,-115.71\"/>\n",
       "<polygon fill=\"black\" stroke=\"black\" points=\"450.219,-116.641 456.093,-125.459 457,-114.903 450.219,-116.641\"/>\n",
       "<text text-anchor=\"middle\" x=\"416.609\" y=\"-49.2469\" font-family=\"Times,serif\" font-size=\"14.00\">a</text>\n",
       "</g>\n",
       "<!-- S5&#45;&gt;F6 -->\n",
       "<g id=\"edge11\" class=\"edge\"><title>S5&#45;&gt;F6</title>\n",
       "<path fill=\"none\" stroke=\"black\" d=\"M391.057,-16.0014C400.65,-15.258 412.034,-16.1584 420.109,-22.4469 448.037,-44.1968 456.999,-85.4084 459.708,-114.776\"/>\n",
       "<polygon fill=\"black\" stroke=\"black\" points=\"456.235,-115.28 460.447,-125.002 463.217,-114.776 456.235,-115.28\"/>\n",
       "<text text-anchor=\"middle\" x=\"416.609\" y=\"-25.2469\" font-family=\"Times,serif\" font-size=\"14.00\">b</text>\n",
       "</g>\n",
       "<!-- S4 -->\n",
       "<g id=\"node4\" class=\"node\"><title>S4</title>\n",
       "<ellipse fill=\"none\" stroke=\"black\" cx=\"371.662\" cy=\"-279.447\" rx=\"19.3939\" ry=\"19.3939\"/>\n",
       "<text text-anchor=\"middle\" x=\"371.662\" y=\"-275.247\" font-family=\"Times,serif\" font-size=\"14.00\">S4</text>\n",
       "</g>\n",
       "<!-- S4&#45;&gt;F6 -->\n",
       "<g id=\"edge8\" class=\"edge\"><title>S4&#45;&gt;F6</title>\n",
       "<path fill=\"none\" stroke=\"black\" d=\"M390.467,-274.443C400.356,-270.859 412.218,-265.109 420.109,-256.447 439.137,-235.561 449.477,-204.884 454.926,-181.557\"/>\n",
       "<polygon fill=\"black\" stroke=\"black\" points=\"458.357,-182.251 457.036,-171.739 451.513,-180.78 458.357,-182.251\"/>\n",
       "<text text-anchor=\"middle\" x=\"416.609\" y=\"-265.247\" font-family=\"Times,serif\" font-size=\"14.00\">a</text>\n",
       "</g>\n",
       "<!-- S4&#45;&gt;F6 -->\n",
       "<g id=\"edge9\" class=\"edge\"><title>S4&#45;&gt;F6</title>\n",
       "<path fill=\"none\" stroke=\"black\" d=\"M384.569,-264.585C388.05,-260.102 391.805,-255.128 395.109,-250.447 412.23,-226.189 430.362,-197.681 443.188,-176.979\"/>\n",
       "<polygon fill=\"black\" stroke=\"black\" points=\"446.245,-178.69 448.514,-168.341 440.287,-175.016 446.245,-178.69\"/>\n",
       "<text text-anchor=\"middle\" x=\"416.609\" y=\"-226.247\" font-family=\"Times,serif\" font-size=\"14.00\">b</text>\n",
       "</g>\n",
       "<!-- F3 -->\n",
       "<g id=\"node8\" class=\"node\"><title>F3</title>\n",
       "<ellipse fill=\"none\" stroke=\"black\" cx=\"281.768\" cy=\"-222.447\" rx=\"19.4029\" ry=\"19.4029\"/>\n",
       "<ellipse fill=\"none\" stroke=\"black\" cx=\"281.768\" cy=\"-222.447\" rx=\"23.3939\" ry=\"23.3939\"/>\n",
       "<text text-anchor=\"middle\" x=\"281.768\" y=\"-218.247\" font-family=\"Times,serif\" font-size=\"14.00\">F3</text>\n",
       "</g>\n",
       "<!-- I1&#45;&gt;F3 -->\n",
       "<g id=\"edge3\" class=\"edge\"><title>I1&#45;&gt;F3</title>\n",
       "<path fill=\"none\" stroke=\"black\" d=\"M126.065,-159.938C154.449,-171.407 213.899,-195.428 250.275,-210.126\"/>\n",
       "<polygon fill=\"black\" stroke=\"black\" points=\"249.295,-213.505 259.878,-214.006 251.918,-207.015 249.295,-213.505\"/>\n",
       "<text text-anchor=\"middle\" x=\"192.661\" y=\"-199.247\" font-family=\"Times,serif\" font-size=\"14.00\">b</text>\n",
       "</g>\n",
       "<!-- F2 -->\n",
       "<g id=\"node9\" class=\"node\"><title>F2</title>\n",
       "<ellipse fill=\"none\" stroke=\"black\" cx=\"192.661\" cy=\"-88.4469\" rx=\"19.4029\" ry=\"19.4029\"/>\n",
       "<ellipse fill=\"none\" stroke=\"black\" cx=\"192.661\" cy=\"-88.4469\" rx=\"23.3939\" ry=\"23.3939\"/>\n",
       "<text text-anchor=\"middle\" x=\"192.661\" y=\"-84.2469\" font-family=\"Times,serif\" font-size=\"14.00\">F2</text>\n",
       "</g>\n",
       "<!-- I1&#45;&gt;F2 -->\n",
       "<g id=\"edge2\" class=\"edge\"><title>I1&#45;&gt;F2</title>\n",
       "<path fill=\"none\" stroke=\"black\" d=\"M123.485,-142.713C134.997,-133.55 151.876,-120.114 165.959,-108.905\"/>\n",
       "<polygon fill=\"black\" stroke=\"black\" points=\"168.222,-111.577 173.866,-102.611 163.862,-106.1 168.222,-111.577\"/>\n",
       "<text text-anchor=\"middle\" x=\"148.107\" y=\"-128.247\" font-family=\"Times,serif\" font-size=\"14.00\">a</text>\n",
       "</g>\n",
       "<!-- S7 -->\n",
       "<g id=\"node6\" class=\"node\"><title>S7</title>\n",
       "<ellipse fill=\"none\" stroke=\"black\" cx=\"371.662\" cy=\"-222.447\" rx=\"19.3939\" ry=\"19.3939\"/>\n",
       "<text text-anchor=\"middle\" x=\"371.662\" y=\"-218.247\" font-family=\"Times,serif\" font-size=\"14.00\">S7</text>\n",
       "</g>\n",
       "<!-- S7&#45;&gt;F6 -->\n",
       "<g id=\"edge14\" class=\"edge\"><title>S7&#45;&gt;F6</title>\n",
       "<path fill=\"none\" stroke=\"black\" d=\"M387.176,-210.227C400.213,-199.251 419.647,-182.889 435.24,-169.761\"/>\n",
       "<polygon fill=\"black\" stroke=\"black\" points=\"437.595,-172.354 442.99,-163.236 433.086,-166.999 437.595,-172.354\"/>\n",
       "<text text-anchor=\"middle\" x=\"416.609\" y=\"-191.247\" font-family=\"Times,serif\" font-size=\"14.00\">a</text>\n",
       "</g>\n",
       "<!-- S7&#45;&gt;F6 -->\n",
       "<g id=\"edge15\" class=\"edge\"><title>S7&#45;&gt;F6</title>\n",
       "<path fill=\"none\" stroke=\"black\" d=\"M384.566,-207.583C388.047,-203.101 391.803,-198.127 395.109,-193.447 403.645,-181.364 401.529,-174.654 413.109,-165.447 417.646,-161.839 423.013,-158.96 428.476,-156.674\"/>\n",
       "<polygon fill=\"black\" stroke=\"black\" points=\"430.02,-159.839 438.254,-153.171 427.659,-153.249 430.02,-159.839\"/>\n",
       "<text text-anchor=\"middle\" x=\"416.609\" y=\"-168.247\" font-family=\"Times,serif\" font-size=\"14.00\">b</text>\n",
       "</g>\n",
       "<!-- F9&#45;&gt;F9 -->\n",
       "<g id=\"edge18\" class=\"edge\"><title>F9&#45;&gt;F9</title>\n",
       "<path fill=\"none\" stroke=\"black\" d=\"M363.575,-151.62C362.693,-161.906 365.389,-170.894 371.662,-170.894 375.681,-170.894 378.232,-167.205 379.314,-161.85\"/>\n",
       "<polygon fill=\"black\" stroke=\"black\" points=\"382.821,-161.76 379.749,-151.62 375.827,-161.463 382.821,-161.76\"/>\n",
       "<text text-anchor=\"middle\" x=\"371.662\" y=\"-173.694\" font-family=\"Times,serif\" font-size=\"14.00\">a</text>\n",
       "</g>\n",
       "<!-- F9&#45;&gt;F6 -->\n",
       "<g id=\"edge19\" class=\"edge\"><title>F9&#45;&gt;F6</title>\n",
       "<path fill=\"none\" stroke=\"black\" d=\"M395.562,-128.777C403.423,-128.977 412.224,-129.684 420.109,-131.447 423.559,-132.218 427.087,-133.269 430.551,-134.471\"/>\n",
       "<polygon fill=\"black\" stroke=\"black\" points=\"429.442,-137.795 440.03,-138.16 431.98,-131.272 429.442,-137.795\"/>\n",
       "<text text-anchor=\"middle\" x=\"416.609\" y=\"-134.247\" font-family=\"Times,serif\" font-size=\"14.00\">b</text>\n",
       "</g>\n",
       "<!-- F3&#45;&gt;S4 -->\n",
       "<g id=\"edge7\" class=\"edge\"><title>F3&#45;&gt;S4</title>\n",
       "<path fill=\"none\" stroke=\"black\" d=\"M301.84,-234.815C314.845,-243.249 332.183,-254.493 346.203,-263.585\"/>\n",
       "<polygon fill=\"black\" stroke=\"black\" points=\"344.563,-266.693 354.858,-269.198 348.372,-260.82 344.563,-266.693\"/>\n",
       "<text text-anchor=\"middle\" x=\"326.715\" y=\"-256.247\" font-family=\"Times,serif\" font-size=\"14.00\">b</text>\n",
       "</g>\n",
       "<!-- F3&#45;&gt;S7 -->\n",
       "<g id=\"edge6\" class=\"edge\"><title>F3&#45;&gt;S7</title>\n",
       "<path fill=\"none\" stroke=\"black\" d=\"M305.403,-222.447C316.463,-222.447 329.899,-222.447 341.698,-222.447\"/>\n",
       "<polygon fill=\"black\" stroke=\"black\" points=\"341.958,-225.947 351.958,-222.447 341.958,-218.947 341.958,-225.947\"/>\n",
       "<text text-anchor=\"middle\" x=\"326.715\" y=\"-225.247\" font-family=\"Times,serif\" font-size=\"14.00\">a</text>\n",
       "</g>\n",
       "<!-- F2&#45;&gt;S8 -->\n",
       "<g id=\"edge4\" class=\"edge\"><title>F2&#45;&gt;S8</title>\n",
       "<path fill=\"none\" stroke=\"black\" d=\"M216.547,-88.4469C227.43,-88.4469 240.555,-88.4469 252.095,-88.4469\"/>\n",
       "<polygon fill=\"black\" stroke=\"black\" points=\"252.138,-91.947 262.138,-88.4469 252.138,-84.947 252.138,-91.947\"/>\n",
       "<text text-anchor=\"middle\" x=\"237.215\" y=\"-91.2469\" font-family=\"Times,serif\" font-size=\"14.00\">a</text>\n",
       "</g>\n",
       "<!-- F2&#45;&gt;S5 -->\n",
       "<g id=\"edge5\" class=\"edge\"><title>F2&#45;&gt;S5</title>\n",
       "<path fill=\"none\" stroke=\"black\" d=\"M211.665,-74.3527C224.139,-65.2082 241.473,-53.6889 258.321,-46.4469 285.649,-34.7004 319.012,-27.5029 342.248,-23.5256\"/>\n",
       "<polygon fill=\"black\" stroke=\"black\" points=\"342.843,-26.975 352.154,-21.9201 341.723,-20.0652 342.843,-26.975\"/>\n",
       "<text text-anchor=\"middle\" x=\"281.768\" y=\"-49.2469\" font-family=\"Times,serif\" font-size=\"14.00\">b</text>\n",
       "</g>\n",
       "<!-- F6&#45;&gt;F6 -->\n",
       "<g id=\"edge12\" class=\"edge\"><title>F6&#45;&gt;F6</title>\n",
       "<path fill=\"none\" stroke=\"black\" d=\"M457.467,-171.881C457.185,-181.63 458.548,-189.894 461.556,-189.894 463.389,-189.894 464.611,-186.825 465.222,-182.222\"/>\n",
       "<polygon fill=\"black\" stroke=\"black\" points=\"468.733,-182.016 465.645,-171.881 461.739,-181.73 468.733,-182.016\"/>\n",
       "<text text-anchor=\"middle\" x=\"461.556\" y=\"-192.694\" font-family=\"Times,serif\" font-size=\"14.00\">a</text>\n",
       "</g>\n",
       "<!-- F6&#45;&gt;F6 -->\n",
       "<g id=\"edge13\" class=\"edge\"><title>F6&#45;&gt;F6</title>\n",
       "<path fill=\"none\" stroke=\"black\" d=\"M454.466,-171.015C451.63,-189.162 453.993,-207.894 461.556,-207.894 467.7,-207.894 470.413,-195.528 469.693,-181.157\"/>\n",
       "<polygon fill=\"black\" stroke=\"black\" points=\"473.154,-180.603 468.646,-171.015 466.191,-181.322 473.154,-180.603\"/>\n",
       "<text text-anchor=\"middle\" x=\"461.556\" y=\"-210.694\" font-family=\"Times,serif\" font-size=\"14.00\">b</text>\n",
       "</g>\n",
       "</g>\n",
       "</svg>\n"
      ],
      "text/plain": [
       "<graphviz.dot.Digraph at 0x10c8365c0>"
      ]
     },
     "execution_count": 122,
     "metadata": {},
     "output_type": "execute_result"
    }
   ],
   "source": [
    "dblimp"
   ]
  },
  {
   "cell_type": "code",
   "execution_count": 123,
   "metadata": {
    "run_control": {
     "frozen": false,
     "read_only": false
    }
   },
   "outputs": [],
   "source": [
    "dblimp = dotObj_dfa(blimp, FuseEdges=True)"
   ]
  },
  {
   "cell_type": "code",
   "execution_count": 124,
   "metadata": {
    "run_control": {
     "frozen": false,
     "read_only": false
    }
   },
   "outputs": [
    {
     "data": {
      "image/svg+xml": [
       "<?xml version=\"1.0\" encoding=\"UTF-8\" standalone=\"no\"?>\n",
       "<!DOCTYPE svg PUBLIC \"-//W3C//DTD SVG 1.1//EN\"\n",
       " \"http://www.w3.org/Graphics/SVG/1.1/DTD/svg11.dtd\">\n",
       "<!-- Generated by graphviz version 2.38.0 (20140413.2041)\n",
       " -->\n",
       "<!-- Title: %3 Pages: 1 -->\n",
       "<svg width=\"529pt\" height=\"308pt\"\n",
       " viewBox=\"0.00 0.00 529.18 307.89\" xmlns=\"http://www.w3.org/2000/svg\" xmlns:xlink=\"http://www.w3.org/1999/xlink\">\n",
       "<g id=\"graph0\" class=\"graph\" transform=\"scale(1 1) rotate(0) translate(4 303.894)\">\n",
       "<title>%3</title>\n",
       "<polygon fill=\"white\" stroke=\"none\" points=\"-4,4 -4,-303.894 525.183,-303.894 525.183,4 -4,4\"/>\n",
       "<!-- EMPTY -->\n",
       "<g id=\"node1\" class=\"node\"><title>EMPTY</title>\n",
       "</g>\n",
       "<!-- I1 -->\n",
       "<g id=\"node5\" class=\"node\"><title>I1</title>\n",
       "<ellipse fill=\"none\" stroke=\"black\" cx=\"109\" cy=\"-156.447\" rx=\"18\" ry=\"18\"/>\n",
       "<text text-anchor=\"middle\" x=\"109\" y=\"-152.247\" font-family=\"Times,serif\" font-size=\"14.00\">I1</text>\n",
       "</g>\n",
       "<!-- EMPTY&#45;&gt;I1 -->\n",
       "<g id=\"edge1\" class=\"edge\"><title>EMPTY&#45;&gt;I1</title>\n",
       "<path fill=\"none\" stroke=\"black\" d=\"M54.195,-156.447C62.6538,-156.447 72.0513,-156.447 80.5951,-156.447\"/>\n",
       "<polygon fill=\"black\" stroke=\"black\" points=\"80.8257,-159.947 90.8257,-156.447 80.8257,-152.947 80.8257,-159.947\"/>\n",
       "</g>\n",
       "<!-- S8 -->\n",
       "<g id=\"node2\" class=\"node\"><title>S8</title>\n",
       "<ellipse fill=\"none\" stroke=\"black\" cx=\"282.554\" cy=\"-92.4469\" rx=\"19.3939\" ry=\"19.3939\"/>\n",
       "<text text-anchor=\"middle\" x=\"282.554\" y=\"-88.2469\" font-family=\"Times,serif\" font-size=\"14.00\">S8</text>\n",
       "</g>\n",
       "<!-- F9 -->\n",
       "<g id=\"node7\" class=\"node\"><title>F9</title>\n",
       "<ellipse fill=\"none\" stroke=\"black\" cx=\"404.342\" cy=\"-130.447\" rx=\"19.4029\" ry=\"19.4029\"/>\n",
       "<ellipse fill=\"none\" stroke=\"black\" cx=\"404.342\" cy=\"-130.447\" rx=\"23.3939\" ry=\"23.3939\"/>\n",
       "<text text-anchor=\"middle\" x=\"404.342\" y=\"-126.247\" font-family=\"Times,serif\" font-size=\"14.00\">F9</text>\n",
       "</g>\n",
       "<!-- S8&#45;&gt;F9 -->\n",
       "<g id=\"edge13\" class=\"edge\"><title>S8&#45;&gt;F9</title>\n",
       "<path fill=\"none\" stroke=\"black\" d=\"M301.23,-98.0539C319.741,-103.926 349.199,-113.271 371.728,-120.418\"/>\n",
       "<polygon fill=\"black\" stroke=\"black\" points=\"370.938,-123.839 381.528,-123.527 373.054,-117.167 370.938,-123.839\"/>\n",
       "<text text-anchor=\"middle\" x=\"343.448\" y=\"-120.247\" font-family=\"Times,serif\" font-size=\"14.00\">b</text>\n",
       "</g>\n",
       "<!-- F6 -->\n",
       "<g id=\"node10\" class=\"node\"><title>F6</title>\n",
       "<ellipse fill=\"none\" stroke=\"black\" cx=\"497.736\" cy=\"-130.447\" rx=\"19.4029\" ry=\"19.4029\"/>\n",
       "<ellipse fill=\"none\" stroke=\"black\" cx=\"497.736\" cy=\"-130.447\" rx=\"23.3939\" ry=\"23.3939\"/>\n",
       "<text text-anchor=\"middle\" x=\"497.736\" y=\"-126.247\" font-family=\"Times,serif\" font-size=\"14.00\">F6</text>\n",
       "</g>\n",
       "<!-- S8&#45;&gt;F6 -->\n",
       "<g id=\"edge12\" class=\"edge\"><title>S8&#45;&gt;F6</title>\n",
       "<path fill=\"none\" stroke=\"black\" d=\"M301.792,-87.5104C329.634,-80.839 384.106,-71.2122 427.789,-84.4469 443.789,-89.2946 459.468,-99.2173 471.821,-108.61\"/>\n",
       "<polygon fill=\"black\" stroke=\"black\" points=\"469.8,-111.474 479.805,-114.959 474.157,-105.995 469.8,-111.474\"/>\n",
       "<text text-anchor=\"middle\" x=\"404.342\" y=\"-87.2469\" font-family=\"Times,serif\" font-size=\"14.00\">a</text>\n",
       "</g>\n",
       "<!-- S5 -->\n",
       "<g id=\"node3\" class=\"node\"><title>S5</title>\n",
       "<ellipse fill=\"none\" stroke=\"black\" cx=\"343.448\" cy=\"-19.4469\" rx=\"19.3939\" ry=\"19.3939\"/>\n",
       "<text text-anchor=\"middle\" x=\"343.448\" y=\"-15.2469\" font-family=\"Times,serif\" font-size=\"14.00\">S5</text>\n",
       "</g>\n",
       "<!-- S5&#45;&gt;F6 -->\n",
       "<g id=\"edge9\" class=\"edge\"><title>S5&#45;&gt;F6</title>\n",
       "<path fill=\"none\" stroke=\"black\" d=\"M362.83,-16.7003C380.531,-14.9568 407.528,-14.7307 427.789,-25.4469 456.55,-40.6591 475.205,-73.8033 485.765,-98.8113\"/>\n",
       "<polygon fill=\"black\" stroke=\"black\" points=\"482.587,-100.291 489.547,-108.279 489.088,-97.6943 482.587,-100.291\"/>\n",
       "<text text-anchor=\"middle\" x=\"404.342\" y=\"-42.2469\" font-family=\"Times,serif\" font-size=\"14.00\">a </text>\n",
       "<text text-anchor=\"middle\" x=\"404.342\" y=\"-28.2469\" font-family=\"Times,serif\" font-size=\"14.00\"> b</text>\n",
       "</g>\n",
       "<!-- S4 -->\n",
       "<g id=\"node4\" class=\"node\"><title>S4</title>\n",
       "<ellipse fill=\"none\" stroke=\"black\" cx=\"404.342\" cy=\"-280.447\" rx=\"19.3939\" ry=\"19.3939\"/>\n",
       "<text text-anchor=\"middle\" x=\"404.342\" y=\"-276.247\" font-family=\"Times,serif\" font-size=\"14.00\">S4</text>\n",
       "</g>\n",
       "<!-- S4&#45;&gt;F6 -->\n",
       "<g id=\"edge8\" class=\"edge\"><title>S4&#45;&gt;F6</title>\n",
       "<path fill=\"none\" stroke=\"black\" d=\"M417.072,-265.456C420.547,-260.97 424.344,-256.026 427.789,-251.447 440.694,-234.29 445.166,-230.809 456.289,-212.447 466.233,-196.032 475.806,-176.831 483.14,-161.138\"/>\n",
       "<polygon fill=\"black\" stroke=\"black\" points=\"486.401,-162.424 487.401,-151.876 480.042,-159.498 486.401,-162.424\"/>\n",
       "<text text-anchor=\"middle\" x=\"451.039\" y=\"-245.247\" font-family=\"Times,serif\" font-size=\"14.00\">a </text>\n",
       "<text text-anchor=\"middle\" x=\"451.039\" y=\"-231.247\" font-family=\"Times,serif\" font-size=\"14.00\"> b</text>\n",
       "</g>\n",
       "<!-- F3 -->\n",
       "<g id=\"node8\" class=\"node\"><title>F3</title>\n",
       "<ellipse fill=\"none\" stroke=\"black\" cx=\"282.554\" cy=\"-223.447\" rx=\"19.4029\" ry=\"19.4029\"/>\n",
       "<ellipse fill=\"none\" stroke=\"black\" cx=\"282.554\" cy=\"-223.447\" rx=\"23.3939\" ry=\"23.3939\"/>\n",
       "<text text-anchor=\"middle\" x=\"282.554\" y=\"-219.247\" font-family=\"Times,serif\" font-size=\"14.00\">F3</text>\n",
       "</g>\n",
       "<!-- I1&#45;&gt;F3 -->\n",
       "<g id=\"edge3\" class=\"edge\"><title>I1&#45;&gt;F3</title>\n",
       "<path fill=\"none\" stroke=\"black\" d=\"M126.139,-162.75C154.654,-173.886 214.377,-197.211 250.921,-211.483\"/>\n",
       "<polygon fill=\"black\" stroke=\"black\" points=\"249.98,-214.873 260.568,-215.251 252.527,-208.353 249.98,-214.873\"/>\n",
       "<text text-anchor=\"middle\" x=\"192.661\" y=\"-201.247\" font-family=\"Times,serif\" font-size=\"14.00\">b</text>\n",
       "</g>\n",
       "<!-- F2 -->\n",
       "<g id=\"node9\" class=\"node\"><title>F2</title>\n",
       "<ellipse fill=\"none\" stroke=\"black\" cx=\"192.661\" cy=\"-92.4469\" rx=\"19.4029\" ry=\"19.4029\"/>\n",
       "<ellipse fill=\"none\" stroke=\"black\" cx=\"192.661\" cy=\"-92.4469\" rx=\"23.3939\" ry=\"23.3939\"/>\n",
       "<text text-anchor=\"middle\" x=\"192.661\" y=\"-88.2469\" font-family=\"Times,serif\" font-size=\"14.00\">F2</text>\n",
       "</g>\n",
       "<!-- I1&#45;&gt;F2 -->\n",
       "<g id=\"edge2\" class=\"edge\"><title>I1&#45;&gt;F2</title>\n",
       "<path fill=\"none\" stroke=\"black\" d=\"M123.853,-145.59C135.233,-136.671 151.674,-123.785 165.517,-112.936\"/>\n",
       "<polygon fill=\"black\" stroke=\"black\" points=\"168.02,-115.421 173.732,-106.498 163.702,-109.912 168.02,-115.421\"/>\n",
       "<text text-anchor=\"middle\" x=\"148.107\" y=\"-131.247\" font-family=\"Times,serif\" font-size=\"14.00\">a</text>\n",
       "</g>\n",
       "<!-- S7 -->\n",
       "<g id=\"node6\" class=\"node\"><title>S7</title>\n",
       "<ellipse fill=\"none\" stroke=\"black\" cx=\"404.342\" cy=\"-223.447\" rx=\"19.3939\" ry=\"19.3939\"/>\n",
       "<text text-anchor=\"middle\" x=\"404.342\" y=\"-219.247\" font-family=\"Times,serif\" font-size=\"14.00\">S7</text>\n",
       "</g>\n",
       "<!-- S7&#45;&gt;F6 -->\n",
       "<g id=\"edge11\" class=\"edge\"><title>S7&#45;&gt;F6</title>\n",
       "<path fill=\"none\" stroke=\"black\" d=\"M418.827,-209.724C433.252,-195.046 456.388,-171.503 473.707,-153.88\"/>\n",
       "<polygon fill=\"black\" stroke=\"black\" points=\"476.218,-156.318 480.731,-146.733 471.226,-151.412 476.218,-156.318\"/>\n",
       "<text text-anchor=\"middle\" x=\"451.039\" y=\"-197.247\" font-family=\"Times,serif\" font-size=\"14.00\">a </text>\n",
       "<text text-anchor=\"middle\" x=\"451.039\" y=\"-183.247\" font-family=\"Times,serif\" font-size=\"14.00\"> b</text>\n",
       "</g>\n",
       "<!-- F9&#45;&gt;F9 -->\n",
       "<g id=\"edge14\" class=\"edge\"><title>F9&#45;&gt;F9</title>\n",
       "<path fill=\"none\" stroke=\"black\" d=\"M395.887,-152.62C394.965,-162.906 397.783,-171.894 404.342,-171.894 408.544,-171.894 411.21,-168.205 412.341,-162.85\"/>\n",
       "<polygon fill=\"black\" stroke=\"black\" points=\"415.849,-162.766 412.796,-152.62 408.855,-162.455 415.849,-162.766\"/>\n",
       "<text text-anchor=\"middle\" x=\"404.342\" y=\"-174.694\" font-family=\"Times,serif\" font-size=\"14.00\">a</text>\n",
       "</g>\n",
       "<!-- F9&#45;&gt;F6 -->\n",
       "<g id=\"edge15\" class=\"edge\"><title>F9&#45;&gt;F6</title>\n",
       "<path fill=\"none\" stroke=\"black\" d=\"M427.934,-130.447C438.809,-130.447 452.053,-130.447 464.007,-130.447\"/>\n",
       "<polygon fill=\"black\" stroke=\"black\" points=\"464.087,-133.947 474.087,-130.447 464.087,-126.947 464.087,-133.947\"/>\n",
       "<text text-anchor=\"middle\" x=\"451.039\" y=\"-133.247\" font-family=\"Times,serif\" font-size=\"14.00\">b</text>\n",
       "</g>\n",
       "<!-- F3&#45;&gt;S4 -->\n",
       "<g id=\"edge7\" class=\"edge\"><title>F3&#45;&gt;S4</title>\n",
       "<path fill=\"none\" stroke=\"black\" d=\"M304.147,-233.246C324.425,-242.895 355.463,-257.664 377.412,-268.108\"/>\n",
       "<polygon fill=\"black\" stroke=\"black\" points=\"375.961,-271.294 386.495,-272.43 378.969,-264.973 375.961,-271.294\"/>\n",
       "<text text-anchor=\"middle\" x=\"343.448\" y=\"-263.247\" font-family=\"Times,serif\" font-size=\"14.00\">b</text>\n",
       "</g>\n",
       "<!-- F3&#45;&gt;S7 -->\n",
       "<g id=\"edge6\" class=\"edge\"><title>F3&#45;&gt;S7</title>\n",
       "<path fill=\"none\" stroke=\"black\" d=\"M306.086,-223.447C325.477,-223.447 353.568,-223.447 374.58,-223.447\"/>\n",
       "<polygon fill=\"black\" stroke=\"black\" points=\"374.839,-226.947 384.839,-223.447 374.839,-219.947 374.839,-226.947\"/>\n",
       "<text text-anchor=\"middle\" x=\"343.448\" y=\"-226.247\" font-family=\"Times,serif\" font-size=\"14.00\">a</text>\n",
       "</g>\n",
       "<!-- F2&#45;&gt;S8 -->\n",
       "<g id=\"edge4\" class=\"edge\"><title>F2&#45;&gt;S8</title>\n",
       "<path fill=\"none\" stroke=\"black\" d=\"M216.296,-92.4469C227.355,-92.4469 240.791,-92.4469 252.59,-92.4469\"/>\n",
       "<polygon fill=\"black\" stroke=\"black\" points=\"252.851,-95.947 262.851,-92.4469 252.851,-88.947 252.851,-95.947\"/>\n",
       "<text text-anchor=\"middle\" x=\"237.608\" y=\"-95.2469\" font-family=\"Times,serif\" font-size=\"14.00\">a</text>\n",
       "</g>\n",
       "<!-- F2&#45;&gt;S5 -->\n",
       "<g id=\"edge5\" class=\"edge\"><title>F2&#45;&gt;S5</title>\n",
       "<path fill=\"none\" stroke=\"black\" d=\"M214.037,-82.4496C240.637,-69.3988 287.227,-46.5403 316.374,-32.2395\"/>\n",
       "<polygon fill=\"black\" stroke=\"black\" points=\"318.101,-35.2913 325.537,-27.7443 315.017,-29.0069 318.101,-35.2913\"/>\n",
       "<text text-anchor=\"middle\" x=\"237.608\" y=\"-76.2469\" font-family=\"Times,serif\" font-size=\"14.00\">b</text>\n",
       "</g>\n",
       "<!-- F6&#45;&gt;F6 -->\n",
       "<g id=\"edge10\" class=\"edge\"><title>F6&#45;&gt;F6</title>\n",
       "<path fill=\"none\" stroke=\"black\" d=\"M489.281,-152.62C488.359,-162.906 491.177,-171.894 497.736,-171.894 501.937,-171.894 504.604,-168.205 505.735,-162.85\"/>\n",
       "<polygon fill=\"black\" stroke=\"black\" points=\"509.242,-162.766 506.19,-152.62 502.249,-162.455 509.242,-162.766\"/>\n",
       "<text text-anchor=\"middle\" x=\"497.736\" y=\"-188.694\" font-family=\"Times,serif\" font-size=\"14.00\">a </text>\n",
       "<text text-anchor=\"middle\" x=\"497.736\" y=\"-174.694\" font-family=\"Times,serif\" font-size=\"14.00\"> b</text>\n",
       "</g>\n",
       "</g>\n",
       "</svg>\n"
      ],
      "text/plain": [
       "<graphviz.dot.Digraph at 0x10c836240>"
      ]
     },
     "execution_count": 124,
     "metadata": {},
     "output_type": "execute_result"
    }
   ],
   "source": [
    "dblimp"
   ]
  },
  {
   "cell_type": "code",
   "execution_count": 125,
   "metadata": {
    "run_control": {
     "frozen": false,
     "read_only": false
    }
   },
   "outputs": [
    {
     "data": {
      "text/plain": [
       "'// do_St47\\ndigraph {\\n\\tgraph [rankdir=LR]\\n\\t\\tEMPTY [label=\"\" shape=plaintext]\\n\\t\\tS8 [label=S8 peripheries=1 shape=circle]\\n\\t\\tS5 [label=S5 peripheries=1 shape=circle]\\n\\t\\tS4 [label=S4 peripheries=1 shape=circle]\\n\\t\\tI1 [label=I1 peripheries=1 shape=circle]\\n\\t\\tS7 [label=S7 peripheries=1 shape=circle]\\n\\t\\tF9 [label=F9 peripheries=2 shape=circle]\\n\\t\\tF3 [label=F3 peripheries=2 shape=circle]\\n\\t\\tF2 [label=F2 peripheries=2 shape=circle]\\n\\t\\tF6 [label=F6 peripheries=2 shape=circle]\\n\\t\\t\\tEMPTY -> I1\\n\\t\\t\\tI1 -> F2 [label=a]\\n\\t\\t\\tI1 -> F3 [label=b]\\n\\t\\t\\tF2 -> S8 [label=a]\\n\\t\\t\\tF2 -> S5 [label=b]\\n\\t\\t\\tF3 -> S7 [label=a]\\n\\t\\t\\tF3 -> S4 [label=b]\\n\\t\\t\\tS4 -> F6 [label=\"a \\n b\"]\\n\\t\\t\\tS5 -> F6 [label=\"a \\n b\"]\\n\\t\\t\\tF6 -> F6 [label=\"a \\n b\"]\\n\\t\\t\\tS7 -> F6 [label=\"a \\n b\"]\\n\\t\\t\\tS8 -> F6 [label=a]\\n\\t\\t\\tS8 -> F9 [label=b]\\n\\t\\t\\tF9 -> F9 [label=a]\\n\\t\\t\\tF9 -> F6 [label=b]\\n}'"
      ]
     },
     "execution_count": 125,
     "metadata": {},
     "output_type": "execute_result"
    }
   ],
   "source": [
    "dblimp.source"
   ]
  },
  {
   "cell_type": "code",
   "execution_count": null,
   "metadata": {
    "run_control": {
     "frozen": false,
     "read_only": false
    }
   },
   "outputs": [],
   "source": []
  },
  {
   "cell_type": "code",
   "execution_count": 126,
   "metadata": {
    "run_control": {
     "frozen": false,
     "read_only": false
    }
   },
   "outputs": [],
   "source": [
    "mblimp = min_dfa(blimp)"
   ]
  },
  {
   "cell_type": "code",
   "execution_count": 127,
   "metadata": {
    "run_control": {
     "frozen": false,
     "read_only": false
    }
   },
   "outputs": [],
   "source": [
    "dmblimp = dotObj_dfa(mblimp)"
   ]
  },
  {
   "cell_type": "code",
   "execution_count": 128,
   "metadata": {
    "run_control": {
     "frozen": false,
     "read_only": false
    }
   },
   "outputs": [
    {
     "data": {
      "image/svg+xml": [
       "<?xml version=\"1.0\" encoding=\"UTF-8\" standalone=\"no\"?>\n",
       "<!DOCTYPE svg PUBLIC \"-//W3C//DTD SVG 1.1//EN\"\n",
       " \"http://www.w3.org/Graphics/SVG/1.1/DTD/svg11.dtd\">\n",
       "<!-- Generated by graphviz version 2.38.0 (20140413.2041)\n",
       " -->\n",
       "<!-- Title: %3 Pages: 1 -->\n",
       "<svg width=\"397pt\" height=\"119pt\"\n",
       " viewBox=\"0.00 0.00 396.68 118.89\" xmlns=\"http://www.w3.org/2000/svg\" xmlns:xlink=\"http://www.w3.org/1999/xlink\">\n",
       "<g id=\"graph0\" class=\"graph\" transform=\"scale(1 1) rotate(0) translate(4 114.894)\">\n",
       "<title>%3</title>\n",
       "<polygon fill=\"white\" stroke=\"none\" points=\"-4,4 -4,-114.894 392.681,-114.894 392.681,4 -4,4\"/>\n",
       "<!-- EMPTY -->\n",
       "<g id=\"node1\" class=\"node\"><title>EMPTY</title>\n",
       "</g>\n",
       "<!-- I1 -->\n",
       "<g id=\"node3\" class=\"node\"><title>I1</title>\n",
       "<ellipse fill=\"none\" stroke=\"black\" cx=\"109\" cy=\"-23.4469\" rx=\"18\" ry=\"18\"/>\n",
       "<text text-anchor=\"middle\" x=\"109\" y=\"-19.2469\" font-family=\"Times,serif\" font-size=\"14.00\">I1</text>\n",
       "</g>\n",
       "<!-- EMPTY&#45;&gt;I1 -->\n",
       "<g id=\"edge1\" class=\"edge\"><title>EMPTY&#45;&gt;I1</title>\n",
       "<path fill=\"none\" stroke=\"black\" d=\"M54.195,-23.4469C62.6538,-23.4469 72.0513,-23.4469 80.5951,-23.4469\"/>\n",
       "<polygon fill=\"black\" stroke=\"black\" points=\"80.8257,-26.947 90.8257,-23.4469 80.8257,-19.947 80.8257,-26.947\"/>\n",
       "</g>\n",
       "<!-- S5 -->\n",
       "<g id=\"node2\" class=\"node\"><title>S5</title>\n",
       "<ellipse fill=\"none\" stroke=\"black\" cx=\"279.341\" cy=\"-23.4469\" rx=\"19.3939\" ry=\"19.3939\"/>\n",
       "<text text-anchor=\"middle\" x=\"279.341\" y=\"-19.2469\" font-family=\"Times,serif\" font-size=\"14.00\">S5</text>\n",
       "</g>\n",
       "<!-- F9 -->\n",
       "<g id=\"node5\" class=\"node\"><title>F9</title>\n",
       "<ellipse fill=\"none\" stroke=\"black\" cx=\"365.234\" cy=\"-23.4469\" rx=\"19.4029\" ry=\"19.4029\"/>\n",
       "<ellipse fill=\"none\" stroke=\"black\" cx=\"365.234\" cy=\"-23.4469\" rx=\"23.3939\" ry=\"23.3939\"/>\n",
       "<text text-anchor=\"middle\" x=\"365.234\" y=\"-19.2469\" font-family=\"Times,serif\" font-size=\"14.00\">F9</text>\n",
       "</g>\n",
       "<!-- S5&#45;&gt;F9 -->\n",
       "<g id=\"edge6\" class=\"edge\"><title>S5&#45;&gt;F9</title>\n",
       "<path fill=\"none\" stroke=\"black\" d=\"M298.959,-23.4469C308.471,-23.4469 320.328,-23.4469 331.318,-23.4469\"/>\n",
       "<polygon fill=\"black\" stroke=\"black\" points=\"331.483,-26.947 341.483,-23.4469 331.483,-19.947 331.483,-26.947\"/>\n",
       "<text text-anchor=\"middle\" x=\"320.287\" y=\"-26.2469\" font-family=\"Times,serif\" font-size=\"14.00\">a</text>\n",
       "</g>\n",
       "<!-- S5&#45;&gt;F9 -->\n",
       "<g id=\"edge7\" class=\"edge\"><title>S5&#45;&gt;F9</title>\n",
       "<path fill=\"none\" stroke=\"black\" d=\"M296.43,-13.5192C302.568,-10.2735 309.778,-7.08348 316.787,-5.44687 323.093,-3.97461 329.689,-4.83152 335.889,-6.80151\"/>\n",
       "<polygon fill=\"black\" stroke=\"black\" points=\"334.628,-10.067 345.207,-10.6386 337.293,-3.5944 334.628,-10.067\"/>\n",
       "<text text-anchor=\"middle\" x=\"320.287\" y=\"-8.24687\" font-family=\"Times,serif\" font-size=\"14.00\">b</text>\n",
       "</g>\n",
       "<!-- F3 -->\n",
       "<g id=\"node4\" class=\"node\"><title>F3</title>\n",
       "<ellipse fill=\"none\" stroke=\"black\" cx=\"193.447\" cy=\"-23.4469\" rx=\"19.4029\" ry=\"19.4029\"/>\n",
       "<ellipse fill=\"none\" stroke=\"black\" cx=\"193.447\" cy=\"-23.4469\" rx=\"23.3939\" ry=\"23.3939\"/>\n",
       "<text text-anchor=\"middle\" x=\"193.447\" y=\"-19.2469\" font-family=\"Times,serif\" font-size=\"14.00\">F3</text>\n",
       "</g>\n",
       "<!-- I1&#45;&gt;F3 -->\n",
       "<g id=\"edge2\" class=\"edge\"><title>I1&#45;&gt;F3</title>\n",
       "<path fill=\"none\" stroke=\"black\" d=\"M127.083,-23.4469C136.448,-23.4469 148.379,-23.4469 159.478,-23.4469\"/>\n",
       "<polygon fill=\"black\" stroke=\"black\" points=\"159.753,-26.947 169.753,-23.4469 159.753,-19.947 159.753,-26.947\"/>\n",
       "<text text-anchor=\"middle\" x=\"148.5\" y=\"-26.2469\" font-family=\"Times,serif\" font-size=\"14.00\">a</text>\n",
       "</g>\n",
       "<!-- I1&#45;&gt;F3 -->\n",
       "<g id=\"edge3\" class=\"edge\"><title>I1&#45;&gt;F3</title>\n",
       "<path fill=\"none\" stroke=\"black\" d=\"M124.717,-13.9046C130.75,-10.5299 137.96,-7.15095 145,-5.44687 151.294,-3.92333 157.885,-4.75841 164.083,-6.72333\"/>\n",
       "<polygon fill=\"black\" stroke=\"black\" points=\"162.823,-9.98936 173.402,-10.5645 165.49,-3.5176 162.823,-9.98936\"/>\n",
       "<text text-anchor=\"middle\" x=\"148.5\" y=\"-8.24687\" font-family=\"Times,serif\" font-size=\"14.00\">b</text>\n",
       "</g>\n",
       "<!-- F3&#45;&gt;S5 -->\n",
       "<g id=\"edge4\" class=\"edge\"><title>F3&#45;&gt;S5</title>\n",
       "<path fill=\"none\" stroke=\"black\" d=\"M216.929,-23.4469C226.976,-23.4469 238.937,-23.4469 249.622,-23.4469\"/>\n",
       "<polygon fill=\"black\" stroke=\"black\" points=\"249.764,-26.947 259.764,-23.4469 249.764,-19.947 249.764,-26.947\"/>\n",
       "<text text-anchor=\"middle\" x=\"238.394\" y=\"-26.2469\" font-family=\"Times,serif\" font-size=\"14.00\">a</text>\n",
       "</g>\n",
       "<!-- F3&#45;&gt;S5 -->\n",
       "<g id=\"edge5\" class=\"edge\"><title>F3&#45;&gt;S5</title>\n",
       "<path fill=\"none\" stroke=\"black\" d=\"M213.474,-10.6386C222.002,-6.3683 232.285,-3.20342 241.894,-5.44687 245.618,-6.31632 249.398,-7.62417 253.044,-9.14587\"/>\n",
       "<polygon fill=\"black\" stroke=\"black\" points=\"251.717,-12.39 262.251,-13.5192 254.72,-6.06705 251.717,-12.39\"/>\n",
       "<text text-anchor=\"middle\" x=\"238.394\" y=\"-8.24687\" font-family=\"Times,serif\" font-size=\"14.00\">b</text>\n",
       "</g>\n",
       "<!-- F9&#45;&gt;F9 -->\n",
       "<g id=\"edge8\" class=\"edge\"><title>F9&#45;&gt;F9</title>\n",
       "<path fill=\"none\" stroke=\"black\" d=\"M361.146,-46.8814C360.864,-56.63 362.227,-64.8937 365.234,-64.8937 367.067,-64.8937 368.289,-61.8251 368.901,-57.2218\"/>\n",
       "<polygon fill=\"black\" stroke=\"black\" points=\"372.412,-57.016 369.323,-46.8814 365.418,-56.7301 372.412,-57.016\"/>\n",
       "<text text-anchor=\"middle\" x=\"365.234\" y=\"-67.6937\" font-family=\"Times,serif\" font-size=\"14.00\">a</text>\n",
       "</g>\n",
       "<!-- F9&#45;&gt;F9 -->\n",
       "<g id=\"edge9\" class=\"edge\"><title>F9&#45;&gt;F9</title>\n",
       "<path fill=\"none\" stroke=\"black\" d=\"M358.144,-46.0152C355.309,-64.1618 357.672,-82.8937 365.234,-82.8937 371.379,-82.8937 374.091,-70.5277 373.371,-56.1571\"/>\n",
       "<polygon fill=\"black\" stroke=\"black\" points=\"376.833,-55.6029 372.324,-46.0152 369.87,-56.3217 376.833,-55.6029\"/>\n",
       "<text text-anchor=\"middle\" x=\"365.234\" y=\"-85.6937\" font-family=\"Times,serif\" font-size=\"14.00\">b</text>\n",
       "</g>\n",
       "</g>\n",
       "</svg>\n"
      ],
      "text/plain": [
       "<graphviz.dot.Digraph at 0x10d09aa20>"
      ]
     },
     "execution_count": 128,
     "metadata": {},
     "output_type": "execute_result"
    }
   ],
   "source": [
    "dmblimp"
   ]
  },
  {
   "cell_type": "code",
   "execution_count": null,
   "metadata": {
    "run_control": {
     "frozen": false,
     "read_only": false
    }
   },
   "outputs": [],
   "source": []
  },
  {
   "cell_type": "markdown",
   "metadata": {
    "run_control": {
     "frozen": false,
     "read_only": false
    }
   },
   "source": [
    "This shows how DeMorgan's Law applies to DFAs. It also shows how, using the tools provided to us, we can continually check our work."
   ]
  },
  {
   "cell_type": "code",
   "execution_count": 129,
   "metadata": {
    "run_control": {
     "frozen": false,
     "read_only": false
    }
   },
   "outputs": [
    {
     "name": "stderr",
     "output_type": "stream",
     "text": [
      "Generating LALR tables\n"
     ]
    }
   ],
   "source": [
    "testdfa = md2mc('''DFA\n",
    "I : 0 -> I\n",
    "I : 1 -> F\n",
    "F : 0 -> I\n",
    "''')"
   ]
  },
  {
   "cell_type": "code",
   "execution_count": 130,
   "metadata": {
    "run_control": {
     "frozen": false,
     "read_only": false
    }
   },
   "outputs": [
    {
     "data": {
      "text/plain": [
       "{'Delta': {('F', '0'): 'I', ('I', '0'): 'I', ('I', '1'): 'F'},\n",
       " 'F': {'F'},\n",
       " 'Q': {'F', 'I'},\n",
       " 'Sigma': {'0', '1'},\n",
       " 'q0': 'I'}"
      ]
     },
     "execution_count": 130,
     "metadata": {},
     "output_type": "execute_result"
    }
   ],
   "source": [
    "testdfa"
   ]
  },
  {
   "cell_type": "code",
   "execution_count": 131,
   "metadata": {
    "run_control": {
     "frozen": false,
     "read_only": false
    }
   },
   "outputs": [],
   "source": [
    "tot_testdfa = totalize_dfa(testdfa)"
   ]
  },
  {
   "cell_type": "code",
   "execution_count": 132,
   "metadata": {
    "run_control": {
     "frozen": false,
     "read_only": false
    }
   },
   "outputs": [
    {
     "data": {
      "image/svg+xml": [
       "<?xml version=\"1.0\" encoding=\"UTF-8\" standalone=\"no\"?>\n",
       "<!DOCTYPE svg PUBLIC \"-//W3C//DTD SVG 1.1//EN\"\n",
       " \"http://www.w3.org/Graphics/SVG/1.1/DTD/svg11.dtd\">\n",
       "<!-- Generated by graphviz version 2.38.0 (20140413.2041)\n",
       " -->\n",
       "<!-- Title: %3 Pages: 1 -->\n",
       "<svg width=\"222pt\" height=\"80pt\"\n",
       " viewBox=\"0.00 0.00 222.00 80.00\" xmlns=\"http://www.w3.org/2000/svg\" xmlns:xlink=\"http://www.w3.org/1999/xlink\">\n",
       "<g id=\"graph0\" class=\"graph\" transform=\"scale(1 1) rotate(0) translate(4 76)\">\n",
       "<title>%3</title>\n",
       "<polygon fill=\"white\" stroke=\"none\" points=\"-4,4 -4,-76 218,-76 218,4 -4,4\"/>\n",
       "<!-- EMPTY -->\n",
       "<g id=\"node1\" class=\"node\"><title>EMPTY</title>\n",
       "</g>\n",
       "<!-- I -->\n",
       "<g id=\"node2\" class=\"node\"><title>I</title>\n",
       "<ellipse fill=\"none\" stroke=\"black\" cx=\"109\" cy=\"-22\" rx=\"18\" ry=\"18\"/>\n",
       "<text text-anchor=\"middle\" x=\"109\" y=\"-17.8\" font-family=\"Times,serif\" font-size=\"14.00\">I</text>\n",
       "</g>\n",
       "<!-- EMPTY&#45;&gt;I -->\n",
       "<g id=\"edge1\" class=\"edge\"><title>EMPTY&#45;&gt;I</title>\n",
       "<path fill=\"none\" stroke=\"black\" d=\"M54.195,-22C62.6538,-22 72.0513,-22 80.5951,-22\"/>\n",
       "<polygon fill=\"black\" stroke=\"black\" points=\"80.8257,-25.5001 90.8257,-22 80.8257,-18.5001 80.8257,-25.5001\"/>\n",
       "</g>\n",
       "<!-- I&#45;&gt;I -->\n",
       "<g id=\"edge2\" class=\"edge\"><title>I&#45;&gt;I</title>\n",
       "<path fill=\"none\" stroke=\"black\" d=\"M102.621,-39.0373C101.319,-48.8579 103.445,-58 109,-58 112.472,-58 114.604,-54.4289 115.398,-49.3529\"/>\n",
       "<polygon fill=\"black\" stroke=\"black\" points=\"118.897,-49.031 115.379,-39.0373 111.897,-49.0435 118.897,-49.031\"/>\n",
       "<text text-anchor=\"middle\" x=\"109\" y=\"-60.8\" font-family=\"Times,serif\" font-size=\"14.00\">0</text>\n",
       "</g>\n",
       "<!-- F -->\n",
       "<g id=\"node3\" class=\"node\"><title>F</title>\n",
       "<ellipse fill=\"none\" stroke=\"black\" cx=\"192\" cy=\"-22\" rx=\"18\" ry=\"18\"/>\n",
       "<ellipse fill=\"none\" stroke=\"black\" cx=\"192\" cy=\"-22\" rx=\"22\" ry=\"22\"/>\n",
       "<text text-anchor=\"middle\" x=\"192\" y=\"-17.8\" font-family=\"Times,serif\" font-size=\"14.00\">F</text>\n",
       "</g>\n",
       "<!-- I&#45;&gt;F -->\n",
       "<g id=\"edge3\" class=\"edge\"><title>I&#45;&gt;F</title>\n",
       "<path fill=\"none\" stroke=\"black\" d=\"M127.178,-22C136.61,-22 148.601,-22 159.637,-22\"/>\n",
       "<polygon fill=\"black\" stroke=\"black\" points=\"159.811,-25.5001 169.811,-22 159.811,-18.5001 159.811,-25.5001\"/>\n",
       "<text text-anchor=\"middle\" x=\"148.5\" y=\"-24.8\" font-family=\"Times,serif\" font-size=\"14.00\">1</text>\n",
       "</g>\n",
       "<!-- F&#45;&gt;I -->\n",
       "<g id=\"edge4\" class=\"edge\"><title>F&#45;&gt;I</title>\n",
       "<path fill=\"none\" stroke=\"black\" d=\"M173.45,-9.63813C165.02,-5.13585 154.669,-1.65948 145,-4 141.26,-4.9053 137.472,-6.28328 133.838,-7.8822\"/>\n",
       "<polygon fill=\"black\" stroke=\"black\" points=\"132.086,-4.84541 124.717,-12.4577 135.225,-11.1023 132.086,-4.84541\"/>\n",
       "<text text-anchor=\"middle\" x=\"148.5\" y=\"-6.8\" font-family=\"Times,serif\" font-size=\"14.00\">0</text>\n",
       "</g>\n",
       "</g>\n",
       "</svg>\n"
      ],
      "text/plain": [
       "<graphviz.dot.Digraph at 0x10d0a8ef0>"
      ]
     },
     "execution_count": 132,
     "metadata": {},
     "output_type": "execute_result"
    }
   ],
   "source": [
    "dotObj_dfa(tot_testdfa)"
   ]
  },
  {
   "cell_type": "code",
   "execution_count": 133,
   "metadata": {
    "run_control": {
     "frozen": false,
     "read_only": false
    }
   },
   "outputs": [
    {
     "data": {
      "text/plain": [
       "<function jove.DotBashers.dotObj_dfa_w_bh>"
      ]
     },
     "execution_count": 133,
     "metadata": {},
     "output_type": "execute_result"
    }
   ],
   "source": [
    "dotObj_dfa_w_bh"
   ]
  },
  {
   "cell_type": "code",
   "execution_count": 134,
   "metadata": {
    "run_control": {
     "frozen": false,
     "read_only": false
    }
   },
   "outputs": [
    {
     "data": {
      "image/svg+xml": [
       "<?xml version=\"1.0\" encoding=\"UTF-8\" standalone=\"no\"?>\n",
       "<!DOCTYPE svg PUBLIC \"-//W3C//DTD SVG 1.1//EN\"\n",
       " \"http://www.w3.org/Graphics/SVG/1.1/DTD/svg11.dtd\">\n",
       "<!-- Generated by graphviz version 2.38.0 (20140413.2041)\n",
       " -->\n",
       "<!-- Title: %3 Pages: 1 -->\n",
       "<svg width=\"310pt\" height=\"117pt\"\n",
       " viewBox=\"0.00 0.00 309.78 116.78\" xmlns=\"http://www.w3.org/2000/svg\" xmlns:xlink=\"http://www.w3.org/1999/xlink\">\n",
       "<g id=\"graph0\" class=\"graph\" transform=\"scale(1 1) rotate(0) translate(4 112.784)\">\n",
       "<title>%3</title>\n",
       "<polygon fill=\"white\" stroke=\"none\" points=\"-4,4 -4,-112.784 305.784,-112.784 305.784,4 -4,4\"/>\n",
       "<!-- EMPTY -->\n",
       "<g id=\"node1\" class=\"node\"><title>EMPTY</title>\n",
       "</g>\n",
       "<!-- I -->\n",
       "<g id=\"node3\" class=\"node\"><title>I</title>\n",
       "<ellipse fill=\"none\" stroke=\"black\" cx=\"109\" cy=\"-22.3918\" rx=\"18\" ry=\"18\"/>\n",
       "<text text-anchor=\"middle\" x=\"109\" y=\"-18.1918\" font-family=\"Times,serif\" font-size=\"14.00\">I</text>\n",
       "</g>\n",
       "<!-- EMPTY&#45;&gt;I -->\n",
       "<g id=\"edge1\" class=\"edge\"><title>EMPTY&#45;&gt;I</title>\n",
       "<path fill=\"none\" stroke=\"black\" d=\"M54.195,-22.3918C62.6538,-22.3918 72.0513,-22.3918 80.5951,-22.3918\"/>\n",
       "<polygon fill=\"black\" stroke=\"black\" points=\"80.8257,-25.8919 90.8257,-22.3918 80.8257,-18.8919 80.8257,-25.8919\"/>\n",
       "</g>\n",
       "<!-- BH -->\n",
       "<g id=\"node2\" class=\"node\"><title>BH</title>\n",
       "<ellipse fill=\"none\" stroke=\"black\" cx=\"279.392\" cy=\"-22.3918\" rx=\"22.2841\" ry=\"22.2841\"/>\n",
       "<text text-anchor=\"middle\" x=\"279.392\" y=\"-18.1918\" font-family=\"Times,serif\" font-size=\"14.00\">BH</text>\n",
       "</g>\n",
       "<!-- BH&#45;&gt;BH -->\n",
       "<g id=\"edge6\" class=\"edge\"><title>BH&#45;&gt;BH</title>\n",
       "<path fill=\"none\" stroke=\"black\" d=\"M275.501,-44.8217C275.183,-54.4985 276.48,-62.7836 279.392,-62.7836 281.166,-62.7836 282.341,-59.707 282.916,-55.1138\"/>\n",
       "<polygon fill=\"black\" stroke=\"black\" points=\"286.424,-54.9399 283.282,-44.8217 279.429,-54.6909 286.424,-54.9399\"/>\n",
       "<text text-anchor=\"middle\" x=\"279.392\" y=\"-65.5836\" font-family=\"Times,serif\" font-size=\"14.00\">0</text>\n",
       "</g>\n",
       "<!-- BH&#45;&gt;BH -->\n",
       "<g id=\"edge7\" class=\"edge\"><title>BH&#45;&gt;BH</title>\n",
       "<path fill=\"none\" stroke=\"black\" d=\"M272.718,-43.9522C269.867,-61.9636 272.091,-80.7836 279.392,-80.7836 285.324,-80.7836 287.904,-68.3594 287.134,-54.0395\"/>\n",
       "<polygon fill=\"black\" stroke=\"black\" points=\"290.599,-53.5277 286.065,-43.9522 283.638,-54.2653 290.599,-53.5277\"/>\n",
       "<text text-anchor=\"middle\" x=\"279.392\" y=\"-83.5836\" font-family=\"Times,serif\" font-size=\"14.00\">1</text>\n",
       "</g>\n",
       "<!-- I&#45;&gt;I -->\n",
       "<g id=\"edge2\" class=\"edge\"><title>I&#45;&gt;I</title>\n",
       "<path fill=\"none\" stroke=\"black\" d=\"M102.621,-39.4291C101.319,-49.2497 103.445,-58.3918 109,-58.3918 112.472,-58.3918 114.604,-54.8207 115.398,-49.7447\"/>\n",
       "<polygon fill=\"black\" stroke=\"black\" points=\"118.897,-49.4229 115.379,-39.4291 111.897,-49.4353 118.897,-49.4229\"/>\n",
       "<text text-anchor=\"middle\" x=\"109\" y=\"-61.1918\" font-family=\"Times,serif\" font-size=\"14.00\">0</text>\n",
       "</g>\n",
       "<!-- F -->\n",
       "<g id=\"node4\" class=\"node\"><title>F</title>\n",
       "<ellipse fill=\"none\" stroke=\"black\" cx=\"192\" cy=\"-22.3918\" rx=\"18\" ry=\"18\"/>\n",
       "<ellipse fill=\"none\" stroke=\"black\" cx=\"192\" cy=\"-22.3918\" rx=\"22\" ry=\"22\"/>\n",
       "<text text-anchor=\"middle\" x=\"192\" y=\"-18.1918\" font-family=\"Times,serif\" font-size=\"14.00\">F</text>\n",
       "</g>\n",
       "<!-- I&#45;&gt;F -->\n",
       "<g id=\"edge3\" class=\"edge\"><title>I&#45;&gt;F</title>\n",
       "<path fill=\"none\" stroke=\"black\" d=\"M127.178,-22.3918C136.61,-22.3918 148.601,-22.3918 159.637,-22.3918\"/>\n",
       "<polygon fill=\"black\" stroke=\"black\" points=\"159.811,-25.8919 169.811,-22.3918 159.811,-18.8919 159.811,-25.8919\"/>\n",
       "<text text-anchor=\"middle\" x=\"148.5\" y=\"-25.1918\" font-family=\"Times,serif\" font-size=\"14.00\">1</text>\n",
       "</g>\n",
       "<!-- F&#45;&gt;BH -->\n",
       "<g id=\"edge5\" class=\"edge\"><title>F&#45;&gt;BH</title>\n",
       "<path fill=\"none\" stroke=\"black\" d=\"M214.108,-22.3918C223.989,-22.3918 235.963,-22.3918 246.886,-22.3918\"/>\n",
       "<polygon fill=\"black\" stroke=\"black\" points=\"246.933,-25.8919 256.933,-22.3918 246.933,-18.8919 246.933,-25.8919\"/>\n",
       "<text text-anchor=\"middle\" x=\"235.5\" y=\"-25.1918\" font-family=\"Times,serif\" font-size=\"14.00\">1</text>\n",
       "</g>\n",
       "<!-- F&#45;&gt;I -->\n",
       "<g id=\"edge4\" class=\"edge\"><title>F&#45;&gt;I</title>\n",
       "<path fill=\"none\" stroke=\"black\" d=\"M173.45,-10.0299C165.02,-5.52766 154.669,-2.05129 145,-4.39181 141.26,-5.29711 137.472,-6.67509 133.838,-8.27401\"/>\n",
       "<polygon fill=\"black\" stroke=\"black\" points=\"132.086,-5.23722 124.717,-12.8495 135.225,-11.4941 132.086,-5.23722\"/>\n",
       "<text text-anchor=\"middle\" x=\"148.5\" y=\"-7.19181\" font-family=\"Times,serif\" font-size=\"14.00\">0</text>\n",
       "</g>\n",
       "</g>\n",
       "</svg>\n"
      ],
      "text/plain": [
       "<graphviz.dot.Digraph at 0x10d0a8780>"
      ]
     },
     "execution_count": 134,
     "metadata": {},
     "output_type": "execute_result"
    }
   ],
   "source": [
    "dotObj_dfa_w_bh(tot_testdfa)"
   ]
  },
  {
   "cell_type": "code",
   "execution_count": 135,
   "metadata": {
    "run_control": {
     "frozen": false,
     "read_only": false
    }
   },
   "outputs": [
    {
     "data": {
      "image/svg+xml": [
       "<?xml version=\"1.0\" encoding=\"UTF-8\" standalone=\"no\"?>\n",
       "<!DOCTYPE svg PUBLIC \"-//W3C//DTD SVG 1.1//EN\"\n",
       " \"http://www.w3.org/Graphics/SVG/1.1/DTD/svg11.dtd\">\n",
       "<!-- Generated by graphviz version 2.38.0 (20140413.2041)\n",
       " -->\n",
       "<!-- Title: %3 Pages: 1 -->\n",
       "<svg width=\"310pt\" height=\"99pt\"\n",
       " viewBox=\"0.00 0.00 309.78 98.78\" xmlns=\"http://www.w3.org/2000/svg\" xmlns:xlink=\"http://www.w3.org/1999/xlink\">\n",
       "<g id=\"graph0\" class=\"graph\" transform=\"scale(1 1) rotate(0) translate(4 94.7836)\">\n",
       "<title>%3</title>\n",
       "<polygon fill=\"white\" stroke=\"none\" points=\"-4,4 -4,-94.7836 305.784,-94.7836 305.784,4 -4,4\"/>\n",
       "<!-- EMPTY -->\n",
       "<g id=\"node1\" class=\"node\"><title>EMPTY</title>\n",
       "</g>\n",
       "<!-- I -->\n",
       "<g id=\"node3\" class=\"node\"><title>I</title>\n",
       "<ellipse fill=\"none\" stroke=\"black\" cx=\"109\" cy=\"-22.3918\" rx=\"18\" ry=\"18\"/>\n",
       "<text text-anchor=\"middle\" x=\"109\" y=\"-18.1918\" font-family=\"Times,serif\" font-size=\"14.00\">I</text>\n",
       "</g>\n",
       "<!-- EMPTY&#45;&gt;I -->\n",
       "<g id=\"edge1\" class=\"edge\"><title>EMPTY&#45;&gt;I</title>\n",
       "<path fill=\"none\" stroke=\"black\" d=\"M54.195,-22.3918C62.6538,-22.3918 72.0513,-22.3918 80.5951,-22.3918\"/>\n",
       "<polygon fill=\"black\" stroke=\"black\" points=\"80.8257,-25.8919 90.8257,-22.3918 80.8257,-18.8919 80.8257,-25.8919\"/>\n",
       "</g>\n",
       "<!-- BH -->\n",
       "<g id=\"node2\" class=\"node\"><title>BH</title>\n",
       "<ellipse fill=\"none\" stroke=\"black\" cx=\"279.392\" cy=\"-22.3918\" rx=\"22.2841\" ry=\"22.2841\"/>\n",
       "<text text-anchor=\"middle\" x=\"279.392\" y=\"-18.1918\" font-family=\"Times,serif\" font-size=\"14.00\">BH</text>\n",
       "</g>\n",
       "<!-- BH&#45;&gt;BH -->\n",
       "<g id=\"edge6\" class=\"edge\"><title>BH&#45;&gt;BH</title>\n",
       "<path fill=\"none\" stroke=\"black\" d=\"M271.709,-43.5882C270.761,-53.7836 273.321,-62.7836 279.392,-62.7836 283.281,-62.7836 285.729,-59.09 286.737,-53.7547\"/>\n",
       "<polygon fill=\"black\" stroke=\"black\" points=\"290.241,-53.6987 287.075,-43.5882 283.245,-53.4666 290.241,-53.6987\"/>\n",
       "<text text-anchor=\"middle\" x=\"279.392\" y=\"-79.5836\" font-family=\"Times,serif\" font-size=\"14.00\">0 </text>\n",
       "<text text-anchor=\"middle\" x=\"279.392\" y=\"-65.5836\" font-family=\"Times,serif\" font-size=\"14.00\"> 1</text>\n",
       "</g>\n",
       "<!-- I&#45;&gt;I -->\n",
       "<g id=\"edge2\" class=\"edge\"><title>I&#45;&gt;I</title>\n",
       "<path fill=\"none\" stroke=\"black\" d=\"M102.621,-39.4291C101.319,-49.2497 103.445,-58.3918 109,-58.3918 112.472,-58.3918 114.604,-54.8207 115.398,-49.7447\"/>\n",
       "<polygon fill=\"black\" stroke=\"black\" points=\"118.897,-49.4229 115.379,-39.4291 111.897,-49.4353 118.897,-49.4229\"/>\n",
       "<text text-anchor=\"middle\" x=\"109\" y=\"-61.1918\" font-family=\"Times,serif\" font-size=\"14.00\">0</text>\n",
       "</g>\n",
       "<!-- F -->\n",
       "<g id=\"node4\" class=\"node\"><title>F</title>\n",
       "<ellipse fill=\"none\" stroke=\"black\" cx=\"192\" cy=\"-22.3918\" rx=\"18\" ry=\"18\"/>\n",
       "<ellipse fill=\"none\" stroke=\"black\" cx=\"192\" cy=\"-22.3918\" rx=\"22\" ry=\"22\"/>\n",
       "<text text-anchor=\"middle\" x=\"192\" y=\"-18.1918\" font-family=\"Times,serif\" font-size=\"14.00\">F</text>\n",
       "</g>\n",
       "<!-- I&#45;&gt;F -->\n",
       "<g id=\"edge3\" class=\"edge\"><title>I&#45;&gt;F</title>\n",
       "<path fill=\"none\" stroke=\"black\" d=\"M127.178,-22.3918C136.61,-22.3918 148.601,-22.3918 159.637,-22.3918\"/>\n",
       "<polygon fill=\"black\" stroke=\"black\" points=\"159.811,-25.8919 169.811,-22.3918 159.811,-18.8919 159.811,-25.8919\"/>\n",
       "<text text-anchor=\"middle\" x=\"148.5\" y=\"-25.1918\" font-family=\"Times,serif\" font-size=\"14.00\">1</text>\n",
       "</g>\n",
       "<!-- F&#45;&gt;BH -->\n",
       "<g id=\"edge5\" class=\"edge\"><title>F&#45;&gt;BH</title>\n",
       "<path fill=\"none\" stroke=\"black\" d=\"M214.108,-22.3918C223.989,-22.3918 235.963,-22.3918 246.886,-22.3918\"/>\n",
       "<polygon fill=\"black\" stroke=\"black\" points=\"246.933,-25.8919 256.933,-22.3918 246.933,-18.8919 246.933,-25.8919\"/>\n",
       "<text text-anchor=\"middle\" x=\"235.5\" y=\"-25.1918\" font-family=\"Times,serif\" font-size=\"14.00\">1</text>\n",
       "</g>\n",
       "<!-- F&#45;&gt;I -->\n",
       "<g id=\"edge4\" class=\"edge\"><title>F&#45;&gt;I</title>\n",
       "<path fill=\"none\" stroke=\"black\" d=\"M173.45,-10.0299C165.02,-5.52766 154.669,-2.05129 145,-4.39181 141.26,-5.29711 137.472,-6.67509 133.838,-8.27401\"/>\n",
       "<polygon fill=\"black\" stroke=\"black\" points=\"132.086,-5.23722 124.717,-12.8495 135.225,-11.4941 132.086,-5.23722\"/>\n",
       "<text text-anchor=\"middle\" x=\"148.5\" y=\"-7.19181\" font-family=\"Times,serif\" font-size=\"14.00\">0</text>\n",
       "</g>\n",
       "</g>\n",
       "</svg>\n"
      ],
      "text/plain": [
       "<graphviz.dot.Digraph at 0x10d0a8898>"
      ]
     },
     "execution_count": 135,
     "metadata": {},
     "output_type": "execute_result"
    }
   ],
   "source": [
    "dotObj_dfa_w_bh(tot_testdfa, FuseEdges = True)"
   ]
  }
 ],
 "metadata": {
  "kernelspec": {
   "display_name": "Python 3",
   "language": "python",
   "name": "python3"
  },
  "language_info": {
   "codemirror_mode": {
    "name": "ipython",
    "version": 3
   },
   "file_extension": ".py",
   "mimetype": "text/x-python",
   "name": "python",
   "nbconvert_exporter": "python",
   "pygments_lexer": "ipython3",
   "version": "3.6.0"
  },
  "toc": {
   "colors": {
    "hover_highlight": "#DAA520",
    "running_highlight": "#FF0000",
    "selected_highlight": "#FFD700"
   },
   "moveMenuLeft": true,
   "nav_menu": {
    "height": "318px",
    "width": "252px"
   },
   "navigate_menu": true,
   "number_sections": true,
   "sideBar": true,
   "threshold": 4,
   "toc_cell": false,
   "toc_section_display": "block",
   "toc_window_display": false,
   "widenNotebook": false
  }
 },
 "nbformat": 4,
 "nbformat_minor": 1
}
