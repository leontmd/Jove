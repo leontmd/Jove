{
 "cells": [
  {
   "cell_type": "code",
   "execution_count": 1,
   "metadata": {
    "run_control": {
     "frozen": false,
     "read_only": false
    }
   },
   "outputs": [
    {
     "name": "stdout",
     "output_type": "stream",
     "text": [
      "You may use any of these help commands:\n",
      "help(lphi)\n",
      "help(lunit)\n",
      "help(lcat)\n",
      "help(lexp)\n",
      "help(lunion)\n",
      "help(lstar)\n",
      "help(srev)\n",
      "help(lrev)\n",
      "help(shomo)\n",
      "help(lhomo)\n",
      "help(powset)\n",
      "help(lint)\n",
      "help(lsymdiff)\n",
      "help(lminus)\n",
      "help(lissubset)\n",
      "help(lissuperset)\n",
      "help(lcomplem)\n",
      "help(product)\n",
      "help(nthnumeric)\n",
      "\n"
     ]
    }
   ],
   "source": [
    "import sys\n",
    "sys.path[0:0] = ['../..','../../3rdparty'] # Put these at the head of the search path\n",
    "from jove.LangDef import *"
   ]
  },
  {
   "cell_type": "code",
   "execution_count": 2,
   "metadata": {
    "run_control": {
     "frozen": false,
     "read_only": false
    }
   },
   "outputs": [
    {
     "name": "stdout",
     "output_type": "stream",
     "text": [
      "Help on function nthnumeric in module jove.LangDef:\n",
      "\n",
      "nthnumeric(N, Sigma={'a', 'b'})\n",
      "    Assume Sigma is a 2-sized list/set of chars (default {'a','b'}). \n",
      "    Produce the Nth string in numeric order, where N >= 0.\n",
      "    Idea : Given N, get b = floor(log_2(N+1)) - need that \n",
      "    many places; what to fill in the places is the binary \n",
      "    code for N - (2^b - 1) with 0 as Sigma[0] and 1 as Sigma[1].\n",
      "\n"
     ]
    }
   ],
   "source": [
    "help(nthnumeric)"
   ]
  },
  {
   "cell_type": "code",
   "execution_count": 3,
   "metadata": {
    "run_control": {
     "frozen": false,
     "read_only": false
    }
   },
   "outputs": [
    {
     "data": {
      "text/plain": [
       "'aaaa'"
      ]
     },
     "execution_count": 3,
     "metadata": {},
     "output_type": "execute_result"
    }
   ],
   "source": [
    "nthnumeric(15)"
   ]
  },
  {
   "cell_type": "code",
   "execution_count": 4,
   "metadata": {
    "run_control": {
     "frozen": false,
     "read_only": false
    }
   },
   "outputs": [
    {
     "name": "stdout",
     "output_type": "stream",
     "text": [
      "Help on function lstar in module jove.LangDef:\n",
      "\n",
      "lstar(L, n)\n",
      "    In : L (language : a set),\n",
      "            n (bound for lstar : a nat). \n",
      "       Out: L*_n (language : a set)\n",
      "    Example:\n",
      "    L = {'ab','bc'}\n",
      "    n = 2\n",
      "    lstar(L,2) -> {'abab', 'bcbc', 'ab', 'abbc', '', 'bc', 'bcab'}\n",
      "\n"
     ]
    }
   ],
   "source": [
    "help(lstar)"
   ]
  },
  {
   "cell_type": "code",
   "execution_count": 5,
   "metadata": {
    "run_control": {
     "frozen": false,
     "read_only": false
    }
   },
   "outputs": [
    {
     "data": {
      "text/plain": [
       "{'',\n",
       " 'a',\n",
       " 'aa',\n",
       " 'aaa',\n",
       " 'aaaa',\n",
       " 'aaab',\n",
       " 'aab',\n",
       " 'aaba',\n",
       " 'aabb',\n",
       " 'ab',\n",
       " 'aba',\n",
       " 'abaa',\n",
       " 'abab',\n",
       " 'abb',\n",
       " 'abba',\n",
       " 'abbb',\n",
       " 'b',\n",
       " 'ba',\n",
       " 'baa',\n",
       " 'baaa',\n",
       " 'baab',\n",
       " 'bab',\n",
       " 'baba',\n",
       " 'babb',\n",
       " 'bb',\n",
       " 'bba',\n",
       " 'bbaa',\n",
       " 'bbab',\n",
       " 'bbb',\n",
       " 'bbba',\n",
       " 'bbbb'}"
      ]
     },
     "execution_count": 5,
     "metadata": {},
     "output_type": "execute_result"
    }
   ],
   "source": [
    "lstar({'a','b'},4)"
   ]
  },
  {
   "cell_type": "code",
   "execution_count": null,
   "metadata": {
    "run_control": {
     "frozen": false,
     "read_only": false
    }
   },
   "outputs": [],
   "source": []
  }
 ],
 "metadata": {
  "kernelspec": {
   "display_name": "Python 3",
   "language": "python",
   "name": "python3"
  },
  "language_info": {
   "codemirror_mode": {
    "name": "ipython",
    "version": 3
   },
   "file_extension": ".py",
   "mimetype": "text/x-python",
   "name": "python",
   "nbconvert_exporter": "python",
   "pygments_lexer": "ipython3",
   "version": "3.6.0"
  },
  "toc": {
   "colors": {
    "hover_highlight": "#DAA520",
    "running_highlight": "#FF0000",
    "selected_highlight": "#FFD700"
   },
   "moveMenuLeft": true,
   "nav_menu": {
    "height": "12px",
    "width": "252px"
   },
   "navigate_menu": true,
   "number_sections": true,
   "sideBar": true,
   "threshold": 4,
   "toc_cell": false,
   "toc_section_display": "block",
   "toc_window_display": false,
   "widenNotebook": false
  }
 },
 "nbformat": 4,
 "nbformat_minor": 2
}
