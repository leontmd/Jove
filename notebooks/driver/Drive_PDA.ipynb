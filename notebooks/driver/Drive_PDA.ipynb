{
 "cells": [
  {
   "cell_type": "markdown",
   "metadata": {
    "run_control": {
     "frozen": false,
     "read_only": false
    }
   },
   "source": [
    " # Tests on PDA"
   ]
  },
  {
   "cell_type": "code",
   "execution_count": 1,
   "metadata": {
    "run_control": {
     "frozen": false,
     "read_only": false
    }
   },
   "outputs": [
    {
     "name": "stdout",
     "output_type": "stream",
     "text": [
      "You may use any of these help commands:\n",
      "help(ResetStNum)\n",
      "help(NxtStateStr)\n",
      "\n",
      "You may use any of these help commands:\n",
      "help(md2mc)\n",
      ".. and if you want to dig more, then ..\n",
      "help(default_line_attr)\n",
      "help(length_ok_input_items)\n",
      "help(union_line_attr_list_fld)\n",
      "help(extend_rsltdict)\n",
      "help(form_delta)\n",
      "help(get_machine_components)\n",
      "\n",
      "You may use any of these help commands:\n",
      "help(explore_pda)\n",
      "help(run_pda)\n",
      "help(classify_l_id_path)\n",
      "help(h_run_pda)\n",
      "help(interpret_w_eps)\n",
      "help(step_pda)\n",
      "help(suvivor_id)\n",
      "help(term_id)\n",
      "help(final_id)\n",
      "help(cvt_str_to_sym)\n",
      "help(is_surv_id)\n",
      "help(subsumed)\n",
      "help(is_term_id)\n",
      "help(is_final_id)\n",
      "\n"
     ]
    }
   ],
   "source": [
    "import sys\n",
    "sys.path[0:0] = ['../..','../../3rdparty'] # Put these at the head of the search path\n",
    "from jove.SystemImports import *\n",
    "from jove.DotBashers    import *\n",
    "from jove.Def_md2mc     import *\n",
    "from jove.Def_PDA       import *"
   ]
  },
  {
   "cell_type": "code",
   "execution_count": 2,
   "metadata": {
    "run_control": {
     "frozen": false,
     "read_only": false
    }
   },
   "outputs": [],
   "source": [
    "# Example PDA that recognizes balanced parentheses\n",
    "\n",
    "P1bp  = { \"Q\"     : {\"s0\", \"s1\", \"s2\"},\n",
    "           \"Sigma\" : {'(',')'},\n",
    "           \"Gamma\" : {\"(\",\")\",'z'},\n",
    "           \"Delta\" : { ('s0','(','z') : { ('s1','(z') }, # push z; push (\n",
    "                       ('s1','(','z') : { ('s1','(z') }, # push z; push (\n",
    "                       ('s1','(','(') : { ('s1','((') }, # push (; push (\n",
    "                       ('s1','(',')') : { ('s1','()') }, # push ); push (\n",
    "                       ('s1',')','(') : { ('s1','')   }, # push nothing\n",
    "                       ('s1','','z')  : { ('s2','')   }  # push nothing\n",
    "                     },\n",
    "           \"q0\"    : \"s0\",\n",
    "           \"z0\"    : 'z',\n",
    "           \"F\"     : {\"s2\"}\n",
    "         }\n",
    "chk_consistent_pda(P1bp)"
   ]
  },
  {
   "cell_type": "code",
   "execution_count": 3,
   "metadata": {
    "run_control": {
     "frozen": false,
     "read_only": false
    }
   },
   "outputs": [],
   "source": [
    "# A variant of P1bp with some redundant transitions added (to take the PDA out of a \n",
    "P2bp    = { \"Q\"     : {\"s0\", \"s1\", \"s2\"},\n",
    "           \"Sigma\" : {'(',')'},\n",
    "           \"Gamma\" : {\"(\",\")\",\"z\"},\n",
    "           \"Delta\" : { ('s0','(','z') : { ('s1','(z') }, # push z; push (\n",
    "                       ('s1','(','z') : { ('s1','(z') }, # push z; push (\n",
    "                       ('s1','(','(') : { ('s1','((') }, # push (; push (\n",
    "                       ('s1','(',')') : { ('s1','()') }, # push ); push (\n",
    "                       ('s1',')','(') : { ('s1','')   }, # push nothing\n",
    "                       ('s1','','z')  : { ('s2','')   },  # push nothing\n",
    "                       ('s2','','')   : { ('s2','')   }\n",
    "                     },\n",
    "           \"q0\"    : \"s0\",\n",
    "           \"z0\"    : 'z',\n",
    "           \"F\"     : {\"s2\"}\n",
    "         }\n",
    "\n",
    "chk_consistent_pda(P2bp)"
   ]
  },
  {
   "cell_type": "code",
   "execution_count": 4,
   "metadata": {
    "run_control": {
     "frozen": false,
     "read_only": false
    }
   },
   "outputs": [],
   "source": [
    "# A variant of P2bp with some redundant transitions added (to take the PDA out of a \n",
    "P3bp    = { \"Q\"     : {\"s0\", \"s1\", \"s2\",\"s3\"},\n",
    "           \"Sigma\" : {'(',')'},\n",
    "           \"Gamma\" : {\"(\",\")\",\"z\"},\n",
    "           \"Delta\" : { ('s0','(','z') : { ('s1','(z') }, # push z; push (\n",
    "                       ('s1','(','z') : { ('s1','(z') }, # push z; push (\n",
    "                       ('s1','(','(') : { ('s1','((') }, # push (; push (\n",
    "                       ('s1','(',')') : { ('s1','()') }, # push ); push (\n",
    "                       ('s1',')','(') : { ('s1','')   }, # push nothing\n",
    "                       ('s1','','z')  : { ('s2','')   },  # push nothing\n",
    "                       ('s2','','')   : { ('s3','')   } # run away to s3\n",
    "                     },    # still it matters that a fleeting glimpse of\n",
    "           \"q0\"    : \"s0\", # 's2' has been had, with input consumed!\n",
    "           \"z0\"    : 'z',  # That is enough for acceptance. Tsk, tsk!\n",
    "           \"F\"     : {\"s2\"}\n",
    "         }\n",
    "\n",
    "chk_consistent_pda(P3bp) "
   ]
  },
  {
   "cell_type": "code",
   "execution_count": 5,
   "metadata": {
    "run_control": {
     "frozen": false,
     "read_only": false
    }
   },
   "outputs": [],
   "source": [
    "Pev = { \"Sigma\" : {'a','b'},\n",
    "        \"Q\"     : {\"S0\", \"S1\", \"S2\",\"S3\"},\n",
    "        \"Gamma\" : {'a','b','1','Z'},\n",
    "        \"Delta\" : {('S0','a','Z'): {('S1','1Z')},\n",
    "                   ('S1','a','1'): {('S1','11')},\n",
    "                   ('S1','b','1'): {('S2','')},\n",
    "                   ('S2','b','1'): {('S2','')},\n",
    "                   ('S2','','Z') : {('S3','')} },\n",
    "        \"q0\"    : \"S0\",\n",
    "        \"z0\"    : \"Z\",\n",
    "        \"F\"     : { \"S3\" } }\n",
    "\n",
    "chk_consistent_pda(Pev)"
   ]
  },
  {
   "cell_type": "code",
   "execution_count": 6,
   "metadata": {
    "run_control": {
     "frozen": false,
     "read_only": false
    }
   },
   "outputs": [
    {
     "data": {
      "image/svg+xml": [
       "<?xml version=\"1.0\" encoding=\"UTF-8\" standalone=\"no\"?>\n",
       "<!DOCTYPE svg PUBLIC \"-//W3C//DTD SVG 1.1//EN\"\n",
       " \"http://www.w3.org/Graphics/SVG/1.1/DTD/svg11.dtd\">\n",
       "<!-- Generated by graphviz version 2.38.0 (20140413.2041)\n",
       " -->\n",
       "<!-- Title: %3 Pages: 1 -->\n",
       "<svg width=\"492pt\" height=\"83pt\"\n",
       " viewBox=\"0.00 0.00 492.25 82.89\" xmlns=\"http://www.w3.org/2000/svg\" xmlns:xlink=\"http://www.w3.org/1999/xlink\">\n",
       "<g id=\"graph0\" class=\"graph\" transform=\"scale(1 1) rotate(0) translate(4 78.8937)\">\n",
       "<title>%3</title>\n",
       "<polygon fill=\"white\" stroke=\"none\" points=\"-4,4 -4,-78.8937 488.248,-78.8937 488.248,4 -4,4\"/>\n",
       "<!-- EMPTY -->\n",
       "<g id=\"node1\" class=\"node\"><title>EMPTY</title>\n",
       "</g>\n",
       "<!-- S0 -->\n",
       "<g id=\"node4\" class=\"node\"><title>S0</title>\n",
       "<ellipse fill=\"none\" stroke=\"black\" cx=\"110.447\" cy=\"-23.4469\" rx=\"19.3939\" ry=\"19.3939\"/>\n",
       "<text text-anchor=\"middle\" x=\"110.447\" y=\"-19.2469\" font-family=\"Times,serif\" font-size=\"14.00\">S0</text>\n",
       "</g>\n",
       "<!-- EMPTY&#45;&gt;S0 -->\n",
       "<g id=\"edge1\" class=\"edge\"><title>EMPTY&#45;&gt;S0</title>\n",
       "<path fill=\"none\" stroke=\"black\" d=\"M54.2186,-23.4469C62.6822,-23.4469 72.1072,-23.4469 80.7407,-23.4469\"/>\n",
       "<polygon fill=\"black\" stroke=\"black\" points=\"80.7613,-26.947 90.7613,-23.4469 80.7613,-19.947 80.7613,-26.947\"/>\n",
       "</g>\n",
       "<!-- S1 -->\n",
       "<g id=\"node2\" class=\"node\"><title>S1</title>\n",
       "<ellipse fill=\"none\" stroke=\"black\" cx=\"233.548\" cy=\"-23.4469\" rx=\"19.3939\" ry=\"19.3939\"/>\n",
       "<text text-anchor=\"middle\" x=\"233.548\" y=\"-19.2469\" font-family=\"Times,serif\" font-size=\"14.00\">S1</text>\n",
       "</g>\n",
       "<!-- S1&#45;&gt;S1 -->\n",
       "<g id=\"edge3\" class=\"edge\"><title>S1&#45;&gt;S1</title>\n",
       "<path fill=\"none\" stroke=\"black\" d=\"M224.055,-40.7807C221.946,-51.1419 225.11,-60.8937 233.548,-60.8937 239.085,-60.8937 242.351,-56.694 243.346,-50.8783\"/>\n",
       "<polygon fill=\"black\" stroke=\"black\" points=\"246.841,-50.6701 243.04,-40.7807 239.844,-50.8821 246.841,-50.6701\"/>\n",
       "<text text-anchor=\"middle\" x=\"233.548\" y=\"-63.6937\" font-family=\"Times,serif\" font-size=\"14.00\">a, 1 ; 11</text>\n",
       "</g>\n",
       "<!-- S2 -->\n",
       "<g id=\"node3\" class=\"node\"><title>S2</title>\n",
       "<ellipse fill=\"none\" stroke=\"black\" cx=\"345.376\" cy=\"-23.4469\" rx=\"19.3939\" ry=\"19.3939\"/>\n",
       "<text text-anchor=\"middle\" x=\"345.376\" y=\"-19.2469\" font-family=\"Times,serif\" font-size=\"14.00\">S2</text>\n",
       "</g>\n",
       "<!-- S1&#45;&gt;S2 -->\n",
       "<g id=\"edge4\" class=\"edge\"><title>S1&#45;&gt;S2</title>\n",
       "<path fill=\"none\" stroke=\"black\" d=\"M253.179,-23.4469C270.219,-23.4469 295.696,-23.4469 315.395,-23.4469\"/>\n",
       "<polygon fill=\"black\" stroke=\"black\" points=\"315.654,-26.947 325.654,-23.4469 315.654,-19.947 315.654,-26.947\"/>\n",
       "<text text-anchor=\"middle\" x=\"289.462\" y=\"-26.2469\" font-family=\"Times,serif\" font-size=\"14.00\">b, 1 ; &#39;&#39;</text>\n",
       "</g>\n",
       "<!-- S2&#45;&gt;S2 -->\n",
       "<g id=\"edge5\" class=\"edge\"><title>S2&#45;&gt;S2</title>\n",
       "<path fill=\"none\" stroke=\"black\" d=\"M335.884,-40.7807C333.774,-51.1419 336.938,-60.8937 345.376,-60.8937 350.913,-60.8937 354.179,-56.694 355.174,-50.8783\"/>\n",
       "<polygon fill=\"black\" stroke=\"black\" points=\"358.669,-50.6701 354.868,-40.7807 351.673,-50.8821 358.669,-50.6701\"/>\n",
       "<text text-anchor=\"middle\" x=\"345.376\" y=\"-63.6937\" font-family=\"Times,serif\" font-size=\"14.00\">b, 1 ; &#39;&#39;</text>\n",
       "</g>\n",
       "<!-- S3 -->\n",
       "<g id=\"node5\" class=\"node\"><title>S3</title>\n",
       "<ellipse fill=\"none\" stroke=\"black\" cx=\"460.801\" cy=\"-23.4469\" rx=\"19.4029\" ry=\"19.4029\"/>\n",
       "<ellipse fill=\"none\" stroke=\"black\" cx=\"460.801\" cy=\"-23.4469\" rx=\"23.3939\" ry=\"23.3939\"/>\n",
       "<text text-anchor=\"middle\" x=\"460.801\" y=\"-19.2469\" font-family=\"Times,serif\" font-size=\"14.00\">S3</text>\n",
       "</g>\n",
       "<!-- S2&#45;&gt;S3 -->\n",
       "<g id=\"edge6\" class=\"edge\"><title>S2&#45;&gt;S3</title>\n",
       "<path fill=\"none\" stroke=\"black\" d=\"M364.852,-23.4469C381.637,-23.4469 406.787,-23.4469 426.986,-23.4469\"/>\n",
       "<polygon fill=\"black\" stroke=\"black\" points=\"427.028,-26.947 437.028,-23.4469 427.028,-19.947 427.028,-26.947\"/>\n",
       "<text text-anchor=\"middle\" x=\"401.088\" y=\"-26.2469\" font-family=\"Times,serif\" font-size=\"14.00\">&#39;&#39;, Z ; &#39;&#39;</text>\n",
       "</g>\n",
       "<!-- S0&#45;&gt;S1 -->\n",
       "<g id=\"edge2\" class=\"edge\"><title>S0&#45;&gt;S1</title>\n",
       "<path fill=\"none\" stroke=\"black\" d=\"M130.103,-23.4469C149.806,-23.4469 181.118,-23.4469 203.942,-23.4469\"/>\n",
       "<polygon fill=\"black\" stroke=\"black\" points=\"204.069,-26.947 214.069,-23.4469 204.069,-19.947 204.069,-26.947\"/>\n",
       "<text text-anchor=\"middle\" x=\"171.997\" y=\"-26.2469\" font-family=\"Times,serif\" font-size=\"14.00\">a, Z ; 1Z</text>\n",
       "</g>\n",
       "</g>\n",
       "</svg>\n"
      ],
      "text/plain": [
       "<graphviz.dot.Digraph at 0x10e4de7f0>"
      ]
     },
     "execution_count": 6,
     "metadata": {},
     "output_type": "execute_result"
    }
   ],
   "source": [
    "dotObj_pda(Pev)"
   ]
  },
  {
   "cell_type": "code",
   "execution_count": 7,
   "metadata": {
    "run_control": {
     "frozen": false,
     "read_only": false
    }
   },
   "outputs": [
    {
     "data": {
      "text/plain": [
       "[(('s0', '(', 'z'), {('s1', '(z')}),\n",
       " (('s1', '(', 'z'), {('s1', '(z')}),\n",
       " (('s1', '(', '('), {('s1', '((')}),\n",
       " (('s1', '(', ')'), {('s1', '()')}),\n",
       " (('s1', ')', '('), {('s1', '')}),\n",
       " (('s1', '', 'z'), {('s2', '')}),\n",
       " (('s2', '', ''), {('s2', '')})]"
      ]
     },
     "execution_count": 7,
     "metadata": {},
     "output_type": "execute_result"
    }
   ],
   "source": [
    "list(P2bp[\"Delta\"].items())"
   ]
  },
  {
   "cell_type": "code",
   "execution_count": 8,
   "metadata": {
    "run_control": {
     "frozen": false,
     "read_only": false
    }
   },
   "outputs": [
    {
     "data": {
      "image/svg+xml": [
       "<?xml version=\"1.0\" encoding=\"UTF-8\" standalone=\"no\"?>\n",
       "<!DOCTYPE svg PUBLIC \"-//W3C//DTD SVG 1.1//EN\"\n",
       " \"http://www.w3.org/Graphics/SVG/1.1/DTD/svg11.dtd\">\n",
       "<!-- Generated by graphviz version 2.38.0 (20140413.2041)\n",
       " -->\n",
       "<!-- Title: %3 Pages: 1 -->\n",
       "<svg width=\"361pt\" height=\"176pt\"\n",
       " viewBox=\"0.00 0.00 360.83 176.00\" xmlns=\"http://www.w3.org/2000/svg\" xmlns:xlink=\"http://www.w3.org/1999/xlink\">\n",
       "<g id=\"graph0\" class=\"graph\" transform=\"scale(1 1) rotate(0) translate(4 172)\">\n",
       "<title>%3</title>\n",
       "<polygon fill=\"white\" stroke=\"none\" points=\"-4,4 -4,-172 356.835,-172 356.835,4 -4,4\"/>\n",
       "<!-- EMPTY -->\n",
       "<g id=\"node1\" class=\"node\"><title>EMPTY</title>\n",
       "</g>\n",
       "<!-- s0 -->\n",
       "<g id=\"node3\" class=\"node\"><title>s0</title>\n",
       "<ellipse fill=\"none\" stroke=\"black\" cx=\"109\" cy=\"-22\" rx=\"18\" ry=\"18\"/>\n",
       "<text text-anchor=\"middle\" x=\"109\" y=\"-17.8\" font-family=\"Times,serif\" font-size=\"14.00\">s0</text>\n",
       "</g>\n",
       "<!-- EMPTY&#45;&gt;s0 -->\n",
       "<g id=\"edge1\" class=\"edge\"><title>EMPTY&#45;&gt;s0</title>\n",
       "<path fill=\"none\" stroke=\"black\" d=\"M54.195,-22C62.6538,-22 72.0513,-22 80.5951,-22\"/>\n",
       "<polygon fill=\"black\" stroke=\"black\" points=\"80.8257,-25.5001 90.8257,-22 80.8257,-18.5001 80.8257,-25.5001\"/>\n",
       "</g>\n",
       "<!-- s1 -->\n",
       "<g id=\"node2\" class=\"node\"><title>s1</title>\n",
       "<ellipse fill=\"none\" stroke=\"black\" cx=\"220.642\" cy=\"-22\" rx=\"18\" ry=\"18\"/>\n",
       "<text text-anchor=\"middle\" x=\"220.642\" y=\"-17.8\" font-family=\"Times,serif\" font-size=\"14.00\">s1</text>\n",
       "</g>\n",
       "<!-- s1&#45;&gt;s1 -->\n",
       "<g id=\"edge3\" class=\"edge\"><title>s1&#45;&gt;s1</title>\n",
       "<path fill=\"none\" stroke=\"black\" d=\"M218.29,-40.1527C217.928,-49.5391 218.712,-58 220.642,-58 221.818,-58 222.568,-54.8581 222.893,-50.2796\"/>\n",
       "<polygon fill=\"black\" stroke=\"black\" points=\"226.394,-50.187 222.993,-40.1527 219.394,-50.1175 226.394,-50.187\"/>\n",
       "<text text-anchor=\"middle\" x=\"220.642\" y=\"-60.8\" font-family=\"Times,serif\" font-size=\"14.00\">(, z ; (z</text>\n",
       "</g>\n",
       "<!-- s1&#45;&gt;s1 -->\n",
       "<g id=\"edge4\" class=\"edge\"><title>s1&#45;&gt;s1</title>\n",
       "<path fill=\"none\" stroke=\"black\" d=\"M216.768,-39.6991C214.628,-56.9958 215.919,-76 220.642,-76 224.442,-76 226.02,-63.6944 225.377,-49.875\"/>\n",
       "<polygon fill=\"black\" stroke=\"black\" points=\"228.847,-49.3683 224.516,-39.6991 221.872,-49.9587 228.847,-49.3683\"/>\n",
       "<text text-anchor=\"middle\" x=\"220.642\" y=\"-78.8\" font-family=\"Times,serif\" font-size=\"14.00\">(, ( ; ((</text>\n",
       "</g>\n",
       "<!-- s1&#45;&gt;s1 -->\n",
       "<g id=\"edge5\" class=\"edge\"><title>s1&#45;&gt;s1</title>\n",
       "<path fill=\"none\" stroke=\"black\" d=\"M215.84,-39.3534C211.31,-63.8176 212.91,-94 220.642,-94 227.346,-94 229.44,-71.3024 226.924,-49.3194\"/>\n",
       "<polygon fill=\"black\" stroke=\"black\" points=\"230.375,-48.7305 225.444,-39.3534 223.451,-49.7592 230.375,-48.7305\"/>\n",
       "<text text-anchor=\"middle\" x=\"220.642\" y=\"-96.8\" font-family=\"Times,serif\" font-size=\"14.00\">(, ) ; ()</text>\n",
       "</g>\n",
       "<!-- s1&#45;&gt;s1 -->\n",
       "<g id=\"edge6\" class=\"edge\"><title>s1&#45;&gt;s1</title>\n",
       "<path fill=\"none\" stroke=\"black\" d=\"M215.191,-39.2299C208.008,-70.4634 209.825,-112 220.642,-112 230.317,-112 232.791,-78.763 228.064,-49.3954\"/>\n",
       "<polygon fill=\"black\" stroke=\"black\" points=\"231.433,-48.3801 226.092,-39.2299 224.561,-49.7135 231.433,-48.3801\"/>\n",
       "<text text-anchor=\"middle\" x=\"220.642\" y=\"-114.8\" font-family=\"Times,serif\" font-size=\"14.00\">), ( ; &#39;&#39;</text>\n",
       "</g>\n",
       "<!-- s2 -->\n",
       "<g id=\"node4\" class=\"node\"><title>s2</title>\n",
       "<ellipse fill=\"none\" stroke=\"black\" cx=\"330.835\" cy=\"-22\" rx=\"18\" ry=\"18\"/>\n",
       "<ellipse fill=\"none\" stroke=\"black\" cx=\"330.835\" cy=\"-22\" rx=\"22\" ry=\"22\"/>\n",
       "<text text-anchor=\"middle\" x=\"330.835\" y=\"-17.8\" font-family=\"Times,serif\" font-size=\"14.00\">s2</text>\n",
       "</g>\n",
       "<!-- s1&#45;&gt;s2 -->\n",
       "<g id=\"edge7\" class=\"edge\"><title>s1&#45;&gt;s2</title>\n",
       "<path fill=\"none\" stroke=\"black\" d=\"M239.025,-22C255.052,-22 279.22,-22 298.595,-22\"/>\n",
       "<polygon fill=\"black\" stroke=\"black\" points=\"298.784,-25.5001 308.784,-22 298.784,-18.5001 298.784,-25.5001\"/>\n",
       "<text text-anchor=\"middle\" x=\"273.738\" y=\"-24.8\" font-family=\"Times,serif\" font-size=\"14.00\">&#39;&#39;, z ; &#39;&#39;</text>\n",
       "</g>\n",
       "<!-- s0&#45;&gt;s1 -->\n",
       "<g id=\"edge2\" class=\"edge\"><title>s0&#45;&gt;s1</title>\n",
       "<path fill=\"none\" stroke=\"black\" d=\"M127.132,-22C144.591,-22 171.937,-22 192.377,-22\"/>\n",
       "<polygon fill=\"black\" stroke=\"black\" points=\"192.63,-25.5001 202.63,-22 192.63,-18.5001 192.63,-25.5001\"/>\n",
       "<text text-anchor=\"middle\" x=\"164.821\" y=\"-24.8\" font-family=\"Times,serif\" font-size=\"14.00\">(, z ; (z</text>\n",
       "</g>\n",
       "<!-- s2&#45;&gt;s2 -->\n",
       "<g id=\"edge8\" class=\"edge\"><title>s2&#45;&gt;s2</title>\n",
       "<path fill=\"none\" stroke=\"black\" d=\"M320.768,-41.7575C319.057,-52.3499 322.413,-62 330.835,-62 336.362,-62 339.707,-57.8441 340.87,-51.9932\"/>\n",
       "<polygon fill=\"black\" stroke=\"black\" points=\"344.371,-51.7683 340.902,-41.7575 337.371,-51.7465 344.371,-51.7683\"/>\n",
       "<text text-anchor=\"middle\" x=\"330.835\" y=\"-64.8\" font-family=\"Times,serif\" font-size=\"14.00\">&#39;&#39;, &#39;&#39; ; &#39;&#39;</text>\n",
       "</g>\n",
       "</g>\n",
       "</svg>\n"
      ],
      "text/plain": [
       "<graphviz.dot.Digraph at 0x10e4de7b8>"
      ]
     },
     "execution_count": 8,
     "metadata": {},
     "output_type": "execute_result"
    }
   ],
   "source": [
    "dotObj_pda(P2bp)"
   ]
  },
  {
   "cell_type": "code",
   "execution_count": 9,
   "metadata": {
    "run_control": {
     "frozen": false,
     "read_only": false
    }
   },
   "outputs": [
    {
     "data": {
      "image/svg+xml": [
       "<?xml version=\"1.0\" encoding=\"UTF-8\" standalone=\"no\"?>\n",
       "<!DOCTYPE svg PUBLIC \"-//W3C//DTD SVG 1.1//EN\"\n",
       " \"http://www.w3.org/Graphics/SVG/1.1/DTD/svg11.dtd\">\n",
       "<!-- Generated by graphviz version 2.38.0 (20140413.2041)\n",
       " -->\n",
       "<!-- Title: %3 Pages: 1 -->\n",
       "<svg width=\"381pt\" height=\"122pt\"\n",
       " viewBox=\"0.00 0.00 380.83 122.00\" xmlns=\"http://www.w3.org/2000/svg\" xmlns:xlink=\"http://www.w3.org/1999/xlink\">\n",
       "<g id=\"graph0\" class=\"graph\" transform=\"scale(1 1) rotate(0) translate(4 118)\">\n",
       "<title>%3</title>\n",
       "<polygon fill=\"white\" stroke=\"none\" points=\"-4,4 -4,-118 376.835,-118 376.835,4 -4,4\"/>\n",
       "<!-- EMPTY -->\n",
       "<g id=\"node1\" class=\"node\"><title>EMPTY</title>\n",
       "</g>\n",
       "<!-- s0 -->\n",
       "<g id=\"node3\" class=\"node\"><title>s0</title>\n",
       "<ellipse fill=\"none\" stroke=\"black\" cx=\"109\" cy=\"-22\" rx=\"18\" ry=\"18\"/>\n",
       "<text text-anchor=\"middle\" x=\"109\" y=\"-17.8\" font-family=\"Times,serif\" font-size=\"14.00\">s0</text>\n",
       "</g>\n",
       "<!-- EMPTY&#45;&gt;s0 -->\n",
       "<g id=\"edge1\" class=\"edge\"><title>EMPTY&#45;&gt;s0</title>\n",
       "<path fill=\"none\" stroke=\"black\" d=\"M54.195,-22C62.6538,-22 72.0513,-22 80.5951,-22\"/>\n",
       "<polygon fill=\"black\" stroke=\"black\" points=\"80.8257,-25.5001 90.8257,-22 80.8257,-18.5001 80.8257,-25.5001\"/>\n",
       "</g>\n",
       "<!-- s1 -->\n",
       "<g id=\"node2\" class=\"node\"><title>s1</title>\n",
       "<ellipse fill=\"none\" stroke=\"black\" cx=\"230.642\" cy=\"-22\" rx=\"18\" ry=\"18\"/>\n",
       "<text text-anchor=\"middle\" x=\"230.642\" y=\"-17.8\" font-family=\"Times,serif\" font-size=\"14.00\">s1</text>\n",
       "</g>\n",
       "<!-- s1&#45;&gt;s1 -->\n",
       "<g id=\"edge3\" class=\"edge\"><title>s1&#45;&gt;s1</title>\n",
       "<path fill=\"none\" stroke=\"black\" d=\"M220.268,-36.7917C216.891,-47.4165 220.349,-58 230.642,-58 237.557,-58 241.387,-53.2224 242.132,-46.8647\"/>\n",
       "<polygon fill=\"black\" stroke=\"black\" points=\"245.596,-46.345 241.015,-36.7917 238.638,-47.1165 245.596,-46.345\"/>\n",
       "<text text-anchor=\"middle\" x=\"230.642\" y=\"-102.8\" font-family=\"Times,serif\" font-size=\"14.00\">(, z ; (z </text>\n",
       "<text text-anchor=\"middle\" x=\"230.642\" y=\"-88.8\" font-family=\"Times,serif\" font-size=\"14.00\"> (, ) ; () </text>\n",
       "<text text-anchor=\"middle\" x=\"230.642\" y=\"-74.8\" font-family=\"Times,serif\" font-size=\"14.00\"> (, ( ; (( </text>\n",
       "<text text-anchor=\"middle\" x=\"230.642\" y=\"-60.8\" font-family=\"Times,serif\" font-size=\"14.00\"> ), ( ; &#39;&#39;</text>\n",
       "</g>\n",
       "<!-- s2 -->\n",
       "<g id=\"node4\" class=\"node\"><title>s2</title>\n",
       "<ellipse fill=\"none\" stroke=\"black\" cx=\"350.835\" cy=\"-22\" rx=\"18\" ry=\"18\"/>\n",
       "<ellipse fill=\"none\" stroke=\"black\" cx=\"350.835\" cy=\"-22\" rx=\"22\" ry=\"22\"/>\n",
       "<text text-anchor=\"middle\" x=\"350.835\" y=\"-17.8\" font-family=\"Times,serif\" font-size=\"14.00\">s2</text>\n",
       "</g>\n",
       "<!-- s1&#45;&gt;s2 -->\n",
       "<g id=\"edge4\" class=\"edge\"><title>s1&#45;&gt;s2</title>\n",
       "<path fill=\"none\" stroke=\"black\" d=\"M248.828,-22C267.067,-22 296.281,-22 318.609,-22\"/>\n",
       "<polygon fill=\"black\" stroke=\"black\" points=\"318.629,-25.5001 328.629,-22 318.629,-18.5001 318.629,-25.5001\"/>\n",
       "<text text-anchor=\"middle\" x=\"293.738\" y=\"-24.8\" font-family=\"Times,serif\" font-size=\"14.00\">&#39;&#39;, z ; &#39;&#39;</text>\n",
       "</g>\n",
       "<!-- s0&#45;&gt;s1 -->\n",
       "<g id=\"edge2\" class=\"edge\"><title>s0&#45;&gt;s1</title>\n",
       "<path fill=\"none\" stroke=\"black\" d=\"M127.142,-22C146.776,-22 179.21,-22 202.334,-22\"/>\n",
       "<polygon fill=\"black\" stroke=\"black\" points=\"202.532,-25.5001 212.532,-22 202.532,-18.5001 202.532,-25.5001\"/>\n",
       "<text text-anchor=\"middle\" x=\"164.821\" y=\"-24.8\" font-family=\"Times,serif\" font-size=\"14.00\">(, z ; (z</text>\n",
       "</g>\n",
       "<!-- s2&#45;&gt;s2 -->\n",
       "<g id=\"edge5\" class=\"edge\"><title>s2&#45;&gt;s2</title>\n",
       "<path fill=\"none\" stroke=\"black\" d=\"M340.768,-41.7575C339.057,-52.3499 342.413,-62 350.835,-62 356.362,-62 359.707,-57.8441 360.87,-51.9932\"/>\n",
       "<polygon fill=\"black\" stroke=\"black\" points=\"364.371,-51.7683 360.902,-41.7575 357.371,-51.7465 364.371,-51.7683\"/>\n",
       "<text text-anchor=\"middle\" x=\"350.835\" y=\"-64.8\" font-family=\"Times,serif\" font-size=\"14.00\">&#39;&#39;, &#39;&#39; ; &#39;&#39;</text>\n",
       "</g>\n",
       "</g>\n",
       "</svg>\n"
      ],
      "text/plain": [
       "<graphviz.dot.Digraph at 0x10e4decc0>"
      ]
     },
     "execution_count": 9,
     "metadata": {},
     "output_type": "execute_result"
    }
   ],
   "source": [
    "dotObj_pda(P2bp, FuseEdges=True)"
   ]
  },
  {
   "cell_type": "code",
   "execution_count": 10,
   "metadata": {
    "run_control": {
     "frozen": false,
     "read_only": false
    }
   },
   "outputs": [
    {
     "data": {
      "image/svg+xml": [
       "<?xml version=\"1.0\" encoding=\"UTF-8\" standalone=\"no\"?>\n",
       "<!DOCTYPE svg PUBLIC \"-//W3C//DTD SVG 1.1//EN\"\n",
       " \"http://www.w3.org/Graphics/SVG/1.1/DTD/svg11.dtd\">\n",
       "<!-- Generated by graphviz version 2.38.0 (20140413.2041)\n",
       " -->\n",
       "<!-- Title: %3 Pages: 1 -->\n",
       "<svg width=\"361pt\" height=\"176pt\"\n",
       " viewBox=\"0.00 0.00 360.83 176.00\" xmlns=\"http://www.w3.org/2000/svg\" xmlns:xlink=\"http://www.w3.org/1999/xlink\">\n",
       "<g id=\"graph0\" class=\"graph\" transform=\"scale(1 1) rotate(0) translate(4 172)\">\n",
       "<title>%3</title>\n",
       "<polygon fill=\"white\" stroke=\"none\" points=\"-4,4 -4,-172 356.835,-172 356.835,4 -4,4\"/>\n",
       "<!-- EMPTY -->\n",
       "<g id=\"node1\" class=\"node\"><title>EMPTY</title>\n",
       "</g>\n",
       "<!-- s0 -->\n",
       "<g id=\"node3\" class=\"node\"><title>s0</title>\n",
       "<ellipse fill=\"none\" stroke=\"black\" cx=\"109\" cy=\"-22\" rx=\"18\" ry=\"18\"/>\n",
       "<text text-anchor=\"middle\" x=\"109\" y=\"-17.8\" font-family=\"Times,serif\" font-size=\"14.00\">s0</text>\n",
       "</g>\n",
       "<!-- EMPTY&#45;&gt;s0 -->\n",
       "<g id=\"edge1\" class=\"edge\"><title>EMPTY&#45;&gt;s0</title>\n",
       "<path fill=\"none\" stroke=\"black\" d=\"M54.195,-22C62.6538,-22 72.0513,-22 80.5951,-22\"/>\n",
       "<polygon fill=\"black\" stroke=\"black\" points=\"80.8257,-25.5001 90.8257,-22 80.8257,-18.5001 80.8257,-25.5001\"/>\n",
       "</g>\n",
       "<!-- s1 -->\n",
       "<g id=\"node2\" class=\"node\"><title>s1</title>\n",
       "<ellipse fill=\"none\" stroke=\"black\" cx=\"220.642\" cy=\"-22\" rx=\"18\" ry=\"18\"/>\n",
       "<text text-anchor=\"middle\" x=\"220.642\" y=\"-17.8\" font-family=\"Times,serif\" font-size=\"14.00\">s1</text>\n",
       "</g>\n",
       "<!-- s1&#45;&gt;s1 -->\n",
       "<g id=\"edge3\" class=\"edge\"><title>s1&#45;&gt;s1</title>\n",
       "<path fill=\"none\" stroke=\"black\" d=\"M218.29,-40.1527C217.928,-49.5391 218.712,-58 220.642,-58 221.818,-58 222.568,-54.8581 222.893,-50.2796\"/>\n",
       "<polygon fill=\"black\" stroke=\"black\" points=\"226.394,-50.187 222.993,-40.1527 219.394,-50.1175 226.394,-50.187\"/>\n",
       "<text text-anchor=\"middle\" x=\"220.642\" y=\"-60.8\" font-family=\"Times,serif\" font-size=\"14.00\">(, z ; (z</text>\n",
       "</g>\n",
       "<!-- s1&#45;&gt;s1 -->\n",
       "<g id=\"edge4\" class=\"edge\"><title>s1&#45;&gt;s1</title>\n",
       "<path fill=\"none\" stroke=\"black\" d=\"M216.768,-39.6991C214.628,-56.9958 215.919,-76 220.642,-76 224.442,-76 226.02,-63.6944 225.377,-49.875\"/>\n",
       "<polygon fill=\"black\" stroke=\"black\" points=\"228.847,-49.3683 224.516,-39.6991 221.872,-49.9587 228.847,-49.3683\"/>\n",
       "<text text-anchor=\"middle\" x=\"220.642\" y=\"-78.8\" font-family=\"Times,serif\" font-size=\"14.00\">(, ( ; ((</text>\n",
       "</g>\n",
       "<!-- s1&#45;&gt;s1 -->\n",
       "<g id=\"edge5\" class=\"edge\"><title>s1&#45;&gt;s1</title>\n",
       "<path fill=\"none\" stroke=\"black\" d=\"M215.84,-39.3534C211.31,-63.8176 212.91,-94 220.642,-94 227.346,-94 229.44,-71.3024 226.924,-49.3194\"/>\n",
       "<polygon fill=\"black\" stroke=\"black\" points=\"230.375,-48.7305 225.444,-39.3534 223.451,-49.7592 230.375,-48.7305\"/>\n",
       "<text text-anchor=\"middle\" x=\"220.642\" y=\"-96.8\" font-family=\"Times,serif\" font-size=\"14.00\">(, ) ; ()</text>\n",
       "</g>\n",
       "<!-- s1&#45;&gt;s1 -->\n",
       "<g id=\"edge6\" class=\"edge\"><title>s1&#45;&gt;s1</title>\n",
       "<path fill=\"none\" stroke=\"black\" d=\"M215.191,-39.2299C208.008,-70.4634 209.825,-112 220.642,-112 230.317,-112 232.791,-78.763 228.064,-49.3954\"/>\n",
       "<polygon fill=\"black\" stroke=\"black\" points=\"231.433,-48.3801 226.092,-39.2299 224.561,-49.7135 231.433,-48.3801\"/>\n",
       "<text text-anchor=\"middle\" x=\"220.642\" y=\"-114.8\" font-family=\"Times,serif\" font-size=\"14.00\">), ( ; &#39;&#39;</text>\n",
       "</g>\n",
       "<!-- s2 -->\n",
       "<g id=\"node4\" class=\"node\"><title>s2</title>\n",
       "<ellipse fill=\"none\" stroke=\"black\" cx=\"330.835\" cy=\"-22\" rx=\"18\" ry=\"18\"/>\n",
       "<ellipse fill=\"none\" stroke=\"black\" cx=\"330.835\" cy=\"-22\" rx=\"22\" ry=\"22\"/>\n",
       "<text text-anchor=\"middle\" x=\"330.835\" y=\"-17.8\" font-family=\"Times,serif\" font-size=\"14.00\">s2</text>\n",
       "</g>\n",
       "<!-- s1&#45;&gt;s2 -->\n",
       "<g id=\"edge7\" class=\"edge\"><title>s1&#45;&gt;s2</title>\n",
       "<path fill=\"none\" stroke=\"black\" d=\"M239.025,-22C255.052,-22 279.22,-22 298.595,-22\"/>\n",
       "<polygon fill=\"black\" stroke=\"black\" points=\"298.784,-25.5001 308.784,-22 298.784,-18.5001 298.784,-25.5001\"/>\n",
       "<text text-anchor=\"middle\" x=\"273.738\" y=\"-24.8\" font-family=\"Times,serif\" font-size=\"14.00\">&#39;&#39;, z ; &#39;&#39;</text>\n",
       "</g>\n",
       "<!-- s0&#45;&gt;s1 -->\n",
       "<g id=\"edge2\" class=\"edge\"><title>s0&#45;&gt;s1</title>\n",
       "<path fill=\"none\" stroke=\"black\" d=\"M127.132,-22C144.591,-22 171.937,-22 192.377,-22\"/>\n",
       "<polygon fill=\"black\" stroke=\"black\" points=\"192.63,-25.5001 202.63,-22 192.63,-18.5001 192.63,-25.5001\"/>\n",
       "<text text-anchor=\"middle\" x=\"164.821\" y=\"-24.8\" font-family=\"Times,serif\" font-size=\"14.00\">(, z ; (z</text>\n",
       "</g>\n",
       "</g>\n",
       "</svg>\n"
      ],
      "text/plain": [
       "<graphviz.dot.Digraph at 0x10d2c05f8>"
      ]
     },
     "execution_count": 10,
     "metadata": {},
     "output_type": "execute_result"
    }
   ],
   "source": [
    "dotObj_pda(P1bp)"
   ]
  },
  {
   "cell_type": "code",
   "execution_count": 11,
   "metadata": {
    "run_control": {
     "frozen": false,
     "read_only": false
    }
   },
   "outputs": [
    {
     "data": {
      "image/svg+xml": [
       "<?xml version=\"1.0\" encoding=\"UTF-8\" standalone=\"no\"?>\n",
       "<!DOCTYPE svg PUBLIC \"-//W3C//DTD SVG 1.1//EN\"\n",
       " \"http://www.w3.org/Graphics/SVG/1.1/DTD/svg11.dtd\">\n",
       "<!-- Generated by graphviz version 2.38.0 (20140413.2041)\n",
       " -->\n",
       "<!-- Title: %3 Pages: 1 -->\n",
       "<svg width=\"466pt\" height=\"176pt\"\n",
       " viewBox=\"0.00 0.00 465.86 176.00\" xmlns=\"http://www.w3.org/2000/svg\" xmlns:xlink=\"http://www.w3.org/1999/xlink\">\n",
       "<g id=\"graph0\" class=\"graph\" transform=\"scale(1 1) rotate(0) translate(4 172)\">\n",
       "<title>%3</title>\n",
       "<polygon fill=\"white\" stroke=\"none\" points=\"-4,4 -4,-172 461.859,-172 461.859,4 -4,4\"/>\n",
       "<!-- EMPTY -->\n",
       "<g id=\"node1\" class=\"node\"><title>EMPTY</title>\n",
       "</g>\n",
       "<!-- s0 -->\n",
       "<g id=\"node4\" class=\"node\"><title>s0</title>\n",
       "<ellipse fill=\"none\" stroke=\"black\" cx=\"109\" cy=\"-22\" rx=\"18\" ry=\"18\"/>\n",
       "<text text-anchor=\"middle\" x=\"109\" y=\"-17.8\" font-family=\"Times,serif\" font-size=\"14.00\">s0</text>\n",
       "</g>\n",
       "<!-- EMPTY&#45;&gt;s0 -->\n",
       "<g id=\"edge1\" class=\"edge\"><title>EMPTY&#45;&gt;s0</title>\n",
       "<path fill=\"none\" stroke=\"black\" d=\"M54.195,-22C62.6538,-22 72.0513,-22 80.5951,-22\"/>\n",
       "<polygon fill=\"black\" stroke=\"black\" points=\"80.8257,-25.5001 90.8257,-22 80.8257,-18.5001 80.8257,-25.5001\"/>\n",
       "</g>\n",
       "<!-- s3 -->\n",
       "<g id=\"node2\" class=\"node\"><title>s3</title>\n",
       "<ellipse fill=\"none\" stroke=\"black\" cx=\"439.859\" cy=\"-22\" rx=\"18\" ry=\"18\"/>\n",
       "<text text-anchor=\"middle\" x=\"439.859\" y=\"-17.8\" font-family=\"Times,serif\" font-size=\"14.00\">s3</text>\n",
       "</g>\n",
       "<!-- s1 -->\n",
       "<g id=\"node3\" class=\"node\"><title>s1</title>\n",
       "<ellipse fill=\"none\" stroke=\"black\" cx=\"220.642\" cy=\"-22\" rx=\"18\" ry=\"18\"/>\n",
       "<text text-anchor=\"middle\" x=\"220.642\" y=\"-17.8\" font-family=\"Times,serif\" font-size=\"14.00\">s1</text>\n",
       "</g>\n",
       "<!-- s1&#45;&gt;s1 -->\n",
       "<g id=\"edge3\" class=\"edge\"><title>s1&#45;&gt;s1</title>\n",
       "<path fill=\"none\" stroke=\"black\" d=\"M218.29,-40.1527C217.928,-49.5391 218.712,-58 220.642,-58 221.818,-58 222.568,-54.8581 222.893,-50.2796\"/>\n",
       "<polygon fill=\"black\" stroke=\"black\" points=\"226.394,-50.187 222.993,-40.1527 219.394,-50.1175 226.394,-50.187\"/>\n",
       "<text text-anchor=\"middle\" x=\"220.642\" y=\"-60.8\" font-family=\"Times,serif\" font-size=\"14.00\">(, z ; (z</text>\n",
       "</g>\n",
       "<!-- s1&#45;&gt;s1 -->\n",
       "<g id=\"edge4\" class=\"edge\"><title>s1&#45;&gt;s1</title>\n",
       "<path fill=\"none\" stroke=\"black\" d=\"M216.768,-39.6991C214.628,-56.9958 215.919,-76 220.642,-76 224.442,-76 226.02,-63.6944 225.377,-49.875\"/>\n",
       "<polygon fill=\"black\" stroke=\"black\" points=\"228.847,-49.3683 224.516,-39.6991 221.872,-49.9587 228.847,-49.3683\"/>\n",
       "<text text-anchor=\"middle\" x=\"220.642\" y=\"-78.8\" font-family=\"Times,serif\" font-size=\"14.00\">(, ( ; ((</text>\n",
       "</g>\n",
       "<!-- s1&#45;&gt;s1 -->\n",
       "<g id=\"edge5\" class=\"edge\"><title>s1&#45;&gt;s1</title>\n",
       "<path fill=\"none\" stroke=\"black\" d=\"M215.84,-39.3534C211.31,-63.8176 212.91,-94 220.642,-94 227.346,-94 229.44,-71.3024 226.924,-49.3194\"/>\n",
       "<polygon fill=\"black\" stroke=\"black\" points=\"230.375,-48.7305 225.444,-39.3534 223.451,-49.7592 230.375,-48.7305\"/>\n",
       "<text text-anchor=\"middle\" x=\"220.642\" y=\"-96.8\" font-family=\"Times,serif\" font-size=\"14.00\">(, ) ; ()</text>\n",
       "</g>\n",
       "<!-- s1&#45;&gt;s1 -->\n",
       "<g id=\"edge6\" class=\"edge\"><title>s1&#45;&gt;s1</title>\n",
       "<path fill=\"none\" stroke=\"black\" d=\"M215.191,-39.2299C208.008,-70.4634 209.825,-112 220.642,-112 230.317,-112 232.791,-78.763 228.064,-49.3954\"/>\n",
       "<polygon fill=\"black\" stroke=\"black\" points=\"231.433,-48.3801 226.092,-39.2299 224.561,-49.7135 231.433,-48.3801\"/>\n",
       "<text text-anchor=\"middle\" x=\"220.642\" y=\"-114.8\" font-family=\"Times,serif\" font-size=\"14.00\">), ( ; &#39;&#39;</text>\n",
       "</g>\n",
       "<!-- s2 -->\n",
       "<g id=\"node5\" class=\"node\"><title>s2</title>\n",
       "<ellipse fill=\"none\" stroke=\"black\" cx=\"330.835\" cy=\"-22\" rx=\"18\" ry=\"18\"/>\n",
       "<ellipse fill=\"none\" stroke=\"black\" cx=\"330.835\" cy=\"-22\" rx=\"22\" ry=\"22\"/>\n",
       "<text text-anchor=\"middle\" x=\"330.835\" y=\"-17.8\" font-family=\"Times,serif\" font-size=\"14.00\">s2</text>\n",
       "</g>\n",
       "<!-- s1&#45;&gt;s2 -->\n",
       "<g id=\"edge7\" class=\"edge\"><title>s1&#45;&gt;s2</title>\n",
       "<path fill=\"none\" stroke=\"black\" d=\"M239.025,-22C255.052,-22 279.22,-22 298.595,-22\"/>\n",
       "<polygon fill=\"black\" stroke=\"black\" points=\"298.784,-25.5001 308.784,-22 298.784,-18.5001 298.784,-25.5001\"/>\n",
       "<text text-anchor=\"middle\" x=\"273.738\" y=\"-24.8\" font-family=\"Times,serif\" font-size=\"14.00\">&#39;&#39;, z ; &#39;&#39;</text>\n",
       "</g>\n",
       "<!-- s0&#45;&gt;s1 -->\n",
       "<g id=\"edge2\" class=\"edge\"><title>s0&#45;&gt;s1</title>\n",
       "<path fill=\"none\" stroke=\"black\" d=\"M127.132,-22C144.591,-22 171.937,-22 192.377,-22\"/>\n",
       "<polygon fill=\"black\" stroke=\"black\" points=\"192.63,-25.5001 202.63,-22 192.63,-18.5001 192.63,-25.5001\"/>\n",
       "<text text-anchor=\"middle\" x=\"164.821\" y=\"-24.8\" font-family=\"Times,serif\" font-size=\"14.00\">(, z ; (z</text>\n",
       "</g>\n",
       "<!-- s2&#45;&gt;s3 -->\n",
       "<g id=\"edge8\" class=\"edge\"><title>s2&#45;&gt;s3</title>\n",
       "<path fill=\"none\" stroke=\"black\" d=\"M352.98,-22C369.784,-22 393.411,-22 411.63,-22\"/>\n",
       "<polygon fill=\"black\" stroke=\"black\" points=\"411.64,-25.5001 421.64,-22 411.64,-18.5001 411.64,-25.5001\"/>\n",
       "<text text-anchor=\"middle\" x=\"387.347\" y=\"-24.8\" font-family=\"Times,serif\" font-size=\"14.00\">&#39;&#39;, &#39;&#39; ; &#39;&#39;</text>\n",
       "</g>\n",
       "</g>\n",
       "</svg>\n"
      ],
      "text/plain": [
       "<graphviz.dot.Digraph at 0x10d2c0588>"
      ]
     },
     "execution_count": 11,
     "metadata": {},
     "output_type": "execute_result"
    }
   ],
   "source": [
    "dotObj_pda(P3bp)"
   ]
  },
  {
   "cell_type": "code",
   "execution_count": 12,
   "metadata": {
    "run_control": {
     "frozen": false,
     "read_only": false
    }
   },
   "outputs": [
    {
     "data": {
      "image/svg+xml": [
       "<?xml version=\"1.0\" encoding=\"UTF-8\" standalone=\"no\"?>\n",
       "<!DOCTYPE svg PUBLIC \"-//W3C//DTD SVG 1.1//EN\"\n",
       " \"http://www.w3.org/Graphics/SVG/1.1/DTD/svg11.dtd\">\n",
       "<!-- Generated by graphviz version 2.38.0 (20140413.2041)\n",
       " -->\n",
       "<!-- Title: %3 Pages: 1 -->\n",
       "<svg width=\"486pt\" height=\"122pt\"\n",
       " viewBox=\"0.00 0.00 485.86 122.00\" xmlns=\"http://www.w3.org/2000/svg\" xmlns:xlink=\"http://www.w3.org/1999/xlink\">\n",
       "<g id=\"graph0\" class=\"graph\" transform=\"scale(1 1) rotate(0) translate(4 118)\">\n",
       "<title>%3</title>\n",
       "<polygon fill=\"white\" stroke=\"none\" points=\"-4,4 -4,-118 481.859,-118 481.859,4 -4,4\"/>\n",
       "<!-- EMPTY -->\n",
       "<g id=\"node1\" class=\"node\"><title>EMPTY</title>\n",
       "</g>\n",
       "<!-- s0 -->\n",
       "<g id=\"node4\" class=\"node\"><title>s0</title>\n",
       "<ellipse fill=\"none\" stroke=\"black\" cx=\"109\" cy=\"-22\" rx=\"18\" ry=\"18\"/>\n",
       "<text text-anchor=\"middle\" x=\"109\" y=\"-17.8\" font-family=\"Times,serif\" font-size=\"14.00\">s0</text>\n",
       "</g>\n",
       "<!-- EMPTY&#45;&gt;s0 -->\n",
       "<g id=\"edge1\" class=\"edge\"><title>EMPTY&#45;&gt;s0</title>\n",
       "<path fill=\"none\" stroke=\"black\" d=\"M54.195,-22C62.6538,-22 72.0513,-22 80.5951,-22\"/>\n",
       "<polygon fill=\"black\" stroke=\"black\" points=\"80.8257,-25.5001 90.8257,-22 80.8257,-18.5001 80.8257,-25.5001\"/>\n",
       "</g>\n",
       "<!-- s3 -->\n",
       "<g id=\"node2\" class=\"node\"><title>s3</title>\n",
       "<ellipse fill=\"none\" stroke=\"black\" cx=\"459.859\" cy=\"-22\" rx=\"18\" ry=\"18\"/>\n",
       "<text text-anchor=\"middle\" x=\"459.859\" y=\"-17.8\" font-family=\"Times,serif\" font-size=\"14.00\">s3</text>\n",
       "</g>\n",
       "<!-- s1 -->\n",
       "<g id=\"node3\" class=\"node\"><title>s1</title>\n",
       "<ellipse fill=\"none\" stroke=\"black\" cx=\"230.642\" cy=\"-22\" rx=\"18\" ry=\"18\"/>\n",
       "<text text-anchor=\"middle\" x=\"230.642\" y=\"-17.8\" font-family=\"Times,serif\" font-size=\"14.00\">s1</text>\n",
       "</g>\n",
       "<!-- s1&#45;&gt;s1 -->\n",
       "<g id=\"edge3\" class=\"edge\"><title>s1&#45;&gt;s1</title>\n",
       "<path fill=\"none\" stroke=\"black\" d=\"M220.268,-36.7917C216.891,-47.4165 220.349,-58 230.642,-58 237.557,-58 241.387,-53.2224 242.132,-46.8647\"/>\n",
       "<polygon fill=\"black\" stroke=\"black\" points=\"245.596,-46.345 241.015,-36.7917 238.638,-47.1165 245.596,-46.345\"/>\n",
       "<text text-anchor=\"middle\" x=\"230.642\" y=\"-102.8\" font-family=\"Times,serif\" font-size=\"14.00\">(, z ; (z </text>\n",
       "<text text-anchor=\"middle\" x=\"230.642\" y=\"-88.8\" font-family=\"Times,serif\" font-size=\"14.00\"> (, ) ; () </text>\n",
       "<text text-anchor=\"middle\" x=\"230.642\" y=\"-74.8\" font-family=\"Times,serif\" font-size=\"14.00\"> (, ( ; (( </text>\n",
       "<text text-anchor=\"middle\" x=\"230.642\" y=\"-60.8\" font-family=\"Times,serif\" font-size=\"14.00\"> ), ( ; &#39;&#39;</text>\n",
       "</g>\n",
       "<!-- s2 -->\n",
       "<g id=\"node5\" class=\"node\"><title>s2</title>\n",
       "<ellipse fill=\"none\" stroke=\"black\" cx=\"350.835\" cy=\"-22\" rx=\"18\" ry=\"18\"/>\n",
       "<ellipse fill=\"none\" stroke=\"black\" cx=\"350.835\" cy=\"-22\" rx=\"22\" ry=\"22\"/>\n",
       "<text text-anchor=\"middle\" x=\"350.835\" y=\"-17.8\" font-family=\"Times,serif\" font-size=\"14.00\">s2</text>\n",
       "</g>\n",
       "<!-- s1&#45;&gt;s2 -->\n",
       "<g id=\"edge4\" class=\"edge\"><title>s1&#45;&gt;s2</title>\n",
       "<path fill=\"none\" stroke=\"black\" d=\"M248.828,-22C267.067,-22 296.281,-22 318.609,-22\"/>\n",
       "<polygon fill=\"black\" stroke=\"black\" points=\"318.629,-25.5001 328.629,-22 318.629,-18.5001 318.629,-25.5001\"/>\n",
       "<text text-anchor=\"middle\" x=\"293.738\" y=\"-24.8\" font-family=\"Times,serif\" font-size=\"14.00\">&#39;&#39;, z ; &#39;&#39;</text>\n",
       "</g>\n",
       "<!-- s0&#45;&gt;s1 -->\n",
       "<g id=\"edge2\" class=\"edge\"><title>s0&#45;&gt;s1</title>\n",
       "<path fill=\"none\" stroke=\"black\" d=\"M127.142,-22C146.776,-22 179.21,-22 202.334,-22\"/>\n",
       "<polygon fill=\"black\" stroke=\"black\" points=\"202.532,-25.5001 212.532,-22 202.532,-18.5001 202.532,-25.5001\"/>\n",
       "<text text-anchor=\"middle\" x=\"164.821\" y=\"-24.8\" font-family=\"Times,serif\" font-size=\"14.00\">(, z ; (z</text>\n",
       "</g>\n",
       "<!-- s2&#45;&gt;s3 -->\n",
       "<g id=\"edge5\" class=\"edge\"><title>s2&#45;&gt;s3</title>\n",
       "<path fill=\"none\" stroke=\"black\" d=\"M372.98,-22C389.784,-22 413.411,-22 431.63,-22\"/>\n",
       "<polygon fill=\"black\" stroke=\"black\" points=\"431.64,-25.5001 441.64,-22 431.64,-18.5001 431.64,-25.5001\"/>\n",
       "<text text-anchor=\"middle\" x=\"407.347\" y=\"-24.8\" font-family=\"Times,serif\" font-size=\"14.00\">&#39;&#39;, &#39;&#39; ; &#39;&#39;</text>\n",
       "</g>\n",
       "</g>\n",
       "</svg>\n"
      ],
      "text/plain": [
       "<graphviz.dot.Digraph at 0x10e719128>"
      ]
     },
     "execution_count": 12,
     "metadata": {},
     "output_type": "execute_result"
    }
   ],
   "source": [
    "dotObj_pda(P3bp, True)"
   ]
  },
  {
   "cell_type": "markdown",
   "metadata": {
    "run_control": {
     "frozen": false,
     "read_only": false
    }
   },
   "source": [
    "# Routines to run PDA \n",
    "\n",
    "We now devise a routine to run a PDA according to either the \"accept by final state\" criterion or \"accept by empty stack\" criterion. We call these \"ACCEPT_F\" and \"ACCEPT_S\" with the default being ACCEPT_F.  The main difference is that the \"final\" configurations are collected differently."
   ]
  },
  {
   "cell_type": "code",
   "execution_count": 13,
   "metadata": {
    "run_control": {
     "frozen": false,
     "read_only": false
    }
   },
   "outputs": [],
   "source": [
    "test = {\"Sigma\" : {'0','1'},\n",
    "        \"Q\"     : {'q1','q2','q3','q4','q33','q44','q22'},\n",
    "        \"Gamma\" : {'0','1','$'},\n",
    "        \"Delta\" : {('q1','',''): {('q2','$')},\n",
    "                   \n",
    "                   ('q2','0',''): {('q2','0')},  \n",
    "                   ('q2','','0'): {('q22','0')}, \n",
    "                   \n",
    "                   ('q2','1',''): {('q2','1')},\n",
    "                   ('q2','','1'): {('q33','1')},\n",
    "                   ('q2','1','1'): {('q44','1')},\n",
    "                   ('q2','',''): {('q3','')}, \n",
    "                   \n",
    "                   ('q3','0','0'): {('q3','')},\n",
    "                   ('q3','1','1'): {('q3','')},\n",
    "                   ('q3','','$') : {('q4','')}\n",
    "                  },\n",
    "        \"z0\"    : \"$\",\n",
    "        \"q0\"    : \"q1\",\n",
    "        \"F\"     : {'q1','q4'} }\n",
    "chk_consistent_pda(test)"
   ]
  },
  {
   "cell_type": "code",
   "execution_count": 14,
   "metadata": {
    "run_control": {
     "frozen": false,
     "read_only": false
    }
   },
   "outputs": [
    {
     "data": {
      "image/svg+xml": [
       "<?xml version=\"1.0\" encoding=\"UTF-8\" standalone=\"no\"?>\n",
       "<!DOCTYPE svg PUBLIC \"-//W3C//DTD SVG 1.1//EN\"\n",
       " \"http://www.w3.org/Graphics/SVG/1.1/DTD/svg11.dtd\">\n",
       "<!-- Generated by graphviz version 2.38.0 (20140413.2041)\n",
       " -->\n",
       "<!-- Title: %3 Pages: 1 -->\n",
       "<svg width=\"361pt\" height=\"176pt\"\n",
       " viewBox=\"0.00 0.00 360.83 176.00\" xmlns=\"http://www.w3.org/2000/svg\" xmlns:xlink=\"http://www.w3.org/1999/xlink\">\n",
       "<g id=\"graph0\" class=\"graph\" transform=\"scale(1 1) rotate(0) translate(4 172)\">\n",
       "<title>%3</title>\n",
       "<polygon fill=\"white\" stroke=\"none\" points=\"-4,4 -4,-172 356.835,-172 356.835,4 -4,4\"/>\n",
       "<!-- EMPTY -->\n",
       "<g id=\"node1\" class=\"node\"><title>EMPTY</title>\n",
       "</g>\n",
       "<!-- s0 -->\n",
       "<g id=\"node3\" class=\"node\"><title>s0</title>\n",
       "<ellipse fill=\"none\" stroke=\"black\" cx=\"109\" cy=\"-22\" rx=\"18\" ry=\"18\"/>\n",
       "<text text-anchor=\"middle\" x=\"109\" y=\"-17.8\" font-family=\"Times,serif\" font-size=\"14.00\">s0</text>\n",
       "</g>\n",
       "<!-- EMPTY&#45;&gt;s0 -->\n",
       "<g id=\"edge1\" class=\"edge\"><title>EMPTY&#45;&gt;s0</title>\n",
       "<path fill=\"none\" stroke=\"black\" d=\"M54.195,-22C62.6538,-22 72.0513,-22 80.5951,-22\"/>\n",
       "<polygon fill=\"black\" stroke=\"black\" points=\"80.8257,-25.5001 90.8257,-22 80.8257,-18.5001 80.8257,-25.5001\"/>\n",
       "</g>\n",
       "<!-- s1 -->\n",
       "<g id=\"node2\" class=\"node\"><title>s1</title>\n",
       "<ellipse fill=\"none\" stroke=\"black\" cx=\"220.642\" cy=\"-22\" rx=\"18\" ry=\"18\"/>\n",
       "<text text-anchor=\"middle\" x=\"220.642\" y=\"-17.8\" font-family=\"Times,serif\" font-size=\"14.00\">s1</text>\n",
       "</g>\n",
       "<!-- s1&#45;&gt;s1 -->\n",
       "<g id=\"edge3\" class=\"edge\"><title>s1&#45;&gt;s1</title>\n",
       "<path fill=\"none\" stroke=\"black\" d=\"M218.29,-40.1527C217.928,-49.5391 218.712,-58 220.642,-58 221.818,-58 222.568,-54.8581 222.893,-50.2796\"/>\n",
       "<polygon fill=\"black\" stroke=\"black\" points=\"226.394,-50.187 222.993,-40.1527 219.394,-50.1175 226.394,-50.187\"/>\n",
       "<text text-anchor=\"middle\" x=\"220.642\" y=\"-60.8\" font-family=\"Times,serif\" font-size=\"14.00\">(, z ; (z</text>\n",
       "</g>\n",
       "<!-- s1&#45;&gt;s1 -->\n",
       "<g id=\"edge4\" class=\"edge\"><title>s1&#45;&gt;s1</title>\n",
       "<path fill=\"none\" stroke=\"black\" d=\"M216.768,-39.6991C214.628,-56.9958 215.919,-76 220.642,-76 224.442,-76 226.02,-63.6944 225.377,-49.875\"/>\n",
       "<polygon fill=\"black\" stroke=\"black\" points=\"228.847,-49.3683 224.516,-39.6991 221.872,-49.9587 228.847,-49.3683\"/>\n",
       "<text text-anchor=\"middle\" x=\"220.642\" y=\"-78.8\" font-family=\"Times,serif\" font-size=\"14.00\">(, ( ; ((</text>\n",
       "</g>\n",
       "<!-- s1&#45;&gt;s1 -->\n",
       "<g id=\"edge5\" class=\"edge\"><title>s1&#45;&gt;s1</title>\n",
       "<path fill=\"none\" stroke=\"black\" d=\"M215.84,-39.3534C211.31,-63.8176 212.91,-94 220.642,-94 227.346,-94 229.44,-71.3024 226.924,-49.3194\"/>\n",
       "<polygon fill=\"black\" stroke=\"black\" points=\"230.375,-48.7305 225.444,-39.3534 223.451,-49.7592 230.375,-48.7305\"/>\n",
       "<text text-anchor=\"middle\" x=\"220.642\" y=\"-96.8\" font-family=\"Times,serif\" font-size=\"14.00\">(, ) ; ()</text>\n",
       "</g>\n",
       "<!-- s1&#45;&gt;s1 -->\n",
       "<g id=\"edge6\" class=\"edge\"><title>s1&#45;&gt;s1</title>\n",
       "<path fill=\"none\" stroke=\"black\" d=\"M215.191,-39.2299C208.008,-70.4634 209.825,-112 220.642,-112 230.317,-112 232.791,-78.763 228.064,-49.3954\"/>\n",
       "<polygon fill=\"black\" stroke=\"black\" points=\"231.433,-48.3801 226.092,-39.2299 224.561,-49.7135 231.433,-48.3801\"/>\n",
       "<text text-anchor=\"middle\" x=\"220.642\" y=\"-114.8\" font-family=\"Times,serif\" font-size=\"14.00\">), ( ; &#39;&#39;</text>\n",
       "</g>\n",
       "<!-- s2 -->\n",
       "<g id=\"node4\" class=\"node\"><title>s2</title>\n",
       "<ellipse fill=\"none\" stroke=\"black\" cx=\"330.835\" cy=\"-22\" rx=\"18\" ry=\"18\"/>\n",
       "<ellipse fill=\"none\" stroke=\"black\" cx=\"330.835\" cy=\"-22\" rx=\"22\" ry=\"22\"/>\n",
       "<text text-anchor=\"middle\" x=\"330.835\" y=\"-17.8\" font-family=\"Times,serif\" font-size=\"14.00\">s2</text>\n",
       "</g>\n",
       "<!-- s1&#45;&gt;s2 -->\n",
       "<g id=\"edge7\" class=\"edge\"><title>s1&#45;&gt;s2</title>\n",
       "<path fill=\"none\" stroke=\"black\" d=\"M239.025,-22C255.052,-22 279.22,-22 298.595,-22\"/>\n",
       "<polygon fill=\"black\" stroke=\"black\" points=\"298.784,-25.5001 308.784,-22 298.784,-18.5001 298.784,-25.5001\"/>\n",
       "<text text-anchor=\"middle\" x=\"273.738\" y=\"-24.8\" font-family=\"Times,serif\" font-size=\"14.00\">&#39;&#39;, z ; &#39;&#39;</text>\n",
       "</g>\n",
       "<!-- s0&#45;&gt;s1 -->\n",
       "<g id=\"edge2\" class=\"edge\"><title>s0&#45;&gt;s1</title>\n",
       "<path fill=\"none\" stroke=\"black\" d=\"M127.132,-22C144.591,-22 171.937,-22 192.377,-22\"/>\n",
       "<polygon fill=\"black\" stroke=\"black\" points=\"192.63,-25.5001 202.63,-22 192.63,-18.5001 192.63,-25.5001\"/>\n",
       "<text text-anchor=\"middle\" x=\"164.821\" y=\"-24.8\" font-family=\"Times,serif\" font-size=\"14.00\">(, z ; (z</text>\n",
       "</g>\n",
       "<!-- s2&#45;&gt;s2 -->\n",
       "<g id=\"edge8\" class=\"edge\"><title>s2&#45;&gt;s2</title>\n",
       "<path fill=\"none\" stroke=\"black\" d=\"M320.768,-41.7575C319.057,-52.3499 322.413,-62 330.835,-62 336.362,-62 339.707,-57.8441 340.87,-51.9932\"/>\n",
       "<polygon fill=\"black\" stroke=\"black\" points=\"344.371,-51.7683 340.902,-41.7575 337.371,-51.7465 344.371,-51.7683\"/>\n",
       "<text text-anchor=\"middle\" x=\"330.835\" y=\"-64.8\" font-family=\"Times,serif\" font-size=\"14.00\">&#39;&#39;, &#39;&#39; ; &#39;&#39;</text>\n",
       "</g>\n",
       "</g>\n",
       "</svg>\n"
      ],
      "text/plain": [
       "<graphviz.dot.Digraph at 0x10e719ba8>"
      ]
     },
     "execution_count": 14,
     "metadata": {},
     "output_type": "execute_result"
    }
   ],
   "source": [
    "dotObj_pda(P2bp)"
   ]
  },
  {
   "cell_type": "code",
   "execution_count": 15,
   "metadata": {
    "run_control": {
     "frozen": false,
     "read_only": false
    }
   },
   "outputs": [
    {
     "name": "stdout",
     "output_type": "stream",
     "text": [
      "String () accepted by your PDA in 2 ways :-) \n",
      "Here are the ways: \n",
      "Final state  ('s2', '', '')\n",
      "Reached as follows:\n",
      "->  ('s0', '()', 'z')\n",
      "->  ('s1', ')', '(z')\n",
      "->  ('s1', '', 'z')\n",
      "->  ('s2', '', '') .\n",
      "Final state  ('s2', '', '')\n",
      "Reached as follows:\n",
      "->  ('s0', '()', 'z')\n",
      "->  ('s1', ')', '(z')\n",
      "->  ('s1', '', 'z')\n",
      "->  ('s2', '', '')\n",
      "->  ('s2', '', '') .\n"
     ]
    }
   ],
   "source": [
    "explore_pda(\"()\", P2bp)"
   ]
  },
  {
   "cell_type": "code",
   "execution_count": 16,
   "metadata": {
    "run_control": {
     "frozen": false,
     "read_only": false
    }
   },
   "outputs": [
    {
     "data": {
      "image/svg+xml": [
       "<?xml version=\"1.0\" encoding=\"UTF-8\" standalone=\"no\"?>\n",
       "<!DOCTYPE svg PUBLIC \"-//W3C//DTD SVG 1.1//EN\"\n",
       " \"http://www.w3.org/Graphics/SVG/1.1/DTD/svg11.dtd\">\n",
       "<!-- Generated by graphviz version 2.38.0 (20140413.2041)\n",
       " -->\n",
       "<!-- Title: %3 Pages: 1 -->\n",
       "<svg width=\"492pt\" height=\"83pt\"\n",
       " viewBox=\"0.00 0.00 492.25 82.89\" xmlns=\"http://www.w3.org/2000/svg\" xmlns:xlink=\"http://www.w3.org/1999/xlink\">\n",
       "<g id=\"graph0\" class=\"graph\" transform=\"scale(1 1) rotate(0) translate(4 78.8937)\">\n",
       "<title>%3</title>\n",
       "<polygon fill=\"white\" stroke=\"none\" points=\"-4,4 -4,-78.8937 488.248,-78.8937 488.248,4 -4,4\"/>\n",
       "<!-- EMPTY -->\n",
       "<g id=\"node1\" class=\"node\"><title>EMPTY</title>\n",
       "</g>\n",
       "<!-- S0 -->\n",
       "<g id=\"node4\" class=\"node\"><title>S0</title>\n",
       "<ellipse fill=\"none\" stroke=\"black\" cx=\"110.447\" cy=\"-23.4469\" rx=\"19.3939\" ry=\"19.3939\"/>\n",
       "<text text-anchor=\"middle\" x=\"110.447\" y=\"-19.2469\" font-family=\"Times,serif\" font-size=\"14.00\">S0</text>\n",
       "</g>\n",
       "<!-- EMPTY&#45;&gt;S0 -->\n",
       "<g id=\"edge1\" class=\"edge\"><title>EMPTY&#45;&gt;S0</title>\n",
       "<path fill=\"none\" stroke=\"black\" d=\"M54.2186,-23.4469C62.6822,-23.4469 72.1072,-23.4469 80.7407,-23.4469\"/>\n",
       "<polygon fill=\"black\" stroke=\"black\" points=\"80.7613,-26.947 90.7613,-23.4469 80.7613,-19.947 80.7613,-26.947\"/>\n",
       "</g>\n",
       "<!-- S1 -->\n",
       "<g id=\"node2\" class=\"node\"><title>S1</title>\n",
       "<ellipse fill=\"none\" stroke=\"black\" cx=\"233.548\" cy=\"-23.4469\" rx=\"19.3939\" ry=\"19.3939\"/>\n",
       "<text text-anchor=\"middle\" x=\"233.548\" y=\"-19.2469\" font-family=\"Times,serif\" font-size=\"14.00\">S1</text>\n",
       "</g>\n",
       "<!-- S1&#45;&gt;S1 -->\n",
       "<g id=\"edge3\" class=\"edge\"><title>S1&#45;&gt;S1</title>\n",
       "<path fill=\"none\" stroke=\"black\" d=\"M224.055,-40.7807C221.946,-51.1419 225.11,-60.8937 233.548,-60.8937 239.085,-60.8937 242.351,-56.694 243.346,-50.8783\"/>\n",
       "<polygon fill=\"black\" stroke=\"black\" points=\"246.841,-50.6701 243.04,-40.7807 239.844,-50.8821 246.841,-50.6701\"/>\n",
       "<text text-anchor=\"middle\" x=\"233.548\" y=\"-63.6937\" font-family=\"Times,serif\" font-size=\"14.00\">a, 1 ; 11</text>\n",
       "</g>\n",
       "<!-- S2 -->\n",
       "<g id=\"node3\" class=\"node\"><title>S2</title>\n",
       "<ellipse fill=\"none\" stroke=\"black\" cx=\"345.376\" cy=\"-23.4469\" rx=\"19.3939\" ry=\"19.3939\"/>\n",
       "<text text-anchor=\"middle\" x=\"345.376\" y=\"-19.2469\" font-family=\"Times,serif\" font-size=\"14.00\">S2</text>\n",
       "</g>\n",
       "<!-- S1&#45;&gt;S2 -->\n",
       "<g id=\"edge4\" class=\"edge\"><title>S1&#45;&gt;S2</title>\n",
       "<path fill=\"none\" stroke=\"black\" d=\"M253.179,-23.4469C270.219,-23.4469 295.696,-23.4469 315.395,-23.4469\"/>\n",
       "<polygon fill=\"black\" stroke=\"black\" points=\"315.654,-26.947 325.654,-23.4469 315.654,-19.947 315.654,-26.947\"/>\n",
       "<text text-anchor=\"middle\" x=\"289.462\" y=\"-26.2469\" font-family=\"Times,serif\" font-size=\"14.00\">b, 1 ; &#39;&#39;</text>\n",
       "</g>\n",
       "<!-- S2&#45;&gt;S2 -->\n",
       "<g id=\"edge5\" class=\"edge\"><title>S2&#45;&gt;S2</title>\n",
       "<path fill=\"none\" stroke=\"black\" d=\"M335.884,-40.7807C333.774,-51.1419 336.938,-60.8937 345.376,-60.8937 350.913,-60.8937 354.179,-56.694 355.174,-50.8783\"/>\n",
       "<polygon fill=\"black\" stroke=\"black\" points=\"358.669,-50.6701 354.868,-40.7807 351.673,-50.8821 358.669,-50.6701\"/>\n",
       "<text text-anchor=\"middle\" x=\"345.376\" y=\"-63.6937\" font-family=\"Times,serif\" font-size=\"14.00\">b, 1 ; &#39;&#39;</text>\n",
       "</g>\n",
       "<!-- S3 -->\n",
       "<g id=\"node5\" class=\"node\"><title>S3</title>\n",
       "<ellipse fill=\"none\" stroke=\"black\" cx=\"460.801\" cy=\"-23.4469\" rx=\"19.4029\" ry=\"19.4029\"/>\n",
       "<ellipse fill=\"none\" stroke=\"black\" cx=\"460.801\" cy=\"-23.4469\" rx=\"23.3939\" ry=\"23.3939\"/>\n",
       "<text text-anchor=\"middle\" x=\"460.801\" y=\"-19.2469\" font-family=\"Times,serif\" font-size=\"14.00\">S3</text>\n",
       "</g>\n",
       "<!-- S2&#45;&gt;S3 -->\n",
       "<g id=\"edge6\" class=\"edge\"><title>S2&#45;&gt;S3</title>\n",
       "<path fill=\"none\" stroke=\"black\" d=\"M364.852,-23.4469C381.637,-23.4469 406.787,-23.4469 426.986,-23.4469\"/>\n",
       "<polygon fill=\"black\" stroke=\"black\" points=\"427.028,-26.947 437.028,-23.4469 427.028,-19.947 427.028,-26.947\"/>\n",
       "<text text-anchor=\"middle\" x=\"401.088\" y=\"-26.2469\" font-family=\"Times,serif\" font-size=\"14.00\">&#39;&#39;, Z ; &#39;&#39;</text>\n",
       "</g>\n",
       "<!-- S0&#45;&gt;S1 -->\n",
       "<g id=\"edge2\" class=\"edge\"><title>S0&#45;&gt;S1</title>\n",
       "<path fill=\"none\" stroke=\"black\" d=\"M130.103,-23.4469C149.806,-23.4469 181.118,-23.4469 203.942,-23.4469\"/>\n",
       "<polygon fill=\"black\" stroke=\"black\" points=\"204.069,-26.947 214.069,-23.4469 204.069,-19.947 204.069,-26.947\"/>\n",
       "<text text-anchor=\"middle\" x=\"171.997\" y=\"-26.2469\" font-family=\"Times,serif\" font-size=\"14.00\">a, Z ; 1Z</text>\n",
       "</g>\n",
       "</g>\n",
       "</svg>\n"
      ],
      "text/plain": [
       "<graphviz.dot.Digraph at 0x10e719c50>"
      ]
     },
     "execution_count": 16,
     "metadata": {},
     "output_type": "execute_result"
    }
   ],
   "source": [
    "dotObj_pda(Pev)"
   ]
  },
  {
   "cell_type": "code",
   "execution_count": 17,
   "metadata": {
    "run_control": {
     "frozen": false,
     "read_only": false
    }
   },
   "outputs": [
    {
     "name": "stdout",
     "output_type": "stream",
     "text": [
      "String ab accepted by your PDA in 1 ways :-) \n",
      "Here are the ways: \n",
      "Final state  ('S3', '', '')\n",
      "Reached as follows:\n",
      "->  ('S0', 'ab', 'Z')\n",
      "->  ('S1', 'b', '1Z')\n",
      "->  ('S2', '', 'Z')\n",
      "->  ('S3', '', '') .\n"
     ]
    }
   ],
   "source": [
    "explore_pda(\"ab\", Pev)"
   ]
  },
  {
   "cell_type": "code",
   "execution_count": 18,
   "metadata": {
    "run_control": {
     "frozen": false,
     "read_only": false
    }
   },
   "outputs": [],
   "source": [
    "Pev1 = { \"Sigma\" : {'a','b'},\n",
    "        \"Q\"     : {\"S0\", \"S1\", \"S2\",\"S3\"},\n",
    "        \"Gamma\" : {'a','b','1',\"Z\"},\n",
    "        \"Delta\" : {('S0','a','Z'): {('S1','1Z')},\n",
    "                   ('S1','a','1'): {('S1','11')},\n",
    "                   ('S1','b','1'): {('S2','')},\n",
    "                   ('S2','b','1'): {('S2','')},\n",
    "                   ('S2','','Z') : {('S3','')},\n",
    "                   ('S3','', '') : {('S2', '111')}\n",
    "                  },\n",
    "        \"q0\"    : \"S0\",\n",
    "        \"z0\"    : \"Z\",\n",
    "        \"F\"     : { \"S3\" } }\n"
   ]
  },
  {
   "cell_type": "code",
   "execution_count": 19,
   "metadata": {
    "run_control": {
     "frozen": false,
     "read_only": false
    }
   },
   "outputs": [
    {
     "data": {
      "image/svg+xml": [
       "<?xml version=\"1.0\" encoding=\"UTF-8\" standalone=\"no\"?>\n",
       "<!DOCTYPE svg PUBLIC \"-//W3C//DTD SVG 1.1//EN\"\n",
       " \"http://www.w3.org/Graphics/SVG/1.1/DTD/svg11.dtd\">\n",
       "<!-- Generated by graphviz version 2.38.0 (20140413.2041)\n",
       " -->\n",
       "<!-- Title: %3 Pages: 1 -->\n",
       "<svg width=\"504pt\" height=\"83pt\"\n",
       " viewBox=\"0.00 0.00 503.67 82.89\" xmlns=\"http://www.w3.org/2000/svg\" xmlns:xlink=\"http://www.w3.org/1999/xlink\">\n",
       "<g id=\"graph0\" class=\"graph\" transform=\"scale(1 1) rotate(0) translate(4 78.8937)\">\n",
       "<title>%3</title>\n",
       "<polygon fill=\"white\" stroke=\"none\" points=\"-4,4 -4,-78.8937 499.671,-78.8937 499.671,4 -4,4\"/>\n",
       "<!-- EMPTY -->\n",
       "<g id=\"node1\" class=\"node\"><title>EMPTY</title>\n",
       "</g>\n",
       "<!-- S0 -->\n",
       "<g id=\"node4\" class=\"node\"><title>S0</title>\n",
       "<ellipse fill=\"none\" stroke=\"black\" cx=\"110.447\" cy=\"-23.4469\" rx=\"19.3939\" ry=\"19.3939\"/>\n",
       "<text text-anchor=\"middle\" x=\"110.447\" y=\"-19.2469\" font-family=\"Times,serif\" font-size=\"14.00\">S0</text>\n",
       "</g>\n",
       "<!-- EMPTY&#45;&gt;S0 -->\n",
       "<g id=\"edge1\" class=\"edge\"><title>EMPTY&#45;&gt;S0</title>\n",
       "<path fill=\"none\" stroke=\"black\" d=\"M54.2186,-23.4469C62.6822,-23.4469 72.1072,-23.4469 80.7407,-23.4469\"/>\n",
       "<polygon fill=\"black\" stroke=\"black\" points=\"80.7613,-26.947 90.7613,-23.4469 80.7613,-19.947 80.7613,-26.947\"/>\n",
       "</g>\n",
       "<!-- S1 -->\n",
       "<g id=\"node2\" class=\"node\"><title>S1</title>\n",
       "<ellipse fill=\"none\" stroke=\"black\" cx=\"233.548\" cy=\"-23.4469\" rx=\"19.3939\" ry=\"19.3939\"/>\n",
       "<text text-anchor=\"middle\" x=\"233.548\" y=\"-19.2469\" font-family=\"Times,serif\" font-size=\"14.00\">S1</text>\n",
       "</g>\n",
       "<!-- S1&#45;&gt;S1 -->\n",
       "<g id=\"edge3\" class=\"edge\"><title>S1&#45;&gt;S1</title>\n",
       "<path fill=\"none\" stroke=\"black\" d=\"M224.055,-40.7807C221.946,-51.1419 225.11,-60.8937 233.548,-60.8937 239.085,-60.8937 242.351,-56.694 243.346,-50.8783\"/>\n",
       "<polygon fill=\"black\" stroke=\"black\" points=\"246.841,-50.6701 243.04,-40.7807 239.844,-50.8821 246.841,-50.6701\"/>\n",
       "<text text-anchor=\"middle\" x=\"233.548\" y=\"-63.6937\" font-family=\"Times,serif\" font-size=\"14.00\">a, 1 ; 11</text>\n",
       "</g>\n",
       "<!-- S2 -->\n",
       "<g id=\"node3\" class=\"node\"><title>S2</title>\n",
       "<ellipse fill=\"none\" stroke=\"black\" cx=\"345.376\" cy=\"-23.4469\" rx=\"19.3939\" ry=\"19.3939\"/>\n",
       "<text text-anchor=\"middle\" x=\"345.376\" y=\"-19.2469\" font-family=\"Times,serif\" font-size=\"14.00\">S2</text>\n",
       "</g>\n",
       "<!-- S1&#45;&gt;S2 -->\n",
       "<g id=\"edge4\" class=\"edge\"><title>S1&#45;&gt;S2</title>\n",
       "<path fill=\"none\" stroke=\"black\" d=\"M253.179,-23.4469C270.219,-23.4469 295.696,-23.4469 315.395,-23.4469\"/>\n",
       "<polygon fill=\"black\" stroke=\"black\" points=\"315.654,-26.947 325.654,-23.4469 315.654,-19.947 315.654,-26.947\"/>\n",
       "<text text-anchor=\"middle\" x=\"289.462\" y=\"-26.2469\" font-family=\"Times,serif\" font-size=\"14.00\">b, 1 ; &#39;&#39;</text>\n",
       "</g>\n",
       "<!-- S2&#45;&gt;S2 -->\n",
       "<g id=\"edge5\" class=\"edge\"><title>S2&#45;&gt;S2</title>\n",
       "<path fill=\"none\" stroke=\"black\" d=\"M335.884,-40.7807C333.774,-51.1419 336.938,-60.8937 345.376,-60.8937 350.913,-60.8937 354.179,-56.694 355.174,-50.8783\"/>\n",
       "<polygon fill=\"black\" stroke=\"black\" points=\"358.669,-50.6701 354.868,-40.7807 351.673,-50.8821 358.669,-50.6701\"/>\n",
       "<text text-anchor=\"middle\" x=\"345.376\" y=\"-63.6937\" font-family=\"Times,serif\" font-size=\"14.00\">b, 1 ; &#39;&#39;</text>\n",
       "</g>\n",
       "<!-- S3 -->\n",
       "<g id=\"node5\" class=\"node\"><title>S3</title>\n",
       "<ellipse fill=\"none\" stroke=\"black\" cx=\"472.224\" cy=\"-23.4469\" rx=\"19.4029\" ry=\"19.4029\"/>\n",
       "<ellipse fill=\"none\" stroke=\"black\" cx=\"472.224\" cy=\"-23.4469\" rx=\"23.3939\" ry=\"23.3939\"/>\n",
       "<text text-anchor=\"middle\" x=\"472.224\" y=\"-19.2469\" font-family=\"Times,serif\" font-size=\"14.00\">S3</text>\n",
       "</g>\n",
       "<!-- S2&#45;&gt;S3 -->\n",
       "<g id=\"edge6\" class=\"edge\"><title>S2&#45;&gt;S3</title>\n",
       "<path fill=\"none\" stroke=\"black\" d=\"M365.067,-23.4469C384.416,-23.4469 415.029,-23.4469 438.42,-23.4469\"/>\n",
       "<polygon fill=\"black\" stroke=\"black\" points=\"438.592,-26.947 448.592,-23.4469 438.592,-19.947 438.592,-26.947\"/>\n",
       "<text text-anchor=\"middle\" x=\"406.8\" y=\"-26.2469\" font-family=\"Times,serif\" font-size=\"14.00\">&#39;&#39;, Z ; &#39;&#39;</text>\n",
       "</g>\n",
       "<!-- S0&#45;&gt;S1 -->\n",
       "<g id=\"edge2\" class=\"edge\"><title>S0&#45;&gt;S1</title>\n",
       "<path fill=\"none\" stroke=\"black\" d=\"M130.103,-23.4469C149.806,-23.4469 181.118,-23.4469 203.942,-23.4469\"/>\n",
       "<polygon fill=\"black\" stroke=\"black\" points=\"204.069,-26.947 214.069,-23.4469 204.069,-19.947 204.069,-26.947\"/>\n",
       "<text text-anchor=\"middle\" x=\"171.997\" y=\"-26.2469\" font-family=\"Times,serif\" font-size=\"14.00\">a, Z ; 1Z</text>\n",
       "</g>\n",
       "<!-- S3&#45;&gt;S2 -->\n",
       "<g id=\"edge7\" class=\"edge\"><title>S3&#45;&gt;S2</title>\n",
       "<path fill=\"none\" stroke=\"black\" d=\"M451.209,-12.5595C444.863,-9.65448 437.694,-6.91645 430.777,-5.44687 409.929,-1.0174 403.578,-0.601161 382.823,-5.44687 379.099,-6.31632 375.318,-7.62417 371.672,-9.14587\"/>\n",
       "<polygon fill=\"black\" stroke=\"black\" points=\"369.996,-6.06705 362.465,-13.5192 373,-12.39 369.996,-6.06705\"/>\n",
       "<text text-anchor=\"middle\" x=\"406.8\" y=\"-8.24687\" font-family=\"Times,serif\" font-size=\"14.00\">&#39;&#39;, &#39;&#39; ; 111</text>\n",
       "</g>\n",
       "</g>\n",
       "</svg>\n"
      ],
      "text/plain": [
       "<graphviz.dot.Digraph at 0x10e719a20>"
      ]
     },
     "execution_count": 19,
     "metadata": {},
     "output_type": "execute_result"
    }
   ],
   "source": [
    "dotObj_pda(Pev1)"
   ]
  },
  {
   "cell_type": "code",
   "execution_count": 20,
   "metadata": {
    "run_control": {
     "frozen": false,
     "read_only": false
    }
   },
   "outputs": [
    {
     "data": {
      "image/svg+xml": [
       "<?xml version=\"1.0\" encoding=\"UTF-8\" standalone=\"no\"?>\n",
       "<!DOCTYPE svg PUBLIC \"-//W3C//DTD SVG 1.1//EN\"\n",
       " \"http://www.w3.org/Graphics/SVG/1.1/DTD/svg11.dtd\">\n",
       "<!-- Generated by graphviz version 2.38.0 (20140413.2041)\n",
       " -->\n",
       "<!-- Title: %3 Pages: 1 -->\n",
       "<svg width=\"527pt\" height=\"83pt\"\n",
       " viewBox=\"0.00 0.00 527.21 82.89\" xmlns=\"http://www.w3.org/2000/svg\" xmlns:xlink=\"http://www.w3.org/1999/xlink\">\n",
       "<g id=\"graph0\" class=\"graph\" transform=\"scale(1 1) rotate(0) translate(4 78.8937)\">\n",
       "<title>%3</title>\n",
       "<polygon fill=\"white\" stroke=\"none\" points=\"-4,4 -4,-78.8937 523.214,-78.8937 523.214,4 -4,4\"/>\n",
       "<!-- EMPTY -->\n",
       "<g id=\"node1\" class=\"node\"><title>EMPTY</title>\n",
       "</g>\n",
       "<!-- S0 -->\n",
       "<g id=\"node4\" class=\"node\"><title>S0</title>\n",
       "<ellipse fill=\"none\" stroke=\"black\" cx=\"110.447\" cy=\"-23.4469\" rx=\"19.3939\" ry=\"19.3939\"/>\n",
       "<text text-anchor=\"middle\" x=\"110.447\" y=\"-19.2469\" font-family=\"Times,serif\" font-size=\"14.00\">S0</text>\n",
       "</g>\n",
       "<!-- EMPTY&#45;&gt;S0 -->\n",
       "<g id=\"edge1\" class=\"edge\"><title>EMPTY&#45;&gt;S0</title>\n",
       "<path fill=\"none\" stroke=\"black\" d=\"M54.2186,-23.4469C62.6822,-23.4469 72.1072,-23.4469 80.7407,-23.4469\"/>\n",
       "<polygon fill=\"black\" stroke=\"black\" points=\"80.7613,-26.947 90.7613,-23.4469 80.7613,-19.947 80.7613,-26.947\"/>\n",
       "</g>\n",
       "<!-- S1 -->\n",
       "<g id=\"node2\" class=\"node\"><title>S1</title>\n",
       "<ellipse fill=\"none\" stroke=\"black\" cx=\"233.548\" cy=\"-23.4469\" rx=\"19.3939\" ry=\"19.3939\"/>\n",
       "<text text-anchor=\"middle\" x=\"233.548\" y=\"-19.2469\" font-family=\"Times,serif\" font-size=\"14.00\">S1</text>\n",
       "</g>\n",
       "<!-- S1&#45;&gt;S1 -->\n",
       "<g id=\"edge3\" class=\"edge\"><title>S1&#45;&gt;S1</title>\n",
       "<path fill=\"none\" stroke=\"black\" d=\"M223.44,-40.3919C221.003,-50.8966 224.372,-60.8937 233.548,-60.8937 239.569,-60.8937 243.09,-56.5883 244.11,-50.6595\"/>\n",
       "<polygon fill=\"black\" stroke=\"black\" points=\"247.595,-50.227 243.655,-40.3919 240.602,-50.5371 247.595,-50.227\"/>\n",
       "<text text-anchor=\"middle\" x=\"233.548\" y=\"-63.6937\" font-family=\"Times,serif\" font-size=\"14.00\">a, 1 ; 11</text>\n",
       "</g>\n",
       "<!-- S2 -->\n",
       "<g id=\"node3\" class=\"node\"><title>S2</title>\n",
       "<ellipse fill=\"none\" stroke=\"black\" cx=\"353.224\" cy=\"-23.4469\" rx=\"19.3939\" ry=\"19.3939\"/>\n",
       "<text text-anchor=\"middle\" x=\"353.224\" y=\"-19.2469\" font-family=\"Times,serif\" font-size=\"14.00\">S2</text>\n",
       "</g>\n",
       "<!-- S1&#45;&gt;S2 -->\n",
       "<g id=\"edge4\" class=\"edge\"><title>S1&#45;&gt;S2</title>\n",
       "<path fill=\"none\" stroke=\"black\" d=\"M253.194,-23.4469C272.13,-23.4469 301.704,-23.4469 323.608,-23.4469\"/>\n",
       "<polygon fill=\"black\" stroke=\"black\" points=\"323.665,-26.947 333.665,-23.4469 323.665,-19.947 323.665,-26.947\"/>\n",
       "<text text-anchor=\"middle\" x=\"293.386\" y=\"-26.2469\" font-family=\"Times,serif\" font-size=\"14.00\">b, 1 ; @</text>\n",
       "</g>\n",
       "<!-- S2&#45;&gt;S2 -->\n",
       "<g id=\"edge5\" class=\"edge\"><title>S2&#45;&gt;S2</title>\n",
       "<path fill=\"none\" stroke=\"black\" d=\"M343.116,-40.3919C340.679,-50.8966 344.048,-60.8937 353.224,-60.8937 359.245,-60.8937 362.766,-56.5883 363.786,-50.6595\"/>\n",
       "<polygon fill=\"black\" stroke=\"black\" points=\"367.271,-50.227 363.331,-40.3919 360.278,-50.5371 367.271,-50.227\"/>\n",
       "<text text-anchor=\"middle\" x=\"353.224\" y=\"-63.6937\" font-family=\"Times,serif\" font-size=\"14.00\">b, 1 ; @</text>\n",
       "</g>\n",
       "<!-- S3 -->\n",
       "<g id=\"node5\" class=\"node\"><title>S3</title>\n",
       "<ellipse fill=\"none\" stroke=\"black\" cx=\"495.767\" cy=\"-23.4469\" rx=\"19.4029\" ry=\"19.4029\"/>\n",
       "<ellipse fill=\"none\" stroke=\"black\" cx=\"495.767\" cy=\"-23.4469\" rx=\"23.3939\" ry=\"23.3939\"/>\n",
       "<text text-anchor=\"middle\" x=\"495.767\" y=\"-19.2469\" font-family=\"Times,serif\" font-size=\"14.00\">S3</text>\n",
       "</g>\n",
       "<!-- S2&#45;&gt;S3 -->\n",
       "<g id=\"edge6\" class=\"edge\"><title>S2&#45;&gt;S3</title>\n",
       "<path fill=\"none\" stroke=\"black\" d=\"M372.887,-23.4469C395.663,-23.4469 434.56,-23.4469 462.286,-23.4469\"/>\n",
       "<polygon fill=\"black\" stroke=\"black\" points=\"462.308,-26.947 472.308,-23.4469 462.308,-19.947 462.308,-26.947\"/>\n",
       "<text text-anchor=\"middle\" x=\"422.495\" y=\"-26.2469\" font-family=\"Times,serif\" font-size=\"14.00\">@, Z ; @</text>\n",
       "</g>\n",
       "<!-- S0&#45;&gt;S1 -->\n",
       "<g id=\"edge2\" class=\"edge\"><title>S0&#45;&gt;S1</title>\n",
       "<path fill=\"none\" stroke=\"black\" d=\"M130.103,-23.4469C149.806,-23.4469 181.118,-23.4469 203.942,-23.4469\"/>\n",
       "<polygon fill=\"black\" stroke=\"black\" points=\"204.069,-26.947 214.069,-23.4469 204.069,-19.947 204.069,-26.947\"/>\n",
       "<text text-anchor=\"middle\" x=\"171.997\" y=\"-26.2469\" font-family=\"Times,serif\" font-size=\"14.00\">a, Z ; 1Z</text>\n",
       "</g>\n",
       "<!-- S3&#45;&gt;S2 -->\n",
       "<g id=\"edge7\" class=\"edge\"><title>S3&#45;&gt;S2</title>\n",
       "<path fill=\"none\" stroke=\"black\" d=\"M474.752,-12.5595C468.406,-9.65448 461.237,-6.91645 454.32,-5.44687 426.649,0.432356 418.218,0.984831 390.67,-5.44687 386.946,-6.31632 383.166,-7.62417 379.52,-9.14587\"/>\n",
       "<polygon fill=\"black\" stroke=\"black\" points=\"377.844,-6.06705 370.313,-13.5192 380.848,-12.39 377.844,-6.06705\"/>\n",
       "<text text-anchor=\"middle\" x=\"422.495\" y=\"-8.24687\" font-family=\"Times,serif\" font-size=\"14.00\">@, @ ; 111</text>\n",
       "</g>\n",
       "</g>\n",
       "</svg>\n"
      ],
      "text/plain": [
       "<graphviz.dot.Digraph at 0x10e719be0>"
      ]
     },
     "execution_count": 20,
     "metadata": {},
     "output_type": "execute_result"
    }
   ],
   "source": [
    "dotObj_pda(Pev1, visible_eps=True)"
   ]
  },
  {
   "cell_type": "code",
   "execution_count": 21,
   "metadata": {
    "run_control": {
     "frozen": false,
     "read_only": false
    }
   },
   "outputs": [],
   "source": [
    "Pev1 = { \"Sigma\" : {'a','b'},\n",
    "        \"Q\"     : {\"S0\", \"S1\", \"S2\",\"S3\"},\n",
    "        \"Gamma\" : {'a','b','1',\"Z\"},\n",
    "        \"Delta\" : {('S0','a','Z'): {('S1','1Z')},\n",
    "                   ('S1','a','1'): {('S1','11')},\n",
    "                   ('S1','b','1'): {('S2','')},\n",
    "                   ('S2','b','1'): {('S2','')},\n",
    "                   ('S2','','Z') : {('S3','')},\n",
    "                   ('S3','', '') : {('S2', '111')}\n",
    "                  },\n",
    "        \"q0\"    : \"S0\",\n",
    "        \"z0\"    : \"Z\",\n",
    "        \"F\"     : { \"S3\" } }\n",
    "chk_consistent_pda(Pev1)"
   ]
  },
  {
   "cell_type": "code",
   "execution_count": 22,
   "metadata": {
    "run_control": {
     "frozen": false,
     "read_only": false
    }
   },
   "outputs": [
    {
     "name": "stdout",
     "output_type": "stream",
     "text": [
      "String aabb accepted by your PDA in 1 ways :-) \n",
      "Here are the ways: \n",
      "Final state  ('S3', '', '')\n",
      "Reached as follows:\n",
      "->  ('S0', 'aabb', 'Z')\n",
      "->  ('S1', 'abb', '1Z')\n",
      "->  ('S1', 'bb', '11Z')\n",
      "->  ('S2', 'b', '1Z')\n",
      "->  ('S2', '', 'Z')\n",
      "->  ('S3', '', '') .\n"
     ]
    }
   ],
   "source": [
    "explore_pda(\"aabb\", Pev1)"
   ]
  },
  {
   "cell_type": "code",
   "execution_count": 23,
   "metadata": {
    "run_control": {
     "frozen": false,
     "read_only": false
    }
   },
   "outputs": [],
   "source": [
    "Pev2 = {\"Sigma\" : {'a','b'},\n",
    "        \"Q\"     : {\"S0\", \"S1\", \"S2\",\"S3\"},\n",
    "        \"Gamma\" : {'a','b','1',\"Z\"},\n",
    "        \"Delta\" : {('S0','a','Z'): {('S1','1Z')},\n",
    "                   ('S1','a','1'): {('S1','11')},\n",
    "                   ('S1','b','1'): {('S2','')},\n",
    "                   ('S2','b','1'): {('S2','')},\n",
    "                   ('S2','','Z') : {('S3','')},\n",
    "                   ('S3','', '') : {('S2', '111')}\n",
    "                  },\n",
    "        \"q0\"    : \"S0\",\n",
    "        \"z0\"    : \"Z\",\n",
    "        \"F\"     : set({  }) }\n",
    "chk_consistent_pda(Pev2)"
   ]
  },
  {
   "cell_type": "code",
   "execution_count": 24,
   "metadata": {
    "run_control": {
     "frozen": false,
     "read_only": false
    }
   },
   "outputs": [
    {
     "data": {
      "image/svg+xml": [
       "<?xml version=\"1.0\" encoding=\"UTF-8\" standalone=\"no\"?>\n",
       "<!DOCTYPE svg PUBLIC \"-//W3C//DTD SVG 1.1//EN\"\n",
       " \"http://www.w3.org/Graphics/SVG/1.1/DTD/svg11.dtd\">\n",
       "<!-- Generated by graphviz version 2.38.0 (20140413.2041)\n",
       " -->\n",
       "<!-- Title: %3 Pages: 1 -->\n",
       "<svg width=\"496pt\" height=\"81pt\"\n",
       " viewBox=\"0.00 0.00 495.67 81.08\" xmlns=\"http://www.w3.org/2000/svg\" xmlns:xlink=\"http://www.w3.org/1999/xlink\">\n",
       "<g id=\"graph0\" class=\"graph\" transform=\"scale(1 1) rotate(0) translate(4 77.0811)\">\n",
       "<title>%3</title>\n",
       "<polygon fill=\"white\" stroke=\"none\" points=\"-4,4 -4,-77.0811 491.671,-77.0811 491.671,4 -4,4\"/>\n",
       "<!-- EMPTY -->\n",
       "<g id=\"node1\" class=\"node\"><title>EMPTY</title>\n",
       "</g>\n",
       "<!-- S0 -->\n",
       "<g id=\"node5\" class=\"node\"><title>S0</title>\n",
       "<ellipse fill=\"none\" stroke=\"black\" cx=\"110.447\" cy=\"-21.6343\" rx=\"19.3939\" ry=\"19.3939\"/>\n",
       "<text text-anchor=\"middle\" x=\"110.447\" y=\"-17.4343\" font-family=\"Times,serif\" font-size=\"14.00\">S0</text>\n",
       "</g>\n",
       "<!-- EMPTY&#45;&gt;S0 -->\n",
       "<g id=\"edge1\" class=\"edge\"><title>EMPTY&#45;&gt;S0</title>\n",
       "<path fill=\"none\" stroke=\"black\" d=\"M54.2186,-21.6343C62.6822,-21.6343 72.1072,-21.6343 80.7407,-21.6343\"/>\n",
       "<polygon fill=\"black\" stroke=\"black\" points=\"80.7613,-25.1344 90.7613,-21.6343 80.7613,-18.1344 80.7613,-25.1344\"/>\n",
       "</g>\n",
       "<!-- S3 -->\n",
       "<g id=\"node2\" class=\"node\"><title>S3</title>\n",
       "<ellipse fill=\"none\" stroke=\"black\" cx=\"468.224\" cy=\"-21.6343\" rx=\"19.3939\" ry=\"19.3939\"/>\n",
       "<text text-anchor=\"middle\" x=\"468.224\" y=\"-17.4343\" font-family=\"Times,serif\" font-size=\"14.00\">S3</text>\n",
       "</g>\n",
       "<!-- S2 -->\n",
       "<g id=\"node4\" class=\"node\"><title>S2</title>\n",
       "<ellipse fill=\"none\" stroke=\"black\" cx=\"345.376\" cy=\"-21.6343\" rx=\"19.3939\" ry=\"19.3939\"/>\n",
       "<text text-anchor=\"middle\" x=\"345.376\" y=\"-17.4343\" font-family=\"Times,serif\" font-size=\"14.00\">S2</text>\n",
       "</g>\n",
       "<!-- S3&#45;&gt;S2 -->\n",
       "<g id=\"edge7\" class=\"edge\"><title>S3&#45;&gt;S2</title>\n",
       "<path fill=\"none\" stroke=\"black\" d=\"M451.134,-11.7066C444.997,-8.46087 437.787,-5.27089 430.777,-3.63428 410.022,1.21143 403.578,1.21143 382.823,-3.63428 379.099,-4.50373 375.318,-5.81158 371.672,-7.33329\"/>\n",
       "<polygon fill=\"black\" stroke=\"black\" points=\"369.996,-4.25446 362.465,-11.7066 373,-10.5774 369.996,-4.25446\"/>\n",
       "<text text-anchor=\"middle\" x=\"406.8\" y=\"-6.43428\" font-family=\"Times,serif\" font-size=\"14.00\">&#39;&#39;, &#39;&#39; ; 111</text>\n",
       "</g>\n",
       "<!-- S1 -->\n",
       "<g id=\"node3\" class=\"node\"><title>S1</title>\n",
       "<ellipse fill=\"none\" stroke=\"black\" cx=\"233.548\" cy=\"-21.6343\" rx=\"19.3939\" ry=\"19.3939\"/>\n",
       "<text text-anchor=\"middle\" x=\"233.548\" y=\"-17.4343\" font-family=\"Times,serif\" font-size=\"14.00\">S1</text>\n",
       "</g>\n",
       "<!-- S1&#45;&gt;S1 -->\n",
       "<g id=\"edge3\" class=\"edge\"><title>S1&#45;&gt;S1</title>\n",
       "<path fill=\"none\" stroke=\"black\" d=\"M224.055,-38.9681C221.946,-49.3294 225.11,-59.0811 233.548,-59.0811 239.085,-59.0811 242.351,-54.8814 243.346,-49.0657\"/>\n",
       "<polygon fill=\"black\" stroke=\"black\" points=\"246.841,-48.8575 243.04,-38.9681 239.844,-49.0695 246.841,-48.8575\"/>\n",
       "<text text-anchor=\"middle\" x=\"233.548\" y=\"-61.8811\" font-family=\"Times,serif\" font-size=\"14.00\">a, 1 ; 11</text>\n",
       "</g>\n",
       "<!-- S1&#45;&gt;S2 -->\n",
       "<g id=\"edge4\" class=\"edge\"><title>S1&#45;&gt;S2</title>\n",
       "<path fill=\"none\" stroke=\"black\" d=\"M253.179,-21.6343C270.219,-21.6343 295.696,-21.6343 315.395,-21.6343\"/>\n",
       "<polygon fill=\"black\" stroke=\"black\" points=\"315.654,-25.1344 325.654,-21.6343 315.654,-18.1344 315.654,-25.1344\"/>\n",
       "<text text-anchor=\"middle\" x=\"289.462\" y=\"-24.4343\" font-family=\"Times,serif\" font-size=\"14.00\">b, 1 ; &#39;&#39;</text>\n",
       "</g>\n",
       "<!-- S2&#45;&gt;S3 -->\n",
       "<g id=\"edge6\" class=\"edge\"><title>S2&#45;&gt;S3</title>\n",
       "<path fill=\"none\" stroke=\"black\" d=\"M364.994,-21.6343C384.541,-21.6343 415.538,-21.6343 438.28,-21.6343\"/>\n",
       "<polygon fill=\"black\" stroke=\"black\" points=\"438.386,-25.1344 448.386,-21.6343 438.386,-18.1344 438.386,-25.1344\"/>\n",
       "<text text-anchor=\"middle\" x=\"406.8\" y=\"-24.4343\" font-family=\"Times,serif\" font-size=\"14.00\">&#39;&#39;, Z ; &#39;&#39;</text>\n",
       "</g>\n",
       "<!-- S2&#45;&gt;S2 -->\n",
       "<g id=\"edge5\" class=\"edge\"><title>S2&#45;&gt;S2</title>\n",
       "<path fill=\"none\" stroke=\"black\" d=\"M335.884,-38.9681C333.774,-49.3294 336.938,-59.0811 345.376,-59.0811 350.913,-59.0811 354.179,-54.8814 355.174,-49.0657\"/>\n",
       "<polygon fill=\"black\" stroke=\"black\" points=\"358.669,-48.8575 354.868,-38.9681 351.673,-49.0695 358.669,-48.8575\"/>\n",
       "<text text-anchor=\"middle\" x=\"345.376\" y=\"-61.8811\" font-family=\"Times,serif\" font-size=\"14.00\">b, 1 ; &#39;&#39;</text>\n",
       "</g>\n",
       "<!-- S0&#45;&gt;S1 -->\n",
       "<g id=\"edge2\" class=\"edge\"><title>S0&#45;&gt;S1</title>\n",
       "<path fill=\"none\" stroke=\"black\" d=\"M130.103,-21.6343C149.806,-21.6343 181.118,-21.6343 203.942,-21.6343\"/>\n",
       "<polygon fill=\"black\" stroke=\"black\" points=\"204.069,-25.1344 214.069,-21.6343 204.069,-18.1344 204.069,-25.1344\"/>\n",
       "<text text-anchor=\"middle\" x=\"171.997\" y=\"-24.4343\" font-family=\"Times,serif\" font-size=\"14.00\">a, Z ; 1Z</text>\n",
       "</g>\n",
       "</g>\n",
       "</svg>\n"
      ],
      "text/plain": [
       "<graphviz.dot.Digraph at 0x10e719c18>"
      ]
     },
     "execution_count": 24,
     "metadata": {},
     "output_type": "execute_result"
    }
   ],
   "source": [
    "dotObj_pda(Pev2)"
   ]
  },
  {
   "cell_type": "code",
   "execution_count": 25,
   "metadata": {
    "run_control": {
     "frozen": false,
     "read_only": false
    }
   },
   "outputs": [
    {
     "name": "stdout",
     "output_type": "stream",
     "text": [
      "String aabb rejected by your PDA :-(\n",
      "Visited states are:\n",
      "{('S2', '', 'Z'), ('S1', 'abb', '1Z'), ('S3', '', ''), ('S2', 'b', '1Z'), ('S0', 'aabb', 'Z'), ('S1', 'bb', '11Z'), ('S2', '', '111')}\n"
     ]
    }
   ],
   "source": [
    "# Acceptance by final state is impossible because there are no final states\n",
    "explore_pda(\"aabb\", Pev2)"
   ]
  },
  {
   "cell_type": "code",
   "execution_count": 26,
   "metadata": {
    "run_control": {
     "frozen": false,
     "read_only": false
    }
   },
   "outputs": [
    {
     "name": "stdout",
     "output_type": "stream",
     "text": [
      "String aabb accepted by your PDA in 1 ways :-) \n",
      "Here are the ways: \n",
      "Final state  ('S3', '', '')\n",
      "Reached as follows:\n",
      "->  ('S0', 'aabb', 'Z')\n",
      "->  ('S1', 'abb', '1Z')\n",
      "->  ('S1', 'bb', '11Z')\n",
      "->  ('S2', 'b', '1Z')\n",
      "->  ('S2', '', 'Z')\n",
      "->  ('S3', '', '') .\n"
     ]
    }
   ],
   "source": [
    "# Acceptance by empty stack is possible, as in S3\n",
    "# the input is fully consumed and the stack is empty\n",
    "explore_pda(\"aabb\", Pev2, \"ACCEPT_S\")"
   ]
  },
  {
   "cell_type": "code",
   "execution_count": 27,
   "metadata": {
    "run_control": {
     "frozen": false,
     "read_only": false
    }
   },
   "outputs": [],
   "source": [
    "Pev3 = {\"Sigma\" : {'a','b'},\n",
    "        \"Q\"     : {\"S0\", \"S1\", \"S2\",\"S3\"},\n",
    "        \"Gamma\" : {'a','b','1',\"Z\"},\n",
    "        \"Delta\" : {('S0','a','Z'): {('S1','1Z')},\n",
    "                   ('S1','a','1'): {('S1','11')},\n",
    "                   ('S1','b','1'): {('S2','')},\n",
    "                   ('S2','b','1'): {('S2','')},\n",
    "                   ('S2','','Z') : {('S3','')},\n",
    "                   ('S3','', '') : {('S2', '111')}\n",
    "                  },\n",
    "        \"q0\"    : \"S0\",\n",
    "        \"z0\"    : \"Z\",\n",
    "        \"F\"     : {\"S2\", \"S3\"} }\n",
    "chk_consistent_pda(Pev3)"
   ]
  },
  {
   "cell_type": "code",
   "execution_count": 28,
   "metadata": {
    "run_control": {
     "frozen": false,
     "read_only": false
    }
   },
   "outputs": [
    {
     "data": {
      "image/svg+xml": [
       "<?xml version=\"1.0\" encoding=\"UTF-8\" standalone=\"no\"?>\n",
       "<!DOCTYPE svg PUBLIC \"-//W3C//DTD SVG 1.1//EN\"\n",
       " \"http://www.w3.org/Graphics/SVG/1.1/DTD/svg11.dtd\">\n",
       "<!-- Generated by graphviz version 2.38.0 (20140413.2041)\n",
       " -->\n",
       "<!-- Title: %3 Pages: 1 -->\n",
       "<svg width=\"512pt\" height=\"87pt\"\n",
       " viewBox=\"0.00 0.00 511.67 86.89\" xmlns=\"http://www.w3.org/2000/svg\" xmlns:xlink=\"http://www.w3.org/1999/xlink\">\n",
       "<g id=\"graph0\" class=\"graph\" transform=\"scale(1 1) rotate(0) translate(4 82.8937)\">\n",
       "<title>%3</title>\n",
       "<polygon fill=\"white\" stroke=\"none\" points=\"-4,4 -4,-82.8937 507.671,-82.8937 507.671,4 -4,4\"/>\n",
       "<!-- EMPTY -->\n",
       "<g id=\"node1\" class=\"node\"><title>EMPTY</title>\n",
       "</g>\n",
       "<!-- S0 -->\n",
       "<g id=\"node3\" class=\"node\"><title>S0</title>\n",
       "<ellipse fill=\"none\" stroke=\"black\" cx=\"110.447\" cy=\"-23.4469\" rx=\"19.3939\" ry=\"19.3939\"/>\n",
       "<text text-anchor=\"middle\" x=\"110.447\" y=\"-19.2469\" font-family=\"Times,serif\" font-size=\"14.00\">S0</text>\n",
       "</g>\n",
       "<!-- EMPTY&#45;&gt;S0 -->\n",
       "<g id=\"edge1\" class=\"edge\"><title>EMPTY&#45;&gt;S0</title>\n",
       "<path fill=\"none\" stroke=\"black\" d=\"M54.2186,-23.4469C62.6822,-23.4469 72.1072,-23.4469 80.7407,-23.4469\"/>\n",
       "<polygon fill=\"black\" stroke=\"black\" points=\"80.7613,-26.947 90.7613,-23.4469 80.7613,-19.947 80.7613,-26.947\"/>\n",
       "</g>\n",
       "<!-- S1 -->\n",
       "<g id=\"node2\" class=\"node\"><title>S1</title>\n",
       "<ellipse fill=\"none\" stroke=\"black\" cx=\"233.548\" cy=\"-23.4469\" rx=\"19.3939\" ry=\"19.3939\"/>\n",
       "<text text-anchor=\"middle\" x=\"233.548\" y=\"-19.2469\" font-family=\"Times,serif\" font-size=\"14.00\">S1</text>\n",
       "</g>\n",
       "<!-- S1&#45;&gt;S1 -->\n",
       "<g id=\"edge3\" class=\"edge\"><title>S1&#45;&gt;S1</title>\n",
       "<path fill=\"none\" stroke=\"black\" d=\"M224.055,-40.7807C221.946,-51.1419 225.11,-60.8937 233.548,-60.8937 239.085,-60.8937 242.351,-56.694 243.346,-50.8783\"/>\n",
       "<polygon fill=\"black\" stroke=\"black\" points=\"246.841,-50.6701 243.04,-40.7807 239.844,-50.8821 246.841,-50.6701\"/>\n",
       "<text text-anchor=\"middle\" x=\"233.548\" y=\"-63.6937\" font-family=\"Times,serif\" font-size=\"14.00\">a, 1 ; 11</text>\n",
       "</g>\n",
       "<!-- S2 -->\n",
       "<g id=\"node5\" class=\"node\"><title>S2</title>\n",
       "<ellipse fill=\"none\" stroke=\"black\" cx=\"349.376\" cy=\"-23.4469\" rx=\"19.4029\" ry=\"19.4029\"/>\n",
       "<ellipse fill=\"none\" stroke=\"black\" cx=\"349.376\" cy=\"-23.4469\" rx=\"23.3939\" ry=\"23.3939\"/>\n",
       "<text text-anchor=\"middle\" x=\"349.376\" y=\"-19.2469\" font-family=\"Times,serif\" font-size=\"14.00\">S2</text>\n",
       "</g>\n",
       "<!-- S1&#45;&gt;S2 -->\n",
       "<g id=\"edge4\" class=\"edge\"><title>S1&#45;&gt;S2</title>\n",
       "<path fill=\"none\" stroke=\"black\" d=\"M253.089,-23.4469C270.042,-23.4469 295.495,-23.4469 315.832,-23.4469\"/>\n",
       "<polygon fill=\"black\" stroke=\"black\" points=\"315.928,-26.947 325.927,-23.4469 315.927,-19.947 315.928,-26.947\"/>\n",
       "<text text-anchor=\"middle\" x=\"289.462\" y=\"-26.2469\" font-family=\"Times,serif\" font-size=\"14.00\">b, 1 ; &#39;&#39;</text>\n",
       "</g>\n",
       "<!-- S0&#45;&gt;S1 -->\n",
       "<g id=\"edge2\" class=\"edge\"><title>S0&#45;&gt;S1</title>\n",
       "<path fill=\"none\" stroke=\"black\" d=\"M130.103,-23.4469C149.806,-23.4469 181.118,-23.4469 203.942,-23.4469\"/>\n",
       "<polygon fill=\"black\" stroke=\"black\" points=\"204.069,-26.947 214.069,-23.4469 204.069,-19.947 204.069,-26.947\"/>\n",
       "<text text-anchor=\"middle\" x=\"171.997\" y=\"-26.2469\" font-family=\"Times,serif\" font-size=\"14.00\">a, Z ; 1Z</text>\n",
       "</g>\n",
       "<!-- S3 -->\n",
       "<g id=\"node4\" class=\"node\"><title>S3</title>\n",
       "<ellipse fill=\"none\" stroke=\"black\" cx=\"480.224\" cy=\"-23.4469\" rx=\"19.4029\" ry=\"19.4029\"/>\n",
       "<ellipse fill=\"none\" stroke=\"black\" cx=\"480.224\" cy=\"-23.4469\" rx=\"23.3939\" ry=\"23.3939\"/>\n",
       "<text text-anchor=\"middle\" x=\"480.224\" y=\"-19.2469\" font-family=\"Times,serif\" font-size=\"14.00\">S3</text>\n",
       "</g>\n",
       "<!-- S3&#45;&gt;S2 -->\n",
       "<g id=\"edge7\" class=\"edge\"><title>S3&#45;&gt;S2</title>\n",
       "<path fill=\"none\" stroke=\"black\" d=\"M459.209,-12.5595C452.863,-9.65448 445.694,-6.91645 438.777,-5.44687 417.929,-1.0174 411.67,-1.0174 390.823,-5.44687 387.148,-6.22759 383.403,-7.36629 379.747,-8.69784\"/>\n",
       "<polygon fill=\"black\" stroke=\"black\" points=\"378.299,-5.50905 370.39,-12.5595 380.969,-11.9796 378.299,-5.50905\"/>\n",
       "<text text-anchor=\"middle\" x=\"414.8\" y=\"-8.24687\" font-family=\"Times,serif\" font-size=\"14.00\">&#39;&#39;, &#39;&#39; ; 111</text>\n",
       "</g>\n",
       "<!-- S2&#45;&gt;S3 -->\n",
       "<g id=\"edge6\" class=\"edge\"><title>S2&#45;&gt;S3</title>\n",
       "<path fill=\"none\" stroke=\"black\" d=\"M373.115,-23.4469C393.447,-23.4469 423.486,-23.4469 446.418,-23.4469\"/>\n",
       "<polygon fill=\"black\" stroke=\"black\" points=\"446.712,-26.947 456.712,-23.4469 446.712,-19.947 446.712,-26.947\"/>\n",
       "<text text-anchor=\"middle\" x=\"414.8\" y=\"-26.2469\" font-family=\"Times,serif\" font-size=\"14.00\">&#39;&#39;, Z ; &#39;&#39;</text>\n",
       "</g>\n",
       "<!-- S2&#45;&gt;S2 -->\n",
       "<g id=\"edge5\" class=\"edge\"><title>S2&#45;&gt;S2</title>\n",
       "<path fill=\"none\" stroke=\"black\" d=\"M338.822,-44.7721C337.362,-55.4073 340.88,-64.8937 349.376,-64.8937 354.951,-64.8937 358.383,-60.8083 359.671,-54.9938\"/>\n",
       "<polygon fill=\"black\" stroke=\"black\" points=\"363.175,-54.8575 359.93,-44.7721 356.178,-54.6803 363.175,-54.8575\"/>\n",
       "<text text-anchor=\"middle\" x=\"349.376\" y=\"-67.6937\" font-family=\"Times,serif\" font-size=\"14.00\">b, 1 ; &#39;&#39;</text>\n",
       "</g>\n",
       "</g>\n",
       "</svg>\n"
      ],
      "text/plain": [
       "<graphviz.dot.Digraph at 0x10e719550>"
      ]
     },
     "execution_count": 28,
     "metadata": {},
     "output_type": "execute_result"
    }
   ],
   "source": [
    "dotObj_pda(Pev3)"
   ]
  },
  {
   "cell_type": "code",
   "execution_count": 29,
   "metadata": {
    "run_control": {
     "frozen": false,
     "read_only": false
    }
   },
   "outputs": [
    {
     "name": "stdout",
     "output_type": "stream",
     "text": [
      "String aabb accepted by your PDA in 3 ways :-) \n",
      "Here are the ways: \n",
      "Final state  ('S2', '', 'Z')\n",
      "Reached as follows:\n",
      "->  ('S0', 'aabb', 'Z')\n",
      "->  ('S1', 'abb', '1Z')\n",
      "->  ('S1', 'bb', '11Z')\n",
      "->  ('S2', 'b', '1Z')\n",
      "->  ('S2', '', 'Z') .\n",
      "Final state  ('S3', '', '')\n",
      "Reached as follows:\n",
      "->  ('S0', 'aabb', 'Z')\n",
      "->  ('S1', 'abb', '1Z')\n",
      "->  ('S1', 'bb', '11Z')\n",
      "->  ('S2', 'b', '1Z')\n",
      "->  ('S2', '', 'Z')\n",
      "->  ('S3', '', '') .\n",
      "Final state  ('S2', '', '111')\n",
      "Reached as follows:\n",
      "->  ('S0', 'aabb', 'Z')\n",
      "->  ('S1', 'abb', '1Z')\n",
      "->  ('S1', 'bb', '11Z')\n",
      "->  ('S2', 'b', '1Z')\n",
      "->  ('S2', '', 'Z')\n",
      "->  ('S3', '', '')\n",
      "->  ('S2', '', '111') .\n"
     ]
    }
   ],
   "source": [
    "# Acceptance at S2, but also continuing on, at S3 and back at S2 also\n",
    "explore_pda(\"aabb\", Pev3)"
   ]
  },
  {
   "cell_type": "code",
   "execution_count": 30,
   "metadata": {
    "run_control": {
     "frozen": false,
     "read_only": false
    }
   },
   "outputs": [
    {
     "name": "stdout",
     "output_type": "stream",
     "text": [
      "String aaabbb accepted by your PDA in 3 ways :-) \n",
      "Here are the ways: \n",
      "Final state  ('S2', '', 'Z')\n",
      "Reached as follows:\n",
      "->  ('S0', 'aaabbb', 'Z')\n",
      "->  ('S1', 'aabbb', '1Z')\n",
      "->  ('S1', 'abbb', '11Z')\n",
      "->  ('S1', 'bbb', '111Z')\n",
      "->  ('S2', 'bb', '11Z')\n",
      "->  ('S2', 'b', '1Z')\n",
      "->  ('S2', '', 'Z') .\n",
      "Final state  ('S3', '', '')\n",
      "Reached as follows:\n",
      "->  ('S0', 'aaabbb', 'Z')\n",
      "->  ('S1', 'aabbb', '1Z')\n",
      "->  ('S1', 'abbb', '11Z')\n",
      "->  ('S1', 'bbb', '111Z')\n",
      "->  ('S2', 'bb', '11Z')\n",
      "->  ('S2', 'b', '1Z')\n",
      "->  ('S2', '', 'Z')\n",
      "->  ('S3', '', '') .\n",
      "Final state  ('S2', '', '111')\n",
      "Reached as follows:\n",
      "->  ('S0', 'aaabbb', 'Z')\n",
      "->  ('S1', 'aabbb', '1Z')\n",
      "->  ('S1', 'abbb', '11Z')\n",
      "->  ('S1', 'bbb', '111Z')\n",
      "->  ('S2', 'bb', '11Z')\n",
      "->  ('S2', 'b', '1Z')\n",
      "->  ('S2', '', 'Z')\n",
      "->  ('S3', '', '')\n",
      "->  ('S2', '', '111') .\n"
     ]
    }
   ],
   "source": [
    "explore_pda(\"aaabbb\", Pev3)"
   ]
  },
  {
   "cell_type": "code",
   "execution_count": 31,
   "metadata": {
    "run_control": {
     "frozen": false,
     "read_only": false
    }
   },
   "outputs": [
    {
     "data": {
      "image/svg+xml": [
       "<?xml version=\"1.0\" encoding=\"UTF-8\" standalone=\"no\"?>\n",
       "<!DOCTYPE svg PUBLIC \"-//W3C//DTD SVG 1.1//EN\"\n",
       " \"http://www.w3.org/Graphics/SVG/1.1/DTD/svg11.dtd\">\n",
       "<!-- Generated by graphviz version 2.38.0 (20140413.2041)\n",
       " -->\n",
       "<!-- Title: %3 Pages: 1 -->\n",
       "<svg width=\"492pt\" height=\"83pt\"\n",
       " viewBox=\"0.00 0.00 492.25 82.89\" xmlns=\"http://www.w3.org/2000/svg\" xmlns:xlink=\"http://www.w3.org/1999/xlink\">\n",
       "<g id=\"graph0\" class=\"graph\" transform=\"scale(1 1) rotate(0) translate(4 78.8937)\">\n",
       "<title>%3</title>\n",
       "<polygon fill=\"white\" stroke=\"none\" points=\"-4,4 -4,-78.8937 488.248,-78.8937 488.248,4 -4,4\"/>\n",
       "<!-- EMPTY -->\n",
       "<g id=\"node1\" class=\"node\"><title>EMPTY</title>\n",
       "</g>\n",
       "<!-- S0 -->\n",
       "<g id=\"node4\" class=\"node\"><title>S0</title>\n",
       "<ellipse fill=\"none\" stroke=\"black\" cx=\"110.447\" cy=\"-23.4469\" rx=\"19.3939\" ry=\"19.3939\"/>\n",
       "<text text-anchor=\"middle\" x=\"110.447\" y=\"-19.2469\" font-family=\"Times,serif\" font-size=\"14.00\">S0</text>\n",
       "</g>\n",
       "<!-- EMPTY&#45;&gt;S0 -->\n",
       "<g id=\"edge1\" class=\"edge\"><title>EMPTY&#45;&gt;S0</title>\n",
       "<path fill=\"none\" stroke=\"black\" d=\"M54.2186,-23.4469C62.6822,-23.4469 72.1072,-23.4469 80.7407,-23.4469\"/>\n",
       "<polygon fill=\"black\" stroke=\"black\" points=\"80.7613,-26.947 90.7613,-23.4469 80.7613,-19.947 80.7613,-26.947\"/>\n",
       "</g>\n",
       "<!-- S1 -->\n",
       "<g id=\"node2\" class=\"node\"><title>S1</title>\n",
       "<ellipse fill=\"none\" stroke=\"black\" cx=\"233.548\" cy=\"-23.4469\" rx=\"19.3939\" ry=\"19.3939\"/>\n",
       "<text text-anchor=\"middle\" x=\"233.548\" y=\"-19.2469\" font-family=\"Times,serif\" font-size=\"14.00\">S1</text>\n",
       "</g>\n",
       "<!-- S1&#45;&gt;S1 -->\n",
       "<g id=\"edge3\" class=\"edge\"><title>S1&#45;&gt;S1</title>\n",
       "<path fill=\"none\" stroke=\"black\" d=\"M224.055,-40.7807C221.946,-51.1419 225.11,-60.8937 233.548,-60.8937 239.085,-60.8937 242.351,-56.694 243.346,-50.8783\"/>\n",
       "<polygon fill=\"black\" stroke=\"black\" points=\"246.841,-50.6701 243.04,-40.7807 239.844,-50.8821 246.841,-50.6701\"/>\n",
       "<text text-anchor=\"middle\" x=\"233.548\" y=\"-63.6937\" font-family=\"Times,serif\" font-size=\"14.00\">a, 1 ; 11</text>\n",
       "</g>\n",
       "<!-- S2 -->\n",
       "<g id=\"node3\" class=\"node\"><title>S2</title>\n",
       "<ellipse fill=\"none\" stroke=\"black\" cx=\"345.376\" cy=\"-23.4469\" rx=\"19.3939\" ry=\"19.3939\"/>\n",
       "<text text-anchor=\"middle\" x=\"345.376\" y=\"-19.2469\" font-family=\"Times,serif\" font-size=\"14.00\">S2</text>\n",
       "</g>\n",
       "<!-- S1&#45;&gt;S2 -->\n",
       "<g id=\"edge4\" class=\"edge\"><title>S1&#45;&gt;S2</title>\n",
       "<path fill=\"none\" stroke=\"black\" d=\"M253.179,-23.4469C270.219,-23.4469 295.696,-23.4469 315.395,-23.4469\"/>\n",
       "<polygon fill=\"black\" stroke=\"black\" points=\"315.654,-26.947 325.654,-23.4469 315.654,-19.947 315.654,-26.947\"/>\n",
       "<text text-anchor=\"middle\" x=\"289.462\" y=\"-26.2469\" font-family=\"Times,serif\" font-size=\"14.00\">b, 1 ; &#39;&#39;</text>\n",
       "</g>\n",
       "<!-- S2&#45;&gt;S2 -->\n",
       "<g id=\"edge5\" class=\"edge\"><title>S2&#45;&gt;S2</title>\n",
       "<path fill=\"none\" stroke=\"black\" d=\"M335.884,-40.7807C333.774,-51.1419 336.938,-60.8937 345.376,-60.8937 350.913,-60.8937 354.179,-56.694 355.174,-50.8783\"/>\n",
       "<polygon fill=\"black\" stroke=\"black\" points=\"358.669,-50.6701 354.868,-40.7807 351.673,-50.8821 358.669,-50.6701\"/>\n",
       "<text text-anchor=\"middle\" x=\"345.376\" y=\"-63.6937\" font-family=\"Times,serif\" font-size=\"14.00\">b, 1 ; &#39;&#39;</text>\n",
       "</g>\n",
       "<!-- S3 -->\n",
       "<g id=\"node5\" class=\"node\"><title>S3</title>\n",
       "<ellipse fill=\"none\" stroke=\"black\" cx=\"460.801\" cy=\"-23.4469\" rx=\"19.4029\" ry=\"19.4029\"/>\n",
       "<ellipse fill=\"none\" stroke=\"black\" cx=\"460.801\" cy=\"-23.4469\" rx=\"23.3939\" ry=\"23.3939\"/>\n",
       "<text text-anchor=\"middle\" x=\"460.801\" y=\"-19.2469\" font-family=\"Times,serif\" font-size=\"14.00\">S3</text>\n",
       "</g>\n",
       "<!-- S2&#45;&gt;S3 -->\n",
       "<g id=\"edge6\" class=\"edge\"><title>S2&#45;&gt;S3</title>\n",
       "<path fill=\"none\" stroke=\"black\" d=\"M364.852,-23.4469C381.637,-23.4469 406.787,-23.4469 426.986,-23.4469\"/>\n",
       "<polygon fill=\"black\" stroke=\"black\" points=\"427.028,-26.947 437.028,-23.4469 427.028,-19.947 427.028,-26.947\"/>\n",
       "<text text-anchor=\"middle\" x=\"401.088\" y=\"-26.2469\" font-family=\"Times,serif\" font-size=\"14.00\">&#39;&#39;, Z ; &#39;&#39;</text>\n",
       "</g>\n",
       "<!-- S0&#45;&gt;S1 -->\n",
       "<g id=\"edge2\" class=\"edge\"><title>S0&#45;&gt;S1</title>\n",
       "<path fill=\"none\" stroke=\"black\" d=\"M130.103,-23.4469C149.806,-23.4469 181.118,-23.4469 203.942,-23.4469\"/>\n",
       "<polygon fill=\"black\" stroke=\"black\" points=\"204.069,-26.947 214.069,-23.4469 204.069,-19.947 204.069,-26.947\"/>\n",
       "<text text-anchor=\"middle\" x=\"171.997\" y=\"-26.2469\" font-family=\"Times,serif\" font-size=\"14.00\">a, Z ; 1Z</text>\n",
       "</g>\n",
       "</g>\n",
       "</svg>\n"
      ],
      "text/plain": [
       "<graphviz.dot.Digraph at 0x10e719908>"
      ]
     },
     "execution_count": 31,
     "metadata": {},
     "output_type": "execute_result"
    }
   ],
   "source": [
    "dotObj_pda(Pev)"
   ]
  },
  {
   "cell_type": "code",
   "execution_count": 32,
   "metadata": {
    "run_control": {
     "frozen": false,
     "read_only": false
    }
   },
   "outputs": [
    {
     "name": "stdout",
     "output_type": "stream",
     "text": [
      "String aaaabbb rejected by your PDA :-(\n",
      "Visited states are:\n",
      "{('S1', 'aaabbb', '1Z'), ('S1', 'bbb', '1111Z'), ('S0', 'aaaabbb', 'Z'), ('S1', 'abbb', '111Z'), ('S2', 'b', '11Z'), ('S2', 'bb', '111Z'), ('S1', 'aabbb', '11Z'), ('S2', '', '1Z')}\n"
     ]
    }
   ],
   "source": [
    "# Rejection because of mismatched lengths of a's and b's\n",
    "explore_pda(\"aaaabbb\", Pev)"
   ]
  },
  {
   "cell_type": "code",
   "execution_count": 33,
   "metadata": {
    "run_control": {
     "frozen": false,
     "read_only": false
    }
   },
   "outputs": [
    {
     "name": "stdout",
     "output_type": "stream",
     "text": [
      "String aaaabbbb accepted by your PDA in 1 ways :-) \n",
      "Here are the ways: \n",
      "Final state  ('S3', '', '')\n",
      "Reached as follows:\n",
      "->  ('S0', 'aaaabbbb', 'Z')\n",
      "->  ('S1', 'aaabbbb', '1Z')\n",
      "->  ('S1', 'aabbbb', '11Z')\n",
      "->  ('S1', 'abbbb', '111Z')\n",
      "->  ('S1', 'bbbb', '1111Z')\n",
      "->  ('S2', 'bbb', '111Z')\n",
      "->  ('S2', 'bb', '11Z')\n",
      "->  ('S2', 'b', '1Z')\n",
      "->  ('S2', '', 'Z')\n",
      "->  ('S3', '', '') .\n"
     ]
    }
   ],
   "source": [
    "explore_pda(\"aaaabbbb\", Pev1)"
   ]
  },
  {
   "cell_type": "code",
   "execution_count": 34,
   "metadata": {
    "run_control": {
     "frozen": false,
     "read_only": false
    }
   },
   "outputs": [
    {
     "name": "stdout",
     "output_type": "stream",
     "text": [
      "String aaaabbbb rejected by your PDA :-(\n",
      "Visited states are:\n",
      "{('S1', 'aabbbb', '11Z'), ('S0', 'aaaabbbb', 'Z'), ('S1', 'aaabbbb', '1Z'), ('S2', '', '111'), ('S2', '', 'Z'), ('S3', '', ''), ('S2', 'b', '1Z'), ('S1', 'abbbb', '111Z'), ('S2', 'bbb', '111Z'), ('S2', 'bb', '11Z'), ('S1', 'bbbb', '1111Z')}\n"
     ]
    }
   ],
   "source": [
    "explore_pda(\"aaaabbbb\", Pev2)"
   ]
  },
  {
   "cell_type": "code",
   "execution_count": 35,
   "metadata": {
    "run_control": {
     "frozen": false,
     "read_only": false
    }
   },
   "outputs": [
    {
     "data": {
      "image/svg+xml": [
       "<?xml version=\"1.0\" encoding=\"UTF-8\" standalone=\"no\"?>\n",
       "<!DOCTYPE svg PUBLIC \"-//W3C//DTD SVG 1.1//EN\"\n",
       " \"http://www.w3.org/Graphics/SVG/1.1/DTD/svg11.dtd\">\n",
       "<!-- Generated by graphviz version 2.38.0 (20140413.2041)\n",
       " -->\n",
       "<!-- Title: %3 Pages: 1 -->\n",
       "<svg width=\"496pt\" height=\"81pt\"\n",
       " viewBox=\"0.00 0.00 495.67 81.08\" xmlns=\"http://www.w3.org/2000/svg\" xmlns:xlink=\"http://www.w3.org/1999/xlink\">\n",
       "<g id=\"graph0\" class=\"graph\" transform=\"scale(1 1) rotate(0) translate(4 77.0811)\">\n",
       "<title>%3</title>\n",
       "<polygon fill=\"white\" stroke=\"none\" points=\"-4,4 -4,-77.0811 491.671,-77.0811 491.671,4 -4,4\"/>\n",
       "<!-- EMPTY -->\n",
       "<g id=\"node1\" class=\"node\"><title>EMPTY</title>\n",
       "</g>\n",
       "<!-- S0 -->\n",
       "<g id=\"node5\" class=\"node\"><title>S0</title>\n",
       "<ellipse fill=\"none\" stroke=\"black\" cx=\"110.447\" cy=\"-21.6343\" rx=\"19.3939\" ry=\"19.3939\"/>\n",
       "<text text-anchor=\"middle\" x=\"110.447\" y=\"-17.4343\" font-family=\"Times,serif\" font-size=\"14.00\">S0</text>\n",
       "</g>\n",
       "<!-- EMPTY&#45;&gt;S0 -->\n",
       "<g id=\"edge1\" class=\"edge\"><title>EMPTY&#45;&gt;S0</title>\n",
       "<path fill=\"none\" stroke=\"black\" d=\"M54.2186,-21.6343C62.6822,-21.6343 72.1072,-21.6343 80.7407,-21.6343\"/>\n",
       "<polygon fill=\"black\" stroke=\"black\" points=\"80.7613,-25.1344 90.7613,-21.6343 80.7613,-18.1344 80.7613,-25.1344\"/>\n",
       "</g>\n",
       "<!-- S3 -->\n",
       "<g id=\"node2\" class=\"node\"><title>S3</title>\n",
       "<ellipse fill=\"none\" stroke=\"black\" cx=\"468.224\" cy=\"-21.6343\" rx=\"19.3939\" ry=\"19.3939\"/>\n",
       "<text text-anchor=\"middle\" x=\"468.224\" y=\"-17.4343\" font-family=\"Times,serif\" font-size=\"14.00\">S3</text>\n",
       "</g>\n",
       "<!-- S2 -->\n",
       "<g id=\"node4\" class=\"node\"><title>S2</title>\n",
       "<ellipse fill=\"none\" stroke=\"black\" cx=\"345.376\" cy=\"-21.6343\" rx=\"19.3939\" ry=\"19.3939\"/>\n",
       "<text text-anchor=\"middle\" x=\"345.376\" y=\"-17.4343\" font-family=\"Times,serif\" font-size=\"14.00\">S2</text>\n",
       "</g>\n",
       "<!-- S3&#45;&gt;S2 -->\n",
       "<g id=\"edge7\" class=\"edge\"><title>S3&#45;&gt;S2</title>\n",
       "<path fill=\"none\" stroke=\"black\" d=\"M451.134,-11.7066C444.997,-8.46087 437.787,-5.27089 430.777,-3.63428 410.022,1.21143 403.578,1.21143 382.823,-3.63428 379.099,-4.50373 375.318,-5.81158 371.672,-7.33329\"/>\n",
       "<polygon fill=\"black\" stroke=\"black\" points=\"369.996,-4.25446 362.465,-11.7066 373,-10.5774 369.996,-4.25446\"/>\n",
       "<text text-anchor=\"middle\" x=\"406.8\" y=\"-6.43428\" font-family=\"Times,serif\" font-size=\"14.00\">&#39;&#39;, &#39;&#39; ; 111</text>\n",
       "</g>\n",
       "<!-- S1 -->\n",
       "<g id=\"node3\" class=\"node\"><title>S1</title>\n",
       "<ellipse fill=\"none\" stroke=\"black\" cx=\"233.548\" cy=\"-21.6343\" rx=\"19.3939\" ry=\"19.3939\"/>\n",
       "<text text-anchor=\"middle\" x=\"233.548\" y=\"-17.4343\" font-family=\"Times,serif\" font-size=\"14.00\">S1</text>\n",
       "</g>\n",
       "<!-- S1&#45;&gt;S1 -->\n",
       "<g id=\"edge3\" class=\"edge\"><title>S1&#45;&gt;S1</title>\n",
       "<path fill=\"none\" stroke=\"black\" d=\"M224.055,-38.9681C221.946,-49.3294 225.11,-59.0811 233.548,-59.0811 239.085,-59.0811 242.351,-54.8814 243.346,-49.0657\"/>\n",
       "<polygon fill=\"black\" stroke=\"black\" points=\"246.841,-48.8575 243.04,-38.9681 239.844,-49.0695 246.841,-48.8575\"/>\n",
       "<text text-anchor=\"middle\" x=\"233.548\" y=\"-61.8811\" font-family=\"Times,serif\" font-size=\"14.00\">a, 1 ; 11</text>\n",
       "</g>\n",
       "<!-- S1&#45;&gt;S2 -->\n",
       "<g id=\"edge4\" class=\"edge\"><title>S1&#45;&gt;S2</title>\n",
       "<path fill=\"none\" stroke=\"black\" d=\"M253.179,-21.6343C270.219,-21.6343 295.696,-21.6343 315.395,-21.6343\"/>\n",
       "<polygon fill=\"black\" stroke=\"black\" points=\"315.654,-25.1344 325.654,-21.6343 315.654,-18.1344 315.654,-25.1344\"/>\n",
       "<text text-anchor=\"middle\" x=\"289.462\" y=\"-24.4343\" font-family=\"Times,serif\" font-size=\"14.00\">b, 1 ; &#39;&#39;</text>\n",
       "</g>\n",
       "<!-- S2&#45;&gt;S3 -->\n",
       "<g id=\"edge6\" class=\"edge\"><title>S2&#45;&gt;S3</title>\n",
       "<path fill=\"none\" stroke=\"black\" d=\"M364.994,-21.6343C384.541,-21.6343 415.538,-21.6343 438.28,-21.6343\"/>\n",
       "<polygon fill=\"black\" stroke=\"black\" points=\"438.386,-25.1344 448.386,-21.6343 438.386,-18.1344 438.386,-25.1344\"/>\n",
       "<text text-anchor=\"middle\" x=\"406.8\" y=\"-24.4343\" font-family=\"Times,serif\" font-size=\"14.00\">&#39;&#39;, Z ; &#39;&#39;</text>\n",
       "</g>\n",
       "<!-- S2&#45;&gt;S2 -->\n",
       "<g id=\"edge5\" class=\"edge\"><title>S2&#45;&gt;S2</title>\n",
       "<path fill=\"none\" stroke=\"black\" d=\"M335.884,-38.9681C333.774,-49.3294 336.938,-59.0811 345.376,-59.0811 350.913,-59.0811 354.179,-54.8814 355.174,-49.0657\"/>\n",
       "<polygon fill=\"black\" stroke=\"black\" points=\"358.669,-48.8575 354.868,-38.9681 351.673,-49.0695 358.669,-48.8575\"/>\n",
       "<text text-anchor=\"middle\" x=\"345.376\" y=\"-61.8811\" font-family=\"Times,serif\" font-size=\"14.00\">b, 1 ; &#39;&#39;</text>\n",
       "</g>\n",
       "<!-- S0&#45;&gt;S1 -->\n",
       "<g id=\"edge2\" class=\"edge\"><title>S0&#45;&gt;S1</title>\n",
       "<path fill=\"none\" stroke=\"black\" d=\"M130.103,-21.6343C149.806,-21.6343 181.118,-21.6343 203.942,-21.6343\"/>\n",
       "<polygon fill=\"black\" stroke=\"black\" points=\"204.069,-25.1344 214.069,-21.6343 204.069,-18.1344 204.069,-25.1344\"/>\n",
       "<text text-anchor=\"middle\" x=\"171.997\" y=\"-24.4343\" font-family=\"Times,serif\" font-size=\"14.00\">a, Z ; 1Z</text>\n",
       "</g>\n",
       "</g>\n",
       "</svg>\n"
      ],
      "text/plain": [
       "<graphviz.dot.Digraph at 0x10e719c88>"
      ]
     },
     "execution_count": 35,
     "metadata": {},
     "output_type": "execute_result"
    }
   ],
   "source": [
    "dotObj_pda(Pev2)"
   ]
  },
  {
   "cell_type": "code",
   "execution_count": 36,
   "metadata": {
    "run_control": {
     "frozen": false,
     "read_only": false
    }
   },
   "outputs": [],
   "source": [
    "F27sip = {\"Sigma\" : {'a','b','c'},\n",
    "        \"Q\"     : {\"q1\",\"q2\",\"q3\",\"q4\",\"q5\",\"q6\",\"q7\"},\n",
    "        \"Gamma\" : {'a','b','c','$'},\n",
    "        \"Delta\" : {('q1','','')  : { ('q2','$')},\n",
    "                   \n",
    "                   ('q2','a',''): { ('q2','a') },\n",
    "                   ('q2','',''): { ('q3',''), ('q5','') },\n",
    "                   \n",
    "                   ('q3','b','a'): { ('q3','') },\n",
    "                   ('q3','','$'): { ('q4','') },\n",
    "                   \n",
    "                   ('q4','c',''): { ('q4','') },\n",
    "                   \n",
    "                   ('q5','b',''): { ('q5','') },\n",
    "                   ('q5','',''): { ('q6','') },\n",
    "                   \n",
    "                   ('q6','c','a'): { ('q6','') },\n",
    "                   ('q6','','$'): { ('q7','') }\n",
    "                  },\n",
    "        \"q0\"    : \"q1\",\n",
    "        \"z0\"    : \"$\",\n",
    "        \"F\"     : {'q4','q7'} }\n",
    "chk_consistent_pda(F27sip)"
   ]
  },
  {
   "cell_type": "code",
   "execution_count": 37,
   "metadata": {
    "run_control": {
     "frozen": false,
     "read_only": false
    }
   },
   "outputs": [
    {
     "data": {
      "image/svg+xml": [
       "<?xml version=\"1.0\" encoding=\"UTF-8\" standalone=\"no\"?>\n",
       "<!DOCTYPE svg PUBLIC \"-//W3C//DTD SVG 1.1//EN\"\n",
       " \"http://www.w3.org/Graphics/SVG/1.1/DTD/svg11.dtd\">\n",
       "<!-- Generated by graphviz version 2.38.0 (20140413.2041)\n",
       " -->\n",
       "<!-- Title: %3 Pages: 1 -->\n",
       "<svg width=\"586pt\" height=\"178pt\"\n",
       " viewBox=\"0.00 0.00 586.47 177.90\" xmlns=\"http://www.w3.org/2000/svg\" xmlns:xlink=\"http://www.w3.org/1999/xlink\">\n",
       "<g id=\"graph0\" class=\"graph\" transform=\"scale(1 1) rotate(0) translate(4 173.901)\">\n",
       "<title>%3</title>\n",
       "<polygon fill=\"white\" stroke=\"none\" points=\"-4,4 -4,-173.901 582.466,-173.901 582.466,4 -4,4\"/>\n",
       "<!-- EMPTY -->\n",
       "<g id=\"node1\" class=\"node\"><title>EMPTY</title>\n",
       "</g>\n",
       "<!-- q1 -->\n",
       "<g id=\"node3\" class=\"node\"><title>q1</title>\n",
       "<ellipse fill=\"none\" stroke=\"black\" cx=\"109.95\" cy=\"-74.9503\" rx=\"18.9007\" ry=\"18.9007\"/>\n",
       "<text text-anchor=\"middle\" x=\"109.95\" y=\"-70.7503\" font-family=\"Times,serif\" font-size=\"14.00\">q1</text>\n",
       "</g>\n",
       "<!-- EMPTY&#45;&gt;q1 -->\n",
       "<g id=\"edge1\" class=\"edge\"><title>EMPTY&#45;&gt;q1</title>\n",
       "<path fill=\"none\" stroke=\"black\" d=\"M54.0588,-74.9503C62.6021,-74.9503 72.1312,-74.9503 80.8208,-74.9503\"/>\n",
       "<polygon fill=\"black\" stroke=\"black\" points=\"80.8811,-78.4504 90.8811,-74.9503 80.881,-71.4504 80.8811,-78.4504\"/>\n",
       "</g>\n",
       "<!-- q3 -->\n",
       "<g id=\"node2\" class=\"node\"><title>q3</title>\n",
       "<ellipse fill=\"none\" stroke=\"black\" cx=\"325.755\" cy=\"-112.95\" rx=\"18.9007\" ry=\"18.9007\"/>\n",
       "<text text-anchor=\"middle\" x=\"325.755\" y=\"-108.75\" font-family=\"Times,serif\" font-size=\"14.00\">q3</text>\n",
       "</g>\n",
       "<!-- q3&#45;&gt;q3 -->\n",
       "<g id=\"edge6\" class=\"edge\"><title>q3&#45;&gt;q3</title>\n",
       "<path fill=\"none\" stroke=\"black\" d=\"M316.693,-129.671C314.508,-140.036 317.529,-149.901 325.755,-149.901 331.154,-149.901 334.311,-145.652 335.225,-139.802\"/>\n",
       "<polygon fill=\"black\" stroke=\"black\" points=\"338.717,-139.522 334.817,-129.671 331.723,-139.803 338.717,-139.522\"/>\n",
       "<text text-anchor=\"middle\" x=\"325.755\" y=\"-152.701\" font-family=\"Times,serif\" font-size=\"14.00\">b, a ; &#39;&#39;</text>\n",
       "</g>\n",
       "<!-- q4 -->\n",
       "<g id=\"node7\" class=\"node\"><title>q4</title>\n",
       "<ellipse fill=\"none\" stroke=\"black\" cx=\"438.635\" cy=\"-114.95\" rx=\"18.9093\" ry=\"18.9093\"/>\n",
       "<ellipse fill=\"none\" stroke=\"black\" cx=\"438.635\" cy=\"-114.95\" rx=\"22.9007\" ry=\"22.9007\"/>\n",
       "<text text-anchor=\"middle\" x=\"438.635\" y=\"-110.75\" font-family=\"Times,serif\" font-size=\"14.00\">q4</text>\n",
       "</g>\n",
       "<!-- q3&#45;&gt;q4 -->\n",
       "<g id=\"edge7\" class=\"edge\"><title>q3&#45;&gt;q4</title>\n",
       "<path fill=\"none\" stroke=\"black\" d=\"M345.065,-113.281C361.437,-113.576 385.803,-114.015 405.428,-114.369\"/>\n",
       "<polygon fill=\"black\" stroke=\"black\" points=\"405.415,-117.87 415.476,-114.551 405.541,-110.871 405.415,-117.87\"/>\n",
       "<text text-anchor=\"middle\" x=\"380.195\" y=\"-116.75\" font-family=\"Times,serif\" font-size=\"14.00\">&#39;&#39;, $ ; &#39;&#39;</text>\n",
       "</g>\n",
       "<!-- q2 -->\n",
       "<g id=\"node5\" class=\"node\"><title>q2</title>\n",
       "<ellipse fill=\"none\" stroke=\"black\" cx=\"218.83\" cy=\"-74.9503\" rx=\"18.9007\" ry=\"18.9007\"/>\n",
       "<text text-anchor=\"middle\" x=\"218.83\" y=\"-70.7503\" font-family=\"Times,serif\" font-size=\"14.00\">q2</text>\n",
       "</g>\n",
       "<!-- q1&#45;&gt;q2 -->\n",
       "<g id=\"edge2\" class=\"edge\"><title>q1&#45;&gt;q2</title>\n",
       "<path fill=\"none\" stroke=\"black\" d=\"M129.081,-74.9503C145.587,-74.9503 170.228,-74.9503 189.361,-74.9503\"/>\n",
       "<polygon fill=\"black\" stroke=\"black\" points=\"189.611,-78.4504 199.611,-74.9503 189.611,-71.4504 189.611,-78.4504\"/>\n",
       "<text text-anchor=\"middle\" x=\"164.39\" y=\"-77.7503\" font-family=\"Times,serif\" font-size=\"14.00\">&#39;&#39;, &#39;&#39; ; $</text>\n",
       "</g>\n",
       "<!-- q6 -->\n",
       "<g id=\"node4\" class=\"node\"><title>q6</title>\n",
       "<ellipse fill=\"none\" stroke=\"black\" cx=\"438.635\" cy=\"-22.9503\" rx=\"18.9007\" ry=\"18.9007\"/>\n",
       "<text text-anchor=\"middle\" x=\"438.635\" y=\"-18.7503\" font-family=\"Times,serif\" font-size=\"14.00\">q6</text>\n",
       "</g>\n",
       "<!-- q6&#45;&gt;q6 -->\n",
       "<g id=\"edge11\" class=\"edge\"><title>q6&#45;&gt;q6</title>\n",
       "<path fill=\"none\" stroke=\"black\" d=\"M428.621,-39.2864C426.008,-49.791 429.346,-59.9006 438.635,-59.9006 444.731,-59.9006 448.264,-55.5467 449.235,-49.5846\"/>\n",
       "<polygon fill=\"black\" stroke=\"black\" points=\"452.711,-49.0719 448.65,-39.2864 445.723,-49.4688 452.711,-49.0719\"/>\n",
       "<text text-anchor=\"middle\" x=\"438.635\" y=\"-62.7006\" font-family=\"Times,serif\" font-size=\"14.00\">c, a ; &#39;&#39;</text>\n",
       "</g>\n",
       "<!-- q7 -->\n",
       "<g id=\"node8\" class=\"node\"><title>q7</title>\n",
       "<ellipse fill=\"none\" stroke=\"black\" cx=\"555.515\" cy=\"-22.9503\" rx=\"18.9093\" ry=\"18.9093\"/>\n",
       "<ellipse fill=\"none\" stroke=\"black\" cx=\"555.515\" cy=\"-22.9503\" rx=\"22.9007\" ry=\"22.9007\"/>\n",
       "<text text-anchor=\"middle\" x=\"555.515\" y=\"-18.7503\" font-family=\"Times,serif\" font-size=\"14.00\">q7</text>\n",
       "</g>\n",
       "<!-- q6&#45;&gt;q7 -->\n",
       "<g id=\"edge12\" class=\"edge\"><title>q6&#45;&gt;q7</title>\n",
       "<path fill=\"none\" stroke=\"black\" d=\"M457.838,-22.9503C475.158,-22.9503 501.594,-22.9503 522.447,-22.9503\"/>\n",
       "<polygon fill=\"black\" stroke=\"black\" points=\"522.467,-26.4504 532.467,-22.9503 522.467,-19.4504 522.467,-26.4504\"/>\n",
       "<text text-anchor=\"middle\" x=\"497.075\" y=\"-25.7503\" font-family=\"Times,serif\" font-size=\"14.00\">&#39;&#39;, $ ; &#39;&#39;</text>\n",
       "</g>\n",
       "<!-- q2&#45;&gt;q3 -->\n",
       "<g id=\"edge5\" class=\"edge\"><title>q2&#45;&gt;q3</title>\n",
       "<path fill=\"none\" stroke=\"black\" d=\"M237.157,-81.2252C253.734,-87.2291 278.975,-96.3704 298.111,-103.301\"/>\n",
       "<polygon fill=\"black\" stroke=\"black\" points=\"297.157,-106.678 307.752,-106.792 299.541,-100.096 297.157,-106.678\"/>\n",
       "<text text-anchor=\"middle\" x=\"272.293\" y=\"-101.75\" font-family=\"Times,serif\" font-size=\"14.00\">&#39;&#39;, &#39;&#39; ; &#39;&#39;</text>\n",
       "</g>\n",
       "<!-- q2&#45;&gt;q2 -->\n",
       "<g id=\"edge3\" class=\"edge\"><title>q2&#45;&gt;q2</title>\n",
       "<path fill=\"none\" stroke=\"black\" d=\"M209.768,-91.6706C207.583,-102.036 210.604,-111.901 218.83,-111.901 224.229,-111.901 227.386,-107.652 228.3,-101.802\"/>\n",
       "<polygon fill=\"black\" stroke=\"black\" points=\"231.792,-101.522 227.892,-91.6706 224.798,-101.803 231.792,-101.522\"/>\n",
       "<text text-anchor=\"middle\" x=\"218.83\" y=\"-114.701\" font-family=\"Times,serif\" font-size=\"14.00\">a, &#39;&#39; ; a</text>\n",
       "</g>\n",
       "<!-- q5 -->\n",
       "<g id=\"node6\" class=\"node\"><title>q5</title>\n",
       "<ellipse fill=\"none\" stroke=\"black\" cx=\"325.755\" cy=\"-24.9503\" rx=\"18.9007\" ry=\"18.9007\"/>\n",
       "<text text-anchor=\"middle\" x=\"325.755\" y=\"-20.7503\" font-family=\"Times,serif\" font-size=\"14.00\">q5</text>\n",
       "</g>\n",
       "<!-- q2&#45;&gt;q5 -->\n",
       "<g id=\"edge4\" class=\"edge\"><title>q2&#45;&gt;q5</title>\n",
       "<path fill=\"none\" stroke=\"black\" d=\"M236.225,-67.1378C252.989,-59.1491 279.277,-46.6221 298.858,-37.2913\"/>\n",
       "<polygon fill=\"black\" stroke=\"black\" points=\"300.608,-40.3344 308.13,-32.8729 297.597,-34.0152 300.608,-40.3344\"/>\n",
       "<text text-anchor=\"middle\" x=\"272.293\" y=\"-60.7503\" font-family=\"Times,serif\" font-size=\"14.00\">&#39;&#39;, &#39;&#39; ; &#39;&#39;</text>\n",
       "</g>\n",
       "<!-- q5&#45;&gt;q6 -->\n",
       "<g id=\"edge10\" class=\"edge\"><title>q5&#45;&gt;q6</title>\n",
       "<path fill=\"none\" stroke=\"black\" d=\"M345.065,-24.62C362.584,-24.304 389.257,-23.8229 409.479,-23.4582\"/>\n",
       "<polygon fill=\"black\" stroke=\"black\" points=\"409.731,-26.9543 419.667,-23.2744 409.605,-19.9554 409.731,-26.9543\"/>\n",
       "<text text-anchor=\"middle\" x=\"380.195\" y=\"-27.7503\" font-family=\"Times,serif\" font-size=\"14.00\">&#39;&#39;, &#39;&#39; ; &#39;&#39;</text>\n",
       "</g>\n",
       "<!-- q5&#45;&gt;q5 -->\n",
       "<g id=\"edge9\" class=\"edge\"><title>q5&#45;&gt;q5</title>\n",
       "<path fill=\"none\" stroke=\"black\" d=\"M316.693,-41.6706C314.508,-52.036 317.529,-61.9006 325.755,-61.9006 331.154,-61.9006 334.311,-57.6523 335.225,-51.802\"/>\n",
       "<polygon fill=\"black\" stroke=\"black\" points=\"338.717,-51.5216 334.817,-41.6706 331.723,-51.8033 338.717,-51.5216\"/>\n",
       "<text text-anchor=\"middle\" x=\"325.755\" y=\"-64.7006\" font-family=\"Times,serif\" font-size=\"14.00\">b, &#39;&#39; ; &#39;&#39;</text>\n",
       "</g>\n",
       "<!-- q4&#45;&gt;q4 -->\n",
       "<g id=\"edge8\" class=\"edge\"><title>q4&#45;&gt;q4</title>\n",
       "<path fill=\"none\" stroke=\"black\" d=\"M428.143,-135.599C426.528,-146.276 430.026,-155.901 438.635,-155.901 444.285,-155.901 447.734,-151.756 448.981,-145.889\"/>\n",
       "<polygon fill=\"black\" stroke=\"black\" points=\"452.484,-145.648 449.128,-135.599 445.485,-145.548 452.484,-145.648\"/>\n",
       "<text text-anchor=\"middle\" x=\"438.635\" y=\"-158.701\" font-family=\"Times,serif\" font-size=\"14.00\">c, &#39;&#39; ; &#39;&#39;</text>\n",
       "</g>\n",
       "</g>\n",
       "</svg>\n"
      ],
      "text/plain": [
       "<graphviz.dot.Digraph at 0x10e7330f0>"
      ]
     },
     "execution_count": 37,
     "metadata": {},
     "output_type": "execute_result"
    }
   ],
   "source": [
    "dotObj_pda(F27sip)"
   ]
  },
  {
   "cell_type": "code",
   "execution_count": 38,
   "metadata": {
    "run_control": {
     "frozen": false,
     "read_only": false
    }
   },
   "outputs": [],
   "source": [
    "wwr = {\"Sigma\" : {'0','1'},\n",
    "        \"Q\"     : {'q1','q2','q3','q4'},\n",
    "        \"Gamma\" : {'0','1','$'},\n",
    "        \"Delta\" : {('q1','',''): {('q2','$')},\n",
    "                   ('q2','0',''): {('q2','0')},  \n",
    "                   ('q2','1',''): {('q2','1')}, \n",
    "                   ('q2','',''): {('q3','')}, \n",
    "                   ('q3','0','0'): {('q3','')},\n",
    "                   ('q3','1','1'): {('q3','')},\n",
    "                   ('q3','','$') : {('q4','')}\n",
    "                  },\n",
    "        \"q0\"    : \"q1\",\n",
    "        \"z0\"    : \"$\",\n",
    "        \"F\"     : {'q1','q4'} }\n",
    "chk_consistent_pda(wwr)"
   ]
  },
  {
   "cell_type": "code",
   "execution_count": 39,
   "metadata": {
    "run_control": {
     "frozen": false,
     "read_only": false
    }
   },
   "outputs": [
    {
     "data": {
      "image/svg+xml": [
       "<?xml version=\"1.0\" encoding=\"UTF-8\" standalone=\"no\"?>\n",
       "<!DOCTYPE svg PUBLIC \"-//W3C//DTD SVG 1.1//EN\"\n",
       " \"http://www.w3.org/Graphics/SVG/1.1/DTD/svg11.dtd\">\n",
       "<!-- Generated by graphviz version 2.38.0 (20140413.2041)\n",
       " -->\n",
       "<!-- Title: %3 Pages: 1 -->\n",
       "<svg width=\"478pt\" height=\"114pt\"\n",
       " viewBox=\"0.00 0.00 477.59 113.90\" xmlns=\"http://www.w3.org/2000/svg\" xmlns:xlink=\"http://www.w3.org/1999/xlink\">\n",
       "<g id=\"graph0\" class=\"graph\" transform=\"scale(1 1) rotate(0) translate(4 109.901)\">\n",
       "<title>%3</title>\n",
       "<polygon fill=\"white\" stroke=\"none\" points=\"-4,4 -4,-109.901 473.586,-109.901 473.586,4 -4,4\"/>\n",
       "<!-- EMPTY -->\n",
       "<g id=\"node1\" class=\"node\"><title>EMPTY</title>\n",
       "</g>\n",
       "<!-- q1 -->\n",
       "<g id=\"node4\" class=\"node\"><title>q1</title>\n",
       "<ellipse fill=\"none\" stroke=\"black\" cx=\"113.95\" cy=\"-22.9503\" rx=\"18.9093\" ry=\"18.9093\"/>\n",
       "<ellipse fill=\"none\" stroke=\"black\" cx=\"113.95\" cy=\"-22.9503\" rx=\"22.9007\" ry=\"22.9007\"/>\n",
       "<text text-anchor=\"middle\" x=\"113.95\" y=\"-18.7503\" font-family=\"Times,serif\" font-size=\"14.00\">q1</text>\n",
       "</g>\n",
       "<!-- EMPTY&#45;&gt;q1 -->\n",
       "<g id=\"edge1\" class=\"edge\"><title>EMPTY&#45;&gt;q1</title>\n",
       "<path fill=\"none\" stroke=\"black\" d=\"M54.4131,-22.9503C62.7236,-22.9503 71.996,-22.9503 80.6663,-22.9503\"/>\n",
       "<polygon fill=\"black\" stroke=\"black\" points=\"80.8386,-26.4504 90.8385,-22.9503 80.8385,-19.4504 80.8386,-26.4504\"/>\n",
       "</g>\n",
       "<!-- q3 -->\n",
       "<g id=\"node2\" class=\"node\"><title>q3</title>\n",
       "<ellipse fill=\"none\" stroke=\"black\" cx=\"333.755\" cy=\"-22.9503\" rx=\"18.9007\" ry=\"18.9007\"/>\n",
       "<text text-anchor=\"middle\" x=\"333.755\" y=\"-18.7503\" font-family=\"Times,serif\" font-size=\"14.00\">q3</text>\n",
       "</g>\n",
       "<!-- q3&#45;&gt;q3 -->\n",
       "<g id=\"edge6\" class=\"edge\"><title>q3&#45;&gt;q3</title>\n",
       "<path fill=\"none\" stroke=\"black\" d=\"M329.052,-41.5822C328.328,-51.2163 329.896,-59.9006 333.755,-59.9006 336.167,-59.9006 337.684,-56.5083 338.306,-51.612\"/>\n",
       "<polygon fill=\"black\" stroke=\"black\" points=\"341.806,-51.6343 338.459,-41.5822 334.807,-51.5277 341.806,-51.6343\"/>\n",
       "<text text-anchor=\"middle\" x=\"333.755\" y=\"-62.7006\" font-family=\"Times,serif\" font-size=\"14.00\">0, 0 ; &#39;&#39;</text>\n",
       "</g>\n",
       "<!-- q3&#45;&gt;q3 -->\n",
       "<g id=\"edge7\" class=\"edge\"><title>q3&#45;&gt;q3</title>\n",
       "<path fill=\"none\" stroke=\"black\" d=\"M326.148,-40.3937C321.673,-58.1439 324.208,-77.9006 333.755,-77.9006 341.512,-77.9006 344.641,-64.8581 343.141,-50.4463\"/>\n",
       "<polygon fill=\"black\" stroke=\"black\" points=\"346.551,-49.6314 341.363,-40.3937 339.658,-50.8504 346.551,-49.6314\"/>\n",
       "<text text-anchor=\"middle\" x=\"333.755\" y=\"-80.7006\" font-family=\"Times,serif\" font-size=\"14.00\">1, 1 ; &#39;&#39;</text>\n",
       "</g>\n",
       "<!-- q4 -->\n",
       "<g id=\"node5\" class=\"node\"><title>q4</title>\n",
       "<ellipse fill=\"none\" stroke=\"black\" cx=\"446.635\" cy=\"-22.9503\" rx=\"18.9093\" ry=\"18.9093\"/>\n",
       "<ellipse fill=\"none\" stroke=\"black\" cx=\"446.635\" cy=\"-22.9503\" rx=\"22.9007\" ry=\"22.9007\"/>\n",
       "<text text-anchor=\"middle\" x=\"446.635\" y=\"-18.7503\" font-family=\"Times,serif\" font-size=\"14.00\">q4</text>\n",
       "</g>\n",
       "<!-- q3&#45;&gt;q4 -->\n",
       "<g id=\"edge8\" class=\"edge\"><title>q3&#45;&gt;q4</title>\n",
       "<path fill=\"none\" stroke=\"black\" d=\"M353.065,-22.9503C369.437,-22.9503 393.803,-22.9503 413.428,-22.9503\"/>\n",
       "<polygon fill=\"black\" stroke=\"black\" points=\"413.476,-26.4504 423.476,-22.9503 413.476,-19.4504 413.476,-26.4504\"/>\n",
       "<text text-anchor=\"middle\" x=\"388.195\" y=\"-25.7503\" font-family=\"Times,serif\" font-size=\"14.00\">&#39;&#39;, $ ; &#39;&#39;</text>\n",
       "</g>\n",
       "<!-- q2 -->\n",
       "<g id=\"node3\" class=\"node\"><title>q2</title>\n",
       "<ellipse fill=\"none\" stroke=\"black\" cx=\"226.83\" cy=\"-22.9503\" rx=\"18.9007\" ry=\"18.9007\"/>\n",
       "<text text-anchor=\"middle\" x=\"226.83\" y=\"-18.7503\" font-family=\"Times,serif\" font-size=\"14.00\">q2</text>\n",
       "</g>\n",
       "<!-- q2&#45;&gt;q3 -->\n",
       "<g id=\"edge5\" class=\"edge\"><title>q2&#45;&gt;q3</title>\n",
       "<path fill=\"none\" stroke=\"black\" d=\"M246.107,-22.9503C262.206,-22.9503 285.911,-22.9503 304.46,-22.9503\"/>\n",
       "<polygon fill=\"black\" stroke=\"black\" points=\"304.688,-26.4504 314.688,-22.9503 304.688,-19.4504 304.688,-26.4504\"/>\n",
       "<text text-anchor=\"middle\" x=\"280.293\" y=\"-25.7503\" font-family=\"Times,serif\" font-size=\"14.00\">&#39;&#39;, &#39;&#39; ; &#39;&#39;</text>\n",
       "</g>\n",
       "<!-- q2&#45;&gt;q2 -->\n",
       "<g id=\"edge3\" class=\"edge\"><title>q2&#45;&gt;q2</title>\n",
       "<path fill=\"none\" stroke=\"black\" d=\"M222.127,-41.5822C221.403,-51.2163 222.971,-59.9006 226.83,-59.9006 229.242,-59.9006 230.759,-56.5083 231.381,-51.612\"/>\n",
       "<polygon fill=\"black\" stroke=\"black\" points=\"234.881,-51.6343 231.534,-41.5822 227.882,-51.5277 234.881,-51.6343\"/>\n",
       "<text text-anchor=\"middle\" x=\"226.83\" y=\"-62.7006\" font-family=\"Times,serif\" font-size=\"14.00\">0, &#39;&#39; ; 0</text>\n",
       "</g>\n",
       "<!-- q2&#45;&gt;q2 -->\n",
       "<g id=\"edge4\" class=\"edge\"><title>q2&#45;&gt;q2</title>\n",
       "<path fill=\"none\" stroke=\"black\" d=\"M219.223,-40.3937C214.748,-58.1439 217.283,-77.9006 226.83,-77.9006 234.587,-77.9006 237.716,-64.8581 236.216,-50.4463\"/>\n",
       "<polygon fill=\"black\" stroke=\"black\" points=\"239.626,-49.6314 234.438,-40.3937 232.733,-50.8504 239.626,-49.6314\"/>\n",
       "<text text-anchor=\"middle\" x=\"226.83\" y=\"-80.7006\" font-family=\"Times,serif\" font-size=\"14.00\">1, &#39;&#39; ; 1</text>\n",
       "</g>\n",
       "<!-- q1&#45;&gt;q2 -->\n",
       "<g id=\"edge2\" class=\"edge\"><title>q1&#45;&gt;q2</title>\n",
       "<path fill=\"none\" stroke=\"black\" d=\"M137.122,-22.9503C154.531,-22.9503 178.886,-22.9503 197.673,-22.9503\"/>\n",
       "<polygon fill=\"black\" stroke=\"black\" points=\"197.726,-26.4504 207.726,-22.9503 197.726,-19.4504 197.726,-26.4504\"/>\n",
       "<text text-anchor=\"middle\" x=\"172.39\" y=\"-25.7503\" font-family=\"Times,serif\" font-size=\"14.00\">&#39;&#39;, &#39;&#39; ; $</text>\n",
       "</g>\n",
       "</g>\n",
       "</svg>\n"
      ],
      "text/plain": [
       "<graphviz.dot.Digraph at 0x10e7338d0>"
      ]
     },
     "execution_count": 39,
     "metadata": {},
     "output_type": "execute_result"
    }
   ],
   "source": [
    "dotObj_pda(wwr)"
   ]
  },
  {
   "cell_type": "code",
   "execution_count": 40,
   "metadata": {
    "run_control": {
     "frozen": false,
     "read_only": false
    }
   },
   "outputs": [
    {
     "data": {
      "image/svg+xml": [
       "<?xml version=\"1.0\" encoding=\"UTF-8\" standalone=\"no\"?>\n",
       "<!DOCTYPE svg PUBLIC \"-//W3C//DTD SVG 1.1//EN\"\n",
       " \"http://www.w3.org/Graphics/SVG/1.1/DTD/svg11.dtd\">\n",
       "<!-- Generated by graphviz version 2.38.0 (20140413.2041)\n",
       " -->\n",
       "<!-- Title: %3 Pages: 1 -->\n",
       "<svg width=\"478pt\" height=\"96pt\"\n",
       " viewBox=\"0.00 0.00 477.59 95.90\" xmlns=\"http://www.w3.org/2000/svg\" xmlns:xlink=\"http://www.w3.org/1999/xlink\">\n",
       "<g id=\"graph0\" class=\"graph\" transform=\"scale(1 1) rotate(0) translate(4 91.9006)\">\n",
       "<title>%3</title>\n",
       "<polygon fill=\"white\" stroke=\"none\" points=\"-4,4 -4,-91.9006 473.586,-91.9006 473.586,4 -4,4\"/>\n",
       "<!-- EMPTY -->\n",
       "<g id=\"node1\" class=\"node\"><title>EMPTY</title>\n",
       "</g>\n",
       "<!-- q1 -->\n",
       "<g id=\"node4\" class=\"node\"><title>q1</title>\n",
       "<ellipse fill=\"none\" stroke=\"black\" cx=\"113.95\" cy=\"-22.9503\" rx=\"18.9093\" ry=\"18.9093\"/>\n",
       "<ellipse fill=\"none\" stroke=\"black\" cx=\"113.95\" cy=\"-22.9503\" rx=\"22.9007\" ry=\"22.9007\"/>\n",
       "<text text-anchor=\"middle\" x=\"113.95\" y=\"-18.7503\" font-family=\"Times,serif\" font-size=\"14.00\">q1</text>\n",
       "</g>\n",
       "<!-- EMPTY&#45;&gt;q1 -->\n",
       "<g id=\"edge1\" class=\"edge\"><title>EMPTY&#45;&gt;q1</title>\n",
       "<path fill=\"none\" stroke=\"black\" d=\"M54.4131,-22.9503C62.7236,-22.9503 71.996,-22.9503 80.6663,-22.9503\"/>\n",
       "<polygon fill=\"black\" stroke=\"black\" points=\"80.8386,-26.4504 90.8385,-22.9503 80.8385,-19.4504 80.8386,-26.4504\"/>\n",
       "</g>\n",
       "<!-- q3 -->\n",
       "<g id=\"node2\" class=\"node\"><title>q3</title>\n",
       "<ellipse fill=\"none\" stroke=\"black\" cx=\"333.755\" cy=\"-22.9503\" rx=\"18.9007\" ry=\"18.9007\"/>\n",
       "<text text-anchor=\"middle\" x=\"333.755\" y=\"-18.7503\" font-family=\"Times,serif\" font-size=\"14.00\">q3</text>\n",
       "</g>\n",
       "<!-- q3&#45;&gt;q3 -->\n",
       "<g id=\"edge5\" class=\"edge\"><title>q3&#45;&gt;q3</title>\n",
       "<path fill=\"none\" stroke=\"black\" d=\"M324.693,-39.6706C322.508,-50.036 325.529,-59.9006 333.755,-59.9006 339.154,-59.9006 342.311,-55.6523 343.225,-49.802\"/>\n",
       "<polygon fill=\"black\" stroke=\"black\" points=\"346.717,-49.5216 342.817,-39.6706 339.723,-49.8033 346.717,-49.5216\"/>\n",
       "<text text-anchor=\"middle\" x=\"333.755\" y=\"-76.7006\" font-family=\"Times,serif\" font-size=\"14.00\">1, 1 ; &#39;&#39; </text>\n",
       "<text text-anchor=\"middle\" x=\"333.755\" y=\"-62.7006\" font-family=\"Times,serif\" font-size=\"14.00\"> 0, 0 ; &#39;&#39;</text>\n",
       "</g>\n",
       "<!-- q4 -->\n",
       "<g id=\"node5\" class=\"node\"><title>q4</title>\n",
       "<ellipse fill=\"none\" stroke=\"black\" cx=\"446.635\" cy=\"-22.9503\" rx=\"18.9093\" ry=\"18.9093\"/>\n",
       "<ellipse fill=\"none\" stroke=\"black\" cx=\"446.635\" cy=\"-22.9503\" rx=\"22.9007\" ry=\"22.9007\"/>\n",
       "<text text-anchor=\"middle\" x=\"446.635\" y=\"-18.7503\" font-family=\"Times,serif\" font-size=\"14.00\">q4</text>\n",
       "</g>\n",
       "<!-- q3&#45;&gt;q4 -->\n",
       "<g id=\"edge6\" class=\"edge\"><title>q3&#45;&gt;q4</title>\n",
       "<path fill=\"none\" stroke=\"black\" d=\"M353.065,-22.9503C369.437,-22.9503 393.803,-22.9503 413.428,-22.9503\"/>\n",
       "<polygon fill=\"black\" stroke=\"black\" points=\"413.476,-26.4504 423.476,-22.9503 413.476,-19.4504 413.476,-26.4504\"/>\n",
       "<text text-anchor=\"middle\" x=\"388.195\" y=\"-25.7503\" font-family=\"Times,serif\" font-size=\"14.00\">&#39;&#39;, $ ; &#39;&#39;</text>\n",
       "</g>\n",
       "<!-- q2 -->\n",
       "<g id=\"node3\" class=\"node\"><title>q2</title>\n",
       "<ellipse fill=\"none\" stroke=\"black\" cx=\"226.83\" cy=\"-22.9503\" rx=\"18.9007\" ry=\"18.9007\"/>\n",
       "<text text-anchor=\"middle\" x=\"226.83\" y=\"-18.7503\" font-family=\"Times,serif\" font-size=\"14.00\">q2</text>\n",
       "</g>\n",
       "<!-- q2&#45;&gt;q3 -->\n",
       "<g id=\"edge4\" class=\"edge\"><title>q2&#45;&gt;q3</title>\n",
       "<path fill=\"none\" stroke=\"black\" d=\"M246.107,-22.9503C262.206,-22.9503 285.911,-22.9503 304.46,-22.9503\"/>\n",
       "<polygon fill=\"black\" stroke=\"black\" points=\"304.688,-26.4504 314.688,-22.9503 304.688,-19.4504 304.688,-26.4504\"/>\n",
       "<text text-anchor=\"middle\" x=\"280.293\" y=\"-25.7503\" font-family=\"Times,serif\" font-size=\"14.00\">&#39;&#39;, &#39;&#39; ; &#39;&#39;</text>\n",
       "</g>\n",
       "<!-- q2&#45;&gt;q2 -->\n",
       "<g id=\"edge3\" class=\"edge\"><title>q2&#45;&gt;q2</title>\n",
       "<path fill=\"none\" stroke=\"black\" d=\"M217.768,-39.6706C215.583,-50.036 218.604,-59.9006 226.83,-59.9006 232.229,-59.9006 235.386,-55.6523 236.3,-49.802\"/>\n",
       "<polygon fill=\"black\" stroke=\"black\" points=\"239.792,-49.5216 235.892,-39.6706 232.798,-49.8033 239.792,-49.5216\"/>\n",
       "<text text-anchor=\"middle\" x=\"226.83\" y=\"-76.7006\" font-family=\"Times,serif\" font-size=\"14.00\">0, &#39;&#39; ; 0 </text>\n",
       "<text text-anchor=\"middle\" x=\"226.83\" y=\"-62.7006\" font-family=\"Times,serif\" font-size=\"14.00\"> 1, &#39;&#39; ; 1</text>\n",
       "</g>\n",
       "<!-- q1&#45;&gt;q2 -->\n",
       "<g id=\"edge2\" class=\"edge\"><title>q1&#45;&gt;q2</title>\n",
       "<path fill=\"none\" stroke=\"black\" d=\"M137.122,-22.9503C154.531,-22.9503 178.886,-22.9503 197.673,-22.9503\"/>\n",
       "<polygon fill=\"black\" stroke=\"black\" points=\"197.726,-26.4504 207.726,-22.9503 197.726,-19.4504 197.726,-26.4504\"/>\n",
       "<text text-anchor=\"middle\" x=\"172.39\" y=\"-25.7503\" font-family=\"Times,serif\" font-size=\"14.00\">&#39;&#39;, &#39;&#39; ; $</text>\n",
       "</g>\n",
       "</g>\n",
       "</svg>\n"
      ],
      "text/plain": [
       "<graphviz.dot.Digraph at 0x10e733a90>"
      ]
     },
     "execution_count": 40,
     "metadata": {},
     "output_type": "execute_result"
    }
   ],
   "source": [
    "dotObj_pda(wwr, FuseEdges=True)"
   ]
  },
  {
   "cell_type": "code",
   "execution_count": 41,
   "metadata": {
    "run_control": {
     "frozen": false,
     "read_only": false
    }
   },
   "outputs": [
    {
     "data": {
      "image/svg+xml": [
       "<?xml version=\"1.0\" encoding=\"UTF-8\" standalone=\"no\"?>\n",
       "<!DOCTYPE svg PUBLIC \"-//W3C//DTD SVG 1.1//EN\"\n",
       " \"http://www.w3.org/Graphics/SVG/1.1/DTD/svg11.dtd\">\n",
       "<!-- Generated by graphviz version 2.38.0 (20140413.2041)\n",
       " -->\n",
       "<!-- Title: %3 Pages: 1 -->\n",
       "<svg width=\"586pt\" height=\"178pt\"\n",
       " viewBox=\"0.00 0.00 586.47 177.90\" xmlns=\"http://www.w3.org/2000/svg\" xmlns:xlink=\"http://www.w3.org/1999/xlink\">\n",
       "<g id=\"graph0\" class=\"graph\" transform=\"scale(1 1) rotate(0) translate(4 173.901)\">\n",
       "<title>%3</title>\n",
       "<polygon fill=\"white\" stroke=\"none\" points=\"-4,4 -4,-173.901 582.466,-173.901 582.466,4 -4,4\"/>\n",
       "<!-- EMPTY -->\n",
       "<g id=\"node1\" class=\"node\"><title>EMPTY</title>\n",
       "</g>\n",
       "<!-- q1 -->\n",
       "<g id=\"node3\" class=\"node\"><title>q1</title>\n",
       "<ellipse fill=\"none\" stroke=\"black\" cx=\"109.95\" cy=\"-74.9503\" rx=\"18.9007\" ry=\"18.9007\"/>\n",
       "<text text-anchor=\"middle\" x=\"109.95\" y=\"-70.7503\" font-family=\"Times,serif\" font-size=\"14.00\">q1</text>\n",
       "</g>\n",
       "<!-- EMPTY&#45;&gt;q1 -->\n",
       "<g id=\"edge1\" class=\"edge\"><title>EMPTY&#45;&gt;q1</title>\n",
       "<path fill=\"none\" stroke=\"black\" d=\"M54.0588,-74.9503C62.6021,-74.9503 72.1312,-74.9503 80.8208,-74.9503\"/>\n",
       "<polygon fill=\"black\" stroke=\"black\" points=\"80.8811,-78.4504 90.8811,-74.9503 80.881,-71.4504 80.8811,-78.4504\"/>\n",
       "</g>\n",
       "<!-- q3 -->\n",
       "<g id=\"node2\" class=\"node\"><title>q3</title>\n",
       "<ellipse fill=\"none\" stroke=\"black\" cx=\"325.755\" cy=\"-112.95\" rx=\"18.9007\" ry=\"18.9007\"/>\n",
       "<text text-anchor=\"middle\" x=\"325.755\" y=\"-108.75\" font-family=\"Times,serif\" font-size=\"14.00\">q3</text>\n",
       "</g>\n",
       "<!-- q3&#45;&gt;q3 -->\n",
       "<g id=\"edge6\" class=\"edge\"><title>q3&#45;&gt;q3</title>\n",
       "<path fill=\"none\" stroke=\"black\" d=\"M316.693,-129.671C314.508,-140.036 317.529,-149.901 325.755,-149.901 331.154,-149.901 334.311,-145.652 335.225,-139.802\"/>\n",
       "<polygon fill=\"black\" stroke=\"black\" points=\"338.717,-139.522 334.817,-129.671 331.723,-139.803 338.717,-139.522\"/>\n",
       "<text text-anchor=\"middle\" x=\"325.755\" y=\"-152.701\" font-family=\"Times,serif\" font-size=\"14.00\">b, a ; &#39;&#39;</text>\n",
       "</g>\n",
       "<!-- q4 -->\n",
       "<g id=\"node7\" class=\"node\"><title>q4</title>\n",
       "<ellipse fill=\"none\" stroke=\"black\" cx=\"438.635\" cy=\"-114.95\" rx=\"18.9093\" ry=\"18.9093\"/>\n",
       "<ellipse fill=\"none\" stroke=\"black\" cx=\"438.635\" cy=\"-114.95\" rx=\"22.9007\" ry=\"22.9007\"/>\n",
       "<text text-anchor=\"middle\" x=\"438.635\" y=\"-110.75\" font-family=\"Times,serif\" font-size=\"14.00\">q4</text>\n",
       "</g>\n",
       "<!-- q3&#45;&gt;q4 -->\n",
       "<g id=\"edge7\" class=\"edge\"><title>q3&#45;&gt;q4</title>\n",
       "<path fill=\"none\" stroke=\"black\" d=\"M345.065,-113.281C361.437,-113.576 385.803,-114.015 405.428,-114.369\"/>\n",
       "<polygon fill=\"black\" stroke=\"black\" points=\"405.415,-117.87 415.476,-114.551 405.541,-110.871 405.415,-117.87\"/>\n",
       "<text text-anchor=\"middle\" x=\"380.195\" y=\"-116.75\" font-family=\"Times,serif\" font-size=\"14.00\">&#39;&#39;, $ ; &#39;&#39;</text>\n",
       "</g>\n",
       "<!-- q2 -->\n",
       "<g id=\"node5\" class=\"node\"><title>q2</title>\n",
       "<ellipse fill=\"none\" stroke=\"black\" cx=\"218.83\" cy=\"-74.9503\" rx=\"18.9007\" ry=\"18.9007\"/>\n",
       "<text text-anchor=\"middle\" x=\"218.83\" y=\"-70.7503\" font-family=\"Times,serif\" font-size=\"14.00\">q2</text>\n",
       "</g>\n",
       "<!-- q1&#45;&gt;q2 -->\n",
       "<g id=\"edge2\" class=\"edge\"><title>q1&#45;&gt;q2</title>\n",
       "<path fill=\"none\" stroke=\"black\" d=\"M129.081,-74.9503C145.587,-74.9503 170.228,-74.9503 189.361,-74.9503\"/>\n",
       "<polygon fill=\"black\" stroke=\"black\" points=\"189.611,-78.4504 199.611,-74.9503 189.611,-71.4504 189.611,-78.4504\"/>\n",
       "<text text-anchor=\"middle\" x=\"164.39\" y=\"-77.7503\" font-family=\"Times,serif\" font-size=\"14.00\">&#39;&#39;, &#39;&#39; ; $</text>\n",
       "</g>\n",
       "<!-- q6 -->\n",
       "<g id=\"node4\" class=\"node\"><title>q6</title>\n",
       "<ellipse fill=\"none\" stroke=\"black\" cx=\"438.635\" cy=\"-22.9503\" rx=\"18.9007\" ry=\"18.9007\"/>\n",
       "<text text-anchor=\"middle\" x=\"438.635\" y=\"-18.7503\" font-family=\"Times,serif\" font-size=\"14.00\">q6</text>\n",
       "</g>\n",
       "<!-- q6&#45;&gt;q6 -->\n",
       "<g id=\"edge11\" class=\"edge\"><title>q6&#45;&gt;q6</title>\n",
       "<path fill=\"none\" stroke=\"black\" d=\"M428.621,-39.2864C426.008,-49.791 429.346,-59.9006 438.635,-59.9006 444.731,-59.9006 448.264,-55.5467 449.235,-49.5846\"/>\n",
       "<polygon fill=\"black\" stroke=\"black\" points=\"452.711,-49.0719 448.65,-39.2864 445.723,-49.4688 452.711,-49.0719\"/>\n",
       "<text text-anchor=\"middle\" x=\"438.635\" y=\"-62.7006\" font-family=\"Times,serif\" font-size=\"14.00\">c, a ; &#39;&#39;</text>\n",
       "</g>\n",
       "<!-- q7 -->\n",
       "<g id=\"node8\" class=\"node\"><title>q7</title>\n",
       "<ellipse fill=\"none\" stroke=\"black\" cx=\"555.515\" cy=\"-22.9503\" rx=\"18.9093\" ry=\"18.9093\"/>\n",
       "<ellipse fill=\"none\" stroke=\"black\" cx=\"555.515\" cy=\"-22.9503\" rx=\"22.9007\" ry=\"22.9007\"/>\n",
       "<text text-anchor=\"middle\" x=\"555.515\" y=\"-18.7503\" font-family=\"Times,serif\" font-size=\"14.00\">q7</text>\n",
       "</g>\n",
       "<!-- q6&#45;&gt;q7 -->\n",
       "<g id=\"edge12\" class=\"edge\"><title>q6&#45;&gt;q7</title>\n",
       "<path fill=\"none\" stroke=\"black\" d=\"M457.838,-22.9503C475.158,-22.9503 501.594,-22.9503 522.447,-22.9503\"/>\n",
       "<polygon fill=\"black\" stroke=\"black\" points=\"522.467,-26.4504 532.467,-22.9503 522.467,-19.4504 522.467,-26.4504\"/>\n",
       "<text text-anchor=\"middle\" x=\"497.075\" y=\"-25.7503\" font-family=\"Times,serif\" font-size=\"14.00\">&#39;&#39;, $ ; &#39;&#39;</text>\n",
       "</g>\n",
       "<!-- q2&#45;&gt;q3 -->\n",
       "<g id=\"edge5\" class=\"edge\"><title>q2&#45;&gt;q3</title>\n",
       "<path fill=\"none\" stroke=\"black\" d=\"M237.157,-81.2252C253.734,-87.2291 278.975,-96.3704 298.111,-103.301\"/>\n",
       "<polygon fill=\"black\" stroke=\"black\" points=\"297.157,-106.678 307.752,-106.792 299.541,-100.096 297.157,-106.678\"/>\n",
       "<text text-anchor=\"middle\" x=\"272.293\" y=\"-101.75\" font-family=\"Times,serif\" font-size=\"14.00\">&#39;&#39;, &#39;&#39; ; &#39;&#39;</text>\n",
       "</g>\n",
       "<!-- q2&#45;&gt;q2 -->\n",
       "<g id=\"edge3\" class=\"edge\"><title>q2&#45;&gt;q2</title>\n",
       "<path fill=\"none\" stroke=\"black\" d=\"M209.768,-91.6706C207.583,-102.036 210.604,-111.901 218.83,-111.901 224.229,-111.901 227.386,-107.652 228.3,-101.802\"/>\n",
       "<polygon fill=\"black\" stroke=\"black\" points=\"231.792,-101.522 227.892,-91.6706 224.798,-101.803 231.792,-101.522\"/>\n",
       "<text text-anchor=\"middle\" x=\"218.83\" y=\"-114.701\" font-family=\"Times,serif\" font-size=\"14.00\">a, &#39;&#39; ; a</text>\n",
       "</g>\n",
       "<!-- q5 -->\n",
       "<g id=\"node6\" class=\"node\"><title>q5</title>\n",
       "<ellipse fill=\"none\" stroke=\"black\" cx=\"325.755\" cy=\"-24.9503\" rx=\"18.9007\" ry=\"18.9007\"/>\n",
       "<text text-anchor=\"middle\" x=\"325.755\" y=\"-20.7503\" font-family=\"Times,serif\" font-size=\"14.00\">q5</text>\n",
       "</g>\n",
       "<!-- q2&#45;&gt;q5 -->\n",
       "<g id=\"edge4\" class=\"edge\"><title>q2&#45;&gt;q5</title>\n",
       "<path fill=\"none\" stroke=\"black\" d=\"M236.225,-67.1378C252.989,-59.1491 279.277,-46.6221 298.858,-37.2913\"/>\n",
       "<polygon fill=\"black\" stroke=\"black\" points=\"300.608,-40.3344 308.13,-32.8729 297.597,-34.0152 300.608,-40.3344\"/>\n",
       "<text text-anchor=\"middle\" x=\"272.293\" y=\"-60.7503\" font-family=\"Times,serif\" font-size=\"14.00\">&#39;&#39;, &#39;&#39; ; &#39;&#39;</text>\n",
       "</g>\n",
       "<!-- q5&#45;&gt;q6 -->\n",
       "<g id=\"edge10\" class=\"edge\"><title>q5&#45;&gt;q6</title>\n",
       "<path fill=\"none\" stroke=\"black\" d=\"M345.065,-24.62C362.584,-24.304 389.257,-23.8229 409.479,-23.4582\"/>\n",
       "<polygon fill=\"black\" stroke=\"black\" points=\"409.731,-26.9543 419.667,-23.2744 409.605,-19.9554 409.731,-26.9543\"/>\n",
       "<text text-anchor=\"middle\" x=\"380.195\" y=\"-27.7503\" font-family=\"Times,serif\" font-size=\"14.00\">&#39;&#39;, &#39;&#39; ; &#39;&#39;</text>\n",
       "</g>\n",
       "<!-- q5&#45;&gt;q5 -->\n",
       "<g id=\"edge9\" class=\"edge\"><title>q5&#45;&gt;q5</title>\n",
       "<path fill=\"none\" stroke=\"black\" d=\"M316.693,-41.6706C314.508,-52.036 317.529,-61.9006 325.755,-61.9006 331.154,-61.9006 334.311,-57.6523 335.225,-51.802\"/>\n",
       "<polygon fill=\"black\" stroke=\"black\" points=\"338.717,-51.5216 334.817,-41.6706 331.723,-51.8033 338.717,-51.5216\"/>\n",
       "<text text-anchor=\"middle\" x=\"325.755\" y=\"-64.7006\" font-family=\"Times,serif\" font-size=\"14.00\">b, &#39;&#39; ; &#39;&#39;</text>\n",
       "</g>\n",
       "<!-- q4&#45;&gt;q4 -->\n",
       "<g id=\"edge8\" class=\"edge\"><title>q4&#45;&gt;q4</title>\n",
       "<path fill=\"none\" stroke=\"black\" d=\"M428.143,-135.599C426.528,-146.276 430.026,-155.901 438.635,-155.901 444.285,-155.901 447.734,-151.756 448.981,-145.889\"/>\n",
       "<polygon fill=\"black\" stroke=\"black\" points=\"452.484,-145.648 449.128,-135.599 445.485,-145.548 452.484,-145.648\"/>\n",
       "<text text-anchor=\"middle\" x=\"438.635\" y=\"-158.701\" font-family=\"Times,serif\" font-size=\"14.00\">c, &#39;&#39; ; &#39;&#39;</text>\n",
       "</g>\n",
       "</g>\n",
       "</svg>\n"
      ],
      "text/plain": [
       "<graphviz.dot.Digraph at 0x10e733978>"
      ]
     },
     "execution_count": 41,
     "metadata": {},
     "output_type": "execute_result"
    }
   ],
   "source": [
    "dotObj_pda(F27sip)"
   ]
  },
  {
   "cell_type": "code",
   "execution_count": 42,
   "metadata": {
    "run_control": {
     "frozen": false,
     "read_only": false
    }
   },
   "outputs": [
    {
     "name": "stdout",
     "output_type": "stream",
     "text": [
      "String aabcc accepted by your PDA in 1 ways :-) \n",
      "Here are the ways: \n",
      "Final state  ('q7', '', '$')\n",
      "Reached as follows:\n",
      "->  ('q1', 'aabcc', '$')\n",
      "->  ('q2', 'aabcc', '$$')\n",
      "->  ('q2', 'abcc', 'a$$')\n",
      "->  ('q2', 'bcc', 'aa$$')\n",
      "->  ('q5', 'bcc', 'aa$$')\n",
      "->  ('q5', 'cc', 'aa$$')\n",
      "->  ('q6', 'cc', 'aa$$')\n",
      "->  ('q6', 'c', 'a$$')\n",
      "->  ('q6', '', '$$')\n",
      "->  ('q7', '', '$') .\n"
     ]
    }
   ],
   "source": [
    "explore_pda(\"aabcc\",F27sip)"
   ]
  },
  {
   "cell_type": "code",
   "execution_count": 43,
   "metadata": {
    "run_control": {
     "frozen": false,
     "read_only": false
    }
   },
   "outputs": [
    {
     "data": {
      "image/svg+xml": [
       "<?xml version=\"1.0\" encoding=\"UTF-8\" standalone=\"no\"?>\n",
       "<!DOCTYPE svg PUBLIC \"-//W3C//DTD SVG 1.1//EN\"\n",
       " \"http://www.w3.org/Graphics/SVG/1.1/DTD/svg11.dtd\">\n",
       "<!-- Generated by graphviz version 2.38.0 (20140413.2041)\n",
       " -->\n",
       "<!-- Title: %3 Pages: 1 -->\n",
       "<svg width=\"663pt\" height=\"178pt\"\n",
       " viewBox=\"0.00 0.00 662.99 177.90\" xmlns=\"http://www.w3.org/2000/svg\" xmlns:xlink=\"http://www.w3.org/1999/xlink\">\n",
       "<g id=\"graph0\" class=\"graph\" transform=\"scale(1 1) rotate(0) translate(4 173.901)\">\n",
       "<title>%3</title>\n",
       "<polygon fill=\"white\" stroke=\"none\" points=\"-4,4 -4,-173.901 658.987,-173.901 658.987,4 -4,4\"/>\n",
       "<!-- EMPTY -->\n",
       "<g id=\"node1\" class=\"node\"><title>EMPTY</title>\n",
       "</g>\n",
       "<!-- q1 -->\n",
       "<g id=\"node3\" class=\"node\"><title>q1</title>\n",
       "<ellipse fill=\"none\" stroke=\"black\" cx=\"109.95\" cy=\"-74.9503\" rx=\"18.9007\" ry=\"18.9007\"/>\n",
       "<text text-anchor=\"middle\" x=\"109.95\" y=\"-70.7503\" font-family=\"Times,serif\" font-size=\"14.00\">q1</text>\n",
       "</g>\n",
       "<!-- EMPTY&#45;&gt;q1 -->\n",
       "<g id=\"edge1\" class=\"edge\"><title>EMPTY&#45;&gt;q1</title>\n",
       "<path fill=\"none\" stroke=\"black\" d=\"M54.0588,-74.9503C62.6021,-74.9503 72.1312,-74.9503 80.8208,-74.9503\"/>\n",
       "<polygon fill=\"black\" stroke=\"black\" points=\"80.8811,-78.4504 90.8811,-74.9503 80.881,-71.4504 80.8811,-78.4504\"/>\n",
       "</g>\n",
       "<!-- q3 -->\n",
       "<g id=\"node2\" class=\"node\"><title>q3</title>\n",
       "<ellipse fill=\"none\" stroke=\"black\" cx=\"364.994\" cy=\"-112.95\" rx=\"18.9007\" ry=\"18.9007\"/>\n",
       "<text text-anchor=\"middle\" x=\"364.994\" y=\"-108.75\" font-family=\"Times,serif\" font-size=\"14.00\">q3</text>\n",
       "</g>\n",
       "<!-- q3&#45;&gt;q3 -->\n",
       "<g id=\"edge6\" class=\"edge\"><title>q3&#45;&gt;q3</title>\n",
       "<path fill=\"none\" stroke=\"black\" d=\"M354.165,-128.517C350.884,-139.292 354.494,-149.901 364.994,-149.901 372.048,-149.901 375.992,-145.112 376.826,-138.701\"/>\n",
       "<polygon fill=\"black\" stroke=\"black\" points=\"380.286,-138.125 375.822,-128.517 373.32,-138.813 380.286,-138.125\"/>\n",
       "<text text-anchor=\"middle\" x=\"364.994\" y=\"-152.701\" font-family=\"Times,serif\" font-size=\"14.00\">b, a ; @</text>\n",
       "</g>\n",
       "<!-- q4 -->\n",
       "<g id=\"node7\" class=\"node\"><title>q4</title>\n",
       "<ellipse fill=\"none\" stroke=\"black\" cx=\"499.462\" cy=\"-114.95\" rx=\"18.9093\" ry=\"18.9093\"/>\n",
       "<ellipse fill=\"none\" stroke=\"black\" cx=\"499.462\" cy=\"-114.95\" rx=\"22.9007\" ry=\"22.9007\"/>\n",
       "<text text-anchor=\"middle\" x=\"499.462\" y=\"-110.75\" font-family=\"Times,serif\" font-size=\"14.00\">q4</text>\n",
       "</g>\n",
       "<!-- q3&#45;&gt;q4 -->\n",
       "<g id=\"edge7\" class=\"edge\"><title>q3&#45;&gt;q4</title>\n",
       "<path fill=\"none\" stroke=\"black\" d=\"M384.135,-113.224C405.185,-113.542 440.296,-114.072 466.065,-114.461\"/>\n",
       "<polygon fill=\"black\" stroke=\"black\" points=\"466.071,-117.962 476.122,-114.613 466.176,-110.962 466.071,-117.962\"/>\n",
       "<text text-anchor=\"middle\" x=\"430.228\" y=\"-116.75\" font-family=\"Times,serif\" font-size=\"14.00\">@, $ ; @</text>\n",
       "</g>\n",
       "<!-- q2 -->\n",
       "<g id=\"node5\" class=\"node\"><title>q2</title>\n",
       "<ellipse fill=\"none\" stroke=\"black\" cx=\"234.526\" cy=\"-74.9503\" rx=\"18.9007\" ry=\"18.9007\"/>\n",
       "<text text-anchor=\"middle\" x=\"234.526\" y=\"-70.7503\" font-family=\"Times,serif\" font-size=\"14.00\">q2</text>\n",
       "</g>\n",
       "<!-- q1&#45;&gt;q2 -->\n",
       "<g id=\"edge2\" class=\"edge\"><title>q1&#45;&gt;q2</title>\n",
       "<path fill=\"none\" stroke=\"black\" d=\"M129.037,-74.9503C149.134,-74.9503 181.84,-74.9503 205.31,-74.9503\"/>\n",
       "<polygon fill=\"black\" stroke=\"black\" points=\"205.365,-78.4504 215.365,-74.9503 205.365,-71.4504 205.365,-78.4504\"/>\n",
       "<text text-anchor=\"middle\" x=\"172.238\" y=\"-77.7503\" font-family=\"Times,serif\" font-size=\"14.00\">@, @ ; $</text>\n",
       "</g>\n",
       "<!-- q6 -->\n",
       "<g id=\"node4\" class=\"node\"><title>q6</title>\n",
       "<ellipse fill=\"none\" stroke=\"black\" cx=\"499.462\" cy=\"-22.9503\" rx=\"18.9007\" ry=\"18.9007\"/>\n",
       "<text text-anchor=\"middle\" x=\"499.462\" y=\"-18.7503\" font-family=\"Times,serif\" font-size=\"14.00\">q6</text>\n",
       "</g>\n",
       "<!-- q6&#45;&gt;q6 -->\n",
       "<g id=\"edge11\" class=\"edge\"><title>q6&#45;&gt;q6</title>\n",
       "<path fill=\"none\" stroke=\"black\" d=\"M488.295,-38.5173C484.911,-49.2918 488.633,-59.9006 499.462,-59.9006 506.737,-59.9006 510.804,-55.1116 511.664,-48.701\"/>\n",
       "<polygon fill=\"black\" stroke=\"black\" points=\"515.122,-48.1118 510.628,-38.5173 508.158,-48.8201 515.122,-48.1118\"/>\n",
       "<text text-anchor=\"middle\" x=\"499.462\" y=\"-62.7006\" font-family=\"Times,serif\" font-size=\"14.00\">c, a ; @</text>\n",
       "</g>\n",
       "<!-- q7 -->\n",
       "<g id=\"node8\" class=\"node\"><title>q7</title>\n",
       "<ellipse fill=\"none\" stroke=\"black\" cx=\"632.037\" cy=\"-22.9503\" rx=\"18.9093\" ry=\"18.9093\"/>\n",
       "<ellipse fill=\"none\" stroke=\"black\" cx=\"632.037\" cy=\"-22.9503\" rx=\"22.9007\" ry=\"22.9007\"/>\n",
       "<text text-anchor=\"middle\" x=\"632.037\" y=\"-18.7503\" font-family=\"Times,serif\" font-size=\"14.00\">q7</text>\n",
       "</g>\n",
       "<!-- q6&#45;&gt;q7 -->\n",
       "<g id=\"edge12\" class=\"edge\"><title>q6&#45;&gt;q7</title>\n",
       "<path fill=\"none\" stroke=\"black\" d=\"M518.618,-22.9503C539.22,-22.9503 573.229,-22.9503 598.456,-22.9503\"/>\n",
       "<polygon fill=\"black\" stroke=\"black\" points=\"598.664,-26.4504 608.664,-22.9503 598.664,-19.4504 598.664,-26.4504\"/>\n",
       "<text text-anchor=\"middle\" x=\"565.749\" y=\"-25.7503\" font-family=\"Times,serif\" font-size=\"14.00\">@, $ ; @</text>\n",
       "</g>\n",
       "<!-- q2&#45;&gt;q3 -->\n",
       "<g id=\"edge5\" class=\"edge\"><title>q2&#45;&gt;q3</title>\n",
       "<path fill=\"none\" stroke=\"black\" d=\"M252.851,-80.0751C274.401,-86.4495 311.439,-97.405 336.79,-104.904\"/>\n",
       "<polygon fill=\"black\" stroke=\"black\" points=\"335.95,-108.305 346.532,-107.785 337.936,-101.592 335.95,-108.305\"/>\n",
       "<text text-anchor=\"middle\" x=\"299.76\" y=\"-103.75\" font-family=\"Times,serif\" font-size=\"14.00\">@, @ ; @</text>\n",
       "</g>\n",
       "<!-- q2&#45;&gt;q2 -->\n",
       "<g id=\"edge3\" class=\"edge\"><title>q2&#45;&gt;q2</title>\n",
       "<path fill=\"none\" stroke=\"black\" d=\"M223.925,-90.902C220.941,-101.543 224.475,-111.901 234.526,-111.901 241.279,-111.901 245.089,-107.225 245.958,-100.929\"/>\n",
       "<polygon fill=\"black\" stroke=\"black\" points=\"249.441,-100.578 245.126,-90.902 242.465,-101.157 249.441,-100.578\"/>\n",
       "<text text-anchor=\"middle\" x=\"234.526\" y=\"-114.701\" font-family=\"Times,serif\" font-size=\"14.00\">a, @ ; a</text>\n",
       "</g>\n",
       "<!-- q5 -->\n",
       "<g id=\"node6\" class=\"node\"><title>q5</title>\n",
       "<ellipse fill=\"none\" stroke=\"black\" cx=\"364.994\" cy=\"-24.9503\" rx=\"18.9007\" ry=\"18.9007\"/>\n",
       "<text text-anchor=\"middle\" x=\"364.994\" y=\"-20.7503\" font-family=\"Times,serif\" font-size=\"14.00\">q5</text>\n",
       "</g>\n",
       "<!-- q2&#45;&gt;q5 -->\n",
       "<g id=\"edge4\" class=\"edge\"><title>q2&#45;&gt;q5</title>\n",
       "<path fill=\"none\" stroke=\"black\" d=\"M252.321,-68.4137C274.056,-59.9541 312.165,-45.1219 337.74,-35.1682\"/>\n",
       "<polygon fill=\"black\" stroke=\"black\" points=\"339.145,-38.3773 347.195,-31.4885 336.606,-31.8539 339.145,-38.3773\"/>\n",
       "<text text-anchor=\"middle\" x=\"299.76\" y=\"-62.7503\" font-family=\"Times,serif\" font-size=\"14.00\">@, @ ; @</text>\n",
       "</g>\n",
       "<!-- q5&#45;&gt;q6 -->\n",
       "<g id=\"edge10\" class=\"edge\"><title>q5&#45;&gt;q6</title>\n",
       "<path fill=\"none\" stroke=\"black\" d=\"M384.135,-24.6764C406.306,-24.3416 444.075,-23.7714 470.098,-23.3785\"/>\n",
       "<polygon fill=\"black\" stroke=\"black\" points=\"470.168,-26.878 480.114,-23.2273 470.062,-19.8788 470.168,-26.878\"/>\n",
       "<text text-anchor=\"middle\" x=\"430.228\" y=\"-27.7503\" font-family=\"Times,serif\" font-size=\"14.00\">@, @ ; @</text>\n",
       "</g>\n",
       "<!-- q5&#45;&gt;q5 -->\n",
       "<g id=\"edge9\" class=\"edge\"><title>q5&#45;&gt;q5</title>\n",
       "<path fill=\"none\" stroke=\"black\" d=\"M354.165,-40.5173C350.884,-51.2918 354.494,-61.9006 364.994,-61.9006 372.048,-61.9006 375.992,-57.1116 376.826,-50.701\"/>\n",
       "<polygon fill=\"black\" stroke=\"black\" points=\"380.286,-50.1254 375.822,-40.5173 373.32,-50.8125 380.286,-50.1254\"/>\n",
       "<text text-anchor=\"middle\" x=\"364.994\" y=\"-64.7006\" font-family=\"Times,serif\" font-size=\"14.00\">b, @ ; @</text>\n",
       "</g>\n",
       "<!-- q4&#45;&gt;q4 -->\n",
       "<g id=\"edge8\" class=\"edge\"><title>q4&#45;&gt;q4</title>\n",
       "<path fill=\"none\" stroke=\"black\" d=\"M487.679,-134.754C485.479,-145.763 489.407,-155.901 499.462,-155.901 506.217,-155.901 510.207,-151.324 511.43,-144.982\"/>\n",
       "<polygon fill=\"black\" stroke=\"black\" points=\"514.926,-144.689 511.244,-134.754 507.927,-144.816 514.926,-144.689\"/>\n",
       "<text text-anchor=\"middle\" x=\"499.462\" y=\"-158.701\" font-family=\"Times,serif\" font-size=\"14.00\">c, @ ; @</text>\n",
       "</g>\n",
       "</g>\n",
       "</svg>\n"
      ],
      "text/plain": [
       "<graphviz.dot.Digraph at 0x10e733f28>"
      ]
     },
     "execution_count": 43,
     "metadata": {},
     "output_type": "execute_result"
    }
   ],
   "source": [
    "dotObj_pda(F27sip, visible_eps=True)"
   ]
  },
  {
   "cell_type": "code",
   "execution_count": 44,
   "metadata": {
    "run_control": {
     "frozen": false,
     "read_only": false
    }
   },
   "outputs": [
    {
     "data": {
      "image/svg+xml": [
       "<?xml version=\"1.0\" encoding=\"UTF-8\" standalone=\"no\"?>\n",
       "<!DOCTYPE svg PUBLIC \"-//W3C//DTD SVG 1.1//EN\"\n",
       " \"http://www.w3.org/Graphics/SVG/1.1/DTD/svg11.dtd\">\n",
       "<!-- Generated by graphviz version 2.38.0 (20140413.2041)\n",
       " -->\n",
       "<!-- Title: %3 Pages: 1 -->\n",
       "<svg width=\"586pt\" height=\"178pt\"\n",
       " viewBox=\"0.00 0.00 586.47 177.90\" xmlns=\"http://www.w3.org/2000/svg\" xmlns:xlink=\"http://www.w3.org/1999/xlink\">\n",
       "<g id=\"graph0\" class=\"graph\" transform=\"scale(1 1) rotate(0) translate(4 173.901)\">\n",
       "<title>%3</title>\n",
       "<polygon fill=\"white\" stroke=\"none\" points=\"-4,4 -4,-173.901 582.466,-173.901 582.466,4 -4,4\"/>\n",
       "<!-- EMPTY -->\n",
       "<g id=\"node1\" class=\"node\"><title>EMPTY</title>\n",
       "</g>\n",
       "<!-- q1 -->\n",
       "<g id=\"node3\" class=\"node\"><title>q1</title>\n",
       "<ellipse fill=\"none\" stroke=\"black\" cx=\"109.95\" cy=\"-74.9503\" rx=\"18.9007\" ry=\"18.9007\"/>\n",
       "<text text-anchor=\"middle\" x=\"109.95\" y=\"-70.7503\" font-family=\"Times,serif\" font-size=\"14.00\">q1</text>\n",
       "</g>\n",
       "<!-- EMPTY&#45;&gt;q1 -->\n",
       "<g id=\"edge1\" class=\"edge\"><title>EMPTY&#45;&gt;q1</title>\n",
       "<path fill=\"none\" stroke=\"black\" d=\"M54.0588,-74.9503C62.6021,-74.9503 72.1312,-74.9503 80.8208,-74.9503\"/>\n",
       "<polygon fill=\"black\" stroke=\"black\" points=\"80.8811,-78.4504 90.8811,-74.9503 80.881,-71.4504 80.8811,-78.4504\"/>\n",
       "</g>\n",
       "<!-- q3 -->\n",
       "<g id=\"node2\" class=\"node\"><title>q3</title>\n",
       "<ellipse fill=\"none\" stroke=\"black\" cx=\"325.755\" cy=\"-112.95\" rx=\"18.9007\" ry=\"18.9007\"/>\n",
       "<text text-anchor=\"middle\" x=\"325.755\" y=\"-108.75\" font-family=\"Times,serif\" font-size=\"14.00\">q3</text>\n",
       "</g>\n",
       "<!-- q3&#45;&gt;q3 -->\n",
       "<g id=\"edge6\" class=\"edge\"><title>q3&#45;&gt;q3</title>\n",
       "<path fill=\"none\" stroke=\"black\" d=\"M316.693,-129.671C314.508,-140.036 317.529,-149.901 325.755,-149.901 331.154,-149.901 334.311,-145.652 335.225,-139.802\"/>\n",
       "<polygon fill=\"black\" stroke=\"black\" points=\"338.717,-139.522 334.817,-129.671 331.723,-139.803 338.717,-139.522\"/>\n",
       "<text text-anchor=\"middle\" x=\"325.755\" y=\"-152.701\" font-family=\"Times,serif\" font-size=\"14.00\">b, a ; &#39;&#39;</text>\n",
       "</g>\n",
       "<!-- q4 -->\n",
       "<g id=\"node7\" class=\"node\"><title>q4</title>\n",
       "<ellipse fill=\"none\" stroke=\"black\" cx=\"438.635\" cy=\"-114.95\" rx=\"18.9093\" ry=\"18.9093\"/>\n",
       "<ellipse fill=\"none\" stroke=\"black\" cx=\"438.635\" cy=\"-114.95\" rx=\"22.9007\" ry=\"22.9007\"/>\n",
       "<text text-anchor=\"middle\" x=\"438.635\" y=\"-110.75\" font-family=\"Times,serif\" font-size=\"14.00\">q4</text>\n",
       "</g>\n",
       "<!-- q3&#45;&gt;q4 -->\n",
       "<g id=\"edge7\" class=\"edge\"><title>q3&#45;&gt;q4</title>\n",
       "<path fill=\"none\" stroke=\"black\" d=\"M345.065,-113.281C361.437,-113.576 385.803,-114.015 405.428,-114.369\"/>\n",
       "<polygon fill=\"black\" stroke=\"black\" points=\"405.415,-117.87 415.476,-114.551 405.541,-110.871 405.415,-117.87\"/>\n",
       "<text text-anchor=\"middle\" x=\"380.195\" y=\"-116.75\" font-family=\"Times,serif\" font-size=\"14.00\">&#39;&#39;, $ ; &#39;&#39;</text>\n",
       "</g>\n",
       "<!-- q2 -->\n",
       "<g id=\"node5\" class=\"node\"><title>q2</title>\n",
       "<ellipse fill=\"none\" stroke=\"black\" cx=\"218.83\" cy=\"-74.9503\" rx=\"18.9007\" ry=\"18.9007\"/>\n",
       "<text text-anchor=\"middle\" x=\"218.83\" y=\"-70.7503\" font-family=\"Times,serif\" font-size=\"14.00\">q2</text>\n",
       "</g>\n",
       "<!-- q1&#45;&gt;q2 -->\n",
       "<g id=\"edge2\" class=\"edge\"><title>q1&#45;&gt;q2</title>\n",
       "<path fill=\"none\" stroke=\"black\" d=\"M129.081,-74.9503C145.587,-74.9503 170.228,-74.9503 189.361,-74.9503\"/>\n",
       "<polygon fill=\"black\" stroke=\"black\" points=\"189.611,-78.4504 199.611,-74.9503 189.611,-71.4504 189.611,-78.4504\"/>\n",
       "<text text-anchor=\"middle\" x=\"164.39\" y=\"-77.7503\" font-family=\"Times,serif\" font-size=\"14.00\">&#39;&#39;, &#39;&#39; ; $</text>\n",
       "</g>\n",
       "<!-- q6 -->\n",
       "<g id=\"node4\" class=\"node\"><title>q6</title>\n",
       "<ellipse fill=\"none\" stroke=\"black\" cx=\"438.635\" cy=\"-22.9503\" rx=\"18.9007\" ry=\"18.9007\"/>\n",
       "<text text-anchor=\"middle\" x=\"438.635\" y=\"-18.7503\" font-family=\"Times,serif\" font-size=\"14.00\">q6</text>\n",
       "</g>\n",
       "<!-- q6&#45;&gt;q6 -->\n",
       "<g id=\"edge11\" class=\"edge\"><title>q6&#45;&gt;q6</title>\n",
       "<path fill=\"none\" stroke=\"black\" d=\"M428.621,-39.2864C426.008,-49.791 429.346,-59.9006 438.635,-59.9006 444.731,-59.9006 448.264,-55.5467 449.235,-49.5846\"/>\n",
       "<polygon fill=\"black\" stroke=\"black\" points=\"452.711,-49.0719 448.65,-39.2864 445.723,-49.4688 452.711,-49.0719\"/>\n",
       "<text text-anchor=\"middle\" x=\"438.635\" y=\"-62.7006\" font-family=\"Times,serif\" font-size=\"14.00\">c, a ; &#39;&#39;</text>\n",
       "</g>\n",
       "<!-- q7 -->\n",
       "<g id=\"node8\" class=\"node\"><title>q7</title>\n",
       "<ellipse fill=\"none\" stroke=\"black\" cx=\"555.515\" cy=\"-22.9503\" rx=\"18.9093\" ry=\"18.9093\"/>\n",
       "<ellipse fill=\"none\" stroke=\"black\" cx=\"555.515\" cy=\"-22.9503\" rx=\"22.9007\" ry=\"22.9007\"/>\n",
       "<text text-anchor=\"middle\" x=\"555.515\" y=\"-18.7503\" font-family=\"Times,serif\" font-size=\"14.00\">q7</text>\n",
       "</g>\n",
       "<!-- q6&#45;&gt;q7 -->\n",
       "<g id=\"edge12\" class=\"edge\"><title>q6&#45;&gt;q7</title>\n",
       "<path fill=\"none\" stroke=\"black\" d=\"M457.838,-22.9503C475.158,-22.9503 501.594,-22.9503 522.447,-22.9503\"/>\n",
       "<polygon fill=\"black\" stroke=\"black\" points=\"522.467,-26.4504 532.467,-22.9503 522.467,-19.4504 522.467,-26.4504\"/>\n",
       "<text text-anchor=\"middle\" x=\"497.075\" y=\"-25.7503\" font-family=\"Times,serif\" font-size=\"14.00\">&#39;&#39;, $ ; &#39;&#39;</text>\n",
       "</g>\n",
       "<!-- q2&#45;&gt;q3 -->\n",
       "<g id=\"edge5\" class=\"edge\"><title>q2&#45;&gt;q3</title>\n",
       "<path fill=\"none\" stroke=\"black\" d=\"M237.157,-81.2252C253.734,-87.2291 278.975,-96.3704 298.111,-103.301\"/>\n",
       "<polygon fill=\"black\" stroke=\"black\" points=\"297.157,-106.678 307.752,-106.792 299.541,-100.096 297.157,-106.678\"/>\n",
       "<text text-anchor=\"middle\" x=\"272.293\" y=\"-101.75\" font-family=\"Times,serif\" font-size=\"14.00\">&#39;&#39;, &#39;&#39; ; &#39;&#39;</text>\n",
       "</g>\n",
       "<!-- q2&#45;&gt;q2 -->\n",
       "<g id=\"edge3\" class=\"edge\"><title>q2&#45;&gt;q2</title>\n",
       "<path fill=\"none\" stroke=\"black\" d=\"M209.768,-91.6706C207.583,-102.036 210.604,-111.901 218.83,-111.901 224.229,-111.901 227.386,-107.652 228.3,-101.802\"/>\n",
       "<polygon fill=\"black\" stroke=\"black\" points=\"231.792,-101.522 227.892,-91.6706 224.798,-101.803 231.792,-101.522\"/>\n",
       "<text text-anchor=\"middle\" x=\"218.83\" y=\"-114.701\" font-family=\"Times,serif\" font-size=\"14.00\">a, &#39;&#39; ; a</text>\n",
       "</g>\n",
       "<!-- q5 -->\n",
       "<g id=\"node6\" class=\"node\"><title>q5</title>\n",
       "<ellipse fill=\"none\" stroke=\"black\" cx=\"325.755\" cy=\"-24.9503\" rx=\"18.9007\" ry=\"18.9007\"/>\n",
       "<text text-anchor=\"middle\" x=\"325.755\" y=\"-20.7503\" font-family=\"Times,serif\" font-size=\"14.00\">q5</text>\n",
       "</g>\n",
       "<!-- q2&#45;&gt;q5 -->\n",
       "<g id=\"edge4\" class=\"edge\"><title>q2&#45;&gt;q5</title>\n",
       "<path fill=\"none\" stroke=\"black\" d=\"M236.225,-67.1378C252.989,-59.1491 279.277,-46.6221 298.858,-37.2913\"/>\n",
       "<polygon fill=\"black\" stroke=\"black\" points=\"300.608,-40.3344 308.13,-32.8729 297.597,-34.0152 300.608,-40.3344\"/>\n",
       "<text text-anchor=\"middle\" x=\"272.293\" y=\"-60.7503\" font-family=\"Times,serif\" font-size=\"14.00\">&#39;&#39;, &#39;&#39; ; &#39;&#39;</text>\n",
       "</g>\n",
       "<!-- q5&#45;&gt;q6 -->\n",
       "<g id=\"edge10\" class=\"edge\"><title>q5&#45;&gt;q6</title>\n",
       "<path fill=\"none\" stroke=\"black\" d=\"M345.065,-24.62C362.584,-24.304 389.257,-23.8229 409.479,-23.4582\"/>\n",
       "<polygon fill=\"black\" stroke=\"black\" points=\"409.731,-26.9543 419.667,-23.2744 409.605,-19.9554 409.731,-26.9543\"/>\n",
       "<text text-anchor=\"middle\" x=\"380.195\" y=\"-27.7503\" font-family=\"Times,serif\" font-size=\"14.00\">&#39;&#39;, &#39;&#39; ; &#39;&#39;</text>\n",
       "</g>\n",
       "<!-- q5&#45;&gt;q5 -->\n",
       "<g id=\"edge9\" class=\"edge\"><title>q5&#45;&gt;q5</title>\n",
       "<path fill=\"none\" stroke=\"black\" d=\"M316.693,-41.6706C314.508,-52.036 317.529,-61.9006 325.755,-61.9006 331.154,-61.9006 334.311,-57.6523 335.225,-51.802\"/>\n",
       "<polygon fill=\"black\" stroke=\"black\" points=\"338.717,-51.5216 334.817,-41.6706 331.723,-51.8033 338.717,-51.5216\"/>\n",
       "<text text-anchor=\"middle\" x=\"325.755\" y=\"-64.7006\" font-family=\"Times,serif\" font-size=\"14.00\">b, &#39;&#39; ; &#39;&#39;</text>\n",
       "</g>\n",
       "<!-- q4&#45;&gt;q4 -->\n",
       "<g id=\"edge8\" class=\"edge\"><title>q4&#45;&gt;q4</title>\n",
       "<path fill=\"none\" stroke=\"black\" d=\"M428.143,-135.599C426.528,-146.276 430.026,-155.901 438.635,-155.901 444.285,-155.901 447.734,-151.756 448.981,-145.889\"/>\n",
       "<polygon fill=\"black\" stroke=\"black\" points=\"452.484,-145.648 449.128,-135.599 445.485,-145.548 452.484,-145.648\"/>\n",
       "<text text-anchor=\"middle\" x=\"438.635\" y=\"-158.701\" font-family=\"Times,serif\" font-size=\"14.00\">c, &#39;&#39; ; &#39;&#39;</text>\n",
       "</g>\n",
       "</g>\n",
       "</svg>\n"
      ],
      "text/plain": [
       "<graphviz.dot.Digraph at 0x10e733d68>"
      ]
     },
     "execution_count": 44,
     "metadata": {},
     "output_type": "execute_result"
    }
   ],
   "source": [
    "dotObj_pda(F27sip, visible_eps=False)"
   ]
  },
  {
   "cell_type": "code",
   "execution_count": 45,
   "metadata": {
    "run_control": {
     "frozen": false,
     "read_only": false
    }
   },
   "outputs": [],
   "source": [
    "onestpda = {\"Sigma\" : {'a','b','c'},\n",
    "        \"Q\"     : { \"q7\"},\n",
    "        \"Gamma\" : { 'a','b','c','$'},\n",
    "        \"Delta\" : { \n",
    "                   ('q7','',''): {('q7','aa')}\n",
    "                  },\n",
    "        \"q0\"    : \"q7\",\n",
    "        \"z0\"    : \"$\",\n",
    "        \"F\"     : set({ }) }\n",
    "chk_consistent_pda(onestpda)"
   ]
  },
  {
   "cell_type": "code",
   "execution_count": 46,
   "metadata": {
    "run_control": {
     "frozen": false,
     "read_only": false
    }
   },
   "outputs": [
    {
     "data": {
      "image/svg+xml": [
       "<?xml version=\"1.0\" encoding=\"UTF-8\" standalone=\"no\"?>\n",
       "<!DOCTYPE svg PUBLIC \"-//W3C//DTD SVG 1.1//EN\"\n",
       " \"http://www.w3.org/Graphics/SVG/1.1/DTD/svg11.dtd\">\n",
       "<!-- Generated by graphviz version 2.38.0 (20140413.2041)\n",
       " -->\n",
       "<!-- Title: %3 Pages: 1 -->\n",
       "<svg width=\"138pt\" height=\"78pt\"\n",
       " viewBox=\"0.00 0.00 138.15 77.90\" xmlns=\"http://www.w3.org/2000/svg\" xmlns:xlink=\"http://www.w3.org/1999/xlink\">\n",
       "<g id=\"graph0\" class=\"graph\" transform=\"scale(1 1) rotate(0) translate(4 73.9006)\">\n",
       "<title>%3</title>\n",
       "<polygon fill=\"white\" stroke=\"none\" points=\"-4,4 -4,-73.9006 134.154,-73.9006 134.154,4 -4,4\"/>\n",
       "<!-- EMPTY -->\n",
       "<g id=\"node1\" class=\"node\"><title>EMPTY</title>\n",
       "</g>\n",
       "<!-- q7 -->\n",
       "<g id=\"node2\" class=\"node\"><title>q7</title>\n",
       "<ellipse fill=\"none\" stroke=\"black\" cx=\"109.95\" cy=\"-18.9503\" rx=\"18.9007\" ry=\"18.9007\"/>\n",
       "<text text-anchor=\"middle\" x=\"109.95\" y=\"-14.7503\" font-family=\"Times,serif\" font-size=\"14.00\">q7</text>\n",
       "</g>\n",
       "<!-- EMPTY&#45;&gt;q7 -->\n",
       "<g id=\"edge1\" class=\"edge\"><title>EMPTY&#45;&gt;q7</title>\n",
       "<path fill=\"none\" stroke=\"black\" d=\"M54.0588,-18.9503C62.6021,-18.9503 72.1312,-18.9503 80.8208,-18.9503\"/>\n",
       "<polygon fill=\"black\" stroke=\"black\" points=\"80.8811,-22.4504 90.8811,-18.9503 80.881,-15.4504 80.8811,-22.4504\"/>\n",
       "</g>\n",
       "<!-- q7&#45;&gt;q7 -->\n",
       "<g id=\"edge2\" class=\"edge\"><title>q7&#45;&gt;q7</title>\n",
       "<path fill=\"none\" stroke=\"black\" d=\"M103.523,-36.8197C102.324,-46.7532 104.466,-55.9006 109.95,-55.9006 113.464,-55.9006 115.606,-52.1465 116.376,-46.8366\"/>\n",
       "<polygon fill=\"black\" stroke=\"black\" points=\"119.876,-46.8203 116.377,-36.8197 112.876,-46.8192 119.876,-46.8203\"/>\n",
       "<text text-anchor=\"middle\" x=\"109.95\" y=\"-58.7006\" font-family=\"Times,serif\" font-size=\"14.00\">&#39;&#39;, &#39;&#39; ; aa</text>\n",
       "</g>\n",
       "</g>\n",
       "</svg>\n"
      ],
      "text/plain": [
       "<graphviz.dot.Digraph at 0x10e7335c0>"
      ]
     },
     "execution_count": 46,
     "metadata": {},
     "output_type": "execute_result"
    }
   ],
   "source": [
    "dotObj_pda(onestpda)"
   ]
  },
  {
   "cell_type": "code",
   "execution_count": 47,
   "metadata": {
    "run_control": {
     "frozen": false,
     "read_only": false
    }
   },
   "outputs": [
    {
     "name": "stdout",
     "output_type": "stream",
     "text": [
      "String a rejected by your PDA :-(\n",
      "Visited states are:\n",
      "{('q7', 'a', '$'), ('q7', 'a', 'aa$'), ('q7', 'a', 'aaaa$'), ('q7', 'a', 'aaaaaaaa$'), ('q7', 'a', 'aaaaaa$')}\n"
     ]
    }
   ],
   "source": [
    "explore_pda(\"a\",onestpda)"
   ]
  },
  {
   "cell_type": "code",
   "execution_count": 48,
   "metadata": {
    "run_control": {
     "frozen": false,
     "read_only": false
    }
   },
   "outputs": [
    {
     "name": "stdout",
     "output_type": "stream",
     "text": [
      "String aabbcc accepted by your PDA in 2 ways :-) \n",
      "Here are the ways: \n",
      "Final state  ('q4', '', '$')\n",
      "Reached as follows:\n",
      "->  ('q1', 'aabbcc', '$')\n",
      "->  ('q2', 'aabbcc', '$$')\n",
      "->  ('q2', 'abbcc', 'a$$')\n",
      "->  ('q2', 'bbcc', 'aa$$')\n",
      "->  ('q3', 'bbcc', 'aa$$')\n",
      "->  ('q3', 'bcc', 'a$$')\n",
      "->  ('q3', 'cc', '$$')\n",
      "->  ('q4', 'cc', '$')\n",
      "->  ('q4', 'c', '$')\n",
      "->  ('q4', '', '$') .\n",
      "Final state  ('q7', '', '$')\n",
      "Reached as follows:\n",
      "->  ('q1', 'aabbcc', '$')\n",
      "->  ('q2', 'aabbcc', '$$')\n",
      "->  ('q2', 'abbcc', 'a$$')\n",
      "->  ('q2', 'bbcc', 'aa$$')\n",
      "->  ('q5', 'bbcc', 'aa$$')\n",
      "->  ('q5', 'bcc', 'aa$$')\n",
      "->  ('q5', 'cc', 'aa$$')\n",
      "->  ('q6', 'cc', 'aa$$')\n",
      "->  ('q6', 'c', 'a$$')\n",
      "->  ('q6', '', '$$')\n",
      "->  ('q7', '', '$') .\n"
     ]
    }
   ],
   "source": [
    "# This accepts nondeterministically by matching a's and b's\n",
    "# as well as a's and c's\n",
    "explore_pda(\"aabbcc\",F27sip)"
   ]
  },
  {
   "cell_type": "code",
   "execution_count": 49,
   "metadata": {
    "run_control": {
     "frozen": false,
     "read_only": false
    }
   },
   "outputs": [
    {
     "name": "stdout",
     "output_type": "stream",
     "text": [
      "String aaabbbccc accepted by your PDA in 2 ways :-) \n",
      "Here are the ways: \n",
      "Final state  ('q4', '', '$')\n",
      "Reached as follows:\n",
      "->  ('q1', 'aaabbbccc', '$')\n",
      "->  ('q2', 'aaabbbccc', '$$')\n",
      "->  ('q2', 'aabbbccc', 'a$$')\n",
      "->  ('q2', 'abbbccc', 'aa$$')\n",
      "->  ('q2', 'bbbccc', 'aaa$$')\n",
      "->  ('q3', 'bbbccc', 'aaa$$')\n",
      "->  ('q3', 'bbccc', 'aa$$')\n",
      "->  ('q3', 'bccc', 'a$$')\n",
      "->  ('q3', 'ccc', '$$')\n",
      "->  ('q4', 'ccc', '$')\n",
      "->  ('q4', 'cc', '$')\n",
      "->  ('q4', 'c', '$')\n",
      "->  ('q4', '', '$') .\n",
      "Final state  ('q7', '', '$')\n",
      "Reached as follows:\n",
      "->  ('q1', 'aaabbbccc', '$')\n",
      "->  ('q2', 'aaabbbccc', '$$')\n",
      "->  ('q2', 'aabbbccc', 'a$$')\n",
      "->  ('q2', 'abbbccc', 'aa$$')\n",
      "->  ('q2', 'bbbccc', 'aaa$$')\n",
      "->  ('q5', 'bbbccc', 'aaa$$')\n",
      "->  ('q5', 'bbccc', 'aaa$$')\n",
      "->  ('q5', 'bccc', 'aaa$$')\n",
      "->  ('q5', 'ccc', 'aaa$$')\n",
      "->  ('q6', 'ccc', 'aaa$$')\n",
      "->  ('q6', 'cc', 'aa$$')\n",
      "->  ('q6', 'c', 'a$$')\n",
      "->  ('q6', '', '$$')\n",
      "->  ('q7', '', '$') .\n"
     ]
    }
   ],
   "source": [
    "explore_pda(\"aaabbbccc\",F27sip)"
   ]
  },
  {
   "cell_type": "code",
   "execution_count": 50,
   "metadata": {
    "run_control": {
     "frozen": false,
     "read_only": false
    }
   },
   "outputs": [],
   "source": [
    "onestpda1 = {\"Sigma\" : {'a','b','c'},\n",
    "        \"Q\"     : { \"q7\"},\n",
    "        \"Gamma\" : { 'a','b','c','$'},\n",
    "        \"Delta\" : { \n",
    "                   ('q7','',''): {('q7','aa')}\n",
    "                  },\n",
    "        \"q0\"    : \"q7\",\n",
    "        \"z0\"    : \"$\",\n",
    "        \"F\"     : set({ }) }\n",
    "chk_consistent_pda(onestpda1)"
   ]
  },
  {
   "cell_type": "code",
   "execution_count": 51,
   "metadata": {
    "run_control": {
     "frozen": false,
     "read_only": false
    }
   },
   "outputs": [
    {
     "data": {
      "image/svg+xml": [
       "<?xml version=\"1.0\" encoding=\"UTF-8\" standalone=\"no\"?>\n",
       "<!DOCTYPE svg PUBLIC \"-//W3C//DTD SVG 1.1//EN\"\n",
       " \"http://www.w3.org/Graphics/SVG/1.1/DTD/svg11.dtd\">\n",
       "<!-- Generated by graphviz version 2.38.0 (20140413.2041)\n",
       " -->\n",
       "<!-- Title: %3 Pages: 1 -->\n",
       "<svg width=\"138pt\" height=\"78pt\"\n",
       " viewBox=\"0.00 0.00 138.15 77.90\" xmlns=\"http://www.w3.org/2000/svg\" xmlns:xlink=\"http://www.w3.org/1999/xlink\">\n",
       "<g id=\"graph0\" class=\"graph\" transform=\"scale(1 1) rotate(0) translate(4 73.9006)\">\n",
       "<title>%3</title>\n",
       "<polygon fill=\"white\" stroke=\"none\" points=\"-4,4 -4,-73.9006 134.154,-73.9006 134.154,4 -4,4\"/>\n",
       "<!-- EMPTY -->\n",
       "<g id=\"node1\" class=\"node\"><title>EMPTY</title>\n",
       "</g>\n",
       "<!-- q7 -->\n",
       "<g id=\"node2\" class=\"node\"><title>q7</title>\n",
       "<ellipse fill=\"none\" stroke=\"black\" cx=\"109.95\" cy=\"-18.9503\" rx=\"18.9007\" ry=\"18.9007\"/>\n",
       "<text text-anchor=\"middle\" x=\"109.95\" y=\"-14.7503\" font-family=\"Times,serif\" font-size=\"14.00\">q7</text>\n",
       "</g>\n",
       "<!-- EMPTY&#45;&gt;q7 -->\n",
       "<g id=\"edge1\" class=\"edge\"><title>EMPTY&#45;&gt;q7</title>\n",
       "<path fill=\"none\" stroke=\"black\" d=\"M54.0588,-18.9503C62.6021,-18.9503 72.1312,-18.9503 80.8208,-18.9503\"/>\n",
       "<polygon fill=\"black\" stroke=\"black\" points=\"80.8811,-22.4504 90.8811,-18.9503 80.881,-15.4504 80.8811,-22.4504\"/>\n",
       "</g>\n",
       "<!-- q7&#45;&gt;q7 -->\n",
       "<g id=\"edge2\" class=\"edge\"><title>q7&#45;&gt;q7</title>\n",
       "<path fill=\"none\" stroke=\"black\" d=\"M103.523,-36.8197C102.324,-46.7532 104.466,-55.9006 109.95,-55.9006 113.464,-55.9006 115.606,-52.1465 116.376,-46.8366\"/>\n",
       "<polygon fill=\"black\" stroke=\"black\" points=\"119.876,-46.8203 116.377,-36.8197 112.876,-46.8192 119.876,-46.8203\"/>\n",
       "<text text-anchor=\"middle\" x=\"109.95\" y=\"-58.7006\" font-family=\"Times,serif\" font-size=\"14.00\">&#39;&#39;, &#39;&#39; ; aa</text>\n",
       "</g>\n",
       "</g>\n",
       "</svg>\n"
      ],
      "text/plain": [
       "<graphviz.dot.Digraph at 0x10e733588>"
      ]
     },
     "execution_count": 51,
     "metadata": {},
     "output_type": "execute_result"
    }
   ],
   "source": [
    "dotObj_pda(onestpda1)"
   ]
  },
  {
   "cell_type": "code",
   "execution_count": 52,
   "metadata": {
    "run_control": {
     "frozen": false,
     "read_only": false
    }
   },
   "outputs": [
    {
     "name": "stdout",
     "output_type": "stream",
     "text": [
      "String  rejected by your PDA :-(\n",
      "Visited states are:\n",
      "{('q7', '', 'aaaa$'), ('q7', '', 'aa$'), ('q7', '', '$'), ('q7', '', 'aaaaaa$'), ('q7', '', 'aaaaaaaa$')}\n"
     ]
    }
   ],
   "source": [
    "explore_pda(\"\",onestpda1, \"ACCEPT_S\")"
   ]
  },
  {
   "cell_type": "code",
   "execution_count": 53,
   "metadata": {
    "run_control": {
     "frozen": false,
     "read_only": false
    }
   },
   "outputs": [
    {
     "name": "stdout",
     "output_type": "stream",
     "text": [
      "s_terminal_id =  {('q7', '', 'aaaaaaaaaa$')}\n",
      "l_final_id_path =  []\n",
      "s_visited_id =  {('q7', '', 'aaaa$'), ('q7', '', 'aa$'), ('q7', '', '$'), ('q7', '', 'aaaaaa$'), ('q7', '', 'aaaaaaaa$')}\n",
      "String  rejected by your PDA :-(\n",
      "Visited states are:\n",
      "{('q7', '', 'aaaa$'), ('q7', '', 'aa$'), ('q7', '', '$'), ('q7', '', 'aaaaaa$'), ('q7', '', 'aaaaaaaa$')}\n"
     ]
    }
   ],
   "source": [
    "explore_pda(\"\",onestpda1, \"ACCEPT_S\", chatty=True)"
   ]
  },
  {
   "cell_type": "code",
   "execution_count": 54,
   "metadata": {
    "run_control": {
     "frozen": false,
     "read_only": false
    }
   },
   "outputs": [
    {
     "name": "stdout",
     "output_type": "stream",
     "text": [
      "String  rejected by your PDA :-(\n",
      "Visited states are:\n",
      "{('q7', '', 'aaaa$'), ('q7', '', 'aa$'), ('q7', '', '$'), ('q7', '', 'aaaaaa$'), ('q7', '', 'aaaaaaaa$')}\n"
     ]
    }
   ],
   "source": [
    "explore_pda(\"\",onestpda1, \"ACCEPT_F\")"
   ]
  },
  {
   "cell_type": "code",
   "execution_count": null,
   "metadata": {
    "run_control": {
     "frozen": false,
     "read_only": false
    }
   },
   "outputs": [],
   "source": []
  },
  {
   "cell_type": "code",
   "execution_count": 55,
   "metadata": {
    "run_control": {
     "frozen": false,
     "read_only": false
    }
   },
   "outputs": [
    {
     "data": {
      "text/plain": [
       "({('q7', '', 'aaaaaaaaaa$')},\n",
       " [],\n",
       " {('q7', '', '$'),\n",
       "  ('q7', '', 'aa$'),\n",
       "  ('q7', '', 'aaaa$'),\n",
       "  ('q7', '', 'aaaaaa$'),\n",
       "  ('q7', '', 'aaaaaaaa$')})"
      ]
     },
     "execution_count": 55,
     "metadata": {},
     "output_type": "execute_result"
    }
   ],
   "source": [
    "run_pda(\"\",onestpda1, \"ACCEPT_S\", chatty=False)"
   ]
  },
  {
   "cell_type": "code",
   "execution_count": 56,
   "metadata": {
    "run_control": {
     "frozen": false,
     "read_only": false
    }
   },
   "outputs": [
    {
     "name": "stdout",
     "output_type": "stream",
     "text": [
      "s_terminal_id =  {('q7', '', 'aaaaaaaaaa$')}\n",
      "l_final_id_path =  []\n",
      "s_visited_id =  {('q7', '', 'aaaa$'), ('q7', '', 'aa$'), ('q7', '', '$'), ('q7', '', 'aaaaaa$'), ('q7', '', 'aaaaaaaa$')}\n"
     ]
    },
    {
     "data": {
      "text/plain": [
       "({('q7', '', 'aaaaaaaaaa$')},\n",
       " [],\n",
       " {('q7', '', '$'),\n",
       "  ('q7', '', 'aa$'),\n",
       "  ('q7', '', 'aaaa$'),\n",
       "  ('q7', '', 'aaaaaa$'),\n",
       "  ('q7', '', 'aaaaaaaa$')})"
      ]
     },
     "execution_count": 56,
     "metadata": {},
     "output_type": "execute_result"
    }
   ],
   "source": [
    "run_pda(\"\",onestpda1, \"ACCEPT_S\", chatty=True)"
   ]
  },
  {
   "cell_type": "code",
   "execution_count": 57,
   "metadata": {
    "run_control": {
     "frozen": false,
     "read_only": false
    }
   },
   "outputs": [
    {
     "data": {
      "image/svg+xml": [
       "<?xml version=\"1.0\" encoding=\"UTF-8\" standalone=\"no\"?>\n",
       "<!DOCTYPE svg PUBLIC \"-//W3C//DTD SVG 1.1//EN\"\n",
       " \"http://www.w3.org/Graphics/SVG/1.1/DTD/svg11.dtd\">\n",
       "<!-- Generated by graphviz version 2.38.0 (20140413.2041)\n",
       " -->\n",
       "<!-- Title: %3 Pages: 1 -->\n",
       "<svg width=\"259pt\" height=\"264pt\"\n",
       " viewBox=\"0.00 0.00 259.29 263.81\" xmlns=\"http://www.w3.org/2000/svg\" xmlns:xlink=\"http://www.w3.org/1999/xlink\">\n",
       "<g id=\"graph0\" class=\"graph\" transform=\"scale(1 1) rotate(0) translate(4 259.809)\">\n",
       "<title>%3</title>\n",
       "<polygon fill=\"white\" stroke=\"none\" points=\"-4,4 -4,-259.809 255.286,-259.809 255.286,4 -4,4\"/>\n",
       "<!-- EMPTY -->\n",
       "<g id=\"node1\" class=\"node\"><title>EMPTY</title>\n",
       "</g>\n",
       "<!-- I -->\n",
       "<g id=\"node2\" class=\"node\"><title>I</title>\n",
       "<ellipse fill=\"none\" stroke=\"black\" cx=\"109\" cy=\"-45.8088\" rx=\"18\" ry=\"18\"/>\n",
       "<text text-anchor=\"middle\" x=\"109\" y=\"-41.6088\" font-family=\"Times,serif\" font-size=\"14.00\">I</text>\n",
       "</g>\n",
       "<!-- EMPTY&#45;&gt;I -->\n",
       "<g id=\"edge1\" class=\"edge\"><title>EMPTY&#45;&gt;I</title>\n",
       "<path fill=\"none\" stroke=\"black\" d=\"M54.195,-45.8088C62.6538,-45.8088 72.0513,-45.8088 80.5951,-45.8088\"/>\n",
       "<polygon fill=\"black\" stroke=\"black\" points=\"80.8257,-49.3089 90.8257,-45.8088 80.8257,-42.3089 80.8257,-49.3089\"/>\n",
       "</g>\n",
       "<!-- I&#45;&gt;I -->\n",
       "<g id=\"edge2\" class=\"edge\"><title>I&#45;&gt;I</title>\n",
       "<path fill=\"none\" stroke=\"black\" d=\"M107.553,-63.9615C107.33,-73.3479 107.812,-81.8088 109,-81.8088 109.724,-81.8088 110.185,-78.667 110.385,-74.0884\"/>\n",
       "<polygon fill=\"black\" stroke=\"black\" points=\"113.886,-73.9828 110.447,-63.9615 106.886,-73.9399 113.886,-73.9828\"/>\n",
       "<text text-anchor=\"middle\" x=\"109\" y=\"-84.6088\" font-family=\"Times,serif\" font-size=\"14.00\">&#39;&#39;, # ; &#39;&#39;</text>\n",
       "</g>\n",
       "<!-- I&#45;&gt;I -->\n",
       "<g id=\"edge3\" class=\"edge\"><title>I&#45;&gt;I</title>\n",
       "<path fill=\"none\" stroke=\"black\" d=\"M106.595,-63.7871C105.308,-81.0085 106.109,-99.8088 109,-99.8088 111.326,-99.8088 112.299,-87.6352 111.92,-73.9066\"/>\n",
       "<polygon fill=\"black\" stroke=\"black\" points=\"115.409,-73.5961 111.405,-63.7871 108.418,-73.9521 115.409,-73.5961\"/>\n",
       "<text text-anchor=\"middle\" x=\"109\" y=\"-102.609\" font-family=\"Times,serif\" font-size=\"14.00\">a, # ; cc#</text>\n",
       "</g>\n",
       "<!-- I&#45;&gt;I -->\n",
       "<g id=\"edge8\" class=\"edge\"><title>I&#45;&gt;I</title>\n",
       "<path fill=\"none\" stroke=\"black\" d=\"M105.964,-63.8869C103.277,-88.2182 104.289,-117.809 109,-117.809 113.067,-117.809 114.377,-95.7563 112.931,-74.0724\"/>\n",
       "<polygon fill=\"black\" stroke=\"black\" points=\"116.398,-73.5423 112.036,-63.8869 109.425,-74.1548 116.398,-73.5423\"/>\n",
       "<text text-anchor=\"middle\" x=\"109\" y=\"-120.609\" font-family=\"Times,serif\" font-size=\"14.00\">a, c ; ccc</text>\n",
       "</g>\n",
       "<!-- I&#45;&gt;I -->\n",
       "<g id=\"edge9\" class=\"edge\"><title>I&#45;&gt;I</title>\n",
       "<path fill=\"none\" stroke=\"black\" d=\"M105.523,-63.9212C101.247,-95.0486 102.406,-135.809 109,-135.809 114.898,-135.809 116.448,-103.193 113.649,-74.0325\"/>\n",
       "<polygon fill=\"black\" stroke=\"black\" points=\"117.105,-73.4519 112.477,-63.9212 110.151,-74.2576 117.105,-73.4519\"/>\n",
       "<text text-anchor=\"middle\" x=\"109\" y=\"-138.609\" font-family=\"Times,serif\" font-size=\"14.00\">b, # ; b#</text>\n",
       "</g>\n",
       "<!-- I&#45;&gt;I -->\n",
       "<g id=\"edge10\" class=\"edge\"><title>I&#45;&gt;I</title>\n",
       "<path fill=\"none\" stroke=\"black\" d=\"M105.249,-63.6071C99.2146,-101.358 100.465,-153.809 109,-153.809 116.802,-153.809 118.517,-109.985 114.145,-73.6227\"/>\n",
       "<polygon fill=\"black\" stroke=\"black\" points=\"117.596,-73.0289 112.751,-63.6071 110.663,-73.9942 117.596,-73.0289\"/>\n",
       "<text text-anchor=\"middle\" x=\"109\" y=\"-156.609\" font-family=\"Times,serif\" font-size=\"14.00\">b, b ; bb</text>\n",
       "</g>\n",
       "<!-- I&#45;&gt;I -->\n",
       "<g id=\"edge11\" class=\"edge\"><title>I&#45;&gt;I</title>\n",
       "<path fill=\"none\" stroke=\"black\" d=\"M105.01,-63.5779C97.1934,-107.783 98.5234,-171.809 109,-171.809 118.699,-171.809 120.559,-116.934 114.579,-73.7137\"/>\n",
       "<polygon fill=\"black\" stroke=\"black\" points=\"117.997,-72.915 112.99,-63.5779 111.081,-73.9993 117.997,-72.915\"/>\n",
       "<text text-anchor=\"middle\" x=\"109\" y=\"-174.609\" font-family=\"Times,serif\" font-size=\"14.00\">b, c ; &#39;&#39;</text>\n",
       "</g>\n",
       "<!-- Try -->\n",
       "<g id=\"node3\" class=\"node\"><title>Try</title>\n",
       "<ellipse fill=\"none\" stroke=\"black\" cx=\"228.717\" cy=\"-45.8088\" rx=\"22.6379\" ry=\"22.6379\"/>\n",
       "<text text-anchor=\"middle\" x=\"228.717\" y=\"-41.6088\" font-family=\"Times,serif\" font-size=\"14.00\">Try</text>\n",
       "</g>\n",
       "<!-- I&#45;&gt;Try -->\n",
       "<g id=\"edge4\" class=\"edge\"><title>I&#45;&gt;Try</title>\n",
       "<path fill=\"none\" stroke=\"black\" d=\"M120.258,-60.1025C126.476,-67.4965 135.109,-75.7956 145,-79.8088 162.77,-87.019 170.167,-86.4732 188.148,-79.8088 194.391,-77.4954 200.31,-73.7077 205.578,-69.4829\"/>\n",
       "<polygon fill=\"black\" stroke=\"black\" points=\"208.13,-71.897 213.271,-62.6335 203.475,-66.6687 208.13,-71.897\"/>\n",
       "<text text-anchor=\"middle\" x=\"166.574\" y=\"-87.6088\" font-family=\"Times,serif\" font-size=\"14.00\">a, b ; &#39;&#39;</text>\n",
       "</g>\n",
       "<!-- Try&#45;&gt;I -->\n",
       "<g id=\"edge5\" class=\"edge\"><title>Try&#45;&gt;I</title>\n",
       "<path fill=\"none\" stroke=\"black\" d=\"M205.764,-45.8088C186.384,-45.8088 158.054,-45.8088 137.233,-45.8088\"/>\n",
       "<polygon fill=\"black\" stroke=\"black\" points=\"137.117,-42.3089 127.117,-45.8088 137.117,-49.3089 137.117,-42.3089\"/>\n",
       "<text text-anchor=\"middle\" x=\"166.574\" y=\"-48.6088\" font-family=\"Times,serif\" font-size=\"14.00\">&#39;&#39;, b ; &#39;&#39;</text>\n",
       "</g>\n",
       "<!-- Try&#45;&gt;I -->\n",
       "<g id=\"edge6\" class=\"edge\"><title>Try&#45;&gt;I</title>\n",
       "<path fill=\"none\" stroke=\"black\" d=\"M208.565,-35.1127C202.258,-32.1378 195.082,-29.3117 188.148,-27.8088 169.407,-23.7463 163.639,-23.2969 145,-27.8088 141.26,-28.7141 137.472,-30.0921 133.838,-31.691\"/>\n",
       "<polygon fill=\"black\" stroke=\"black\" points=\"132.086,-28.6542 124.717,-36.2665 135.225,-34.9112 132.086,-28.6542\"/>\n",
       "<text text-anchor=\"middle\" x=\"166.574\" y=\"-30.6088\" font-family=\"Times,serif\" font-size=\"14.00\">&#39;&#39;, c ; cc</text>\n",
       "</g>\n",
       "<!-- Try&#45;&gt;I -->\n",
       "<g id=\"edge7\" class=\"edge\"><title>Try&#45;&gt;I</title>\n",
       "<path fill=\"none\" stroke=\"black\" d=\"M214.892,-27.3403C208.023,-19.094 198.785,-10.2486 188.148,-5.80882 170.451,1.5779 162.463,2.11546 145,-5.80882 137.201,-9.34774 130.457,-15.5783 125.027,-22.0836\"/>\n",
       "<polygon fill=\"black\" stroke=\"black\" points=\"122.073,-20.1887 118.873,-30.2886 127.673,-24.389 122.073,-20.1887\"/>\n",
       "<text text-anchor=\"middle\" x=\"166.574\" y=\"-8.60882\" font-family=\"Times,serif\" font-size=\"14.00\">&#39;&#39;, # ; c#</text>\n",
       "</g>\n",
       "</g>\n",
       "</svg>\n"
      ],
      "text/plain": [
       "<graphviz.dot.Digraph at 0x10e72fc88>"
      ]
     },
     "execution_count": 57,
     "metadata": {},
     "output_type": "execute_result"
    }
   ],
   "source": [
    "a1b2_s = md2mc(src=\"File\", fname=\"machines/pdafiles/a1b2_accept_s.pda\")\n",
    "dotObj_pda(a1b2_s) "
   ]
  },
  {
   "cell_type": "code",
   "execution_count": 58,
   "metadata": {
    "run_control": {
     "frozen": false,
     "read_only": false
    }
   },
   "outputs": [
    {
     "data": {
      "image/svg+xml": [
       "<?xml version=\"1.0\" encoding=\"UTF-8\" standalone=\"no\"?>\n",
       "<!DOCTYPE svg PUBLIC \"-//W3C//DTD SVG 1.1//EN\"\n",
       " \"http://www.w3.org/Graphics/SVG/1.1/DTD/svg11.dtd\">\n",
       "<!-- Generated by graphviz version 2.38.0 (20140413.2041)\n",
       " -->\n",
       "<!-- Title: %3 Pages: 1 -->\n",
       "<svg width=\"313pt\" height=\"168pt\"\n",
       " viewBox=\"0.00 0.00 312.71 168.25\" xmlns=\"http://www.w3.org/2000/svg\" xmlns:xlink=\"http://www.w3.org/1999/xlink\">\n",
       "<g id=\"graph0\" class=\"graph\" transform=\"scale(1 1) rotate(0) translate(4 164.252)\">\n",
       "<title>%3</title>\n",
       "<polygon fill=\"white\" stroke=\"none\" points=\"-4,4 -4,-164.252 308.714,-164.252 308.714,4 -4,4\"/>\n",
       "<!-- EMPTY -->\n",
       "<g id=\"node1\" class=\"node\"><title>EMPTY</title>\n",
       "</g>\n",
       "<!-- I -->\n",
       "<g id=\"node2\" class=\"node\"><title>I</title>\n",
       "<ellipse fill=\"none\" stroke=\"black\" cx=\"133\" cy=\"-40.2517\" rx=\"18\" ry=\"18\"/>\n",
       "<text text-anchor=\"middle\" x=\"133\" y=\"-36.0517\" font-family=\"Times,serif\" font-size=\"14.00\">I</text>\n",
       "</g>\n",
       "<!-- EMPTY&#45;&gt;I -->\n",
       "<g id=\"edge1\" class=\"edge\"><title>EMPTY&#45;&gt;I</title>\n",
       "<path fill=\"none\" stroke=\"black\" d=\"M54.2436,-40.2517C69.6933,-40.2517 89.2012,-40.2517 104.812,-40.2517\"/>\n",
       "<polygon fill=\"black\" stroke=\"black\" points=\"104.899,-43.7518 114.899,-40.2517 104.899,-36.7518 104.899,-43.7518\"/>\n",
       "</g>\n",
       "<!-- I&#45;&gt;I -->\n",
       "<g id=\"edge2\" class=\"edge\"><title>I&#45;&gt;I</title>\n",
       "<path fill=\"none\" stroke=\"black\" d=\"M122.849,-55.4183C119.772,-65.9157 123.156,-76.2517 133,-76.2517 139.46,-76.2517 143.138,-71.8003 144.034,-65.7732\"/>\n",
       "<polygon fill=\"black\" stroke=\"black\" points=\"147.488,-65.085 143.151,-55.4183 140.513,-65.6793 147.488,-65.085\"/>\n",
       "<text text-anchor=\"middle\" x=\"133\" y=\"-149.052\" font-family=\"Times,serif\" font-size=\"14.00\">b, # ; b# </text>\n",
       "<text text-anchor=\"middle\" x=\"133\" y=\"-135.052\" font-family=\"Times,serif\" font-size=\"14.00\"> &#39;&#39;, # ; &#39;&#39; </text>\n",
       "<text text-anchor=\"middle\" x=\"133\" y=\"-121.052\" font-family=\"Times,serif\" font-size=\"14.00\"> a, # ; cc# </text>\n",
       "<text text-anchor=\"middle\" x=\"133\" y=\"-107.052\" font-family=\"Times,serif\" font-size=\"14.00\"> a, c ; ccc </text>\n",
       "<text text-anchor=\"middle\" x=\"133\" y=\"-93.0517\" font-family=\"Times,serif\" font-size=\"14.00\"> b, b ; bb </text>\n",
       "<text text-anchor=\"middle\" x=\"133\" y=\"-79.0517\" font-family=\"Times,serif\" font-size=\"14.00\"> b, c ; &#39;&#39;</text>\n",
       "</g>\n",
       "<!-- Try -->\n",
       "<g id=\"node3\" class=\"node\"><title>Try</title>\n",
       "<ellipse fill=\"none\" stroke=\"black\" cx=\"282.145\" cy=\"-40.2517\" rx=\"22.6379\" ry=\"22.6379\"/>\n",
       "<text text-anchor=\"middle\" x=\"282.145\" y=\"-36.0517\" font-family=\"Times,serif\" font-size=\"14.00\">Try</text>\n",
       "</g>\n",
       "<!-- I&#45;&gt;Try -->\n",
       "<g id=\"edge3\" class=\"edge\"><title>I&#45;&gt;Try</title>\n",
       "<path fill=\"none\" stroke=\"black\" d=\"M150.812,-44.4371C172.018,-49.1502 209.582,-55.6161 241.576,-51.2517 244.49,-50.8541 247.493,-50.2991 250.479,-49.6477\"/>\n",
       "<polygon fill=\"black\" stroke=\"black\" points=\"251.575,-52.9813 260.421,-47.1502 249.869,-46.1922 251.575,-52.9813\"/>\n",
       "<text text-anchor=\"middle\" x=\"217.288\" y=\"-55.0517\" font-family=\"Times,serif\" font-size=\"14.00\">a, b ; &#39;&#39;</text>\n",
       "</g>\n",
       "<!-- Try&#45;&gt;I -->\n",
       "<g id=\"edge4\" class=\"edge\"><title>Try&#45;&gt;I</title>\n",
       "<path fill=\"none\" stroke=\"black\" d=\"M267.153,-23.3107C260.27,-16.3011 251.354,-8.95536 241.576,-5.25165 221.387,2.3962 213.82,0.459253 193,-5.25165 179.72,-8.89432 166.4,-16.3864 155.786,-23.5075\"/>\n",
       "<polygon fill=\"black\" stroke=\"black\" points=\"153.717,-20.6832 147.566,-29.3094 157.754,-26.4021 153.717,-20.6832\"/>\n",
       "<text text-anchor=\"middle\" x=\"217.288\" y=\"-36.0517\" font-family=\"Times,serif\" font-size=\"14.00\">&#39;&#39;, # ; c# </text>\n",
       "<text text-anchor=\"middle\" x=\"217.288\" y=\"-22.0517\" font-family=\"Times,serif\" font-size=\"14.00\"> &#39;&#39;, c ; cc </text>\n",
       "<text text-anchor=\"middle\" x=\"217.288\" y=\"-8.05165\" font-family=\"Times,serif\" font-size=\"14.00\"> &#39;&#39;, b ; &#39;&#39;</text>\n",
       "</g>\n",
       "</g>\n",
       "</svg>\n"
      ],
      "text/plain": [
       "<graphviz.dot.Digraph at 0x10e749390>"
      ]
     },
     "execution_count": 58,
     "metadata": {},
     "output_type": "execute_result"
    }
   ],
   "source": [
    "dotObj_pda(a1b2_s, FuseEdges=True) "
   ]
  },
  {
   "cell_type": "code",
   "execution_count": 59,
   "metadata": {
    "run_control": {
     "frozen": false,
     "read_only": false
    }
   },
   "outputs": [
    {
     "name": "stdout",
     "output_type": "stream",
     "text": [
      "Help on function explore_pda in module jove.Def_PDA:\n",
      "\n",
      "explore_pda(inp, P, acceptance='ACCEPT_F', STKMAX=10, chatty=False)\n",
      "    A handy routine to print the result of run_pda plus making \n",
      "    future extensions to explore run-results.\n",
      "\n"
     ]
    }
   ],
   "source": [
    "help(explore_pda)"
   ]
  },
  {
   "cell_type": "code",
   "execution_count": 60,
   "metadata": {
    "run_control": {
     "frozen": false,
     "read_only": false
    }
   },
   "outputs": [
    {
     "name": "stdout",
     "output_type": "stream",
     "text": [
      "String abb accepted by your PDA in 1 ways :-) \n",
      "Here are the ways: \n",
      "Final state  ('I', '', '')\n",
      "Reached as follows:\n",
      "->  ('I', 'abb', '#')\n",
      "->  ('I', 'bb', 'cc#')\n",
      "->  ('I', 'b', 'c#')\n",
      "->  ('I', '', '#')\n",
      "->  ('I', '', '') .\n"
     ]
    }
   ],
   "source": [
    "explore_pda(\"abb\", a1b2_s, acceptance='ACCEPT_S')"
   ]
  },
  {
   "cell_type": "code",
   "execution_count": 61,
   "metadata": {
    "run_control": {
     "frozen": false,
     "read_only": false
    }
   },
   "outputs": [
    {
     "name": "stdout",
     "output_type": "stream",
     "text": [
      "String bab accepted by your PDA in 1 ways :-) \n",
      "Here are the ways: \n",
      "Final state  ('I', '', '')\n",
      "Reached as follows:\n",
      "->  ('I', 'bab', '#')\n",
      "->  ('I', 'ab', 'b#')\n",
      "->  ('Try', 'b', '#')\n",
      "->  ('I', 'b', 'c#')\n",
      "->  ('I', '', '#')\n",
      "->  ('I', '', '') .\n"
     ]
    }
   ],
   "source": [
    "explore_pda(\"bab\", a1b2_s, acceptance='ACCEPT_S')"
   ]
  },
  {
   "cell_type": "code",
   "execution_count": 62,
   "metadata": {
    "run_control": {
     "frozen": false,
     "read_only": false
    }
   },
   "outputs": [
    {
     "name": "stdout",
     "output_type": "stream",
     "text": [
      "String bba accepted by your PDA in 1 ways :-) \n",
      "Here are the ways: \n",
      "Final state  ('I', '', '')\n",
      "Reached as follows:\n",
      "->  ('I', 'bba', '#')\n",
      "->  ('I', 'ba', 'b#')\n",
      "->  ('I', 'a', 'bb#')\n",
      "->  ('Try', '', 'b#')\n",
      "->  ('I', '', '#')\n",
      "->  ('I', '', '') .\n"
     ]
    }
   ],
   "source": [
    "explore_pda(\"bba\", a1b2_s, acceptance='ACCEPT_S')"
   ]
  },
  {
   "cell_type": "code",
   "execution_count": 63,
   "metadata": {
    "run_control": {
     "frozen": false,
     "read_only": false
    }
   },
   "outputs": [
    {
     "name": "stdout",
     "output_type": "stream",
     "text": [
      "String bbaabbbabaabbabbbb accepted by your PDA in 1 ways :-) \n",
      "Here are the ways: \n",
      "Final state  ('I', '', '')\n",
      "Reached as follows:\n",
      "->  ('I', 'bbaabbbabaabbabbbb', '#')\n",
      "->  ('I', 'baabbbabaabbabbbb', 'b#')\n",
      "->  ('I', 'aabbbabaabbabbbb', 'bb#')\n",
      "->  ('Try', 'abbbabaabbabbbb', 'b#')\n",
      "->  ('I', 'abbbabaabbabbbb', '#')\n",
      "->  ('I', 'bbbabaabbabbbb', 'cc#')\n",
      "->  ('I', 'bbabaabbabbbb', 'c#')\n",
      "->  ('I', 'babaabbabbbb', '#')\n",
      "->  ('I', 'abaabbabbbb', 'b#')\n",
      "->  ('Try', 'baabbabbbb', '#')\n",
      "->  ('I', 'baabbabbbb', 'c#')\n",
      "->  ('I', 'aabbabbbb', '#')\n",
      "->  ('I', 'abbabbbb', 'cc#')\n",
      "->  ('I', 'bbabbbb', 'cccc#')\n",
      "->  ('I', 'babbbb', 'ccc#')\n",
      "->  ('I', 'abbbb', 'cc#')\n",
      "->  ('I', 'bbbb', 'cccc#')\n",
      "->  ('I', 'bbb', 'ccc#')\n",
      "->  ('I', 'bb', 'cc#')\n",
      "->  ('I', 'b', 'c#')\n",
      "->  ('I', '', '#')\n",
      "->  ('I', '', '') .\n"
     ]
    }
   ],
   "source": [
    "explore_pda(\"bbaabbbabaabbabbbb\", a1b2_s, acceptance='ACCEPT_S')"
   ]
  },
  {
   "cell_type": "code",
   "execution_count": 64,
   "metadata": {
    "run_control": {
     "frozen": false,
     "read_only": false
    }
   },
   "outputs": [
    {
     "name": "stdout",
     "output_type": "stream",
     "text": [
      "String babaababbbaabbbbbb accepted by your PDA in 1 ways :-) \n",
      "Here are the ways: \n",
      "Final state  ('I', '', '')\n",
      "Reached as follows:\n",
      "->  ('I', 'babaababbbaabbbbbb', '#')\n",
      "->  ('I', 'abaababbbaabbbbbb', 'b#')\n",
      "->  ('Try', 'baababbbaabbbbbb', '#')\n",
      "->  ('I', 'baababbbaabbbbbb', 'c#')\n",
      "->  ('I', 'aababbbaabbbbbb', '#')\n",
      "->  ('I', 'ababbbaabbbbbb', 'cc#')\n",
      "->  ('I', 'babbbaabbbbbb', 'cccc#')\n",
      "->  ('I', 'abbbaabbbbbb', 'ccc#')\n",
      "->  ('I', 'bbbaabbbbbb', 'ccccc#')\n",
      "->  ('I', 'bbaabbbbbb', 'cccc#')\n",
      "->  ('I', 'baabbbbbb', 'ccc#')\n",
      "->  ('I', 'aabbbbbb', 'cc#')\n",
      "->  ('I', 'abbbbbb', 'cccc#')\n",
      "->  ('I', 'bbbbbb', 'cccccc#')\n",
      "->  ('I', 'bbbbb', 'ccccc#')\n",
      "->  ('I', 'bbbb', 'cccc#')\n",
      "->  ('I', 'bbb', 'ccc#')\n",
      "->  ('I', 'bb', 'cc#')\n",
      "->  ('I', 'b', 'c#')\n",
      "->  ('I', '', '#')\n",
      "->  ('I', '', '') .\n"
     ]
    }
   ],
   "source": [
    "explore_pda(\"babaababbbaabbbbbb\", a1b2_s, acceptance='ACCEPT_S')"
   ]
  },
  {
   "cell_type": "code",
   "execution_count": 65,
   "metadata": {
    "run_control": {
     "frozen": false,
     "read_only": false
    }
   },
   "outputs": [
    {
     "name": "stdout",
     "output_type": "stream",
     "text": [
      "String abbaababbbabbbbbba accepted by your PDA in 1 ways :-) \n",
      "Here are the ways: \n",
      "Final state  ('I', '', '')\n",
      "Reached as follows:\n",
      "->  ('I', 'abbaababbbabbbbbba', '#')\n",
      "->  ('I', 'bbaababbbabbbbbba', 'cc#')\n",
      "->  ('I', 'baababbbabbbbbba', 'c#')\n",
      "->  ('I', 'aababbbabbbbbba', '#')\n",
      "->  ('I', 'ababbbabbbbbba', 'cc#')\n",
      "->  ('I', 'babbbabbbbbba', 'cccc#')\n",
      "->  ('I', 'abbbabbbbbba', 'ccc#')\n",
      "->  ('I', 'bbbabbbbbba', 'ccccc#')\n",
      "->  ('I', 'bbabbbbbba', 'cccc#')\n",
      "->  ('I', 'babbbbbba', 'ccc#')\n",
      "->  ('I', 'abbbbbba', 'cc#')\n",
      "->  ('I', 'bbbbbba', 'cccc#')\n",
      "->  ('I', 'bbbbba', 'ccc#')\n",
      "->  ('I', 'bbbba', 'cc#')\n",
      "->  ('I', 'bbba', 'c#')\n",
      "->  ('I', 'bba', '#')\n",
      "->  ('I', 'ba', 'b#')\n",
      "->  ('I', 'a', 'bb#')\n",
      "->  ('Try', '', 'b#')\n",
      "->  ('I', '', '#')\n",
      "->  ('I', '', '') .\n"
     ]
    }
   ],
   "source": [
    "explore_pda(\"abbaababbbabbbbbba\", a1b2_s, acceptance='ACCEPT_S')"
   ]
  },
  {
   "cell_type": "code",
   "execution_count": 66,
   "metadata": {
    "run_control": {
     "frozen": false,
     "read_only": false
    }
   },
   "outputs": [
    {
     "data": {
      "image/svg+xml": [
       "<?xml version=\"1.0\" encoding=\"UTF-8\" standalone=\"no\"?>\n",
       "<!DOCTYPE svg PUBLIC \"-//W3C//DTD SVG 1.1//EN\"\n",
       " \"http://www.w3.org/Graphics/SVG/1.1/DTD/svg11.dtd\">\n",
       "<!-- Generated by graphviz version 2.38.0 (20140413.2041)\n",
       " -->\n",
       "<!-- Title: %3 Pages: 1 -->\n",
       "<svg width=\"297pt\" height=\"302pt\"\n",
       " viewBox=\"0.00 0.00 297.36 301.60\" xmlns=\"http://www.w3.org/2000/svg\" xmlns:xlink=\"http://www.w3.org/1999/xlink\">\n",
       "<g id=\"graph0\" class=\"graph\" transform=\"scale(1 1) rotate(0) translate(4 297.604)\">\n",
       "<title>%3</title>\n",
       "<polygon fill=\"white\" stroke=\"none\" points=\"-4,4 -4,-297.604 293.357,-297.604 293.357,4 -4,4\"/>\n",
       "<!-- EMPTY -->\n",
       "<g id=\"node1\" class=\"node\"><title>EMPTY</title>\n",
       "</g>\n",
       "<!-- I -->\n",
       "<g id=\"node2\" class=\"node\"><title>I</title>\n",
       "<ellipse fill=\"none\" stroke=\"black\" cx=\"109\" cy=\"-115.604\" rx=\"18\" ry=\"18\"/>\n",
       "<text text-anchor=\"middle\" x=\"109\" y=\"-111.404\" font-family=\"Times,serif\" font-size=\"14.00\">I</text>\n",
       "</g>\n",
       "<!-- EMPTY&#45;&gt;I -->\n",
       "<g id=\"edge1\" class=\"edge\"><title>EMPTY&#45;&gt;I</title>\n",
       "<path fill=\"none\" stroke=\"black\" d=\"M54.195,-115.604C62.6538,-115.604 72.0513,-115.604 80.5951,-115.604\"/>\n",
       "<polygon fill=\"black\" stroke=\"black\" points=\"80.8257,-119.105 90.8257,-115.604 80.8257,-112.105 80.8257,-119.105\"/>\n",
       "</g>\n",
       "<!-- I&#45;&gt;I -->\n",
       "<g id=\"edge3\" class=\"edge\"><title>I&#45;&gt;I</title>\n",
       "<path fill=\"none\" stroke=\"black\" d=\"M107.553,-133.757C107.33,-143.144 107.812,-151.604 109,-151.604 109.724,-151.604 110.185,-148.463 110.385,-143.884\"/>\n",
       "<polygon fill=\"black\" stroke=\"black\" points=\"113.886,-143.778 110.447,-133.757 106.886,-143.736 113.886,-143.778\"/>\n",
       "<text text-anchor=\"middle\" x=\"109\" y=\"-154.404\" font-family=\"Times,serif\" font-size=\"14.00\">a, # ; cc#</text>\n",
       "</g>\n",
       "<!-- I&#45;&gt;I -->\n",
       "<g id=\"edge8\" class=\"edge\"><title>I&#45;&gt;I</title>\n",
       "<path fill=\"none\" stroke=\"black\" d=\"M106.595,-133.583C105.308,-150.804 106.109,-169.604 109,-169.604 111.326,-169.604 112.299,-157.431 111.92,-143.702\"/>\n",
       "<polygon fill=\"black\" stroke=\"black\" points=\"115.409,-143.392 111.405,-133.583 108.418,-143.748 115.409,-143.392\"/>\n",
       "<text text-anchor=\"middle\" x=\"109\" y=\"-172.404\" font-family=\"Times,serif\" font-size=\"14.00\">a, c ; ccc</text>\n",
       "</g>\n",
       "<!-- I&#45;&gt;I -->\n",
       "<g id=\"edge9\" class=\"edge\"><title>I&#45;&gt;I</title>\n",
       "<path fill=\"none\" stroke=\"black\" d=\"M105.964,-133.683C103.277,-158.014 104.289,-187.604 109,-187.604 113.067,-187.604 114.377,-165.552 112.931,-143.868\"/>\n",
       "<polygon fill=\"black\" stroke=\"black\" points=\"116.398,-143.338 112.036,-133.683 109.425,-143.95 116.398,-143.338\"/>\n",
       "<text text-anchor=\"middle\" x=\"109\" y=\"-190.404\" font-family=\"Times,serif\" font-size=\"14.00\">b, # ; b#</text>\n",
       "</g>\n",
       "<!-- I&#45;&gt;I -->\n",
       "<g id=\"edge10\" class=\"edge\"><title>I&#45;&gt;I</title>\n",
       "<path fill=\"none\" stroke=\"black\" d=\"M105.523,-133.717C101.247,-164.844 102.406,-205.604 109,-205.604 114.898,-205.604 116.448,-172.989 113.649,-143.828\"/>\n",
       "<polygon fill=\"black\" stroke=\"black\" points=\"117.105,-143.248 112.477,-133.717 110.151,-144.053 117.105,-143.248\"/>\n",
       "<text text-anchor=\"middle\" x=\"109\" y=\"-208.404\" font-family=\"Times,serif\" font-size=\"14.00\">b, b ; bb</text>\n",
       "</g>\n",
       "<!-- I&#45;&gt;I -->\n",
       "<g id=\"edge11\" class=\"edge\"><title>I&#45;&gt;I</title>\n",
       "<path fill=\"none\" stroke=\"black\" d=\"M105.249,-133.403C99.2146,-171.153 100.465,-223.604 109,-223.604 116.802,-223.604 118.517,-179.781 114.145,-143.418\"/>\n",
       "<polygon fill=\"black\" stroke=\"black\" points=\"117.596,-142.825 112.751,-133.403 110.663,-143.79 117.596,-142.825\"/>\n",
       "<text text-anchor=\"middle\" x=\"109\" y=\"-226.404\" font-family=\"Times,serif\" font-size=\"14.00\">b, c ; &#39;&#39;</text>\n",
       "</g>\n",
       "<!-- Try -->\n",
       "<g id=\"node3\" class=\"node\"><title>Try</title>\n",
       "<ellipse fill=\"none\" stroke=\"black\" cx=\"247.753\" cy=\"-137.604\" rx=\"22.6379\" ry=\"22.6379\"/>\n",
       "<text text-anchor=\"middle\" x=\"247.753\" y=\"-133.404\" font-family=\"Times,serif\" font-size=\"14.00\">Try</text>\n",
       "</g>\n",
       "<!-- I&#45;&gt;Try -->\n",
       "<g id=\"edge4\" class=\"edge\"><title>I&#45;&gt;Try</title>\n",
       "<path fill=\"none\" stroke=\"black\" d=\"M116.178,-132.273C121.693,-144.492 131.071,-160.19 145,-167.604 169.04,-180.402 199.259,-168.405 220.497,-155.988\"/>\n",
       "<polygon fill=\"black\" stroke=\"black\" points=\"222.351,-158.956 229.004,-150.712 218.661,-153.008 222.351,-158.956\"/>\n",
       "<text text-anchor=\"middle\" x=\"166.574\" y=\"-175.404\" font-family=\"Times,serif\" font-size=\"14.00\">a, b ; &#39;&#39;</text>\n",
       "</g>\n",
       "<!-- Faccept -->\n",
       "<g id=\"node4\" class=\"node\"><title>Faccept</title>\n",
       "<ellipse fill=\"none\" stroke=\"black\" cx=\"247.753\" cy=\"-41.6045\" rx=\"37.6991\" ry=\"37.6991\"/>\n",
       "<ellipse fill=\"none\" stroke=\"black\" cx=\"247.753\" cy=\"-41.6045\" rx=\"41.7092\" ry=\"41.7092\"/>\n",
       "<text text-anchor=\"middle\" x=\"247.753\" y=\"-37.4045\" font-family=\"Times,serif\" font-size=\"14.00\">Faccept</text>\n",
       "</g>\n",
       "<!-- I&#45;&gt;Faccept -->\n",
       "<g id=\"edge2\" class=\"edge\"><title>I&#45;&gt;Faccept</title>\n",
       "<path fill=\"none\" stroke=\"black\" d=\"M118.043,-99.8689C124.111,-89.5171 133.373,-76.4743 145,-68.6045 160.056,-58.4132 178.776,-52.0653 196.038,-48.1127\"/>\n",
       "<polygon fill=\"black\" stroke=\"black\" points=\"196.912,-51.5061 205.994,-46.0514 195.492,-44.6515 196.912,-51.5061\"/>\n",
       "<text text-anchor=\"middle\" x=\"166.574\" y=\"-71.4045\" font-family=\"Times,serif\" font-size=\"14.00\">&#39;&#39;, # ; &#39;&#39;</text>\n",
       "</g>\n",
       "<!-- Try&#45;&gt;I -->\n",
       "<g id=\"edge5\" class=\"edge\"><title>Try&#45;&gt;I</title>\n",
       "<path fill=\"none\" stroke=\"black\" d=\"M224.995,-138.199C204.172,-138.281 172.025,-137.126 145,-130.604 141.554,-129.773 138.016,-128.631 134.575,-127.347\"/>\n",
       "<polygon fill=\"black\" stroke=\"black\" points=\"135.873,-124.096 125.296,-123.483 133.182,-130.558 135.873,-124.096\"/>\n",
       "<text text-anchor=\"middle\" x=\"166.574\" y=\"-139.404\" font-family=\"Times,serif\" font-size=\"14.00\">&#39;&#39;, b ; &#39;&#39;</text>\n",
       "</g>\n",
       "<!-- Try&#45;&gt;I -->\n",
       "<g id=\"edge6\" class=\"edge\"><title>Try&#45;&gt;I</title>\n",
       "<path fill=\"none\" stroke=\"black\" d=\"M227.592,-127.101C216.443,-121.592 201.912,-115.418 188.148,-112.604 171.45,-109.192 152.337,-109.847 137.193,-111.402\"/>\n",
       "<polygon fill=\"black\" stroke=\"black\" points=\"136.462,-107.965 126.958,-112.647 137.308,-114.913 136.462,-107.965\"/>\n",
       "<text text-anchor=\"middle\" x=\"166.574\" y=\"-115.404\" font-family=\"Times,serif\" font-size=\"14.00\">&#39;&#39;, c ; cc</text>\n",
       "</g>\n",
       "<!-- Try&#45;&gt;I -->\n",
       "<g id=\"edge7\" class=\"edge\"><title>Try&#45;&gt;I</title>\n",
       "<path fill=\"none\" stroke=\"black\" d=\"M231.631,-121.01C220.731,-110.346 205.019,-97.4347 188.148,-91.6045 170.023,-85.3406 163.318,-85.9274 145,-91.6045 140.236,-93.0808 135.545,-95.4543 131.221,-98.1472\"/>\n",
       "<polygon fill=\"black\" stroke=\"black\" points=\"129.136,-95.3342 122.954,-103.939 133.153,-101.067 129.136,-95.3342\"/>\n",
       "<text text-anchor=\"middle\" x=\"166.574\" y=\"-94.4045\" font-family=\"Times,serif\" font-size=\"14.00\">&#39;&#39;, # ; c#</text>\n",
       "</g>\n",
       "</g>\n",
       "</svg>\n"
      ],
      "text/plain": [
       "<graphviz.dot.Digraph at 0x10e749ef0>"
      ]
     },
     "execution_count": 66,
     "metadata": {},
     "output_type": "execute_result"
    }
   ],
   "source": [
    "a1b2_f = md2mc(src=\"File\", fname=\"machines/pdafiles/a1b2_accept_f.pda\")\n",
    "dotObj_pda(a1b2_f) "
   ]
  },
  {
   "cell_type": "code",
   "execution_count": 67,
   "metadata": {
    "run_control": {
     "frozen": false,
     "read_only": false
    }
   },
   "outputs": [
    {
     "data": {
      "image/svg+xml": [
       "<?xml version=\"1.0\" encoding=\"UTF-8\" standalone=\"no\"?>\n",
       "<!DOCTYPE svg PUBLIC \"-//W3C//DTD SVG 1.1//EN\"\n",
       " \"http://www.w3.org/Graphics/SVG/1.1/DTD/svg11.dtd\">\n",
       "<!-- Generated by graphviz version 2.38.0 (20140413.2041)\n",
       " -->\n",
       "<!-- Title: %3 Pages: 1 -->\n",
       "<svg width=\"337pt\" height=\"193pt\"\n",
       " viewBox=\"0.00 0.00 336.79 192.60\" xmlns=\"http://www.w3.org/2000/svg\" xmlns:xlink=\"http://www.w3.org/1999/xlink\">\n",
       "<g id=\"graph0\" class=\"graph\" transform=\"scale(1 1) rotate(0) translate(4 188.604)\">\n",
       "<title>%3</title>\n",
       "<polygon fill=\"white\" stroke=\"none\" points=\"-4,4 -4,-188.604 332.785,-188.604 332.785,4 -4,4\"/>\n",
       "<!-- EMPTY -->\n",
       "<g id=\"node1\" class=\"node\"><title>EMPTY</title>\n",
       "</g>\n",
       "<!-- I -->\n",
       "<g id=\"node2\" class=\"node\"><title>I</title>\n",
       "<ellipse fill=\"none\" stroke=\"black\" cx=\"126\" cy=\"-78.6045\" rx=\"18\" ry=\"18\"/>\n",
       "<text text-anchor=\"middle\" x=\"126\" y=\"-74.4045\" font-family=\"Times,serif\" font-size=\"14.00\">I</text>\n",
       "</g>\n",
       "<!-- EMPTY&#45;&gt;I -->\n",
       "<g id=\"edge1\" class=\"edge\"><title>EMPTY&#45;&gt;I</title>\n",
       "<path fill=\"none\" stroke=\"black\" d=\"M54.2496,-78.6045C67.7083,-78.6045 84.0856,-78.6045 97.6926,-78.6045\"/>\n",
       "<polygon fill=\"black\" stroke=\"black\" points=\"97.9025,-82.1046 107.903,-78.6045 97.9025,-75.1046 97.9025,-82.1046\"/>\n",
       "</g>\n",
       "<!-- I&#45;&gt;I -->\n",
       "<g id=\"edge3\" class=\"edge\"><title>I&#45;&gt;I</title>\n",
       "<path fill=\"none\" stroke=\"black\" d=\"M117.021,-94.5205C114.679,-104.755 117.672,-114.604 126,-114.604 131.465,-114.604 134.633,-110.363 135.503,-104.554\"/>\n",
       "<polygon fill=\"black\" stroke=\"black\" points=\"138.996,-104.324 134.979,-94.5205 132.005,-104.69 138.996,-104.324\"/>\n",
       "<text text-anchor=\"middle\" x=\"126\" y=\"-173.404\" font-family=\"Times,serif\" font-size=\"14.00\">b, # ; b# </text>\n",
       "<text text-anchor=\"middle\" x=\"126\" y=\"-159.404\" font-family=\"Times,serif\" font-size=\"14.00\"> a, # ; cc# </text>\n",
       "<text text-anchor=\"middle\" x=\"126\" y=\"-145.404\" font-family=\"Times,serif\" font-size=\"14.00\"> a, c ; ccc </text>\n",
       "<text text-anchor=\"middle\" x=\"126\" y=\"-131.404\" font-family=\"Times,serif\" font-size=\"14.00\"> b, b ; bb </text>\n",
       "<text text-anchor=\"middle\" x=\"126\" y=\"-117.404\" font-family=\"Times,serif\" font-size=\"14.00\"> b, c ; &#39;&#39;</text>\n",
       "</g>\n",
       "<!-- Try -->\n",
       "<g id=\"node3\" class=\"node\"><title>Try</title>\n",
       "<ellipse fill=\"none\" stroke=\"black\" cx=\"287.181\" cy=\"-133.604\" rx=\"22.6379\" ry=\"22.6379\"/>\n",
       "<text text-anchor=\"middle\" x=\"287.181\" y=\"-129.404\" font-family=\"Times,serif\" font-size=\"14.00\">Try</text>\n",
       "</g>\n",
       "<!-- I&#45;&gt;Try -->\n",
       "<g id=\"edge4\" class=\"edge\"><title>I&#45;&gt;Try</title>\n",
       "<path fill=\"none\" stroke=\"black\" d=\"M138.831,-91.8995C148.556,-101.878 163.255,-114.925 179,-121.604 202.849,-131.722 232.227,-134.408 254.191,-134.741\"/>\n",
       "<polygon fill=\"black\" stroke=\"black\" points=\"254.322,-138.241 264.321,-134.737 254.319,-131.241 254.322,-138.241\"/>\n",
       "<text text-anchor=\"middle\" x=\"203.288\" y=\"-135.404\" font-family=\"Times,serif\" font-size=\"14.00\">a, b ; &#39;&#39;</text>\n",
       "</g>\n",
       "<!-- Faccept -->\n",
       "<g id=\"node4\" class=\"node\"><title>Faccept</title>\n",
       "<ellipse fill=\"none\" stroke=\"black\" cx=\"287.181\" cy=\"-41.6045\" rx=\"37.6991\" ry=\"37.6991\"/>\n",
       "<ellipse fill=\"none\" stroke=\"black\" cx=\"287.181\" cy=\"-41.6045\" rx=\"41.7092\" ry=\"41.7092\"/>\n",
       "<text text-anchor=\"middle\" x=\"287.181\" y=\"-37.4045\" font-family=\"Times,serif\" font-size=\"14.00\">Faccept</text>\n",
       "</g>\n",
       "<!-- I&#45;&gt;Faccept -->\n",
       "<g id=\"edge2\" class=\"edge\"><title>I&#45;&gt;Faccept</title>\n",
       "<path fill=\"none\" stroke=\"black\" d=\"M139.911,-66.3528C149.765,-57.8832 164.139,-47.3228 179,-42.6045 196.949,-36.9056 217.457,-35.5561 235.695,-36.0079\"/>\n",
       "<polygon fill=\"black\" stroke=\"black\" points=\"235.707,-39.5116 245.848,-36.4452 236.008,-32.5181 235.707,-39.5116\"/>\n",
       "<text text-anchor=\"middle\" x=\"203.288\" y=\"-45.4045\" font-family=\"Times,serif\" font-size=\"14.00\">&#39;&#39;, # ; &#39;&#39;</text>\n",
       "</g>\n",
       "<!-- Try&#45;&gt;I -->\n",
       "<g id=\"edge5\" class=\"edge\"><title>Try&#45;&gt;I</title>\n",
       "<path fill=\"none\" stroke=\"black\" d=\"M270.66,-117.958C253.771,-100.976 228.966,-76.1761 227.576,-75.6045 203.942,-65.8864 174.477,-68.2543 153.562,-72.0688\"/>\n",
       "<polygon fill=\"black\" stroke=\"black\" points=\"152.858,-68.6403 143.763,-74.0748 154.262,-75.4981 152.858,-68.6403\"/>\n",
       "<text text-anchor=\"middle\" x=\"203.288\" y=\"-106.404\" font-family=\"Times,serif\" font-size=\"14.00\">&#39;&#39;, # ; c# </text>\n",
       "<text text-anchor=\"middle\" x=\"203.288\" y=\"-92.4045\" font-family=\"Times,serif\" font-size=\"14.00\"> &#39;&#39;, c ; cc </text>\n",
       "<text text-anchor=\"middle\" x=\"203.288\" y=\"-78.4045\" font-family=\"Times,serif\" font-size=\"14.00\"> &#39;&#39;, b ; &#39;&#39;</text>\n",
       "</g>\n",
       "</g>\n",
       "</svg>\n"
      ],
      "text/plain": [
       "<graphviz.dot.Digraph at 0x10e7493c8>"
      ]
     },
     "execution_count": 67,
     "metadata": {},
     "output_type": "execute_result"
    }
   ],
   "source": [
    "dotObj_pda(a1b2_f, FuseEdges=True)"
   ]
  },
  {
   "cell_type": "code",
   "execution_count": 68,
   "metadata": {
    "run_control": {
     "frozen": false,
     "read_only": false
    }
   },
   "outputs": [
    {
     "name": "stdout",
     "output_type": "stream",
     "text": [
      "String abbaababbbabbbbbba accepted by your PDA in 1 ways :-) \n",
      "Here are the ways: \n",
      "Final state  ('Faccept', '', '')\n",
      "Reached as follows:\n",
      "->  ('I', 'abbaababbbabbbbbba', '#')\n",
      "->  ('I', 'bbaababbbabbbbbba', 'cc#')\n",
      "->  ('I', 'baababbbabbbbbba', 'c#')\n",
      "->  ('I', 'aababbbabbbbbba', '#')\n",
      "->  ('I', 'ababbbabbbbbba', 'cc#')\n",
      "->  ('I', 'babbbabbbbbba', 'cccc#')\n",
      "->  ('I', 'abbbabbbbbba', 'ccc#')\n",
      "->  ('I', 'bbbabbbbbba', 'ccccc#')\n",
      "->  ('I', 'bbabbbbbba', 'cccc#')\n",
      "->  ('I', 'babbbbbba', 'ccc#')\n",
      "->  ('I', 'abbbbbba', 'cc#')\n",
      "->  ('I', 'bbbbbba', 'cccc#')\n",
      "->  ('I', 'bbbbba', 'ccc#')\n",
      "->  ('I', 'bbbba', 'cc#')\n",
      "->  ('I', 'bbba', 'c#')\n",
      "->  ('I', 'bba', '#')\n",
      "->  ('I', 'ba', 'b#')\n",
      "->  ('I', 'a', 'bb#')\n",
      "->  ('Try', '', 'b#')\n",
      "->  ('I', '', '#')\n",
      "->  ('Faccept', '', '') .\n"
     ]
    }
   ],
   "source": [
    "explore_pda(\"abbaababbbabbbbbba\", a1b2_f) # Default is accept_f"
   ]
  },
  {
   "cell_type": "code",
   "execution_count": 69,
   "metadata": {
    "run_control": {
     "frozen": false,
     "read_only": false
    }
   },
   "outputs": [
    {
     "name": "stdout",
     "output_type": "stream",
     "text": [
      "String babaababbbaabbbbbb accepted by your PDA in 1 ways :-) \n",
      "Here are the ways: \n",
      "Final state  ('Faccept', '', '')\n",
      "Reached as follows:\n",
      "->  ('I', 'babaababbbaabbbbbb', '#')\n",
      "->  ('I', 'abaababbbaabbbbbb', 'b#')\n",
      "->  ('Try', 'baababbbaabbbbbb', '#')\n",
      "->  ('I', 'baababbbaabbbbbb', 'c#')\n",
      "->  ('I', 'aababbbaabbbbbb', '#')\n",
      "->  ('I', 'ababbbaabbbbbb', 'cc#')\n",
      "->  ('I', 'babbbaabbbbbb', 'cccc#')\n",
      "->  ('I', 'abbbaabbbbbb', 'ccc#')\n",
      "->  ('I', 'bbbaabbbbbb', 'ccccc#')\n",
      "->  ('I', 'bbaabbbbbb', 'cccc#')\n",
      "->  ('I', 'baabbbbbb', 'ccc#')\n",
      "->  ('I', 'aabbbbbb', 'cc#')\n",
      "->  ('I', 'abbbbbb', 'cccc#')\n",
      "->  ('I', 'bbbbbb', 'cccccc#')\n",
      "->  ('I', 'bbbbb', 'ccccc#')\n",
      "->  ('I', 'bbbb', 'cccc#')\n",
      "->  ('I', 'bbb', 'ccc#')\n",
      "->  ('I', 'bb', 'cc#')\n",
      "->  ('I', 'b', 'c#')\n",
      "->  ('I', '', '#')\n",
      "->  ('Faccept', '', '') .\n"
     ]
    }
   ],
   "source": [
    "explore_pda(\"babaababbbaabbbbbb\", a1b2_f, acceptance='ACCEPT_F') # default acceptance"
   ]
  },
  {
   "cell_type": "code",
   "execution_count": 70,
   "metadata": {
    "run_control": {
     "frozen": false,
     "read_only": false
    }
   },
   "outputs": [
    {
     "name": "stdout",
     "output_type": "stream",
     "text": [
      "String bbaabbbabaabbabbbb accepted by your PDA in 1 ways :-) \n",
      "Here are the ways: \n",
      "Final state  ('Faccept', '', '')\n",
      "Reached as follows:\n",
      "->  ('I', 'bbaabbbabaabbabbbb', '#')\n",
      "->  ('I', 'baabbbabaabbabbbb', 'b#')\n",
      "->  ('I', 'aabbbabaabbabbbb', 'bb#')\n",
      "->  ('Try', 'abbbabaabbabbbb', 'b#')\n",
      "->  ('I', 'abbbabaabbabbbb', '#')\n",
      "->  ('I', 'bbbabaabbabbbb', 'cc#')\n",
      "->  ('I', 'bbabaabbabbbb', 'c#')\n",
      "->  ('I', 'babaabbabbbb', '#')\n",
      "->  ('I', 'abaabbabbbb', 'b#')\n",
      "->  ('Try', 'baabbabbbb', '#')\n",
      "->  ('I', 'baabbabbbb', 'c#')\n",
      "->  ('I', 'aabbabbbb', '#')\n",
      "->  ('I', 'abbabbbb', 'cc#')\n",
      "->  ('I', 'bbabbbb', 'cccc#')\n",
      "->  ('I', 'babbbb', 'ccc#')\n",
      "->  ('I', 'abbbb', 'cc#')\n",
      "->  ('I', 'bbbb', 'cccc#')\n",
      "->  ('I', 'bbb', 'ccc#')\n",
      "->  ('I', 'bb', 'cc#')\n",
      "->  ('I', 'b', 'c#')\n",
      "->  ('I', '', '#')\n",
      "->  ('Faccept', '', '') .\n"
     ]
    }
   ],
   "source": [
    "explore_pda(\"bbaabbbabaabbabbbb\", a1b2_f, STKMAX=2)"
   ]
  },
  {
   "cell_type": "code",
   "execution_count": null,
   "metadata": {
    "run_control": {
     "frozen": false,
     "read_only": false
    }
   },
   "outputs": [],
   "source": []
  },
  {
   "cell_type": "code",
   "execution_count": 71,
   "metadata": {
    "run_control": {
     "frozen": false,
     "read_only": false
    }
   },
   "outputs": [
    {
     "data": {
      "image/svg+xml": [
       "<?xml version=\"1.0\" encoding=\"UTF-8\" standalone=\"no\"?>\n",
       "<!DOCTYPE svg PUBLIC \"-//W3C//DTD SVG 1.1//EN\"\n",
       " \"http://www.w3.org/Graphics/SVG/1.1/DTD/svg11.dtd\">\n",
       "<!-- Generated by graphviz version 2.38.0 (20140413.2041)\n",
       " -->\n",
       "<!-- Title: %3 Pages: 1 -->\n",
       "<svg width=\"494pt\" height=\"187pt\"\n",
       " viewBox=\"0.00 0.00 494.28 186.79\" xmlns=\"http://www.w3.org/2000/svg\" xmlns:xlink=\"http://www.w3.org/1999/xlink\">\n",
       "<g id=\"graph0\" class=\"graph\" transform=\"scale(1 1) rotate(0) translate(4 182.79)\">\n",
       "<title>%3</title>\n",
       "<polygon fill=\"white\" stroke=\"none\" points=\"-4,4 -4,-182.79 490.279,-182.79 490.279,4 -4,4\"/>\n",
       "<!-- EMPTY -->\n",
       "<g id=\"node1\" class=\"node\"><title>EMPTY</title>\n",
       "</g>\n",
       "<!-- iq2 -->\n",
       "<g id=\"node3\" class=\"node\"><title>iq2</title>\n",
       "<ellipse fill=\"none\" stroke=\"black\" cx=\"112.407\" cy=\"-79.8952\" rx=\"21.315\" ry=\"21.315\"/>\n",
       "<text text-anchor=\"middle\" x=\"112.407\" y=\"-75.6952\" font-family=\"Times,serif\" font-size=\"14.00\">iq2</text>\n",
       "</g>\n",
       "<!-- EMPTY&#45;&gt;iq2 -->\n",
       "<g id=\"edge1\" class=\"edge\"><title>EMPTY&#45;&gt;iq2</title>\n",
       "<path fill=\"none\" stroke=\"black\" d=\"M54.3906,-79.8952C62.7374,-79.8952 72.0346,-79.8952 80.6591,-79.8952\"/>\n",
       "<polygon fill=\"black\" stroke=\"black\" points=\"80.7362,-83.3953 90.7362,-79.8952 80.7362,-76.3953 80.7362,-83.3953\"/>\n",
       "</g>\n",
       "<!-- q3 -->\n",
       "<g id=\"node2\" class=\"node\"><title>q3</title>\n",
       "<ellipse fill=\"none\" stroke=\"black\" cx=\"221.789\" cy=\"-117.895\" rx=\"18.9007\" ry=\"18.9007\"/>\n",
       "<text text-anchor=\"middle\" x=\"221.789\" y=\"-113.695\" font-family=\"Times,serif\" font-size=\"14.00\">q3</text>\n",
       "</g>\n",
       "<!-- q3&#45;&gt;q3 -->\n",
       "<g id=\"edge5\" class=\"edge\"><title>q3&#45;&gt;q3</title>\n",
       "<path fill=\"none\" stroke=\"black\" d=\"M212.727,-134.616C210.542,-144.981 213.563,-154.846 221.789,-154.846 227.188,-154.846 230.345,-150.597 231.259,-144.747\"/>\n",
       "<polygon fill=\"black\" stroke=\"black\" points=\"234.751,-144.467 230.851,-134.616 227.757,-144.748 234.751,-144.467\"/>\n",
       "<text text-anchor=\"middle\" x=\"221.789\" y=\"-157.646\" font-family=\"Times,serif\" font-size=\"14.00\">b, a ; &#39;&#39;</text>\n",
       "</g>\n",
       "<!-- fq4 -->\n",
       "<g id=\"node7\" class=\"node\"><title>fq4</title>\n",
       "<ellipse fill=\"none\" stroke=\"black\" cx=\"337.614\" cy=\"-120.895\" rx=\"21.807\" ry=\"21.807\"/>\n",
       "<ellipse fill=\"none\" stroke=\"black\" cx=\"337.614\" cy=\"-120.895\" rx=\"25.7909\" ry=\"25.7909\"/>\n",
       "<text text-anchor=\"middle\" x=\"337.614\" y=\"-116.695\" font-family=\"Times,serif\" font-size=\"14.00\">fq4</text>\n",
       "</g>\n",
       "<!-- q3&#45;&gt;fq4 -->\n",
       "<g id=\"edge6\" class=\"edge\"><title>q3&#45;&gt;fq4</title>\n",
       "<path fill=\"none\" stroke=\"black\" d=\"M240.825,-118.371C257.053,-118.798 281.359,-119.439 301.426,-119.968\"/>\n",
       "<polygon fill=\"black\" stroke=\"black\" points=\"301.379,-123.468 311.468,-120.232 301.563,-116.47 301.379,-123.468\"/>\n",
       "<text text-anchor=\"middle\" x=\"276.229\" y=\"-121.695\" font-family=\"Times,serif\" font-size=\"14.00\">&#39;&#39;, # ; &#39;&#39;</text>\n",
       "</g>\n",
       "<!-- iq2&#45;&gt;q3 -->\n",
       "<g id=\"edge4\" class=\"edge\"><title>iq2&#45;&gt;q3</title>\n",
       "<path fill=\"none\" stroke=\"black\" d=\"M133.103,-86.865C150.245,-92.9312 175.241,-101.777 194.163,-108.473\"/>\n",
       "<polygon fill=\"black\" stroke=\"black\" points=\"193.102,-111.81 203.696,-111.846 195.437,-105.211 193.102,-111.81\"/>\n",
       "<text text-anchor=\"middle\" x=\"168.327\" y=\"-106.695\" font-family=\"Times,serif\" font-size=\"14.00\">&#39;&#39;, &#39;&#39; ; &#39;&#39;</text>\n",
       "</g>\n",
       "<!-- iq2&#45;&gt;iq2 -->\n",
       "<g id=\"edge2\" class=\"edge\"><title>iq2&#45;&gt;iq2</title>\n",
       "<path fill=\"none\" stroke=\"black\" d=\"M105.493,-100.171C104.536,-110.283 106.841,-119.303 112.407,-119.303 115.973,-119.303 118.201,-115.601 119.09,-110.282\"/>\n",
       "<polygon fill=\"black\" stroke=\"black\" points=\"122.591,-110.249 119.322,-100.171 115.593,-110.088 122.591,-110.249\"/>\n",
       "<text text-anchor=\"middle\" x=\"112.407\" y=\"-122.103\" font-family=\"Times,serif\" font-size=\"14.00\">a, &#39;&#39; ; a</text>\n",
       "</g>\n",
       "<!-- q5 -->\n",
       "<g id=\"node4\" class=\"node\"><title>q5</title>\n",
       "<ellipse fill=\"none\" stroke=\"black\" cx=\"221.789\" cy=\"-29.8952\" rx=\"18.9007\" ry=\"18.9007\"/>\n",
       "<text text-anchor=\"middle\" x=\"221.789\" y=\"-25.6952\" font-family=\"Times,serif\" font-size=\"14.00\">q5</text>\n",
       "</g>\n",
       "<!-- iq2&#45;&gt;q5 -->\n",
       "<g id=\"edge3\" class=\"edge\"><title>iq2&#45;&gt;q5</title>\n",
       "<path fill=\"none\" stroke=\"black\" d=\"M132.112,-71.1859C149.589,-63.0479 175.827,-50.8307 195.232,-41.7953\"/>\n",
       "<polygon fill=\"black\" stroke=\"black\" points=\"196.819,-44.9172 204.407,-37.5232 193.864,-38.5714 196.819,-44.9172\"/>\n",
       "<text text-anchor=\"middle\" x=\"168.327\" y=\"-63.6952\" font-family=\"Times,serif\" font-size=\"14.00\">&#39;&#39;, &#39;&#39; ; &#39;&#39;</text>\n",
       "</g>\n",
       "<!-- q5&#45;&gt;q5 -->\n",
       "<g id=\"edge8\" class=\"edge\"><title>q5&#45;&gt;q5</title>\n",
       "<path fill=\"none\" stroke=\"black\" d=\"M212.727,-46.6155C210.542,-56.981 213.563,-66.8455 221.789,-66.8455 227.188,-66.8455 230.345,-62.5972 231.259,-56.747\"/>\n",
       "<polygon fill=\"black\" stroke=\"black\" points=\"234.751,-56.4665 230.851,-46.6155 227.757,-56.7483 234.751,-56.4665\"/>\n",
       "<text text-anchor=\"middle\" x=\"221.789\" y=\"-69.6455\" font-family=\"Times,serif\" font-size=\"14.00\">b, &#39;&#39; ; &#39;&#39;</text>\n",
       "</g>\n",
       "<!-- q6 -->\n",
       "<g id=\"node5\" class=\"node\"><title>q6</title>\n",
       "<ellipse fill=\"none\" stroke=\"black\" cx=\"337.614\" cy=\"-25.8952\" rx=\"18.9007\" ry=\"18.9007\"/>\n",
       "<text text-anchor=\"middle\" x=\"337.614\" y=\"-21.6952\" font-family=\"Times,serif\" font-size=\"14.00\">q6</text>\n",
       "</g>\n",
       "<!-- q5&#45;&gt;q6 -->\n",
       "<g id=\"edge9\" class=\"edge\"><title>q5&#45;&gt;q6</title>\n",
       "<path fill=\"none\" stroke=\"black\" d=\"M240.825,-29.2614C259.058,-28.6207 287.488,-27.6216 308.646,-26.8781\"/>\n",
       "<polygon fill=\"black\" stroke=\"black\" points=\"308.792,-30.3752 318.663,-26.5261 308.546,-23.3795 308.792,-30.3752\"/>\n",
       "<text text-anchor=\"middle\" x=\"276.229\" y=\"-31.6952\" font-family=\"Times,serif\" font-size=\"14.00\">&#39;&#39;, &#39;&#39; ; &#39;&#39;</text>\n",
       "</g>\n",
       "<!-- q6&#45;&gt;q6 -->\n",
       "<g id=\"edge10\" class=\"edge\"><title>q6&#45;&gt;q6</title>\n",
       "<path fill=\"none\" stroke=\"black\" d=\"M327.356,-41.8469C324.468,-52.4878 327.888,-62.8455 337.614,-62.8455 344.149,-62.8455 347.837,-58.1699 348.678,-51.8742\"/>\n",
       "<polygon fill=\"black\" stroke=\"black\" points=\"352.162,-51.5346 347.873,-41.8469 345.185,-52.095 352.162,-51.5346\"/>\n",
       "<text text-anchor=\"middle\" x=\"337.614\" y=\"-65.6455\" font-family=\"Times,serif\" font-size=\"14.00\">c, a ; &#39;&#39;</text>\n",
       "</g>\n",
       "<!-- fq7 -->\n",
       "<g id=\"node6\" class=\"node\"><title>fq7</title>\n",
       "<ellipse fill=\"none\" stroke=\"black\" cx=\"460.384\" cy=\"-25.8952\" rx=\"21.807\" ry=\"21.807\"/>\n",
       "<ellipse fill=\"none\" stroke=\"black\" cx=\"460.384\" cy=\"-25.8952\" rx=\"25.7909\" ry=\"25.7909\"/>\n",
       "<text text-anchor=\"middle\" x=\"460.384\" y=\"-21.6952\" font-family=\"Times,serif\" font-size=\"14.00\">fq7</text>\n",
       "</g>\n",
       "<!-- q6&#45;&gt;fq7 -->\n",
       "<g id=\"edge11\" class=\"edge\"><title>q6&#45;&gt;fq7</title>\n",
       "<path fill=\"none\" stroke=\"black\" d=\"M356.695,-25.8952C374.532,-25.8952 402.266,-25.8952 424.417,-25.8952\"/>\n",
       "<polygon fill=\"black\" stroke=\"black\" points=\"424.46,-29.3953 434.46,-25.8952 424.46,-22.3953 424.46,-29.3953\"/>\n",
       "<text text-anchor=\"middle\" x=\"398.999\" y=\"-28.6952\" font-family=\"Times,serif\" font-size=\"14.00\">&#39;&#39;, # ; &#39;&#39;</text>\n",
       "</g>\n",
       "<!-- fq4&#45;&gt;fq4 -->\n",
       "<g id=\"edge7\" class=\"edge\"><title>fq4&#45;&gt;fq4</title>\n",
       "<path fill=\"none\" stroke=\"black\" d=\"M326.587,-144.379C325.384,-155.272 329.06,-164.79 337.614,-164.79 343.228,-164.79 346.741,-160.691 348.153,-154.794\"/>\n",
       "<polygon fill=\"black\" stroke=\"black\" points=\"351.669,-154.532 348.642,-144.379 344.677,-154.203 351.669,-154.532\"/>\n",
       "<text text-anchor=\"middle\" x=\"337.614\" y=\"-167.59\" font-family=\"Times,serif\" font-size=\"14.00\">c, &#39;&#39; ; &#39;&#39;</text>\n",
       "</g>\n",
       "</g>\n",
       "</svg>\n"
      ],
      "text/plain": [
       "<graphviz.dot.Digraph at 0x10eb40b70>"
      ]
     },
     "execution_count": 71,
     "metadata": {},
     "output_type": "execute_result"
    }
   ],
   "source": [
    "f27sip = md2mc('''\n",
    "PDA \n",
    "!!---------------------------------------\n",
    "!! This is a PDA From Sipser's book\n",
    "!! This matches a's and b's ignoring c's\n",
    "!! or matches a's and c's, ignoring b's \n",
    "!! in the middle. Thus, the language is\n",
    "!! a^m b^m c^n or a^m b^n c^m\n",
    "!!---------------------------------------\n",
    "\n",
    "!!---------------------------------------------------------------------------\n",
    "!! State: in , sin ; spush -> tostates !! comment\n",
    "!!---------------------------------------------------------------------------\n",
    "iq2    : a  , ''  ; a     -> iq2      !!  stack a's\n",
    "iq2    : '' , ''  ; ''    -> q3,q5    !!  split non-det for a^m b^m c^n (q3)\n",
    "                                      !!  or a^m b^n c^m (q5)\n",
    "\t\t\t     \n",
    "q3     : b  , a   ; ''    -> q3       !!  match b's against a's\n",
    "q3     : '' , #   ; ''    -> fq4      !!  hope for acceptance when # surfaces\n",
    "\n",
    "fq4    : c  , ''  ; ''    -> fq4      !!  be happy so long as c's come\n",
    "                                      !!  will choke and reject if anything\n",
    "\t\t\t              !!  other than c's come\n",
    "\n",
    "q5     : b  , ''  ; ''    -> q5       !!  here, we are going to punt over b's\n",
    "q5     : '' , ''  ; ''    -> q6       !!  and non-det decide to honor c's matching\n",
    "                                      !!  against a's\n",
    "\n",
    "q6     : c  , a   ; ''    -> q6       !!  OK to match so long as c's keep coming\n",
    "q6     : '' , #   ; ''    -> fq7      !!  when # surfaces, be ready to accept in\n",
    "                                      !!  state fq7. However, anything else coming in\n",
    "\t\t\t                          !!  now will foil match and cause rejection.\n",
    "!!---------------------------------------------------------------------------\n",
    "''')\n",
    "DOf27sip = dotObj_pda(f27sip, FuseEdges=True)\n",
    "DOf27sip"
   ]
  },
  {
   "cell_type": "code",
   "execution_count": 72,
   "metadata": {
    "run_control": {
     "frozen": false,
     "read_only": false
    }
   },
   "outputs": [
    {
     "data": {
      "text/plain": [
       "'// PO_St27\\ndigraph {\\n\\tgraph [rankdir=LR]\\n\\t\\tEMPTY [label=\"\" shape=plaintext]\\n\\t\\tq3 [label=q3 peripheries=1 shape=circle]\\n\\t\\tiq2 [label=iq2 peripheries=1 shape=circle]\\n\\t\\tq5 [label=q5 peripheries=1 shape=circle]\\n\\t\\tq6 [label=q6 peripheries=1 shape=circle]\\n\\t\\tfq7 [label=fq7 peripheries=2 shape=circle]\\n\\t\\tfq4 [label=fq4 peripheries=2 shape=circle]\\n\\t\\t\\tEMPTY -> iq2\\n\\t\\t\\tiq2 -> iq2 [label=\"a, \\'\\' ; a\"]\\n\\t\\t\\tiq2 -> q5 [label=\"\\'\\', \\'\\' ; \\'\\'\"]\\n\\t\\t\\tiq2 -> q3 [label=\"\\'\\', \\'\\' ; \\'\\'\"]\\n\\t\\t\\tq3 -> q3 [label=\"b, a ; \\'\\'\"]\\n\\t\\t\\tq3 -> fq4 [label=\"\\'\\', # ; \\'\\'\"]\\n\\t\\t\\tfq4 -> fq4 [label=\"c, \\'\\' ; \\'\\'\"]\\n\\t\\t\\tq5 -> q5 [label=\"b, \\'\\' ; \\'\\'\"]\\n\\t\\t\\tq5 -> q6 [label=\"\\'\\', \\'\\' ; \\'\\'\"]\\n\\t\\t\\tq6 -> q6 [label=\"c, a ; \\'\\'\"]\\n\\t\\t\\tq6 -> fq7 [label=\"\\'\\', # ; \\'\\'\"]\\n}'"
      ]
     },
     "execution_count": 72,
     "metadata": {},
     "output_type": "execute_result"
    }
   ],
   "source": [
    "DOf27sip.source"
   ]
  },
  {
   "cell_type": "code",
   "execution_count": 73,
   "metadata": {
    "run_control": {
     "frozen": false,
     "read_only": false
    }
   },
   "outputs": [
    {
     "name": "stdout",
     "output_type": "stream",
     "text": [
      "String aaabbbccc accepted by your PDA in 2 ways :-) \n",
      "Here are the ways: \n",
      "Final state  ('fq4', '', '')\n",
      "Reached as follows:\n",
      "->  ('iq2', 'aaabbbccc', '#')\n",
      "->  ('iq2', 'aabbbccc', 'a#')\n",
      "->  ('iq2', 'abbbccc', 'aa#')\n",
      "->  ('iq2', 'bbbccc', 'aaa#')\n",
      "->  ('q3', 'bbbccc', 'aaa#')\n",
      "->  ('q3', 'bbccc', 'aa#')\n",
      "->  ('q3', 'bccc', 'a#')\n",
      "->  ('q3', 'ccc', '#')\n",
      "->  ('fq4', 'ccc', '')\n",
      "->  ('fq4', 'cc', '')\n",
      "->  ('fq4', 'c', '')\n",
      "->  ('fq4', '', '') .\n",
      "Final state  ('fq7', '', '')\n",
      "Reached as follows:\n",
      "->  ('iq2', 'aaabbbccc', '#')\n",
      "->  ('iq2', 'aabbbccc', 'a#')\n",
      "->  ('iq2', 'abbbccc', 'aa#')\n",
      "->  ('iq2', 'bbbccc', 'aaa#')\n",
      "->  ('q5', 'bbbccc', 'aaa#')\n",
      "->  ('q5', 'bbccc', 'aaa#')\n",
      "->  ('q5', 'bccc', 'aaa#')\n",
      "->  ('q5', 'ccc', 'aaa#')\n",
      "->  ('q6', 'ccc', 'aaa#')\n",
      "->  ('q6', 'cc', 'aa#')\n",
      "->  ('q6', 'c', 'a#')\n",
      "->  ('q6', '', '#')\n",
      "->  ('fq7', '', '') .\n"
     ]
    }
   ],
   "source": [
    "explore_pda(\"aaabbbccc\", f27sip)"
   ]
  },
  {
   "cell_type": "code",
   "execution_count": null,
   "metadata": {
    "run_control": {
     "frozen": false,
     "read_only": false
    }
   },
   "outputs": [],
   "source": []
  }
 ],
 "metadata": {
  "kernelspec": {
   "display_name": "Python 3",
   "language": "python",
   "name": "python3"
  },
  "language_info": {
   "codemirror_mode": {
    "name": "ipython",
    "version": 3
   },
   "file_extension": ".py",
   "mimetype": "text/x-python",
   "name": "python",
   "nbconvert_exporter": "python",
   "pygments_lexer": "ipython3",
   "version": "3.6.0"
  },
  "toc": {
   "colors": {
    "hover_highlight": "#DAA520",
    "running_highlight": "#FF0000",
    "selected_highlight": "#FFD700"
   },
   "moveMenuLeft": true,
   "nav_menu": {
    "height": "318px",
    "width": "252px"
   },
   "navigate_menu": true,
   "number_sections": true,
   "sideBar": true,
   "threshold": 4,
   "toc_cell": false,
   "toc_section_display": "block",
   "toc_window_display": false,
   "widenNotebook": false
  }
 },
 "nbformat": 4,
 "nbformat_minor": 1
}
