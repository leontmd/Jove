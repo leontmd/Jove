{
 "cells": [
  {
   "cell_type": "markdown",
   "metadata": {},
   "source": [
    "The all of the .py files (there are 5) should be placed in the jove folder"
   ]
  },
  {
   "cell_type": "code",
   "execution_count": 1,
   "metadata": {
    "scrolled": true
   },
   "outputs": [
    {
     "name": "stdout",
     "output_type": "stream",
     "text": [
      "You may use any of these help commands:\n",
      "help(md2mc)\n",
      ".. and if you want to dig more, then ..\n",
      "help(default_line_attr)\n",
      "help(length_ok_input_items)\n",
      "help(union_line_attr_list_fld)\n",
      "help(extend_rsltdict)\n",
      "help(form_delta)\n",
      "help(get_machine_components)\n",
      "\n",
      "You may use any of these help commands:\n",
      "help(ResetStNum)\n",
      "help(NxtStateStr)\n",
      "\n",
      "You may use any of these help commands:\n",
      "help(mkp_dfa)\n",
      "help(mk_dfa)\n",
      "help(totalize_dfa)\n",
      "help(addtosigma_delta)\n",
      "help(step_dfa)\n",
      "help(run_dfa)\n",
      "help(accepts_dfa)\n",
      "help(comp_dfa)\n",
      "help(union_dfa)\n",
      "help(intersect_dfa)\n",
      "help(pruneUnreach)\n",
      "help(iso_dfa)\n",
      "help(langeq_dfa)\n",
      "help(same_status)\n",
      "help(h_langeq_dfa)\n",
      "help(fixptDist)\n",
      "help(min_dfa)\n",
      "help(pairFR)\n",
      "help(state_combos)\n",
      "help(sepFinNonFin)\n",
      "help(bash_eql_classes)\n",
      "help(listminus)\n",
      "help(bash_1)\n",
      "help(mk_rep_eqc)\n",
      "help(F_of)\n",
      "help(rep_of_s)\n",
      "help(q0_of)\n",
      "help(Delta_of)\n",
      "help(mk_state_eqc_name)\n",
      "\n",
      "You may use any of these help commands:\n",
      "help(mk_nfa)\n",
      "help(totalize_nfa)\n",
      "help(step_nfa)\n",
      "help(run_nfa)\n",
      "help(ec_step_nfa)\n",
      "help(Eclosure)\n",
      "help(Echelp)\n",
      "help(accepts_nfa)\n",
      "help(nfa2dfa)\n",
      "help(n2d)\n",
      "help(inSets)\n",
      "help(rev_dfa)\n",
      "help(min_dfa_brz)\n",
      "\n",
      "You may use any of these help commands:\n",
      "help(explore_pda)\n",
      "help(run_pda)\n",
      "help(classify_l_id_path)\n",
      "help(h_run_pda)\n",
      "help(interpret_w_eps)\n",
      "help(step_pda)\n",
      "help(suvivor_id)\n",
      "help(term_id)\n",
      "help(final_id)\n",
      "help(cvt_str_to_sym)\n",
      "help(is_surv_id)\n",
      "help(subsumed)\n",
      "help(is_term_id)\n",
      "help(is_final_id)\n",
      "\n",
      "You may use any of these help commands:\n",
      "help(step_tm)\n",
      "help(run_tm)\n",
      "help(explore_tm)\n",
      "\n"
     ]
    }
   ],
   "source": [
    "import sys\n",
    "sys.path[0:0] = ['../..','../../3rdparty'] # Put these at the head of the search path\n",
    "\n",
    "from jove.Def_md2mc      import *\n",
    "from jove.AnimateDFA     import *\n",
    "from jove.AnimateNFA     import *\n",
    "from jove.AnimatePDA     import *\n",
    "from jove.AnimateTM      import *"
   ]
  },
  {
   "cell_type": "markdown",
   "metadata": {},
   "source": [
    "# Simple examples of animated machines"
   ]
  },
  {
   "cell_type": "code",
   "execution_count": 6,
   "metadata": {},
   "outputs": [],
   "source": [
    "ev0end1 = md2mc('''\n",
    "DFA\n",
    "I : ' -> A\n",
    "A : ' | ] -> I\n",
    "I : ] -> F\n",
    "F : ' | ] -> I\n",
    "''')"
   ]
  },
  {
   "cell_type": "code",
   "execution_count": 7,
   "metadata": {
    "scrolled": false
   },
   "outputs": [
    {
     "data": {
      "application/vnd.jupyter.widget-view+json": {
       "model_id": "29baa9497bd8474f98cfc741155e09e7",
       "version_major": 2,
       "version_minor": 0
      },
      "text/plain": [
       "VBox(children=(HBox(children=(Text(value='', description='Input:', layout=Layout(width='500px'), placeholder=\"…"
      ]
     },
     "metadata": {},
     "output_type": "display_data"
    },
    {
     "data": {
      "text/plain": [
       "<jove.AnimateDFA.AnimateDFA at 0x21a4148e9b0>"
      ]
     },
     "execution_count": 7,
     "metadata": {},
     "output_type": "execute_result"
    }
   ],
   "source": [
    "AnimateDFA(ev0end1, FuseEdges=True)"
   ]
  },
  {
   "cell_type": "code",
   "execution_count": 4,
   "metadata": {},
   "outputs": [],
   "source": [
    "nfahas01 = md2mc('''\n",
    "NFA \n",
    "I : ( | ) -> I\n",
    "I : '' -> A\n",
    "A : (  -> B\n",
    "B : )  -> C\n",
    "C : ( | ) -> C\n",
    "C : '' -> F\n",
    "''')"
   ]
  },
  {
   "cell_type": "code",
   "execution_count": 5,
   "metadata": {},
   "outputs": [
    {
     "data": {
      "application/vnd.jupyter.widget-view+json": {
       "model_id": "3131039d65af45248d73bdf7402ddaa0",
       "version_major": 2,
       "version_minor": 0
      },
      "text/plain": [
       "VBox(children=(HBox(children=(Text(value='', description='Input:', layout=Layout(width='500px'), placeholder='…"
      ]
     },
     "metadata": {},
     "output_type": "display_data"
    },
    {
     "data": {
      "text/plain": [
       "<jove.AnimateNFA.AnimateNFA at 0x21a41435518>"
      ]
     },
     "execution_count": 5,
     "metadata": {},
     "output_type": "execute_result"
    }
   ],
   "source": [
    "AnimateNFA(nfahas01, FuseEdges=True)"
   ]
  },
  {
   "cell_type": "code",
   "execution_count": 2,
   "metadata": {},
   "outputs": [],
   "source": [
    "f27sip = md2mc('''\n",
    "PDA \n",
    "!!---------------------------------------\n",
    "!! This is a PDA From Sipser's book\n",
    "!! This matches a's and b's ignoring c's\n",
    "!! or matches a's and c's, ignoring b's \n",
    "!! in the middle. Thus, the language is\n",
    "!! a^m b^m c^n or a^m b^n c^m\n",
    "!!---------------------------------------\n",
    "\n",
    "!!---------------------------------------------------------------------------\n",
    "!! State: in , sin ; spush -> tostates !! comment\n",
    "!!---------------------------------------------------------------------------\n",
    "iq2    : a  , ''  ; a     -> iq2      !!  stack a's\n",
    "iq2    : '' , ''  ; ''    -> q3,q5    !!  split non-det for a^m b^m c^n (q3)\n",
    "                                      !!  or a^m b^n c^m (q5)\n",
    "\t\t\t     \n",
    "q3     : b  , a   ; ''    -> q3       !!  match b's against a's\n",
    "q3     : '' , #   ; ''    -> fq4      !!  hope for acceptance when # surfaces\n",
    "\n",
    "fq4    : c  , ''  ; ''    -> fq4      !!  be happy so long as c's come\n",
    "                                      !!  will choke and reject if anything\n",
    "\t\t\t              !!  other than c's come\n",
    "\n",
    "q5     : b  , ''  ; ''    -> q5       !!  here, we are going to punt over b's\n",
    "q5     : '' , ''  ; ''    -> q6       !!  and non-det decide to honor c's matching\n",
    "                                      !!  against a's\n",
    "\n",
    "q6     : c  , a   ; ''    -> q6       !!  OK to match so long as c's keep coming\n",
    "q6     : '' , #   ; ''    -> fq7      !!  when # surfaces, be ready to accept in\n",
    "                                      !!  state fq7. However, anything else coming in\n",
    "\t\t\t                          !!  now will foil match and cause rejection.\n",
    "!!---------------------------------------------------------------------------\n",
    "''')"
   ]
  },
  {
   "cell_type": "code",
   "execution_count": 3,
   "metadata": {},
   "outputs": [
    {
     "data": {
      "application/vnd.jupyter.widget-view+json": {
       "model_id": "19dafe46fff840c6b4c0e3f8e1a910d6",
       "version_major": 2,
       "version_minor": 0
      },
      "text/plain": [
       "VBox(children=(HBox(children=(Text(value='', description='Input:', layout=Layout(width='500px'), placeholder='…"
      ]
     },
     "metadata": {},
     "output_type": "display_data"
    },
    {
     "data": {
      "text/plain": [
       "<jove.AnimatePDA.AnimatePDA at 0x274c6c42278>"
      ]
     },
     "execution_count": 3,
     "metadata": {},
     "output_type": "execute_result"
    }
   ],
   "source": [
    "AnimatePDA(f27sip)"
   ]
  },
  {
   "cell_type": "code",
   "execution_count": 2,
   "metadata": {},
   "outputs": [
    {
     "name": "stdout",
     "output_type": "stream",
     "text": [
      "{'Q': {'A', 'IF', 'C', 'F', 'B'}, 'Sigma': {'1', '0'}, 'Gamma': {'#', '1', '0'}, 'Delta': {('IF', '0', '#'): {('C', '#'), ('A', '#')}, ('IF', '1', '#'): {('B', '1#')}, ('A', '0', ''): {('B', '')}, ('A', '1', ''): {('B', '#')}, ('B', '', ''): {('F', '')}, ('B', '', '#'): {('IF', '10#')}, ('F', '0', '1'): {('B', '1'), ('A', '1'), ('IF', '1')}}, 'q0': 'IF', 'z0': '#', 'F': {'IF', 'F'}}\n"
     ]
    }
   ],
   "source": [
    "ptest = md2mc('''\n",
    "PDA\n",
    "IF : 0,#   ; #              ->  A,C\n",
    "IF : 1,#  ; 1#             ->  B\n",
    "A  : 0,''  ; '' | 1, '' ; # ->  B\n",
    "B  : '','' ; ''             ->  F\n",
    "B  : '',#  ; 10#            -> IF\n",
    "F  : 0,1   ; 1              -> A,B,IF\n",
    "''')\n",
    "print(ptest)"
   ]
  },
  {
   "cell_type": "code",
   "execution_count": 6,
   "metadata": {},
   "outputs": [
    {
     "name": "stdout",
     "output_type": "stream",
     "text": [
      "*** Exploring wrt STKMAX =  6 ; increase it if needed ***\n",
      "(('F', '', '#'), [('IF', '00', '#'), ('A', '0', '#'), ('B', '', '#')])\n",
      "(('IF', '', '10#'), [('IF', '00', '#'), ('A', '0', '#'), ('B', '', '#')])\n"
     ]
    }
   ],
   "source": [
    "a, b, c = run_pda('00', ptest)\n",
    "for p in b:\n",
    "    print(p)"
   ]
  },
  {
   "cell_type": "code",
   "execution_count": 3,
   "metadata": {},
   "outputs": [
    {
     "data": {
      "application/vnd.jupyter.widget-view+json": {
       "model_id": "7ac26173d9a04af9914dd08b7b0b2c69",
       "version_major": 2,
       "version_minor": 0
      },
      "text/plain": [
       "VBox(children=(HBox(children=(Text(value='', description='Input:', layout=Layout(width='500px'), placeholder='…"
      ]
     },
     "metadata": {},
     "output_type": "display_data"
    },
    {
     "data": {
      "text/plain": [
       "<jove.AnimatePDA.AnimatePDA at 0x1f620ba71d0>"
      ]
     },
     "execution_count": 3,
     "metadata": {},
     "output_type": "execute_result"
    }
   ],
   "source": [
    "AnimatePDA(ptest)"
   ]
  },
  {
   "cell_type": "code",
   "execution_count": 10,
   "metadata": {},
   "outputs": [],
   "source": [
    "ndtm101 = md2mc('''TM\n",
    "\n",
    "I : 0; A, R | 1; B, R -> I\n",
    "I : 0; 0, S | 1; 1, S -> TryMyLuck\n",
    "\n",
    "TryMyLuck : 1; Q, R -> Got1Sk0\n",
    "Got1Sk0   : 0; P, R -> Got10Sk1\n",
    "Got10Sk1  : 1; Q, R -> Found101\n",
    "\n",
    "I : .; ., R -> Reject\n",
    " \n",
    "''')"
   ]
  },
  {
   "cell_type": "code",
   "execution_count": 11,
   "metadata": {},
   "outputs": [
    {
     "name": "stdout",
     "output_type": "stream",
     "text": [
      "There are still  3 truncated paths.\n",
      "Detailing the halted configs now.\n",
      "Rejected at  ('TryMyLuck', 8, 'AAAAABAB01', 1)\n",
      " via .. \n",
      " ->('I', 0, '0000010101', 10)\n",
      " ->('I', 1, 'A000010101', 9)\n",
      " ->('I', 2, 'AA00010101', 8)\n",
      " ->('I', 3, 'AAA0010101', 7)\n",
      " ->('I', 4, 'AAAA010101', 6)\n",
      " ->('I', 5, 'AAAAA10101', 5)\n",
      " ->('I', 6, 'AAAAAB0101', 4)\n",
      " ->('I', 7, 'AAAAABA101', 3)\n",
      " ->('I', 8, 'AAAAABAB01', 2)\n",
      " ->('TryMyLuck', 8, 'AAAAABAB01', 1)\n",
      "Rejected at  ('TryMyLuck', 6, 'AAAAAB0101', 3)\n",
      " via .. \n",
      " ->('I', 0, '0000010101', 10)\n",
      " ->('I', 1, 'A000010101', 9)\n",
      " ->('I', 2, 'AA00010101', 8)\n",
      " ->('I', 3, 'AAA0010101', 7)\n",
      " ->('I', 4, 'AAAA010101', 6)\n",
      " ->('I', 5, 'AAAAA10101', 5)\n",
      " ->('I', 6, 'AAAAAB0101', 4)\n",
      " ->('TryMyLuck', 6, 'AAAAAB0101', 3)\n",
      "Accepted at  ('Found101', 8, 'AAAAAQPQ01', 1)\n",
      " via .. \n",
      " ->('I', 0, '0000010101', 10)\n",
      " ->('I', 1, 'A000010101', 9)\n",
      " ->('I', 2, 'AA00010101', 8)\n",
      " ->('I', 3, 'AAA0010101', 7)\n",
      " ->('I', 4, 'AAAA010101', 6)\n",
      " ->('I', 5, 'AAAAA10101', 5)\n",
      " ->('TryMyLuck', 5, 'AAAAA10101', 4)\n",
      " ->('Got1Sk0', 6, 'AAAAAQ0101', 3)\n",
      " ->('Got10Sk1', 7, 'AAAAAQP101', 2)\n",
      " ->('Found101', 8, 'AAAAAQPQ01', 1)\n",
      "Rejected at  ('TryMyLuck', 4, 'AAAA010101', 5)\n",
      " via .. \n",
      " ->('I', 0, '0000010101', 10)\n",
      " ->('I', 1, 'A000010101', 9)\n",
      " ->('I', 2, 'AA00010101', 8)\n",
      " ->('I', 3, 'AAA0010101', 7)\n",
      " ->('I', 4, 'AAAA010101', 6)\n",
      " ->('TryMyLuck', 4, 'AAAA010101', 5)\n",
      "Rejected at  ('TryMyLuck', 3, 'AAA0010101', 6)\n",
      " via .. \n",
      " ->('I', 0, '0000010101', 10)\n",
      " ->('I', 1, 'A000010101', 9)\n",
      " ->('I', 2, 'AA00010101', 8)\n",
      " ->('I', 3, 'AAA0010101', 7)\n",
      " ->('TryMyLuck', 3, 'AAA0010101', 6)\n",
      "Rejected at  ('TryMyLuck', 2, 'AA00010101', 7)\n",
      " via .. \n",
      " ->('I', 0, '0000010101', 10)\n",
      " ->('I', 1, 'A000010101', 9)\n",
      " ->('I', 2, 'AA00010101', 8)\n",
      " ->('TryMyLuck', 2, 'AA00010101', 7)\n",
      "Rejected at  ('TryMyLuck', 1, 'A000010101', 8)\n",
      " via .. \n",
      " ->('I', 0, '0000010101', 10)\n",
      " ->('I', 1, 'A000010101', 9)\n",
      " ->('TryMyLuck', 1, 'A000010101', 8)\n",
      "Rejected at  ('TryMyLuck', 0, '0000010101', 9)\n",
      " via .. \n",
      " ->('I', 0, '0000010101', 10)\n",
      " ->('TryMyLuck', 0, '0000010101', 9)\n"
     ]
    }
   ],
   "source": [
    "explore_tm(ndtm101, '0000010101', 10)"
   ]
  },
  {
   "cell_type": "code",
   "execution_count": 15,
   "metadata": {},
   "outputs": [
    {
     "data": {
      "application/vnd.jupyter.widget-view+json": {
       "model_id": "eab10d6ea78845b9820a8e99cc1ff8f6",
       "version_major": 2,
       "version_minor": 0
      },
      "text/plain": [
       "VBox(children=(HBox(children=(Text(value='', description='Input:', layout=Layout(width='500px'), placeholder='…"
      ]
     },
     "metadata": {},
     "output_type": "display_data"
    },
    {
     "data": {
      "text/plain": [
       "<jove.AnimateTM.AnimateTM at 0x2136b17f630>"
      ]
     },
     "execution_count": 15,
     "metadata": {},
     "output_type": "execute_result"
    }
   ],
   "source": [
    "AnimateTM(ndtm101, FuseEdges=True, show_rejected=False)"
   ]
  }
 ],
 "metadata": {
  "kernelspec": {
   "display_name": "Python 3",
   "language": "python",
   "name": "python3"
  },
  "language_info": {
   "codemirror_mode": {
    "name": "ipython",
    "version": 3
   },
   "file_extension": ".py",
   "mimetype": "text/x-python",
   "name": "python",
   "nbconvert_exporter": "python",
   "pygments_lexer": "ipython3",
   "version": "3.6.5"
  }
 },
 "nbformat": 4,
 "nbformat_minor": 2
}
