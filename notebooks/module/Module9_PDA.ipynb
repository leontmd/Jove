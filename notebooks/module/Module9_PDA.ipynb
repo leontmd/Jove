{
 "cells": [
  {
   "cell_type": "markdown",
   "metadata": {
    "run_control": {
     "frozen": false,
     "read_only": false
    }
   },
   "source": [
    " # Push-down Automata"
   ]
  },
  {
   "cell_type": "markdown",
   "metadata": {
    "run_control": {
     "frozen": false,
     "read_only": false
    }
   },
   "source": [
    "This material on push-down automata was inspired by that developed by Tyler Sorensen in year 2011 when he was my Research Assistant. I rewrote his code to fit the more functional style used in my book, while gratefully acknowledging his work in inspiring my code. I have adapted his examples to my syntax, plus added many of my own."
   ]
  },
  {
   "cell_type": "code",
   "execution_count": 1,
   "metadata": {
    "run_control": {
     "frozen": false,
     "read_only": false
    }
   },
   "outputs": [
    {
     "name": "stdout",
     "output_type": "stream",
     "text": [
      "You may use any of these help commands:\n",
      "help(ResetStNum)\n",
      "help(NxtStateStr)\n",
      "\n"
     ]
    }
   ],
   "source": [
    "import sys\n",
    "sys.path[0:0] = ['../..','../../3rdparty'] # Put these at the head of the search path\n",
    "\n",
    "from jove.SystemImports       import *\n",
    "from jove.DotBashers          import *\n",
    "from jove.TransitionSelectors import *"
   ]
  },
  {
   "cell_type": "markdown",
   "metadata": {
    "collapsed": true,
    "run_control": {
     "frozen": false,
     "read_only": false
    }
   },
   "source": [
    "# Pushdown Automata (PDA)\n",
    "\n",
    "## Basic Definitions\n",
    "\n",
    "Pushdown Automata are structures\n",
    "\n",
    "  $(Q, Sigma, Gamma, Delta, q0, z0, F)$\n",
    "  \n",
    "where\n",
    "\n",
    " * $Q$       : Finite non-empty set of states\n",
    "\n",
    " * $Sigma$   : Finite non-empty input alphabet\n",
    "\n",
    " * $Gamma$   : Finite non-empty stack alphabet (usually subsumes Sigma)\n",
    "\n",
    " * $Delta$   : A transition function \n",
    "\n",
    "and $Delta$'s signature is\n",
    "       \n",
    "$(Q \\times (Sigma \\cup \\{\\varepsilon\\}) \\times (Gamma\\cup\\{\\varepsilon\\}) \\rightarrow (Q \\times Gamma^*)$\n",
    "\n",
    "## Example\n",
    "\n",
    "We model Delta as a mapping of this form\n",
    "             \n",
    " (q, a, b) -> { (q1,G1s), (q2,G2s), ... }\n",
    "             \n",
    "          where\n",
    "             a   gets read\n",
    "             b   gets popped, if non-empty\n",
    "             Gis gets pushed\n",
    "             qi  becomes the next state\n",
    "             \n",
    "* q0      : Starting state\n",
    "\n",
    "* z0      : Initial stack's lone contents\n",
    "\n",
    "            - prevents an \"accept by\n",
    "              empty stack\" PDA from accepting as soon as it is \n",
    "              switched on\n",
    "\n",
    "* F       : Finite, possibly empty set of final states\n",
    "\n",
    "We will define acceptance by final state _or_ empty stack, as will be detailed in this sequel. \n",
    "\n",
    "## Instantaneous Description\n",
    "\n",
    "An instantaneous description (ID) of a PDA is a triple (p, aI, bS). \n",
    "\n",
    "Now, ID (p, aI, bS) evolves to an ID (q, I, GS) \n",
    "\n",
    "written\n",
    "\n",
    "   (p, aI, bS) $\\vdash$ (q, I, GS)\n",
    "   \n",
    "   \n",
    "if  Delta(p,a,b) contains (q,G)\n",
    "\n",
    "A PDA accepts by final state if its ID is of the form (p, \"\", S)\n",
    "where p in F. \n",
    "\n",
    "That is, the input is fully consumed\n",
    "and control resides within F. Note that S is arbitrary.\n",
    "\n",
    "A PDA accepts by empty stack if its ID is of the form (p, \"\", \"\")\n",
    "at any point (for any p).\n",
    "\n",
    "## Design Details of a PDA\n",
    "\n",
    "To __prevent__ a PDA P whose acceptance is defined via an empty stack\n",
    "from accepting \"as soon as it is turned on\", we put in an\n",
    "initial stack letter denoted by P[\"z0\"].\n",
    "\n",
    " * Note that this is only to help-out the user. The user may decide to start with \n",
    " an empty stack, which is fine.\n",
    " \n",
    " * Our preferred initial stack symbol is \"z\" (lower-case z). \n",
    " \n",
    "\n",
    "# Our coding decisions wrt acceptance\n",
    "\n",
    "In our coding,\n",
    "\n",
    "* For PDA, we will require there to be an initial stack symbol\n",
    "\n",
    "* We will permit acceptance either by final state or empty stack (this will be a \n",
    "  parameter given to the run_pda function)\n",
    "  \n",
    "* We will require that a PDA always pop something from the stack (but allow zero or more things to be pushed). This way (\"zero or more\"), emptying the stack becomes possible.\n",
    "\n",
    "* When we encounter an ID for which acceptance has been noted, that ID will still be expanded if there are moves leading out of it.\n"
   ]
  },
  {
   "cell_type": "code",
   "execution_count": 2,
   "metadata": {
    "run_control": {
     "frozen": false,
     "read_only": false
    }
   },
   "outputs": [
    {
     "data": {
      "text/plain": [
       "<function jove.TransitionSelectors.trSrc>"
      ]
     },
     "execution_count": 2,
     "metadata": {},
     "output_type": "execute_result"
    }
   ],
   "source": [
    "trSrc"
   ]
  },
  {
   "cell_type": "markdown",
   "metadata": {
    "collapsed": true,
    "run_control": {
     "frozen": false,
     "read_only": false
    }
   },
   "source": [
    "Consistency checker(s) for PDA have moved to DotBashers"
   ]
  },
  {
   "cell_type": "code",
   "execution_count": 3,
   "metadata": {
    "run_control": {
     "frozen": false,
     "read_only": false
    }
   },
   "outputs": [],
   "source": [
    "# Example PDA that recognizes balanced parentheses\n",
    "\n",
    "P1bp  = { \"Q\"     : {\"s0\", \"s1\", \"s2\"},\n",
    "           \"Sigma\" : {'(',')'},\n",
    "           \"Gamma\" : {\"(\",\")\",'z'},\n",
    "           \"Delta\" : { ('s0','(','z') : { ('s1','(z') }, # push z; push (\n",
    "                       ('s1','(','z') : { ('s1','(z') }, # push z; push (\n",
    "                       ('s1','(','(') : { ('s1','((') }, # push (; push (\n",
    "                       ('s1','(',')') : { ('s1','()') }, # push ); push (\n",
    "                       ('s1',')','(') : { ('s1','')   }, # push nothing\n",
    "                       ('s1','','z')  : { ('s2','')   }  # push nothing\n",
    "                     },\n",
    "           \"q0\"    : \"s0\",\n",
    "           \"z0\"    : 'z',\n",
    "           \"F\"     : {\"s2\"}\n",
    "         }\n",
    "chk_consistent_pda(P1bp)"
   ]
  },
  {
   "cell_type": "code",
   "execution_count": 4,
   "metadata": {
    "run_control": {
     "frozen": false,
     "read_only": false
    }
   },
   "outputs": [],
   "source": [
    "# A variant of P1bp with some redundant transitions added (to take the PDA out of a \n",
    "P2bp    = { \"Q\"     : {\"s0\", \"s1\", \"s2\"},\n",
    "           \"Sigma\" : {'(',')'},\n",
    "           \"Gamma\" : {\"(\",\")\",\"z\"},\n",
    "           \"Delta\" : { ('s0','(','z') : { ('s1','(z') }, # push z; push (\n",
    "                       ('s1','(','z') : { ('s1','(z') }, # push z; push (\n",
    "                       ('s1','(','(') : { ('s1','((') }, # push (; push (\n",
    "                       ('s1','(',')') : { ('s1','()') }, # push ); push (\n",
    "                       ('s1',')','(') : { ('s1','')   }, # push nothing\n",
    "                       ('s1','','z')  : { ('s2','')   },  # push nothing\n",
    "                       ('s2','','')   : { ('s2','')   }\n",
    "                     },\n",
    "           \"q0\"    : \"s0\",\n",
    "           \"z0\"    : 'z',\n",
    "           \"F\"     : {\"s2\"}\n",
    "         }\n",
    "\n",
    "chk_consistent_pda(P2bp)"
   ]
  },
  {
   "cell_type": "code",
   "execution_count": 5,
   "metadata": {
    "run_control": {
     "frozen": false,
     "read_only": false
    }
   },
   "outputs": [],
   "source": [
    "# A variant of P2bp with some redundant transitions added (to take the PDA out of a \n",
    "P3bp    = { \"Q\"     : {\"s0\", \"s1\", \"s2\",\"s3\"},\n",
    "           \"Sigma\" : {'(',')'},\n",
    "           \"Gamma\" : {\"(\",\")\",\"z\"},\n",
    "           \"Delta\" : { ('s0','(','z') : { ('s1','(z') }, # push z; push (\n",
    "                       ('s1','(','z') : { ('s1','(z') }, # push z; push (\n",
    "                       ('s1','(','(') : { ('s1','((') }, # push (; push (\n",
    "                       ('s1','(',')') : { ('s1','()') }, # push ); push (\n",
    "                       ('s1',')','(') : { ('s1','')   }, # push nothing\n",
    "                       ('s1','','z')  : { ('s2','')   },  # push nothing\n",
    "                       ('s2','','')   : { ('s3','')   } # run away to s3\n",
    "                     },    # still it matters that a fleeting glimpse of\n",
    "           \"q0\"    : \"s0\", # 's2' has been had, with input consumed!\n",
    "           \"z0\"    : 'z',  # That is enough for acceptance. Tsk, tsk!\n",
    "           \"F\"     : {\"s2\"}\n",
    "         }\n",
    "\n",
    "chk_consistent_pda(P3bp) "
   ]
  },
  {
   "cell_type": "code",
   "execution_count": 6,
   "metadata": {
    "run_control": {
     "frozen": false,
     "read_only": false
    }
   },
   "outputs": [],
   "source": [
    "Pev = { \"Sigma\" : {'a','b'},\n",
    "        \"Q\"     : {\"S0\", \"S1\", \"S2\",\"S3\"},\n",
    "        \"Gamma\" : {'a','b','1','Z'},\n",
    "        \"Delta\" : {('S0','a','Z'): {('S1','1Z')},\n",
    "                   ('S1','a','1'): {('S1','11')},\n",
    "                   ('S1','b','1'): {('S2','')},\n",
    "                   ('S2','b','1'): {('S2','')},\n",
    "                   ('S2','','Z') : {('S3','')} },\n",
    "        \"q0\"    : \"S0\",\n",
    "        \"z0\"    : \"Z\",\n",
    "        \"F\"     : { \"S3\" } }\n",
    "\n",
    "chk_consistent_pda(Pev)"
   ]
  },
  {
   "cell_type": "code",
   "execution_count": 7,
   "metadata": {
    "run_control": {
     "frozen": false,
     "read_only": false
    }
   },
   "outputs": [
    {
     "data": {
      "image/svg+xml": [
       "<?xml version=\"1.0\" encoding=\"UTF-8\" standalone=\"no\"?>\n",
       "<!DOCTYPE svg PUBLIC \"-//W3C//DTD SVG 1.1//EN\"\n",
       " \"http://www.w3.org/Graphics/SVG/1.1/DTD/svg11.dtd\">\n",
       "<!-- Generated by graphviz version 2.38.0 (20140413.2041)\n",
       " -->\n",
       "<!-- Title: %3 Pages: 1 -->\n",
       "<svg width=\"492pt\" height=\"83pt\"\n",
       " viewBox=\"0.00 0.00 492.25 82.89\" xmlns=\"http://www.w3.org/2000/svg\" xmlns:xlink=\"http://www.w3.org/1999/xlink\">\n",
       "<g id=\"graph0\" class=\"graph\" transform=\"scale(1 1) rotate(0) translate(4 78.8937)\">\n",
       "<title>%3</title>\n",
       "<polygon fill=\"white\" stroke=\"none\" points=\"-4,4 -4,-78.8937 488.248,-78.8937 488.248,4 -4,4\"/>\n",
       "<!-- EMPTY -->\n",
       "<g id=\"node1\" class=\"node\"><title>EMPTY</title>\n",
       "</g>\n",
       "<!-- S0 -->\n",
       "<g id=\"node2\" class=\"node\"><title>S0</title>\n",
       "<ellipse fill=\"none\" stroke=\"black\" cx=\"110.447\" cy=\"-23.4469\" rx=\"19.3939\" ry=\"19.3939\"/>\n",
       "<text text-anchor=\"middle\" x=\"110.447\" y=\"-19.2469\" font-family=\"Times,serif\" font-size=\"14.00\">S0</text>\n",
       "</g>\n",
       "<!-- EMPTY&#45;&gt;S0 -->\n",
       "<g id=\"edge1\" class=\"edge\"><title>EMPTY&#45;&gt;S0</title>\n",
       "<path fill=\"none\" stroke=\"black\" d=\"M54.2186,-23.4469C62.6822,-23.4469 72.1072,-23.4469 80.7407,-23.4469\"/>\n",
       "<polygon fill=\"black\" stroke=\"black\" points=\"80.7613,-26.947 90.7613,-23.4469 80.7613,-19.947 80.7613,-26.947\"/>\n",
       "</g>\n",
       "<!-- S1 -->\n",
       "<g id=\"node3\" class=\"node\"><title>S1</title>\n",
       "<ellipse fill=\"none\" stroke=\"black\" cx=\"233.548\" cy=\"-23.4469\" rx=\"19.3939\" ry=\"19.3939\"/>\n",
       "<text text-anchor=\"middle\" x=\"233.548\" y=\"-19.2469\" font-family=\"Times,serif\" font-size=\"14.00\">S1</text>\n",
       "</g>\n",
       "<!-- S0&#45;&gt;S1 -->\n",
       "<g id=\"edge2\" class=\"edge\"><title>S0&#45;&gt;S1</title>\n",
       "<path fill=\"none\" stroke=\"black\" d=\"M130.103,-23.4469C149.806,-23.4469 181.118,-23.4469 203.942,-23.4469\"/>\n",
       "<polygon fill=\"black\" stroke=\"black\" points=\"204.069,-26.947 214.069,-23.4469 204.069,-19.947 204.069,-26.947\"/>\n",
       "<text text-anchor=\"middle\" x=\"171.997\" y=\"-26.2469\" font-family=\"Times,serif\" font-size=\"14.00\">a, Z ; 1Z</text>\n",
       "</g>\n",
       "<!-- S1&#45;&gt;S1 -->\n",
       "<g id=\"edge3\" class=\"edge\"><title>S1&#45;&gt;S1</title>\n",
       "<path fill=\"none\" stroke=\"black\" d=\"M224.055,-40.7807C221.946,-51.1419 225.11,-60.8937 233.548,-60.8937 239.085,-60.8937 242.351,-56.694 243.346,-50.8783\"/>\n",
       "<polygon fill=\"black\" stroke=\"black\" points=\"246.841,-50.6701 243.04,-40.7807 239.844,-50.8821 246.841,-50.6701\"/>\n",
       "<text text-anchor=\"middle\" x=\"233.548\" y=\"-63.6937\" font-family=\"Times,serif\" font-size=\"14.00\">a, 1 ; 11</text>\n",
       "</g>\n",
       "<!-- S2 -->\n",
       "<g id=\"node4\" class=\"node\"><title>S2</title>\n",
       "<ellipse fill=\"none\" stroke=\"black\" cx=\"345.376\" cy=\"-23.4469\" rx=\"19.3939\" ry=\"19.3939\"/>\n",
       "<text text-anchor=\"middle\" x=\"345.376\" y=\"-19.2469\" font-family=\"Times,serif\" font-size=\"14.00\">S2</text>\n",
       "</g>\n",
       "<!-- S1&#45;&gt;S2 -->\n",
       "<g id=\"edge4\" class=\"edge\"><title>S1&#45;&gt;S2</title>\n",
       "<path fill=\"none\" stroke=\"black\" d=\"M253.179,-23.4469C270.219,-23.4469 295.696,-23.4469 315.395,-23.4469\"/>\n",
       "<polygon fill=\"black\" stroke=\"black\" points=\"315.654,-26.947 325.654,-23.4469 315.654,-19.947 315.654,-26.947\"/>\n",
       "<text text-anchor=\"middle\" x=\"289.462\" y=\"-26.2469\" font-family=\"Times,serif\" font-size=\"14.00\">b, 1 ; &#39;&#39;</text>\n",
       "</g>\n",
       "<!-- S2&#45;&gt;S2 -->\n",
       "<g id=\"edge5\" class=\"edge\"><title>S2&#45;&gt;S2</title>\n",
       "<path fill=\"none\" stroke=\"black\" d=\"M335.884,-40.7807C333.774,-51.1419 336.938,-60.8937 345.376,-60.8937 350.913,-60.8937 354.179,-56.694 355.174,-50.8783\"/>\n",
       "<polygon fill=\"black\" stroke=\"black\" points=\"358.669,-50.6701 354.868,-40.7807 351.673,-50.8821 358.669,-50.6701\"/>\n",
       "<text text-anchor=\"middle\" x=\"345.376\" y=\"-63.6937\" font-family=\"Times,serif\" font-size=\"14.00\">b, 1 ; &#39;&#39;</text>\n",
       "</g>\n",
       "<!-- S3 -->\n",
       "<g id=\"node5\" class=\"node\"><title>S3</title>\n",
       "<ellipse fill=\"none\" stroke=\"black\" cx=\"460.801\" cy=\"-23.4469\" rx=\"19.4029\" ry=\"19.4029\"/>\n",
       "<ellipse fill=\"none\" stroke=\"black\" cx=\"460.801\" cy=\"-23.4469\" rx=\"23.3939\" ry=\"23.3939\"/>\n",
       "<text text-anchor=\"middle\" x=\"460.801\" y=\"-19.2469\" font-family=\"Times,serif\" font-size=\"14.00\">S3</text>\n",
       "</g>\n",
       "<!-- S2&#45;&gt;S3 -->\n",
       "<g id=\"edge6\" class=\"edge\"><title>S2&#45;&gt;S3</title>\n",
       "<path fill=\"none\" stroke=\"black\" d=\"M364.852,-23.4469C381.637,-23.4469 406.787,-23.4469 426.986,-23.4469\"/>\n",
       "<polygon fill=\"black\" stroke=\"black\" points=\"427.028,-26.947 437.028,-23.4469 427.028,-19.947 427.028,-26.947\"/>\n",
       "<text text-anchor=\"middle\" x=\"401.088\" y=\"-26.2469\" font-family=\"Times,serif\" font-size=\"14.00\">&#39;&#39;, Z ; &#39;&#39;</text>\n",
       "</g>\n",
       "</g>\n",
       "</svg>\n"
      ],
      "text/plain": [
       "<graphviz.dot.Digraph at 0x109c0da20>"
      ]
     },
     "execution_count": 7,
     "metadata": {},
     "output_type": "execute_result"
    }
   ],
   "source": [
    "dotObj_pda(Pev)"
   ]
  },
  {
   "cell_type": "code",
   "execution_count": 8,
   "metadata": {
    "run_control": {
     "frozen": false,
     "read_only": false
    }
   },
   "outputs": [
    {
     "data": {
      "text/plain": [
       "[(('s0', '(', 'z'), {('s1', '(z')}),\n",
       " (('s1', '(', 'z'), {('s1', '(z')}),\n",
       " (('s1', '(', '('), {('s1', '((')}),\n",
       " (('s1', '(', ')'), {('s1', '()')}),\n",
       " (('s1', ')', '('), {('s1', '')}),\n",
       " (('s1', '', 'z'), {('s2', '')}),\n",
       " (('s2', '', ''), {('s2', '')})]"
      ]
     },
     "execution_count": 8,
     "metadata": {},
     "output_type": "execute_result"
    }
   ],
   "source": [
    "list(P2bp[\"Delta\"].items())"
   ]
  },
  {
   "cell_type": "code",
   "execution_count": 9,
   "metadata": {
    "run_control": {
     "frozen": false,
     "read_only": false
    }
   },
   "outputs": [
    {
     "data": {
      "text/plain": [
       "<function jove.DotBashers.pdaEdgLab>"
      ]
     },
     "execution_count": 9,
     "metadata": {},
     "output_type": "execute_result"
    }
   ],
   "source": [
    "pdaEdgLab"
   ]
  },
  {
   "cell_type": "code",
   "execution_count": 10,
   "metadata": {
    "run_control": {
     "frozen": false,
     "read_only": false
    }
   },
   "outputs": [
    {
     "data": {
      "image/svg+xml": [
       "<?xml version=\"1.0\" encoding=\"UTF-8\" standalone=\"no\"?>\n",
       "<!DOCTYPE svg PUBLIC \"-//W3C//DTD SVG 1.1//EN\"\n",
       " \"http://www.w3.org/Graphics/SVG/1.1/DTD/svg11.dtd\">\n",
       "<!-- Generated by graphviz version 2.38.0 (20140413.2041)\n",
       " -->\n",
       "<!-- Title: %3 Pages: 1 -->\n",
       "<svg width=\"361pt\" height=\"176pt\"\n",
       " viewBox=\"0.00 0.00 360.83 176.00\" xmlns=\"http://www.w3.org/2000/svg\" xmlns:xlink=\"http://www.w3.org/1999/xlink\">\n",
       "<g id=\"graph0\" class=\"graph\" transform=\"scale(1 1) rotate(0) translate(4 172)\">\n",
       "<title>%3</title>\n",
       "<polygon fill=\"white\" stroke=\"none\" points=\"-4,4 -4,-172 356.835,-172 356.835,4 -4,4\"/>\n",
       "<!-- EMPTY -->\n",
       "<g id=\"node1\" class=\"node\"><title>EMPTY</title>\n",
       "</g>\n",
       "<!-- s0 -->\n",
       "<g id=\"node2\" class=\"node\"><title>s0</title>\n",
       "<ellipse fill=\"none\" stroke=\"black\" cx=\"109\" cy=\"-22\" rx=\"18\" ry=\"18\"/>\n",
       "<text text-anchor=\"middle\" x=\"109\" y=\"-17.8\" font-family=\"Times,serif\" font-size=\"14.00\">s0</text>\n",
       "</g>\n",
       "<!-- EMPTY&#45;&gt;s0 -->\n",
       "<g id=\"edge1\" class=\"edge\"><title>EMPTY&#45;&gt;s0</title>\n",
       "<path fill=\"none\" stroke=\"black\" d=\"M54.195,-22C62.6538,-22 72.0513,-22 80.5951,-22\"/>\n",
       "<polygon fill=\"black\" stroke=\"black\" points=\"80.8257,-25.5001 90.8257,-22 80.8257,-18.5001 80.8257,-25.5001\"/>\n",
       "</g>\n",
       "<!-- s1 -->\n",
       "<g id=\"node3\" class=\"node\"><title>s1</title>\n",
       "<ellipse fill=\"none\" stroke=\"black\" cx=\"220.642\" cy=\"-22\" rx=\"18\" ry=\"18\"/>\n",
       "<text text-anchor=\"middle\" x=\"220.642\" y=\"-17.8\" font-family=\"Times,serif\" font-size=\"14.00\">s1</text>\n",
       "</g>\n",
       "<!-- s0&#45;&gt;s1 -->\n",
       "<g id=\"edge2\" class=\"edge\"><title>s0&#45;&gt;s1</title>\n",
       "<path fill=\"none\" stroke=\"black\" d=\"M127.132,-22C144.591,-22 171.937,-22 192.377,-22\"/>\n",
       "<polygon fill=\"black\" stroke=\"black\" points=\"192.63,-25.5001 202.63,-22 192.63,-18.5001 192.63,-25.5001\"/>\n",
       "<text text-anchor=\"middle\" x=\"164.821\" y=\"-24.8\" font-family=\"Times,serif\" font-size=\"14.00\">(, z ; (z</text>\n",
       "</g>\n",
       "<!-- s1&#45;&gt;s1 -->\n",
       "<g id=\"edge3\" class=\"edge\"><title>s1&#45;&gt;s1</title>\n",
       "<path fill=\"none\" stroke=\"black\" d=\"M218.29,-40.1527C217.928,-49.5391 218.712,-58 220.642,-58 221.818,-58 222.568,-54.8581 222.893,-50.2796\"/>\n",
       "<polygon fill=\"black\" stroke=\"black\" points=\"226.394,-50.187 222.993,-40.1527 219.394,-50.1175 226.394,-50.187\"/>\n",
       "<text text-anchor=\"middle\" x=\"220.642\" y=\"-60.8\" font-family=\"Times,serif\" font-size=\"14.00\">(, z ; (z</text>\n",
       "</g>\n",
       "<!-- s1&#45;&gt;s1 -->\n",
       "<g id=\"edge4\" class=\"edge\"><title>s1&#45;&gt;s1</title>\n",
       "<path fill=\"none\" stroke=\"black\" d=\"M216.768,-39.6991C214.628,-56.9958 215.919,-76 220.642,-76 224.442,-76 226.02,-63.6944 225.377,-49.875\"/>\n",
       "<polygon fill=\"black\" stroke=\"black\" points=\"228.847,-49.3683 224.516,-39.6991 221.872,-49.9587 228.847,-49.3683\"/>\n",
       "<text text-anchor=\"middle\" x=\"220.642\" y=\"-78.8\" font-family=\"Times,serif\" font-size=\"14.00\">(, ( ; ((</text>\n",
       "</g>\n",
       "<!-- s1&#45;&gt;s1 -->\n",
       "<g id=\"edge5\" class=\"edge\"><title>s1&#45;&gt;s1</title>\n",
       "<path fill=\"none\" stroke=\"black\" d=\"M215.84,-39.3534C211.31,-63.8176 212.91,-94 220.642,-94 227.346,-94 229.44,-71.3024 226.924,-49.3194\"/>\n",
       "<polygon fill=\"black\" stroke=\"black\" points=\"230.375,-48.7305 225.444,-39.3534 223.451,-49.7592 230.375,-48.7305\"/>\n",
       "<text text-anchor=\"middle\" x=\"220.642\" y=\"-96.8\" font-family=\"Times,serif\" font-size=\"14.00\">(, ) ; ()</text>\n",
       "</g>\n",
       "<!-- s1&#45;&gt;s1 -->\n",
       "<g id=\"edge6\" class=\"edge\"><title>s1&#45;&gt;s1</title>\n",
       "<path fill=\"none\" stroke=\"black\" d=\"M215.191,-39.2299C208.008,-70.4634 209.825,-112 220.642,-112 230.317,-112 232.791,-78.763 228.064,-49.3954\"/>\n",
       "<polygon fill=\"black\" stroke=\"black\" points=\"231.433,-48.3801 226.092,-39.2299 224.561,-49.7135 231.433,-48.3801\"/>\n",
       "<text text-anchor=\"middle\" x=\"220.642\" y=\"-114.8\" font-family=\"Times,serif\" font-size=\"14.00\">), ( ; &#39;&#39;</text>\n",
       "</g>\n",
       "<!-- s2 -->\n",
       "<g id=\"node4\" class=\"node\"><title>s2</title>\n",
       "<ellipse fill=\"none\" stroke=\"black\" cx=\"330.835\" cy=\"-22\" rx=\"18\" ry=\"18\"/>\n",
       "<ellipse fill=\"none\" stroke=\"black\" cx=\"330.835\" cy=\"-22\" rx=\"22\" ry=\"22\"/>\n",
       "<text text-anchor=\"middle\" x=\"330.835\" y=\"-17.8\" font-family=\"Times,serif\" font-size=\"14.00\">s2</text>\n",
       "</g>\n",
       "<!-- s1&#45;&gt;s2 -->\n",
       "<g id=\"edge7\" class=\"edge\"><title>s1&#45;&gt;s2</title>\n",
       "<path fill=\"none\" stroke=\"black\" d=\"M239.025,-22C255.052,-22 279.22,-22 298.595,-22\"/>\n",
       "<polygon fill=\"black\" stroke=\"black\" points=\"298.784,-25.5001 308.784,-22 298.784,-18.5001 298.784,-25.5001\"/>\n",
       "<text text-anchor=\"middle\" x=\"273.738\" y=\"-24.8\" font-family=\"Times,serif\" font-size=\"14.00\">&#39;&#39;, z ; &#39;&#39;</text>\n",
       "</g>\n",
       "<!-- s2&#45;&gt;s2 -->\n",
       "<g id=\"edge8\" class=\"edge\"><title>s2&#45;&gt;s2</title>\n",
       "<path fill=\"none\" stroke=\"black\" d=\"M320.768,-41.7575C319.057,-52.3499 322.413,-62 330.835,-62 336.362,-62 339.707,-57.8441 340.87,-51.9932\"/>\n",
       "<polygon fill=\"black\" stroke=\"black\" points=\"344.371,-51.7683 340.902,-41.7575 337.371,-51.7465 344.371,-51.7683\"/>\n",
       "<text text-anchor=\"middle\" x=\"330.835\" y=\"-64.8\" font-family=\"Times,serif\" font-size=\"14.00\">&#39;&#39;, &#39;&#39; ; &#39;&#39;</text>\n",
       "</g>\n",
       "</g>\n",
       "</svg>\n"
      ],
      "text/plain": [
       "<graphviz.dot.Digraph at 0x109c0def0>"
      ]
     },
     "execution_count": 10,
     "metadata": {},
     "output_type": "execute_result"
    }
   ],
   "source": [
    "dotObj_pda(P2bp)"
   ]
  },
  {
   "cell_type": "code",
   "execution_count": 11,
   "metadata": {
    "run_control": {
     "frozen": false,
     "read_only": false
    }
   },
   "outputs": [
    {
     "data": {
      "image/svg+xml": [
       "<?xml version=\"1.0\" encoding=\"UTF-8\" standalone=\"no\"?>\n",
       "<!DOCTYPE svg PUBLIC \"-//W3C//DTD SVG 1.1//EN\"\n",
       " \"http://www.w3.org/Graphics/SVG/1.1/DTD/svg11.dtd\">\n",
       "<!-- Generated by graphviz version 2.38.0 (20140413.2041)\n",
       " -->\n",
       "<!-- Title: %3 Pages: 1 -->\n",
       "<svg width=\"361pt\" height=\"176pt\"\n",
       " viewBox=\"0.00 0.00 360.83 176.00\" xmlns=\"http://www.w3.org/2000/svg\" xmlns:xlink=\"http://www.w3.org/1999/xlink\">\n",
       "<g id=\"graph0\" class=\"graph\" transform=\"scale(1 1) rotate(0) translate(4 172)\">\n",
       "<title>%3</title>\n",
       "<polygon fill=\"white\" stroke=\"none\" points=\"-4,4 -4,-172 356.835,-172 356.835,4 -4,4\"/>\n",
       "<!-- EMPTY -->\n",
       "<g id=\"node1\" class=\"node\"><title>EMPTY</title>\n",
       "</g>\n",
       "<!-- s0 -->\n",
       "<g id=\"node2\" class=\"node\"><title>s0</title>\n",
       "<ellipse fill=\"none\" stroke=\"black\" cx=\"109\" cy=\"-22\" rx=\"18\" ry=\"18\"/>\n",
       "<text text-anchor=\"middle\" x=\"109\" y=\"-17.8\" font-family=\"Times,serif\" font-size=\"14.00\">s0</text>\n",
       "</g>\n",
       "<!-- EMPTY&#45;&gt;s0 -->\n",
       "<g id=\"edge1\" class=\"edge\"><title>EMPTY&#45;&gt;s0</title>\n",
       "<path fill=\"none\" stroke=\"black\" d=\"M54.195,-22C62.6538,-22 72.0513,-22 80.5951,-22\"/>\n",
       "<polygon fill=\"black\" stroke=\"black\" points=\"80.8257,-25.5001 90.8257,-22 80.8257,-18.5001 80.8257,-25.5001\"/>\n",
       "</g>\n",
       "<!-- s1 -->\n",
       "<g id=\"node3\" class=\"node\"><title>s1</title>\n",
       "<ellipse fill=\"none\" stroke=\"black\" cx=\"220.642\" cy=\"-22\" rx=\"18\" ry=\"18\"/>\n",
       "<text text-anchor=\"middle\" x=\"220.642\" y=\"-17.8\" font-family=\"Times,serif\" font-size=\"14.00\">s1</text>\n",
       "</g>\n",
       "<!-- s0&#45;&gt;s1 -->\n",
       "<g id=\"edge2\" class=\"edge\"><title>s0&#45;&gt;s1</title>\n",
       "<path fill=\"none\" stroke=\"black\" d=\"M127.132,-22C144.591,-22 171.937,-22 192.377,-22\"/>\n",
       "<polygon fill=\"black\" stroke=\"black\" points=\"192.63,-25.5001 202.63,-22 192.63,-18.5001 192.63,-25.5001\"/>\n",
       "<text text-anchor=\"middle\" x=\"164.821\" y=\"-24.8\" font-family=\"Times,serif\" font-size=\"14.00\">(, z ; (z</text>\n",
       "</g>\n",
       "<!-- s1&#45;&gt;s1 -->\n",
       "<g id=\"edge3\" class=\"edge\"><title>s1&#45;&gt;s1</title>\n",
       "<path fill=\"none\" stroke=\"black\" d=\"M218.29,-40.1527C217.928,-49.5391 218.712,-58 220.642,-58 221.818,-58 222.568,-54.8581 222.893,-50.2796\"/>\n",
       "<polygon fill=\"black\" stroke=\"black\" points=\"226.394,-50.187 222.993,-40.1527 219.394,-50.1175 226.394,-50.187\"/>\n",
       "<text text-anchor=\"middle\" x=\"220.642\" y=\"-60.8\" font-family=\"Times,serif\" font-size=\"14.00\">(, z ; (z</text>\n",
       "</g>\n",
       "<!-- s1&#45;&gt;s1 -->\n",
       "<g id=\"edge4\" class=\"edge\"><title>s1&#45;&gt;s1</title>\n",
       "<path fill=\"none\" stroke=\"black\" d=\"M216.768,-39.6991C214.628,-56.9958 215.919,-76 220.642,-76 224.442,-76 226.02,-63.6944 225.377,-49.875\"/>\n",
       "<polygon fill=\"black\" stroke=\"black\" points=\"228.847,-49.3683 224.516,-39.6991 221.872,-49.9587 228.847,-49.3683\"/>\n",
       "<text text-anchor=\"middle\" x=\"220.642\" y=\"-78.8\" font-family=\"Times,serif\" font-size=\"14.00\">(, ( ; ((</text>\n",
       "</g>\n",
       "<!-- s1&#45;&gt;s1 -->\n",
       "<g id=\"edge5\" class=\"edge\"><title>s1&#45;&gt;s1</title>\n",
       "<path fill=\"none\" stroke=\"black\" d=\"M215.84,-39.3534C211.31,-63.8176 212.91,-94 220.642,-94 227.346,-94 229.44,-71.3024 226.924,-49.3194\"/>\n",
       "<polygon fill=\"black\" stroke=\"black\" points=\"230.375,-48.7305 225.444,-39.3534 223.451,-49.7592 230.375,-48.7305\"/>\n",
       "<text text-anchor=\"middle\" x=\"220.642\" y=\"-96.8\" font-family=\"Times,serif\" font-size=\"14.00\">(, ) ; ()</text>\n",
       "</g>\n",
       "<!-- s1&#45;&gt;s1 -->\n",
       "<g id=\"edge6\" class=\"edge\"><title>s1&#45;&gt;s1</title>\n",
       "<path fill=\"none\" stroke=\"black\" d=\"M215.191,-39.2299C208.008,-70.4634 209.825,-112 220.642,-112 230.317,-112 232.791,-78.763 228.064,-49.3954\"/>\n",
       "<polygon fill=\"black\" stroke=\"black\" points=\"231.433,-48.3801 226.092,-39.2299 224.561,-49.7135 231.433,-48.3801\"/>\n",
       "<text text-anchor=\"middle\" x=\"220.642\" y=\"-114.8\" font-family=\"Times,serif\" font-size=\"14.00\">), ( ; &#39;&#39;</text>\n",
       "</g>\n",
       "<!-- s2 -->\n",
       "<g id=\"node4\" class=\"node\"><title>s2</title>\n",
       "<ellipse fill=\"none\" stroke=\"black\" cx=\"330.835\" cy=\"-22\" rx=\"18\" ry=\"18\"/>\n",
       "<ellipse fill=\"none\" stroke=\"black\" cx=\"330.835\" cy=\"-22\" rx=\"22\" ry=\"22\"/>\n",
       "<text text-anchor=\"middle\" x=\"330.835\" y=\"-17.8\" font-family=\"Times,serif\" font-size=\"14.00\">s2</text>\n",
       "</g>\n",
       "<!-- s1&#45;&gt;s2 -->\n",
       "<g id=\"edge7\" class=\"edge\"><title>s1&#45;&gt;s2</title>\n",
       "<path fill=\"none\" stroke=\"black\" d=\"M239.025,-22C255.052,-22 279.22,-22 298.595,-22\"/>\n",
       "<polygon fill=\"black\" stroke=\"black\" points=\"298.784,-25.5001 308.784,-22 298.784,-18.5001 298.784,-25.5001\"/>\n",
       "<text text-anchor=\"middle\" x=\"273.738\" y=\"-24.8\" font-family=\"Times,serif\" font-size=\"14.00\">&#39;&#39;, z ; &#39;&#39;</text>\n",
       "</g>\n",
       "</g>\n",
       "</svg>\n"
      ],
      "text/plain": [
       "<graphviz.dot.Digraph at 0x109c0dda0>"
      ]
     },
     "execution_count": 11,
     "metadata": {},
     "output_type": "execute_result"
    }
   ],
   "source": [
    "dotObj_pda(P1bp)"
   ]
  },
  {
   "cell_type": "code",
   "execution_count": 12,
   "metadata": {
    "run_control": {
     "frozen": false,
     "read_only": false
    }
   },
   "outputs": [
    {
     "data": {
      "image/svg+xml": [
       "<?xml version=\"1.0\" encoding=\"UTF-8\" standalone=\"no\"?>\n",
       "<!DOCTYPE svg PUBLIC \"-//W3C//DTD SVG 1.1//EN\"\n",
       " \"http://www.w3.org/Graphics/SVG/1.1/DTD/svg11.dtd\">\n",
       "<!-- Generated by graphviz version 2.38.0 (20140413.2041)\n",
       " -->\n",
       "<!-- Title: %3 Pages: 1 -->\n",
       "<svg width=\"466pt\" height=\"176pt\"\n",
       " viewBox=\"0.00 0.00 465.86 176.00\" xmlns=\"http://www.w3.org/2000/svg\" xmlns:xlink=\"http://www.w3.org/1999/xlink\">\n",
       "<g id=\"graph0\" class=\"graph\" transform=\"scale(1 1) rotate(0) translate(4 172)\">\n",
       "<title>%3</title>\n",
       "<polygon fill=\"white\" stroke=\"none\" points=\"-4,4 -4,-172 461.859,-172 461.859,4 -4,4\"/>\n",
       "<!-- EMPTY -->\n",
       "<g id=\"node1\" class=\"node\"><title>EMPTY</title>\n",
       "</g>\n",
       "<!-- s0 -->\n",
       "<g id=\"node2\" class=\"node\"><title>s0</title>\n",
       "<ellipse fill=\"none\" stroke=\"black\" cx=\"109\" cy=\"-22\" rx=\"18\" ry=\"18\"/>\n",
       "<text text-anchor=\"middle\" x=\"109\" y=\"-17.8\" font-family=\"Times,serif\" font-size=\"14.00\">s0</text>\n",
       "</g>\n",
       "<!-- EMPTY&#45;&gt;s0 -->\n",
       "<g id=\"edge1\" class=\"edge\"><title>EMPTY&#45;&gt;s0</title>\n",
       "<path fill=\"none\" stroke=\"black\" d=\"M54.195,-22C62.6538,-22 72.0513,-22 80.5951,-22\"/>\n",
       "<polygon fill=\"black\" stroke=\"black\" points=\"80.8257,-25.5001 90.8257,-22 80.8257,-18.5001 80.8257,-25.5001\"/>\n",
       "</g>\n",
       "<!-- s1 -->\n",
       "<g id=\"node4\" class=\"node\"><title>s1</title>\n",
       "<ellipse fill=\"none\" stroke=\"black\" cx=\"220.642\" cy=\"-22\" rx=\"18\" ry=\"18\"/>\n",
       "<text text-anchor=\"middle\" x=\"220.642\" y=\"-17.8\" font-family=\"Times,serif\" font-size=\"14.00\">s1</text>\n",
       "</g>\n",
       "<!-- s0&#45;&gt;s1 -->\n",
       "<g id=\"edge2\" class=\"edge\"><title>s0&#45;&gt;s1</title>\n",
       "<path fill=\"none\" stroke=\"black\" d=\"M127.132,-22C144.591,-22 171.937,-22 192.377,-22\"/>\n",
       "<polygon fill=\"black\" stroke=\"black\" points=\"192.63,-25.5001 202.63,-22 192.63,-18.5001 192.63,-25.5001\"/>\n",
       "<text text-anchor=\"middle\" x=\"164.821\" y=\"-24.8\" font-family=\"Times,serif\" font-size=\"14.00\">(, z ; (z</text>\n",
       "</g>\n",
       "<!-- s3 -->\n",
       "<g id=\"node3\" class=\"node\"><title>s3</title>\n",
       "<ellipse fill=\"none\" stroke=\"black\" cx=\"439.859\" cy=\"-22\" rx=\"18\" ry=\"18\"/>\n",
       "<text text-anchor=\"middle\" x=\"439.859\" y=\"-17.8\" font-family=\"Times,serif\" font-size=\"14.00\">s3</text>\n",
       "</g>\n",
       "<!-- s1&#45;&gt;s1 -->\n",
       "<g id=\"edge3\" class=\"edge\"><title>s1&#45;&gt;s1</title>\n",
       "<path fill=\"none\" stroke=\"black\" d=\"M218.29,-40.1527C217.928,-49.5391 218.712,-58 220.642,-58 221.818,-58 222.568,-54.8581 222.893,-50.2796\"/>\n",
       "<polygon fill=\"black\" stroke=\"black\" points=\"226.394,-50.187 222.993,-40.1527 219.394,-50.1175 226.394,-50.187\"/>\n",
       "<text text-anchor=\"middle\" x=\"220.642\" y=\"-60.8\" font-family=\"Times,serif\" font-size=\"14.00\">(, z ; (z</text>\n",
       "</g>\n",
       "<!-- s1&#45;&gt;s1 -->\n",
       "<g id=\"edge4\" class=\"edge\"><title>s1&#45;&gt;s1</title>\n",
       "<path fill=\"none\" stroke=\"black\" d=\"M216.768,-39.6991C214.628,-56.9958 215.919,-76 220.642,-76 224.442,-76 226.02,-63.6944 225.377,-49.875\"/>\n",
       "<polygon fill=\"black\" stroke=\"black\" points=\"228.847,-49.3683 224.516,-39.6991 221.872,-49.9587 228.847,-49.3683\"/>\n",
       "<text text-anchor=\"middle\" x=\"220.642\" y=\"-78.8\" font-family=\"Times,serif\" font-size=\"14.00\">(, ( ; ((</text>\n",
       "</g>\n",
       "<!-- s1&#45;&gt;s1 -->\n",
       "<g id=\"edge5\" class=\"edge\"><title>s1&#45;&gt;s1</title>\n",
       "<path fill=\"none\" stroke=\"black\" d=\"M215.84,-39.3534C211.31,-63.8176 212.91,-94 220.642,-94 227.346,-94 229.44,-71.3024 226.924,-49.3194\"/>\n",
       "<polygon fill=\"black\" stroke=\"black\" points=\"230.375,-48.7305 225.444,-39.3534 223.451,-49.7592 230.375,-48.7305\"/>\n",
       "<text text-anchor=\"middle\" x=\"220.642\" y=\"-96.8\" font-family=\"Times,serif\" font-size=\"14.00\">(, ) ; ()</text>\n",
       "</g>\n",
       "<!-- s1&#45;&gt;s1 -->\n",
       "<g id=\"edge6\" class=\"edge\"><title>s1&#45;&gt;s1</title>\n",
       "<path fill=\"none\" stroke=\"black\" d=\"M215.191,-39.2299C208.008,-70.4634 209.825,-112 220.642,-112 230.317,-112 232.791,-78.763 228.064,-49.3954\"/>\n",
       "<polygon fill=\"black\" stroke=\"black\" points=\"231.433,-48.3801 226.092,-39.2299 224.561,-49.7135 231.433,-48.3801\"/>\n",
       "<text text-anchor=\"middle\" x=\"220.642\" y=\"-114.8\" font-family=\"Times,serif\" font-size=\"14.00\">), ( ; &#39;&#39;</text>\n",
       "</g>\n",
       "<!-- s2 -->\n",
       "<g id=\"node5\" class=\"node\"><title>s2</title>\n",
       "<ellipse fill=\"none\" stroke=\"black\" cx=\"330.835\" cy=\"-22\" rx=\"18\" ry=\"18\"/>\n",
       "<ellipse fill=\"none\" stroke=\"black\" cx=\"330.835\" cy=\"-22\" rx=\"22\" ry=\"22\"/>\n",
       "<text text-anchor=\"middle\" x=\"330.835\" y=\"-17.8\" font-family=\"Times,serif\" font-size=\"14.00\">s2</text>\n",
       "</g>\n",
       "<!-- s1&#45;&gt;s2 -->\n",
       "<g id=\"edge7\" class=\"edge\"><title>s1&#45;&gt;s2</title>\n",
       "<path fill=\"none\" stroke=\"black\" d=\"M239.025,-22C255.052,-22 279.22,-22 298.595,-22\"/>\n",
       "<polygon fill=\"black\" stroke=\"black\" points=\"298.784,-25.5001 308.784,-22 298.784,-18.5001 298.784,-25.5001\"/>\n",
       "<text text-anchor=\"middle\" x=\"273.738\" y=\"-24.8\" font-family=\"Times,serif\" font-size=\"14.00\">&#39;&#39;, z ; &#39;&#39;</text>\n",
       "</g>\n",
       "<!-- s2&#45;&gt;s3 -->\n",
       "<g id=\"edge8\" class=\"edge\"><title>s2&#45;&gt;s3</title>\n",
       "<path fill=\"none\" stroke=\"black\" d=\"M352.98,-22C369.784,-22 393.411,-22 411.63,-22\"/>\n",
       "<polygon fill=\"black\" stroke=\"black\" points=\"411.64,-25.5001 421.64,-22 411.64,-18.5001 411.64,-25.5001\"/>\n",
       "<text text-anchor=\"middle\" x=\"387.347\" y=\"-24.8\" font-family=\"Times,serif\" font-size=\"14.00\">&#39;&#39;, &#39;&#39; ; &#39;&#39;</text>\n",
       "</g>\n",
       "</g>\n",
       "</svg>\n"
      ],
      "text/plain": [
       "<graphviz.dot.Digraph at 0x109c0d908>"
      ]
     },
     "execution_count": 12,
     "metadata": {},
     "output_type": "execute_result"
    }
   ],
   "source": [
    "dotObj_pda(P3bp)"
   ]
  },
  {
   "cell_type": "markdown",
   "metadata": {
    "run_control": {
     "frozen": false,
     "read_only": false
    }
   },
   "source": [
    "# Routines to run PDA \n",
    "\n",
    "We now devise a routine to run a PDA according to either the \"accept by final state\" criterion or \"accept by empty stack\" criterion. We call these \"ACCEPT_F\" and \"ACCEPT_S\" with the default being ACCEPT_F.  The main difference is that the \"final\" configurations are collected differently."
   ]
  },
  {
   "cell_type": "code",
   "execution_count": 13,
   "metadata": {
    "run_control": {
     "frozen": false,
     "read_only": false
    }
   },
   "outputs": [],
   "source": [
    "def explore_pda(inp, P, acceptance = 'ACCEPT_F', chatty=False):\n",
    "    \"\"\"A handy routine to print the result of run_pda plus making \n",
    "       future extensions to explore run-results.\n",
    "    \"\"\"\n",
    "    chk_consistent_pda(P)\n",
    "    (term, final, visited) = run_pda(inp, P, acceptance, chatty=chatty)\n",
    "    if (final == []):\n",
    "        print(\"String \" + inp + \" rejected by your PDA :-(\")\n",
    "        print(\"Visited states are:\")\n",
    "        print(visited)\n",
    "    else:\n",
    "        print(\"String \" + inp + \" accepted by your PDA in \" + \n",
    "               str(len(final)) + \" ways :-) \")\n",
    "        print(\"Here are the ways: \")\n",
    "        for fin_path in final:\n",
    "            (fin, path) = fin_path\n",
    "            print(\"Final state \", fin)\n",
    "            print(\"Reached as follows:\")\n",
    "            for p in path:\n",
    "                print(\"-> \", p)\n",
    "            print(\"-> \", fin, \".\")"
   ]
  },
  {
   "cell_type": "code",
   "execution_count": 14,
   "metadata": {
    "run_control": {
     "frozen": false,
     "read_only": false
    }
   },
   "outputs": [],
   "source": [
    "def run_pda(str, P, acceptance = 'ACCEPT_F', chatty=True):\n",
    "    \"\"\"Input:  An initial string str.\n",
    "               A PDA P\n",
    "               The acceptance criterion (default is \"by final state\"\n",
    "               encoded as ACCEPT_F. The alternative is ACCEPT_S\n",
    "               that stands for \"acceptance by empty stack\").\n",
    "               \n",
    "       Output: (l_term_id_path, l_final_id_path, l_visited_id)\n",
    "               Thus, an external routine can probe and determine\n",
    "               * terminal IDs\n",
    "               * acceptance configurations\n",
    "               * visited IDs\n",
    "    \"\"\"\n",
    "    chk_consistent_pda(P)\n",
    "    init_id         = (P[\"q0\"], str, P[\"z0\"]) # Initial ID\n",
    "    init_l_id_path  = [(init_id, [])]   # [(Initial ID, empty path)]\n",
    "    l_visited_id    = [] # Nothing visited yet\n",
    "    \n",
    "    (l_surv, \n",
    "     l_term, \n",
    "     l_final) = classify_l_id_path(init_l_id_path, l_visited_id, P, acceptance)\n",
    "    \n",
    "    rslt            = h_run_pda(l_id_path       = l_surv,\n",
    "                                l_term_id_path  = l_term,     \n",
    "                                l_final_id_path = l_final,  \n",
    "                                l_visited_id    = l_visited_id,  \n",
    "                                pda             = P,   \n",
    "                                acceptance      = acceptance # Acceptance criterion\n",
    "                               )\n",
    "    (terminal_id_path, final_id_path, visited_ids) = rslt\n",
    "    if chatty:\n",
    "        print(\"terminal_id_path = \", terminal_id_path) \n",
    "        print(\"final_id_path = \", final_id_path)\n",
    "        print(\"visited_ids = \", visited_ids)\n",
    "    return rslt"
   ]
  },
  {
   "cell_type": "code",
   "execution_count": 15,
   "metadata": {
    "run_control": {
     "frozen": false,
     "read_only": false
    }
   },
   "outputs": [],
   "source": [
    "def classify_l_id_path(l_id_path, l_visited_id, P, acceptance):\n",
    "    \"\"\"Given a list l_id_path of id_path pairs, a list l_visited_id\n",
    "       of visited IDs, a PDA P, and the acceptance criterion, classify\n",
    "       the contents of id_path into survivors, terminals, and finals.\n",
    "    \"\"\"\n",
    "    surv_pool  = list(map(survivor_id(l_visited_id, P), l_id_path))\n",
    "    term_pool  = list(map(term_id(l_visited_id, P), l_id_path))\n",
    "    final_pool = list(map(final_id(l_visited_id, P, acceptance), l_id_path))\n",
    "   \n",
    "    l_surv = list(map(lambda x: x[1],\n",
    "                      filter(lambda x: x[0]==\"surv\",\n",
    "                             surv_pool)))\n",
    "    l_term = list(map(lambda x: x[1],\n",
    "                      filter(lambda x: x[0]==\"term\",\n",
    "                             term_pool)))\n",
    "    l_final = list(map(lambda x: x[1],\n",
    "                       filter(lambda x: x[0]==\"final\",\n",
    "                              final_pool))) \n",
    "    return (l_surv, l_term, l_final)"
   ]
  },
  {
   "cell_type": "code",
   "execution_count": 16,
   "metadata": {
    "run_control": {
     "frozen": false,
     "read_only": false
    }
   },
   "outputs": [],
   "source": [
    "def h_run_pda(l_id_path, l_term_id_path, l_final_id_path, l_visited_id, \n",
    "              pda, acceptance):\n",
    "    \"\"\"Input:  A list of id_path, all of which are surviving i.e. not\n",
    "               \"term\" or terminal. This invariant is maintained.\n",
    "               A list of terminal id_path (terminal in that there is\n",
    "                 no point pushing on them; stuck or loopy).\n",
    "               A list of final id_path: whenever we meet the \n",
    "               acceptance condition, we record that configuration;\n",
    "               A list of visited id. This will help determine if\n",
    "                 terminal or not. Detects looping as well.\n",
    "               A PDA.\n",
    "       Output: (l_term_id_path, l_final_id_path, l_visited_id)\n",
    "               Thus, an external routine can probe and determine\n",
    "               * terminal IDs\n",
    "               * acceptance configurations\n",
    "               * visited IDs\n",
    "    \"\"\"\n",
    "    if l_id_path == []:\n",
    "        return (l_term_id_path, l_final_id_path, l_visited_id)\n",
    "    else:\n",
    "        id_path0    = l_id_path[0]\n",
    "        (id0,path0) = id_path0     # separate out the id and path\n",
    "               \n",
    "        # First, record the current id0 in l_visited_id \n",
    "        l_visited_id = [ id0 ] + l_visited_id \n",
    "        \n",
    "        # Then obtain  (ID, path) pairs generated by \n",
    "        # taking all possible one-step moves out of id0. \n",
    "        # We also record the extension of path0 in each such\n",
    "        # reached new ID.\n",
    "        nl_id_path0 = step_pda(id0, path0, pda)\n",
    "\n",
    "        if nl_id_path0 == []:\n",
    "            # Nothing gen by firing id0; recurse on rest\n",
    "            return h_run_pda(l_id_path[1:],\n",
    "                             l_term_id_path,\n",
    "                             l_final_id_path,\n",
    "                             l_visited_id,\n",
    "                             pda,\n",
    "                             acceptance)\n",
    "        else:\n",
    "            # Classify the progenies of id0 in nl_id_path0\n",
    "            (l_surv, \n",
    "             l_term, \n",
    "             l_final) = classify_l_id_path(nl_id_path0, l_visited_id, pda, acceptance)\n",
    "            \n",
    "            return h_run_pda(l_id_path[1:]   + l_surv,\n",
    "                             l_term_id_path  + l_term,\n",
    "                             l_final_id_path + l_final,\n",
    "                             l_visited_id,\n",
    "                             pda,\n",
    "                             acceptance)"
   ]
  },
  {
   "cell_type": "code",
   "execution_count": 17,
   "metadata": {
    "run_control": {
     "frozen": false,
     "read_only": false
    }
   },
   "outputs": [],
   "source": [
    "test = {\"Sigma\" : {'0','1'},\n",
    "        \"Q\"     : {'q1','q2','q3','q4','q33','q44','q22'},\n",
    "        \"Gamma\" : {'0','1','$'},\n",
    "        \"Delta\" : {('q1','',''): {('q2','$')},\n",
    "                   \n",
    "                   ('q2','0',''): {('q2','0')},  \n",
    "                   ('q2','','0'): {('q22','0')}, \n",
    "                   \n",
    "                   ('q2','1',''): {('q2','1')},\n",
    "                   ('q2','','1'): {('q33','1')},\n",
    "                   ('q2','1','1'): {('q44','1')},\n",
    "                   ('q2','',''): {('q3','')}, \n",
    "                   \n",
    "                   ('q3','0','0'): {('q3','')},\n",
    "                   ('q3','1','1'): {('q3','')},\n",
    "                   ('q3','','$') : {('q4','')}\n",
    "                  },\n",
    "        \"z0\"    : \"$\",\n",
    "        \"q0\"    : \"q1\",\n",
    "        \"F\"     : {'q1','q4'} }\n",
    "chk_consistent_pda(test)"
   ]
  },
  {
   "cell_type": "code",
   "execution_count": 18,
   "metadata": {
    "run_control": {
     "frozen": false,
     "read_only": false
    }
   },
   "outputs": [],
   "source": [
    " def interpret_w_eps(q_inp_stk, pda):\n",
    "        \"\"\"Produce the most liberal interpretation of q_inp_stk for pda\n",
    "           i.e.  in (q, inp_str, stk_str), we can ignore inp_str or stk_str.\n",
    "           E.g. if inp_str is \"ab\", we can consider it to be \"\" or \"a\".\n",
    "           The rest of the string will then be \"ab\" or \"b\" respectively.\n",
    "           This is done if a move in Delta can process that option.\n",
    "        \"\"\"\n",
    "        (q, inp_str, stk_str) = q_inp_stk  \n",
    "        \n",
    "        inp_interps = cvt_str_to_sym(inp_str)  # Diverse interpretations of input\n",
    "        stk_interps = cvt_str_to_sym(stk_str)  # and stack strings.\n",
    "        \n",
    "        # A list of the form [ ((if, ir), (sf, sr)), ... ] pairs where\n",
    "        # ifst is the first of the input and sfst is the first of the stack\n",
    "        # irst is the rest  of the input and srst is the rest  of the stack\n",
    "        i_s_interps = list(product(inp_interps, stk_interps))  \n",
    "        \n",
    "        pda_delta = pda[\"Delta\"]\n",
    "        key_list  = list(pda_delta.keys())\n",
    "        \n",
    "        # Form a dictionary i_s_interp_dict of { i_s_interp : delta-codom-pt-set }\n",
    "        i_s_interp_dict = dict({})\n",
    "        \n",
    "        for i_s_interp in i_s_interps:\n",
    "            # Each i_s_interp is ((ifst, irst), (sfst, srst))\n",
    "            (inp_interp, stk_interp) = i_s_interp\n",
    "            (ifst, irst) = inp_interp\n",
    "            (sfst, srst) = stk_interp\n",
    "            \n",
    "            # Now form all possible transitions under each interpretation\n",
    "            key_sought = (q, ifst, sfst)\n",
    "            if key_sought in key_list:\n",
    "                # Transition as per that, recording the irst, srst also\n",
    "                i_s_interp_dict.update({i_s_interp : pda_delta[key_sought]})\n",
    "                \n",
    "        return i_s_interp_dict"
   ]
  },
  {
   "cell_type": "code",
   "execution_count": 19,
   "metadata": {
    "run_control": {
     "frozen": false,
     "read_only": false
    }
   },
   "outputs": [],
   "source": [
    "def step_pda(q_inp_stk, path, pda):\n",
    "    \"\"\"Inputs: An ID q_inp_stk = (q, inp_str, stk_str)\n",
    "               A path reaching this ID. path is a list\n",
    "                 of Delta's domain triples via which the firings occurred.\n",
    "               A pda (Q, Sigma, Gamma, Delta, q0, z0, F)\n",
    "               \n",
    "       Output: Let inp_sym and stk_sym be the symbols in the input/stack.\n",
    "               In case (q,inp_sym, stk_sym) is not in the domain of pda's\n",
    "               TRel, return [], i.e. empty list.\n",
    "\n",
    "               Else return the list [ (q_inp_stk_i, path_i), ... ]\n",
    "               \n",
    "               where ID q_inp_stk_i can be reached via path_i,\n",
    "               and path_i is obtained by extending path\n",
    "               with the domain triple that fired.\n",
    "               \n",
    "               For instance, if path_list is [p1,p2,p3] and the\n",
    "               transition at domain point (q,c,s) fired from (q,inp,stk),\n",
    "               and the codomain has its third entry as (q3,inp3,stk3), \n",
    "               then q_inp_stk_i will be (q3,inp3,stk3)\n",
    "               and  path_i      will be [p1,p2,p3, (q,c,s)].\n",
    "    \"\"\"\n",
    "    chk_consistent_pda(pda)\n",
    "    i_s_interp_dict = interpret_w_eps(q_inp_stk, pda)\n",
    "    \n",
    "    nxt_id_path_l = []\n",
    "    \n",
    "    extpath = path + [ q_inp_stk ]\n",
    "    \n",
    "    for i_s_interp_item in i_s_interp_dict.items():\n",
    "        (((ifst, irst), # extract input fst,rst\n",
    "          (sfst, srst)), # and stack fst,rst \n",
    "         codom_set      # and codom_set\n",
    "        ) = i_s_interp_item\n",
    "        for codom_pt in codom_set:\n",
    "            (nxt_st, str_psh) = codom_pt\n",
    "            nxt_id_path_l += [((nxt_st, irst, str_psh+srst),\n",
    "                               extpath)]\n",
    "    return nxt_id_path_l"
   ]
  },
  {
   "cell_type": "code",
   "execution_count": 20,
   "metadata": {
    "run_control": {
     "frozen": false,
     "read_only": false
    }
   },
   "outputs": [],
   "source": [
    "def survivor_id(l_visited_id, pda):\n",
    "    return (lambda id_path:\n",
    "                ((\"surv\", id_path)\n",
    "                    if is_surv_id(id_path, l_visited_id, pda)\n",
    "                    else (\"not_surv\", id_path)))\n",
    "\n",
    "def term_id(l_visited_id, pda):\n",
    "    return (lambda id_path:\n",
    "                ((\"term\", id_path)\n",
    "                    if is_term_id(id_path, l_visited_id, pda)\n",
    "                    else (\"not_term\", id_path)))\n",
    "    \n",
    "def final_id(l_visited_id, pda, acceptance):\n",
    "    return (lambda id_path:\n",
    "                ((\"final\", id_path)\n",
    "                    if is_final_id(id_path, l_visited_id, pda, acceptance)\n",
    "                    else (\"not_final\", id_path)))"
   ]
  },
  {
   "cell_type": "code",
   "execution_count": 21,
   "metadata": {
    "run_control": {
     "frozen": false,
     "read_only": false
    }
   },
   "outputs": [],
   "source": [
    "def cvt_str_to_sym(str):\n",
    "    \"\"\"Given a string, interpret it in all possible ways and return a set of pairs\n",
    "       of (first, rest). E.g. \"ab\" interpreted as (\"\", \"ab\") as well as (\"a\", \"b\").\n",
    "       However, \"\" interpreted only as (\"\", \"\").\n",
    "    \"\"\"\n",
    "    if str == \"\":\n",
    "        return [(\"\", \"\")]\n",
    "    else:\n",
    "        return [(\"\", str), (str[0], str[1:])]"
   ]
  },
  {
   "cell_type": "code",
   "execution_count": 22,
   "metadata": {
    "run_control": {
     "frozen": false,
     "read_only": false
    }
   },
   "outputs": [],
   "source": [
    "def is_surv_id(id_path, l_visited_ids, pda):\n",
    "    \"\"\"If there is any move out of the id of id_path,\n",
    "       and the id is not subsumed by l_visited_ids,\n",
    "       then it is \"surv\"; else not.\n",
    "    \"\"\"\n",
    "    (id, path) = id_path\n",
    "    return (not subsumed(id, l_visited_ids))\n",
    "       \n",
    "from functools import reduce\n",
    "def subsumed(id, l_visited_ids):\n",
    "    \"\"\"If            id is (q,in_str,stk_str)\n",
    "       and exists a member (q1,in_str1,stk_str1) in l_visited_ids\n",
    "       then subsumed is True if q==q1, in_str==in_str1\n",
    "                                and stk_str1 starts with stk_str.\n",
    "       This \"starts with\" test models stk_str being on top of the stack.\n",
    "    \"\"\"\n",
    "    #print(\"--subsumed--\")\n",
    "    #print(\"id\",id)\n",
    "    #print(\"l_visited_ids\",l_visited_ids)\n",
    "    \n",
    "    if l_visited_ids == []:\n",
    "        return False\n",
    "    else:\n",
    "        (q,  inp_str,  stk_str)  = id\n",
    "        (q1, inp_str1, stk_str1) = l_visited_ids[0]\n",
    "        if ((q==q1) \n",
    "            and (inp_str==inp_str1) \n",
    "            and (len(stk_str) >= len(stk_str1))):\n",
    "            return True\n",
    "        else:\n",
    "            return subsumed(id, l_visited_ids[1:])\n",
    "\n",
    "def is_term_id(id_path, l_visited_ids, pda):\n",
    "    \"\"\"If the id of id_path is subsumed by l_visited_ids,\n",
    "       then it is \"term\"; else not.\n",
    "    \"\"\"\n",
    "    (id, path) = id_path\n",
    "    return subsumed(id, l_visited_ids)\n",
    "\n",
    "def is_final_id(id_path, l_visited_ids, pda, acceptance):\n",
    "    \"\"\"If the id of id_path meets the acceptance criterion \n",
    "       that is passed in, then it is \"final\"; else not.\n",
    "    \"\"\" \n",
    "    (id, path) = id_path\n",
    "    (q, inp_str, stk_str) = id\n",
    "    if (acceptance == \"ACCEPT_F\"):\n",
    "        return (inp_str==\"\" and q in pda[\"F\"])\n",
    "    else:\n",
    "        assert(acceptance == \"ACCEPT_S\")\n",
    "        return (inp_str==\"\" and stk_str==\"\")"
   ]
  },
  {
   "cell_type": "code",
   "execution_count": 23,
   "metadata": {
    "run_control": {
     "frozen": false,
     "read_only": false
    }
   },
   "outputs": [
    {
     "data": {
      "image/svg+xml": [
       "<?xml version=\"1.0\" encoding=\"UTF-8\" standalone=\"no\"?>\n",
       "<!DOCTYPE svg PUBLIC \"-//W3C//DTD SVG 1.1//EN\"\n",
       " \"http://www.w3.org/Graphics/SVG/1.1/DTD/svg11.dtd\">\n",
       "<!-- Generated by graphviz version 2.38.0 (20140413.2041)\n",
       " -->\n",
       "<!-- Title: %3 Pages: 1 -->\n",
       "<svg width=\"361pt\" height=\"176pt\"\n",
       " viewBox=\"0.00 0.00 360.83 176.00\" xmlns=\"http://www.w3.org/2000/svg\" xmlns:xlink=\"http://www.w3.org/1999/xlink\">\n",
       "<g id=\"graph0\" class=\"graph\" transform=\"scale(1 1) rotate(0) translate(4 172)\">\n",
       "<title>%3</title>\n",
       "<polygon fill=\"white\" stroke=\"none\" points=\"-4,4 -4,-172 356.835,-172 356.835,4 -4,4\"/>\n",
       "<!-- EMPTY -->\n",
       "<g id=\"node1\" class=\"node\"><title>EMPTY</title>\n",
       "</g>\n",
       "<!-- s0 -->\n",
       "<g id=\"node2\" class=\"node\"><title>s0</title>\n",
       "<ellipse fill=\"none\" stroke=\"black\" cx=\"109\" cy=\"-22\" rx=\"18\" ry=\"18\"/>\n",
       "<text text-anchor=\"middle\" x=\"109\" y=\"-17.8\" font-family=\"Times,serif\" font-size=\"14.00\">s0</text>\n",
       "</g>\n",
       "<!-- EMPTY&#45;&gt;s0 -->\n",
       "<g id=\"edge1\" class=\"edge\"><title>EMPTY&#45;&gt;s0</title>\n",
       "<path fill=\"none\" stroke=\"black\" d=\"M54.195,-22C62.6538,-22 72.0513,-22 80.5951,-22\"/>\n",
       "<polygon fill=\"black\" stroke=\"black\" points=\"80.8257,-25.5001 90.8257,-22 80.8257,-18.5001 80.8257,-25.5001\"/>\n",
       "</g>\n",
       "<!-- s1 -->\n",
       "<g id=\"node3\" class=\"node\"><title>s1</title>\n",
       "<ellipse fill=\"none\" stroke=\"black\" cx=\"220.642\" cy=\"-22\" rx=\"18\" ry=\"18\"/>\n",
       "<text text-anchor=\"middle\" x=\"220.642\" y=\"-17.8\" font-family=\"Times,serif\" font-size=\"14.00\">s1</text>\n",
       "</g>\n",
       "<!-- s0&#45;&gt;s1 -->\n",
       "<g id=\"edge2\" class=\"edge\"><title>s0&#45;&gt;s1</title>\n",
       "<path fill=\"none\" stroke=\"black\" d=\"M127.132,-22C144.591,-22 171.937,-22 192.377,-22\"/>\n",
       "<polygon fill=\"black\" stroke=\"black\" points=\"192.63,-25.5001 202.63,-22 192.63,-18.5001 192.63,-25.5001\"/>\n",
       "<text text-anchor=\"middle\" x=\"164.821\" y=\"-24.8\" font-family=\"Times,serif\" font-size=\"14.00\">(, z ; (z</text>\n",
       "</g>\n",
       "<!-- s1&#45;&gt;s1 -->\n",
       "<g id=\"edge3\" class=\"edge\"><title>s1&#45;&gt;s1</title>\n",
       "<path fill=\"none\" stroke=\"black\" d=\"M218.29,-40.1527C217.928,-49.5391 218.712,-58 220.642,-58 221.818,-58 222.568,-54.8581 222.893,-50.2796\"/>\n",
       "<polygon fill=\"black\" stroke=\"black\" points=\"226.394,-50.187 222.993,-40.1527 219.394,-50.1175 226.394,-50.187\"/>\n",
       "<text text-anchor=\"middle\" x=\"220.642\" y=\"-60.8\" font-family=\"Times,serif\" font-size=\"14.00\">(, z ; (z</text>\n",
       "</g>\n",
       "<!-- s1&#45;&gt;s1 -->\n",
       "<g id=\"edge4\" class=\"edge\"><title>s1&#45;&gt;s1</title>\n",
       "<path fill=\"none\" stroke=\"black\" d=\"M216.768,-39.6991C214.628,-56.9958 215.919,-76 220.642,-76 224.442,-76 226.02,-63.6944 225.377,-49.875\"/>\n",
       "<polygon fill=\"black\" stroke=\"black\" points=\"228.847,-49.3683 224.516,-39.6991 221.872,-49.9587 228.847,-49.3683\"/>\n",
       "<text text-anchor=\"middle\" x=\"220.642\" y=\"-78.8\" font-family=\"Times,serif\" font-size=\"14.00\">(, ( ; ((</text>\n",
       "</g>\n",
       "<!-- s1&#45;&gt;s1 -->\n",
       "<g id=\"edge5\" class=\"edge\"><title>s1&#45;&gt;s1</title>\n",
       "<path fill=\"none\" stroke=\"black\" d=\"M215.84,-39.3534C211.31,-63.8176 212.91,-94 220.642,-94 227.346,-94 229.44,-71.3024 226.924,-49.3194\"/>\n",
       "<polygon fill=\"black\" stroke=\"black\" points=\"230.375,-48.7305 225.444,-39.3534 223.451,-49.7592 230.375,-48.7305\"/>\n",
       "<text text-anchor=\"middle\" x=\"220.642\" y=\"-96.8\" font-family=\"Times,serif\" font-size=\"14.00\">(, ) ; ()</text>\n",
       "</g>\n",
       "<!-- s1&#45;&gt;s1 -->\n",
       "<g id=\"edge6\" class=\"edge\"><title>s1&#45;&gt;s1</title>\n",
       "<path fill=\"none\" stroke=\"black\" d=\"M215.191,-39.2299C208.008,-70.4634 209.825,-112 220.642,-112 230.317,-112 232.791,-78.763 228.064,-49.3954\"/>\n",
       "<polygon fill=\"black\" stroke=\"black\" points=\"231.433,-48.3801 226.092,-39.2299 224.561,-49.7135 231.433,-48.3801\"/>\n",
       "<text text-anchor=\"middle\" x=\"220.642\" y=\"-114.8\" font-family=\"Times,serif\" font-size=\"14.00\">), ( ; &#39;&#39;</text>\n",
       "</g>\n",
       "<!-- s2 -->\n",
       "<g id=\"node4\" class=\"node\"><title>s2</title>\n",
       "<ellipse fill=\"none\" stroke=\"black\" cx=\"330.835\" cy=\"-22\" rx=\"18\" ry=\"18\"/>\n",
       "<ellipse fill=\"none\" stroke=\"black\" cx=\"330.835\" cy=\"-22\" rx=\"22\" ry=\"22\"/>\n",
       "<text text-anchor=\"middle\" x=\"330.835\" y=\"-17.8\" font-family=\"Times,serif\" font-size=\"14.00\">s2</text>\n",
       "</g>\n",
       "<!-- s1&#45;&gt;s2 -->\n",
       "<g id=\"edge7\" class=\"edge\"><title>s1&#45;&gt;s2</title>\n",
       "<path fill=\"none\" stroke=\"black\" d=\"M239.025,-22C255.052,-22 279.22,-22 298.595,-22\"/>\n",
       "<polygon fill=\"black\" stroke=\"black\" points=\"298.784,-25.5001 308.784,-22 298.784,-18.5001 298.784,-25.5001\"/>\n",
       "<text text-anchor=\"middle\" x=\"273.738\" y=\"-24.8\" font-family=\"Times,serif\" font-size=\"14.00\">&#39;&#39;, z ; &#39;&#39;</text>\n",
       "</g>\n",
       "<!-- s2&#45;&gt;s2 -->\n",
       "<g id=\"edge8\" class=\"edge\"><title>s2&#45;&gt;s2</title>\n",
       "<path fill=\"none\" stroke=\"black\" d=\"M320.768,-41.7575C319.057,-52.3499 322.413,-62 330.835,-62 336.362,-62 339.707,-57.8441 340.87,-51.9932\"/>\n",
       "<polygon fill=\"black\" stroke=\"black\" points=\"344.371,-51.7683 340.902,-41.7575 337.371,-51.7465 344.371,-51.7683\"/>\n",
       "<text text-anchor=\"middle\" x=\"330.835\" y=\"-64.8\" font-family=\"Times,serif\" font-size=\"14.00\">&#39;&#39;, &#39;&#39; ; &#39;&#39;</text>\n",
       "</g>\n",
       "</g>\n",
       "</svg>\n"
      ],
      "text/plain": [
       "<graphviz.dot.Digraph at 0x10ae2dc50>"
      ]
     },
     "execution_count": 23,
     "metadata": {},
     "output_type": "execute_result"
    }
   ],
   "source": [
    "dotObj_pda(P2bp)"
   ]
  },
  {
   "cell_type": "code",
   "execution_count": 24,
   "metadata": {
    "run_control": {
     "frozen": false,
     "read_only": false
    }
   },
   "outputs": [
    {
     "name": "stdout",
     "output_type": "stream",
     "text": [
      "String () accepted by your PDA in 2 ways :-) \n",
      "Here are the ways: \n",
      "Final state  ('s2', '', '')\n",
      "Reached as follows:\n",
      "->  ('s0', '()', 'z')\n",
      "->  ('s1', ')', '(z')\n",
      "->  ('s1', '', 'z')\n",
      "->  ('s2', '', '') .\n",
      "Final state  ('s2', '', '')\n",
      "Reached as follows:\n",
      "->  ('s0', '()', 'z')\n",
      "->  ('s1', ')', '(z')\n",
      "->  ('s1', '', 'z')\n",
      "->  ('s2', '', '')\n",
      "->  ('s2', '', '') .\n"
     ]
    }
   ],
   "source": [
    "explore_pda(\"()\", P2bp)"
   ]
  },
  {
   "cell_type": "code",
   "execution_count": 25,
   "metadata": {
    "run_control": {
     "frozen": false,
     "read_only": false
    }
   },
   "outputs": [
    {
     "data": {
      "image/svg+xml": [
       "<?xml version=\"1.0\" encoding=\"UTF-8\" standalone=\"no\"?>\n",
       "<!DOCTYPE svg PUBLIC \"-//W3C//DTD SVG 1.1//EN\"\n",
       " \"http://www.w3.org/Graphics/SVG/1.1/DTD/svg11.dtd\">\n",
       "<!-- Generated by graphviz version 2.38.0 (20140413.2041)\n",
       " -->\n",
       "<!-- Title: %3 Pages: 1 -->\n",
       "<svg width=\"492pt\" height=\"83pt\"\n",
       " viewBox=\"0.00 0.00 492.25 82.89\" xmlns=\"http://www.w3.org/2000/svg\" xmlns:xlink=\"http://www.w3.org/1999/xlink\">\n",
       "<g id=\"graph0\" class=\"graph\" transform=\"scale(1 1) rotate(0) translate(4 78.8937)\">\n",
       "<title>%3</title>\n",
       "<polygon fill=\"white\" stroke=\"none\" points=\"-4,4 -4,-78.8937 488.248,-78.8937 488.248,4 -4,4\"/>\n",
       "<!-- EMPTY -->\n",
       "<g id=\"node1\" class=\"node\"><title>EMPTY</title>\n",
       "</g>\n",
       "<!-- S0 -->\n",
       "<g id=\"node2\" class=\"node\"><title>S0</title>\n",
       "<ellipse fill=\"none\" stroke=\"black\" cx=\"110.447\" cy=\"-23.4469\" rx=\"19.3939\" ry=\"19.3939\"/>\n",
       "<text text-anchor=\"middle\" x=\"110.447\" y=\"-19.2469\" font-family=\"Times,serif\" font-size=\"14.00\">S0</text>\n",
       "</g>\n",
       "<!-- EMPTY&#45;&gt;S0 -->\n",
       "<g id=\"edge1\" class=\"edge\"><title>EMPTY&#45;&gt;S0</title>\n",
       "<path fill=\"none\" stroke=\"black\" d=\"M54.2186,-23.4469C62.6822,-23.4469 72.1072,-23.4469 80.7407,-23.4469\"/>\n",
       "<polygon fill=\"black\" stroke=\"black\" points=\"80.7613,-26.947 90.7613,-23.4469 80.7613,-19.947 80.7613,-26.947\"/>\n",
       "</g>\n",
       "<!-- S1 -->\n",
       "<g id=\"node3\" class=\"node\"><title>S1</title>\n",
       "<ellipse fill=\"none\" stroke=\"black\" cx=\"233.548\" cy=\"-23.4469\" rx=\"19.3939\" ry=\"19.3939\"/>\n",
       "<text text-anchor=\"middle\" x=\"233.548\" y=\"-19.2469\" font-family=\"Times,serif\" font-size=\"14.00\">S1</text>\n",
       "</g>\n",
       "<!-- S0&#45;&gt;S1 -->\n",
       "<g id=\"edge2\" class=\"edge\"><title>S0&#45;&gt;S1</title>\n",
       "<path fill=\"none\" stroke=\"black\" d=\"M130.103,-23.4469C149.806,-23.4469 181.118,-23.4469 203.942,-23.4469\"/>\n",
       "<polygon fill=\"black\" stroke=\"black\" points=\"204.069,-26.947 214.069,-23.4469 204.069,-19.947 204.069,-26.947\"/>\n",
       "<text text-anchor=\"middle\" x=\"171.997\" y=\"-26.2469\" font-family=\"Times,serif\" font-size=\"14.00\">a, Z ; 1Z</text>\n",
       "</g>\n",
       "<!-- S1&#45;&gt;S1 -->\n",
       "<g id=\"edge3\" class=\"edge\"><title>S1&#45;&gt;S1</title>\n",
       "<path fill=\"none\" stroke=\"black\" d=\"M224.055,-40.7807C221.946,-51.1419 225.11,-60.8937 233.548,-60.8937 239.085,-60.8937 242.351,-56.694 243.346,-50.8783\"/>\n",
       "<polygon fill=\"black\" stroke=\"black\" points=\"246.841,-50.6701 243.04,-40.7807 239.844,-50.8821 246.841,-50.6701\"/>\n",
       "<text text-anchor=\"middle\" x=\"233.548\" y=\"-63.6937\" font-family=\"Times,serif\" font-size=\"14.00\">a, 1 ; 11</text>\n",
       "</g>\n",
       "<!-- S2 -->\n",
       "<g id=\"node4\" class=\"node\"><title>S2</title>\n",
       "<ellipse fill=\"none\" stroke=\"black\" cx=\"345.376\" cy=\"-23.4469\" rx=\"19.3939\" ry=\"19.3939\"/>\n",
       "<text text-anchor=\"middle\" x=\"345.376\" y=\"-19.2469\" font-family=\"Times,serif\" font-size=\"14.00\">S2</text>\n",
       "</g>\n",
       "<!-- S1&#45;&gt;S2 -->\n",
       "<g id=\"edge4\" class=\"edge\"><title>S1&#45;&gt;S2</title>\n",
       "<path fill=\"none\" stroke=\"black\" d=\"M253.179,-23.4469C270.219,-23.4469 295.696,-23.4469 315.395,-23.4469\"/>\n",
       "<polygon fill=\"black\" stroke=\"black\" points=\"315.654,-26.947 325.654,-23.4469 315.654,-19.947 315.654,-26.947\"/>\n",
       "<text text-anchor=\"middle\" x=\"289.462\" y=\"-26.2469\" font-family=\"Times,serif\" font-size=\"14.00\">b, 1 ; &#39;&#39;</text>\n",
       "</g>\n",
       "<!-- S2&#45;&gt;S2 -->\n",
       "<g id=\"edge5\" class=\"edge\"><title>S2&#45;&gt;S2</title>\n",
       "<path fill=\"none\" stroke=\"black\" d=\"M335.884,-40.7807C333.774,-51.1419 336.938,-60.8937 345.376,-60.8937 350.913,-60.8937 354.179,-56.694 355.174,-50.8783\"/>\n",
       "<polygon fill=\"black\" stroke=\"black\" points=\"358.669,-50.6701 354.868,-40.7807 351.673,-50.8821 358.669,-50.6701\"/>\n",
       "<text text-anchor=\"middle\" x=\"345.376\" y=\"-63.6937\" font-family=\"Times,serif\" font-size=\"14.00\">b, 1 ; &#39;&#39;</text>\n",
       "</g>\n",
       "<!-- S3 -->\n",
       "<g id=\"node5\" class=\"node\"><title>S3</title>\n",
       "<ellipse fill=\"none\" stroke=\"black\" cx=\"460.801\" cy=\"-23.4469\" rx=\"19.4029\" ry=\"19.4029\"/>\n",
       "<ellipse fill=\"none\" stroke=\"black\" cx=\"460.801\" cy=\"-23.4469\" rx=\"23.3939\" ry=\"23.3939\"/>\n",
       "<text text-anchor=\"middle\" x=\"460.801\" y=\"-19.2469\" font-family=\"Times,serif\" font-size=\"14.00\">S3</text>\n",
       "</g>\n",
       "<!-- S2&#45;&gt;S3 -->\n",
       "<g id=\"edge6\" class=\"edge\"><title>S2&#45;&gt;S3</title>\n",
       "<path fill=\"none\" stroke=\"black\" d=\"M364.852,-23.4469C381.637,-23.4469 406.787,-23.4469 426.986,-23.4469\"/>\n",
       "<polygon fill=\"black\" stroke=\"black\" points=\"427.028,-26.947 437.028,-23.4469 427.028,-19.947 427.028,-26.947\"/>\n",
       "<text text-anchor=\"middle\" x=\"401.088\" y=\"-26.2469\" font-family=\"Times,serif\" font-size=\"14.00\">&#39;&#39;, Z ; &#39;&#39;</text>\n",
       "</g>\n",
       "</g>\n",
       "</svg>\n"
      ],
      "text/plain": [
       "<graphviz.dot.Digraph at 0x10ae2da90>"
      ]
     },
     "execution_count": 25,
     "metadata": {},
     "output_type": "execute_result"
    }
   ],
   "source": [
    "dotObj_pda(Pev)"
   ]
  },
  {
   "cell_type": "code",
   "execution_count": 26,
   "metadata": {
    "run_control": {
     "frozen": false,
     "read_only": false
    }
   },
   "outputs": [
    {
     "name": "stdout",
     "output_type": "stream",
     "text": [
      "String ab accepted by your PDA in 1 ways :-) \n",
      "Here are the ways: \n",
      "Final state  ('S3', '', '')\n",
      "Reached as follows:\n",
      "->  ('S0', 'ab', 'Z')\n",
      "->  ('S1', 'b', '1Z')\n",
      "->  ('S2', '', 'Z')\n",
      "->  ('S3', '', '') .\n"
     ]
    }
   ],
   "source": [
    "explore_pda(\"ab\", Pev)"
   ]
  },
  {
   "cell_type": "code",
   "execution_count": 27,
   "metadata": {
    "run_control": {
     "frozen": false,
     "read_only": false
    }
   },
   "outputs": [],
   "source": [
    "Pev1 = { \"Sigma\" : {'a','b'},\n",
    "        \"Q\"     : {\"S0\", \"S1\", \"S2\",\"S3\"},\n",
    "        \"Gamma\" : {'a','b','1',\"Z\"},\n",
    "        \"Delta\" : {('S0','a','Z'): {('S1','1Z')},\n",
    "                   ('S1','a','1'): {('S1','11')},\n",
    "                   ('S1','b','1'): {('S2','')},\n",
    "                   ('S2','b','1'): {('S2','')},\n",
    "                   ('S2','','Z') : {('S3','')},\n",
    "                   ('S3','', '') : {('S2', '111')}\n",
    "                  },\n",
    "        \"q0\"    : \"S0\",\n",
    "        \"z0\"    : \"Z\",\n",
    "        \"F\"     : { \"S3\" } }\n"
   ]
  },
  {
   "cell_type": "code",
   "execution_count": 28,
   "metadata": {
    "run_control": {
     "frozen": false,
     "read_only": false
    }
   },
   "outputs": [
    {
     "data": {
      "image/svg+xml": [
       "<?xml version=\"1.0\" encoding=\"UTF-8\" standalone=\"no\"?>\n",
       "<!DOCTYPE svg PUBLIC \"-//W3C//DTD SVG 1.1//EN\"\n",
       " \"http://www.w3.org/Graphics/SVG/1.1/DTD/svg11.dtd\">\n",
       "<!-- Generated by graphviz version 2.38.0 (20140413.2041)\n",
       " -->\n",
       "<!-- Title: %3 Pages: 1 -->\n",
       "<svg width=\"504pt\" height=\"83pt\"\n",
       " viewBox=\"0.00 0.00 503.67 82.89\" xmlns=\"http://www.w3.org/2000/svg\" xmlns:xlink=\"http://www.w3.org/1999/xlink\">\n",
       "<g id=\"graph0\" class=\"graph\" transform=\"scale(1 1) rotate(0) translate(4 78.8937)\">\n",
       "<title>%3</title>\n",
       "<polygon fill=\"white\" stroke=\"none\" points=\"-4,4 -4,-78.8937 499.671,-78.8937 499.671,4 -4,4\"/>\n",
       "<!-- EMPTY -->\n",
       "<g id=\"node1\" class=\"node\"><title>EMPTY</title>\n",
       "</g>\n",
       "<!-- S0 -->\n",
       "<g id=\"node2\" class=\"node\"><title>S0</title>\n",
       "<ellipse fill=\"none\" stroke=\"black\" cx=\"110.447\" cy=\"-23.4469\" rx=\"19.3939\" ry=\"19.3939\"/>\n",
       "<text text-anchor=\"middle\" x=\"110.447\" y=\"-19.2469\" font-family=\"Times,serif\" font-size=\"14.00\">S0</text>\n",
       "</g>\n",
       "<!-- EMPTY&#45;&gt;S0 -->\n",
       "<g id=\"edge1\" class=\"edge\"><title>EMPTY&#45;&gt;S0</title>\n",
       "<path fill=\"none\" stroke=\"black\" d=\"M54.2186,-23.4469C62.6822,-23.4469 72.1072,-23.4469 80.7407,-23.4469\"/>\n",
       "<polygon fill=\"black\" stroke=\"black\" points=\"80.7613,-26.947 90.7613,-23.4469 80.7613,-19.947 80.7613,-26.947\"/>\n",
       "</g>\n",
       "<!-- S1 -->\n",
       "<g id=\"node3\" class=\"node\"><title>S1</title>\n",
       "<ellipse fill=\"none\" stroke=\"black\" cx=\"233.548\" cy=\"-23.4469\" rx=\"19.3939\" ry=\"19.3939\"/>\n",
       "<text text-anchor=\"middle\" x=\"233.548\" y=\"-19.2469\" font-family=\"Times,serif\" font-size=\"14.00\">S1</text>\n",
       "</g>\n",
       "<!-- S0&#45;&gt;S1 -->\n",
       "<g id=\"edge2\" class=\"edge\"><title>S0&#45;&gt;S1</title>\n",
       "<path fill=\"none\" stroke=\"black\" d=\"M130.103,-23.4469C149.806,-23.4469 181.118,-23.4469 203.942,-23.4469\"/>\n",
       "<polygon fill=\"black\" stroke=\"black\" points=\"204.069,-26.947 214.069,-23.4469 204.069,-19.947 204.069,-26.947\"/>\n",
       "<text text-anchor=\"middle\" x=\"171.997\" y=\"-26.2469\" font-family=\"Times,serif\" font-size=\"14.00\">a, Z ; 1Z</text>\n",
       "</g>\n",
       "<!-- S1&#45;&gt;S1 -->\n",
       "<g id=\"edge3\" class=\"edge\"><title>S1&#45;&gt;S1</title>\n",
       "<path fill=\"none\" stroke=\"black\" d=\"M224.055,-40.7807C221.946,-51.1419 225.11,-60.8937 233.548,-60.8937 239.085,-60.8937 242.351,-56.694 243.346,-50.8783\"/>\n",
       "<polygon fill=\"black\" stroke=\"black\" points=\"246.841,-50.6701 243.04,-40.7807 239.844,-50.8821 246.841,-50.6701\"/>\n",
       "<text text-anchor=\"middle\" x=\"233.548\" y=\"-63.6937\" font-family=\"Times,serif\" font-size=\"14.00\">a, 1 ; 11</text>\n",
       "</g>\n",
       "<!-- S2 -->\n",
       "<g id=\"node4\" class=\"node\"><title>S2</title>\n",
       "<ellipse fill=\"none\" stroke=\"black\" cx=\"345.376\" cy=\"-23.4469\" rx=\"19.3939\" ry=\"19.3939\"/>\n",
       "<text text-anchor=\"middle\" x=\"345.376\" y=\"-19.2469\" font-family=\"Times,serif\" font-size=\"14.00\">S2</text>\n",
       "</g>\n",
       "<!-- S1&#45;&gt;S2 -->\n",
       "<g id=\"edge4\" class=\"edge\"><title>S1&#45;&gt;S2</title>\n",
       "<path fill=\"none\" stroke=\"black\" d=\"M253.179,-23.4469C270.219,-23.4469 295.696,-23.4469 315.395,-23.4469\"/>\n",
       "<polygon fill=\"black\" stroke=\"black\" points=\"315.654,-26.947 325.654,-23.4469 315.654,-19.947 315.654,-26.947\"/>\n",
       "<text text-anchor=\"middle\" x=\"289.462\" y=\"-26.2469\" font-family=\"Times,serif\" font-size=\"14.00\">b, 1 ; &#39;&#39;</text>\n",
       "</g>\n",
       "<!-- S2&#45;&gt;S2 -->\n",
       "<g id=\"edge5\" class=\"edge\"><title>S2&#45;&gt;S2</title>\n",
       "<path fill=\"none\" stroke=\"black\" d=\"M335.884,-40.7807C333.774,-51.1419 336.938,-60.8937 345.376,-60.8937 350.913,-60.8937 354.179,-56.694 355.174,-50.8783\"/>\n",
       "<polygon fill=\"black\" stroke=\"black\" points=\"358.669,-50.6701 354.868,-40.7807 351.673,-50.8821 358.669,-50.6701\"/>\n",
       "<text text-anchor=\"middle\" x=\"345.376\" y=\"-63.6937\" font-family=\"Times,serif\" font-size=\"14.00\">b, 1 ; &#39;&#39;</text>\n",
       "</g>\n",
       "<!-- S3 -->\n",
       "<g id=\"node5\" class=\"node\"><title>S3</title>\n",
       "<ellipse fill=\"none\" stroke=\"black\" cx=\"472.224\" cy=\"-23.4469\" rx=\"19.4029\" ry=\"19.4029\"/>\n",
       "<ellipse fill=\"none\" stroke=\"black\" cx=\"472.224\" cy=\"-23.4469\" rx=\"23.3939\" ry=\"23.3939\"/>\n",
       "<text text-anchor=\"middle\" x=\"472.224\" y=\"-19.2469\" font-family=\"Times,serif\" font-size=\"14.00\">S3</text>\n",
       "</g>\n",
       "<!-- S2&#45;&gt;S3 -->\n",
       "<g id=\"edge6\" class=\"edge\"><title>S2&#45;&gt;S3</title>\n",
       "<path fill=\"none\" stroke=\"black\" d=\"M365.067,-23.4469C384.416,-23.4469 415.029,-23.4469 438.42,-23.4469\"/>\n",
       "<polygon fill=\"black\" stroke=\"black\" points=\"438.592,-26.947 448.592,-23.4469 438.592,-19.947 438.592,-26.947\"/>\n",
       "<text text-anchor=\"middle\" x=\"406.8\" y=\"-26.2469\" font-family=\"Times,serif\" font-size=\"14.00\">&#39;&#39;, Z ; &#39;&#39;</text>\n",
       "</g>\n",
       "<!-- S3&#45;&gt;S2 -->\n",
       "<g id=\"edge7\" class=\"edge\"><title>S3&#45;&gt;S2</title>\n",
       "<path fill=\"none\" stroke=\"black\" d=\"M451.209,-12.5595C444.863,-9.65448 437.694,-6.91645 430.777,-5.44687 409.929,-1.0174 403.578,-0.601161 382.823,-5.44687 379.099,-6.31632 375.318,-7.62417 371.672,-9.14587\"/>\n",
       "<polygon fill=\"black\" stroke=\"black\" points=\"369.996,-6.06705 362.465,-13.5192 373,-12.39 369.996,-6.06705\"/>\n",
       "<text text-anchor=\"middle\" x=\"406.8\" y=\"-8.24687\" font-family=\"Times,serif\" font-size=\"14.00\">&#39;&#39;, &#39;&#39; ; 111</text>\n",
       "</g>\n",
       "</g>\n",
       "</svg>\n"
      ],
      "text/plain": [
       "<graphviz.dot.Digraph at 0x10ae2d438>"
      ]
     },
     "execution_count": 28,
     "metadata": {},
     "output_type": "execute_result"
    }
   ],
   "source": [
    "dotObj_pda(Pev1)"
   ]
  },
  {
   "cell_type": "code",
   "execution_count": 29,
   "metadata": {
    "run_control": {
     "frozen": false,
     "read_only": false
    }
   },
   "outputs": [
    {
     "data": {
      "image/svg+xml": [
       "<?xml version=\"1.0\" encoding=\"UTF-8\" standalone=\"no\"?>\n",
       "<!DOCTYPE svg PUBLIC \"-//W3C//DTD SVG 1.1//EN\"\n",
       " \"http://www.w3.org/Graphics/SVG/1.1/DTD/svg11.dtd\">\n",
       "<!-- Generated by graphviz version 2.38.0 (20140413.2041)\n",
       " -->\n",
       "<!-- Title: %3 Pages: 1 -->\n",
       "<svg width=\"527pt\" height=\"83pt\"\n",
       " viewBox=\"0.00 0.00 527.21 82.89\" xmlns=\"http://www.w3.org/2000/svg\" xmlns:xlink=\"http://www.w3.org/1999/xlink\">\n",
       "<g id=\"graph0\" class=\"graph\" transform=\"scale(1 1) rotate(0) translate(4 78.8937)\">\n",
       "<title>%3</title>\n",
       "<polygon fill=\"white\" stroke=\"none\" points=\"-4,4 -4,-78.8937 523.214,-78.8937 523.214,4 -4,4\"/>\n",
       "<!-- EMPTY -->\n",
       "<g id=\"node1\" class=\"node\"><title>EMPTY</title>\n",
       "</g>\n",
       "<!-- S0 -->\n",
       "<g id=\"node2\" class=\"node\"><title>S0</title>\n",
       "<ellipse fill=\"none\" stroke=\"black\" cx=\"110.447\" cy=\"-23.4469\" rx=\"19.3939\" ry=\"19.3939\"/>\n",
       "<text text-anchor=\"middle\" x=\"110.447\" y=\"-19.2469\" font-family=\"Times,serif\" font-size=\"14.00\">S0</text>\n",
       "</g>\n",
       "<!-- EMPTY&#45;&gt;S0 -->\n",
       "<g id=\"edge1\" class=\"edge\"><title>EMPTY&#45;&gt;S0</title>\n",
       "<path fill=\"none\" stroke=\"black\" d=\"M54.2186,-23.4469C62.6822,-23.4469 72.1072,-23.4469 80.7407,-23.4469\"/>\n",
       "<polygon fill=\"black\" stroke=\"black\" points=\"80.7613,-26.947 90.7613,-23.4469 80.7613,-19.947 80.7613,-26.947\"/>\n",
       "</g>\n",
       "<!-- S1 -->\n",
       "<g id=\"node3\" class=\"node\"><title>S1</title>\n",
       "<ellipse fill=\"none\" stroke=\"black\" cx=\"233.548\" cy=\"-23.4469\" rx=\"19.3939\" ry=\"19.3939\"/>\n",
       "<text text-anchor=\"middle\" x=\"233.548\" y=\"-19.2469\" font-family=\"Times,serif\" font-size=\"14.00\">S1</text>\n",
       "</g>\n",
       "<!-- S0&#45;&gt;S1 -->\n",
       "<g id=\"edge2\" class=\"edge\"><title>S0&#45;&gt;S1</title>\n",
       "<path fill=\"none\" stroke=\"black\" d=\"M130.103,-23.4469C149.806,-23.4469 181.118,-23.4469 203.942,-23.4469\"/>\n",
       "<polygon fill=\"black\" stroke=\"black\" points=\"204.069,-26.947 214.069,-23.4469 204.069,-19.947 204.069,-26.947\"/>\n",
       "<text text-anchor=\"middle\" x=\"171.997\" y=\"-26.2469\" font-family=\"Times,serif\" font-size=\"14.00\">a, Z ; 1Z</text>\n",
       "</g>\n",
       "<!-- S1&#45;&gt;S1 -->\n",
       "<g id=\"edge3\" class=\"edge\"><title>S1&#45;&gt;S1</title>\n",
       "<path fill=\"none\" stroke=\"black\" d=\"M223.44,-40.3919C221.003,-50.8966 224.372,-60.8937 233.548,-60.8937 239.569,-60.8937 243.09,-56.5883 244.11,-50.6595\"/>\n",
       "<polygon fill=\"black\" stroke=\"black\" points=\"247.595,-50.227 243.655,-40.3919 240.602,-50.5371 247.595,-50.227\"/>\n",
       "<text text-anchor=\"middle\" x=\"233.548\" y=\"-63.6937\" font-family=\"Times,serif\" font-size=\"14.00\">a, 1 ; 11</text>\n",
       "</g>\n",
       "<!-- S2 -->\n",
       "<g id=\"node4\" class=\"node\"><title>S2</title>\n",
       "<ellipse fill=\"none\" stroke=\"black\" cx=\"353.224\" cy=\"-23.4469\" rx=\"19.3939\" ry=\"19.3939\"/>\n",
       "<text text-anchor=\"middle\" x=\"353.224\" y=\"-19.2469\" font-family=\"Times,serif\" font-size=\"14.00\">S2</text>\n",
       "</g>\n",
       "<!-- S1&#45;&gt;S2 -->\n",
       "<g id=\"edge4\" class=\"edge\"><title>S1&#45;&gt;S2</title>\n",
       "<path fill=\"none\" stroke=\"black\" d=\"M253.194,-23.4469C272.13,-23.4469 301.704,-23.4469 323.608,-23.4469\"/>\n",
       "<polygon fill=\"black\" stroke=\"black\" points=\"323.665,-26.947 333.665,-23.4469 323.665,-19.947 323.665,-26.947\"/>\n",
       "<text text-anchor=\"middle\" x=\"293.386\" y=\"-26.2469\" font-family=\"Times,serif\" font-size=\"14.00\">b, 1 ; @</text>\n",
       "</g>\n",
       "<!-- S2&#45;&gt;S2 -->\n",
       "<g id=\"edge5\" class=\"edge\"><title>S2&#45;&gt;S2</title>\n",
       "<path fill=\"none\" stroke=\"black\" d=\"M343.116,-40.3919C340.679,-50.8966 344.048,-60.8937 353.224,-60.8937 359.245,-60.8937 362.766,-56.5883 363.786,-50.6595\"/>\n",
       "<polygon fill=\"black\" stroke=\"black\" points=\"367.271,-50.227 363.331,-40.3919 360.278,-50.5371 367.271,-50.227\"/>\n",
       "<text text-anchor=\"middle\" x=\"353.224\" y=\"-63.6937\" font-family=\"Times,serif\" font-size=\"14.00\">b, 1 ; @</text>\n",
       "</g>\n",
       "<!-- S3 -->\n",
       "<g id=\"node5\" class=\"node\"><title>S3</title>\n",
       "<ellipse fill=\"none\" stroke=\"black\" cx=\"495.767\" cy=\"-23.4469\" rx=\"19.4029\" ry=\"19.4029\"/>\n",
       "<ellipse fill=\"none\" stroke=\"black\" cx=\"495.767\" cy=\"-23.4469\" rx=\"23.3939\" ry=\"23.3939\"/>\n",
       "<text text-anchor=\"middle\" x=\"495.767\" y=\"-19.2469\" font-family=\"Times,serif\" font-size=\"14.00\">S3</text>\n",
       "</g>\n",
       "<!-- S2&#45;&gt;S3 -->\n",
       "<g id=\"edge6\" class=\"edge\"><title>S2&#45;&gt;S3</title>\n",
       "<path fill=\"none\" stroke=\"black\" d=\"M372.887,-23.4469C395.663,-23.4469 434.56,-23.4469 462.286,-23.4469\"/>\n",
       "<polygon fill=\"black\" stroke=\"black\" points=\"462.308,-26.947 472.308,-23.4469 462.308,-19.947 462.308,-26.947\"/>\n",
       "<text text-anchor=\"middle\" x=\"422.495\" y=\"-26.2469\" font-family=\"Times,serif\" font-size=\"14.00\">@, Z ; @</text>\n",
       "</g>\n",
       "<!-- S3&#45;&gt;S2 -->\n",
       "<g id=\"edge7\" class=\"edge\"><title>S3&#45;&gt;S2</title>\n",
       "<path fill=\"none\" stroke=\"black\" d=\"M474.752,-12.5595C468.406,-9.65448 461.237,-6.91645 454.32,-5.44687 426.649,0.432356 418.218,0.984831 390.67,-5.44687 386.946,-6.31632 383.166,-7.62417 379.52,-9.14587\"/>\n",
       "<polygon fill=\"black\" stroke=\"black\" points=\"377.844,-6.06705 370.313,-13.5192 380.848,-12.39 377.844,-6.06705\"/>\n",
       "<text text-anchor=\"middle\" x=\"422.495\" y=\"-8.24687\" font-family=\"Times,serif\" font-size=\"14.00\">@, @ ; 111</text>\n",
       "</g>\n",
       "</g>\n",
       "</svg>\n"
      ],
      "text/plain": [
       "<graphviz.dot.Digraph at 0x10ae2d390>"
      ]
     },
     "execution_count": 29,
     "metadata": {},
     "output_type": "execute_result"
    }
   ],
   "source": [
    "dotObj_pda(Pev1, visible_eps=True)"
   ]
  },
  {
   "cell_type": "code",
   "execution_count": 30,
   "metadata": {
    "run_control": {
     "frozen": false,
     "read_only": false
    }
   },
   "outputs": [],
   "source": [
    "Pev1 = { \"Sigma\" : {'a','b'},\n",
    "        \"Q\"     : {\"S0\", \"S1\", \"S2\",\"S3\"},\n",
    "        \"Gamma\" : {'a','b','1',\"Z\"},\n",
    "        \"Delta\" : {('S0','a','Z'): {('S1','1Z')},\n",
    "                   ('S1','a','1'): {('S1','11')},\n",
    "                   ('S1','b','1'): {('S2','')},\n",
    "                   ('S2','b','1'): {('S2','')},\n",
    "                   ('S2','','Z') : {('S3','')},\n",
    "                   ('S3','', '') : {('S2', '111')}\n",
    "                  },\n",
    "        \"q0\"    : \"S0\",\n",
    "        \"z0\"    : \"Z\",\n",
    "        \"F\"     : { \"S3\" } }\n",
    "chk_consistent_pda(Pev1)"
   ]
  },
  {
   "cell_type": "code",
   "execution_count": 31,
   "metadata": {
    "run_control": {
     "frozen": false,
     "read_only": false
    }
   },
   "outputs": [
    {
     "name": "stdout",
     "output_type": "stream",
     "text": [
      "String aabb accepted by your PDA in 1 ways :-) \n",
      "Here are the ways: \n",
      "Final state  ('S3', '', '')\n",
      "Reached as follows:\n",
      "->  ('S0', 'aabb', 'Z')\n",
      "->  ('S1', 'abb', '1Z')\n",
      "->  ('S1', 'bb', '11Z')\n",
      "->  ('S2', 'b', '1Z')\n",
      "->  ('S2', '', 'Z')\n",
      "->  ('S3', '', '') .\n"
     ]
    }
   ],
   "source": [
    "explore_pda(\"aabb\", Pev1)"
   ]
  },
  {
   "cell_type": "code",
   "execution_count": 32,
   "metadata": {
    "run_control": {
     "frozen": false,
     "read_only": false
    }
   },
   "outputs": [],
   "source": [
    "Pev2 = {\"Sigma\" : {'a','b'},\n",
    "        \"Q\"     : {\"S0\", \"S1\", \"S2\",\"S3\"},\n",
    "        \"Gamma\" : {'a','b','1',\"Z\"},\n",
    "        \"Delta\" : {('S0','a','Z'): {('S1','1Z')},\n",
    "                   ('S1','a','1'): {('S1','11')},\n",
    "                   ('S1','b','1'): {('S2','')},\n",
    "                   ('S2','b','1'): {('S2','')},\n",
    "                   ('S2','','Z') : {('S3','')},\n",
    "                   ('S3','', '') : {('S2', '111')}\n",
    "                  },\n",
    "        \"q0\"    : \"S0\",\n",
    "        \"z0\"    : \"Z\",\n",
    "        \"F\"     : set({  }) }\n",
    "chk_consistent_pda(Pev2)"
   ]
  },
  {
   "cell_type": "code",
   "execution_count": 33,
   "metadata": {
    "run_control": {
     "frozen": false,
     "read_only": false
    }
   },
   "outputs": [
    {
     "data": {
      "image/svg+xml": [
       "<?xml version=\"1.0\" encoding=\"UTF-8\" standalone=\"no\"?>\n",
       "<!DOCTYPE svg PUBLIC \"-//W3C//DTD SVG 1.1//EN\"\n",
       " \"http://www.w3.org/Graphics/SVG/1.1/DTD/svg11.dtd\">\n",
       "<!-- Generated by graphviz version 2.38.0 (20140413.2041)\n",
       " -->\n",
       "<!-- Title: %3 Pages: 1 -->\n",
       "<svg width=\"496pt\" height=\"81pt\"\n",
       " viewBox=\"0.00 0.00 495.67 81.08\" xmlns=\"http://www.w3.org/2000/svg\" xmlns:xlink=\"http://www.w3.org/1999/xlink\">\n",
       "<g id=\"graph0\" class=\"graph\" transform=\"scale(1 1) rotate(0) translate(4 77.0811)\">\n",
       "<title>%3</title>\n",
       "<polygon fill=\"white\" stroke=\"none\" points=\"-4,4 -4,-77.0811 491.671,-77.0811 491.671,4 -4,4\"/>\n",
       "<!-- EMPTY -->\n",
       "<g id=\"node1\" class=\"node\"><title>EMPTY</title>\n",
       "</g>\n",
       "<!-- S0 -->\n",
       "<g id=\"node2\" class=\"node\"><title>S0</title>\n",
       "<ellipse fill=\"none\" stroke=\"black\" cx=\"110.447\" cy=\"-21.6343\" rx=\"19.3939\" ry=\"19.3939\"/>\n",
       "<text text-anchor=\"middle\" x=\"110.447\" y=\"-17.4343\" font-family=\"Times,serif\" font-size=\"14.00\">S0</text>\n",
       "</g>\n",
       "<!-- EMPTY&#45;&gt;S0 -->\n",
       "<g id=\"edge1\" class=\"edge\"><title>EMPTY&#45;&gt;S0</title>\n",
       "<path fill=\"none\" stroke=\"black\" d=\"M54.2186,-21.6343C62.6822,-21.6343 72.1072,-21.6343 80.7407,-21.6343\"/>\n",
       "<polygon fill=\"black\" stroke=\"black\" points=\"80.7613,-25.1344 90.7613,-21.6343 80.7613,-18.1344 80.7613,-25.1344\"/>\n",
       "</g>\n",
       "<!-- S1 -->\n",
       "<g id=\"node3\" class=\"node\"><title>S1</title>\n",
       "<ellipse fill=\"none\" stroke=\"black\" cx=\"233.548\" cy=\"-21.6343\" rx=\"19.3939\" ry=\"19.3939\"/>\n",
       "<text text-anchor=\"middle\" x=\"233.548\" y=\"-17.4343\" font-family=\"Times,serif\" font-size=\"14.00\">S1</text>\n",
       "</g>\n",
       "<!-- S0&#45;&gt;S1 -->\n",
       "<g id=\"edge2\" class=\"edge\"><title>S0&#45;&gt;S1</title>\n",
       "<path fill=\"none\" stroke=\"black\" d=\"M130.103,-21.6343C149.806,-21.6343 181.118,-21.6343 203.942,-21.6343\"/>\n",
       "<polygon fill=\"black\" stroke=\"black\" points=\"204.069,-25.1344 214.069,-21.6343 204.069,-18.1344 204.069,-25.1344\"/>\n",
       "<text text-anchor=\"middle\" x=\"171.997\" y=\"-24.4343\" font-family=\"Times,serif\" font-size=\"14.00\">a, Z ; 1Z</text>\n",
       "</g>\n",
       "<!-- S1&#45;&gt;S1 -->\n",
       "<g id=\"edge3\" class=\"edge\"><title>S1&#45;&gt;S1</title>\n",
       "<path fill=\"none\" stroke=\"black\" d=\"M224.055,-38.9681C221.946,-49.3294 225.11,-59.0811 233.548,-59.0811 239.085,-59.0811 242.351,-54.8814 243.346,-49.0657\"/>\n",
       "<polygon fill=\"black\" stroke=\"black\" points=\"246.841,-48.8575 243.04,-38.9681 239.844,-49.0695 246.841,-48.8575\"/>\n",
       "<text text-anchor=\"middle\" x=\"233.548\" y=\"-61.8811\" font-family=\"Times,serif\" font-size=\"14.00\">a, 1 ; 11</text>\n",
       "</g>\n",
       "<!-- S2 -->\n",
       "<g id=\"node4\" class=\"node\"><title>S2</title>\n",
       "<ellipse fill=\"none\" stroke=\"black\" cx=\"345.376\" cy=\"-21.6343\" rx=\"19.3939\" ry=\"19.3939\"/>\n",
       "<text text-anchor=\"middle\" x=\"345.376\" y=\"-17.4343\" font-family=\"Times,serif\" font-size=\"14.00\">S2</text>\n",
       "</g>\n",
       "<!-- S1&#45;&gt;S2 -->\n",
       "<g id=\"edge4\" class=\"edge\"><title>S1&#45;&gt;S2</title>\n",
       "<path fill=\"none\" stroke=\"black\" d=\"M253.179,-21.6343C270.219,-21.6343 295.696,-21.6343 315.395,-21.6343\"/>\n",
       "<polygon fill=\"black\" stroke=\"black\" points=\"315.654,-25.1344 325.654,-21.6343 315.654,-18.1344 315.654,-25.1344\"/>\n",
       "<text text-anchor=\"middle\" x=\"289.462\" y=\"-24.4343\" font-family=\"Times,serif\" font-size=\"14.00\">b, 1 ; &#39;&#39;</text>\n",
       "</g>\n",
       "<!-- S2&#45;&gt;S2 -->\n",
       "<g id=\"edge5\" class=\"edge\"><title>S2&#45;&gt;S2</title>\n",
       "<path fill=\"none\" stroke=\"black\" d=\"M335.884,-38.9681C333.774,-49.3294 336.938,-59.0811 345.376,-59.0811 350.913,-59.0811 354.179,-54.8814 355.174,-49.0657\"/>\n",
       "<polygon fill=\"black\" stroke=\"black\" points=\"358.669,-48.8575 354.868,-38.9681 351.673,-49.0695 358.669,-48.8575\"/>\n",
       "<text text-anchor=\"middle\" x=\"345.376\" y=\"-61.8811\" font-family=\"Times,serif\" font-size=\"14.00\">b, 1 ; &#39;&#39;</text>\n",
       "</g>\n",
       "<!-- S3 -->\n",
       "<g id=\"node5\" class=\"node\"><title>S3</title>\n",
       "<ellipse fill=\"none\" stroke=\"black\" cx=\"468.224\" cy=\"-21.6343\" rx=\"19.3939\" ry=\"19.3939\"/>\n",
       "<text text-anchor=\"middle\" x=\"468.224\" y=\"-17.4343\" font-family=\"Times,serif\" font-size=\"14.00\">S3</text>\n",
       "</g>\n",
       "<!-- S2&#45;&gt;S3 -->\n",
       "<g id=\"edge6\" class=\"edge\"><title>S2&#45;&gt;S3</title>\n",
       "<path fill=\"none\" stroke=\"black\" d=\"M364.994,-21.6343C384.541,-21.6343 415.538,-21.6343 438.28,-21.6343\"/>\n",
       "<polygon fill=\"black\" stroke=\"black\" points=\"438.386,-25.1344 448.386,-21.6343 438.386,-18.1344 438.386,-25.1344\"/>\n",
       "<text text-anchor=\"middle\" x=\"406.8\" y=\"-24.4343\" font-family=\"Times,serif\" font-size=\"14.00\">&#39;&#39;, Z ; &#39;&#39;</text>\n",
       "</g>\n",
       "<!-- S3&#45;&gt;S2 -->\n",
       "<g id=\"edge7\" class=\"edge\"><title>S3&#45;&gt;S2</title>\n",
       "<path fill=\"none\" stroke=\"black\" d=\"M451.134,-11.7066C444.997,-8.46087 437.787,-5.27089 430.777,-3.63428 410.022,1.21143 403.578,1.21143 382.823,-3.63428 379.099,-4.50373 375.318,-5.81158 371.672,-7.33329\"/>\n",
       "<polygon fill=\"black\" stroke=\"black\" points=\"369.996,-4.25446 362.465,-11.7066 373,-10.5774 369.996,-4.25446\"/>\n",
       "<text text-anchor=\"middle\" x=\"406.8\" y=\"-6.43428\" font-family=\"Times,serif\" font-size=\"14.00\">&#39;&#39;, &#39;&#39; ; 111</text>\n",
       "</g>\n",
       "</g>\n",
       "</svg>\n"
      ],
      "text/plain": [
       "<graphviz.dot.Digraph at 0x10ae2def0>"
      ]
     },
     "execution_count": 33,
     "metadata": {},
     "output_type": "execute_result"
    }
   ],
   "source": [
    "dotObj_pda(Pev2)"
   ]
  },
  {
   "cell_type": "code",
   "execution_count": 34,
   "metadata": {
    "run_control": {
     "frozen": false,
     "read_only": false
    }
   },
   "outputs": [
    {
     "name": "stdout",
     "output_type": "stream",
     "text": [
      "String aabb rejected by your PDA :-(\n",
      "Visited states are:\n",
      "[('S3', '', ''), ('S2', '', 'Z'), ('S2', 'b', '1Z'), ('S1', 'bb', '11Z'), ('S1', 'abb', '1Z'), ('S0', 'aabb', 'Z')]\n"
     ]
    }
   ],
   "source": [
    "explore_pda(\"aabb\", Pev2)"
   ]
  },
  {
   "cell_type": "code",
   "execution_count": 35,
   "metadata": {
    "run_control": {
     "frozen": false,
     "read_only": false
    }
   },
   "outputs": [
    {
     "name": "stdout",
     "output_type": "stream",
     "text": [
      "String aabb accepted by your PDA in 1 ways :-) \n",
      "Here are the ways: \n",
      "Final state  ('S3', '', '')\n",
      "Reached as follows:\n",
      "->  ('S0', 'aabb', 'Z')\n",
      "->  ('S1', 'abb', '1Z')\n",
      "->  ('S1', 'bb', '11Z')\n",
      "->  ('S2', 'b', '1Z')\n",
      "->  ('S2', '', 'Z')\n",
      "->  ('S3', '', '') .\n"
     ]
    }
   ],
   "source": [
    "explore_pda(\"aabb\", Pev2, \"ACCEPT_S\")"
   ]
  },
  {
   "cell_type": "code",
   "execution_count": null,
   "metadata": {
    "run_control": {
     "frozen": false,
     "read_only": false
    }
   },
   "outputs": [],
   "source": []
  },
  {
   "cell_type": "code",
   "execution_count": 36,
   "metadata": {
    "run_control": {
     "frozen": false,
     "read_only": false
    }
   },
   "outputs": [],
   "source": [
    "Pev3 = {\"Sigma\" : {'a','b'},\n",
    "        \"Q\"     : {\"S0\", \"S1\", \"S2\",\"S3\"},\n",
    "        \"Gamma\" : {'a','b','1',\"Z\"},\n",
    "        \"Delta\" : {('S0','a','Z'): {('S1','1Z')},\n",
    "                   ('S1','a','1'): {('S1','11')},\n",
    "                   ('S1','b','1'): {('S2','')},\n",
    "                   ('S2','b','1'): {('S2','')},\n",
    "                   ('S2','','Z') : {('S3','')},\n",
    "                   ('S3','', '') : {('S2', '111')}\n",
    "                  },\n",
    "        \"q0\"    : \"S0\",\n",
    "        \"z0\"    : \"Z\",\n",
    "        \"F\"     : {\"S2\", \"S3\"} }\n",
    "chk_consistent_pda(Pev3)"
   ]
  },
  {
   "cell_type": "code",
   "execution_count": 37,
   "metadata": {
    "run_control": {
     "frozen": false,
     "read_only": false
    }
   },
   "outputs": [
    {
     "data": {
      "image/svg+xml": [
       "<?xml version=\"1.0\" encoding=\"UTF-8\" standalone=\"no\"?>\n",
       "<!DOCTYPE svg PUBLIC \"-//W3C//DTD SVG 1.1//EN\"\n",
       " \"http://www.w3.org/Graphics/SVG/1.1/DTD/svg11.dtd\">\n",
       "<!-- Generated by graphviz version 2.38.0 (20140413.2041)\n",
       " -->\n",
       "<!-- Title: %3 Pages: 1 -->\n",
       "<svg width=\"512pt\" height=\"87pt\"\n",
       " viewBox=\"0.00 0.00 511.67 86.89\" xmlns=\"http://www.w3.org/2000/svg\" xmlns:xlink=\"http://www.w3.org/1999/xlink\">\n",
       "<g id=\"graph0\" class=\"graph\" transform=\"scale(1 1) rotate(0) translate(4 82.8937)\">\n",
       "<title>%3</title>\n",
       "<polygon fill=\"white\" stroke=\"none\" points=\"-4,4 -4,-82.8937 507.671,-82.8937 507.671,4 -4,4\"/>\n",
       "<!-- EMPTY -->\n",
       "<g id=\"node1\" class=\"node\"><title>EMPTY</title>\n",
       "</g>\n",
       "<!-- S0 -->\n",
       "<g id=\"node2\" class=\"node\"><title>S0</title>\n",
       "<ellipse fill=\"none\" stroke=\"black\" cx=\"110.447\" cy=\"-23.4469\" rx=\"19.3939\" ry=\"19.3939\"/>\n",
       "<text text-anchor=\"middle\" x=\"110.447\" y=\"-19.2469\" font-family=\"Times,serif\" font-size=\"14.00\">S0</text>\n",
       "</g>\n",
       "<!-- EMPTY&#45;&gt;S0 -->\n",
       "<g id=\"edge1\" class=\"edge\"><title>EMPTY&#45;&gt;S0</title>\n",
       "<path fill=\"none\" stroke=\"black\" d=\"M54.2186,-23.4469C62.6822,-23.4469 72.1072,-23.4469 80.7407,-23.4469\"/>\n",
       "<polygon fill=\"black\" stroke=\"black\" points=\"80.7613,-26.947 90.7613,-23.4469 80.7613,-19.947 80.7613,-26.947\"/>\n",
       "</g>\n",
       "<!-- S1 -->\n",
       "<g id=\"node3\" class=\"node\"><title>S1</title>\n",
       "<ellipse fill=\"none\" stroke=\"black\" cx=\"233.548\" cy=\"-23.4469\" rx=\"19.3939\" ry=\"19.3939\"/>\n",
       "<text text-anchor=\"middle\" x=\"233.548\" y=\"-19.2469\" font-family=\"Times,serif\" font-size=\"14.00\">S1</text>\n",
       "</g>\n",
       "<!-- S0&#45;&gt;S1 -->\n",
       "<g id=\"edge2\" class=\"edge\"><title>S0&#45;&gt;S1</title>\n",
       "<path fill=\"none\" stroke=\"black\" d=\"M130.103,-23.4469C149.806,-23.4469 181.118,-23.4469 203.942,-23.4469\"/>\n",
       "<polygon fill=\"black\" stroke=\"black\" points=\"204.069,-26.947 214.069,-23.4469 204.069,-19.947 204.069,-26.947\"/>\n",
       "<text text-anchor=\"middle\" x=\"171.997\" y=\"-26.2469\" font-family=\"Times,serif\" font-size=\"14.00\">a, Z ; 1Z</text>\n",
       "</g>\n",
       "<!-- S1&#45;&gt;S1 -->\n",
       "<g id=\"edge3\" class=\"edge\"><title>S1&#45;&gt;S1</title>\n",
       "<path fill=\"none\" stroke=\"black\" d=\"M224.055,-40.7807C221.946,-51.1419 225.11,-60.8937 233.548,-60.8937 239.085,-60.8937 242.351,-56.694 243.346,-50.8783\"/>\n",
       "<polygon fill=\"black\" stroke=\"black\" points=\"246.841,-50.6701 243.04,-40.7807 239.844,-50.8821 246.841,-50.6701\"/>\n",
       "<text text-anchor=\"middle\" x=\"233.548\" y=\"-63.6937\" font-family=\"Times,serif\" font-size=\"14.00\">a, 1 ; 11</text>\n",
       "</g>\n",
       "<!-- S2 -->\n",
       "<g id=\"node4\" class=\"node\"><title>S2</title>\n",
       "<ellipse fill=\"none\" stroke=\"black\" cx=\"349.376\" cy=\"-23.4469\" rx=\"19.4029\" ry=\"19.4029\"/>\n",
       "<ellipse fill=\"none\" stroke=\"black\" cx=\"349.376\" cy=\"-23.4469\" rx=\"23.3939\" ry=\"23.3939\"/>\n",
       "<text text-anchor=\"middle\" x=\"349.376\" y=\"-19.2469\" font-family=\"Times,serif\" font-size=\"14.00\">S2</text>\n",
       "</g>\n",
       "<!-- S1&#45;&gt;S2 -->\n",
       "<g id=\"edge4\" class=\"edge\"><title>S1&#45;&gt;S2</title>\n",
       "<path fill=\"none\" stroke=\"black\" d=\"M253.089,-23.4469C270.042,-23.4469 295.495,-23.4469 315.832,-23.4469\"/>\n",
       "<polygon fill=\"black\" stroke=\"black\" points=\"315.928,-26.947 325.927,-23.4469 315.927,-19.947 315.928,-26.947\"/>\n",
       "<text text-anchor=\"middle\" x=\"289.462\" y=\"-26.2469\" font-family=\"Times,serif\" font-size=\"14.00\">b, 1 ; &#39;&#39;</text>\n",
       "</g>\n",
       "<!-- S2&#45;&gt;S2 -->\n",
       "<g id=\"edge5\" class=\"edge\"><title>S2&#45;&gt;S2</title>\n",
       "<path fill=\"none\" stroke=\"black\" d=\"M338.822,-44.7721C337.362,-55.4073 340.88,-64.8937 349.376,-64.8937 354.951,-64.8937 358.383,-60.8083 359.671,-54.9938\"/>\n",
       "<polygon fill=\"black\" stroke=\"black\" points=\"363.175,-54.8575 359.93,-44.7721 356.178,-54.6803 363.175,-54.8575\"/>\n",
       "<text text-anchor=\"middle\" x=\"349.376\" y=\"-67.6937\" font-family=\"Times,serif\" font-size=\"14.00\">b, 1 ; &#39;&#39;</text>\n",
       "</g>\n",
       "<!-- S3 -->\n",
       "<g id=\"node5\" class=\"node\"><title>S3</title>\n",
       "<ellipse fill=\"none\" stroke=\"black\" cx=\"480.224\" cy=\"-23.4469\" rx=\"19.4029\" ry=\"19.4029\"/>\n",
       "<ellipse fill=\"none\" stroke=\"black\" cx=\"480.224\" cy=\"-23.4469\" rx=\"23.3939\" ry=\"23.3939\"/>\n",
       "<text text-anchor=\"middle\" x=\"480.224\" y=\"-19.2469\" font-family=\"Times,serif\" font-size=\"14.00\">S3</text>\n",
       "</g>\n",
       "<!-- S2&#45;&gt;S3 -->\n",
       "<g id=\"edge6\" class=\"edge\"><title>S2&#45;&gt;S3</title>\n",
       "<path fill=\"none\" stroke=\"black\" d=\"M373.115,-23.4469C393.447,-23.4469 423.486,-23.4469 446.418,-23.4469\"/>\n",
       "<polygon fill=\"black\" stroke=\"black\" points=\"446.712,-26.947 456.712,-23.4469 446.712,-19.947 446.712,-26.947\"/>\n",
       "<text text-anchor=\"middle\" x=\"414.8\" y=\"-26.2469\" font-family=\"Times,serif\" font-size=\"14.00\">&#39;&#39;, Z ; &#39;&#39;</text>\n",
       "</g>\n",
       "<!-- S3&#45;&gt;S2 -->\n",
       "<g id=\"edge7\" class=\"edge\"><title>S3&#45;&gt;S2</title>\n",
       "<path fill=\"none\" stroke=\"black\" d=\"M459.209,-12.5595C452.863,-9.65448 445.694,-6.91645 438.777,-5.44687 417.929,-1.0174 411.67,-1.0174 390.823,-5.44687 387.148,-6.22759 383.403,-7.36629 379.747,-8.69784\"/>\n",
       "<polygon fill=\"black\" stroke=\"black\" points=\"378.299,-5.50905 370.39,-12.5595 380.969,-11.9796 378.299,-5.50905\"/>\n",
       "<text text-anchor=\"middle\" x=\"414.8\" y=\"-8.24687\" font-family=\"Times,serif\" font-size=\"14.00\">&#39;&#39;, &#39;&#39; ; 111</text>\n",
       "</g>\n",
       "</g>\n",
       "</svg>\n"
      ],
      "text/plain": [
       "<graphviz.dot.Digraph at 0x10ae40b70>"
      ]
     },
     "execution_count": 37,
     "metadata": {},
     "output_type": "execute_result"
    }
   ],
   "source": [
    "dotObj_pda(Pev3)"
   ]
  },
  {
   "cell_type": "code",
   "execution_count": 38,
   "metadata": {
    "run_control": {
     "frozen": false,
     "read_only": false
    }
   },
   "outputs": [
    {
     "name": "stdout",
     "output_type": "stream",
     "text": [
      "String aabb accepted by your PDA in 3 ways :-) \n",
      "Here are the ways: \n",
      "Final state  ('S2', '', 'Z')\n",
      "Reached as follows:\n",
      "->  ('S0', 'aabb', 'Z')\n",
      "->  ('S1', 'abb', '1Z')\n",
      "->  ('S1', 'bb', '11Z')\n",
      "->  ('S2', 'b', '1Z')\n",
      "->  ('S2', '', 'Z') .\n",
      "Final state  ('S3', '', '')\n",
      "Reached as follows:\n",
      "->  ('S0', 'aabb', 'Z')\n",
      "->  ('S1', 'abb', '1Z')\n",
      "->  ('S1', 'bb', '11Z')\n",
      "->  ('S2', 'b', '1Z')\n",
      "->  ('S2', '', 'Z')\n",
      "->  ('S3', '', '') .\n",
      "Final state  ('S2', '', '111')\n",
      "Reached as follows:\n",
      "->  ('S0', 'aabb', 'Z')\n",
      "->  ('S1', 'abb', '1Z')\n",
      "->  ('S1', 'bb', '11Z')\n",
      "->  ('S2', 'b', '1Z')\n",
      "->  ('S2', '', 'Z')\n",
      "->  ('S3', '', '')\n",
      "->  ('S2', '', '111') .\n"
     ]
    }
   ],
   "source": [
    "explore_pda(\"aabb\", Pev3)"
   ]
  },
  {
   "cell_type": "code",
   "execution_count": 39,
   "metadata": {
    "run_control": {
     "frozen": false,
     "read_only": false
    }
   },
   "outputs": [
    {
     "name": "stdout",
     "output_type": "stream",
     "text": [
      "String aaabbb accepted by your PDA in 3 ways :-) \n",
      "Here are the ways: \n",
      "Final state  ('S2', '', 'Z')\n",
      "Reached as follows:\n",
      "->  ('S0', 'aaabbb', 'Z')\n",
      "->  ('S1', 'aabbb', '1Z')\n",
      "->  ('S1', 'abbb', '11Z')\n",
      "->  ('S1', 'bbb', '111Z')\n",
      "->  ('S2', 'bb', '11Z')\n",
      "->  ('S2', 'b', '1Z')\n",
      "->  ('S2', '', 'Z') .\n",
      "Final state  ('S3', '', '')\n",
      "Reached as follows:\n",
      "->  ('S0', 'aaabbb', 'Z')\n",
      "->  ('S1', 'aabbb', '1Z')\n",
      "->  ('S1', 'abbb', '11Z')\n",
      "->  ('S1', 'bbb', '111Z')\n",
      "->  ('S2', 'bb', '11Z')\n",
      "->  ('S2', 'b', '1Z')\n",
      "->  ('S2', '', 'Z')\n",
      "->  ('S3', '', '') .\n",
      "Final state  ('S2', '', '111')\n",
      "Reached as follows:\n",
      "->  ('S0', 'aaabbb', 'Z')\n",
      "->  ('S1', 'aabbb', '1Z')\n",
      "->  ('S1', 'abbb', '11Z')\n",
      "->  ('S1', 'bbb', '111Z')\n",
      "->  ('S2', 'bb', '11Z')\n",
      "->  ('S2', 'b', '1Z')\n",
      "->  ('S2', '', 'Z')\n",
      "->  ('S3', '', '')\n",
      "->  ('S2', '', '111') .\n"
     ]
    }
   ],
   "source": [
    "explore_pda(\"aaabbb\", Pev3)"
   ]
  },
  {
   "cell_type": "code",
   "execution_count": 40,
   "metadata": {
    "run_control": {
     "frozen": false,
     "read_only": false
    }
   },
   "outputs": [
    {
     "data": {
      "image/svg+xml": [
       "<?xml version=\"1.0\" encoding=\"UTF-8\" standalone=\"no\"?>\n",
       "<!DOCTYPE svg PUBLIC \"-//W3C//DTD SVG 1.1//EN\"\n",
       " \"http://www.w3.org/Graphics/SVG/1.1/DTD/svg11.dtd\">\n",
       "<!-- Generated by graphviz version 2.38.0 (20140413.2041)\n",
       " -->\n",
       "<!-- Title: %3 Pages: 1 -->\n",
       "<svg width=\"492pt\" height=\"83pt\"\n",
       " viewBox=\"0.00 0.00 492.25 82.89\" xmlns=\"http://www.w3.org/2000/svg\" xmlns:xlink=\"http://www.w3.org/1999/xlink\">\n",
       "<g id=\"graph0\" class=\"graph\" transform=\"scale(1 1) rotate(0) translate(4 78.8937)\">\n",
       "<title>%3</title>\n",
       "<polygon fill=\"white\" stroke=\"none\" points=\"-4,4 -4,-78.8937 488.248,-78.8937 488.248,4 -4,4\"/>\n",
       "<!-- EMPTY -->\n",
       "<g id=\"node1\" class=\"node\"><title>EMPTY</title>\n",
       "</g>\n",
       "<!-- S0 -->\n",
       "<g id=\"node2\" class=\"node\"><title>S0</title>\n",
       "<ellipse fill=\"none\" stroke=\"black\" cx=\"110.447\" cy=\"-23.4469\" rx=\"19.3939\" ry=\"19.3939\"/>\n",
       "<text text-anchor=\"middle\" x=\"110.447\" y=\"-19.2469\" font-family=\"Times,serif\" font-size=\"14.00\">S0</text>\n",
       "</g>\n",
       "<!-- EMPTY&#45;&gt;S0 -->\n",
       "<g id=\"edge1\" class=\"edge\"><title>EMPTY&#45;&gt;S0</title>\n",
       "<path fill=\"none\" stroke=\"black\" d=\"M54.2186,-23.4469C62.6822,-23.4469 72.1072,-23.4469 80.7407,-23.4469\"/>\n",
       "<polygon fill=\"black\" stroke=\"black\" points=\"80.7613,-26.947 90.7613,-23.4469 80.7613,-19.947 80.7613,-26.947\"/>\n",
       "</g>\n",
       "<!-- S1 -->\n",
       "<g id=\"node3\" class=\"node\"><title>S1</title>\n",
       "<ellipse fill=\"none\" stroke=\"black\" cx=\"233.548\" cy=\"-23.4469\" rx=\"19.3939\" ry=\"19.3939\"/>\n",
       "<text text-anchor=\"middle\" x=\"233.548\" y=\"-19.2469\" font-family=\"Times,serif\" font-size=\"14.00\">S1</text>\n",
       "</g>\n",
       "<!-- S0&#45;&gt;S1 -->\n",
       "<g id=\"edge2\" class=\"edge\"><title>S0&#45;&gt;S1</title>\n",
       "<path fill=\"none\" stroke=\"black\" d=\"M130.103,-23.4469C149.806,-23.4469 181.118,-23.4469 203.942,-23.4469\"/>\n",
       "<polygon fill=\"black\" stroke=\"black\" points=\"204.069,-26.947 214.069,-23.4469 204.069,-19.947 204.069,-26.947\"/>\n",
       "<text text-anchor=\"middle\" x=\"171.997\" y=\"-26.2469\" font-family=\"Times,serif\" font-size=\"14.00\">a, Z ; 1Z</text>\n",
       "</g>\n",
       "<!-- S1&#45;&gt;S1 -->\n",
       "<g id=\"edge3\" class=\"edge\"><title>S1&#45;&gt;S1</title>\n",
       "<path fill=\"none\" stroke=\"black\" d=\"M224.055,-40.7807C221.946,-51.1419 225.11,-60.8937 233.548,-60.8937 239.085,-60.8937 242.351,-56.694 243.346,-50.8783\"/>\n",
       "<polygon fill=\"black\" stroke=\"black\" points=\"246.841,-50.6701 243.04,-40.7807 239.844,-50.8821 246.841,-50.6701\"/>\n",
       "<text text-anchor=\"middle\" x=\"233.548\" y=\"-63.6937\" font-family=\"Times,serif\" font-size=\"14.00\">a, 1 ; 11</text>\n",
       "</g>\n",
       "<!-- S2 -->\n",
       "<g id=\"node4\" class=\"node\"><title>S2</title>\n",
       "<ellipse fill=\"none\" stroke=\"black\" cx=\"345.376\" cy=\"-23.4469\" rx=\"19.3939\" ry=\"19.3939\"/>\n",
       "<text text-anchor=\"middle\" x=\"345.376\" y=\"-19.2469\" font-family=\"Times,serif\" font-size=\"14.00\">S2</text>\n",
       "</g>\n",
       "<!-- S1&#45;&gt;S2 -->\n",
       "<g id=\"edge4\" class=\"edge\"><title>S1&#45;&gt;S2</title>\n",
       "<path fill=\"none\" stroke=\"black\" d=\"M253.179,-23.4469C270.219,-23.4469 295.696,-23.4469 315.395,-23.4469\"/>\n",
       "<polygon fill=\"black\" stroke=\"black\" points=\"315.654,-26.947 325.654,-23.4469 315.654,-19.947 315.654,-26.947\"/>\n",
       "<text text-anchor=\"middle\" x=\"289.462\" y=\"-26.2469\" font-family=\"Times,serif\" font-size=\"14.00\">b, 1 ; &#39;&#39;</text>\n",
       "</g>\n",
       "<!-- S2&#45;&gt;S2 -->\n",
       "<g id=\"edge5\" class=\"edge\"><title>S2&#45;&gt;S2</title>\n",
       "<path fill=\"none\" stroke=\"black\" d=\"M335.884,-40.7807C333.774,-51.1419 336.938,-60.8937 345.376,-60.8937 350.913,-60.8937 354.179,-56.694 355.174,-50.8783\"/>\n",
       "<polygon fill=\"black\" stroke=\"black\" points=\"358.669,-50.6701 354.868,-40.7807 351.673,-50.8821 358.669,-50.6701\"/>\n",
       "<text text-anchor=\"middle\" x=\"345.376\" y=\"-63.6937\" font-family=\"Times,serif\" font-size=\"14.00\">b, 1 ; &#39;&#39;</text>\n",
       "</g>\n",
       "<!-- S3 -->\n",
       "<g id=\"node5\" class=\"node\"><title>S3</title>\n",
       "<ellipse fill=\"none\" stroke=\"black\" cx=\"460.801\" cy=\"-23.4469\" rx=\"19.4029\" ry=\"19.4029\"/>\n",
       "<ellipse fill=\"none\" stroke=\"black\" cx=\"460.801\" cy=\"-23.4469\" rx=\"23.3939\" ry=\"23.3939\"/>\n",
       "<text text-anchor=\"middle\" x=\"460.801\" y=\"-19.2469\" font-family=\"Times,serif\" font-size=\"14.00\">S3</text>\n",
       "</g>\n",
       "<!-- S2&#45;&gt;S3 -->\n",
       "<g id=\"edge6\" class=\"edge\"><title>S2&#45;&gt;S3</title>\n",
       "<path fill=\"none\" stroke=\"black\" d=\"M364.852,-23.4469C381.637,-23.4469 406.787,-23.4469 426.986,-23.4469\"/>\n",
       "<polygon fill=\"black\" stroke=\"black\" points=\"427.028,-26.947 437.028,-23.4469 427.028,-19.947 427.028,-26.947\"/>\n",
       "<text text-anchor=\"middle\" x=\"401.088\" y=\"-26.2469\" font-family=\"Times,serif\" font-size=\"14.00\">&#39;&#39;, Z ; &#39;&#39;</text>\n",
       "</g>\n",
       "</g>\n",
       "</svg>\n"
      ],
      "text/plain": [
       "<graphviz.dot.Digraph at 0x10ae2a978>"
      ]
     },
     "execution_count": 40,
     "metadata": {},
     "output_type": "execute_result"
    }
   ],
   "source": [
    "dotObj_pda(Pev)"
   ]
  },
  {
   "cell_type": "code",
   "execution_count": 41,
   "metadata": {
    "run_control": {
     "frozen": false,
     "read_only": false
    }
   },
   "outputs": [
    {
     "name": "stdout",
     "output_type": "stream",
     "text": [
      "String aaaabbb rejected by your PDA :-(\n",
      "Visited states are:\n",
      "[('S2', '', '1Z'), ('S2', 'b', '11Z'), ('S2', 'bb', '111Z'), ('S1', 'bbb', '1111Z'), ('S1', 'abbb', '111Z'), ('S1', 'aabbb', '11Z'), ('S1', 'aaabbb', '1Z'), ('S0', 'aaaabbb', 'Z')]\n"
     ]
    }
   ],
   "source": [
    "explore_pda(\"aaaabbb\", Pev)"
   ]
  },
  {
   "cell_type": "code",
   "execution_count": 42,
   "metadata": {
    "run_control": {
     "frozen": false,
     "read_only": false
    }
   },
   "outputs": [
    {
     "name": "stdout",
     "output_type": "stream",
     "text": [
      "String aaaabbbb accepted by your PDA in 1 ways :-) \n",
      "Here are the ways: \n",
      "Final state  ('S3', '', '')\n",
      "Reached as follows:\n",
      "->  ('S0', 'aaaabbbb', 'Z')\n",
      "->  ('S1', 'aaabbbb', '1Z')\n",
      "->  ('S1', 'aabbbb', '11Z')\n",
      "->  ('S1', 'abbbb', '111Z')\n",
      "->  ('S1', 'bbbb', '1111Z')\n",
      "->  ('S2', 'bbb', '111Z')\n",
      "->  ('S2', 'bb', '11Z')\n",
      "->  ('S2', 'b', '1Z')\n",
      "->  ('S2', '', 'Z')\n",
      "->  ('S3', '', '') .\n"
     ]
    }
   ],
   "source": [
    "explore_pda(\"aaaabbbb\", Pev1)"
   ]
  },
  {
   "cell_type": "code",
   "execution_count": 43,
   "metadata": {
    "run_control": {
     "frozen": false,
     "read_only": false
    }
   },
   "outputs": [
    {
     "name": "stdout",
     "output_type": "stream",
     "text": [
      "String aaaabbbb rejected by your PDA :-(\n",
      "Visited states are:\n",
      "[('S3', '', ''), ('S2', '', 'Z'), ('S2', 'b', '1Z'), ('S2', 'bb', '11Z'), ('S2', 'bbb', '111Z'), ('S1', 'bbbb', '1111Z'), ('S1', 'abbbb', '111Z'), ('S1', 'aabbbb', '11Z'), ('S1', 'aaabbbb', '1Z'), ('S0', 'aaaabbbb', 'Z')]\n"
     ]
    }
   ],
   "source": [
    "explore_pda(\"aaaabbbb\", Pev2)"
   ]
  },
  {
   "cell_type": "code",
   "execution_count": 44,
   "metadata": {
    "run_control": {
     "frozen": false,
     "read_only": false
    }
   },
   "outputs": [
    {
     "data": {
      "image/svg+xml": [
       "<?xml version=\"1.0\" encoding=\"UTF-8\" standalone=\"no\"?>\n",
       "<!DOCTYPE svg PUBLIC \"-//W3C//DTD SVG 1.1//EN\"\n",
       " \"http://www.w3.org/Graphics/SVG/1.1/DTD/svg11.dtd\">\n",
       "<!-- Generated by graphviz version 2.38.0 (20140413.2041)\n",
       " -->\n",
       "<!-- Title: %3 Pages: 1 -->\n",
       "<svg width=\"496pt\" height=\"81pt\"\n",
       " viewBox=\"0.00 0.00 495.67 81.08\" xmlns=\"http://www.w3.org/2000/svg\" xmlns:xlink=\"http://www.w3.org/1999/xlink\">\n",
       "<g id=\"graph0\" class=\"graph\" transform=\"scale(1 1) rotate(0) translate(4 77.0811)\">\n",
       "<title>%3</title>\n",
       "<polygon fill=\"white\" stroke=\"none\" points=\"-4,4 -4,-77.0811 491.671,-77.0811 491.671,4 -4,4\"/>\n",
       "<!-- EMPTY -->\n",
       "<g id=\"node1\" class=\"node\"><title>EMPTY</title>\n",
       "</g>\n",
       "<!-- S0 -->\n",
       "<g id=\"node2\" class=\"node\"><title>S0</title>\n",
       "<ellipse fill=\"none\" stroke=\"black\" cx=\"110.447\" cy=\"-21.6343\" rx=\"19.3939\" ry=\"19.3939\"/>\n",
       "<text text-anchor=\"middle\" x=\"110.447\" y=\"-17.4343\" font-family=\"Times,serif\" font-size=\"14.00\">S0</text>\n",
       "</g>\n",
       "<!-- EMPTY&#45;&gt;S0 -->\n",
       "<g id=\"edge1\" class=\"edge\"><title>EMPTY&#45;&gt;S0</title>\n",
       "<path fill=\"none\" stroke=\"black\" d=\"M54.2186,-21.6343C62.6822,-21.6343 72.1072,-21.6343 80.7407,-21.6343\"/>\n",
       "<polygon fill=\"black\" stroke=\"black\" points=\"80.7613,-25.1344 90.7613,-21.6343 80.7613,-18.1344 80.7613,-25.1344\"/>\n",
       "</g>\n",
       "<!-- S1 -->\n",
       "<g id=\"node3\" class=\"node\"><title>S1</title>\n",
       "<ellipse fill=\"none\" stroke=\"black\" cx=\"233.548\" cy=\"-21.6343\" rx=\"19.3939\" ry=\"19.3939\"/>\n",
       "<text text-anchor=\"middle\" x=\"233.548\" y=\"-17.4343\" font-family=\"Times,serif\" font-size=\"14.00\">S1</text>\n",
       "</g>\n",
       "<!-- S0&#45;&gt;S1 -->\n",
       "<g id=\"edge2\" class=\"edge\"><title>S0&#45;&gt;S1</title>\n",
       "<path fill=\"none\" stroke=\"black\" d=\"M130.103,-21.6343C149.806,-21.6343 181.118,-21.6343 203.942,-21.6343\"/>\n",
       "<polygon fill=\"black\" stroke=\"black\" points=\"204.069,-25.1344 214.069,-21.6343 204.069,-18.1344 204.069,-25.1344\"/>\n",
       "<text text-anchor=\"middle\" x=\"171.997\" y=\"-24.4343\" font-family=\"Times,serif\" font-size=\"14.00\">a, Z ; 1Z</text>\n",
       "</g>\n",
       "<!-- S1&#45;&gt;S1 -->\n",
       "<g id=\"edge3\" class=\"edge\"><title>S1&#45;&gt;S1</title>\n",
       "<path fill=\"none\" stroke=\"black\" d=\"M224.055,-38.9681C221.946,-49.3294 225.11,-59.0811 233.548,-59.0811 239.085,-59.0811 242.351,-54.8814 243.346,-49.0657\"/>\n",
       "<polygon fill=\"black\" stroke=\"black\" points=\"246.841,-48.8575 243.04,-38.9681 239.844,-49.0695 246.841,-48.8575\"/>\n",
       "<text text-anchor=\"middle\" x=\"233.548\" y=\"-61.8811\" font-family=\"Times,serif\" font-size=\"14.00\">a, 1 ; 11</text>\n",
       "</g>\n",
       "<!-- S2 -->\n",
       "<g id=\"node4\" class=\"node\"><title>S2</title>\n",
       "<ellipse fill=\"none\" stroke=\"black\" cx=\"345.376\" cy=\"-21.6343\" rx=\"19.3939\" ry=\"19.3939\"/>\n",
       "<text text-anchor=\"middle\" x=\"345.376\" y=\"-17.4343\" font-family=\"Times,serif\" font-size=\"14.00\">S2</text>\n",
       "</g>\n",
       "<!-- S1&#45;&gt;S2 -->\n",
       "<g id=\"edge4\" class=\"edge\"><title>S1&#45;&gt;S2</title>\n",
       "<path fill=\"none\" stroke=\"black\" d=\"M253.179,-21.6343C270.219,-21.6343 295.696,-21.6343 315.395,-21.6343\"/>\n",
       "<polygon fill=\"black\" stroke=\"black\" points=\"315.654,-25.1344 325.654,-21.6343 315.654,-18.1344 315.654,-25.1344\"/>\n",
       "<text text-anchor=\"middle\" x=\"289.462\" y=\"-24.4343\" font-family=\"Times,serif\" font-size=\"14.00\">b, 1 ; &#39;&#39;</text>\n",
       "</g>\n",
       "<!-- S2&#45;&gt;S2 -->\n",
       "<g id=\"edge5\" class=\"edge\"><title>S2&#45;&gt;S2</title>\n",
       "<path fill=\"none\" stroke=\"black\" d=\"M335.884,-38.9681C333.774,-49.3294 336.938,-59.0811 345.376,-59.0811 350.913,-59.0811 354.179,-54.8814 355.174,-49.0657\"/>\n",
       "<polygon fill=\"black\" stroke=\"black\" points=\"358.669,-48.8575 354.868,-38.9681 351.673,-49.0695 358.669,-48.8575\"/>\n",
       "<text text-anchor=\"middle\" x=\"345.376\" y=\"-61.8811\" font-family=\"Times,serif\" font-size=\"14.00\">b, 1 ; &#39;&#39;</text>\n",
       "</g>\n",
       "<!-- S3 -->\n",
       "<g id=\"node5\" class=\"node\"><title>S3</title>\n",
       "<ellipse fill=\"none\" stroke=\"black\" cx=\"468.224\" cy=\"-21.6343\" rx=\"19.3939\" ry=\"19.3939\"/>\n",
       "<text text-anchor=\"middle\" x=\"468.224\" y=\"-17.4343\" font-family=\"Times,serif\" font-size=\"14.00\">S3</text>\n",
       "</g>\n",
       "<!-- S2&#45;&gt;S3 -->\n",
       "<g id=\"edge6\" class=\"edge\"><title>S2&#45;&gt;S3</title>\n",
       "<path fill=\"none\" stroke=\"black\" d=\"M364.994,-21.6343C384.541,-21.6343 415.538,-21.6343 438.28,-21.6343\"/>\n",
       "<polygon fill=\"black\" stroke=\"black\" points=\"438.386,-25.1344 448.386,-21.6343 438.386,-18.1344 438.386,-25.1344\"/>\n",
       "<text text-anchor=\"middle\" x=\"406.8\" y=\"-24.4343\" font-family=\"Times,serif\" font-size=\"14.00\">&#39;&#39;, Z ; &#39;&#39;</text>\n",
       "</g>\n",
       "<!-- S3&#45;&gt;S2 -->\n",
       "<g id=\"edge7\" class=\"edge\"><title>S3&#45;&gt;S2</title>\n",
       "<path fill=\"none\" stroke=\"black\" d=\"M451.134,-11.7066C444.997,-8.46087 437.787,-5.27089 430.777,-3.63428 410.022,1.21143 403.578,1.21143 382.823,-3.63428 379.099,-4.50373 375.318,-5.81158 371.672,-7.33329\"/>\n",
       "<polygon fill=\"black\" stroke=\"black\" points=\"369.996,-4.25446 362.465,-11.7066 373,-10.5774 369.996,-4.25446\"/>\n",
       "<text text-anchor=\"middle\" x=\"406.8\" y=\"-6.43428\" font-family=\"Times,serif\" font-size=\"14.00\">&#39;&#39;, &#39;&#39; ; 111</text>\n",
       "</g>\n",
       "</g>\n",
       "</svg>\n"
      ],
      "text/plain": [
       "<graphviz.dot.Digraph at 0x10ae2a1d0>"
      ]
     },
     "execution_count": 44,
     "metadata": {},
     "output_type": "execute_result"
    }
   ],
   "source": [
    "dotObj_pda(Pev2)"
   ]
  },
  {
   "cell_type": "code",
   "execution_count": 45,
   "metadata": {
    "run_control": {
     "frozen": false,
     "read_only": false
    }
   },
   "outputs": [],
   "source": [
    "F27sip = {\"Sigma\" : {'a','b','c'},\n",
    "        \"Q\"     : {\"q1\",\"q2\",\"q3\",\"q4\",\"q5\",\"q6\",\"q7\"},\n",
    "        \"Gamma\" : {'a','b','c','$'},\n",
    "        \"Delta\" : {('q1','','')  : { ('q2','$')},\n",
    "                   \n",
    "                   ('q2','a',''): { ('q2','a') },\n",
    "                   ('q2','',''): { ('q3',''), ('q5','') },\n",
    "                   \n",
    "                   ('q3','b','a'): { ('q3','') },\n",
    "                   ('q3','','$'): { ('q4','') },\n",
    "                   \n",
    "                   ('q4','c',''): { ('q4','') },\n",
    "                   \n",
    "                   ('q5','b',''): { ('q5','') },\n",
    "                   ('q5','',''): { ('q6','') },\n",
    "                   \n",
    "                   ('q6','c','a'): { ('q6','') },\n",
    "                   ('q6','','$'): { ('q7','') }\n",
    "                  },\n",
    "        \"q0\"    : \"q1\",\n",
    "        \"z0\"    : \"$\",\n",
    "        \"F\"     : {'q4','q7'} }\n",
    "chk_consistent_pda(F27sip)"
   ]
  },
  {
   "cell_type": "code",
   "execution_count": 46,
   "metadata": {
    "run_control": {
     "frozen": false,
     "read_only": false
    }
   },
   "outputs": [
    {
     "data": {
      "image/svg+xml": [
       "<?xml version=\"1.0\" encoding=\"UTF-8\" standalone=\"no\"?>\n",
       "<!DOCTYPE svg PUBLIC \"-//W3C//DTD SVG 1.1//EN\"\n",
       " \"http://www.w3.org/Graphics/SVG/1.1/DTD/svg11.dtd\">\n",
       "<!-- Generated by graphviz version 2.38.0 (20140413.2041)\n",
       " -->\n",
       "<!-- Title: %3 Pages: 1 -->\n",
       "<svg width=\"586pt\" height=\"178pt\"\n",
       " viewBox=\"0.00 0.00 586.47 177.90\" xmlns=\"http://www.w3.org/2000/svg\" xmlns:xlink=\"http://www.w3.org/1999/xlink\">\n",
       "<g id=\"graph0\" class=\"graph\" transform=\"scale(1 1) rotate(0) translate(4 173.901)\">\n",
       "<title>%3</title>\n",
       "<polygon fill=\"white\" stroke=\"none\" points=\"-4,4 -4,-173.901 582.466,-173.901 582.466,4 -4,4\"/>\n",
       "<!-- EMPTY -->\n",
       "<g id=\"node1\" class=\"node\"><title>EMPTY</title>\n",
       "</g>\n",
       "<!-- q1 -->\n",
       "<g id=\"node4\" class=\"node\"><title>q1</title>\n",
       "<ellipse fill=\"none\" stroke=\"black\" cx=\"109.95\" cy=\"-74.9503\" rx=\"18.9007\" ry=\"18.9007\"/>\n",
       "<text text-anchor=\"middle\" x=\"109.95\" y=\"-70.7503\" font-family=\"Times,serif\" font-size=\"14.00\">q1</text>\n",
       "</g>\n",
       "<!-- EMPTY&#45;&gt;q1 -->\n",
       "<g id=\"edge1\" class=\"edge\"><title>EMPTY&#45;&gt;q1</title>\n",
       "<path fill=\"none\" stroke=\"black\" d=\"M54.0588,-74.9503C62.6021,-74.9503 72.1312,-74.9503 80.8208,-74.9503\"/>\n",
       "<polygon fill=\"black\" stroke=\"black\" points=\"80.8811,-78.4504 90.8811,-74.9503 80.881,-71.4504 80.8811,-78.4504\"/>\n",
       "</g>\n",
       "<!-- q3 -->\n",
       "<g id=\"node2\" class=\"node\"><title>q3</title>\n",
       "<ellipse fill=\"none\" stroke=\"black\" cx=\"325.755\" cy=\"-112.95\" rx=\"18.9007\" ry=\"18.9007\"/>\n",
       "<text text-anchor=\"middle\" x=\"325.755\" y=\"-108.75\" font-family=\"Times,serif\" font-size=\"14.00\">q3</text>\n",
       "</g>\n",
       "<!-- q3&#45;&gt;q3 -->\n",
       "<g id=\"edge6\" class=\"edge\"><title>q3&#45;&gt;q3</title>\n",
       "<path fill=\"none\" stroke=\"black\" d=\"M316.693,-129.671C314.508,-140.036 317.529,-149.901 325.755,-149.901 331.154,-149.901 334.311,-145.652 335.225,-139.802\"/>\n",
       "<polygon fill=\"black\" stroke=\"black\" points=\"338.717,-139.522 334.817,-129.671 331.723,-139.803 338.717,-139.522\"/>\n",
       "<text text-anchor=\"middle\" x=\"325.755\" y=\"-152.701\" font-family=\"Times,serif\" font-size=\"14.00\">b, a ; &#39;&#39;</text>\n",
       "</g>\n",
       "<!-- q4 -->\n",
       "<g id=\"node7\" class=\"node\"><title>q4</title>\n",
       "<ellipse fill=\"none\" stroke=\"black\" cx=\"438.635\" cy=\"-114.95\" rx=\"18.9093\" ry=\"18.9093\"/>\n",
       "<ellipse fill=\"none\" stroke=\"black\" cx=\"438.635\" cy=\"-114.95\" rx=\"22.9007\" ry=\"22.9007\"/>\n",
       "<text text-anchor=\"middle\" x=\"438.635\" y=\"-110.75\" font-family=\"Times,serif\" font-size=\"14.00\">q4</text>\n",
       "</g>\n",
       "<!-- q3&#45;&gt;q4 -->\n",
       "<g id=\"edge7\" class=\"edge\"><title>q3&#45;&gt;q4</title>\n",
       "<path fill=\"none\" stroke=\"black\" d=\"M345.065,-113.281C361.437,-113.576 385.803,-114.015 405.428,-114.369\"/>\n",
       "<polygon fill=\"black\" stroke=\"black\" points=\"405.415,-117.87 415.476,-114.551 405.541,-110.871 405.415,-117.87\"/>\n",
       "<text text-anchor=\"middle\" x=\"380.195\" y=\"-116.75\" font-family=\"Times,serif\" font-size=\"14.00\">&#39;&#39;, $ ; &#39;&#39;</text>\n",
       "</g>\n",
       "<!-- q5 -->\n",
       "<g id=\"node3\" class=\"node\"><title>q5</title>\n",
       "<ellipse fill=\"none\" stroke=\"black\" cx=\"325.755\" cy=\"-24.9503\" rx=\"18.9007\" ry=\"18.9007\"/>\n",
       "<text text-anchor=\"middle\" x=\"325.755\" y=\"-20.7503\" font-family=\"Times,serif\" font-size=\"14.00\">q5</text>\n",
       "</g>\n",
       "<!-- q5&#45;&gt;q5 -->\n",
       "<g id=\"edge9\" class=\"edge\"><title>q5&#45;&gt;q5</title>\n",
       "<path fill=\"none\" stroke=\"black\" d=\"M316.693,-41.6706C314.508,-52.036 317.529,-61.9006 325.755,-61.9006 331.154,-61.9006 334.311,-57.6523 335.225,-51.802\"/>\n",
       "<polygon fill=\"black\" stroke=\"black\" points=\"338.717,-51.5216 334.817,-41.6706 331.723,-51.8033 338.717,-51.5216\"/>\n",
       "<text text-anchor=\"middle\" x=\"325.755\" y=\"-64.7006\" font-family=\"Times,serif\" font-size=\"14.00\">b, &#39;&#39; ; &#39;&#39;</text>\n",
       "</g>\n",
       "<!-- q6 -->\n",
       "<g id=\"node6\" class=\"node\"><title>q6</title>\n",
       "<ellipse fill=\"none\" stroke=\"black\" cx=\"438.635\" cy=\"-22.9503\" rx=\"18.9007\" ry=\"18.9007\"/>\n",
       "<text text-anchor=\"middle\" x=\"438.635\" y=\"-18.7503\" font-family=\"Times,serif\" font-size=\"14.00\">q6</text>\n",
       "</g>\n",
       "<!-- q5&#45;&gt;q6 -->\n",
       "<g id=\"edge10\" class=\"edge\"><title>q5&#45;&gt;q6</title>\n",
       "<path fill=\"none\" stroke=\"black\" d=\"M345.065,-24.62C362.584,-24.304 389.257,-23.8229 409.479,-23.4582\"/>\n",
       "<polygon fill=\"black\" stroke=\"black\" points=\"409.731,-26.9543 419.667,-23.2744 409.605,-19.9554 409.731,-26.9543\"/>\n",
       "<text text-anchor=\"middle\" x=\"380.195\" y=\"-27.7503\" font-family=\"Times,serif\" font-size=\"14.00\">&#39;&#39;, &#39;&#39; ; &#39;&#39;</text>\n",
       "</g>\n",
       "<!-- q2 -->\n",
       "<g id=\"node5\" class=\"node\"><title>q2</title>\n",
       "<ellipse fill=\"none\" stroke=\"black\" cx=\"218.83\" cy=\"-74.9503\" rx=\"18.9007\" ry=\"18.9007\"/>\n",
       "<text text-anchor=\"middle\" x=\"218.83\" y=\"-70.7503\" font-family=\"Times,serif\" font-size=\"14.00\">q2</text>\n",
       "</g>\n",
       "<!-- q1&#45;&gt;q2 -->\n",
       "<g id=\"edge2\" class=\"edge\"><title>q1&#45;&gt;q2</title>\n",
       "<path fill=\"none\" stroke=\"black\" d=\"M129.081,-74.9503C145.587,-74.9503 170.228,-74.9503 189.361,-74.9503\"/>\n",
       "<polygon fill=\"black\" stroke=\"black\" points=\"189.611,-78.4504 199.611,-74.9503 189.611,-71.4504 189.611,-78.4504\"/>\n",
       "<text text-anchor=\"middle\" x=\"164.39\" y=\"-77.7503\" font-family=\"Times,serif\" font-size=\"14.00\">&#39;&#39;, &#39;&#39; ; $</text>\n",
       "</g>\n",
       "<!-- q2&#45;&gt;q3 -->\n",
       "<g id=\"edge4\" class=\"edge\"><title>q2&#45;&gt;q3</title>\n",
       "<path fill=\"none\" stroke=\"black\" d=\"M237.157,-81.2252C253.734,-87.2291 278.975,-96.3704 298.111,-103.301\"/>\n",
       "<polygon fill=\"black\" stroke=\"black\" points=\"297.157,-106.678 307.752,-106.792 299.541,-100.096 297.157,-106.678\"/>\n",
       "<text text-anchor=\"middle\" x=\"272.293\" y=\"-101.75\" font-family=\"Times,serif\" font-size=\"14.00\">&#39;&#39;, &#39;&#39; ; &#39;&#39;</text>\n",
       "</g>\n",
       "<!-- q2&#45;&gt;q5 -->\n",
       "<g id=\"edge5\" class=\"edge\"><title>q2&#45;&gt;q5</title>\n",
       "<path fill=\"none\" stroke=\"black\" d=\"M236.225,-67.1378C252.989,-59.1491 279.277,-46.6221 298.858,-37.2913\"/>\n",
       "<polygon fill=\"black\" stroke=\"black\" points=\"300.608,-40.3344 308.13,-32.8729 297.597,-34.0152 300.608,-40.3344\"/>\n",
       "<text text-anchor=\"middle\" x=\"272.293\" y=\"-60.7503\" font-family=\"Times,serif\" font-size=\"14.00\">&#39;&#39;, &#39;&#39; ; &#39;&#39;</text>\n",
       "</g>\n",
       "<!-- q2&#45;&gt;q2 -->\n",
       "<g id=\"edge3\" class=\"edge\"><title>q2&#45;&gt;q2</title>\n",
       "<path fill=\"none\" stroke=\"black\" d=\"M209.768,-91.6706C207.583,-102.036 210.604,-111.901 218.83,-111.901 224.229,-111.901 227.386,-107.652 228.3,-101.802\"/>\n",
       "<polygon fill=\"black\" stroke=\"black\" points=\"231.792,-101.522 227.892,-91.6706 224.798,-101.803 231.792,-101.522\"/>\n",
       "<text text-anchor=\"middle\" x=\"218.83\" y=\"-114.701\" font-family=\"Times,serif\" font-size=\"14.00\">a, &#39;&#39; ; a</text>\n",
       "</g>\n",
       "<!-- q6&#45;&gt;q6 -->\n",
       "<g id=\"edge11\" class=\"edge\"><title>q6&#45;&gt;q6</title>\n",
       "<path fill=\"none\" stroke=\"black\" d=\"M428.621,-39.2864C426.008,-49.791 429.346,-59.9006 438.635,-59.9006 444.731,-59.9006 448.264,-55.5467 449.235,-49.5846\"/>\n",
       "<polygon fill=\"black\" stroke=\"black\" points=\"452.711,-49.0719 448.65,-39.2864 445.723,-49.4688 452.711,-49.0719\"/>\n",
       "<text text-anchor=\"middle\" x=\"438.635\" y=\"-62.7006\" font-family=\"Times,serif\" font-size=\"14.00\">c, a ; &#39;&#39;</text>\n",
       "</g>\n",
       "<!-- q7 -->\n",
       "<g id=\"node8\" class=\"node\"><title>q7</title>\n",
       "<ellipse fill=\"none\" stroke=\"black\" cx=\"555.515\" cy=\"-22.9503\" rx=\"18.9093\" ry=\"18.9093\"/>\n",
       "<ellipse fill=\"none\" stroke=\"black\" cx=\"555.515\" cy=\"-22.9503\" rx=\"22.9007\" ry=\"22.9007\"/>\n",
       "<text text-anchor=\"middle\" x=\"555.515\" y=\"-18.7503\" font-family=\"Times,serif\" font-size=\"14.00\">q7</text>\n",
       "</g>\n",
       "<!-- q6&#45;&gt;q7 -->\n",
       "<g id=\"edge12\" class=\"edge\"><title>q6&#45;&gt;q7</title>\n",
       "<path fill=\"none\" stroke=\"black\" d=\"M457.838,-22.9503C475.158,-22.9503 501.594,-22.9503 522.447,-22.9503\"/>\n",
       "<polygon fill=\"black\" stroke=\"black\" points=\"522.467,-26.4504 532.467,-22.9503 522.467,-19.4504 522.467,-26.4504\"/>\n",
       "<text text-anchor=\"middle\" x=\"497.075\" y=\"-25.7503\" font-family=\"Times,serif\" font-size=\"14.00\">&#39;&#39;, $ ; &#39;&#39;</text>\n",
       "</g>\n",
       "<!-- q4&#45;&gt;q4 -->\n",
       "<g id=\"edge8\" class=\"edge\"><title>q4&#45;&gt;q4</title>\n",
       "<path fill=\"none\" stroke=\"black\" d=\"M428.143,-135.599C426.528,-146.276 430.026,-155.901 438.635,-155.901 444.285,-155.901 447.734,-151.756 448.981,-145.889\"/>\n",
       "<polygon fill=\"black\" stroke=\"black\" points=\"452.484,-145.648 449.128,-135.599 445.485,-145.548 452.484,-145.648\"/>\n",
       "<text text-anchor=\"middle\" x=\"438.635\" y=\"-158.701\" font-family=\"Times,serif\" font-size=\"14.00\">c, &#39;&#39; ; &#39;&#39;</text>\n",
       "</g>\n",
       "</g>\n",
       "</svg>\n"
      ],
      "text/plain": [
       "<graphviz.dot.Digraph at 0x10ae24940>"
      ]
     },
     "execution_count": 46,
     "metadata": {},
     "output_type": "execute_result"
    }
   ],
   "source": [
    "dotObj_pda(F27sip)"
   ]
  },
  {
   "cell_type": "code",
   "execution_count": 47,
   "metadata": {
    "run_control": {
     "frozen": false,
     "read_only": false
    }
   },
   "outputs": [],
   "source": [
    "wwr = {\"Sigma\" : {'0','1'},\n",
    "        \"Q\"     : {'q1','q2','q3','q4'},\n",
    "        \"Gamma\" : {'0','1','$'},\n",
    "        \"Delta\" : {('q1','',''): {('q2','$')},\n",
    "                   ('q2','0',''): {('q2','0')},  \n",
    "                   ('q2','1',''): {('q2','1')}, \n",
    "                   ('q2','',''): {('q3','')}, \n",
    "                   ('q3','0','0'): {('q3','')},\n",
    "                   ('q3','1','1'): {('q3','')},\n",
    "                   ('q3','','$') : {('q4','')}\n",
    "                  },\n",
    "        \"q0\"    : \"q1\",\n",
    "        \"z0\"    : \"$\",\n",
    "        \"F\"     : {'q1','q4'} }\n",
    "chk_consistent_pda(wwr)"
   ]
  },
  {
   "cell_type": "code",
   "execution_count": 48,
   "metadata": {
    "run_control": {
     "frozen": false,
     "read_only": false
    }
   },
   "outputs": [
    {
     "data": {
      "image/svg+xml": [
       "<?xml version=\"1.0\" encoding=\"UTF-8\" standalone=\"no\"?>\n",
       "<!DOCTYPE svg PUBLIC \"-//W3C//DTD SVG 1.1//EN\"\n",
       " \"http://www.w3.org/Graphics/SVG/1.1/DTD/svg11.dtd\">\n",
       "<!-- Generated by graphviz version 2.38.0 (20140413.2041)\n",
       " -->\n",
       "<!-- Title: %3 Pages: 1 -->\n",
       "<svg width=\"478pt\" height=\"114pt\"\n",
       " viewBox=\"0.00 0.00 477.59 113.90\" xmlns=\"http://www.w3.org/2000/svg\" xmlns:xlink=\"http://www.w3.org/1999/xlink\">\n",
       "<g id=\"graph0\" class=\"graph\" transform=\"scale(1 1) rotate(0) translate(4 109.901)\">\n",
       "<title>%3</title>\n",
       "<polygon fill=\"white\" stroke=\"none\" points=\"-4,4 -4,-109.901 473.586,-109.901 473.586,4 -4,4\"/>\n",
       "<!-- EMPTY -->\n",
       "<g id=\"node1\" class=\"node\"><title>EMPTY</title>\n",
       "</g>\n",
       "<!-- q1 -->\n",
       "<g id=\"node5\" class=\"node\"><title>q1</title>\n",
       "<ellipse fill=\"none\" stroke=\"black\" cx=\"113.95\" cy=\"-22.9503\" rx=\"18.9093\" ry=\"18.9093\"/>\n",
       "<ellipse fill=\"none\" stroke=\"black\" cx=\"113.95\" cy=\"-22.9503\" rx=\"22.9007\" ry=\"22.9007\"/>\n",
       "<text text-anchor=\"middle\" x=\"113.95\" y=\"-18.7503\" font-family=\"Times,serif\" font-size=\"14.00\">q1</text>\n",
       "</g>\n",
       "<!-- EMPTY&#45;&gt;q1 -->\n",
       "<g id=\"edge1\" class=\"edge\"><title>EMPTY&#45;&gt;q1</title>\n",
       "<path fill=\"none\" stroke=\"black\" d=\"M54.4131,-22.9503C62.7236,-22.9503 71.996,-22.9503 80.6663,-22.9503\"/>\n",
       "<polygon fill=\"black\" stroke=\"black\" points=\"80.8386,-26.4504 90.8385,-22.9503 80.8385,-19.4504 80.8386,-26.4504\"/>\n",
       "</g>\n",
       "<!-- q2 -->\n",
       "<g id=\"node2\" class=\"node\"><title>q2</title>\n",
       "<ellipse fill=\"none\" stroke=\"black\" cx=\"226.83\" cy=\"-22.9503\" rx=\"18.9007\" ry=\"18.9007\"/>\n",
       "<text text-anchor=\"middle\" x=\"226.83\" y=\"-18.7503\" font-family=\"Times,serif\" font-size=\"14.00\">q2</text>\n",
       "</g>\n",
       "<!-- q2&#45;&gt;q2 -->\n",
       "<g id=\"edge3\" class=\"edge\"><title>q2&#45;&gt;q2</title>\n",
       "<path fill=\"none\" stroke=\"black\" d=\"M222.127,-41.5822C221.403,-51.2163 222.971,-59.9006 226.83,-59.9006 229.242,-59.9006 230.759,-56.5083 231.381,-51.612\"/>\n",
       "<polygon fill=\"black\" stroke=\"black\" points=\"234.881,-51.6343 231.534,-41.5822 227.882,-51.5277 234.881,-51.6343\"/>\n",
       "<text text-anchor=\"middle\" x=\"226.83\" y=\"-62.7006\" font-family=\"Times,serif\" font-size=\"14.00\">0, &#39;&#39; ; 0</text>\n",
       "</g>\n",
       "<!-- q2&#45;&gt;q2 -->\n",
       "<g id=\"edge4\" class=\"edge\"><title>q2&#45;&gt;q2</title>\n",
       "<path fill=\"none\" stroke=\"black\" d=\"M219.223,-40.3937C214.748,-58.1439 217.283,-77.9006 226.83,-77.9006 234.587,-77.9006 237.716,-64.8581 236.216,-50.4463\"/>\n",
       "<polygon fill=\"black\" stroke=\"black\" points=\"239.626,-49.6314 234.438,-40.3937 232.733,-50.8504 239.626,-49.6314\"/>\n",
       "<text text-anchor=\"middle\" x=\"226.83\" y=\"-80.7006\" font-family=\"Times,serif\" font-size=\"14.00\">1, &#39;&#39; ; 1</text>\n",
       "</g>\n",
       "<!-- q3 -->\n",
       "<g id=\"node3\" class=\"node\"><title>q3</title>\n",
       "<ellipse fill=\"none\" stroke=\"black\" cx=\"333.755\" cy=\"-22.9503\" rx=\"18.9007\" ry=\"18.9007\"/>\n",
       "<text text-anchor=\"middle\" x=\"333.755\" y=\"-18.7503\" font-family=\"Times,serif\" font-size=\"14.00\">q3</text>\n",
       "</g>\n",
       "<!-- q2&#45;&gt;q3 -->\n",
       "<g id=\"edge5\" class=\"edge\"><title>q2&#45;&gt;q3</title>\n",
       "<path fill=\"none\" stroke=\"black\" d=\"M246.107,-22.9503C262.206,-22.9503 285.911,-22.9503 304.46,-22.9503\"/>\n",
       "<polygon fill=\"black\" stroke=\"black\" points=\"304.688,-26.4504 314.688,-22.9503 304.688,-19.4504 304.688,-26.4504\"/>\n",
       "<text text-anchor=\"middle\" x=\"280.293\" y=\"-25.7503\" font-family=\"Times,serif\" font-size=\"14.00\">&#39;&#39;, &#39;&#39; ; &#39;&#39;</text>\n",
       "</g>\n",
       "<!-- q3&#45;&gt;q3 -->\n",
       "<g id=\"edge6\" class=\"edge\"><title>q3&#45;&gt;q3</title>\n",
       "<path fill=\"none\" stroke=\"black\" d=\"M329.052,-41.5822C328.328,-51.2163 329.896,-59.9006 333.755,-59.9006 336.167,-59.9006 337.684,-56.5083 338.306,-51.612\"/>\n",
       "<polygon fill=\"black\" stroke=\"black\" points=\"341.806,-51.6343 338.459,-41.5822 334.807,-51.5277 341.806,-51.6343\"/>\n",
       "<text text-anchor=\"middle\" x=\"333.755\" y=\"-62.7006\" font-family=\"Times,serif\" font-size=\"14.00\">0, 0 ; &#39;&#39;</text>\n",
       "</g>\n",
       "<!-- q3&#45;&gt;q3 -->\n",
       "<g id=\"edge7\" class=\"edge\"><title>q3&#45;&gt;q3</title>\n",
       "<path fill=\"none\" stroke=\"black\" d=\"M326.148,-40.3937C321.673,-58.1439 324.208,-77.9006 333.755,-77.9006 341.512,-77.9006 344.641,-64.8581 343.141,-50.4463\"/>\n",
       "<polygon fill=\"black\" stroke=\"black\" points=\"346.551,-49.6314 341.363,-40.3937 339.658,-50.8504 346.551,-49.6314\"/>\n",
       "<text text-anchor=\"middle\" x=\"333.755\" y=\"-80.7006\" font-family=\"Times,serif\" font-size=\"14.00\">1, 1 ; &#39;&#39;</text>\n",
       "</g>\n",
       "<!-- q4 -->\n",
       "<g id=\"node4\" class=\"node\"><title>q4</title>\n",
       "<ellipse fill=\"none\" stroke=\"black\" cx=\"446.635\" cy=\"-22.9503\" rx=\"18.9093\" ry=\"18.9093\"/>\n",
       "<ellipse fill=\"none\" stroke=\"black\" cx=\"446.635\" cy=\"-22.9503\" rx=\"22.9007\" ry=\"22.9007\"/>\n",
       "<text text-anchor=\"middle\" x=\"446.635\" y=\"-18.7503\" font-family=\"Times,serif\" font-size=\"14.00\">q4</text>\n",
       "</g>\n",
       "<!-- q3&#45;&gt;q4 -->\n",
       "<g id=\"edge8\" class=\"edge\"><title>q3&#45;&gt;q4</title>\n",
       "<path fill=\"none\" stroke=\"black\" d=\"M353.065,-22.9503C369.437,-22.9503 393.803,-22.9503 413.428,-22.9503\"/>\n",
       "<polygon fill=\"black\" stroke=\"black\" points=\"413.476,-26.4504 423.476,-22.9503 413.476,-19.4504 413.476,-26.4504\"/>\n",
       "<text text-anchor=\"middle\" x=\"388.195\" y=\"-25.7503\" font-family=\"Times,serif\" font-size=\"14.00\">&#39;&#39;, $ ; &#39;&#39;</text>\n",
       "</g>\n",
       "<!-- q1&#45;&gt;q2 -->\n",
       "<g id=\"edge2\" class=\"edge\"><title>q1&#45;&gt;q2</title>\n",
       "<path fill=\"none\" stroke=\"black\" d=\"M137.122,-22.9503C154.531,-22.9503 178.886,-22.9503 197.673,-22.9503\"/>\n",
       "<polygon fill=\"black\" stroke=\"black\" points=\"197.726,-26.4504 207.726,-22.9503 197.726,-19.4504 197.726,-26.4504\"/>\n",
       "<text text-anchor=\"middle\" x=\"172.39\" y=\"-25.7503\" font-family=\"Times,serif\" font-size=\"14.00\">&#39;&#39;, &#39;&#39; ; $</text>\n",
       "</g>\n",
       "</g>\n",
       "</svg>\n"
      ],
      "text/plain": [
       "<graphviz.dot.Digraph at 0x10ae2a940>"
      ]
     },
     "execution_count": 48,
     "metadata": {},
     "output_type": "execute_result"
    }
   ],
   "source": [
    "dotObj_pda(wwr)"
   ]
  },
  {
   "cell_type": "code",
   "execution_count": 49,
   "metadata": {
    "run_control": {
     "frozen": false,
     "read_only": false
    }
   },
   "outputs": [
    {
     "data": {
      "image/svg+xml": [
       "<?xml version=\"1.0\" encoding=\"UTF-8\" standalone=\"no\"?>\n",
       "<!DOCTYPE svg PUBLIC \"-//W3C//DTD SVG 1.1//EN\"\n",
       " \"http://www.w3.org/Graphics/SVG/1.1/DTD/svg11.dtd\">\n",
       "<!-- Generated by graphviz version 2.38.0 (20140413.2041)\n",
       " -->\n",
       "<!-- Title: %3 Pages: 1 -->\n",
       "<svg width=\"586pt\" height=\"178pt\"\n",
       " viewBox=\"0.00 0.00 586.47 177.90\" xmlns=\"http://www.w3.org/2000/svg\" xmlns:xlink=\"http://www.w3.org/1999/xlink\">\n",
       "<g id=\"graph0\" class=\"graph\" transform=\"scale(1 1) rotate(0) translate(4 173.901)\">\n",
       "<title>%3</title>\n",
       "<polygon fill=\"white\" stroke=\"none\" points=\"-4,4 -4,-173.901 582.466,-173.901 582.466,4 -4,4\"/>\n",
       "<!-- EMPTY -->\n",
       "<g id=\"node1\" class=\"node\"><title>EMPTY</title>\n",
       "</g>\n",
       "<!-- q1 -->\n",
       "<g id=\"node4\" class=\"node\"><title>q1</title>\n",
       "<ellipse fill=\"none\" stroke=\"black\" cx=\"109.95\" cy=\"-74.9503\" rx=\"18.9007\" ry=\"18.9007\"/>\n",
       "<text text-anchor=\"middle\" x=\"109.95\" y=\"-70.7503\" font-family=\"Times,serif\" font-size=\"14.00\">q1</text>\n",
       "</g>\n",
       "<!-- EMPTY&#45;&gt;q1 -->\n",
       "<g id=\"edge1\" class=\"edge\"><title>EMPTY&#45;&gt;q1</title>\n",
       "<path fill=\"none\" stroke=\"black\" d=\"M54.0588,-74.9503C62.6021,-74.9503 72.1312,-74.9503 80.8208,-74.9503\"/>\n",
       "<polygon fill=\"black\" stroke=\"black\" points=\"80.8811,-78.4504 90.8811,-74.9503 80.881,-71.4504 80.8811,-78.4504\"/>\n",
       "</g>\n",
       "<!-- q3 -->\n",
       "<g id=\"node2\" class=\"node\"><title>q3</title>\n",
       "<ellipse fill=\"none\" stroke=\"black\" cx=\"325.755\" cy=\"-112.95\" rx=\"18.9007\" ry=\"18.9007\"/>\n",
       "<text text-anchor=\"middle\" x=\"325.755\" y=\"-108.75\" font-family=\"Times,serif\" font-size=\"14.00\">q3</text>\n",
       "</g>\n",
       "<!-- q3&#45;&gt;q3 -->\n",
       "<g id=\"edge6\" class=\"edge\"><title>q3&#45;&gt;q3</title>\n",
       "<path fill=\"none\" stroke=\"black\" d=\"M316.693,-129.671C314.508,-140.036 317.529,-149.901 325.755,-149.901 331.154,-149.901 334.311,-145.652 335.225,-139.802\"/>\n",
       "<polygon fill=\"black\" stroke=\"black\" points=\"338.717,-139.522 334.817,-129.671 331.723,-139.803 338.717,-139.522\"/>\n",
       "<text text-anchor=\"middle\" x=\"325.755\" y=\"-152.701\" font-family=\"Times,serif\" font-size=\"14.00\">b, a ; &#39;&#39;</text>\n",
       "</g>\n",
       "<!-- q4 -->\n",
       "<g id=\"node7\" class=\"node\"><title>q4</title>\n",
       "<ellipse fill=\"none\" stroke=\"black\" cx=\"438.635\" cy=\"-114.95\" rx=\"18.9093\" ry=\"18.9093\"/>\n",
       "<ellipse fill=\"none\" stroke=\"black\" cx=\"438.635\" cy=\"-114.95\" rx=\"22.9007\" ry=\"22.9007\"/>\n",
       "<text text-anchor=\"middle\" x=\"438.635\" y=\"-110.75\" font-family=\"Times,serif\" font-size=\"14.00\">q4</text>\n",
       "</g>\n",
       "<!-- q3&#45;&gt;q4 -->\n",
       "<g id=\"edge7\" class=\"edge\"><title>q3&#45;&gt;q4</title>\n",
       "<path fill=\"none\" stroke=\"black\" d=\"M345.065,-113.281C361.437,-113.576 385.803,-114.015 405.428,-114.369\"/>\n",
       "<polygon fill=\"black\" stroke=\"black\" points=\"405.415,-117.87 415.476,-114.551 405.541,-110.871 405.415,-117.87\"/>\n",
       "<text text-anchor=\"middle\" x=\"380.195\" y=\"-116.75\" font-family=\"Times,serif\" font-size=\"14.00\">&#39;&#39;, $ ; &#39;&#39;</text>\n",
       "</g>\n",
       "<!-- q5 -->\n",
       "<g id=\"node3\" class=\"node\"><title>q5</title>\n",
       "<ellipse fill=\"none\" stroke=\"black\" cx=\"325.755\" cy=\"-24.9503\" rx=\"18.9007\" ry=\"18.9007\"/>\n",
       "<text text-anchor=\"middle\" x=\"325.755\" y=\"-20.7503\" font-family=\"Times,serif\" font-size=\"14.00\">q5</text>\n",
       "</g>\n",
       "<!-- q5&#45;&gt;q5 -->\n",
       "<g id=\"edge9\" class=\"edge\"><title>q5&#45;&gt;q5</title>\n",
       "<path fill=\"none\" stroke=\"black\" d=\"M316.693,-41.6706C314.508,-52.036 317.529,-61.9006 325.755,-61.9006 331.154,-61.9006 334.311,-57.6523 335.225,-51.802\"/>\n",
       "<polygon fill=\"black\" stroke=\"black\" points=\"338.717,-51.5216 334.817,-41.6706 331.723,-51.8033 338.717,-51.5216\"/>\n",
       "<text text-anchor=\"middle\" x=\"325.755\" y=\"-64.7006\" font-family=\"Times,serif\" font-size=\"14.00\">b, &#39;&#39; ; &#39;&#39;</text>\n",
       "</g>\n",
       "<!-- q6 -->\n",
       "<g id=\"node6\" class=\"node\"><title>q6</title>\n",
       "<ellipse fill=\"none\" stroke=\"black\" cx=\"438.635\" cy=\"-22.9503\" rx=\"18.9007\" ry=\"18.9007\"/>\n",
       "<text text-anchor=\"middle\" x=\"438.635\" y=\"-18.7503\" font-family=\"Times,serif\" font-size=\"14.00\">q6</text>\n",
       "</g>\n",
       "<!-- q5&#45;&gt;q6 -->\n",
       "<g id=\"edge10\" class=\"edge\"><title>q5&#45;&gt;q6</title>\n",
       "<path fill=\"none\" stroke=\"black\" d=\"M345.065,-24.62C362.584,-24.304 389.257,-23.8229 409.479,-23.4582\"/>\n",
       "<polygon fill=\"black\" stroke=\"black\" points=\"409.731,-26.9543 419.667,-23.2744 409.605,-19.9554 409.731,-26.9543\"/>\n",
       "<text text-anchor=\"middle\" x=\"380.195\" y=\"-27.7503\" font-family=\"Times,serif\" font-size=\"14.00\">&#39;&#39;, &#39;&#39; ; &#39;&#39;</text>\n",
       "</g>\n",
       "<!-- q2 -->\n",
       "<g id=\"node5\" class=\"node\"><title>q2</title>\n",
       "<ellipse fill=\"none\" stroke=\"black\" cx=\"218.83\" cy=\"-74.9503\" rx=\"18.9007\" ry=\"18.9007\"/>\n",
       "<text text-anchor=\"middle\" x=\"218.83\" y=\"-70.7503\" font-family=\"Times,serif\" font-size=\"14.00\">q2</text>\n",
       "</g>\n",
       "<!-- q1&#45;&gt;q2 -->\n",
       "<g id=\"edge2\" class=\"edge\"><title>q1&#45;&gt;q2</title>\n",
       "<path fill=\"none\" stroke=\"black\" d=\"M129.081,-74.9503C145.587,-74.9503 170.228,-74.9503 189.361,-74.9503\"/>\n",
       "<polygon fill=\"black\" stroke=\"black\" points=\"189.611,-78.4504 199.611,-74.9503 189.611,-71.4504 189.611,-78.4504\"/>\n",
       "<text text-anchor=\"middle\" x=\"164.39\" y=\"-77.7503\" font-family=\"Times,serif\" font-size=\"14.00\">&#39;&#39;, &#39;&#39; ; $</text>\n",
       "</g>\n",
       "<!-- q2&#45;&gt;q3 -->\n",
       "<g id=\"edge4\" class=\"edge\"><title>q2&#45;&gt;q3</title>\n",
       "<path fill=\"none\" stroke=\"black\" d=\"M237.157,-81.2252C253.734,-87.2291 278.975,-96.3704 298.111,-103.301\"/>\n",
       "<polygon fill=\"black\" stroke=\"black\" points=\"297.157,-106.678 307.752,-106.792 299.541,-100.096 297.157,-106.678\"/>\n",
       "<text text-anchor=\"middle\" x=\"272.293\" y=\"-101.75\" font-family=\"Times,serif\" font-size=\"14.00\">&#39;&#39;, &#39;&#39; ; &#39;&#39;</text>\n",
       "</g>\n",
       "<!-- q2&#45;&gt;q5 -->\n",
       "<g id=\"edge5\" class=\"edge\"><title>q2&#45;&gt;q5</title>\n",
       "<path fill=\"none\" stroke=\"black\" d=\"M236.225,-67.1378C252.989,-59.1491 279.277,-46.6221 298.858,-37.2913\"/>\n",
       "<polygon fill=\"black\" stroke=\"black\" points=\"300.608,-40.3344 308.13,-32.8729 297.597,-34.0152 300.608,-40.3344\"/>\n",
       "<text text-anchor=\"middle\" x=\"272.293\" y=\"-60.7503\" font-family=\"Times,serif\" font-size=\"14.00\">&#39;&#39;, &#39;&#39; ; &#39;&#39;</text>\n",
       "</g>\n",
       "<!-- q2&#45;&gt;q2 -->\n",
       "<g id=\"edge3\" class=\"edge\"><title>q2&#45;&gt;q2</title>\n",
       "<path fill=\"none\" stroke=\"black\" d=\"M209.768,-91.6706C207.583,-102.036 210.604,-111.901 218.83,-111.901 224.229,-111.901 227.386,-107.652 228.3,-101.802\"/>\n",
       "<polygon fill=\"black\" stroke=\"black\" points=\"231.792,-101.522 227.892,-91.6706 224.798,-101.803 231.792,-101.522\"/>\n",
       "<text text-anchor=\"middle\" x=\"218.83\" y=\"-114.701\" font-family=\"Times,serif\" font-size=\"14.00\">a, &#39;&#39; ; a</text>\n",
       "</g>\n",
       "<!-- q6&#45;&gt;q6 -->\n",
       "<g id=\"edge11\" class=\"edge\"><title>q6&#45;&gt;q6</title>\n",
       "<path fill=\"none\" stroke=\"black\" d=\"M428.621,-39.2864C426.008,-49.791 429.346,-59.9006 438.635,-59.9006 444.731,-59.9006 448.264,-55.5467 449.235,-49.5846\"/>\n",
       "<polygon fill=\"black\" stroke=\"black\" points=\"452.711,-49.0719 448.65,-39.2864 445.723,-49.4688 452.711,-49.0719\"/>\n",
       "<text text-anchor=\"middle\" x=\"438.635\" y=\"-62.7006\" font-family=\"Times,serif\" font-size=\"14.00\">c, a ; &#39;&#39;</text>\n",
       "</g>\n",
       "<!-- q7 -->\n",
       "<g id=\"node8\" class=\"node\"><title>q7</title>\n",
       "<ellipse fill=\"none\" stroke=\"black\" cx=\"555.515\" cy=\"-22.9503\" rx=\"18.9093\" ry=\"18.9093\"/>\n",
       "<ellipse fill=\"none\" stroke=\"black\" cx=\"555.515\" cy=\"-22.9503\" rx=\"22.9007\" ry=\"22.9007\"/>\n",
       "<text text-anchor=\"middle\" x=\"555.515\" y=\"-18.7503\" font-family=\"Times,serif\" font-size=\"14.00\">q7</text>\n",
       "</g>\n",
       "<!-- q6&#45;&gt;q7 -->\n",
       "<g id=\"edge12\" class=\"edge\"><title>q6&#45;&gt;q7</title>\n",
       "<path fill=\"none\" stroke=\"black\" d=\"M457.838,-22.9503C475.158,-22.9503 501.594,-22.9503 522.447,-22.9503\"/>\n",
       "<polygon fill=\"black\" stroke=\"black\" points=\"522.467,-26.4504 532.467,-22.9503 522.467,-19.4504 522.467,-26.4504\"/>\n",
       "<text text-anchor=\"middle\" x=\"497.075\" y=\"-25.7503\" font-family=\"Times,serif\" font-size=\"14.00\">&#39;&#39;, $ ; &#39;&#39;</text>\n",
       "</g>\n",
       "<!-- q4&#45;&gt;q4 -->\n",
       "<g id=\"edge8\" class=\"edge\"><title>q4&#45;&gt;q4</title>\n",
       "<path fill=\"none\" stroke=\"black\" d=\"M428.143,-135.599C426.528,-146.276 430.026,-155.901 438.635,-155.901 444.285,-155.901 447.734,-151.756 448.981,-145.889\"/>\n",
       "<polygon fill=\"black\" stroke=\"black\" points=\"452.484,-145.648 449.128,-135.599 445.485,-145.548 452.484,-145.648\"/>\n",
       "<text text-anchor=\"middle\" x=\"438.635\" y=\"-158.701\" font-family=\"Times,serif\" font-size=\"14.00\">c, &#39;&#39; ; &#39;&#39;</text>\n",
       "</g>\n",
       "</g>\n",
       "</svg>\n"
      ],
      "text/plain": [
       "<graphviz.dot.Digraph at 0x10ae2a8d0>"
      ]
     },
     "execution_count": 49,
     "metadata": {},
     "output_type": "execute_result"
    }
   ],
   "source": [
    "dotObj_pda(F27sip)"
   ]
  },
  {
   "cell_type": "code",
   "execution_count": 50,
   "metadata": {
    "run_control": {
     "frozen": false,
     "read_only": false
    }
   },
   "outputs": [
    {
     "name": "stdout",
     "output_type": "stream",
     "text": [
      "String aabcc accepted by your PDA in 1 ways :-) \n",
      "Here are the ways: \n",
      "Final state  ('q7', '', '$')\n",
      "Reached as follows:\n",
      "->  ('q1', 'aabcc', '$')\n",
      "->  ('q2', 'aabcc', '$$')\n",
      "->  ('q2', 'abcc', 'a$$')\n",
      "->  ('q2', 'bcc', 'aa$$')\n",
      "->  ('q5', 'bcc', 'aa$$')\n",
      "->  ('q5', 'cc', 'aa$$')\n",
      "->  ('q6', 'cc', 'aa$$')\n",
      "->  ('q6', 'c', 'a$$')\n",
      "->  ('q6', '', '$$')\n",
      "->  ('q7', '', '$') .\n"
     ]
    }
   ],
   "source": [
    "explore_pda(\"aabcc\",F27sip)"
   ]
  },
  {
   "cell_type": "code",
   "execution_count": 51,
   "metadata": {
    "run_control": {
     "frozen": false,
     "read_only": false
    }
   },
   "outputs": [
    {
     "data": {
      "image/svg+xml": [
       "<?xml version=\"1.0\" encoding=\"UTF-8\" standalone=\"no\"?>\n",
       "<!DOCTYPE svg PUBLIC \"-//W3C//DTD SVG 1.1//EN\"\n",
       " \"http://www.w3.org/Graphics/SVG/1.1/DTD/svg11.dtd\">\n",
       "<!-- Generated by graphviz version 2.38.0 (20140413.2041)\n",
       " -->\n",
       "<!-- Title: %3 Pages: 1 -->\n",
       "<svg width=\"663pt\" height=\"178pt\"\n",
       " viewBox=\"0.00 0.00 662.99 177.90\" xmlns=\"http://www.w3.org/2000/svg\" xmlns:xlink=\"http://www.w3.org/1999/xlink\">\n",
       "<g id=\"graph0\" class=\"graph\" transform=\"scale(1 1) rotate(0) translate(4 173.901)\">\n",
       "<title>%3</title>\n",
       "<polygon fill=\"white\" stroke=\"none\" points=\"-4,4 -4,-173.901 658.987,-173.901 658.987,4 -4,4\"/>\n",
       "<!-- EMPTY -->\n",
       "<g id=\"node1\" class=\"node\"><title>EMPTY</title>\n",
       "</g>\n",
       "<!-- q1 -->\n",
       "<g id=\"node4\" class=\"node\"><title>q1</title>\n",
       "<ellipse fill=\"none\" stroke=\"black\" cx=\"109.95\" cy=\"-74.9503\" rx=\"18.9007\" ry=\"18.9007\"/>\n",
       "<text text-anchor=\"middle\" x=\"109.95\" y=\"-70.7503\" font-family=\"Times,serif\" font-size=\"14.00\">q1</text>\n",
       "</g>\n",
       "<!-- EMPTY&#45;&gt;q1 -->\n",
       "<g id=\"edge1\" class=\"edge\"><title>EMPTY&#45;&gt;q1</title>\n",
       "<path fill=\"none\" stroke=\"black\" d=\"M54.0588,-74.9503C62.6021,-74.9503 72.1312,-74.9503 80.8208,-74.9503\"/>\n",
       "<polygon fill=\"black\" stroke=\"black\" points=\"80.8811,-78.4504 90.8811,-74.9503 80.881,-71.4504 80.8811,-78.4504\"/>\n",
       "</g>\n",
       "<!-- q3 -->\n",
       "<g id=\"node2\" class=\"node\"><title>q3</title>\n",
       "<ellipse fill=\"none\" stroke=\"black\" cx=\"364.994\" cy=\"-112.95\" rx=\"18.9007\" ry=\"18.9007\"/>\n",
       "<text text-anchor=\"middle\" x=\"364.994\" y=\"-108.75\" font-family=\"Times,serif\" font-size=\"14.00\">q3</text>\n",
       "</g>\n",
       "<!-- q3&#45;&gt;q3 -->\n",
       "<g id=\"edge6\" class=\"edge\"><title>q3&#45;&gt;q3</title>\n",
       "<path fill=\"none\" stroke=\"black\" d=\"M354.165,-128.517C350.884,-139.292 354.494,-149.901 364.994,-149.901 372.048,-149.901 375.992,-145.112 376.826,-138.701\"/>\n",
       "<polygon fill=\"black\" stroke=\"black\" points=\"380.286,-138.125 375.822,-128.517 373.32,-138.813 380.286,-138.125\"/>\n",
       "<text text-anchor=\"middle\" x=\"364.994\" y=\"-152.701\" font-family=\"Times,serif\" font-size=\"14.00\">b, a ; @</text>\n",
       "</g>\n",
       "<!-- q4 -->\n",
       "<g id=\"node7\" class=\"node\"><title>q4</title>\n",
       "<ellipse fill=\"none\" stroke=\"black\" cx=\"499.462\" cy=\"-114.95\" rx=\"18.9093\" ry=\"18.9093\"/>\n",
       "<ellipse fill=\"none\" stroke=\"black\" cx=\"499.462\" cy=\"-114.95\" rx=\"22.9007\" ry=\"22.9007\"/>\n",
       "<text text-anchor=\"middle\" x=\"499.462\" y=\"-110.75\" font-family=\"Times,serif\" font-size=\"14.00\">q4</text>\n",
       "</g>\n",
       "<!-- q3&#45;&gt;q4 -->\n",
       "<g id=\"edge7\" class=\"edge\"><title>q3&#45;&gt;q4</title>\n",
       "<path fill=\"none\" stroke=\"black\" d=\"M384.135,-113.224C405.185,-113.542 440.296,-114.072 466.065,-114.461\"/>\n",
       "<polygon fill=\"black\" stroke=\"black\" points=\"466.071,-117.962 476.122,-114.613 466.176,-110.962 466.071,-117.962\"/>\n",
       "<text text-anchor=\"middle\" x=\"430.228\" y=\"-116.75\" font-family=\"Times,serif\" font-size=\"14.00\">@, $ ; @</text>\n",
       "</g>\n",
       "<!-- q5 -->\n",
       "<g id=\"node3\" class=\"node\"><title>q5</title>\n",
       "<ellipse fill=\"none\" stroke=\"black\" cx=\"364.994\" cy=\"-24.9503\" rx=\"18.9007\" ry=\"18.9007\"/>\n",
       "<text text-anchor=\"middle\" x=\"364.994\" y=\"-20.7503\" font-family=\"Times,serif\" font-size=\"14.00\">q5</text>\n",
       "</g>\n",
       "<!-- q5&#45;&gt;q5 -->\n",
       "<g id=\"edge9\" class=\"edge\"><title>q5&#45;&gt;q5</title>\n",
       "<path fill=\"none\" stroke=\"black\" d=\"M354.165,-40.5173C350.884,-51.2918 354.494,-61.9006 364.994,-61.9006 372.048,-61.9006 375.992,-57.1116 376.826,-50.701\"/>\n",
       "<polygon fill=\"black\" stroke=\"black\" points=\"380.286,-50.1254 375.822,-40.5173 373.32,-50.8125 380.286,-50.1254\"/>\n",
       "<text text-anchor=\"middle\" x=\"364.994\" y=\"-64.7006\" font-family=\"Times,serif\" font-size=\"14.00\">b, @ ; @</text>\n",
       "</g>\n",
       "<!-- q6 -->\n",
       "<g id=\"node6\" class=\"node\"><title>q6</title>\n",
       "<ellipse fill=\"none\" stroke=\"black\" cx=\"499.462\" cy=\"-22.9503\" rx=\"18.9007\" ry=\"18.9007\"/>\n",
       "<text text-anchor=\"middle\" x=\"499.462\" y=\"-18.7503\" font-family=\"Times,serif\" font-size=\"14.00\">q6</text>\n",
       "</g>\n",
       "<!-- q5&#45;&gt;q6 -->\n",
       "<g id=\"edge10\" class=\"edge\"><title>q5&#45;&gt;q6</title>\n",
       "<path fill=\"none\" stroke=\"black\" d=\"M384.135,-24.6764C406.306,-24.3416 444.075,-23.7714 470.098,-23.3785\"/>\n",
       "<polygon fill=\"black\" stroke=\"black\" points=\"470.168,-26.878 480.114,-23.2273 470.062,-19.8788 470.168,-26.878\"/>\n",
       "<text text-anchor=\"middle\" x=\"430.228\" y=\"-27.7503\" font-family=\"Times,serif\" font-size=\"14.00\">@, @ ; @</text>\n",
       "</g>\n",
       "<!-- q2 -->\n",
       "<g id=\"node5\" class=\"node\"><title>q2</title>\n",
       "<ellipse fill=\"none\" stroke=\"black\" cx=\"234.526\" cy=\"-74.9503\" rx=\"18.9007\" ry=\"18.9007\"/>\n",
       "<text text-anchor=\"middle\" x=\"234.526\" y=\"-70.7503\" font-family=\"Times,serif\" font-size=\"14.00\">q2</text>\n",
       "</g>\n",
       "<!-- q1&#45;&gt;q2 -->\n",
       "<g id=\"edge2\" class=\"edge\"><title>q1&#45;&gt;q2</title>\n",
       "<path fill=\"none\" stroke=\"black\" d=\"M129.037,-74.9503C149.134,-74.9503 181.84,-74.9503 205.31,-74.9503\"/>\n",
       "<polygon fill=\"black\" stroke=\"black\" points=\"205.365,-78.4504 215.365,-74.9503 205.365,-71.4504 205.365,-78.4504\"/>\n",
       "<text text-anchor=\"middle\" x=\"172.238\" y=\"-77.7503\" font-family=\"Times,serif\" font-size=\"14.00\">@, @ ; $</text>\n",
       "</g>\n",
       "<!-- q2&#45;&gt;q3 -->\n",
       "<g id=\"edge4\" class=\"edge\"><title>q2&#45;&gt;q3</title>\n",
       "<path fill=\"none\" stroke=\"black\" d=\"M252.851,-80.0751C274.401,-86.4495 311.439,-97.405 336.79,-104.904\"/>\n",
       "<polygon fill=\"black\" stroke=\"black\" points=\"335.95,-108.305 346.532,-107.785 337.936,-101.592 335.95,-108.305\"/>\n",
       "<text text-anchor=\"middle\" x=\"299.76\" y=\"-103.75\" font-family=\"Times,serif\" font-size=\"14.00\">@, @ ; @</text>\n",
       "</g>\n",
       "<!-- q2&#45;&gt;q5 -->\n",
       "<g id=\"edge5\" class=\"edge\"><title>q2&#45;&gt;q5</title>\n",
       "<path fill=\"none\" stroke=\"black\" d=\"M252.321,-68.4137C274.056,-59.9541 312.165,-45.1219 337.74,-35.1682\"/>\n",
       "<polygon fill=\"black\" stroke=\"black\" points=\"339.145,-38.3773 347.195,-31.4885 336.606,-31.8539 339.145,-38.3773\"/>\n",
       "<text text-anchor=\"middle\" x=\"299.76\" y=\"-62.7503\" font-family=\"Times,serif\" font-size=\"14.00\">@, @ ; @</text>\n",
       "</g>\n",
       "<!-- q2&#45;&gt;q2 -->\n",
       "<g id=\"edge3\" class=\"edge\"><title>q2&#45;&gt;q2</title>\n",
       "<path fill=\"none\" stroke=\"black\" d=\"M223.925,-90.902C220.941,-101.543 224.475,-111.901 234.526,-111.901 241.279,-111.901 245.089,-107.225 245.958,-100.929\"/>\n",
       "<polygon fill=\"black\" stroke=\"black\" points=\"249.441,-100.578 245.126,-90.902 242.465,-101.157 249.441,-100.578\"/>\n",
       "<text text-anchor=\"middle\" x=\"234.526\" y=\"-114.701\" font-family=\"Times,serif\" font-size=\"14.00\">a, @ ; a</text>\n",
       "</g>\n",
       "<!-- q6&#45;&gt;q6 -->\n",
       "<g id=\"edge11\" class=\"edge\"><title>q6&#45;&gt;q6</title>\n",
       "<path fill=\"none\" stroke=\"black\" d=\"M488.295,-38.5173C484.911,-49.2918 488.633,-59.9006 499.462,-59.9006 506.737,-59.9006 510.804,-55.1116 511.664,-48.701\"/>\n",
       "<polygon fill=\"black\" stroke=\"black\" points=\"515.122,-48.1118 510.628,-38.5173 508.158,-48.8201 515.122,-48.1118\"/>\n",
       "<text text-anchor=\"middle\" x=\"499.462\" y=\"-62.7006\" font-family=\"Times,serif\" font-size=\"14.00\">c, a ; @</text>\n",
       "</g>\n",
       "<!-- q7 -->\n",
       "<g id=\"node8\" class=\"node\"><title>q7</title>\n",
       "<ellipse fill=\"none\" stroke=\"black\" cx=\"632.037\" cy=\"-22.9503\" rx=\"18.9093\" ry=\"18.9093\"/>\n",
       "<ellipse fill=\"none\" stroke=\"black\" cx=\"632.037\" cy=\"-22.9503\" rx=\"22.9007\" ry=\"22.9007\"/>\n",
       "<text text-anchor=\"middle\" x=\"632.037\" y=\"-18.7503\" font-family=\"Times,serif\" font-size=\"14.00\">q7</text>\n",
       "</g>\n",
       "<!-- q6&#45;&gt;q7 -->\n",
       "<g id=\"edge12\" class=\"edge\"><title>q6&#45;&gt;q7</title>\n",
       "<path fill=\"none\" stroke=\"black\" d=\"M518.618,-22.9503C539.22,-22.9503 573.229,-22.9503 598.456,-22.9503\"/>\n",
       "<polygon fill=\"black\" stroke=\"black\" points=\"598.664,-26.4504 608.664,-22.9503 598.664,-19.4504 598.664,-26.4504\"/>\n",
       "<text text-anchor=\"middle\" x=\"565.749\" y=\"-25.7503\" font-family=\"Times,serif\" font-size=\"14.00\">@, $ ; @</text>\n",
       "</g>\n",
       "<!-- q4&#45;&gt;q4 -->\n",
       "<g id=\"edge8\" class=\"edge\"><title>q4&#45;&gt;q4</title>\n",
       "<path fill=\"none\" stroke=\"black\" d=\"M487.679,-134.754C485.479,-145.763 489.407,-155.901 499.462,-155.901 506.217,-155.901 510.207,-151.324 511.43,-144.982\"/>\n",
       "<polygon fill=\"black\" stroke=\"black\" points=\"514.926,-144.689 511.244,-134.754 507.927,-144.816 514.926,-144.689\"/>\n",
       "<text text-anchor=\"middle\" x=\"499.462\" y=\"-158.701\" font-family=\"Times,serif\" font-size=\"14.00\">c, @ ; @</text>\n",
       "</g>\n",
       "</g>\n",
       "</svg>\n"
      ],
      "text/plain": [
       "<graphviz.dot.Digraph at 0x10ae2ab70>"
      ]
     },
     "execution_count": 51,
     "metadata": {},
     "output_type": "execute_result"
    }
   ],
   "source": [
    "dotObj_pda(F27sip, visible_eps=True)"
   ]
  },
  {
   "cell_type": "code",
   "execution_count": 52,
   "metadata": {
    "run_control": {
     "frozen": false,
     "read_only": false
    }
   },
   "outputs": [
    {
     "data": {
      "image/svg+xml": [
       "<?xml version=\"1.0\" encoding=\"UTF-8\" standalone=\"no\"?>\n",
       "<!DOCTYPE svg PUBLIC \"-//W3C//DTD SVG 1.1//EN\"\n",
       " \"http://www.w3.org/Graphics/SVG/1.1/DTD/svg11.dtd\">\n",
       "<!-- Generated by graphviz version 2.38.0 (20140413.2041)\n",
       " -->\n",
       "<!-- Title: %3 Pages: 1 -->\n",
       "<svg width=\"586pt\" height=\"178pt\"\n",
       " viewBox=\"0.00 0.00 586.47 177.90\" xmlns=\"http://www.w3.org/2000/svg\" xmlns:xlink=\"http://www.w3.org/1999/xlink\">\n",
       "<g id=\"graph0\" class=\"graph\" transform=\"scale(1 1) rotate(0) translate(4 173.901)\">\n",
       "<title>%3</title>\n",
       "<polygon fill=\"white\" stroke=\"none\" points=\"-4,4 -4,-173.901 582.466,-173.901 582.466,4 -4,4\"/>\n",
       "<!-- EMPTY -->\n",
       "<g id=\"node1\" class=\"node\"><title>EMPTY</title>\n",
       "</g>\n",
       "<!-- q1 -->\n",
       "<g id=\"node4\" class=\"node\"><title>q1</title>\n",
       "<ellipse fill=\"none\" stroke=\"black\" cx=\"109.95\" cy=\"-74.9503\" rx=\"18.9007\" ry=\"18.9007\"/>\n",
       "<text text-anchor=\"middle\" x=\"109.95\" y=\"-70.7503\" font-family=\"Times,serif\" font-size=\"14.00\">q1</text>\n",
       "</g>\n",
       "<!-- EMPTY&#45;&gt;q1 -->\n",
       "<g id=\"edge1\" class=\"edge\"><title>EMPTY&#45;&gt;q1</title>\n",
       "<path fill=\"none\" stroke=\"black\" d=\"M54.0588,-74.9503C62.6021,-74.9503 72.1312,-74.9503 80.8208,-74.9503\"/>\n",
       "<polygon fill=\"black\" stroke=\"black\" points=\"80.8811,-78.4504 90.8811,-74.9503 80.881,-71.4504 80.8811,-78.4504\"/>\n",
       "</g>\n",
       "<!-- q3 -->\n",
       "<g id=\"node2\" class=\"node\"><title>q3</title>\n",
       "<ellipse fill=\"none\" stroke=\"black\" cx=\"325.755\" cy=\"-112.95\" rx=\"18.9007\" ry=\"18.9007\"/>\n",
       "<text text-anchor=\"middle\" x=\"325.755\" y=\"-108.75\" font-family=\"Times,serif\" font-size=\"14.00\">q3</text>\n",
       "</g>\n",
       "<!-- q3&#45;&gt;q3 -->\n",
       "<g id=\"edge6\" class=\"edge\"><title>q3&#45;&gt;q3</title>\n",
       "<path fill=\"none\" stroke=\"black\" d=\"M316.693,-129.671C314.508,-140.036 317.529,-149.901 325.755,-149.901 331.154,-149.901 334.311,-145.652 335.225,-139.802\"/>\n",
       "<polygon fill=\"black\" stroke=\"black\" points=\"338.717,-139.522 334.817,-129.671 331.723,-139.803 338.717,-139.522\"/>\n",
       "<text text-anchor=\"middle\" x=\"325.755\" y=\"-152.701\" font-family=\"Times,serif\" font-size=\"14.00\">b, a ; &#39;&#39;</text>\n",
       "</g>\n",
       "<!-- q4 -->\n",
       "<g id=\"node7\" class=\"node\"><title>q4</title>\n",
       "<ellipse fill=\"none\" stroke=\"black\" cx=\"438.635\" cy=\"-114.95\" rx=\"18.9093\" ry=\"18.9093\"/>\n",
       "<ellipse fill=\"none\" stroke=\"black\" cx=\"438.635\" cy=\"-114.95\" rx=\"22.9007\" ry=\"22.9007\"/>\n",
       "<text text-anchor=\"middle\" x=\"438.635\" y=\"-110.75\" font-family=\"Times,serif\" font-size=\"14.00\">q4</text>\n",
       "</g>\n",
       "<!-- q3&#45;&gt;q4 -->\n",
       "<g id=\"edge7\" class=\"edge\"><title>q3&#45;&gt;q4</title>\n",
       "<path fill=\"none\" stroke=\"black\" d=\"M345.065,-113.281C361.437,-113.576 385.803,-114.015 405.428,-114.369\"/>\n",
       "<polygon fill=\"black\" stroke=\"black\" points=\"405.415,-117.87 415.476,-114.551 405.541,-110.871 405.415,-117.87\"/>\n",
       "<text text-anchor=\"middle\" x=\"380.195\" y=\"-116.75\" font-family=\"Times,serif\" font-size=\"14.00\">&#39;&#39;, $ ; &#39;&#39;</text>\n",
       "</g>\n",
       "<!-- q5 -->\n",
       "<g id=\"node3\" class=\"node\"><title>q5</title>\n",
       "<ellipse fill=\"none\" stroke=\"black\" cx=\"325.755\" cy=\"-24.9503\" rx=\"18.9007\" ry=\"18.9007\"/>\n",
       "<text text-anchor=\"middle\" x=\"325.755\" y=\"-20.7503\" font-family=\"Times,serif\" font-size=\"14.00\">q5</text>\n",
       "</g>\n",
       "<!-- q5&#45;&gt;q5 -->\n",
       "<g id=\"edge9\" class=\"edge\"><title>q5&#45;&gt;q5</title>\n",
       "<path fill=\"none\" stroke=\"black\" d=\"M316.693,-41.6706C314.508,-52.036 317.529,-61.9006 325.755,-61.9006 331.154,-61.9006 334.311,-57.6523 335.225,-51.802\"/>\n",
       "<polygon fill=\"black\" stroke=\"black\" points=\"338.717,-51.5216 334.817,-41.6706 331.723,-51.8033 338.717,-51.5216\"/>\n",
       "<text text-anchor=\"middle\" x=\"325.755\" y=\"-64.7006\" font-family=\"Times,serif\" font-size=\"14.00\">b, &#39;&#39; ; &#39;&#39;</text>\n",
       "</g>\n",
       "<!-- q6 -->\n",
       "<g id=\"node6\" class=\"node\"><title>q6</title>\n",
       "<ellipse fill=\"none\" stroke=\"black\" cx=\"438.635\" cy=\"-22.9503\" rx=\"18.9007\" ry=\"18.9007\"/>\n",
       "<text text-anchor=\"middle\" x=\"438.635\" y=\"-18.7503\" font-family=\"Times,serif\" font-size=\"14.00\">q6</text>\n",
       "</g>\n",
       "<!-- q5&#45;&gt;q6 -->\n",
       "<g id=\"edge10\" class=\"edge\"><title>q5&#45;&gt;q6</title>\n",
       "<path fill=\"none\" stroke=\"black\" d=\"M345.065,-24.62C362.584,-24.304 389.257,-23.8229 409.479,-23.4582\"/>\n",
       "<polygon fill=\"black\" stroke=\"black\" points=\"409.731,-26.9543 419.667,-23.2744 409.605,-19.9554 409.731,-26.9543\"/>\n",
       "<text text-anchor=\"middle\" x=\"380.195\" y=\"-27.7503\" font-family=\"Times,serif\" font-size=\"14.00\">&#39;&#39;, &#39;&#39; ; &#39;&#39;</text>\n",
       "</g>\n",
       "<!-- q2 -->\n",
       "<g id=\"node5\" class=\"node\"><title>q2</title>\n",
       "<ellipse fill=\"none\" stroke=\"black\" cx=\"218.83\" cy=\"-74.9503\" rx=\"18.9007\" ry=\"18.9007\"/>\n",
       "<text text-anchor=\"middle\" x=\"218.83\" y=\"-70.7503\" font-family=\"Times,serif\" font-size=\"14.00\">q2</text>\n",
       "</g>\n",
       "<!-- q1&#45;&gt;q2 -->\n",
       "<g id=\"edge2\" class=\"edge\"><title>q1&#45;&gt;q2</title>\n",
       "<path fill=\"none\" stroke=\"black\" d=\"M129.081,-74.9503C145.587,-74.9503 170.228,-74.9503 189.361,-74.9503\"/>\n",
       "<polygon fill=\"black\" stroke=\"black\" points=\"189.611,-78.4504 199.611,-74.9503 189.611,-71.4504 189.611,-78.4504\"/>\n",
       "<text text-anchor=\"middle\" x=\"164.39\" y=\"-77.7503\" font-family=\"Times,serif\" font-size=\"14.00\">&#39;&#39;, &#39;&#39; ; $</text>\n",
       "</g>\n",
       "<!-- q2&#45;&gt;q3 -->\n",
       "<g id=\"edge4\" class=\"edge\"><title>q2&#45;&gt;q3</title>\n",
       "<path fill=\"none\" stroke=\"black\" d=\"M237.157,-81.2252C253.734,-87.2291 278.975,-96.3704 298.111,-103.301\"/>\n",
       "<polygon fill=\"black\" stroke=\"black\" points=\"297.157,-106.678 307.752,-106.792 299.541,-100.096 297.157,-106.678\"/>\n",
       "<text text-anchor=\"middle\" x=\"272.293\" y=\"-101.75\" font-family=\"Times,serif\" font-size=\"14.00\">&#39;&#39;, &#39;&#39; ; &#39;&#39;</text>\n",
       "</g>\n",
       "<!-- q2&#45;&gt;q5 -->\n",
       "<g id=\"edge5\" class=\"edge\"><title>q2&#45;&gt;q5</title>\n",
       "<path fill=\"none\" stroke=\"black\" d=\"M236.225,-67.1378C252.989,-59.1491 279.277,-46.6221 298.858,-37.2913\"/>\n",
       "<polygon fill=\"black\" stroke=\"black\" points=\"300.608,-40.3344 308.13,-32.8729 297.597,-34.0152 300.608,-40.3344\"/>\n",
       "<text text-anchor=\"middle\" x=\"272.293\" y=\"-60.7503\" font-family=\"Times,serif\" font-size=\"14.00\">&#39;&#39;, &#39;&#39; ; &#39;&#39;</text>\n",
       "</g>\n",
       "<!-- q2&#45;&gt;q2 -->\n",
       "<g id=\"edge3\" class=\"edge\"><title>q2&#45;&gt;q2</title>\n",
       "<path fill=\"none\" stroke=\"black\" d=\"M209.768,-91.6706C207.583,-102.036 210.604,-111.901 218.83,-111.901 224.229,-111.901 227.386,-107.652 228.3,-101.802\"/>\n",
       "<polygon fill=\"black\" stroke=\"black\" points=\"231.792,-101.522 227.892,-91.6706 224.798,-101.803 231.792,-101.522\"/>\n",
       "<text text-anchor=\"middle\" x=\"218.83\" y=\"-114.701\" font-family=\"Times,serif\" font-size=\"14.00\">a, &#39;&#39; ; a</text>\n",
       "</g>\n",
       "<!-- q6&#45;&gt;q6 -->\n",
       "<g id=\"edge11\" class=\"edge\"><title>q6&#45;&gt;q6</title>\n",
       "<path fill=\"none\" stroke=\"black\" d=\"M428.621,-39.2864C426.008,-49.791 429.346,-59.9006 438.635,-59.9006 444.731,-59.9006 448.264,-55.5467 449.235,-49.5846\"/>\n",
       "<polygon fill=\"black\" stroke=\"black\" points=\"452.711,-49.0719 448.65,-39.2864 445.723,-49.4688 452.711,-49.0719\"/>\n",
       "<text text-anchor=\"middle\" x=\"438.635\" y=\"-62.7006\" font-family=\"Times,serif\" font-size=\"14.00\">c, a ; &#39;&#39;</text>\n",
       "</g>\n",
       "<!-- q7 -->\n",
       "<g id=\"node8\" class=\"node\"><title>q7</title>\n",
       "<ellipse fill=\"none\" stroke=\"black\" cx=\"555.515\" cy=\"-22.9503\" rx=\"18.9093\" ry=\"18.9093\"/>\n",
       "<ellipse fill=\"none\" stroke=\"black\" cx=\"555.515\" cy=\"-22.9503\" rx=\"22.9007\" ry=\"22.9007\"/>\n",
       "<text text-anchor=\"middle\" x=\"555.515\" y=\"-18.7503\" font-family=\"Times,serif\" font-size=\"14.00\">q7</text>\n",
       "</g>\n",
       "<!-- q6&#45;&gt;q7 -->\n",
       "<g id=\"edge12\" class=\"edge\"><title>q6&#45;&gt;q7</title>\n",
       "<path fill=\"none\" stroke=\"black\" d=\"M457.838,-22.9503C475.158,-22.9503 501.594,-22.9503 522.447,-22.9503\"/>\n",
       "<polygon fill=\"black\" stroke=\"black\" points=\"522.467,-26.4504 532.467,-22.9503 522.467,-19.4504 522.467,-26.4504\"/>\n",
       "<text text-anchor=\"middle\" x=\"497.075\" y=\"-25.7503\" font-family=\"Times,serif\" font-size=\"14.00\">&#39;&#39;, $ ; &#39;&#39;</text>\n",
       "</g>\n",
       "<!-- q4&#45;&gt;q4 -->\n",
       "<g id=\"edge8\" class=\"edge\"><title>q4&#45;&gt;q4</title>\n",
       "<path fill=\"none\" stroke=\"black\" d=\"M428.143,-135.599C426.528,-146.276 430.026,-155.901 438.635,-155.901 444.285,-155.901 447.734,-151.756 448.981,-145.889\"/>\n",
       "<polygon fill=\"black\" stroke=\"black\" points=\"452.484,-145.648 449.128,-135.599 445.485,-145.548 452.484,-145.648\"/>\n",
       "<text text-anchor=\"middle\" x=\"438.635\" y=\"-158.701\" font-family=\"Times,serif\" font-size=\"14.00\">c, &#39;&#39; ; &#39;&#39;</text>\n",
       "</g>\n",
       "</g>\n",
       "</svg>\n"
      ],
      "text/plain": [
       "<graphviz.dot.Digraph at 0x10ae2a208>"
      ]
     },
     "execution_count": 52,
     "metadata": {},
     "output_type": "execute_result"
    }
   ],
   "source": [
    "dotObj_pda(F27sip, visible_eps=False)"
   ]
  },
  {
   "cell_type": "code",
   "execution_count": 53,
   "metadata": {
    "run_control": {
     "frozen": false,
     "read_only": false
    }
   },
   "outputs": [],
   "source": [
    "onestpda = {\"Sigma\" : {'a','b','c'},\n",
    "        \"Q\"     : { \"q7\"},\n",
    "        \"Gamma\" : { 'a','b','c','$'},\n",
    "        \"Delta\" : { \n",
    "                   ('q7','',''): {('q7','aa')}\n",
    "                  },\n",
    "        \"q0\"    : \"q7\",\n",
    "        \"z0\"    : \"$\",\n",
    "        \"F\"     : set({ }) }\n",
    "chk_consistent_pda(onestpda)"
   ]
  },
  {
   "cell_type": "code",
   "execution_count": 54,
   "metadata": {
    "run_control": {
     "frozen": false,
     "read_only": false
    }
   },
   "outputs": [
    {
     "data": {
      "image/svg+xml": [
       "<?xml version=\"1.0\" encoding=\"UTF-8\" standalone=\"no\"?>\n",
       "<!DOCTYPE svg PUBLIC \"-//W3C//DTD SVG 1.1//EN\"\n",
       " \"http://www.w3.org/Graphics/SVG/1.1/DTD/svg11.dtd\">\n",
       "<!-- Generated by graphviz version 2.38.0 (20140413.2041)\n",
       " -->\n",
       "<!-- Title: %3 Pages: 1 -->\n",
       "<svg width=\"138pt\" height=\"78pt\"\n",
       " viewBox=\"0.00 0.00 138.15 77.90\" xmlns=\"http://www.w3.org/2000/svg\" xmlns:xlink=\"http://www.w3.org/1999/xlink\">\n",
       "<g id=\"graph0\" class=\"graph\" transform=\"scale(1 1) rotate(0) translate(4 73.9006)\">\n",
       "<title>%3</title>\n",
       "<polygon fill=\"white\" stroke=\"none\" points=\"-4,4 -4,-73.9006 134.154,-73.9006 134.154,4 -4,4\"/>\n",
       "<!-- EMPTY -->\n",
       "<g id=\"node1\" class=\"node\"><title>EMPTY</title>\n",
       "</g>\n",
       "<!-- q7 -->\n",
       "<g id=\"node2\" class=\"node\"><title>q7</title>\n",
       "<ellipse fill=\"none\" stroke=\"black\" cx=\"109.95\" cy=\"-18.9503\" rx=\"18.9007\" ry=\"18.9007\"/>\n",
       "<text text-anchor=\"middle\" x=\"109.95\" y=\"-14.7503\" font-family=\"Times,serif\" font-size=\"14.00\">q7</text>\n",
       "</g>\n",
       "<!-- EMPTY&#45;&gt;q7 -->\n",
       "<g id=\"edge1\" class=\"edge\"><title>EMPTY&#45;&gt;q7</title>\n",
       "<path fill=\"none\" stroke=\"black\" d=\"M54.0588,-18.9503C62.6021,-18.9503 72.1312,-18.9503 80.8208,-18.9503\"/>\n",
       "<polygon fill=\"black\" stroke=\"black\" points=\"80.8811,-22.4504 90.8811,-18.9503 80.881,-15.4504 80.8811,-22.4504\"/>\n",
       "</g>\n",
       "<!-- q7&#45;&gt;q7 -->\n",
       "<g id=\"edge2\" class=\"edge\"><title>q7&#45;&gt;q7</title>\n",
       "<path fill=\"none\" stroke=\"black\" d=\"M103.523,-36.8197C102.324,-46.7532 104.466,-55.9006 109.95,-55.9006 113.464,-55.9006 115.606,-52.1465 116.376,-46.8366\"/>\n",
       "<polygon fill=\"black\" stroke=\"black\" points=\"119.876,-46.8203 116.377,-36.8197 112.876,-46.8192 119.876,-46.8203\"/>\n",
       "<text text-anchor=\"middle\" x=\"109.95\" y=\"-58.7006\" font-family=\"Times,serif\" font-size=\"14.00\">&#39;&#39;, &#39;&#39; ; aa</text>\n",
       "</g>\n",
       "</g>\n",
       "</svg>\n"
      ],
      "text/plain": [
       "<graphviz.dot.Digraph at 0x10ae2a588>"
      ]
     },
     "execution_count": 54,
     "metadata": {},
     "output_type": "execute_result"
    }
   ],
   "source": [
    "dotObj_pda(onestpda)"
   ]
  },
  {
   "cell_type": "code",
   "execution_count": 55,
   "metadata": {
    "run_control": {
     "frozen": false,
     "read_only": false
    }
   },
   "outputs": [
    {
     "name": "stdout",
     "output_type": "stream",
     "text": [
      "String a rejected by your PDA :-(\n",
      "Visited states are:\n",
      "[('q7', 'a', '$')]\n"
     ]
    }
   ],
   "source": [
    "explore_pda(\"a\",onestpda)"
   ]
  },
  {
   "cell_type": "code",
   "execution_count": 56,
   "metadata": {
    "run_control": {
     "frozen": false,
     "read_only": false
    }
   },
   "outputs": [
    {
     "name": "stdout",
     "output_type": "stream",
     "text": [
      "String aabbcc accepted by your PDA in 2 ways :-) \n",
      "Here are the ways: \n",
      "Final state  ('q4', '', '$')\n",
      "Reached as follows:\n",
      "->  ('q1', 'aabbcc', '$')\n",
      "->  ('q2', 'aabbcc', '$$')\n",
      "->  ('q2', 'abbcc', 'a$$')\n",
      "->  ('q2', 'bbcc', 'aa$$')\n",
      "->  ('q3', 'bbcc', 'aa$$')\n",
      "->  ('q3', 'bcc', 'a$$')\n",
      "->  ('q3', 'cc', '$$')\n",
      "->  ('q4', 'cc', '$')\n",
      "->  ('q4', 'c', '$')\n",
      "->  ('q4', '', '$') .\n",
      "Final state  ('q7', '', '$')\n",
      "Reached as follows:\n",
      "->  ('q1', 'aabbcc', '$')\n",
      "->  ('q2', 'aabbcc', '$$')\n",
      "->  ('q2', 'abbcc', 'a$$')\n",
      "->  ('q2', 'bbcc', 'aa$$')\n",
      "->  ('q5', 'bbcc', 'aa$$')\n",
      "->  ('q5', 'bcc', 'aa$$')\n",
      "->  ('q5', 'cc', 'aa$$')\n",
      "->  ('q6', 'cc', 'aa$$')\n",
      "->  ('q6', 'c', 'a$$')\n",
      "->  ('q6', '', '$$')\n",
      "->  ('q7', '', '$') .\n"
     ]
    }
   ],
   "source": [
    "explore_pda(\"aabbcc\",F27sip)"
   ]
  },
  {
   "cell_type": "code",
   "execution_count": 57,
   "metadata": {
    "run_control": {
     "frozen": false,
     "read_only": false
    }
   },
   "outputs": [
    {
     "name": "stdout",
     "output_type": "stream",
     "text": [
      "String aaabbbccc accepted by your PDA in 2 ways :-) \n",
      "Here are the ways: \n",
      "Final state  ('q4', '', '$')\n",
      "Reached as follows:\n",
      "->  ('q1', 'aaabbbccc', '$')\n",
      "->  ('q2', 'aaabbbccc', '$$')\n",
      "->  ('q2', 'aabbbccc', 'a$$')\n",
      "->  ('q2', 'abbbccc', 'aa$$')\n",
      "->  ('q2', 'bbbccc', 'aaa$$')\n",
      "->  ('q3', 'bbbccc', 'aaa$$')\n",
      "->  ('q3', 'bbccc', 'aa$$')\n",
      "->  ('q3', 'bccc', 'a$$')\n",
      "->  ('q3', 'ccc', '$$')\n",
      "->  ('q4', 'ccc', '$')\n",
      "->  ('q4', 'cc', '$')\n",
      "->  ('q4', 'c', '$')\n",
      "->  ('q4', '', '$') .\n",
      "Final state  ('q7', '', '$')\n",
      "Reached as follows:\n",
      "->  ('q1', 'aaabbbccc', '$')\n",
      "->  ('q2', 'aaabbbccc', '$$')\n",
      "->  ('q2', 'aabbbccc', 'a$$')\n",
      "->  ('q2', 'abbbccc', 'aa$$')\n",
      "->  ('q2', 'bbbccc', 'aaa$$')\n",
      "->  ('q5', 'bbbccc', 'aaa$$')\n",
      "->  ('q5', 'bbccc', 'aaa$$')\n",
      "->  ('q5', 'bccc', 'aaa$$')\n",
      "->  ('q5', 'ccc', 'aaa$$')\n",
      "->  ('q6', 'ccc', 'aaa$$')\n",
      "->  ('q6', 'cc', 'aa$$')\n",
      "->  ('q6', 'c', 'a$$')\n",
      "->  ('q6', '', '$$')\n",
      "->  ('q7', '', '$') .\n"
     ]
    }
   ],
   "source": [
    "explore_pda(\"aaabbbccc\",F27sip)"
   ]
  },
  {
   "cell_type": "code",
   "execution_count": 58,
   "metadata": {
    "run_control": {
     "frozen": false,
     "read_only": false
    }
   },
   "outputs": [],
   "source": [
    "onestpda1 = {\"Sigma\" : {'a','b','c'},\n",
    "        \"Q\"     : { \"q7\"},\n",
    "        \"Gamma\" : { 'a','b','c','$'},\n",
    "        \"Delta\" : { \n",
    "                   ('q7','',''): {('q7','aa')}\n",
    "                  },\n",
    "        \"q0\"    : \"q7\",\n",
    "        \"z0\"    : \"$\",\n",
    "        \"F\"     : set({ }) }\n",
    "chk_consistent_pda(onestpda1)"
   ]
  },
  {
   "cell_type": "code",
   "execution_count": 59,
   "metadata": {
    "run_control": {
     "frozen": false,
     "read_only": false
    }
   },
   "outputs": [
    {
     "data": {
      "image/svg+xml": [
       "<?xml version=\"1.0\" encoding=\"UTF-8\" standalone=\"no\"?>\n",
       "<!DOCTYPE svg PUBLIC \"-//W3C//DTD SVG 1.1//EN\"\n",
       " \"http://www.w3.org/Graphics/SVG/1.1/DTD/svg11.dtd\">\n",
       "<!-- Generated by graphviz version 2.38.0 (20140413.2041)\n",
       " -->\n",
       "<!-- Title: %3 Pages: 1 -->\n",
       "<svg width=\"138pt\" height=\"78pt\"\n",
       " viewBox=\"0.00 0.00 138.15 77.90\" xmlns=\"http://www.w3.org/2000/svg\" xmlns:xlink=\"http://www.w3.org/1999/xlink\">\n",
       "<g id=\"graph0\" class=\"graph\" transform=\"scale(1 1) rotate(0) translate(4 73.9006)\">\n",
       "<title>%3</title>\n",
       "<polygon fill=\"white\" stroke=\"none\" points=\"-4,4 -4,-73.9006 134.154,-73.9006 134.154,4 -4,4\"/>\n",
       "<!-- EMPTY -->\n",
       "<g id=\"node1\" class=\"node\"><title>EMPTY</title>\n",
       "</g>\n",
       "<!-- q7 -->\n",
       "<g id=\"node2\" class=\"node\"><title>q7</title>\n",
       "<ellipse fill=\"none\" stroke=\"black\" cx=\"109.95\" cy=\"-18.9503\" rx=\"18.9007\" ry=\"18.9007\"/>\n",
       "<text text-anchor=\"middle\" x=\"109.95\" y=\"-14.7503\" font-family=\"Times,serif\" font-size=\"14.00\">q7</text>\n",
       "</g>\n",
       "<!-- EMPTY&#45;&gt;q7 -->\n",
       "<g id=\"edge1\" class=\"edge\"><title>EMPTY&#45;&gt;q7</title>\n",
       "<path fill=\"none\" stroke=\"black\" d=\"M54.0588,-18.9503C62.6021,-18.9503 72.1312,-18.9503 80.8208,-18.9503\"/>\n",
       "<polygon fill=\"black\" stroke=\"black\" points=\"80.8811,-22.4504 90.8811,-18.9503 80.881,-15.4504 80.8811,-22.4504\"/>\n",
       "</g>\n",
       "<!-- q7&#45;&gt;q7 -->\n",
       "<g id=\"edge2\" class=\"edge\"><title>q7&#45;&gt;q7</title>\n",
       "<path fill=\"none\" stroke=\"black\" d=\"M103.523,-36.8197C102.324,-46.7532 104.466,-55.9006 109.95,-55.9006 113.464,-55.9006 115.606,-52.1465 116.376,-46.8366\"/>\n",
       "<polygon fill=\"black\" stroke=\"black\" points=\"119.876,-46.8203 116.377,-36.8197 112.876,-46.8192 119.876,-46.8203\"/>\n",
       "<text text-anchor=\"middle\" x=\"109.95\" y=\"-58.7006\" font-family=\"Times,serif\" font-size=\"14.00\">&#39;&#39;, &#39;&#39; ; aa</text>\n",
       "</g>\n",
       "</g>\n",
       "</svg>\n"
      ],
      "text/plain": [
       "<graphviz.dot.Digraph at 0x10ae40208>"
      ]
     },
     "execution_count": 59,
     "metadata": {},
     "output_type": "execute_result"
    }
   ],
   "source": [
    "dotObj_pda(onestpda1)"
   ]
  },
  {
   "cell_type": "code",
   "execution_count": 60,
   "metadata": {
    "run_control": {
     "frozen": false,
     "read_only": false
    }
   },
   "outputs": [
    {
     "name": "stdout",
     "output_type": "stream",
     "text": [
      "String  rejected by your PDA :-(\n",
      "Visited states are:\n",
      "[('q7', '', '$')]\n"
     ]
    }
   ],
   "source": [
    "explore_pda(\"\",onestpda1, \"ACCEPT_S\")"
   ]
  },
  {
   "cell_type": "code",
   "execution_count": 61,
   "metadata": {
    "run_control": {
     "frozen": false,
     "read_only": false
    }
   },
   "outputs": [
    {
     "name": "stdout",
     "output_type": "stream",
     "text": [
      "terminal_id_path =  [(('q7', '', 'aa$'), [('q7', '', '$')])]\n",
      "final_id_path =  []\n",
      "visited_ids =  [('q7', '', '$')]\n",
      "String  rejected by your PDA :-(\n",
      "Visited states are:\n",
      "[('q7', '', '$')]\n"
     ]
    }
   ],
   "source": [
    "explore_pda(\"\",onestpda1, \"ACCEPT_S\", chatty=True)"
   ]
  },
  {
   "cell_type": "code",
   "execution_count": 62,
   "metadata": {
    "run_control": {
     "frozen": false,
     "read_only": false
    }
   },
   "outputs": [
    {
     "name": "stdout",
     "output_type": "stream",
     "text": [
      "String  rejected by your PDA :-(\n",
      "Visited states are:\n",
      "[('q7', '', '$')]\n"
     ]
    }
   ],
   "source": [
    "explore_pda(\"\",onestpda1, \"ACCEPT_F\")"
   ]
  },
  {
   "cell_type": "code",
   "execution_count": null,
   "metadata": {
    "run_control": {
     "frozen": false,
     "read_only": false
    }
   },
   "outputs": [],
   "source": []
  },
  {
   "cell_type": "code",
   "execution_count": 63,
   "metadata": {
    "run_control": {
     "frozen": false,
     "read_only": false
    }
   },
   "outputs": [
    {
     "data": {
      "text/plain": [
       "([(('q7', '', 'aa$'), [('q7', '', '$')])], [], [('q7', '', '$')])"
      ]
     },
     "execution_count": 63,
     "metadata": {},
     "output_type": "execute_result"
    }
   ],
   "source": [
    "run_pda(\"\",onestpda1, \"ACCEPT_S\", chatty=False)"
   ]
  },
  {
   "cell_type": "code",
   "execution_count": 64,
   "metadata": {
    "run_control": {
     "frozen": false,
     "read_only": false
    }
   },
   "outputs": [
    {
     "name": "stdout",
     "output_type": "stream",
     "text": [
      "terminal_id_path =  [(('q7', '', 'aa$'), [('q7', '', '$')])]\n",
      "final_id_path =  []\n",
      "visited_ids =  [('q7', '', '$')]\n"
     ]
    },
    {
     "data": {
      "text/plain": [
       "([(('q7', '', 'aa$'), [('q7', '', '$')])], [], [('q7', '', '$')])"
      ]
     },
     "execution_count": 64,
     "metadata": {},
     "output_type": "execute_result"
    }
   ],
   "source": [
    "run_pda(\"\",onestpda1, \"ACCEPT_S\", chatty=True)"
   ]
  },
  {
   "cell_type": "code",
   "execution_count": null,
   "metadata": {
    "run_control": {
     "frozen": false,
     "read_only": false
    }
   },
   "outputs": [],
   "source": []
  },
  {
   "cell_type": "code",
   "execution_count": null,
   "metadata": {
    "run_control": {
     "frozen": false,
     "read_only": false
    }
   },
   "outputs": [],
   "source": []
  }
 ],
 "metadata": {
  "kernelspec": {
   "display_name": "Python 3",
   "language": "python",
   "name": "python3"
  },
  "language_info": {
   "codemirror_mode": {
    "name": "ipython",
    "version": 3
   },
   "file_extension": ".py",
   "mimetype": "text/x-python",
   "name": "python",
   "nbconvert_exporter": "python",
   "pygments_lexer": "ipython3",
   "version": "3.6.0"
  },
  "toc": {
   "colors": {
    "hover_highlight": "#DAA520",
    "running_highlight": "#FF0000",
    "selected_highlight": "#FFD700"
   },
   "moveMenuLeft": true,
   "nav_menu": {
    "height": "318px",
    "width": "252px"
   },
   "navigate_menu": true,
   "number_sections": true,
   "sideBar": true,
   "threshold": 4,
   "toc_cell": false,
   "toc_section_display": "block",
   "toc_window_display": false,
   "widenNotebook": false
  }
 },
 "nbformat": 4,
 "nbformat_minor": 1
}
