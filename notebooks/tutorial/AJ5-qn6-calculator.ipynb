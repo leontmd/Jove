{
 "cells": [
  {
   "cell_type": "markdown",
   "metadata": {
    "run_control": {
     "frozen": false,
     "read_only": false
    }
   },
   "source": [
    "  # Assignment on parsing expressions\n",
    "  \n",
    "  \n",
    "The code in this notebook is that of a Calculator.\n",
    "Run this file and take a careful look at the generated file\n",
    "parser.out Now answer the following questions in the Jove\n",
    "markdown areas.\n",
    "\n",
    "1.\n",
    "          Write out the _context-free grammar_ governing this\n",
    "          calculator's operation. You'll see this CFG sitting inside the file\n",
    "          parser.out at the very top. **Best way to answer:** Pull\n",
    "          out these CFG rules and copy them into your answer cell. Do\n",
    "          understand the rules of course.\n",
    "\n",
    "2.\n",
    "          Which of these two operators has higher _precedence_ :\n",
    "          \\* or ^? Justify your answer in two sentences with\n",
    "          respect to this grammar.  **Best way to answer:** State which\n",
    "          operator has what precedence and tell us how you learned that by\n",
    "          looking at the CFG rules.\n",
    "\n",
    "3.\n",
    "          What is the associativity (left/right) of the operators\n",
    "          +, -, *, and ^ ?  Justify your answer in two\n",
    "          sentences with respect to this grammar. **Best way to answer:**\n",
    "          State which operator has what associativity and tell us how you\n",
    "          learned that by looking at the CFG rules.\n",
    "\n",
    "4.\n",
    "          Which of the embedded calculations do not match\n",
    "          Python's expression evaluation rules. Spot which expressions\n",
    "          they are, and Explain Why this is happening. **Best way to\n",
    "          answer:** Point out the answer difference that reveals this mismatch\n",
    "          and explain that.\n",
    "\n",
    "\n",
    "5.\n",
    "          Insert a new answer cell, titled as Question 6e,\n",
    "          parenthesize the Python expressions so as to match\n",
    "          the answer provided by the Jove parser.  *Best way to\n",
    "          answer:* We can't tell you where this cell will go, as it will give\n",
    "          you a clue. Figure out where to insert the cell and provide the\n",
    "          parenthesized expression there. Then show that by virtue of the added\n",
    "          parentheses, the answer now matches.\n",
    "\n",
    "Study  Ref-1 and Ref-2 to understand how Python deals with Expressions.\n",
    "\n",
    "          \n",
    "          [Ref-1](https://docs.python.org/2/reference/expressions.html#id26)\n",
    "          Look at Section 5.4 of this document.\n",
    "\n",
    "          [Ref-2](https://codeplea.com/exponentiation-associativity-options)\n",
    "\n",
    "          *Best way to answer:* Provide your answer by stating (for e.g.)\n",
    "          : The difference in the computed answer is due to the fact\n",
    "          that Python as per Ref-n does (..such and such..)\n",
    "          when it sees a unary minus and exponentiation. But\n",
    "          the provided grammar does (..such and such..) which is different.\n",
    "\n",
    "6.\n",
    "          By studying Ref-2, Point out the similarities and\n",
    "          differences between C++, Python, and Google Sheets\n",
    "          when it comes to handling expressions.  Just a few sentences talking\n",
    "          about similarities and a few sentences about the\n",
    "          differences in the following context.\n",
    "\n",
    "           \n",
    "            a. Associativity of exponentiation\n",
    "            b. Whether negation or exponentiation is handled first\n",
    "        \n",
    "\n",
    "   *Best way to answer:* Answers in the Jove cells your answer for these two questions.\n",
    "   \n"
   ]
  },
  {
   "cell_type": "markdown",
   "metadata": {
    "run_control": {
     "frozen": false,
     "read_only": false
    }
   },
   "source": [
    "## Q6"
   ]
  },
  {
   "cell_type": "markdown",
   "metadata": {
    "run_control": {
     "frozen": false,
     "read_only": false
    }
   },
   "source": [
    "The code below is that for a calculator"
   ]
  },
  {
   "cell_type": "markdown",
   "metadata": {
    "run_control": {
     "frozen": false,
     "read_only": false
    }
   },
   "source": [
    "### Q6(a)"
   ]
  },
  {
   "cell_type": "markdown",
   "metadata": {
    "run_control": {
     "frozen": false,
     "read_only": false
    }
   },
   "source": [
    "Run this file and look at parser.out. Write out the context-free \n",
    "grammar generated for the expressions of this calculator."
   ]
  },
  {
   "cell_type": "markdown",
   "metadata": {
    "run_control": {
     "frozen": false,
     "read_only": false
    }
   },
   "source": [
    "```\n",
    "Rule 0     S' -> expression\n",
    "Rule 1     expression -> expression PLUS term\n",
    "Rule 2     expression -> expression MINUS term\n",
    "Rule 3     expression -> term\n",
    "Rule 4     term -> term TIMES factor\n",
    "Rule 5     term -> term DIVIDE factor\n",
    "Rule 6     term -> factor\n",
    "Rule 7     factor -> innerfactor EXP factor\n",
    "Rule 8     factor -> innerfactor\n",
    "Rule 9     innerfactor -> UMINUS innerfactor\n",
    "Rule 10    innerfactor -> LPAREN expression RPAREN\n",
    "Rule 11    innerfactor -> NUMBER\n",
    "```"
   ]
  },
  {
   "cell_type": "markdown",
   "metadata": {
    "run_control": {
     "frozen": false,
     "read_only": false
    }
   },
   "source": [
    "### Q6(b)"
   ]
  },
  {
   "cell_type": "markdown",
   "metadata": {
    "run_control": {
     "frozen": false,
     "read_only": false
    }
   },
   "source": [
    "Which of these two operators has higher precedence : * or ^ ? \n",
    "Justify your answer in two sentences with respect to this grammar."
   ]
  },
  {
   "cell_type": "markdown",
   "metadata": {
    "run_control": {
     "frozen": false,
     "read_only": false
    }
   },
   "source": [
    "<span style=\"color: blue\">\n",
    "The `^` operator has higher precedence than `*` since `^` comes from the `factor` rule (in **Rule 7**), and `*` comes from `term` (in **Rule 4**) which is where `factor` comes from too.  This means that `*` must be higher in the tree, and therefore lower precedence.\n",
    "</span>"
   ]
  },
  {
   "cell_type": "markdown",
   "metadata": {
    "run_control": {
     "frozen": false,
     "read_only": false
    }
   },
   "source": [
    "### Q6(c)"
   ]
  },
  {
   "cell_type": "markdown",
   "metadata": {
    "run_control": {
     "frozen": false,
     "read_only": false
    }
   },
   "source": [
    "What is the associativity (left/right) of the operators +, -, *, and ^ ?  Justify your answer in two sentences with respect to this grammar."
   ]
  },
  {
   "cell_type": "markdown",
   "metadata": {
    "run_control": {
     "frozen": false,
     "read_only": false
    }
   },
   "source": [
    "<span style=\"color: blue\">\n",
    "The operators `+`, `-`, and `*` are left-associative.  This is because recursion happens on the left (i.e. `expression -> expression PLUS term`).  If we parsed `1 + 1 + 1`, we cannot put the left `+` at the top of the tree because we would have no rule for the right `+`.\n",
    "</span>\n",
    "\n",
    "<span style=\"color: blue\">\n",
    "The operator `^` is right-associative.  This is because recursion happens on the right (`factor -> innerfactor EXP factor`).\n",
    "</span>\n"
   ]
  },
  {
   "cell_type": "markdown",
   "metadata": {
    "run_control": {
     "frozen": false,
     "read_only": false
    }
   },
   "source": [
    "### Q6(d)"
   ]
  },
  {
   "cell_type": "markdown",
   "metadata": {
    "run_control": {
     "frozen": false,
     "read_only": false
    }
   },
   "source": [
    "Some of the embedded calculations do not match Python's expression evaluation rules. Spot which expressions they are, and explain why this is happening?\n",
    "\n",
    "You should refer to the following References Ref-1 and Ref-2\n",
    "to understand how Python deals with expressions. \n",
    "\n",
    "You should relate this to how this grammar is dealing\n",
    "with expressions.\n",
    "\n",
    "You must provide your answer by (e.g.) saying \"Ref-n says Python does\n",
    "<..such and such..> when it sees unary minus and exponentiation. But\n",
    "     the provided grammar does <..such and such..> which is different.\n",
    "     Hence the difference in the answers.\n",
    "    \n",
    "    Ref-1: Section 5.4 of\n",
    "    https://docs.python.org/2/reference/expressions.html#id26\n",
    "    \n",
    "    Ref-2: https://codeplea.com/exponentiation-associativity-options"
   ]
  },
  {
   "cell_type": "markdown",
   "metadata": {
    "run_control": {
     "frozen": false,
     "read_only": false
    }
   },
   "source": [
    "<span style=\"color: blue\">\n",
    "`-2^2  = 4`  (**embedded calculator**)\n",
    "</span>\n",
    "\n",
    "<span style=\"color: blue\">\n",
    "`-2**2 = -4` (**python3**)\n",
    "</span>\n",
    "\n",
    "<span style=\"color: blue\">\n",
    "**embedded calculator** : Uses a grammer that gives `unary minus` **higher** precedence\n",
    "</span>\n",
    "\n",
    "<span style=\"color: blue\">\n",
    "**python3** : *unary minus* binds **less tightly** than **exponentiation**\n",
    "</span>\n"
   ]
  },
  {
   "cell_type": "markdown",
   "metadata": {
    "run_control": {
     "frozen": false,
     "read_only": false
    }
   },
   "source": [
    "### Q6(e)"
   ]
  },
  {
   "cell_type": "markdown",
   "metadata": {
    "run_control": {
     "frozen": false,
     "read_only": false
    }
   },
   "source": [
    "With respect to Ref-2,\n",
    "Point out the similarities and differences between C++, Python, and \n",
    "Google Sheets when it comes to handling. Just a few sentences talkingvabout similarities and a few sentences about the differences.\n",
    "    \n",
    "- Associativity of exponentiation\n",
    "- Whether negation or exponentiation is handled first"
   ]
  },
  {
   "cell_type": "markdown",
   "metadata": {
    "run_control": {
     "frozen": false,
     "read_only": false
    }
   },
   "source": [
    "<span style=\"color: blue\">\n",
    "In `python` and `google-sheets`, the associativity of exponentiation\n",
    "is **right-associative** and in `c++` its **left associative**\n",
    "</span>\n",
    "\n",
    "<span style=\"color: blue\">\n",
    "**negation** is handled first by `c++` and `google-sheets`\n",
    "and **exponentiation** is handled first in `python`\n",
    "</span>"
   ]
  },
  {
   "cell_type": "markdown",
   "metadata": {
    "run_control": {
     "frozen": false,
     "read_only": false
    }
   },
   "source": [
    "# Calculator using good and bad precedences\n",
    "\n",
    "This Jove file illustrates precedences wrt two grammars, also showing how to build a calculator. There are some good ideas in the excellent tutorial at URL http://www.dabeaz.com/ply/example.html , but we are not following the automatic resolution of precedences (for illustration)"
   ]
  },
  {
   "cell_type": "code",
   "execution_count": 1,
   "metadata": {
    "run_control": {
     "frozen": false,
     "read_only": false
    }
   },
   "outputs": [
    {
     "name": "stdout",
     "output_type": "stream",
     "text": [
      "You may use any of these help commands:\n",
      "help(ResetStNum)\n",
      "help(NxtStateStr)\n",
      "\n"
     ]
    }
   ],
   "source": [
    "import sys\n",
    "sys.path[0:0] = ['../..','../../3rdparty'] # Put these at the head of the search path\n",
    "\n",
    "from lex import lex\n",
    "from yacc import yacc\n",
    "\n",
    "from jove.StateNameSanitizers import ResetStNum, NxtStateStr\n",
    "from jove.SystemImports       import *\n"
   ]
  },
  {
   "cell_type": "markdown",
   "metadata": {
    "run_control": {
     "frozen": false,
     "read_only": false
    }
   },
   "source": [
    "## Token definitions\n",
    "\n",
    "This is the lexer for REs. We begin with token definitions"
   ]
  },
  {
   "cell_type": "code",
   "execution_count": 2,
   "metadata": {
    "run_control": {
     "frozen": false,
     "read_only": false
    }
   },
   "outputs": [],
   "source": [
    "# Following ideas from http://www.dabeaz.com/ply/example.html heavily\n",
    "tokens = ('NUMBER','LPAREN','RPAREN','PLUS', 'MINUS', 'TIMES','DIVIDE', 'UMINUS', 'EXP') \n",
    "\n",
    "# Tokens\n",
    "t_PLUS    = r'\\+'\n",
    "t_MINUS   = r'\\-'\n",
    "t_TIMES   = r'\\*'\n",
    "t_DIVIDE  = r'\\/'\n",
    "t_LPAREN  = r'\\('\n",
    "t_RPAREN  = r'\\)' \n",
    "t_UMINUS  = r'\\~' \n",
    "t_EXP     = r'\\^'\n",
    "\n",
    "# parsing + semantic actions in one place!\n",
    "def t_NUMBER(t):\n",
    "    r'\\d+'\n",
    "    try:\n",
    "        t.value = int(t.value)\n",
    "    except ValueError:\n",
    "        print(\"Integer value too large %d\", t.value)\n",
    "        t.value = 0\n",
    "    return t\n",
    "\n",
    "# Ignored characters\n",
    "t_ignore = \" \\t\"\n",
    "\n",
    "def t_newline(t):\n",
    "    r'\\n+'\n",
    "    t.lexer.lineno += t.value.count(\"\\n\")\n",
    "    \n",
    "def t_error(t):\n",
    "    print(\"Illegal character '%s'\" % t.value[0])\n",
    "    t.lexer.skip(1)\n",
    "    "
   ]
  },
  {
   "cell_type": "markdown",
   "metadata": {
    "run_control": {
     "frozen": false,
     "read_only": false
    }
   },
   "source": [
    "## These parsing rules specify many things. \n",
    "\n",
    "We begin with operator precedence rules that are essentially to help the \"LALR parser\" (also known as the bottom-up parser) resolve 'shift-reduce conflicts'."
   ]
  },
  {
   "cell_type": "code",
   "execution_count": 3,
   "metadata": {
    "run_control": {
     "frozen": false,
     "read_only": false
    }
   },
   "outputs": [],
   "source": [
    "# Parsing rules - NOT USED as we LAYER grammars!\n",
    "\n",
    "# Precedences, following BODMAS; not needed due to grammar layering\n",
    "# \n",
    "#precedence = (\n",
    "#   ('left','MINUS', 'PLUS'),\n",
    "#   ('left','TIMES','DIVIDE'),   \n",
    "#   ('right','UMINUS')    \n",
    "#   )"
   ]
  },
  {
   "cell_type": "markdown",
   "metadata": {
    "run_control": {
     "frozen": false,
     "read_only": false
    }
   },
   "source": [
    "## CFG productions and semantic actions\n",
    "\n",
    "These Python functions whose names begin with \"p_\" house (1) the CFG production rules within their documentation strings. (2) the semantic actions within their body. The semantic actions can refer to grammar symbol attributes within CFG productions. We will explain one of these rules now.\n",
    "\n",
    "Take the rules \n",
    "\n",
    " expression -> expression PLUS term\n",
    " expression -> term\n",
    " \n",
    "1) This function defines the first production rule\n",
    "\n",
    "def p_expression_plus(t):\n",
    "\n",
    "   a) This comment string expresses the production rule\n",
    "   \n",
    "    '''expression : expression PLUS term'''\n",
    "    \n",
    "   b) This line below tells us that the occurrence of 'expression' on\n",
    "      the left-hand side is marked t[0], and its value is determined by\n",
    "      applying function attrDyadicInfix onto its three arguments below.\n",
    "      Here, t[1] is the attribute of 'expression' coming after the colon (:)\n",
    "      and the attribute of catexp is t[3]\n",
    "      \n",
    "    t[0] = attrDyadicInfix(\"+\", t[1], t[3])    \n",
    "    \n",
    "2) This function expresses the second related production rule where the\n",
    "   basis case \n",
    "    \n",
    "def p_expression_plus1(t):\n",
    "    '''expression : term'''\n",
    "\n",
    "    t[0] = t[1]  \n",
    "    \n",
    "** ALL THE ABOVE is how RE PARSING WORKED. For Numbers, we made a change as per the following. **\n",
    "    \n",
    "We are now encoding (value, tree) pairs as attributes.., so use t[1][0] for value and t[1][1] for tree."
   ]
  },
  {
   "cell_type": "code",
   "execution_count": 4,
   "metadata": {
    "run_control": {
     "frozen": false,
     "read_only": false
    }
   },
   "outputs": [],
   "source": [
    "\n",
    "def p_expression_1(t):\n",
    "    'expression : expression PLUS term'\n",
    "    #\n",
    "    t[0] = (t[1][0] + t[3][0],\n",
    "            attrDyadicInfix(\"+\", t[1][1], t[3][1]))   \n",
    "    \n",
    "def p_expression_2(t):\n",
    "    'expression : expression MINUS term'\n",
    "    #\n",
    "    t[0] = (t[1][0] - t[3][0],\n",
    "            attrDyadicInfix(\"-\", t[1][1], t[3][1]))   \n",
    "    \n",
    "def p_expression_3(t):\n",
    "    'expression : term'\n",
    "    #\n",
    "    t[0] = t[1]  \n",
    "    \n",
    "# Consult this excellent reference for info on precedences\n",
    "# https://www.cs.utah.edu/~zachary/isp/worksheets/operprec/operprec.html\n",
    "    \n",
    "    \n",
    "def p_term_1(t):\n",
    "    'term :  term TIMES factor'\n",
    "    #\n",
    "    t[0] = (t[1][0] * t[3][0],\n",
    "            attrDyadicInfix(\"*\", t[1][1], t[3][1])) \n",
    "\n",
    "    \n",
    "def p_term_2(t):\n",
    "    'term :  term DIVIDE factor'\n",
    "    #\n",
    "    if (t[3][0] == 0):\n",
    "        print(\"Error, divide by zero!\")\n",
    "        t[3][0] = 1 # fix it\n",
    "    t[0] = (t[1][0] / t[3][0],\n",
    "            attrDyadicInfix(\"/\", t[1][1], t[3][1]))\n",
    "\n",
    "\n",
    "def p_term_3(t):\n",
    "    'term :  factor'\n",
    "    #\n",
    "    t[0] = t[1]  \n",
    "\n",
    "def p_factor_1(t):\n",
    "    'factor : innerfactor EXP factor'\n",
    "    #\n",
    "    t[0] = (t[1][0] ** t[3][0],\n",
    "            attrDyadicInfix(\"**\", t[1][1], t[3][1])) \n",
    "\n",
    "def p_factor_2(t):\n",
    "    'factor : innerfactor'\n",
    "    #\n",
    "    t[0] = t[1]\n",
    "    \n",
    "def p_innerfactor_1(t):\n",
    "    'innerfactor : UMINUS innerfactor'\n",
    "    #\n",
    "    ast  = ('~', t[2][1]['ast'])\n",
    "    \n",
    "    nlin = t[2][1]['dig']['nl']\n",
    "    elin = t[2][1]['dig']['el']\n",
    "    \n",
    "    rootin = nlin[0]\n",
    "\n",
    "    root = NxtStateStr(\"~E_\") \n",
    "    left = NxtStateStr(\"~_\")\n",
    "\n",
    "    t[0] =(-t[2][0], \n",
    "           {'ast' : ast,\n",
    "            'dig' : {'nl' : [ root, left ] + nlin, # this order important for proper layout!\n",
    "                     'el' : elin + [ (root, left),\n",
    "                                     (root, rootin) ]\n",
    "                    }})\n",
    "\n",
    "    \n",
    "def p_innerfactor_2(t):\n",
    "    'innerfactor : LPAREN expression RPAREN'\n",
    "    #\n",
    "    ast  = t[2][1]['ast']\n",
    "    \n",
    "    nlin = t[2][1]['dig']['nl']\n",
    "    elin = t[2][1]['dig']['el']\n",
    "    \n",
    "    rootin = nlin[0]\n",
    "    \n",
    "    root = NxtStateStr(\"(E)_\")\n",
    "    left = NxtStateStr(\"(_\")\n",
    "    right= NxtStateStr(\")_\")\n",
    "    \n",
    "    t[0] =(t[2][0],\n",
    "           {'ast' : ast,\n",
    "            'dig' : {'nl' : [root, left] + nlin + [right], #order important f. proper layout!\n",
    "                     'el' : elin + [ (root, left),\n",
    "                                     (root, rootin),\n",
    "                                     (root, right) ]\n",
    "                    }})\n",
    "\n",
    "def p_innerfactor_3(t):\n",
    "    'innerfactor : NUMBER'\n",
    "    #\n",
    "    strn = str(t[1])\n",
    "    ast  = ('NUMBER', strn)           \n",
    "    t[0] =(t[1],\n",
    "           { 'ast' : ast,\n",
    "             'dig' : {'nl' : [ strn + NxtStateStr(\"_\") ],\n",
    "                      'el' : []\n",
    "                     }})\n",
    "\n",
    "\n",
    "def p_error(t):\n",
    "    print(\"Syntax error at '%s'\" % t.value)\n",
    "\n",
    "#--\n",
    "    \n",
    "def attrDyadicInfix(op, attr1, attr3):\n",
    "    ast  = (op, (attr1['ast'], attr3['ast']))\n",
    "    \n",
    "    nlin1 = attr1['dig']['nl']\n",
    "    nlin3 = attr3['dig']['nl']\n",
    "    nlin  = nlin1 + nlin3\n",
    "    \n",
    "    elin1 = attr1['dig']['el']\n",
    "    elin3 = attr3['dig']['el']\n",
    "    elin  = elin1 + elin3\n",
    "    \n",
    "    rootin1 = nlin1[0]\n",
    "    rootin3 = nlin3[0]    \n",
    "    \n",
    "    root   = NxtStateStr(\"E1\"+op+\"E2\"+\"_\") # NxtStateStr(\"$_\")\n",
    "    left   = rootin1\n",
    "    middle = NxtStateStr(op+\"_\")\n",
    "    right  = rootin3\n",
    "    \n",
    "    return {'ast' : ast,\n",
    "            'dig' : {'nl' : [ root, left, middle, right ] + nlin,\n",
    "                     'el' : elin + [ (root, left),\n",
    "                                     (root, middle),\n",
    "                                     (root, right) ]\n",
    "                     }}\n",
    "\n",
    "#===\n",
    "# This is the main function in this Jove file.  \n",
    "#===\n",
    "\n",
    "def parseRE(s):\n",
    "    \"\"\"In: a string s containing a regular expression.\n",
    "       Out: An attribute triple consisting of\n",
    "            1) An abstract syntax tree suitable for processing in the derivative-based scanner\n",
    "            2) A node-list for the parse-tree digraph generated. Good for drawing a parse tree \n",
    "               using the drawPT function below\n",
    "            3) An edge list for the parse-tree generated (again good for drawing using the\n",
    "               drawPT function below)\n",
    "    \"\"\"\n",
    "    mylexer  = lex()\n",
    "    myparser = yacc()\n",
    "    pt = myparser.parse(s, lexer = mylexer)\n",
    "    \n",
    "    # print('parsed result  is ', pt)\n",
    "    # (result, ast, nodes, edges)\n",
    "    return (pt[0], pt[1]['ast'], pt[1]['dig']['nl'], pt[1]['dig']['el'])\n",
    "\n",
    "def drawPT(ast_rslt_nl_el, comment=\"PT\"):\n",
    "    \"\"\"Given an (ast, nl, el) triple where nl is the node and el the edge-list,\n",
    "       draw the Parse Tree by returning a dot object.\n",
    "    \"\"\"\n",
    "    (rslt, ast, nl, el) = ast_rslt_nl_el\n",
    "    \n",
    "    print(\"Result calculated = \", rslt)\n",
    "    print(\"Drawing AST for \", ast)\n",
    "    \n",
    "    dotObj_pt = Digraph(comment)\n",
    "    dotObj_pt.graph_attr['rankdir'] = 'TB'\n",
    "    for n in nl:\n",
    "        prNam = n.split('_')[0]\n",
    "        dotObj_pt.node(n, prNam, shape=\"oval\", peripheries=\"1\")\n",
    "    for e in el:\n",
    "        dotObj_pt.edge(e[0], e[1])\n",
    "    return dotObj_pt"
   ]
  },
  {
   "cell_type": "code",
   "execution_count": 5,
   "metadata": {
    "run_control": {
     "frozen": false,
     "read_only": false
    }
   },
   "outputs": [
    {
     "name": "stdout",
     "output_type": "stream",
     "text": [
      "Result calculated =  1.008594091576999\n",
      "Drawing AST for  ('**', (('NUMBER', '2'), ('**', (('~', ('NUMBER', '3')), ('~', ('NUMBER', '4'))))))\n"
     ]
    },
    {
     "name": "stderr",
     "output_type": "stream",
     "text": [
      "Generating LALR tables\n"
     ]
    },
    {
     "data": {
      "image/svg+xml": [
       "<?xml version=\"1.0\" encoding=\"UTF-8\" standalone=\"no\"?>\n",
       "<!DOCTYPE svg PUBLIC \"-//W3C//DTD SVG 1.1//EN\"\n",
       " \"http://www.w3.org/Graphics/SVG/1.1/DTD/svg11.dtd\">\n",
       "<!-- Generated by graphviz version 2.38.0 (20140413.2041)\n",
       " -->\n",
       "<!-- Title: PT Pages: 1 -->\n",
       "<svg width=\"344pt\" height=\"260pt\"\n",
       " viewBox=\"0.00 0.00 344.00 260.00\" xmlns=\"http://www.w3.org/2000/svg\" xmlns:xlink=\"http://www.w3.org/1999/xlink\">\n",
       "<g id=\"graph0\" class=\"graph\" transform=\"scale(1 1) rotate(0) translate(4 256)\">\n",
       "<title>PT</title>\n",
       "<polygon fill=\"white\" stroke=\"none\" points=\"-4,4 -4,-256 340,-256 340,4 -4,4\"/>\n",
       "<!-- E1**E2_10 -->\n",
       "<g id=\"node1\" class=\"node\"><title>E1**E2_10</title>\n",
       "<ellipse fill=\"none\" stroke=\"black\" cx=\"99\" cy=\"-234\" rx=\"38.6955\" ry=\"18\"/>\n",
       "<text text-anchor=\"middle\" x=\"99\" y=\"-229.8\" font-family=\"Times,serif\" font-size=\"14.00\">E1**E2</text>\n",
       "</g>\n",
       "<!-- 2_1 -->\n",
       "<g id=\"node2\" class=\"node\"><title>2_1</title>\n",
       "<ellipse fill=\"none\" stroke=\"black\" cx=\"27\" cy=\"-162\" rx=\"27\" ry=\"18\"/>\n",
       "<text text-anchor=\"middle\" x=\"27\" y=\"-157.8\" font-family=\"Times,serif\" font-size=\"14.00\">2</text>\n",
       "</g>\n",
       "<!-- E1**E2_10&#45;&gt;2_1 -->\n",
       "<g id=\"edge8\" class=\"edge\"><title>E1**E2_10&#45;&gt;2_1</title>\n",
       "<path fill=\"none\" stroke=\"black\" d=\"M83.0209,-217.465C73.0571,-207.778 60.0932,-195.174 49.1461,-184.531\"/>\n",
       "<polygon fill=\"black\" stroke=\"black\" points=\"51.561,-181.997 41.9512,-177.536 46.6814,-187.016 51.561,-181.997\"/>\n",
       "</g>\n",
       "<!-- **_11 -->\n",
       "<g id=\"node3\" class=\"node\"><title>**_11</title>\n",
       "<ellipse fill=\"none\" stroke=\"black\" cx=\"99\" cy=\"-162\" rx=\"27\" ry=\"18\"/>\n",
       "<text text-anchor=\"middle\" x=\"99\" y=\"-157.8\" font-family=\"Times,serif\" font-size=\"14.00\">**</text>\n",
       "</g>\n",
       "<!-- E1**E2_10&#45;&gt;**_11 -->\n",
       "<g id=\"edge9\" class=\"edge\"><title>E1**E2_10&#45;&gt;**_11</title>\n",
       "<path fill=\"none\" stroke=\"black\" d=\"M99,-215.697C99,-207.983 99,-198.712 99,-190.112\"/>\n",
       "<polygon fill=\"black\" stroke=\"black\" points=\"102.5,-190.104 99,-180.104 95.5001,-190.104 102.5,-190.104\"/>\n",
       "</g>\n",
       "<!-- E1**E2_8 -->\n",
       "<g id=\"node4\" class=\"node\"><title>E1**E2_8</title>\n",
       "<ellipse fill=\"none\" stroke=\"black\" cx=\"183\" cy=\"-162\" rx=\"38.6955\" ry=\"18\"/>\n",
       "<text text-anchor=\"middle\" x=\"183\" y=\"-157.8\" font-family=\"Times,serif\" font-size=\"14.00\">E1**E2</text>\n",
       "</g>\n",
       "<!-- E1**E2_10&#45;&gt;E1**E2_8 -->\n",
       "<g id=\"edge10\" class=\"edge\"><title>E1**E2_10&#45;&gt;E1**E2_8</title>\n",
       "<path fill=\"none\" stroke=\"black\" d=\"M117.227,-217.811C128.785,-208.179 143.924,-195.563 156.764,-184.863\"/>\n",
       "<polygon fill=\"black\" stroke=\"black\" points=\"159.367,-187.25 164.809,-178.159 154.886,-181.872 159.367,-187.25\"/>\n",
       "</g>\n",
       "<!-- ~E_3 -->\n",
       "<g id=\"node5\" class=\"node\"><title>~E_3</title>\n",
       "<ellipse fill=\"none\" stroke=\"black\" cx=\"111\" cy=\"-90\" rx=\"27\" ry=\"18\"/>\n",
       "<text text-anchor=\"middle\" x=\"111\" y=\"-85.8\" font-family=\"Times,serif\" font-size=\"14.00\">~E</text>\n",
       "</g>\n",
       "<!-- E1**E2_8&#45;&gt;~E_3 -->\n",
       "<g id=\"edge5\" class=\"edge\"><title>E1**E2_8&#45;&gt;~E_3</title>\n",
       "<path fill=\"none\" stroke=\"black\" d=\"M167.021,-145.465C157.057,-135.778 144.093,-123.174 133.146,-112.531\"/>\n",
       "<polygon fill=\"black\" stroke=\"black\" points=\"135.561,-109.997 125.951,-105.536 130.681,-115.016 135.561,-109.997\"/>\n",
       "</g>\n",
       "<!-- **_9 -->\n",
       "<g id=\"node6\" class=\"node\"><title>**_9</title>\n",
       "<ellipse fill=\"none\" stroke=\"black\" cx=\"183\" cy=\"-90\" rx=\"27\" ry=\"18\"/>\n",
       "<text text-anchor=\"middle\" x=\"183\" y=\"-85.8\" font-family=\"Times,serif\" font-size=\"14.00\">**</text>\n",
       "</g>\n",
       "<!-- E1**E2_8&#45;&gt;**_9 -->\n",
       "<g id=\"edge6\" class=\"edge\"><title>E1**E2_8&#45;&gt;**_9</title>\n",
       "<path fill=\"none\" stroke=\"black\" d=\"M183,-143.697C183,-135.983 183,-126.712 183,-118.112\"/>\n",
       "<polygon fill=\"black\" stroke=\"black\" points=\"186.5,-118.104 183,-108.104 179.5,-118.104 186.5,-118.104\"/>\n",
       "</g>\n",
       "<!-- ~E_6 -->\n",
       "<g id=\"node7\" class=\"node\"><title>~E_6</title>\n",
       "<ellipse fill=\"none\" stroke=\"black\" cx=\"255\" cy=\"-90\" rx=\"27\" ry=\"18\"/>\n",
       "<text text-anchor=\"middle\" x=\"255\" y=\"-85.8\" font-family=\"Times,serif\" font-size=\"14.00\">~E</text>\n",
       "</g>\n",
       "<!-- E1**E2_8&#45;&gt;~E_6 -->\n",
       "<g id=\"edge7\" class=\"edge\"><title>E1**E2_8&#45;&gt;~E_6</title>\n",
       "<path fill=\"none\" stroke=\"black\" d=\"M198.979,-145.465C208.943,-135.778 221.907,-123.174 232.854,-112.531\"/>\n",
       "<polygon fill=\"black\" stroke=\"black\" points=\"235.319,-115.016 240.049,-105.536 230.439,-109.997 235.319,-115.016\"/>\n",
       "</g>\n",
       "<!-- ~_4 -->\n",
       "<g id=\"node8\" class=\"node\"><title>~_4</title>\n",
       "<ellipse fill=\"none\" stroke=\"black\" cx=\"75\" cy=\"-18\" rx=\"27\" ry=\"18\"/>\n",
       "<text text-anchor=\"middle\" x=\"75\" y=\"-13.8\" font-family=\"Times,serif\" font-size=\"14.00\">~</text>\n",
       "</g>\n",
       "<!-- ~E_3&#45;&gt;~_4 -->\n",
       "<g id=\"edge1\" class=\"edge\"><title>~E_3&#45;&gt;~_4</title>\n",
       "<path fill=\"none\" stroke=\"black\" d=\"M102.65,-72.7646C98.2885,-64.2831 92.8531,-53.7144 87.9587,-44.1974\"/>\n",
       "<polygon fill=\"black\" stroke=\"black\" points=\"90.9904,-42.4395 83.3043,-35.1473 84.7654,-45.6409 90.9904,-42.4395\"/>\n",
       "</g>\n",
       "<!-- 3_2 -->\n",
       "<g id=\"node9\" class=\"node\"><title>3_2</title>\n",
       "<ellipse fill=\"none\" stroke=\"black\" cx=\"147\" cy=\"-18\" rx=\"27\" ry=\"18\"/>\n",
       "<text text-anchor=\"middle\" x=\"147\" y=\"-13.8\" font-family=\"Times,serif\" font-size=\"14.00\">3</text>\n",
       "</g>\n",
       "<!-- ~E_3&#45;&gt;3_2 -->\n",
       "<g id=\"edge2\" class=\"edge\"><title>~E_3&#45;&gt;3_2</title>\n",
       "<path fill=\"none\" stroke=\"black\" d=\"M119.35,-72.7646C123.712,-64.2831 129.147,-53.7144 134.041,-44.1974\"/>\n",
       "<polygon fill=\"black\" stroke=\"black\" points=\"137.235,-45.6409 138.696,-35.1473 131.01,-42.4395 137.235,-45.6409\"/>\n",
       "</g>\n",
       "<!-- ~_7 -->\n",
       "<g id=\"node10\" class=\"node\"><title>~_7</title>\n",
       "<ellipse fill=\"none\" stroke=\"black\" cx=\"237\" cy=\"-18\" rx=\"27\" ry=\"18\"/>\n",
       "<text text-anchor=\"middle\" x=\"237\" y=\"-13.8\" font-family=\"Times,serif\" font-size=\"14.00\">~</text>\n",
       "</g>\n",
       "<!-- ~E_6&#45;&gt;~_7 -->\n",
       "<g id=\"edge3\" class=\"edge\"><title>~E_6&#45;&gt;~_7</title>\n",
       "<path fill=\"none\" stroke=\"black\" d=\"M250.643,-72.055C248.609,-64.1446 246.139,-54.5398 243.863,-45.6879\"/>\n",
       "<polygon fill=\"black\" stroke=\"black\" points=\"247.197,-44.6023 241.317,-35.789 240.418,-46.3456 247.197,-44.6023\"/>\n",
       "</g>\n",
       "<!-- 4_5 -->\n",
       "<g id=\"node11\" class=\"node\"><title>4_5</title>\n",
       "<ellipse fill=\"none\" stroke=\"black\" cx=\"309\" cy=\"-18\" rx=\"27\" ry=\"18\"/>\n",
       "<text text-anchor=\"middle\" x=\"309\" y=\"-13.8\" font-family=\"Times,serif\" font-size=\"14.00\">4</text>\n",
       "</g>\n",
       "<!-- ~E_6&#45;&gt;4_5 -->\n",
       "<g id=\"edge4\" class=\"edge\"><title>~E_6&#45;&gt;4_5</title>\n",
       "<path fill=\"none\" stroke=\"black\" d=\"M266.984,-73.4647C273.976,-64.4021 282.936,-52.7865 290.785,-42.6119\"/>\n",
       "<polygon fill=\"black\" stroke=\"black\" points=\"293.712,-44.5475 297.049,-34.4918 288.17,-40.2719 293.712,-44.5475\"/>\n",
       "</g>\n",
       "</g>\n",
       "</svg>\n"
      ],
      "text/plain": [
       "<graphviz.dot.Digraph at 0x10924fa58>"
      ]
     },
     "execution_count": 5,
     "metadata": {},
     "output_type": "execute_result"
    }
   ],
   "source": [
    "drawPT(parseRE(\"2^~3^~4\"))"
   ]
  },
  {
   "cell_type": "code",
   "execution_count": 6,
   "metadata": {
    "run_control": {
     "frozen": false,
     "read_only": false
    }
   },
   "outputs": [
    {
     "data": {
      "text/plain": [
       "1.008594091576999"
      ]
     },
     "execution_count": 6,
     "metadata": {},
     "output_type": "execute_result"
    }
   ],
   "source": [
    "2**(-3)**(-4)"
   ]
  },
  {
   "cell_type": "code",
   "execution_count": 7,
   "metadata": {
    "run_control": {
     "frozen": false,
     "read_only": false
    }
   },
   "outputs": [
    {
     "data": {
      "text/plain": [
       "0.9914791374956781"
      ]
     },
     "execution_count": 7,
     "metadata": {},
     "output_type": "execute_result"
    }
   ],
   "source": [
    "2**(-3**-4)"
   ]
  },
  {
   "cell_type": "code",
   "execution_count": 8,
   "metadata": {
    "run_control": {
     "frozen": false,
     "read_only": false
    }
   },
   "outputs": [
    {
     "data": {
      "text/plain": [
       "0.9914791374956781"
      ]
     },
     "execution_count": 8,
     "metadata": {},
     "output_type": "execute_result"
    }
   ],
   "source": [
    "2**-3**-4"
   ]
  },
  {
   "cell_type": "code",
   "execution_count": 9,
   "metadata": {
    "run_control": {
     "frozen": false,
     "read_only": false
    }
   },
   "outputs": [
    {
     "name": "stdout",
     "output_type": "stream",
     "text": [
      "Result calculated =  0.012345679012345678\n",
      "Drawing AST for  ('**', (('~', ('NUMBER', '3')), ('~', ('NUMBER', '4'))))\n"
     ]
    },
    {
     "name": "stderr",
     "output_type": "stream",
     "text": [
      "Generating LALR tables\n"
     ]
    },
    {
     "data": {
      "image/svg+xml": [
       "<?xml version=\"1.0\" encoding=\"UTF-8\" standalone=\"no\"?>\n",
       "<!DOCTYPE svg PUBLIC \"-//W3C//DTD SVG 1.1//EN\"\n",
       " \"http://www.w3.org/Graphics/SVG/1.1/DTD/svg11.dtd\">\n",
       "<!-- Generated by graphviz version 2.38.0 (20140413.2041)\n",
       " -->\n",
       "<!-- Title: PT Pages: 1 -->\n",
       "<svg width=\"296pt\" height=\"188pt\"\n",
       " viewBox=\"0.00 0.00 296.00 188.00\" xmlns=\"http://www.w3.org/2000/svg\" xmlns:xlink=\"http://www.w3.org/1999/xlink\">\n",
       "<g id=\"graph0\" class=\"graph\" transform=\"scale(1 1) rotate(0) translate(4 184)\">\n",
       "<title>PT</title>\n",
       "<polygon fill=\"white\" stroke=\"none\" points=\"-4,4 -4,-184 292,-184 292,4 -4,4\"/>\n",
       "<!-- E1**E2_18 -->\n",
       "<g id=\"node1\" class=\"node\"><title>E1**E2_18</title>\n",
       "<ellipse fill=\"none\" stroke=\"black\" cx=\"135\" cy=\"-162\" rx=\"38.6955\" ry=\"18\"/>\n",
       "<text text-anchor=\"middle\" x=\"135\" y=\"-157.8\" font-family=\"Times,serif\" font-size=\"14.00\">E1**E2</text>\n",
       "</g>\n",
       "<!-- ~E_13 -->\n",
       "<g id=\"node2\" class=\"node\"><title>~E_13</title>\n",
       "<ellipse fill=\"none\" stroke=\"black\" cx=\"63\" cy=\"-90\" rx=\"27\" ry=\"18\"/>\n",
       "<text text-anchor=\"middle\" x=\"63\" y=\"-85.8\" font-family=\"Times,serif\" font-size=\"14.00\">~E</text>\n",
       "</g>\n",
       "<!-- E1**E2_18&#45;&gt;~E_13 -->\n",
       "<g id=\"edge5\" class=\"edge\"><title>E1**E2_18&#45;&gt;~E_13</title>\n",
       "<path fill=\"none\" stroke=\"black\" d=\"M119.021,-145.465C109.057,-135.778 96.0932,-123.174 85.1461,-112.531\"/>\n",
       "<polygon fill=\"black\" stroke=\"black\" points=\"87.561,-109.997 77.9512,-105.536 82.6814,-115.016 87.561,-109.997\"/>\n",
       "</g>\n",
       "<!-- **_19 -->\n",
       "<g id=\"node3\" class=\"node\"><title>**_19</title>\n",
       "<ellipse fill=\"none\" stroke=\"black\" cx=\"135\" cy=\"-90\" rx=\"27\" ry=\"18\"/>\n",
       "<text text-anchor=\"middle\" x=\"135\" y=\"-85.8\" font-family=\"Times,serif\" font-size=\"14.00\">**</text>\n",
       "</g>\n",
       "<!-- E1**E2_18&#45;&gt;**_19 -->\n",
       "<g id=\"edge6\" class=\"edge\"><title>E1**E2_18&#45;&gt;**_19</title>\n",
       "<path fill=\"none\" stroke=\"black\" d=\"M135,-143.697C135,-135.983 135,-126.712 135,-118.112\"/>\n",
       "<polygon fill=\"black\" stroke=\"black\" points=\"138.5,-118.104 135,-108.104 131.5,-118.104 138.5,-118.104\"/>\n",
       "</g>\n",
       "<!-- ~E_16 -->\n",
       "<g id=\"node4\" class=\"node\"><title>~E_16</title>\n",
       "<ellipse fill=\"none\" stroke=\"black\" cx=\"207\" cy=\"-90\" rx=\"27\" ry=\"18\"/>\n",
       "<text text-anchor=\"middle\" x=\"207\" y=\"-85.8\" font-family=\"Times,serif\" font-size=\"14.00\">~E</text>\n",
       "</g>\n",
       "<!-- E1**E2_18&#45;&gt;~E_16 -->\n",
       "<g id=\"edge7\" class=\"edge\"><title>E1**E2_18&#45;&gt;~E_16</title>\n",
       "<path fill=\"none\" stroke=\"black\" d=\"M150.979,-145.465C160.943,-135.778 173.907,-123.174 184.854,-112.531\"/>\n",
       "<polygon fill=\"black\" stroke=\"black\" points=\"187.319,-115.016 192.049,-105.536 182.439,-109.997 187.319,-115.016\"/>\n",
       "</g>\n",
       "<!-- ~_14 -->\n",
       "<g id=\"node5\" class=\"node\"><title>~_14</title>\n",
       "<ellipse fill=\"none\" stroke=\"black\" cx=\"27\" cy=\"-18\" rx=\"27\" ry=\"18\"/>\n",
       "<text text-anchor=\"middle\" x=\"27\" y=\"-13.8\" font-family=\"Times,serif\" font-size=\"14.00\">~</text>\n",
       "</g>\n",
       "<!-- ~E_13&#45;&gt;~_14 -->\n",
       "<g id=\"edge1\" class=\"edge\"><title>~E_13&#45;&gt;~_14</title>\n",
       "<path fill=\"none\" stroke=\"black\" d=\"M54.6504,-72.7646C50.2885,-64.2831 44.8531,-53.7144 39.9587,-44.1974\"/>\n",
       "<polygon fill=\"black\" stroke=\"black\" points=\"42.9904,-42.4395 35.3043,-35.1473 36.7654,-45.6409 42.9904,-42.4395\"/>\n",
       "</g>\n",
       "<!-- 3_12 -->\n",
       "<g id=\"node6\" class=\"node\"><title>3_12</title>\n",
       "<ellipse fill=\"none\" stroke=\"black\" cx=\"99\" cy=\"-18\" rx=\"27\" ry=\"18\"/>\n",
       "<text text-anchor=\"middle\" x=\"99\" y=\"-13.8\" font-family=\"Times,serif\" font-size=\"14.00\">3</text>\n",
       "</g>\n",
       "<!-- ~E_13&#45;&gt;3_12 -->\n",
       "<g id=\"edge2\" class=\"edge\"><title>~E_13&#45;&gt;3_12</title>\n",
       "<path fill=\"none\" stroke=\"black\" d=\"M71.3496,-72.7646C75.7115,-64.2831 81.1469,-53.7144 86.0413,-44.1974\"/>\n",
       "<polygon fill=\"black\" stroke=\"black\" points=\"89.2346,-45.6409 90.6957,-35.1473 83.0096,-42.4395 89.2346,-45.6409\"/>\n",
       "</g>\n",
       "<!-- ~_17 -->\n",
       "<g id=\"node7\" class=\"node\"><title>~_17</title>\n",
       "<ellipse fill=\"none\" stroke=\"black\" cx=\"189\" cy=\"-18\" rx=\"27\" ry=\"18\"/>\n",
       "<text text-anchor=\"middle\" x=\"189\" y=\"-13.8\" font-family=\"Times,serif\" font-size=\"14.00\">~</text>\n",
       "</g>\n",
       "<!-- ~E_16&#45;&gt;~_17 -->\n",
       "<g id=\"edge3\" class=\"edge\"><title>~E_16&#45;&gt;~_17</title>\n",
       "<path fill=\"none\" stroke=\"black\" d=\"M202.643,-72.055C200.609,-64.1446 198.139,-54.5398 195.863,-45.6879\"/>\n",
       "<polygon fill=\"black\" stroke=\"black\" points=\"199.197,-44.6023 193.317,-35.789 192.418,-46.3456 199.197,-44.6023\"/>\n",
       "</g>\n",
       "<!-- 4_15 -->\n",
       "<g id=\"node8\" class=\"node\"><title>4_15</title>\n",
       "<ellipse fill=\"none\" stroke=\"black\" cx=\"261\" cy=\"-18\" rx=\"27\" ry=\"18\"/>\n",
       "<text text-anchor=\"middle\" x=\"261\" y=\"-13.8\" font-family=\"Times,serif\" font-size=\"14.00\">4</text>\n",
       "</g>\n",
       "<!-- ~E_16&#45;&gt;4_15 -->\n",
       "<g id=\"edge4\" class=\"edge\"><title>~E_16&#45;&gt;4_15</title>\n",
       "<path fill=\"none\" stroke=\"black\" d=\"M218.984,-73.4647C225.976,-64.4021 234.936,-52.7865 242.785,-42.6119\"/>\n",
       "<polygon fill=\"black\" stroke=\"black\" points=\"245.712,-44.5475 249.049,-34.4918 240.17,-40.2719 245.712,-44.5475\"/>\n",
       "</g>\n",
       "</g>\n",
       "</svg>\n"
      ],
      "text/plain": [
       "<graphviz.dot.Digraph at 0x10924fba8>"
      ]
     },
     "execution_count": 9,
     "metadata": {},
     "output_type": "execute_result"
    }
   ],
   "source": [
    "drawPT(parseRE(\"~3^~4\"))"
   ]
  },
  {
   "cell_type": "code",
   "execution_count": 10,
   "metadata": {
    "run_control": {
     "frozen": false,
     "read_only": false
    }
   },
   "outputs": [
    {
     "name": "stderr",
     "output_type": "stream",
     "text": [
      "Generating LALR tables\n"
     ]
    },
    {
     "name": "stdout",
     "output_type": "stream",
     "text": [
      "Result calculated =  1.008594091576999\n",
      "Drawing AST for  ('**', (('NUMBER', '2'), ('**', (('~', ('NUMBER', '3')), ('~', ('NUMBER', '4'))))))\n"
     ]
    },
    {
     "data": {
      "image/svg+xml": [
       "<?xml version=\"1.0\" encoding=\"UTF-8\" standalone=\"no\"?>\n",
       "<!DOCTYPE svg PUBLIC \"-//W3C//DTD SVG 1.1//EN\"\n",
       " \"http://www.w3.org/Graphics/SVG/1.1/DTD/svg11.dtd\">\n",
       "<!-- Generated by graphviz version 2.38.0 (20140413.2041)\n",
       " -->\n",
       "<!-- Title: PT Pages: 1 -->\n",
       "<svg width=\"344pt\" height=\"260pt\"\n",
       " viewBox=\"0.00 0.00 344.00 260.00\" xmlns=\"http://www.w3.org/2000/svg\" xmlns:xlink=\"http://www.w3.org/1999/xlink\">\n",
       "<g id=\"graph0\" class=\"graph\" transform=\"scale(1 1) rotate(0) translate(4 256)\">\n",
       "<title>PT</title>\n",
       "<polygon fill=\"white\" stroke=\"none\" points=\"-4,4 -4,-256 340,-256 340,4 -4,4\"/>\n",
       "<!-- E1**E2_29 -->\n",
       "<g id=\"node1\" class=\"node\"><title>E1**E2_29</title>\n",
       "<ellipse fill=\"none\" stroke=\"black\" cx=\"99\" cy=\"-234\" rx=\"38.6955\" ry=\"18\"/>\n",
       "<text text-anchor=\"middle\" x=\"99\" y=\"-229.8\" font-family=\"Times,serif\" font-size=\"14.00\">E1**E2</text>\n",
       "</g>\n",
       "<!-- 2_20 -->\n",
       "<g id=\"node2\" class=\"node\"><title>2_20</title>\n",
       "<ellipse fill=\"none\" stroke=\"black\" cx=\"27\" cy=\"-162\" rx=\"27\" ry=\"18\"/>\n",
       "<text text-anchor=\"middle\" x=\"27\" y=\"-157.8\" font-family=\"Times,serif\" font-size=\"14.00\">2</text>\n",
       "</g>\n",
       "<!-- E1**E2_29&#45;&gt;2_20 -->\n",
       "<g id=\"edge8\" class=\"edge\"><title>E1**E2_29&#45;&gt;2_20</title>\n",
       "<path fill=\"none\" stroke=\"black\" d=\"M83.0209,-217.465C73.0571,-207.778 60.0932,-195.174 49.1461,-184.531\"/>\n",
       "<polygon fill=\"black\" stroke=\"black\" points=\"51.561,-181.997 41.9512,-177.536 46.6814,-187.016 51.561,-181.997\"/>\n",
       "</g>\n",
       "<!-- **_30 -->\n",
       "<g id=\"node3\" class=\"node\"><title>**_30</title>\n",
       "<ellipse fill=\"none\" stroke=\"black\" cx=\"99\" cy=\"-162\" rx=\"27\" ry=\"18\"/>\n",
       "<text text-anchor=\"middle\" x=\"99\" y=\"-157.8\" font-family=\"Times,serif\" font-size=\"14.00\">**</text>\n",
       "</g>\n",
       "<!-- E1**E2_29&#45;&gt;**_30 -->\n",
       "<g id=\"edge9\" class=\"edge\"><title>E1**E2_29&#45;&gt;**_30</title>\n",
       "<path fill=\"none\" stroke=\"black\" d=\"M99,-215.697C99,-207.983 99,-198.712 99,-190.112\"/>\n",
       "<polygon fill=\"black\" stroke=\"black\" points=\"102.5,-190.104 99,-180.104 95.5001,-190.104 102.5,-190.104\"/>\n",
       "</g>\n",
       "<!-- E1**E2_27 -->\n",
       "<g id=\"node4\" class=\"node\"><title>E1**E2_27</title>\n",
       "<ellipse fill=\"none\" stroke=\"black\" cx=\"183\" cy=\"-162\" rx=\"38.6955\" ry=\"18\"/>\n",
       "<text text-anchor=\"middle\" x=\"183\" y=\"-157.8\" font-family=\"Times,serif\" font-size=\"14.00\">E1**E2</text>\n",
       "</g>\n",
       "<!-- E1**E2_29&#45;&gt;E1**E2_27 -->\n",
       "<g id=\"edge10\" class=\"edge\"><title>E1**E2_29&#45;&gt;E1**E2_27</title>\n",
       "<path fill=\"none\" stroke=\"black\" d=\"M117.227,-217.811C128.785,-208.179 143.924,-195.563 156.764,-184.863\"/>\n",
       "<polygon fill=\"black\" stroke=\"black\" points=\"159.367,-187.25 164.809,-178.159 154.886,-181.872 159.367,-187.25\"/>\n",
       "</g>\n",
       "<!-- ~E_22 -->\n",
       "<g id=\"node5\" class=\"node\"><title>~E_22</title>\n",
       "<ellipse fill=\"none\" stroke=\"black\" cx=\"111\" cy=\"-90\" rx=\"27\" ry=\"18\"/>\n",
       "<text text-anchor=\"middle\" x=\"111\" y=\"-85.8\" font-family=\"Times,serif\" font-size=\"14.00\">~E</text>\n",
       "</g>\n",
       "<!-- E1**E2_27&#45;&gt;~E_22 -->\n",
       "<g id=\"edge5\" class=\"edge\"><title>E1**E2_27&#45;&gt;~E_22</title>\n",
       "<path fill=\"none\" stroke=\"black\" d=\"M167.021,-145.465C157.057,-135.778 144.093,-123.174 133.146,-112.531\"/>\n",
       "<polygon fill=\"black\" stroke=\"black\" points=\"135.561,-109.997 125.951,-105.536 130.681,-115.016 135.561,-109.997\"/>\n",
       "</g>\n",
       "<!-- **_28 -->\n",
       "<g id=\"node6\" class=\"node\"><title>**_28</title>\n",
       "<ellipse fill=\"none\" stroke=\"black\" cx=\"183\" cy=\"-90\" rx=\"27\" ry=\"18\"/>\n",
       "<text text-anchor=\"middle\" x=\"183\" y=\"-85.8\" font-family=\"Times,serif\" font-size=\"14.00\">**</text>\n",
       "</g>\n",
       "<!-- E1**E2_27&#45;&gt;**_28 -->\n",
       "<g id=\"edge6\" class=\"edge\"><title>E1**E2_27&#45;&gt;**_28</title>\n",
       "<path fill=\"none\" stroke=\"black\" d=\"M183,-143.697C183,-135.983 183,-126.712 183,-118.112\"/>\n",
       "<polygon fill=\"black\" stroke=\"black\" points=\"186.5,-118.104 183,-108.104 179.5,-118.104 186.5,-118.104\"/>\n",
       "</g>\n",
       "<!-- ~E_25 -->\n",
       "<g id=\"node7\" class=\"node\"><title>~E_25</title>\n",
       "<ellipse fill=\"none\" stroke=\"black\" cx=\"255\" cy=\"-90\" rx=\"27\" ry=\"18\"/>\n",
       "<text text-anchor=\"middle\" x=\"255\" y=\"-85.8\" font-family=\"Times,serif\" font-size=\"14.00\">~E</text>\n",
       "</g>\n",
       "<!-- E1**E2_27&#45;&gt;~E_25 -->\n",
       "<g id=\"edge7\" class=\"edge\"><title>E1**E2_27&#45;&gt;~E_25</title>\n",
       "<path fill=\"none\" stroke=\"black\" d=\"M198.979,-145.465C208.943,-135.778 221.907,-123.174 232.854,-112.531\"/>\n",
       "<polygon fill=\"black\" stroke=\"black\" points=\"235.319,-115.016 240.049,-105.536 230.439,-109.997 235.319,-115.016\"/>\n",
       "</g>\n",
       "<!-- ~_23 -->\n",
       "<g id=\"node8\" class=\"node\"><title>~_23</title>\n",
       "<ellipse fill=\"none\" stroke=\"black\" cx=\"75\" cy=\"-18\" rx=\"27\" ry=\"18\"/>\n",
       "<text text-anchor=\"middle\" x=\"75\" y=\"-13.8\" font-family=\"Times,serif\" font-size=\"14.00\">~</text>\n",
       "</g>\n",
       "<!-- ~E_22&#45;&gt;~_23 -->\n",
       "<g id=\"edge1\" class=\"edge\"><title>~E_22&#45;&gt;~_23</title>\n",
       "<path fill=\"none\" stroke=\"black\" d=\"M102.65,-72.7646C98.2885,-64.2831 92.8531,-53.7144 87.9587,-44.1974\"/>\n",
       "<polygon fill=\"black\" stroke=\"black\" points=\"90.9904,-42.4395 83.3043,-35.1473 84.7654,-45.6409 90.9904,-42.4395\"/>\n",
       "</g>\n",
       "<!-- 3_21 -->\n",
       "<g id=\"node9\" class=\"node\"><title>3_21</title>\n",
       "<ellipse fill=\"none\" stroke=\"black\" cx=\"147\" cy=\"-18\" rx=\"27\" ry=\"18\"/>\n",
       "<text text-anchor=\"middle\" x=\"147\" y=\"-13.8\" font-family=\"Times,serif\" font-size=\"14.00\">3</text>\n",
       "</g>\n",
       "<!-- ~E_22&#45;&gt;3_21 -->\n",
       "<g id=\"edge2\" class=\"edge\"><title>~E_22&#45;&gt;3_21</title>\n",
       "<path fill=\"none\" stroke=\"black\" d=\"M119.35,-72.7646C123.712,-64.2831 129.147,-53.7144 134.041,-44.1974\"/>\n",
       "<polygon fill=\"black\" stroke=\"black\" points=\"137.235,-45.6409 138.696,-35.1473 131.01,-42.4395 137.235,-45.6409\"/>\n",
       "</g>\n",
       "<!-- ~_26 -->\n",
       "<g id=\"node10\" class=\"node\"><title>~_26</title>\n",
       "<ellipse fill=\"none\" stroke=\"black\" cx=\"237\" cy=\"-18\" rx=\"27\" ry=\"18\"/>\n",
       "<text text-anchor=\"middle\" x=\"237\" y=\"-13.8\" font-family=\"Times,serif\" font-size=\"14.00\">~</text>\n",
       "</g>\n",
       "<!-- ~E_25&#45;&gt;~_26 -->\n",
       "<g id=\"edge3\" class=\"edge\"><title>~E_25&#45;&gt;~_26</title>\n",
       "<path fill=\"none\" stroke=\"black\" d=\"M250.643,-72.055C248.609,-64.1446 246.139,-54.5398 243.863,-45.6879\"/>\n",
       "<polygon fill=\"black\" stroke=\"black\" points=\"247.197,-44.6023 241.317,-35.789 240.418,-46.3456 247.197,-44.6023\"/>\n",
       "</g>\n",
       "<!-- 4_24 -->\n",
       "<g id=\"node11\" class=\"node\"><title>4_24</title>\n",
       "<ellipse fill=\"none\" stroke=\"black\" cx=\"309\" cy=\"-18\" rx=\"27\" ry=\"18\"/>\n",
       "<text text-anchor=\"middle\" x=\"309\" y=\"-13.8\" font-family=\"Times,serif\" font-size=\"14.00\">4</text>\n",
       "</g>\n",
       "<!-- ~E_25&#45;&gt;4_24 -->\n",
       "<g id=\"edge4\" class=\"edge\"><title>~E_25&#45;&gt;4_24</title>\n",
       "<path fill=\"none\" stroke=\"black\" d=\"M266.984,-73.4647C273.976,-64.4021 282.936,-52.7865 290.785,-42.6119\"/>\n",
       "<polygon fill=\"black\" stroke=\"black\" points=\"293.712,-44.5475 297.049,-34.4918 288.17,-40.2719 293.712,-44.5475\"/>\n",
       "</g>\n",
       "</g>\n",
       "</svg>\n"
      ],
      "text/plain": [
       "<graphviz.dot.Digraph at 0x109211b70>"
      ]
     },
     "execution_count": 10,
     "metadata": {},
     "output_type": "execute_result"
    }
   ],
   "source": [
    "drawPT(parseRE(\"2^~3^~4\"))"
   ]
  },
  {
   "cell_type": "code",
   "execution_count": 11,
   "metadata": {
    "run_control": {
     "frozen": false,
     "read_only": false
    }
   },
   "outputs": [
    {
     "data": {
      "text/plain": [
       "-0.012345679012345678"
      ]
     },
     "execution_count": 11,
     "metadata": {},
     "output_type": "execute_result"
    }
   ],
   "source": [
    "-3**-4"
   ]
  },
  {
   "cell_type": "code",
   "execution_count": 12,
   "metadata": {
    "run_control": {
     "frozen": false,
     "read_only": false
    }
   },
   "outputs": [
    {
     "data": {
      "text/plain": [
       "-0.012345679012345678"
      ]
     },
     "execution_count": 12,
     "metadata": {},
     "output_type": "execute_result"
    }
   ],
   "source": [
    "-(3**-4)"
   ]
  },
  {
   "cell_type": "code",
   "execution_count": 13,
   "metadata": {
    "run_control": {
     "frozen": false,
     "read_only": false
    }
   },
   "outputs": [
    {
     "data": {
      "text/plain": [
       "0.012345679012345678"
      ]
     },
     "execution_count": 13,
     "metadata": {},
     "output_type": "execute_result"
    }
   ],
   "source": [
    "(-3)**(-4)"
   ]
  },
  {
   "cell_type": "code",
   "execution_count": 14,
   "metadata": {
    "run_control": {
     "frozen": false,
     "read_only": false
    }
   },
   "outputs": [
    {
     "name": "stderr",
     "output_type": "stream",
     "text": [
      "Generating LALR tables\n"
     ]
    },
    {
     "name": "stdout",
     "output_type": "stream",
     "text": [
      "Result calculated =  243\n",
      "Drawing AST for  ('*', (('*', (('NUMBER', '3'), ('**', (('NUMBER', '3'), ('NUMBER', '3'))))), ('NUMBER', '3')))\n"
     ]
    },
    {
     "data": {
      "image/svg+xml": [
       "<?xml version=\"1.0\" encoding=\"UTF-8\" standalone=\"no\"?>\n",
       "<!DOCTYPE svg PUBLIC \"-//W3C//DTD SVG 1.1//EN\"\n",
       " \"http://www.w3.org/Graphics/SVG/1.1/DTD/svg11.dtd\">\n",
       "<!-- Generated by graphviz version 2.38.0 (20140413.2041)\n",
       " -->\n",
       "<!-- Title: PT Pages: 1 -->\n",
       "<svg width=\"290pt\" height=\"260pt\"\n",
       " viewBox=\"0.00 0.00 290.00 260.00\" xmlns=\"http://www.w3.org/2000/svg\" xmlns:xlink=\"http://www.w3.org/1999/xlink\">\n",
       "<g id=\"graph0\" class=\"graph\" transform=\"scale(1 1) rotate(0) translate(4 256)\">\n",
       "<title>PT</title>\n",
       "<polygon fill=\"white\" stroke=\"none\" points=\"-4,4 -4,-256 286,-256 286,4 -4,4\"/>\n",
       "<!-- E1*E2_39 -->\n",
       "<g id=\"node1\" class=\"node\"><title>E1*E2_39</title>\n",
       "<ellipse fill=\"none\" stroke=\"black\" cx=\"178\" cy=\"-234\" rx=\"34.3527\" ry=\"18\"/>\n",
       "<text text-anchor=\"middle\" x=\"178\" y=\"-229.8\" font-family=\"Times,serif\" font-size=\"14.00\">E1*E2</text>\n",
       "</g>\n",
       "<!-- E1*E2_36 -->\n",
       "<g id=\"node2\" class=\"node\"><title>E1*E2_36</title>\n",
       "<ellipse fill=\"none\" stroke=\"black\" cx=\"99\" cy=\"-162\" rx=\"34.3527\" ry=\"18\"/>\n",
       "<text text-anchor=\"middle\" x=\"99\" y=\"-157.8\" font-family=\"Times,serif\" font-size=\"14.00\">E1*E2</text>\n",
       "</g>\n",
       "<!-- E1*E2_39&#45;&gt;E1*E2_36 -->\n",
       "<g id=\"edge7\" class=\"edge\"><title>E1*E2_39&#45;&gt;E1*E2_36</title>\n",
       "<path fill=\"none\" stroke=\"black\" d=\"M161.246,-218.155C150.249,-208.41 135.682,-195.503 123.406,-184.626\"/>\n",
       "<polygon fill=\"black\" stroke=\"black\" points=\"125.535,-181.836 115.73,-177.824 120.893,-187.075 125.535,-181.836\"/>\n",
       "</g>\n",
       "<!-- *_40 -->\n",
       "<g id=\"node3\" class=\"node\"><title>*_40</title>\n",
       "<ellipse fill=\"none\" stroke=\"black\" cx=\"178\" cy=\"-162\" rx=\"27\" ry=\"18\"/>\n",
       "<text text-anchor=\"middle\" x=\"178\" y=\"-157.8\" font-family=\"Times,serif\" font-size=\"14.00\">*</text>\n",
       "</g>\n",
       "<!-- E1*E2_39&#45;&gt;*_40 -->\n",
       "<g id=\"edge8\" class=\"edge\"><title>E1*E2_39&#45;&gt;*_40</title>\n",
       "<path fill=\"none\" stroke=\"black\" d=\"M178,-215.697C178,-207.983 178,-198.712 178,-190.112\"/>\n",
       "<polygon fill=\"black\" stroke=\"black\" points=\"181.5,-190.104 178,-180.104 174.5,-190.104 181.5,-190.104\"/>\n",
       "</g>\n",
       "<!-- 3_38 -->\n",
       "<g id=\"node4\" class=\"node\"><title>3_38</title>\n",
       "<ellipse fill=\"none\" stroke=\"black\" cx=\"250\" cy=\"-162\" rx=\"27\" ry=\"18\"/>\n",
       "<text text-anchor=\"middle\" x=\"250\" y=\"-157.8\" font-family=\"Times,serif\" font-size=\"14.00\">3</text>\n",
       "</g>\n",
       "<!-- E1*E2_39&#45;&gt;3_38 -->\n",
       "<g id=\"edge9\" class=\"edge\"><title>E1*E2_39&#45;&gt;3_38</title>\n",
       "<path fill=\"none\" stroke=\"black\" d=\"M193.623,-217.811C203.704,-208.01 216.964,-195.118 228.092,-184.3\"/>\n",
       "<polygon fill=\"black\" stroke=\"black\" points=\"230.659,-186.685 235.389,-177.205 225.779,-181.666 230.659,-186.685\"/>\n",
       "</g>\n",
       "<!-- 3_31 -->\n",
       "<g id=\"node5\" class=\"node\"><title>3_31</title>\n",
       "<ellipse fill=\"none\" stroke=\"black\" cx=\"27\" cy=\"-90\" rx=\"27\" ry=\"18\"/>\n",
       "<text text-anchor=\"middle\" x=\"27\" y=\"-85.8\" font-family=\"Times,serif\" font-size=\"14.00\">3</text>\n",
       "</g>\n",
       "<!-- E1*E2_36&#45;&gt;3_31 -->\n",
       "<g id=\"edge4\" class=\"edge\"><title>E1*E2_36&#45;&gt;3_31</title>\n",
       "<path fill=\"none\" stroke=\"black\" d=\"M83.3771,-145.811C73.2958,-136.01 60.0358,-123.118 48.9084,-112.3\"/>\n",
       "<polygon fill=\"black\" stroke=\"black\" points=\"51.2207,-109.666 41.6109,-105.205 46.3411,-114.685 51.2207,-109.666\"/>\n",
       "</g>\n",
       "<!-- *_37 -->\n",
       "<g id=\"node6\" class=\"node\"><title>*_37</title>\n",
       "<ellipse fill=\"none\" stroke=\"black\" cx=\"99\" cy=\"-90\" rx=\"27\" ry=\"18\"/>\n",
       "<text text-anchor=\"middle\" x=\"99\" y=\"-85.8\" font-family=\"Times,serif\" font-size=\"14.00\">*</text>\n",
       "</g>\n",
       "<!-- E1*E2_36&#45;&gt;*_37 -->\n",
       "<g id=\"edge5\" class=\"edge\"><title>E1*E2_36&#45;&gt;*_37</title>\n",
       "<path fill=\"none\" stroke=\"black\" d=\"M99,-143.697C99,-135.983 99,-126.712 99,-118.112\"/>\n",
       "<polygon fill=\"black\" stroke=\"black\" points=\"102.5,-118.104 99,-108.104 95.5001,-118.104 102.5,-118.104\"/>\n",
       "</g>\n",
       "<!-- E1**E2_34 -->\n",
       "<g id=\"node7\" class=\"node\"><title>E1**E2_34</title>\n",
       "<ellipse fill=\"none\" stroke=\"black\" cx=\"183\" cy=\"-90\" rx=\"38.6955\" ry=\"18\"/>\n",
       "<text text-anchor=\"middle\" x=\"183\" y=\"-85.8\" font-family=\"Times,serif\" font-size=\"14.00\">E1**E2</text>\n",
       "</g>\n",
       "<!-- E1*E2_36&#45;&gt;E1**E2_34 -->\n",
       "<g id=\"edge6\" class=\"edge\"><title>E1*E2_36&#45;&gt;E1**E2_34</title>\n",
       "<path fill=\"none\" stroke=\"black\" d=\"M116.405,-146.496C128.184,-136.68 143.949,-123.542 157.183,-112.514\"/>\n",
       "<polygon fill=\"black\" stroke=\"black\" points=\"159.596,-115.059 165.038,-105.968 155.115,-109.682 159.596,-115.059\"/>\n",
       "</g>\n",
       "<!-- 3_32 -->\n",
       "<g id=\"node8\" class=\"node\"><title>3_32</title>\n",
       "<ellipse fill=\"none\" stroke=\"black\" cx=\"111\" cy=\"-18\" rx=\"27\" ry=\"18\"/>\n",
       "<text text-anchor=\"middle\" x=\"111\" y=\"-13.8\" font-family=\"Times,serif\" font-size=\"14.00\">3</text>\n",
       "</g>\n",
       "<!-- E1**E2_34&#45;&gt;3_32 -->\n",
       "<g id=\"edge1\" class=\"edge\"><title>E1**E2_34&#45;&gt;3_32</title>\n",
       "<path fill=\"none\" stroke=\"black\" d=\"M167.021,-73.4647C157.057,-63.7778 144.093,-51.174 133.146,-40.531\"/>\n",
       "<polygon fill=\"black\" stroke=\"black\" points=\"135.561,-37.9972 125.951,-33.5359 130.681,-43.0162 135.561,-37.9972\"/>\n",
       "</g>\n",
       "<!-- **_35 -->\n",
       "<g id=\"node9\" class=\"node\"><title>**_35</title>\n",
       "<ellipse fill=\"none\" stroke=\"black\" cx=\"183\" cy=\"-18\" rx=\"27\" ry=\"18\"/>\n",
       "<text text-anchor=\"middle\" x=\"183\" y=\"-13.8\" font-family=\"Times,serif\" font-size=\"14.00\">**</text>\n",
       "</g>\n",
       "<!-- E1**E2_34&#45;&gt;**_35 -->\n",
       "<g id=\"edge2\" class=\"edge\"><title>E1**E2_34&#45;&gt;**_35</title>\n",
       "<path fill=\"none\" stroke=\"black\" d=\"M183,-71.6966C183,-63.9827 183,-54.7125 183,-46.1124\"/>\n",
       "<polygon fill=\"black\" stroke=\"black\" points=\"186.5,-46.1043 183,-36.1043 179.5,-46.1044 186.5,-46.1043\"/>\n",
       "</g>\n",
       "<!-- 3_33 -->\n",
       "<g id=\"node10\" class=\"node\"><title>3_33</title>\n",
       "<ellipse fill=\"none\" stroke=\"black\" cx=\"255\" cy=\"-18\" rx=\"27\" ry=\"18\"/>\n",
       "<text text-anchor=\"middle\" x=\"255\" y=\"-13.8\" font-family=\"Times,serif\" font-size=\"14.00\">3</text>\n",
       "</g>\n",
       "<!-- E1**E2_34&#45;&gt;3_33 -->\n",
       "<g id=\"edge3\" class=\"edge\"><title>E1**E2_34&#45;&gt;3_33</title>\n",
       "<path fill=\"none\" stroke=\"black\" d=\"M198.979,-73.4647C208.943,-63.7778 221.907,-51.174 232.854,-40.531\"/>\n",
       "<polygon fill=\"black\" stroke=\"black\" points=\"235.319,-43.0162 240.049,-33.5359 230.439,-37.9972 235.319,-43.0162\"/>\n",
       "</g>\n",
       "</g>\n",
       "</svg>\n"
      ],
      "text/plain": [
       "<graphviz.dot.Digraph at 0x10924f630>"
      ]
     },
     "execution_count": 14,
     "metadata": {},
     "output_type": "execute_result"
    }
   ],
   "source": [
    "drawPT(parseRE(\"3*3^3*3\"))"
   ]
  },
  {
   "cell_type": "code",
   "execution_count": 15,
   "metadata": {
    "run_control": {
     "frozen": false,
     "read_only": false
    }
   },
   "outputs": [
    {
     "name": "stderr",
     "output_type": "stream",
     "text": [
      "Generating LALR tables\n"
     ]
    },
    {
     "name": "stdout",
     "output_type": "stream",
     "text": [
      "Result calculated =  1\n",
      "Drawing AST for  ('NUMBER', '1')\n"
     ]
    },
    {
     "data": {
      "image/svg+xml": [
       "<?xml version=\"1.0\" encoding=\"UTF-8\" standalone=\"no\"?>\n",
       "<!DOCTYPE svg PUBLIC \"-//W3C//DTD SVG 1.1//EN\"\n",
       " \"http://www.w3.org/Graphics/SVG/1.1/DTD/svg11.dtd\">\n",
       "<!-- Generated by graphviz version 2.38.0 (20140413.2041)\n",
       " -->\n",
       "<!-- Title: PT Pages: 1 -->\n",
       "<svg width=\"62pt\" height=\"44pt\"\n",
       " viewBox=\"0.00 0.00 62.00 44.00\" xmlns=\"http://www.w3.org/2000/svg\" xmlns:xlink=\"http://www.w3.org/1999/xlink\">\n",
       "<g id=\"graph0\" class=\"graph\" transform=\"scale(1 1) rotate(0) translate(4 40)\">\n",
       "<title>PT</title>\n",
       "<polygon fill=\"white\" stroke=\"none\" points=\"-4,4 -4,-40 58,-40 58,4 -4,4\"/>\n",
       "<!-- 1_41 -->\n",
       "<g id=\"node1\" class=\"node\"><title>1_41</title>\n",
       "<ellipse fill=\"none\" stroke=\"black\" cx=\"27\" cy=\"-18\" rx=\"27\" ry=\"18\"/>\n",
       "<text text-anchor=\"middle\" x=\"27\" y=\"-13.8\" font-family=\"Times,serif\" font-size=\"14.00\">1</text>\n",
       "</g>\n",
       "</g>\n",
       "</svg>\n"
      ],
      "text/plain": [
       "<graphviz.dot.Digraph at 0x109211a90>"
      ]
     },
     "execution_count": 15,
     "metadata": {},
     "output_type": "execute_result"
    }
   ],
   "source": [
    "drawPT(parseRE(\"1\"))"
   ]
  },
  {
   "cell_type": "code",
   "execution_count": 16,
   "metadata": {
    "run_control": {
     "frozen": false,
     "read_only": false
    }
   },
   "outputs": [
    {
     "name": "stdout",
     "output_type": "stream",
     "text": [
      "Result calculated =  3\n",
      "Drawing AST for  ('+', (('NUMBER', '1'), ('NUMBER', '2')))\n"
     ]
    },
    {
     "name": "stderr",
     "output_type": "stream",
     "text": [
      "Generating LALR tables\n"
     ]
    },
    {
     "data": {
      "image/svg+xml": [
       "<?xml version=\"1.0\" encoding=\"UTF-8\" standalone=\"no\"?>\n",
       "<!DOCTYPE svg PUBLIC \"-//W3C//DTD SVG 1.1//EN\"\n",
       " \"http://www.w3.org/Graphics/SVG/1.1/DTD/svg11.dtd\">\n",
       "<!-- Generated by graphviz version 2.38.0 (20140413.2041)\n",
       " -->\n",
       "<!-- Title: PT Pages: 1 -->\n",
       "<svg width=\"206pt\" height=\"116pt\"\n",
       " viewBox=\"0.00 0.00 206.00 116.00\" xmlns=\"http://www.w3.org/2000/svg\" xmlns:xlink=\"http://www.w3.org/1999/xlink\">\n",
       "<g id=\"graph0\" class=\"graph\" transform=\"scale(1 1) rotate(0) translate(4 112)\">\n",
       "<title>PT</title>\n",
       "<polygon fill=\"white\" stroke=\"none\" points=\"-4,4 -4,-112 202,-112 202,4 -4,4\"/>\n",
       "<!-- E1+E2_44 -->\n",
       "<g id=\"node1\" class=\"node\"><title>E1+E2_44</title>\n",
       "<ellipse fill=\"none\" stroke=\"black\" cx=\"99\" cy=\"-90\" rx=\"34.9848\" ry=\"18\"/>\n",
       "<text text-anchor=\"middle\" x=\"99\" y=\"-85.8\" font-family=\"Times,serif\" font-size=\"14.00\">E1+E2</text>\n",
       "</g>\n",
       "<!-- 1_42 -->\n",
       "<g id=\"node2\" class=\"node\"><title>1_42</title>\n",
       "<ellipse fill=\"none\" stroke=\"black\" cx=\"27\" cy=\"-18\" rx=\"27\" ry=\"18\"/>\n",
       "<text text-anchor=\"middle\" x=\"27\" y=\"-13.8\" font-family=\"Times,serif\" font-size=\"14.00\">1</text>\n",
       "</g>\n",
       "<!-- E1+E2_44&#45;&gt;1_42 -->\n",
       "<g id=\"edge1\" class=\"edge\"><title>E1+E2_44&#45;&gt;1_42</title>\n",
       "<path fill=\"none\" stroke=\"black\" d=\"M83.3771,-73.811C73.2958,-64.0098 60.0358,-51.1181 48.9084,-40.2999\"/>\n",
       "<polygon fill=\"black\" stroke=\"black\" points=\"51.2207,-37.6664 41.6109,-33.2051 46.3411,-42.6854 51.2207,-37.6664\"/>\n",
       "</g>\n",
       "<!-- +_45 -->\n",
       "<g id=\"node3\" class=\"node\"><title>+_45</title>\n",
       "<ellipse fill=\"none\" stroke=\"black\" cx=\"99\" cy=\"-18\" rx=\"27\" ry=\"18\"/>\n",
       "<text text-anchor=\"middle\" x=\"99\" y=\"-13.8\" font-family=\"Times,serif\" font-size=\"14.00\">+</text>\n",
       "</g>\n",
       "<!-- E1+E2_44&#45;&gt;+_45 -->\n",
       "<g id=\"edge2\" class=\"edge\"><title>E1+E2_44&#45;&gt;+_45</title>\n",
       "<path fill=\"none\" stroke=\"black\" d=\"M99,-71.6966C99,-63.9827 99,-54.7125 99,-46.1124\"/>\n",
       "<polygon fill=\"black\" stroke=\"black\" points=\"102.5,-46.1043 99,-36.1043 95.5001,-46.1044 102.5,-46.1043\"/>\n",
       "</g>\n",
       "<!-- 2_43 -->\n",
       "<g id=\"node4\" class=\"node\"><title>2_43</title>\n",
       "<ellipse fill=\"none\" stroke=\"black\" cx=\"171\" cy=\"-18\" rx=\"27\" ry=\"18\"/>\n",
       "<text text-anchor=\"middle\" x=\"171\" y=\"-13.8\" font-family=\"Times,serif\" font-size=\"14.00\">2</text>\n",
       "</g>\n",
       "<!-- E1+E2_44&#45;&gt;2_43 -->\n",
       "<g id=\"edge3\" class=\"edge\"><title>E1+E2_44&#45;&gt;2_43</title>\n",
       "<path fill=\"none\" stroke=\"black\" d=\"M114.623,-73.811C124.704,-64.0098 137.964,-51.1181 149.092,-40.2999\"/>\n",
       "<polygon fill=\"black\" stroke=\"black\" points=\"151.659,-42.6854 156.389,-33.2051 146.779,-37.6664 151.659,-42.6854\"/>\n",
       "</g>\n",
       "</g>\n",
       "</svg>\n"
      ],
      "text/plain": [
       "<graphviz.dot.Digraph at 0x10924f080>"
      ]
     },
     "execution_count": 16,
     "metadata": {},
     "output_type": "execute_result"
    }
   ],
   "source": [
    "drawPT(parseRE(\"1+2\"))"
   ]
  },
  {
   "cell_type": "code",
   "execution_count": 17,
   "metadata": {
    "run_control": {
     "frozen": false,
     "read_only": false
    }
   },
   "outputs": [
    {
     "name": "stderr",
     "output_type": "stream",
     "text": [
      "Generating LALR tables\n"
     ]
    },
    {
     "name": "stdout",
     "output_type": "stream",
     "text": [
      "Result calculated =  7\n",
      "Drawing AST for  ('+', (('NUMBER', '1'), ('*', (('NUMBER', '2'), ('NUMBER', '3')))))\n"
     ]
    },
    {
     "data": {
      "image/svg+xml": [
       "<?xml version=\"1.0\" encoding=\"UTF-8\" standalone=\"no\"?>\n",
       "<!DOCTYPE svg PUBLIC \"-//W3C//DTD SVG 1.1//EN\"\n",
       " \"http://www.w3.org/Graphics/SVG/1.1/DTD/svg11.dtd\">\n",
       "<!-- Generated by graphviz version 2.38.0 (20140413.2041)\n",
       " -->\n",
       "<!-- Title: PT Pages: 1 -->\n",
       "<svg width=\"285pt\" height=\"188pt\"\n",
       " viewBox=\"0.00 0.00 285.00 188.00\" xmlns=\"http://www.w3.org/2000/svg\" xmlns:xlink=\"http://www.w3.org/1999/xlink\">\n",
       "<g id=\"graph0\" class=\"graph\" transform=\"scale(1 1) rotate(0) translate(4 184)\">\n",
       "<title>PT</title>\n",
       "<polygon fill=\"white\" stroke=\"none\" points=\"-4,4 -4,-184 281,-184 281,4 -4,4\"/>\n",
       "<!-- E1+E2_51 -->\n",
       "<g id=\"node1\" class=\"node\"><title>E1+E2_51</title>\n",
       "<ellipse fill=\"none\" stroke=\"black\" cx=\"99\" cy=\"-162\" rx=\"34.9848\" ry=\"18\"/>\n",
       "<text text-anchor=\"middle\" x=\"99\" y=\"-157.8\" font-family=\"Times,serif\" font-size=\"14.00\">E1+E2</text>\n",
       "</g>\n",
       "<!-- 1_46 -->\n",
       "<g id=\"node2\" class=\"node\"><title>1_46</title>\n",
       "<ellipse fill=\"none\" stroke=\"black\" cx=\"27\" cy=\"-90\" rx=\"27\" ry=\"18\"/>\n",
       "<text text-anchor=\"middle\" x=\"27\" y=\"-85.8\" font-family=\"Times,serif\" font-size=\"14.00\">1</text>\n",
       "</g>\n",
       "<!-- E1+E2_51&#45;&gt;1_46 -->\n",
       "<g id=\"edge4\" class=\"edge\"><title>E1+E2_51&#45;&gt;1_46</title>\n",
       "<path fill=\"none\" stroke=\"black\" d=\"M83.3771,-145.811C73.2958,-136.01 60.0358,-123.118 48.9084,-112.3\"/>\n",
       "<polygon fill=\"black\" stroke=\"black\" points=\"51.2207,-109.666 41.6109,-105.205 46.3411,-114.685 51.2207,-109.666\"/>\n",
       "</g>\n",
       "<!-- +_52 -->\n",
       "<g id=\"node3\" class=\"node\"><title>+_52</title>\n",
       "<ellipse fill=\"none\" stroke=\"black\" cx=\"99\" cy=\"-90\" rx=\"27\" ry=\"18\"/>\n",
       "<text text-anchor=\"middle\" x=\"99\" y=\"-85.8\" font-family=\"Times,serif\" font-size=\"14.00\">+</text>\n",
       "</g>\n",
       "<!-- E1+E2_51&#45;&gt;+_52 -->\n",
       "<g id=\"edge5\" class=\"edge\"><title>E1+E2_51&#45;&gt;+_52</title>\n",
       "<path fill=\"none\" stroke=\"black\" d=\"M99,-143.697C99,-135.983 99,-126.712 99,-118.112\"/>\n",
       "<polygon fill=\"black\" stroke=\"black\" points=\"102.5,-118.104 99,-108.104 95.5001,-118.104 102.5,-118.104\"/>\n",
       "</g>\n",
       "<!-- E1*E2_49 -->\n",
       "<g id=\"node4\" class=\"node\"><title>E1*E2_49</title>\n",
       "<ellipse fill=\"none\" stroke=\"black\" cx=\"178\" cy=\"-90\" rx=\"34.3527\" ry=\"18\"/>\n",
       "<text text-anchor=\"middle\" x=\"178\" y=\"-85.8\" font-family=\"Times,serif\" font-size=\"14.00\">E1*E2</text>\n",
       "</g>\n",
       "<!-- E1+E2_51&#45;&gt;E1*E2_49 -->\n",
       "<g id=\"edge6\" class=\"edge\"><title>E1+E2_51&#45;&gt;E1*E2_49</title>\n",
       "<path fill=\"none\" stroke=\"black\" d=\"M115.754,-146.155C126.751,-136.41 141.318,-123.503 153.594,-112.626\"/>\n",
       "<polygon fill=\"black\" stroke=\"black\" points=\"156.107,-115.075 161.27,-105.824 151.465,-109.836 156.107,-115.075\"/>\n",
       "</g>\n",
       "<!-- 2_47 -->\n",
       "<g id=\"node5\" class=\"node\"><title>2_47</title>\n",
       "<ellipse fill=\"none\" stroke=\"black\" cx=\"106\" cy=\"-18\" rx=\"27\" ry=\"18\"/>\n",
       "<text text-anchor=\"middle\" x=\"106\" y=\"-13.8\" font-family=\"Times,serif\" font-size=\"14.00\">2</text>\n",
       "</g>\n",
       "<!-- E1*E2_49&#45;&gt;2_47 -->\n",
       "<g id=\"edge1\" class=\"edge\"><title>E1*E2_49&#45;&gt;2_47</title>\n",
       "<path fill=\"none\" stroke=\"black\" d=\"M162.377,-73.811C152.296,-64.0098 139.036,-51.1181 127.908,-40.2999\"/>\n",
       "<polygon fill=\"black\" stroke=\"black\" points=\"130.221,-37.6664 120.611,-33.2051 125.341,-42.6854 130.221,-37.6664\"/>\n",
       "</g>\n",
       "<!-- *_50 -->\n",
       "<g id=\"node6\" class=\"node\"><title>*_50</title>\n",
       "<ellipse fill=\"none\" stroke=\"black\" cx=\"178\" cy=\"-18\" rx=\"27\" ry=\"18\"/>\n",
       "<text text-anchor=\"middle\" x=\"178\" y=\"-13.8\" font-family=\"Times,serif\" font-size=\"14.00\">*</text>\n",
       "</g>\n",
       "<!-- E1*E2_49&#45;&gt;*_50 -->\n",
       "<g id=\"edge2\" class=\"edge\"><title>E1*E2_49&#45;&gt;*_50</title>\n",
       "<path fill=\"none\" stroke=\"black\" d=\"M178,-71.6966C178,-63.9827 178,-54.7125 178,-46.1124\"/>\n",
       "<polygon fill=\"black\" stroke=\"black\" points=\"181.5,-46.1043 178,-36.1043 174.5,-46.1044 181.5,-46.1043\"/>\n",
       "</g>\n",
       "<!-- 3_48 -->\n",
       "<g id=\"node7\" class=\"node\"><title>3_48</title>\n",
       "<ellipse fill=\"none\" stroke=\"black\" cx=\"250\" cy=\"-18\" rx=\"27\" ry=\"18\"/>\n",
       "<text text-anchor=\"middle\" x=\"250\" y=\"-13.8\" font-family=\"Times,serif\" font-size=\"14.00\">3</text>\n",
       "</g>\n",
       "<!-- E1*E2_49&#45;&gt;3_48 -->\n",
       "<g id=\"edge3\" class=\"edge\"><title>E1*E2_49&#45;&gt;3_48</title>\n",
       "<path fill=\"none\" stroke=\"black\" d=\"M193.623,-73.811C203.704,-64.0098 216.964,-51.1181 228.092,-40.2999\"/>\n",
       "<polygon fill=\"black\" stroke=\"black\" points=\"230.659,-42.6854 235.389,-33.2051 225.779,-37.6664 230.659,-42.6854\"/>\n",
       "</g>\n",
       "</g>\n",
       "</svg>\n"
      ],
      "text/plain": [
       "<graphviz.dot.Digraph at 0x109232860>"
      ]
     },
     "execution_count": 17,
     "metadata": {},
     "output_type": "execute_result"
    }
   ],
   "source": [
    "drawPT(parseRE(\"1+2*3\"))"
   ]
  },
  {
   "cell_type": "code",
   "execution_count": 18,
   "metadata": {
    "run_control": {
     "frozen": false,
     "read_only": false
    }
   },
   "outputs": [
    {
     "name": "stdout",
     "output_type": "stream",
     "text": [
      "Result calculated =  -1\n",
      "Drawing AST for  ('+', (('NUMBER', '1'), ('~', ('NUMBER', '2'))))\n"
     ]
    },
    {
     "name": "stderr",
     "output_type": "stream",
     "text": [
      "Generating LALR tables\n"
     ]
    },
    {
     "data": {
      "image/svg+xml": [
       "<?xml version=\"1.0\" encoding=\"UTF-8\" standalone=\"no\"?>\n",
       "<!DOCTYPE svg PUBLIC \"-//W3C//DTD SVG 1.1//EN\"\n",
       " \"http://www.w3.org/Graphics/SVG/1.1/DTD/svg11.dtd\">\n",
       "<!-- Generated by graphviz version 2.38.0 (20140413.2041)\n",
       " -->\n",
       "<!-- Title: PT Pages: 1 -->\n",
       "<svg width=\"242pt\" height=\"188pt\"\n",
       " viewBox=\"0.00 0.00 242.00 188.00\" xmlns=\"http://www.w3.org/2000/svg\" xmlns:xlink=\"http://www.w3.org/1999/xlink\">\n",
       "<g id=\"graph0\" class=\"graph\" transform=\"scale(1 1) rotate(0) translate(4 184)\">\n",
       "<title>PT</title>\n",
       "<polygon fill=\"white\" stroke=\"none\" points=\"-4,4 -4,-184 238,-184 238,4 -4,4\"/>\n",
       "<!-- E1+E2_57 -->\n",
       "<g id=\"node1\" class=\"node\"><title>E1+E2_57</title>\n",
       "<ellipse fill=\"none\" stroke=\"black\" cx=\"99\" cy=\"-162\" rx=\"34.9848\" ry=\"18\"/>\n",
       "<text text-anchor=\"middle\" x=\"99\" y=\"-157.8\" font-family=\"Times,serif\" font-size=\"14.00\">E1+E2</text>\n",
       "</g>\n",
       "<!-- 1_53 -->\n",
       "<g id=\"node2\" class=\"node\"><title>1_53</title>\n",
       "<ellipse fill=\"none\" stroke=\"black\" cx=\"27\" cy=\"-90\" rx=\"27\" ry=\"18\"/>\n",
       "<text text-anchor=\"middle\" x=\"27\" y=\"-85.8\" font-family=\"Times,serif\" font-size=\"14.00\">1</text>\n",
       "</g>\n",
       "<!-- E1+E2_57&#45;&gt;1_53 -->\n",
       "<g id=\"edge3\" class=\"edge\"><title>E1+E2_57&#45;&gt;1_53</title>\n",
       "<path fill=\"none\" stroke=\"black\" d=\"M83.3771,-145.811C73.2958,-136.01 60.0358,-123.118 48.9084,-112.3\"/>\n",
       "<polygon fill=\"black\" stroke=\"black\" points=\"51.2207,-109.666 41.6109,-105.205 46.3411,-114.685 51.2207,-109.666\"/>\n",
       "</g>\n",
       "<!-- +_58 -->\n",
       "<g id=\"node3\" class=\"node\"><title>+_58</title>\n",
       "<ellipse fill=\"none\" stroke=\"black\" cx=\"99\" cy=\"-90\" rx=\"27\" ry=\"18\"/>\n",
       "<text text-anchor=\"middle\" x=\"99\" y=\"-85.8\" font-family=\"Times,serif\" font-size=\"14.00\">+</text>\n",
       "</g>\n",
       "<!-- E1+E2_57&#45;&gt;+_58 -->\n",
       "<g id=\"edge4\" class=\"edge\"><title>E1+E2_57&#45;&gt;+_58</title>\n",
       "<path fill=\"none\" stroke=\"black\" d=\"M99,-143.697C99,-135.983 99,-126.712 99,-118.112\"/>\n",
       "<polygon fill=\"black\" stroke=\"black\" points=\"102.5,-118.104 99,-108.104 95.5001,-118.104 102.5,-118.104\"/>\n",
       "</g>\n",
       "<!-- ~E_55 -->\n",
       "<g id=\"node4\" class=\"node\"><title>~E_55</title>\n",
       "<ellipse fill=\"none\" stroke=\"black\" cx=\"171\" cy=\"-90\" rx=\"27\" ry=\"18\"/>\n",
       "<text text-anchor=\"middle\" x=\"171\" y=\"-85.8\" font-family=\"Times,serif\" font-size=\"14.00\">~E</text>\n",
       "</g>\n",
       "<!-- E1+E2_57&#45;&gt;~E_55 -->\n",
       "<g id=\"edge5\" class=\"edge\"><title>E1+E2_57&#45;&gt;~E_55</title>\n",
       "<path fill=\"none\" stroke=\"black\" d=\"M114.623,-145.811C124.704,-136.01 137.964,-123.118 149.092,-112.3\"/>\n",
       "<polygon fill=\"black\" stroke=\"black\" points=\"151.659,-114.685 156.389,-105.205 146.779,-109.666 151.659,-114.685\"/>\n",
       "</g>\n",
       "<!-- ~_56 -->\n",
       "<g id=\"node5\" class=\"node\"><title>~_56</title>\n",
       "<ellipse fill=\"none\" stroke=\"black\" cx=\"135\" cy=\"-18\" rx=\"27\" ry=\"18\"/>\n",
       "<text text-anchor=\"middle\" x=\"135\" y=\"-13.8\" font-family=\"Times,serif\" font-size=\"14.00\">~</text>\n",
       "</g>\n",
       "<!-- ~E_55&#45;&gt;~_56 -->\n",
       "<g id=\"edge1\" class=\"edge\"><title>~E_55&#45;&gt;~_56</title>\n",
       "<path fill=\"none\" stroke=\"black\" d=\"M162.65,-72.7646C158.288,-64.2831 152.853,-53.7144 147.959,-44.1974\"/>\n",
       "<polygon fill=\"black\" stroke=\"black\" points=\"150.99,-42.4395 143.304,-35.1473 144.765,-45.6409 150.99,-42.4395\"/>\n",
       "</g>\n",
       "<!-- 2_54 -->\n",
       "<g id=\"node6\" class=\"node\"><title>2_54</title>\n",
       "<ellipse fill=\"none\" stroke=\"black\" cx=\"207\" cy=\"-18\" rx=\"27\" ry=\"18\"/>\n",
       "<text text-anchor=\"middle\" x=\"207\" y=\"-13.8\" font-family=\"Times,serif\" font-size=\"14.00\">2</text>\n",
       "</g>\n",
       "<!-- ~E_55&#45;&gt;2_54 -->\n",
       "<g id=\"edge2\" class=\"edge\"><title>~E_55&#45;&gt;2_54</title>\n",
       "<path fill=\"none\" stroke=\"black\" d=\"M179.35,-72.7646C183.712,-64.2831 189.147,-53.7144 194.041,-44.1974\"/>\n",
       "<polygon fill=\"black\" stroke=\"black\" points=\"197.235,-45.6409 198.696,-35.1473 191.01,-42.4395 197.235,-45.6409\"/>\n",
       "</g>\n",
       "</g>\n",
       "</svg>\n"
      ],
      "text/plain": [
       "<graphviz.dot.Digraph at 0x10914a5c0>"
      ]
     },
     "execution_count": 18,
     "metadata": {},
     "output_type": "execute_result"
    }
   ],
   "source": [
    "drawPT(parseRE(\"1+~2\"))"
   ]
  },
  {
   "cell_type": "code",
   "execution_count": 19,
   "metadata": {
    "run_control": {
     "frozen": false,
     "read_only": false
    }
   },
   "outputs": [
    {
     "name": "stdout",
     "output_type": "stream",
     "text": [
      "Result calculated =  -0.5\n",
      "Drawing AST for  ('+', (('NUMBER', '1'), ('/', (('*', (('~', ('NUMBER', '2')), ('NUMBER', '3'))), ('NUMBER', '4')))))\n"
     ]
    },
    {
     "name": "stderr",
     "output_type": "stream",
     "text": [
      "Generating LALR tables\n"
     ]
    },
    {
     "data": {
      "image/svg+xml": [
       "<?xml version=\"1.0\" encoding=\"UTF-8\" standalone=\"no\"?>\n",
       "<!DOCTYPE svg PUBLIC \"-//W3C//DTD SVG 1.1//EN\"\n",
       " \"http://www.w3.org/Graphics/SVG/1.1/DTD/svg11.dtd\">\n",
       "<!-- Generated by graphviz version 2.38.0 (20140413.2041)\n",
       " -->\n",
       "<!-- Title: PT Pages: 1 -->\n",
       "<svg width=\"321pt\" height=\"332pt\"\n",
       " viewBox=\"0.00 0.00 321.00 332.00\" xmlns=\"http://www.w3.org/2000/svg\" xmlns:xlink=\"http://www.w3.org/1999/xlink\">\n",
       "<g id=\"graph0\" class=\"graph\" transform=\"scale(1 1) rotate(0) translate(4 328)\">\n",
       "<title>PT</title>\n",
       "<polygon fill=\"white\" stroke=\"none\" points=\"-4,4 -4,-328 317,-328 317,4 -4,4\"/>\n",
       "<!-- E1+E2_69 -->\n",
       "<g id=\"node1\" class=\"node\"><title>E1+E2_69</title>\n",
       "<ellipse fill=\"none\" stroke=\"black\" cx=\"137\" cy=\"-306\" rx=\"34.9848\" ry=\"18\"/>\n",
       "<text text-anchor=\"middle\" x=\"137\" y=\"-301.8\" font-family=\"Times,serif\" font-size=\"14.00\">E1+E2</text>\n",
       "</g>\n",
       "<!-- 1_59 -->\n",
       "<g id=\"node2\" class=\"node\"><title>1_59</title>\n",
       "<ellipse fill=\"none\" stroke=\"black\" cx=\"65\" cy=\"-234\" rx=\"27\" ry=\"18\"/>\n",
       "<text text-anchor=\"middle\" x=\"65\" y=\"-229.8\" font-family=\"Times,serif\" font-size=\"14.00\">1</text>\n",
       "</g>\n",
       "<!-- E1+E2_69&#45;&gt;1_59 -->\n",
       "<g id=\"edge9\" class=\"edge\"><title>E1+E2_69&#45;&gt;1_59</title>\n",
       "<path fill=\"none\" stroke=\"black\" d=\"M121.377,-289.811C111.296,-280.01 98.0358,-267.118 86.9084,-256.3\"/>\n",
       "<polygon fill=\"black\" stroke=\"black\" points=\"89.2207,-253.666 79.6109,-249.205 84.3411,-258.685 89.2207,-253.666\"/>\n",
       "</g>\n",
       "<!-- +_70 -->\n",
       "<g id=\"node3\" class=\"node\"><title>+_70</title>\n",
       "<ellipse fill=\"none\" stroke=\"black\" cx=\"137\" cy=\"-234\" rx=\"27\" ry=\"18\"/>\n",
       "<text text-anchor=\"middle\" x=\"137\" y=\"-229.8\" font-family=\"Times,serif\" font-size=\"14.00\">+</text>\n",
       "</g>\n",
       "<!-- E1+E2_69&#45;&gt;+_70 -->\n",
       "<g id=\"edge10\" class=\"edge\"><title>E1+E2_69&#45;&gt;+_70</title>\n",
       "<path fill=\"none\" stroke=\"black\" d=\"M137,-287.697C137,-279.983 137,-270.712 137,-262.112\"/>\n",
       "<polygon fill=\"black\" stroke=\"black\" points=\"140.5,-262.104 137,-252.104 133.5,-262.104 140.5,-262.104\"/>\n",
       "</g>\n",
       "<!-- E1/E2_67 -->\n",
       "<g id=\"node4\" class=\"node\"><title>E1/E2_67</title>\n",
       "<ellipse fill=\"none\" stroke=\"black\" cx=\"214\" cy=\"-234\" rx=\"32.4237\" ry=\"18\"/>\n",
       "<text text-anchor=\"middle\" x=\"214\" y=\"-229.8\" font-family=\"Times,serif\" font-size=\"14.00\">E1/E2</text>\n",
       "</g>\n",
       "<!-- E1+E2_69&#45;&gt;E1/E2_67 -->\n",
       "<g id=\"edge11\" class=\"edge\"><title>E1+E2_69&#45;&gt;E1/E2_67</title>\n",
       "<path fill=\"none\" stroke=\"black\" d=\"M153.708,-289.811C164.448,-280.048 178.561,-267.217 190.433,-256.425\"/>\n",
       "<polygon fill=\"black\" stroke=\"black\" points=\"192.807,-258.996 197.852,-249.68 188.099,-253.817 192.807,-258.996\"/>\n",
       "</g>\n",
       "<!-- E1*E2_64 -->\n",
       "<g id=\"node5\" class=\"node\"><title>E1*E2_64</title>\n",
       "<ellipse fill=\"none\" stroke=\"black\" cx=\"135\" cy=\"-162\" rx=\"34.3527\" ry=\"18\"/>\n",
       "<text text-anchor=\"middle\" x=\"135\" y=\"-157.8\" font-family=\"Times,serif\" font-size=\"14.00\">E1*E2</text>\n",
       "</g>\n",
       "<!-- E1/E2_67&#45;&gt;E1*E2_64 -->\n",
       "<g id=\"edge6\" class=\"edge\"><title>E1/E2_67&#45;&gt;E1*E2_64</title>\n",
       "<path fill=\"none\" stroke=\"black\" d=\"M197.631,-218.496C186.657,-208.772 172.006,-195.79 159.633,-184.827\"/>\n",
       "<polygon fill=\"black\" stroke=\"black\" points=\"161.699,-181.981 151.893,-177.968 157.056,-187.22 161.699,-181.981\"/>\n",
       "</g>\n",
       "<!-- /_68 -->\n",
       "<g id=\"node6\" class=\"node\"><title>/_68</title>\n",
       "<ellipse fill=\"none\" stroke=\"black\" cx=\"214\" cy=\"-162\" rx=\"27\" ry=\"18\"/>\n",
       "<text text-anchor=\"middle\" x=\"214\" y=\"-157.8\" font-family=\"Times,serif\" font-size=\"14.00\">/</text>\n",
       "</g>\n",
       "<!-- E1/E2_67&#45;&gt;/_68 -->\n",
       "<g id=\"edge7\" class=\"edge\"><title>E1/E2_67&#45;&gt;/_68</title>\n",
       "<path fill=\"none\" stroke=\"black\" d=\"M214,-215.697C214,-207.983 214,-198.712 214,-190.112\"/>\n",
       "<polygon fill=\"black\" stroke=\"black\" points=\"217.5,-190.104 214,-180.104 210.5,-190.104 217.5,-190.104\"/>\n",
       "</g>\n",
       "<!-- 4_66 -->\n",
       "<g id=\"node7\" class=\"node\"><title>4_66</title>\n",
       "<ellipse fill=\"none\" stroke=\"black\" cx=\"286\" cy=\"-162\" rx=\"27\" ry=\"18\"/>\n",
       "<text text-anchor=\"middle\" x=\"286\" y=\"-157.8\" font-family=\"Times,serif\" font-size=\"14.00\">4</text>\n",
       "</g>\n",
       "<!-- E1/E2_67&#45;&gt;4_66 -->\n",
       "<g id=\"edge8\" class=\"edge\"><title>E1/E2_67&#45;&gt;4_66</title>\n",
       "<path fill=\"none\" stroke=\"black\" d=\"M229.623,-217.811C239.704,-208.01 252.964,-195.118 264.092,-184.3\"/>\n",
       "<polygon fill=\"black\" stroke=\"black\" points=\"266.659,-186.685 271.389,-177.205 261.779,-181.666 266.659,-186.685\"/>\n",
       "</g>\n",
       "<!-- ~E_61 -->\n",
       "<g id=\"node8\" class=\"node\"><title>~E_61</title>\n",
       "<ellipse fill=\"none\" stroke=\"black\" cx=\"63\" cy=\"-90\" rx=\"27\" ry=\"18\"/>\n",
       "<text text-anchor=\"middle\" x=\"63\" y=\"-85.8\" font-family=\"Times,serif\" font-size=\"14.00\">~E</text>\n",
       "</g>\n",
       "<!-- E1*E2_64&#45;&gt;~E_61 -->\n",
       "<g id=\"edge3\" class=\"edge\"><title>E1*E2_64&#45;&gt;~E_61</title>\n",
       "<path fill=\"none\" stroke=\"black\" d=\"M119.377,-145.811C109.296,-136.01 96.0358,-123.118 84.9084,-112.3\"/>\n",
       "<polygon fill=\"black\" stroke=\"black\" points=\"87.2207,-109.666 77.6109,-105.205 82.3411,-114.685 87.2207,-109.666\"/>\n",
       "</g>\n",
       "<!-- *_65 -->\n",
       "<g id=\"node9\" class=\"node\"><title>*_65</title>\n",
       "<ellipse fill=\"none\" stroke=\"black\" cx=\"135\" cy=\"-90\" rx=\"27\" ry=\"18\"/>\n",
       "<text text-anchor=\"middle\" x=\"135\" y=\"-85.8\" font-family=\"Times,serif\" font-size=\"14.00\">*</text>\n",
       "</g>\n",
       "<!-- E1*E2_64&#45;&gt;*_65 -->\n",
       "<g id=\"edge4\" class=\"edge\"><title>E1*E2_64&#45;&gt;*_65</title>\n",
       "<path fill=\"none\" stroke=\"black\" d=\"M135,-143.697C135,-135.983 135,-126.712 135,-118.112\"/>\n",
       "<polygon fill=\"black\" stroke=\"black\" points=\"138.5,-118.104 135,-108.104 131.5,-118.104 138.5,-118.104\"/>\n",
       "</g>\n",
       "<!-- 3_63 -->\n",
       "<g id=\"node10\" class=\"node\"><title>3_63</title>\n",
       "<ellipse fill=\"none\" stroke=\"black\" cx=\"207\" cy=\"-90\" rx=\"27\" ry=\"18\"/>\n",
       "<text text-anchor=\"middle\" x=\"207\" y=\"-85.8\" font-family=\"Times,serif\" font-size=\"14.00\">3</text>\n",
       "</g>\n",
       "<!-- E1*E2_64&#45;&gt;3_63 -->\n",
       "<g id=\"edge5\" class=\"edge\"><title>E1*E2_64&#45;&gt;3_63</title>\n",
       "<path fill=\"none\" stroke=\"black\" d=\"M150.623,-145.811C160.704,-136.01 173.964,-123.118 185.092,-112.3\"/>\n",
       "<polygon fill=\"black\" stroke=\"black\" points=\"187.659,-114.685 192.389,-105.205 182.779,-109.666 187.659,-114.685\"/>\n",
       "</g>\n",
       "<!-- ~_62 -->\n",
       "<g id=\"node11\" class=\"node\"><title>~_62</title>\n",
       "<ellipse fill=\"none\" stroke=\"black\" cx=\"27\" cy=\"-18\" rx=\"27\" ry=\"18\"/>\n",
       "<text text-anchor=\"middle\" x=\"27\" y=\"-13.8\" font-family=\"Times,serif\" font-size=\"14.00\">~</text>\n",
       "</g>\n",
       "<!-- ~E_61&#45;&gt;~_62 -->\n",
       "<g id=\"edge1\" class=\"edge\"><title>~E_61&#45;&gt;~_62</title>\n",
       "<path fill=\"none\" stroke=\"black\" d=\"M54.6504,-72.7646C50.2885,-64.2831 44.8531,-53.7144 39.9587,-44.1974\"/>\n",
       "<polygon fill=\"black\" stroke=\"black\" points=\"42.9904,-42.4395 35.3043,-35.1473 36.7654,-45.6409 42.9904,-42.4395\"/>\n",
       "</g>\n",
       "<!-- 2_60 -->\n",
       "<g id=\"node12\" class=\"node\"><title>2_60</title>\n",
       "<ellipse fill=\"none\" stroke=\"black\" cx=\"99\" cy=\"-18\" rx=\"27\" ry=\"18\"/>\n",
       "<text text-anchor=\"middle\" x=\"99\" y=\"-13.8\" font-family=\"Times,serif\" font-size=\"14.00\">2</text>\n",
       "</g>\n",
       "<!-- ~E_61&#45;&gt;2_60 -->\n",
       "<g id=\"edge2\" class=\"edge\"><title>~E_61&#45;&gt;2_60</title>\n",
       "<path fill=\"none\" stroke=\"black\" d=\"M71.3496,-72.7646C75.7115,-64.2831 81.1469,-53.7144 86.0413,-44.1974\"/>\n",
       "<polygon fill=\"black\" stroke=\"black\" points=\"89.2346,-45.6409 90.6957,-35.1473 83.0096,-42.4395 89.2346,-45.6409\"/>\n",
       "</g>\n",
       "</g>\n",
       "</svg>\n"
      ],
      "text/plain": [
       "<graphviz.dot.Digraph at 0x10927ed30>"
      ]
     },
     "execution_count": 19,
     "metadata": {},
     "output_type": "execute_result"
    }
   ],
   "source": [
    "drawPT(parseRE(\"1+~2*3/4\"))"
   ]
  },
  {
   "cell_type": "code",
   "execution_count": 20,
   "metadata": {
    "run_control": {
     "frozen": false,
     "read_only": false
    }
   },
   "outputs": [
    {
     "data": {
      "text/plain": [
       "-0.5"
      ]
     },
     "execution_count": 20,
     "metadata": {},
     "output_type": "execute_result"
    }
   ],
   "source": [
    "# Check with Python!\n",
    "1+-2*3/4"
   ]
  },
  {
   "cell_type": "code",
   "execution_count": 21,
   "metadata": {
    "run_control": {
     "frozen": false,
     "read_only": false
    }
   },
   "outputs": [
    {
     "name": "stdout",
     "output_type": "stream",
     "text": [
      "Result calculated =  1.5\n",
      "Drawing AST for  ('/', (('*', (('NUMBER', '2'), ('NUMBER', '3'))), ('NUMBER', '4')))\n"
     ]
    },
    {
     "name": "stderr",
     "output_type": "stream",
     "text": [
      "Generating LALR tables\n"
     ]
    },
    {
     "data": {
      "image/svg+xml": [
       "<?xml version=\"1.0\" encoding=\"UTF-8\" standalone=\"no\"?>\n",
       "<!DOCTYPE svg PUBLIC \"-//W3C//DTD SVG 1.1//EN\"\n",
       " \"http://www.w3.org/Graphics/SVG/1.1/DTD/svg11.dtd\">\n",
       "<!-- Generated by graphviz version 2.38.0 (20140413.2041)\n",
       " -->\n",
       "<!-- Title: PT Pages: 1 -->\n",
       "<svg width=\"285pt\" height=\"188pt\"\n",
       " viewBox=\"0.00 0.00 285.00 188.00\" xmlns=\"http://www.w3.org/2000/svg\" xmlns:xlink=\"http://www.w3.org/1999/xlink\">\n",
       "<g id=\"graph0\" class=\"graph\" transform=\"scale(1 1) rotate(0) translate(4 184)\">\n",
       "<title>PT</title>\n",
       "<polygon fill=\"white\" stroke=\"none\" points=\"-4,4 -4,-184 281,-184 281,4 -4,4\"/>\n",
       "<!-- E1/E2_76 -->\n",
       "<g id=\"node1\" class=\"node\"><title>E1/E2_76</title>\n",
       "<ellipse fill=\"none\" stroke=\"black\" cx=\"178\" cy=\"-162\" rx=\"32.4237\" ry=\"18\"/>\n",
       "<text text-anchor=\"middle\" x=\"178\" y=\"-157.8\" font-family=\"Times,serif\" font-size=\"14.00\">E1/E2</text>\n",
       "</g>\n",
       "<!-- E1*E2_73 -->\n",
       "<g id=\"node2\" class=\"node\"><title>E1*E2_73</title>\n",
       "<ellipse fill=\"none\" stroke=\"black\" cx=\"99\" cy=\"-90\" rx=\"34.3527\" ry=\"18\"/>\n",
       "<text text-anchor=\"middle\" x=\"99\" y=\"-85.8\" font-family=\"Times,serif\" font-size=\"14.00\">E1*E2</text>\n",
       "</g>\n",
       "<!-- E1/E2_76&#45;&gt;E1*E2_73 -->\n",
       "<g id=\"edge4\" class=\"edge\"><title>E1/E2_76&#45;&gt;E1*E2_73</title>\n",
       "<path fill=\"none\" stroke=\"black\" d=\"M161.631,-146.496C150.657,-136.772 136.006,-123.79 123.633,-112.827\"/>\n",
       "<polygon fill=\"black\" stroke=\"black\" points=\"125.699,-109.981 115.893,-105.968 121.056,-115.22 125.699,-109.981\"/>\n",
       "</g>\n",
       "<!-- /_77 -->\n",
       "<g id=\"node3\" class=\"node\"><title>/_77</title>\n",
       "<ellipse fill=\"none\" stroke=\"black\" cx=\"178\" cy=\"-90\" rx=\"27\" ry=\"18\"/>\n",
       "<text text-anchor=\"middle\" x=\"178\" y=\"-85.8\" font-family=\"Times,serif\" font-size=\"14.00\">/</text>\n",
       "</g>\n",
       "<!-- E1/E2_76&#45;&gt;/_77 -->\n",
       "<g id=\"edge5\" class=\"edge\"><title>E1/E2_76&#45;&gt;/_77</title>\n",
       "<path fill=\"none\" stroke=\"black\" d=\"M178,-143.697C178,-135.983 178,-126.712 178,-118.112\"/>\n",
       "<polygon fill=\"black\" stroke=\"black\" points=\"181.5,-118.104 178,-108.104 174.5,-118.104 181.5,-118.104\"/>\n",
       "</g>\n",
       "<!-- 4_75 -->\n",
       "<g id=\"node4\" class=\"node\"><title>4_75</title>\n",
       "<ellipse fill=\"none\" stroke=\"black\" cx=\"250\" cy=\"-90\" rx=\"27\" ry=\"18\"/>\n",
       "<text text-anchor=\"middle\" x=\"250\" y=\"-85.8\" font-family=\"Times,serif\" font-size=\"14.00\">4</text>\n",
       "</g>\n",
       "<!-- E1/E2_76&#45;&gt;4_75 -->\n",
       "<g id=\"edge6\" class=\"edge\"><title>E1/E2_76&#45;&gt;4_75</title>\n",
       "<path fill=\"none\" stroke=\"black\" d=\"M193.623,-145.811C203.704,-136.01 216.964,-123.118 228.092,-112.3\"/>\n",
       "<polygon fill=\"black\" stroke=\"black\" points=\"230.659,-114.685 235.389,-105.205 225.779,-109.666 230.659,-114.685\"/>\n",
       "</g>\n",
       "<!-- 2_71 -->\n",
       "<g id=\"node5\" class=\"node\"><title>2_71</title>\n",
       "<ellipse fill=\"none\" stroke=\"black\" cx=\"27\" cy=\"-18\" rx=\"27\" ry=\"18\"/>\n",
       "<text text-anchor=\"middle\" x=\"27\" y=\"-13.8\" font-family=\"Times,serif\" font-size=\"14.00\">2</text>\n",
       "</g>\n",
       "<!-- E1*E2_73&#45;&gt;2_71 -->\n",
       "<g id=\"edge1\" class=\"edge\"><title>E1*E2_73&#45;&gt;2_71</title>\n",
       "<path fill=\"none\" stroke=\"black\" d=\"M83.3771,-73.811C73.2958,-64.0098 60.0358,-51.1181 48.9084,-40.2999\"/>\n",
       "<polygon fill=\"black\" stroke=\"black\" points=\"51.2207,-37.6664 41.6109,-33.2051 46.3411,-42.6854 51.2207,-37.6664\"/>\n",
       "</g>\n",
       "<!-- *_74 -->\n",
       "<g id=\"node6\" class=\"node\"><title>*_74</title>\n",
       "<ellipse fill=\"none\" stroke=\"black\" cx=\"99\" cy=\"-18\" rx=\"27\" ry=\"18\"/>\n",
       "<text text-anchor=\"middle\" x=\"99\" y=\"-13.8\" font-family=\"Times,serif\" font-size=\"14.00\">*</text>\n",
       "</g>\n",
       "<!-- E1*E2_73&#45;&gt;*_74 -->\n",
       "<g id=\"edge2\" class=\"edge\"><title>E1*E2_73&#45;&gt;*_74</title>\n",
       "<path fill=\"none\" stroke=\"black\" d=\"M99,-71.6966C99,-63.9827 99,-54.7125 99,-46.1124\"/>\n",
       "<polygon fill=\"black\" stroke=\"black\" points=\"102.5,-46.1043 99,-36.1043 95.5001,-46.1044 102.5,-46.1043\"/>\n",
       "</g>\n",
       "<!-- 3_72 -->\n",
       "<g id=\"node7\" class=\"node\"><title>3_72</title>\n",
       "<ellipse fill=\"none\" stroke=\"black\" cx=\"171\" cy=\"-18\" rx=\"27\" ry=\"18\"/>\n",
       "<text text-anchor=\"middle\" x=\"171\" y=\"-13.8\" font-family=\"Times,serif\" font-size=\"14.00\">3</text>\n",
       "</g>\n",
       "<!-- E1*E2_73&#45;&gt;3_72 -->\n",
       "<g id=\"edge3\" class=\"edge\"><title>E1*E2_73&#45;&gt;3_72</title>\n",
       "<path fill=\"none\" stroke=\"black\" d=\"M114.623,-73.811C124.704,-64.0098 137.964,-51.1181 149.092,-40.2999\"/>\n",
       "<polygon fill=\"black\" stroke=\"black\" points=\"151.659,-42.6854 156.389,-33.2051 146.779,-37.6664 151.659,-42.6854\"/>\n",
       "</g>\n",
       "</g>\n",
       "</svg>\n"
      ],
      "text/plain": [
       "<graphviz.dot.Digraph at 0x109236a20>"
      ]
     },
     "execution_count": 21,
     "metadata": {},
     "output_type": "execute_result"
    }
   ],
   "source": [
    "# Correct as per\n",
    "# https://www.cs.utah.edu/~zachary/isp/worksheets/operprec/operprec.html\n",
    "drawPT(parseRE(\"2*3/4\"))"
   ]
  },
  {
   "cell_type": "code",
   "execution_count": 22,
   "metadata": {
    "run_control": {
     "frozen": false,
     "read_only": false
    }
   },
   "outputs": [
    {
     "data": {
      "text/plain": [
       "1.5"
      ]
     },
     "execution_count": 22,
     "metadata": {},
     "output_type": "execute_result"
    }
   ],
   "source": [
    "2*3/4"
   ]
  },
  {
   "cell_type": "code",
   "execution_count": 23,
   "metadata": {
    "run_control": {
     "frozen": false,
     "read_only": false
    }
   },
   "outputs": [
    {
     "name": "stdout",
     "output_type": "stream",
     "text": [
      "Result calculated =  2.6666666666666665\n",
      "Drawing AST for  ('*', (('/', (('NUMBER', '2'), ('NUMBER', '3'))), ('NUMBER', '4')))\n"
     ]
    },
    {
     "name": "stderr",
     "output_type": "stream",
     "text": [
      "Generating LALR tables\n"
     ]
    },
    {
     "data": {
      "image/svg+xml": [
       "<?xml version=\"1.0\" encoding=\"UTF-8\" standalone=\"no\"?>\n",
       "<!DOCTYPE svg PUBLIC \"-//W3C//DTD SVG 1.1//EN\"\n",
       " \"http://www.w3.org/Graphics/SVG/1.1/DTD/svg11.dtd\">\n",
       "<!-- Generated by graphviz version 2.38.0 (20140413.2041)\n",
       " -->\n",
       "<!-- Title: PT Pages: 1 -->\n",
       "<svg width=\"283pt\" height=\"188pt\"\n",
       " viewBox=\"0.00 0.00 283.00 188.00\" xmlns=\"http://www.w3.org/2000/svg\" xmlns:xlink=\"http://www.w3.org/1999/xlink\">\n",
       "<g id=\"graph0\" class=\"graph\" transform=\"scale(1 1) rotate(0) translate(4 184)\">\n",
       "<title>PT</title>\n",
       "<polygon fill=\"white\" stroke=\"none\" points=\"-4,4 -4,-184 279,-184 279,4 -4,4\"/>\n",
       "<!-- E1*E2_83 -->\n",
       "<g id=\"node1\" class=\"node\"><title>E1*E2_83</title>\n",
       "<ellipse fill=\"none\" stroke=\"black\" cx=\"176\" cy=\"-162\" rx=\"34.3527\" ry=\"18\"/>\n",
       "<text text-anchor=\"middle\" x=\"176\" y=\"-157.8\" font-family=\"Times,serif\" font-size=\"14.00\">E1*E2</text>\n",
       "</g>\n",
       "<!-- E1/E2_80 -->\n",
       "<g id=\"node2\" class=\"node\"><title>E1/E2_80</title>\n",
       "<ellipse fill=\"none\" stroke=\"black\" cx=\"99\" cy=\"-90\" rx=\"32.4237\" ry=\"18\"/>\n",
       "<text text-anchor=\"middle\" x=\"99\" y=\"-85.8\" font-family=\"Times,serif\" font-size=\"14.00\">E1/E2</text>\n",
       "</g>\n",
       "<!-- E1*E2_83&#45;&gt;E1/E2_80 -->\n",
       "<g id=\"edge4\" class=\"edge\"><title>E1*E2_83&#45;&gt;E1/E2_80</title>\n",
       "<path fill=\"none\" stroke=\"black\" d=\"M159.67,-146.155C148.951,-136.41 134.754,-123.503 122.788,-112.626\"/>\n",
       "<polygon fill=\"black\" stroke=\"black\" points=\"125.06,-109.961 115.306,-105.824 120.351,-115.14 125.06,-109.961\"/>\n",
       "</g>\n",
       "<!-- *_84 -->\n",
       "<g id=\"node3\" class=\"node\"><title>*_84</title>\n",
       "<ellipse fill=\"none\" stroke=\"black\" cx=\"176\" cy=\"-90\" rx=\"27\" ry=\"18\"/>\n",
       "<text text-anchor=\"middle\" x=\"176\" y=\"-85.8\" font-family=\"Times,serif\" font-size=\"14.00\">*</text>\n",
       "</g>\n",
       "<!-- E1*E2_83&#45;&gt;*_84 -->\n",
       "<g id=\"edge5\" class=\"edge\"><title>E1*E2_83&#45;&gt;*_84</title>\n",
       "<path fill=\"none\" stroke=\"black\" d=\"M176,-143.697C176,-135.983 176,-126.712 176,-118.112\"/>\n",
       "<polygon fill=\"black\" stroke=\"black\" points=\"179.5,-118.104 176,-108.104 172.5,-118.104 179.5,-118.104\"/>\n",
       "</g>\n",
       "<!-- 4_82 -->\n",
       "<g id=\"node4\" class=\"node\"><title>4_82</title>\n",
       "<ellipse fill=\"none\" stroke=\"black\" cx=\"248\" cy=\"-90\" rx=\"27\" ry=\"18\"/>\n",
       "<text text-anchor=\"middle\" x=\"248\" y=\"-85.8\" font-family=\"Times,serif\" font-size=\"14.00\">4</text>\n",
       "</g>\n",
       "<!-- E1*E2_83&#45;&gt;4_82 -->\n",
       "<g id=\"edge6\" class=\"edge\"><title>E1*E2_83&#45;&gt;4_82</title>\n",
       "<path fill=\"none\" stroke=\"black\" d=\"M191.623,-145.811C201.704,-136.01 214.964,-123.118 226.092,-112.3\"/>\n",
       "<polygon fill=\"black\" stroke=\"black\" points=\"228.659,-114.685 233.389,-105.205 223.779,-109.666 228.659,-114.685\"/>\n",
       "</g>\n",
       "<!-- 2_78 -->\n",
       "<g id=\"node5\" class=\"node\"><title>2_78</title>\n",
       "<ellipse fill=\"none\" stroke=\"black\" cx=\"27\" cy=\"-18\" rx=\"27\" ry=\"18\"/>\n",
       "<text text-anchor=\"middle\" x=\"27\" y=\"-13.8\" font-family=\"Times,serif\" font-size=\"14.00\">2</text>\n",
       "</g>\n",
       "<!-- E1/E2_80&#45;&gt;2_78 -->\n",
       "<g id=\"edge1\" class=\"edge\"><title>E1/E2_80&#45;&gt;2_78</title>\n",
       "<path fill=\"none\" stroke=\"black\" d=\"M83.3771,-73.811C73.2958,-64.0098 60.0358,-51.1181 48.9084,-40.2999\"/>\n",
       "<polygon fill=\"black\" stroke=\"black\" points=\"51.2207,-37.6664 41.6109,-33.2051 46.3411,-42.6854 51.2207,-37.6664\"/>\n",
       "</g>\n",
       "<!-- /_81 -->\n",
       "<g id=\"node6\" class=\"node\"><title>/_81</title>\n",
       "<ellipse fill=\"none\" stroke=\"black\" cx=\"99\" cy=\"-18\" rx=\"27\" ry=\"18\"/>\n",
       "<text text-anchor=\"middle\" x=\"99\" y=\"-13.8\" font-family=\"Times,serif\" font-size=\"14.00\">/</text>\n",
       "</g>\n",
       "<!-- E1/E2_80&#45;&gt;/_81 -->\n",
       "<g id=\"edge2\" class=\"edge\"><title>E1/E2_80&#45;&gt;/_81</title>\n",
       "<path fill=\"none\" stroke=\"black\" d=\"M99,-71.6966C99,-63.9827 99,-54.7125 99,-46.1124\"/>\n",
       "<polygon fill=\"black\" stroke=\"black\" points=\"102.5,-46.1043 99,-36.1043 95.5001,-46.1044 102.5,-46.1043\"/>\n",
       "</g>\n",
       "<!-- 3_79 -->\n",
       "<g id=\"node7\" class=\"node\"><title>3_79</title>\n",
       "<ellipse fill=\"none\" stroke=\"black\" cx=\"171\" cy=\"-18\" rx=\"27\" ry=\"18\"/>\n",
       "<text text-anchor=\"middle\" x=\"171\" y=\"-13.8\" font-family=\"Times,serif\" font-size=\"14.00\">3</text>\n",
       "</g>\n",
       "<!-- E1/E2_80&#45;&gt;3_79 -->\n",
       "<g id=\"edge3\" class=\"edge\"><title>E1/E2_80&#45;&gt;3_79</title>\n",
       "<path fill=\"none\" stroke=\"black\" d=\"M114.623,-73.811C124.704,-64.0098 137.964,-51.1181 149.092,-40.2999\"/>\n",
       "<polygon fill=\"black\" stroke=\"black\" points=\"151.659,-42.6854 156.389,-33.2051 146.779,-37.6664 151.659,-42.6854\"/>\n",
       "</g>\n",
       "</g>\n",
       "</svg>\n"
      ],
      "text/plain": [
       "<graphviz.dot.Digraph at 0x10927eb70>"
      ]
     },
     "execution_count": 23,
     "metadata": {},
     "output_type": "execute_result"
    }
   ],
   "source": [
    "# Correct as per\n",
    "# https://www.cs.utah.edu/~zachary/isp/worksheets/operprec/operprec.html\n",
    "drawPT(parseRE(\"2/3*4\"))"
   ]
  },
  {
   "cell_type": "code",
   "execution_count": 24,
   "metadata": {
    "run_control": {
     "frozen": false,
     "read_only": false
    }
   },
   "outputs": [
    {
     "data": {
      "text/plain": [
       "2.6666666666666665"
      ]
     },
     "execution_count": 24,
     "metadata": {},
     "output_type": "execute_result"
    }
   ],
   "source": [
    "2/3*4"
   ]
  },
  {
   "cell_type": "code",
   "execution_count": 25,
   "metadata": {
    "run_control": {
     "frozen": false,
     "read_only": false
    }
   },
   "outputs": [
    {
     "name": "stdout",
     "output_type": "stream",
     "text": [
      "Result calculated =  0.16666666666666666\n",
      "Drawing AST for  ('/', (('/', (('NUMBER', '2'), ('NUMBER', '3'))), ('NUMBER', '4')))\n"
     ]
    },
    {
     "name": "stderr",
     "output_type": "stream",
     "text": [
      "Generating LALR tables\n"
     ]
    },
    {
     "data": {
      "image/svg+xml": [
       "<?xml version=\"1.0\" encoding=\"UTF-8\" standalone=\"no\"?>\n",
       "<!DOCTYPE svg PUBLIC \"-//W3C//DTD SVG 1.1//EN\"\n",
       " \"http://www.w3.org/Graphics/SVG/1.1/DTD/svg11.dtd\">\n",
       "<!-- Generated by graphviz version 2.38.0 (20140413.2041)\n",
       " -->\n",
       "<!-- Title: PT Pages: 1 -->\n",
       "<svg width=\"283pt\" height=\"188pt\"\n",
       " viewBox=\"0.00 0.00 283.00 188.00\" xmlns=\"http://www.w3.org/2000/svg\" xmlns:xlink=\"http://www.w3.org/1999/xlink\">\n",
       "<g id=\"graph0\" class=\"graph\" transform=\"scale(1 1) rotate(0) translate(4 184)\">\n",
       "<title>PT</title>\n",
       "<polygon fill=\"white\" stroke=\"none\" points=\"-4,4 -4,-184 279,-184 279,4 -4,4\"/>\n",
       "<!-- E1/E2_90 -->\n",
       "<g id=\"node1\" class=\"node\"><title>E1/E2_90</title>\n",
       "<ellipse fill=\"none\" stroke=\"black\" cx=\"176\" cy=\"-162\" rx=\"32.4237\" ry=\"18\"/>\n",
       "<text text-anchor=\"middle\" x=\"176\" y=\"-157.8\" font-family=\"Times,serif\" font-size=\"14.00\">E1/E2</text>\n",
       "</g>\n",
       "<!-- E1/E2_87 -->\n",
       "<g id=\"node2\" class=\"node\"><title>E1/E2_87</title>\n",
       "<ellipse fill=\"none\" stroke=\"black\" cx=\"99\" cy=\"-90\" rx=\"32.4237\" ry=\"18\"/>\n",
       "<text text-anchor=\"middle\" x=\"99\" y=\"-85.8\" font-family=\"Times,serif\" font-size=\"14.00\">E1/E2</text>\n",
       "</g>\n",
       "<!-- E1/E2_90&#45;&gt;E1/E2_87 -->\n",
       "<g id=\"edge4\" class=\"edge\"><title>E1/E2_90&#45;&gt;E1/E2_87</title>\n",
       "<path fill=\"none\" stroke=\"black\" d=\"M159.67,-146.155C148.951,-136.41 134.754,-123.503 122.788,-112.626\"/>\n",
       "<polygon fill=\"black\" stroke=\"black\" points=\"125.06,-109.961 115.306,-105.824 120.351,-115.14 125.06,-109.961\"/>\n",
       "</g>\n",
       "<!-- /_91 -->\n",
       "<g id=\"node3\" class=\"node\"><title>/_91</title>\n",
       "<ellipse fill=\"none\" stroke=\"black\" cx=\"176\" cy=\"-90\" rx=\"27\" ry=\"18\"/>\n",
       "<text text-anchor=\"middle\" x=\"176\" y=\"-85.8\" font-family=\"Times,serif\" font-size=\"14.00\">/</text>\n",
       "</g>\n",
       "<!-- E1/E2_90&#45;&gt;/_91 -->\n",
       "<g id=\"edge5\" class=\"edge\"><title>E1/E2_90&#45;&gt;/_91</title>\n",
       "<path fill=\"none\" stroke=\"black\" d=\"M176,-143.697C176,-135.983 176,-126.712 176,-118.112\"/>\n",
       "<polygon fill=\"black\" stroke=\"black\" points=\"179.5,-118.104 176,-108.104 172.5,-118.104 179.5,-118.104\"/>\n",
       "</g>\n",
       "<!-- 4_89 -->\n",
       "<g id=\"node4\" class=\"node\"><title>4_89</title>\n",
       "<ellipse fill=\"none\" stroke=\"black\" cx=\"248\" cy=\"-90\" rx=\"27\" ry=\"18\"/>\n",
       "<text text-anchor=\"middle\" x=\"248\" y=\"-85.8\" font-family=\"Times,serif\" font-size=\"14.00\">4</text>\n",
       "</g>\n",
       "<!-- E1/E2_90&#45;&gt;4_89 -->\n",
       "<g id=\"edge6\" class=\"edge\"><title>E1/E2_90&#45;&gt;4_89</title>\n",
       "<path fill=\"none\" stroke=\"black\" d=\"M191.623,-145.811C201.704,-136.01 214.964,-123.118 226.092,-112.3\"/>\n",
       "<polygon fill=\"black\" stroke=\"black\" points=\"228.659,-114.685 233.389,-105.205 223.779,-109.666 228.659,-114.685\"/>\n",
       "</g>\n",
       "<!-- 2_85 -->\n",
       "<g id=\"node5\" class=\"node\"><title>2_85</title>\n",
       "<ellipse fill=\"none\" stroke=\"black\" cx=\"27\" cy=\"-18\" rx=\"27\" ry=\"18\"/>\n",
       "<text text-anchor=\"middle\" x=\"27\" y=\"-13.8\" font-family=\"Times,serif\" font-size=\"14.00\">2</text>\n",
       "</g>\n",
       "<!-- E1/E2_87&#45;&gt;2_85 -->\n",
       "<g id=\"edge1\" class=\"edge\"><title>E1/E2_87&#45;&gt;2_85</title>\n",
       "<path fill=\"none\" stroke=\"black\" d=\"M83.3771,-73.811C73.2958,-64.0098 60.0358,-51.1181 48.9084,-40.2999\"/>\n",
       "<polygon fill=\"black\" stroke=\"black\" points=\"51.2207,-37.6664 41.6109,-33.2051 46.3411,-42.6854 51.2207,-37.6664\"/>\n",
       "</g>\n",
       "<!-- /_88 -->\n",
       "<g id=\"node6\" class=\"node\"><title>/_88</title>\n",
       "<ellipse fill=\"none\" stroke=\"black\" cx=\"99\" cy=\"-18\" rx=\"27\" ry=\"18\"/>\n",
       "<text text-anchor=\"middle\" x=\"99\" y=\"-13.8\" font-family=\"Times,serif\" font-size=\"14.00\">/</text>\n",
       "</g>\n",
       "<!-- E1/E2_87&#45;&gt;/_88 -->\n",
       "<g id=\"edge2\" class=\"edge\"><title>E1/E2_87&#45;&gt;/_88</title>\n",
       "<path fill=\"none\" stroke=\"black\" d=\"M99,-71.6966C99,-63.9827 99,-54.7125 99,-46.1124\"/>\n",
       "<polygon fill=\"black\" stroke=\"black\" points=\"102.5,-46.1043 99,-36.1043 95.5001,-46.1044 102.5,-46.1043\"/>\n",
       "</g>\n",
       "<!-- 3_86 -->\n",
       "<g id=\"node7\" class=\"node\"><title>3_86</title>\n",
       "<ellipse fill=\"none\" stroke=\"black\" cx=\"171\" cy=\"-18\" rx=\"27\" ry=\"18\"/>\n",
       "<text text-anchor=\"middle\" x=\"171\" y=\"-13.8\" font-family=\"Times,serif\" font-size=\"14.00\">3</text>\n",
       "</g>\n",
       "<!-- E1/E2_87&#45;&gt;3_86 -->\n",
       "<g id=\"edge3\" class=\"edge\"><title>E1/E2_87&#45;&gt;3_86</title>\n",
       "<path fill=\"none\" stroke=\"black\" d=\"M114.623,-73.811C124.704,-64.0098 137.964,-51.1181 149.092,-40.2999\"/>\n",
       "<polygon fill=\"black\" stroke=\"black\" points=\"151.659,-42.6854 156.389,-33.2051 146.779,-37.6664 151.659,-42.6854\"/>\n",
       "</g>\n",
       "</g>\n",
       "</svg>\n"
      ],
      "text/plain": [
       "<graphviz.dot.Digraph at 0x1092a35f8>"
      ]
     },
     "execution_count": 25,
     "metadata": {},
     "output_type": "execute_result"
    }
   ],
   "source": [
    "# More tests from\n",
    "# https://www.cs.utah.edu/~zachary/isp/worksheets/operprec/operprec.html\n",
    "drawPT(parseRE(\"2/3/4\"))"
   ]
  },
  {
   "cell_type": "code",
   "execution_count": 26,
   "metadata": {
    "run_control": {
     "frozen": false,
     "read_only": false
    }
   },
   "outputs": [
    {
     "data": {
      "text/plain": [
       "0.16666666666666666"
      ]
     },
     "execution_count": 26,
     "metadata": {},
     "output_type": "execute_result"
    }
   ],
   "source": [
    "2/3/4"
   ]
  },
  {
   "cell_type": "code",
   "execution_count": 27,
   "metadata": {
    "run_control": {
     "frozen": false,
     "read_only": false
    }
   },
   "outputs": [
    {
     "name": "stderr",
     "output_type": "stream",
     "text": [
      "Generating LALR tables\n"
     ]
    },
    {
     "name": "stdout",
     "output_type": "stream",
     "text": [
      "Result calculated =  0.5333333333333333\n",
      "Drawing AST for  ('/', (('*', (('/', (('NUMBER', '4'), ('NUMBER', '3'))), ('NUMBER', '2'))), ('NUMBER', '5')))\n"
     ]
    },
    {
     "data": {
      "image/svg+xml": [
       "<?xml version=\"1.0\" encoding=\"UTF-8\" standalone=\"no\"?>\n",
       "<!DOCTYPE svg PUBLIC \"-//W3C//DTD SVG 1.1//EN\"\n",
       " \"http://www.w3.org/Graphics/SVG/1.1/DTD/svg11.dtd\">\n",
       "<!-- Generated by graphviz version 2.38.0 (20140413.2041)\n",
       " -->\n",
       "<!-- Title: PT Pages: 1 -->\n",
       "<svg width=\"362pt\" height=\"260pt\"\n",
       " viewBox=\"0.00 0.00 362.00 260.00\" xmlns=\"http://www.w3.org/2000/svg\" xmlns:xlink=\"http://www.w3.org/1999/xlink\">\n",
       "<g id=\"graph0\" class=\"graph\" transform=\"scale(1 1) rotate(0) translate(4 256)\">\n",
       "<title>PT</title>\n",
       "<polygon fill=\"white\" stroke=\"none\" points=\"-4,4 -4,-256 358,-256 358,4 -4,4\"/>\n",
       "<!-- E1/E2_100 -->\n",
       "<g id=\"node1\" class=\"node\"><title>E1/E2_100</title>\n",
       "<ellipse fill=\"none\" stroke=\"black\" cx=\"255\" cy=\"-234\" rx=\"32.4237\" ry=\"18\"/>\n",
       "<text text-anchor=\"middle\" x=\"255\" y=\"-229.8\" font-family=\"Times,serif\" font-size=\"14.00\">E1/E2</text>\n",
       "</g>\n",
       "<!-- E1*E2_97 -->\n",
       "<g id=\"node2\" class=\"node\"><title>E1*E2_97</title>\n",
       "<ellipse fill=\"none\" stroke=\"black\" cx=\"176\" cy=\"-162\" rx=\"34.3527\" ry=\"18\"/>\n",
       "<text text-anchor=\"middle\" x=\"176\" y=\"-157.8\" font-family=\"Times,serif\" font-size=\"14.00\">E1*E2</text>\n",
       "</g>\n",
       "<!-- E1/E2_100&#45;&gt;E1*E2_97 -->\n",
       "<g id=\"edge7\" class=\"edge\"><title>E1/E2_100&#45;&gt;E1*E2_97</title>\n",
       "<path fill=\"none\" stroke=\"black\" d=\"M238.631,-218.496C227.657,-208.772 213.006,-195.79 200.633,-184.827\"/>\n",
       "<polygon fill=\"black\" stroke=\"black\" points=\"202.699,-181.981 192.893,-177.968 198.056,-187.22 202.699,-181.981\"/>\n",
       "</g>\n",
       "<!-- /_101 -->\n",
       "<g id=\"node3\" class=\"node\"><title>/_101</title>\n",
       "<ellipse fill=\"none\" stroke=\"black\" cx=\"255\" cy=\"-162\" rx=\"27\" ry=\"18\"/>\n",
       "<text text-anchor=\"middle\" x=\"255\" y=\"-157.8\" font-family=\"Times,serif\" font-size=\"14.00\">/</text>\n",
       "</g>\n",
       "<!-- E1/E2_100&#45;&gt;/_101 -->\n",
       "<g id=\"edge8\" class=\"edge\"><title>E1/E2_100&#45;&gt;/_101</title>\n",
       "<path fill=\"none\" stroke=\"black\" d=\"M255,-215.697C255,-207.983 255,-198.712 255,-190.112\"/>\n",
       "<polygon fill=\"black\" stroke=\"black\" points=\"258.5,-190.104 255,-180.104 251.5,-190.104 258.5,-190.104\"/>\n",
       "</g>\n",
       "<!-- 5_99 -->\n",
       "<g id=\"node4\" class=\"node\"><title>5_99</title>\n",
       "<ellipse fill=\"none\" stroke=\"black\" cx=\"327\" cy=\"-162\" rx=\"27\" ry=\"18\"/>\n",
       "<text text-anchor=\"middle\" x=\"327\" y=\"-157.8\" font-family=\"Times,serif\" font-size=\"14.00\">5</text>\n",
       "</g>\n",
       "<!-- E1/E2_100&#45;&gt;5_99 -->\n",
       "<g id=\"edge9\" class=\"edge\"><title>E1/E2_100&#45;&gt;5_99</title>\n",
       "<path fill=\"none\" stroke=\"black\" d=\"M270.623,-217.811C280.704,-208.01 293.964,-195.118 305.092,-184.3\"/>\n",
       "<polygon fill=\"black\" stroke=\"black\" points=\"307.659,-186.685 312.389,-177.205 302.779,-181.666 307.659,-186.685\"/>\n",
       "</g>\n",
       "<!-- E1/E2_94 -->\n",
       "<g id=\"node5\" class=\"node\"><title>E1/E2_94</title>\n",
       "<ellipse fill=\"none\" stroke=\"black\" cx=\"99\" cy=\"-90\" rx=\"32.4237\" ry=\"18\"/>\n",
       "<text text-anchor=\"middle\" x=\"99\" y=\"-85.8\" font-family=\"Times,serif\" font-size=\"14.00\">E1/E2</text>\n",
       "</g>\n",
       "<!-- E1*E2_97&#45;&gt;E1/E2_94 -->\n",
       "<g id=\"edge4\" class=\"edge\"><title>E1*E2_97&#45;&gt;E1/E2_94</title>\n",
       "<path fill=\"none\" stroke=\"black\" d=\"M159.67,-146.155C148.951,-136.41 134.754,-123.503 122.788,-112.626\"/>\n",
       "<polygon fill=\"black\" stroke=\"black\" points=\"125.06,-109.961 115.306,-105.824 120.351,-115.14 125.06,-109.961\"/>\n",
       "</g>\n",
       "<!-- *_98 -->\n",
       "<g id=\"node6\" class=\"node\"><title>*_98</title>\n",
       "<ellipse fill=\"none\" stroke=\"black\" cx=\"176\" cy=\"-90\" rx=\"27\" ry=\"18\"/>\n",
       "<text text-anchor=\"middle\" x=\"176\" y=\"-85.8\" font-family=\"Times,serif\" font-size=\"14.00\">*</text>\n",
       "</g>\n",
       "<!-- E1*E2_97&#45;&gt;*_98 -->\n",
       "<g id=\"edge5\" class=\"edge\"><title>E1*E2_97&#45;&gt;*_98</title>\n",
       "<path fill=\"none\" stroke=\"black\" d=\"M176,-143.697C176,-135.983 176,-126.712 176,-118.112\"/>\n",
       "<polygon fill=\"black\" stroke=\"black\" points=\"179.5,-118.104 176,-108.104 172.5,-118.104 179.5,-118.104\"/>\n",
       "</g>\n",
       "<!-- 2_96 -->\n",
       "<g id=\"node7\" class=\"node\"><title>2_96</title>\n",
       "<ellipse fill=\"none\" stroke=\"black\" cx=\"248\" cy=\"-90\" rx=\"27\" ry=\"18\"/>\n",
       "<text text-anchor=\"middle\" x=\"248\" y=\"-85.8\" font-family=\"Times,serif\" font-size=\"14.00\">2</text>\n",
       "</g>\n",
       "<!-- E1*E2_97&#45;&gt;2_96 -->\n",
       "<g id=\"edge6\" class=\"edge\"><title>E1*E2_97&#45;&gt;2_96</title>\n",
       "<path fill=\"none\" stroke=\"black\" d=\"M191.623,-145.811C201.704,-136.01 214.964,-123.118 226.092,-112.3\"/>\n",
       "<polygon fill=\"black\" stroke=\"black\" points=\"228.659,-114.685 233.389,-105.205 223.779,-109.666 228.659,-114.685\"/>\n",
       "</g>\n",
       "<!-- 4_92 -->\n",
       "<g id=\"node8\" class=\"node\"><title>4_92</title>\n",
       "<ellipse fill=\"none\" stroke=\"black\" cx=\"27\" cy=\"-18\" rx=\"27\" ry=\"18\"/>\n",
       "<text text-anchor=\"middle\" x=\"27\" y=\"-13.8\" font-family=\"Times,serif\" font-size=\"14.00\">4</text>\n",
       "</g>\n",
       "<!-- E1/E2_94&#45;&gt;4_92 -->\n",
       "<g id=\"edge1\" class=\"edge\"><title>E1/E2_94&#45;&gt;4_92</title>\n",
       "<path fill=\"none\" stroke=\"black\" d=\"M83.3771,-73.811C73.2958,-64.0098 60.0358,-51.1181 48.9084,-40.2999\"/>\n",
       "<polygon fill=\"black\" stroke=\"black\" points=\"51.2207,-37.6664 41.6109,-33.2051 46.3411,-42.6854 51.2207,-37.6664\"/>\n",
       "</g>\n",
       "<!-- /_95 -->\n",
       "<g id=\"node9\" class=\"node\"><title>/_95</title>\n",
       "<ellipse fill=\"none\" stroke=\"black\" cx=\"99\" cy=\"-18\" rx=\"27\" ry=\"18\"/>\n",
       "<text text-anchor=\"middle\" x=\"99\" y=\"-13.8\" font-family=\"Times,serif\" font-size=\"14.00\">/</text>\n",
       "</g>\n",
       "<!-- E1/E2_94&#45;&gt;/_95 -->\n",
       "<g id=\"edge2\" class=\"edge\"><title>E1/E2_94&#45;&gt;/_95</title>\n",
       "<path fill=\"none\" stroke=\"black\" d=\"M99,-71.6966C99,-63.9827 99,-54.7125 99,-46.1124\"/>\n",
       "<polygon fill=\"black\" stroke=\"black\" points=\"102.5,-46.1043 99,-36.1043 95.5001,-46.1044 102.5,-46.1043\"/>\n",
       "</g>\n",
       "<!-- 3_93 -->\n",
       "<g id=\"node10\" class=\"node\"><title>3_93</title>\n",
       "<ellipse fill=\"none\" stroke=\"black\" cx=\"171\" cy=\"-18\" rx=\"27\" ry=\"18\"/>\n",
       "<text text-anchor=\"middle\" x=\"171\" y=\"-13.8\" font-family=\"Times,serif\" font-size=\"14.00\">3</text>\n",
       "</g>\n",
       "<!-- E1/E2_94&#45;&gt;3_93 -->\n",
       "<g id=\"edge3\" class=\"edge\"><title>E1/E2_94&#45;&gt;3_93</title>\n",
       "<path fill=\"none\" stroke=\"black\" d=\"M114.623,-73.811C124.704,-64.0098 137.964,-51.1181 149.092,-40.2999\"/>\n",
       "<polygon fill=\"black\" stroke=\"black\" points=\"151.659,-42.6854 156.389,-33.2051 146.779,-37.6664 151.659,-42.6854\"/>\n",
       "</g>\n",
       "</g>\n",
       "</svg>\n"
      ],
      "text/plain": [
       "<graphviz.dot.Digraph at 0x1092b31d0>"
      ]
     },
     "execution_count": 27,
     "metadata": {},
     "output_type": "execute_result"
    }
   ],
   "source": [
    "# More tests from\n",
    "# https://www.cs.utah.edu/~zachary/isp/worksheets/operprec/operprec.html\n",
    "drawPT(parseRE(\"4/3*2/5\"))"
   ]
  },
  {
   "cell_type": "code",
   "execution_count": 28,
   "metadata": {
    "run_control": {
     "frozen": false,
     "read_only": false
    }
   },
   "outputs": [
    {
     "data": {
      "text/plain": [
       "0.5333333333333333"
      ]
     },
     "execution_count": 28,
     "metadata": {},
     "output_type": "execute_result"
    }
   ],
   "source": [
    "4/3*2/5"
   ]
  },
  {
   "cell_type": "code",
   "execution_count": 29,
   "metadata": {
    "run_control": {
     "frozen": false,
     "read_only": false
    }
   },
   "outputs": [
    {
     "name": "stderr",
     "output_type": "stream",
     "text": [
      "Generating LALR tables\n"
     ]
    },
    {
     "name": "stdout",
     "output_type": "stream",
     "text": [
      "Result calculated =  22.5\n",
      "Drawing AST for  ('*', (('/', (('*', (('NUMBER', '6'), ('NUMBER', '3'))), ('NUMBER', '4'))), ('NUMBER', '5')))\n"
     ]
    },
    {
     "data": {
      "image/svg+xml": [
       "<?xml version=\"1.0\" encoding=\"UTF-8\" standalone=\"no\"?>\n",
       "<!DOCTYPE svg PUBLIC \"-//W3C//DTD SVG 1.1//EN\"\n",
       " \"http://www.w3.org/Graphics/SVG/1.1/DTD/svg11.dtd\">\n",
       "<!-- Generated by graphviz version 2.38.0 (20140413.2041)\n",
       " -->\n",
       "<!-- Title: PT Pages: 1 -->\n",
       "<svg width=\"362pt\" height=\"260pt\"\n",
       " viewBox=\"0.00 0.00 362.00 260.00\" xmlns=\"http://www.w3.org/2000/svg\" xmlns:xlink=\"http://www.w3.org/1999/xlink\">\n",
       "<g id=\"graph0\" class=\"graph\" transform=\"scale(1 1) rotate(0) translate(4 256)\">\n",
       "<title>PT</title>\n",
       "<polygon fill=\"white\" stroke=\"none\" points=\"-4,4 -4,-256 358,-256 358,4 -4,4\"/>\n",
       "<!-- E1*E2_110 -->\n",
       "<g id=\"node1\" class=\"node\"><title>E1*E2_110</title>\n",
       "<ellipse fill=\"none\" stroke=\"black\" cx=\"255\" cy=\"-234\" rx=\"34.3527\" ry=\"18\"/>\n",
       "<text text-anchor=\"middle\" x=\"255\" y=\"-229.8\" font-family=\"Times,serif\" font-size=\"14.00\">E1*E2</text>\n",
       "</g>\n",
       "<!-- E1/E2_107 -->\n",
       "<g id=\"node2\" class=\"node\"><title>E1/E2_107</title>\n",
       "<ellipse fill=\"none\" stroke=\"black\" cx=\"178\" cy=\"-162\" rx=\"32.4237\" ry=\"18\"/>\n",
       "<text text-anchor=\"middle\" x=\"178\" y=\"-157.8\" font-family=\"Times,serif\" font-size=\"14.00\">E1/E2</text>\n",
       "</g>\n",
       "<!-- E1*E2_110&#45;&gt;E1/E2_107 -->\n",
       "<g id=\"edge7\" class=\"edge\"><title>E1*E2_110&#45;&gt;E1/E2_107</title>\n",
       "<path fill=\"none\" stroke=\"black\" d=\"M238.67,-218.155C227.951,-208.41 213.754,-195.503 201.788,-184.626\"/>\n",
       "<polygon fill=\"black\" stroke=\"black\" points=\"204.06,-181.961 194.306,-177.824 199.351,-187.14 204.06,-181.961\"/>\n",
       "</g>\n",
       "<!-- *_111 -->\n",
       "<g id=\"node3\" class=\"node\"><title>*_111</title>\n",
       "<ellipse fill=\"none\" stroke=\"black\" cx=\"255\" cy=\"-162\" rx=\"27\" ry=\"18\"/>\n",
       "<text text-anchor=\"middle\" x=\"255\" y=\"-157.8\" font-family=\"Times,serif\" font-size=\"14.00\">*</text>\n",
       "</g>\n",
       "<!-- E1*E2_110&#45;&gt;*_111 -->\n",
       "<g id=\"edge8\" class=\"edge\"><title>E1*E2_110&#45;&gt;*_111</title>\n",
       "<path fill=\"none\" stroke=\"black\" d=\"M255,-215.697C255,-207.983 255,-198.712 255,-190.112\"/>\n",
       "<polygon fill=\"black\" stroke=\"black\" points=\"258.5,-190.104 255,-180.104 251.5,-190.104 258.5,-190.104\"/>\n",
       "</g>\n",
       "<!-- 5_109 -->\n",
       "<g id=\"node4\" class=\"node\"><title>5_109</title>\n",
       "<ellipse fill=\"none\" stroke=\"black\" cx=\"327\" cy=\"-162\" rx=\"27\" ry=\"18\"/>\n",
       "<text text-anchor=\"middle\" x=\"327\" y=\"-157.8\" font-family=\"Times,serif\" font-size=\"14.00\">5</text>\n",
       "</g>\n",
       "<!-- E1*E2_110&#45;&gt;5_109 -->\n",
       "<g id=\"edge9\" class=\"edge\"><title>E1*E2_110&#45;&gt;5_109</title>\n",
       "<path fill=\"none\" stroke=\"black\" d=\"M270.623,-217.811C280.704,-208.01 293.964,-195.118 305.092,-184.3\"/>\n",
       "<polygon fill=\"black\" stroke=\"black\" points=\"307.659,-186.685 312.389,-177.205 302.779,-181.666 307.659,-186.685\"/>\n",
       "</g>\n",
       "<!-- E1*E2_104 -->\n",
       "<g id=\"node5\" class=\"node\"><title>E1*E2_104</title>\n",
       "<ellipse fill=\"none\" stroke=\"black\" cx=\"99\" cy=\"-90\" rx=\"34.3527\" ry=\"18\"/>\n",
       "<text text-anchor=\"middle\" x=\"99\" y=\"-85.8\" font-family=\"Times,serif\" font-size=\"14.00\">E1*E2</text>\n",
       "</g>\n",
       "<!-- E1/E2_107&#45;&gt;E1*E2_104 -->\n",
       "<g id=\"edge4\" class=\"edge\"><title>E1/E2_107&#45;&gt;E1*E2_104</title>\n",
       "<path fill=\"none\" stroke=\"black\" d=\"M161.631,-146.496C150.657,-136.772 136.006,-123.79 123.633,-112.827\"/>\n",
       "<polygon fill=\"black\" stroke=\"black\" points=\"125.699,-109.981 115.893,-105.968 121.056,-115.22 125.699,-109.981\"/>\n",
       "</g>\n",
       "<!-- /_108 -->\n",
       "<g id=\"node6\" class=\"node\"><title>/_108</title>\n",
       "<ellipse fill=\"none\" stroke=\"black\" cx=\"178\" cy=\"-90\" rx=\"27\" ry=\"18\"/>\n",
       "<text text-anchor=\"middle\" x=\"178\" y=\"-85.8\" font-family=\"Times,serif\" font-size=\"14.00\">/</text>\n",
       "</g>\n",
       "<!-- E1/E2_107&#45;&gt;/_108 -->\n",
       "<g id=\"edge5\" class=\"edge\"><title>E1/E2_107&#45;&gt;/_108</title>\n",
       "<path fill=\"none\" stroke=\"black\" d=\"M178,-143.697C178,-135.983 178,-126.712 178,-118.112\"/>\n",
       "<polygon fill=\"black\" stroke=\"black\" points=\"181.5,-118.104 178,-108.104 174.5,-118.104 181.5,-118.104\"/>\n",
       "</g>\n",
       "<!-- 4_106 -->\n",
       "<g id=\"node7\" class=\"node\"><title>4_106</title>\n",
       "<ellipse fill=\"none\" stroke=\"black\" cx=\"250\" cy=\"-90\" rx=\"27\" ry=\"18\"/>\n",
       "<text text-anchor=\"middle\" x=\"250\" y=\"-85.8\" font-family=\"Times,serif\" font-size=\"14.00\">4</text>\n",
       "</g>\n",
       "<!-- E1/E2_107&#45;&gt;4_106 -->\n",
       "<g id=\"edge6\" class=\"edge\"><title>E1/E2_107&#45;&gt;4_106</title>\n",
       "<path fill=\"none\" stroke=\"black\" d=\"M193.623,-145.811C203.704,-136.01 216.964,-123.118 228.092,-112.3\"/>\n",
       "<polygon fill=\"black\" stroke=\"black\" points=\"230.659,-114.685 235.389,-105.205 225.779,-109.666 230.659,-114.685\"/>\n",
       "</g>\n",
       "<!-- 6_102 -->\n",
       "<g id=\"node8\" class=\"node\"><title>6_102</title>\n",
       "<ellipse fill=\"none\" stroke=\"black\" cx=\"27\" cy=\"-18\" rx=\"27\" ry=\"18\"/>\n",
       "<text text-anchor=\"middle\" x=\"27\" y=\"-13.8\" font-family=\"Times,serif\" font-size=\"14.00\">6</text>\n",
       "</g>\n",
       "<!-- E1*E2_104&#45;&gt;6_102 -->\n",
       "<g id=\"edge1\" class=\"edge\"><title>E1*E2_104&#45;&gt;6_102</title>\n",
       "<path fill=\"none\" stroke=\"black\" d=\"M83.3771,-73.811C73.2958,-64.0098 60.0358,-51.1181 48.9084,-40.2999\"/>\n",
       "<polygon fill=\"black\" stroke=\"black\" points=\"51.2207,-37.6664 41.6109,-33.2051 46.3411,-42.6854 51.2207,-37.6664\"/>\n",
       "</g>\n",
       "<!-- *_105 -->\n",
       "<g id=\"node9\" class=\"node\"><title>*_105</title>\n",
       "<ellipse fill=\"none\" stroke=\"black\" cx=\"99\" cy=\"-18\" rx=\"27\" ry=\"18\"/>\n",
       "<text text-anchor=\"middle\" x=\"99\" y=\"-13.8\" font-family=\"Times,serif\" font-size=\"14.00\">*</text>\n",
       "</g>\n",
       "<!-- E1*E2_104&#45;&gt;*_105 -->\n",
       "<g id=\"edge2\" class=\"edge\"><title>E1*E2_104&#45;&gt;*_105</title>\n",
       "<path fill=\"none\" stroke=\"black\" d=\"M99,-71.6966C99,-63.9827 99,-54.7125 99,-46.1124\"/>\n",
       "<polygon fill=\"black\" stroke=\"black\" points=\"102.5,-46.1043 99,-36.1043 95.5001,-46.1044 102.5,-46.1043\"/>\n",
       "</g>\n",
       "<!-- 3_103 -->\n",
       "<g id=\"node10\" class=\"node\"><title>3_103</title>\n",
       "<ellipse fill=\"none\" stroke=\"black\" cx=\"171\" cy=\"-18\" rx=\"27\" ry=\"18\"/>\n",
       "<text text-anchor=\"middle\" x=\"171\" y=\"-13.8\" font-family=\"Times,serif\" font-size=\"14.00\">3</text>\n",
       "</g>\n",
       "<!-- E1*E2_104&#45;&gt;3_103 -->\n",
       "<g id=\"edge3\" class=\"edge\"><title>E1*E2_104&#45;&gt;3_103</title>\n",
       "<path fill=\"none\" stroke=\"black\" d=\"M114.623,-73.811C124.704,-64.0098 137.964,-51.1181 149.092,-40.2999\"/>\n",
       "<polygon fill=\"black\" stroke=\"black\" points=\"151.659,-42.6854 156.389,-33.2051 146.779,-37.6664 151.659,-42.6854\"/>\n",
       "</g>\n",
       "</g>\n",
       "</svg>\n"
      ],
      "text/plain": [
       "<graphviz.dot.Digraph at 0x1092919e8>"
      ]
     },
     "execution_count": 29,
     "metadata": {},
     "output_type": "execute_result"
    }
   ],
   "source": [
    "# More tests from\n",
    "# https://www.cs.utah.edu/~zachary/isp/worksheets/operprec/operprec.html\n",
    "drawPT(parseRE(\"6*3/4*5\"))"
   ]
  },
  {
   "cell_type": "code",
   "execution_count": 30,
   "metadata": {
    "run_control": {
     "frozen": false,
     "read_only": false
    }
   },
   "outputs": [
    {
     "data": {
      "text/plain": [
       "22.5"
      ]
     },
     "execution_count": 30,
     "metadata": {},
     "output_type": "execute_result"
    }
   ],
   "source": [
    "6*3/4*5"
   ]
  },
  {
   "cell_type": "code",
   "execution_count": 31,
   "metadata": {
    "run_control": {
     "frozen": false,
     "read_only": false
    }
   },
   "outputs": [
    {
     "name": "stderr",
     "output_type": "stream",
     "text": [
      "Generating LALR tables\n"
     ]
    },
    {
     "name": "stdout",
     "output_type": "stream",
     "text": [
      "Result calculated =  1.1249999999999991\n",
      "Drawing AST for  ('-', (('/', (('*', (('/', (('*', (('NUMBER', '6'), ('NUMBER', '3'))), ('NUMBER', '4'))), ('~', ('NUMBER', '5')))), ('-', (('-', (('-', (('+', (('NUMBER', '2'), ('NUMBER', '3'))), ('NUMBER', '4'))), ('NUMBER', '5'))), ('*', (('/', (('NUMBER', '6'), ('NUMBER', '7'))), ('~', ('NUMBER', '8')))))))), ('~', ('NUMBER', '9'))))\n"
     ]
    },
    {
     "data": {
      "image/svg+xml": [
       "<?xml version=\"1.0\" encoding=\"UTF-8\" standalone=\"no\"?>\n",
       "<!DOCTYPE svg PUBLIC \"-//W3C//DTD SVG 1.1//EN\"\n",
       " \"http://www.w3.org/Graphics/SVG/1.1/DTD/svg11.dtd\">\n",
       "<!-- Generated by graphviz version 2.38.0 (20140413.2041)\n",
       " -->\n",
       "<!-- Title: PT Pages: 1 -->\n",
       "<svg width=\"856pt\" height=\"548pt\"\n",
       " viewBox=\"0.00 0.00 856.00 548.00\" xmlns=\"http://www.w3.org/2000/svg\" xmlns:xlink=\"http://www.w3.org/1999/xlink\">\n",
       "<g id=\"graph0\" class=\"graph\" transform=\"scale(1 1) rotate(0) translate(4 544)\">\n",
       "<title>PT</title>\n",
       "<polygon fill=\"white\" stroke=\"none\" points=\"-4,4 -4,-544 852,-544 852,4 -4,4\"/>\n",
       "<!-- E1&#45;E2_153 -->\n",
       "<g id=\"node1\" class=\"node\"><title>E1&#45;E2_153</title>\n",
       "<ellipse fill=\"none\" stroke=\"black\" cx=\"514\" cy=\"-522\" rx=\"32.8994\" ry=\"18\"/>\n",
       "<text text-anchor=\"middle\" x=\"514\" y=\"-517.8\" font-family=\"Times,serif\" font-size=\"14.00\">E1&#45;E2</text>\n",
       "</g>\n",
       "<!-- E1/E2_148 -->\n",
       "<g id=\"node2\" class=\"node\"><title>E1/E2_148</title>\n",
       "<ellipse fill=\"none\" stroke=\"black\" cx=\"437\" cy=\"-450\" rx=\"32.4237\" ry=\"18\"/>\n",
       "<text text-anchor=\"middle\" x=\"437\" y=\"-445.8\" font-family=\"Times,serif\" font-size=\"14.00\">E1/E2</text>\n",
       "</g>\n",
       "<!-- E1&#45;E2_153&#45;&gt;E1/E2_148 -->\n",
       "<g id=\"edge40\" class=\"edge\"><title>E1&#45;E2_153&#45;&gt;E1/E2_148</title>\n",
       "<path fill=\"none\" stroke=\"black\" d=\"M497.67,-506.155C486.951,-496.41 472.754,-483.503 460.788,-472.626\"/>\n",
       "<polygon fill=\"black\" stroke=\"black\" points=\"463.06,-469.961 453.306,-465.824 458.351,-475.14 463.06,-469.961\"/>\n",
       "</g>\n",
       "<!-- &#45;_154 -->\n",
       "<g id=\"node3\" class=\"node\"><title>&#45;_154</title>\n",
       "<ellipse fill=\"none\" stroke=\"black\" cx=\"514\" cy=\"-450\" rx=\"27\" ry=\"18\"/>\n",
       "<text text-anchor=\"middle\" x=\"514\" y=\"-445.8\" font-family=\"Times,serif\" font-size=\"14.00\">&#45;</text>\n",
       "</g>\n",
       "<!-- E1&#45;E2_153&#45;&gt;&#45;_154 -->\n",
       "<g id=\"edge41\" class=\"edge\"><title>E1&#45;E2_153&#45;&gt;&#45;_154</title>\n",
       "<path fill=\"none\" stroke=\"black\" d=\"M514,-503.697C514,-495.983 514,-486.712 514,-478.112\"/>\n",
       "<polygon fill=\"black\" stroke=\"black\" points=\"517.5,-478.104 514,-468.104 510.5,-478.104 517.5,-478.104\"/>\n",
       "</g>\n",
       "<!-- ~E_151 -->\n",
       "<g id=\"node4\" class=\"node\"><title>~E_151</title>\n",
       "<ellipse fill=\"none\" stroke=\"black\" cx=\"586\" cy=\"-450\" rx=\"27\" ry=\"18\"/>\n",
       "<text text-anchor=\"middle\" x=\"586\" y=\"-445.8\" font-family=\"Times,serif\" font-size=\"14.00\">~E</text>\n",
       "</g>\n",
       "<!-- E1&#45;E2_153&#45;&gt;~E_151 -->\n",
       "<g id=\"edge42\" class=\"edge\"><title>E1&#45;E2_153&#45;&gt;~E_151</title>\n",
       "<path fill=\"none\" stroke=\"black\" d=\"M529.623,-505.811C539.704,-496.01 552.964,-483.118 564.092,-472.3\"/>\n",
       "<polygon fill=\"black\" stroke=\"black\" points=\"566.659,-474.685 571.389,-465.205 561.779,-469.666 566.659,-474.685\"/>\n",
       "</g>\n",
       "<!-- E1*E2_122 -->\n",
       "<g id=\"node5\" class=\"node\"><title>E1*E2_122</title>\n",
       "<ellipse fill=\"none\" stroke=\"black\" cx=\"325\" cy=\"-378\" rx=\"34.3527\" ry=\"18\"/>\n",
       "<text text-anchor=\"middle\" x=\"325\" y=\"-373.8\" font-family=\"Times,serif\" font-size=\"14.00\">E1*E2</text>\n",
       "</g>\n",
       "<!-- E1/E2_148&#45;&gt;E1*E2_122 -->\n",
       "<g id=\"edge35\" class=\"edge\"><title>E1/E2_148&#45;&gt;E1*E2_122</title>\n",
       "<path fill=\"none\" stroke=\"black\" d=\"M416.196,-435.998C399.048,-425.28 374.495,-409.934 355.185,-397.866\"/>\n",
       "<polygon fill=\"black\" stroke=\"black\" points=\"356.79,-394.741 346.455,-392.409 353.08,-400.677 356.79,-394.741\"/>\n",
       "</g>\n",
       "<!-- /_149 -->\n",
       "<g id=\"node6\" class=\"node\"><title>/_149</title>\n",
       "<ellipse fill=\"none\" stroke=\"black\" cx=\"437\" cy=\"-378\" rx=\"27\" ry=\"18\"/>\n",
       "<text text-anchor=\"middle\" x=\"437\" y=\"-373.8\" font-family=\"Times,serif\" font-size=\"14.00\">/</text>\n",
       "</g>\n",
       "<!-- E1/E2_148&#45;&gt;/_149 -->\n",
       "<g id=\"edge36\" class=\"edge\"><title>E1/E2_148&#45;&gt;/_149</title>\n",
       "<path fill=\"none\" stroke=\"black\" d=\"M437,-431.697C437,-423.983 437,-414.712 437,-406.112\"/>\n",
       "<polygon fill=\"black\" stroke=\"black\" points=\"440.5,-406.104 437,-396.104 433.5,-406.104 440.5,-406.104\"/>\n",
       "</g>\n",
       "<!-- (E)_145 -->\n",
       "<g id=\"node7\" class=\"node\"><title>(E)_145</title>\n",
       "<ellipse fill=\"none\" stroke=\"black\" cx=\"511\" cy=\"-378\" rx=\"27\" ry=\"18\"/>\n",
       "<text text-anchor=\"middle\" x=\"511\" y=\"-373.8\" font-family=\"Times,serif\" font-size=\"14.00\">(E)</text>\n",
       "</g>\n",
       "<!-- E1/E2_148&#45;&gt;(E)_145 -->\n",
       "<g id=\"edge37\" class=\"edge\"><title>E1/E2_148&#45;&gt;(E)_145</title>\n",
       "<path fill=\"none\" stroke=\"black\" d=\"M452.693,-434.155C463.104,-424.307 476.928,-411.231 488.502,-400.282\"/>\n",
       "<polygon fill=\"black\" stroke=\"black\" points=\"491.227,-402.522 496.086,-393.108 486.416,-397.437 491.227,-402.522\"/>\n",
       "</g>\n",
       "<!-- ~_152 -->\n",
       "<g id=\"node42\" class=\"node\"><title>~_152</title>\n",
       "<ellipse fill=\"none\" stroke=\"black\" cx=\"585\" cy=\"-378\" rx=\"27\" ry=\"18\"/>\n",
       "<text text-anchor=\"middle\" x=\"585\" y=\"-373.8\" font-family=\"Times,serif\" font-size=\"14.00\">~</text>\n",
       "</g>\n",
       "<!-- ~E_151&#45;&gt;~_152 -->\n",
       "<g id=\"edge38\" class=\"edge\"><title>~E_151&#45;&gt;~_152</title>\n",
       "<path fill=\"none\" stroke=\"black\" d=\"M585.753,-431.697C585.643,-423.983 585.51,-414.712 585.387,-406.112\"/>\n",
       "<polygon fill=\"black\" stroke=\"black\" points=\"588.887,-406.053 585.244,-396.104 581.888,-406.153 588.887,-406.053\"/>\n",
       "</g>\n",
       "<!-- 9_150 -->\n",
       "<g id=\"node43\" class=\"node\"><title>9_150</title>\n",
       "<ellipse fill=\"none\" stroke=\"black\" cx=\"657\" cy=\"-378\" rx=\"27\" ry=\"18\"/>\n",
       "<text text-anchor=\"middle\" x=\"657\" y=\"-373.8\" font-family=\"Times,serif\" font-size=\"14.00\">9</text>\n",
       "</g>\n",
       "<!-- ~E_151&#45;&gt;9_150 -->\n",
       "<g id=\"edge39\" class=\"edge\"><title>~E_151&#45;&gt;9_150</title>\n",
       "<path fill=\"none\" stroke=\"black\" d=\"M600.711,-434.496C610.612,-424.735 623.843,-411.69 634.99,-400.7\"/>\n",
       "<polygon fill=\"black\" stroke=\"black\" points=\"637.644,-402.999 642.308,-393.485 632.729,-398.014 637.644,-402.999\"/>\n",
       "</g>\n",
       "<!-- E1/E2_117 -->\n",
       "<g id=\"node8\" class=\"node\"><title>E1/E2_117</title>\n",
       "<ellipse fill=\"none\" stroke=\"black\" cx=\"188\" cy=\"-306\" rx=\"32.4237\" ry=\"18\"/>\n",
       "<text text-anchor=\"middle\" x=\"188\" y=\"-301.8\" font-family=\"Times,serif\" font-size=\"14.00\">E1/E2</text>\n",
       "</g>\n",
       "<!-- E1*E2_122&#45;&gt;E1/E2_117 -->\n",
       "<g id=\"edge9\" class=\"edge\"><title>E1*E2_122&#45;&gt;E1/E2_117</title>\n",
       "<path fill=\"none\" stroke=\"black\" d=\"M301.136,-364.807C278.704,-353.345 244.958,-336.103 220.158,-323.431\"/>\n",
       "<polygon fill=\"black\" stroke=\"black\" points=\"221.631,-320.253 211.134,-318.82 218.446,-326.487 221.631,-320.253\"/>\n",
       "</g>\n",
       "<!-- *_123 -->\n",
       "<g id=\"node9\" class=\"node\"><title>*_123</title>\n",
       "<ellipse fill=\"none\" stroke=\"black\" cx=\"298\" cy=\"-306\" rx=\"27\" ry=\"18\"/>\n",
       "<text text-anchor=\"middle\" x=\"298\" y=\"-301.8\" font-family=\"Times,serif\" font-size=\"14.00\">*</text>\n",
       "</g>\n",
       "<!-- E1*E2_122&#45;&gt;*_123 -->\n",
       "<g id=\"edge10\" class=\"edge\"><title>E1*E2_122&#45;&gt;*_123</title>\n",
       "<path fill=\"none\" stroke=\"black\" d=\"M318.464,-360.055C315.38,-352.059 311.628,-342.331 308.183,-333.4\"/>\n",
       "<polygon fill=\"black\" stroke=\"black\" points=\"311.34,-331.859 304.476,-323.789 304.809,-334.379 311.34,-331.859\"/>\n",
       "</g>\n",
       "<!-- ~E_120 -->\n",
       "<g id=\"node10\" class=\"node\"><title>~E_120</title>\n",
       "<ellipse fill=\"none\" stroke=\"black\" cx=\"370\" cy=\"-306\" rx=\"27\" ry=\"18\"/>\n",
       "<text text-anchor=\"middle\" x=\"370\" y=\"-301.8\" font-family=\"Times,serif\" font-size=\"14.00\">~E</text>\n",
       "</g>\n",
       "<!-- E1*E2_122&#45;&gt;~E_120 -->\n",
       "<g id=\"edge11\" class=\"edge\"><title>E1*E2_122&#45;&gt;~E_120</title>\n",
       "<path fill=\"none\" stroke=\"black\" d=\"M335.437,-360.765C341.003,-352.106 347.967,-341.273 354.183,-331.604\"/>\n",
       "<polygon fill=\"black\" stroke=\"black\" points=\"357.156,-333.452 359.62,-323.147 351.268,-329.666 357.156,-333.452\"/>\n",
       "</g>\n",
       "<!-- (_146 -->\n",
       "<g id=\"node19\" class=\"node\"><title>(_146</title>\n",
       "<ellipse fill=\"none\" stroke=\"black\" cx=\"462\" cy=\"-306\" rx=\"27\" ry=\"18\"/>\n",
       "<text text-anchor=\"middle\" x=\"462\" y=\"-301.8\" font-family=\"Times,serif\" font-size=\"14.00\">(</text>\n",
       "</g>\n",
       "<!-- (E)_145&#45;&gt;(_146 -->\n",
       "<g id=\"edge32\" class=\"edge\"><title>(E)_145&#45;&gt;(_146</title>\n",
       "<path fill=\"none\" stroke=\"black\" d=\"M500.125,-361.465C493.845,-352.493 485.813,-341.019 478.742,-330.918\"/>\n",
       "<polygon fill=\"black\" stroke=\"black\" points=\"481.446,-328.677 472.844,-322.492 475.712,-332.691 481.446,-328.677\"/>\n",
       "</g>\n",
       "<!-- E1&#45;E2_143 -->\n",
       "<g id=\"node20\" class=\"node\"><title>E1&#45;E2_143</title>\n",
       "<ellipse fill=\"none\" stroke=\"black\" cx=\"540\" cy=\"-306\" rx=\"32.8994\" ry=\"18\"/>\n",
       "<text text-anchor=\"middle\" x=\"540\" y=\"-301.8\" font-family=\"Times,serif\" font-size=\"14.00\">E1&#45;E2</text>\n",
       "</g>\n",
       "<!-- (E)_145&#45;&gt;E1&#45;E2_143 -->\n",
       "<g id=\"edge33\" class=\"edge\"><title>(E)_145&#45;&gt;E1&#45;E2_143</title>\n",
       "<path fill=\"none\" stroke=\"black\" d=\"M517.873,-360.411C521.218,-352.335 525.321,-342.431 529.082,-333.355\"/>\n",
       "<polygon fill=\"black\" stroke=\"black\" points=\"532.381,-334.534 532.975,-323.956 525.914,-331.855 532.381,-334.534\"/>\n",
       "</g>\n",
       "<!-- )_147 -->\n",
       "<g id=\"node41\" class=\"node\"><title>)_147</title>\n",
       "<ellipse fill=\"none\" stroke=\"black\" cx=\"618\" cy=\"-306\" rx=\"27\" ry=\"18\"/>\n",
       "<text text-anchor=\"middle\" x=\"618\" y=\"-301.8\" font-family=\"Times,serif\" font-size=\"14.00\">)</text>\n",
       "</g>\n",
       "<!-- (E)_145&#45;&gt;)_147 -->\n",
       "<g id=\"edge34\" class=\"edge\"><title>(E)_145&#45;&gt;)_147</title>\n",
       "<path fill=\"none\" stroke=\"black\" d=\"M529.638,-364.807C546.489,-353.783 571.512,-337.413 590.632,-324.904\"/>\n",
       "<polygon fill=\"black\" stroke=\"black\" points=\"592.764,-327.692 599.217,-319.288 588.932,-321.834 592.764,-327.692\"/>\n",
       "</g>\n",
       "<!-- E1*E2_114 -->\n",
       "<g id=\"node11\" class=\"node\"><title>E1*E2_114</title>\n",
       "<ellipse fill=\"none\" stroke=\"black\" cx=\"99\" cy=\"-234\" rx=\"34.3527\" ry=\"18\"/>\n",
       "<text text-anchor=\"middle\" x=\"99\" y=\"-229.8\" font-family=\"Times,serif\" font-size=\"14.00\">E1*E2</text>\n",
       "</g>\n",
       "<!-- E1/E2_117&#45;&gt;E1*E2_114 -->\n",
       "<g id=\"edge4\" class=\"edge\"><title>E1/E2_117&#45;&gt;E1*E2_114</title>\n",
       "<path fill=\"none\" stroke=\"black\" d=\"M169.99,-290.834C157.167,-280.749 139.73,-267.035 125.347,-255.722\"/>\n",
       "<polygon fill=\"black\" stroke=\"black\" points=\"127.313,-252.816 117.289,-249.385 122.986,-258.318 127.313,-252.816\"/>\n",
       "</g>\n",
       "<!-- /_118 -->\n",
       "<g id=\"node12\" class=\"node\"><title>/_118</title>\n",
       "<ellipse fill=\"none\" stroke=\"black\" cx=\"178\" cy=\"-234\" rx=\"27\" ry=\"18\"/>\n",
       "<text text-anchor=\"middle\" x=\"178\" y=\"-229.8\" font-family=\"Times,serif\" font-size=\"14.00\">/</text>\n",
       "</g>\n",
       "<!-- E1/E2_117&#45;&gt;/_118 -->\n",
       "<g id=\"edge5\" class=\"edge\"><title>E1/E2_117&#45;&gt;/_118</title>\n",
       "<path fill=\"none\" stroke=\"black\" d=\"M185.528,-287.697C184.426,-279.983 183.102,-270.712 181.873,-262.112\"/>\n",
       "<polygon fill=\"black\" stroke=\"black\" points=\"185.323,-261.509 180.443,-252.104 178.393,-262.499 185.323,-261.509\"/>\n",
       "</g>\n",
       "<!-- 4_116 -->\n",
       "<g id=\"node13\" class=\"node\"><title>4_116</title>\n",
       "<ellipse fill=\"none\" stroke=\"black\" cx=\"250\" cy=\"-234\" rx=\"27\" ry=\"18\"/>\n",
       "<text text-anchor=\"middle\" x=\"250\" y=\"-229.8\" font-family=\"Times,serif\" font-size=\"14.00\">4</text>\n",
       "</g>\n",
       "<!-- E1/E2_117&#45;&gt;4_116 -->\n",
       "<g id=\"edge6\" class=\"edge\"><title>E1/E2_117&#45;&gt;4_116</title>\n",
       "<path fill=\"none\" stroke=\"black\" d=\"M201.76,-289.465C210.061,-280.092 220.78,-267.99 230.006,-257.574\"/>\n",
       "<polygon fill=\"black\" stroke=\"black\" points=\"232.694,-259.818 236.704,-250.011 227.454,-255.177 232.694,-259.818\"/>\n",
       "</g>\n",
       "<!-- ~_121 -->\n",
       "<g id=\"node17\" class=\"node\"><title>~_121</title>\n",
       "<ellipse fill=\"none\" stroke=\"black\" cx=\"322\" cy=\"-234\" rx=\"27\" ry=\"18\"/>\n",
       "<text text-anchor=\"middle\" x=\"322\" y=\"-229.8\" font-family=\"Times,serif\" font-size=\"14.00\">~</text>\n",
       "</g>\n",
       "<!-- ~E_120&#45;&gt;~_121 -->\n",
       "<g id=\"edge7\" class=\"edge\"><title>~E_120&#45;&gt;~_121</title>\n",
       "<path fill=\"none\" stroke=\"black\" d=\"M359.108,-289.116C353.032,-280.255 345.34,-269.037 338.536,-259.115\"/>\n",
       "<polygon fill=\"black\" stroke=\"black\" points=\"341.391,-257.089 332.849,-250.821 335.618,-261.048 341.391,-257.089\"/>\n",
       "</g>\n",
       "<!-- 5_119 -->\n",
       "<g id=\"node18\" class=\"node\"><title>5_119</title>\n",
       "<ellipse fill=\"none\" stroke=\"black\" cx=\"394\" cy=\"-234\" rx=\"27\" ry=\"18\"/>\n",
       "<text text-anchor=\"middle\" x=\"394\" y=\"-229.8\" font-family=\"Times,serif\" font-size=\"14.00\">5</text>\n",
       "</g>\n",
       "<!-- ~E_120&#45;&gt;5_119 -->\n",
       "<g id=\"edge8\" class=\"edge\"><title>~E_120&#45;&gt;5_119</title>\n",
       "<path fill=\"none\" stroke=\"black\" d=\"M375.81,-288.055C378.551,-280.059 381.887,-270.331 384.949,-261.4\"/>\n",
       "<polygon fill=\"black\" stroke=\"black\" points=\"388.311,-262.384 388.244,-251.789 381.69,-260.113 388.311,-262.384\"/>\n",
       "</g>\n",
       "<!-- 6_112 -->\n",
       "<g id=\"node14\" class=\"node\"><title>6_112</title>\n",
       "<ellipse fill=\"none\" stroke=\"black\" cx=\"27\" cy=\"-162\" rx=\"27\" ry=\"18\"/>\n",
       "<text text-anchor=\"middle\" x=\"27\" y=\"-157.8\" font-family=\"Times,serif\" font-size=\"14.00\">6</text>\n",
       "</g>\n",
       "<!-- E1*E2_114&#45;&gt;6_112 -->\n",
       "<g id=\"edge1\" class=\"edge\"><title>E1*E2_114&#45;&gt;6_112</title>\n",
       "<path fill=\"none\" stroke=\"black\" d=\"M83.3771,-217.811C73.2958,-208.01 60.0358,-195.118 48.9084,-184.3\"/>\n",
       "<polygon fill=\"black\" stroke=\"black\" points=\"51.2207,-181.666 41.6109,-177.205 46.3411,-186.685 51.2207,-181.666\"/>\n",
       "</g>\n",
       "<!-- *_115 -->\n",
       "<g id=\"node15\" class=\"node\"><title>*_115</title>\n",
       "<ellipse fill=\"none\" stroke=\"black\" cx=\"99\" cy=\"-162\" rx=\"27\" ry=\"18\"/>\n",
       "<text text-anchor=\"middle\" x=\"99\" y=\"-157.8\" font-family=\"Times,serif\" font-size=\"14.00\">*</text>\n",
       "</g>\n",
       "<!-- E1*E2_114&#45;&gt;*_115 -->\n",
       "<g id=\"edge2\" class=\"edge\"><title>E1*E2_114&#45;&gt;*_115</title>\n",
       "<path fill=\"none\" stroke=\"black\" d=\"M99,-215.697C99,-207.983 99,-198.712 99,-190.112\"/>\n",
       "<polygon fill=\"black\" stroke=\"black\" points=\"102.5,-190.104 99,-180.104 95.5001,-190.104 102.5,-190.104\"/>\n",
       "</g>\n",
       "<!-- 3_113 -->\n",
       "<g id=\"node16\" class=\"node\"><title>3_113</title>\n",
       "<ellipse fill=\"none\" stroke=\"black\" cx=\"171\" cy=\"-162\" rx=\"27\" ry=\"18\"/>\n",
       "<text text-anchor=\"middle\" x=\"171\" y=\"-157.8\" font-family=\"Times,serif\" font-size=\"14.00\">3</text>\n",
       "</g>\n",
       "<!-- E1*E2_114&#45;&gt;3_113 -->\n",
       "<g id=\"edge3\" class=\"edge\"><title>E1*E2_114&#45;&gt;3_113</title>\n",
       "<path fill=\"none\" stroke=\"black\" d=\"M114.623,-217.811C124.704,-208.01 137.964,-195.118 149.092,-184.3\"/>\n",
       "<polygon fill=\"black\" stroke=\"black\" points=\"151.659,-186.685 156.389,-177.205 146.779,-181.666 151.659,-186.685\"/>\n",
       "</g>\n",
       "<!-- E1&#45;E2_132 -->\n",
       "<g id=\"node21\" class=\"node\"><title>E1&#45;E2_132</title>\n",
       "<ellipse fill=\"none\" stroke=\"black\" cx=\"472\" cy=\"-234\" rx=\"32.8994\" ry=\"18\"/>\n",
       "<text text-anchor=\"middle\" x=\"472\" y=\"-229.8\" font-family=\"Times,serif\" font-size=\"14.00\">E1&#45;E2</text>\n",
       "</g>\n",
       "<!-- E1&#45;E2_143&#45;&gt;E1&#45;E2_132 -->\n",
       "<g id=\"edge29\" class=\"edge\"><title>E1&#45;E2_143&#45;&gt;E1&#45;E2_132</title>\n",
       "<path fill=\"none\" stroke=\"black\" d=\"M525.245,-289.811C516.067,-280.363 504.099,-268.043 493.835,-257.477\"/>\n",
       "<polygon fill=\"black\" stroke=\"black\" points=\"496.205,-254.893 486.726,-250.159 491.184,-259.771 496.205,-254.893\"/>\n",
       "</g>\n",
       "<!-- &#45;_144 -->\n",
       "<g id=\"node22\" class=\"node\"><title>&#45;_144</title>\n",
       "<ellipse fill=\"none\" stroke=\"black\" cx=\"550\" cy=\"-234\" rx=\"27\" ry=\"18\"/>\n",
       "<text text-anchor=\"middle\" x=\"550\" y=\"-229.8\" font-family=\"Times,serif\" font-size=\"14.00\">&#45;</text>\n",
       "</g>\n",
       "<!-- E1&#45;E2_143&#45;&gt;&#45;_144 -->\n",
       "<g id=\"edge30\" class=\"edge\"><title>E1&#45;E2_143&#45;&gt;&#45;_144</title>\n",
       "<path fill=\"none\" stroke=\"black\" d=\"M542.472,-287.697C543.574,-279.983 544.898,-270.712 546.127,-262.112\"/>\n",
       "<polygon fill=\"black\" stroke=\"black\" points=\"549.607,-262.499 547.557,-252.104 542.677,-261.509 549.607,-262.499\"/>\n",
       "</g>\n",
       "<!-- E1*E2_141 -->\n",
       "<g id=\"node23\" class=\"node\"><title>E1*E2_141</title>\n",
       "<ellipse fill=\"none\" stroke=\"black\" cx=\"663\" cy=\"-234\" rx=\"34.3527\" ry=\"18\"/>\n",
       "<text text-anchor=\"middle\" x=\"663\" y=\"-229.8\" font-family=\"Times,serif\" font-size=\"14.00\">E1*E2</text>\n",
       "</g>\n",
       "<!-- E1&#45;E2_143&#45;&gt;E1*E2_141 -->\n",
       "<g id=\"edge31\" class=\"edge\"><title>E1&#45;E2_143&#45;&gt;E1*E2_141</title>\n",
       "<path fill=\"none\" stroke=\"black\" d=\"M561.99,-292.485C581.338,-281.474 609.733,-265.314 631.494,-252.93\"/>\n",
       "<polygon fill=\"black\" stroke=\"black\" points=\"633.408,-255.868 640.368,-247.88 629.946,-249.784 633.408,-255.868\"/>\n",
       "</g>\n",
       "<!-- E1&#45;E2_129 -->\n",
       "<g id=\"node24\" class=\"node\"><title>E1&#45;E2_129</title>\n",
       "<ellipse fill=\"none\" stroke=\"black\" cx=\"376\" cy=\"-162\" rx=\"32.8994\" ry=\"18\"/>\n",
       "<text text-anchor=\"middle\" x=\"376\" y=\"-157.8\" font-family=\"Times,serif\" font-size=\"14.00\">E1&#45;E2</text>\n",
       "</g>\n",
       "<!-- E1&#45;E2_132&#45;&gt;E1&#45;E2_129 -->\n",
       "<g id=\"edge18\" class=\"edge\"><title>E1&#45;E2_132&#45;&gt;E1&#45;E2_129</title>\n",
       "<path fill=\"none\" stroke=\"black\" d=\"M453.033,-219.17C438.833,-208.816 419.202,-194.502 403.312,-182.915\"/>\n",
       "<polygon fill=\"black\" stroke=\"black\" points=\"405.069,-179.865 394.927,-176.801 400.945,-185.521 405.069,-179.865\"/>\n",
       "</g>\n",
       "<!-- &#45;_133 -->\n",
       "<g id=\"node25\" class=\"node\"><title>&#45;_133</title>\n",
       "<ellipse fill=\"none\" stroke=\"black\" cx=\"454\" cy=\"-162\" rx=\"27\" ry=\"18\"/>\n",
       "<text text-anchor=\"middle\" x=\"454\" y=\"-157.8\" font-family=\"Times,serif\" font-size=\"14.00\">&#45;</text>\n",
       "</g>\n",
       "<!-- E1&#45;E2_132&#45;&gt;&#45;_133 -->\n",
       "<g id=\"edge19\" class=\"edge\"><title>E1&#45;E2_132&#45;&gt;&#45;_133</title>\n",
       "<path fill=\"none\" stroke=\"black\" d=\"M467.643,-216.055C465.609,-208.145 463.139,-198.54 460.863,-189.688\"/>\n",
       "<polygon fill=\"black\" stroke=\"black\" points=\"464.197,-188.602 458.317,-179.789 457.418,-190.346 464.197,-188.602\"/>\n",
       "</g>\n",
       "<!-- 5_131 -->\n",
       "<g id=\"node26\" class=\"node\"><title>5_131</title>\n",
       "<ellipse fill=\"none\" stroke=\"black\" cx=\"526\" cy=\"-162\" rx=\"27\" ry=\"18\"/>\n",
       "<text text-anchor=\"middle\" x=\"526\" y=\"-157.8\" font-family=\"Times,serif\" font-size=\"14.00\">5</text>\n",
       "</g>\n",
       "<!-- E1&#45;E2_132&#45;&gt;5_131 -->\n",
       "<g id=\"edge20\" class=\"edge\"><title>E1&#45;E2_132&#45;&gt;5_131</title>\n",
       "<path fill=\"none\" stroke=\"black\" d=\"M484.253,-217.116C491.255,-208.04 500.165,-196.49 507.954,-186.393\"/>\n",
       "<polygon fill=\"black\" stroke=\"black\" points=\"510.829,-188.396 514.166,-178.34 505.287,-184.12 510.829,-188.396\"/>\n",
       "</g>\n",
       "<!-- E1/E2_136 -->\n",
       "<g id=\"node33\" class=\"node\"><title>E1/E2_136</title>\n",
       "<ellipse fill=\"none\" stroke=\"black\" cx=\"603\" cy=\"-162\" rx=\"32.4237\" ry=\"18\"/>\n",
       "<text text-anchor=\"middle\" x=\"603\" y=\"-157.8\" font-family=\"Times,serif\" font-size=\"14.00\">E1/E2</text>\n",
       "</g>\n",
       "<!-- E1*E2_141&#45;&gt;E1/E2_136 -->\n",
       "<g id=\"edge26\" class=\"edge\"><title>E1*E2_141&#45;&gt;E1/E2_136</title>\n",
       "<path fill=\"none\" stroke=\"black\" d=\"M649.385,-217.116C641.637,-208.076 631.785,-196.583 623.156,-186.515\"/>\n",
       "<polygon fill=\"black\" stroke=\"black\" points=\"625.726,-184.136 616.561,-178.821 620.412,-188.692 625.726,-184.136\"/>\n",
       "</g>\n",
       "<!-- *_142 -->\n",
       "<g id=\"node34\" class=\"node\"><title>*_142</title>\n",
       "<ellipse fill=\"none\" stroke=\"black\" cx=\"680\" cy=\"-162\" rx=\"27\" ry=\"18\"/>\n",
       "<text text-anchor=\"middle\" x=\"680\" y=\"-157.8\" font-family=\"Times,serif\" font-size=\"14.00\">*</text>\n",
       "</g>\n",
       "<!-- E1*E2_141&#45;&gt;*_142 -->\n",
       "<g id=\"edge27\" class=\"edge\"><title>E1*E2_141&#45;&gt;*_142</title>\n",
       "<path fill=\"none\" stroke=\"black\" d=\"M667.115,-216.055C669.008,-208.261 671.3,-198.822 673.424,-190.079\"/>\n",
       "<polygon fill=\"black\" stroke=\"black\" points=\"676.846,-190.819 675.805,-180.275 670.043,-189.167 676.846,-190.819\"/>\n",
       "</g>\n",
       "<!-- ~E_139 -->\n",
       "<g id=\"node35\" class=\"node\"><title>~E_139</title>\n",
       "<ellipse fill=\"none\" stroke=\"black\" cx=\"752\" cy=\"-162\" rx=\"27\" ry=\"18\"/>\n",
       "<text text-anchor=\"middle\" x=\"752\" y=\"-157.8\" font-family=\"Times,serif\" font-size=\"14.00\">~E</text>\n",
       "</g>\n",
       "<!-- E1*E2_141&#45;&gt;~E_139 -->\n",
       "<g id=\"edge28\" class=\"edge\"><title>E1*E2_141&#45;&gt;~E_139</title>\n",
       "<path fill=\"none\" stroke=\"black\" d=\"M681.441,-218.496C694.635,-208.118 712.548,-194.029 727.024,-182.644\"/>\n",
       "<polygon fill=\"black\" stroke=\"black\" points=\"729.392,-185.235 735.088,-176.302 725.064,-179.733 729.392,-185.235\"/>\n",
       "</g>\n",
       "<!-- E1+E2_126 -->\n",
       "<g id=\"node27\" class=\"node\"><title>E1+E2_126</title>\n",
       "<ellipse fill=\"none\" stroke=\"black\" cx=\"296\" cy=\"-90\" rx=\"34.9848\" ry=\"18\"/>\n",
       "<text text-anchor=\"middle\" x=\"296\" y=\"-85.8\" font-family=\"Times,serif\" font-size=\"14.00\">E1+E2</text>\n",
       "</g>\n",
       "<!-- E1&#45;E2_129&#45;&gt;E1+E2_126 -->\n",
       "<g id=\"edge15\" class=\"edge\"><title>E1&#45;E2_129&#45;&gt;E1+E2_126</title>\n",
       "<path fill=\"none\" stroke=\"black\" d=\"M359.034,-146.155C347.897,-136.41 333.147,-123.503 320.715,-112.626\"/>\n",
       "<polygon fill=\"black\" stroke=\"black\" points=\"322.772,-109.775 312.941,-105.824 318.162,-115.043 322.772,-109.775\"/>\n",
       "</g>\n",
       "<!-- &#45;_130 -->\n",
       "<g id=\"node28\" class=\"node\"><title>&#45;_130</title>\n",
       "<ellipse fill=\"none\" stroke=\"black\" cx=\"376\" cy=\"-90\" rx=\"27\" ry=\"18\"/>\n",
       "<text text-anchor=\"middle\" x=\"376\" y=\"-85.8\" font-family=\"Times,serif\" font-size=\"14.00\">&#45;</text>\n",
       "</g>\n",
       "<!-- E1&#45;E2_129&#45;&gt;&#45;_130 -->\n",
       "<g id=\"edge16\" class=\"edge\"><title>E1&#45;E2_129&#45;&gt;&#45;_130</title>\n",
       "<path fill=\"none\" stroke=\"black\" d=\"M376,-143.697C376,-135.983 376,-126.712 376,-118.112\"/>\n",
       "<polygon fill=\"black\" stroke=\"black\" points=\"379.5,-118.104 376,-108.104 372.5,-118.104 379.5,-118.104\"/>\n",
       "</g>\n",
       "<!-- 4_128 -->\n",
       "<g id=\"node29\" class=\"node\"><title>4_128</title>\n",
       "<ellipse fill=\"none\" stroke=\"black\" cx=\"448\" cy=\"-90\" rx=\"27\" ry=\"18\"/>\n",
       "<text text-anchor=\"middle\" x=\"448\" y=\"-85.8\" font-family=\"Times,serif\" font-size=\"14.00\">4</text>\n",
       "</g>\n",
       "<!-- E1&#45;E2_129&#45;&gt;4_128 -->\n",
       "<g id=\"edge17\" class=\"edge\"><title>E1&#45;E2_129&#45;&gt;4_128</title>\n",
       "<path fill=\"none\" stroke=\"black\" d=\"M391.623,-145.811C401.704,-136.01 414.964,-123.118 426.092,-112.3\"/>\n",
       "<polygon fill=\"black\" stroke=\"black\" points=\"428.659,-114.685 433.389,-105.205 423.779,-109.666 428.659,-114.685\"/>\n",
       "</g>\n",
       "<!-- 2_124 -->\n",
       "<g id=\"node30\" class=\"node\"><title>2_124</title>\n",
       "<ellipse fill=\"none\" stroke=\"black\" cx=\"224\" cy=\"-18\" rx=\"27\" ry=\"18\"/>\n",
       "<text text-anchor=\"middle\" x=\"224\" y=\"-13.8\" font-family=\"Times,serif\" font-size=\"14.00\">2</text>\n",
       "</g>\n",
       "<!-- E1+E2_126&#45;&gt;2_124 -->\n",
       "<g id=\"edge12\" class=\"edge\"><title>E1+E2_126&#45;&gt;2_124</title>\n",
       "<path fill=\"none\" stroke=\"black\" d=\"M280.377,-73.811C270.296,-64.0098 257.036,-51.1181 245.908,-40.2999\"/>\n",
       "<polygon fill=\"black\" stroke=\"black\" points=\"248.221,-37.6664 238.611,-33.2051 243.341,-42.6854 248.221,-37.6664\"/>\n",
       "</g>\n",
       "<!-- +_127 -->\n",
       "<g id=\"node31\" class=\"node\"><title>+_127</title>\n",
       "<ellipse fill=\"none\" stroke=\"black\" cx=\"296\" cy=\"-18\" rx=\"27\" ry=\"18\"/>\n",
       "<text text-anchor=\"middle\" x=\"296\" y=\"-13.8\" font-family=\"Times,serif\" font-size=\"14.00\">+</text>\n",
       "</g>\n",
       "<!-- E1+E2_126&#45;&gt;+_127 -->\n",
       "<g id=\"edge13\" class=\"edge\"><title>E1+E2_126&#45;&gt;+_127</title>\n",
       "<path fill=\"none\" stroke=\"black\" d=\"M296,-71.6966C296,-63.9827 296,-54.7125 296,-46.1124\"/>\n",
       "<polygon fill=\"black\" stroke=\"black\" points=\"299.5,-46.1043 296,-36.1043 292.5,-46.1044 299.5,-46.1043\"/>\n",
       "</g>\n",
       "<!-- 3_125 -->\n",
       "<g id=\"node32\" class=\"node\"><title>3_125</title>\n",
       "<ellipse fill=\"none\" stroke=\"black\" cx=\"368\" cy=\"-18\" rx=\"27\" ry=\"18\"/>\n",
       "<text text-anchor=\"middle\" x=\"368\" y=\"-13.8\" font-family=\"Times,serif\" font-size=\"14.00\">3</text>\n",
       "</g>\n",
       "<!-- E1+E2_126&#45;&gt;3_125 -->\n",
       "<g id=\"edge14\" class=\"edge\"><title>E1+E2_126&#45;&gt;3_125</title>\n",
       "<path fill=\"none\" stroke=\"black\" d=\"M311.623,-73.811C321.704,-64.0098 334.964,-51.1181 346.092,-40.2999\"/>\n",
       "<polygon fill=\"black\" stroke=\"black\" points=\"348.659,-42.6854 353.389,-33.2051 343.779,-37.6664 348.659,-42.6854\"/>\n",
       "</g>\n",
       "<!-- 6_134 -->\n",
       "<g id=\"node36\" class=\"node\"><title>6_134</title>\n",
       "<ellipse fill=\"none\" stroke=\"black\" cx=\"531\" cy=\"-90\" rx=\"27\" ry=\"18\"/>\n",
       "<text text-anchor=\"middle\" x=\"531\" y=\"-85.8\" font-family=\"Times,serif\" font-size=\"14.00\">6</text>\n",
       "</g>\n",
       "<!-- E1/E2_136&#45;&gt;6_134 -->\n",
       "<g id=\"edge21\" class=\"edge\"><title>E1/E2_136&#45;&gt;6_134</title>\n",
       "<path fill=\"none\" stroke=\"black\" d=\"M587.377,-145.811C577.296,-136.01 564.036,-123.118 552.908,-112.3\"/>\n",
       "<polygon fill=\"black\" stroke=\"black\" points=\"555.221,-109.666 545.611,-105.205 550.341,-114.685 555.221,-109.666\"/>\n",
       "</g>\n",
       "<!-- /_137 -->\n",
       "<g id=\"node37\" class=\"node\"><title>/_137</title>\n",
       "<ellipse fill=\"none\" stroke=\"black\" cx=\"603\" cy=\"-90\" rx=\"27\" ry=\"18\"/>\n",
       "<text text-anchor=\"middle\" x=\"603\" y=\"-85.8\" font-family=\"Times,serif\" font-size=\"14.00\">/</text>\n",
       "</g>\n",
       "<!-- E1/E2_136&#45;&gt;/_137 -->\n",
       "<g id=\"edge22\" class=\"edge\"><title>E1/E2_136&#45;&gt;/_137</title>\n",
       "<path fill=\"none\" stroke=\"black\" d=\"M603,-143.697C603,-135.983 603,-126.712 603,-118.112\"/>\n",
       "<polygon fill=\"black\" stroke=\"black\" points=\"606.5,-118.104 603,-108.104 599.5,-118.104 606.5,-118.104\"/>\n",
       "</g>\n",
       "<!-- 7_135 -->\n",
       "<g id=\"node38\" class=\"node\"><title>7_135</title>\n",
       "<ellipse fill=\"none\" stroke=\"black\" cx=\"675\" cy=\"-90\" rx=\"27\" ry=\"18\"/>\n",
       "<text text-anchor=\"middle\" x=\"675\" y=\"-85.8\" font-family=\"Times,serif\" font-size=\"14.00\">7</text>\n",
       "</g>\n",
       "<!-- E1/E2_136&#45;&gt;7_135 -->\n",
       "<g id=\"edge23\" class=\"edge\"><title>E1/E2_136&#45;&gt;7_135</title>\n",
       "<path fill=\"none\" stroke=\"black\" d=\"M618.623,-145.811C628.704,-136.01 641.964,-123.118 653.092,-112.3\"/>\n",
       "<polygon fill=\"black\" stroke=\"black\" points=\"655.659,-114.685 660.389,-105.205 650.779,-109.666 655.659,-114.685\"/>\n",
       "</g>\n",
       "<!-- ~_140 -->\n",
       "<g id=\"node39\" class=\"node\"><title>~_140</title>\n",
       "<ellipse fill=\"none\" stroke=\"black\" cx=\"749\" cy=\"-90\" rx=\"27\" ry=\"18\"/>\n",
       "<text text-anchor=\"middle\" x=\"749\" y=\"-85.8\" font-family=\"Times,serif\" font-size=\"14.00\">~</text>\n",
       "</g>\n",
       "<!-- ~E_139&#45;&gt;~_140 -->\n",
       "<g id=\"edge24\" class=\"edge\"><title>~E_139&#45;&gt;~_140</title>\n",
       "<path fill=\"none\" stroke=\"black\" d=\"M751.258,-143.697C750.928,-135.983 750.531,-126.712 750.162,-118.112\"/>\n",
       "<polygon fill=\"black\" stroke=\"black\" points=\"753.658,-117.945 749.733,-108.104 746.665,-118.245 753.658,-117.945\"/>\n",
       "</g>\n",
       "<!-- 8_138 -->\n",
       "<g id=\"node40\" class=\"node\"><title>8_138</title>\n",
       "<ellipse fill=\"none\" stroke=\"black\" cx=\"821\" cy=\"-90\" rx=\"27\" ry=\"18\"/>\n",
       "<text text-anchor=\"middle\" x=\"821\" y=\"-85.8\" font-family=\"Times,serif\" font-size=\"14.00\">8</text>\n",
       "</g>\n",
       "<!-- ~E_139&#45;&gt;8_138 -->\n",
       "<g id=\"edge25\" class=\"edge\"><title>~E_139&#45;&gt;8_138</title>\n",
       "<path fill=\"none\" stroke=\"black\" d=\"M766.297,-146.496C775.919,-136.735 788.777,-123.69 799.61,-112.7\"/>\n",
       "<polygon fill=\"black\" stroke=\"black\" points=\"802.194,-115.064 806.721,-105.485 797.209,-110.15 802.194,-115.064\"/>\n",
       "</g>\n",
       "</g>\n",
       "</svg>\n"
      ],
      "text/plain": [
       "<graphviz.dot.Digraph at 0x109236518>"
      ]
     },
     "execution_count": 31,
     "metadata": {},
     "output_type": "execute_result"
    }
   ],
   "source": [
    "drawPT(parseRE(\"6*3/4*~5/(2+3-4-5-6/7*~8)-~9\"))"
   ]
  },
  {
   "cell_type": "code",
   "execution_count": 32,
   "metadata": {
    "run_control": {
     "frozen": false,
     "read_only": false
    }
   },
   "outputs": [
    {
     "data": {
      "text/plain": [
       "1.1249999999999991"
      ]
     },
     "execution_count": 32,
     "metadata": {},
     "output_type": "execute_result"
    }
   ],
   "source": [
    "# Check against Python!\n",
    "6*3/4*-5/(2+3-4-5-6/7*-8)--9"
   ]
  },
  {
   "cell_type": "code",
   "execution_count": 33,
   "metadata": {
    "run_control": {
     "frozen": false,
     "read_only": false
    }
   },
   "outputs": [
    {
     "name": "stderr",
     "output_type": "stream",
     "text": [
      "Generating LALR tables\n"
     ]
    },
    {
     "name": "stdout",
     "output_type": "stream",
     "text": [
      "Result calculated =  2430\n",
      "Drawing AST for  ('*', (('*', (('NUMBER', '6'), ('**', (('NUMBER', '3'), ('NUMBER', '4'))))), ('NUMBER', '5')))\n"
     ]
    },
    {
     "data": {
      "image/svg+xml": [
       "<?xml version=\"1.0\" encoding=\"UTF-8\" standalone=\"no\"?>\n",
       "<!DOCTYPE svg PUBLIC \"-//W3C//DTD SVG 1.1//EN\"\n",
       " \"http://www.w3.org/Graphics/SVG/1.1/DTD/svg11.dtd\">\n",
       "<!-- Generated by graphviz version 2.38.0 (20140413.2041)\n",
       " -->\n",
       "<!-- Title: PT Pages: 1 -->\n",
       "<svg width=\"290pt\" height=\"260pt\"\n",
       " viewBox=\"0.00 0.00 290.00 260.00\" xmlns=\"http://www.w3.org/2000/svg\" xmlns:xlink=\"http://www.w3.org/1999/xlink\">\n",
       "<g id=\"graph0\" class=\"graph\" transform=\"scale(1 1) rotate(0) translate(4 256)\">\n",
       "<title>PT</title>\n",
       "<polygon fill=\"white\" stroke=\"none\" points=\"-4,4 -4,-256 286,-256 286,4 -4,4\"/>\n",
       "<!-- E1*E2_163 -->\n",
       "<g id=\"node1\" class=\"node\"><title>E1*E2_163</title>\n",
       "<ellipse fill=\"none\" stroke=\"black\" cx=\"178\" cy=\"-234\" rx=\"34.3527\" ry=\"18\"/>\n",
       "<text text-anchor=\"middle\" x=\"178\" y=\"-229.8\" font-family=\"Times,serif\" font-size=\"14.00\">E1*E2</text>\n",
       "</g>\n",
       "<!-- E1*E2_160 -->\n",
       "<g id=\"node2\" class=\"node\"><title>E1*E2_160</title>\n",
       "<ellipse fill=\"none\" stroke=\"black\" cx=\"99\" cy=\"-162\" rx=\"34.3527\" ry=\"18\"/>\n",
       "<text text-anchor=\"middle\" x=\"99\" y=\"-157.8\" font-family=\"Times,serif\" font-size=\"14.00\">E1*E2</text>\n",
       "</g>\n",
       "<!-- E1*E2_163&#45;&gt;E1*E2_160 -->\n",
       "<g id=\"edge7\" class=\"edge\"><title>E1*E2_163&#45;&gt;E1*E2_160</title>\n",
       "<path fill=\"none\" stroke=\"black\" d=\"M161.246,-218.155C150.249,-208.41 135.682,-195.503 123.406,-184.626\"/>\n",
       "<polygon fill=\"black\" stroke=\"black\" points=\"125.535,-181.836 115.73,-177.824 120.893,-187.075 125.535,-181.836\"/>\n",
       "</g>\n",
       "<!-- *_164 -->\n",
       "<g id=\"node3\" class=\"node\"><title>*_164</title>\n",
       "<ellipse fill=\"none\" stroke=\"black\" cx=\"178\" cy=\"-162\" rx=\"27\" ry=\"18\"/>\n",
       "<text text-anchor=\"middle\" x=\"178\" y=\"-157.8\" font-family=\"Times,serif\" font-size=\"14.00\">*</text>\n",
       "</g>\n",
       "<!-- E1*E2_163&#45;&gt;*_164 -->\n",
       "<g id=\"edge8\" class=\"edge\"><title>E1*E2_163&#45;&gt;*_164</title>\n",
       "<path fill=\"none\" stroke=\"black\" d=\"M178,-215.697C178,-207.983 178,-198.712 178,-190.112\"/>\n",
       "<polygon fill=\"black\" stroke=\"black\" points=\"181.5,-190.104 178,-180.104 174.5,-190.104 181.5,-190.104\"/>\n",
       "</g>\n",
       "<!-- 5_162 -->\n",
       "<g id=\"node4\" class=\"node\"><title>5_162</title>\n",
       "<ellipse fill=\"none\" stroke=\"black\" cx=\"250\" cy=\"-162\" rx=\"27\" ry=\"18\"/>\n",
       "<text text-anchor=\"middle\" x=\"250\" y=\"-157.8\" font-family=\"Times,serif\" font-size=\"14.00\">5</text>\n",
       "</g>\n",
       "<!-- E1*E2_163&#45;&gt;5_162 -->\n",
       "<g id=\"edge9\" class=\"edge\"><title>E1*E2_163&#45;&gt;5_162</title>\n",
       "<path fill=\"none\" stroke=\"black\" d=\"M193.623,-217.811C203.704,-208.01 216.964,-195.118 228.092,-184.3\"/>\n",
       "<polygon fill=\"black\" stroke=\"black\" points=\"230.659,-186.685 235.389,-177.205 225.779,-181.666 230.659,-186.685\"/>\n",
       "</g>\n",
       "<!-- 6_155 -->\n",
       "<g id=\"node5\" class=\"node\"><title>6_155</title>\n",
       "<ellipse fill=\"none\" stroke=\"black\" cx=\"27\" cy=\"-90\" rx=\"27\" ry=\"18\"/>\n",
       "<text text-anchor=\"middle\" x=\"27\" y=\"-85.8\" font-family=\"Times,serif\" font-size=\"14.00\">6</text>\n",
       "</g>\n",
       "<!-- E1*E2_160&#45;&gt;6_155 -->\n",
       "<g id=\"edge4\" class=\"edge\"><title>E1*E2_160&#45;&gt;6_155</title>\n",
       "<path fill=\"none\" stroke=\"black\" d=\"M83.3771,-145.811C73.2958,-136.01 60.0358,-123.118 48.9084,-112.3\"/>\n",
       "<polygon fill=\"black\" stroke=\"black\" points=\"51.2207,-109.666 41.6109,-105.205 46.3411,-114.685 51.2207,-109.666\"/>\n",
       "</g>\n",
       "<!-- *_161 -->\n",
       "<g id=\"node6\" class=\"node\"><title>*_161</title>\n",
       "<ellipse fill=\"none\" stroke=\"black\" cx=\"99\" cy=\"-90\" rx=\"27\" ry=\"18\"/>\n",
       "<text text-anchor=\"middle\" x=\"99\" y=\"-85.8\" font-family=\"Times,serif\" font-size=\"14.00\">*</text>\n",
       "</g>\n",
       "<!-- E1*E2_160&#45;&gt;*_161 -->\n",
       "<g id=\"edge5\" class=\"edge\"><title>E1*E2_160&#45;&gt;*_161</title>\n",
       "<path fill=\"none\" stroke=\"black\" d=\"M99,-143.697C99,-135.983 99,-126.712 99,-118.112\"/>\n",
       "<polygon fill=\"black\" stroke=\"black\" points=\"102.5,-118.104 99,-108.104 95.5001,-118.104 102.5,-118.104\"/>\n",
       "</g>\n",
       "<!-- E1**E2_158 -->\n",
       "<g id=\"node7\" class=\"node\"><title>E1**E2_158</title>\n",
       "<ellipse fill=\"none\" stroke=\"black\" cx=\"183\" cy=\"-90\" rx=\"38.6955\" ry=\"18\"/>\n",
       "<text text-anchor=\"middle\" x=\"183\" y=\"-85.8\" font-family=\"Times,serif\" font-size=\"14.00\">E1**E2</text>\n",
       "</g>\n",
       "<!-- E1*E2_160&#45;&gt;E1**E2_158 -->\n",
       "<g id=\"edge6\" class=\"edge\"><title>E1*E2_160&#45;&gt;E1**E2_158</title>\n",
       "<path fill=\"none\" stroke=\"black\" d=\"M116.405,-146.496C128.184,-136.68 143.949,-123.542 157.183,-112.514\"/>\n",
       "<polygon fill=\"black\" stroke=\"black\" points=\"159.596,-115.059 165.038,-105.968 155.115,-109.682 159.596,-115.059\"/>\n",
       "</g>\n",
       "<!-- 3_156 -->\n",
       "<g id=\"node8\" class=\"node\"><title>3_156</title>\n",
       "<ellipse fill=\"none\" stroke=\"black\" cx=\"111\" cy=\"-18\" rx=\"27\" ry=\"18\"/>\n",
       "<text text-anchor=\"middle\" x=\"111\" y=\"-13.8\" font-family=\"Times,serif\" font-size=\"14.00\">3</text>\n",
       "</g>\n",
       "<!-- E1**E2_158&#45;&gt;3_156 -->\n",
       "<g id=\"edge1\" class=\"edge\"><title>E1**E2_158&#45;&gt;3_156</title>\n",
       "<path fill=\"none\" stroke=\"black\" d=\"M167.021,-73.4647C157.057,-63.7778 144.093,-51.174 133.146,-40.531\"/>\n",
       "<polygon fill=\"black\" stroke=\"black\" points=\"135.561,-37.9972 125.951,-33.5359 130.681,-43.0162 135.561,-37.9972\"/>\n",
       "</g>\n",
       "<!-- **_159 -->\n",
       "<g id=\"node9\" class=\"node\"><title>**_159</title>\n",
       "<ellipse fill=\"none\" stroke=\"black\" cx=\"183\" cy=\"-18\" rx=\"27\" ry=\"18\"/>\n",
       "<text text-anchor=\"middle\" x=\"183\" y=\"-13.8\" font-family=\"Times,serif\" font-size=\"14.00\">**</text>\n",
       "</g>\n",
       "<!-- E1**E2_158&#45;&gt;**_159 -->\n",
       "<g id=\"edge2\" class=\"edge\"><title>E1**E2_158&#45;&gt;**_159</title>\n",
       "<path fill=\"none\" stroke=\"black\" d=\"M183,-71.6966C183,-63.9827 183,-54.7125 183,-46.1124\"/>\n",
       "<polygon fill=\"black\" stroke=\"black\" points=\"186.5,-46.1043 183,-36.1043 179.5,-46.1044 186.5,-46.1043\"/>\n",
       "</g>\n",
       "<!-- 4_157 -->\n",
       "<g id=\"node10\" class=\"node\"><title>4_157</title>\n",
       "<ellipse fill=\"none\" stroke=\"black\" cx=\"255\" cy=\"-18\" rx=\"27\" ry=\"18\"/>\n",
       "<text text-anchor=\"middle\" x=\"255\" y=\"-13.8\" font-family=\"Times,serif\" font-size=\"14.00\">4</text>\n",
       "</g>\n",
       "<!-- E1**E2_158&#45;&gt;4_157 -->\n",
       "<g id=\"edge3\" class=\"edge\"><title>E1**E2_158&#45;&gt;4_157</title>\n",
       "<path fill=\"none\" stroke=\"black\" d=\"M198.979,-73.4647C208.943,-63.7778 221.907,-51.174 232.854,-40.531\"/>\n",
       "<polygon fill=\"black\" stroke=\"black\" points=\"235.319,-43.0162 240.049,-33.5359 230.439,-37.9972 235.319,-43.0162\"/>\n",
       "</g>\n",
       "</g>\n",
       "</svg>\n"
      ],
      "text/plain": [
       "<graphviz.dot.Digraph at 0x109236780>"
      ]
     },
     "execution_count": 33,
     "metadata": {},
     "output_type": "execute_result"
    }
   ],
   "source": [
    "drawPT(parseRE(\"6*3^4*5\"))"
   ]
  },
  {
   "cell_type": "code",
   "execution_count": 34,
   "metadata": {
    "run_control": {
     "frozen": false,
     "read_only": false
    }
   },
   "outputs": [
    {
     "data": {
      "text/plain": [
       "2430"
      ]
     },
     "execution_count": 34,
     "metadata": {},
     "output_type": "execute_result"
    }
   ],
   "source": [
    "6*3**4*5"
   ]
  },
  {
   "cell_type": "code",
   "execution_count": null,
   "metadata": {
    "run_control": {
     "frozen": false,
     "read_only": false
    }
   },
   "outputs": [],
   "source": []
  }
 ],
 "metadata": {
  "kernelspec": {
   "display_name": "Python 3",
   "language": "python",
   "name": "python3"
  },
  "language_info": {
   "codemirror_mode": {
    "name": "ipython",
    "version": 3
   },
   "file_extension": ".py",
   "mimetype": "text/x-python",
   "name": "python",
   "nbconvert_exporter": "python",
   "pygments_lexer": "ipython3",
   "version": "3.6.0"
  },
  "toc": {
   "colors": {
    "hover_highlight": "#DAA520",
    "running_highlight": "#FF0000",
    "selected_highlight": "#FFD700"
   },
   "moveMenuLeft": true,
   "nav_menu": {
    "height": "12px",
    "width": "252px"
   },
   "navigate_menu": true,
   "number_sections": true,
   "sideBar": true,
   "threshold": 4,
   "toc_cell": false,
   "toc_section_display": "block",
   "toc_window_display": false,
   "widenNotebook": false
  }
 },
 "nbformat": 4,
 "nbformat_minor": 2
}
