{
 "cells": [
  {
   "cell_type": "markdown",
   "metadata": {
    "run_control": {
     "frozen": false,
     "read_only": false
    }
   },
   "source": [
    "# Chapter 7 fully illustrated using Jove"
   ]
  },
  {
   "cell_type": "code",
   "execution_count": 1,
   "metadata": {
    "run_control": {
     "frozen": false,
     "read_only": false
    }
   },
   "outputs": [
    {
     "data": {
      "image/jpeg": "[encoded data removed]",
      "text/html": [
       "\n",
       "        <iframe\n",
       "            width=\"400\"\n",
       "            height=\"300\"\n",
       "            src=\"https://www.youtube.com/embed/xjFtLF95uBc\"\n",
       "            frameborder=\"0\"\n",
       "            allowfullscreen\n",
       "        ></iframe>\n",
       "        "
      ],
      "text/plain": [
       "<IPython.lib.display.YouTubeVideo at 0x102d57780>"
      ]
     },
     "execution_count": 1,
     "metadata": {},
     "output_type": "execute_result"
    }
   ],
   "source": [
    "# PLAY this Youtube to know how to use the contents of this file + follow some of the Def_DFA.ipynb defns\n",
    "\n",
    "from IPython.display import YouTubeVideo\n",
    "YouTubeVideo('xjFtLF95uBc')"
   ]
  },
  {
   "cell_type": "code",
   "execution_count": 2,
   "metadata": {
    "run_control": {
     "frozen": false,
     "read_only": false
    }
   },
   "outputs": [
    {
     "name": "stdout",
     "output_type": "stream",
     "text": [
      "You may use any of these help commands:\n",
      "help(ResetStNum)\n",
      "help(NxtStateStr)\n",
      "\n",
      "You may use any of these help commands:\n",
      "help(md2mc)\n",
      ".. and if you want to dig more, then ..\n",
      "help(default_line_attr)\n",
      "help(length_ok_input_items)\n",
      "help(union_line_attr_list_fld)\n",
      "help(extend_rsltdict)\n",
      "help(form_delta)\n",
      "help(get_machine_components)\n",
      "\n",
      "You may use any of these help commands:\n",
      "help(mkp_dfa)\n",
      "help(mk_dfa)\n",
      "help(totalize_dfa)\n",
      "help(addtosigma_delta)\n",
      "help(step_dfa)\n",
      "help(run_dfa)\n",
      "help(accepts_dfa)\n",
      "help(comp_dfa)\n",
      "help(union_dfa)\n",
      "help(intersect_dfa)\n",
      "help(pruneUnreach)\n",
      "help(iso_dfa)\n",
      "help(langeq_dfa)\n",
      "help(same_status)\n",
      "help(h_langeq_dfa)\n",
      "help(fixptDist)\n",
      "help(min_dfa)\n",
      "help(pairFR)\n",
      "help(state_combos)\n",
      "help(sepFinNonFin)\n",
      "help(bash_eql_classes)\n",
      "help(listminus)\n",
      "help(bash_1)\n",
      "help(mk_rep_eqc)\n",
      "help(F_of)\n",
      "help(rep_of_s)\n",
      "help(q0_of)\n",
      "help(Delta_of)\n",
      "help(mk_state_eqc_name)\n",
      "\n",
      "You may use any of these help commands:\n",
      "help(mk_nfa)\n",
      "help(totalize_nfa)\n",
      "help(step_nfa)\n",
      "help(run_nfa)\n",
      "help(ec_step_nfa)\n",
      "help(Eclosure)\n",
      "help(Echelp)\n",
      "help(accepts_nfa)\n",
      "help(nfa2dfa)\n",
      "help(n2d)\n",
      "help(inSets)\n",
      "help(rev_dfa)\n",
      "help(min_dfa_brz)\n",
      "\n",
      "You may use any of these help commands:\n",
      "help(re2nfa)\n",
      "\n",
      "You may use any of these help commands:\n",
      "help(RE2Str)\n",
      "help(mk_gnfa)\n",
      "help(mk_gnfa_from_D)\n",
      "help(dfa2nfa)\n",
      "help(del_gnfa_states)\n",
      "help(gnfa_w_REStr)\n",
      "help(del_one_gnfa_state)\n",
      "help(Edges_Exist_Via)\n",
      "help(choose_state_to_del)\n",
      "help(form_alt_RE)\n",
      "help(form_concat_RE)\n",
      "help(form_kleene_RE)\n",
      "\n"
     ]
    }
   ],
   "source": [
    "import sys\n",
    "sys.path[0:0] = ['../..','../../3rdparty'] # Put these at the head of the search path\n",
    "\n",
    "from jove.DotBashers import *\n",
    "from jove.Def_md2mc import *\n",
    "from jove.Def_NFA   import *\n",
    "from jove.Def_DFA   import *\n",
    "from jove.Def_RE2NFA    import *\n",
    "from jove.Def_NFA2RE    import *"
   ]
  },
  {
   "cell_type": "markdown",
   "metadata": {
    "run_control": {
     "frozen": false,
     "read_only": false
    }
   },
   "source": [
    "An NFA is a machine $(Q, \\Sigma, \\delta, Q_0, F)$ which is somewhat like a DFA \n",
    "except that \n",
    "\n",
    "1. It can start from a __set__ of starting states $Q_0$\n",
    "    > i.e., the NFA can start from more than one starting state\n",
    "    \n",
    "2. Its transition function $\\delta$ maps $Q\\times (\\Sigma\\cup \\{\\varepsilon\\})$ to $2^{Q}$\n",
    "    > i.e., the NFA takes a state $Q$ and a symbol and returns a set of states\n",
    "    \n",
    "You can see these aspects being illustrated in the NFA to follow"
   ]
  },
  {
   "cell_type": "markdown",
   "metadata": {
    "run_control": {
     "frozen": false,
     "read_only": false
    }
   },
   "source": [
    "# Limitations of DFA"
   ]
  },
  {
   "cell_type": "code",
   "execution_count": 3,
   "metadata": {
    "run_control": {
     "frozen": false,
     "read_only": false
    }
   },
   "outputs": [
    {
     "data": {
      "image/svg+xml": [
       "<?xml version=\"1.0\" encoding=\"UTF-8\" standalone=\"no\"?>\n",
       "<!DOCTYPE svg PUBLIC \"-//W3C//DTD SVG 1.1//EN\"\n",
       " \"http://www.w3.org/Graphics/SVG/1.1/DTD/svg11.dtd\">\n",
       "<!-- Generated by graphviz version 2.38.0 (20140413.2041)\n",
       " -->\n",
       "<!-- Title: %3 Pages: 1 -->\n",
       "<svg width=\"307pt\" height=\"94pt\"\n",
       " viewBox=\"0.00 0.00 307.39 94.00\" xmlns=\"http://www.w3.org/2000/svg\" xmlns:xlink=\"http://www.w3.org/1999/xlink\">\n",
       "<g id=\"graph0\" class=\"graph\" transform=\"scale(1 1) rotate(0) translate(4 90)\">\n",
       "<title>%3</title>\n",
       "<polygon fill=\"white\" stroke=\"none\" points=\"-4,4 -4,-90 303.394,-90 303.394,4 -4,4\"/>\n",
       "<!-- EMPTY -->\n",
       "<g id=\"node1\" class=\"node\"><title>EMPTY</title>\n",
       "</g>\n",
       "<!-- I -->\n",
       "<g id=\"node2\" class=\"node\"><title>I</title>\n",
       "<ellipse fill=\"none\" stroke=\"black\" cx=\"109\" cy=\"-22\" rx=\"18\" ry=\"18\"/>\n",
       "<text text-anchor=\"middle\" x=\"109\" y=\"-17.8\" font-family=\"Times,serif\" font-size=\"14.00\">I</text>\n",
       "</g>\n",
       "<!-- EMPTY&#45;&gt;I -->\n",
       "<g id=\"edge1\" class=\"edge\"><title>EMPTY&#45;&gt;I</title>\n",
       "<path fill=\"none\" stroke=\"black\" d=\"M54.195,-22C62.6538,-22 72.0513,-22 80.5951,-22\"/>\n",
       "<polygon fill=\"black\" stroke=\"black\" points=\"80.8257,-25.5001 90.8257,-22 80.8257,-18.5001 80.8257,-25.5001\"/>\n",
       "</g>\n",
       "<!-- I&#45;&gt;I -->\n",
       "<g id=\"edge2\" class=\"edge\"><title>I&#45;&gt;I</title>\n",
       "<path fill=\"none\" stroke=\"black\" d=\"M102.621,-39.0373C101.319,-48.8579 103.445,-58 109,-58 112.472,-58 114.604,-54.4289 115.398,-49.3529\"/>\n",
       "<polygon fill=\"black\" stroke=\"black\" points=\"118.897,-49.031 115.379,-39.0373 111.897,-49.0435 118.897,-49.031\"/>\n",
       "<text text-anchor=\"middle\" x=\"109\" y=\"-74.8\" font-family=\"Times,serif\" font-size=\"14.00\">0 </text>\n",
       "<text text-anchor=\"middle\" x=\"109\" y=\"-60.8\" font-family=\"Times,serif\" font-size=\"14.00\"> 1</text>\n",
       "</g>\n",
       "<!-- S0 -->\n",
       "<g id=\"node3\" class=\"node\"><title>S0</title>\n",
       "<ellipse fill=\"none\" stroke=\"black\" cx=\"189.447\" cy=\"-22\" rx=\"19.3939\" ry=\"19.3939\"/>\n",
       "<text text-anchor=\"middle\" x=\"189.447\" y=\"-17.8\" font-family=\"Times,serif\" font-size=\"14.00\">S0</text>\n",
       "</g>\n",
       "<!-- I&#45;&gt;S0 -->\n",
       "<g id=\"edge3\" class=\"edge\"><title>I&#45;&gt;S0</title>\n",
       "<path fill=\"none\" stroke=\"black\" d=\"M127.022,-22C136.583,-22 148.77,-22 159.763,-22\"/>\n",
       "<polygon fill=\"black\" stroke=\"black\" points=\"159.813,-25.5001 169.813,-22 159.813,-18.5001 159.813,-25.5001\"/>\n",
       "<text text-anchor=\"middle\" x=\"148.5\" y=\"-24.8\" font-family=\"Times,serif\" font-size=\"14.00\">1</text>\n",
       "</g>\n",
       "<!-- F -->\n",
       "<g id=\"node4\" class=\"node\"><title>F</title>\n",
       "<ellipse fill=\"none\" stroke=\"black\" cx=\"277.394\" cy=\"-22\" rx=\"18\" ry=\"18\"/>\n",
       "<ellipse fill=\"none\" stroke=\"black\" cx=\"277.394\" cy=\"-22\" rx=\"22\" ry=\"22\"/>\n",
       "<text text-anchor=\"middle\" x=\"277.394\" y=\"-17.8\" font-family=\"Times,serif\" font-size=\"14.00\">F</text>\n",
       "</g>\n",
       "<!-- S0&#45;&gt;F -->\n",
       "<g id=\"edge4\" class=\"edge\"><title>S0&#45;&gt;F</title>\n",
       "<path fill=\"none\" stroke=\"black\" d=\"M209.096,-22C219.635,-22 233.084,-22 245.185,-22\"/>\n",
       "<polygon fill=\"black\" stroke=\"black\" points=\"245.365,-25.5001 255.365,-22 245.365,-18.5001 245.365,-25.5001\"/>\n",
       "<text text-anchor=\"middle\" x=\"232.144\" y=\"-38.8\" font-family=\"Times,serif\" font-size=\"14.00\">0 </text>\n",
       "<text text-anchor=\"middle\" x=\"232.144\" y=\"-24.8\" font-family=\"Times,serif\" font-size=\"14.00\"> 1</text>\n",
       "</g>\n",
       "</g>\n",
       "</svg>\n"
      ],
      "text/plain": [
       "<graphviz.dot.Digraph at 0x103857cf8>"
      ]
     },
     "execution_count": 3,
     "metadata": {},
     "output_type": "execute_result"
    }
   ],
   "source": [
    "secondlast = md2mc('''\n",
    "NFA\n",
    "I  : 0 -> I\n",
    "I  : 1 -> I, S0\n",
    "S0 : 0 | 1 -> F\n",
    "''')\n",
    "dotObj_nfa(secondlast, FuseEdges=True)"
   ]
  },
  {
   "cell_type": "code",
   "execution_count": 4,
   "metadata": {
    "run_control": {
     "frozen": false,
     "read_only": false
    }
   },
   "outputs": [
    {
     "data": {
      "image/svg+xml": [
       "<?xml version=\"1.0\" encoding=\"UTF-8\" standalone=\"no\"?>\n",
       "<!DOCTYPE svg PUBLIC \"-//W3C//DTD SVG 1.1//EN\"\n",
       " \"http://www.w3.org/Graphics/SVG/1.1/DTD/svg11.dtd\">\n",
       "<!-- Generated by graphviz version 2.38.0 (20140413.2041)\n",
       " -->\n",
       "<!-- Title: %3 Pages: 1 -->\n",
       "<svg width=\"393pt\" height=\"94pt\"\n",
       " viewBox=\"0.00 0.00 392.79 94.00\" xmlns=\"http://www.w3.org/2000/svg\" xmlns:xlink=\"http://www.w3.org/1999/xlink\">\n",
       "<g id=\"graph0\" class=\"graph\" transform=\"scale(1 1) rotate(0) translate(4 90)\">\n",
       "<title>%3</title>\n",
       "<polygon fill=\"white\" stroke=\"none\" points=\"-4,4 -4,-90 388.787,-90 388.787,4 -4,4\"/>\n",
       "<!-- EMPTY -->\n",
       "<g id=\"node1\" class=\"node\"><title>EMPTY</title>\n",
       "</g>\n",
       "<!-- I -->\n",
       "<g id=\"node3\" class=\"node\"><title>I</title>\n",
       "<ellipse fill=\"none\" stroke=\"black\" cx=\"109\" cy=\"-22\" rx=\"18\" ry=\"18\"/>\n",
       "<text text-anchor=\"middle\" x=\"109\" y=\"-17.8\" font-family=\"Times,serif\" font-size=\"14.00\">I</text>\n",
       "</g>\n",
       "<!-- EMPTY&#45;&gt;I -->\n",
       "<g id=\"edge1\" class=\"edge\"><title>EMPTY&#45;&gt;I</title>\n",
       "<path fill=\"none\" stroke=\"black\" d=\"M54.195,-22C62.6538,-22 72.0513,-22 80.5951,-22\"/>\n",
       "<polygon fill=\"black\" stroke=\"black\" points=\"80.8257,-25.5001 90.8257,-22 80.8257,-18.5001 80.8257,-25.5001\"/>\n",
       "</g>\n",
       "<!-- S1 -->\n",
       "<g id=\"node2\" class=\"node\"><title>S1</title>\n",
       "<ellipse fill=\"none\" stroke=\"black\" cx=\"274.841\" cy=\"-22\" rx=\"19.3939\" ry=\"19.3939\"/>\n",
       "<text text-anchor=\"middle\" x=\"274.841\" y=\"-17.8\" font-family=\"Times,serif\" font-size=\"14.00\">S1</text>\n",
       "</g>\n",
       "<!-- F -->\n",
       "<g id=\"node5\" class=\"node\"><title>F</title>\n",
       "<ellipse fill=\"none\" stroke=\"black\" cx=\"362.787\" cy=\"-22\" rx=\"18\" ry=\"18\"/>\n",
       "<ellipse fill=\"none\" stroke=\"black\" cx=\"362.787\" cy=\"-22\" rx=\"22\" ry=\"22\"/>\n",
       "<text text-anchor=\"middle\" x=\"362.787\" y=\"-17.8\" font-family=\"Times,serif\" font-size=\"14.00\">F</text>\n",
       "</g>\n",
       "<!-- S1&#45;&gt;F -->\n",
       "<g id=\"edge5\" class=\"edge\"><title>S1&#45;&gt;F</title>\n",
       "<path fill=\"none\" stroke=\"black\" d=\"M294.49,-22C305.029,-22 318.478,-22 330.579,-22\"/>\n",
       "<polygon fill=\"black\" stroke=\"black\" points=\"330.759,-25.5001 340.759,-22 330.759,-18.5001 330.759,-25.5001\"/>\n",
       "<text text-anchor=\"middle\" x=\"317.537\" y=\"-38.8\" font-family=\"Times,serif\" font-size=\"14.00\">0 </text>\n",
       "<text text-anchor=\"middle\" x=\"317.537\" y=\"-24.8\" font-family=\"Times,serif\" font-size=\"14.00\"> 1</text>\n",
       "</g>\n",
       "<!-- I&#45;&gt;I -->\n",
       "<g id=\"edge2\" class=\"edge\"><title>I&#45;&gt;I</title>\n",
       "<path fill=\"none\" stroke=\"black\" d=\"M102.621,-39.0373C101.319,-48.8579 103.445,-58 109,-58 112.472,-58 114.604,-54.4289 115.398,-49.3529\"/>\n",
       "<polygon fill=\"black\" stroke=\"black\" points=\"118.897,-49.031 115.379,-39.0373 111.897,-49.0435 118.897,-49.031\"/>\n",
       "<text text-anchor=\"middle\" x=\"109\" y=\"-74.8\" font-family=\"Times,serif\" font-size=\"14.00\">0 </text>\n",
       "<text text-anchor=\"middle\" x=\"109\" y=\"-60.8\" font-family=\"Times,serif\" font-size=\"14.00\"> 1</text>\n",
       "</g>\n",
       "<!-- S0 -->\n",
       "<g id=\"node4\" class=\"node\"><title>S0</title>\n",
       "<ellipse fill=\"none\" stroke=\"black\" cx=\"189.447\" cy=\"-22\" rx=\"19.3939\" ry=\"19.3939\"/>\n",
       "<text text-anchor=\"middle\" x=\"189.447\" y=\"-17.8\" font-family=\"Times,serif\" font-size=\"14.00\">S0</text>\n",
       "</g>\n",
       "<!-- I&#45;&gt;S0 -->\n",
       "<g id=\"edge3\" class=\"edge\"><title>I&#45;&gt;S0</title>\n",
       "<path fill=\"none\" stroke=\"black\" d=\"M127.022,-22C136.583,-22 148.77,-22 159.763,-22\"/>\n",
       "<polygon fill=\"black\" stroke=\"black\" points=\"159.813,-25.5001 169.813,-22 159.813,-18.5001 159.813,-25.5001\"/>\n",
       "<text text-anchor=\"middle\" x=\"148.5\" y=\"-24.8\" font-family=\"Times,serif\" font-size=\"14.00\">1</text>\n",
       "</g>\n",
       "<!-- S0&#45;&gt;S1 -->\n",
       "<g id=\"edge4\" class=\"edge\"><title>S0&#45;&gt;S1</title>\n",
       "<path fill=\"none\" stroke=\"black\" d=\"M208.955,-22C219.643,-22 233.313,-22 245.347,-22\"/>\n",
       "<polygon fill=\"black\" stroke=\"black\" points=\"245.385,-25.5001 255.385,-22 245.385,-18.5001 245.385,-25.5001\"/>\n",
       "<text text-anchor=\"middle\" x=\"232.144\" y=\"-38.8\" font-family=\"Times,serif\" font-size=\"14.00\">0 </text>\n",
       "<text text-anchor=\"middle\" x=\"232.144\" y=\"-24.8\" font-family=\"Times,serif\" font-size=\"14.00\"> 1</text>\n",
       "</g>\n",
       "</g>\n",
       "</svg>\n"
      ],
      "text/plain": [
       "<graphviz.dot.Digraph at 0x103857518>"
      ]
     },
     "execution_count": 4,
     "metadata": {},
     "output_type": "execute_result"
    }
   ],
   "source": [
    "thirdlast = md2mc('''\n",
    "NFA\n",
    "I  : 0 -> I\n",
    "I  : 1 -> I, S0\n",
    "S0 : 0 | 1 -> S1\n",
    "S1 : 0 | 1 -> F\n",
    "''')\n",
    "dotObj_nfa(thirdlast, FuseEdges=True)"
   ]
  },
  {
   "cell_type": "code",
   "execution_count": 5,
   "metadata": {
    "run_control": {
     "frozen": false,
     "read_only": false
    }
   },
   "outputs": [
    {
     "data": {
      "image/svg+xml": [
       "<?xml version=\"1.0\" encoding=\"UTF-8\" standalone=\"no\"?>\n",
       "<!DOCTYPE svg PUBLIC \"-//W3C//DTD SVG 1.1//EN\"\n",
       " \"http://www.w3.org/Graphics/SVG/1.1/DTD/svg11.dtd\">\n",
       "<!-- Generated by graphviz version 2.38.0 (20140413.2041)\n",
       " -->\n",
       "<!-- Title: %3 Pages: 1 -->\n",
       "<svg width=\"478pt\" height=\"94pt\"\n",
       " viewBox=\"0.00 0.00 478.18 94.00\" xmlns=\"http://www.w3.org/2000/svg\" xmlns:xlink=\"http://www.w3.org/1999/xlink\">\n",
       "<g id=\"graph0\" class=\"graph\" transform=\"scale(1 1) rotate(0) translate(4 90)\">\n",
       "<title>%3</title>\n",
       "<polygon fill=\"white\" stroke=\"none\" points=\"-4,4 -4,-90 474.181,-90 474.181,4 -4,4\"/>\n",
       "<!-- EMPTY -->\n",
       "<g id=\"node1\" class=\"node\"><title>EMPTY</title>\n",
       "</g>\n",
       "<!-- I -->\n",
       "<g id=\"node3\" class=\"node\"><title>I</title>\n",
       "<ellipse fill=\"none\" stroke=\"black\" cx=\"109\" cy=\"-22\" rx=\"18\" ry=\"18\"/>\n",
       "<text text-anchor=\"middle\" x=\"109\" y=\"-17.8\" font-family=\"Times,serif\" font-size=\"14.00\">I</text>\n",
       "</g>\n",
       "<!-- EMPTY&#45;&gt;I -->\n",
       "<g id=\"edge1\" class=\"edge\"><title>EMPTY&#45;&gt;I</title>\n",
       "<path fill=\"none\" stroke=\"black\" d=\"M54.195,-22C62.6538,-22 72.0513,-22 80.5951,-22\"/>\n",
       "<polygon fill=\"black\" stroke=\"black\" points=\"80.8257,-25.5001 90.8257,-22 80.8257,-18.5001 80.8257,-25.5001\"/>\n",
       "</g>\n",
       "<!-- S1 -->\n",
       "<g id=\"node2\" class=\"node\"><title>S1</title>\n",
       "<ellipse fill=\"none\" stroke=\"black\" cx=\"274.841\" cy=\"-22\" rx=\"19.3939\" ry=\"19.3939\"/>\n",
       "<text text-anchor=\"middle\" x=\"274.841\" y=\"-17.8\" font-family=\"Times,serif\" font-size=\"14.00\">S1</text>\n",
       "</g>\n",
       "<!-- S2 -->\n",
       "<g id=\"node4\" class=\"node\"><title>S2</title>\n",
       "<ellipse fill=\"none\" stroke=\"black\" cx=\"360.234\" cy=\"-22\" rx=\"19.3939\" ry=\"19.3939\"/>\n",
       "<text text-anchor=\"middle\" x=\"360.234\" y=\"-17.8\" font-family=\"Times,serif\" font-size=\"14.00\">S2</text>\n",
       "</g>\n",
       "<!-- S1&#45;&gt;S2 -->\n",
       "<g id=\"edge5\" class=\"edge\"><title>S1&#45;&gt;S2</title>\n",
       "<path fill=\"none\" stroke=\"black\" d=\"M294.348,-22C305.037,-22 318.707,-22 330.74,-22\"/>\n",
       "<polygon fill=\"black\" stroke=\"black\" points=\"330.778,-25.5001 340.778,-22 330.778,-18.5001 330.778,-25.5001\"/>\n",
       "<text text-anchor=\"middle\" x=\"317.537\" y=\"-38.8\" font-family=\"Times,serif\" font-size=\"14.00\">0 </text>\n",
       "<text text-anchor=\"middle\" x=\"317.537\" y=\"-24.8\" font-family=\"Times,serif\" font-size=\"14.00\"> 1</text>\n",
       "</g>\n",
       "<!-- I&#45;&gt;I -->\n",
       "<g id=\"edge2\" class=\"edge\"><title>I&#45;&gt;I</title>\n",
       "<path fill=\"none\" stroke=\"black\" d=\"M102.621,-39.0373C101.319,-48.8579 103.445,-58 109,-58 112.472,-58 114.604,-54.4289 115.398,-49.3529\"/>\n",
       "<polygon fill=\"black\" stroke=\"black\" points=\"118.897,-49.031 115.379,-39.0373 111.897,-49.0435 118.897,-49.031\"/>\n",
       "<text text-anchor=\"middle\" x=\"109\" y=\"-74.8\" font-family=\"Times,serif\" font-size=\"14.00\">0 </text>\n",
       "<text text-anchor=\"middle\" x=\"109\" y=\"-60.8\" font-family=\"Times,serif\" font-size=\"14.00\"> 1</text>\n",
       "</g>\n",
       "<!-- S0 -->\n",
       "<g id=\"node5\" class=\"node\"><title>S0</title>\n",
       "<ellipse fill=\"none\" stroke=\"black\" cx=\"189.447\" cy=\"-22\" rx=\"19.3939\" ry=\"19.3939\"/>\n",
       "<text text-anchor=\"middle\" x=\"189.447\" y=\"-17.8\" font-family=\"Times,serif\" font-size=\"14.00\">S0</text>\n",
       "</g>\n",
       "<!-- I&#45;&gt;S0 -->\n",
       "<g id=\"edge3\" class=\"edge\"><title>I&#45;&gt;S0</title>\n",
       "<path fill=\"none\" stroke=\"black\" d=\"M127.022,-22C136.583,-22 148.77,-22 159.763,-22\"/>\n",
       "<polygon fill=\"black\" stroke=\"black\" points=\"159.813,-25.5001 169.813,-22 159.813,-18.5001 159.813,-25.5001\"/>\n",
       "<text text-anchor=\"middle\" x=\"148.5\" y=\"-24.8\" font-family=\"Times,serif\" font-size=\"14.00\">1</text>\n",
       "</g>\n",
       "<!-- F -->\n",
       "<g id=\"node6\" class=\"node\"><title>F</title>\n",
       "<ellipse fill=\"none\" stroke=\"black\" cx=\"448.181\" cy=\"-22\" rx=\"18\" ry=\"18\"/>\n",
       "<ellipse fill=\"none\" stroke=\"black\" cx=\"448.181\" cy=\"-22\" rx=\"22\" ry=\"22\"/>\n",
       "<text text-anchor=\"middle\" x=\"448.181\" y=\"-17.8\" font-family=\"Times,serif\" font-size=\"14.00\">F</text>\n",
       "</g>\n",
       "<!-- S2&#45;&gt;F -->\n",
       "<g id=\"edge6\" class=\"edge\"><title>S2&#45;&gt;F</title>\n",
       "<path fill=\"none\" stroke=\"black\" d=\"M379.884,-22C390.423,-22 403.872,-22 415.973,-22\"/>\n",
       "<polygon fill=\"black\" stroke=\"black\" points=\"416.153,-25.5001 426.153,-22 416.153,-18.5001 416.153,-25.5001\"/>\n",
       "<text text-anchor=\"middle\" x=\"402.931\" y=\"-38.8\" font-family=\"Times,serif\" font-size=\"14.00\">0 </text>\n",
       "<text text-anchor=\"middle\" x=\"402.931\" y=\"-24.8\" font-family=\"Times,serif\" font-size=\"14.00\"> 1</text>\n",
       "</g>\n",
       "<!-- S0&#45;&gt;S1 -->\n",
       "<g id=\"edge4\" class=\"edge\"><title>S0&#45;&gt;S1</title>\n",
       "<path fill=\"none\" stroke=\"black\" d=\"M208.955,-22C219.643,-22 233.313,-22 245.347,-22\"/>\n",
       "<polygon fill=\"black\" stroke=\"black\" points=\"245.385,-25.5001 255.385,-22 245.385,-18.5001 245.385,-25.5001\"/>\n",
       "<text text-anchor=\"middle\" x=\"232.144\" y=\"-38.8\" font-family=\"Times,serif\" font-size=\"14.00\">0 </text>\n",
       "<text text-anchor=\"middle\" x=\"232.144\" y=\"-24.8\" font-family=\"Times,serif\" font-size=\"14.00\"> 1</text>\n",
       "</g>\n",
       "</g>\n",
       "</svg>\n"
      ],
      "text/plain": [
       "<graphviz.dot.Digraph at 0x102fe5f60>"
      ]
     },
     "execution_count": 5,
     "metadata": {},
     "output_type": "execute_result"
    }
   ],
   "source": [
    "fourthlast = md2mc('''\n",
    "NFA\n",
    "I  : 0 -> I\n",
    "I  : 1 -> I, S0\n",
    "S0 : 0 | 1 -> S1\n",
    "S1 : 0 | 1 -> S2\n",
    "S2 : 0 | 1 -> F\n",
    "''')\n",
    "dotObj_nfa(fourthlast, FuseEdges=True)"
   ]
  },
  {
   "cell_type": "code",
   "execution_count": 6,
   "metadata": {
    "run_control": {
     "frozen": false,
     "read_only": false
    }
   },
   "outputs": [
    {
     "data": {
      "image/svg+xml": [
       "<?xml version=\"1.0\" encoding=\"UTF-8\" standalone=\"no\"?>\n",
       "<!DOCTYPE svg PUBLIC \"-//W3C//DTD SVG 1.1//EN\"\n",
       " \"http://www.w3.org/Graphics/SVG/1.1/DTD/svg11.dtd\">\n",
       "<!-- Generated by graphviz version 2.38.0 (20140413.2041)\n",
       " -->\n",
       "<!-- Title: %3 Pages: 1 -->\n",
       "<svg width=\"564pt\" height=\"94pt\"\n",
       " viewBox=\"0.00 0.00 563.57 94.00\" xmlns=\"http://www.w3.org/2000/svg\" xmlns:xlink=\"http://www.w3.org/1999/xlink\">\n",
       "<g id=\"graph0\" class=\"graph\" transform=\"scale(1 1) rotate(0) translate(4 90)\">\n",
       "<title>%3</title>\n",
       "<polygon fill=\"white\" stroke=\"none\" points=\"-4,4 -4,-90 559.575,-90 559.575,4 -4,4\"/>\n",
       "<!-- EMPTY -->\n",
       "<g id=\"node1\" class=\"node\"><title>EMPTY</title>\n",
       "</g>\n",
       "<!-- I -->\n",
       "<g id=\"node3\" class=\"node\"><title>I</title>\n",
       "<ellipse fill=\"none\" stroke=\"black\" cx=\"109\" cy=\"-22\" rx=\"18\" ry=\"18\"/>\n",
       "<text text-anchor=\"middle\" x=\"109\" y=\"-17.8\" font-family=\"Times,serif\" font-size=\"14.00\">I</text>\n",
       "</g>\n",
       "<!-- EMPTY&#45;&gt;I -->\n",
       "<g id=\"edge1\" class=\"edge\"><title>EMPTY&#45;&gt;I</title>\n",
       "<path fill=\"none\" stroke=\"black\" d=\"M54.195,-22C62.6538,-22 72.0513,-22 80.5951,-22\"/>\n",
       "<polygon fill=\"black\" stroke=\"black\" points=\"80.8257,-25.5001 90.8257,-22 80.8257,-18.5001 80.8257,-25.5001\"/>\n",
       "</g>\n",
       "<!-- S0 -->\n",
       "<g id=\"node2\" class=\"node\"><title>S0</title>\n",
       "<ellipse fill=\"none\" stroke=\"black\" cx=\"189.447\" cy=\"-22\" rx=\"19.3939\" ry=\"19.3939\"/>\n",
       "<text text-anchor=\"middle\" x=\"189.447\" y=\"-17.8\" font-family=\"Times,serif\" font-size=\"14.00\">S0</text>\n",
       "</g>\n",
       "<!-- S1 -->\n",
       "<g id=\"node6\" class=\"node\"><title>S1</title>\n",
       "<ellipse fill=\"none\" stroke=\"black\" cx=\"274.841\" cy=\"-22\" rx=\"19.3939\" ry=\"19.3939\"/>\n",
       "<text text-anchor=\"middle\" x=\"274.841\" y=\"-17.8\" font-family=\"Times,serif\" font-size=\"14.00\">S1</text>\n",
       "</g>\n",
       "<!-- S0&#45;&gt;S1 -->\n",
       "<g id=\"edge4\" class=\"edge\"><title>S0&#45;&gt;S1</title>\n",
       "<path fill=\"none\" stroke=\"black\" d=\"M208.955,-22C219.643,-22 233.313,-22 245.347,-22\"/>\n",
       "<polygon fill=\"black\" stroke=\"black\" points=\"245.385,-25.5001 255.385,-22 245.385,-18.5001 245.385,-25.5001\"/>\n",
       "<text text-anchor=\"middle\" x=\"232.144\" y=\"-38.8\" font-family=\"Times,serif\" font-size=\"14.00\">0 </text>\n",
       "<text text-anchor=\"middle\" x=\"232.144\" y=\"-24.8\" font-family=\"Times,serif\" font-size=\"14.00\"> 1</text>\n",
       "</g>\n",
       "<!-- I&#45;&gt;S0 -->\n",
       "<g id=\"edge3\" class=\"edge\"><title>I&#45;&gt;S0</title>\n",
       "<path fill=\"none\" stroke=\"black\" d=\"M127.022,-22C136.583,-22 148.77,-22 159.763,-22\"/>\n",
       "<polygon fill=\"black\" stroke=\"black\" points=\"159.813,-25.5001 169.813,-22 159.813,-18.5001 159.813,-25.5001\"/>\n",
       "<text text-anchor=\"middle\" x=\"148.5\" y=\"-24.8\" font-family=\"Times,serif\" font-size=\"14.00\">1</text>\n",
       "</g>\n",
       "<!-- I&#45;&gt;I -->\n",
       "<g id=\"edge2\" class=\"edge\"><title>I&#45;&gt;I</title>\n",
       "<path fill=\"none\" stroke=\"black\" d=\"M102.621,-39.0373C101.319,-48.8579 103.445,-58 109,-58 112.472,-58 114.604,-54.4289 115.398,-49.3529\"/>\n",
       "<polygon fill=\"black\" stroke=\"black\" points=\"118.897,-49.031 115.379,-39.0373 111.897,-49.0435 118.897,-49.031\"/>\n",
       "<text text-anchor=\"middle\" x=\"109\" y=\"-74.8\" font-family=\"Times,serif\" font-size=\"14.00\">0 </text>\n",
       "<text text-anchor=\"middle\" x=\"109\" y=\"-60.8\" font-family=\"Times,serif\" font-size=\"14.00\"> 1</text>\n",
       "</g>\n",
       "<!-- S2 -->\n",
       "<g id=\"node4\" class=\"node\"><title>S2</title>\n",
       "<ellipse fill=\"none\" stroke=\"black\" cx=\"360.234\" cy=\"-22\" rx=\"19.3939\" ry=\"19.3939\"/>\n",
       "<text text-anchor=\"middle\" x=\"360.234\" y=\"-17.8\" font-family=\"Times,serif\" font-size=\"14.00\">S2</text>\n",
       "</g>\n",
       "<!-- S3 -->\n",
       "<g id=\"node5\" class=\"node\"><title>S3</title>\n",
       "<ellipse fill=\"none\" stroke=\"black\" cx=\"445.628\" cy=\"-22\" rx=\"19.3939\" ry=\"19.3939\"/>\n",
       "<text text-anchor=\"middle\" x=\"445.628\" y=\"-17.8\" font-family=\"Times,serif\" font-size=\"14.00\">S3</text>\n",
       "</g>\n",
       "<!-- S2&#45;&gt;S3 -->\n",
       "<g id=\"edge6\" class=\"edge\"><title>S2&#45;&gt;S3</title>\n",
       "<path fill=\"none\" stroke=\"black\" d=\"M379.742,-22C390.431,-22 404.1,-22 416.134,-22\"/>\n",
       "<polygon fill=\"black\" stroke=\"black\" points=\"416.172,-25.5001 426.172,-22 416.172,-18.5001 416.172,-25.5001\"/>\n",
       "<text text-anchor=\"middle\" x=\"402.931\" y=\"-38.8\" font-family=\"Times,serif\" font-size=\"14.00\">0 </text>\n",
       "<text text-anchor=\"middle\" x=\"402.931\" y=\"-24.8\" font-family=\"Times,serif\" font-size=\"14.00\"> 1</text>\n",
       "</g>\n",
       "<!-- F -->\n",
       "<g id=\"node7\" class=\"node\"><title>F</title>\n",
       "<ellipse fill=\"none\" stroke=\"black\" cx=\"533.575\" cy=\"-22\" rx=\"18\" ry=\"18\"/>\n",
       "<ellipse fill=\"none\" stroke=\"black\" cx=\"533.575\" cy=\"-22\" rx=\"22\" ry=\"22\"/>\n",
       "<text text-anchor=\"middle\" x=\"533.575\" y=\"-17.8\" font-family=\"Times,serif\" font-size=\"14.00\">F</text>\n",
       "</g>\n",
       "<!-- S3&#45;&gt;F -->\n",
       "<g id=\"edge7\" class=\"edge\"><title>S3&#45;&gt;F</title>\n",
       "<path fill=\"none\" stroke=\"black\" d=\"M465.277,-22C475.816,-22 489.266,-22 501.367,-22\"/>\n",
       "<polygon fill=\"black\" stroke=\"black\" points=\"501.547,-25.5001 511.547,-22 501.546,-18.5001 501.547,-25.5001\"/>\n",
       "<text text-anchor=\"middle\" x=\"488.325\" y=\"-38.8\" font-family=\"Times,serif\" font-size=\"14.00\">0 </text>\n",
       "<text text-anchor=\"middle\" x=\"488.325\" y=\"-24.8\" font-family=\"Times,serif\" font-size=\"14.00\"> 1</text>\n",
       "</g>\n",
       "<!-- S1&#45;&gt;S2 -->\n",
       "<g id=\"edge5\" class=\"edge\"><title>S1&#45;&gt;S2</title>\n",
       "<path fill=\"none\" stroke=\"black\" d=\"M294.348,-22C305.037,-22 318.707,-22 330.74,-22\"/>\n",
       "<polygon fill=\"black\" stroke=\"black\" points=\"330.778,-25.5001 340.778,-22 330.778,-18.5001 330.778,-25.5001\"/>\n",
       "<text text-anchor=\"middle\" x=\"317.537\" y=\"-38.8\" font-family=\"Times,serif\" font-size=\"14.00\">0 </text>\n",
       "<text text-anchor=\"middle\" x=\"317.537\" y=\"-24.8\" font-family=\"Times,serif\" font-size=\"14.00\"> 1</text>\n",
       "</g>\n",
       "</g>\n",
       "</svg>\n"
      ],
      "text/plain": [
       "<graphviz.dot.Digraph at 0x10380bf98>"
      ]
     },
     "execution_count": 6,
     "metadata": {},
     "output_type": "execute_result"
    }
   ],
   "source": [
    "fifthlast = md2mc('''\n",
    "NFA\n",
    "I  : 0 -> I\n",
    "I  : 1 -> I, S0\n",
    "S0 : 0 | 1 -> S1\n",
    "S1 : 0 | 1 -> S2\n",
    "S2 : 0 | 1 -> S3\n",
    "S3 : 0 | 1 -> F\n",
    "''')\n",
    "dotObj_nfa(fifthlast, FuseEdges=True)"
   ]
  },
  {
   "cell_type": "code",
   "execution_count": 7,
   "metadata": {
    "run_control": {
     "frozen": false,
     "read_only": false
    }
   },
   "outputs": [
    {
     "data": {
      "image/svg+xml": [
       "<?xml version=\"1.0\" encoding=\"UTF-8\" standalone=\"no\"?>\n",
       "<!DOCTYPE svg PUBLIC \"-//W3C//DTD SVG 1.1//EN\"\n",
       " \"http://www.w3.org/Graphics/SVG/1.1/DTD/svg11.dtd\">\n",
       "<!-- Generated by graphviz version 2.38.0 (20140413.2041)\n",
       " -->\n",
       "<!-- Title: %3 Pages: 1 -->\n",
       "<svg width=\"451pt\" height=\"234pt\"\n",
       " viewBox=\"0.00 0.00 450.72 234.15\" xmlns=\"http://www.w3.org/2000/svg\" xmlns:xlink=\"http://www.w3.org/1999/xlink\">\n",
       "<g id=\"graph0\" class=\"graph\" transform=\"scale(1 1) rotate(0) translate(4 230.154)\">\n",
       "<title>%3</title>\n",
       "<polygon fill=\"white\" stroke=\"none\" points=\"-4,4 -4,-230.154 446.718,-230.154 446.718,4 -4,4\"/>\n",
       "<!-- EMPTY -->\n",
       "<g id=\"node1\" class=\"node\"><title>EMPTY</title>\n",
       "</g>\n",
       "<!-- I -->\n",
       "<g id=\"node3\" class=\"node\"><title>I</title>\n",
       "<ellipse fill=\"none\" stroke=\"black\" cx=\"109\" cy=\"-18\" rx=\"18\" ry=\"18\"/>\n",
       "<text text-anchor=\"middle\" x=\"109\" y=\"-13.8\" font-family=\"Times,serif\" font-size=\"14.00\">I</text>\n",
       "</g>\n",
       "<!-- EMPTY&#45;&gt;I -->\n",
       "<g id=\"edge1\" class=\"edge\"><title>EMPTY&#45;&gt;I</title>\n",
       "<path fill=\"none\" stroke=\"black\" d=\"M54.195,-18C62.6538,-18 72.0513,-18 80.5951,-18\"/>\n",
       "<polygon fill=\"black\" stroke=\"black\" points=\"80.8257,-21.5001 90.8257,-18 80.8257,-14.5001 80.8257,-21.5001\"/>\n",
       "</g>\n",
       "<!-- I_S0 -->\n",
       "<g id=\"node2\" class=\"node\"><title>I_S0</title>\n",
       "<ellipse fill=\"none\" stroke=\"black\" cx=\"196.814\" cy=\"-66\" rx=\"26.6284\" ry=\"26.6284\"/>\n",
       "<text text-anchor=\"middle\" x=\"196.814\" y=\"-61.8\" font-family=\"Times,serif\" font-size=\"14.00\">I_S0</text>\n",
       "</g>\n",
       "<!-- F_I_S0 -->\n",
       "<g id=\"node4\" class=\"node\"><title>F_I_S0</title>\n",
       "<ellipse fill=\"none\" stroke=\"black\" cx=\"306.781\" cy=\"-154\" rx=\"36.2924\" ry=\"36.2924\"/>\n",
       "<ellipse fill=\"none\" stroke=\"black\" cx=\"306.781\" cy=\"-154\" rx=\"40.3078\" ry=\"40.3078\"/>\n",
       "<text text-anchor=\"middle\" x=\"306.781\" y=\"-149.8\" font-family=\"Times,serif\" font-size=\"14.00\">F_I_S0</text>\n",
       "</g>\n",
       "<!-- I_S0&#45;&gt;F_I_S0 -->\n",
       "<g id=\"edge5\" class=\"edge\"><title>I_S0&#45;&gt;F_I_S0</title>\n",
       "<path fill=\"none\" stroke=\"black\" d=\"M218.121,-82.5521C231.875,-93.7622 250.484,-108.93 267.019,-122.407\"/>\n",
       "<polygon fill=\"black\" stroke=\"black\" points=\"264.976,-125.257 274.939,-128.862 269.399,-119.831 264.976,-125.257\"/>\n",
       "<text text-anchor=\"middle\" x=\"245.127\" y=\"-109.8\" font-family=\"Times,serif\" font-size=\"14.00\">1</text>\n",
       "</g>\n",
       "<!-- F_I -->\n",
       "<g id=\"node5\" class=\"node\"><title>F_I</title>\n",
       "<ellipse fill=\"none\" stroke=\"black\" cx=\"416.326\" cy=\"-57\" rx=\"22.3004\" ry=\"22.3004\"/>\n",
       "<ellipse fill=\"none\" stroke=\"black\" cx=\"416.326\" cy=\"-57\" rx=\"26.2841\" ry=\"26.2841\"/>\n",
       "<text text-anchor=\"middle\" x=\"416.326\" y=\"-52.8\" font-family=\"Times,serif\" font-size=\"14.00\">F_I</text>\n",
       "</g>\n",
       "<!-- I_S0&#45;&gt;F_I -->\n",
       "<g id=\"edge4\" class=\"edge\"><title>I_S0&#45;&gt;F_I</title>\n",
       "<path fill=\"none\" stroke=\"black\" d=\"M223.619,-64.9322C262.397,-63.3277 335.813,-60.29 379.679,-58.475\"/>\n",
       "<polygon fill=\"black\" stroke=\"black\" points=\"380.044,-61.963 389.891,-58.0524 379.754,-54.9689 380.044,-61.963\"/>\n",
       "<text text-anchor=\"middle\" x=\"306.781\" y=\"-66.8\" font-family=\"Times,serif\" font-size=\"14.00\">0</text>\n",
       "</g>\n",
       "<!-- I&#45;&gt;I_S0 -->\n",
       "<g id=\"edge3\" class=\"edge\"><title>I&#45;&gt;I_S0</title>\n",
       "<path fill=\"none\" stroke=\"black\" d=\"M124.948,-26.361C135.716,-32.3843 150.646,-40.7355 164.026,-48.2198\"/>\n",
       "<polygon fill=\"black\" stroke=\"black\" points=\"162.536,-51.3964 172.972,-53.2236 165.953,-45.2872 162.536,-51.3964\"/>\n",
       "<text text-anchor=\"middle\" x=\"148.5\" y=\"-43.8\" font-family=\"Times,serif\" font-size=\"14.00\">1</text>\n",
       "</g>\n",
       "<!-- I&#45;&gt;I -->\n",
       "<g id=\"edge2\" class=\"edge\"><title>I&#45;&gt;I</title>\n",
       "<path fill=\"none\" stroke=\"black\" d=\"M102.621,-35.0373C101.319,-44.8579 103.445,-54 109,-54 112.472,-54 114.604,-50.4289 115.398,-45.3529\"/>\n",
       "<polygon fill=\"black\" stroke=\"black\" points=\"118.897,-45.031 115.379,-35.0373 111.897,-45.0435 118.897,-45.031\"/>\n",
       "<text text-anchor=\"middle\" x=\"109\" y=\"-56.8\" font-family=\"Times,serif\" font-size=\"14.00\">0</text>\n",
       "</g>\n",
       "<!-- F_I_S0&#45;&gt;F_I_S0 -->\n",
       "<g id=\"edge9\" class=\"edge\"><title>F_I_S0&#45;&gt;F_I_S0</title>\n",
       "<path fill=\"none\" stroke=\"black\" d=\"M295.575,-192.587C296.014,-203.635 299.749,-212.154 306.781,-212.154 311.395,-212.154 314.59,-208.485 316.365,-202.84\"/>\n",
       "<polygon fill=\"black\" stroke=\"black\" points=\"319.882,-203.011 317.987,-192.587 312.967,-201.918 319.882,-203.011\"/>\n",
       "<text text-anchor=\"middle\" x=\"306.781\" y=\"-214.954\" font-family=\"Times,serif\" font-size=\"14.00\">1</text>\n",
       "</g>\n",
       "<!-- F_I_S0&#45;&gt;F_I -->\n",
       "<g id=\"edge8\" class=\"edge\"><title>F_I_S0&#45;&gt;F_I</title>\n",
       "<path fill=\"none\" stroke=\"black\" d=\"M337.168,-127.494C353.162,-113.069 372.808,-95.3494 388.401,-81.2847\"/>\n",
       "<polygon fill=\"black\" stroke=\"black\" points=\"391.064,-83.5964 396.146,-74.2997 386.376,-78.3983 391.064,-83.5964\"/>\n",
       "<text text-anchor=\"middle\" x=\"368.434\" y=\"-101.8\" font-family=\"Times,serif\" font-size=\"14.00\">0</text>\n",
       "</g>\n",
       "<!-- F_I&#45;&gt;I_S0 -->\n",
       "<g id=\"edge7\" class=\"edge\"><title>F_I&#45;&gt;I_S0</title>\n",
       "<path fill=\"none\" stroke=\"black\" d=\"M390.527,-50.2075C377.636,-47.0225 361.557,-43.5847 346.934,-42 311.45,-38.1544 301.818,-36.0393 266.627,-42 254.879,-43.9899 242.463,-47.7634 231.459,-51.7391\"/>\n",
       "<polygon fill=\"black\" stroke=\"black\" points=\"229.918,-48.5805 221.811,-55.4017 232.402,-55.1249 229.918,-48.5805\"/>\n",
       "<text text-anchor=\"middle\" x=\"306.781\" y=\"-44.8\" font-family=\"Times,serif\" font-size=\"14.00\">1</text>\n",
       "</g>\n",
       "<!-- F_I&#45;&gt;I -->\n",
       "<g id=\"edge6\" class=\"edge\"><title>F_I&#45;&gt;I</title>\n",
       "<path fill=\"none\" stroke=\"black\" d=\"M391.719,-47.3717C378.742,-42.6016 362.218,-37.3661 346.934,-35 271.605,-23.3386 181.538,-19.6544 137.285,-18.5073\"/>\n",
       "<polygon fill=\"black\" stroke=\"black\" points=\"137.138,-15.0029 127.058,-18.267 136.973,-22.001 137.138,-15.0029\"/>\n",
       "<text text-anchor=\"middle\" x=\"245.127\" y=\"-27.8\" font-family=\"Times,serif\" font-size=\"14.00\">0</text>\n",
       "</g>\n",
       "</g>\n",
       "</svg>\n"
      ],
      "text/plain": [
       "<graphviz.dot.Digraph at 0x103809dd8>"
      ]
     },
     "execution_count": 7,
     "metadata": {},
     "output_type": "execute_result"
    }
   ],
   "source": [
    "dotObj_dfa(min_dfa(nfa2dfa(secondlast)))"
   ]
  },
  {
   "cell_type": "code",
   "execution_count": 8,
   "metadata": {
    "run_control": {
     "frozen": false,
     "read_only": false
    }
   },
   "outputs": [
    {
     "data": {
      "image/svg+xml": [
       "<?xml version=\"1.0\" encoding=\"UTF-8\" standalone=\"no\"?>\n",
       "<!DOCTYPE svg PUBLIC \"-//W3C//DTD SVG 1.1//EN\"\n",
       " \"http://www.w3.org/Graphics/SVG/1.1/DTD/svg11.dtd\">\n",
       "<!-- Generated by graphviz version 2.38.0 (20140413.2041)\n",
       " -->\n",
       "<!-- Title: %3 Pages: 1 -->\n",
       "<svg width=\"782pt\" height=\"296pt\"\n",
       " viewBox=\"0.00 0.00 782.46 296.00\" xmlns=\"http://www.w3.org/2000/svg\" xmlns:xlink=\"http://www.w3.org/1999/xlink\">\n",
       "<g id=\"graph0\" class=\"graph\" transform=\"scale(1 1) rotate(0) translate(4 292)\">\n",
       "<title>%3</title>\n",
       "<polygon fill=\"white\" stroke=\"none\" points=\"-4,4 -4,-292 778.462,-292 778.462,4 -4,4\"/>\n",
       "<!-- EMPTY -->\n",
       "<g id=\"node1\" class=\"node\"><title>EMPTY</title>\n",
       "</g>\n",
       "<!-- St7 -->\n",
       "<g id=\"node2\" class=\"node\"><title>St7</title>\n",
       "<ellipse fill=\"none\" stroke=\"black\" cx=\"112.904\" cy=\"-28\" rx=\"21.8081\" ry=\"21.8081\"/>\n",
       "<text text-anchor=\"middle\" x=\"112.904\" y=\"-23.8\" font-family=\"Times,serif\" font-size=\"14.00\">St7</text>\n",
       "</g>\n",
       "<!-- EMPTY&#45;&gt;St7 -->\n",
       "<g id=\"edge1\" class=\"edge\"><title>EMPTY&#45;&gt;St7</title>\n",
       "<path fill=\"none\" stroke=\"black\" d=\"M54.0878,-28C62.501,-28 71.9126,-28 80.6587,-28\"/>\n",
       "<polygon fill=\"black\" stroke=\"black\" points=\"80.8854,-31.5001 90.8853,-28 80.8853,-24.5001 80.8854,-31.5001\"/>\n",
       "</g>\n",
       "<!-- St7&#45;&gt;St7 -->\n",
       "<g id=\"edge2\" class=\"edge\"><title>St7&#45;&gt;St7</title>\n",
       "<path fill=\"none\" stroke=\"black\" d=\"M105.587,-48.9403C104.684,-59.0125 107.123,-67.9039 112.904,-67.9039 116.607,-67.9039 118.939,-64.2549 119.9,-58.984\"/>\n",
       "<polygon fill=\"black\" stroke=\"black\" points=\"123.399,-59.0471 120.221,-48.9403 116.403,-58.8233 123.399,-59.0471\"/>\n",
       "<text text-anchor=\"middle\" x=\"112.904\" y=\"-70.7039\" font-family=\"Times,serif\" font-size=\"14.00\">0</text>\n",
       "</g>\n",
       "<!-- St5 -->\n",
       "<g id=\"node3\" class=\"node\"><title>St5</title>\n",
       "<ellipse fill=\"none\" stroke=\"black\" cx=\"199.712\" cy=\"-79\" rx=\"21.8081\" ry=\"21.8081\"/>\n",
       "<text text-anchor=\"middle\" x=\"199.712\" y=\"-74.8\" font-family=\"Times,serif\" font-size=\"14.00\">St5</text>\n",
       "</g>\n",
       "<!-- St7&#45;&gt;St5 -->\n",
       "<g id=\"edge3\" class=\"edge\"><title>St7&#45;&gt;St5</title>\n",
       "<path fill=\"none\" stroke=\"black\" d=\"M132.306,-39.0662C143.831,-45.997 158.883,-55.0489 171.743,-62.782\"/>\n",
       "<polygon fill=\"black\" stroke=\"black\" points=\"170.263,-65.9764 180.637,-68.1306 173.871,-59.9776 170.263,-65.9764\"/>\n",
       "<text text-anchor=\"middle\" x=\"156.308\" y=\"-58.8\" font-family=\"Times,serif\" font-size=\"14.00\">1</text>\n",
       "</g>\n",
       "<!-- St6 -->\n",
       "<g id=\"node4\" class=\"node\"><title>St6</title>\n",
       "<ellipse fill=\"none\" stroke=\"black\" cx=\"286.519\" cy=\"-196\" rx=\"21.8081\" ry=\"21.8081\"/>\n",
       "<text text-anchor=\"middle\" x=\"286.519\" y=\"-191.8\" font-family=\"Times,serif\" font-size=\"14.00\">St6</text>\n",
       "</g>\n",
       "<!-- St5&#45;&gt;St6 -->\n",
       "<g id=\"edge4\" class=\"edge\"><title>St5&#45;&gt;St6</title>\n",
       "<path fill=\"none\" stroke=\"black\" d=\"M213.225,-96.2638C227.443,-115.879 250.783,-148.078 267.085,-170.568\"/>\n",
       "<polygon fill=\"black\" stroke=\"black\" points=\"264.252,-172.623 272.954,-178.665 269.919,-168.515 264.252,-172.623\"/>\n",
       "<text text-anchor=\"middle\" x=\"243.115\" y=\"-144.8\" font-family=\"Times,serif\" font-size=\"14.00\">0</text>\n",
       "</g>\n",
       "<!-- St4 -->\n",
       "<g id=\"node5\" class=\"node\"><title>St4</title>\n",
       "<ellipse fill=\"none\" stroke=\"black\" cx=\"468.135\" cy=\"-160\" rx=\"21.8081\" ry=\"21.8081\"/>\n",
       "<text text-anchor=\"middle\" x=\"468.135\" y=\"-155.8\" font-family=\"Times,serif\" font-size=\"14.00\">St4</text>\n",
       "</g>\n",
       "<!-- St5&#45;&gt;St4 -->\n",
       "<g id=\"edge5\" class=\"edge\"><title>St5&#45;&gt;St4</title>\n",
       "<path fill=\"none\" stroke=\"black\" d=\"M221.175,-85.2214C267.879,-99.4208 382.501,-134.269 437.176,-150.892\"/>\n",
       "<polygon fill=\"black\" stroke=\"black\" points=\"436.381,-154.308 446.966,-153.868 438.417,-147.611 436.381,-154.308\"/>\n",
       "<text text-anchor=\"middle\" x=\"329.923\" y=\"-121.8\" font-family=\"Times,serif\" font-size=\"14.00\">1</text>\n",
       "</g>\n",
       "<!-- St3 -->\n",
       "<g id=\"node6\" class=\"node\"><title>St3</title>\n",
       "<ellipse fill=\"none\" stroke=\"black\" cx=\"748.558\" cy=\"-83\" rx=\"21.8229\" ry=\"21.8229\"/>\n",
       "<ellipse fill=\"none\" stroke=\"black\" cx=\"748.558\" cy=\"-83\" rx=\"25.8081\" ry=\"25.8081\"/>\n",
       "<text text-anchor=\"middle\" x=\"748.558\" y=\"-78.8\" font-family=\"Times,serif\" font-size=\"14.00\">St3</text>\n",
       "</g>\n",
       "<!-- St6&#45;&gt;St3 -->\n",
       "<g id=\"edge6\" class=\"edge\"><title>St6&#45;&gt;St3</title>\n",
       "<path fill=\"none\" stroke=\"black\" d=\"M298.027,-214.882C312.426,-237.966 340.621,-274 376.327,-274 376.327,-274 376.327,-274 654.75,-274 722.808,-274 740.971,-174.682 745.809,-119.283\"/>\n",
       "<polygon fill=\"black\" stroke=\"black\" points=\"749.311,-119.396 746.588,-109.157 742.331,-118.859 749.311,-119.396\"/>\n",
       "<text text-anchor=\"middle\" x=\"511.539\" y=\"-276.8\" font-family=\"Times,serif\" font-size=\"14.00\">0</text>\n",
       "</g>\n",
       "<!-- St1 -->\n",
       "<g id=\"node9\" class=\"node\"><title>St1</title>\n",
       "<ellipse fill=\"none\" stroke=\"black\" cx=\"377.327\" cy=\"-203\" rx=\"21.8229\" ry=\"21.8229\"/>\n",
       "<ellipse fill=\"none\" stroke=\"black\" cx=\"377.327\" cy=\"-203\" rx=\"25.8081\" ry=\"25.8081\"/>\n",
       "<text text-anchor=\"middle\" x=\"377.327\" y=\"-198.8\" font-family=\"Times,serif\" font-size=\"14.00\">St1</text>\n",
       "</g>\n",
       "<!-- St6&#45;&gt;St1 -->\n",
       "<g id=\"edge7\" class=\"edge\"><title>St6&#45;&gt;St1</title>\n",
       "<path fill=\"none\" stroke=\"black\" d=\"M308.566,-197.659C318.283,-198.425 330.087,-199.355 341.103,-200.224\"/>\n",
       "<polygon fill=\"black\" stroke=\"black\" points=\"341.085,-203.733 351.329,-201.03 341.635,-196.755 341.085,-203.733\"/>\n",
       "<text text-anchor=\"middle\" x=\"329.923\" y=\"-202.8\" font-family=\"Times,serif\" font-size=\"14.00\">1</text>\n",
       "</g>\n",
       "<!-- St2 -->\n",
       "<g id=\"node7\" class=\"node\"><title>St2</title>\n",
       "<ellipse fill=\"none\" stroke=\"black\" cx=\"653.75\" cy=\"-163\" rx=\"21.8229\" ry=\"21.8229\"/>\n",
       "<ellipse fill=\"none\" stroke=\"black\" cx=\"653.75\" cy=\"-163\" rx=\"25.8081\" ry=\"25.8081\"/>\n",
       "<text text-anchor=\"middle\" x=\"653.75\" y=\"-158.8\" font-family=\"Times,serif\" font-size=\"14.00\">St2</text>\n",
       "</g>\n",
       "<!-- St4&#45;&gt;St2 -->\n",
       "<g id=\"edge8\" class=\"edge\"><title>St4&#45;&gt;St2</title>\n",
       "<path fill=\"none\" stroke=\"black\" d=\"M490.098,-162.879C502.548,-164.444 518.663,-166.215 533.039,-167 561.436,-168.551 593.657,-167.303 617.513,-165.804\"/>\n",
       "<polygon fill=\"black\" stroke=\"black\" points=\"617.772,-169.295 627.514,-165.131 617.301,-162.311 617.772,-169.295\"/>\n",
       "<text text-anchor=\"middle\" x=\"558.943\" y=\"-170.8\" font-family=\"Times,serif\" font-size=\"14.00\">0</text>\n",
       "</g>\n",
       "<!-- St0 -->\n",
       "<g id=\"node8\" class=\"node\"><title>St0</title>\n",
       "<ellipse fill=\"none\" stroke=\"black\" cx=\"558.943\" cy=\"-100\" rx=\"21.8229\" ry=\"21.8229\"/>\n",
       "<ellipse fill=\"none\" stroke=\"black\" cx=\"558.943\" cy=\"-100\" rx=\"25.8081\" ry=\"25.8081\"/>\n",
       "<text text-anchor=\"middle\" x=\"558.943\" y=\"-95.8\" font-family=\"Times,serif\" font-size=\"14.00\">St0</text>\n",
       "</g>\n",
       "<!-- St4&#45;&gt;St0 -->\n",
       "<g id=\"edge9\" class=\"edge\"><title>St4&#45;&gt;St0</title>\n",
       "<path fill=\"none\" stroke=\"black\" d=\"M486.68,-148.146C498.653,-140.057 514.798,-129.149 528.693,-119.762\"/>\n",
       "<polygon fill=\"black\" stroke=\"black\" points=\"530.67,-122.65 536.996,-114.151 526.751,-116.85 530.67,-122.65\"/>\n",
       "<text text-anchor=\"middle\" x=\"511.539\" y=\"-136.8\" font-family=\"Times,serif\" font-size=\"14.00\">1</text>\n",
       "</g>\n",
       "<!-- St3&#45;&gt;St7 -->\n",
       "<g id=\"edge10\" class=\"edge\"><title>St3&#45;&gt;St7</title>\n",
       "<path fill=\"none\" stroke=\"black\" d=\"M735.071,-60.3199C719.686,-35.7451 691.065,-0 654.75,-0 198.712,-0 198.712,-0 198.712,-0 179.066,-0 158.092,-6.85887 141.918,-13.7872\"/>\n",
       "<polygon fill=\"black\" stroke=\"black\" points=\"140.183,-10.731 132.522,-18.0494 143.075,-17.1058 140.183,-10.731\"/>\n",
       "<text text-anchor=\"middle\" x=\"424.731\" y=\"-2.8\" font-family=\"Times,serif\" font-size=\"14.00\">0</text>\n",
       "</g>\n",
       "<!-- St3&#45;&gt;St5 -->\n",
       "<g id=\"edge11\" class=\"edge\"><title>St3&#45;&gt;St5</title>\n",
       "<path fill=\"none\" stroke=\"black\" d=\"M726.382,-69.2226C708.16,-58.7029 680.769,-46 654.75,-46 285.519,-46 285.519,-46 285.519,-46 265.049,-46 243.574,-54.4537 227.357,-62.8036\"/>\n",
       "<polygon fill=\"black\" stroke=\"black\" points=\"225.573,-59.7893 218.462,-67.6433 228.919,-65.9379 225.573,-59.7893\"/>\n",
       "<text text-anchor=\"middle\" x=\"468.135\" y=\"-48.8\" font-family=\"Times,serif\" font-size=\"14.00\">1</text>\n",
       "</g>\n",
       "<!-- St2&#45;&gt;St3 -->\n",
       "<g id=\"edge14\" class=\"edge\"><title>St2&#45;&gt;St3</title>\n",
       "<path fill=\"none\" stroke=\"black\" d=\"M673.98,-146.424C687.419,-134.839 705.554,-119.207 720.456,-106.361\"/>\n",
       "<polygon fill=\"black\" stroke=\"black\" points=\"723.064,-108.735 728.353,-99.5548 718.493,-103.433 723.064,-108.735\"/>\n",
       "<text text-anchor=\"middle\" x=\"701.154\" y=\"-128.8\" font-family=\"Times,serif\" font-size=\"14.00\">0</text>\n",
       "</g>\n",
       "<!-- St2&#45;&gt;St1 -->\n",
       "<g id=\"edge15\" class=\"edge\"><title>St2&#45;&gt;St1</title>\n",
       "<path fill=\"none\" stroke=\"black\" d=\"M629.906,-173.578C623.51,-176.266 616.488,-178.965 609.846,-181 599.012,-184.32 596.061,-184.382 584.846,-186 524.904,-194.647 454.491,-199.273 413.3,-201.427\"/>\n",
       "<polygon fill=\"black\" stroke=\"black\" points=\"413.044,-197.935 403.233,-201.934 413.397,-204.927 413.044,-197.935\"/>\n",
       "<text text-anchor=\"middle\" x=\"511.539\" y=\"-197.8\" font-family=\"Times,serif\" font-size=\"14.00\">1</text>\n",
       "</g>\n",
       "<!-- St0&#45;&gt;St2 -->\n",
       "<g id=\"edge16\" class=\"edge\"><title>St0&#45;&gt;St2</title>\n",
       "<path fill=\"none\" stroke=\"black\" d=\"M581.002,-114.296C593.461,-122.753 609.437,-133.598 623.15,-142.906\"/>\n",
       "<polygon fill=\"black\" stroke=\"black\" points=\"621.534,-146.04 631.774,-148.761 625.466,-140.249 621.534,-146.04\"/>\n",
       "<text text-anchor=\"middle\" x=\"606.346\" y=\"-136.8\" font-family=\"Times,serif\" font-size=\"14.00\">0</text>\n",
       "</g>\n",
       "<!-- St0&#45;&gt;St0 -->\n",
       "<g id=\"edge17\" class=\"edge\"><title>St0&#45;&gt;St0</title>\n",
       "<path fill=\"none\" stroke=\"black\" d=\"M550.393,-124.824C549.804,-135.15 552.653,-143.904 558.943,-143.904 562.971,-143.904 565.589,-140.311 566.795,-135.014\"/>\n",
       "<polygon fill=\"black\" stroke=\"black\" points=\"570.301,-135.039 567.492,-124.824 563.317,-134.562 570.301,-135.039\"/>\n",
       "<text text-anchor=\"middle\" x=\"558.943\" y=\"-146.704\" font-family=\"Times,serif\" font-size=\"14.00\">1</text>\n",
       "</g>\n",
       "<!-- St1&#45;&gt;St6 -->\n",
       "<g id=\"edge12\" class=\"edge\"><title>St1&#45;&gt;St6</title>\n",
       "<path fill=\"none\" stroke=\"black\" d=\"M354.775,-190.086C348.156,-186.78 340.694,-183.684 333.423,-182 327.741,-180.684 321.735,-181.135 316.005,-182.484\"/>\n",
       "<polygon fill=\"black\" stroke=\"black\" points=\"314.551,-179.276 306.123,-185.696 316.715,-185.933 314.551,-179.276\"/>\n",
       "<text text-anchor=\"middle\" x=\"329.923\" y=\"-184.8\" font-family=\"Times,serif\" font-size=\"14.00\">0</text>\n",
       "</g>\n",
       "<!-- St1&#45;&gt;St4 -->\n",
       "<g id=\"edge13\" class=\"edge\"><title>St1&#45;&gt;St4</title>\n",
       "<path fill=\"none\" stroke=\"black\" d=\"M401.197,-191.926C412.633,-186.389 426.583,-179.635 438.702,-173.767\"/>\n",
       "<polygon fill=\"black\" stroke=\"black\" points=\"440.47,-176.8 447.945,-169.291 437.419,-170.499 440.47,-176.8\"/>\n",
       "<text text-anchor=\"middle\" x=\"424.731\" y=\"-184.8\" font-family=\"Times,serif\" font-size=\"14.00\">1</text>\n",
       "</g>\n",
       "</g>\n",
       "</svg>\n"
      ],
      "text/plain": [
       "<graphviz.dot.Digraph at 0x103829f98>"
      ]
     },
     "execution_count": 8,
     "metadata": {},
     "output_type": "execute_result"
    }
   ],
   "source": [
    "dotObj_dfa(min_dfa(nfa2dfa(thirdlast)))"
   ]
  },
  {
   "cell_type": "code",
   "execution_count": 9,
   "metadata": {
    "run_control": {
     "frozen": false,
     "read_only": false
    }
   },
   "outputs": [
    {
     "data": {
      "image/svg+xml": [
       "<?xml version=\"1.0\" encoding=\"UTF-8\" standalone=\"no\"?>\n",
       "<!DOCTYPE svg PUBLIC \"-//W3C//DTD SVG 1.1//EN\"\n",
       " \"http://www.w3.org/Graphics/SVG/1.1/DTD/svg11.dtd\">\n",
       "<!-- Generated by graphviz version 2.38.0 (20140413.2041)\n",
       " -->\n",
       "<!-- Title: %3 Pages: 1 -->\n",
       "<svg width=\"1561pt\" height=\"580pt\"\n",
       " viewBox=\"0.00 0.00 1561.34 580.00\" xmlns=\"http://www.w3.org/2000/svg\" xmlns:xlink=\"http://www.w3.org/1999/xlink\">\n",
       "<g id=\"graph0\" class=\"graph\" transform=\"scale(1 1) rotate(0) translate(4 576)\">\n",
       "<title>%3</title>\n",
       "<polygon fill=\"white\" stroke=\"none\" points=\"-4,4 -4,-576 1557.34,-576 1557.34,4 -4,4\"/>\n",
       "<!-- EMPTY -->\n",
       "<g id=\"node1\" class=\"node\"><title>EMPTY</title>\n",
       "</g>\n",
       "<!-- St15 -->\n",
       "<g id=\"node6\" class=\"node\"><title>St15</title>\n",
       "<ellipse fill=\"none\" stroke=\"black\" cx=\"117.326\" cy=\"-116\" rx=\"26.1523\" ry=\"26.1523\"/>\n",
       "<text text-anchor=\"middle\" x=\"117.326\" y=\"-111.8\" font-family=\"Times,serif\" font-size=\"14.00\">St15</text>\n",
       "</g>\n",
       "<!-- EMPTY&#45;&gt;St15 -->\n",
       "<g id=\"edge1\" class=\"edge\"><title>EMPTY&#45;&gt;St15</title>\n",
       "<path fill=\"none\" stroke=\"black\" d=\"M54.0229,-116C62.3619,-116 71.7453,-116 80.6503,-116\"/>\n",
       "<polygon fill=\"black\" stroke=\"black\" points=\"80.793,-119.5 90.793,-116 80.793,-112.5 80.793,-119.5\"/>\n",
       "</g>\n",
       "<!-- St10 -->\n",
       "<g id=\"node2\" class=\"node\"><title>St10</title>\n",
       "<ellipse fill=\"none\" stroke=\"black\" cx=\"403.631\" cy=\"-142\" rx=\"26.1523\" ry=\"26.1523\"/>\n",
       "<text text-anchor=\"middle\" x=\"403.631\" y=\"-137.8\" font-family=\"Times,serif\" font-size=\"14.00\">St10</text>\n",
       "</g>\n",
       "<!-- St1 -->\n",
       "<g id=\"node10\" class=\"node\"><title>St1</title>\n",
       "<ellipse fill=\"none\" stroke=\"black\" cx=\"498.861\" cy=\"-188\" rx=\"21.8229\" ry=\"21.8229\"/>\n",
       "<ellipse fill=\"none\" stroke=\"black\" cx=\"498.861\" cy=\"-188\" rx=\"25.8081\" ry=\"25.8081\"/>\n",
       "<text text-anchor=\"middle\" x=\"498.861\" y=\"-183.8\" font-family=\"Times,serif\" font-size=\"14.00\">St1</text>\n",
       "</g>\n",
       "<!-- St10&#45;&gt;St1 -->\n",
       "<g id=\"edge13\" class=\"edge\"><title>St10&#45;&gt;St1</title>\n",
       "<path fill=\"none\" stroke=\"black\" d=\"M427.677,-153.371C439.279,-159.095 453.523,-166.124 466.141,-172.349\"/>\n",
       "<polygon fill=\"black\" stroke=\"black\" points=\"464.886,-175.633 475.402,-176.919 467.983,-169.355 464.886,-175.633\"/>\n",
       "<text text-anchor=\"middle\" x=\"451.457\" y=\"-169.8\" font-family=\"Times,serif\" font-size=\"14.00\">1</text>\n",
       "</g>\n",
       "<!-- St5 -->\n",
       "<g id=\"node12\" class=\"node\"><title>St5</title>\n",
       "<ellipse fill=\"none\" stroke=\"black\" cx=\"1336.97\" cy=\"-172\" rx=\"21.8229\" ry=\"21.8229\"/>\n",
       "<ellipse fill=\"none\" stroke=\"black\" cx=\"1336.97\" cy=\"-172\" rx=\"25.8081\" ry=\"25.8081\"/>\n",
       "<text text-anchor=\"middle\" x=\"1336.97\" y=\"-167.8\" font-family=\"Times,serif\" font-size=\"14.00\">St5</text>\n",
       "</g>\n",
       "<!-- St10&#45;&gt;St5 -->\n",
       "<g id=\"edge12\" class=\"edge\"><title>St10&#45;&gt;St5</title>\n",
       "<path fill=\"none\" stroke=\"black\" d=\"M424.352,-125.653C442.339,-112.431 470.246,-96 497.861,-96 497.861,-96 497.861,-96 1243.17,-96 1273.69,-96 1299.68,-120.905 1316.32,-142.201\"/>\n",
       "<polygon fill=\"black\" stroke=\"black\" points=\"1313.67,-144.495 1322.45,-150.425 1319.28,-140.314 1313.67,-144.495\"/>\n",
       "<text text-anchor=\"middle\" x=\"870.092\" y=\"-98.8\" font-family=\"Times,serif\" font-size=\"14.00\">0</text>\n",
       "</g>\n",
       "<!-- St13 -->\n",
       "<g id=\"node3\" class=\"node\"><title>St13</title>\n",
       "<ellipse fill=\"none\" stroke=\"black\" cx=\"307.98\" cy=\"-458\" rx=\"26.1523\" ry=\"26.1523\"/>\n",
       "<text text-anchor=\"middle\" x=\"307.98\" y=\"-453.8\" font-family=\"Times,serif\" font-size=\"14.00\">St13</text>\n",
       "</g>\n",
       "<!-- St13&#45;&gt;St10 -->\n",
       "<g id=\"edge7\" class=\"edge\"><title>St13&#45;&gt;St10</title>\n",
       "<path fill=\"none\" stroke=\"black\" d=\"M316.407,-432.94C333.039,-376.821 373.306,-240.952 392.338,-176.731\"/>\n",
       "<polygon fill=\"black\" stroke=\"black\" points=\"395.718,-177.645 395.204,-167.063 389.006,-175.656 395.718,-177.645\"/>\n",
       "<text text-anchor=\"middle\" x=\"355.806\" y=\"-312.8\" font-family=\"Times,serif\" font-size=\"14.00\">1</text>\n",
       "</g>\n",
       "<!-- St14 -->\n",
       "<g id=\"node4\" class=\"node\"><title>St14</title>\n",
       "<ellipse fill=\"none\" stroke=\"black\" cx=\"1432.2\" cy=\"-382\" rx=\"26.1523\" ry=\"26.1523\"/>\n",
       "<text text-anchor=\"middle\" x=\"1432.2\" y=\"-377.8\" font-family=\"Times,serif\" font-size=\"14.00\">St14</text>\n",
       "</g>\n",
       "<!-- St13&#45;&gt;St14 -->\n",
       "<g id=\"edge6\" class=\"edge\"><title>St13&#45;&gt;St14</title>\n",
       "<path fill=\"none\" stroke=\"black\" d=\"M328.217,-475.488C346.123,-489.906 374.248,-508 402.631,-508 402.631,-508 402.631,-508 1337.97,-508 1383.44,-508 1409.27,-454.335 1421.73,-417.051\"/>\n",
       "<polygon fill=\"black\" stroke=\"black\" points=\"1425.07,-418.088 1424.75,-407.498 1418.4,-415.975 1425.07,-418.088\"/>\n",
       "<text text-anchor=\"middle\" x=\"870.092\" y=\"-510.8\" font-family=\"Times,serif\" font-size=\"14.00\">0</text>\n",
       "</g>\n",
       "<!-- St7 -->\n",
       "<g id=\"node11\" class=\"node\"><title>St7</title>\n",
       "<ellipse fill=\"none\" stroke=\"black\" cx=\"1527.43\" cy=\"-290\" rx=\"21.8229\" ry=\"21.8229\"/>\n",
       "<ellipse fill=\"none\" stroke=\"black\" cx=\"1527.43\" cy=\"-290\" rx=\"25.8081\" ry=\"25.8081\"/>\n",
       "<text text-anchor=\"middle\" x=\"1527.43\" y=\"-285.8\" font-family=\"Times,serif\" font-size=\"14.00\">St7</text>\n",
       "</g>\n",
       "<!-- St14&#45;&gt;St7 -->\n",
       "<g id=\"edge10\" class=\"edge\"><title>St14&#45;&gt;St7</title>\n",
       "<path fill=\"none\" stroke=\"black\" d=\"M1451.62,-363.824C1465.76,-349.873 1485.44,-330.453 1501.07,-315.033\"/>\n",
       "<polygon fill=\"black\" stroke=\"black\" points=\"1503.71,-317.341 1508.37,-307.825 1498.79,-312.358 1503.71,-317.341\"/>\n",
       "<text text-anchor=\"middle\" x=\"1480.03\" y=\"-341.8\" font-family=\"Times,serif\" font-size=\"14.00\">0</text>\n",
       "</g>\n",
       "<!-- St3 -->\n",
       "<g id=\"node16\" class=\"node\"><title>St3</title>\n",
       "<ellipse fill=\"none\" stroke=\"black\" cx=\"964.9\" cy=\"-454\" rx=\"21.8229\" ry=\"21.8229\"/>\n",
       "<ellipse fill=\"none\" stroke=\"black\" cx=\"964.9\" cy=\"-454\" rx=\"25.8081\" ry=\"25.8081\"/>\n",
       "<text text-anchor=\"middle\" x=\"964.9\" y=\"-449.8\" font-family=\"Times,serif\" font-size=\"14.00\">St3</text>\n",
       "</g>\n",
       "<!-- St14&#45;&gt;St3 -->\n",
       "<g id=\"edge11\" class=\"edge\"><title>St14&#45;&gt;St3</title>\n",
       "<path fill=\"none\" stroke=\"black\" d=\"M1418.15,-404.284C1402.41,-427.956 1373.59,-462 1337.97,-462 1054.71,-462 1054.71,-462 1054.71,-462 1036.93,-462 1017.23,-460.39 1000.91,-458.615\"/>\n",
       "<polygon fill=\"black\" stroke=\"black\" points=\"1001.06,-455.109 990.728,-457.439 1000.26,-462.063 1001.06,-455.109\"/>\n",
       "<text text-anchor=\"middle\" x=\"1194.76\" y=\"-464.8\" font-family=\"Times,serif\" font-size=\"14.00\">1</text>\n",
       "</g>\n",
       "<!-- St8 -->\n",
       "<g id=\"node5\" class=\"node\"><title>St8</title>\n",
       "<ellipse fill=\"none\" stroke=\"black\" cx=\"589.669\" cy=\"-217\" rx=\"21.8081\" ry=\"21.8081\"/>\n",
       "<text text-anchor=\"middle\" x=\"589.669\" y=\"-212.8\" font-family=\"Times,serif\" font-size=\"14.00\">St8</text>\n",
       "</g>\n",
       "<!-- St4 -->\n",
       "<g id=\"node15\" class=\"node\"><title>St4</title>\n",
       "<ellipse fill=\"none\" stroke=\"black\" cx=\"775.284\" cy=\"-217\" rx=\"21.8229\" ry=\"21.8229\"/>\n",
       "<ellipse fill=\"none\" stroke=\"black\" cx=\"775.284\" cy=\"-217\" rx=\"25.8081\" ry=\"25.8081\"/>\n",
       "<text text-anchor=\"middle\" x=\"775.284\" y=\"-212.8\" font-family=\"Times,serif\" font-size=\"14.00\">St4</text>\n",
       "</g>\n",
       "<!-- St8&#45;&gt;St4 -->\n",
       "<g id=\"edge16\" class=\"edge\"><title>St8&#45;&gt;St4</title>\n",
       "<path fill=\"none\" stroke=\"black\" d=\"M609.001,-206.537C621.422,-200.069 638.449,-192.377 654.573,-189 677.109,-184.279 683.793,-184.526 706.38,-189 718.667,-191.434 731.522,-196.122 742.7,-200.977\"/>\n",
       "<polygon fill=\"black\" stroke=\"black\" points=\"741.485,-204.269 752.036,-205.233 744.389,-197.9 741.485,-204.269\"/>\n",
       "<text text-anchor=\"middle\" x=\"680.476\" y=\"-191.8\" font-family=\"Times,serif\" font-size=\"14.00\">0</text>\n",
       "</g>\n",
       "<!-- St0 -->\n",
       "<g id=\"node17\" class=\"node\"><title>St0</title>\n",
       "<ellipse fill=\"none\" stroke=\"black\" cx=\"680.476\" cy=\"-238\" rx=\"21.8229\" ry=\"21.8229\"/>\n",
       "<ellipse fill=\"none\" stroke=\"black\" cx=\"680.476\" cy=\"-238\" rx=\"25.8081\" ry=\"25.8081\"/>\n",
       "<text text-anchor=\"middle\" x=\"680.476\" y=\"-233.8\" font-family=\"Times,serif\" font-size=\"14.00\">St0</text>\n",
       "</g>\n",
       "<!-- St8&#45;&gt;St0 -->\n",
       "<g id=\"edge17\" class=\"edge\"><title>St8&#45;&gt;St0</title>\n",
       "<path fill=\"none\" stroke=\"black\" d=\"M611.266,-221.871C621.412,-224.27 633.911,-227.225 645.427,-229.948\"/>\n",
       "<polygon fill=\"black\" stroke=\"black\" points=\"644.672,-233.366 655.209,-232.262 646.283,-226.554 644.672,-233.366\"/>\n",
       "<text text-anchor=\"middle\" x=\"633.073\" y=\"-230.8\" font-family=\"Times,serif\" font-size=\"14.00\">1</text>\n",
       "</g>\n",
       "<!-- St15&#45;&gt;St15 -->\n",
       "<g id=\"edge2\" class=\"edge\"><title>St15&#45;&gt;St15</title>\n",
       "<path fill=\"none\" stroke=\"black\" d=\"M109.148,-141.062C108.584,-151.488 111.31,-160.326 117.326,-160.326 121.179,-160.326 123.683,-156.699 124.836,-151.351\"/>\n",
       "<polygon fill=\"black\" stroke=\"black\" points=\"128.349,-151.268 125.503,-141.062 121.364,-150.815 128.349,-151.268\"/>\n",
       "<text text-anchor=\"middle\" x=\"117.326\" y=\"-163.126\" font-family=\"Times,serif\" font-size=\"14.00\">0</text>\n",
       "</g>\n",
       "<!-- St11 -->\n",
       "<g id=\"node9\" class=\"node\"><title>St11</title>\n",
       "<ellipse fill=\"none\" stroke=\"black\" cx=\"212.653\" cy=\"-431\" rx=\"26.0035\" ry=\"26.0035\"/>\n",
       "<text text-anchor=\"middle\" x=\"212.653\" y=\"-426.8\" font-family=\"Times,serif\" font-size=\"14.00\">St11</text>\n",
       "</g>\n",
       "<!-- St15&#45;&gt;St11 -->\n",
       "<g id=\"edge3\" class=\"edge\"><title>St15&#45;&gt;St11</title>\n",
       "<path fill=\"none\" stroke=\"black\" d=\"M125.727,-140.981C142.301,-196.922 182.428,-332.361 201.395,-396.379\"/>\n",
       "<polygon fill=\"black\" stroke=\"black\" points=\"198.054,-397.423 204.251,-406.017 204.766,-395.434 198.054,-397.423\"/>\n",
       "<text text-anchor=\"middle\" x=\"165.151\" y=\"-285.8\" font-family=\"Times,serif\" font-size=\"14.00\">1</text>\n",
       "</g>\n",
       "<!-- St12 -->\n",
       "<g id=\"node7\" class=\"node\"><title>St12</title>\n",
       "<ellipse fill=\"none\" stroke=\"black\" cx=\"1146.94\" cy=\"-317\" rx=\"26.1523\" ry=\"26.1523\"/>\n",
       "<text text-anchor=\"middle\" x=\"1146.94\" y=\"-312.8\" font-family=\"Times,serif\" font-size=\"14.00\">St12</text>\n",
       "</g>\n",
       "<!-- St6 -->\n",
       "<g id=\"node13\" class=\"node\"><title>St6</title>\n",
       "<ellipse fill=\"none\" stroke=\"black\" cx=\"870.092\" cy=\"-267\" rx=\"21.8229\" ry=\"21.8229\"/>\n",
       "<ellipse fill=\"none\" stroke=\"black\" cx=\"870.092\" cy=\"-267\" rx=\"25.8081\" ry=\"25.8081\"/>\n",
       "<text text-anchor=\"middle\" x=\"870.092\" y=\"-262.8\" font-family=\"Times,serif\" font-size=\"14.00\">St6</text>\n",
       "</g>\n",
       "<!-- St12&#45;&gt;St6 -->\n",
       "<g id=\"edge14\" class=\"edge\"><title>St12&#45;&gt;St6</title>\n",
       "<path fill=\"none\" stroke=\"black\" d=\"M1120.92,-312.449C1071.67,-303.489 962.042,-283.546 905.818,-273.317\"/>\n",
       "<polygon fill=\"black\" stroke=\"black\" points=\"906.432,-269.872 895.967,-271.525 905.179,-276.759 906.432,-269.872\"/>\n",
       "<text text-anchor=\"middle\" x=\"1012.3\" y=\"-296.8\" font-family=\"Times,serif\" font-size=\"14.00\">0</text>\n",
       "</g>\n",
       "<!-- St2 -->\n",
       "<g id=\"node14\" class=\"node\"><title>St2</title>\n",
       "<ellipse fill=\"none\" stroke=\"black\" cx=\"1242.17\" cy=\"-172\" rx=\"21.8229\" ry=\"21.8229\"/>\n",
       "<ellipse fill=\"none\" stroke=\"black\" cx=\"1242.17\" cy=\"-172\" rx=\"25.8081\" ry=\"25.8081\"/>\n",
       "<text text-anchor=\"middle\" x=\"1242.17\" y=\"-167.8\" font-family=\"Times,serif\" font-size=\"14.00\">St2</text>\n",
       "</g>\n",
       "<!-- St12&#45;&gt;St2 -->\n",
       "<g id=\"edge15\" class=\"edge\"><title>St12&#45;&gt;St2</title>\n",
       "<path fill=\"none\" stroke=\"black\" d=\"M1167.79,-299.979C1177.82,-290.664 1189.65,-278.495 1198.26,-266 1211.03,-247.47 1221.59,-224.527 1229.04,-205.947\"/>\n",
       "<polygon fill=\"black\" stroke=\"black\" points=\"1232.39,-206.991 1232.75,-196.402 1225.86,-204.456 1232.39,-206.991\"/>\n",
       "<text text-anchor=\"middle\" x=\"1194.76\" y=\"-276.8\" font-family=\"Times,serif\" font-size=\"14.00\">1</text>\n",
       "</g>\n",
       "<!-- St9 -->\n",
       "<g id=\"node8\" class=\"node\"><title>St9</title>\n",
       "<ellipse fill=\"none\" stroke=\"black\" cx=\"1055.71\" cy=\"-387\" rx=\"21.8081\" ry=\"21.8081\"/>\n",
       "<text text-anchor=\"middle\" x=\"1055.71\" y=\"-382.8\" font-family=\"Times,serif\" font-size=\"14.00\">St9</text>\n",
       "</g>\n",
       "<!-- St9&#45;&gt;St8 -->\n",
       "<g id=\"edge9\" class=\"edge\"><title>St9&#45;&gt;St8</title>\n",
       "<path fill=\"none\" stroke=\"black\" d=\"M1038.22,-373.639C1013.68,-355.146 965.394,-324 918.496,-324 679.476,-324 679.476,-324 679.476,-324 639.394,-324 613.948,-278.993 601.013,-247.358\"/>\n",
       "<polygon fill=\"black\" stroke=\"black\" points=\"604.123,-245.694 597.251,-237.631 597.594,-248.22 604.123,-245.694\"/>\n",
       "<text text-anchor=\"middle\" x=\"822.688\" y=\"-326.8\" font-family=\"Times,serif\" font-size=\"14.00\">1</text>\n",
       "</g>\n",
       "<!-- St9&#45;&gt;St12 -->\n",
       "<g id=\"edge8\" class=\"edge\"><title>St9&#45;&gt;St12</title>\n",
       "<path fill=\"none\" stroke=\"black\" d=\"M1073.49,-373.834C1085.9,-364.1 1103.09,-350.616 1117.61,-339.225\"/>\n",
       "<polygon fill=\"black\" stroke=\"black\" points=\"1120.08,-341.73 1125.79,-332.803 1115.76,-336.222 1120.08,-341.73\"/>\n",
       "<text text-anchor=\"middle\" x=\"1099.11\" y=\"-359.8\" font-family=\"Times,serif\" font-size=\"14.00\">0</text>\n",
       "</g>\n",
       "<!-- St11&#45;&gt;St13 -->\n",
       "<g id=\"edge4\" class=\"edge\"><title>St11&#45;&gt;St13</title>\n",
       "<path fill=\"none\" stroke=\"black\" d=\"M238.174,-438.094C248.7,-441.139 261.183,-444.751 272.608,-448.056\"/>\n",
       "<polygon fill=\"black\" stroke=\"black\" points=\"271.721,-451.443 282.299,-450.86 273.666,-444.718 271.721,-451.443\"/>\n",
       "<text text-anchor=\"middle\" x=\"260.155\" y=\"-448.8\" font-family=\"Times,serif\" font-size=\"14.00\">0</text>\n",
       "</g>\n",
       "<!-- St11&#45;&gt;St9 -->\n",
       "<g id=\"edge5\" class=\"edge\"><title>St11&#45;&gt;St9</title>\n",
       "<path fill=\"none\" stroke=\"black\" d=\"M235.977,-419.103C254.468,-410.361 281.712,-400 306.98,-400 306.98,-400 306.98,-400 965.9,-400 985.385,-400 1007.02,-396.898 1024.06,-393.725\"/>\n",
       "<polygon fill=\"black\" stroke=\"black\" points=\"1024.88,-397.131 1034.02,-391.767 1023.53,-390.263 1024.88,-397.131\"/>\n",
       "<text text-anchor=\"middle\" x=\"633.073\" y=\"-402.8\" font-family=\"Times,serif\" font-size=\"14.00\">1</text>\n",
       "</g>\n",
       "<!-- St1&#45;&gt;St8 -->\n",
       "<g id=\"edge25\" class=\"edge\"><title>St1&#45;&gt;St8</title>\n",
       "<path fill=\"none\" stroke=\"black\" d=\"M523.66,-195.771C534.548,-199.327 547.56,-203.576 559.073,-207.335\"/>\n",
       "<polygon fill=\"black\" stroke=\"black\" points=\"558.12,-210.706 568.713,-210.483 560.293,-204.052 558.12,-210.706\"/>\n",
       "<text text-anchor=\"middle\" x=\"546.265\" y=\"-207.8\" font-family=\"Times,serif\" font-size=\"14.00\">1</text>\n",
       "</g>\n",
       "<!-- St1&#45;&gt;St12 -->\n",
       "<g id=\"edge24\" class=\"edge\"><title>St1&#45;&gt;St12</title>\n",
       "<path fill=\"none\" stroke=\"black\" d=\"M501.421,-214.05C505.887,-262.59 523.042,-362 588.669,-362 588.669,-362 588.669,-362 918.496,-362 988.327,-362 1067.96,-341.334 1112.05,-328.011\"/>\n",
       "<polygon fill=\"black\" stroke=\"black\" points=\"1113.15,-331.333 1121.68,-325.045 1111.09,-324.643 1113.15,-331.333\"/>\n",
       "<text text-anchor=\"middle\" x=\"822.688\" y=\"-364.8\" font-family=\"Times,serif\" font-size=\"14.00\">0</text>\n",
       "</g>\n",
       "<!-- St7&#45;&gt;St15 -->\n",
       "<g id=\"edge18\" class=\"edge\"><title>St7&#45;&gt;St15</title>\n",
       "<path fill=\"none\" stroke=\"black\" d=\"M1523.75,-264.264C1515.64,-193.291 1488.47,-0 1433.2,-0 211.653,-0 211.653,-0 211.653,-0 169.425,-0 143.085,-47.2432 129.553,-81.4306\"/>\n",
       "<polygon fill=\"black\" stroke=\"black\" points=\"126.155,-80.5229 125.917,-91.1151 132.709,-82.9834 126.155,-80.5229\"/>\n",
       "<text text-anchor=\"middle\" x=\"822.688\" y=\"-2.8\" font-family=\"Times,serif\" font-size=\"14.00\">0</text>\n",
       "</g>\n",
       "<!-- St7&#45;&gt;St11 -->\n",
       "<g id=\"edge19\" class=\"edge\"><title>St7&#45;&gt;St11</title>\n",
       "<path fill=\"none\" stroke=\"black\" d=\"M1523.1,-315.697C1513.68,-382.775 1484.19,-558 1433.2,-558 306.98,-558 306.98,-558 306.98,-558 261.016,-558 235.188,-503.313 222.862,-465.711\"/>\n",
       "<polygon fill=\"black\" stroke=\"black\" points=\"226.184,-464.604 219.877,-456.091 219.498,-466.679 226.184,-464.604\"/>\n",
       "<text text-anchor=\"middle\" x=\"870.092\" y=\"-560.8\" font-family=\"Times,serif\" font-size=\"14.00\">1</text>\n",
       "</g>\n",
       "<!-- St5&#45;&gt;St10 -->\n",
       "<g id=\"edge23\" class=\"edge\"><title>St5&#45;&gt;St10</title>\n",
       "<path fill=\"none\" stroke=\"black\" d=\"M1329.77,-147.106C1318.95,-110.386 1292.88,-46 1243.17,-46 497.861,-46 497.861,-46 497.861,-46 461.959,-46 435.43,-80.9803 420.04,-108.71\"/>\n",
       "<polygon fill=\"black\" stroke=\"black\" points=\"416.827,-107.298 415.25,-117.775 423.016,-110.569 416.827,-107.298\"/>\n",
       "<text text-anchor=\"middle\" x=\"870.092\" y=\"-48.8\" font-family=\"Times,serif\" font-size=\"14.00\">1</text>\n",
       "</g>\n",
       "<!-- St5&#45;&gt;St14 -->\n",
       "<g id=\"edge22\" class=\"edge\"><title>St5&#45;&gt;St14</title>\n",
       "<path fill=\"none\" stroke=\"black\" d=\"M1348.49,-195.681C1365.1,-233.099 1397.47,-306.016 1416.42,-348.692\"/>\n",
       "<polygon fill=\"black\" stroke=\"black\" points=\"1413.33,-350.363 1420.59,-358.083 1419.73,-347.523 1413.33,-350.363\"/>\n",
       "<text text-anchor=\"middle\" x=\"1384.38\" y=\"-286.8\" font-family=\"Times,serif\" font-size=\"14.00\">0</text>\n",
       "</g>\n",
       "<!-- St6&#45;&gt;St7 -->\n",
       "<g id=\"edge26\" class=\"edge\"><title>St6&#45;&gt;St7</title>\n",
       "<path fill=\"none\" stroke=\"black\" d=\"M894.855,-259.381C913.445,-254.096 940.052,-248 963.9,-248 963.9,-248 963.9,-248 1433.2,-248 1456.18,-248 1479.76,-258.737 1497.45,-269.354\"/>\n",
       "<polygon fill=\"black\" stroke=\"black\" points=\"1495.81,-272.457 1506.13,-274.837 1499.55,-266.538 1495.81,-272.457\"/>\n",
       "<text text-anchor=\"middle\" x=\"1194.76\" y=\"-250.8\" font-family=\"Times,serif\" font-size=\"14.00\">0</text>\n",
       "</g>\n",
       "<!-- St6&#45;&gt;St3 -->\n",
       "<g id=\"edge27\" class=\"edge\"><title>St6&#45;&gt;St3</title>\n",
       "<path fill=\"none\" stroke=\"black\" d=\"M882.472,-289.93C898.937,-323.106 929.468,-384.623 948.105,-422.176\"/>\n",
       "<polygon fill=\"black\" stroke=\"black\" points=\"944.991,-423.774 952.572,-431.175 951.261,-420.662 944.991,-423.774\"/>\n",
       "<text text-anchor=\"middle\" x=\"917.496\" y=\"-369.8\" font-family=\"Times,serif\" font-size=\"14.00\">1</text>\n",
       "</g>\n",
       "<!-- St2&#45;&gt;St1 -->\n",
       "<g id=\"edge29\" class=\"edge\"><title>St2&#45;&gt;St1</title>\n",
       "<path fill=\"none\" stroke=\"black\" d=\"M1218.29,-161.873C1199.71,-154.573 1172.64,-146 1147.94,-146 916.496,-146 916.496,-146 916.496,-146 774.394,-146 606.398,-170.486 534.895,-182.065\"/>\n",
       "<polygon fill=\"black\" stroke=\"black\" points=\"533.965,-178.671 524.662,-183.742 535.096,-185.579 533.965,-178.671\"/>\n",
       "<text text-anchor=\"middle\" x=\"870.092\" y=\"-150.8\" font-family=\"Times,serif\" font-size=\"14.00\">1</text>\n",
       "</g>\n",
       "<!-- St2&#45;&gt;St5 -->\n",
       "<g id=\"edge28\" class=\"edge\"><title>St2&#45;&gt;St5</title>\n",
       "<path fill=\"none\" stroke=\"black\" d=\"M1268.53,-172C1278.43,-172 1289.95,-172 1300.64,-172\"/>\n",
       "<polygon fill=\"black\" stroke=\"black\" points=\"1300.97,-175.5 1310.97,-172 1300.97,-168.5 1300.97,-175.5\"/>\n",
       "<text text-anchor=\"middle\" x=\"1289.57\" y=\"-174.8\" font-family=\"Times,serif\" font-size=\"14.00\">0</text>\n",
       "</g>\n",
       "<!-- St4&#45;&gt;St6 -->\n",
       "<g id=\"edge30\" class=\"edge\"><title>St4&#45;&gt;St6</title>\n",
       "<path fill=\"none\" stroke=\"black\" d=\"M798.75,-229.104C810.492,-235.429 825.05,-243.272 837.87,-250.179\"/>\n",
       "<polygon fill=\"black\" stroke=\"black\" points=\"836.369,-253.346 846.833,-255.008 839.689,-247.184 836.369,-253.346\"/>\n",
       "<text text-anchor=\"middle\" x=\"822.688\" y=\"-246.8\" font-family=\"Times,serif\" font-size=\"14.00\">0</text>\n",
       "</g>\n",
       "<!-- St4&#45;&gt;St2 -->\n",
       "<g id=\"edge31\" class=\"edge\"><title>St4&#45;&gt;St2</title>\n",
       "<path fill=\"none\" stroke=\"black\" d=\"M800.537,-210.899C819.162,-206.746 845.589,-202 869.092,-202 869.092,-202 869.092,-202 1147.94,-202 1169.17,-202 1191.87,-194.862 1209.56,-187.549\"/>\n",
       "<polygon fill=\"black\" stroke=\"black\" points=\"1211.05,-190.715 1218.82,-183.513 1208.26,-184.297 1211.05,-190.715\"/>\n",
       "<text text-anchor=\"middle\" x=\"1012.3\" y=\"-204.8\" font-family=\"Times,serif\" font-size=\"14.00\">1</text>\n",
       "</g>\n",
       "<!-- St3&#45;&gt;St13 -->\n",
       "<g id=\"edge20\" class=\"edge\"><title>St3&#45;&gt;St13</title>\n",
       "<path fill=\"none\" stroke=\"black\" d=\"M939.133,-457.3C920.467,-459.504 894.218,-462 871.092,-462 402.631,-462 402.631,-462 402.631,-462 383.495,-462 362.178,-461.156 344.722,-460.243\"/>\n",
       "<polygon fill=\"black\" stroke=\"black\" points=\"344.585,-456.73 334.407,-459.673 344.198,-463.72 344.585,-456.73\"/>\n",
       "<text text-anchor=\"middle\" x=\"633.073\" y=\"-464.8\" font-family=\"Times,serif\" font-size=\"14.00\">0</text>\n",
       "</g>\n",
       "<!-- St3&#45;&gt;St9 -->\n",
       "<g id=\"edge21\" class=\"edge\"><title>St3&#45;&gt;St9</title>\n",
       "<path fill=\"none\" stroke=\"black\" d=\"M986.051,-438.797C998.935,-429.077 1015.75,-416.393 1029.51,-406.009\"/>\n",
       "<polygon fill=\"black\" stroke=\"black\" points=\"1031.75,-408.705 1037.62,-399.889 1027.53,-403.117 1031.75,-408.705\"/>\n",
       "<text text-anchor=\"middle\" x=\"1012.3\" y=\"-423.8\" font-family=\"Times,serif\" font-size=\"14.00\">1</text>\n",
       "</g>\n",
       "<!-- St0&#45;&gt;St4 -->\n",
       "<g id=\"edge32\" class=\"edge\"><title>St0&#45;&gt;St4</title>\n",
       "<path fill=\"none\" stroke=\"black\" d=\"M705.861,-232.482C716.222,-230.138 728.491,-227.362 739.758,-224.812\"/>\n",
       "<polygon fill=\"black\" stroke=\"black\" points=\"740.76,-228.174 749.741,-222.554 739.215,-221.347 740.76,-228.174\"/>\n",
       "<text text-anchor=\"middle\" x=\"727.88\" y=\"-231.8\" font-family=\"Times,serif\" font-size=\"14.00\">0</text>\n",
       "</g>\n",
       "<!-- St0&#45;&gt;St0 -->\n",
       "<g id=\"edge33\" class=\"edge\"><title>St0&#45;&gt;St0</title>\n",
       "<path fill=\"none\" stroke=\"black\" d=\"M671.927,-262.824C671.338,-273.15 674.187,-281.904 680.476,-281.904 684.505,-281.904 687.123,-278.311 688.329,-273.014\"/>\n",
       "<polygon fill=\"black\" stroke=\"black\" points=\"691.835,-273.039 689.026,-262.824 684.851,-272.562 691.835,-273.039\"/>\n",
       "<text text-anchor=\"middle\" x=\"680.476\" y=\"-284.704\" font-family=\"Times,serif\" font-size=\"14.00\">1</text>\n",
       "</g>\n",
       "</g>\n",
       "</svg>\n"
      ],
      "text/plain": [
       "<graphviz.dot.Digraph at 0x103829ef0>"
      ]
     },
     "execution_count": 9,
     "metadata": {},
     "output_type": "execute_result"
    }
   ],
   "source": [
    "dotObj_dfa(min_dfa(nfa2dfa(fourthlast)))"
   ]
  },
  {
   "cell_type": "code",
   "execution_count": 10,
   "metadata": {
    "run_control": {
     "frozen": false,
     "read_only": false
    }
   },
   "outputs": [
    {
     "data": {
      "image/svg+xml": [
       "<?xml version=\"1.0\" encoding=\"UTF-8\" standalone=\"no\"?>\n",
       "<!DOCTYPE svg PUBLIC \"-//W3C//DTD SVG 1.1//EN\"\n",
       " \"http://www.w3.org/Graphics/SVG/1.1/DTD/svg11.dtd\">\n",
       "<!-- Generated by graphviz version 2.38.0 (20140413.2041)\n",
       " -->\n",
       "<!-- Title: %3 Pages: 1 -->\n",
       "<svg width=\"3156pt\" height=\"842pt\"\n",
       " viewBox=\"0.00 0.00 3155.76 842.00\" xmlns=\"http://www.w3.org/2000/svg\" xmlns:xlink=\"http://www.w3.org/1999/xlink\">\n",
       "<g id=\"graph0\" class=\"graph\" transform=\"scale(1 1) rotate(0) translate(4 838)\">\n",
       "<title>%3</title>\n",
       "<polygon fill=\"white\" stroke=\"none\" points=\"-4,4 -4,-838 3151.76,-838 3151.76,4 -4,4\"/>\n",
       "<!-- EMPTY -->\n",
       "<g id=\"node1\" class=\"node\"><title>EMPTY</title>\n",
       "</g>\n",
       "<!-- St31 -->\n",
       "<g id=\"node8\" class=\"node\"><title>St31</title>\n",
       "<ellipse fill=\"none\" stroke=\"black\" cx=\"117.326\" cy=\"-111\" rx=\"26.1523\" ry=\"26.1523\"/>\n",
       "<text text-anchor=\"middle\" x=\"117.326\" y=\"-106.8\" font-family=\"Times,serif\" font-size=\"14.00\">St31</text>\n",
       "</g>\n",
       "<!-- EMPTY&#45;&gt;St31 -->\n",
       "<g id=\"edge1\" class=\"edge\"><title>EMPTY&#45;&gt;St31</title>\n",
       "<path fill=\"none\" stroke=\"black\" d=\"M54.0229,-111C62.3619,-111 71.7453,-111 80.6503,-111\"/>\n",
       "<polygon fill=\"black\" stroke=\"black\" points=\"80.793,-114.5 90.793,-111 80.793,-107.5 80.793,-114.5\"/>\n",
       "</g>\n",
       "<!-- St22 -->\n",
       "<g id=\"node2\" class=\"node\"><title>St22</title>\n",
       "<ellipse fill=\"none\" stroke=\"black\" cx=\"699.233\" cy=\"-214\" rx=\"26.1523\" ry=\"26.1523\"/>\n",
       "<text text-anchor=\"middle\" x=\"699.233\" y=\"-209.8\" font-family=\"Times,serif\" font-size=\"14.00\">St22</text>\n",
       "</g>\n",
       "<!-- St11 -->\n",
       "<g id=\"node19\" class=\"node\"><title>St11</title>\n",
       "<ellipse fill=\"none\" stroke=\"black\" cx=\"798.56\" cy=\"-142\" rx=\"26.0032\" ry=\"26.0032\"/>\n",
       "<ellipse fill=\"none\" stroke=\"black\" cx=\"798.56\" cy=\"-142\" rx=\"30.0035\" ry=\"30.0035\"/>\n",
       "<text text-anchor=\"middle\" x=\"798.56\" y=\"-137.8\" font-family=\"Times,serif\" font-size=\"14.00\">St11</text>\n",
       "</g>\n",
       "<!-- St22&#45;&gt;St11 -->\n",
       "<g id=\"edge20\" class=\"edge\"><title>St22&#45;&gt;St11</title>\n",
       "<path fill=\"none\" stroke=\"black\" d=\"M720.342,-197.866C727.596,-192.14 735.885,-185.705 743.558,-180 750.501,-174.838 758.044,-169.417 765.229,-164.339\"/>\n",
       "<polygon fill=\"black\" stroke=\"black\" points=\"767.271,-167.182 773.443,-158.57 763.248,-161.454 767.271,-167.182\"/>\n",
       "<text text-anchor=\"middle\" x=\"747.058\" y=\"-182.8\" font-family=\"Times,serif\" font-size=\"14.00\">0</text>\n",
       "</g>\n",
       "<!-- St3 -->\n",
       "<g id=\"node32\" class=\"node\"><title>St3</title>\n",
       "<ellipse fill=\"none\" stroke=\"black\" cx=\"2619.6\" cy=\"-311\" rx=\"21.8229\" ry=\"21.8229\"/>\n",
       "<ellipse fill=\"none\" stroke=\"black\" cx=\"2619.6\" cy=\"-311\" rx=\"25.8081\" ry=\"25.8081\"/>\n",
       "<text text-anchor=\"middle\" x=\"2619.6\" y=\"-306.8\" font-family=\"Times,serif\" font-size=\"14.00\">St3</text>\n",
       "</g>\n",
       "<!-- St22&#45;&gt;St3 -->\n",
       "<g id=\"edge21\" class=\"edge\"><title>St22&#45;&gt;St3</title>\n",
       "<path fill=\"none\" stroke=\"black\" d=\"M724.863,-220.295C730.943,-221.679 737.461,-223.023 743.558,-224 811.126,-234.831 828.458,-238 896.887,-238 896.887,-238 896.887,-238 1908.69,-238 2169.26,-238 2480.81,-287.267 2583.72,-304.853\"/>\n",
       "<polygon fill=\"black\" stroke=\"black\" points=\"2583.41,-308.35 2593.86,-306.598 2584.59,-301.452 2583.41,-308.35\"/>\n",
       "<text text-anchor=\"middle\" x=\"1669.41\" y=\"-240.8\" font-family=\"Times,serif\" font-size=\"14.00\">1</text>\n",
       "</g>\n",
       "<!-- St16 -->\n",
       "<g id=\"node3\" class=\"node\"><title>St16</title>\n",
       "<ellipse fill=\"none\" stroke=\"black\" cx=\"1859.87\" cy=\"-395\" rx=\"26.1523\" ry=\"26.1523\"/>\n",
       "<text text-anchor=\"middle\" x=\"1859.87\" y=\"-390.8\" font-family=\"Times,serif\" font-size=\"14.00\">St16</text>\n",
       "</g>\n",
       "<!-- St8 -->\n",
       "<g id=\"node24\" class=\"node\"><title>St8</title>\n",
       "<ellipse fill=\"none\" stroke=\"black\" cx=\"2049.91\" cy=\"-405\" rx=\"21.8229\" ry=\"21.8229\"/>\n",
       "<ellipse fill=\"none\" stroke=\"black\" cx=\"2049.91\" cy=\"-405\" rx=\"25.8081\" ry=\"25.8081\"/>\n",
       "<text text-anchor=\"middle\" x=\"2049.91\" y=\"-400.8\" font-family=\"Times,serif\" font-size=\"14.00\">St8</text>\n",
       "</g>\n",
       "<!-- St16&#45;&gt;St8 -->\n",
       "<g id=\"edge32\" class=\"edge\"><title>St16&#45;&gt;St8</title>\n",
       "<path fill=\"none\" stroke=\"black\" d=\"M1885.37,-388.062C1909.72,-382.123 1948.1,-375.356 1981,-381 1992.8,-383.023 2005.26,-386.888 2016.25,-390.934\"/>\n",
       "<polygon fill=\"black\" stroke=\"black\" points=\"2015.27,-394.309 2025.86,-394.654 2017.8,-387.781 2015.27,-394.309\"/>\n",
       "<text text-anchor=\"middle\" x=\"1955.1\" y=\"-383.8\" font-family=\"Times,serif\" font-size=\"14.00\">0</text>\n",
       "</g>\n",
       "<!-- St0 -->\n",
       "<g id=\"node33\" class=\"node\"><title>St0</title>\n",
       "<ellipse fill=\"none\" stroke=\"black\" cx=\"1955.1\" cy=\"-430\" rx=\"21.8229\" ry=\"21.8229\"/>\n",
       "<ellipse fill=\"none\" stroke=\"black\" cx=\"1955.1\" cy=\"-430\" rx=\"25.8081\" ry=\"25.8081\"/>\n",
       "<text text-anchor=\"middle\" x=\"1955.1\" y=\"-425.8\" font-family=\"Times,serif\" font-size=\"14.00\">St0</text>\n",
       "</g>\n",
       "<!-- St16&#45;&gt;St0 -->\n",
       "<g id=\"edge33\" class=\"edge\"><title>St16&#45;&gt;St0</title>\n",
       "<path fill=\"none\" stroke=\"black\" d=\"M1884.88,-404.013C1895.84,-408.128 1909,-413.067 1920.88,-417.53\"/>\n",
       "<polygon fill=\"black\" stroke=\"black\" points=\"1919.9,-420.9 1930.49,-421.138 1922.36,-414.347 1919.9,-420.9\"/>\n",
       "<text text-anchor=\"middle\" x=\"1907.69\" y=\"-416.8\" font-family=\"Times,serif\" font-size=\"14.00\">1</text>\n",
       "</g>\n",
       "<!-- St30 -->\n",
       "<g id=\"node4\" class=\"node\"><title>St30</title>\n",
       "<ellipse fill=\"none\" stroke=\"black\" cx=\"993.539\" cy=\"-100\" rx=\"26.1523\" ry=\"26.1523\"/>\n",
       "<text text-anchor=\"middle\" x=\"993.539\" y=\"-95.8\" font-family=\"Times,serif\" font-size=\"14.00\">St30</text>\n",
       "</g>\n",
       "<!-- St7 -->\n",
       "<g id=\"node22\" class=\"node\"><title>St7</title>\n",
       "<ellipse fill=\"none\" stroke=\"black\" cx=\"1088.77\" cy=\"-153\" rx=\"21.8229\" ry=\"21.8229\"/>\n",
       "<ellipse fill=\"none\" stroke=\"black\" cx=\"1088.77\" cy=\"-153\" rx=\"25.8081\" ry=\"25.8081\"/>\n",
       "<text text-anchor=\"middle\" x=\"1088.77\" y=\"-148.8\" font-family=\"Times,serif\" font-size=\"14.00\">St7</text>\n",
       "</g>\n",
       "<!-- St30&#45;&gt;St7 -->\n",
       "<g id=\"edge19\" class=\"edge\"><title>St30&#45;&gt;St7</title>\n",
       "<path fill=\"none\" stroke=\"black\" d=\"M1017.56,-111.374C1026.21,-115.783 1036.07,-120.973 1044.86,-126 1049.13,-128.438 1053.57,-131.096 1057.92,-133.762\"/>\n",
       "<polygon fill=\"black\" stroke=\"black\" points=\"1056.26,-136.855 1066.6,-139.18 1059.97,-130.917 1056.26,-136.855\"/>\n",
       "<text text-anchor=\"middle\" x=\"1041.36\" y=\"-128.8\" font-family=\"Times,serif\" font-size=\"14.00\">1</text>\n",
       "</g>\n",
       "<!-- St15 -->\n",
       "<g id=\"node27\" class=\"node\"><title>St15</title>\n",
       "<ellipse fill=\"none\" stroke=\"black\" cx=\"3117.43\" cy=\"-100\" rx=\"26.1751\" ry=\"26.1751\"/>\n",
       "<ellipse fill=\"none\" stroke=\"black\" cx=\"3117.43\" cy=\"-100\" rx=\"30.1522\" ry=\"30.1522\"/>\n",
       "<text text-anchor=\"middle\" x=\"3117.43\" y=\"-95.8\" font-family=\"Times,serif\" font-size=\"14.00\">St15</text>\n",
       "</g>\n",
       "<!-- St30&#45;&gt;St15 -->\n",
       "<g id=\"edge18\" class=\"edge\"><title>St30&#45;&gt;St15</title>\n",
       "<path fill=\"none\" stroke=\"black\" d=\"M1019.68,-96.2358C1090.8,-85.9269 1299.54,-58 1473.95,-58 1473.95,-58 1473.95,-58 3014.78,-58 3038.74,-58 3063.63,-68.0888 3082.78,-78.3772\"/>\n",
       "<polygon fill=\"black\" stroke=\"black\" points=\"3081.27,-81.5398 3091.7,-83.4005 3084.7,-75.4416 3081.27,-81.5398\"/>\n",
       "<text text-anchor=\"middle\" x=\"2049.91\" y=\"-60.8\" font-family=\"Times,serif\" font-size=\"14.00\">0</text>\n",
       "</g>\n",
       "<!-- St27 -->\n",
       "<g id=\"node5\" class=\"node\"><title>St27</title>\n",
       "<ellipse fill=\"none\" stroke=\"black\" cx=\"308.628\" cy=\"-152\" rx=\"26.1523\" ry=\"26.1523\"/>\n",
       "<text text-anchor=\"middle\" x=\"308.628\" y=\"-147.8\" font-family=\"Times,serif\" font-size=\"14.00\">St27</text>\n",
       "</g>\n",
       "<!-- St21 -->\n",
       "<g id=\"node9\" class=\"node\"><title>St21</title>\n",
       "<ellipse fill=\"none\" stroke=\"black\" cx=\"404.279\" cy=\"-212\" rx=\"26.1523\" ry=\"26.1523\"/>\n",
       "<text text-anchor=\"middle\" x=\"404.279\" y=\"-207.8\" font-family=\"Times,serif\" font-size=\"14.00\">St21</text>\n",
       "</g>\n",
       "<!-- St27&#45;&gt;St21 -->\n",
       "<g id=\"edge7\" class=\"edge\"><title>St27&#45;&gt;St21</title>\n",
       "<path fill=\"none\" stroke=\"black\" d=\"M331.349,-165.916C343.76,-173.867 359.511,-183.959 373.109,-192.67\"/>\n",
       "<polygon fill=\"black\" stroke=\"black\" points=\"371.368,-195.712 381.676,-198.159 375.144,-189.818 371.368,-195.712\"/>\n",
       "<text text-anchor=\"middle\" x=\"356.454\" y=\"-186.8\" font-family=\"Times,serif\" font-size=\"14.00\">1</text>\n",
       "</g>\n",
       "<!-- St29 -->\n",
       "<g id=\"node15\" class=\"node\"><title>St29</title>\n",
       "<ellipse fill=\"none\" stroke=\"black\" cx=\"897.887\" cy=\"-100\" rx=\"26.1523\" ry=\"26.1523\"/>\n",
       "<text text-anchor=\"middle\" x=\"897.887\" y=\"-95.8\" font-family=\"Times,serif\" font-size=\"14.00\">St29</text>\n",
       "</g>\n",
       "<!-- St27&#45;&gt;St29 -->\n",
       "<g id=\"edge6\" class=\"edge\"><title>St27&#45;&gt;St29</title>\n",
       "<path fill=\"none\" stroke=\"black\" d=\"M318.687,-127.415C332.002,-96.1016 360.06,-46 403.279,-46 403.279,-46 403.279,-46 748.058,-46 790.966,-46 836.886,-66.0794 866.189,-81.7498\"/>\n",
       "<polygon fill=\"black\" stroke=\"black\" points=\"864.646,-84.8956 875.094,-86.6517 868.021,-78.7633 864.646,-84.8956\"/>\n",
       "<text text-anchor=\"middle\" x=\"599.582\" y=\"-48.8\" font-family=\"Times,serif\" font-size=\"14.00\">0</text>\n",
       "</g>\n",
       "<!-- St20 -->\n",
       "<g id=\"node6\" class=\"node\"><title>St20</title>\n",
       "<ellipse fill=\"none\" stroke=\"black\" cx=\"1375.3\" cy=\"-640\" rx=\"26.1523\" ry=\"26.1523\"/>\n",
       "<text text-anchor=\"middle\" x=\"1375.3\" y=\"-635.8\" font-family=\"Times,serif\" font-size=\"14.00\">St20</text>\n",
       "</g>\n",
       "<!-- St10 -->\n",
       "<g id=\"node18\" class=\"node\"><title>St10</title>\n",
       "<ellipse fill=\"none\" stroke=\"black\" cx=\"1474.95\" cy=\"-714\" rx=\"26.1751\" ry=\"26.1751\"/>\n",
       "<ellipse fill=\"none\" stroke=\"black\" cx=\"1474.95\" cy=\"-714\" rx=\"30.1522\" ry=\"30.1522\"/>\n",
       "<text text-anchor=\"middle\" x=\"1474.95\" y=\"-709.8\" font-family=\"Times,serif\" font-size=\"14.00\">St10</text>\n",
       "</g>\n",
       "<!-- St20&#45;&gt;St10 -->\n",
       "<g id=\"edge28\" class=\"edge\"><title>St20&#45;&gt;St10</title>\n",
       "<path fill=\"none\" stroke=\"black\" d=\"M1397.01,-655.693C1410.02,-665.553 1427.07,-678.474 1441.81,-689.647\"/>\n",
       "<polygon fill=\"black\" stroke=\"black\" points=\"1440.1,-692.736 1450.18,-695.986 1444.32,-687.157 1440.1,-692.736\"/>\n",
       "<text text-anchor=\"middle\" x=\"1423.13\" y=\"-679.8\" font-family=\"Times,serif\" font-size=\"14.00\">0</text>\n",
       "</g>\n",
       "<!-- St2 -->\n",
       "<g id=\"node28\" class=\"node\"><title>St2</title>\n",
       "<ellipse fill=\"none\" stroke=\"black\" cx=\"2239.52\" cy=\"-587\" rx=\"21.8229\" ry=\"21.8229\"/>\n",
       "<ellipse fill=\"none\" stroke=\"black\" cx=\"2239.52\" cy=\"-587\" rx=\"25.8081\" ry=\"25.8081\"/>\n",
       "<text text-anchor=\"middle\" x=\"2239.52\" y=\"-582.8\" font-family=\"Times,serif\" font-size=\"14.00\">St2</text>\n",
       "</g>\n",
       "<!-- St20&#45;&gt;St2 -->\n",
       "<g id=\"edge29\" class=\"edge\"><title>St20&#45;&gt;St2</title>\n",
       "<path fill=\"none\" stroke=\"black\" d=\"M1401.44,-635.961C1407.39,-635.161 1413.72,-634.434 1419.63,-634 1614.33,-619.691 1663.64,-630 1858.87,-630 1858.87,-630 1858.87,-630 2003.5,-630 2055.85,-630 2067.32,-615.439 2118.81,-606 2147.3,-600.778 2179.76,-595.679 2203.68,-592.08\"/>\n",
       "<polygon fill=\"black\" stroke=\"black\" points=\"2204.33,-595.523 2213.7,-590.586 2203.29,-588.599 2204.33,-595.523\"/>\n",
       "<text text-anchor=\"middle\" x=\"1812.04\" y=\"-632.8\" font-family=\"Times,serif\" font-size=\"14.00\">1</text>\n",
       "</g>\n",
       "<!-- St19 -->\n",
       "<g id=\"node7\" class=\"node\"><title>St19</title>\n",
       "<ellipse fill=\"none\" stroke=\"black\" cx=\"1184\" cy=\"-456\" rx=\"26.1523\" ry=\"26.1523\"/>\n",
       "<text text-anchor=\"middle\" x=\"1184\" y=\"-451.8\" font-family=\"Times,serif\" font-size=\"14.00\">St19</text>\n",
       "</g>\n",
       "<!-- St25 -->\n",
       "<g id=\"node13\" class=\"node\"><title>St25</title>\n",
       "<ellipse fill=\"none\" stroke=\"black\" cx=\"1279.65\" cy=\"-591\" rx=\"26.1523\" ry=\"26.1523\"/>\n",
       "<text text-anchor=\"middle\" x=\"1279.65\" y=\"-586.8\" font-family=\"Times,serif\" font-size=\"14.00\">St25</text>\n",
       "</g>\n",
       "<!-- St19&#45;&gt;St25 -->\n",
       "<g id=\"edge8\" class=\"edge\"><title>St19&#45;&gt;St25</title>\n",
       "<path fill=\"none\" stroke=\"black\" d=\"M1199.84,-477.391C1215.52,-500.003 1240.38,-535.84 1257.98,-561.21\"/>\n",
       "<polygon fill=\"black\" stroke=\"black\" points=\"1255.3,-563.487 1263.88,-569.709 1261.05,-559.497 1255.3,-563.487\"/>\n",
       "<text text-anchor=\"middle\" x=\"1231.82\" y=\"-530.8\" font-family=\"Times,serif\" font-size=\"14.00\">0</text>\n",
       "</g>\n",
       "<!-- St17 -->\n",
       "<g id=\"node16\" class=\"node\"><title>St17</title>\n",
       "<ellipse fill=\"none\" stroke=\"black\" cx=\"2714.83\" cy=\"-316\" rx=\"26.1523\" ry=\"26.1523\"/>\n",
       "<text text-anchor=\"middle\" x=\"2714.83\" y=\"-311.8\" font-family=\"Times,serif\" font-size=\"14.00\">St17</text>\n",
       "</g>\n",
       "<!-- St19&#45;&gt;St17 -->\n",
       "<g id=\"edge9\" class=\"edge\"><title>St19&#45;&gt;St17</title>\n",
       "<path fill=\"none\" stroke=\"black\" d=\"M1209.45,-448.316C1309.46,-417.135 1697.53,-298.552 2024,-232 2160.07,-204.263 2194.47,-188 2333.33,-188 2333.33,-188 2333.33,-188 2525.79,-188 2595.91,-188 2659.23,-249.584 2691.44,-287.319\"/>\n",
       "<polygon fill=\"black\" stroke=\"black\" points=\"2689.11,-289.994 2698.2,-295.435 2694.49,-285.512 2689.11,-289.994\"/>\n",
       "<text text-anchor=\"middle\" x=\"1955.1\" y=\"-255.8\" font-family=\"Times,serif\" font-size=\"14.00\">1</text>\n",
       "</g>\n",
       "<!-- St31&#45;&gt;St31 -->\n",
       "<g id=\"edge2\" class=\"edge\"><title>St31&#45;&gt;St31</title>\n",
       "<path fill=\"none\" stroke=\"black\" d=\"M109.148,-136.062C108.584,-146.488 111.31,-155.326 117.326,-155.326 121.179,-155.326 123.683,-151.699 124.836,-146.351\"/>\n",
       "<polygon fill=\"black\" stroke=\"black\" points=\"128.349,-146.268 125.503,-136.062 121.364,-145.815 128.349,-146.268\"/>\n",
       "<text text-anchor=\"middle\" x=\"117.326\" y=\"-158.126\" font-family=\"Times,serif\" font-size=\"14.00\">0</text>\n",
       "</g>\n",
       "<!-- St23 -->\n",
       "<g id=\"node12\" class=\"node\"><title>St23</title>\n",
       "<ellipse fill=\"none\" stroke=\"black\" cx=\"212.977\" cy=\"-411\" rx=\"26.1523\" ry=\"26.1523\"/>\n",
       "<text text-anchor=\"middle\" x=\"212.977\" y=\"-406.8\" font-family=\"Times,serif\" font-size=\"14.00\">St23</text>\n",
       "</g>\n",
       "<!-- St31&#45;&gt;St23 -->\n",
       "<g id=\"edge3\" class=\"edge\"><title>St31&#45;&gt;St23</title>\n",
       "<path fill=\"none\" stroke=\"black\" d=\"M126.149,-136.062C142.848,-189.554 182.01,-315.005 201.113,-376.199\"/>\n",
       "<polygon fill=\"black\" stroke=\"black\" points=\"197.789,-377.296 204.11,-385.799 204.471,-375.21 197.789,-377.296\"/>\n",
       "<text text-anchor=\"middle\" x=\"165.151\" y=\"-272.8\" font-family=\"Times,serif\" font-size=\"14.00\">1</text>\n",
       "</g>\n",
       "<!-- St26 -->\n",
       "<g id=\"node10\" class=\"node\"><title>St26</title>\n",
       "<ellipse fill=\"none\" stroke=\"black\" cx=\"499.93\" cy=\"-376\" rx=\"26.1523\" ry=\"26.1523\"/>\n",
       "<text text-anchor=\"middle\" x=\"499.93\" y=\"-371.8\" font-family=\"Times,serif\" font-size=\"14.00\">St26</text>\n",
       "</g>\n",
       "<!-- St21&#45;&gt;St26 -->\n",
       "<g id=\"edge12\" class=\"edge\"><title>St21&#45;&gt;St26</title>\n",
       "<path fill=\"none\" stroke=\"black\" d=\"M417.344,-234.904C425.894,-250.98 437.733,-272.926 448.605,-292 458.668,-309.655 470.306,-329.138 479.855,-344.892\"/>\n",
       "<polygon fill=\"black\" stroke=\"black\" points=\"477.021,-346.968 485.207,-353.694 483.002,-343.331 477.021,-346.968\"/>\n",
       "<text text-anchor=\"middle\" x=\"452.105\" y=\"-306.8\" font-family=\"Times,serif\" font-size=\"14.00\">0</text>\n",
       "</g>\n",
       "<!-- St18 -->\n",
       "<g id=\"node17\" class=\"node\"><title>St18</title>\n",
       "<ellipse fill=\"none\" stroke=\"black\" cx=\"1669.41\" cy=\"-516\" rx=\"26.1523\" ry=\"26.1523\"/>\n",
       "<text text-anchor=\"middle\" x=\"1669.41\" y=\"-511.8\" font-family=\"Times,serif\" font-size=\"14.00\">St18</text>\n",
       "</g>\n",
       "<!-- St21&#45;&gt;St18 -->\n",
       "<g id=\"edge13\" class=\"edge\"><title>St21&#45;&gt;St18</title>\n",
       "<path fill=\"none\" stroke=\"black\" d=\"M430.047,-219.287C496.965,-238.309 687.256,-288 849.062,-288 849.062,-288 849.062,-288 1424.13,-288 1537.24,-288 1619.77,-420.276 1652.67,-483.324\"/>\n",
       "<polygon fill=\"black\" stroke=\"black\" points=\"1649.68,-485.15 1657.35,-492.459 1655.91,-481.962 1649.68,-485.15\"/>\n",
       "<text text-anchor=\"middle\" x=\"1041.36\" y=\"-290.8\" font-family=\"Times,serif\" font-size=\"14.00\">1</text>\n",
       "</g>\n",
       "<!-- St13 -->\n",
       "<g id=\"node21\" class=\"node\"><title>St13</title>\n",
       "<ellipse fill=\"none\" stroke=\"black\" cx=\"599.582\" cy=\"-349\" rx=\"26.1751\" ry=\"26.1751\"/>\n",
       "<ellipse fill=\"none\" stroke=\"black\" cx=\"599.582\" cy=\"-349\" rx=\"30.1522\" ry=\"30.1522\"/>\n",
       "<text text-anchor=\"middle\" x=\"599.582\" y=\"-344.8\" font-family=\"Times,serif\" font-size=\"14.00\">St13</text>\n",
       "</g>\n",
       "<!-- St26&#45;&gt;St13 -->\n",
       "<g id=\"edge22\" class=\"edge\"><title>St26&#45;&gt;St13</title>\n",
       "<path fill=\"none\" stroke=\"black\" d=\"M525.572,-369.187C536.06,-366.287 548.54,-362.836 560.188,-359.616\"/>\n",
       "<polygon fill=\"black\" stroke=\"black\" points=\"561.434,-362.902 570.14,-356.864 559.569,-356.156 561.434,-362.902\"/>\n",
       "<text text-anchor=\"middle\" x=\"547.756\" y=\"-366.8\" font-family=\"Times,serif\" font-size=\"14.00\">0</text>\n",
       "</g>\n",
       "<!-- St5 -->\n",
       "<g id=\"node25\" class=\"node\"><title>St5</title>\n",
       "<ellipse fill=\"none\" stroke=\"black\" cx=\"1574.18\" cy=\"-516\" rx=\"21.8229\" ry=\"21.8229\"/>\n",
       "<ellipse fill=\"none\" stroke=\"black\" cx=\"1574.18\" cy=\"-516\" rx=\"25.8081\" ry=\"25.8081\"/>\n",
       "<text text-anchor=\"middle\" x=\"1574.18\" y=\"-511.8\" font-family=\"Times,serif\" font-size=\"14.00\">St5</text>\n",
       "</g>\n",
       "<!-- St26&#45;&gt;St5 -->\n",
       "<g id=\"edge23\" class=\"edge\"><title>St26&#45;&gt;St5</title>\n",
       "<path fill=\"none\" stroke=\"black\" d=\"M522.494,-389.719C541.689,-400.604 570.93,-414 598.582,-414 598.582,-414 598.582,-414 994.539,-414 1057.27,-414 1072.44,-402 1135.17,-402 1135.17,-402 1135.17,-402 1475.95,-402 1518.45,-402 1546.3,-448.429 1560.9,-482.027\"/>\n",
       "<polygon fill=\"black\" stroke=\"black\" points=\"1557.78,-483.64 1564.83,-491.544 1564.24,-480.966 1557.78,-483.64\"/>\n",
       "<text text-anchor=\"middle\" x=\"1041.36\" y=\"-414.8\" font-family=\"Times,serif\" font-size=\"14.00\">1</text>\n",
       "</g>\n",
       "<!-- St24 -->\n",
       "<g id=\"node11\" class=\"node\"><title>St24</title>\n",
       "<ellipse fill=\"none\" stroke=\"black\" cx=\"2810.48\" cy=\"-614\" rx=\"26.1523\" ry=\"26.1523\"/>\n",
       "<text text-anchor=\"middle\" x=\"2810.48\" y=\"-609.8\" font-family=\"Times,serif\" font-size=\"14.00\">St24</text>\n",
       "</g>\n",
       "<!-- St4 -->\n",
       "<g id=\"node30\" class=\"node\"><title>St4</title>\n",
       "<ellipse fill=\"none\" stroke=\"black\" cx=\"2144.71\" cy=\"-641\" rx=\"21.8229\" ry=\"21.8229\"/>\n",
       "<ellipse fill=\"none\" stroke=\"black\" cx=\"2144.71\" cy=\"-641\" rx=\"25.8081\" ry=\"25.8081\"/>\n",
       "<text text-anchor=\"middle\" x=\"2144.71\" y=\"-636.8\" font-family=\"Times,serif\" font-size=\"14.00\">St4</text>\n",
       "</g>\n",
       "<!-- St24&#45;&gt;St4 -->\n",
       "<g id=\"edge31\" class=\"edge\"><title>St24&#45;&gt;St4</title>\n",
       "<path fill=\"none\" stroke=\"black\" d=\"M2784.59,-619.775C2765.8,-623.632 2739.33,-628 2715.83,-628 2380.73,-628 2380.73,-628 2380.73,-628 2309.65,-628 2226.66,-634.002 2180.76,-637.85\"/>\n",
       "<polygon fill=\"black\" stroke=\"black\" points=\"2180.4,-634.368 2170.73,-638.706 2180.99,-641.342 2180.4,-634.368\"/>\n",
       "<text text-anchor=\"middle\" x=\"2477.38\" y=\"-630.8\" font-family=\"Times,serif\" font-size=\"14.00\">1</text>\n",
       "</g>\n",
       "<!-- St12 -->\n",
       "<g id=\"node31\" class=\"node\"><title>St12</title>\n",
       "<ellipse fill=\"none\" stroke=\"black\" cx=\"2910.13\" cy=\"-292\" rx=\"26.1751\" ry=\"26.1751\"/>\n",
       "<ellipse fill=\"none\" stroke=\"black\" cx=\"2910.13\" cy=\"-292\" rx=\"30.1522\" ry=\"30.1522\"/>\n",
       "<text text-anchor=\"middle\" x=\"2910.13\" y=\"-287.8\" font-family=\"Times,serif\" font-size=\"14.00\">St12</text>\n",
       "</g>\n",
       "<!-- St24&#45;&gt;St12 -->\n",
       "<g id=\"edge30\" class=\"edge\"><title>St24&#45;&gt;St12</title>\n",
       "<path fill=\"none\" stroke=\"black\" d=\"M2819.06,-589.001C2836.02,-533.063 2877.14,-397.476 2897.42,-330.604\"/>\n",
       "<polygon fill=\"black\" stroke=\"black\" points=\"2900.82,-331.454 2900.37,-320.869 2894.12,-329.423 2900.82,-331.454\"/>\n",
       "<text text-anchor=\"middle\" x=\"2858.3\" y=\"-465.8\" font-family=\"Times,serif\" font-size=\"14.00\">0</text>\n",
       "</g>\n",
       "<!-- St23&#45;&gt;St27 -->\n",
       "<g id=\"edge4\" class=\"edge\"><title>St23&#45;&gt;St27</title>\n",
       "<path fill=\"none\" stroke=\"black\" d=\"M222.956,-386.166C239.773,-339.658 276.042,-239.355 295.195,-186.384\"/>\n",
       "<polygon fill=\"black\" stroke=\"black\" points=\"298.566,-187.353 298.676,-176.759 291.984,-184.973 298.566,-187.353\"/>\n",
       "<text text-anchor=\"middle\" x=\"260.802\" y=\"-292.8\" font-family=\"Times,serif\" font-size=\"14.00\">0</text>\n",
       "</g>\n",
       "<!-- St23&#45;&gt;St19 -->\n",
       "<g id=\"edge5\" class=\"edge\"><title>St23&#45;&gt;St19</title>\n",
       "<path fill=\"none\" stroke=\"black\" d=\"M226.079,-434.314C241.323,-460.085 270.123,-498 307.628,-498 307.628,-498 307.628,-498 652.407,-498 839.384,-498 1062.27,-471.76 1147.49,-460.761\"/>\n",
       "<polygon fill=\"black\" stroke=\"black\" points=\"1148.19,-464.2 1157.65,-459.437 1147.28,-457.258 1148.19,-464.2\"/>\n",
       "<text text-anchor=\"middle\" x=\"699.233\" y=\"-500.8\" font-family=\"Times,serif\" font-size=\"14.00\">1</text>\n",
       "</g>\n",
       "<!-- St25&#45;&gt;St20 -->\n",
       "<g id=\"edge15\" class=\"edge\"><title>St25&#45;&gt;St20</title>\n",
       "<path fill=\"none\" stroke=\"black\" d=\"M1303.32,-602.862C1315.08,-609.015 1329.64,-616.634 1342.51,-623.366\"/>\n",
       "<polygon fill=\"black\" stroke=\"black\" points=\"1341.03,-626.543 1351.51,-628.078 1344.28,-620.341 1341.03,-626.543\"/>\n",
       "<text text-anchor=\"middle\" x=\"1327.47\" y=\"-619.8\" font-family=\"Times,serif\" font-size=\"14.00\">1</text>\n",
       "</g>\n",
       "<!-- St28 -->\n",
       "<g id=\"node14\" class=\"node\"><title>St28</title>\n",
       "<ellipse fill=\"none\" stroke=\"black\" cx=\"2429.56\" cy=\"-720\" rx=\"26.1523\" ry=\"26.1523\"/>\n",
       "<text text-anchor=\"middle\" x=\"2429.56\" y=\"-715.8\" font-family=\"Times,serif\" font-size=\"14.00\">St28</text>\n",
       "</g>\n",
       "<!-- St25&#45;&gt;St28 -->\n",
       "<g id=\"edge14\" class=\"edge\"><title>St25&#45;&gt;St28</title>\n",
       "<path fill=\"none\" stroke=\"black\" d=\"M1282.21,-617.219C1286.8,-667.821 1304.71,-774 1374.3,-774 1374.3,-774 1374.3,-774 2335.33,-774 2360.41,-774 2384.79,-759.191 2402.32,-745.083\"/>\n",
       "<polygon fill=\"black\" stroke=\"black\" points=\"2404.98,-747.415 2410.35,-738.282 2400.46,-742.073 2404.98,-747.415\"/>\n",
       "<text text-anchor=\"middle\" x=\"1859.87\" y=\"-776.8\" font-family=\"Times,serif\" font-size=\"14.00\">0</text>\n",
       "</g>\n",
       "<!-- St14 -->\n",
       "<g id=\"node23\" class=\"node\"><title>St14</title>\n",
       "<ellipse fill=\"none\" stroke=\"black\" cx=\"3013.78\" cy=\"-194\" rx=\"26.1751\" ry=\"26.1751\"/>\n",
       "<ellipse fill=\"none\" stroke=\"black\" cx=\"3013.78\" cy=\"-194\" rx=\"30.1522\" ry=\"30.1522\"/>\n",
       "<text text-anchor=\"middle\" x=\"3013.78\" y=\"-189.8\" font-family=\"Times,serif\" font-size=\"14.00\">St14</text>\n",
       "</g>\n",
       "<!-- St28&#45;&gt;St14 -->\n",
       "<g id=\"edge26\" class=\"edge\"><title>St28&#45;&gt;St14</title>\n",
       "<path fill=\"none\" stroke=\"black\" d=\"M2455.87,-718.327C2474.61,-717.231 2500.78,-716 2523.79,-716 2523.79,-716 2523.79,-716 2911.13,-716 3009.03,-716 3014.48,-357.784 3013.47,-234.84\"/>\n",
       "<polygon fill=\"black\" stroke=\"black\" points=\"3016.97,-234.669 3013.37,-224.705 3009.97,-234.74 3016.97,-234.669\"/>\n",
       "<text text-anchor=\"middle\" x=\"2714.83\" y=\"-718.8\" font-family=\"Times,serif\" font-size=\"14.00\">0</text>\n",
       "</g>\n",
       "<!-- St6 -->\n",
       "<g id=\"node26\" class=\"node\"><title>St6</title>\n",
       "<ellipse fill=\"none\" stroke=\"black\" cx=\"2524.79\" cy=\"-242\" rx=\"21.8229\" ry=\"21.8229\"/>\n",
       "<ellipse fill=\"none\" stroke=\"black\" cx=\"2524.79\" cy=\"-242\" rx=\"25.8081\" ry=\"25.8081\"/>\n",
       "<text text-anchor=\"middle\" x=\"2524.79\" y=\"-237.8\" font-family=\"Times,serif\" font-size=\"14.00\">St6</text>\n",
       "</g>\n",
       "<!-- St28&#45;&gt;St6 -->\n",
       "<g id=\"edge27\" class=\"edge\"><title>St28&#45;&gt;St6</title>\n",
       "<path fill=\"none\" stroke=\"black\" d=\"M2435.57,-694.301C2451.19,-614.197 2499.03,-368.936 2516.93,-277.156\"/>\n",
       "<polygon fill=\"black\" stroke=\"black\" points=\"2520.39,-277.731 2518.86,-267.246 2513.51,-276.391 2520.39,-277.731\"/>\n",
       "<text text-anchor=\"middle\" x=\"2477.38\" y=\"-498.8\" font-family=\"Times,serif\" font-size=\"14.00\">1</text>\n",
       "</g>\n",
       "<!-- St29&#45;&gt;St22 -->\n",
       "<g id=\"edge11\" class=\"edge\"><title>St29&#45;&gt;St22</title>\n",
       "<path fill=\"none\" stroke=\"black\" d=\"M883.706,-122.244C871.63,-140.697 852.086,-166.223 828.562,-181 800.359,-198.717 763.011,-206.949 735.882,-210.758\"/>\n",
       "<polygon fill=\"black\" stroke=\"black\" points=\"735.145,-207.323 725.664,-212.053 736.025,-214.268 735.145,-207.323\"/>\n",
       "<text text-anchor=\"middle\" x=\"798.56\" y=\"-207.8\" font-family=\"Times,serif\" font-size=\"14.00\">1</text>\n",
       "</g>\n",
       "<!-- St29&#45;&gt;St30 -->\n",
       "<g id=\"edge10\" class=\"edge\"><title>St29&#45;&gt;St30</title>\n",
       "<path fill=\"none\" stroke=\"black\" d=\"M924.478,-100C934.492,-100 946.15,-100 956.958,-100\"/>\n",
       "<polygon fill=\"black\" stroke=\"black\" points=\"956.979,-103.5 966.979,-100 956.979,-96.5001 956.979,-103.5\"/>\n",
       "<text text-anchor=\"middle\" x=\"945.713\" y=\"-102.8\" font-family=\"Times,serif\" font-size=\"14.00\">0</text>\n",
       "</g>\n",
       "<!-- St17&#45;&gt;St16 -->\n",
       "<g id=\"edge17\" class=\"edge\"><title>St17&#45;&gt;St16</title>\n",
       "<path fill=\"none\" stroke=\"black\" d=\"M2691.66,-328.799C2651.34,-351.179 2562.61,-396.344 2480.88,-410 2349.47,-431.959 2326.35,-326 2193.12,-326 1954.1,-326 1954.1,-326 1954.1,-326 1925.43,-326 1899.81,-347.344 1882.72,-366.29\"/>\n",
       "<polygon fill=\"black\" stroke=\"black\" points=\"1880.02,-364.059 1876.15,-373.923 1885.33,-368.624 1880.02,-364.059\"/>\n",
       "<text text-anchor=\"middle\" x=\"2286.93\" y=\"-351.8\" font-family=\"Times,serif\" font-size=\"14.00\">1</text>\n",
       "</g>\n",
       "<!-- St17&#45;&gt;St24 -->\n",
       "<g id=\"edge16\" class=\"edge\"><title>St17&#45;&gt;St24</title>\n",
       "<path fill=\"none\" stroke=\"black\" d=\"M2723.65,-340.895C2740.31,-393.921 2779.35,-518.132 2798.49,-579.055\"/>\n",
       "<polygon fill=\"black\" stroke=\"black\" points=\"2795.27,-580.476 2801.61,-588.967 2801.95,-578.377 2795.27,-580.476\"/>\n",
       "<text text-anchor=\"middle\" x=\"2762.65\" y=\"-476.8\" font-family=\"Times,serif\" font-size=\"14.00\">0</text>\n",
       "</g>\n",
       "<!-- St1 -->\n",
       "<g id=\"node20\" class=\"node\"><title>St1</title>\n",
       "<ellipse fill=\"none\" stroke=\"black\" cx=\"1764.64\" cy=\"-570\" rx=\"21.8229\" ry=\"21.8229\"/>\n",
       "<ellipse fill=\"none\" stroke=\"black\" cx=\"1764.64\" cy=\"-570\" rx=\"25.8081\" ry=\"25.8081\"/>\n",
       "<text text-anchor=\"middle\" x=\"1764.64\" y=\"-565.8\" font-family=\"Times,serif\" font-size=\"14.00\">St1</text>\n",
       "</g>\n",
       "<!-- St18&#45;&gt;St1 -->\n",
       "<g id=\"edge25\" class=\"edge\"><title>St18&#45;&gt;St1</title>\n",
       "<path fill=\"none\" stroke=\"black\" d=\"M1692.5,-528.797C1704.58,-535.791 1719.72,-544.563 1732.93,-552.213\"/>\n",
       "<polygon fill=\"black\" stroke=\"black\" points=\"1731.3,-555.311 1741.7,-557.295 1734.81,-549.254 1731.3,-555.311\"/>\n",
       "<text text-anchor=\"middle\" x=\"1717.24\" y=\"-547.8\" font-family=\"Times,serif\" font-size=\"14.00\">1</text>\n",
       "</g>\n",
       "<!-- St9 -->\n",
       "<g id=\"node29\" class=\"node\"><title>St9</title>\n",
       "<ellipse fill=\"none\" stroke=\"black\" cx=\"2334.33\" cy=\"-720\" rx=\"21.8229\" ry=\"21.8229\"/>\n",
       "<ellipse fill=\"none\" stroke=\"black\" cx=\"2334.33\" cy=\"-720\" rx=\"25.8081\" ry=\"25.8081\"/>\n",
       "<text text-anchor=\"middle\" x=\"2334.33\" y=\"-715.8\" font-family=\"Times,serif\" font-size=\"14.00\">St9</text>\n",
       "</g>\n",
       "<!-- St18&#45;&gt;St9 -->\n",
       "<g id=\"edge24\" class=\"edge\"><title>St18&#45;&gt;St9</title>\n",
       "<path fill=\"none\" stroke=\"black\" d=\"M1696.13,-516C1714.85,-516 1740.82,-516 1763.64,-516 1763.64,-516 1763.64,-516 1908.69,-516 1988.37,-516 2202.41,-503.244 2265.43,-552 2306.77,-583.986 2323.05,-645.221 2329.38,-684.264\"/>\n",
       "<polygon fill=\"black\" stroke=\"black\" points=\"2325.92,-684.786 2330.86,-694.162 2332.85,-683.756 2325.92,-684.786\"/>\n",
       "<text text-anchor=\"middle\" x=\"2002.5\" y=\"-517.8\" font-family=\"Times,serif\" font-size=\"14.00\">0</text>\n",
       "</g>\n",
       "<!-- St10&#45;&gt;St13 -->\n",
       "<g id=\"edge54\" class=\"edge\"><title>St10&#45;&gt;St13</title>\n",
       "<path fill=\"none\" stroke=\"black\" d=\"M1445.13,-708.168C1400.21,-697.918 1312.51,-673.146 1253.32,-626 1140.7,-536.29 1174.16,-441.376 1044.86,-378 1024.76,-368.147 1016.92,-376 994.539,-376 698.233,-376 698.233,-376 698.233,-376 677.604,-376 655.381,-370.333 637.354,-364.192\"/>\n",
       "<polygon fill=\"black\" stroke=\"black\" points=\"638.402,-360.849 627.808,-360.764 636.037,-367.438 638.402,-360.849\"/>\n",
       "<text text-anchor=\"middle\" x=\"1041.36\" y=\"-380.8\" font-family=\"Times,serif\" font-size=\"14.00\">0</text>\n",
       "</g>\n",
       "<!-- St10&#45;&gt;St5 -->\n",
       "<g id=\"edge55\" class=\"edge\"><title>St10&#45;&gt;St5</title>\n",
       "<path fill=\"none\" stroke=\"black\" d=\"M1489.27,-686.884C1507.01,-650.758 1538.35,-586.924 1557.3,-548.334\"/>\n",
       "<polygon fill=\"black\" stroke=\"black\" points=\"1560.57,-549.618 1561.84,-539.099 1554.29,-546.533 1560.57,-549.618\"/>\n",
       "<text text-anchor=\"middle\" x=\"1526.78\" y=\"-617.8\" font-family=\"Times,serif\" font-size=\"14.00\">1</text>\n",
       "</g>\n",
       "<!-- St11&#45;&gt;St21 -->\n",
       "<g id=\"edge39\" class=\"edge\"><title>St11&#45;&gt;St21</title>\n",
       "<path fill=\"none\" stroke=\"black\" d=\"M768.173,-142.459C748.863,-142.722 723.045,-143 700.233,-143 498.93,-143 498.93,-143 498.93,-143 470.176,-143 444.437,-164.344 427.254,-183.29\"/>\n",
       "<polygon fill=\"black\" stroke=\"black\" points=\"424.547,-181.069 420.653,-190.923 429.842,-185.648 424.547,-181.069\"/>\n",
       "<text text-anchor=\"middle\" x=\"599.582\" y=\"-145.8\" font-family=\"Times,serif\" font-size=\"14.00\">1</text>\n",
       "</g>\n",
       "<!-- St11&#45;&gt;St29 -->\n",
       "<g id=\"edge38\" class=\"edge\"><title>St11&#45;&gt;St29</title>\n",
       "<path fill=\"none\" stroke=\"black\" d=\"M826.413,-130.412C838.045,-125.392 851.774,-119.468 864.009,-114.188\"/>\n",
       "<polygon fill=\"black\" stroke=\"black\" points=\"865.638,-117.297 873.433,-110.121 862.865,-110.87 865.638,-117.297\"/>\n",
       "<text text-anchor=\"middle\" x=\"850.062\" y=\"-123.8\" font-family=\"Times,serif\" font-size=\"14.00\">0</text>\n",
       "</g>\n",
       "<!-- St1&#45;&gt;St16 -->\n",
       "<g id=\"edge49\" class=\"edge\"><title>St1&#45;&gt;St16</title>\n",
       "<path fill=\"none\" stroke=\"black\" d=\"M1777.64,-547.48C1793.98,-516.804 1823.33,-461.716 1841.91,-426.827\"/>\n",
       "<polygon fill=\"black\" stroke=\"black\" points=\"1845.01,-428.461 1846.62,-417.989 1838.83,-425.169 1845.01,-428.461\"/>\n",
       "<text text-anchor=\"middle\" x=\"1812.04\" y=\"-490.8\" font-family=\"Times,serif\" font-size=\"14.00\">1</text>\n",
       "</g>\n",
       "<!-- St1&#45;&gt;St24 -->\n",
       "<g id=\"edge48\" class=\"edge\"><title>St1&#45;&gt;St24</title>\n",
       "<path fill=\"none\" stroke=\"black\" d=\"M1789.42,-578.821C1808.05,-584.942 1834.76,-592 1858.87,-592 1858.87,-592 1858.87,-592 2003.5,-592 2066.91,-592 2058.52,-656.369 2118.81,-676 2140.7,-683.129 2147.62,-677.22 2170.62,-676 2224.06,-673.166 2236.93,-662.754 2290.43,-664 2309.51,-664.445 2314.24,-666 2333.33,-666 2333.33,-666 2333.33,-666 2715.83,-666 2740.6,-666 2764.95,-651.922 2782.6,-638.416\"/>\n",
       "<polygon fill=\"black\" stroke=\"black\" points=\"2785.11,-640.891 2790.71,-631.895 2780.72,-635.437 2785.11,-640.891\"/>\n",
       "<text text-anchor=\"middle\" x=\"2286.93\" y=\"-666.8\" font-family=\"Times,serif\" font-size=\"14.00\">0</text>\n",
       "</g>\n",
       "<!-- St13&#45;&gt;St22 -->\n",
       "<g id=\"edge43\" class=\"edge\"><title>St13&#45;&gt;St22</title>\n",
       "<path fill=\"none\" stroke=\"black\" d=\"M618.04,-324.865C634.528,-302.07 659.294,-267.832 676.936,-243.442\"/>\n",
       "<polygon fill=\"black\" stroke=\"black\" points=\"679.829,-245.415 682.854,-235.261 674.157,-241.312 679.829,-245.415\"/>\n",
       "<text text-anchor=\"middle\" x=\"651.407\" y=\"-284.8\" font-family=\"Times,serif\" font-size=\"14.00\">1</text>\n",
       "</g>\n",
       "<!-- St13&#45;&gt;St30 -->\n",
       "<g id=\"edge42\" class=\"edge\"><title>St13&#45;&gt;St30</title>\n",
       "<path fill=\"none\" stroke=\"black\" d=\"M628.402,-338.848C654.247,-328.985 693.463,-312.909 725.558,-295 819.18,-242.76 918.313,-162.942 965.074,-123.599\"/>\n",
       "<polygon fill=\"black\" stroke=\"black\" points=\"967.543,-126.095 972.918,-116.965 963.023,-120.751 967.543,-126.095\"/>\n",
       "<text text-anchor=\"middle\" x=\"798.56\" y=\"-272.8\" font-family=\"Times,serif\" font-size=\"14.00\">0</text>\n",
       "</g>\n",
       "<!-- St7&#45;&gt;St27 -->\n",
       "<g id=\"edge36\" class=\"edge\"><title>St7&#45;&gt;St27</title>\n",
       "<path fill=\"none\" stroke=\"black\" d=\"M1063.24,-158.022C1016.9,-166.108 915,-177.067 846.562,-134 833.078,-125.515 842.115,-111.376 828.562,-103 761.833,-61.7617 730.851,-92 652.407,-92 403.279,-92 403.279,-92 403.279,-92 376.655,-92 351.543,-109.406 334.037,-125.468\"/>\n",
       "<polygon fill=\"black\" stroke=\"black\" points=\"331.321,-123.225 326.552,-132.685 336.18,-128.264 331.321,-123.225\"/>\n",
       "<text text-anchor=\"middle\" x=\"699.233\" y=\"-94.8\" font-family=\"Times,serif\" font-size=\"14.00\">0</text>\n",
       "</g>\n",
       "<!-- St7&#45;&gt;St19 -->\n",
       "<g id=\"edge37\" class=\"edge\"><title>St7&#45;&gt;St19</title>\n",
       "<path fill=\"none\" stroke=\"black\" d=\"M1097.32,-177.539C1113.83,-231.189 1153.17,-359.07 1172.25,-421.085\"/>\n",
       "<polygon fill=\"black\" stroke=\"black\" points=\"1168.96,-422.278 1175.25,-430.806 1175.65,-420.219 1168.96,-422.278\"/>\n",
       "<text text-anchor=\"middle\" x=\"1136.17\" y=\"-316.8\" font-family=\"Times,serif\" font-size=\"14.00\">1</text>\n",
       "</g>\n",
       "<!-- St14&#45;&gt;St7 -->\n",
       "<g id=\"edge51\" class=\"edge\"><title>St14&#45;&gt;St7</title>\n",
       "<path fill=\"none\" stroke=\"black\" d=\"M2988.56,-176.862C2968.72,-164.508 2939.4,-150 2911.13,-150 1183,-150 1183,-150 1183,-150 1163.82,-150 1142.44,-150.642 1124.99,-151.332\"/>\n",
       "<polygon fill=\"black\" stroke=\"black\" points=\"1124.54,-147.848 1114.69,-151.762 1124.83,-154.842 1124.54,-147.848\"/>\n",
       "<text text-anchor=\"middle\" x=\"2049.91\" y=\"-152.8\" font-family=\"Times,serif\" font-size=\"14.00\">1</text>\n",
       "</g>\n",
       "<!-- St14&#45;&gt;St15 -->\n",
       "<g id=\"edge50\" class=\"edge\"><title>St14&#45;&gt;St15</title>\n",
       "<path fill=\"none\" stroke=\"black\" d=\"M3036.59,-173.835C3051.32,-160.205 3070.96,-142.047 3087.07,-127.149\"/>\n",
       "<polygon fill=\"black\" stroke=\"black\" points=\"3089.69,-129.491 3094.66,-120.132 3084.94,-124.352 3089.69,-129.491\"/>\n",
       "<text text-anchor=\"middle\" x=\"3065.6\" y=\"-152.8\" font-family=\"Times,serif\" font-size=\"14.00\">0</text>\n",
       "</g>\n",
       "<!-- St8&#45;&gt;St4 -->\n",
       "<g id=\"edge63\" class=\"edge\"><title>St8&#45;&gt;St4</title>\n",
       "<path fill=\"none\" stroke=\"black\" d=\"M2060.32,-428.928C2076.96,-471.245 2111.61,-559.368 2130.59,-607.63\"/>\n",
       "<polygon fill=\"black\" stroke=\"black\" points=\"2127.36,-608.984 2134.28,-617.009 2133.88,-606.422 2127.36,-608.984\"/>\n",
       "<text text-anchor=\"middle\" x=\"2097.31\" y=\"-533.8\" font-family=\"Times,serif\" font-size=\"14.00\">1</text>\n",
       "</g>\n",
       "<!-- St8&#45;&gt;St12 -->\n",
       "<g id=\"edge62\" class=\"edge\"><title>St8&#45;&gt;St12</title>\n",
       "<path fill=\"none\" stroke=\"black\" d=\"M2075.78,-402.299C2150.6,-394.418 2380.22,-372 2571.19,-372 2571.19,-372 2571.19,-372 2811.48,-372 2842.57,-372 2869.19,-347.429 2886.75,-325.522\"/>\n",
       "<polygon fill=\"black\" stroke=\"black\" points=\"2889.73,-327.383 2893.02,-317.312 2884.17,-323.132 2889.73,-327.383\"/>\n",
       "<text text-anchor=\"middle\" x=\"2477.38\" y=\"-376.8\" font-family=\"Times,serif\" font-size=\"14.00\">0</text>\n",
       "</g>\n",
       "<!-- St5&#45;&gt;St26 -->\n",
       "<g id=\"edge44\" class=\"edge\"><title>St5&#45;&gt;St26</title>\n",
       "<path fill=\"none\" stroke=\"black\" d=\"M1548,-516C1528.37,-516 1500.43,-516 1475.95,-516 1135.17,-516 1135.17,-516 1135.17,-516 1040.13,-516 1018.07,-495.925 924.213,-481 766.619,-455.941 723.229,-468.908 569.256,-427 557.709,-423.857 554.336,-423.449 544.256,-417 537.779,-412.856 531.414,-407.667 525.642,-402.387\"/>\n",
       "<polygon fill=\"black\" stroke=\"black\" points=\"527.819,-399.625 518.183,-395.222 522.97,-404.674 527.819,-399.625\"/>\n",
       "<text text-anchor=\"middle\" x=\"1041.36\" y=\"-510.8\" font-family=\"Times,serif\" font-size=\"14.00\">0</text>\n",
       "</g>\n",
       "<!-- St5&#45;&gt;St18 -->\n",
       "<g id=\"edge45\" class=\"edge\"><title>St5&#45;&gt;St18</title>\n",
       "<path fill=\"none\" stroke=\"black\" d=\"M1600.16,-516C1610.22,-516 1622,-516 1632.92,-516\"/>\n",
       "<polygon fill=\"black\" stroke=\"black\" points=\"1633.03,-519.5 1643.03,-516 1633.03,-512.5 1633.03,-519.5\"/>\n",
       "<text text-anchor=\"middle\" x=\"1621.58\" y=\"-518.8\" font-family=\"Times,serif\" font-size=\"14.00\">1</text>\n",
       "</g>\n",
       "<!-- St6&#45;&gt;St11 -->\n",
       "<g id=\"edge52\" class=\"edge\"><title>St6&#45;&gt;St11</title>\n",
       "<path fill=\"none\" stroke=\"black\" d=\"M2518.75,-216.689C2509.18,-176.849 2484.34,-104 2430.56,-104 1525.78,-104 1525.78,-104 1525.78,-104 1392.95,-104 1359.72,-94.4286 1228.32,-75 1144.96,-62.6742 1126.63,-38 1042.36,-38 896.887,-38 896.887,-38 896.887,-38 858.902,-38 831.459,-75.4446 815.584,-105.397\"/>\n",
       "<polygon fill=\"black\" stroke=\"black\" points=\"812.42,-103.9 811.03,-114.403 818.666,-107.059 812.42,-103.9\"/>\n",
       "<text text-anchor=\"middle\" x=\"1669.41\" y=\"-106.8\" font-family=\"Times,serif\" font-size=\"14.00\">0</text>\n",
       "</g>\n",
       "<!-- St6&#45;&gt;St3 -->\n",
       "<g id=\"edge53\" class=\"edge\"><title>St6&#45;&gt;St3</title>\n",
       "<path fill=\"none\" stroke=\"black\" d=\"M2549.01,-252.253C2557.73,-256.568 2567.5,-261.986 2575.69,-268 2582.27,-272.828 2588.78,-278.663 2594.68,-284.457\"/>\n",
       "<polygon fill=\"black\" stroke=\"black\" points=\"2592.27,-287.002 2601.77,-291.695 2597.27,-282.103 2592.27,-287.002\"/>\n",
       "<text text-anchor=\"middle\" x=\"2572.19\" y=\"-270.8\" font-family=\"Times,serif\" font-size=\"14.00\">1</text>\n",
       "</g>\n",
       "<!-- St15&#45;&gt;St31 -->\n",
       "<g id=\"edge34\" class=\"edge\"><title>St15&#45;&gt;St31</title>\n",
       "<path fill=\"none\" stroke=\"black\" d=\"M3103.54,-72.9386C3087.33,-43.3231 3056.49,-0 3014.78,-0 211.977,-0 211.977,-0 211.977,-0 171.129,-0 144.475,-44.4544 130.41,-77.0979\"/>\n",
       "<polygon fill=\"black\" stroke=\"black\" points=\"127.165,-75.7852 126.611,-86.3655 133.642,-78.4403 127.165,-75.7852\"/>\n",
       "<text text-anchor=\"middle\" x=\"1621.58\" y=\"-2.8\" font-family=\"Times,serif\" font-size=\"14.00\">0</text>\n",
       "</g>\n",
       "<!-- St15&#45;&gt;St23 -->\n",
       "<g id=\"edge35\" class=\"edge\"><title>St15&#45;&gt;St23</title>\n",
       "<path fill=\"none\" stroke=\"black\" d=\"M3115.39,-130.478C3110.33,-267.519 3085.55,-820 3014.78,-820 307.628,-820 307.628,-820 307.628,-820 231.634,-820 217.305,-548.313 214.604,-447.804\"/>\n",
       "<polygon fill=\"black\" stroke=\"black\" points=\"218.096,-447.432 214.352,-437.52 211.098,-447.603 218.096,-447.432\"/>\n",
       "<text text-anchor=\"middle\" x=\"1669.41\" y=\"-822.8\" font-family=\"Times,serif\" font-size=\"14.00\">1</text>\n",
       "</g>\n",
       "<!-- St2&#45;&gt;St1 -->\n",
       "<g id=\"edge57\" class=\"edge\"><title>St2&#45;&gt;St1</title>\n",
       "<path fill=\"none\" stroke=\"black\" d=\"M2215.82,-575.892C2209.43,-573.203 2202.37,-570.635 2195.62,-569 2112.38,-548.843 2089.15,-554 2003.5,-554 1858.87,-554 1858.87,-554 1858.87,-554 1839.1,-554 1817.31,-557.538 1799.77,-561.286\"/>\n",
       "<polygon fill=\"black\" stroke=\"black\" points=\"1798.97,-557.879 1789.98,-563.492 1800.51,-564.708 1798.97,-557.879\"/>\n",
       "<text text-anchor=\"middle\" x=\"2002.5\" y=\"-556.8\" font-family=\"Times,serif\" font-size=\"14.00\">1</text>\n",
       "</g>\n",
       "<!-- St2&#45;&gt;St9 -->\n",
       "<g id=\"edge56\" class=\"edge\"><title>St2&#45;&gt;St9</title>\n",
       "<path fill=\"none\" stroke=\"black\" d=\"M2247.94,-611.857C2254.86,-632.179 2266.64,-660.9 2283.43,-682 2289.03,-689.043 2296.22,-695.5 2303.38,-701.014\"/>\n",
       "<polygon fill=\"black\" stroke=\"black\" points=\"2301.53,-703.998 2311.69,-707.034 2305.64,-698.331 2301.53,-703.998\"/>\n",
       "<text text-anchor=\"middle\" x=\"2286.93\" y=\"-692.8\" font-family=\"Times,serif\" font-size=\"14.00\">0</text>\n",
       "</g>\n",
       "<!-- St9&#45;&gt;St20 -->\n",
       "<g id=\"edge47\" class=\"edge\"><title>St9&#45;&gt;St20</title>\n",
       "<path fill=\"none\" stroke=\"black\" d=\"M2308.64,-725.363C2290.02,-728.944 2263.79,-733 2240.52,-733 2096.31,-733 2096.31,-733 2096.31,-733 2001.49,-733 1980.06,-709.405 1886.19,-696 1708.62,-670.641 1494.82,-650.52 1411.73,-643.093\"/>\n",
       "<polygon fill=\"black\" stroke=\"black\" points=\"1411.84,-639.589 1401.57,-642.19 1411.22,-646.562 1411.84,-639.589\"/>\n",
       "<text text-anchor=\"middle\" x=\"1859.87\" y=\"-698.8\" font-family=\"Times,serif\" font-size=\"14.00\">1</text>\n",
       "</g>\n",
       "<!-- St9&#45;&gt;St28 -->\n",
       "<g id=\"edge46\" class=\"edge\"><title>St9&#45;&gt;St28</title>\n",
       "<path fill=\"none\" stroke=\"black\" d=\"M2360.31,-720C2370.37,-720 2382.15,-720 2393.06,-720\"/>\n",
       "<polygon fill=\"black\" stroke=\"black\" points=\"2393.18,-723.5 2403.18,-720 2393.18,-716.5 2393.18,-723.5\"/>\n",
       "<text text-anchor=\"middle\" x=\"2381.73\" y=\"-722.8\" font-family=\"Times,serif\" font-size=\"14.00\">0</text>\n",
       "</g>\n",
       "<!-- St4&#45;&gt;St10 -->\n",
       "<g id=\"edge60\" class=\"edge\"><title>St4&#45;&gt;St10</title>\n",
       "<path fill=\"none\" stroke=\"black\" d=\"M2120.49,-650.288C2067.12,-670.768 1931.23,-718 1813.04,-718 1573.18,-718 1573.18,-718 1573.18,-718 1554.29,-718 1533.36,-717.237 1515.77,-716.378\"/>\n",
       "<polygon fill=\"black\" stroke=\"black\" points=\"1515.46,-712.857 1505.3,-715.836 1515.1,-719.848 1515.46,-712.857\"/>\n",
       "<text text-anchor=\"middle\" x=\"1812.04\" y=\"-720.8\" font-family=\"Times,serif\" font-size=\"14.00\">0</text>\n",
       "</g>\n",
       "<!-- St4&#45;&gt;St2 -->\n",
       "<g id=\"edge61\" class=\"edge\"><title>St4&#45;&gt;St2</title>\n",
       "<path fill=\"none\" stroke=\"black\" d=\"M2167.71,-628.203C2179.73,-621.209 2194.8,-612.437 2207.95,-604.787\"/>\n",
       "<polygon fill=\"black\" stroke=\"black\" points=\"2209.8,-607.76 2216.69,-599.705 2206.28,-601.709 2209.8,-607.76\"/>\n",
       "<text text-anchor=\"middle\" x=\"2192.12\" y=\"-618.8\" font-family=\"Times,serif\" font-size=\"14.00\">1</text>\n",
       "</g>\n",
       "<!-- St12&#45;&gt;St14 -->\n",
       "<g id=\"edge58\" class=\"edge\"><title>St12&#45;&gt;St14</title>\n",
       "<path fill=\"none\" stroke=\"black\" d=\"M2932.69,-271.217C2947.64,-256.795 2967.74,-237.425 2984.05,-221.694\"/>\n",
       "<polygon fill=\"black\" stroke=\"black\" points=\"2986.48,-224.214 2991.25,-214.753 2981.62,-219.174 2986.48,-224.214\"/>\n",
       "<text text-anchor=\"middle\" x=\"2961.95\" y=\"-248.8\" font-family=\"Times,serif\" font-size=\"14.00\">0</text>\n",
       "</g>\n",
       "<!-- St12&#45;&gt;St6 -->\n",
       "<g id=\"edge59\" class=\"edge\"><title>St12&#45;&gt;St6</title>\n",
       "<path fill=\"none\" stroke=\"black\" d=\"M2892.95,-267.004C2875.79,-243.859 2846.37,-213 2811.48,-213 2618.6,-213 2618.6,-213 2618.6,-213 2597.66,-213 2575.22,-219.807 2557.66,-226.826\"/>\n",
       "<polygon fill=\"black\" stroke=\"black\" points=\"2556.3,-223.6 2548.44,-230.705 2559.01,-230.052 2556.3,-223.6\"/>\n",
       "<text text-anchor=\"middle\" x=\"2714.83\" y=\"-215.8\" font-family=\"Times,serif\" font-size=\"14.00\">1</text>\n",
       "</g>\n",
       "<!-- St3&#45;&gt;St25 -->\n",
       "<g id=\"edge40\" class=\"edge\"><title>St3&#45;&gt;St25</title>\n",
       "<path fill=\"none\" stroke=\"black\" d=\"M2593.57,-310.826C2470.78,-309.979 1937.51,-306.397 1929.19,-308 1675.25,-356.946 1400.39,-516.77 1310.74,-572.012\"/>\n",
       "<polygon fill=\"black\" stroke=\"black\" points=\"1308.82,-569.082 1302.17,-577.325 1312.51,-575.032 1308.82,-569.082\"/>\n",
       "<text text-anchor=\"middle\" x=\"1955.1\" y=\"-310.8\" font-family=\"Times,serif\" font-size=\"14.00\">0</text>\n",
       "</g>\n",
       "<!-- St3&#45;&gt;St17 -->\n",
       "<g id=\"edge41\" class=\"edge\"><title>St3&#45;&gt;St17</title>\n",
       "<path fill=\"none\" stroke=\"black\" d=\"M2645.58,-312.34C2655.63,-312.879 2667.42,-313.511 2678.33,-314.096\"/>\n",
       "<polygon fill=\"black\" stroke=\"black\" points=\"2678.28,-317.598 2688.45,-314.639 2678.65,-310.608 2678.28,-317.598\"/>\n",
       "<text text-anchor=\"middle\" x=\"2667\" y=\"-316.8\" font-family=\"Times,serif\" font-size=\"14.00\">1</text>\n",
       "</g>\n",
       "<!-- St0&#45;&gt;St8 -->\n",
       "<g id=\"edge64\" class=\"edge\"><title>St0&#45;&gt;St8</title>\n",
       "<path fill=\"none\" stroke=\"black\" d=\"M1980.48,-423.432C1991.03,-420.589 2003.56,-417.215 2015,-414.135\"/>\n",
       "<polygon fill=\"black\" stroke=\"black\" points=\"2015.94,-417.505 2024.68,-411.525 2014.12,-410.746 2015.94,-417.505\"/>\n",
       "<text text-anchor=\"middle\" x=\"2002.5\" y=\"-421.8\" font-family=\"Times,serif\" font-size=\"14.00\">0</text>\n",
       "</g>\n",
       "<!-- St0&#45;&gt;St0 -->\n",
       "<g id=\"edge65\" class=\"edge\"><title>St0&#45;&gt;St0</title>\n",
       "<path fill=\"none\" stroke=\"black\" d=\"M1946.55,-454.824C1945.96,-465.15 1948.81,-473.904 1955.1,-473.904 1959.13,-473.904 1961.74,-470.311 1962.95,-465.014\"/>\n",
       "<polygon fill=\"black\" stroke=\"black\" points=\"1966.46,-465.039 1963.65,-454.824 1959.47,-464.562 1966.46,-465.039\"/>\n",
       "<text text-anchor=\"middle\" x=\"1955.1\" y=\"-476.704\" font-family=\"Times,serif\" font-size=\"14.00\">1</text>\n",
       "</g>\n",
       "</g>\n",
       "</svg>\n"
      ],
      "text/plain": [
       "<graphviz.dot.Digraph at 0x102fc6ba8>"
      ]
     },
     "execution_count": 10,
     "metadata": {},
     "output_type": "execute_result"
    }
   ],
   "source": [
    "dotObj_dfa(min_dfa(nfa2dfa(fifthlast)))"
   ]
  },
  {
   "cell_type": "code",
   "execution_count": 11,
   "metadata": {
    "run_control": {
     "frozen": false,
     "read_only": false
    }
   },
   "outputs": [
    {
     "data": {
      "text/plain": [
       "4"
      ]
     },
     "execution_count": 11,
     "metadata": {},
     "output_type": "execute_result"
    }
   ],
   "source": [
    "len(min_dfa(nfa2dfa(secondlast))[\"Q\"])"
   ]
  },
  {
   "cell_type": "code",
   "execution_count": 12,
   "metadata": {
    "run_control": {
     "frozen": false,
     "read_only": false
    }
   },
   "outputs": [
    {
     "data": {
      "text/plain": [
       "8"
      ]
     },
     "execution_count": 12,
     "metadata": {},
     "output_type": "execute_result"
    }
   ],
   "source": [
    "len(min_dfa(nfa2dfa(thirdlast))[\"Q\"])"
   ]
  },
  {
   "cell_type": "code",
   "execution_count": 13,
   "metadata": {
    "run_control": {
     "frozen": false,
     "read_only": false
    }
   },
   "outputs": [
    {
     "data": {
      "text/plain": [
       "16"
      ]
     },
     "execution_count": 13,
     "metadata": {},
     "output_type": "execute_result"
    }
   ],
   "source": [
    "len(min_dfa(nfa2dfa(fourthlast))[\"Q\"])"
   ]
  },
  {
   "cell_type": "code",
   "execution_count": 14,
   "metadata": {
    "run_control": {
     "frozen": false,
     "read_only": false
    }
   },
   "outputs": [
    {
     "data": {
      "text/plain": [
       "32"
      ]
     },
     "execution_count": 14,
     "metadata": {},
     "output_type": "execute_result"
    }
   ],
   "source": [
    "len(min_dfa(nfa2dfa(fifthlast))[\"Q\"])"
   ]
  },
  {
   "cell_type": "markdown",
   "metadata": {
    "run_control": {
     "frozen": false,
     "read_only": false
    }
   },
   "source": [
    "## Clear evidence of exponential blowup!"
   ]
  },
  {
   "cell_type": "markdown",
   "metadata": {
    "run_control": {
     "frozen": false,
     "read_only": false
    }
   },
   "source": [
    "### Another problem with DFA : No natural way to specify many languages"
   ]
  },
  {
   "cell_type": "code",
   "execution_count": 15,
   "metadata": {
    "run_control": {
     "frozen": false,
     "read_only": false
    }
   },
   "outputs": [
    {
     "data": {
      "image/svg+xml": [
       "<?xml version=\"1.0\" encoding=\"UTF-8\" standalone=\"no\"?>\n",
       "<!DOCTYPE svg PUBLIC \"-//W3C//DTD SVG 1.1//EN\"\n",
       " \"http://www.w3.org/Graphics/SVG/1.1/DTD/svg11.dtd\">\n",
       "<!-- Generated by graphviz version 2.38.0 (20140413.2041)\n",
       " -->\n",
       "<!-- Title: %3 Pages: 1 -->\n",
       "<svg width=\"304pt\" height=\"186pt\"\n",
       " viewBox=\"0.00 0.00 303.89 186.36\" xmlns=\"http://www.w3.org/2000/svg\" xmlns:xlink=\"http://www.w3.org/1999/xlink\">\n",
       "<g id=\"graph0\" class=\"graph\" transform=\"scale(1 1) rotate(0) translate(4 182.359)\">\n",
       "<title>%3</title>\n",
       "<polygon fill=\"white\" stroke=\"none\" points=\"-4,4 -4,-182.359 299.894,-182.359 299.894,4 -4,4\"/>\n",
       "<!-- EMPTY -->\n",
       "<g id=\"node1\" class=\"node\"><title>EMPTY</title>\n",
       "</g>\n",
       "<!-- I -->\n",
       "<g id=\"node3\" class=\"node\"><title>I</title>\n",
       "<ellipse fill=\"none\" stroke=\"black\" cx=\"109\" cy=\"-77.4087\" rx=\"18\" ry=\"18\"/>\n",
       "<text text-anchor=\"middle\" x=\"109\" y=\"-73.2087\" font-family=\"Times,serif\" font-size=\"14.00\">I</text>\n",
       "</g>\n",
       "<!-- EMPTY&#45;&gt;I -->\n",
       "<g id=\"edge1\" class=\"edge\"><title>EMPTY&#45;&gt;I</title>\n",
       "<path fill=\"none\" stroke=\"black\" d=\"M54.195,-77.4087C62.6538,-77.4087 72.0513,-77.4087 80.5951,-77.4087\"/>\n",
       "<polygon fill=\"black\" stroke=\"black\" points=\"80.8257,-80.9088 90.8257,-77.4087 80.8257,-73.9088 80.8257,-80.9088\"/>\n",
       "</g>\n",
       "<!-- Se -->\n",
       "<g id=\"node2\" class=\"node\"><title>Se</title>\n",
       "<ellipse fill=\"none\" stroke=\"black\" cx=\"189.447\" cy=\"-159.409\" rx=\"18.9007\" ry=\"18.9007\"/>\n",
       "<text text-anchor=\"middle\" x=\"189.447\" y=\"-155.209\" font-family=\"Times,serif\" font-size=\"14.00\">Se</text>\n",
       "</g>\n",
       "<!-- F -->\n",
       "<g id=\"node6\" class=\"node\"><title>F</title>\n",
       "<ellipse fill=\"none\" stroke=\"black\" cx=\"273.894\" cy=\"-75.4087\" rx=\"18\" ry=\"18\"/>\n",
       "<ellipse fill=\"none\" stroke=\"black\" cx=\"273.894\" cy=\"-75.4087\" rx=\"22\" ry=\"22\"/>\n",
       "<text text-anchor=\"middle\" x=\"273.894\" y=\"-71.2087\" font-family=\"Times,serif\" font-size=\"14.00\">F</text>\n",
       "</g>\n",
       "<!-- Se&#45;&gt;F -->\n",
       "<g id=\"edge8\" class=\"edge\"><title>Se&#45;&gt;F</title>\n",
       "<path fill=\"none\" stroke=\"black\" d=\"M203.329,-146.284C216.017,-133.357 235.648,-113.356 250.825,-97.8933\"/>\n",
       "<polygon fill=\"black\" stroke=\"black\" points=\"253.361,-100.306 257.868,-90.7179 248.365,-95.403 253.361,-100.306\"/>\n",
       "<text text-anchor=\"middle\" x=\"230.394\" y=\"-123.209\" font-family=\"Times,serif\" font-size=\"14.00\">b</text>\n",
       "</g>\n",
       "<!-- I&#45;&gt;Se -->\n",
       "<g id=\"edge7\" class=\"edge\"><title>I&#45;&gt;Se</title>\n",
       "<path fill=\"none\" stroke=\"black\" d=\"M122.257,-90.2212C134.66,-103.186 154.036,-123.439 168.625,-138.689\"/>\n",
       "<polygon fill=\"black\" stroke=\"black\" points=\"166.314,-141.336 175.756,-146.143 171.372,-136.497 166.314,-141.336\"/>\n",
       "<text text-anchor=\"middle\" x=\"148.5\" y=\"-123.209\" font-family=\"Times,serif\" font-size=\"14.00\">e</text>\n",
       "</g>\n",
       "<!-- Sc -->\n",
       "<g id=\"node4\" class=\"node\"><title>Sc</title>\n",
       "<ellipse fill=\"none\" stroke=\"black\" cx=\"189.447\" cy=\"-103.409\" rx=\"18.9007\" ry=\"18.9007\"/>\n",
       "<text text-anchor=\"middle\" x=\"189.447\" y=\"-99.2087\" font-family=\"Times,serif\" font-size=\"14.00\">Sc</text>\n",
       "</g>\n",
       "<!-- I&#45;&gt;Sc -->\n",
       "<g id=\"edge5\" class=\"edge\"><title>I&#45;&gt;Sc</title>\n",
       "<path fill=\"none\" stroke=\"black\" d=\"M126.254,-82.7959C136.39,-86.1551 149.684,-90.5615 161.379,-94.4376\"/>\n",
       "<polygon fill=\"black\" stroke=\"black\" points=\"160.532,-97.8438 171.125,-97.6677 162.734,-91.1993 160.532,-97.8438\"/>\n",
       "<text text-anchor=\"middle\" x=\"148.5\" y=\"-94.2087\" font-family=\"Times,serif\" font-size=\"14.00\">c</text>\n",
       "</g>\n",
       "<!-- Sb -->\n",
       "<g id=\"node5\" class=\"node\"><title>Sb</title>\n",
       "<ellipse fill=\"none\" stroke=\"black\" cx=\"189.447\" cy=\"-47.4087\" rx=\"19.3939\" ry=\"19.3939\"/>\n",
       "<text text-anchor=\"middle\" x=\"189.447\" y=\"-43.2087\" font-family=\"Times,serif\" font-size=\"14.00\">Sb</text>\n",
       "</g>\n",
       "<!-- I&#45;&gt;Sb -->\n",
       "<g id=\"edge3\" class=\"edge\"><title>I&#45;&gt;Sb</title>\n",
       "<path fill=\"none\" stroke=\"black\" d=\"M126.254,-71.1927C136.492,-67.2775 149.953,-62.1295 161.733,-57.6246\"/>\n",
       "<polygon fill=\"black\" stroke=\"black\" points=\"163.035,-60.8741 171.125,-54.0329 160.535,-54.3358 163.035,-60.8741\"/>\n",
       "<text text-anchor=\"middle\" x=\"148.5\" y=\"-66.2087\" font-family=\"Times,serif\" font-size=\"14.00\">b</text>\n",
       "</g>\n",
       "<!-- I&#45;&gt;F -->\n",
       "<g id=\"edge2\" class=\"edge\"><title>I&#45;&gt;F</title>\n",
       "<path fill=\"none\" stroke=\"black\" d=\"M117.791,-61.5318C127.357,-44.0624 145.392,-16.9343 170,-5.40868 185.654,1.92332 193.075,1.56205 208.894,-5.40868 228.727,-14.1489 245.085,-32.4066 256.297,-48.0842\"/>\n",
       "<polygon fill=\"black\" stroke=\"black\" points=\"253.47,-50.1501 261.987,-56.4517 259.258,-46.2142 253.47,-50.1501\"/>\n",
       "<text text-anchor=\"middle\" x=\"189.447\" y=\"-8.20868\" font-family=\"Times,serif\" font-size=\"14.00\">a</text>\n",
       "</g>\n",
       "<!-- Sc&#45;&gt;F -->\n",
       "<g id=\"edge6\" class=\"edge\"><title>Sc&#45;&gt;F</title>\n",
       "<path fill=\"none\" stroke=\"black\" d=\"M207.53,-97.6071C217.848,-94.1031 231.28,-89.5411 243.283,-85.4649\"/>\n",
       "<polygon fill=\"black\" stroke=\"black\" points=\"244.586,-88.7188 252.929,-82.1889 242.335,-82.0906 244.586,-88.7188\"/>\n",
       "<text text-anchor=\"middle\" x=\"230.394\" y=\"-93.2087\" font-family=\"Times,serif\" font-size=\"14.00\">d</text>\n",
       "</g>\n",
       "<!-- Sb&#45;&gt;F -->\n",
       "<g id=\"edge4\" class=\"edge\"><title>Sb&#45;&gt;F</title>\n",
       "<path fill=\"none\" stroke=\"black\" d=\"M208.337,-53.4843C218.446,-56.9177 231.348,-61.2993 242.956,-65.2415\"/>\n",
       "<polygon fill=\"black\" stroke=\"black\" points=\"242.127,-68.6563 252.722,-68.558 244.378,-62.0281 242.127,-68.6563\"/>\n",
       "<text text-anchor=\"middle\" x=\"230.394\" y=\"-64.2087\" font-family=\"Times,serif\" font-size=\"14.00\">a</text>\n",
       "</g>\n",
       "</g>\n",
       "</svg>\n"
      ],
      "text/plain": [
       "<graphviz.dot.Digraph at 0x103857d68>"
      ]
     },
     "execution_count": 15,
     "metadata": {},
     "output_type": "execute_result"
    }
   ],
   "source": [
    "# NFA for the language {'a','ba','cd','eb'}\n",
    "nfa_abcde = md2mc('''\n",
    "NFA\n",
    "I   : a -> F\n",
    "I   : b -> Sb\n",
    "Sb  : a -> F\n",
    "I   : c -> Sc\n",
    "Sc  : d -> F\n",
    "I   : e -> Se\n",
    "Se  : b -> F\n",
    "''')\n",
    "dotObj_nfa(nfa_abcde)"
   ]
  },
  {
   "cell_type": "code",
   "execution_count": 16,
   "metadata": {
    "run_control": {
     "frozen": false,
     "read_only": false
    }
   },
   "outputs": [
    {
     "data": {
      "image/svg+xml": [
       "<?xml version=\"1.0\" encoding=\"UTF-8\" standalone=\"no\"?>\n",
       "<!DOCTYPE svg PUBLIC \"-//W3C//DTD SVG 1.1//EN\"\n",
       " \"http://www.w3.org/Graphics/SVG/1.1/DTD/svg11.dtd\">\n",
       "<!-- Generated by graphviz version 2.38.0 (20140413.2041)\n",
       " -->\n",
       "<!-- Title: %3 Pages: 1 -->\n",
       "<svg width=\"424pt\" height=\"303pt\"\n",
       " viewBox=\"0.00 0.00 423.89 302.72\" xmlns=\"http://www.w3.org/2000/svg\" xmlns:xlink=\"http://www.w3.org/1999/xlink\">\n",
       "<g id=\"graph0\" class=\"graph\" transform=\"scale(1 1) rotate(0) translate(4 298.724)\">\n",
       "<title>%3</title>\n",
       "<polygon fill=\"white\" stroke=\"none\" points=\"-4,4 -4,-298.724 419.894,-298.724 419.894,4 -4,4\"/>\n",
       "<!-- EMPTY -->\n",
       "<g id=\"node1\" class=\"node\"><title>EMPTY</title>\n",
       "</g>\n",
       "<!-- I -->\n",
       "<g id=\"node6\" class=\"node\"><title>I</title>\n",
       "<ellipse fill=\"none\" stroke=\"black\" cx=\"109\" cy=\"-100.724\" rx=\"18\" ry=\"18\"/>\n",
       "<text text-anchor=\"middle\" x=\"109\" y=\"-96.5236\" font-family=\"Times,serif\" font-size=\"14.00\">I</text>\n",
       "</g>\n",
       "<!-- EMPTY&#45;&gt;I -->\n",
       "<g id=\"edge1\" class=\"edge\"><title>EMPTY&#45;&gt;I</title>\n",
       "<path fill=\"none\" stroke=\"black\" d=\"M54.195,-100.724C62.6538,-100.724 72.0513,-100.724 80.5951,-100.724\"/>\n",
       "<polygon fill=\"black\" stroke=\"black\" points=\"80.8257,-104.224 90.8257,-100.724 80.8257,-97.2237 80.8257,-104.224\"/>\n",
       "</g>\n",
       "<!-- Sc -->\n",
       "<g id=\"node2\" class=\"node\"><title>Sc</title>\n",
       "<ellipse fill=\"none\" stroke=\"black\" cx=\"189.447\" cy=\"-206.724\" rx=\"18.9007\" ry=\"18.9007\"/>\n",
       "<text text-anchor=\"middle\" x=\"189.447\" y=\"-202.524\" font-family=\"Times,serif\" font-size=\"14.00\">Sc</text>\n",
       "</g>\n",
       "<!-- BH -->\n",
       "<g id=\"node5\" class=\"node\"><title>BH</title>\n",
       "<ellipse fill=\"none\" stroke=\"black\" cx=\"380.894\" cy=\"-93.7236\" rx=\"22.2841\" ry=\"22.2841\"/>\n",
       "<text text-anchor=\"middle\" x=\"380.894\" y=\"-89.5236\" font-family=\"Times,serif\" font-size=\"14.00\">BH</text>\n",
       "</g>\n",
       "<!-- Sc&#45;&gt;BH -->\n",
       "<g id=\"edge9\" class=\"edge\"><title>Sc&#45;&gt;BH</title>\n",
       "<path fill=\"none\" stroke=\"black\" d=\"M206.462,-215.808C233.874,-230.017 290.447,-253.36 327.894,-227.724 360.916,-205.117 372.972,-158.247 377.37,-126.385\"/>\n",
       "<polygon fill=\"black\" stroke=\"black\" points=\"380.875,-126.557 378.588,-116.212 373.924,-125.725 380.875,-126.557\"/>\n",
       "<text text-anchor=\"middle\" x=\"273.894\" y=\"-283.524\" font-family=\"Times,serif\" font-size=\"14.00\">e </text>\n",
       "<text text-anchor=\"middle\" x=\"273.894\" y=\"-269.524\" font-family=\"Times,serif\" font-size=\"14.00\"> b </text>\n",
       "<text text-anchor=\"middle\" x=\"273.894\" y=\"-255.524\" font-family=\"Times,serif\" font-size=\"14.00\"> a </text>\n",
       "<text text-anchor=\"middle\" x=\"273.894\" y=\"-241.524\" font-family=\"Times,serif\" font-size=\"14.00\"> c</text>\n",
       "</g>\n",
       "<!-- F -->\n",
       "<g id=\"node7\" class=\"node\"><title>F</title>\n",
       "<ellipse fill=\"none\" stroke=\"black\" cx=\"273.894\" cy=\"-189.724\" rx=\"18\" ry=\"18\"/>\n",
       "<ellipse fill=\"none\" stroke=\"black\" cx=\"273.894\" cy=\"-189.724\" rx=\"22\" ry=\"22\"/>\n",
       "<text text-anchor=\"middle\" x=\"273.894\" y=\"-185.524\" font-family=\"Times,serif\" font-size=\"14.00\">F</text>\n",
       "</g>\n",
       "<!-- Sc&#45;&gt;F -->\n",
       "<g id=\"edge10\" class=\"edge\"><title>Sc&#45;&gt;F</title>\n",
       "<path fill=\"none\" stroke=\"black\" d=\"M208.337,-203.035C218.199,-201.001 230.719,-198.42 242.103,-196.073\"/>\n",
       "<polygon fill=\"black\" stroke=\"black\" points=\"243.042,-199.453 252.129,-194.005 241.628,-192.597 243.042,-199.453\"/>\n",
       "<text text-anchor=\"middle\" x=\"230.394\" y=\"-201.524\" font-family=\"Times,serif\" font-size=\"14.00\">d</text>\n",
       "</g>\n",
       "<!-- Se -->\n",
       "<g id=\"node3\" class=\"node\"><title>Se</title>\n",
       "<ellipse fill=\"none\" stroke=\"black\" cx=\"189.447\" cy=\"-100.724\" rx=\"18.9007\" ry=\"18.9007\"/>\n",
       "<text text-anchor=\"middle\" x=\"189.447\" y=\"-96.5236\" font-family=\"Times,serif\" font-size=\"14.00\">Se</text>\n",
       "</g>\n",
       "<!-- Se&#45;&gt;BH -->\n",
       "<g id=\"edge7\" class=\"edge\"><title>Se&#45;&gt;BH</title>\n",
       "<path fill=\"none\" stroke=\"black\" d=\"M208.612,-100.052C240.832,-98.8619 308.351,-96.3671 348.32,-94.8903\"/>\n",
       "<polygon fill=\"black\" stroke=\"black\" points=\"348.466,-98.3873 358.33,-94.5204 348.208,-91.3921 348.466,-98.3873\"/>\n",
       "<text text-anchor=\"middle\" x=\"273.894\" y=\"-143.524\" font-family=\"Times,serif\" font-size=\"14.00\">e </text>\n",
       "<text text-anchor=\"middle\" x=\"273.894\" y=\"-129.524\" font-family=\"Times,serif\" font-size=\"14.00\"> d </text>\n",
       "<text text-anchor=\"middle\" x=\"273.894\" y=\"-115.524\" font-family=\"Times,serif\" font-size=\"14.00\"> c </text>\n",
       "<text text-anchor=\"middle\" x=\"273.894\" y=\"-101.524\" font-family=\"Times,serif\" font-size=\"14.00\"> a</text>\n",
       "</g>\n",
       "<!-- Se&#45;&gt;F -->\n",
       "<g id=\"edge8\" class=\"edge\"><title>Se&#45;&gt;F</title>\n",
       "<path fill=\"none\" stroke=\"black\" d=\"M206.961,-108.662C215.648,-113.381 226.086,-119.958 233.894,-127.724 236.871,-130.685 247.157,-147.094 256.418,-162.286\"/>\n",
       "<polygon fill=\"black\" stroke=\"black\" points=\"253.512,-164.243 261.689,-170.98 259.497,-160.614 253.512,-164.243\"/>\n",
       "<text text-anchor=\"middle\" x=\"230.394\" y=\"-130.524\" font-family=\"Times,serif\" font-size=\"14.00\">b</text>\n",
       "</g>\n",
       "<!-- Sb -->\n",
       "<g id=\"node4\" class=\"node\"><title>Sb</title>\n",
       "<ellipse fill=\"none\" stroke=\"black\" cx=\"189.447\" cy=\"-44.7236\" rx=\"19.3939\" ry=\"19.3939\"/>\n",
       "<text text-anchor=\"middle\" x=\"189.447\" y=\"-40.5236\" font-family=\"Times,serif\" font-size=\"14.00\">Sb</text>\n",
       "</g>\n",
       "<!-- Sb&#45;&gt;BH -->\n",
       "<g id=\"edge13\" class=\"edge\"><title>Sb&#45;&gt;BH</title>\n",
       "<path fill=\"none\" stroke=\"black\" d=\"M208.422,-39.7346C229.769,-34.6671 266.218,-28.7384 295.894,-37.7236 318.464,-44.5573 340.513,-59.6765 356.354,-72.4843\"/>\n",
       "<polygon fill=\"black\" stroke=\"black\" points=\"354.125,-75.1836 364.041,-78.9152 358.617,-69.8144 354.125,-75.1836\"/>\n",
       "<text text-anchor=\"middle\" x=\"273.894\" y=\"-82.5236\" font-family=\"Times,serif\" font-size=\"14.00\">e </text>\n",
       "<text text-anchor=\"middle\" x=\"273.894\" y=\"-68.5236\" font-family=\"Times,serif\" font-size=\"14.00\"> b </text>\n",
       "<text text-anchor=\"middle\" x=\"273.894\" y=\"-54.5236\" font-family=\"Times,serif\" font-size=\"14.00\"> d </text>\n",
       "<text text-anchor=\"middle\" x=\"273.894\" y=\"-40.5236\" font-family=\"Times,serif\" font-size=\"14.00\"> c</text>\n",
       "</g>\n",
       "<!-- Sb&#45;&gt;F -->\n",
       "<g id=\"edge14\" class=\"edge\"><title>Sb&#45;&gt;F</title>\n",
       "<path fill=\"none\" stroke=\"black\" d=\"M202.729,-59.2576C212.177,-70.9659 225.067,-88.1508 233.894,-104.724 244.8,-125.201 242.01,-132.733 251.894,-153.724 253.237,-156.577 254.732,-159.503 256.288,-162.394\"/>\n",
       "<polygon fill=\"black\" stroke=\"black\" points=\"253.393,-164.385 261.355,-171.375 259.49,-160.946 253.393,-164.385\"/>\n",
       "<text text-anchor=\"middle\" x=\"230.394\" y=\"-107.524\" font-family=\"Times,serif\" font-size=\"14.00\">a</text>\n",
       "</g>\n",
       "<!-- BH&#45;&gt;BH -->\n",
       "<g id=\"edge11\" class=\"edge\"><title>BH&#45;&gt;BH</title>\n",
       "<path fill=\"none\" stroke=\"black\" d=\"M370.108,-113.675C368.275,-124.371 371.87,-134.115 380.894,-134.115 386.815,-134.115 390.399,-129.919 391.645,-124.011\"/>\n",
       "<polygon fill=\"black\" stroke=\"black\" points=\"395.146,-123.686 391.68,-113.675 388.147,-123.663 395.146,-123.686\"/>\n",
       "<text text-anchor=\"middle\" x=\"380.894\" y=\"-192.915\" font-family=\"Times,serif\" font-size=\"14.00\">e </text>\n",
       "<text text-anchor=\"middle\" x=\"380.894\" y=\"-178.915\" font-family=\"Times,serif\" font-size=\"14.00\"> c </text>\n",
       "<text text-anchor=\"middle\" x=\"380.894\" y=\"-164.915\" font-family=\"Times,serif\" font-size=\"14.00\"> d </text>\n",
       "<text text-anchor=\"middle\" x=\"380.894\" y=\"-150.915\" font-family=\"Times,serif\" font-size=\"14.00\"> a </text>\n",
       "<text text-anchor=\"middle\" x=\"380.894\" y=\"-136.915\" font-family=\"Times,serif\" font-size=\"14.00\"> b</text>\n",
       "</g>\n",
       "<!-- I&#45;&gt;Sc -->\n",
       "<g id=\"edge3\" class=\"edge\"><title>I&#45;&gt;Sc</title>\n",
       "<path fill=\"none\" stroke=\"black\" d=\"M116.261,-117.406C122.263,-132.088 132.28,-153.582 145,-169.724 150.818,-177.106 158.291,-184.099 165.393,-189.976\"/>\n",
       "<polygon fill=\"black\" stroke=\"black\" points=\"163.419,-192.877 173.439,-196.32 167.753,-187.38 163.419,-192.877\"/>\n",
       "<text text-anchor=\"middle\" x=\"148.5\" y=\"-180.524\" font-family=\"Times,serif\" font-size=\"14.00\">c</text>\n",
       "</g>\n",
       "<!-- I&#45;&gt;Se -->\n",
       "<g id=\"edge2\" class=\"edge\"><title>I&#45;&gt;Se</title>\n",
       "<path fill=\"none\" stroke=\"black\" d=\"M127.022,-100.724C136.72,-100.724 149.118,-100.724 160.233,-100.724\"/>\n",
       "<polygon fill=\"black\" stroke=\"black\" points=\"160.367,-104.224 170.366,-100.724 160.366,-97.2237 160.367,-104.224\"/>\n",
       "<text text-anchor=\"middle\" x=\"148.5\" y=\"-103.524\" font-family=\"Times,serif\" font-size=\"14.00\">e</text>\n",
       "</g>\n",
       "<!-- I&#45;&gt;Sb -->\n",
       "<g id=\"edge6\" class=\"edge\"><title>I&#45;&gt;Sb</title>\n",
       "<path fill=\"none\" stroke=\"black\" d=\"M124.025,-90.7119C135.376,-82.6085 151.611,-71.0192 164.943,-61.5023\"/>\n",
       "<polygon fill=\"black\" stroke=\"black\" points=\"167.098,-64.2638 173.204,-55.605 163.031,-58.5665 167.098,-64.2638\"/>\n",
       "<text text-anchor=\"middle\" x=\"148.5\" y=\"-77.5236\" font-family=\"Times,serif\" font-size=\"14.00\">b</text>\n",
       "</g>\n",
       "<!-- I&#45;&gt;BH -->\n",
       "<g id=\"edge4\" class=\"edge\"><title>I&#45;&gt;BH</title>\n",
       "<path fill=\"none\" stroke=\"black\" d=\"M116.288,-84.0827C124.928,-63.8989 142.591,-30.8286 170,-16.7236 233.175,15.7872 268.157,-3.25861 327.894,-41.7236 339.299,-49.0676 350.194,-59.2729 359.038,-68.6993\"/>\n",
       "<polygon fill=\"black\" stroke=\"black\" points=\"356.652,-71.2784 365.951,-76.3544 361.847,-66.5869 356.652,-71.2784\"/>\n",
       "<text text-anchor=\"middle\" x=\"230.394\" y=\"-3.52362\" font-family=\"Times,serif\" font-size=\"14.00\">d</text>\n",
       "</g>\n",
       "<!-- I&#45;&gt;F -->\n",
       "<g id=\"edge5\" class=\"edge\"><title>I&#45;&gt;F</title>\n",
       "<path fill=\"none\" stroke=\"black\" d=\"M125.033,-108.937C152.318,-123.845 210.373,-155.564 245.067,-174.52\"/>\n",
       "<polygon fill=\"black\" stroke=\"black\" points=\"243.734,-177.78 254.188,-179.503 247.09,-171.637 243.734,-177.78\"/>\n",
       "<text text-anchor=\"middle\" x=\"189.447\" y=\"-157.524\" font-family=\"Times,serif\" font-size=\"14.00\">a</text>\n",
       "</g>\n",
       "<!-- F&#45;&gt;BH -->\n",
       "<g id=\"edge12\" class=\"edge\"><title>F&#45;&gt;BH</title>\n",
       "<path fill=\"none\" stroke=\"black\" d=\"M290.841,-175.143C308.264,-159.214 336.348,-133.537 356.317,-115.279\"/>\n",
       "<polygon fill=\"black\" stroke=\"black\" points=\"358.778,-117.772 363.796,-108.441 354.054,-112.606 358.778,-117.772\"/>\n",
       "<text text-anchor=\"middle\" x=\"320.894\" y=\"-212.524\" font-family=\"Times,serif\" font-size=\"14.00\">e </text>\n",
       "<text text-anchor=\"middle\" x=\"320.894\" y=\"-198.524\" font-family=\"Times,serif\" font-size=\"14.00\"> c </text>\n",
       "<text text-anchor=\"middle\" x=\"320.894\" y=\"-184.524\" font-family=\"Times,serif\" font-size=\"14.00\"> d </text>\n",
       "<text text-anchor=\"middle\" x=\"320.894\" y=\"-170.524\" font-family=\"Times,serif\" font-size=\"14.00\"> a </text>\n",
       "<text text-anchor=\"middle\" x=\"320.894\" y=\"-156.524\" font-family=\"Times,serif\" font-size=\"14.00\"> b</text>\n",
       "</g>\n",
       "</g>\n",
       "</svg>\n"
      ],
      "text/plain": [
       "<graphviz.dot.Digraph at 0x102fe5be0>"
      ]
     },
     "execution_count": 16,
     "metadata": {},
     "output_type": "execute_result"
    }
   ],
   "source": [
    "# With DFA we do something else (build DFA for 'a' with alphabet being {a,b,c,d,e} etc...)\n",
    "# This results in this DFA\n",
    "dotObj_dfa_w_bh(min_dfa(nfa2dfa(nfa_abcde)), FuseEdges=True)"
   ]
  },
  {
   "cell_type": "markdown",
   "metadata": {
    "run_control": {
     "frozen": false,
     "read_only": false
    }
   },
   "source": [
    "# Chapter-7: Nondeterministic Finite Automata\n",
    "\n",
    "In this chapter, we will cover virtually all aspects of NFA, following the style of presentation used in Chapter-3 on DFA. We will sometimes be (re-) writing print (and dot-object generation) routines that look quite similar to those defined for DFA. This is because the routines are short, and we want a self-contained notebook. Besides there are subtle differences between an NFA and a DFA and it's best to make these differences manifest in dedicated routines -- than overload the former routines with extra arguments. \n",
    "\n",
    "<span style=\"color:blue\"> **We begin defining NFA by providing its structure. ** </span>\n",
    "\n",
    "We will first set up a series of definitions ending at the mk_nfa function that helps build NFA. \n",
    "\n",
    "Unlike with a DFA, there is no mkp_nfa function, as all NFAs are partial! (We can define a mktot_nfa function to print all moves, including unspecified moves leading to the se({}) state.)\n",
    "\n",
    "We will define step_nfa, run_nfa and accepts_nfa which are key functions that clearly spell out how NFA differ from DFA.\n",
    "\n",
    "We will also be defining functions for displaying NFA with the help of the _dot_ tool. The design will be similar to that with DFA.\n",
    "\n",
    "<span style=\"color:blue\"> **------** </span>\n",
    "\n",
    "<span style=\"color:red\"> __We will follow Kozen and endow an NFA with multiple start states __ </span>\n",
    "\n",
    "\n",
    "\n",
    "This will allow the NFA to be more naturally handled. For instance, the reverse of a DFA is an NFA. When we reverse a DFA, all its final states become initial states of the NFA (that models the reversed language). There are 2 ways to handle this:\n",
    "\n",
    "1. Introduce a fake new initial state and jump from it via $\\varepsilon$ onto (what were the final state of the DFA).\n",
    "\n",
    "2. Don't introduce the fake new initial state, but rather allow the NFA to start from all of F being really its start state.\n",
    "\n",
    "    * Of course, in almost all situations, this is a minor difference\n",
    "    \n",
    "    * But to enjoy the topic as completely as one can, it is best to be \"clean\" and follow clean definitions.\n",
    "    \n",
    "        - I've seen Ed Clarke also use multiple initial states\n",
    "        \n",
    "        - Hence our code will be for this relaxed setup\n",
    "        \n",
    "        - Of course if you __REALLY__ wanted to have only one start state, then make it a singleton set of states and work that through your NFA.\n",
    "\n",
    "\n",
    "<br>\n",
    "\n",
    "__So now, following Brzozowski, we have__\n",
    "\n",
    "<br>\n",
    "\n",
    "An NFA is a quintuple $(Q,\\Sigma,\\delta,Q_0,F)$, where:\n",
    "\n",
    "* $Q$ is a _finite nonempty_ set of states.\n",
    "\n",
    "* $\\Sigma$ is a _finite nonempty_ alphabet containing _symbols_.\n",
    "\n",
    "* $\\delta$ is a (partial)\n",
    "\ttransition function, containing a set of _transitions_. The transitions take\n",
    "    a pair from $Q\\times \\Sigma$ and return a __subset__ of states in $Q$. All this is succinctly\n",
    "    captured by writing\n",
    "    $\\delta: Q\\times \\Sigma \\rightarrow 2^Q$. \n",
    "    Here we use $2^Q$ to denote the powerset of $Q$.\n",
    "    \n",
    "  \n",
    "* $Q_0\\subseteq Q$, is __a set of initial states__.  Notice that we change from q0 (or $q_0$) which is what you find books such as Sipser and Linz using.\n",
    "\n",
    "\n",
    "* $F\\subseteq Q$ is a _finite_ (and _possibly empty_) set of\n",
    "\tfinal (or _accepting_) states. These are shown as double-circled nodes in the graph of a DFA. \n",
    " \n",
    "> There is no other change. I.e. $\\delta$ remains the same as before.\n",
    "> It is that when an NFA starts, it can find itself in a set of start states.\n",
    "> Most NFAs start from a __singleton__ Q0, which is then, effectively, an NFA\n",
    " that matches most books say.\n",
    "\n",
    "Some terminology:\n",
    "\n",
    "> We call $Q$,$\\Sigma$, $\\delta$, $Q_0$, and $F$ the **_traits_** of the NFA.\n",
    "\n",
    "> We will call an NFA **_structurally consistent_** or simply **\"consistent\"** if its traits pass the aforesaid checks.\n",
    "\n",
    "\n",
    "Here is how the checks will be broken down:\n",
    "\n",
    "* The supplied $\\delta$ function will be checked to see if it has allowed domain and range points. \n",
    " - The domain points must be a subset of $Q\\times \\Sigma$\n",
    " - The range points must be a subset of $2^Q$\n",
    "  We do no insist that the supplied $\\delta$ be total.\n",
    "    \n",
    "* $Q_0\\subseteq Q$, is _the_ initial state.\n",
    "\n",
    "* $F\\subseteq Q$ is a _finite_ (and _possibly empty_) set of\n",
    "\tfinal (or _accepting_) states.  \n",
    "    \n",
    "We will often use the state set({}) to be the equivalent of a black-hole state for an NFA."
   ]
  },
  {
   "cell_type": "code",
   "execution_count": 17,
   "metadata": {
    "run_control": {
     "frozen": false,
     "read_only": false
    }
   },
   "outputs": [
    {
     "data": {
      "image/svg+xml": [
       "<?xml version=\"1.0\" encoding=\"UTF-8\" standalone=\"no\"?>\n",
       "<!DOCTYPE svg PUBLIC \"-//W3C//DTD SVG 1.1//EN\"\n",
       " \"http://www.w3.org/Graphics/SVG/1.1/DTD/svg11.dtd\">\n",
       "<!-- Generated by graphviz version 2.38.0 (20140413.2041)\n",
       " -->\n",
       "<!-- Title: %3 Pages: 1 -->\n",
       "<svg width=\"222pt\" height=\"106pt\"\n",
       " viewBox=\"0.00 0.00 222.00 106.00\" xmlns=\"http://www.w3.org/2000/svg\" xmlns:xlink=\"http://www.w3.org/1999/xlink\">\n",
       "<g id=\"graph0\" class=\"graph\" transform=\"scale(1 1) rotate(0) translate(4 102)\">\n",
       "<title>%3</title>\n",
       "<polygon fill=\"white\" stroke=\"none\" points=\"-4,4 -4,-102 218,-102 218,4 -4,4\"/>\n",
       "<!-- EMPTY -->\n",
       "<g id=\"node1\" class=\"node\"><title>EMPTY</title>\n",
       "</g>\n",
       "<!-- I -->\n",
       "<g id=\"node2\" class=\"node\"><title>I</title>\n",
       "<ellipse fill=\"none\" stroke=\"black\" cx=\"109\" cy=\"-51\" rx=\"18\" ry=\"18\"/>\n",
       "<text text-anchor=\"middle\" x=\"109\" y=\"-46.8\" font-family=\"Times,serif\" font-size=\"14.00\">I</text>\n",
       "</g>\n",
       "<!-- EMPTY&#45;&gt;I -->\n",
       "<g id=\"edge1\" class=\"edge\"><title>EMPTY&#45;&gt;I</title>\n",
       "<path fill=\"none\" stroke=\"black\" d=\"M54.195,-51C62.6538,-51 72.0513,-51 80.5951,-51\"/>\n",
       "<polygon fill=\"black\" stroke=\"black\" points=\"80.8257,-54.5001 90.8257,-51 80.8257,-47.5001 80.8257,-54.5001\"/>\n",
       "</g>\n",
       "<!-- A -->\n",
       "<g id=\"node3\" class=\"node\"><title>A</title>\n",
       "<ellipse fill=\"none\" stroke=\"black\" cx=\"192\" cy=\"-80\" rx=\"18\" ry=\"18\"/>\n",
       "<text text-anchor=\"middle\" x=\"192\" y=\"-75.8\" font-family=\"Times,serif\" font-size=\"14.00\">A</text>\n",
       "</g>\n",
       "<!-- I&#45;&gt;A -->\n",
       "<g id=\"edge2\" class=\"edge\"><title>I&#45;&gt;A</title>\n",
       "<path fill=\"none\" stroke=\"black\" d=\"M126.392,-56.8686C137.553,-60.8648 152.556,-66.2362 165.295,-70.797\"/>\n",
       "<polygon fill=\"black\" stroke=\"black\" points=\"164.315,-74.1635 174.909,-74.2391 166.674,-67.5731 164.315,-74.1635\"/>\n",
       "<text text-anchor=\"middle\" x=\"148.5\" y=\"-67.8\" font-family=\"Times,serif\" font-size=\"14.00\">0</text>\n",
       "</g>\n",
       "<!-- F -->\n",
       "<g id=\"node4\" class=\"node\"><title>F</title>\n",
       "<ellipse fill=\"none\" stroke=\"black\" cx=\"192\" cy=\"-22\" rx=\"18\" ry=\"18\"/>\n",
       "<ellipse fill=\"none\" stroke=\"black\" cx=\"192\" cy=\"-22\" rx=\"22\" ry=\"22\"/>\n",
       "<text text-anchor=\"middle\" x=\"192\" y=\"-17.8\" font-family=\"Times,serif\" font-size=\"14.00\">F</text>\n",
       "</g>\n",
       "<!-- I&#45;&gt;F -->\n",
       "<g id=\"edge3\" class=\"edge\"><title>I&#45;&gt;F</title>\n",
       "<path fill=\"none\" stroke=\"black\" d=\"M126.392,-45.1314C136.432,-41.5368 149.579,-36.8296 161.392,-32.6004\"/>\n",
       "<polygon fill=\"black\" stroke=\"black\" points=\"162.668,-35.8613 170.903,-29.1953 160.308,-29.2709 162.668,-35.8613\"/>\n",
       "<text text-anchor=\"middle\" x=\"148.5\" y=\"-40.8\" font-family=\"Times,serif\" font-size=\"14.00\">0</text>\n",
       "</g>\n",
       "</g>\n",
       "</svg>\n"
      ],
      "text/plain": [
       "<graphviz.dot.Digraph at 0x102fe5470>"
      ]
     },
     "execution_count": 17,
     "metadata": {},
     "output_type": "execute_result"
    }
   ],
   "source": [
    "nfa1 = md2mc('''NFA\n",
    "I : 0 -> A\n",
    "I : 0 -> F''')\n",
    "dotObj_nfa(nfa1)"
   ]
  },
  {
   "cell_type": "code",
   "execution_count": 18,
   "metadata": {
    "run_control": {
     "frozen": false,
     "read_only": false
    }
   },
   "outputs": [
    {
     "data": {
      "image/svg+xml": [
       "<?xml version=\"1.0\" encoding=\"UTF-8\" standalone=\"no\"?>\n",
       "<!DOCTYPE svg PUBLIC \"-//W3C//DTD SVG 1.1//EN\"\n",
       " \"http://www.w3.org/Graphics/SVG/1.1/DTD/svg11.dtd\">\n",
       "<!-- Generated by graphviz version 2.38.0 (20140413.2041)\n",
       " -->\n",
       "<!-- Title: %3 Pages: 1 -->\n",
       "<svg width=\"222pt\" height=\"106pt\"\n",
       " viewBox=\"0.00 0.00 222.00 106.00\" xmlns=\"http://www.w3.org/2000/svg\" xmlns:xlink=\"http://www.w3.org/1999/xlink\">\n",
       "<g id=\"graph0\" class=\"graph\" transform=\"scale(1 1) rotate(0) translate(4 102)\">\n",
       "<title>%3</title>\n",
       "<polygon fill=\"white\" stroke=\"none\" points=\"-4,4 -4,-102 218,-102 218,4 -4,4\"/>\n",
       "<!-- EMPTY -->\n",
       "<g id=\"node1\" class=\"node\"><title>EMPTY</title>\n",
       "</g>\n",
       "<!-- I -->\n",
       "<g id=\"node2\" class=\"node\"><title>I</title>\n",
       "<ellipse fill=\"none\" stroke=\"black\" cx=\"109\" cy=\"-51\" rx=\"18\" ry=\"18\"/>\n",
       "<text text-anchor=\"middle\" x=\"109\" y=\"-46.8\" font-family=\"Times,serif\" font-size=\"14.00\">I</text>\n",
       "</g>\n",
       "<!-- EMPTY&#45;&gt;I -->\n",
       "<g id=\"edge1\" class=\"edge\"><title>EMPTY&#45;&gt;I</title>\n",
       "<path fill=\"none\" stroke=\"black\" d=\"M54.195,-51C62.6538,-51 72.0513,-51 80.5951,-51\"/>\n",
       "<polygon fill=\"black\" stroke=\"black\" points=\"80.8257,-54.5001 90.8257,-51 80.8257,-47.5001 80.8257,-54.5001\"/>\n",
       "</g>\n",
       "<!-- A -->\n",
       "<g id=\"node3\" class=\"node\"><title>A</title>\n",
       "<ellipse fill=\"none\" stroke=\"black\" cx=\"192\" cy=\"-80\" rx=\"18\" ry=\"18\"/>\n",
       "<text text-anchor=\"middle\" x=\"192\" y=\"-75.8\" font-family=\"Times,serif\" font-size=\"14.00\">A</text>\n",
       "</g>\n",
       "<!-- I&#45;&gt;A -->\n",
       "<g id=\"edge3\" class=\"edge\"><title>I&#45;&gt;A</title>\n",
       "<path fill=\"none\" stroke=\"black\" d=\"M126.392,-56.8686C137.553,-60.8648 152.556,-66.2362 165.295,-70.797\"/>\n",
       "<polygon fill=\"black\" stroke=\"black\" points=\"164.315,-74.1635 174.909,-74.2391 166.674,-67.5731 164.315,-74.1635\"/>\n",
       "<text text-anchor=\"middle\" x=\"148.5\" y=\"-67.8\" font-family=\"Times,serif\" font-size=\"14.00\">0</text>\n",
       "</g>\n",
       "<!-- F -->\n",
       "<g id=\"node4\" class=\"node\"><title>F</title>\n",
       "<ellipse fill=\"none\" stroke=\"black\" cx=\"192\" cy=\"-22\" rx=\"18\" ry=\"18\"/>\n",
       "<ellipse fill=\"none\" stroke=\"black\" cx=\"192\" cy=\"-22\" rx=\"22\" ry=\"22\"/>\n",
       "<text text-anchor=\"middle\" x=\"192\" y=\"-17.8\" font-family=\"Times,serif\" font-size=\"14.00\">F</text>\n",
       "</g>\n",
       "<!-- I&#45;&gt;F -->\n",
       "<g id=\"edge2\" class=\"edge\"><title>I&#45;&gt;F</title>\n",
       "<path fill=\"none\" stroke=\"black\" d=\"M126.392,-45.1314C136.432,-41.5368 149.579,-36.8296 161.392,-32.6004\"/>\n",
       "<polygon fill=\"black\" stroke=\"black\" points=\"162.668,-35.8613 170.903,-29.1953 160.308,-29.2709 162.668,-35.8613\"/>\n",
       "<text text-anchor=\"middle\" x=\"148.5\" y=\"-40.8\" font-family=\"Times,serif\" font-size=\"14.00\">&#39;&#39;</text>\n",
       "</g>\n",
       "</g>\n",
       "</svg>\n"
      ],
      "text/plain": [
       "<graphviz.dot.Digraph at 0x10380bc50>"
      ]
     },
     "execution_count": 18,
     "metadata": {},
     "output_type": "execute_result"
    }
   ],
   "source": [
    "nfa2 = md2mc('''NFA\n",
    "I : '' -> F\n",
    "I : 0  -> A\n",
    "''')\n",
    "dotObj_nfa(nfa2)"
   ]
  },
  {
   "cell_type": "markdown",
   "metadata": {
    "run_control": {
     "frozen": false,
     "read_only": false
    }
   },
   "source": [
    "# The $\\delta$ function of the NFA"
   ]
  },
  {
   "cell_type": "code",
   "execution_count": 19,
   "metadata": {
    "run_control": {
     "frozen": false,
     "read_only": false
    }
   },
   "outputs": [
    {
     "name": "stdout",
     "output_type": "stream",
     "text": [
      "Help on function step_nfa in module jove.Def_NFA:\n",
      "\n",
      "step_nfa(N, q, c)\n",
      "    In : N (consistent NFA)\n",
      "         q (state in N)\n",
      "         c (symbol in N's sigma or \"\")\n",
      "    Out: The set of states reached via N's Delta.\n",
      "    EClosure is NOT performed.\n",
      "    If the move is not defined, return {}.\n",
      "\n"
     ]
    }
   ],
   "source": [
    "help(step_nfa)"
   ]
  },
  {
   "cell_type": "code",
   "execution_count": 20,
   "metadata": {
    "run_control": {
     "frozen": false,
     "read_only": false
    }
   },
   "outputs": [
    {
     "data": {
      "text/plain": [
       "set()"
      ]
     },
     "execution_count": 20,
     "metadata": {},
     "output_type": "execute_result"
    }
   ],
   "source": [
    "step_nfa(nfa1, 'I', '')"
   ]
  },
  {
   "cell_type": "code",
   "execution_count": 21,
   "metadata": {
    "run_control": {
     "frozen": false,
     "read_only": false
    }
   },
   "outputs": [
    {
     "data": {
      "text/plain": [
       "{'A', 'F'}"
      ]
     },
     "execution_count": 21,
     "metadata": {},
     "output_type": "execute_result"
    }
   ],
   "source": [
    "step_nfa(nfa1, 'I', '0')"
   ]
  },
  {
   "cell_type": "code",
   "execution_count": 22,
   "metadata": {
    "run_control": {
     "frozen": false,
     "read_only": false
    }
   },
   "outputs": [
    {
     "data": {
      "text/plain": [
       "{'F'}"
      ]
     },
     "execution_count": 22,
     "metadata": {},
     "output_type": "execute_result"
    }
   ],
   "source": [
    "step_nfa(nfa2, 'I','')"
   ]
  },
  {
   "cell_type": "code",
   "execution_count": 23,
   "metadata": {
    "run_control": {
     "frozen": false,
     "read_only": false
    }
   },
   "outputs": [],
   "source": [
    "fig71a = md2mc('''\n",
    "NFA\n",
    "I  : 0 -> I\n",
    "I  : 1 -> I, S0\n",
    "S0 : 0 | 1 -> S1\n",
    "S1 : 0 | 1 -> F\n",
    "''')"
   ]
  },
  {
   "cell_type": "code",
   "execution_count": 24,
   "metadata": {
    "run_control": {
     "frozen": false,
     "read_only": false
    }
   },
   "outputs": [
    {
     "data": {
      "image/svg+xml": [
       "<?xml version=\"1.0\" encoding=\"UTF-8\" standalone=\"no\"?>\n",
       "<!DOCTYPE svg PUBLIC \"-//W3C//DTD SVG 1.1//EN\"\n",
       " \"http://www.w3.org/Graphics/SVG/1.1/DTD/svg11.dtd\">\n",
       "<!-- Generated by graphviz version 2.38.0 (20140413.2041)\n",
       " -->\n",
       "<!-- Title: %3 Pages: 1 -->\n",
       "<svg width=\"393pt\" height=\"94pt\"\n",
       " viewBox=\"0.00 0.00 392.79 94.00\" xmlns=\"http://www.w3.org/2000/svg\" xmlns:xlink=\"http://www.w3.org/1999/xlink\">\n",
       "<g id=\"graph0\" class=\"graph\" transform=\"scale(1 1) rotate(0) translate(4 90)\">\n",
       "<title>%3</title>\n",
       "<polygon fill=\"white\" stroke=\"none\" points=\"-4,4 -4,-90 388.787,-90 388.787,4 -4,4\"/>\n",
       "<!-- EMPTY -->\n",
       "<g id=\"node1\" class=\"node\"><title>EMPTY</title>\n",
       "</g>\n",
       "<!-- I -->\n",
       "<g id=\"node3\" class=\"node\"><title>I</title>\n",
       "<ellipse fill=\"none\" stroke=\"black\" cx=\"109\" cy=\"-22\" rx=\"18\" ry=\"18\"/>\n",
       "<text text-anchor=\"middle\" x=\"109\" y=\"-17.8\" font-family=\"Times,serif\" font-size=\"14.00\">I</text>\n",
       "</g>\n",
       "<!-- EMPTY&#45;&gt;I -->\n",
       "<g id=\"edge1\" class=\"edge\"><title>EMPTY&#45;&gt;I</title>\n",
       "<path fill=\"none\" stroke=\"black\" d=\"M54.195,-22C62.6538,-22 72.0513,-22 80.5951,-22\"/>\n",
       "<polygon fill=\"black\" stroke=\"black\" points=\"80.8257,-25.5001 90.8257,-22 80.8257,-18.5001 80.8257,-25.5001\"/>\n",
       "</g>\n",
       "<!-- S1 -->\n",
       "<g id=\"node2\" class=\"node\"><title>S1</title>\n",
       "<ellipse fill=\"none\" stroke=\"black\" cx=\"274.841\" cy=\"-22\" rx=\"19.3939\" ry=\"19.3939\"/>\n",
       "<text text-anchor=\"middle\" x=\"274.841\" y=\"-17.8\" font-family=\"Times,serif\" font-size=\"14.00\">S1</text>\n",
       "</g>\n",
       "<!-- F -->\n",
       "<g id=\"node5\" class=\"node\"><title>F</title>\n",
       "<ellipse fill=\"none\" stroke=\"black\" cx=\"362.787\" cy=\"-22\" rx=\"18\" ry=\"18\"/>\n",
       "<ellipse fill=\"none\" stroke=\"black\" cx=\"362.787\" cy=\"-22\" rx=\"22\" ry=\"22\"/>\n",
       "<text text-anchor=\"middle\" x=\"362.787\" y=\"-17.8\" font-family=\"Times,serif\" font-size=\"14.00\">F</text>\n",
       "</g>\n",
       "<!-- S1&#45;&gt;F -->\n",
       "<g id=\"edge5\" class=\"edge\"><title>S1&#45;&gt;F</title>\n",
       "<path fill=\"none\" stroke=\"black\" d=\"M294.49,-22C305.029,-22 318.478,-22 330.579,-22\"/>\n",
       "<polygon fill=\"black\" stroke=\"black\" points=\"330.759,-25.5001 340.759,-22 330.759,-18.5001 330.759,-25.5001\"/>\n",
       "<text text-anchor=\"middle\" x=\"317.537\" y=\"-38.8\" font-family=\"Times,serif\" font-size=\"14.00\">0 </text>\n",
       "<text text-anchor=\"middle\" x=\"317.537\" y=\"-24.8\" font-family=\"Times,serif\" font-size=\"14.00\"> 1</text>\n",
       "</g>\n",
       "<!-- I&#45;&gt;I -->\n",
       "<g id=\"edge2\" class=\"edge\"><title>I&#45;&gt;I</title>\n",
       "<path fill=\"none\" stroke=\"black\" d=\"M102.621,-39.0373C101.319,-48.8579 103.445,-58 109,-58 112.472,-58 114.604,-54.4289 115.398,-49.3529\"/>\n",
       "<polygon fill=\"black\" stroke=\"black\" points=\"118.897,-49.031 115.379,-39.0373 111.897,-49.0435 118.897,-49.031\"/>\n",
       "<text text-anchor=\"middle\" x=\"109\" y=\"-74.8\" font-family=\"Times,serif\" font-size=\"14.00\">0 </text>\n",
       "<text text-anchor=\"middle\" x=\"109\" y=\"-60.8\" font-family=\"Times,serif\" font-size=\"14.00\"> 1</text>\n",
       "</g>\n",
       "<!-- S0 -->\n",
       "<g id=\"node4\" class=\"node\"><title>S0</title>\n",
       "<ellipse fill=\"none\" stroke=\"black\" cx=\"189.447\" cy=\"-22\" rx=\"19.3939\" ry=\"19.3939\"/>\n",
       "<text text-anchor=\"middle\" x=\"189.447\" y=\"-17.8\" font-family=\"Times,serif\" font-size=\"14.00\">S0</text>\n",
       "</g>\n",
       "<!-- I&#45;&gt;S0 -->\n",
       "<g id=\"edge3\" class=\"edge\"><title>I&#45;&gt;S0</title>\n",
       "<path fill=\"none\" stroke=\"black\" d=\"M127.022,-22C136.583,-22 148.77,-22 159.763,-22\"/>\n",
       "<polygon fill=\"black\" stroke=\"black\" points=\"159.813,-25.5001 169.813,-22 159.813,-18.5001 159.813,-25.5001\"/>\n",
       "<text text-anchor=\"middle\" x=\"148.5\" y=\"-24.8\" font-family=\"Times,serif\" font-size=\"14.00\">1</text>\n",
       "</g>\n",
       "<!-- S0&#45;&gt;S1 -->\n",
       "<g id=\"edge4\" class=\"edge\"><title>S0&#45;&gt;S1</title>\n",
       "<path fill=\"none\" stroke=\"black\" d=\"M208.955,-22C219.643,-22 233.313,-22 245.347,-22\"/>\n",
       "<polygon fill=\"black\" stroke=\"black\" points=\"245.385,-25.5001 255.385,-22 245.385,-18.5001 245.385,-25.5001\"/>\n",
       "<text text-anchor=\"middle\" x=\"232.144\" y=\"-38.8\" font-family=\"Times,serif\" font-size=\"14.00\">0 </text>\n",
       "<text text-anchor=\"middle\" x=\"232.144\" y=\"-24.8\" font-family=\"Times,serif\" font-size=\"14.00\"> 1</text>\n",
       "</g>\n",
       "</g>\n",
       "</svg>\n"
      ],
      "text/plain": [
       "<graphviz.dot.Digraph at 0x10380b128>"
      ]
     },
     "execution_count": 24,
     "metadata": {},
     "output_type": "execute_result"
    }
   ],
   "source": [
    "dotObj_nfa(fig71a, FuseEdges=True)"
   ]
  },
  {
   "cell_type": "code",
   "execution_count": 25,
   "metadata": {
    "run_control": {
     "frozen": false,
     "read_only": false
    }
   },
   "outputs": [],
   "source": [
    "fig71b = md2mc('''\n",
    "NFA\n",
    "I  : 0 | 1 -> I\n",
    "I  : '' -> S0\n",
    "S0 : 1  -> S1\n",
    "S1 : 0 | 1 -> S2\n",
    "S2 : 0 | 1 -> F\n",
    "''')"
   ]
  },
  {
   "cell_type": "code",
   "execution_count": 26,
   "metadata": {
    "run_control": {
     "frozen": false,
     "read_only": false
    }
   },
   "outputs": [
    {
     "data": {
      "image/svg+xml": [
       "<?xml version=\"1.0\" encoding=\"UTF-8\" standalone=\"no\"?>\n",
       "<!DOCTYPE svg PUBLIC \"-//W3C//DTD SVG 1.1//EN\"\n",
       " \"http://www.w3.org/Graphics/SVG/1.1/DTD/svg11.dtd\">\n",
       "<!-- Generated by graphviz version 2.38.0 (20140413.2041)\n",
       " -->\n",
       "<!-- Title: %3 Pages: 1 -->\n",
       "<svg width=\"473pt\" height=\"94pt\"\n",
       " viewBox=\"0.00 0.00 472.73 94.00\" xmlns=\"http://www.w3.org/2000/svg\" xmlns:xlink=\"http://www.w3.org/1999/xlink\">\n",
       "<g id=\"graph0\" class=\"graph\" transform=\"scale(1 1) rotate(0) translate(4 90)\">\n",
       "<title>%3</title>\n",
       "<polygon fill=\"white\" stroke=\"none\" points=\"-4,4 -4,-90 468.726,-90 468.726,4 -4,4\"/>\n",
       "<!-- EMPTY -->\n",
       "<g id=\"node1\" class=\"node\"><title>EMPTY</title>\n",
       "</g>\n",
       "<!-- I -->\n",
       "<g id=\"node3\" class=\"node\"><title>I</title>\n",
       "<ellipse fill=\"none\" stroke=\"black\" cx=\"109\" cy=\"-22\" rx=\"18\" ry=\"18\"/>\n",
       "<text text-anchor=\"middle\" x=\"109\" y=\"-17.8\" font-family=\"Times,serif\" font-size=\"14.00\">I</text>\n",
       "</g>\n",
       "<!-- EMPTY&#45;&gt;I -->\n",
       "<g id=\"edge1\" class=\"edge\"><title>EMPTY&#45;&gt;I</title>\n",
       "<path fill=\"none\" stroke=\"black\" d=\"M54.195,-22C62.6538,-22 72.0513,-22 80.5951,-22\"/>\n",
       "<polygon fill=\"black\" stroke=\"black\" points=\"80.8257,-25.5001 90.8257,-22 80.8257,-18.5001 80.8257,-25.5001\"/>\n",
       "</g>\n",
       "<!-- S1 -->\n",
       "<g id=\"node2\" class=\"node\"><title>S1</title>\n",
       "<ellipse fill=\"none\" stroke=\"black\" cx=\"269.386\" cy=\"-22\" rx=\"19.3939\" ry=\"19.3939\"/>\n",
       "<text text-anchor=\"middle\" x=\"269.386\" y=\"-17.8\" font-family=\"Times,serif\" font-size=\"14.00\">S1</text>\n",
       "</g>\n",
       "<!-- S2 -->\n",
       "<g id=\"node4\" class=\"node\"><title>S2</title>\n",
       "<ellipse fill=\"none\" stroke=\"black\" cx=\"354.779\" cy=\"-22\" rx=\"19.3939\" ry=\"19.3939\"/>\n",
       "<text text-anchor=\"middle\" x=\"354.779\" y=\"-17.8\" font-family=\"Times,serif\" font-size=\"14.00\">S2</text>\n",
       "</g>\n",
       "<!-- S1&#45;&gt;S2 -->\n",
       "<g id=\"edge5\" class=\"edge\"><title>S1&#45;&gt;S2</title>\n",
       "<path fill=\"none\" stroke=\"black\" d=\"M288.893,-22C299.582,-22 313.252,-22 325.285,-22\"/>\n",
       "<polygon fill=\"black\" stroke=\"black\" points=\"325.323,-25.5001 335.323,-22 325.323,-18.5001 325.323,-25.5001\"/>\n",
       "<text text-anchor=\"middle\" x=\"312.082\" y=\"-38.8\" font-family=\"Times,serif\" font-size=\"14.00\">0 </text>\n",
       "<text text-anchor=\"middle\" x=\"312.082\" y=\"-24.8\" font-family=\"Times,serif\" font-size=\"14.00\"> 1</text>\n",
       "</g>\n",
       "<!-- I&#45;&gt;I -->\n",
       "<g id=\"edge2\" class=\"edge\"><title>I&#45;&gt;I</title>\n",
       "<path fill=\"none\" stroke=\"black\" d=\"M102.621,-39.0373C101.319,-48.8579 103.445,-58 109,-58 112.472,-58 114.604,-54.4289 115.398,-49.3529\"/>\n",
       "<polygon fill=\"black\" stroke=\"black\" points=\"118.897,-49.031 115.379,-39.0373 111.897,-49.0435 118.897,-49.031\"/>\n",
       "<text text-anchor=\"middle\" x=\"109\" y=\"-74.8\" font-family=\"Times,serif\" font-size=\"14.00\">0 </text>\n",
       "<text text-anchor=\"middle\" x=\"109\" y=\"-60.8\" font-family=\"Times,serif\" font-size=\"14.00\"> 1</text>\n",
       "</g>\n",
       "<!-- S0 -->\n",
       "<g id=\"node5\" class=\"node\"><title>S0</title>\n",
       "<ellipse fill=\"none\" stroke=\"black\" cx=\"187.492\" cy=\"-22\" rx=\"19.3939\" ry=\"19.3939\"/>\n",
       "<text text-anchor=\"middle\" x=\"187.492\" y=\"-17.8\" font-family=\"Times,serif\" font-size=\"14.00\">S0</text>\n",
       "</g>\n",
       "<!-- I&#45;&gt;S0 -->\n",
       "<g id=\"edge3\" class=\"edge\"><title>I&#45;&gt;S0</title>\n",
       "<path fill=\"none\" stroke=\"black\" d=\"M127.357,-22C136.321,-22 147.493,-22 157.705,-22\"/>\n",
       "<polygon fill=\"black\" stroke=\"black\" points=\"157.867,-25.5001 167.867,-22 157.867,-18.5001 157.867,-25.5001\"/>\n",
       "<text text-anchor=\"middle\" x=\"147.522\" y=\"-24.8\" font-family=\"Times,serif\" font-size=\"14.00\">&#39;&#39;</text>\n",
       "</g>\n",
       "<!-- F -->\n",
       "<g id=\"node6\" class=\"node\"><title>F</title>\n",
       "<ellipse fill=\"none\" stroke=\"black\" cx=\"442.726\" cy=\"-22\" rx=\"18\" ry=\"18\"/>\n",
       "<ellipse fill=\"none\" stroke=\"black\" cx=\"442.726\" cy=\"-22\" rx=\"22\" ry=\"22\"/>\n",
       "<text text-anchor=\"middle\" x=\"442.726\" y=\"-17.8\" font-family=\"Times,serif\" font-size=\"14.00\">F</text>\n",
       "</g>\n",
       "<!-- S2&#45;&gt;F -->\n",
       "<g id=\"edge6\" class=\"edge\"><title>S2&#45;&gt;F</title>\n",
       "<path fill=\"none\" stroke=\"black\" d=\"M374.428,-22C384.967,-22 398.417,-22 410.518,-22\"/>\n",
       "<polygon fill=\"black\" stroke=\"black\" points=\"410.698,-25.5001 420.698,-22 410.698,-18.5001 410.698,-25.5001\"/>\n",
       "<text text-anchor=\"middle\" x=\"397.476\" y=\"-38.8\" font-family=\"Times,serif\" font-size=\"14.00\">0 </text>\n",
       "<text text-anchor=\"middle\" x=\"397.476\" y=\"-24.8\" font-family=\"Times,serif\" font-size=\"14.00\"> 1</text>\n",
       "</g>\n",
       "<!-- S0&#45;&gt;S1 -->\n",
       "<g id=\"edge4\" class=\"edge\"><title>S0&#45;&gt;S1</title>\n",
       "<path fill=\"none\" stroke=\"black\" d=\"M207.022,-22C216.633,-22 228.592,-22 239.394,-22\"/>\n",
       "<polygon fill=\"black\" stroke=\"black\" points=\"239.679,-25.5001 249.679,-22 239.679,-18.5001 239.679,-25.5001\"/>\n",
       "<text text-anchor=\"middle\" x=\"228.439\" y=\"-24.8\" font-family=\"Times,serif\" font-size=\"14.00\">1</text>\n",
       "</g>\n",
       "</g>\n",
       "</svg>\n"
      ],
      "text/plain": [
       "<graphviz.dot.Digraph at 0x102d57588>"
      ]
     },
     "execution_count": 26,
     "metadata": {},
     "output_type": "execute_result"
    }
   ],
   "source": [
    "dotObj_nfa(fig71b, FuseEdges=True)"
   ]
  },
  {
   "cell_type": "markdown",
   "metadata": {
    "run_control": {
     "frozen": false,
     "read_only": false
    }
   },
   "source": [
    "# Stepping and Running NFA\n",
    "\n",
    "Now that we've defined NFA and allied actions such as consistency checking and printing, let's write functions to step and run them.\n",
    "\n",
    "* How the state transition function $\\delta$ \"works\"\n",
    "  - captured in step_nfa"
   ]
  },
  {
   "cell_type": "code",
   "execution_count": 27,
   "metadata": {
    "run_control": {
     "frozen": false,
     "read_only": false
    }
   },
   "outputs": [
    {
     "name": "stdout",
     "output_type": "stream",
     "text": [
      "Help on function step_nfa in module jove.Def_NFA:\n",
      "\n",
      "step_nfa(N, q, c)\n",
      "    In : N (consistent NFA)\n",
      "         q (state in N)\n",
      "         c (symbol in N's sigma or \"\")\n",
      "    Out: The set of states reached via N's Delta.\n",
      "    EClosure is NOT performed.\n",
      "    If the move is not defined, return {}.\n",
      "\n"
     ]
    }
   ],
   "source": [
    "help(step_nfa)"
   ]
  },
  {
   "cell_type": "code",
   "execution_count": 28,
   "metadata": {
    "run_control": {
     "frozen": false,
     "read_only": false
    }
   },
   "outputs": [
    {
     "data": {
      "text/plain": [
       "{'S0'}"
      ]
     },
     "execution_count": 28,
     "metadata": {},
     "output_type": "execute_result"
    }
   ],
   "source": [
    "step_nfa(fig71b, \"I\", '')"
   ]
  },
  {
   "cell_type": "code",
   "execution_count": 29,
   "metadata": {
    "run_control": {
     "frozen": false,
     "read_only": false
    }
   },
   "outputs": [
    {
     "data": {
      "text/plain": [
       "set()"
      ]
     },
     "execution_count": 29,
     "metadata": {},
     "output_type": "execute_result"
    }
   ],
   "source": [
    "step_nfa(fig71b, \"S0\", '')"
   ]
  },
  {
   "cell_type": "code",
   "execution_count": 30,
   "metadata": {
    "run_control": {
     "frozen": false,
     "read_only": false
    }
   },
   "outputs": [
    {
     "data": {
      "text/plain": [
       "{'I'}"
      ]
     },
     "execution_count": 30,
     "metadata": {},
     "output_type": "execute_result"
    }
   ],
   "source": [
    "step_nfa(fig71b, \"I\", '0')"
   ]
  },
  {
   "cell_type": "code",
   "execution_count": 31,
   "metadata": {
    "run_control": {
     "frozen": false,
     "read_only": false
    }
   },
   "outputs": [
    {
     "name": "stdout",
     "output_type": "stream",
     "text": [
      "Help on function run_nfa in module jove.Def_NFA:\n",
      "\n",
      "run_nfa(N, S, s, chatty=False)\n",
      "    In : N (consistent NFA)\n",
      "         S (SET of states S belonging to N's states)\n",
      "         s (string over N's alphabet)\n",
      "    Out: SET of states reached after processing s.\n",
      "    Run the NFA starting with a SET of states S on string,\n",
      "    with EClosure wherever necessary. Return set of states reached.\n",
      "\n"
     ]
    }
   ],
   "source": [
    "help(run_nfa)"
   ]
  },
  {
   "cell_type": "code",
   "execution_count": 32,
   "metadata": {
    "run_control": {
     "frozen": false,
     "read_only": false
    }
   },
   "outputs": [
    {
     "data": {
      "text/plain": [
       "{'I', 'S0'}"
      ]
     },
     "execution_count": 32,
     "metadata": {},
     "output_type": "execute_result"
    }
   ],
   "source": [
    "run_nfa(fig71b, \"I\", \"0\")"
   ]
  },
  {
   "cell_type": "code",
   "execution_count": 33,
   "metadata": {
    "run_control": {
     "frozen": false,
     "read_only": false
    }
   },
   "outputs": [
    {
     "name": "stdout",
     "output_type": "stream",
     "text": [
      "States reached =  {'I', 'S0'}\n"
     ]
    },
    {
     "data": {
      "text/plain": [
       "{'I', 'S0'}"
      ]
     },
     "execution_count": 33,
     "metadata": {},
     "output_type": "execute_result"
    }
   ],
   "source": [
    "run_nfa(fig71b, \"I\", \"0\", chatty=True)"
   ]
  },
  {
   "cell_type": "code",
   "execution_count": 34,
   "metadata": {
    "run_control": {
     "frozen": false,
     "read_only": false
    }
   },
   "outputs": [
    {
     "data": {
      "text/plain": [
       "{'I'}"
      ]
     },
     "execution_count": 34,
     "metadata": {},
     "output_type": "execute_result"
    }
   ],
   "source": [
    "step_nfa(fig71b, \"I\", '1')"
   ]
  },
  {
   "cell_type": "code",
   "execution_count": 35,
   "metadata": {
    "run_control": {
     "frozen": false,
     "read_only": false
    }
   },
   "outputs": [
    {
     "data": {
      "text/plain": [
       "{'I', 'S0', 'S1'}"
      ]
     },
     "execution_count": 35,
     "metadata": {},
     "output_type": "execute_result"
    }
   ],
   "source": [
    "run_nfa(fig71b, \"I\", '1')"
   ]
  },
  {
   "cell_type": "code",
   "execution_count": 36,
   "metadata": {
    "run_control": {
     "frozen": false,
     "read_only": false
    }
   },
   "outputs": [
    {
     "data": {
      "text/plain": [
       "{'I', 'S0'}"
      ]
     },
     "execution_count": 36,
     "metadata": {},
     "output_type": "execute_result"
    }
   ],
   "source": [
    "run_nfa(fig71b, {\"I\"}, \"\")"
   ]
  },
  {
   "cell_type": "code",
   "execution_count": 37,
   "metadata": {
    "run_control": {
     "frozen": false,
     "read_only": false
    }
   },
   "outputs": [
    {
     "data": {
      "text/plain": [
       "{'I', 'S0'}"
      ]
     },
     "execution_count": 37,
     "metadata": {},
     "output_type": "execute_result"
    }
   ],
   "source": [
    "Eclosure(fig71b, {\"I\"})"
   ]
  },
  {
   "cell_type": "markdown",
   "metadata": {
    "run_control": {
     "frozen": false,
     "read_only": false
    }
   },
   "source": [
    "# The EClosure Function (defined on a set of states)"
   ]
  },
  {
   "cell_type": "code",
   "execution_count": 38,
   "metadata": {
    "run_control": {
     "frozen": false,
     "read_only": false
    }
   },
   "outputs": [
    {
     "data": {
      "text/plain": [
       "{'F', 'I', 'S0', 'S1'}"
      ]
     },
     "execution_count": 38,
     "metadata": {},
     "output_type": "execute_result"
    }
   ],
   "source": [
    "run_nfa(fig71b, {\"I\"}, \"0101\")"
   ]
  },
  {
   "cell_type": "code",
   "execution_count": 39,
   "metadata": {
    "run_control": {
     "frozen": false,
     "read_only": false
    }
   },
   "outputs": [
    {
     "name": "stdout",
     "output_type": "stream",
     "text": [
      "States reached =  {'I', 'S0'}\n",
      "States reached =  {'I', 'S1', 'S0'}\n",
      "States reached =  {'I', 'S2', 'S0'}\n",
      "States reached =  {'S0', 'I', 'S1', 'F'}\n"
     ]
    },
    {
     "data": {
      "text/plain": [
       "{'F', 'I', 'S0', 'S1'}"
      ]
     },
     "execution_count": 39,
     "metadata": {},
     "output_type": "execute_result"
    }
   ],
   "source": [
    "run_nfa(fig71b, {\"I\"}, \"0101\", True)"
   ]
  },
  {
   "cell_type": "code",
   "execution_count": 40,
   "metadata": {
    "run_control": {
     "frozen": false,
     "read_only": false
    }
   },
   "outputs": [],
   "source": [
    "import ipywidgets as wdg\n",
    "def run_nfa_slider(firstTime, N, s, n):\n",
    "    \"\"\"Run NFA N from N[\"Q0\"] (which is a set..) on substring s[0:n]\n",
    "    \"\"\"\n",
    "    if firstTime:\n",
    "        print(\"Eclosure of N's start state is\")\n",
    "        print(Eclosure(N, N[\"Q0\"]))\n",
    "        firstTime = False\n",
    "    S = N[\"Q0\"] \n",
    "    if (n > len(s)):\n",
    "        n = len(s)\n",
    "    print(\"string = \", s[0:n])\n",
    "    run_nfa(N, S, s[0:n], True)\n",
    "    \n",
    "def run_nfa_int(N1, N2):\n",
    "    \"\"\"Run interactively from the given NFA .. from {q0} \n",
    "       on input string's substring\n",
    "       as picked by slider.\n",
    "    \"\"\"\n",
    "    inp = input(\"Please provide string: \")\n",
    "    wdg.interact(run_nfa_slider, firstTime=True, N = {'N1': N1, 'N2': N2}, \n",
    "                 s = inp, n=(0,32) )"
   ]
  },
  {
   "cell_type": "code",
   "execution_count": 41,
   "metadata": {
    "run_control": {
     "frozen": false,
     "read_only": false
    }
   },
   "outputs": [
    {
     "name": "stdout",
     "output_type": "stream",
     "text": [
      "Eclosure of N's start state is\n",
      "{'I'}\n",
      "string =  10101\n",
      "States reached =  {'I', 'S0'}\n",
      "States reached =  {'I', 'S1'}\n",
      "States reached =  {'I', 'S0', 'F'}\n",
      "States reached =  {'I', 'S1'}\n",
      "States reached =  {'I', 'S0', 'F'}\n"
     ]
    }
   ],
   "source": [
    "run_nfa_int(fig71a, fig71b)"
   ]
  },
  {
   "cell_type": "code",
   "execution_count": 42,
   "metadata": {
    "run_control": {
     "frozen": false,
     "read_only": false
    }
   },
   "outputs": [
    {
     "data": {
      "image/svg+xml": [
       "<?xml version=\"1.0\" encoding=\"UTF-8\" standalone=\"no\"?>\n",
       "<!DOCTYPE svg PUBLIC \"-//W3C//DTD SVG 1.1//EN\"\n",
       " \"http://www.w3.org/Graphics/SVG/1.1/DTD/svg11.dtd\">\n",
       "<!-- Generated by graphviz version 2.38.0 (20140413.2041)\n",
       " -->\n",
       "<!-- Title: %3 Pages: 1 -->\n",
       "<svg width=\"532pt\" height=\"226pt\"\n",
       " viewBox=\"0.00 0.00 532.13 226.05\" xmlns=\"http://www.w3.org/2000/svg\" xmlns:xlink=\"http://www.w3.org/1999/xlink\">\n",
       "<g id=\"graph0\" class=\"graph\" transform=\"scale(1 1) rotate(0) translate(4 222.048)\">\n",
       "<title>%3</title>\n",
       "<polygon fill=\"white\" stroke=\"none\" points=\"-4,4 -4,-222.048 528.135,-222.048 528.135,4 -4,4\"/>\n",
       "<!-- EMPTY -->\n",
       "<g id=\"node1\" class=\"node\"><title>EMPTY</title>\n",
       "</g>\n",
       "<!-- I -->\n",
       "<g id=\"node2\" class=\"node\"><title>I</title>\n",
       "<ellipse fill=\"none\" stroke=\"black\" cx=\"109\" cy=\"-171.048\" rx=\"18\" ry=\"18\"/>\n",
       "<text text-anchor=\"middle\" x=\"109\" y=\"-166.848\" font-family=\"Times,serif\" font-size=\"14.00\">I</text>\n",
       "</g>\n",
       "<!-- EMPTY&#45;&gt;I -->\n",
       "<g id=\"edge1\" class=\"edge\"><title>EMPTY&#45;&gt;I</title>\n",
       "<path fill=\"none\" stroke=\"black\" d=\"M54.195,-171.048C62.6538,-171.048 72.0513,-171.048 80.5951,-171.048\"/>\n",
       "<polygon fill=\"black\" stroke=\"black\" points=\"80.8257,-174.548 90.8257,-171.048 80.8257,-167.548 80.8257,-174.548\"/>\n",
       "</g>\n",
       "<!-- G -->\n",
       "<g id=\"node3\" class=\"node\"><title>G</title>\n",
       "<ellipse fill=\"none\" stroke=\"black\" cx=\"419.135\" cy=\"-112.048\" rx=\"18\" ry=\"18\"/>\n",
       "<text text-anchor=\"middle\" x=\"419.135\" y=\"-107.848\" font-family=\"Times,serif\" font-size=\"14.00\">G</text>\n",
       "</g>\n",
       "<!-- I&#45;&gt;G -->\n",
       "<g id=\"edge3\" class=\"edge\"><title>I&#45;&gt;G</title>\n",
       "<path fill=\"none\" stroke=\"black\" d=\"M123.867,-181.308C138.356,-190.996 162.13,-204.048 185.045,-204.048 185.045,-204.048 185.045,-204.048 343.09,-204.048 377.051,-204.048 398.383,-165.938 409.275,-138.774\"/>\n",
       "<polygon fill=\"black\" stroke=\"black\" points=\"412.574,-139.944 412.819,-129.352 406.022,-137.48 412.574,-139.944\"/>\n",
       "<text text-anchor=\"middle\" x=\"263.09\" y=\"-206.848\" font-family=\"Times,serif\" font-size=\"14.00\">&#39;&#39;</text>\n",
       "</g>\n",
       "<!-- A -->\n",
       "<g id=\"node7\" class=\"node\"><title>A</title>\n",
       "<ellipse fill=\"none\" stroke=\"black\" cx=\"186.045\" cy=\"-100.048\" rx=\"18\" ry=\"18\"/>\n",
       "<text text-anchor=\"middle\" x=\"186.045\" y=\"-95.8479\" font-family=\"Times,serif\" font-size=\"14.00\">A</text>\n",
       "</g>\n",
       "<!-- I&#45;&gt;A -->\n",
       "<g id=\"edge2\" class=\"edge\"><title>I&#45;&gt;A</title>\n",
       "<path fill=\"none\" stroke=\"black\" d=\"M122.73,-159.004C134.336,-148.024 151.669,-131.625 165.111,-118.907\"/>\n",
       "<polygon fill=\"black\" stroke=\"black\" points=\"167.644,-121.329 172.503,-111.914 162.833,-116.244 167.644,-121.329\"/>\n",
       "<text text-anchor=\"middle\" x=\"147.522\" y=\"-139.848\" font-family=\"Times,serif\" font-size=\"14.00\">&#39;&#39;</text>\n",
       "</g>\n",
       "<!-- F -->\n",
       "<g id=\"node9\" class=\"node\"><title>F</title>\n",
       "<ellipse fill=\"none\" stroke=\"black\" cx=\"502.135\" cy=\"-112.048\" rx=\"18\" ry=\"18\"/>\n",
       "<ellipse fill=\"none\" stroke=\"black\" cx=\"502.135\" cy=\"-112.048\" rx=\"22\" ry=\"22\"/>\n",
       "<text text-anchor=\"middle\" x=\"502.135\" y=\"-107.848\" font-family=\"Times,serif\" font-size=\"14.00\">F</text>\n",
       "</g>\n",
       "<!-- G&#45;&gt;F -->\n",
       "<g id=\"edge12\" class=\"edge\"><title>G&#45;&gt;F</title>\n",
       "<path fill=\"none\" stroke=\"black\" d=\"M437.313,-112.048C446.744,-112.048 458.736,-112.048 469.772,-112.048\"/>\n",
       "<polygon fill=\"black\" stroke=\"black\" points=\"469.946,-115.548 479.946,-112.048 469.946,-108.548 469.946,-115.548\"/>\n",
       "<text text-anchor=\"middle\" x=\"458.635\" y=\"-114.848\" font-family=\"Times,serif\" font-size=\"14.00\">1</text>\n",
       "</g>\n",
       "<!-- C -->\n",
       "<g id=\"node4\" class=\"node\"><title>C</title>\n",
       "<ellipse fill=\"none\" stroke=\"black\" cx=\"263.09\" cy=\"-100.048\" rx=\"18\" ry=\"18\"/>\n",
       "<text text-anchor=\"middle\" x=\"263.09\" y=\"-95.8479\" font-family=\"Times,serif\" font-size=\"14.00\">C</text>\n",
       "</g>\n",
       "<!-- E -->\n",
       "<g id=\"node5\" class=\"node\"><title>E</title>\n",
       "<ellipse fill=\"none\" stroke=\"black\" cx=\"342.09\" cy=\"-112.048\" rx=\"18\" ry=\"18\"/>\n",
       "<text text-anchor=\"middle\" x=\"342.09\" y=\"-107.848\" font-family=\"Times,serif\" font-size=\"14.00\">E</text>\n",
       "</g>\n",
       "<!-- C&#45;&gt;E -->\n",
       "<g id=\"edge7\" class=\"edge\"><title>C&#45;&gt;E</title>\n",
       "<path fill=\"none\" stroke=\"black\" d=\"M281.179,-102.711C290.848,-104.218 303.161,-106.137 314.105,-107.842\"/>\n",
       "<polygon fill=\"black\" stroke=\"black\" points=\"313.629,-111.31 324.049,-109.392 314.707,-104.394 313.629,-111.31\"/>\n",
       "<text text-anchor=\"middle\" x=\"302.59\" y=\"-108.848\" font-family=\"Times,serif\" font-size=\"14.00\">0</text>\n",
       "</g>\n",
       "<!-- E&#45;&gt;G -->\n",
       "<g id=\"edge11\" class=\"edge\"><title>E&#45;&gt;G</title>\n",
       "<path fill=\"none\" stroke=\"black\" d=\"M360.119,-112.048C369.17,-112.048 380.516,-112.048 390.768,-112.048\"/>\n",
       "<polygon fill=\"black\" stroke=\"black\" points=\"390.914,-115.548 400.914,-112.048 390.913,-108.548 390.914,-115.548\"/>\n",
       "<text text-anchor=\"middle\" x=\"380.612\" y=\"-114.848\" font-family=\"Times,serif\" font-size=\"14.00\">&#39;&#39;</text>\n",
       "</g>\n",
       "<!-- E&#45;&gt;A -->\n",
       "<g id=\"edge10\" class=\"edge\"><title>E&#45;&gt;A</title>\n",
       "<path fill=\"none\" stroke=\"black\" d=\"M324.915,-118.39C319.062,-120.471 312.352,-122.616 306.09,-124.048 279.629,-130.1 271.765,-132.072 245.09,-127.048 233.171,-124.803 220.866,-119.566 210.671,-114.296\"/>\n",
       "<polygon fill=\"black\" stroke=\"black\" points=\"212.073,-111.073 201.623,-109.329 208.705,-117.209 212.073,-111.073\"/>\n",
       "<text text-anchor=\"middle\" x=\"263.09\" y=\"-131.848\" font-family=\"Times,serif\" font-size=\"14.00\">&#39;&#39;</text>\n",
       "</g>\n",
       "<!-- B -->\n",
       "<g id=\"node6\" class=\"node\"><title>B</title>\n",
       "<ellipse fill=\"none\" stroke=\"black\" cx=\"263.09\" cy=\"-46.0479\" rx=\"18\" ry=\"18\"/>\n",
       "<text text-anchor=\"middle\" x=\"263.09\" y=\"-41.8479\" font-family=\"Times,serif\" font-size=\"14.00\">B</text>\n",
       "</g>\n",
       "<!-- D -->\n",
       "<g id=\"node8\" class=\"node\"><title>D</title>\n",
       "<ellipse fill=\"none\" stroke=\"black\" cx=\"342.09\" cy=\"-46.0479\" rx=\"18\" ry=\"18\"/>\n",
       "<text text-anchor=\"middle\" x=\"342.09\" y=\"-41.8479\" font-family=\"Times,serif\" font-size=\"14.00\">D</text>\n",
       "</g>\n",
       "<!-- B&#45;&gt;D -->\n",
       "<g id=\"edge6\" class=\"edge\"><title>B&#45;&gt;D</title>\n",
       "<path fill=\"none\" stroke=\"black\" d=\"M281.179,-46.0479C290.749,-46.0479 302.907,-46.0479 313.766,-46.0479\"/>\n",
       "<polygon fill=\"black\" stroke=\"black\" points=\"314.049,-49.548 324.049,-46.0479 314.049,-42.548 314.049,-49.548\"/>\n",
       "<text text-anchor=\"middle\" x=\"302.59\" y=\"-48.8479\" font-family=\"Times,serif\" font-size=\"14.00\">1</text>\n",
       "</g>\n",
       "<!-- A&#45;&gt;C -->\n",
       "<g id=\"edge4\" class=\"edge\"><title>A&#45;&gt;C</title>\n",
       "<path fill=\"none\" stroke=\"black\" d=\"M204.074,-100.048C213.125,-100.048 224.471,-100.048 234.723,-100.048\"/>\n",
       "<polygon fill=\"black\" stroke=\"black\" points=\"234.869,-103.548 244.869,-100.048 234.869,-96.548 234.869,-103.548\"/>\n",
       "<text text-anchor=\"middle\" x=\"224.567\" y=\"-102.848\" font-family=\"Times,serif\" font-size=\"14.00\">&#39;&#39;</text>\n",
       "</g>\n",
       "<!-- A&#45;&gt;B -->\n",
       "<g id=\"edge5\" class=\"edge\"><title>A&#45;&gt;B</title>\n",
       "<path fill=\"none\" stroke=\"black\" d=\"M201.16,-89.8909C212.061,-82.0467 227.351,-71.0446 239.887,-62.0243\"/>\n",
       "<polygon fill=\"black\" stroke=\"black\" points=\"241.965,-64.841 248.038,-56.1593 237.876,-59.1591 241.965,-64.841\"/>\n",
       "<text text-anchor=\"middle\" x=\"224.567\" y=\"-77.8479\" font-family=\"Times,serif\" font-size=\"14.00\">&#39;&#39;</text>\n",
       "</g>\n",
       "<!-- D&#45;&gt;G -->\n",
       "<g id=\"edge9\" class=\"edge\"><title>D&#45;&gt;G</title>\n",
       "<path fill=\"none\" stroke=\"black\" d=\"M356.162,-57.5442C367.499,-67.5148 384.11,-82.1242 397.282,-93.7085\"/>\n",
       "<polygon fill=\"black\" stroke=\"black\" points=\"395.14,-96.4859 404.961,-100.462 399.763,-91.2296 395.14,-96.4859\"/>\n",
       "<text text-anchor=\"middle\" x=\"380.612\" y=\"-83.8479\" font-family=\"Times,serif\" font-size=\"14.00\">&#39;&#39;</text>\n",
       "</g>\n",
       "<!-- D&#45;&gt;A -->\n",
       "<g id=\"edge8\" class=\"edge\"><title>D&#45;&gt;A</title>\n",
       "<path fill=\"none\" stroke=\"black\" d=\"M328.874,-33.7062C310.243,-16.4422 273.858,11.0877 245.09,-5.04786 219.361,-19.4787 203.679,-50.4697 195.21,-73.1454\"/>\n",
       "<polygon fill=\"black\" stroke=\"black\" points=\"191.8,-72.2946 191.815,-82.8895 198.41,-74.5973 191.8,-72.2946\"/>\n",
       "<text text-anchor=\"middle\" x=\"263.09\" y=\"-7.84786\" font-family=\"Times,serif\" font-size=\"14.00\">&#39;&#39;</text>\n",
       "</g>\n",
       "</g>\n",
       "</svg>\n"
      ],
      "text/plain": [
       "<graphviz.dot.Digraph at 0x1018ba240>"
      ]
     },
     "execution_count": 42,
     "metadata": {},
     "output_type": "execute_result"
    }
   ],
   "source": [
    "fig74a = md2mc('''\n",
    "NFA\n",
    "I : '' -> A, G\n",
    "A : '' -> B, C\n",
    "B : 1  -> D\n",
    "C : 0  -> E\n",
    "D : '' -> A, G\n",
    "E : '' -> A, G\n",
    "G : 1  -> F\n",
    "''')\n",
    "dotObj_nfa(fig74a)"
   ]
  },
  {
   "cell_type": "code",
   "execution_count": 43,
   "metadata": {
    "run_control": {
     "frozen": false,
     "read_only": false
    }
   },
   "outputs": [
    {
     "name": "stdout",
     "output_type": "stream",
     "text": [
      "Eclosure of N's start state is\n",
      "{'I', 'G', 'C', 'A', 'B'}\n",
      "string =  001101\n",
      "States reached =  {'G', 'C', 'E', 'A', 'B'}\n",
      "States reached =  {'G', 'C', 'E', 'A', 'B'}\n",
      "States reached =  {'G', 'D', 'C', 'A', 'B', 'F'}\n",
      "States reached =  {'G', 'D', 'C', 'A', 'B', 'F'}\n",
      "States reached =  {'G', 'C', 'E', 'A', 'B'}\n",
      "States reached =  {'G', 'D', 'C', 'A', 'B', 'F'}\n"
     ]
    }
   ],
   "source": [
    "run_nfa_int(fig74a, fig71b)"
   ]
  },
  {
   "cell_type": "markdown",
   "metadata": {
    "run_control": {
     "frozen": false,
     "read_only": false
    }
   },
   "source": [
    "# DFA to NFA conversion (!)\n",
    "\n",
    "This is a useful helper and helps understand the theory, but not widely used.\n",
    "Its main use is within \"NFA2RE\". Suppose you want to convert a DFA to an RE? \n",
    "Then use dfa2nfa and then NFA2RE :-)"
   ]
  },
  {
   "cell_type": "code",
   "execution_count": 44,
   "metadata": {
    "run_control": {
     "frozen": false,
     "read_only": false
    }
   },
   "outputs": [],
   "source": [
    "def dfa2nfa(D):\n",
    "    \"\"\"Given a DFA D, make a language-equivalent NFA.\n",
    "    \"\"\"\n",
    "    assert(\n",
    "    is_partially_consistent_dfa(D)\n",
    "    ), \"DFA given to dfa2nfa is not part. consist.\"\n",
    "    return { \"Q\"     : D[\"Q\"],\n",
    "             \"Sigma\" : D[\"Sigma\"],\n",
    "             \"Delta\" : dict((a,{b}) for (a,b) in D[\"Delta\"].items()),\n",
    "             \"Q0\"    : { D[\"q0\"] },\n",
    "             \"F\"     : D[\"F\"] }  "
   ]
  },
  {
   "cell_type": "markdown",
   "metadata": {
    "run_control": {
     "frozen": false,
     "read_only": false
    }
   },
   "source": [
    "# NFA to DFA conversion\n",
    "\n",
    "\n",
    "* Input: An NFA, N\n",
    "\n",
    "* Output: A language-equivalent DFA, D\n",
    "\n",
    "* Method: Subset Construction\n",
    "\n",
    "  - Data structure to maintain : \n",
    "  \n",
    "    * A set called \"Unexpanded\" (UNEXP for short), which holds SETS of states of the given NFA, N\n",
    "    \n",
    "    * These serve as the states of the DFA (D) being built\n",
    "    \n",
    "      - Note that UNEXP is a set of state-sets (set of 'set-of-states' if you will)\n",
    "\n",
    "> * Let INIT = D[\"q0\"] (DFA's initial state) =  Eclosure of N[\"Q0\"]  \n",
    "\n",
    "> * Add INIT to UNEXP\n",
    "\n",
    "---\n",
    "  \n",
    "> WHILE (UNEXP $\\neq \\emptyset$) DO\n",
    "\n",
    "> > Choose a state S from UNEXP\n",
    "\n",
    "> > Delete S from UNEXP\n",
    "\n",
    "> > Expand(S)   --   Expand(S) will add all the 'c' moves out of S where c $\\in \\Sigma$\n",
    "\n",
    "> END WHILE \n",
    "\n",
    "** Expand(S): **\n",
    "\n",
    "> For each symbol $c$ in $\\Sigma$\n",
    "\n",
    "> > For each state s ∈ S do  --  Recall that S is a set of states\n",
    "\n",
    "> > > Let $NS_c$ = $\\delta(s,c)$ --  Find the next __set of states__ the NFA can be, starting from s, moving on c \n",
    "\n",
    "> > > Let $NSE_c$ = Eclose($NS_c$)   --  Eclose $NS_c$ which means Eclose every state in $NS_c$ and union them\n",
    "\n",
    "> > > Introduce a transition in D from S to $NSE_c$\n",
    "\n",
    "> > If $NSE_c$ does not exist in the DFA D, add it to UNEXP\n",
    "\n",
    "** Eclose(S): **\n",
    "\n",
    "> For each state $x \\in S$:\n",
    "\n",
    "> > Move $x$ through $\\varepsilon$, obtaining a set of next state $S_x$\n",
    "\n",
    "> Union these $S_x$ and return that union"
   ]
  },
  {
   "cell_type": "markdown",
   "metadata": {
    "run_control": {
     "frozen": false,
     "read_only": false
    }
   },
   "source": [
    "# The Actual NFA 2 DFA Conversion Code"
   ]
  },
  {
   "cell_type": "code",
   "execution_count": 45,
   "metadata": {
    "run_control": {
     "frozen": false,
     "read_only": false
    }
   },
   "outputs": [],
   "source": [
    "def nfa2dfa(N):\n",
    "    \"\"\"In : N (consistent NFA)\n",
    "       Out: A consistent DFA that is language-equivalent to N.\n",
    "    \"\"\"\n",
    "    assert(\n",
    "        is_consistent_nfa(N)\n",
    "    ), \"nfa2dfa was given an inconsistent NFA.\"\n",
    "    # EClose the starting state of the NFA\n",
    "    EC = Eclosure(N, N[\"Q0\"])\n",
    "    return n2d(Frontier=[EC], Visited=[EC], Delta=dict({}), Nfa=N)\n",
    "\n",
    "\n",
    "def n2d(Frontier, Visited, Delta, Nfa):\n",
    "    \"\"\"Helper for nfa2dfa.\n",
    "       ---\n",
    "       In : Frontier (list of state sets; initially Eclosed Q0)\n",
    "            Visited  (list of visited state sets; initially Eclosed Q0)\n",
    "            Delta    (the DFA transition function being formed)\n",
    "            Nfa      (the NFA being converted)\n",
    "       Helper to nfa2dfa. Given a (BFS) frontier, a Visited\n",
    "       set of states, the Delta being formed, and NFA Nfa, see\n",
    "       if all new moves are in Visited:\n",
    "         do last gasp of Delta update; make and return a DFA;\n",
    "       else: extend Frontier, Visited, Delta; recurse.\n",
    "    \"\"\"\n",
    "    All_c_Moves = [ ((Q,c),ec_step_nfa(Nfa,Q,c)) \n",
    "                   for Q in Frontier \n",
    "                   for c in Nfa[\"Sigma\"] ]\n",
    "    New_c_Moves = list(filter(lambda QcQ: trTrg(QcQ) not in Visited, \n",
    "                              All_c_Moves))  \n",
    "    if New_c_Moves == []:\n",
    "        # Add last-gasp c-moves that curl back!\n",
    "        last_gasp_c_moves = dict([ ((mkSSnam(Qfrom),c),mkSSnam(Qto)) \n",
    "                                  for ((Qfrom, c), Qto) in All_c_Moves ])\n",
    "        Delta.update(last_gasp_c_moves)\n",
    "                  \n",
    "        # DFA states are visited states\n",
    "        DFA_Q = { mkSSnam(Q) for Q in Visited }\n",
    "                  \n",
    "        # Retain alphabet\n",
    "        DFA_Sigma = Nfa[\"Sigma\"]\n",
    "                  \n",
    "        # Delta is ready to go\n",
    "        DFA_Delta = Delta\n",
    "                  \n",
    "        # DFA starts at Eclosure of Nfa's Q0 set of states\n",
    "        DFA_q0 = mkSSnam(Eclosure(Nfa, Nfa[\"Q0\"]))\n",
    "                  \n",
    "        # DFA's final states are those in visited that contain an NFA \n",
    "        # F-state but don't retain any empty sets, in case the NFA given \n",
    "        # has no F-states!\n",
    "        # This is another corner-case (i.e. don't shove-in black hole \n",
    "        # states!)\n",
    "        DFA_F = set(map(lambda Q: mkSSnam(Q), \n",
    "                        filter(lambda Q: (Nfa[\"F\"]&Q) != set({}), \n",
    "                               Visited)))\n",
    "                  \n",
    "        # Make the DFA; send it to the DFA-shrink to bask ugly long \n",
    "        # state names...\n",
    "        return shrink_dfastates(mk_dfa(DFA_Q, \n",
    "                                       DFA_Sigma, \n",
    "                                       DFA_Delta, \n",
    "                                       DFA_q0, \n",
    "                                       DFA_F))\n",
    "    else:\n",
    "        newFrontier = list(map(lambda QcQ: trTrg(QcQ), New_c_Moves)) \n",
    "        newVisited = Visited + newFrontier\n",
    "                  \n",
    "        # Even though the NFA has not closed back on itself, we MUST \n",
    "        # accommodate for the \"curl-backs\" along the way !!  Thus, run it\n",
    "        # over All_c_Moves which may include \"partial revisits along the \n",
    "        # way\". We MUST pick up those curl-backs!\n",
    "        NewMovesDelta = dict([ ((mkSSnam(Qfrom),c),mkSSnam(Qto)) \n",
    "                              for ((Qfrom, c), Qto) in All_c_Moves ]) \n",
    "        Delta.update(NewMovesDelta)\n",
    "        return n2d(newFrontier, newVisited, Delta, Nfa)\n",
    "                                  \n",
    "#---NFA to DFA"
   ]
  },
  {
   "cell_type": "code",
   "execution_count": 46,
   "metadata": {
    "run_control": {
     "frozen": false,
     "read_only": false
    }
   },
   "outputs": [
    {
     "data": {
      "image/svg+xml": [
       "<?xml version=\"1.0\" encoding=\"UTF-8\" standalone=\"no\"?>\n",
       "<!DOCTYPE svg PUBLIC \"-//W3C//DTD SVG 1.1//EN\"\n",
       " \"http://www.w3.org/Graphics/SVG/1.1/DTD/svg11.dtd\">\n",
       "<!-- Generated by graphviz version 2.38.0 (20140413.2041)\n",
       " -->\n",
       "<!-- Title: %3 Pages: 1 -->\n",
       "<svg width=\"532pt\" height=\"226pt\"\n",
       " viewBox=\"0.00 0.00 532.13 226.05\" xmlns=\"http://www.w3.org/2000/svg\" xmlns:xlink=\"http://www.w3.org/1999/xlink\">\n",
       "<g id=\"graph0\" class=\"graph\" transform=\"scale(1 1) rotate(0) translate(4 222.048)\">\n",
       "<title>%3</title>\n",
       "<polygon fill=\"white\" stroke=\"none\" points=\"-4,4 -4,-222.048 528.135,-222.048 528.135,4 -4,4\"/>\n",
       "<!-- EMPTY -->\n",
       "<g id=\"node1\" class=\"node\"><title>EMPTY</title>\n",
       "</g>\n",
       "<!-- I -->\n",
       "<g id=\"node2\" class=\"node\"><title>I</title>\n",
       "<ellipse fill=\"none\" stroke=\"black\" cx=\"109\" cy=\"-171.048\" rx=\"18\" ry=\"18\"/>\n",
       "<text text-anchor=\"middle\" x=\"109\" y=\"-166.848\" font-family=\"Times,serif\" font-size=\"14.00\">I</text>\n",
       "</g>\n",
       "<!-- EMPTY&#45;&gt;I -->\n",
       "<g id=\"edge1\" class=\"edge\"><title>EMPTY&#45;&gt;I</title>\n",
       "<path fill=\"none\" stroke=\"black\" d=\"M54.195,-171.048C62.6538,-171.048 72.0513,-171.048 80.5951,-171.048\"/>\n",
       "<polygon fill=\"black\" stroke=\"black\" points=\"80.8257,-174.548 90.8257,-171.048 80.8257,-167.548 80.8257,-174.548\"/>\n",
       "</g>\n",
       "<!-- G -->\n",
       "<g id=\"node3\" class=\"node\"><title>G</title>\n",
       "<ellipse fill=\"none\" stroke=\"black\" cx=\"419.135\" cy=\"-112.048\" rx=\"18\" ry=\"18\"/>\n",
       "<text text-anchor=\"middle\" x=\"419.135\" y=\"-107.848\" font-family=\"Times,serif\" font-size=\"14.00\">G</text>\n",
       "</g>\n",
       "<!-- I&#45;&gt;G -->\n",
       "<g id=\"edge3\" class=\"edge\"><title>I&#45;&gt;G</title>\n",
       "<path fill=\"none\" stroke=\"black\" d=\"M123.867,-181.308C138.356,-190.996 162.13,-204.048 185.045,-204.048 185.045,-204.048 185.045,-204.048 343.09,-204.048 377.051,-204.048 398.383,-165.938 409.275,-138.774\"/>\n",
       "<polygon fill=\"black\" stroke=\"black\" points=\"412.574,-139.944 412.819,-129.352 406.022,-137.48 412.574,-139.944\"/>\n",
       "<text text-anchor=\"middle\" x=\"263.09\" y=\"-206.848\" font-family=\"Times,serif\" font-size=\"14.00\">&#39;&#39;</text>\n",
       "</g>\n",
       "<!-- A -->\n",
       "<g id=\"node7\" class=\"node\"><title>A</title>\n",
       "<ellipse fill=\"none\" stroke=\"black\" cx=\"186.045\" cy=\"-100.048\" rx=\"18\" ry=\"18\"/>\n",
       "<text text-anchor=\"middle\" x=\"186.045\" y=\"-95.8479\" font-family=\"Times,serif\" font-size=\"14.00\">A</text>\n",
       "</g>\n",
       "<!-- I&#45;&gt;A -->\n",
       "<g id=\"edge2\" class=\"edge\"><title>I&#45;&gt;A</title>\n",
       "<path fill=\"none\" stroke=\"black\" d=\"M122.73,-159.004C134.336,-148.024 151.669,-131.625 165.111,-118.907\"/>\n",
       "<polygon fill=\"black\" stroke=\"black\" points=\"167.644,-121.329 172.503,-111.914 162.833,-116.244 167.644,-121.329\"/>\n",
       "<text text-anchor=\"middle\" x=\"147.522\" y=\"-139.848\" font-family=\"Times,serif\" font-size=\"14.00\">&#39;&#39;</text>\n",
       "</g>\n",
       "<!-- F -->\n",
       "<g id=\"node9\" class=\"node\"><title>F</title>\n",
       "<ellipse fill=\"none\" stroke=\"black\" cx=\"502.135\" cy=\"-112.048\" rx=\"18\" ry=\"18\"/>\n",
       "<ellipse fill=\"none\" stroke=\"black\" cx=\"502.135\" cy=\"-112.048\" rx=\"22\" ry=\"22\"/>\n",
       "<text text-anchor=\"middle\" x=\"502.135\" y=\"-107.848\" font-family=\"Times,serif\" font-size=\"14.00\">F</text>\n",
       "</g>\n",
       "<!-- G&#45;&gt;F -->\n",
       "<g id=\"edge12\" class=\"edge\"><title>G&#45;&gt;F</title>\n",
       "<path fill=\"none\" stroke=\"black\" d=\"M437.313,-112.048C446.744,-112.048 458.736,-112.048 469.772,-112.048\"/>\n",
       "<polygon fill=\"black\" stroke=\"black\" points=\"469.946,-115.548 479.946,-112.048 469.946,-108.548 469.946,-115.548\"/>\n",
       "<text text-anchor=\"middle\" x=\"458.635\" y=\"-114.848\" font-family=\"Times,serif\" font-size=\"14.00\">1</text>\n",
       "</g>\n",
       "<!-- C -->\n",
       "<g id=\"node4\" class=\"node\"><title>C</title>\n",
       "<ellipse fill=\"none\" stroke=\"black\" cx=\"263.09\" cy=\"-100.048\" rx=\"18\" ry=\"18\"/>\n",
       "<text text-anchor=\"middle\" x=\"263.09\" y=\"-95.8479\" font-family=\"Times,serif\" font-size=\"14.00\">C</text>\n",
       "</g>\n",
       "<!-- E -->\n",
       "<g id=\"node5\" class=\"node\"><title>E</title>\n",
       "<ellipse fill=\"none\" stroke=\"black\" cx=\"342.09\" cy=\"-112.048\" rx=\"18\" ry=\"18\"/>\n",
       "<text text-anchor=\"middle\" x=\"342.09\" y=\"-107.848\" font-family=\"Times,serif\" font-size=\"14.00\">E</text>\n",
       "</g>\n",
       "<!-- C&#45;&gt;E -->\n",
       "<g id=\"edge7\" class=\"edge\"><title>C&#45;&gt;E</title>\n",
       "<path fill=\"none\" stroke=\"black\" d=\"M281.179,-102.711C290.848,-104.218 303.161,-106.137 314.105,-107.842\"/>\n",
       "<polygon fill=\"black\" stroke=\"black\" points=\"313.629,-111.31 324.049,-109.392 314.707,-104.394 313.629,-111.31\"/>\n",
       "<text text-anchor=\"middle\" x=\"302.59\" y=\"-108.848\" font-family=\"Times,serif\" font-size=\"14.00\">0</text>\n",
       "</g>\n",
       "<!-- E&#45;&gt;G -->\n",
       "<g id=\"edge11\" class=\"edge\"><title>E&#45;&gt;G</title>\n",
       "<path fill=\"none\" stroke=\"black\" d=\"M360.119,-112.048C369.17,-112.048 380.516,-112.048 390.768,-112.048\"/>\n",
       "<polygon fill=\"black\" stroke=\"black\" points=\"390.914,-115.548 400.914,-112.048 390.913,-108.548 390.914,-115.548\"/>\n",
       "<text text-anchor=\"middle\" x=\"380.612\" y=\"-114.848\" font-family=\"Times,serif\" font-size=\"14.00\">&#39;&#39;</text>\n",
       "</g>\n",
       "<!-- E&#45;&gt;A -->\n",
       "<g id=\"edge10\" class=\"edge\"><title>E&#45;&gt;A</title>\n",
       "<path fill=\"none\" stroke=\"black\" d=\"M324.915,-118.39C319.062,-120.471 312.352,-122.616 306.09,-124.048 279.629,-130.1 271.765,-132.072 245.09,-127.048 233.171,-124.803 220.866,-119.566 210.671,-114.296\"/>\n",
       "<polygon fill=\"black\" stroke=\"black\" points=\"212.073,-111.073 201.623,-109.329 208.705,-117.209 212.073,-111.073\"/>\n",
       "<text text-anchor=\"middle\" x=\"263.09\" y=\"-131.848\" font-family=\"Times,serif\" font-size=\"14.00\">&#39;&#39;</text>\n",
       "</g>\n",
       "<!-- B -->\n",
       "<g id=\"node6\" class=\"node\"><title>B</title>\n",
       "<ellipse fill=\"none\" stroke=\"black\" cx=\"263.09\" cy=\"-46.0479\" rx=\"18\" ry=\"18\"/>\n",
       "<text text-anchor=\"middle\" x=\"263.09\" y=\"-41.8479\" font-family=\"Times,serif\" font-size=\"14.00\">B</text>\n",
       "</g>\n",
       "<!-- D -->\n",
       "<g id=\"node8\" class=\"node\"><title>D</title>\n",
       "<ellipse fill=\"none\" stroke=\"black\" cx=\"342.09\" cy=\"-46.0479\" rx=\"18\" ry=\"18\"/>\n",
       "<text text-anchor=\"middle\" x=\"342.09\" y=\"-41.8479\" font-family=\"Times,serif\" font-size=\"14.00\">D</text>\n",
       "</g>\n",
       "<!-- B&#45;&gt;D -->\n",
       "<g id=\"edge6\" class=\"edge\"><title>B&#45;&gt;D</title>\n",
       "<path fill=\"none\" stroke=\"black\" d=\"M281.179,-46.0479C290.749,-46.0479 302.907,-46.0479 313.766,-46.0479\"/>\n",
       "<polygon fill=\"black\" stroke=\"black\" points=\"314.049,-49.548 324.049,-46.0479 314.049,-42.548 314.049,-49.548\"/>\n",
       "<text text-anchor=\"middle\" x=\"302.59\" y=\"-48.8479\" font-family=\"Times,serif\" font-size=\"14.00\">1</text>\n",
       "</g>\n",
       "<!-- A&#45;&gt;C -->\n",
       "<g id=\"edge4\" class=\"edge\"><title>A&#45;&gt;C</title>\n",
       "<path fill=\"none\" stroke=\"black\" d=\"M204.074,-100.048C213.125,-100.048 224.471,-100.048 234.723,-100.048\"/>\n",
       "<polygon fill=\"black\" stroke=\"black\" points=\"234.869,-103.548 244.869,-100.048 234.869,-96.548 234.869,-103.548\"/>\n",
       "<text text-anchor=\"middle\" x=\"224.567\" y=\"-102.848\" font-family=\"Times,serif\" font-size=\"14.00\">&#39;&#39;</text>\n",
       "</g>\n",
       "<!-- A&#45;&gt;B -->\n",
       "<g id=\"edge5\" class=\"edge\"><title>A&#45;&gt;B</title>\n",
       "<path fill=\"none\" stroke=\"black\" d=\"M201.16,-89.8909C212.061,-82.0467 227.351,-71.0446 239.887,-62.0243\"/>\n",
       "<polygon fill=\"black\" stroke=\"black\" points=\"241.965,-64.841 248.038,-56.1593 237.876,-59.1591 241.965,-64.841\"/>\n",
       "<text text-anchor=\"middle\" x=\"224.567\" y=\"-77.8479\" font-family=\"Times,serif\" font-size=\"14.00\">&#39;&#39;</text>\n",
       "</g>\n",
       "<!-- D&#45;&gt;G -->\n",
       "<g id=\"edge9\" class=\"edge\"><title>D&#45;&gt;G</title>\n",
       "<path fill=\"none\" stroke=\"black\" d=\"M356.162,-57.5442C367.499,-67.5148 384.11,-82.1242 397.282,-93.7085\"/>\n",
       "<polygon fill=\"black\" stroke=\"black\" points=\"395.14,-96.4859 404.961,-100.462 399.763,-91.2296 395.14,-96.4859\"/>\n",
       "<text text-anchor=\"middle\" x=\"380.612\" y=\"-83.8479\" font-family=\"Times,serif\" font-size=\"14.00\">&#39;&#39;</text>\n",
       "</g>\n",
       "<!-- D&#45;&gt;A -->\n",
       "<g id=\"edge8\" class=\"edge\"><title>D&#45;&gt;A</title>\n",
       "<path fill=\"none\" stroke=\"black\" d=\"M328.874,-33.7062C310.243,-16.4422 273.858,11.0877 245.09,-5.04786 219.361,-19.4787 203.679,-50.4697 195.21,-73.1454\"/>\n",
       "<polygon fill=\"black\" stroke=\"black\" points=\"191.8,-72.2946 191.815,-82.8895 198.41,-74.5973 191.8,-72.2946\"/>\n",
       "<text text-anchor=\"middle\" x=\"263.09\" y=\"-7.84786\" font-family=\"Times,serif\" font-size=\"14.00\">&#39;&#39;</text>\n",
       "</g>\n",
       "</g>\n",
       "</svg>\n"
      ],
      "text/plain": [
       "<graphviz.dot.Digraph at 0x102ee9e48>"
      ]
     },
     "execution_count": 46,
     "metadata": {},
     "output_type": "execute_result"
    }
   ],
   "source": [
    "fig74a = md2mc('''\n",
    "NFA\n",
    "I : '' -> A, G\n",
    "A : '' -> B, C\n",
    "B : 1  -> D\n",
    "C : 0  -> E\n",
    "D : '' -> A, G\n",
    "E : '' -> A, G\n",
    "G : 1  -> F\n",
    "''')\n",
    "dotObj_nfa(fig74a)"
   ]
  },
  {
   "cell_type": "code",
   "execution_count": 47,
   "metadata": {
    "run_control": {
     "frozen": false,
     "read_only": false
    }
   },
   "outputs": [
    {
     "data": {
      "image/svg+xml": [
       "<?xml version=\"1.0\" encoding=\"UTF-8\" standalone=\"no\"?>\n",
       "<!DOCTYPE svg PUBLIC \"-//W3C//DTD SVG 1.1//EN\"\n",
       " \"http://www.w3.org/Graphics/SVG/1.1/DTD/svg11.dtd\">\n",
       "<!-- Generated by graphviz version 2.38.0 (20140413.2041)\n",
       " -->\n",
       "<!-- Title: %3 Pages: 1 -->\n",
       "<svg width=\"324pt\" height=\"117pt\"\n",
       " viewBox=\"0.00 0.00 324.42 116.81\" xmlns=\"http://www.w3.org/2000/svg\" xmlns:xlink=\"http://www.w3.org/1999/xlink\">\n",
       "<g id=\"graph0\" class=\"graph\" transform=\"scale(1 1) rotate(0) translate(4 112.808)\">\n",
       "<title>%3</title>\n",
       "<polygon fill=\"white\" stroke=\"none\" points=\"-4,4 -4,-112.808 320.423,-112.808 320.423,4 -4,4\"/>\n",
       "<!-- EMPTY -->\n",
       "<g id=\"node1\" class=\"node\"><title>EMPTY</title>\n",
       "</g>\n",
       "<!-- St2 -->\n",
       "<g id=\"node2\" class=\"node\"><title>St2</title>\n",
       "<ellipse fill=\"none\" stroke=\"black\" cx=\"112.904\" cy=\"-21.9039\" rx=\"21.8081\" ry=\"21.8081\"/>\n",
       "<text text-anchor=\"middle\" x=\"112.904\" y=\"-17.7039\" font-family=\"Times,serif\" font-size=\"14.00\">St2</text>\n",
       "</g>\n",
       "<!-- EMPTY&#45;&gt;St2 -->\n",
       "<g id=\"edge1\" class=\"edge\"><title>EMPTY&#45;&gt;St2</title>\n",
       "<path fill=\"none\" stroke=\"black\" d=\"M54.0878,-21.9039C62.501,-21.9039 71.9126,-21.9039 80.6587,-21.9039\"/>\n",
       "<polygon fill=\"black\" stroke=\"black\" points=\"80.8854,-25.404 90.8853,-21.9039 80.8853,-18.404 80.8854,-25.404\"/>\n",
       "</g>\n",
       "<!-- St1 -->\n",
       "<g id=\"node3\" class=\"node\"><title>St1</title>\n",
       "<ellipse fill=\"none\" stroke=\"black\" cx=\"199.712\" cy=\"-54.9039\" rx=\"21.8081\" ry=\"21.8081\"/>\n",
       "<text text-anchor=\"middle\" x=\"199.712\" y=\"-50.7039\" font-family=\"Times,serif\" font-size=\"14.00\">St1</text>\n",
       "</g>\n",
       "<!-- St2&#45;&gt;St1 -->\n",
       "<g id=\"edge2\" class=\"edge\"><title>St2&#45;&gt;St1</title>\n",
       "<path fill=\"none\" stroke=\"black\" d=\"M133.574,-29.5577C144.277,-33.7227 157.725,-38.9554 169.618,-43.5832\"/>\n",
       "<polygon fill=\"black\" stroke=\"black\" points=\"168.56,-46.927 179.149,-47.2916 171.098,-40.4034 168.56,-46.927\"/>\n",
       "<text text-anchor=\"middle\" x=\"156.308\" y=\"-42.7039\" font-family=\"Times,serif\" font-size=\"14.00\">0</text>\n",
       "</g>\n",
       "<!-- St0 -->\n",
       "<g id=\"node4\" class=\"node\"><title>St0</title>\n",
       "<ellipse fill=\"none\" stroke=\"black\" cx=\"290.519\" cy=\"-33.9039\" rx=\"21.8229\" ry=\"21.8229\"/>\n",
       "<ellipse fill=\"none\" stroke=\"black\" cx=\"290.519\" cy=\"-33.9039\" rx=\"25.8081\" ry=\"25.8081\"/>\n",
       "<text text-anchor=\"middle\" x=\"290.519\" y=\"-29.7039\" font-family=\"Times,serif\" font-size=\"14.00\">St0</text>\n",
       "</g>\n",
       "<!-- St2&#45;&gt;St0 -->\n",
       "<g id=\"edge3\" class=\"edge\"><title>St2&#45;&gt;St0</title>\n",
       "<path fill=\"none\" stroke=\"black\" d=\"M134.253,-16.2507C155.985,-11.0017 191.387,-4.71911 221.615,-9.90386 233.41,-11.9268 245.875,-15.7914 256.862,-19.8379\"/>\n",
       "<polygon fill=\"black\" stroke=\"black\" points=\"255.886,-23.2129 266.475,-23.5577 258.412,-16.6847 255.886,-23.2129\"/>\n",
       "<text text-anchor=\"middle\" x=\"199.712\" y=\"-12.7039\" font-family=\"Times,serif\" font-size=\"14.00\">1</text>\n",
       "</g>\n",
       "<!-- St1&#45;&gt;St1 -->\n",
       "<g id=\"edge4\" class=\"edge\"><title>St1&#45;&gt;St1</title>\n",
       "<path fill=\"none\" stroke=\"black\" d=\"M192.069,-75.4352C191.012,-85.6745 193.559,-94.8077 199.712,-94.8077 203.653,-94.8077 206.115,-91.0594 207.097,-85.6733\"/>\n",
       "<polygon fill=\"black\" stroke=\"black\" points=\"210.602,-85.5198 207.354,-75.4352 203.604,-85.3443 210.602,-85.5198\"/>\n",
       "<text text-anchor=\"middle\" x=\"199.712\" y=\"-97.6077\" font-family=\"Times,serif\" font-size=\"14.00\">0</text>\n",
       "</g>\n",
       "<!-- St1&#45;&gt;St0 -->\n",
       "<g id=\"edge5\" class=\"edge\"><title>St1&#45;&gt;St0</title>\n",
       "<path fill=\"none\" stroke=\"black\" d=\"M221.901,-53.0587C229.732,-52.1352 238.639,-50.798 246.615,-48.9039 249.84,-48.1382 253.161,-47.2199 256.461,-46.2199\"/>\n",
       "<polygon fill=\"black\" stroke=\"black\" points=\"257.757,-49.4783 266.175,-43.0448 255.583,-42.8247 257.757,-49.4783\"/>\n",
       "<text text-anchor=\"middle\" x=\"243.115\" y=\"-53.7039\" font-family=\"Times,serif\" font-size=\"14.00\">1</text>\n",
       "</g>\n",
       "<!-- St0&#45;&gt;St1 -->\n",
       "<g id=\"edge6\" class=\"edge\"><title>St0&#45;&gt;St1</title>\n",
       "<path fill=\"none\" stroke=\"black\" d=\"M264.799,-29.1886C256.653,-28.4837 247.632,-28.6302 239.615,-30.9039 235.113,-32.1808 230.621,-34.143 226.373,-36.4068\"/>\n",
       "<polygon fill=\"black\" stroke=\"black\" points=\"224.33,-33.5508 217.554,-41.6959 227.93,-39.5539 224.33,-33.5508\"/>\n",
       "<text text-anchor=\"middle\" x=\"243.115\" y=\"-33.7039\" font-family=\"Times,serif\" font-size=\"14.00\">0</text>\n",
       "</g>\n",
       "<!-- St0&#45;&gt;St0 -->\n",
       "<g id=\"edge7\" class=\"edge\"><title>St0&#45;&gt;St0</title>\n",
       "<path fill=\"none\" stroke=\"black\" d=\"M281.97,-58.7276C281.381,-69.0541 284.23,-77.8077 290.519,-77.8077 294.548,-77.8077 297.166,-74.2152 298.372,-68.9182\"/>\n",
       "<polygon fill=\"black\" stroke=\"black\" points=\"301.878,-68.9431 299.069,-58.7276 294.894,-68.4654 301.878,-68.9431\"/>\n",
       "<text text-anchor=\"middle\" x=\"290.519\" y=\"-80.6077\" font-family=\"Times,serif\" font-size=\"14.00\">1</text>\n",
       "</g>\n",
       "</g>\n",
       "</svg>\n"
      ],
      "text/plain": [
       "<graphviz.dot.Digraph at 0x10380b978>"
      ]
     },
     "execution_count": 47,
     "metadata": {},
     "output_type": "execute_result"
    }
   ],
   "source": [
    "dotObj_dfa(nfa2dfa(fig74a))"
   ]
  },
  {
   "cell_type": "markdown",
   "metadata": {
    "editable": false,
    "run_control": {
     "frozen": false,
     "read_only": false
    }
   },
   "source": [
    "# Brzozowski's DFA Minimization\n",
    "\n",
    "Picking up from our earlier discussions, to minimize a DFA using Brzozowski's algorithm, here are the steps:\n",
    "\n",
    "* Make sure that the given DFA has no unreachable states\n",
    "* Reverse the DFA\n",
    "* Determinize it\n",
    "* Reverse that DFA\n",
    "* Determinize it\n",
    "\n",
    "Thus we need to write a routine to reverse a DFA. We already have a way to ensure that a DFA does not have unreachable states (in another Jupyter notebook; we won't bother to include it here, and trust the user to always provide such DFA only).\n",
    "\n",
    "We can observe that if a DFA has black-hole states, then those states won't matter in the reversed machine (reversed NFA). Thus, we can work with __partial__ dfa (i.e., DFA that are partially consistent)."
   ]
  },
  {
   "cell_type": "markdown",
   "metadata": {
    "editable": false,
    "run_control": {
     "frozen": false,
     "read_only": false
    }
   },
   "source": [
    "## DFA reversal"
   ]
  },
  {
   "cell_type": "code",
   "execution_count": 48,
   "metadata": {
    "run_control": {
     "frozen": false,
     "read_only": false
    }
   },
   "outputs": [],
   "source": [
    "def inSets(D,trg,ch):\n",
    "    \"\"\"In : D   = partially consistent dfa,\n",
    "            trg = a target state in D[\"q\"]\n",
    "            ch  = a member of D[\"Sigma\"]\n",
    "       Out: a set of states. { q s.t. Delta[q,ch] == trg }\n",
    "    \"\"\"\n",
    "    return { q for q in D[\"Q\"] if D[\"Delta\"][(q,ch)] == trg }\n",
    "\n",
    "def rev_dfa(D):\n",
    "    \"\"\"In : D = a partially consistent DFA without any unreachable states.\n",
    "       Out: A consistent NFA whose language is D's language reversed.\n",
    "    \"\"\"\n",
    "    # 1. Given that NFAs start from a SET of states, we already have that\n",
    "    #   info. No need to add any transitions from \"a new initial state\" \n",
    "    #   etc\n",
    "    \n",
    "    # 2. Now add the inSets of each state as the NFA next set of states\n",
    "    NDict = { (q,ch) : inSets(D,q,ch) \n",
    "              for q in D[\"Q\"] \n",
    "              for ch in D[\"Sigma\"] }\n",
    "    \n",
    "    # Notice that we retain D[\"Q\"] and start from Q0 = D[\"F\"]\n",
    "    # going backwards along NDict toward F_dfa = { D[\"q0\"] }\n",
    "    return mk_nfa(D[\"Q\"], D[\"Sigma\"], NDict, D[\"F\"], {D[\"q0\"]})"
   ]
  },
  {
   "cell_type": "code",
   "execution_count": 49,
   "metadata": {
    "run_control": {
     "frozen": false,
     "read_only": false
    }
   },
   "outputs": [],
   "source": [
    "nfaMultiQ0 = md2mc('''\n",
    "NFA\n",
    "I0 : a | b | c -> A, B\n",
    "I0 : c -> F\n",
    "I1 : a | b -> A, B\n",
    "A  : c -> F\n",
    "B  : d -> F\n",
    "''')"
   ]
  },
  {
   "cell_type": "code",
   "execution_count": 50,
   "metadata": {
    "run_control": {
     "frozen": false,
     "read_only": false
    }
   },
   "outputs": [
    {
     "data": {
      "image/svg+xml": [
       "<?xml version=\"1.0\" encoding=\"UTF-8\" standalone=\"no\"?>\n",
       "<!DOCTYPE svg PUBLIC \"-//W3C//DTD SVG 1.1//EN\"\n",
       " \"http://www.w3.org/Graphics/SVG/1.1/DTD/svg11.dtd\">\n",
       "<!-- Generated by graphviz version 2.38.0 (20140413.2041)\n",
       " -->\n",
       "<!-- Title: %3 Pages: 1 -->\n",
       "<svg width=\"301pt\" height=\"346pt\"\n",
       " viewBox=\"0.00 0.00 301.00 345.77\" xmlns=\"http://www.w3.org/2000/svg\" xmlns:xlink=\"http://www.w3.org/1999/xlink\">\n",
       "<g id=\"graph0\" class=\"graph\" transform=\"scale(1 1) rotate(0) translate(4 341.775)\">\n",
       "<title>%3</title>\n",
       "<polygon fill=\"white\" stroke=\"none\" points=\"-4,4 -4,-341.775 297,-341.775 297,4 -4,4\"/>\n",
       "<!-- EMPTY -->\n",
       "<g id=\"node1\" class=\"node\"><title>EMPTY</title>\n",
       "</g>\n",
       "<!-- I0 -->\n",
       "<g id=\"node2\" class=\"node\"><title>I0</title>\n",
       "<ellipse fill=\"none\" stroke=\"black\" cx=\"109\" cy=\"-225.775\" rx=\"18\" ry=\"18\"/>\n",
       "<text text-anchor=\"middle\" x=\"109\" y=\"-221.575\" font-family=\"Times,serif\" font-size=\"14.00\">I0</text>\n",
       "</g>\n",
       "<!-- EMPTY&#45;&gt;I0 -->\n",
       "<g id=\"edge1\" class=\"edge\"><title>EMPTY&#45;&gt;I0</title>\n",
       "<path fill=\"none\" stroke=\"black\" d=\"M54.195,-200.217C63.5295,-204.651 74.0073,-209.628 83.2194,-214.004\"/>\n",
       "<polygon fill=\"black\" stroke=\"black\" points=\"81.7257,-217.169 92.2602,-218.298 84.7292,-210.846 81.7257,-217.169\"/>\n",
       "</g>\n",
       "<!-- I1 -->\n",
       "<g id=\"node3\" class=\"node\"><title>I1</title>\n",
       "<ellipse fill=\"none\" stroke=\"black\" cx=\"109\" cy=\"-133.775\" rx=\"18\" ry=\"18\"/>\n",
       "<text text-anchor=\"middle\" x=\"109\" y=\"-129.575\" font-family=\"Times,serif\" font-size=\"14.00\">I1</text>\n",
       "</g>\n",
       "<!-- EMPTY&#45;&gt;I1 -->\n",
       "<g id=\"edge2\" class=\"edge\"><title>EMPTY&#45;&gt;I1</title>\n",
       "<path fill=\"none\" stroke=\"black\" d=\"M54.195,-170.093C64.243,-163.311 75.6156,-155.634 85.3084,-149.091\"/>\n",
       "<polygon fill=\"black\" stroke=\"black\" points=\"87.3211,-151.956 93.6514,-143.46 83.4048,-146.154 87.3211,-151.956\"/>\n",
       "</g>\n",
       "<!-- B -->\n",
       "<g id=\"node4\" class=\"node\"><title>B</title>\n",
       "<ellipse fill=\"none\" stroke=\"black\" cx=\"188\" cy=\"-244.775\" rx=\"18\" ry=\"18\"/>\n",
       "<text text-anchor=\"middle\" x=\"188\" y=\"-240.575\" font-family=\"Times,serif\" font-size=\"14.00\">B</text>\n",
       "</g>\n",
       "<!-- I0&#45;&gt;B -->\n",
       "<g id=\"edge3\" class=\"edge\"><title>I0&#45;&gt;B</title>\n",
       "<path fill=\"none\" stroke=\"black\" d=\"M113.197,-243.34C117.324,-260.331 126.328,-285.162 145,-296.775 159.004,-305.484 170.403,-288.5 177.773,-271.665\"/>\n",
       "<polygon fill=\"black\" stroke=\"black\" points=\"181.188,-272.55 181.637,-261.964 174.685,-269.96 181.188,-272.55\"/>\n",
       "<text text-anchor=\"middle\" x=\"148.5\" y=\"-301.575\" font-family=\"Times,serif\" font-size=\"14.00\">a</text>\n",
       "</g>\n",
       "<!-- I0&#45;&gt;B -->\n",
       "<g id=\"edge5\" class=\"edge\"><title>I0&#45;&gt;B</title>\n",
       "<path fill=\"none\" stroke=\"black\" d=\"M120.258,-240.068C126.476,-247.462 135.109,-255.761 145,-259.775 151.027,-262.22 157.62,-261.446 163.76,-259.301\"/>\n",
       "<polygon fill=\"black\" stroke=\"black\" points=\"165.287,-262.451 172.888,-255.069 162.343,-256.1 165.287,-262.451\"/>\n",
       "<text text-anchor=\"middle\" x=\"148.5\" y=\"-263.575\" font-family=\"Times,serif\" font-size=\"14.00\">b</text>\n",
       "</g>\n",
       "<!-- I0&#45;&gt;B -->\n",
       "<g id=\"edge7\" class=\"edge\"><title>I0&#45;&gt;B</title>\n",
       "<path fill=\"none\" stroke=\"black\" d=\"M126.708,-229.897C136.596,-232.337 149.344,-235.483 160.57,-238.253\"/>\n",
       "<polygon fill=\"black\" stroke=\"black\" points=\"159.777,-241.662 170.325,-240.66 161.454,-234.866 159.777,-241.662\"/>\n",
       "<text text-anchor=\"middle\" x=\"148.5\" y=\"-238.575\" font-family=\"Times,serif\" font-size=\"14.00\">c</text>\n",
       "</g>\n",
       "<!-- A -->\n",
       "<g id=\"node5\" class=\"node\"><title>A</title>\n",
       "<ellipse fill=\"none\" stroke=\"black\" cx=\"188\" cy=\"-78.7746\" rx=\"18\" ry=\"18\"/>\n",
       "<text text-anchor=\"middle\" x=\"188\" y=\"-74.5746\" font-family=\"Times,serif\" font-size=\"14.00\">A</text>\n",
       "</g>\n",
       "<!-- I0&#45;&gt;A -->\n",
       "<g id=\"edge4\" class=\"edge\"><title>I0&#45;&gt;A</title>\n",
       "<path fill=\"none\" stroke=\"black\" d=\"M114.914,-208.483C118.526,-195.436 123.41,-177.064 127,-160.775 131.86,-138.725 127.677,-75.2575 145,-60.7746 150.991,-55.7656 158.585,-57.2702 165.663,-61.0197\"/>\n",
       "<polygon fill=\"black\" stroke=\"black\" points=\"163.919,-64.0621 174.193,-66.6485 167.774,-58.2195 163.919,-64.0621\"/>\n",
       "<text text-anchor=\"middle\" x=\"148.5\" y=\"-63.5746\" font-family=\"Times,serif\" font-size=\"14.00\">a</text>\n",
       "</g>\n",
       "<!-- I0&#45;&gt;A -->\n",
       "<g id=\"edge6\" class=\"edge\"><title>I0&#45;&gt;A</title>\n",
       "<path fill=\"none\" stroke=\"black\" d=\"M124.216,-215.281C133.295,-207.921 144.691,-197.356 152,-185.775 167.488,-161.232 176.784,-129.163 181.861,-106.555\"/>\n",
       "<polygon fill=\"black\" stroke=\"black\" points=\"185.323,-107.1 183.963,-96.5926 178.474,-105.654 185.323,-107.1\"/>\n",
       "<text text-anchor=\"middle\" x=\"148.5\" y=\"-196.575\" font-family=\"Times,serif\" font-size=\"14.00\">b</text>\n",
       "</g>\n",
       "<!-- I0&#45;&gt;A -->\n",
       "<g id=\"edge8\" class=\"edge\"><title>I0&#45;&gt;A</title>\n",
       "<path fill=\"none\" stroke=\"black\" d=\"M113.649,-208.213C118.558,-187.087 128.616,-151.061 145,-123.775 150.776,-114.155 158.88,-104.856 166.43,-97.2329\"/>\n",
       "<polygon fill=\"black\" stroke=\"black\" points=\"168.929,-99.6847 173.688,-90.219 164.065,-94.6508 168.929,-99.6847\"/>\n",
       "<text text-anchor=\"middle\" x=\"148.5\" y=\"-126.575\" font-family=\"Times,serif\" font-size=\"14.00\">c</text>\n",
       "</g>\n",
       "<!-- F -->\n",
       "<g id=\"node6\" class=\"node\"><title>F</title>\n",
       "<ellipse fill=\"none\" stroke=\"black\" cx=\"271\" cy=\"-244.775\" rx=\"18\" ry=\"18\"/>\n",
       "<ellipse fill=\"none\" stroke=\"black\" cx=\"271\" cy=\"-244.775\" rx=\"22\" ry=\"22\"/>\n",
       "<text text-anchor=\"middle\" x=\"271\" y=\"-240.575\" font-family=\"Times,serif\" font-size=\"14.00\">F</text>\n",
       "</g>\n",
       "<!-- I0&#45;&gt;F -->\n",
       "<g id=\"edge9\" class=\"edge\"><title>I0&#45;&gt;F</title>\n",
       "<path fill=\"none\" stroke=\"black\" d=\"M111.122,-243.79C113.539,-265.29 121.14,-300.388 145,-316.775 180.853,-341.398 225.589,-299.475 250.655,-269.964\"/>\n",
       "<polygon fill=\"black\" stroke=\"black\" points=\"253.529,-271.981 257.18,-262.036 248.123,-267.533 253.529,-271.981\"/>\n",
       "<text text-anchor=\"middle\" x=\"188\" y=\"-326.575\" font-family=\"Times,serif\" font-size=\"14.00\">c</text>\n",
       "</g>\n",
       "<!-- I1&#45;&gt;B -->\n",
       "<g id=\"edge10\" class=\"edge\"><title>I1&#45;&gt;B</title>\n",
       "<path fill=\"none\" stroke=\"black\" d=\"M124.154,-144.245C132.98,-151.299 144.118,-161.215 152,-171.775 162.656,-186.051 171.34,-204.085 177.393,-218.657\"/>\n",
       "<polygon fill=\"black\" stroke=\"black\" points=\"174.203,-220.108 181.154,-228.103 180.706,-217.518 174.203,-220.108\"/>\n",
       "<text text-anchor=\"middle\" x=\"148.5\" y=\"-174.575\" font-family=\"Times,serif\" font-size=\"14.00\">a</text>\n",
       "</g>\n",
       "<!-- I1&#45;&gt;B -->\n",
       "<g id=\"edge12\" class=\"edge\"><title>I1&#45;&gt;B</title>\n",
       "<path fill=\"none\" stroke=\"black\" d=\"M127.353,-135.058C135.728,-136.514 145.37,-139.541 152,-145.775 171.631,-164.233 180.261,-194.381 184.049,-216.566\"/>\n",
       "<polygon fill=\"black\" stroke=\"black\" points=\"180.626,-217.348 185.546,-226.731 187.551,-216.327 180.626,-217.348\"/>\n",
       "<text text-anchor=\"middle\" x=\"148.5\" y=\"-148.575\" font-family=\"Times,serif\" font-size=\"14.00\">b</text>\n",
       "</g>\n",
       "<!-- I1&#45;&gt;A -->\n",
       "<g id=\"edge11\" class=\"edge\"><title>I1&#45;&gt;A</title>\n",
       "<path fill=\"none\" stroke=\"black\" d=\"M109.735,-115.653C110.469,-90.2918 116.043,-44.9486 145,-23.7746 159.37,-13.267 171.176,-33.3482 178.571,-52.129\"/>\n",
       "<polygon fill=\"black\" stroke=\"black\" points=\"175.329,-53.4539 182.027,-61.6626 181.91,-51.0684 175.329,-53.4539\"/>\n",
       "<text text-anchor=\"middle\" x=\"148.5\" y=\"-26.5746\" font-family=\"Times,serif\" font-size=\"14.00\">a</text>\n",
       "</g>\n",
       "<!-- I1&#45;&gt;A -->\n",
       "<g id=\"edge13\" class=\"edge\"><title>I1&#45;&gt;A</title>\n",
       "<path fill=\"none\" stroke=\"black\" d=\"M112.129,-116.021C116.408,-83.724 127.19,-17.4235 145,-3.77461 164.431,11.1168 176.205,-23.8725 182.157,-50.9309\"/>\n",
       "<polygon fill=\"black\" stroke=\"black\" points=\"178.739,-51.6875 184.157,-60.7924 185.599,-50.2962 178.739,-51.6875\"/>\n",
       "<text text-anchor=\"middle\" x=\"148.5\" y=\"-6.57461\" font-family=\"Times,serif\" font-size=\"14.00\">b</text>\n",
       "</g>\n",
       "<!-- B&#45;&gt;F -->\n",
       "<g id=\"edge15\" class=\"edge\"><title>B&#45;&gt;F</title>\n",
       "<path fill=\"none\" stroke=\"black\" d=\"M206.178,-244.775C215.61,-244.775 227.601,-244.775 238.637,-244.775\"/>\n",
       "<polygon fill=\"black\" stroke=\"black\" points=\"238.811,-248.275 248.811,-244.775 238.811,-241.275 238.811,-248.275\"/>\n",
       "<text text-anchor=\"middle\" x=\"227.5\" y=\"-247.575\" font-family=\"Times,serif\" font-size=\"14.00\">d</text>\n",
       "</g>\n",
       "<!-- A&#45;&gt;F -->\n",
       "<g id=\"edge14\" class=\"edge\"><title>A&#45;&gt;F</title>\n",
       "<path fill=\"none\" stroke=\"black\" d=\"M196.767,-94.6914C210.412,-122.656 238.864,-180.964 256.01,-216.103\"/>\n",
       "<polygon fill=\"black\" stroke=\"black\" points=\"252.993,-217.903 260.524,-225.355 259.284,-214.833 252.993,-217.903\"/>\n",
       "<text text-anchor=\"middle\" x=\"227.5\" y=\"-164.575\" font-family=\"Times,serif\" font-size=\"14.00\">c</text>\n",
       "</g>\n",
       "</g>\n",
       "</svg>\n"
      ],
      "text/plain": [
       "<graphviz.dot.Digraph at 0x103889630>"
      ]
     },
     "execution_count": 50,
     "metadata": {},
     "output_type": "execute_result"
    }
   ],
   "source": [
    "dotObj_nfa(nfaMultiQ0)"
   ]
  },
  {
   "cell_type": "code",
   "execution_count": 51,
   "metadata": {
    "run_control": {
     "frozen": false,
     "read_only": false
    }
   },
   "outputs": [
    {
     "data": {
      "image/svg+xml": [
       "<?xml version=\"1.0\" encoding=\"UTF-8\" standalone=\"no\"?>\n",
       "<!DOCTYPE svg PUBLIC \"-//W3C//DTD SVG 1.1//EN\"\n",
       " \"http://www.w3.org/Graphics/SVG/1.1/DTD/svg11.dtd\">\n",
       "<!-- Generated by graphviz version 2.38.0 (20140413.2041)\n",
       " -->\n",
       "<!-- Title: %3 Pages: 1 -->\n",
       "<svg width=\"307pt\" height=\"228pt\"\n",
       " viewBox=\"0.00 0.00 307.21 228.17\" xmlns=\"http://www.w3.org/2000/svg\" xmlns:xlink=\"http://www.w3.org/1999/xlink\">\n",
       "<g id=\"graph0\" class=\"graph\" transform=\"scale(1 1) rotate(0) translate(4 224.17)\">\n",
       "<title>%3</title>\n",
       "<polygon fill=\"white\" stroke=\"none\" points=\"-4,4 -4,-224.17 303.214,-224.17 303.214,4 -4,4\"/>\n",
       "<!-- EMPTY -->\n",
       "<g id=\"node1\" class=\"node\"><title>EMPTY</title>\n",
       "</g>\n",
       "<!-- I0 -->\n",
       "<g id=\"node2\" class=\"node\"><title>I0</title>\n",
       "<ellipse fill=\"none\" stroke=\"black\" cx=\"109\" cy=\"-138.17\" rx=\"18\" ry=\"18\"/>\n",
       "<text text-anchor=\"middle\" x=\"109\" y=\"-133.97\" font-family=\"Times,serif\" font-size=\"14.00\">I0</text>\n",
       "</g>\n",
       "<!-- EMPTY&#45;&gt;I0 -->\n",
       "<g id=\"edge1\" class=\"edge\"><title>EMPTY&#45;&gt;I0</title>\n",
       "<path fill=\"none\" stroke=\"black\" d=\"M54.195,-101.179C64.243,-108.087 75.6156,-115.906 85.3084,-122.57\"/>\n",
       "<polygon fill=\"black\" stroke=\"black\" points=\"83.4281,-125.524 93.6514,-128.305 87.3939,-119.756 83.4281,-125.524\"/>\n",
       "</g>\n",
       "<!-- I1 -->\n",
       "<g id=\"node3\" class=\"node\"><title>I1</title>\n",
       "<ellipse fill=\"none\" stroke=\"black\" cx=\"109\" cy=\"-53.17\" rx=\"18\" ry=\"18\"/>\n",
       "<text text-anchor=\"middle\" x=\"109\" y=\"-48.97\" font-family=\"Times,serif\" font-size=\"14.00\">I1</text>\n",
       "</g>\n",
       "<!-- EMPTY&#45;&gt;I1 -->\n",
       "<g id=\"edge2\" class=\"edge\"><title>EMPTY&#45;&gt;I1</title>\n",
       "<path fill=\"none\" stroke=\"black\" d=\"M54.195,-73.3469C63.2006,-69.9698 73.2703,-66.1937 82.2409,-62.8297\"/>\n",
       "<polygon fill=\"black\" stroke=\"black\" points=\"83.6524,-66.0384 91.7867,-59.25 81.1945,-59.4841 83.6524,-66.0384\"/>\n",
       "</g>\n",
       "<!-- B -->\n",
       "<g id=\"node4\" class=\"node\"><title>B</title>\n",
       "<ellipse fill=\"none\" stroke=\"black\" cx=\"194.214\" cy=\"-164.17\" rx=\"18\" ry=\"18\"/>\n",
       "<text text-anchor=\"middle\" x=\"194.214\" y=\"-159.97\" font-family=\"Times,serif\" font-size=\"14.00\">B</text>\n",
       "</g>\n",
       "<!-- I0&#45;&gt;B -->\n",
       "<g id=\"edge3\" class=\"edge\"><title>I0&#45;&gt;B</title>\n",
       "<path fill=\"none\" stroke=\"black\" d=\"M126.44,-143.307C138.066,-146.939 153.89,-151.883 167.215,-156.047\"/>\n",
       "<polygon fill=\"black\" stroke=\"black\" points=\"166.219,-159.402 176.808,-159.044 168.307,-152.721 166.219,-159.402\"/>\n",
       "<text text-anchor=\"middle\" x=\"151.607\" y=\"-182.97\" font-family=\"Times,serif\" font-size=\"14.00\">b </text>\n",
       "<text text-anchor=\"middle\" x=\"151.607\" y=\"-168.97\" font-family=\"Times,serif\" font-size=\"14.00\"> a </text>\n",
       "<text text-anchor=\"middle\" x=\"151.607\" y=\"-154.97\" font-family=\"Times,serif\" font-size=\"14.00\"> c</text>\n",
       "</g>\n",
       "<!-- A -->\n",
       "<g id=\"node5\" class=\"node\"><title>A</title>\n",
       "<ellipse fill=\"none\" stroke=\"black\" cx=\"194.214\" cy=\"-104.17\" rx=\"18\" ry=\"18\"/>\n",
       "<text text-anchor=\"middle\" x=\"194.214\" y=\"-99.97\" font-family=\"Times,serif\" font-size=\"14.00\">A</text>\n",
       "</g>\n",
       "<!-- I0&#45;&gt;A -->\n",
       "<g id=\"edge4\" class=\"edge\"><title>I0&#45;&gt;A</title>\n",
       "<path fill=\"none\" stroke=\"black\" d=\"M119.878,-123.827C126.088,-116.129 134.838,-107.379 145,-103.17 151.652,-100.415 159.276,-99.6234 166.468,-99.7876\"/>\n",
       "<polygon fill=\"black\" stroke=\"black\" points=\"166.285,-103.284 176.532,-100.594 166.844,-96.3064 166.285,-103.284\"/>\n",
       "<text text-anchor=\"middle\" x=\"151.607\" y=\"-133.97\" font-family=\"Times,serif\" font-size=\"14.00\">b </text>\n",
       "<text text-anchor=\"middle\" x=\"151.607\" y=\"-119.97\" font-family=\"Times,serif\" font-size=\"14.00\"> a </text>\n",
       "<text text-anchor=\"middle\" x=\"151.607\" y=\"-105.97\" font-family=\"Times,serif\" font-size=\"14.00\"> c</text>\n",
       "</g>\n",
       "<!-- F -->\n",
       "<g id=\"node6\" class=\"node\"><title>F</title>\n",
       "<ellipse fill=\"none\" stroke=\"black\" cx=\"277.214\" cy=\"-164.17\" rx=\"18\" ry=\"18\"/>\n",
       "<ellipse fill=\"none\" stroke=\"black\" cx=\"277.214\" cy=\"-164.17\" rx=\"22\" ry=\"22\"/>\n",
       "<text text-anchor=\"middle\" x=\"277.214\" y=\"-159.97\" font-family=\"Times,serif\" font-size=\"14.00\">F</text>\n",
       "</g>\n",
       "<!-- I0&#45;&gt;F -->\n",
       "<g id=\"edge5\" class=\"edge\"><title>I0&#45;&gt;F</title>\n",
       "<path fill=\"none\" stroke=\"black\" d=\"M114.766,-155.311C119.746,-169.6 129.105,-189.04 145,-198.17 178.184,-217.23 222.155,-198.356 249.819,-182.05\"/>\n",
       "<polygon fill=\"black\" stroke=\"black\" points=\"251.86,-184.904 258.537,-176.677 248.187,-178.945 251.86,-184.904\"/>\n",
       "<text text-anchor=\"middle\" x=\"194.214\" y=\"-208.97\" font-family=\"Times,serif\" font-size=\"14.00\">c</text>\n",
       "</g>\n",
       "<!-- I1&#45;&gt;B -->\n",
       "<g id=\"edge6\" class=\"edge\"><title>I1&#45;&gt;B</title>\n",
       "<path fill=\"none\" stroke=\"black\" d=\"M127.275,-54.0916C137.547,-55.5334 150.113,-59.0002 158.214,-67.17 179.019,-88.1515 165.393,-103.675 176.214,-131.17 177.298,-133.925 178.541,-136.754 179.85,-139.541\"/>\n",
       "<polygon fill=\"black\" stroke=\"black\" points=\"176.822,-141.312 184.423,-148.692 183.083,-138.182 176.822,-141.312\"/>\n",
       "<text text-anchor=\"middle\" x=\"151.607\" y=\"-83.97\" font-family=\"Times,serif\" font-size=\"14.00\">b </text>\n",
       "<text text-anchor=\"middle\" x=\"151.607\" y=\"-69.97\" font-family=\"Times,serif\" font-size=\"14.00\"> a</text>\n",
       "</g>\n",
       "<!-- I1&#45;&gt;A -->\n",
       "<g id=\"edge7\" class=\"edge\"><title>I1&#45;&gt;A</title>\n",
       "<path fill=\"none\" stroke=\"black\" d=\"M116.708,-36.6679C125.36,-17.8475 141.316,8.85787 158.214,-3.17 181.158,-19.5016 189.199,-51.9634 191.943,-75.6921\"/>\n",
       "<polygon fill=\"black\" stroke=\"black\" points=\"188.479,-76.2467 192.866,-85.8906 195.45,-75.6159 188.479,-76.2467\"/>\n",
       "<text text-anchor=\"middle\" x=\"151.607\" y=\"-19.97\" font-family=\"Times,serif\" font-size=\"14.00\">b </text>\n",
       "<text text-anchor=\"middle\" x=\"151.607\" y=\"-5.97\" font-family=\"Times,serif\" font-size=\"14.00\"> a</text>\n",
       "</g>\n",
       "<!-- B&#45;&gt;F -->\n",
       "<g id=\"edge9\" class=\"edge\"><title>B&#45;&gt;F</title>\n",
       "<path fill=\"none\" stroke=\"black\" d=\"M212.392,-164.17C221.823,-164.17 233.815,-164.17 244.851,-164.17\"/>\n",
       "<polygon fill=\"black\" stroke=\"black\" points=\"245.025,-167.67 255.025,-164.17 245.025,-160.67 245.025,-167.67\"/>\n",
       "<text text-anchor=\"middle\" x=\"233.714\" y=\"-166.97\" font-family=\"Times,serif\" font-size=\"14.00\">d</text>\n",
       "</g>\n",
       "<!-- A&#45;&gt;F -->\n",
       "<g id=\"edge8\" class=\"edge\"><title>A&#45;&gt;F</title>\n",
       "<path fill=\"none\" stroke=\"black\" d=\"M209.323,-114.621C220.809,-123.129 237.311,-135.353 251.05,-145.53\"/>\n",
       "<polygon fill=\"black\" stroke=\"black\" points=\"249.059,-148.411 259.178,-151.551 253.226,-142.786 249.059,-148.411\"/>\n",
       "<text text-anchor=\"middle\" x=\"233.714\" y=\"-136.97\" font-family=\"Times,serif\" font-size=\"14.00\">c</text>\n",
       "</g>\n",
       "</g>\n",
       "</svg>\n"
      ],
      "text/plain": [
       "<graphviz.dot.Digraph at 0x1038899b0>"
      ]
     },
     "execution_count": 51,
     "metadata": {},
     "output_type": "execute_result"
    }
   ],
   "source": [
    "dotObj_nfa(nfaMultiQ0, FuseEdges=True)"
   ]
  },
  {
   "cell_type": "code",
   "execution_count": 52,
   "metadata": {
    "run_control": {
     "frozen": false,
     "read_only": false
    }
   },
   "outputs": [],
   "source": [
    "dfaMQ0 = nfa2dfa(nfaMultiQ0)"
   ]
  },
  {
   "cell_type": "code",
   "execution_count": 53,
   "metadata": {
    "run_control": {
     "frozen": false,
     "read_only": false
    }
   },
   "outputs": [
    {
     "data": {
      "image/svg+xml": [
       "<?xml version=\"1.0\" encoding=\"UTF-8\" standalone=\"no\"?>\n",
       "<!DOCTYPE svg PUBLIC \"-//W3C//DTD SVG 1.1//EN\"\n",
       " \"http://www.w3.org/Graphics/SVG/1.1/DTD/svg11.dtd\">\n",
       "<!-- Generated by graphviz version 2.38.0 (20140413.2041)\n",
       " -->\n",
       "<!-- Title: %3 Pages: 1 -->\n",
       "<svg width=\"368pt\" height=\"160pt\"\n",
       " viewBox=\"0.00 0.00 367.83 159.97\" xmlns=\"http://www.w3.org/2000/svg\" xmlns:xlink=\"http://www.w3.org/1999/xlink\">\n",
       "<g id=\"graph0\" class=\"graph\" transform=\"scale(1 1) rotate(0) translate(4 155.967)\">\n",
       "<title>%3</title>\n",
       "<polygon fill=\"white\" stroke=\"none\" points=\"-4,4 -4,-155.967 363.831,-155.967 363.831,4 -4,4\"/>\n",
       "<!-- EMPTY -->\n",
       "<g id=\"node1\" class=\"node\"><title>EMPTY</title>\n",
       "</g>\n",
       "<!-- I0_I1 -->\n",
       "<g id=\"node2\" class=\"node\"><title>I0_I1</title>\n",
       "<ellipse fill=\"none\" stroke=\"black\" cx=\"120.262\" cy=\"-88.1536\" rx=\"29.0257\" ry=\"29.0257\"/>\n",
       "<text text-anchor=\"middle\" x=\"120.262\" y=\"-83.9536\" font-family=\"Times,serif\" font-size=\"14.00\">I0_I1</text>\n",
       "</g>\n",
       "<!-- EMPTY&#45;&gt;I0_I1 -->\n",
       "<g id=\"edge1\" class=\"edge\"><title>EMPTY&#45;&gt;I0_I1</title>\n",
       "<path fill=\"none\" stroke=\"black\" d=\"M54.3967,-88.1536C62.5695,-88.1536 71.7499,-88.1536 80.5754,-88.1536\"/>\n",
       "<polygon fill=\"black\" stroke=\"black\" points=\"80.6912,-91.6537 90.6912,-88.1536 80.6911,-84.6537 80.6912,-91.6537\"/>\n",
       "</g>\n",
       "<!-- A_B -->\n",
       "<g id=\"node3\" class=\"node\"><title>A_B</title>\n",
       "<ellipse fill=\"none\" stroke=\"black\" cx=\"232.677\" cy=\"-125.154\" rx=\"26.6284\" ry=\"26.6284\"/>\n",
       "<text text-anchor=\"middle\" x=\"232.677\" y=\"-120.954\" font-family=\"Times,serif\" font-size=\"14.00\">A_B</text>\n",
       "</g>\n",
       "<!-- I0_I1&#45;&gt;A_B -->\n",
       "<g id=\"edge2\" class=\"edge\"><title>I0_I1&#45;&gt;A_B</title>\n",
       "<path fill=\"none\" stroke=\"black\" d=\"M148.273,-97.2048C162.937,-102.119 181.229,-108.249 196.943,-113.514\"/>\n",
       "<polygon fill=\"black\" stroke=\"black\" points=\"196.24,-116.97 206.834,-116.828 198.464,-110.332 196.24,-116.97\"/>\n",
       "<text text-anchor=\"middle\" x=\"171.024\" y=\"-108.954\" font-family=\"Times,serif\" font-size=\"14.00\">b</text>\n",
       "</g>\n",
       "<!-- I0_I1&#45;&gt;A_B -->\n",
       "<g id=\"edge4\" class=\"edge\"><title>I0_I1&#45;&gt;A_B</title>\n",
       "<path fill=\"none\" stroke=\"black\" d=\"M149.353,-84.4011C157.607,-84.1555 166.556,-84.7465 174.524,-87.1536 184.79,-90.2549 194.901,-95.8722 203.698,-101.853\"/>\n",
       "<polygon fill=\"black\" stroke=\"black\" points=\"201.862,-104.845 212.014,-107.876 205.968,-99.1754 201.862,-104.845\"/>\n",
       "<text text-anchor=\"middle\" x=\"171.024\" y=\"-89.9536\" font-family=\"Times,serif\" font-size=\"14.00\">a</text>\n",
       "</g>\n",
       "<!-- A_B_F -->\n",
       "<g id=\"node5\" class=\"node\"><title>A_B_F</title>\n",
       "<ellipse fill=\"none\" stroke=\"black\" cx=\"232.677\" cy=\"-40.1536\" rx=\"36.2924\" ry=\"36.2924\"/>\n",
       "<ellipse fill=\"none\" stroke=\"black\" cx=\"232.677\" cy=\"-40.1536\" rx=\"40.3078\" ry=\"40.3078\"/>\n",
       "<text text-anchor=\"middle\" x=\"232.677\" y=\"-35.9536\" font-family=\"Times,serif\" font-size=\"14.00\">A_B_F</text>\n",
       "</g>\n",
       "<!-- I0_I1&#45;&gt;A_B_F -->\n",
       "<g id=\"edge3\" class=\"edge\"><title>I0_I1&#45;&gt;A_B_F</title>\n",
       "<path fill=\"none\" stroke=\"black\" d=\"M147.429,-76.7783C159.026,-71.7365 173.014,-65.6557 186.231,-59.9101\"/>\n",
       "<polygon fill=\"black\" stroke=\"black\" points=\"187.898,-63.0019 195.674,-55.8052 185.107,-56.5822 187.898,-63.0019\"/>\n",
       "<text text-anchor=\"middle\" x=\"171.024\" y=\"-69.9536\" font-family=\"Times,serif\" font-size=\"14.00\">c</text>\n",
       "</g>\n",
       "<!-- F -->\n",
       "<g id=\"node4\" class=\"node\"><title>F</title>\n",
       "<ellipse fill=\"none\" stroke=\"black\" cx=\"337.831\" cy=\"-82.1536\" rx=\"18\" ry=\"18\"/>\n",
       "<ellipse fill=\"none\" stroke=\"black\" cx=\"337.831\" cy=\"-82.1536\" rx=\"22\" ry=\"22\"/>\n",
       "<text text-anchor=\"middle\" x=\"337.831\" y=\"-77.9536\" font-family=\"Times,serif\" font-size=\"14.00\">F</text>\n",
       "</g>\n",
       "<!-- A_B&#45;&gt;F -->\n",
       "<g id=\"edge5\" class=\"edge\"><title>A_B&#45;&gt;F</title>\n",
       "<path fill=\"none\" stroke=\"black\" d=\"M259.603,-124.883C271.678,-123.927 285.963,-121.571 297.831,-116.154 303.837,-113.412 309.609,-109.442 314.787,-105.175\"/>\n",
       "<polygon fill=\"black\" stroke=\"black\" points=\"317.277,-107.643 322.381,-98.3592 312.601,-102.434 317.277,-107.643\"/>\n",
       "<text text-anchor=\"middle\" x=\"294.331\" y=\"-121.954\" font-family=\"Times,serif\" font-size=\"14.00\">d</text>\n",
       "</g>\n",
       "<!-- A_B&#45;&gt;F -->\n",
       "<g id=\"edge6\" class=\"edge\"><title>A_B&#45;&gt;F</title>\n",
       "<path fill=\"none\" stroke=\"black\" d=\"M257.062,-113.416C267.313,-108.451 279.555,-102.763 290.831,-98.1536 296.016,-96.0341 301.598,-93.94 307.025,-92.0002\"/>\n",
       "<polygon fill=\"black\" stroke=\"black\" points=\"308.21,-95.2939 316.505,-88.7029 305.91,-88.6824 308.21,-95.2939\"/>\n",
       "<text text-anchor=\"middle\" x=\"294.331\" y=\"-100.954\" font-family=\"Times,serif\" font-size=\"14.00\">c</text>\n",
       "</g>\n",
       "<!-- A_B_F&#45;&gt;F -->\n",
       "<g id=\"edge7\" class=\"edge\"><title>A_B_F&#45;&gt;F</title>\n",
       "<path fill=\"none\" stroke=\"black\" d=\"M270.417,-54.1833C279.411,-57.697 288.991,-61.5062 297.831,-65.1536 301.14,-66.519 304.595,-67.9768 308.02,-69.4431\"/>\n",
       "<polygon fill=\"black\" stroke=\"black\" points=\"306.887,-72.7664 317.455,-73.5279 309.668,-66.3427 306.887,-72.7664\"/>\n",
       "<text text-anchor=\"middle\" x=\"294.331\" y=\"-67.9536\" font-family=\"Times,serif\" font-size=\"14.00\">d</text>\n",
       "</g>\n",
       "<!-- A_B_F&#45;&gt;F -->\n",
       "<g id=\"edge8\" class=\"edge\"><title>A_B_F&#45;&gt;F</title>\n",
       "<path fill=\"none\" stroke=\"black\" d=\"M273.057,-39.0119C281.499,-39.9103 290.175,-41.7491 297.831,-45.1536 304.477,-48.1092 310.692,-52.6946 316.121,-57.6434\"/>\n",
       "<polygon fill=\"black\" stroke=\"black\" points=\"313.93,-60.4029 323.472,-65.0066 318.884,-55.457 313.93,-60.4029\"/>\n",
       "<text text-anchor=\"middle\" x=\"294.331\" y=\"-47.9536\" font-family=\"Times,serif\" font-size=\"14.00\">c</text>\n",
       "</g>\n",
       "</g>\n",
       "</svg>\n"
      ],
      "text/plain": [
       "<graphviz.dot.Digraph at 0x103889d68>"
      ]
     },
     "execution_count": 53,
     "metadata": {},
     "output_type": "execute_result"
    }
   ],
   "source": [
    "dotObj_dfa(dfaMQ0)"
   ]
  },
  {
   "cell_type": "code",
   "execution_count": 54,
   "metadata": {
    "run_control": {
     "frozen": false,
     "read_only": false
    }
   },
   "outputs": [
    {
     "data": {
      "image/svg+xml": [
       "<?xml version=\"1.0\" encoding=\"UTF-8\" standalone=\"no\"?>\n",
       "<!DOCTYPE svg PUBLIC \"-//W3C//DTD SVG 1.1//EN\"\n",
       " \"http://www.w3.org/Graphics/SVG/1.1/DTD/svg11.dtd\">\n",
       "<!-- Generated by graphviz version 2.38.0 (20140413.2041)\n",
       " -->\n",
       "<!-- Title: %3 Pages: 1 -->\n",
       "<svg width=\"375pt\" height=\"160pt\"\n",
       " viewBox=\"0.00 0.00 374.83 159.97\" xmlns=\"http://www.w3.org/2000/svg\" xmlns:xlink=\"http://www.w3.org/1999/xlink\">\n",
       "<g id=\"graph0\" class=\"graph\" transform=\"scale(1 1) rotate(0) translate(4 155.967)\">\n",
       "<title>%3</title>\n",
       "<polygon fill=\"white\" stroke=\"none\" points=\"-4,4 -4,-155.967 370.831,-155.967 370.831,4 -4,4\"/>\n",
       "<!-- EMPTY -->\n",
       "<g id=\"node1\" class=\"node\"><title>EMPTY</title>\n",
       "</g>\n",
       "<!-- I0_I1 -->\n",
       "<g id=\"node2\" class=\"node\"><title>I0_I1</title>\n",
       "<ellipse fill=\"none\" stroke=\"black\" cx=\"120.262\" cy=\"-88.1536\" rx=\"29.0257\" ry=\"29.0257\"/>\n",
       "<text text-anchor=\"middle\" x=\"120.262\" y=\"-83.9536\" font-family=\"Times,serif\" font-size=\"14.00\">I0_I1</text>\n",
       "</g>\n",
       "<!-- EMPTY&#45;&gt;I0_I1 -->\n",
       "<g id=\"edge1\" class=\"edge\"><title>EMPTY&#45;&gt;I0_I1</title>\n",
       "<path fill=\"none\" stroke=\"black\" d=\"M54.3967,-88.1536C62.5695,-88.1536 71.7499,-88.1536 80.5754,-88.1536\"/>\n",
       "<polygon fill=\"black\" stroke=\"black\" points=\"80.6912,-91.6537 90.6912,-88.1536 80.6911,-84.6537 80.6912,-91.6537\"/>\n",
       "</g>\n",
       "<!-- A_B -->\n",
       "<g id=\"node3\" class=\"node\"><title>A_B</title>\n",
       "<ellipse fill=\"none\" stroke=\"black\" cx=\"236.177\" cy=\"-125.154\" rx=\"26.6284\" ry=\"26.6284\"/>\n",
       "<text text-anchor=\"middle\" x=\"236.177\" y=\"-120.954\" font-family=\"Times,serif\" font-size=\"14.00\">A_B</text>\n",
       "</g>\n",
       "<!-- I0_I1&#45;&gt;A_B -->\n",
       "<g id=\"edge2\" class=\"edge\"><title>I0_I1&#45;&gt;A_B</title>\n",
       "<path fill=\"none\" stroke=\"black\" d=\"M148.258,-96.9221C163.841,-101.983 183.607,-108.403 200.351,-113.842\"/>\n",
       "<polygon fill=\"black\" stroke=\"black\" points=\"199.729,-117.32 210.321,-117.08 201.891,-110.662 199.729,-117.32\"/>\n",
       "<text text-anchor=\"middle\" x=\"172.774\" y=\"-122.954\" font-family=\"Times,serif\" font-size=\"14.00\">b </text>\n",
       "<text text-anchor=\"middle\" x=\"172.774\" y=\"-108.954\" font-family=\"Times,serif\" font-size=\"14.00\"> a</text>\n",
       "</g>\n",
       "<!-- A_B_F -->\n",
       "<g id=\"node5\" class=\"node\"><title>A_B_F</title>\n",
       "<ellipse fill=\"none\" stroke=\"black\" cx=\"236.177\" cy=\"-40.1536\" rx=\"36.2924\" ry=\"36.2924\"/>\n",
       "<ellipse fill=\"none\" stroke=\"black\" cx=\"236.177\" cy=\"-40.1536\" rx=\"40.3078\" ry=\"40.3078\"/>\n",
       "<text text-anchor=\"middle\" x=\"236.177\" y=\"-35.9536\" font-family=\"Times,serif\" font-size=\"14.00\">A_B_F</text>\n",
       "</g>\n",
       "<!-- I0_I1&#45;&gt;A_B_F -->\n",
       "<g id=\"edge3\" class=\"edge\"><title>I0_I1&#45;&gt;A_B_F</title>\n",
       "<path fill=\"none\" stroke=\"black\" d=\"M147.396,-77.1414C159.897,-71.8739 175.233,-65.4119 189.569,-59.3712\"/>\n",
       "<polygon fill=\"black\" stroke=\"black\" points=\"190.95,-62.5877 198.806,-55.4793 188.232,-56.137 190.95,-62.5877\"/>\n",
       "<text text-anchor=\"middle\" x=\"172.774\" y=\"-71.9536\" font-family=\"Times,serif\" font-size=\"14.00\">c</text>\n",
       "</g>\n",
       "<!-- F -->\n",
       "<g id=\"node4\" class=\"node\"><title>F</title>\n",
       "<ellipse fill=\"none\" stroke=\"black\" cx=\"344.831\" cy=\"-86.1536\" rx=\"18\" ry=\"18\"/>\n",
       "<ellipse fill=\"none\" stroke=\"black\" cx=\"344.831\" cy=\"-86.1536\" rx=\"22\" ry=\"22\"/>\n",
       "<text text-anchor=\"middle\" x=\"344.831\" y=\"-81.9536\" font-family=\"Times,serif\" font-size=\"14.00\">F</text>\n",
       "</g>\n",
       "<!-- A_B&#45;&gt;F -->\n",
       "<g id=\"edge4\" class=\"edge\"><title>A_B&#45;&gt;F</title>\n",
       "<path fill=\"none\" stroke=\"black\" d=\"M261.646,-116.206C277.23,-110.507 297.52,-103.088 314.04,-97.0472\"/>\n",
       "<polygon fill=\"black\" stroke=\"black\" points=\"315.574,-100.213 323.763,-93.4917 313.17,-93.6389 315.574,-100.213\"/>\n",
       "<text text-anchor=\"middle\" x=\"299.581\" y=\"-119.954\" font-family=\"Times,serif\" font-size=\"14.00\">d </text>\n",
       "<text text-anchor=\"middle\" x=\"299.581\" y=\"-105.954\" font-family=\"Times,serif\" font-size=\"14.00\"> c</text>\n",
       "</g>\n",
       "<!-- A_B_F&#45;&gt;F -->\n",
       "<g id=\"edge5\" class=\"edge\"><title>A_B_F&#45;&gt;F</title>\n",
       "<path fill=\"none\" stroke=\"black\" d=\"M273.806,-55.0002C283.894,-59.1742 294.816,-63.7719 304.831,-68.1536 308.243,-69.6462 311.807,-71.2414 315.336,-72.8424\"/>\n",
       "<polygon fill=\"black\" stroke=\"black\" points=\"313.911,-76.0394 324.459,-77.0274 316.829,-69.6768 313.911,-76.0394\"/>\n",
       "<text text-anchor=\"middle\" x=\"299.581\" y=\"-84.9536\" font-family=\"Times,serif\" font-size=\"14.00\">d </text>\n",
       "<text text-anchor=\"middle\" x=\"299.581\" y=\"-70.9536\" font-family=\"Times,serif\" font-size=\"14.00\"> c</text>\n",
       "</g>\n",
       "</g>\n",
       "</svg>\n"
      ],
      "text/plain": [
       "<graphviz.dot.Digraph at 0x103889710>"
      ]
     },
     "execution_count": 54,
     "metadata": {},
     "output_type": "execute_result"
    }
   ],
   "source": [
    "dotObj_dfa(dfaMQ0, FuseEdges=True)"
   ]
  },
  {
   "cell_type": "code",
   "execution_count": 55,
   "metadata": {
    "run_control": {
     "frozen": false,
     "read_only": false
    }
   },
   "outputs": [
    {
     "data": {
      "image/svg+xml": [
       "<?xml version=\"1.0\" encoding=\"UTF-8\" standalone=\"no\"?>\n",
       "<!DOCTYPE svg PUBLIC \"-//W3C//DTD SVG 1.1//EN\"\n",
       " \"http://www.w3.org/Graphics/SVG/1.1/DTD/svg11.dtd\">\n",
       "<!-- Generated by graphviz version 2.38.0 (20140413.2041)\n",
       " -->\n",
       "<!-- Title: %3 Pages: 1 -->\n",
       "<svg width=\"330pt\" height=\"346pt\"\n",
       " viewBox=\"0.00 0.00 330.42 346.02\" xmlns=\"http://www.w3.org/2000/svg\" xmlns:xlink=\"http://www.w3.org/1999/xlink\">\n",
       "<g id=\"graph0\" class=\"graph\" transform=\"scale(1 1) rotate(0) translate(4 342.024)\">\n",
       "<title>%3</title>\n",
       "<polygon fill=\"white\" stroke=\"none\" points=\"-4,4 -4,-342.024 326.423,-342.024 326.423,4 -4,4\"/>\n",
       "<!-- EMPTY -->\n",
       "<g id=\"node1\" class=\"node\"><title>EMPTY</title>\n",
       "</g>\n",
       "<!-- St3 -->\n",
       "<g id=\"node2\" class=\"node\"><title>St3</title>\n",
       "<ellipse fill=\"none\" stroke=\"black\" cx=\"118.904\" cy=\"-151.12\" rx=\"21.8081\" ry=\"21.8081\"/>\n",
       "<text text-anchor=\"middle\" x=\"118.904\" y=\"-146.92\" font-family=\"Times,serif\" font-size=\"14.00\">St3</text>\n",
       "</g>\n",
       "<!-- EMPTY&#45;&gt;St3 -->\n",
       "<g id=\"edge1\" class=\"edge\"><title>EMPTY&#45;&gt;St3</title>\n",
       "<path fill=\"none\" stroke=\"black\" d=\"M40.5007,-39.1956C55.8656,-61.413 82.0612,-99.2916 99.6706,-124.755\"/>\n",
       "<polygon fill=\"black\" stroke=\"black\" points=\"96.9426,-126.963 105.509,-133.197 102.7,-122.982 96.9426,-126.963\"/>\n",
       "</g>\n",
       "<!-- St4 -->\n",
       "<g id=\"node4\" class=\"node\"><title>St4</title>\n",
       "<ellipse fill=\"none\" stroke=\"black\" cx=\"205.712\" cy=\"-98.1197\" rx=\"21.8081\" ry=\"21.8081\"/>\n",
       "<text text-anchor=\"middle\" x=\"205.712\" y=\"-93.9197\" font-family=\"Times,serif\" font-size=\"14.00\">St4</text>\n",
       "</g>\n",
       "<!-- EMPTY&#45;&gt;St4 -->\n",
       "<g id=\"edge2\" class=\"edge\"><title>EMPTY&#45;&gt;St4</title>\n",
       "<path fill=\"none\" stroke=\"black\" d=\"M54.0882,-10.9337C84.7171,-0.870253 135.21,9.52057 165.808,-17.1197 180.856,-30.2216 190.578,-50.4499 196.541,-67.4135\"/>\n",
       "<polygon fill=\"black\" stroke=\"black\" points=\"193.217,-68.5109 199.628,-76.9457 199.876,-66.3537 193.217,-68.5109\"/>\n",
       "</g>\n",
       "<!-- St3&#45;&gt;St4 -->\n",
       "<g id=\"edge18\" class=\"edge\"><title>St3&#45;&gt;St4</title>\n",
       "<path fill=\"none\" stroke=\"black\" d=\"M139.628,-142.852C147.937,-139.07 157.571,-134.282 165.808,-129.12 170.747,-126.024 175.787,-122.405 180.53,-118.755\"/>\n",
       "<polygon fill=\"black\" stroke=\"black\" points=\"183.035,-121.233 188.662,-112.256 178.665,-115.765 183.035,-121.233\"/>\n",
       "<text text-anchor=\"middle\" x=\"162.308\" y=\"-135.92\" font-family=\"Times,serif\" font-size=\"14.00\">d</text>\n",
       "</g>\n",
       "<!-- St3&#45;&gt;St4 -->\n",
       "<g id=\"edge20\" class=\"edge\"><title>St3&#45;&gt;St4</title>\n",
       "<path fill=\"none\" stroke=\"black\" d=\"M133.071,-133.884C139.957,-125.929 148.989,-116.974 158.808,-111.12 163.403,-108.38 168.602,-106.195 173.807,-104.459\"/>\n",
       "<polygon fill=\"black\" stroke=\"black\" points=\"175.011,-107.756 183.668,-101.648 173.091,-101.024 175.011,-107.756\"/>\n",
       "<text text-anchor=\"middle\" x=\"162.308\" y=\"-113.92\" font-family=\"Times,serif\" font-size=\"14.00\">c</text>\n",
       "</g>\n",
       "<!-- St1 -->\n",
       "<g id=\"node5\" class=\"node\"><title>St1</title>\n",
       "<ellipse fill=\"none\" stroke=\"black\" cx=\"205.712\" cy=\"-240.12\" rx=\"21.8081\" ry=\"21.8081\"/>\n",
       "<text text-anchor=\"middle\" x=\"205.712\" y=\"-235.92\" font-family=\"Times,serif\" font-size=\"14.00\">St1</text>\n",
       "</g>\n",
       "<!-- St3&#45;&gt;St1 -->\n",
       "<g id=\"edge19\" class=\"edge\"><title>St3&#45;&gt;St1</title>\n",
       "<path fill=\"none\" stroke=\"black\" d=\"M131.842,-169.329C139.063,-179.732 148.789,-192.732 158.808,-203.12 165.039,-209.58 172.387,-215.956 179.356,-221.547\"/>\n",
       "<polygon fill=\"black\" stroke=\"black\" points=\"177.232,-224.328 187.273,-227.708 181.531,-218.804 177.232,-224.328\"/>\n",
       "<text text-anchor=\"middle\" x=\"162.308\" y=\"-212.92\" font-family=\"Times,serif\" font-size=\"14.00\">d</text>\n",
       "</g>\n",
       "<!-- St3&#45;&gt;St1 -->\n",
       "<g id=\"edge21\" class=\"edge\"><title>St3&#45;&gt;St1</title>\n",
       "<path fill=\"none\" stroke=\"black\" d=\"M137.958,-162.509C146.879,-168.611 157.485,-176.613 165.808,-185.12 173.99,-193.483 181.717,-203.707 188.097,-213.062\"/>\n",
       "<polygon fill=\"black\" stroke=\"black\" points=\"185.347,-215.25 193.771,-221.676 191.192,-211.399 185.347,-215.25\"/>\n",
       "<text text-anchor=\"middle\" x=\"162.308\" y=\"-187.92\" font-family=\"Times,serif\" font-size=\"14.00\">c</text>\n",
       "</g>\n",
       "<!-- St2 -->\n",
       "<g id=\"node3\" class=\"node\"><title>St2</title>\n",
       "<ellipse fill=\"none\" stroke=\"black\" cx=\"27\" cy=\"-188.12\" rx=\"21.8081\" ry=\"21.8081\"/>\n",
       "<text text-anchor=\"middle\" x=\"27\" y=\"-183.92\" font-family=\"Times,serif\" font-size=\"14.00\">St2</text>\n",
       "</g>\n",
       "<!-- St2&#45;&gt;St3 -->\n",
       "<g id=\"edge5\" class=\"edge\"><title>St2&#45;&gt;St3</title>\n",
       "<path fill=\"none\" stroke=\"black\" d=\"M42.2611,-172.284C50.1819,-164.663 60.7043,-156.291 72,-152.12 76.6175,-150.414 81.6782,-149.474 86.6997,-149.028\"/>\n",
       "<polygon fill=\"black\" stroke=\"black\" points=\"86.9081,-152.523 96.7973,-148.721 86.6956,-145.526 86.9081,-152.523\"/>\n",
       "<text text-anchor=\"middle\" x=\"75.5\" y=\"-154.92\" font-family=\"Times,serif\" font-size=\"14.00\">b</text>\n",
       "</g>\n",
       "<!-- St2&#45;&gt;St3 -->\n",
       "<g id=\"edge9\" class=\"edge\"><title>St2&#45;&gt;St3</title>\n",
       "<path fill=\"none\" stroke=\"black\" d=\"M37.3257,-168.707C44.7319,-155.725 56.4315,-139.687 72,-132.12 78.6132,-128.905 85.9123,-129.939 92.7072,-132.748\"/>\n",
       "<polygon fill=\"black\" stroke=\"black\" points=\"91.0756,-135.844 101.549,-137.446 94.3603,-129.662 91.0756,-135.844\"/>\n",
       "<text text-anchor=\"middle\" x=\"75.5\" y=\"-134.92\" font-family=\"Times,serif\" font-size=\"14.00\">d</text>\n",
       "</g>\n",
       "<!-- St2&#45;&gt;St3 -->\n",
       "<g id=\"edge12\" class=\"edge\"><title>St2&#45;&gt;St3</title>\n",
       "<path fill=\"none\" stroke=\"black\" d=\"M46.0535,-199.823C56.0848,-204.774 68.602,-208.326 79,-203.12 89.2374,-197.993 97.4744,-188.752 103.687,-179.467\"/>\n",
       "<polygon fill=\"black\" stroke=\"black\" points=\"106.822,-181.048 109.023,-170.684 100.84,-177.413 106.822,-181.048\"/>\n",
       "<text text-anchor=\"middle\" x=\"75.5\" y=\"-208.92\" font-family=\"Times,serif\" font-size=\"14.00\">c</text>\n",
       "</g>\n",
       "<!-- St2&#45;&gt;St3 -->\n",
       "<g id=\"edge14\" class=\"edge\"><title>St2&#45;&gt;St3</title>\n",
       "<path fill=\"none\" stroke=\"black\" d=\"M47.5078,-180.091C59.6424,-175.097 75.4655,-168.585 89.0359,-163\"/>\n",
       "<polygon fill=\"black\" stroke=\"black\" points=\"90.5187,-166.175 98.4341,-159.132 87.8546,-159.702 90.5187,-166.175\"/>\n",
       "<text text-anchor=\"middle\" x=\"75.5\" y=\"-172.92\" font-family=\"Times,serif\" font-size=\"14.00\">a</text>\n",
       "</g>\n",
       "<!-- St2&#45;&gt;St2 -->\n",
       "<g id=\"edge6\" class=\"edge\"><title>St2&#45;&gt;St2</title>\n",
       "<path fill=\"none\" stroke=\"black\" d=\"M24.7769,-210.279C24.5949,-219.839 25.3359,-228.024 27,-228.024 28.014,-228.024 28.6853,-224.984 29.0138,-220.446\"/>\n",
       "<polygon fill=\"black\" stroke=\"black\" points=\"32.5165,-220.349 29.2231,-210.279 25.518,-220.204 32.5165,-220.349\"/>\n",
       "<text text-anchor=\"middle\" x=\"27\" y=\"-230.824\" font-family=\"Times,serif\" font-size=\"14.00\">b</text>\n",
       "</g>\n",
       "<!-- St2&#45;&gt;St2 -->\n",
       "<g id=\"edge10\" class=\"edge\"><title>St2&#45;&gt;St2</title>\n",
       "<path fill=\"none\" stroke=\"black\" d=\"M23.1595,-209.801C21.5714,-227.57 22.8516,-246.024 27,-246.024 30.3382,-246.024 31.8191,-234.074 31.4428,-220.148\"/>\n",
       "<polygon fill=\"black\" stroke=\"black\" points=\"34.9158,-219.581 30.8405,-209.801 27.9276,-219.988 34.9158,-219.581\"/>\n",
       "<text text-anchor=\"middle\" x=\"27\" y=\"-248.824\" font-family=\"Times,serif\" font-size=\"14.00\">d</text>\n",
       "</g>\n",
       "<!-- St2&#45;&gt;St2 -->\n",
       "<g id=\"edge13\" class=\"edge\"><title>St2&#45;&gt;St2</title>\n",
       "<path fill=\"none\" stroke=\"black\" d=\"M22.0994,-209.489C18.511,-234.663 20.1445,-264.024 27,-264.024 32.945,-264.024 34.963,-241.944 33.054,-219.662\"/>\n",
       "<polygon fill=\"black\" stroke=\"black\" points=\"36.505,-219.031 31.9006,-209.489 29.5495,-219.82 36.505,-219.031\"/>\n",
       "<text text-anchor=\"middle\" x=\"27\" y=\"-266.824\" font-family=\"Times,serif\" font-size=\"14.00\">c</text>\n",
       "</g>\n",
       "<!-- St2&#45;&gt;St2 -->\n",
       "<g id=\"edge15\" class=\"edge\"><title>St2&#45;&gt;St2</title>\n",
       "<path fill=\"none\" stroke=\"black\" d=\"M21.342,-209.343C15.4578,-241.487 17.3438,-282.024 27,-282.024 35.6755,-282.024 38.079,-249.303 34.2104,-219.345\"/>\n",
       "<polygon fill=\"black\" stroke=\"black\" points=\"37.6503,-218.688 32.658,-209.343 30.7331,-219.761 37.6503,-218.688\"/>\n",
       "<text text-anchor=\"middle\" x=\"27\" y=\"-284.824\" font-family=\"Times,serif\" font-size=\"14.00\">a</text>\n",
       "</g>\n",
       "<!-- St2&#45;&gt;St4 -->\n",
       "<g id=\"edge7\" class=\"edge\"><title>St2&#45;&gt;St4</title>\n",
       "<path fill=\"none\" stroke=\"black\" d=\"M29.8602,-166.237C34.2631,-130.87 48.9011,-63.2697 97,-45.1197 115.216,-38.2458 122.493,-38.513 140.808,-45.1197 157.112,-51.001 172.199,-63.0511 183.615,-74.1772\"/>\n",
       "<polygon fill=\"black\" stroke=\"black\" points=\"181.413,-76.932 190.902,-81.645 186.423,-72.0433 181.413,-76.932\"/>\n",
       "<text text-anchor=\"middle\" x=\"118.904\" y=\"-47.9197\" font-family=\"Times,serif\" font-size=\"14.00\">b</text>\n",
       "</g>\n",
       "<!-- St2&#45;&gt;St4 -->\n",
       "<g id=\"edge16\" class=\"edge\"><title>St2&#45;&gt;St4</title>\n",
       "<path fill=\"none\" stroke=\"black\" d=\"M37.3784,-168.416C48.368,-148.037 68.7365,-117.619 97,-106.12 121.33,-96.221 151.284,-94.7598 173.422,-95.4661\"/>\n",
       "<polygon fill=\"black\" stroke=\"black\" points=\"173.446,-98.9713 183.604,-95.9595 173.785,-91.9795 173.446,-98.9713\"/>\n",
       "<text text-anchor=\"middle\" x=\"118.904\" y=\"-108.92\" font-family=\"Times,serif\" font-size=\"14.00\">a</text>\n",
       "</g>\n",
       "<!-- St2&#45;&gt;St1 -->\n",
       "<g id=\"edge8\" class=\"edge\"><title>St2&#45;&gt;St1</title>\n",
       "<path fill=\"none\" stroke=\"black\" d=\"M33.7604,-209.048C40.0166,-227.634 51.9087,-253.978 72,-268.12 106.094,-292.117 127.266,-284.019 165.808,-268.12 170.777,-266.07 175.715,-263.272 180.322,-260.234\"/>\n",
       "<polygon fill=\"black\" stroke=\"black\" points=\"182.607,-262.902 188.693,-254.229 178.527,-257.214 182.607,-262.902\"/>\n",
       "<text text-anchor=\"middle\" x=\"118.904\" y=\"-286.92\" font-family=\"Times,serif\" font-size=\"14.00\">b</text>\n",
       "</g>\n",
       "<!-- St2&#45;&gt;St1 -->\n",
       "<g id=\"edge17\" class=\"edge\"><title>St2&#45;&gt;St1</title>\n",
       "<path fill=\"none\" stroke=\"black\" d=\"M42.8346,-203.874C50.7553,-211.276 61.1043,-219.476 72,-224.12 104.606,-238.015 145.542,-241.026 173.263,-241.193\"/>\n",
       "<polygon fill=\"black\" stroke=\"black\" points=\"173.576,-244.691 183.554,-241.128 173.532,-237.691 173.576,-244.691\"/>\n",
       "<text text-anchor=\"middle\" x=\"118.904\" y=\"-242.92\" font-family=\"Times,serif\" font-size=\"14.00\">a</text>\n",
       "</g>\n",
       "<!-- St0 -->\n",
       "<g id=\"node6\" class=\"node\"><title>St0</title>\n",
       "<ellipse fill=\"none\" stroke=\"black\" cx=\"296.519\" cy=\"-240.12\" rx=\"21.8229\" ry=\"21.8229\"/>\n",
       "<ellipse fill=\"none\" stroke=\"black\" cx=\"296.519\" cy=\"-240.12\" rx=\"25.8081\" ry=\"25.8081\"/>\n",
       "<text text-anchor=\"middle\" x=\"296.519\" y=\"-235.92\" font-family=\"Times,serif\" font-size=\"14.00\">St0</text>\n",
       "</g>\n",
       "<!-- St2&#45;&gt;St0 -->\n",
       "<g id=\"edge11\" class=\"edge\"><title>St2&#45;&gt;St0</title>\n",
       "<path fill=\"none\" stroke=\"black\" d=\"M32.23,-209.55C39.4564,-239.056 57.4214,-289.938 97,-302.12 157.222,-320.655 227.589,-285.11 266.285,-260.602\"/>\n",
       "<polygon fill=\"black\" stroke=\"black\" points=\"268.49,-263.343 274.96,-254.954 264.67,-257.477 268.49,-263.343\"/>\n",
       "<text text-anchor=\"middle\" x=\"162.308\" y=\"-307.92\" font-family=\"Times,serif\" font-size=\"14.00\">d</text>\n",
       "</g>\n",
       "<!-- St4&#45;&gt;St0 -->\n",
       "<g id=\"edge22\" class=\"edge\"><title>St4&#45;&gt;St0</title>\n",
       "<path fill=\"none\" stroke=\"black\" d=\"M218.14,-116.393C232.85,-139.915 258.623,-181.124 276.355,-209.477\"/>\n",
       "<polygon fill=\"black\" stroke=\"black\" points=\"273.536,-211.57 281.806,-218.192 279.471,-207.858 273.536,-211.57\"/>\n",
       "<text text-anchor=\"middle\" x=\"249.115\" y=\"-171.92\" font-family=\"Times,serif\" font-size=\"14.00\">c</text>\n",
       "</g>\n",
       "<!-- St1&#45;&gt;St0 -->\n",
       "<g id=\"edge3\" class=\"edge\"><title>St1&#45;&gt;St0</title>\n",
       "<path fill=\"none\" stroke=\"black\" d=\"M227.758,-240.12C237.475,-240.12 249.279,-240.12 260.295,-240.12\"/>\n",
       "<polygon fill=\"black\" stroke=\"black\" points=\"260.521,-243.62 270.521,-240.12 260.521,-236.62 260.521,-243.62\"/>\n",
       "<text text-anchor=\"middle\" x=\"249.115\" y=\"-242.92\" font-family=\"Times,serif\" font-size=\"14.00\">b</text>\n",
       "</g>\n",
       "<!-- St1&#45;&gt;St0 -->\n",
       "<g id=\"edge4\" class=\"edge\"><title>St1&#45;&gt;St0</title>\n",
       "<path fill=\"none\" stroke=\"black\" d=\"M225.129,-229.615C231.423,-226.571 238.638,-223.656 245.615,-222.12 251.873,-220.742 258.414,-221.443 264.623,-223.193\"/>\n",
       "<polygon fill=\"black\" stroke=\"black\" points=\"263.425,-226.481 274.018,-226.66 265.849,-219.914 263.425,-226.481\"/>\n",
       "<text text-anchor=\"middle\" x=\"249.115\" y=\"-224.92\" font-family=\"Times,serif\" font-size=\"14.00\">a</text>\n",
       "</g>\n",
       "</g>\n",
       "</svg>\n"
      ],
      "text/plain": [
       "<graphviz.dot.Digraph at 0x103889e48>"
      ]
     },
     "execution_count": 55,
     "metadata": {},
     "output_type": "execute_result"
    }
   ],
   "source": [
    "dotObj_nfa(rev_dfa(dfaMQ0))"
   ]
  },
  {
   "cell_type": "code",
   "execution_count": 56,
   "metadata": {
    "run_control": {
     "frozen": false,
     "read_only": false
    }
   },
   "outputs": [
    {
     "data": {
      "image/svg+xml": [
       "<?xml version=\"1.0\" encoding=\"UTF-8\" standalone=\"no\"?>\n",
       "<!DOCTYPE svg PUBLIC \"-//W3C//DTD SVG 1.1//EN\"\n",
       " \"http://www.w3.org/Graphics/SVG/1.1/DTD/svg11.dtd\">\n",
       "<!-- Generated by graphviz version 2.38.0 (20140413.2041)\n",
       " -->\n",
       "<!-- Title: %3 Pages: 1 -->\n",
       "<svg width=\"346pt\" height=\"211pt\"\n",
       " viewBox=\"0.00 0.00 346.42 210.58\" xmlns=\"http://www.w3.org/2000/svg\" xmlns:xlink=\"http://www.w3.org/1999/xlink\">\n",
       "<g id=\"graph0\" class=\"graph\" transform=\"scale(1 1) rotate(0) translate(4 206.583)\">\n",
       "<title>%3</title>\n",
       "<polygon fill=\"white\" stroke=\"none\" points=\"-4,4 -4,-206.583 342.423,-206.583 342.423,4 -4,4\"/>\n",
       "<!-- EMPTY -->\n",
       "<g id=\"node1\" class=\"node\"><title>EMPTY</title>\n",
       "</g>\n",
       "<!-- St3 -->\n",
       "<g id=\"node2\" class=\"node\"><title>St3</title>\n",
       "<ellipse fill=\"none\" stroke=\"black\" cx=\"127.904\" cy=\"-92.6787\" rx=\"21.8081\" ry=\"21.8081\"/>\n",
       "<text text-anchor=\"middle\" x=\"127.904\" y=\"-88.4787\" font-family=\"Times,serif\" font-size=\"14.00\">St3</text>\n",
       "</g>\n",
       "<!-- EMPTY&#45;&gt;St3 -->\n",
       "<g id=\"edge1\" class=\"edge\"><title>EMPTY&#45;&gt;St3</title>\n",
       "<path fill=\"none\" stroke=\"black\" d=\"M55.2364,-43.6335C69.4021,-53.3276 86.8285,-65.2534 100.95,-74.9176\"/>\n",
       "<polygon fill=\"black\" stroke=\"black\" points=\"99.0282,-77.8432 109.257,-80.6025 102.982,-72.0664 99.0282,-77.8432\"/>\n",
       "</g>\n",
       "<!-- St4 -->\n",
       "<g id=\"node4\" class=\"node\"><title>St4</title>\n",
       "<ellipse fill=\"none\" stroke=\"black\" cx=\"218.212\" cy=\"-41.6787\" rx=\"21.8081\" ry=\"21.8081\"/>\n",
       "<text text-anchor=\"middle\" x=\"218.212\" y=\"-37.4787\" font-family=\"Times,serif\" font-size=\"14.00\">St4</text>\n",
       "</g>\n",
       "<!-- EMPTY&#45;&gt;St4 -->\n",
       "<g id=\"edge2\" class=\"edge\"><title>EMPTY&#45;&gt;St4</title>\n",
       "<path fill=\"none\" stroke=\"black\" d=\"M55.0682,-16.6124C61.2462,-14.5686 67.8328,-12.4746 74,-10.6787 106.528,-1.20643 116.245,1.94256 149.808,-2.67869 162.841,-4.47325 166.597,-4.68252 178.308,-10.6787 183.496,-13.3356 188.654,-16.7465 193.435,-20.3293\"/>\n",
       "<polygon fill=\"black\" stroke=\"black\" points=\"191.569,-23.3185 201.562,-26.8378 195.945,-17.8548 191.569,-23.3185\"/>\n",
       "</g>\n",
       "<!-- St3&#45;&gt;St4 -->\n",
       "<g id=\"edge9\" class=\"edge\"><title>St3&#45;&gt;St4</title>\n",
       "<path fill=\"none\" stroke=\"black\" d=\"M147.201,-82.1115C159.634,-74.9314 176.289,-65.3125 190.236,-57.2581\"/>\n",
       "<polygon fill=\"black\" stroke=\"black\" points=\"192.028,-60.2644 198.938,-52.2324 188.528,-54.2027 192.028,-60.2644\"/>\n",
       "<text text-anchor=\"middle\" x=\"173.058\" y=\"-86.4787\" font-family=\"Times,serif\" font-size=\"14.00\">d </text>\n",
       "<text text-anchor=\"middle\" x=\"173.058\" y=\"-72.4787\" font-family=\"Times,serif\" font-size=\"14.00\"> c</text>\n",
       "</g>\n",
       "<!-- St1 -->\n",
       "<g id=\"node5\" class=\"node\"><title>St1</title>\n",
       "<ellipse fill=\"none\" stroke=\"black\" cx=\"218.212\" cy=\"-137.679\" rx=\"21.8081\" ry=\"21.8081\"/>\n",
       "<text text-anchor=\"middle\" x=\"218.212\" y=\"-133.479\" font-family=\"Times,serif\" font-size=\"14.00\">St1</text>\n",
       "</g>\n",
       "<!-- St3&#45;&gt;St1 -->\n",
       "<g id=\"edge10\" class=\"edge\"><title>St3&#45;&gt;St1</title>\n",
       "<path fill=\"none\" stroke=\"black\" d=\"M149.057,-99.2817C158.192,-102.563 169.007,-106.858 178.308,-111.679 182.676,-113.942 187.155,-116.59 191.447,-119.314\"/>\n",
       "<polygon fill=\"black\" stroke=\"black\" points=\"189.631,-122.309 199.901,-124.911 193.495,-116.472 189.631,-122.309\"/>\n",
       "<text text-anchor=\"middle\" x=\"173.058\" y=\"-128.479\" font-family=\"Times,serif\" font-size=\"14.00\">d </text>\n",
       "<text text-anchor=\"middle\" x=\"173.058\" y=\"-114.479\" font-family=\"Times,serif\" font-size=\"14.00\"> c</text>\n",
       "</g>\n",
       "<!-- St2 -->\n",
       "<g id=\"node3\" class=\"node\"><title>St2</title>\n",
       "<ellipse fill=\"none\" stroke=\"black\" cx=\"28\" cy=\"-106.679\" rx=\"21.8081\" ry=\"21.8081\"/>\n",
       "<text text-anchor=\"middle\" x=\"28\" y=\"-102.479\" font-family=\"Times,serif\" font-size=\"14.00\">St2</text>\n",
       "</g>\n",
       "<!-- St2&#45;&gt;St3 -->\n",
       "<g id=\"edge4\" class=\"edge\"><title>St2&#45;&gt;St3</title>\n",
       "<path fill=\"none\" stroke=\"black\" d=\"M47.0591,-94.9731C54.989,-90.5018 64.6169,-85.9376 74,-83.6787 81.4727,-81.8797 89.6234,-82.1749 97.239,-83.4013\"/>\n",
       "<polygon fill=\"black\" stroke=\"black\" points=\"96.6655,-86.858 107.178,-85.5418 98.1392,-80.0149 96.6655,-86.858\"/>\n",
       "<text text-anchor=\"middle\" x=\"81\" y=\"-128.479\" font-family=\"Times,serif\" font-size=\"14.00\">b </text>\n",
       "<text text-anchor=\"middle\" x=\"81\" y=\"-114.479\" font-family=\"Times,serif\" font-size=\"14.00\"> d </text>\n",
       "<text text-anchor=\"middle\" x=\"81\" y=\"-100.479\" font-family=\"Times,serif\" font-size=\"14.00\"> c </text>\n",
       "<text text-anchor=\"middle\" x=\"81\" y=\"-86.4787\" font-family=\"Times,serif\" font-size=\"14.00\"> a</text>\n",
       "</g>\n",
       "<!-- St2&#45;&gt;St2 -->\n",
       "<g id=\"edge5\" class=\"edge\"><title>St2&#45;&gt;St2</title>\n",
       "<path fill=\"none\" stroke=\"black\" d=\"M18.5928,-126.8C17.1455,-137.204 20.2812,-146.583 28,-146.583 33.0654,-146.583 36.1571,-142.544 37.2751,-136.826\"/>\n",
       "<polygon fill=\"black\" stroke=\"black\" points=\"40.775,-136.845 37.4072,-126.8 33.7756,-136.753 40.775,-136.845\"/>\n",
       "<text text-anchor=\"middle\" x=\"28\" y=\"-191.383\" font-family=\"Times,serif\" font-size=\"14.00\">b </text>\n",
       "<text text-anchor=\"middle\" x=\"28\" y=\"-177.383\" font-family=\"Times,serif\" font-size=\"14.00\"> d </text>\n",
       "<text text-anchor=\"middle\" x=\"28\" y=\"-163.383\" font-family=\"Times,serif\" font-size=\"14.00\"> c </text>\n",
       "<text text-anchor=\"middle\" x=\"28\" y=\"-149.383\" font-family=\"Times,serif\" font-size=\"14.00\"> a</text>\n",
       "</g>\n",
       "<!-- St2&#45;&gt;St4 -->\n",
       "<g id=\"edge6\" class=\"edge\"><title>St2&#45;&gt;St4</title>\n",
       "<path fill=\"none\" stroke=\"black\" d=\"M41.3088,-88.8497C54.8084,-71.0275 78.2801,-44.7301 106,-33.6787 132.04,-23.2969 164.208,-27.2213 187.238,-32.5882\"/>\n",
       "<polygon fill=\"black\" stroke=\"black\" points=\"186.566,-36.0289 197.121,-35.1093 188.297,-29.2461 186.566,-36.0289\"/>\n",
       "<text text-anchor=\"middle\" x=\"127.904\" y=\"-50.4787\" font-family=\"Times,serif\" font-size=\"14.00\">b </text>\n",
       "<text text-anchor=\"middle\" x=\"127.904\" y=\"-36.4787\" font-family=\"Times,serif\" font-size=\"14.00\"> a</text>\n",
       "</g>\n",
       "<!-- St2&#45;&gt;St1 -->\n",
       "<g id=\"edge7\" class=\"edge\"><title>St2&#45;&gt;St1</title>\n",
       "<path fill=\"none\" stroke=\"black\" d=\"M44.2519,-121.661C52.3731,-128.585 62.9513,-136.062 74,-139.679 111.253,-151.874 156.931,-148.292 186.532,-143.739\"/>\n",
       "<polygon fill=\"black\" stroke=\"black\" points=\"187.378,-147.146 196.664,-142.045 186.224,-140.241 187.378,-147.146\"/>\n",
       "<text text-anchor=\"middle\" x=\"127.904\" y=\"-165.479\" font-family=\"Times,serif\" font-size=\"14.00\">b </text>\n",
       "<text text-anchor=\"middle\" x=\"127.904\" y=\"-151.479\" font-family=\"Times,serif\" font-size=\"14.00\"> a</text>\n",
       "</g>\n",
       "<!-- St0 -->\n",
       "<g id=\"node6\" class=\"node\"><title>St0</title>\n",
       "<ellipse fill=\"none\" stroke=\"black\" cx=\"312.519\" cy=\"-137.679\" rx=\"21.8229\" ry=\"21.8229\"/>\n",
       "<ellipse fill=\"none\" stroke=\"black\" cx=\"312.519\" cy=\"-137.679\" rx=\"25.8081\" ry=\"25.8081\"/>\n",
       "<text text-anchor=\"middle\" x=\"312.519\" y=\"-133.479\" font-family=\"Times,serif\" font-size=\"14.00\">St0</text>\n",
       "</g>\n",
       "<!-- St2&#45;&gt;St0 -->\n",
       "<g id=\"edge8\" class=\"edge\"><title>St2&#45;&gt;St0</title>\n",
       "<path fill=\"none\" stroke=\"black\" d=\"M40.5468,-124.645C53.735,-143.194 77.2498,-170.78 106,-180.679 138.635,-191.915 231.779,-183.822 268.615,-169.679 274.173,-167.545 279.635,-164.475 284.703,-161.072\"/>\n",
       "<polygon fill=\"black\" stroke=\"black\" points=\"286.807,-163.869 292.805,-155.135 282.67,-158.222 286.807,-163.869\"/>\n",
       "<text text-anchor=\"middle\" x=\"173.058\" y=\"-188.479\" font-family=\"Times,serif\" font-size=\"14.00\">d</text>\n",
       "</g>\n",
       "<!-- St4&#45;&gt;St0 -->\n",
       "<g id=\"edge11\" class=\"edge\"><title>St4&#45;&gt;St0</title>\n",
       "<path fill=\"none\" stroke=\"black\" d=\"M234.042,-57.1028C248.185,-71.8108 269.756,-94.2452 286.55,-111.71\"/>\n",
       "<polygon fill=\"black\" stroke=\"black\" points=\"284.431,-114.557 293.885,-119.339 289.477,-109.705 284.431,-114.557\"/>\n",
       "<text text-anchor=\"middle\" x=\"263.365\" y=\"-95.4787\" font-family=\"Times,serif\" font-size=\"14.00\">c</text>\n",
       "</g>\n",
       "<!-- St1&#45;&gt;St0 -->\n",
       "<g id=\"edge3\" class=\"edge\"><title>St1&#45;&gt;St0</title>\n",
       "<path fill=\"none\" stroke=\"black\" d=\"M240.158,-137.679C250.772,-137.679 263.952,-137.679 276.086,-137.679\"/>\n",
       "<polygon fill=\"black\" stroke=\"black\" points=\"276.389,-141.179 286.389,-137.679 276.389,-134.179 276.389,-141.179\"/>\n",
       "<text text-anchor=\"middle\" x=\"263.365\" y=\"-154.479\" font-family=\"Times,serif\" font-size=\"14.00\">b </text>\n",
       "<text text-anchor=\"middle\" x=\"263.365\" y=\"-140.479\" font-family=\"Times,serif\" font-size=\"14.00\"> a</text>\n",
       "</g>\n",
       "</g>\n",
       "</svg>\n"
      ],
      "text/plain": [
       "<graphviz.dot.Digraph at 0x103889588>"
      ]
     },
     "execution_count": 56,
     "metadata": {},
     "output_type": "execute_result"
    }
   ],
   "source": [
    "dotObj_nfa(rev_dfa(dfaMQ0), FuseEdges=True)"
   ]
  },
  {
   "cell_type": "code",
   "execution_count": 57,
   "metadata": {
    "run_control": {
     "frozen": false,
     "read_only": false
    }
   },
   "outputs": [
    {
     "name": "stdout",
     "output_type": "stream",
     "text": [
      "Help on function min_dfa_brz in module jove.Def_NFA:\n",
      "\n",
      "min_dfa_brz(D)\n",
      "    Minimize a DFA as per Brzozowski's algorithm.\n",
      "\n"
     ]
    }
   ],
   "source": [
    "help(min_dfa_brz)"
   ]
  },
  {
   "cell_type": "code",
   "execution_count": 58,
   "metadata": {
    "run_control": {
     "frozen": false,
     "read_only": false
    }
   },
   "outputs": [
    {
     "data": {
      "image/svg+xml": [
       "<?xml version=\"1.0\" encoding=\"UTF-8\" standalone=\"no\"?>\n",
       "<!DOCTYPE svg PUBLIC \"-//W3C//DTD SVG 1.1//EN\"\n",
       " \"http://www.w3.org/Graphics/SVG/1.1/DTD/svg11.dtd\">\n",
       "<!-- Generated by graphviz version 2.38.0 (20140413.2041)\n",
       " -->\n",
       "<!-- Title: %3 Pages: 1 -->\n",
       "<svg width=\"368pt\" height=\"160pt\"\n",
       " viewBox=\"0.00 0.00 367.83 159.97\" xmlns=\"http://www.w3.org/2000/svg\" xmlns:xlink=\"http://www.w3.org/1999/xlink\">\n",
       "<g id=\"graph0\" class=\"graph\" transform=\"scale(1 1) rotate(0) translate(4 155.967)\">\n",
       "<title>%3</title>\n",
       "<polygon fill=\"white\" stroke=\"none\" points=\"-4,4 -4,-155.967 363.831,-155.967 363.831,4 -4,4\"/>\n",
       "<!-- EMPTY -->\n",
       "<g id=\"node1\" class=\"node\"><title>EMPTY</title>\n",
       "</g>\n",
       "<!-- I0_I1 -->\n",
       "<g id=\"node2\" class=\"node\"><title>I0_I1</title>\n",
       "<ellipse fill=\"none\" stroke=\"black\" cx=\"120.262\" cy=\"-88.1536\" rx=\"29.0257\" ry=\"29.0257\"/>\n",
       "<text text-anchor=\"middle\" x=\"120.262\" y=\"-83.9536\" font-family=\"Times,serif\" font-size=\"14.00\">I0_I1</text>\n",
       "</g>\n",
       "<!-- EMPTY&#45;&gt;I0_I1 -->\n",
       "<g id=\"edge1\" class=\"edge\"><title>EMPTY&#45;&gt;I0_I1</title>\n",
       "<path fill=\"none\" stroke=\"black\" d=\"M54.3967,-88.1536C62.5695,-88.1536 71.7499,-88.1536 80.5754,-88.1536\"/>\n",
       "<polygon fill=\"black\" stroke=\"black\" points=\"80.6912,-91.6537 90.6912,-88.1536 80.6911,-84.6537 80.6912,-91.6537\"/>\n",
       "</g>\n",
       "<!-- A_B -->\n",
       "<g id=\"node3\" class=\"node\"><title>A_B</title>\n",
       "<ellipse fill=\"none\" stroke=\"black\" cx=\"232.677\" cy=\"-125.154\" rx=\"26.6284\" ry=\"26.6284\"/>\n",
       "<text text-anchor=\"middle\" x=\"232.677\" y=\"-120.954\" font-family=\"Times,serif\" font-size=\"14.00\">A_B</text>\n",
       "</g>\n",
       "<!-- I0_I1&#45;&gt;A_B -->\n",
       "<g id=\"edge2\" class=\"edge\"><title>I0_I1&#45;&gt;A_B</title>\n",
       "<path fill=\"none\" stroke=\"black\" d=\"M148.273,-97.2048C162.937,-102.119 181.229,-108.249 196.943,-113.514\"/>\n",
       "<polygon fill=\"black\" stroke=\"black\" points=\"196.24,-116.97 206.834,-116.828 198.464,-110.332 196.24,-116.97\"/>\n",
       "<text text-anchor=\"middle\" x=\"171.024\" y=\"-108.954\" font-family=\"Times,serif\" font-size=\"14.00\">b</text>\n",
       "</g>\n",
       "<!-- I0_I1&#45;&gt;A_B -->\n",
       "<g id=\"edge4\" class=\"edge\"><title>I0_I1&#45;&gt;A_B</title>\n",
       "<path fill=\"none\" stroke=\"black\" d=\"M149.353,-84.4011C157.607,-84.1555 166.556,-84.7465 174.524,-87.1536 184.79,-90.2549 194.901,-95.8722 203.698,-101.853\"/>\n",
       "<polygon fill=\"black\" stroke=\"black\" points=\"201.862,-104.845 212.014,-107.876 205.968,-99.1754 201.862,-104.845\"/>\n",
       "<text text-anchor=\"middle\" x=\"171.024\" y=\"-89.9536\" font-family=\"Times,serif\" font-size=\"14.00\">a</text>\n",
       "</g>\n",
       "<!-- A_B_F -->\n",
       "<g id=\"node5\" class=\"node\"><title>A_B_F</title>\n",
       "<ellipse fill=\"none\" stroke=\"black\" cx=\"232.677\" cy=\"-40.1536\" rx=\"36.2924\" ry=\"36.2924\"/>\n",
       "<ellipse fill=\"none\" stroke=\"black\" cx=\"232.677\" cy=\"-40.1536\" rx=\"40.3078\" ry=\"40.3078\"/>\n",
       "<text text-anchor=\"middle\" x=\"232.677\" y=\"-35.9536\" font-family=\"Times,serif\" font-size=\"14.00\">A_B_F</text>\n",
       "</g>\n",
       "<!-- I0_I1&#45;&gt;A_B_F -->\n",
       "<g id=\"edge3\" class=\"edge\"><title>I0_I1&#45;&gt;A_B_F</title>\n",
       "<path fill=\"none\" stroke=\"black\" d=\"M147.429,-76.7783C159.026,-71.7365 173.014,-65.6557 186.231,-59.9101\"/>\n",
       "<polygon fill=\"black\" stroke=\"black\" points=\"187.898,-63.0019 195.674,-55.8052 185.107,-56.5822 187.898,-63.0019\"/>\n",
       "<text text-anchor=\"middle\" x=\"171.024\" y=\"-69.9536\" font-family=\"Times,serif\" font-size=\"14.00\">c</text>\n",
       "</g>\n",
       "<!-- F -->\n",
       "<g id=\"node4\" class=\"node\"><title>F</title>\n",
       "<ellipse fill=\"none\" stroke=\"black\" cx=\"337.831\" cy=\"-82.1536\" rx=\"18\" ry=\"18\"/>\n",
       "<ellipse fill=\"none\" stroke=\"black\" cx=\"337.831\" cy=\"-82.1536\" rx=\"22\" ry=\"22\"/>\n",
       "<text text-anchor=\"middle\" x=\"337.831\" y=\"-77.9536\" font-family=\"Times,serif\" font-size=\"14.00\">F</text>\n",
       "</g>\n",
       "<!-- A_B&#45;&gt;F -->\n",
       "<g id=\"edge5\" class=\"edge\"><title>A_B&#45;&gt;F</title>\n",
       "<path fill=\"none\" stroke=\"black\" d=\"M259.603,-124.883C271.678,-123.927 285.963,-121.571 297.831,-116.154 303.837,-113.412 309.609,-109.442 314.787,-105.175\"/>\n",
       "<polygon fill=\"black\" stroke=\"black\" points=\"317.277,-107.643 322.381,-98.3592 312.601,-102.434 317.277,-107.643\"/>\n",
       "<text text-anchor=\"middle\" x=\"294.331\" y=\"-121.954\" font-family=\"Times,serif\" font-size=\"14.00\">d</text>\n",
       "</g>\n",
       "<!-- A_B&#45;&gt;F -->\n",
       "<g id=\"edge6\" class=\"edge\"><title>A_B&#45;&gt;F</title>\n",
       "<path fill=\"none\" stroke=\"black\" d=\"M257.062,-113.416C267.313,-108.451 279.555,-102.763 290.831,-98.1536 296.016,-96.0341 301.598,-93.94 307.025,-92.0002\"/>\n",
       "<polygon fill=\"black\" stroke=\"black\" points=\"308.21,-95.2939 316.505,-88.7029 305.91,-88.6824 308.21,-95.2939\"/>\n",
       "<text text-anchor=\"middle\" x=\"294.331\" y=\"-100.954\" font-family=\"Times,serif\" font-size=\"14.00\">c</text>\n",
       "</g>\n",
       "<!-- A_B_F&#45;&gt;F -->\n",
       "<g id=\"edge7\" class=\"edge\"><title>A_B_F&#45;&gt;F</title>\n",
       "<path fill=\"none\" stroke=\"black\" d=\"M270.417,-54.1833C279.411,-57.697 288.991,-61.5062 297.831,-65.1536 301.14,-66.519 304.595,-67.9768 308.02,-69.4431\"/>\n",
       "<polygon fill=\"black\" stroke=\"black\" points=\"306.887,-72.7664 317.455,-73.5279 309.668,-66.3427 306.887,-72.7664\"/>\n",
       "<text text-anchor=\"middle\" x=\"294.331\" y=\"-67.9536\" font-family=\"Times,serif\" font-size=\"14.00\">d</text>\n",
       "</g>\n",
       "<!-- A_B_F&#45;&gt;F -->\n",
       "<g id=\"edge8\" class=\"edge\"><title>A_B_F&#45;&gt;F</title>\n",
       "<path fill=\"none\" stroke=\"black\" d=\"M273.057,-39.0119C281.499,-39.9103 290.175,-41.7491 297.831,-45.1536 304.477,-48.1092 310.692,-52.6946 316.121,-57.6434\"/>\n",
       "<polygon fill=\"black\" stroke=\"black\" points=\"313.93,-60.4029 323.472,-65.0066 318.884,-55.457 313.93,-60.4029\"/>\n",
       "<text text-anchor=\"middle\" x=\"294.331\" y=\"-47.9536\" font-family=\"Times,serif\" font-size=\"14.00\">c</text>\n",
       "</g>\n",
       "</g>\n",
       "</svg>\n"
      ],
      "text/plain": [
       "<graphviz.dot.Digraph at 0x103889c18>"
      ]
     },
     "execution_count": 58,
     "metadata": {},
     "output_type": "execute_result"
    }
   ],
   "source": [
    "dotObj_dfa(dfaMQ0)"
   ]
  },
  {
   "cell_type": "code",
   "execution_count": null,
   "metadata": {
    "run_control": {
     "frozen": false,
     "read_only": false
    }
   },
   "outputs": [],
   "source": []
  },
  {
   "cell_type": "code",
   "execution_count": 59,
   "metadata": {
    "run_control": {
     "frozen": false,
     "read_only": false
    }
   },
   "outputs": [
    {
     "data": {
      "image/svg+xml": [
       "<?xml version=\"1.0\" encoding=\"UTF-8\" standalone=\"no\"?>\n",
       "<!DOCTYPE svg PUBLIC \"-//W3C//DTD SVG 1.1//EN\"\n",
       " \"http://www.w3.org/Graphics/SVG/1.1/DTD/svg11.dtd\">\n",
       "<!-- Generated by graphviz version 2.38.0 (20140413.2041)\n",
       " -->\n",
       "<!-- Title: %3 Pages: 1 -->\n",
       "<svg width=\"332pt\" height=\"126pt\"\n",
       " viewBox=\"0.00 0.00 332.42 125.81\" xmlns=\"http://www.w3.org/2000/svg\" xmlns:xlink=\"http://www.w3.org/1999/xlink\">\n",
       "<g id=\"graph0\" class=\"graph\" transform=\"scale(1 1) rotate(0) translate(4 121.808)\">\n",
       "<title>%3</title>\n",
       "<polygon fill=\"white\" stroke=\"none\" points=\"-4,4 -4,-121.808 328.423,-121.808 328.423,4 -4,4\"/>\n",
       "<!-- EMPTY -->\n",
       "<g id=\"node1\" class=\"node\"><title>EMPTY</title>\n",
       "</g>\n",
       "<!-- St3 -->\n",
       "<g id=\"node2\" class=\"node\"><title>St3</title>\n",
       "<ellipse fill=\"none\" stroke=\"black\" cx=\"112.904\" cy=\"-62.9039\" rx=\"21.8081\" ry=\"21.8081\"/>\n",
       "<text text-anchor=\"middle\" x=\"112.904\" y=\"-58.7039\" font-family=\"Times,serif\" font-size=\"14.00\">St3</text>\n",
       "</g>\n",
       "<!-- EMPTY&#45;&gt;St3 -->\n",
       "<g id=\"edge1\" class=\"edge\"><title>EMPTY&#45;&gt;St3</title>\n",
       "<path fill=\"none\" stroke=\"black\" d=\"M54.0878,-62.9039C62.501,-62.9039 71.9126,-62.9039 80.6587,-62.9039\"/>\n",
       "<polygon fill=\"black\" stroke=\"black\" points=\"80.8854,-66.404 90.8853,-62.9039 80.8853,-59.404 80.8854,-66.404\"/>\n",
       "</g>\n",
       "<!-- St2 -->\n",
       "<g id=\"node3\" class=\"node\"><title>St2</title>\n",
       "<ellipse fill=\"none\" stroke=\"black\" cx=\"203.712\" cy=\"-95.9039\" rx=\"21.8081\" ry=\"21.8081\"/>\n",
       "<text text-anchor=\"middle\" x=\"203.712\" y=\"-91.7039\" font-family=\"Times,serif\" font-size=\"14.00\">St2</text>\n",
       "</g>\n",
       "<!-- St3&#45;&gt;St2 -->\n",
       "<g id=\"edge2\" class=\"edge\"><title>St3&#45;&gt;St2</title>\n",
       "<path fill=\"none\" stroke=\"black\" d=\"M133.664,-70.6184C139.789,-72.984 146.568,-75.576 152.808,-77.9039 159.417,-80.3697 166.539,-82.9713 173.275,-85.4068\"/>\n",
       "<polygon fill=\"black\" stroke=\"black\" points=\"172.168,-88.7282 182.763,-88.8208 174.538,-82.1417 172.168,-88.7282\"/>\n",
       "<text text-anchor=\"middle\" x=\"156.308\" y=\"-83.7039\" font-family=\"Times,serif\" font-size=\"14.00\">b</text>\n",
       "</g>\n",
       "<!-- St3&#45;&gt;St2 -->\n",
       "<g id=\"edge4\" class=\"edge\"><title>St3&#45;&gt;St2</title>\n",
       "<path fill=\"none\" stroke=\"black\" d=\"M134.521,-58.0388C142.615,-57.0252 151.853,-57.0085 159.808,-59.9039 167.517,-62.7098 174.805,-67.5768 181.112,-72.8414\"/>\n",
       "<polygon fill=\"black\" stroke=\"black\" points=\"178.783,-75.4543 188.534,-79.5974 183.495,-70.2776 178.783,-75.4543\"/>\n",
       "<text text-anchor=\"middle\" x=\"156.308\" y=\"-62.7039\" font-family=\"Times,serif\" font-size=\"14.00\">a</text>\n",
       "</g>\n",
       "<!-- St1 -->\n",
       "<g id=\"node5\" class=\"node\"><title>St1</title>\n",
       "<ellipse fill=\"none\" stroke=\"black\" cx=\"203.712\" cy=\"-25.9039\" rx=\"21.8229\" ry=\"21.8229\"/>\n",
       "<ellipse fill=\"none\" stroke=\"black\" cx=\"203.712\" cy=\"-25.9039\" rx=\"25.8081\" ry=\"25.8081\"/>\n",
       "<text text-anchor=\"middle\" x=\"203.712\" y=\"-21.7039\" font-family=\"Times,serif\" font-size=\"14.00\">St1</text>\n",
       "</g>\n",
       "<!-- St3&#45;&gt;St1 -->\n",
       "<g id=\"edge3\" class=\"edge\"><title>St3&#45;&gt;St1</title>\n",
       "<path fill=\"none\" stroke=\"black\" d=\"M132.077,-51.518C138.473,-47.8118 145.814,-43.8883 152.808,-40.9039 157.904,-38.7291 163.419,-36.7363 168.859,-34.9629\"/>\n",
       "<polygon fill=\"black\" stroke=\"black\" points=\"169.933,-38.2947 178.467,-32.0159 167.88,-31.6025 169.933,-38.2947\"/>\n",
       "<text text-anchor=\"middle\" x=\"156.308\" y=\"-43.7039\" font-family=\"Times,serif\" font-size=\"14.00\">c</text>\n",
       "</g>\n",
       "<!-- St4 -->\n",
       "<g id=\"node4\" class=\"node\"><title>St4</title>\n",
       "<ellipse fill=\"none\" stroke=\"black\" cx=\"298.519\" cy=\"-60.9039\" rx=\"21.8229\" ry=\"21.8229\"/>\n",
       "<ellipse fill=\"none\" stroke=\"black\" cx=\"298.519\" cy=\"-60.9039\" rx=\"25.8081\" ry=\"25.8081\"/>\n",
       "<text text-anchor=\"middle\" x=\"298.519\" y=\"-56.7039\" font-family=\"Times,serif\" font-size=\"14.00\">St4</text>\n",
       "</g>\n",
       "<!-- St2&#45;&gt;St4 -->\n",
       "<g id=\"edge5\" class=\"edge\"><title>St2&#45;&gt;St4</title>\n",
       "<path fill=\"none\" stroke=\"black\" d=\"M225.648,-98.427C234.789,-98.7888 245.482,-98.187 254.615,-94.9039 260.719,-92.7097 266.618,-89.2688 271.987,-85.402\"/>\n",
       "<polygon fill=\"black\" stroke=\"black\" points=\"274.282,-88.0493 279.942,-79.0929 269.932,-82.5648 274.282,-88.0493\"/>\n",
       "<text text-anchor=\"middle\" x=\"251.115\" y=\"-98.7039\" font-family=\"Times,serif\" font-size=\"14.00\">d</text>\n",
       "</g>\n",
       "<!-- St2&#45;&gt;St4 -->\n",
       "<g id=\"edge6\" class=\"edge\"><title>St2&#45;&gt;St4</title>\n",
       "<path fill=\"none\" stroke=\"black\" d=\"M223.752,-86.9498C231.132,-83.6174 239.697,-79.9167 247.615,-76.9039 252.824,-74.9221 258.397,-72.9727 263.861,-71.1537\"/>\n",
       "<polygon fill=\"black\" stroke=\"black\" points=\"265.042,-74.4503 273.479,-68.0414 262.887,-67.7903 265.042,-74.4503\"/>\n",
       "<text text-anchor=\"middle\" x=\"251.115\" y=\"-79.7039\" font-family=\"Times,serif\" font-size=\"14.00\">c</text>\n",
       "</g>\n",
       "<!-- St1&#45;&gt;St4 -->\n",
       "<g id=\"edge7\" class=\"edge\"><title>St1&#45;&gt;St4</title>\n",
       "<path fill=\"none\" stroke=\"black\" d=\"M228.131,-34.7358C239.122,-38.8809 252.415,-43.8941 264.413,-48.4187\"/>\n",
       "<polygon fill=\"black\" stroke=\"black\" points=\"263.516,-51.8209 274.108,-52.0747 265.986,-45.2711 263.516,-51.8209\"/>\n",
       "<text text-anchor=\"middle\" x=\"251.115\" y=\"-47.7039\" font-family=\"Times,serif\" font-size=\"14.00\">d</text>\n",
       "</g>\n",
       "<!-- St1&#45;&gt;St4 -->\n",
       "<g id=\"edge8\" class=\"edge\"><title>St1&#45;&gt;St4</title>\n",
       "<path fill=\"none\" stroke=\"black\" d=\"M229.41,-21.8988C237.639,-21.4763 246.717,-22.029 254.615,-24.9039 261.123,-27.2723 267.33,-31.1091 272.9,-35.414\"/>\n",
       "<polygon fill=\"black\" stroke=\"black\" points=\"270.683,-38.1231 280.567,-41.9397 275.22,-32.7926 270.683,-38.1231\"/>\n",
       "<text text-anchor=\"middle\" x=\"251.115\" y=\"-27.7039\" font-family=\"Times,serif\" font-size=\"14.00\">c</text>\n",
       "</g>\n",
       "</g>\n",
       "</svg>\n"
      ],
      "text/plain": [
       "<graphviz.dot.Digraph at 0x103889080>"
      ]
     },
     "execution_count": 59,
     "metadata": {},
     "output_type": "execute_result"
    }
   ],
   "source": [
    "dotObj_dfa(min_dfa_brz(dfaMQ0))"
   ]
  },
  {
   "cell_type": "markdown",
   "metadata": {
    "run_control": {
     "frozen": false,
     "read_only": false
    }
   },
   "source": [
    "# Brzozowski Minimization : All Steps "
   ]
  },
  {
   "cell_type": "code",
   "execution_count": 60,
   "metadata": {
    "run_control": {
     "frozen": false,
     "read_only": false
    }
   },
   "outputs": [],
   "source": [
    "blimp = md2mc('''\n",
    "DFA \n",
    "I1 : a -> F2\n",
    "I1 : b -> F3\n",
    "F2 : a -> S8\n",
    "F2 : b -> S5\n",
    "F3 : a -> S7\n",
    "F3 : b -> S4\n",
    "S4 : a | b -> F6\n",
    "S5 : a | b -> F6\n",
    "F6 : a | b -> F6\n",
    "S7 : a | b -> F6\n",
    "S8 : a -> F6\n",
    "S8 : b -> F9\n",
    "F9 : a -> F9\n",
    "F9 : b -> F6\n",
    "''')"
   ]
  },
  {
   "cell_type": "code",
   "execution_count": 61,
   "metadata": {
    "run_control": {
     "frozen": false,
     "read_only": false
    }
   },
   "outputs": [],
   "source": [
    "DOblimp = dotObj_dfa(blimp)"
   ]
  },
  {
   "cell_type": "code",
   "execution_count": 62,
   "metadata": {
    "run_control": {
     "frozen": false,
     "read_only": false
    }
   },
   "outputs": [
    {
     "data": {
      "image/svg+xml": [
       "<?xml version=\"1.0\" encoding=\"UTF-8\" standalone=\"no\"?>\n",
       "<!DOCTYPE svg PUBLIC \"-//W3C//DTD SVG 1.1//EN\"\n",
       " \"http://www.w3.org/Graphics/SVG/1.1/DTD/svg11.dtd\">\n",
       "<!-- Generated by graphviz version 2.38.0 (20140413.2041)\n",
       " -->\n",
       "<!-- Title: %3 Pages: 1 -->\n",
       "<svg width=\"493pt\" height=\"335pt\"\n",
       " viewBox=\"0.00 0.00 493.00 335.45\" xmlns=\"http://www.w3.org/2000/svg\" xmlns:xlink=\"http://www.w3.org/1999/xlink\">\n",
       "<g id=\"graph0\" class=\"graph\" transform=\"scale(1 1) rotate(0) translate(4 331.447)\">\n",
       "<title>%3</title>\n",
       "<polygon fill=\"white\" stroke=\"none\" points=\"-4,4 -4,-331.447 489.003,-331.447 489.003,4 -4,4\"/>\n",
       "<!-- EMPTY -->\n",
       "<g id=\"node1\" class=\"node\"><title>EMPTY</title>\n",
       "</g>\n",
       "<!-- I1 -->\n",
       "<g id=\"node5\" class=\"node\"><title>I1</title>\n",
       "<ellipse fill=\"none\" stroke=\"black\" cx=\"109\" cy=\"-209.447\" rx=\"18\" ry=\"18\"/>\n",
       "<text text-anchor=\"middle\" x=\"109\" y=\"-205.247\" font-family=\"Times,serif\" font-size=\"14.00\">I1</text>\n",
       "</g>\n",
       "<!-- EMPTY&#45;&gt;I1 -->\n",
       "<g id=\"edge1\" class=\"edge\"><title>EMPTY&#45;&gt;I1</title>\n",
       "<path fill=\"none\" stroke=\"black\" d=\"M54.195,-209.447C62.6538,-209.447 72.0513,-209.447 80.5951,-209.447\"/>\n",
       "<polygon fill=\"black\" stroke=\"black\" points=\"80.8257,-212.947 90.8257,-209.447 80.8257,-205.947 80.8257,-212.947\"/>\n",
       "</g>\n",
       "<!-- S5 -->\n",
       "<g id=\"node2\" class=\"node\"><title>S5</title>\n",
       "<ellipse fill=\"none\" stroke=\"black\" cx=\"371.662\" cy=\"-171.447\" rx=\"19.3939\" ry=\"19.3939\"/>\n",
       "<text text-anchor=\"middle\" x=\"371.662\" y=\"-167.247\" font-family=\"Times,serif\" font-size=\"14.00\">S5</text>\n",
       "</g>\n",
       "<!-- F6 -->\n",
       "<g id=\"node8\" class=\"node\"><title>F6</title>\n",
       "<ellipse fill=\"none\" stroke=\"black\" cx=\"461.556\" cy=\"-202.447\" rx=\"19.4029\" ry=\"19.4029\"/>\n",
       "<ellipse fill=\"none\" stroke=\"black\" cx=\"461.556\" cy=\"-202.447\" rx=\"23.3939\" ry=\"23.3939\"/>\n",
       "<text text-anchor=\"middle\" x=\"461.556\" y=\"-198.247\" font-family=\"Times,serif\" font-size=\"14.00\">F6</text>\n",
       "</g>\n",
       "<!-- S5&#45;&gt;F6 -->\n",
       "<g id=\"edge10\" class=\"edge\"><title>S5&#45;&gt;F6</title>\n",
       "<path fill=\"none\" stroke=\"black\" d=\"M390.838,-176.299C399.736,-178.804 410.563,-182.044 420.109,-185.447 423.439,-186.634 426.89,-187.949 430.31,-189.307\"/>\n",
       "<polygon fill=\"black\" stroke=\"black\" points=\"429.157,-192.617 439.737,-193.176 431.815,-186.141 429.157,-192.617\"/>\n",
       "<text text-anchor=\"middle\" x=\"416.609\" y=\"-188.247\" font-family=\"Times,serif\" font-size=\"14.00\">a</text>\n",
       "</g>\n",
       "<!-- S5&#45;&gt;F6 -->\n",
       "<g id=\"edge11\" class=\"edge\"><title>S5&#45;&gt;F6</title>\n",
       "<path fill=\"none\" stroke=\"black\" d=\"M390.291,-165.222C399.448,-162.97 410.667,-161.78 420.109,-165.447 426.904,-168.086 433.253,-172.458 438.816,-177.29\"/>\n",
       "<polygon fill=\"black\" stroke=\"black\" points=\"436.729,-180.139 446.363,-184.549 441.582,-175.094 436.729,-180.139\"/>\n",
       "<text text-anchor=\"middle\" x=\"416.609\" y=\"-168.247\" font-family=\"Times,serif\" font-size=\"14.00\">b</text>\n",
       "</g>\n",
       "<!-- S7 -->\n",
       "<g id=\"node3\" class=\"node\"><title>S7</title>\n",
       "<ellipse fill=\"none\" stroke=\"black\" cx=\"371.662\" cy=\"-295.447\" rx=\"19.3939\" ry=\"19.3939\"/>\n",
       "<text text-anchor=\"middle\" x=\"371.662\" y=\"-291.247\" font-family=\"Times,serif\" font-size=\"14.00\">S7</text>\n",
       "</g>\n",
       "<!-- S7&#45;&gt;F6 -->\n",
       "<g id=\"edge14\" class=\"edge\"><title>S7&#45;&gt;F6</title>\n",
       "<path fill=\"none\" stroke=\"black\" d=\"M387.8,-306.657C397.666,-312.489 410.453,-317.141 420.109,-310.447 444.008,-293.877 453.808,-261.342 457.815,-236.293\"/>\n",
       "<polygon fill=\"black\" stroke=\"black\" points=\"461.323,-236.465 459.201,-226.085 454.387,-235.523 461.323,-236.465\"/>\n",
       "<text text-anchor=\"middle\" x=\"416.609\" y=\"-316.247\" font-family=\"Times,serif\" font-size=\"14.00\">a</text>\n",
       "</g>\n",
       "<!-- S7&#45;&gt;F6 -->\n",
       "<g id=\"edge15\" class=\"edge\"><title>S7&#45;&gt;F6</title>\n",
       "<path fill=\"none\" stroke=\"black\" d=\"M387.992,-284.354C397.699,-276.977 410.236,-266.776 420.109,-256.447 427.898,-248.298 435.548,-238.644 442.061,-229.768\"/>\n",
       "<polygon fill=\"black\" stroke=\"black\" points=\"444.953,-231.741 447.925,-221.572 439.26,-227.668 444.953,-231.741\"/>\n",
       "<text text-anchor=\"middle\" x=\"416.609\" y=\"-265.247\" font-family=\"Times,serif\" font-size=\"14.00\">b</text>\n",
       "</g>\n",
       "<!-- S8 -->\n",
       "<g id=\"node4\" class=\"node\"><title>S8</title>\n",
       "<ellipse fill=\"none\" stroke=\"black\" cx=\"281.768\" cy=\"-114.447\" rx=\"19.3939\" ry=\"19.3939\"/>\n",
       "<text text-anchor=\"middle\" x=\"281.768\" y=\"-110.247\" font-family=\"Times,serif\" font-size=\"14.00\">S8</text>\n",
       "</g>\n",
       "<!-- S8&#45;&gt;F6 -->\n",
       "<g id=\"edge16\" class=\"edge\"><title>S8&#45;&gt;F6</title>\n",
       "<path fill=\"none\" stroke=\"black\" d=\"M301.453,-113.123C324.762,-112.295 365.189,-113.629 395.109,-129.447 414.662,-139.784 431.226,-158.434 442.799,-174.295\"/>\n",
       "<polygon fill=\"black\" stroke=\"black\" points=\"440.108,-176.554 448.702,-182.75 445.847,-172.547 440.108,-176.554\"/>\n",
       "<text text-anchor=\"middle\" x=\"371.662\" y=\"-132.247\" font-family=\"Times,serif\" font-size=\"14.00\">a</text>\n",
       "</g>\n",
       "<!-- F9 -->\n",
       "<g id=\"node10\" class=\"node\"><title>F9</title>\n",
       "<ellipse fill=\"none\" stroke=\"black\" cx=\"371.662\" cy=\"-23.4469\" rx=\"19.4029\" ry=\"19.4029\"/>\n",
       "<ellipse fill=\"none\" stroke=\"black\" cx=\"371.662\" cy=\"-23.4469\" rx=\"23.3939\" ry=\"23.3939\"/>\n",
       "<text text-anchor=\"middle\" x=\"371.662\" y=\"-19.2469\" font-family=\"Times,serif\" font-size=\"14.00\">F9</text>\n",
       "</g>\n",
       "<!-- S8&#45;&gt;F9 -->\n",
       "<g id=\"edge17\" class=\"edge\"><title>S8&#45;&gt;F9</title>\n",
       "<path fill=\"none\" stroke=\"black\" d=\"M296.117,-100.626C309.777,-86.4835 331.266,-64.235 347.67,-47.2516\"/>\n",
       "<polygon fill=\"black\" stroke=\"black\" points=\"350.373,-49.4913 354.802,-39.867 345.338,-44.6282 350.373,-49.4913\"/>\n",
       "<text text-anchor=\"middle\" x=\"326.715\" y=\"-75.2469\" font-family=\"Times,serif\" font-size=\"14.00\">b</text>\n",
       "</g>\n",
       "<!-- F3 -->\n",
       "<g id=\"node7\" class=\"node\"><title>F3</title>\n",
       "<ellipse fill=\"none\" stroke=\"black\" cx=\"281.768\" cy=\"-237.447\" rx=\"19.4029\" ry=\"19.4029\"/>\n",
       "<ellipse fill=\"none\" stroke=\"black\" cx=\"281.768\" cy=\"-237.447\" rx=\"23.3939\" ry=\"23.3939\"/>\n",
       "<text text-anchor=\"middle\" x=\"281.768\" y=\"-233.247\" font-family=\"Times,serif\" font-size=\"14.00\">F3</text>\n",
       "</g>\n",
       "<!-- I1&#45;&gt;F3 -->\n",
       "<g id=\"edge3\" class=\"edge\"><title>I1&#45;&gt;F3</title>\n",
       "<path fill=\"none\" stroke=\"black\" d=\"M126.998,-212.234C155.255,-216.867 212.347,-226.228 248.455,-232.149\"/>\n",
       "<polygon fill=\"black\" stroke=\"black\" points=\"248.053,-235.629 258.487,-233.794 249.185,-228.722 248.053,-235.629\"/>\n",
       "<text text-anchor=\"middle\" x=\"192.661\" y=\"-230.247\" font-family=\"Times,serif\" font-size=\"14.00\">b</text>\n",
       "</g>\n",
       "<!-- F2 -->\n",
       "<g id=\"node9\" class=\"node\"><title>F2</title>\n",
       "<ellipse fill=\"none\" stroke=\"black\" cx=\"192.661\" cy=\"-171.447\" rx=\"19.4029\" ry=\"19.4029\"/>\n",
       "<ellipse fill=\"none\" stroke=\"black\" cx=\"192.661\" cy=\"-171.447\" rx=\"23.3939\" ry=\"23.3939\"/>\n",
       "<text text-anchor=\"middle\" x=\"192.661\" y=\"-167.247\" font-family=\"Times,serif\" font-size=\"14.00\">F2</text>\n",
       "</g>\n",
       "<!-- I1&#45;&gt;F2 -->\n",
       "<g id=\"edge2\" class=\"edge\"><title>I1&#45;&gt;F2</title>\n",
       "<path fill=\"none\" stroke=\"black\" d=\"M125.745,-202.12C135.912,-197.389 149.466,-191.082 161.639,-185.417\"/>\n",
       "<polygon fill=\"black\" stroke=\"black\" points=\"163.425,-188.447 171.015,-181.054 160.472,-182.1 163.425,-188.447\"/>\n",
       "<text text-anchor=\"middle\" x=\"148.107\" y=\"-196.247\" font-family=\"Times,serif\" font-size=\"14.00\">a</text>\n",
       "</g>\n",
       "<!-- S4 -->\n",
       "<g id=\"node6\" class=\"node\"><title>S4</title>\n",
       "<ellipse fill=\"none\" stroke=\"black\" cx=\"371.662\" cy=\"-237.447\" rx=\"19.3939\" ry=\"19.3939\"/>\n",
       "<text text-anchor=\"middle\" x=\"371.662\" y=\"-233.247\" font-family=\"Times,serif\" font-size=\"14.00\">S4</text>\n",
       "</g>\n",
       "<!-- S4&#45;&gt;F6 -->\n",
       "<g id=\"edge8\" class=\"edge\"><title>S4&#45;&gt;F6</title>\n",
       "<path fill=\"none\" stroke=\"black\" d=\"M391.228,-239.874C400.219,-240.352 411.01,-239.872 420.109,-236.447 426.306,-234.114 432.225,-230.393 437.529,-226.253\"/>\n",
       "<polygon fill=\"black\" stroke=\"black\" points=\"440.024,-228.722 445.31,-219.54 435.452,-223.422 440.024,-228.722\"/>\n",
       "<text text-anchor=\"middle\" x=\"416.609\" y=\"-241.247\" font-family=\"Times,serif\" font-size=\"14.00\">a</text>\n",
       "</g>\n",
       "<!-- S4&#45;&gt;F6 -->\n",
       "<g id=\"edge9\" class=\"edge\"><title>S4&#45;&gt;F6</title>\n",
       "<path fill=\"none\" stroke=\"black\" d=\"M389.397,-229.062C396.609,-225.585 405.191,-221.63 413.109,-218.447 418.122,-216.432 423.498,-214.452 428.765,-212.609\"/>\n",
       "<polygon fill=\"black\" stroke=\"black\" points=\"430.29,-215.788 438.635,-209.261 428.041,-209.159 430.29,-215.788\"/>\n",
       "<text text-anchor=\"middle\" x=\"416.609\" y=\"-221.247\" font-family=\"Times,serif\" font-size=\"14.00\">b</text>\n",
       "</g>\n",
       "<!-- F3&#45;&gt;S7 -->\n",
       "<g id=\"edge6\" class=\"edge\"><title>F3&#45;&gt;S7</title>\n",
       "<path fill=\"none\" stroke=\"black\" d=\"M301.84,-250.032C314.845,-258.614 332.183,-270.055 346.203,-279.307\"/>\n",
       "<polygon fill=\"black\" stroke=\"black\" points=\"344.584,-282.431 354.858,-285.018 348.439,-276.589 344.584,-282.431\"/>\n",
       "<text text-anchor=\"middle\" x=\"326.715\" y=\"-271.247\" font-family=\"Times,serif\" font-size=\"14.00\">a</text>\n",
       "</g>\n",
       "<!-- F3&#45;&gt;S4 -->\n",
       "<g id=\"edge7\" class=\"edge\"><title>F3&#45;&gt;S4</title>\n",
       "<path fill=\"none\" stroke=\"black\" d=\"M305.403,-237.447C316.463,-237.447 329.899,-237.447 341.698,-237.447\"/>\n",
       "<polygon fill=\"black\" stroke=\"black\" points=\"341.958,-240.947 351.958,-237.447 341.958,-233.947 341.958,-240.947\"/>\n",
       "<text text-anchor=\"middle\" x=\"326.715\" y=\"-240.247\" font-family=\"Times,serif\" font-size=\"14.00\">b</text>\n",
       "</g>\n",
       "<!-- F6&#45;&gt;F6 -->\n",
       "<g id=\"edge12\" class=\"edge\"><title>F6&#45;&gt;F6</title>\n",
       "<path fill=\"none\" stroke=\"black\" d=\"M457.467,-225.881C457.185,-235.63 458.548,-243.894 461.556,-243.894 463.389,-243.894 464.611,-240.825 465.222,-236.222\"/>\n",
       "<polygon fill=\"black\" stroke=\"black\" points=\"468.733,-236.016 465.645,-225.881 461.739,-235.73 468.733,-236.016\"/>\n",
       "<text text-anchor=\"middle\" x=\"461.556\" y=\"-246.694\" font-family=\"Times,serif\" font-size=\"14.00\">a</text>\n",
       "</g>\n",
       "<!-- F6&#45;&gt;F6 -->\n",
       "<g id=\"edge13\" class=\"edge\"><title>F6&#45;&gt;F6</title>\n",
       "<path fill=\"none\" stroke=\"black\" d=\"M454.466,-225.015C451.63,-243.162 453.993,-261.894 461.556,-261.894 467.7,-261.894 470.413,-249.528 469.693,-235.157\"/>\n",
       "<polygon fill=\"black\" stroke=\"black\" points=\"473.154,-234.603 468.646,-225.015 466.191,-235.322 473.154,-234.603\"/>\n",
       "<text text-anchor=\"middle\" x=\"461.556\" y=\"-264.694\" font-family=\"Times,serif\" font-size=\"14.00\">b</text>\n",
       "</g>\n",
       "<!-- F2&#45;&gt;S5 -->\n",
       "<g id=\"edge5\" class=\"edge\"><title>F2&#45;&gt;S5</title>\n",
       "<path fill=\"none\" stroke=\"black\" d=\"M216.438,-171.447C248.508,-171.447 306.955,-171.447 341.957,-171.447\"/>\n",
       "<polygon fill=\"black\" stroke=\"black\" points=\"342.012,-174.947 352.012,-171.447 342.012,-167.947 342.012,-174.947\"/>\n",
       "<text text-anchor=\"middle\" x=\"281.768\" y=\"-174.247\" font-family=\"Times,serif\" font-size=\"14.00\">b</text>\n",
       "</g>\n",
       "<!-- F2&#45;&gt;S8 -->\n",
       "<g id=\"edge4\" class=\"edge\"><title>F2&#45;&gt;S8</title>\n",
       "<path fill=\"none\" stroke=\"black\" d=\"M212.46,-158.147C219.234,-153.43 226.968,-148.133 234.108,-143.447 241.172,-138.81 248.935,-133.91 256.067,-129.483\"/>\n",
       "<polygon fill=\"black\" stroke=\"black\" points=\"257.987,-132.412 264.664,-124.185 254.314,-126.452 257.987,-132.412\"/>\n",
       "<text text-anchor=\"middle\" x=\"237.215\" y=\"-146.247\" font-family=\"Times,serif\" font-size=\"14.00\">a</text>\n",
       "</g>\n",
       "<!-- F9&#45;&gt;F6 -->\n",
       "<g id=\"edge19\" class=\"edge\"><title>F9&#45;&gt;F6</title>\n",
       "<path fill=\"none\" stroke=\"black\" d=\"M387.938,-40.6391C398.116,-52.7743 411.208,-69.7792 420.109,-86.4469 434.438,-113.279 445.355,-146.219 452.215,-170.132\"/>\n",
       "<polygon fill=\"black\" stroke=\"black\" points=\"448.848,-171.091 454.904,-179.784 455.591,-169.212 448.848,-171.091\"/>\n",
       "<text text-anchor=\"middle\" x=\"416.609\" y=\"-89.2469\" font-family=\"Times,serif\" font-size=\"14.00\">b</text>\n",
       "</g>\n",
       "<!-- F9&#45;&gt;F9 -->\n",
       "<g id=\"edge18\" class=\"edge\"><title>F9&#45;&gt;F9</title>\n",
       "<path fill=\"none\" stroke=\"black\" d=\"M363.575,-45.6203C362.693,-55.9065 365.389,-64.8937 371.662,-64.8937 375.681,-64.8937 378.232,-61.2054 379.314,-55.85\"/>\n",
       "<polygon fill=\"black\" stroke=\"black\" points=\"382.821,-55.7601 379.749,-45.6203 375.827,-55.4625 382.821,-55.7601\"/>\n",
       "<text text-anchor=\"middle\" x=\"371.662\" y=\"-67.6937\" font-family=\"Times,serif\" font-size=\"14.00\">a</text>\n",
       "</g>\n",
       "</g>\n",
       "</svg>\n"
      ],
      "text/plain": [
       "<graphviz.dot.Digraph at 0x103876128>"
      ]
     },
     "execution_count": 62,
     "metadata": {},
     "output_type": "execute_result"
    }
   ],
   "source": [
    "DOblimp"
   ]
  },
  {
   "cell_type": "code",
   "execution_count": 63,
   "metadata": {
    "run_control": {
     "frozen": false,
     "read_only": false
    }
   },
   "outputs": [
    {
     "data": {
      "image/svg+xml": [
       "<?xml version=\"1.0\" encoding=\"UTF-8\" standalone=\"no\"?>\n",
       "<!DOCTYPE svg PUBLIC \"-//W3C//DTD SVG 1.1//EN\"\n",
       " \"http://www.w3.org/Graphics/SVG/1.1/DTD/svg11.dtd\">\n",
       "<!-- Generated by graphviz version 2.38.0 (20140413.2041)\n",
       " -->\n",
       "<!-- Title: %3 Pages: 1 -->\n",
       "<svg width=\"529pt\" height=\"314pt\"\n",
       " viewBox=\"0.00 0.00 529.18 313.89\" xmlns=\"http://www.w3.org/2000/svg\" xmlns:xlink=\"http://www.w3.org/1999/xlink\">\n",
       "<g id=\"graph0\" class=\"graph\" transform=\"scale(1 1) rotate(0) translate(4 309.894)\">\n",
       "<title>%3</title>\n",
       "<polygon fill=\"white\" stroke=\"none\" points=\"-4,4 -4,-309.894 525.183,-309.894 525.183,4 -4,4\"/>\n",
       "<!-- EMPTY -->\n",
       "<g id=\"node1\" class=\"node\"><title>EMPTY</title>\n",
       "</g>\n",
       "<!-- I1 -->\n",
       "<g id=\"node5\" class=\"node\"><title>I1</title>\n",
       "<ellipse fill=\"none\" stroke=\"black\" cx=\"109\" cy=\"-203.447\" rx=\"18\" ry=\"18\"/>\n",
       "<text text-anchor=\"middle\" x=\"109\" y=\"-199.247\" font-family=\"Times,serif\" font-size=\"14.00\">I1</text>\n",
       "</g>\n",
       "<!-- EMPTY&#45;&gt;I1 -->\n",
       "<g id=\"edge1\" class=\"edge\"><title>EMPTY&#45;&gt;I1</title>\n",
       "<path fill=\"none\" stroke=\"black\" d=\"M54.195,-203.447C62.6538,-203.447 72.0513,-203.447 80.5951,-203.447\"/>\n",
       "<polygon fill=\"black\" stroke=\"black\" points=\"80.8257,-206.947 90.8257,-203.447 80.8257,-199.947 80.8257,-206.947\"/>\n",
       "</g>\n",
       "<!-- S5 -->\n",
       "<g id=\"node2\" class=\"node\"><title>S5</title>\n",
       "<ellipse fill=\"none\" stroke=\"black\" cx=\"343.448\" cy=\"-164.447\" rx=\"19.3939\" ry=\"19.3939\"/>\n",
       "<text text-anchor=\"middle\" x=\"343.448\" y=\"-160.247\" font-family=\"Times,serif\" font-size=\"14.00\">S5</text>\n",
       "</g>\n",
       "<!-- F6 -->\n",
       "<g id=\"node8\" class=\"node\"><title>F6</title>\n",
       "<ellipse fill=\"none\" stroke=\"black\" cx=\"497.736\" cy=\"-164.447\" rx=\"19.4029\" ry=\"19.4029\"/>\n",
       "<ellipse fill=\"none\" stroke=\"black\" cx=\"497.736\" cy=\"-164.447\" rx=\"23.3939\" ry=\"23.3939\"/>\n",
       "<text text-anchor=\"middle\" x=\"497.736\" y=\"-160.247\" font-family=\"Times,serif\" font-size=\"14.00\">F6</text>\n",
       "</g>\n",
       "<!-- S5&#45;&gt;F6 -->\n",
       "<g id=\"edge9\" class=\"edge\"><title>S5&#45;&gt;F6</title>\n",
       "<path fill=\"none\" stroke=\"black\" d=\"M363.122,-164.447C388.201,-164.447 433.168,-164.447 463.952,-164.447\"/>\n",
       "<polygon fill=\"black\" stroke=\"black\" points=\"464.193,-167.947 474.193,-164.447 464.193,-160.947 464.193,-167.947\"/>\n",
       "<text text-anchor=\"middle\" x=\"404.342\" y=\"-181.247\" font-family=\"Times,serif\" font-size=\"14.00\">b </text>\n",
       "<text text-anchor=\"middle\" x=\"404.342\" y=\"-167.247\" font-family=\"Times,serif\" font-size=\"14.00\"> a</text>\n",
       "</g>\n",
       "<!-- S7 -->\n",
       "<g id=\"node3\" class=\"node\"><title>S7</title>\n",
       "<ellipse fill=\"none\" stroke=\"black\" cx=\"404.342\" cy=\"-286.447\" rx=\"19.3939\" ry=\"19.3939\"/>\n",
       "<text text-anchor=\"middle\" x=\"404.342\" y=\"-282.247\" font-family=\"Times,serif\" font-size=\"14.00\">S7</text>\n",
       "</g>\n",
       "<!-- S7&#45;&gt;F6 -->\n",
       "<g id=\"edge11\" class=\"edge\"><title>S7&#45;&gt;F6</title>\n",
       "<path fill=\"none\" stroke=\"black\" d=\"M419.148,-273.12C429.898,-262.384 444.862,-246.63 456.289,-231.447 465.208,-219.595 473.876,-205.667 480.885,-193.589\"/>\n",
       "<polygon fill=\"black\" stroke=\"black\" points=\"483.994,-195.201 485.897,-184.778 477.91,-191.739 483.994,-195.201\"/>\n",
       "<text text-anchor=\"middle\" x=\"451.039\" y=\"-261.247\" font-family=\"Times,serif\" font-size=\"14.00\">b </text>\n",
       "<text text-anchor=\"middle\" x=\"451.039\" y=\"-247.247\" font-family=\"Times,serif\" font-size=\"14.00\"> a</text>\n",
       "</g>\n",
       "<!-- S8 -->\n",
       "<g id=\"node4\" class=\"node\"><title>S8</title>\n",
       "<ellipse fill=\"none\" stroke=\"black\" cx=\"282.554\" cy=\"-114.447\" rx=\"19.3939\" ry=\"19.3939\"/>\n",
       "<text text-anchor=\"middle\" x=\"282.554\" y=\"-110.247\" font-family=\"Times,serif\" font-size=\"14.00\">S8</text>\n",
       "</g>\n",
       "<!-- S8&#45;&gt;F6 -->\n",
       "<g id=\"edge12\" class=\"edge\"><title>S8&#45;&gt;F6</title>\n",
       "<path fill=\"none\" stroke=\"black\" d=\"M301.819,-118.272C329.244,-124.067 382.659,-135.554 427.789,-146.447 439.973,-149.388 453.313,-152.821 464.985,-155.895\"/>\n",
       "<polygon fill=\"black\" stroke=\"black\" points=\"464.179,-159.302 474.742,-158.483 465.974,-152.536 464.179,-159.302\"/>\n",
       "<text text-anchor=\"middle\" x=\"404.342\" y=\"-149.247\" font-family=\"Times,serif\" font-size=\"14.00\">a</text>\n",
       "</g>\n",
       "<!-- F9 -->\n",
       "<g id=\"node10\" class=\"node\"><title>F9</title>\n",
       "<ellipse fill=\"none\" stroke=\"black\" cx=\"404.342\" cy=\"-23.4469\" rx=\"19.4029\" ry=\"19.4029\"/>\n",
       "<ellipse fill=\"none\" stroke=\"black\" cx=\"404.342\" cy=\"-23.4469\" rx=\"23.3939\" ry=\"23.3939\"/>\n",
       "<text text-anchor=\"middle\" x=\"404.342\" y=\"-19.2469\" font-family=\"Times,serif\" font-size=\"14.00\">F9</text>\n",
       "</g>\n",
       "<!-- S8&#45;&gt;F9 -->\n",
       "<g id=\"edge13\" class=\"edge\"><title>S8&#45;&gt;F9</title>\n",
       "<path fill=\"none\" stroke=\"black\" d=\"M298.726,-102.922C318.436,-87.9481 353.16,-61.5693 377.165,-43.3328\"/>\n",
       "<polygon fill=\"black\" stroke=\"black\" points=\"379.321,-46.0902 385.167,-37.2539 375.087,-40.5161 379.321,-46.0902\"/>\n",
       "<text text-anchor=\"middle\" x=\"343.448\" y=\"-85.2469\" font-family=\"Times,serif\" font-size=\"14.00\">b</text>\n",
       "</g>\n",
       "<!-- F3 -->\n",
       "<g id=\"node7\" class=\"node\"><title>F3</title>\n",
       "<ellipse fill=\"none\" stroke=\"black\" cx=\"282.554\" cy=\"-229.447\" rx=\"19.4029\" ry=\"19.4029\"/>\n",
       "<ellipse fill=\"none\" stroke=\"black\" cx=\"282.554\" cy=\"-229.447\" rx=\"23.3939\" ry=\"23.3939\"/>\n",
       "<text text-anchor=\"middle\" x=\"282.554\" y=\"-225.247\" font-family=\"Times,serif\" font-size=\"14.00\">F3</text>\n",
       "</g>\n",
       "<!-- I1&#45;&gt;F3 -->\n",
       "<g id=\"edge3\" class=\"edge\"><title>I1&#45;&gt;F3</title>\n",
       "<path fill=\"none\" stroke=\"black\" d=\"M127.076,-206.035C155.463,-210.337 212.818,-219.029 249.093,-224.527\"/>\n",
       "<polygon fill=\"black\" stroke=\"black\" points=\"248.759,-228.016 259.171,-226.054 249.808,-221.095 248.759,-228.016\"/>\n",
       "<text text-anchor=\"middle\" x=\"192.661\" y=\"-223.247\" font-family=\"Times,serif\" font-size=\"14.00\">b</text>\n",
       "</g>\n",
       "<!-- F2 -->\n",
       "<g id=\"node9\" class=\"node\"><title>F2</title>\n",
       "<ellipse fill=\"none\" stroke=\"black\" cx=\"192.661\" cy=\"-164.447\" rx=\"19.4029\" ry=\"19.4029\"/>\n",
       "<ellipse fill=\"none\" stroke=\"black\" cx=\"192.661\" cy=\"-164.447\" rx=\"23.3939\" ry=\"23.3939\"/>\n",
       "<text text-anchor=\"middle\" x=\"192.661\" y=\"-160.247\" font-family=\"Times,serif\" font-size=\"14.00\">F2</text>\n",
       "</g>\n",
       "<!-- I1&#45;&gt;F2 -->\n",
       "<g id=\"edge2\" class=\"edge\"><title>I1&#45;&gt;F2</title>\n",
       "<path fill=\"none\" stroke=\"black\" d=\"M125.745,-195.927C136.086,-190.988 149.932,-184.376 162.265,-178.486\"/>\n",
       "<polygon fill=\"black\" stroke=\"black\" points=\"163.802,-181.63 171.317,-174.163 160.785,-175.314 163.802,-181.63\"/>\n",
       "<text text-anchor=\"middle\" x=\"148.107\" y=\"-189.247\" font-family=\"Times,serif\" font-size=\"14.00\">a</text>\n",
       "</g>\n",
       "<!-- S4 -->\n",
       "<g id=\"node6\" class=\"node\"><title>S4</title>\n",
       "<ellipse fill=\"none\" stroke=\"black\" cx=\"404.342\" cy=\"-229.447\" rx=\"19.3939\" ry=\"19.3939\"/>\n",
       "<text text-anchor=\"middle\" x=\"404.342\" y=\"-225.247\" font-family=\"Times,serif\" font-size=\"14.00\">S4</text>\n",
       "</g>\n",
       "<!-- S4&#45;&gt;F6 -->\n",
       "<g id=\"edge8\" class=\"edge\"><title>S4&#45;&gt;F6</title>\n",
       "<path fill=\"none\" stroke=\"black\" d=\"M420.846,-218.421C434.166,-208.947 453.683,-195.066 469.588,-183.754\"/>\n",
       "<polygon fill=\"black\" stroke=\"black\" points=\"471.87,-186.426 477.991,-177.778 467.813,-180.722 471.87,-186.426\"/>\n",
       "<text text-anchor=\"middle\" x=\"451.039\" y=\"-216.247\" font-family=\"Times,serif\" font-size=\"14.00\">b </text>\n",
       "<text text-anchor=\"middle\" x=\"451.039\" y=\"-202.247\" font-family=\"Times,serif\" font-size=\"14.00\"> a</text>\n",
       "</g>\n",
       "<!-- F3&#45;&gt;S7 -->\n",
       "<g id=\"edge6\" class=\"edge\"><title>F3&#45;&gt;S7</title>\n",
       "<path fill=\"none\" stroke=\"black\" d=\"M304.147,-239.246C324.425,-248.895 355.463,-263.664 377.412,-274.108\"/>\n",
       "<polygon fill=\"black\" stroke=\"black\" points=\"375.961,-277.294 386.495,-278.43 378.969,-270.973 375.961,-277.294\"/>\n",
       "<text text-anchor=\"middle\" x=\"343.448\" y=\"-268.247\" font-family=\"Times,serif\" font-size=\"14.00\">a</text>\n",
       "</g>\n",
       "<!-- F3&#45;&gt;S4 -->\n",
       "<g id=\"edge7\" class=\"edge\"><title>F3&#45;&gt;S4</title>\n",
       "<path fill=\"none\" stroke=\"black\" d=\"M306.086,-229.447C325.477,-229.447 353.568,-229.447 374.58,-229.447\"/>\n",
       "<polygon fill=\"black\" stroke=\"black\" points=\"374.839,-232.947 384.839,-229.447 374.839,-225.947 374.839,-232.947\"/>\n",
       "<text text-anchor=\"middle\" x=\"343.448\" y=\"-232.247\" font-family=\"Times,serif\" font-size=\"14.00\">b</text>\n",
       "</g>\n",
       "<!-- F6&#45;&gt;F6 -->\n",
       "<g id=\"edge10\" class=\"edge\"><title>F6&#45;&gt;F6</title>\n",
       "<path fill=\"none\" stroke=\"black\" d=\"M489.281,-186.62C488.359,-196.906 491.177,-205.894 497.736,-205.894 501.937,-205.894 504.604,-202.205 505.735,-196.85\"/>\n",
       "<polygon fill=\"black\" stroke=\"black\" points=\"509.242,-196.766 506.19,-186.62 502.249,-196.455 509.242,-196.766\"/>\n",
       "<text text-anchor=\"middle\" x=\"497.736\" y=\"-222.694\" font-family=\"Times,serif\" font-size=\"14.00\">b </text>\n",
       "<text text-anchor=\"middle\" x=\"497.736\" y=\"-208.694\" font-family=\"Times,serif\" font-size=\"14.00\"> a</text>\n",
       "</g>\n",
       "<!-- F2&#45;&gt;S5 -->\n",
       "<g id=\"edge5\" class=\"edge\"><title>F2&#45;&gt;S5</title>\n",
       "<path fill=\"none\" stroke=\"black\" d=\"M216.258,-164.447C242.353,-164.447 285.327,-164.447 313.76,-164.447\"/>\n",
       "<polygon fill=\"black\" stroke=\"black\" points=\"313.879,-167.947 323.879,-164.447 313.879,-160.947 313.879,-167.947\"/>\n",
       "<text text-anchor=\"middle\" x=\"237.608\" y=\"-167.247\" font-family=\"Times,serif\" font-size=\"14.00\">b</text>\n",
       "</g>\n",
       "<!-- F2&#45;&gt;S8 -->\n",
       "<g id=\"edge4\" class=\"edge\"><title>F2&#45;&gt;S8</title>\n",
       "<path fill=\"none\" stroke=\"black\" d=\"M209.302,-147.575C216.329,-140.822 225.068,-133.469 234.108,-128.447 240.02,-125.162 246.784,-122.574 253.318,-120.564\"/>\n",
       "<polygon fill=\"black\" stroke=\"black\" points=\"254.507,-123.867 263.238,-117.864 252.67,-117.113 254.507,-123.867\"/>\n",
       "<text text-anchor=\"middle\" x=\"237.608\" y=\"-131.247\" font-family=\"Times,serif\" font-size=\"14.00\">a</text>\n",
       "</g>\n",
       "<!-- F9&#45;&gt;F6 -->\n",
       "<g id=\"edge15\" class=\"edge\"><title>F9&#45;&gt;F6</title>\n",
       "<path fill=\"none\" stroke=\"black\" d=\"M420.604,-40.3784C431.284,-52.6694 445.51,-69.9658 456.289,-86.4469 466.151,-101.527 475.524,-119.298 482.759,-134.065\"/>\n",
       "<polygon fill=\"black\" stroke=\"black\" points=\"479.701,-135.782 487.188,-143.277 486.009,-132.748 479.701,-135.782\"/>\n",
       "<text text-anchor=\"middle\" x=\"451.039\" y=\"-89.2469\" font-family=\"Times,serif\" font-size=\"14.00\">b</text>\n",
       "</g>\n",
       "<!-- F9&#45;&gt;F9 -->\n",
       "<g id=\"edge14\" class=\"edge\"><title>F9&#45;&gt;F9</title>\n",
       "<path fill=\"none\" stroke=\"black\" d=\"M395.887,-45.6203C394.965,-55.9065 397.783,-64.8937 404.342,-64.8937 408.544,-64.8937 411.21,-61.2054 412.341,-55.85\"/>\n",
       "<polygon fill=\"black\" stroke=\"black\" points=\"415.849,-55.766 412.796,-45.6203 408.855,-55.4549 415.849,-55.766\"/>\n",
       "<text text-anchor=\"middle\" x=\"404.342\" y=\"-67.6937\" font-family=\"Times,serif\" font-size=\"14.00\">a</text>\n",
       "</g>\n",
       "</g>\n",
       "</svg>\n"
      ],
      "text/plain": [
       "<graphviz.dot.Digraph at 0x103876240>"
      ]
     },
     "execution_count": 63,
     "metadata": {},
     "output_type": "execute_result"
    }
   ],
   "source": [
    "dotObj_dfa(blimp, FuseEdges=True)"
   ]
  },
  {
   "cell_type": "markdown",
   "metadata": {
    "run_control": {
     "frozen": false,
     "read_only": false
    }
   },
   "source": [
    "# Classical minimization results in the following"
   ]
  },
  {
   "cell_type": "code",
   "execution_count": 64,
   "metadata": {
    "run_control": {
     "frozen": false,
     "read_only": false
    }
   },
   "outputs": [
    {
     "data": {
      "image/svg+xml": [
       "<?xml version=\"1.0\" encoding=\"UTF-8\" standalone=\"no\"?>\n",
       "<!DOCTYPE svg PUBLIC \"-//W3C//DTD SVG 1.1//EN\"\n",
       " \"http://www.w3.org/Graphics/SVG/1.1/DTD/svg11.dtd\">\n",
       "<!-- Generated by graphviz version 2.38.0 (20140413.2041)\n",
       " -->\n",
       "<!-- Title: %3 Pages: 1 -->\n",
       "<svg width=\"397pt\" height=\"119pt\"\n",
       " viewBox=\"0.00 0.00 396.68 118.89\" xmlns=\"http://www.w3.org/2000/svg\" xmlns:xlink=\"http://www.w3.org/1999/xlink\">\n",
       "<g id=\"graph0\" class=\"graph\" transform=\"scale(1 1) rotate(0) translate(4 114.894)\">\n",
       "<title>%3</title>\n",
       "<polygon fill=\"white\" stroke=\"none\" points=\"-4,4 -4,-114.894 392.681,-114.894 392.681,4 -4,4\"/>\n",
       "<!-- EMPTY -->\n",
       "<g id=\"node1\" class=\"node\"><title>EMPTY</title>\n",
       "</g>\n",
       "<!-- I1 -->\n",
       "<g id=\"node3\" class=\"node\"><title>I1</title>\n",
       "<ellipse fill=\"none\" stroke=\"black\" cx=\"109\" cy=\"-23.4469\" rx=\"18\" ry=\"18\"/>\n",
       "<text text-anchor=\"middle\" x=\"109\" y=\"-19.2469\" font-family=\"Times,serif\" font-size=\"14.00\">I1</text>\n",
       "</g>\n",
       "<!-- EMPTY&#45;&gt;I1 -->\n",
       "<g id=\"edge1\" class=\"edge\"><title>EMPTY&#45;&gt;I1</title>\n",
       "<path fill=\"none\" stroke=\"black\" d=\"M54.195,-23.4469C62.6538,-23.4469 72.0513,-23.4469 80.5951,-23.4469\"/>\n",
       "<polygon fill=\"black\" stroke=\"black\" points=\"80.8257,-26.947 90.8257,-23.4469 80.8257,-19.947 80.8257,-26.947\"/>\n",
       "</g>\n",
       "<!-- S5 -->\n",
       "<g id=\"node2\" class=\"node\"><title>S5</title>\n",
       "<ellipse fill=\"none\" stroke=\"black\" cx=\"279.341\" cy=\"-23.4469\" rx=\"19.3939\" ry=\"19.3939\"/>\n",
       "<text text-anchor=\"middle\" x=\"279.341\" y=\"-19.2469\" font-family=\"Times,serif\" font-size=\"14.00\">S5</text>\n",
       "</g>\n",
       "<!-- F6 -->\n",
       "<g id=\"node4\" class=\"node\"><title>F6</title>\n",
       "<ellipse fill=\"none\" stroke=\"black\" cx=\"365.234\" cy=\"-23.4469\" rx=\"19.4029\" ry=\"19.4029\"/>\n",
       "<ellipse fill=\"none\" stroke=\"black\" cx=\"365.234\" cy=\"-23.4469\" rx=\"23.3939\" ry=\"23.3939\"/>\n",
       "<text text-anchor=\"middle\" x=\"365.234\" y=\"-19.2469\" font-family=\"Times,serif\" font-size=\"14.00\">F6</text>\n",
       "</g>\n",
       "<!-- S5&#45;&gt;F6 -->\n",
       "<g id=\"edge6\" class=\"edge\"><title>S5&#45;&gt;F6</title>\n",
       "<path fill=\"none\" stroke=\"black\" d=\"M298.959,-23.4469C308.471,-23.4469 320.328,-23.4469 331.318,-23.4469\"/>\n",
       "<polygon fill=\"black\" stroke=\"black\" points=\"331.483,-26.947 341.483,-23.4469 331.483,-19.947 331.483,-26.947\"/>\n",
       "<text text-anchor=\"middle\" x=\"320.287\" y=\"-26.2469\" font-family=\"Times,serif\" font-size=\"14.00\">a</text>\n",
       "</g>\n",
       "<!-- S5&#45;&gt;F6 -->\n",
       "<g id=\"edge7\" class=\"edge\"><title>S5&#45;&gt;F6</title>\n",
       "<path fill=\"none\" stroke=\"black\" d=\"M296.43,-13.5192C302.568,-10.2735 309.778,-7.08348 316.787,-5.44687 323.093,-3.97461 329.689,-4.83152 335.889,-6.80151\"/>\n",
       "<polygon fill=\"black\" stroke=\"black\" points=\"334.628,-10.067 345.207,-10.6386 337.293,-3.5944 334.628,-10.067\"/>\n",
       "<text text-anchor=\"middle\" x=\"320.287\" y=\"-8.24687\" font-family=\"Times,serif\" font-size=\"14.00\">b</text>\n",
       "</g>\n",
       "<!-- F2 -->\n",
       "<g id=\"node5\" class=\"node\"><title>F2</title>\n",
       "<ellipse fill=\"none\" stroke=\"black\" cx=\"193.447\" cy=\"-23.4469\" rx=\"19.4029\" ry=\"19.4029\"/>\n",
       "<ellipse fill=\"none\" stroke=\"black\" cx=\"193.447\" cy=\"-23.4469\" rx=\"23.3939\" ry=\"23.3939\"/>\n",
       "<text text-anchor=\"middle\" x=\"193.447\" y=\"-19.2469\" font-family=\"Times,serif\" font-size=\"14.00\">F2</text>\n",
       "</g>\n",
       "<!-- I1&#45;&gt;F2 -->\n",
       "<g id=\"edge2\" class=\"edge\"><title>I1&#45;&gt;F2</title>\n",
       "<path fill=\"none\" stroke=\"black\" d=\"M127.083,-23.4469C136.448,-23.4469 148.379,-23.4469 159.478,-23.4469\"/>\n",
       "<polygon fill=\"black\" stroke=\"black\" points=\"159.753,-26.947 169.753,-23.4469 159.753,-19.947 159.753,-26.947\"/>\n",
       "<text text-anchor=\"middle\" x=\"148.5\" y=\"-26.2469\" font-family=\"Times,serif\" font-size=\"14.00\">a</text>\n",
       "</g>\n",
       "<!-- I1&#45;&gt;F2 -->\n",
       "<g id=\"edge3\" class=\"edge\"><title>I1&#45;&gt;F2</title>\n",
       "<path fill=\"none\" stroke=\"black\" d=\"M124.717,-13.9046C130.75,-10.5299 137.96,-7.15095 145,-5.44687 151.294,-3.92333 157.885,-4.75841 164.083,-6.72333\"/>\n",
       "<polygon fill=\"black\" stroke=\"black\" points=\"162.823,-9.98936 173.402,-10.5645 165.49,-3.5176 162.823,-9.98936\"/>\n",
       "<text text-anchor=\"middle\" x=\"148.5\" y=\"-8.24687\" font-family=\"Times,serif\" font-size=\"14.00\">b</text>\n",
       "</g>\n",
       "<!-- F6&#45;&gt;F6 -->\n",
       "<g id=\"edge8\" class=\"edge\"><title>F6&#45;&gt;F6</title>\n",
       "<path fill=\"none\" stroke=\"black\" d=\"M361.146,-46.8814C360.864,-56.63 362.227,-64.8937 365.234,-64.8937 367.067,-64.8937 368.289,-61.8251 368.901,-57.2218\"/>\n",
       "<polygon fill=\"black\" stroke=\"black\" points=\"372.412,-57.016 369.323,-46.8814 365.418,-56.7301 372.412,-57.016\"/>\n",
       "<text text-anchor=\"middle\" x=\"365.234\" y=\"-67.6937\" font-family=\"Times,serif\" font-size=\"14.00\">a</text>\n",
       "</g>\n",
       "<!-- F6&#45;&gt;F6 -->\n",
       "<g id=\"edge9\" class=\"edge\"><title>F6&#45;&gt;F6</title>\n",
       "<path fill=\"none\" stroke=\"black\" d=\"M358.144,-46.0152C355.309,-64.1618 357.672,-82.8937 365.234,-82.8937 371.379,-82.8937 374.091,-70.5277 373.371,-56.1571\"/>\n",
       "<polygon fill=\"black\" stroke=\"black\" points=\"376.833,-55.6029 372.324,-46.0152 369.87,-56.3217 376.833,-55.6029\"/>\n",
       "<text text-anchor=\"middle\" x=\"365.234\" y=\"-85.6937\" font-family=\"Times,serif\" font-size=\"14.00\">b</text>\n",
       "</g>\n",
       "<!-- F2&#45;&gt;S5 -->\n",
       "<g id=\"edge4\" class=\"edge\"><title>F2&#45;&gt;S5</title>\n",
       "<path fill=\"none\" stroke=\"black\" d=\"M216.929,-23.4469C226.976,-23.4469 238.937,-23.4469 249.622,-23.4469\"/>\n",
       "<polygon fill=\"black\" stroke=\"black\" points=\"249.764,-26.947 259.764,-23.4469 249.764,-19.947 249.764,-26.947\"/>\n",
       "<text text-anchor=\"middle\" x=\"238.394\" y=\"-26.2469\" font-family=\"Times,serif\" font-size=\"14.00\">a</text>\n",
       "</g>\n",
       "<!-- F2&#45;&gt;S5 -->\n",
       "<g id=\"edge5\" class=\"edge\"><title>F2&#45;&gt;S5</title>\n",
       "<path fill=\"none\" stroke=\"black\" d=\"M213.474,-10.6386C222.002,-6.3683 232.285,-3.20342 241.894,-5.44687 245.618,-6.31632 249.398,-7.62417 253.044,-9.14587\"/>\n",
       "<polygon fill=\"black\" stroke=\"black\" points=\"251.717,-12.39 262.251,-13.5192 254.72,-6.06705 251.717,-12.39\"/>\n",
       "<text text-anchor=\"middle\" x=\"238.394\" y=\"-8.24687\" font-family=\"Times,serif\" font-size=\"14.00\">b</text>\n",
       "</g>\n",
       "</g>\n",
       "</svg>\n"
      ],
      "text/plain": [
       "<graphviz.dot.Digraph at 0x103876470>"
      ]
     },
     "execution_count": 64,
     "metadata": {},
     "output_type": "execute_result"
    }
   ],
   "source": [
    "classic_min = min_dfa(blimp)\n",
    "dotObj_dfa(classic_min)"
   ]
  },
  {
   "cell_type": "markdown",
   "metadata": {
    "run_control": {
     "frozen": false,
     "read_only": false
    }
   },
   "source": [
    "# Now let's study Brzozowski minimization; its code is a one-liner!"
   ]
  },
  {
   "cell_type": "code",
   "execution_count": 65,
   "metadata": {
    "run_control": {
     "frozen": false,
     "read_only": false
    }
   },
   "outputs": [],
   "source": [
    "# Brzozowski Minimizer code\n",
    "def min_dfa_brz(D):\n",
    "    \"\"\"Minimize a DFA as per Brzozowski's algorithm.\n",
    "    \"\"\"\n",
    "    return nfa2dfa(rev_dfa(nfa2dfa(rev_dfa(D))))"
   ]
  },
  {
   "cell_type": "markdown",
   "metadata": {
    "run_control": {
     "frozen": false,
     "read_only": false
    }
   },
   "source": [
    "## Step 1: Reverse the given DFA"
   ]
  },
  {
   "cell_type": "code",
   "execution_count": 66,
   "metadata": {
    "run_control": {
     "frozen": false,
     "read_only": false
    },
    "scrolled": true
   },
   "outputs": [
    {
     "data": {
      "image/svg+xml": [
       "<?xml version=\"1.0\" encoding=\"UTF-8\" standalone=\"no\"?>\n",
       "<!DOCTYPE svg PUBLIC \"-//W3C//DTD SVG 1.1//EN\"\n",
       " \"http://www.w3.org/Graphics/SVG/1.1/DTD/svg11.dtd\">\n",
       "<!-- Generated by graphviz version 2.38.0 (20140413.2041)\n",
       " -->\n",
       "<!-- Title: %3 Pages: 1 -->\n",
       "<svg width=\"469pt\" height=\"353pt\"\n",
       " viewBox=\"0.00 0.00 469.00 352.54\" xmlns=\"http://www.w3.org/2000/svg\" xmlns:xlink=\"http://www.w3.org/1999/xlink\">\n",
       "<g id=\"graph0\" class=\"graph\" transform=\"scale(1 1) rotate(0) translate(4 348.538)\">\n",
       "<title>%3</title>\n",
       "<polygon fill=\"white\" stroke=\"none\" points=\"-4,4 -4,-348.538 465.003,-348.538 465.003,4 -4,4\"/>\n",
       "<!-- EMPTY -->\n",
       "<g id=\"node1\" class=\"node\"><title>EMPTY</title>\n",
       "</g>\n",
       "<!-- F9 -->\n",
       "<g id=\"node5\" class=\"node\"><title>F9</title>\n",
       "<ellipse fill=\"none\" stroke=\"black\" cx=\"192.341\" cy=\"-47\" rx=\"19.3939\" ry=\"19.3939\"/>\n",
       "<text text-anchor=\"middle\" x=\"192.341\" y=\"-42.8\" font-family=\"Times,serif\" font-size=\"14.00\">F9</text>\n",
       "</g>\n",
       "<!-- EMPTY&#45;&gt;F9 -->\n",
       "<g id=\"edge4\" class=\"edge\"><title>EMPTY&#45;&gt;F9</title>\n",
       "<path fill=\"none\" stroke=\"black\" d=\"M54.2435,-81.4126C84.0912,-73.9206 132.64,-61.7344 163.239,-54.0538\"/>\n",
       "<polygon fill=\"black\" stroke=\"black\" points=\"164.406,-57.3694 173.253,-51.5401 162.702,-50.58 164.406,-57.3694\"/>\n",
       "</g>\n",
       "<!-- F3 -->\n",
       "<g id=\"node6\" class=\"node\"><title>F3</title>\n",
       "<ellipse fill=\"none\" stroke=\"black\" cx=\"274.234\" cy=\"-278\" rx=\"19.3939\" ry=\"19.3939\"/>\n",
       "<text text-anchor=\"middle\" x=\"274.234\" y=\"-273.8\" font-family=\"Times,serif\" font-size=\"14.00\">F3</text>\n",
       "</g>\n",
       "<!-- EMPTY&#45;&gt;F3 -->\n",
       "<g id=\"edge1\" class=\"edge\"><title>EMPTY&#45;&gt;F3</title>\n",
       "<path fill=\"none\" stroke=\"black\" d=\"M29.9033,-106.126C34.542,-142.745 49.2852,-226.748 91,-282 126.542,-329.076 157.063,-359.016 211.787,-337 229.626,-329.823 245.195,-314.718 256.198,-301.589\"/>\n",
       "<polygon fill=\"black\" stroke=\"black\" points=\"258.943,-303.76 262.438,-293.758 253.469,-299.397 258.943,-303.76\"/>\n",
       "</g>\n",
       "<!-- F6 -->\n",
       "<g id=\"node7\" class=\"node\"><title>F6</title>\n",
       "<ellipse fill=\"none\" stroke=\"black\" cx=\"110.447\" cy=\"-190\" rx=\"19.3939\" ry=\"19.3939\"/>\n",
       "<text text-anchor=\"middle\" x=\"110.447\" y=\"-185.8\" font-family=\"Times,serif\" font-size=\"14.00\">F6</text>\n",
       "</g>\n",
       "<!-- EMPTY&#45;&gt;F6 -->\n",
       "<g id=\"edge2\" class=\"edge\"><title>EMPTY&#45;&gt;F6</title>\n",
       "<path fill=\"none\" stroke=\"black\" d=\"M42.5611,-106.236C56.2106,-123.33 76.6604,-148.94 91.3526,-167.34\"/>\n",
       "<polygon fill=\"black\" stroke=\"black\" points=\"88.6779,-169.599 97.6528,-175.23 94.148,-165.231 88.6779,-169.599\"/>\n",
       "</g>\n",
       "<!-- F2 -->\n",
       "<g id=\"node8\" class=\"node\"><title>F2</title>\n",
       "<ellipse fill=\"none\" stroke=\"black\" cx=\"355.342\" cy=\"-155\" rx=\"19.3939\" ry=\"19.3939\"/>\n",
       "<text text-anchor=\"middle\" x=\"355.342\" y=\"-150.8\" font-family=\"Times,serif\" font-size=\"14.00\">F2</text>\n",
       "</g>\n",
       "<!-- EMPTY&#45;&gt;F2 -->\n",
       "<g id=\"edge3\" class=\"edge\"><title>EMPTY&#45;&gt;F2</title>\n",
       "<path fill=\"none\" stroke=\"black\" d=\"M35.1738,-69.7663C46.6546,-43.9906 71.7679,-0 109.447,-0 109.447,-0 109.447,-0 275.234,-0 330.894,-0 347.412,-80.274 352.299,-125.284\"/>\n",
       "<polygon fill=\"black\" stroke=\"black\" points=\"348.828,-125.748 353.265,-135.369 355.796,-125.081 348.828,-125.748\"/>\n",
       "</g>\n",
       "<!-- S5 -->\n",
       "<g id=\"node2\" class=\"node\"><title>S5</title>\n",
       "<ellipse fill=\"none\" stroke=\"black\" cx=\"192.341\" cy=\"-136\" rx=\"19.3939\" ry=\"19.3939\"/>\n",
       "<text text-anchor=\"middle\" x=\"192.341\" y=\"-131.8\" font-family=\"Times,serif\" font-size=\"14.00\">S5</text>\n",
       "</g>\n",
       "<!-- S5&#45;&gt;F2 -->\n",
       "<g id=\"edge5\" class=\"edge\"><title>S5&#45;&gt;F2</title>\n",
       "<path fill=\"none\" stroke=\"black\" d=\"M211.878,-137.25C232.049,-138.707 265.226,-141.383 293.681,-145 304.29,-146.348 315.887,-148.173 326.073,-149.895\"/>\n",
       "<polygon fill=\"black\" stroke=\"black\" points=\"325.627,-153.369 336.077,-151.627 326.821,-146.472 325.627,-153.369\"/>\n",
       "<text text-anchor=\"middle\" x=\"274.234\" y=\"-147.8\" font-family=\"Times,serif\" font-size=\"14.00\">b</text>\n",
       "</g>\n",
       "<!-- S7 -->\n",
       "<g id=\"node3\" class=\"node\"><title>S7</title>\n",
       "<ellipse fill=\"none\" stroke=\"black\" cx=\"192.341\" cy=\"-252\" rx=\"19.3939\" ry=\"19.3939\"/>\n",
       "<text text-anchor=\"middle\" x=\"192.341\" y=\"-247.8\" font-family=\"Times,serif\" font-size=\"14.00\">S7</text>\n",
       "</g>\n",
       "<!-- S7&#45;&gt;F3 -->\n",
       "<g id=\"edge6\" class=\"edge\"><title>S7&#45;&gt;F3</title>\n",
       "<path fill=\"none\" stroke=\"black\" d=\"M211.686,-256.032C219.496,-257.905 228.661,-260.314 236.787,-263 239.971,-264.052 243.271,-265.251 246.526,-266.502\"/>\n",
       "<polygon fill=\"black\" stroke=\"black\" points=\"245.414,-269.827 255.997,-270.316 248.029,-263.334 245.414,-269.827\"/>\n",
       "<text text-anchor=\"middle\" x=\"233.287\" y=\"-265.8\" font-family=\"Times,serif\" font-size=\"14.00\">a</text>\n",
       "</g>\n",
       "<!-- S4 -->\n",
       "<g id=\"node4\" class=\"node\"><title>S4</title>\n",
       "<ellipse fill=\"none\" stroke=\"black\" cx=\"192.341\" cy=\"-309\" rx=\"19.3939\" ry=\"19.3939\"/>\n",
       "<text text-anchor=\"middle\" x=\"192.341\" y=\"-304.8\" font-family=\"Times,serif\" font-size=\"14.00\">S4</text>\n",
       "</g>\n",
       "<!-- S4&#45;&gt;F3 -->\n",
       "<g id=\"edge7\" class=\"edge\"><title>S4&#45;&gt;F3</title>\n",
       "<path fill=\"none\" stroke=\"black\" d=\"M210.676,-302.273C221.146,-298.211 234.705,-292.95 246.522,-288.365\"/>\n",
       "<polygon fill=\"black\" stroke=\"black\" points=\"247.876,-291.594 255.932,-284.713 245.344,-285.068 247.876,-291.594\"/>\n",
       "<text text-anchor=\"middle\" x=\"233.287\" y=\"-297.8\" font-family=\"Times,serif\" font-size=\"14.00\">b</text>\n",
       "</g>\n",
       "<!-- F9&#45;&gt;F9 -->\n",
       "<g id=\"edge9\" class=\"edge\"><title>F9&#45;&gt;F9</title>\n",
       "<path fill=\"none\" stroke=\"black\" d=\"M185.199,-65.1096C183.866,-75.1766 186.247,-84.4469 192.341,-84.4469 196.244,-84.4469 198.624,-80.6423 199.48,-75.2611\"/>\n",
       "<polygon fill=\"black\" stroke=\"black\" points=\"202.98,-75.1102 199.482,-65.1096 195.98,-75.109 202.98,-75.1102\"/>\n",
       "<text text-anchor=\"middle\" x=\"192.341\" y=\"-87.2469\" font-family=\"Times,serif\" font-size=\"14.00\">a</text>\n",
       "</g>\n",
       "<!-- S8 -->\n",
       "<g id=\"node9\" class=\"node\"><title>S8</title>\n",
       "<ellipse fill=\"none\" stroke=\"black\" cx=\"274.234\" cy=\"-187\" rx=\"19.3939\" ry=\"19.3939\"/>\n",
       "<text text-anchor=\"middle\" x=\"274.234\" y=\"-182.8\" font-family=\"Times,serif\" font-size=\"14.00\">S8</text>\n",
       "</g>\n",
       "<!-- F9&#45;&gt;S8 -->\n",
       "<g id=\"edge8\" class=\"edge\"><title>F9&#45;&gt;S8</title>\n",
       "<path fill=\"none\" stroke=\"black\" d=\"M202.819,-63.6096C216.634,-87.8173 242.417,-132.999 258.658,-161.457\"/>\n",
       "<polygon fill=\"black\" stroke=\"black\" points=\"255.772,-163.461 263.768,-170.412 261.851,-159.992 255.772,-163.461\"/>\n",
       "<text text-anchor=\"middle\" x=\"233.287\" y=\"-124.8\" font-family=\"Times,serif\" font-size=\"14.00\">b</text>\n",
       "</g>\n",
       "<!-- I1 -->\n",
       "<g id=\"node10\" class=\"node\"><title>I1</title>\n",
       "<ellipse fill=\"none\" stroke=\"black\" cx=\"439.003\" cy=\"-208\" rx=\"18\" ry=\"18\"/>\n",
       "<ellipse fill=\"none\" stroke=\"black\" cx=\"439.003\" cy=\"-208\" rx=\"22\" ry=\"22\"/>\n",
       "<text text-anchor=\"middle\" x=\"439.003\" y=\"-203.8\" font-family=\"Times,serif\" font-size=\"14.00\">I1</text>\n",
       "</g>\n",
       "<!-- F3&#45;&gt;I1 -->\n",
       "<g id=\"edge10\" class=\"edge\"><title>F3&#45;&gt;I1</title>\n",
       "<path fill=\"none\" stroke=\"black\" d=\"M292.346,-270.641C320.13,-258.692 375.352,-234.943 409.248,-220.366\"/>\n",
       "<polygon fill=\"black\" stroke=\"black\" points=\"410.811,-223.504 418.615,-216.338 408.046,-217.073 410.811,-223.504\"/>\n",
       "<text text-anchor=\"middle\" x=\"355.342\" y=\"-254.8\" font-family=\"Times,serif\" font-size=\"14.00\">b</text>\n",
       "</g>\n",
       "<!-- F6&#45;&gt;S5 -->\n",
       "<g id=\"edge11\" class=\"edge\"><title>F6&#45;&gt;S5</title>\n",
       "<path fill=\"none\" stroke=\"black\" d=\"M116.304,-171.149C121.385,-155.714 131.037,-134.874 147.894,-125 153.227,-121.876 159.434,-121.75 165.459,-123.062\"/>\n",
       "<polygon fill=\"black\" stroke=\"black\" points=\"164.645,-126.481 175.239,-126.353 166.878,-119.847 164.645,-126.481\"/>\n",
       "<text text-anchor=\"middle\" x=\"151.394\" y=\"-127.8\" font-family=\"Times,serif\" font-size=\"14.00\">b</text>\n",
       "</g>\n",
       "<!-- F6&#45;&gt;S5 -->\n",
       "<g id=\"edge16\" class=\"edge\"><title>F6&#45;&gt;S5</title>\n",
       "<path fill=\"none\" stroke=\"black\" d=\"M126.055,-178.159C132.604,-173.013 140.504,-167.025 147.894,-162 153.618,-158.108 159.932,-154.149 165.931,-150.535\"/>\n",
       "<polygon fill=\"black\" stroke=\"black\" points=\"168.139,-153.295 174.969,-145.195 164.579,-147.268 168.139,-153.295\"/>\n",
       "<text text-anchor=\"middle\" x=\"151.394\" y=\"-164.8\" font-family=\"Times,serif\" font-size=\"14.00\">a</text>\n",
       "</g>\n",
       "<!-- F6&#45;&gt;S7 -->\n",
       "<g id=\"edge12\" class=\"edge\"><title>F6&#45;&gt;S7</title>\n",
       "<path fill=\"none\" stroke=\"black\" d=\"M126.474,-201.662C138.303,-210.841 154.985,-223.787 168.47,-234.252\"/>\n",
       "<polygon fill=\"black\" stroke=\"black\" points=\"166.335,-237.025 176.381,-240.391 170.626,-231.495 166.335,-237.025\"/>\n",
       "<text text-anchor=\"middle\" x=\"151.394\" y=\"-225.8\" font-family=\"Times,serif\" font-size=\"14.00\">b</text>\n",
       "</g>\n",
       "<!-- F6&#45;&gt;S7 -->\n",
       "<g id=\"edge17\" class=\"edge\"><title>F6&#45;&gt;S7</title>\n",
       "<path fill=\"none\" stroke=\"black\" d=\"M120.596,-206.79C127.005,-217.121 136.454,-229.893 147.894,-238 152.385,-241.183 157.639,-243.67 162.909,-245.603\"/>\n",
       "<polygon fill=\"black\" stroke=\"black\" points=\"162.283,-249.073 172.871,-248.678 164.348,-242.384 162.283,-249.073\"/>\n",
       "<text text-anchor=\"middle\" x=\"151.394\" y=\"-244.8\" font-family=\"Times,serif\" font-size=\"14.00\">a</text>\n",
       "</g>\n",
       "<!-- F6&#45;&gt;S4 -->\n",
       "<g id=\"edge14\" class=\"edge\"><title>F6&#45;&gt;S4</title>\n",
       "<path fill=\"none\" stroke=\"black\" d=\"M119.16,-207.65C125.873,-222.228 136.321,-243.182 147.894,-260 154.634,-269.795 163.118,-279.764 170.796,-288.131\"/>\n",
       "<polygon fill=\"black\" stroke=\"black\" points=\"168.425,-290.719 177.827,-295.604 173.523,-285.922 168.425,-290.719\"/>\n",
       "<text text-anchor=\"middle\" x=\"151.394\" y=\"-271.8\" font-family=\"Times,serif\" font-size=\"14.00\">b</text>\n",
       "</g>\n",
       "<!-- F6&#45;&gt;S4 -->\n",
       "<g id=\"edge20\" class=\"edge\"><title>F6&#45;&gt;S4</title>\n",
       "<path fill=\"none\" stroke=\"black\" d=\"M114.403,-209.291C118.555,-230.578 127.962,-264.762 147.894,-287 152.338,-291.958 158.159,-295.948 164.089,-299.095\"/>\n",
       "<polygon fill=\"black\" stroke=\"black\" points=\"162.771,-302.342 173.317,-303.367 165.712,-295.99 162.771,-302.342\"/>\n",
       "<text text-anchor=\"middle\" x=\"151.394\" y=\"-296.8\" font-family=\"Times,serif\" font-size=\"14.00\">a</text>\n",
       "</g>\n",
       "<!-- F6&#45;&gt;F9 -->\n",
       "<g id=\"edge15\" class=\"edge\"><title>F6&#45;&gt;F9</title>\n",
       "<path fill=\"none\" stroke=\"black\" d=\"M117.801,-171.825C124.292,-154.195 135.201,-126.965 147.894,-105 155.046,-92.6226 164.409,-79.8065 172.61,-69.3795\"/>\n",
       "<polygon fill=\"black\" stroke=\"black\" points=\"175.339,-71.5711 178.874,-61.5835 169.882,-67.1866 175.339,-71.5711\"/>\n",
       "<text text-anchor=\"middle\" x=\"151.394\" y=\"-107.8\" font-family=\"Times,serif\" font-size=\"14.00\">b</text>\n",
       "</g>\n",
       "<!-- F6&#45;&gt;F6 -->\n",
       "<g id=\"edge13\" class=\"edge\"><title>F6&#45;&gt;F6</title>\n",
       "<path fill=\"none\" stroke=\"black\" d=\"M107.172,-209.267C106.718,-218.876 107.81,-227.447 110.447,-227.447 112.054,-227.447 113.087,-224.264 113.546,-219.603\"/>\n",
       "<polygon fill=\"black\" stroke=\"black\" points=\"117.051,-219.325 113.722,-209.267 110.052,-219.206 117.051,-219.325\"/>\n",
       "<text text-anchor=\"middle\" x=\"110.447\" y=\"-230.247\" font-family=\"Times,serif\" font-size=\"14.00\">b</text>\n",
       "</g>\n",
       "<!-- F6&#45;&gt;F6 -->\n",
       "<g id=\"edge18\" class=\"edge\"><title>F6&#45;&gt;F6</title>\n",
       "<path fill=\"none\" stroke=\"black\" d=\"M104.989,-208.747C102.159,-226.351 103.978,-245.447 110.447,-245.447 115.652,-245.447 117.847,-233.082 117.031,-219.079\"/>\n",
       "<polygon fill=\"black\" stroke=\"black\" points=\"120.468,-218.309 115.905,-208.747 113.509,-219.067 120.468,-218.309\"/>\n",
       "<text text-anchor=\"middle\" x=\"110.447\" y=\"-248.247\" font-family=\"Times,serif\" font-size=\"14.00\">a</text>\n",
       "</g>\n",
       "<!-- F6&#45;&gt;S8 -->\n",
       "<g id=\"edge19\" class=\"edge\"><title>F6&#45;&gt;S8</title>\n",
       "<path fill=\"none\" stroke=\"black\" d=\"M130.006,-189.656C157.97,-189.137 211.151,-188.151 244.253,-187.537\"/>\n",
       "<polygon fill=\"black\" stroke=\"black\" points=\"244.71,-191.03 254.643,-187.345 244.58,-184.031 244.71,-191.03\"/>\n",
       "<text text-anchor=\"middle\" x=\"192.341\" y=\"-191.8\" font-family=\"Times,serif\" font-size=\"14.00\">a</text>\n",
       "</g>\n",
       "<!-- F2&#45;&gt;I1 -->\n",
       "<g id=\"edge21\" class=\"edge\"><title>F2&#45;&gt;I1</title>\n",
       "<path fill=\"none\" stroke=\"black\" d=\"M372.087,-165.219C383.233,-172.453 398.452,-182.331 411.458,-190.772\"/>\n",
       "<polygon fill=\"black\" stroke=\"black\" points=\"409.738,-193.828 420.031,-196.336 413.549,-187.956 409.738,-193.828\"/>\n",
       "<text text-anchor=\"middle\" x=\"395.896\" y=\"-184.8\" font-family=\"Times,serif\" font-size=\"14.00\">a</text>\n",
       "</g>\n",
       "<!-- S8&#45;&gt;F2 -->\n",
       "<g id=\"edge22\" class=\"edge\"><title>S8&#45;&gt;F2</title>\n",
       "<path fill=\"none\" stroke=\"black\" d=\"M292.4,-180.056C302.695,-175.892 316.008,-170.507 327.652,-165.797\"/>\n",
       "<polygon fill=\"black\" stroke=\"black\" points=\"328.979,-169.035 336.937,-162.04 326.354,-162.546 328.979,-169.035\"/>\n",
       "<text text-anchor=\"middle\" x=\"314.788\" y=\"-174.8\" font-family=\"Times,serif\" font-size=\"14.00\">a</text>\n",
       "</g>\n",
       "</g>\n",
       "</svg>\n"
      ],
      "text/plain": [
       "<graphviz.dot.Digraph at 0x103841eb8>"
      ]
     },
     "execution_count": 66,
     "metadata": {},
     "output_type": "execute_result"
    }
   ],
   "source": [
    "rblimp = rev_dfa(blimp)\n",
    "DOrblimp = dotObj_nfa(rblimp)\n",
    "DOrblimp"
   ]
  },
  {
   "cell_type": "code",
   "execution_count": 67,
   "metadata": {
    "run_control": {
     "frozen": false,
     "read_only": false
    }
   },
   "outputs": [
    {
     "data": {
      "image/svg+xml": [
       "<?xml version=\"1.0\" encoding=\"UTF-8\" standalone=\"no\"?>\n",
       "<!DOCTYPE svg PUBLIC \"-//W3C//DTD SVG 1.1//EN\"\n",
       " \"http://www.w3.org/Graphics/SVG/1.1/DTD/svg11.dtd\">\n",
       "<!-- Generated by graphviz version 2.38.0 (20140413.2041)\n",
       " -->\n",
       "<!-- Title: %3 Pages: 1 -->\n",
       "<svg width=\"504pt\" height=\"323pt\"\n",
       " viewBox=\"0.00 0.00 504.40 322.63\" xmlns=\"http://www.w3.org/2000/svg\" xmlns:xlink=\"http://www.w3.org/1999/xlink\">\n",
       "<g id=\"graph0\" class=\"graph\" transform=\"scale(1 1) rotate(0) translate(4 318.633)\">\n",
       "<title>%3</title>\n",
       "<polygon fill=\"white\" stroke=\"none\" points=\"-4,4 -4,-318.633 500.396,-318.633 500.396,4 -4,4\"/>\n",
       "<!-- EMPTY -->\n",
       "<g id=\"node1\" class=\"node\"><title>EMPTY</title>\n",
       "</g>\n",
       "<!-- F9 -->\n",
       "<g id=\"node5\" class=\"node\"><title>F9</title>\n",
       "<ellipse fill=\"none\" stroke=\"black\" cx=\"195.841\" cy=\"-197.633\" rx=\"19.3939\" ry=\"19.3939\"/>\n",
       "<text text-anchor=\"middle\" x=\"195.841\" y=\"-193.433\" font-family=\"Times,serif\" font-size=\"14.00\">F9</text>\n",
       "</g>\n",
       "<!-- EMPTY&#45;&gt;F9 -->\n",
       "<g id=\"edge4\" class=\"edge\"><title>EMPTY&#45;&gt;F9</title>\n",
       "<path fill=\"none\" stroke=\"black\" d=\"M54.2237,-262.955C82.0585,-272.113 126.363,-281.396 158.394,-262.633 171.958,-254.688 180.857,-239.642 186.463,-226.025\"/>\n",
       "<polygon fill=\"black\" stroke=\"black\" points=\"189.806,-227.078 189.983,-216.485 183.238,-224.655 189.806,-227.078\"/>\n",
       "</g>\n",
       "<!-- F3 -->\n",
       "<g id=\"node6\" class=\"node\"><title>F3</title>\n",
       "<ellipse fill=\"none\" stroke=\"black\" cx=\"309.628\" cy=\"-62.6335\" rx=\"19.3939\" ry=\"19.3939\"/>\n",
       "<text text-anchor=\"middle\" x=\"309.628\" y=\"-58.4335\" font-family=\"Times,serif\" font-size=\"14.00\">F3</text>\n",
       "</g>\n",
       "<!-- EMPTY&#45;&gt;F3 -->\n",
       "<g id=\"edge1\" class=\"edge\"><title>EMPTY&#45;&gt;F3</title>\n",
       "<path fill=\"none\" stroke=\"black\" d=\"M32.242,-234.434C44.587,-186.242 85.5311,-55.6604 176.394,-6.63346 214.372,13.8586 261.447,-18.9625 287.954,-42.3701\"/>\n",
       "<polygon fill=\"black\" stroke=\"black\" points=\"285.747,-45.0945 295.487,-49.2628 290.472,-39.9301 285.747,-45.0945\"/>\n",
       "</g>\n",
       "<!-- F6 -->\n",
       "<g id=\"node7\" class=\"node\"><title>F6</title>\n",
       "<ellipse fill=\"none\" stroke=\"black\" cx=\"110.447\" cy=\"-164.633\" rx=\"19.3939\" ry=\"19.3939\"/>\n",
       "<text text-anchor=\"middle\" x=\"110.447\" y=\"-160.433\" font-family=\"Times,serif\" font-size=\"14.00\">F6</text>\n",
       "</g>\n",
       "<!-- EMPTY&#45;&gt;F6 -->\n",
       "<g id=\"edge2\" class=\"edge\"><title>EMPTY&#45;&gt;F6</title>\n",
       "<path fill=\"none\" stroke=\"black\" d=\"M44.8758,-234.4C57.8494,-220.382 75.8088,-200.978 89.4944,-186.191\"/>\n",
       "<polygon fill=\"black\" stroke=\"black\" points=\"92.3751,-188.232 96.5989,-178.515 87.2377,-183.477 92.3751,-188.232\"/>\n",
       "</g>\n",
       "<!-- F2 -->\n",
       "<g id=\"node8\" class=\"node\"><title>F2</title>\n",
       "<ellipse fill=\"none\" stroke=\"black\" cx=\"390.736\" cy=\"-243.633\" rx=\"19.3939\" ry=\"19.3939\"/>\n",
       "<text text-anchor=\"middle\" x=\"390.736\" y=\"-239.433\" font-family=\"Times,serif\" font-size=\"14.00\">F2</text>\n",
       "</g>\n",
       "<!-- EMPTY&#45;&gt;F2 -->\n",
       "<g id=\"edge3\" class=\"edge\"><title>EMPTY&#45;&gt;F2</title>\n",
       "<path fill=\"none\" stroke=\"black\" d=\"M40.7043,-270.9C55.0736,-289.189 80.3027,-314.633 109.447,-314.633 109.447,-314.633 109.447,-314.633 310.628,-314.633 338.76,-314.633 361.439,-289.458 375.184,-269.089\"/>\n",
       "<polygon fill=\"black\" stroke=\"black\" points=\"378.261,-270.773 380.688,-260.459 372.359,-267.009 378.261,-270.773\"/>\n",
       "</g>\n",
       "<!-- S5 -->\n",
       "<g id=\"node2\" class=\"node\"><title>S5</title>\n",
       "<ellipse fill=\"none\" stroke=\"black\" cx=\"252.734\" cy=\"-274.633\" rx=\"19.3939\" ry=\"19.3939\"/>\n",
       "<text text-anchor=\"middle\" x=\"252.734\" y=\"-270.433\" font-family=\"Times,serif\" font-size=\"14.00\">S5</text>\n",
       "</g>\n",
       "<!-- S5&#45;&gt;F2 -->\n",
       "<g id=\"edge5\" class=\"edge\"><title>S5&#45;&gt;F2</title>\n",
       "<path fill=\"none\" stroke=\"black\" d=\"M271.794,-270.517C294.758,-265.283 334.656,-256.188 361.618,-250.043\"/>\n",
       "<polygon fill=\"black\" stroke=\"black\" points=\"362.629,-253.402 371.601,-247.767 361.073,-246.577 362.629,-253.402\"/>\n",
       "<text text-anchor=\"middle\" x=\"309.628\" y=\"-269.433\" font-family=\"Times,serif\" font-size=\"14.00\">b</text>\n",
       "</g>\n",
       "<!-- S7 -->\n",
       "<g id=\"node3\" class=\"node\"><title>S7</title>\n",
       "<ellipse fill=\"none\" stroke=\"black\" cx=\"195.841\" cy=\"-91.6335\" rx=\"19.3939\" ry=\"19.3939\"/>\n",
       "<text text-anchor=\"middle\" x=\"195.841\" y=\"-87.4335\" font-family=\"Times,serif\" font-size=\"14.00\">S7</text>\n",
       "</g>\n",
       "<!-- S7&#45;&gt;F3 -->\n",
       "<g id=\"edge6\" class=\"edge\"><title>S7&#45;&gt;F3</title>\n",
       "<path fill=\"none\" stroke=\"black\" d=\"M214.801,-86.9741C232.647,-82.3446 260.261,-75.1809 280.918,-69.822\"/>\n",
       "<polygon fill=\"black\" stroke=\"black\" points=\"281.911,-73.1803 290.712,-67.2813 280.154,-66.4046 281.911,-73.1803\"/>\n",
       "<text text-anchor=\"middle\" x=\"252.734\" y=\"-84.4335\" font-family=\"Times,serif\" font-size=\"14.00\">a</text>\n",
       "</g>\n",
       "<!-- S4 -->\n",
       "<g id=\"node4\" class=\"node\"><title>S4</title>\n",
       "<ellipse fill=\"none\" stroke=\"black\" cx=\"195.841\" cy=\"-34.6335\" rx=\"19.3939\" ry=\"19.3939\"/>\n",
       "<text text-anchor=\"middle\" x=\"195.841\" y=\"-30.4335\" font-family=\"Times,serif\" font-size=\"14.00\">S4</text>\n",
       "</g>\n",
       "<!-- S4&#45;&gt;F3 -->\n",
       "<g id=\"edge7\" class=\"edge\"><title>S4&#45;&gt;F3</title>\n",
       "<path fill=\"none\" stroke=\"black\" d=\"M215.243,-37.961C230.579,-40.8727 252.946,-45.4409 272.181,-50.6335 275.172,-51.4408 278.279,-52.3507 281.36,-53.2994\"/>\n",
       "<polygon fill=\"black\" stroke=\"black\" points=\"280.357,-56.6533 290.949,-56.3835 282.501,-49.9895 280.357,-56.6533\"/>\n",
       "<text text-anchor=\"middle\" x=\"252.734\" y=\"-53.4335\" font-family=\"Times,serif\" font-size=\"14.00\">b</text>\n",
       "</g>\n",
       "<!-- F9&#45;&gt;F9 -->\n",
       "<g id=\"edge9\" class=\"edge\"><title>F9&#45;&gt;F9</title>\n",
       "<path fill=\"none\" stroke=\"black\" d=\"M188.342,-215.743C186.943,-225.81 189.442,-235.08 195.841,-235.08 199.94,-235.08 202.438,-231.276 203.337,-225.895\"/>\n",
       "<polygon fill=\"black\" stroke=\"black\" points=\"206.837,-225.744 203.339,-215.743 199.837,-225.742 206.837,-225.744\"/>\n",
       "<text text-anchor=\"middle\" x=\"195.841\" y=\"-237.88\" font-family=\"Times,serif\" font-size=\"14.00\">a</text>\n",
       "</g>\n",
       "<!-- S8 -->\n",
       "<g id=\"node9\" class=\"node\"><title>S8</title>\n",
       "<ellipse fill=\"none\" stroke=\"black\" cx=\"309.628\" cy=\"-197.633\" rx=\"19.3939\" ry=\"19.3939\"/>\n",
       "<text text-anchor=\"middle\" x=\"309.628\" y=\"-193.433\" font-family=\"Times,serif\" font-size=\"14.00\">S8</text>\n",
       "</g>\n",
       "<!-- F9&#45;&gt;S8 -->\n",
       "<g id=\"edge8\" class=\"edge\"><title>F9&#45;&gt;S8</title>\n",
       "<path fill=\"none\" stroke=\"black\" d=\"M215.3,-197.633C232.857,-197.633 259.534,-197.633 279.877,-197.633\"/>\n",
       "<polygon fill=\"black\" stroke=\"black\" points=\"280.141,-201.134 290.141,-197.633 280.141,-194.134 280.141,-201.134\"/>\n",
       "<text text-anchor=\"middle\" x=\"252.734\" y=\"-200.433\" font-family=\"Times,serif\" font-size=\"14.00\">b</text>\n",
       "</g>\n",
       "<!-- I1 -->\n",
       "<g id=\"node10\" class=\"node\"><title>I1</title>\n",
       "<ellipse fill=\"none\" stroke=\"black\" cx=\"474.396\" cy=\"-198.633\" rx=\"18\" ry=\"18\"/>\n",
       "<ellipse fill=\"none\" stroke=\"black\" cx=\"474.396\" cy=\"-198.633\" rx=\"22\" ry=\"22\"/>\n",
       "<text text-anchor=\"middle\" x=\"474.396\" y=\"-194.433\" font-family=\"Times,serif\" font-size=\"14.00\">I1</text>\n",
       "</g>\n",
       "<!-- F3&#45;&gt;I1 -->\n",
       "<g id=\"edge10\" class=\"edge\"><title>F3&#45;&gt;I1</title>\n",
       "<path fill=\"none\" stroke=\"black\" d=\"M325.073,-74.7026C353.02,-98.0538 414.758,-149.639 449.118,-178.348\"/>\n",
       "<polygon fill=\"black\" stroke=\"black\" points=\"446.905,-181.059 456.823,-184.785 451.393,-175.688 446.905,-181.059\"/>\n",
       "<text text-anchor=\"middle\" x=\"390.736\" y=\"-147.433\" font-family=\"Times,serif\" font-size=\"14.00\">b</text>\n",
       "</g>\n",
       "<!-- F6&#45;&gt;S5 -->\n",
       "<g id=\"edge11\" class=\"edge\"><title>F6&#45;&gt;S5</title>\n",
       "<path fill=\"none\" stroke=\"black\" d=\"M118.927,-182.372C128.853,-203.668 148.44,-238.854 176.394,-257.633 190.097,-266.839 208.045,-271.123 222.986,-273.089\"/>\n",
       "<polygon fill=\"black\" stroke=\"black\" points=\"222.923,-276.601 233.23,-274.148 223.643,-269.638 222.923,-276.601\"/>\n",
       "<text text-anchor=\"middle\" x=\"153.144\" y=\"-259.433\" font-family=\"Times,serif\" font-size=\"14.00\">b </text>\n",
       "<text text-anchor=\"middle\" x=\"153.144\" y=\"-245.433\" font-family=\"Times,serif\" font-size=\"14.00\"> a</text>\n",
       "</g>\n",
       "<!-- F6&#45;&gt;S7 -->\n",
       "<g id=\"edge12\" class=\"edge\"><title>F6&#45;&gt;S7</title>\n",
       "<path fill=\"none\" stroke=\"black\" d=\"M118.111,-146.587C123.978,-133.127 133.799,-115.294 147.894,-104.633 153.206,-100.616 159.692,-97.8401 166.128,-95.922\"/>\n",
       "<polygon fill=\"black\" stroke=\"black\" points=\"167.109,-99.286 176.023,-93.5588 165.483,-92.4775 167.109,-99.286\"/>\n",
       "<text text-anchor=\"middle\" x=\"153.144\" y=\"-121.433\" font-family=\"Times,serif\" font-size=\"14.00\">b </text>\n",
       "<text text-anchor=\"middle\" x=\"153.144\" y=\"-107.433\" font-family=\"Times,serif\" font-size=\"14.00\"> a</text>\n",
       "</g>\n",
       "<!-- F6&#45;&gt;S4 -->\n",
       "<g id=\"edge14\" class=\"edge\"><title>F6&#45;&gt;S4</title>\n",
       "<path fill=\"none\" stroke=\"black\" d=\"M115.101,-145.475C119.835,-124.616 129.723,-91.1054 147.894,-67.6335 153.743,-60.078 161.798,-53.5521 169.586,-48.3447\"/>\n",
       "<polygon fill=\"black\" stroke=\"black\" points=\"171.482,-51.2876 178.133,-43.041 167.791,-45.3396 171.482,-51.2876\"/>\n",
       "<text text-anchor=\"middle\" x=\"153.144\" y=\"-84.4335\" font-family=\"Times,serif\" font-size=\"14.00\">b </text>\n",
       "<text text-anchor=\"middle\" x=\"153.144\" y=\"-70.4335\" font-family=\"Times,serif\" font-size=\"14.00\"> a</text>\n",
       "</g>\n",
       "<!-- F6&#45;&gt;F9 -->\n",
       "<g id=\"edge15\" class=\"edge\"><title>F6&#45;&gt;F9</title>\n",
       "<path fill=\"none\" stroke=\"black\" d=\"M128.726,-171.471C140.131,-175.984 155.3,-181.987 168.231,-187.104\"/>\n",
       "<polygon fill=\"black\" stroke=\"black\" points=\"166.997,-190.379 177.583,-190.805 169.573,-183.871 166.997,-190.379\"/>\n",
       "<text text-anchor=\"middle\" x=\"153.144\" y=\"-186.433\" font-family=\"Times,serif\" font-size=\"14.00\">b</text>\n",
       "</g>\n",
       "<!-- F6&#45;&gt;F6 -->\n",
       "<g id=\"edge13\" class=\"edge\"><title>F6&#45;&gt;F6</title>\n",
       "<path fill=\"none\" stroke=\"black\" d=\"M103.975,-183.13C102.876,-193.046 105.033,-202.08 110.447,-202.08 113.831,-202.08 115.942,-198.551 116.782,-193.484\"/>\n",
       "<polygon fill=\"black\" stroke=\"black\" points=\"120.286,-193.175 116.918,-183.13 113.286,-193.083 120.286,-193.175\"/>\n",
       "<text text-anchor=\"middle\" x=\"110.447\" y=\"-218.88\" font-family=\"Times,serif\" font-size=\"14.00\">b </text>\n",
       "<text text-anchor=\"middle\" x=\"110.447\" y=\"-204.88\" font-family=\"Times,serif\" font-size=\"14.00\"> a</text>\n",
       "</g>\n",
       "<!-- F6&#45;&gt;S8 -->\n",
       "<g id=\"edge16\" class=\"edge\"><title>F6&#45;&gt;S8</title>\n",
       "<path fill=\"none\" stroke=\"black\" d=\"M129.659,-159.827C150.554,-155.054 185.741,-149.292 215.287,-155.633 239.7,-160.873 265.433,-173.013 283.682,-182.901\"/>\n",
       "<polygon fill=\"black\" stroke=\"black\" points=\"282.059,-186.003 292.497,-187.818 285.469,-179.89 282.059,-186.003\"/>\n",
       "<text text-anchor=\"middle\" x=\"195.841\" y=\"-158.433\" font-family=\"Times,serif\" font-size=\"14.00\">a</text>\n",
       "</g>\n",
       "<!-- F2&#45;&gt;I1 -->\n",
       "<g id=\"edge17\" class=\"edge\"><title>F2&#45;&gt;I1</title>\n",
       "<path fill=\"none\" stroke=\"black\" d=\"M408.261,-234.527C418.957,-228.633 433.151,-220.811 445.558,-213.974\"/>\n",
       "<polygon fill=\"black\" stroke=\"black\" points=\"447.542,-216.877 454.611,-208.986 444.163,-210.747 447.542,-216.877\"/>\n",
       "<text text-anchor=\"middle\" x=\"431.289\" y=\"-225.433\" font-family=\"Times,serif\" font-size=\"14.00\">a</text>\n",
       "</g>\n",
       "<!-- S8&#45;&gt;F2 -->\n",
       "<g id=\"edge18\" class=\"edge\"><title>S8&#45;&gt;F2</title>\n",
       "<path fill=\"none\" stroke=\"black\" d=\"M327.019,-207.165C337.91,-213.498 352.419,-221.934 364.738,-229.098\"/>\n",
       "<polygon fill=\"black\" stroke=\"black\" points=\"363.232,-232.271 373.636,-234.272 366.751,-226.219 363.232,-232.271\"/>\n",
       "<text text-anchor=\"middle\" x=\"350.182\" y=\"-225.433\" font-family=\"Times,serif\" font-size=\"14.00\">a</text>\n",
       "</g>\n",
       "</g>\n",
       "</svg>\n"
      ],
      "text/plain": [
       "<graphviz.dot.Digraph at 0x103809f28>"
      ]
     },
     "execution_count": 67,
     "metadata": {},
     "output_type": "execute_result"
    }
   ],
   "source": [
    "dotObj_nfa(rblimp, FuseEdges=True)"
   ]
  },
  {
   "cell_type": "markdown",
   "metadata": {
    "run_control": {
     "frozen": false,
     "read_only": false
    }
   },
   "source": [
    "## Step 2: Determinize the result of Step 1"
   ]
  },
  {
   "cell_type": "code",
   "execution_count": 68,
   "metadata": {
    "run_control": {
     "frozen": false,
     "read_only": false
    }
   },
   "outputs": [
    {
     "data": {
      "text/plain": [
       "{'Delta': {('St0', 'a'): 'St0',\n",
       "  ('St0', 'b'): 'St0',\n",
       "  ('St1', 'a'): 'St0',\n",
       "  ('St1', 'b'): 'St0',\n",
       "  ('St2', 'a'): 'St3',\n",
       "  ('St2', 'b'): 'St3',\n",
       "  ('St3', 'a'): 'St1',\n",
       "  ('St3', 'b'): 'St1'},\n",
       " 'F': {'St0', 'St3'},\n",
       " 'Q': {'St0', 'St1', 'St2', 'St3'},\n",
       " 'Sigma': {'a', 'b'},\n",
       " 'q0': 'St2'}"
      ]
     },
     "execution_count": 68,
     "metadata": {},
     "output_type": "execute_result"
    }
   ],
   "source": [
    "drblimp = nfa2dfa(rblimp)\n",
    "drblimp"
   ]
  },
  {
   "cell_type": "code",
   "execution_count": 69,
   "metadata": {
    "run_control": {
     "frozen": false,
     "read_only": false
    }
   },
   "outputs": [
    {
     "data": {
      "image/svg+xml": [
       "<?xml version=\"1.0\" encoding=\"UTF-8\" standalone=\"no\"?>\n",
       "<!DOCTYPE svg PUBLIC \"-//W3C//DTD SVG 1.1//EN\"\n",
       " \"http://www.w3.org/Graphics/SVG/1.1/DTD/svg11.dtd\">\n",
       "<!-- Generated by graphviz version 2.38.0 (20140413.2041)\n",
       " -->\n",
       "<!-- Title: %3 Pages: 1 -->\n",
       "<svg width=\"419pt\" height=\"124pt\"\n",
       " viewBox=\"0.00 0.00 419.23 123.81\" xmlns=\"http://www.w3.org/2000/svg\" xmlns:xlink=\"http://www.w3.org/1999/xlink\">\n",
       "<g id=\"graph0\" class=\"graph\" transform=\"scale(1 1) rotate(0) translate(4 119.808)\">\n",
       "<title>%3</title>\n",
       "<polygon fill=\"white\" stroke=\"none\" points=\"-4,4 -4,-119.808 415.231,-119.808 415.231,4 -4,4\"/>\n",
       "<!-- EMPTY -->\n",
       "<g id=\"node1\" class=\"node\"><title>EMPTY</title>\n",
       "</g>\n",
       "<!-- St2 -->\n",
       "<g id=\"node2\" class=\"node\"><title>St2</title>\n",
       "<ellipse fill=\"none\" stroke=\"black\" cx=\"112.904\" cy=\"-25.9039\" rx=\"21.8081\" ry=\"21.8081\"/>\n",
       "<text text-anchor=\"middle\" x=\"112.904\" y=\"-21.7039\" font-family=\"Times,serif\" font-size=\"14.00\">St2</text>\n",
       "</g>\n",
       "<!-- EMPTY&#45;&gt;St2 -->\n",
       "<g id=\"edge1\" class=\"edge\"><title>EMPTY&#45;&gt;St2</title>\n",
       "<path fill=\"none\" stroke=\"black\" d=\"M54.0878,-25.9039C62.501,-25.9039 71.9126,-25.9039 80.6587,-25.9039\"/>\n",
       "<polygon fill=\"black\" stroke=\"black\" points=\"80.8854,-29.404 90.8853,-25.9039 80.8853,-22.404 80.8854,-29.404\"/>\n",
       "</g>\n",
       "<!-- St3 -->\n",
       "<g id=\"node4\" class=\"node\"><title>St3</title>\n",
       "<ellipse fill=\"none\" stroke=\"black\" cx=\"203.712\" cy=\"-25.9039\" rx=\"21.8229\" ry=\"21.8229\"/>\n",
       "<ellipse fill=\"none\" stroke=\"black\" cx=\"203.712\" cy=\"-25.9039\" rx=\"25.8081\" ry=\"25.8081\"/>\n",
       "<text text-anchor=\"middle\" x=\"203.712\" y=\"-21.7039\" font-family=\"Times,serif\" font-size=\"14.00\">St3</text>\n",
       "</g>\n",
       "<!-- St2&#45;&gt;St3 -->\n",
       "<g id=\"edge2\" class=\"edge\"><title>St2&#45;&gt;St3</title>\n",
       "<path fill=\"none\" stroke=\"black\" d=\"M134.95,-25.9039C144.668,-25.9039 156.471,-25.9039 167.487,-25.9039\"/>\n",
       "<polygon fill=\"black\" stroke=\"black\" points=\"167.713,-29.404 177.713,-25.9039 167.713,-22.404 167.713,-29.404\"/>\n",
       "<text text-anchor=\"middle\" x=\"156.308\" y=\"-28.7039\" font-family=\"Times,serif\" font-size=\"14.00\">b</text>\n",
       "</g>\n",
       "<!-- St2&#45;&gt;St3 -->\n",
       "<g id=\"edge3\" class=\"edge\"><title>St2&#45;&gt;St3</title>\n",
       "<path fill=\"none\" stroke=\"black\" d=\"M132.322,-15.3991C138.615,-12.355 145.83,-9.43978 152.808,-7.90386 159.065,-6.5265 165.606,-7.22673 171.815,-8.97717\"/>\n",
       "<polygon fill=\"black\" stroke=\"black\" points=\"170.617,-12.2657 181.21,-12.4447 173.041,-5.69865 170.617,-12.2657\"/>\n",
       "<text text-anchor=\"middle\" x=\"156.308\" y=\"-10.7039\" font-family=\"Times,serif\" font-size=\"14.00\">a</text>\n",
       "</g>\n",
       "<!-- St1 -->\n",
       "<g id=\"node3\" class=\"node\"><title>St1</title>\n",
       "<ellipse fill=\"none\" stroke=\"black\" cx=\"294.519\" cy=\"-25.9039\" rx=\"21.8081\" ry=\"21.8081\"/>\n",
       "<text text-anchor=\"middle\" x=\"294.519\" y=\"-21.7039\" font-family=\"Times,serif\" font-size=\"14.00\">St1</text>\n",
       "</g>\n",
       "<!-- St0 -->\n",
       "<g id=\"node5\" class=\"node\"><title>St0</title>\n",
       "<ellipse fill=\"none\" stroke=\"black\" cx=\"385.327\" cy=\"-25.9039\" rx=\"21.8229\" ry=\"21.8229\"/>\n",
       "<ellipse fill=\"none\" stroke=\"black\" cx=\"385.327\" cy=\"-25.9039\" rx=\"25.8081\" ry=\"25.8081\"/>\n",
       "<text text-anchor=\"middle\" x=\"385.327\" y=\"-21.7039\" font-family=\"Times,serif\" font-size=\"14.00\">St0</text>\n",
       "</g>\n",
       "<!-- St1&#45;&gt;St0 -->\n",
       "<g id=\"edge6\" class=\"edge\"><title>St1&#45;&gt;St0</title>\n",
       "<path fill=\"none\" stroke=\"black\" d=\"M316.566,-25.9039C326.283,-25.9039 338.087,-25.9039 349.103,-25.9039\"/>\n",
       "<polygon fill=\"black\" stroke=\"black\" points=\"349.329,-29.404 359.329,-25.9039 349.329,-22.404 349.329,-29.404\"/>\n",
       "<text text-anchor=\"middle\" x=\"337.923\" y=\"-28.7039\" font-family=\"Times,serif\" font-size=\"14.00\">b</text>\n",
       "</g>\n",
       "<!-- St1&#45;&gt;St0 -->\n",
       "<g id=\"edge7\" class=\"edge\"><title>St1&#45;&gt;St0</title>\n",
       "<path fill=\"none\" stroke=\"black\" d=\"M313.937,-15.3991C320.231,-12.355 327.446,-9.43978 334.423,-7.90386 340.68,-6.5265 347.222,-7.22673 353.431,-8.97717\"/>\n",
       "<polygon fill=\"black\" stroke=\"black\" points=\"352.233,-12.2657 362.826,-12.4447 354.656,-5.69865 352.233,-12.2657\"/>\n",
       "<text text-anchor=\"middle\" x=\"337.923\" y=\"-10.7039\" font-family=\"Times,serif\" font-size=\"14.00\">a</text>\n",
       "</g>\n",
       "<!-- St3&#45;&gt;St1 -->\n",
       "<g id=\"edge4\" class=\"edge\"><title>St3&#45;&gt;St1</title>\n",
       "<path fill=\"none\" stroke=\"black\" d=\"M229.923,-25.9039C239.999,-25.9039 251.709,-25.9039 262.313,-25.9039\"/>\n",
       "<polygon fill=\"black\" stroke=\"black\" points=\"262.449,-29.404 272.449,-25.9039 262.448,-22.404 262.449,-29.404\"/>\n",
       "<text text-anchor=\"middle\" x=\"251.115\" y=\"-28.7039\" font-family=\"Times,serif\" font-size=\"14.00\">b</text>\n",
       "</g>\n",
       "<!-- St3&#45;&gt;St1 -->\n",
       "<g id=\"edge5\" class=\"edge\"><title>St3&#45;&gt;St1</title>\n",
       "<path fill=\"none\" stroke=\"black\" d=\"M226.213,-12.4447C234.886,-8.53035 245.081,-5.80503 254.615,-7.90386 258.322,-8.71982 262.096,-9.92505 265.763,-11.3321\"/>\n",
       "<polygon fill=\"black\" stroke=\"black\" points=\"264.536,-14.615 275.101,-15.3991 267.331,-8.19721 264.536,-14.615\"/>\n",
       "<text text-anchor=\"middle\" x=\"251.115\" y=\"-10.7039\" font-family=\"Times,serif\" font-size=\"14.00\">a</text>\n",
       "</g>\n",
       "<!-- St0&#45;&gt;St0 -->\n",
       "<g id=\"edge8\" class=\"edge\"><title>St0&#45;&gt;St0</title>\n",
       "<path fill=\"none\" stroke=\"black\" d=\"M381.031,-51.6087C380.84,-61.5472 382.272,-69.8077 385.327,-69.8077 387.236,-69.8077 388.512,-66.5809 389.153,-61.7345\"/>\n",
       "<polygon fill=\"black\" stroke=\"black\" points=\"392.655,-61.7602 389.623,-51.6087 385.663,-61.4357 392.655,-61.7602\"/>\n",
       "<text text-anchor=\"middle\" x=\"385.327\" y=\"-72.6077\" font-family=\"Times,serif\" font-size=\"14.00\">b</text>\n",
       "</g>\n",
       "<!-- St0&#45;&gt;St0 -->\n",
       "<g id=\"edge9\" class=\"edge\"><title>St0&#45;&gt;St0</title>\n",
       "<path fill=\"none\" stroke=\"black\" d=\"M377.721,-50.6941C375.065,-69.1781 377.6,-87.8077 385.327,-87.8077 391.605,-87.8077 394.456,-75.5093 393.879,-60.9829\"/>\n",
       "<polygon fill=\"black\" stroke=\"black\" points=\"397.334,-60.3314 392.933,-50.6941 390.364,-60.9727 397.334,-60.3314\"/>\n",
       "<text text-anchor=\"middle\" x=\"385.327\" y=\"-90.6077\" font-family=\"Times,serif\" font-size=\"14.00\">a</text>\n",
       "</g>\n",
       "</g>\n",
       "</svg>\n"
      ],
      "text/plain": [
       "<graphviz.dot.Digraph at 0x102fe5c88>"
      ]
     },
     "execution_count": 69,
     "metadata": {},
     "output_type": "execute_result"
    }
   ],
   "source": [
    "DOdrblimp = dotObj_dfa(drblimp)\n",
    "DOdrblimp"
   ]
  },
  {
   "cell_type": "markdown",
   "metadata": {
    "run_control": {
     "frozen": false,
     "read_only": false
    }
   },
   "source": [
    "## Step 3: Reverse the result of Step 2"
   ]
  },
  {
   "cell_type": "code",
   "execution_count": 70,
   "metadata": {
    "run_control": {
     "frozen": false,
     "read_only": false
    }
   },
   "outputs": [
    {
     "data": {
      "image/svg+xml": [
       "<?xml version=\"1.0\" encoding=\"UTF-8\" standalone=\"no\"?>\n",
       "<!DOCTYPE svg PUBLIC \"-//W3C//DTD SVG 1.1//EN\"\n",
       " \"http://www.w3.org/Graphics/SVG/1.1/DTD/svg11.dtd\">\n",
       "<!-- Generated by graphviz version 2.38.0 (20140413.2041)\n",
       " -->\n",
       "<!-- Title: %3 Pages: 1 -->\n",
       "<svg width=\"411pt\" height=\"130pt\"\n",
       " viewBox=\"0.00 0.00 411.23 129.81\" xmlns=\"http://www.w3.org/2000/svg\" xmlns:xlink=\"http://www.w3.org/1999/xlink\">\n",
       "<g id=\"graph0\" class=\"graph\" transform=\"scale(1 1) rotate(0) translate(4 125.808)\">\n",
       "<title>%3</title>\n",
       "<polygon fill=\"white\" stroke=\"none\" points=\"-4,4 -4,-125.808 407.231,-125.808 407.231,4 -4,4\"/>\n",
       "<!-- EMPTY -->\n",
       "<g id=\"node1\" class=\"node\"><title>EMPTY</title>\n",
       "</g>\n",
       "<!-- St3 -->\n",
       "<g id=\"node2\" class=\"node\"><title>St3</title>\n",
       "<ellipse fill=\"none\" stroke=\"black\" cx=\"286.519\" cy=\"-95.9039\" rx=\"21.8081\" ry=\"21.8081\"/>\n",
       "<text text-anchor=\"middle\" x=\"286.519\" y=\"-91.7039\" font-family=\"Times,serif\" font-size=\"14.00\">St3</text>\n",
       "</g>\n",
       "<!-- EMPTY&#45;&gt;St3 -->\n",
       "<g id=\"edge1\" class=\"edge\"><title>EMPTY&#45;&gt;St3</title>\n",
       "<path fill=\"none\" stroke=\"black\" d=\"M54.0819,-109.078C65.3188,-112.194 78.6827,-115.364 91,-116.904 148.919,-124.144 216.73,-112.201 255.054,-103.567\"/>\n",
       "<polygon fill=\"black\" stroke=\"black\" points=\"256.104,-106.916 265.049,-101.238 254.516,-100.099 256.104,-106.916\"/>\n",
       "</g>\n",
       "<!-- St0 -->\n",
       "<g id=\"node4\" class=\"node\"><title>St0</title>\n",
       "<ellipse fill=\"none\" stroke=\"black\" cx=\"112.904\" cy=\"-21.9039\" rx=\"21.8081\" ry=\"21.8081\"/>\n",
       "<text text-anchor=\"middle\" x=\"112.904\" y=\"-17.7039\" font-family=\"Times,serif\" font-size=\"14.00\">St0</text>\n",
       "</g>\n",
       "<!-- EMPTY&#45;&gt;St0 -->\n",
       "<g id=\"edge2\" class=\"edge\"><title>EMPTY&#45;&gt;St0</title>\n",
       "<path fill=\"none\" stroke=\"black\" d=\"M47.4601,-82.5811C59.8078,-70.9551 75.8461,-55.8542 88.8337,-43.6257\"/>\n",
       "<polygon fill=\"black\" stroke=\"black\" points=\"91.5844,-45.8431 96.4657,-36.4397 86.7858,-40.7466 91.5844,-45.8431\"/>\n",
       "</g>\n",
       "<!-- St2 -->\n",
       "<g id=\"node5\" class=\"node\"><title>St2</title>\n",
       "<ellipse fill=\"none\" stroke=\"black\" cx=\"377.327\" cy=\"-95.9039\" rx=\"21.8229\" ry=\"21.8229\"/>\n",
       "<ellipse fill=\"none\" stroke=\"black\" cx=\"377.327\" cy=\"-95.9039\" rx=\"25.8081\" ry=\"25.8081\"/>\n",
       "<text text-anchor=\"middle\" x=\"377.327\" y=\"-91.7039\" font-family=\"Times,serif\" font-size=\"14.00\">St2</text>\n",
       "</g>\n",
       "<!-- St3&#45;&gt;St2 -->\n",
       "<g id=\"edge3\" class=\"edge\"><title>St3&#45;&gt;St2</title>\n",
       "<path fill=\"none\" stroke=\"black\" d=\"M308.566,-95.9039C318.283,-95.9039 330.087,-95.9039 341.103,-95.9039\"/>\n",
       "<polygon fill=\"black\" stroke=\"black\" points=\"341.329,-99.404 351.329,-95.9039 341.329,-92.404 341.329,-99.404\"/>\n",
       "<text text-anchor=\"middle\" x=\"329.923\" y=\"-98.7039\" font-family=\"Times,serif\" font-size=\"14.00\">b</text>\n",
       "</g>\n",
       "<!-- St3&#45;&gt;St2 -->\n",
       "<g id=\"edge4\" class=\"edge\"><title>St3&#45;&gt;St2</title>\n",
       "<path fill=\"none\" stroke=\"black\" d=\"M305.937,-85.3991C312.231,-82.355 319.446,-79.4398 326.423,-77.9039 332.68,-76.5265 339.222,-77.2267 345.431,-78.9772\"/>\n",
       "<polygon fill=\"black\" stroke=\"black\" points=\"344.233,-82.2657 354.826,-82.4447 346.656,-75.6987 344.233,-82.2657\"/>\n",
       "<text text-anchor=\"middle\" x=\"329.923\" y=\"-80.7039\" font-family=\"Times,serif\" font-size=\"14.00\">a</text>\n",
       "</g>\n",
       "<!-- St1 -->\n",
       "<g id=\"node3\" class=\"node\"><title>St1</title>\n",
       "<ellipse fill=\"none\" stroke=\"black\" cx=\"199.712\" cy=\"-58.9039\" rx=\"21.8081\" ry=\"21.8081\"/>\n",
       "<text text-anchor=\"middle\" x=\"199.712\" y=\"-54.7039\" font-family=\"Times,serif\" font-size=\"14.00\">St1</text>\n",
       "</g>\n",
       "<!-- St1&#45;&gt;St3 -->\n",
       "<g id=\"edge9\" class=\"edge\"><title>St1&#45;&gt;St3</title>\n",
       "<path fill=\"none\" stroke=\"black\" d=\"M219.956,-67.2997C230.83,-72.0441 244.636,-78.0673 256.771,-83.3617\"/>\n",
       "<polygon fill=\"black\" stroke=\"black\" points=\"255.492,-86.6223 266.058,-87.4131 258.292,-80.2063 255.492,-86.6223\"/>\n",
       "<text text-anchor=\"middle\" x=\"243.115\" y=\"-81.7039\" font-family=\"Times,serif\" font-size=\"14.00\">b</text>\n",
       "</g>\n",
       "<!-- St1&#45;&gt;St3 -->\n",
       "<g id=\"edge10\" class=\"edge\"><title>St1&#45;&gt;St3</title>\n",
       "<path fill=\"none\" stroke=\"black\" d=\"M221.443,-55.6753C229.553,-55.2305 238.771,-55.7692 246.615,-58.9039 253.637,-61.7098 260.116,-66.4529 265.69,-71.6238\"/>\n",
       "<polygon fill=\"black\" stroke=\"black\" points=\"263.205,-74.0894 272.696,-78.7983 268.213,-69.1986 263.205,-74.0894\"/>\n",
       "<text text-anchor=\"middle\" x=\"243.115\" y=\"-61.7039\" font-family=\"Times,serif\" font-size=\"14.00\">a</text>\n",
       "</g>\n",
       "<!-- St0&#45;&gt;St1 -->\n",
       "<g id=\"edge5\" class=\"edge\"><title>St0&#45;&gt;St1</title>\n",
       "<path fill=\"none\" stroke=\"black\" d=\"M133.148,-30.2997C144.023,-35.0441 157.828,-41.0673 169.964,-46.3617\"/>\n",
       "<polygon fill=\"black\" stroke=\"black\" points=\"168.685,-49.6223 179.25,-50.4131 171.484,-43.2063 168.685,-49.6223\"/>\n",
       "<text text-anchor=\"middle\" x=\"156.308\" y=\"-44.7039\" font-family=\"Times,serif\" font-size=\"14.00\">b</text>\n",
       "</g>\n",
       "<!-- St0&#45;&gt;St1 -->\n",
       "<g id=\"edge7\" class=\"edge\"><title>St0&#45;&gt;St1</title>\n",
       "<path fill=\"none\" stroke=\"black\" d=\"M134.635,-18.6753C142.745,-18.2305 151.963,-18.7692 159.808,-21.9039 166.83,-24.7098 173.308,-29.4529 178.882,-34.6238\"/>\n",
       "<polygon fill=\"black\" stroke=\"black\" points=\"176.398,-37.0894 185.889,-41.7983 181.406,-32.1986 176.398,-37.0894\"/>\n",
       "<text text-anchor=\"middle\" x=\"156.308\" y=\"-24.7039\" font-family=\"Times,serif\" font-size=\"14.00\">a</text>\n",
       "</g>\n",
       "<!-- St0&#45;&gt;St0 -->\n",
       "<g id=\"edge6\" class=\"edge\"><title>St0&#45;&gt;St0</title>\n",
       "<path fill=\"none\" stroke=\"black\" d=\"M109.212,-43.6581C108.861,-53.3905 110.091,-61.8077 112.904,-61.8077 114.662,-61.8077 115.802,-58.5198 116.323,-53.6777\"/>\n",
       "<polygon fill=\"black\" stroke=\"black\" points=\"119.823,-53.7494 116.595,-43.6581 112.825,-53.5594 119.823,-53.7494\"/>\n",
       "<text text-anchor=\"middle\" x=\"112.904\" y=\"-64.6077\" font-family=\"Times,serif\" font-size=\"14.00\">b</text>\n",
       "</g>\n",
       "<!-- St0&#45;&gt;St0 -->\n",
       "<g id=\"edge8\" class=\"edge\"><title>St0&#45;&gt;St0</title>\n",
       "<path fill=\"none\" stroke=\"black\" d=\"M106.595,-42.9831C103.809,-60.9347 105.912,-79.8077 112.904,-79.8077 118.585,-79.8077 121.039,-67.3486 120.265,-53.0476\"/>\n",
       "<polygon fill=\"black\" stroke=\"black\" points=\"123.733,-52.5653 119.213,-42.9831 116.771,-53.2927 123.733,-52.5653\"/>\n",
       "<text text-anchor=\"middle\" x=\"112.904\" y=\"-82.6077\" font-family=\"Times,serif\" font-size=\"14.00\">a</text>\n",
       "</g>\n",
       "</g>\n",
       "</svg>\n"
      ],
      "text/plain": [
       "<graphviz.dot.Digraph at 0x1038412e8>"
      ]
     },
     "execution_count": 70,
     "metadata": {},
     "output_type": "execute_result"
    }
   ],
   "source": [
    "rdrblimp = rev_dfa(drblimp)\n",
    "DOrdrblimp = dotObj_nfa(rdrblimp)\n",
    "DOrdrblimp"
   ]
  },
  {
   "cell_type": "markdown",
   "metadata": {
    "collapsed": true,
    "run_control": {
     "frozen": false,
     "read_only": false
    }
   },
   "source": [
    "## Step 4: Determinize the result of Step 3"
   ]
  },
  {
   "cell_type": "code",
   "execution_count": 71,
   "metadata": {
    "run_control": {
     "frozen": false,
     "read_only": false
    }
   },
   "outputs": [
    {
     "data": {
      "image/svg+xml": [
       "<?xml version=\"1.0\" encoding=\"UTF-8\" standalone=\"no\"?>\n",
       "<!DOCTYPE svg PUBLIC \"-//W3C//DTD SVG 1.1//EN\"\n",
       " \"http://www.w3.org/Graphics/SVG/1.1/DTD/svg11.dtd\">\n",
       "<!-- Generated by graphviz version 2.38.0 (20140413.2041)\n",
       " -->\n",
       "<!-- Title: %3 Pages: 1 -->\n",
       "<svg width=\"419pt\" height=\"124pt\"\n",
       " viewBox=\"0.00 0.00 419.23 123.81\" xmlns=\"http://www.w3.org/2000/svg\" xmlns:xlink=\"http://www.w3.org/1999/xlink\">\n",
       "<g id=\"graph0\" class=\"graph\" transform=\"scale(1 1) rotate(0) translate(4 119.808)\">\n",
       "<title>%3</title>\n",
       "<polygon fill=\"white\" stroke=\"none\" points=\"-4,4 -4,-119.808 415.231,-119.808 415.231,4 -4,4\"/>\n",
       "<!-- EMPTY -->\n",
       "<g id=\"node1\" class=\"node\"><title>EMPTY</title>\n",
       "</g>\n",
       "<!-- St3 -->\n",
       "<g id=\"node2\" class=\"node\"><title>St3</title>\n",
       "<ellipse fill=\"none\" stroke=\"black\" cx=\"112.904\" cy=\"-25.9039\" rx=\"21.8081\" ry=\"21.8081\"/>\n",
       "<text text-anchor=\"middle\" x=\"112.904\" y=\"-21.7039\" font-family=\"Times,serif\" font-size=\"14.00\">St3</text>\n",
       "</g>\n",
       "<!-- EMPTY&#45;&gt;St3 -->\n",
       "<g id=\"edge1\" class=\"edge\"><title>EMPTY&#45;&gt;St3</title>\n",
       "<path fill=\"none\" stroke=\"black\" d=\"M54.0878,-25.9039C62.501,-25.9039 71.9126,-25.9039 80.6587,-25.9039\"/>\n",
       "<polygon fill=\"black\" stroke=\"black\" points=\"80.8854,-29.404 90.8853,-25.9039 80.8853,-22.404 80.8854,-29.404\"/>\n",
       "</g>\n",
       "<!-- St1 -->\n",
       "<g id=\"node5\" class=\"node\"><title>St1</title>\n",
       "<ellipse fill=\"none\" stroke=\"black\" cx=\"203.712\" cy=\"-25.9039\" rx=\"21.8229\" ry=\"21.8229\"/>\n",
       "<ellipse fill=\"none\" stroke=\"black\" cx=\"203.712\" cy=\"-25.9039\" rx=\"25.8081\" ry=\"25.8081\"/>\n",
       "<text text-anchor=\"middle\" x=\"203.712\" y=\"-21.7039\" font-family=\"Times,serif\" font-size=\"14.00\">St1</text>\n",
       "</g>\n",
       "<!-- St3&#45;&gt;St1 -->\n",
       "<g id=\"edge2\" class=\"edge\"><title>St3&#45;&gt;St1</title>\n",
       "<path fill=\"none\" stroke=\"black\" d=\"M134.95,-25.9039C144.668,-25.9039 156.471,-25.9039 167.487,-25.9039\"/>\n",
       "<polygon fill=\"black\" stroke=\"black\" points=\"167.713,-29.404 177.713,-25.9039 167.713,-22.404 167.713,-29.404\"/>\n",
       "<text text-anchor=\"middle\" x=\"156.308\" y=\"-28.7039\" font-family=\"Times,serif\" font-size=\"14.00\">b</text>\n",
       "</g>\n",
       "<!-- St3&#45;&gt;St1 -->\n",
       "<g id=\"edge3\" class=\"edge\"><title>St3&#45;&gt;St1</title>\n",
       "<path fill=\"none\" stroke=\"black\" d=\"M132.322,-15.3991C138.615,-12.355 145.83,-9.43978 152.808,-7.90386 159.065,-6.5265 165.606,-7.22673 171.815,-8.97717\"/>\n",
       "<polygon fill=\"black\" stroke=\"black\" points=\"170.617,-12.2657 181.21,-12.4447 173.041,-5.69865 170.617,-12.2657\"/>\n",
       "<text text-anchor=\"middle\" x=\"156.308\" y=\"-10.7039\" font-family=\"Times,serif\" font-size=\"14.00\">a</text>\n",
       "</g>\n",
       "<!-- St2 -->\n",
       "<g id=\"node3\" class=\"node\"><title>St2</title>\n",
       "<ellipse fill=\"none\" stroke=\"black\" cx=\"294.519\" cy=\"-25.9039\" rx=\"21.8081\" ry=\"21.8081\"/>\n",
       "<text text-anchor=\"middle\" x=\"294.519\" y=\"-21.7039\" font-family=\"Times,serif\" font-size=\"14.00\">St2</text>\n",
       "</g>\n",
       "<!-- St0 -->\n",
       "<g id=\"node4\" class=\"node\"><title>St0</title>\n",
       "<ellipse fill=\"none\" stroke=\"black\" cx=\"385.327\" cy=\"-25.9039\" rx=\"21.8229\" ry=\"21.8229\"/>\n",
       "<ellipse fill=\"none\" stroke=\"black\" cx=\"385.327\" cy=\"-25.9039\" rx=\"25.8081\" ry=\"25.8081\"/>\n",
       "<text text-anchor=\"middle\" x=\"385.327\" y=\"-21.7039\" font-family=\"Times,serif\" font-size=\"14.00\">St0</text>\n",
       "</g>\n",
       "<!-- St2&#45;&gt;St0 -->\n",
       "<g id=\"edge6\" class=\"edge\"><title>St2&#45;&gt;St0</title>\n",
       "<path fill=\"none\" stroke=\"black\" d=\"M316.566,-25.9039C326.283,-25.9039 338.087,-25.9039 349.103,-25.9039\"/>\n",
       "<polygon fill=\"black\" stroke=\"black\" points=\"349.329,-29.404 359.329,-25.9039 349.329,-22.404 349.329,-29.404\"/>\n",
       "<text text-anchor=\"middle\" x=\"337.923\" y=\"-28.7039\" font-family=\"Times,serif\" font-size=\"14.00\">b</text>\n",
       "</g>\n",
       "<!-- St2&#45;&gt;St0 -->\n",
       "<g id=\"edge7\" class=\"edge\"><title>St2&#45;&gt;St0</title>\n",
       "<path fill=\"none\" stroke=\"black\" d=\"M313.937,-15.3991C320.231,-12.355 327.446,-9.43978 334.423,-7.90386 340.68,-6.5265 347.222,-7.22673 353.431,-8.97717\"/>\n",
       "<polygon fill=\"black\" stroke=\"black\" points=\"352.233,-12.2657 362.826,-12.4447 354.656,-5.69865 352.233,-12.2657\"/>\n",
       "<text text-anchor=\"middle\" x=\"337.923\" y=\"-10.7039\" font-family=\"Times,serif\" font-size=\"14.00\">a</text>\n",
       "</g>\n",
       "<!-- St0&#45;&gt;St0 -->\n",
       "<g id=\"edge8\" class=\"edge\"><title>St0&#45;&gt;St0</title>\n",
       "<path fill=\"none\" stroke=\"black\" d=\"M381.031,-51.6087C380.84,-61.5472 382.272,-69.8077 385.327,-69.8077 387.236,-69.8077 388.512,-66.5809 389.153,-61.7345\"/>\n",
       "<polygon fill=\"black\" stroke=\"black\" points=\"392.655,-61.7602 389.623,-51.6087 385.663,-61.4357 392.655,-61.7602\"/>\n",
       "<text text-anchor=\"middle\" x=\"385.327\" y=\"-72.6077\" font-family=\"Times,serif\" font-size=\"14.00\">b</text>\n",
       "</g>\n",
       "<!-- St0&#45;&gt;St0 -->\n",
       "<g id=\"edge9\" class=\"edge\"><title>St0&#45;&gt;St0</title>\n",
       "<path fill=\"none\" stroke=\"black\" d=\"M377.721,-50.6941C375.065,-69.1781 377.6,-87.8077 385.327,-87.8077 391.605,-87.8077 394.456,-75.5093 393.879,-60.9829\"/>\n",
       "<polygon fill=\"black\" stroke=\"black\" points=\"397.334,-60.3314 392.933,-50.6941 390.364,-60.9727 397.334,-60.3314\"/>\n",
       "<text text-anchor=\"middle\" x=\"385.327\" y=\"-90.6077\" font-family=\"Times,serif\" font-size=\"14.00\">a</text>\n",
       "</g>\n",
       "<!-- St1&#45;&gt;St2 -->\n",
       "<g id=\"edge4\" class=\"edge\"><title>St1&#45;&gt;St2</title>\n",
       "<path fill=\"none\" stroke=\"black\" d=\"M229.923,-25.9039C239.999,-25.9039 251.709,-25.9039 262.313,-25.9039\"/>\n",
       "<polygon fill=\"black\" stroke=\"black\" points=\"262.449,-29.404 272.449,-25.9039 262.448,-22.404 262.449,-29.404\"/>\n",
       "<text text-anchor=\"middle\" x=\"251.115\" y=\"-28.7039\" font-family=\"Times,serif\" font-size=\"14.00\">b</text>\n",
       "</g>\n",
       "<!-- St1&#45;&gt;St2 -->\n",
       "<g id=\"edge5\" class=\"edge\"><title>St1&#45;&gt;St2</title>\n",
       "<path fill=\"none\" stroke=\"black\" d=\"M226.213,-12.4447C234.886,-8.53035 245.081,-5.80503 254.615,-7.90386 258.322,-8.71982 262.096,-9.92505 265.763,-11.3321\"/>\n",
       "<polygon fill=\"black\" stroke=\"black\" points=\"264.536,-14.615 275.101,-15.3991 267.331,-8.19721 264.536,-14.615\"/>\n",
       "<text text-anchor=\"middle\" x=\"251.115\" y=\"-10.7039\" font-family=\"Times,serif\" font-size=\"14.00\">a</text>\n",
       "</g>\n",
       "</g>\n",
       "</svg>\n"
      ],
      "text/plain": [
       "<graphviz.dot.Digraph at 0x103841f98>"
      ]
     },
     "execution_count": 71,
     "metadata": {},
     "output_type": "execute_result"
    }
   ],
   "source": [
    "drdrblimp = nfa2dfa(rdrblimp)\n",
    "DOdrdrblimp = dotObj_dfa(drdrblimp)\n",
    "DOdrdrblimp"
   ]
  },
  {
   "cell_type": "markdown",
   "metadata": {
    "run_control": {
     "frozen": false,
     "read_only": false
    }
   },
   "source": [
    "## End result is isomorphic!"
   ]
  },
  {
   "cell_type": "code",
   "execution_count": 72,
   "metadata": {
    "run_control": {
     "frozen": false,
     "read_only": false
    }
   },
   "outputs": [
    {
     "data": {
      "text/plain": [
       "True"
      ]
     },
     "execution_count": 72,
     "metadata": {},
     "output_type": "execute_result"
    }
   ],
   "source": [
    "iso_dfa(drdrblimp, classic_min)"
   ]
  },
  {
   "cell_type": "markdown",
   "metadata": {
    "run_control": {
     "frozen": false,
     "read_only": false
    }
   },
   "source": [
    "# RE to NFA"
   ]
  },
  {
   "cell_type": "code",
   "execution_count": 73,
   "metadata": {
    "run_control": {
     "frozen": false,
     "read_only": false
    }
   },
   "outputs": [
    {
     "name": "stderr",
     "output_type": "stream",
     "text": [
      "Generating LALR tables\n"
     ]
    },
    {
     "data": {
      "image/svg+xml": [
       "<?xml version=\"1.0\" encoding=\"UTF-8\" standalone=\"no\"?>\n",
       "<!DOCTYPE svg PUBLIC \"-//W3C//DTD SVG 1.1//EN\"\n",
       " \"http://www.w3.org/Graphics/SVG/1.1/DTD/svg11.dtd\">\n",
       "<!-- Generated by graphviz version 2.38.0 (20140413.2041)\n",
       " -->\n",
       "<!-- Title: %3 Pages: 1 -->\n",
       "<svg width=\"150pt\" height=\"60pt\"\n",
       " viewBox=\"0.00 0.00 149.81 59.81\" xmlns=\"http://www.w3.org/2000/svg\" xmlns:xlink=\"http://www.w3.org/1999/xlink\">\n",
       "<g id=\"graph0\" class=\"graph\" transform=\"scale(1 1) rotate(0) translate(4 55.8077)\">\n",
       "<title>%3</title>\n",
       "<polygon fill=\"white\" stroke=\"none\" points=\"-4,4 -4,-55.8077 145.808,-55.8077 145.808,4 -4,4\"/>\n",
       "<!-- EMPTY -->\n",
       "<g id=\"node1\" class=\"node\"><title>EMPTY</title>\n",
       "</g>\n",
       "<!-- St1 -->\n",
       "<g id=\"node2\" class=\"node\"><title>St1</title>\n",
       "<ellipse fill=\"none\" stroke=\"black\" cx=\"115.904\" cy=\"-25.9039\" rx=\"21.8229\" ry=\"21.8229\"/>\n",
       "<ellipse fill=\"none\" stroke=\"black\" cx=\"115.904\" cy=\"-25.9039\" rx=\"25.8081\" ry=\"25.8081\"/>\n",
       "<text text-anchor=\"middle\" x=\"115.904\" y=\"-21.7039\" font-family=\"Times,serif\" font-size=\"14.00\">St1</text>\n",
       "</g>\n",
       "<!-- EMPTY&#45;&gt;St1 -->\n",
       "<g id=\"edge1\" class=\"edge\"><title>EMPTY&#45;&gt;St1</title>\n",
       "<path fill=\"none\" stroke=\"black\" d=\"M54.074,-25.9039C62.107,-25.9039 71.0887,-25.9039 79.6326,-25.9039\"/>\n",
       "<polygon fill=\"black\" stroke=\"black\" points=\"79.744,-29.404 89.744,-25.9039 79.7439,-22.404 79.744,-29.404\"/>\n",
       "</g>\n",
       "</g>\n",
       "</svg>\n"
      ],
      "text/plain": [
       "<graphviz.dot.Digraph at 0x10382e0f0>"
      ]
     },
     "execution_count": 73,
     "metadata": {},
     "output_type": "execute_result"
    }
   ],
   "source": [
    "dotObj_nfa(re2nfa(\"''\"))"
   ]
  },
  {
   "cell_type": "code",
   "execution_count": 74,
   "metadata": {
    "run_control": {
     "frozen": false,
     "read_only": false
    }
   },
   "outputs": [
    {
     "name": "stderr",
     "output_type": "stream",
     "text": [
      "Generating LALR tables\n"
     ]
    },
    {
     "data": {
      "image/svg+xml": [
       "<?xml version=\"1.0\" encoding=\"UTF-8\" standalone=\"no\"?>\n",
       "<!DOCTYPE svg PUBLIC \"-//W3C//DTD SVG 1.1//EN\"\n",
       " \"http://www.w3.org/Graphics/SVG/1.1/DTD/svg11.dtd\">\n",
       "<!-- Generated by graphviz version 2.38.0 (20140413.2041)\n",
       " -->\n",
       "<!-- Title: %3 Pages: 1 -->\n",
       "<svg width=\"237pt\" height=\"60pt\"\n",
       " viewBox=\"0.00 0.00 236.83 59.81\" xmlns=\"http://www.w3.org/2000/svg\" xmlns:xlink=\"http://www.w3.org/1999/xlink\">\n",
       "<g id=\"graph0\" class=\"graph\" transform=\"scale(1 1) rotate(0) translate(4 55.8077)\">\n",
       "<title>%3</title>\n",
       "<polygon fill=\"white\" stroke=\"none\" points=\"-4,4 -4,-55.8077 232.829,-55.8077 232.829,4 -4,4\"/>\n",
       "<!-- EMPTY -->\n",
       "<g id=\"node1\" class=\"node\"><title>EMPTY</title>\n",
       "</g>\n",
       "<!-- St1 -->\n",
       "<g id=\"node2\" class=\"node\"><title>St1</title>\n",
       "<ellipse fill=\"none\" stroke=\"black\" cx=\"112.904\" cy=\"-25.9039\" rx=\"21.8081\" ry=\"21.8081\"/>\n",
       "<text text-anchor=\"middle\" x=\"112.904\" y=\"-21.7039\" font-family=\"Times,serif\" font-size=\"14.00\">St1</text>\n",
       "</g>\n",
       "<!-- EMPTY&#45;&gt;St1 -->\n",
       "<g id=\"edge1\" class=\"edge\"><title>EMPTY&#45;&gt;St1</title>\n",
       "<path fill=\"none\" stroke=\"black\" d=\"M54.0878,-25.9039C62.501,-25.9039 71.9126,-25.9039 80.6587,-25.9039\"/>\n",
       "<polygon fill=\"black\" stroke=\"black\" points=\"80.8854,-29.404 90.8853,-25.9039 80.8853,-22.404 80.8854,-29.404\"/>\n",
       "</g>\n",
       "<!-- St2 -->\n",
       "<g id=\"node3\" class=\"node\"><title>St2</title>\n",
       "<ellipse fill=\"none\" stroke=\"black\" cx=\"202.925\" cy=\"-25.9039\" rx=\"21.8229\" ry=\"21.8229\"/>\n",
       "<ellipse fill=\"none\" stroke=\"black\" cx=\"202.925\" cy=\"-25.9039\" rx=\"25.8081\" ry=\"25.8081\"/>\n",
       "<text text-anchor=\"middle\" x=\"202.925\" y=\"-21.7039\" font-family=\"Times,serif\" font-size=\"14.00\">St2</text>\n",
       "</g>\n",
       "<!-- St1&#45;&gt;St2 -->\n",
       "<g id=\"edge2\" class=\"edge\"><title>St1&#45;&gt;St2</title>\n",
       "<path fill=\"none\" stroke=\"black\" d=\"M135.211,-25.9039C144.599,-25.9039 155.884,-25.9039 166.479,-25.9039\"/>\n",
       "<polygon fill=\"black\" stroke=\"black\" points=\"166.75,-29.404 176.75,-25.9039 166.75,-22.404 166.75,-29.404\"/>\n",
       "<text text-anchor=\"middle\" x=\"155.915\" y=\"-28.7039\" font-family=\"Times,serif\" font-size=\"14.00\">a</text>\n",
       "</g>\n",
       "</g>\n",
       "</svg>\n"
      ],
      "text/plain": [
       "<graphviz.dot.Digraph at 0x103876b38>"
      ]
     },
     "execution_count": 74,
     "metadata": {},
     "output_type": "execute_result"
    }
   ],
   "source": [
    "dotObj_nfa(re2nfa(\"a\"))"
   ]
  },
  {
   "cell_type": "code",
   "execution_count": 75,
   "metadata": {
    "run_control": {
     "frozen": false,
     "read_only": false
    }
   },
   "outputs": [
    {
     "name": "stderr",
     "output_type": "stream",
     "text": [
      "Generating LALR tables\n"
     ]
    },
    {
     "data": {
      "image/svg+xml": [
       "<?xml version=\"1.0\" encoding=\"UTF-8\" standalone=\"no\"?>\n",
       "<!DOCTYPE svg PUBLIC \"-//W3C//DTD SVG 1.1//EN\"\n",
       " \"http://www.w3.org/Graphics/SVG/1.1/DTD/svg11.dtd\">\n",
       "<!-- Generated by graphviz version 2.38.0 (20140413.2041)\n",
       " -->\n",
       "<!-- Title: %3 Pages: 1 -->\n",
       "<svg width=\"408pt\" height=\"60pt\"\n",
       " viewBox=\"0.00 0.00 408.49 59.81\" xmlns=\"http://www.w3.org/2000/svg\" xmlns:xlink=\"http://www.w3.org/1999/xlink\">\n",
       "<g id=\"graph0\" class=\"graph\" transform=\"scale(1 1) rotate(0) translate(4 55.8077)\">\n",
       "<title>%3</title>\n",
       "<polygon fill=\"white\" stroke=\"none\" points=\"-4,4 -4,-55.8077 404.49,-55.8077 404.49,4 -4,4\"/>\n",
       "<!-- EMPTY -->\n",
       "<g id=\"node1\" class=\"node\"><title>EMPTY</title>\n",
       "</g>\n",
       "<!-- St1 -->\n",
       "<g id=\"node4\" class=\"node\"><title>St1</title>\n",
       "<ellipse fill=\"none\" stroke=\"black\" cx=\"112.904\" cy=\"-25.9039\" rx=\"21.8081\" ry=\"21.8081\"/>\n",
       "<text text-anchor=\"middle\" x=\"112.904\" y=\"-21.7039\" font-family=\"Times,serif\" font-size=\"14.00\">St1</text>\n",
       "</g>\n",
       "<!-- EMPTY&#45;&gt;St1 -->\n",
       "<g id=\"edge1\" class=\"edge\"><title>EMPTY&#45;&gt;St1</title>\n",
       "<path fill=\"none\" stroke=\"black\" d=\"M54.0878,-25.9039C62.501,-25.9039 71.9126,-25.9039 80.6587,-25.9039\"/>\n",
       "<polygon fill=\"black\" stroke=\"black\" points=\"80.8854,-29.404 90.8853,-25.9039 80.8853,-22.404 80.8854,-29.404\"/>\n",
       "</g>\n",
       "<!-- St3 -->\n",
       "<g id=\"node2\" class=\"node\"><title>St3</title>\n",
       "<ellipse fill=\"none\" stroke=\"black\" cx=\"283.778\" cy=\"-25.9039\" rx=\"21.8081\" ry=\"21.8081\"/>\n",
       "<text text-anchor=\"middle\" x=\"283.778\" y=\"-21.7039\" font-family=\"Times,serif\" font-size=\"14.00\">St3</text>\n",
       "</g>\n",
       "<!-- St4 -->\n",
       "<g id=\"node5\" class=\"node\"><title>St4</title>\n",
       "<ellipse fill=\"none\" stroke=\"black\" cx=\"374.586\" cy=\"-25.9039\" rx=\"21.8229\" ry=\"21.8229\"/>\n",
       "<ellipse fill=\"none\" stroke=\"black\" cx=\"374.586\" cy=\"-25.9039\" rx=\"25.8081\" ry=\"25.8081\"/>\n",
       "<text text-anchor=\"middle\" x=\"374.586\" y=\"-21.7039\" font-family=\"Times,serif\" font-size=\"14.00\">St4</text>\n",
       "</g>\n",
       "<!-- St3&#45;&gt;St4 -->\n",
       "<g id=\"edge3\" class=\"edge\"><title>St3&#45;&gt;St4</title>\n",
       "<path fill=\"none\" stroke=\"black\" d=\"M305.824,-25.9039C315.542,-25.9039 327.346,-25.9039 338.361,-25.9039\"/>\n",
       "<polygon fill=\"black\" stroke=\"black\" points=\"338.588,-29.404 348.588,-25.9039 338.588,-22.404 338.588,-29.404\"/>\n",
       "<text text-anchor=\"middle\" x=\"327.182\" y=\"-28.7039\" font-family=\"Times,serif\" font-size=\"14.00\">b</text>\n",
       "</g>\n",
       "<!-- St2 -->\n",
       "<g id=\"node3\" class=\"node\"><title>St2</title>\n",
       "<ellipse fill=\"none\" stroke=\"black\" cx=\"198.925\" cy=\"-25.9039\" rx=\"21.8081\" ry=\"21.8081\"/>\n",
       "<text text-anchor=\"middle\" x=\"198.925\" y=\"-21.7039\" font-family=\"Times,serif\" font-size=\"14.00\">St2</text>\n",
       "</g>\n",
       "<!-- St2&#45;&gt;St3 -->\n",
       "<g id=\"edge4\" class=\"edge\"><title>St2&#45;&gt;St3</title>\n",
       "<path fill=\"none\" stroke=\"black\" d=\"M220.833,-25.9039C230.083,-25.9039 241.16,-25.9039 251.373,-25.9039\"/>\n",
       "<polygon fill=\"black\" stroke=\"black\" points=\"251.589,-29.404 261.589,-25.9039 251.589,-22.404 251.589,-29.404\"/>\n",
       "<text text-anchor=\"middle\" x=\"241.352\" y=\"-28.7039\" font-family=\"Times,serif\" font-size=\"14.00\">&#39;&#39;</text>\n",
       "</g>\n",
       "<!-- St1&#45;&gt;St2 -->\n",
       "<g id=\"edge2\" class=\"edge\"><title>St1&#45;&gt;St2</title>\n",
       "<path fill=\"none\" stroke=\"black\" d=\"M135.106,-25.9039C144.732,-25.9039 156.307,-25.9039 166.885,-25.9039\"/>\n",
       "<polygon fill=\"black\" stroke=\"black\" points=\"167.021,-29.404 177.021,-25.9039 167.021,-22.404 167.021,-29.404\"/>\n",
       "<text text-anchor=\"middle\" x=\"155.915\" y=\"-28.7039\" font-family=\"Times,serif\" font-size=\"14.00\">a</text>\n",
       "</g>\n",
       "</g>\n",
       "</svg>\n"
      ],
      "text/plain": [
       "<graphviz.dot.Digraph at 0x103895e80>"
      ]
     },
     "execution_count": 75,
     "metadata": {},
     "output_type": "execute_result"
    }
   ],
   "source": [
    "dotObj_nfa(re2nfa(\"ab\"))"
   ]
  },
  {
   "cell_type": "code",
   "execution_count": 76,
   "metadata": {
    "run_control": {
     "frozen": false,
     "read_only": false
    }
   },
   "outputs": [
    {
     "name": "stderr",
     "output_type": "stream",
     "text": [
      "Generating LALR tables\n"
     ]
    },
    {
     "data": {
      "image/svg+xml": [
       "<?xml version=\"1.0\" encoding=\"UTF-8\" standalone=\"no\"?>\n",
       "<!DOCTYPE svg PUBLIC \"-//W3C//DTD SVG 1.1//EN\"\n",
       " \"http://www.w3.org/Graphics/SVG/1.1/DTD/svg11.dtd\">\n",
       "<!-- Generated by graphviz version 2.38.0 (20140413.2041)\n",
       " -->\n",
       "<!-- Title: %3 Pages: 1 -->\n",
       "<svg width=\"238pt\" height=\"130pt\"\n",
       " viewBox=\"0.00 0.00 237.62 129.81\" xmlns=\"http://www.w3.org/2000/svg\" xmlns:xlink=\"http://www.w3.org/1999/xlink\">\n",
       "<g id=\"graph0\" class=\"graph\" transform=\"scale(1 1) rotate(0) translate(4 125.808)\">\n",
       "<title>%3</title>\n",
       "<polygon fill=\"white\" stroke=\"none\" points=\"-4,4 -4,-125.808 233.615,-125.808 233.615,4 -4,4\"/>\n",
       "<!-- EMPTY -->\n",
       "<g id=\"node1\" class=\"node\"><title>EMPTY</title>\n",
       "</g>\n",
       "<!-- St3 -->\n",
       "<g id=\"node2\" class=\"node\"><title>St3</title>\n",
       "<ellipse fill=\"none\" stroke=\"black\" cx=\"112.904\" cy=\"-93.9039\" rx=\"21.8081\" ry=\"21.8081\"/>\n",
       "<text text-anchor=\"middle\" x=\"112.904\" y=\"-89.7039\" font-family=\"Times,serif\" font-size=\"14.00\">St3</text>\n",
       "</g>\n",
       "<!-- EMPTY&#45;&gt;St3 -->\n",
       "<g id=\"edge1\" class=\"edge\"><title>EMPTY&#45;&gt;St3</title>\n",
       "<path fill=\"none\" stroke=\"black\" d=\"M54.0878,-74.6098C63.061,-77.6043 73.1698,-80.9777 82.3958,-84.0566\"/>\n",
       "<polygon fill=\"black\" stroke=\"black\" points=\"81.3713,-87.4044 91.965,-87.25 83.5872,-80.7643 81.3713,-87.4044\"/>\n",
       "</g>\n",
       "<!-- St1 -->\n",
       "<g id=\"node3\" class=\"node\"><title>St1</title>\n",
       "<ellipse fill=\"none\" stroke=\"black\" cx=\"112.904\" cy=\"-29.9039\" rx=\"21.8081\" ry=\"21.8081\"/>\n",
       "<text text-anchor=\"middle\" x=\"112.904\" y=\"-25.7039\" font-family=\"Times,serif\" font-size=\"14.00\">St1</text>\n",
       "</g>\n",
       "<!-- EMPTY&#45;&gt;St1 -->\n",
       "<g id=\"edge2\" class=\"edge\"><title>EMPTY&#45;&gt;St1</title>\n",
       "<path fill=\"none\" stroke=\"black\" d=\"M54.0878,-54.7106C63.2993,-50.7583 73.7075,-46.2925 83.1289,-42.2501\"/>\n",
       "<polygon fill=\"black\" stroke=\"black\" points=\"84.6884,-45.3896 92.4982,-38.2301 81.9283,-38.9567 84.6884,-45.3896\"/>\n",
       "</g>\n",
       "<!-- St4 -->\n",
       "<g id=\"node5\" class=\"node\"><title>St4</title>\n",
       "<ellipse fill=\"none\" stroke=\"black\" cx=\"203.712\" cy=\"-95.9039\" rx=\"21.8229\" ry=\"21.8229\"/>\n",
       "<ellipse fill=\"none\" stroke=\"black\" cx=\"203.712\" cy=\"-95.9039\" rx=\"25.8081\" ry=\"25.8081\"/>\n",
       "<text text-anchor=\"middle\" x=\"203.712\" y=\"-91.7039\" font-family=\"Times,serif\" font-size=\"14.00\">St4</text>\n",
       "</g>\n",
       "<!-- St3&#45;&gt;St4 -->\n",
       "<g id=\"edge4\" class=\"edge\"><title>St3&#45;&gt;St4</title>\n",
       "<path fill=\"none\" stroke=\"black\" d=\"M134.95,-94.3778C144.668,-94.5967 156.471,-94.8625 167.487,-95.1106\"/>\n",
       "<polygon fill=\"black\" stroke=\"black\" points=\"167.637,-98.6148 177.713,-95.3409 167.795,-91.6165 167.637,-98.6148\"/>\n",
       "<text text-anchor=\"middle\" x=\"156.308\" y=\"-97.7039\" font-family=\"Times,serif\" font-size=\"14.00\">b</text>\n",
       "</g>\n",
       "<!-- St2 -->\n",
       "<g id=\"node4\" class=\"node\"><title>St2</title>\n",
       "<ellipse fill=\"none\" stroke=\"black\" cx=\"203.712\" cy=\"-25.9039\" rx=\"21.8229\" ry=\"21.8229\"/>\n",
       "<ellipse fill=\"none\" stroke=\"black\" cx=\"203.712\" cy=\"-25.9039\" rx=\"25.8081\" ry=\"25.8081\"/>\n",
       "<text text-anchor=\"middle\" x=\"203.712\" y=\"-21.7039\" font-family=\"Times,serif\" font-size=\"14.00\">St2</text>\n",
       "</g>\n",
       "<!-- St1&#45;&gt;St2 -->\n",
       "<g id=\"edge3\" class=\"edge\"><title>St1&#45;&gt;St2</title>\n",
       "<path fill=\"none\" stroke=\"black\" d=\"M134.95,-28.9559C144.668,-28.5182 156.471,-27.9866 167.487,-27.4904\"/>\n",
       "<polygon fill=\"black\" stroke=\"black\" points=\"167.881,-30.9763 177.713,-27.0298 167.566,-23.9834 167.881,-30.9763\"/>\n",
       "<text text-anchor=\"middle\" x=\"156.308\" y=\"-31.7039\" font-family=\"Times,serif\" font-size=\"14.00\">a</text>\n",
       "</g>\n",
       "</g>\n",
       "</svg>\n"
      ],
      "text/plain": [
       "<graphviz.dot.Digraph at 0x1038a8a58>"
      ]
     },
     "execution_count": 76,
     "metadata": {},
     "output_type": "execute_result"
    }
   ],
   "source": [
    "dotObj_nfa(re2nfa(\"a+b\"))"
   ]
  },
  {
   "cell_type": "code",
   "execution_count": 77,
   "metadata": {
    "run_control": {
     "frozen": false,
     "read_only": false
    }
   },
   "outputs": [
    {
     "name": "stderr",
     "output_type": "stream",
     "text": [
      "Generating LALR tables\n"
     ]
    },
    {
     "data": {
      "image/svg+xml": [
       "<?xml version=\"1.0\" encoding=\"UTF-8\" standalone=\"no\"?>\n",
       "<!DOCTYPE svg PUBLIC \"-//W3C//DTD SVG 1.1//EN\"\n",
       " \"http://www.w3.org/Graphics/SVG/1.1/DTD/svg11.dtd\">\n",
       "<!-- Generated by graphviz version 2.38.0 (20140413.2041)\n",
       " -->\n",
       "<!-- Title: %3 Pages: 1 -->\n",
       "<svg width=\"322pt\" height=\"92pt\"\n",
       " viewBox=\"0.00 0.00 321.68 91.81\" xmlns=\"http://www.w3.org/2000/svg\" xmlns:xlink=\"http://www.w3.org/1999/xlink\">\n",
       "<g id=\"graph0\" class=\"graph\" transform=\"scale(1 1) rotate(0) translate(4 87.8077)\">\n",
       "<title>%3</title>\n",
       "<polygon fill=\"white\" stroke=\"none\" points=\"-4,4 -4,-87.8077 317.682,-87.8077 317.682,4 -4,4\"/>\n",
       "<!-- EMPTY -->\n",
       "<g id=\"node1\" class=\"node\"><title>EMPTY</title>\n",
       "</g>\n",
       "<!-- St3 -->\n",
       "<g id=\"node4\" class=\"node\"><title>St3</title>\n",
       "<ellipse fill=\"none\" stroke=\"black\" cx=\"116.904\" cy=\"-57.9039\" rx=\"21.8229\" ry=\"21.8229\"/>\n",
       "<ellipse fill=\"none\" stroke=\"black\" cx=\"116.904\" cy=\"-57.9039\" rx=\"25.8081\" ry=\"25.8081\"/>\n",
       "<text text-anchor=\"middle\" x=\"116.904\" y=\"-53.7039\" font-family=\"Times,serif\" font-size=\"14.00\">St3</text>\n",
       "</g>\n",
       "<!-- EMPTY&#45;&gt;St3 -->\n",
       "<g id=\"edge1\" class=\"edge\"><title>EMPTY&#45;&gt;St3</title>\n",
       "<path fill=\"none\" stroke=\"black\" d=\"M54.3741,-57.9039C62.6615,-57.9039 71.9472,-57.9039 80.7431,-57.9039\"/>\n",
       "<polygon fill=\"black\" stroke=\"black\" points=\"80.7546,-61.404 90.7546,-57.9039 80.7546,-54.404 80.7546,-61.404\"/>\n",
       "</g>\n",
       "<!-- St2 -->\n",
       "<g id=\"node2\" class=\"node\"><title>St2</title>\n",
       "<ellipse fill=\"none\" stroke=\"black\" cx=\"291.778\" cy=\"-57.9039\" rx=\"21.8081\" ry=\"21.8081\"/>\n",
       "<text text-anchor=\"middle\" x=\"291.778\" y=\"-53.7039\" font-family=\"Times,serif\" font-size=\"14.00\">St2</text>\n",
       "</g>\n",
       "<!-- St2&#45;&gt;St3 -->\n",
       "<g id=\"edge4\" class=\"edge\"><title>St2&#45;&gt;St3</title>\n",
       "<path fill=\"none\" stroke=\"black\" d=\"M269.788,-59.1808C263.987,-59.4798 257.689,-59.7545 251.874,-59.9039 218.413,-60.7634 180.239,-60.0247 153.224,-59.213\"/>\n",
       "<polygon fill=\"black\" stroke=\"black\" points=\"153.199,-55.7105 143.093,-58.8894 152.976,-62.7069 153.199,-55.7105\"/>\n",
       "<text text-anchor=\"middle\" x=\"205.757\" y=\"-62.7039\" font-family=\"Times,serif\" font-size=\"14.00\">&#39;&#39;</text>\n",
       "</g>\n",
       "<!-- St1 -->\n",
       "<g id=\"node3\" class=\"node\"><title>St1</title>\n",
       "<ellipse fill=\"none\" stroke=\"black\" cx=\"205.757\" cy=\"-21.9039\" rx=\"21.8081\" ry=\"21.8081\"/>\n",
       "<text text-anchor=\"middle\" x=\"205.757\" y=\"-17.7039\" font-family=\"Times,serif\" font-size=\"14.00\">St1</text>\n",
       "</g>\n",
       "<!-- St1&#45;&gt;St2 -->\n",
       "<g id=\"edge3\" class=\"edge\"><title>St1&#45;&gt;St2</title>\n",
       "<path fill=\"none\" stroke=\"black\" d=\"M226.244,-30.2535C236.849,-34.7971 250.172,-40.5056 261.954,-45.5541\"/>\n",
       "<polygon fill=\"black\" stroke=\"black\" points=\"260.826,-48.8783 271.396,-49.5995 263.583,-42.444 260.826,-48.8783\"/>\n",
       "<text text-anchor=\"middle\" x=\"248.767\" y=\"-44.7039\" font-family=\"Times,serif\" font-size=\"14.00\">a</text>\n",
       "</g>\n",
       "<!-- St3&#45;&gt;St1 -->\n",
       "<g id=\"edge2\" class=\"edge\"><title>St3&#45;&gt;St1</title>\n",
       "<path fill=\"none\" stroke=\"black\" d=\"M141.179,-48.2565C151.827,-43.8427 164.553,-38.568 175.812,-33.9012\"/>\n",
       "<polygon fill=\"black\" stroke=\"black\" points=\"177.342,-37.0559 185.24,-29.9935 174.662,-30.5893 177.342,-37.0559\"/>\n",
       "<text text-anchor=\"middle\" x=\"163.33\" y=\"-42.7039\" font-family=\"Times,serif\" font-size=\"14.00\">&#39;&#39;</text>\n",
       "</g>\n",
       "</g>\n",
       "</svg>\n"
      ],
      "text/plain": [
       "<graphviz.dot.Digraph at 0x10389af98>"
      ]
     },
     "execution_count": 77,
     "metadata": {},
     "output_type": "execute_result"
    }
   ],
   "source": [
    "dotObj_nfa(re2nfa(\"a*\"))"
   ]
  },
  {
   "cell_type": "code",
   "execution_count": 78,
   "metadata": {
    "run_control": {
     "frozen": false,
     "read_only": false
    }
   },
   "outputs": [
    {
     "name": "stderr",
     "output_type": "stream",
     "text": [
      "Generating LALR tables\n"
     ]
    },
    {
     "data": {
      "image/svg+xml": [
       "<?xml version=\"1.0\" encoding=\"UTF-8\" standalone=\"no\"?>\n",
       "<!DOCTYPE svg PUBLIC \"-//W3C//DTD SVG 1.1//EN\"\n",
       " \"http://www.w3.org/Graphics/SVG/1.1/DTD/svg11.dtd\">\n",
       "<!-- Generated by graphviz version 2.38.0 (20140413.2041)\n",
       " -->\n",
       "<!-- Title: %3 Pages: 1 -->\n",
       "<svg width=\"236pt\" height=\"60pt\"\n",
       " viewBox=\"0.00 0.00 235.66 59.81\" xmlns=\"http://www.w3.org/2000/svg\" xmlns:xlink=\"http://www.w3.org/1999/xlink\">\n",
       "<g id=\"graph0\" class=\"graph\" transform=\"scale(1 1) rotate(0) translate(4 55.8077)\">\n",
       "<title>%3</title>\n",
       "<polygon fill=\"white\" stroke=\"none\" points=\"-4,4 -4,-55.8077 231.66,-55.8077 231.66,4 -4,4\"/>\n",
       "<!-- EMPTY -->\n",
       "<g id=\"node1\" class=\"node\"><title>EMPTY</title>\n",
       "</g>\n",
       "<!-- St2 -->\n",
       "<g id=\"node3\" class=\"node\"><title>St2</title>\n",
       "<ellipse fill=\"none\" stroke=\"black\" cx=\"116.904\" cy=\"-25.9039\" rx=\"21.8229\" ry=\"21.8229\"/>\n",
       "<ellipse fill=\"none\" stroke=\"black\" cx=\"116.904\" cy=\"-25.9039\" rx=\"25.8081\" ry=\"25.8081\"/>\n",
       "<text text-anchor=\"middle\" x=\"116.904\" y=\"-21.7039\" font-family=\"Times,serif\" font-size=\"14.00\">St2</text>\n",
       "</g>\n",
       "<!-- EMPTY&#45;&gt;St2 -->\n",
       "<g id=\"edge1\" class=\"edge\"><title>EMPTY&#45;&gt;St2</title>\n",
       "<path fill=\"none\" stroke=\"black\" d=\"M54.3741,-25.9039C62.6615,-25.9039 71.9472,-25.9039 80.7431,-25.9039\"/>\n",
       "<polygon fill=\"black\" stroke=\"black\" points=\"80.7546,-29.404 90.7546,-25.9039 80.7546,-22.404 80.7546,-29.404\"/>\n",
       "</g>\n",
       "<!-- St1 -->\n",
       "<g id=\"node2\" class=\"node\"><title>St1</title>\n",
       "<ellipse fill=\"none\" stroke=\"black\" cx=\"205.757\" cy=\"-25.9039\" rx=\"21.8081\" ry=\"21.8081\"/>\n",
       "<text text-anchor=\"middle\" x=\"205.757\" y=\"-21.7039\" font-family=\"Times,serif\" font-size=\"14.00\">St1</text>\n",
       "</g>\n",
       "<!-- St1&#45;&gt;St2 -->\n",
       "<g id=\"edge3\" class=\"edge\"><title>St1&#45;&gt;St2</title>\n",
       "<path fill=\"none\" stroke=\"black\" d=\"M186.339,-15.3991C180.045,-12.355 172.83,-9.43978 165.853,-7.90386 160.208,-6.66135 154.339,-7.21024 148.723,-8.72092\"/>\n",
       "<polygon fill=\"black\" stroke=\"black\" points=\"147.168,-5.5634 138.991,-12.2997 149.584,-12.1333 147.168,-5.5634\"/>\n",
       "<text text-anchor=\"middle\" x=\"163.33\" y=\"-10.7039\" font-family=\"Times,serif\" font-size=\"14.00\">&#39;&#39;</text>\n",
       "</g>\n",
       "<!-- St2&#45;&gt;St1 -->\n",
       "<g id=\"edge2\" class=\"edge\"><title>St2&#45;&gt;St1</title>\n",
       "<path fill=\"none\" stroke=\"black\" d=\"M143.025,-25.9039C152.619,-25.9039 163.671,-25.9039 173.748,-25.9039\"/>\n",
       "<polygon fill=\"black\" stroke=\"black\" points=\"173.796,-29.404 183.796,-25.9039 173.796,-22.404 173.796,-29.404\"/>\n",
       "<text text-anchor=\"middle\" x=\"163.33\" y=\"-28.7039\" font-family=\"Times,serif\" font-size=\"14.00\">&#39;&#39;</text>\n",
       "</g>\n",
       "</g>\n",
       "</svg>\n"
      ],
      "text/plain": [
       "<graphviz.dot.Digraph at 0x1038096a0>"
      ]
     },
     "execution_count": 78,
     "metadata": {},
     "output_type": "execute_result"
    }
   ],
   "source": [
    "dotObj_nfa(re2nfa(\"''*\"))"
   ]
  },
  {
   "cell_type": "code",
   "execution_count": null,
   "metadata": {
    "run_control": {
     "frozen": false,
     "read_only": false
    }
   },
   "outputs": [],
   "source": []
  }
 ],
 "metadata": {
  "kernelspec": {
   "display_name": "Python 3",
   "language": "python",
   "name": "python3"
  },
  "language_info": {
   "codemirror_mode": {
    "name": "ipython",
    "version": 3
   },
   "file_extension": ".py",
   "mimetype": "text/x-python",
   "name": "python",
   "nbconvert_exporter": "python",
   "pygments_lexer": "ipython3",
   "version": "3.6.0"
  },
  "toc": {
   "colors": {
    "hover_highlight": "#DAA520",
    "running_highlight": "#FF0000",
    "selected_highlight": "#FFD700"
   },
   "moveMenuLeft": true,
   "nav_menu": {
    "height": "318px",
    "width": "252px"
   },
   "navigate_menu": true,
   "number_sections": true,
   "sideBar": true,
   "threshold": 4,
   "toc_cell": false,
   "toc_section_display": "block",
   "toc_window_display": false,
   "widenNotebook": false
  },
  "widgets": {
   "state": {
    "22dad7caa13d4a08858624ebed724851": {
     "views": [
      {
       "cell_index": 51
      }
     ]
    },
    "3970bfc78c52466291183dbf32ab928d": {
     "views": [
      {
       "cell_index": 49
      }
     ]
    }
   },
   "version": "1.2.0"
  }
 },
 "nbformat": 4,
 "nbformat_minor": 1
}
